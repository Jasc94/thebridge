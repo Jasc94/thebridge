{
 "metadata": {
  "language_info": {
   "codemirror_mode": {
    "name": "ipython",
    "version": 3
   },
   "file_extension": ".py",
   "mimetype": "text/x-python",
   "name": "python",
   "nbconvert_exporter": "python",
   "pygments_lexer": "ipython3",
   "version": "3.7.4"
  },
  "orig_nbformat": 2,
  "kernelspec": {
   "name": "python374jvsc74a57bd0aee8b7b246df8f9039afb4144a1f6fd8d2ca17a180786b69acc140d282b71a49",
   "display_name": "Python 3.7.4 64-bit"
  },
  "metadata": {
   "interpreter": {
    "hash": "aee8b7b246df8f9039afb4144a1f6fd8d2ca17a180786b69acc140d282b71a49"
   }
  }
 },
 "nbformat": 4,
 "nbformat_minor": 2,
 "cells": [
  {
   "cell_type": "code",
   "execution_count": 12,
   "metadata": {},
   "outputs": [],
   "source": [
    "import pandas as pd\n",
    "import numpy as np\n",
    "\n",
    "import sys\n",
    "import os\n",
    "\n",
    "root_folder = os.path.dirname(os.getcwd())\n",
    "sys.path.append(root_folder)\n",
    "\n",
    "import src.utils.mining_data_tb as md\n",
    "import src.utils.visualization_tb as vis"
   ]
  },
  {
   "cell_type": "code",
   "execution_count": 14,
   "metadata": {},
   "outputs": [
    {
     "output_type": "execute_result",
     "data": {
      "text/plain": [
       "    gender  age                                                url\n",
       "0   female   20  https://www.eatforhealth.gov.au/node/1813927/d...\n",
       "1   female   30  https://www.eatforhealth.gov.au/node/1813927/d...\n",
       "2   female   40  https://www.eatforhealth.gov.au/node/1813927/d...\n",
       "3   female   50  https://www.eatforhealth.gov.au/node/1813927/d...\n",
       "4   female   60  https://www.eatforhealth.gov.au/node/1813927/d...\n",
       "5   female   70  https://www.eatforhealth.gov.au/node/1813927/d...\n",
       "6     male   20  https://www.eatforhealth.gov.au/node/1813927/d...\n",
       "7     male   30  https://www.eatforhealth.gov.au/node/1813927/d...\n",
       "8     male   40  https://www.eatforhealth.gov.au/node/1813927/d...\n",
       "9     male   50  https://www.eatforhealth.gov.au/node/1813927/d...\n",
       "10    male   60  https://www.eatforhealth.gov.au/node/1813927/d...\n",
       "11    male   70  https://www.eatforhealth.gov.au/node/1813927/d..."
      ],
      "text/html": "<div>\n<style scoped>\n    .dataframe tbody tr th:only-of-type {\n        vertical-align: middle;\n    }\n\n    .dataframe tbody tr th {\n        vertical-align: top;\n    }\n\n    .dataframe thead th {\n        text-align: right;\n    }\n</style>\n<table border=\"1\" class=\"dataframe\">\n  <thead>\n    <tr style=\"text-align: right;\">\n      <th></th>\n      <th>gender</th>\n      <th>age</th>\n      <th>url</th>\n    </tr>\n  </thead>\n  <tbody>\n    <tr>\n      <th>0</th>\n      <td>female</td>\n      <td>20</td>\n      <td>https://www.eatforhealth.gov.au/node/1813927/d...</td>\n    </tr>\n    <tr>\n      <th>1</th>\n      <td>female</td>\n      <td>30</td>\n      <td>https://www.eatforhealth.gov.au/node/1813927/d...</td>\n    </tr>\n    <tr>\n      <th>2</th>\n      <td>female</td>\n      <td>40</td>\n      <td>https://www.eatforhealth.gov.au/node/1813927/d...</td>\n    </tr>\n    <tr>\n      <th>3</th>\n      <td>female</td>\n      <td>50</td>\n      <td>https://www.eatforhealth.gov.au/node/1813927/d...</td>\n    </tr>\n    <tr>\n      <th>4</th>\n      <td>female</td>\n      <td>60</td>\n      <td>https://www.eatforhealth.gov.au/node/1813927/d...</td>\n    </tr>\n    <tr>\n      <th>5</th>\n      <td>female</td>\n      <td>70</td>\n      <td>https://www.eatforhealth.gov.au/node/1813927/d...</td>\n    </tr>\n    <tr>\n      <th>6</th>\n      <td>male</td>\n      <td>20</td>\n      <td>https://www.eatforhealth.gov.au/node/1813927/d...</td>\n    </tr>\n    <tr>\n      <th>7</th>\n      <td>male</td>\n      <td>30</td>\n      <td>https://www.eatforhealth.gov.au/node/1813927/d...</td>\n    </tr>\n    <tr>\n      <th>8</th>\n      <td>male</td>\n      <td>40</td>\n      <td>https://www.eatforhealth.gov.au/node/1813927/d...</td>\n    </tr>\n    <tr>\n      <th>9</th>\n      <td>male</td>\n      <td>50</td>\n      <td>https://www.eatforhealth.gov.au/node/1813927/d...</td>\n    </tr>\n    <tr>\n      <th>10</th>\n      <td>male</td>\n      <td>60</td>\n      <td>https://www.eatforhealth.gov.au/node/1813927/d...</td>\n    </tr>\n    <tr>\n      <th>11</th>\n      <td>male</td>\n      <td>70</td>\n      <td>https://www.eatforhealth.gov.au/node/1813927/d...</td>\n    </tr>\n  </tbody>\n</table>\n</div>"
     },
     "metadata": {},
     "execution_count": 14
    }
   ],
   "source": [
    "df = pd.read_csv(\"../data/daily_intakes.csv\")\n",
    "df"
   ]
  },
  {
   "cell_type": "code",
   "execution_count": 22,
   "metadata": {},
   "outputs": [
    {
     "output_type": "execute_result",
     "data": {
      "text/plain": [
       "'https://www.eatforhealth.gov.au/node/1813927/done?sid=812360&token=2b711c45e17d9d4e879b8bbc9642f323'"
      ]
     },
     "metadata": {},
     "execution_count": 22
    }
   ],
   "source": [
    "gender = \"male\"\n",
    "age = 50\n",
    "df[(df[\"gender\"] == gender) & (df[\"age\"] == age)][\"url\"].values[0]"
   ]
  },
  {
   "cell_type": "code",
   "execution_count": 23,
   "metadata": {},
   "outputs": [],
   "source": [
    "def get_dailyintake_data():\n",
    "    df_path = \"../data/daily_intakes.csv\"\n",
    "    df = pd.read_csv(df_path)\n",
    "    return df"
   ]
  },
  {
   "cell_type": "code",
   "execution_count": 24,
   "metadata": {},
   "outputs": [
    {
     "output_type": "execute_result",
     "data": {
      "text/plain": [
       "    gender  age                                                url\n",
       "0   female   20  https://www.eatforhealth.gov.au/node/1813927/d...\n",
       "1   female   30  https://www.eatforhealth.gov.au/node/1813927/d...\n",
       "2   female   40  https://www.eatforhealth.gov.au/node/1813927/d...\n",
       "3   female   50  https://www.eatforhealth.gov.au/node/1813927/d...\n",
       "4   female   60  https://www.eatforhealth.gov.au/node/1813927/d...\n",
       "5   female   70  https://www.eatforhealth.gov.au/node/1813927/d...\n",
       "6     male   20  https://www.eatforhealth.gov.au/node/1813927/d...\n",
       "7     male   30  https://www.eatforhealth.gov.au/node/1813927/d...\n",
       "8     male   40  https://www.eatforhealth.gov.au/node/1813927/d...\n",
       "9     male   50  https://www.eatforhealth.gov.au/node/1813927/d...\n",
       "10    male   60  https://www.eatforhealth.gov.au/node/1813927/d...\n",
       "11    male   70  https://www.eatforhealth.gov.au/node/1813927/d..."
      ],
      "text/html": "<div>\n<style scoped>\n    .dataframe tbody tr th:only-of-type {\n        vertical-align: middle;\n    }\n\n    .dataframe tbody tr th {\n        vertical-align: top;\n    }\n\n    .dataframe thead th {\n        text-align: right;\n    }\n</style>\n<table border=\"1\" class=\"dataframe\">\n  <thead>\n    <tr style=\"text-align: right;\">\n      <th></th>\n      <th>gender</th>\n      <th>age</th>\n      <th>url</th>\n    </tr>\n  </thead>\n  <tbody>\n    <tr>\n      <th>0</th>\n      <td>female</td>\n      <td>20</td>\n      <td>https://www.eatforhealth.gov.au/node/1813927/d...</td>\n    </tr>\n    <tr>\n      <th>1</th>\n      <td>female</td>\n      <td>30</td>\n      <td>https://www.eatforhealth.gov.au/node/1813927/d...</td>\n    </tr>\n    <tr>\n      <th>2</th>\n      <td>female</td>\n      <td>40</td>\n      <td>https://www.eatforhealth.gov.au/node/1813927/d...</td>\n    </tr>\n    <tr>\n      <th>3</th>\n      <td>female</td>\n      <td>50</td>\n      <td>https://www.eatforhealth.gov.au/node/1813927/d...</td>\n    </tr>\n    <tr>\n      <th>4</th>\n      <td>female</td>\n      <td>60</td>\n      <td>https://www.eatforhealth.gov.au/node/1813927/d...</td>\n    </tr>\n    <tr>\n      <th>5</th>\n      <td>female</td>\n      <td>70</td>\n      <td>https://www.eatforhealth.gov.au/node/1813927/d...</td>\n    </tr>\n    <tr>\n      <th>6</th>\n      <td>male</td>\n      <td>20</td>\n      <td>https://www.eatforhealth.gov.au/node/1813927/d...</td>\n    </tr>\n    <tr>\n      <th>7</th>\n      <td>male</td>\n      <td>30</td>\n      <td>https://www.eatforhealth.gov.au/node/1813927/d...</td>\n    </tr>\n    <tr>\n      <th>8</th>\n      <td>male</td>\n      <td>40</td>\n      <td>https://www.eatforhealth.gov.au/node/1813927/d...</td>\n    </tr>\n    <tr>\n      <th>9</th>\n      <td>male</td>\n      <td>50</td>\n      <td>https://www.eatforhealth.gov.au/node/1813927/d...</td>\n    </tr>\n    <tr>\n      <th>10</th>\n      <td>male</td>\n      <td>60</td>\n      <td>https://www.eatforhealth.gov.au/node/1813927/d...</td>\n    </tr>\n    <tr>\n      <th>11</th>\n      <td>male</td>\n      <td>70</td>\n      <td>https://www.eatforhealth.gov.au/node/1813927/d...</td>\n    </tr>\n  </tbody>\n</table>\n</div>"
     },
     "metadata": {},
     "execution_count": 24
    }
   ],
   "source": [
    "get_dailyintake_data()"
   ]
  },
  {
   "cell_type": "code",
   "execution_count": 25,
   "metadata": {},
   "outputs": [],
   "source": [
    "def pick_di(gender, age, df):\n",
    "    url = df[(df[\"gender\"] == gender) & (df[\"age\"] == age)][\"url\"].values[0]\n",
    "    return url"
   ]
  },
  {
   "cell_type": "code",
   "execution_count": 26,
   "metadata": {},
   "outputs": [
    {
     "output_type": "execute_result",
     "data": {
      "text/plain": [
       "'https://www.eatforhealth.gov.au/node/1813927/done?sid=812360&token=2b711c45e17d9d4e879b8bbc9642f323'"
      ]
     },
     "metadata": {},
     "execution_count": 26
    }
   ],
   "source": [
    "pick_di(gender, age, df)"
   ]
  },
  {
   "cell_type": "code",
   "execution_count": null,
   "metadata": {},
   "outputs": [],
   "source": []
  }
 ]
}