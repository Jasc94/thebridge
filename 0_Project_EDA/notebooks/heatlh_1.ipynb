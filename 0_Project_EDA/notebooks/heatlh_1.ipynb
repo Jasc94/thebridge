{
 "metadata": {
  "language_info": {
   "codemirror_mode": {
    "name": "ipython",
    "version": 3
   },
   "file_extension": ".py",
   "mimetype": "text/x-python",
   "name": "python",
   "nbconvert_exporter": "python",
   "pygments_lexer": "ipython3",
   "version": "3.7.4"
  },
  "orig_nbformat": 2,
  "kernelspec": {
   "name": "python374jvsc74a57bd0aee8b7b246df8f9039afb4144a1f6fd8d2ca17a180786b69acc140d282b71a49",
   "display_name": "Python 3.7.4 64-bit"
  },
  "metadata": {
   "interpreter": {
    "hash": "aee8b7b246df8f9039afb4144a1f6fd8d2ca17a180786b69acc140d282b71a49"
   }
  }
 },
 "nbformat": 4,
 "nbformat_minor": 2,
 "cells": [
  {
   "cell_type": "code",
   "execution_count": 47,
   "metadata": {},
   "outputs": [],
   "source": [
    "import pandas as pd\n",
    "import numpy as np\n",
    "from varname import nameof\n",
    "\n",
    "import matplotlib.pyplot as plt\n",
    "import seaborn as sns\n",
    "\n",
    "import requests\n",
    "from bs4 import BeautifulSoup\n",
    "import html\n",
    "import lxml"
   ]
  },
  {
   "cell_type": "code",
   "execution_count": 4,
   "metadata": {},
   "outputs": [
    {
     "output_type": "execute_result",
     "data": {
      "text/plain": [
       "    SEQN         WTDRD1         WTDR2D  DR1DRSTZ  DR1EXMER  DRABF  DRDINT  \\\n",
       "0  73557   16888.327864   12930.890649         1      49.0    2.0     2.0   \n",
       "1  73558   17932.143865   12684.148869         1      59.0    2.0     2.0   \n",
       "2  73559   59641.812930   39394.236709         1      49.0    2.0     2.0   \n",
       "3  73560  142203.069917  125966.366442         1      54.0    2.0     2.0   \n",
       "4  73561   59052.357033   39004.892993         1      63.0    2.0     2.0   \n",
       "\n",
       "   DR1DBIH  DR1DAY  DR1LANG  ...  DRD370QQ  DRD370R  DRD370RQ  DRD370S  \\\n",
       "0      6.0     2.0      1.0  ...       NaN      NaN       NaN      NaN   \n",
       "1      4.0     1.0      1.0  ...       NaN      2.0       NaN      2.0   \n",
       "2     18.0     6.0      1.0  ...       NaN      NaN       NaN      NaN   \n",
       "3     21.0     3.0      1.0  ...       NaN      NaN       NaN      NaN   \n",
       "4     18.0     1.0      1.0  ...       NaN      2.0       NaN      2.0   \n",
       "\n",
       "   DRD370SQ  DRD370T  DRD370TQ  DRD370U  DRD370UQ  DRD370V  \n",
       "0       NaN      NaN       NaN      NaN       NaN      NaN  \n",
       "1       NaN      2.0       NaN      2.0       NaN      2.0  \n",
       "2       NaN      NaN       NaN      NaN       NaN      NaN  \n",
       "3       NaN      NaN       NaN      NaN       NaN      NaN  \n",
       "4       NaN      2.0       NaN      2.0       NaN      2.0  \n",
       "\n",
       "[5 rows x 168 columns]"
      ],
      "text/html": "<div>\n<style scoped>\n    .dataframe tbody tr th:only-of-type {\n        vertical-align: middle;\n    }\n\n    .dataframe tbody tr th {\n        vertical-align: top;\n    }\n\n    .dataframe thead th {\n        text-align: right;\n    }\n</style>\n<table border=\"1\" class=\"dataframe\">\n  <thead>\n    <tr style=\"text-align: right;\">\n      <th></th>\n      <th>SEQN</th>\n      <th>WTDRD1</th>\n      <th>WTDR2D</th>\n      <th>DR1DRSTZ</th>\n      <th>DR1EXMER</th>\n      <th>DRABF</th>\n      <th>DRDINT</th>\n      <th>DR1DBIH</th>\n      <th>DR1DAY</th>\n      <th>DR1LANG</th>\n      <th>...</th>\n      <th>DRD370QQ</th>\n      <th>DRD370R</th>\n      <th>DRD370RQ</th>\n      <th>DRD370S</th>\n      <th>DRD370SQ</th>\n      <th>DRD370T</th>\n      <th>DRD370TQ</th>\n      <th>DRD370U</th>\n      <th>DRD370UQ</th>\n      <th>DRD370V</th>\n    </tr>\n  </thead>\n  <tbody>\n    <tr>\n      <th>0</th>\n      <td>73557</td>\n      <td>16888.327864</td>\n      <td>12930.890649</td>\n      <td>1</td>\n      <td>49.0</td>\n      <td>2.0</td>\n      <td>2.0</td>\n      <td>6.0</td>\n      <td>2.0</td>\n      <td>1.0</td>\n      <td>...</td>\n      <td>NaN</td>\n      <td>NaN</td>\n      <td>NaN</td>\n      <td>NaN</td>\n      <td>NaN</td>\n      <td>NaN</td>\n      <td>NaN</td>\n      <td>NaN</td>\n      <td>NaN</td>\n      <td>NaN</td>\n    </tr>\n    <tr>\n      <th>1</th>\n      <td>73558</td>\n      <td>17932.143865</td>\n      <td>12684.148869</td>\n      <td>1</td>\n      <td>59.0</td>\n      <td>2.0</td>\n      <td>2.0</td>\n      <td>4.0</td>\n      <td>1.0</td>\n      <td>1.0</td>\n      <td>...</td>\n      <td>NaN</td>\n      <td>2.0</td>\n      <td>NaN</td>\n      <td>2.0</td>\n      <td>NaN</td>\n      <td>2.0</td>\n      <td>NaN</td>\n      <td>2.0</td>\n      <td>NaN</td>\n      <td>2.0</td>\n    </tr>\n    <tr>\n      <th>2</th>\n      <td>73559</td>\n      <td>59641.812930</td>\n      <td>39394.236709</td>\n      <td>1</td>\n      <td>49.0</td>\n      <td>2.0</td>\n      <td>2.0</td>\n      <td>18.0</td>\n      <td>6.0</td>\n      <td>1.0</td>\n      <td>...</td>\n      <td>NaN</td>\n      <td>NaN</td>\n      <td>NaN</td>\n      <td>NaN</td>\n      <td>NaN</td>\n      <td>NaN</td>\n      <td>NaN</td>\n      <td>NaN</td>\n      <td>NaN</td>\n      <td>NaN</td>\n    </tr>\n    <tr>\n      <th>3</th>\n      <td>73560</td>\n      <td>142203.069917</td>\n      <td>125966.366442</td>\n      <td>1</td>\n      <td>54.0</td>\n      <td>2.0</td>\n      <td>2.0</td>\n      <td>21.0</td>\n      <td>3.0</td>\n      <td>1.0</td>\n      <td>...</td>\n      <td>NaN</td>\n      <td>NaN</td>\n      <td>NaN</td>\n      <td>NaN</td>\n      <td>NaN</td>\n      <td>NaN</td>\n      <td>NaN</td>\n      <td>NaN</td>\n      <td>NaN</td>\n      <td>NaN</td>\n    </tr>\n    <tr>\n      <th>4</th>\n      <td>73561</td>\n      <td>59052.357033</td>\n      <td>39004.892993</td>\n      <td>1</td>\n      <td>63.0</td>\n      <td>2.0</td>\n      <td>2.0</td>\n      <td>18.0</td>\n      <td>1.0</td>\n      <td>1.0</td>\n      <td>...</td>\n      <td>NaN</td>\n      <td>2.0</td>\n      <td>NaN</td>\n      <td>2.0</td>\n      <td>NaN</td>\n      <td>2.0</td>\n      <td>NaN</td>\n      <td>2.0</td>\n      <td>NaN</td>\n      <td>2.0</td>\n    </tr>\n  </tbody>\n</table>\n<p>5 rows × 168 columns</p>\n</div>"
     },
     "metadata": {},
     "execution_count": 4
    }
   ],
   "source": [
    "diet = pd.read_csv(\"../data/Health/diet.csv\")\n",
    "diet.head()"
   ]
  },
  {
   "cell_type": "code",
   "execution_count": 5,
   "metadata": {},
   "outputs": [
    {
     "output_type": "execute_result",
     "data": {
      "text/plain": [
       "(9813, 168)"
      ]
     },
     "metadata": {},
     "execution_count": 5
    }
   ],
   "source": [
    "diet.shape"
   ]
  },
  {
   "cell_type": "code",
   "execution_count": 7,
   "metadata": {},
   "outputs": [
    {
     "output_type": "execute_result",
     "data": {
      "text/plain": [
       "'Respondent sequence number.'"
      ]
     },
     "metadata": {},
     "execution_count": 7
    }
   ],
   "source": [
    "descriptions = pd.read_excel(\"../data/Health/NAHNES 2014 Dictionary.xlsx\")\n",
    "descriptions[descriptions[\"Variable Name\"] == \"SEQN\"].iloc[0][1]"
   ]
  },
  {
   "cell_type": "code",
   "execution_count": 8,
   "metadata": {},
   "outputs": [],
   "source": [
    "descriptions_dict = {}\n",
    "\n",
    "for column_name in diet.columns:\n",
    "    try:\n",
    "        descriptions_dict[column_name] = descriptions[descriptions[\"Variable Name\"] == column_name].iloc[0][1]\n",
    "    except:\n",
    "        descriptions_dict[column_name] = None\n",
    "\n",
    "\n",
    "#pd.Series(descriptions_dict).to_csv(\"../data/Health/cleaned_column_names.csv\")"
   ]
  },
  {
   "cell_type": "code",
   "execution_count": 10,
   "metadata": {},
   "outputs": [],
   "source": [
    "#for column_name in diet.columns:\n",
    "#    \n",
    "#    try:\n",
    "#        name = descriptions[descriptions[\"Variable Name\"] == column_name].iloc[0][1]\n",
    "#        print(f\"{column_name} : {name}\")\n",
    "#    except:\n",
    "#        print(f\"{column_name} : {None}\")"
   ]
  },
  {
   "cell_type": "code",
   "execution_count": 25,
   "metadata": {},
   "outputs": [
    {
     "output_type": "execute_result",
     "data": {
      "text/plain": [
       "WTDRD1       0\n",
       "WTDR2D    1152\n",
       "dtype: int64"
      ]
     },
     "metadata": {},
     "execution_count": 25
    }
   ],
   "source": [
    "diet[[\"WTDRD1\", \"WTDR2D\"]].isna().sum()"
   ]
  },
  {
   "cell_type": "code",
   "execution_count": 19,
   "metadata": {},
   "outputs": [
    {
     "output_type": "stream",
     "name": "stdout",
     "text": [
      "For column DRQSDT1 missing values: 9290 out ot 9813\nFor column DRQSDT2 missing values: 9682 out ot 9813\nFor column DRQSDT3 missing values: 9692 out ot 9813\nFor column DRQSDT4 missing values: 9776 out ot 9813\nFor column DRQSDT5 missing values: 9813 out ot 9813\nFor column DRQSDT6 missing values: 9809 out ot 9813\nFor column DRQSDT7 missing values: 9667 out ot 9813\nFor column DRQSDT8 missing values: 9779 out ot 9813\nFor column DRQSDT9 missing values: 9746 out ot 9813\nFor column DRQSDT10 missing values: 9791 out ot 9813\nFor column DRQSDT11 missing values: 9782 out ot 9813\nFor column DRQSDT12 missing values: 9805 out ot 9813\nFor column DRQSDT91 missing values: 9738 out ot 9813\n"
     ]
    }
   ],
   "source": [
    "type_of_diet = [\"DRQSDT1\", \"DRQSDT2\", \"DRQSDT3\", \"DRQSDT4\", \"DRQSDT5\", \"DRQSDT6\", \"DRQSDT7\", \"DRQSDT8\", \"DRQSDT9\", \"DRQSDT10\", \"DRQSDT11\", \"DRQSDT12\", \"DRQSDT91\"]\n",
    "\n",
    "for i in type_of_diet:\n",
    "    print(f\"For column {i} missing values: {diet[i].isna().sum()} out ot 9813\")"
   ]
  },
  {
   "cell_type": "code",
   "execution_count": 34,
   "metadata": {},
   "outputs": [
    {
     "output_type": "stream",
     "name": "stdout",
     "text": [
      "Column SEQN has 0 missing values\nColumn WTDRD1 has 0 missing values\nColumn WTDR2D has 1152 missing values\nColumn DR1DRSTZ has 0 missing values\nColumn DR1EXMER has 1030 missing values\nColumn DRABF has 1152 missing values\nColumn DRDINT has 1152 missing values\nColumn DR1DBIH has 1107 missing values\nColumn DR1DAY has 1030 missing values\nColumn DR1LANG has 1016 missing values\nColumn DR1MNRSP has 1160 missing values\nColumn DR1HELPD has 1185 missing values\nColumn DBQ095Z has 1030 missing values\nColumn DBD100 has 4414 missing values\nColumn DRQSPREP has 1030 missing values\nColumn DR1STY has 1030 missing values\nColumn DR1SKY has 8365 missing values\nColumn DRQSDIET has 1030 missing values\nColumn DRQSDT1 has 9290 missing values\nColumn DRQSDT2 has 9682 missing values\nColumn DRQSDT3 has 9692 missing values\nColumn DRQSDT4 has 9776 missing values\nColumn DRQSDT5 has 9813 missing values\nColumn DRQSDT6 has 9809 missing values\nColumn DRQSDT7 has 9667 missing values\nColumn DRQSDT8 has 9779 missing values\nColumn DRQSDT9 has 9746 missing values\nColumn DRQSDT10 has 9791 missing values\nColumn DRQSDT11 has 9782 missing values\nColumn DRQSDT12 has 9805 missing values\nColumn DRQSDT91 has 9738 missing values\nColumn DR1TNUMF has 1152 missing values\nColumn DR1TKCAL has 1282 missing values\nColumn DR1TPROT has 1282 missing values\nColumn DR1TCARB has 1282 missing values\nColumn DR1TSUGR has 1282 missing values\nColumn DR1TFIBE has 1282 missing values\nColumn DR1TTFAT has 1282 missing values\nColumn DR1TSFAT has 1282 missing values\nColumn DR1TMFAT has 1282 missing values\nColumn DR1TPFAT has 1282 missing values\nColumn DR1TCHOL has 1282 missing values\nColumn DR1TATOC has 1282 missing values\nColumn DR1TATOA has 1282 missing values\nColumn DR1TRET has 1282 missing values\nColumn DR1TVARA has 1282 missing values\nColumn DR1TACAR has 1282 missing values\nColumn DR1TBCAR has 1282 missing values\nColumn DR1TCRYP has 1282 missing values\nColumn DR1TLYCO has 1282 missing values\nColumn DR1TLZ has 1282 missing values\nColumn DR1TVB1 has 1282 missing values\nColumn DR1TVB2 has 1282 missing values\nColumn DR1TNIAC has 1282 missing values\nColumn DR1TVB6 has 1282 missing values\nColumn DR1TFOLA has 1282 missing values\nColumn DR1TFA has 1282 missing values\nColumn DR1TFF has 1282 missing values\nColumn DR1TFDFE has 1282 missing values\nColumn DR1TCHL has 1282 missing values\nColumn DR1TVB12 has 1282 missing values\nColumn DR1TB12A has 1282 missing values\nColumn DR1TVC has 1282 missing values\nColumn DR1TVD has 1282 missing values\nColumn DR1TVK has 1282 missing values\nColumn DR1TCALC has 1282 missing values\nColumn DR1TPHOS has 1282 missing values\nColumn DR1TMAGN has 1282 missing values\nColumn DR1TIRON has 1282 missing values\nColumn DR1TZINC has 1282 missing values\nColumn DR1TCOPP has 1282 missing values\nColumn DR1TSODI has 1282 missing values\nColumn DR1TPOTA has 1282 missing values\nColumn DR1TSELE has 1282 missing values\nColumn DR1TCAFF has 1282 missing values\nColumn DR1TTHEO has 1282 missing values\nColumn DR1TALCO has 1282 missing values\nColumn DR1TMOIS has 1282 missing values\nColumn DR1TS040 has 1282 missing values\nColumn DR1TS060 has 1282 missing values\nColumn DR1TS080 has 1282 missing values\nColumn DR1TS100 has 1282 missing values\nColumn DR1TS120 has 1282 missing values\nColumn DR1TS140 has 1282 missing values\nColumn DR1TS160 has 1282 missing values\nColumn DR1TS180 has 1282 missing values\nColumn DR1TM161 has 1282 missing values\nColumn DR1TM181 has 1282 missing values\nColumn DR1TM201 has 1282 missing values\nColumn DR1TM221 has 1282 missing values\nColumn DR1TP182 has 1282 missing values\nColumn DR1TP183 has 1282 missing values\nColumn DR1TP184 has 1282 missing values\nColumn DR1TP204 has 1282 missing values\nColumn DR1TP205 has 1282 missing values\nColumn DR1TP225 has 1282 missing values\nColumn DR1TP226 has 1282 missing values\nColumn DR1.300 has 1030 missing values\nColumn DR1.320Z has 1152 missing values\nColumn DR1.330Z has 1152 missing values\nColumn DR1BWATZ has 1152 missing values\nColumn DR1TWS has 1030 missing values\nColumn DRD340 has 1401 missing values\nColumn DRD350A has 6052 missing values\nColumn DRD350AQ has 9385 missing values\nColumn DRD350B has 6052 missing values\nColumn DRD350BQ has 9028 missing values\nColumn DRD350C has 6052 missing values\nColumn DRD350CQ has 9614 missing values\nColumn DRD350D has 6052 missing values\nColumn DRD350DQ has 9401 missing values\nColumn DRD350E has 6052 missing values\nColumn DRD350EQ has 9558 missing values\nColumn DRD350F has 6052 missing values\nColumn DRD350FQ has 9525 missing values\nColumn DRD350G has 6052 missing values\nColumn DRD350GQ has 9460 missing values\nColumn DRD350H has 6052 missing values\nColumn DRD350HQ has 6559 missing values\nColumn DRD350I has 6052 missing values\nColumn DRD350IQ has 9593 missing values\nColumn DRD350J has 6052 missing values\nColumn DRD350JQ has 9797 missing values\nColumn DRD350K has 6053 missing values\nColumn DRD360 has 1402 missing values\nColumn DRD370A has 4692 missing values\nColumn DRD370AQ has 9167 missing values\nColumn DRD370B has 4692 missing values\nColumn DRD370BQ has 7923 missing values\nColumn DRD370C has 4692 missing values\nColumn DRD370CQ has 9695 missing values\nColumn DRD370D has 4692 missing values\nColumn DRD370DQ has 8986 missing values\nColumn DRD370E has 4692 missing values\nColumn DRD370EQ has 9254 missing values\nColumn DRD370F has 4692 missing values\nColumn DRD370FQ has 9556 missing values\nColumn DRD370G has 4692 missing values\nColumn DRD370GQ has 9621 missing values\nColumn DRD370H has 4692 missing values\nColumn DRD370HQ has 9717 missing values\nColumn DRD370I has 4692 missing values\nColumn DRD370IQ has 9705 missing values\nColumn DRD370J has 4692 missing values\nColumn DRD370JQ has 9801 missing values\nColumn DRD370K has 4692 missing values\nColumn DRD370KQ has 9666 missing values\nColumn DRD370L has 4692 missing values\nColumn DRD370LQ has 9778 missing values\nColumn DRD370M has 4692 missing values\nColumn DRD370MQ has 8039 missing values\nColumn DRD370N has 4692 missing values\nColumn DRD370NQ has 9598 missing values\nColumn DRD370O has 4692 missing values\nColumn DRD370OQ has 9726 missing values\nColumn DRD370P has 4692 missing values\nColumn DRD370PQ has 9803 missing values\nColumn DRD370Q has 4692 missing values\nColumn DRD370QQ has 9752 missing values\nColumn DRD370R has 4692 missing values\nColumn DRD370RQ has 9642 missing values\nColumn DRD370S has 4692 missing values\nColumn DRD370SQ has 9786 missing values\nColumn DRD370T has 4692 missing values\nColumn DRD370TQ has 8495 missing values\nColumn DRD370U has 4692 missing values\nColumn DRD370UQ has 9496 missing values\nColumn DRD370V has 4693 missing values\n"
     ]
    }
   ],
   "source": [
    "test = dict(diet.isna().sum())\n",
    "\n",
    "for ind, missings in test.items():\n",
    "    print(f\"Column {ind} has {missings} missing values\")"
   ]
  },
  {
   "cell_type": "code",
   "execution_count": 37,
   "metadata": {},
   "outputs": [],
   "source": [
    "diet2 = pd.DataFrame(index = diet.index)\n",
    "\n",
    "for column in diet.columns:\n",
    "    missings = diet[column].isna().sum()\n",
    "    if missings < 5000:\n",
    "        diet2[column] = diet[column]"
   ]
  },
  {
   "cell_type": "code",
   "execution_count": 40,
   "metadata": {},
   "outputs": [
    {
     "output_type": "execute_result",
     "data": {
      "text/plain": [
       "0        43.63\n",
       "1       338.13\n",
       "2        64.61\n",
       "3        77.75\n",
       "4        55.24\n",
       "         ...  \n",
       "9808    223.32\n",
       "9809     47.55\n",
       "9810     89.37\n",
       "9811       NaN\n",
       "9812     96.06\n",
       "Name: DR1TPROT, Length: 9813, dtype: float64"
      ]
     },
     "metadata": {},
     "execution_count": 40
    }
   ],
   "source": [
    "diet2[\"DR1TPROT\"]"
   ]
  },
  {
   "cell_type": "code",
   "execution_count": 42,
   "metadata": {},
   "outputs": [],
   "source": [
    "df_path = \"../data/Health/\"\n",
    "\n",
    "demographic = pd.read_csv(df_path + \"demographic.csv\")\n",
    "diet = pd.read_csv(df_path + \"diet.csv\")\n",
    "examination = pd.read_csv(df_path + \"examination.csv\")\n",
    "labs = pd.read_csv(df_path + \"labs.csv\")\n",
    "medications = pd.read_csv(df_path + \"medications.csv\")\n",
    "questionnaire = pd.read_csv(df_path + \"questionnaire.csv\")\n",
    "\n",
    "datasets = [demographic, diet, examination, labs, medications, questionnaire]"
   ]
  },
  {
   "cell_type": "code",
   "execution_count": 65,
   "metadata": {},
   "outputs": [
    {
     "output_type": "execute_result",
     "data": {
      "text/plain": [
       "    SEQN  RXDUSE           RXDDRUG RXDDRGID  RXQSEEN  RXDDAYS RXDRSC1 RXDRSC2  \\\n",
       "0  73557       1             99999      NaN      NaN      NaN     NaN     NaN   \n",
       "1  73557       1           INSULIN   d00262      2.0   1460.0     E11     NaN   \n",
       "2  73558       1        GABAPENTIN   d03182      1.0    243.0  G25.81     NaN   \n",
       "3  73558       1  INSULIN GLARGINE   d04538      1.0    365.0     E11     NaN   \n",
       "4  73558       1        OLMESARTAN   d04801      1.0     14.0   E11.2     NaN   \n",
       "\n",
       "  RXDRSC3                                            RXDRSD1 RXDRSD2 RXDRSD3  \\\n",
       "0     NaN                                                NaN     NaN     NaN   \n",
       "1     NaN                           Type 2 diabetes mellitus     NaN     NaN   \n",
       "2     NaN                             Restless legs syndrome     NaN     NaN   \n",
       "3     NaN                           Type 2 diabetes mellitus     NaN     NaN   \n",
       "4     NaN  Type 2 diabetes mellitus with kidney complicat...     NaN     NaN   \n",
       "\n",
       "   RXDCOUNT  \n",
       "0       2.0  \n",
       "1       2.0  \n",
       "2       4.0  \n",
       "3       4.0  \n",
       "4       4.0  "
      ],
      "text/html": "<div>\n<style scoped>\n    .dataframe tbody tr th:only-of-type {\n        vertical-align: middle;\n    }\n\n    .dataframe tbody tr th {\n        vertical-align: top;\n    }\n\n    .dataframe thead th {\n        text-align: right;\n    }\n</style>\n<table border=\"1\" class=\"dataframe\">\n  <thead>\n    <tr style=\"text-align: right;\">\n      <th></th>\n      <th>SEQN</th>\n      <th>RXDUSE</th>\n      <th>RXDDRUG</th>\n      <th>RXDDRGID</th>\n      <th>RXQSEEN</th>\n      <th>RXDDAYS</th>\n      <th>RXDRSC1</th>\n      <th>RXDRSC2</th>\n      <th>RXDRSC3</th>\n      <th>RXDRSD1</th>\n      <th>RXDRSD2</th>\n      <th>RXDRSD3</th>\n      <th>RXDCOUNT</th>\n    </tr>\n  </thead>\n  <tbody>\n    <tr>\n      <th>0</th>\n      <td>73557</td>\n      <td>1</td>\n      <td>99999</td>\n      <td>NaN</td>\n      <td>NaN</td>\n      <td>NaN</td>\n      <td>NaN</td>\n      <td>NaN</td>\n      <td>NaN</td>\n      <td>NaN</td>\n      <td>NaN</td>\n      <td>NaN</td>\n      <td>2.0</td>\n    </tr>\n    <tr>\n      <th>1</th>\n      <td>73557</td>\n      <td>1</td>\n      <td>INSULIN</td>\n      <td>d00262</td>\n      <td>2.0</td>\n      <td>1460.0</td>\n      <td>E11</td>\n      <td>NaN</td>\n      <td>NaN</td>\n      <td>Type 2 diabetes mellitus</td>\n      <td>NaN</td>\n      <td>NaN</td>\n      <td>2.0</td>\n    </tr>\n    <tr>\n      <th>2</th>\n      <td>73558</td>\n      <td>1</td>\n      <td>GABAPENTIN</td>\n      <td>d03182</td>\n      <td>1.0</td>\n      <td>243.0</td>\n      <td>G25.81</td>\n      <td>NaN</td>\n      <td>NaN</td>\n      <td>Restless legs syndrome</td>\n      <td>NaN</td>\n      <td>NaN</td>\n      <td>4.0</td>\n    </tr>\n    <tr>\n      <th>3</th>\n      <td>73558</td>\n      <td>1</td>\n      <td>INSULIN GLARGINE</td>\n      <td>d04538</td>\n      <td>1.0</td>\n      <td>365.0</td>\n      <td>E11</td>\n      <td>NaN</td>\n      <td>NaN</td>\n      <td>Type 2 diabetes mellitus</td>\n      <td>NaN</td>\n      <td>NaN</td>\n      <td>4.0</td>\n    </tr>\n    <tr>\n      <th>4</th>\n      <td>73558</td>\n      <td>1</td>\n      <td>OLMESARTAN</td>\n      <td>d04801</td>\n      <td>1.0</td>\n      <td>14.0</td>\n      <td>E11.2</td>\n      <td>NaN</td>\n      <td>NaN</td>\n      <td>Type 2 diabetes mellitus with kidney complicat...</td>\n      <td>NaN</td>\n      <td>NaN</td>\n      <td>4.0</td>\n    </tr>\n  </tbody>\n</table>\n</div>"
     },
     "metadata": {},
     "execution_count": 65
    }
   ],
   "source": [
    "medications.head()"
   ]
  },
  {
   "cell_type": "code",
   "execution_count": 49,
   "metadata": {},
   "outputs": [
    {
     "output_type": "stream",
     "name": "stdout",
     "text": [
      "(10175, 47)\n(9813, 168)\n(9813, 224)\n(9813, 424)\n(20194, 13)\n(10175, 953)\n"
     ]
    }
   ],
   "source": [
    "for dataset in datasets:\n",
    "    print(f\"{dataset.shape}\")"
   ]
  },
  {
   "cell_type": "code",
   "execution_count": 64,
   "metadata": {},
   "outputs": [
    {
     "output_type": "execute_result",
     "data": {
      "text/plain": [
       "(10175, 1812)"
      ]
     },
     "metadata": {},
     "execution_count": 64
    }
   ],
   "source": [
    "full_df = pd.merge(demographic, diet, how = \"outer\", on = \"SEQN\")\n",
    "full_df = pd.merge(full_df, examination, how = \"outer\", on = \"SEQN\")\n",
    "full_df = pd.merge(full_df, labs, how = \"outer\", on = \"SEQN\")\n",
    "#full_df = pd.merge(full_df, medications, how = \"outer\", on = \"SEQN\")           # This one doesn't match correctly on SEQN, so I'll leave it out as it is not interesting for me anyway\n",
    "full_df = pd.merge(full_df, questionnaire, how = \"outer\", on = \"SEQN\")\n",
    "\n",
    "full_df.shape"
   ]
  },
  {
   "cell_type": "code",
   "execution_count": 66,
   "metadata": {},
   "outputs": [
    {
     "output_type": "execute_result",
     "data": {
      "text/plain": [
       "     Variable Name                               Variable Description\n",
       "0             SEQN                        Respondent sequence number.\n",
       "1         RIDSTATR  Interview and examination status of the partic...\n",
       "2         RIAGENDR                         Gender of the participant.\n",
       "3         RIDAGEYR  Age in years of the participant at the time of...\n",
       "4         RIDAGEMN  Age in months of the participant at the time o...\n",
       "...            ...                                                ...\n",
       "5378        SXQ280              Are you circumcised or uncircumcised?\n",
       "5379          SEQN                        Respondent sequence number.\n",
       "5380       URXUTRI                                 Trichomonas, urine\n",
       "5381          SEQN                         Respondent sequence number\n",
       "5382        URXUCL                                  Urinary Chlamydia\n",
       "\n",
       "[5383 rows x 2 columns]"
      ],
      "text/html": "<div>\n<style scoped>\n    .dataframe tbody tr th:only-of-type {\n        vertical-align: middle;\n    }\n\n    .dataframe tbody tr th {\n        vertical-align: top;\n    }\n\n    .dataframe thead th {\n        text-align: right;\n    }\n</style>\n<table border=\"1\" class=\"dataframe\">\n  <thead>\n    <tr style=\"text-align: right;\">\n      <th></th>\n      <th>Variable Name</th>\n      <th>Variable Description</th>\n    </tr>\n  </thead>\n  <tbody>\n    <tr>\n      <th>0</th>\n      <td>SEQN</td>\n      <td>Respondent sequence number.</td>\n    </tr>\n    <tr>\n      <th>1</th>\n      <td>RIDSTATR</td>\n      <td>Interview and examination status of the partic...</td>\n    </tr>\n    <tr>\n      <th>2</th>\n      <td>RIAGENDR</td>\n      <td>Gender of the participant.</td>\n    </tr>\n    <tr>\n      <th>3</th>\n      <td>RIDAGEYR</td>\n      <td>Age in years of the participant at the time of...</td>\n    </tr>\n    <tr>\n      <th>4</th>\n      <td>RIDAGEMN</td>\n      <td>Age in months of the participant at the time o...</td>\n    </tr>\n    <tr>\n      <th>...</th>\n      <td>...</td>\n      <td>...</td>\n    </tr>\n    <tr>\n      <th>5378</th>\n      <td>SXQ280</td>\n      <td>Are you circumcised or uncircumcised?</td>\n    </tr>\n    <tr>\n      <th>5379</th>\n      <td>SEQN</td>\n      <td>Respondent sequence number.</td>\n    </tr>\n    <tr>\n      <th>5380</th>\n      <td>URXUTRI</td>\n      <td>Trichomonas, urine</td>\n    </tr>\n    <tr>\n      <th>5381</th>\n      <td>SEQN</td>\n      <td>Respondent sequence number</td>\n    </tr>\n    <tr>\n      <th>5382</th>\n      <td>URXUCL</td>\n      <td>Urinary Chlamydia</td>\n    </tr>\n  </tbody>\n</table>\n<p>5383 rows × 2 columns</p>\n</div>"
     },
     "metadata": {},
     "execution_count": 66
    }
   ],
   "source": [
    "descriptions = pd.read_excel(\"../data/Health/NAHNES 2014 Dictionary.xlsx\")\n",
    "descriptions"
   ]
  },
  {
   "cell_type": "code",
   "execution_count": 68,
   "metadata": {},
   "outputs": [],
   "source": [
    "descriptions_dict = {}\n",
    "\n",
    "for column_name in full_df.columns:\n",
    "    try:\n",
    "        descriptions_dict[column_name] = descriptions[descriptions[\"Variable Name\"] == column_name].iloc[0][1]\n",
    "    except:\n",
    "        descriptions_dict[column_name] = None\n",
    "\n",
    "\n",
    "pd.Series(descriptions_dict).to_csv(\"../data/Health/cleaned_column_names.csv\")"
   ]
  },
  {
   "cell_type": "code",
   "execution_count": 75,
   "metadata": {},
   "outputs": [
    {
     "output_type": "execute_result",
     "data": {
      "text/plain": [
       "array(['SEQN', 'RIAGENDR', 'RIDAGEYR', 'WTDRD1', 'WTDR2D', 'DR1TNUMF',\n",
       "       'DR1TKCAL', 'DR1TPROT', 'DR1TCARB', 'DR1TSUGR', 'DR1TFIBE',\n",
       "       'DR1TTFAT', 'DR1TSFAT', 'DR1TMFAT', 'DR1TPFAT', 'DR1TCHOL',\n",
       "       'DR1TATOC', 'DR1TVARA', 'DR1TVB6', 'DR1TFOLA', 'DR1TFA', 'DR1TCHL',\n",
       "       'DR1TVB12', 'DR1TVC', 'DR1TVD', 'DR1TVK', 'DR1TCALC', 'DR1TPHOS',\n",
       "       'DR1TMAGN', 'DR1TIRON', 'DR1TZINC', 'DR1TSODI', 'DR1TPOTA',\n",
       "       'PEASCST1', 'BPXPTY', 'BMXWT', 'BMXBMI', 'CSQ190', 'CSQ200',\n",
       "       'CSQ202', 'CSQ204', 'DID040', 'DIQ160', 'MCQ080', 'MCQ082',\n",
       "       'OSQ060', 'PAQ610', 'PAD615', 'WHD110', 'WHD120'], dtype=object)"
      ]
     },
     "metadata": {},
     "execution_count": 75
    }
   ],
   "source": [
    "final_columns_df = pd.read_csv(\"../data/Health/final_column_names.csv\")\n",
    "final_columns = final_columns_df[\"column\"]\n",
    "final_columns.values"
   ]
  },
  {
   "cell_type": "code",
   "execution_count": 86,
   "metadata": {},
   "outputs": [
    {
     "output_type": "execute_result",
     "data": {
      "text/plain": [
       "    SEQN  RIAGENDR  RIDAGEYR         WTDRD1         WTDR2D  DR1TNUMF  \\\n",
       "0  73557         1        69   16888.327864   12930.890649      11.0   \n",
       "1  73558         1        54   17932.143865   12684.148869       8.0   \n",
       "2  73559         1        72   59641.812930   39394.236709      27.0   \n",
       "3  73560         1         9  142203.069917  125966.366442      19.0   \n",
       "4  73561         2        73   59052.357033   39004.892993       7.0   \n",
       "\n",
       "   DR1TKCAL  DR1TPROT  DR1TCARB  DR1TSUGR  ...  CSQ204  DID040  DIQ160  \\\n",
       "0    1574.0     43.63    239.59    176.47  ...     2.0    62.0     NaN   \n",
       "1    5062.0    338.13    423.78     44.99  ...     2.0    23.0     NaN   \n",
       "2    1743.0     64.61    224.39    102.90  ...     2.0    57.0     NaN   \n",
       "3    1490.0     77.75    162.92     80.58  ...     NaN     NaN     NaN   \n",
       "4    1421.0     55.24    178.20     87.78  ...     2.0     NaN     2.0   \n",
       "\n",
       "   MCQ080  MCQ082  OSQ060  PAQ610  PAD615  WHD110  WHD120  \n",
       "0     1.0     2.0     2.0     NaN     NaN   270.0   200.0  \n",
       "1     2.0     2.0     2.0     NaN     NaN   240.0   250.0  \n",
       "2     2.0     2.0     1.0     NaN     NaN   180.0   190.0  \n",
       "3     NaN     2.0     NaN     NaN     NaN     NaN     NaN  \n",
       "4     2.0     2.0     2.0     NaN     NaN   150.0   135.0  \n",
       "\n",
       "[5 rows x 50 columns]"
      ],
      "text/html": "<div>\n<style scoped>\n    .dataframe tbody tr th:only-of-type {\n        vertical-align: middle;\n    }\n\n    .dataframe tbody tr th {\n        vertical-align: top;\n    }\n\n    .dataframe thead th {\n        text-align: right;\n    }\n</style>\n<table border=\"1\" class=\"dataframe\">\n  <thead>\n    <tr style=\"text-align: right;\">\n      <th></th>\n      <th>SEQN</th>\n      <th>RIAGENDR</th>\n      <th>RIDAGEYR</th>\n      <th>WTDRD1</th>\n      <th>WTDR2D</th>\n      <th>DR1TNUMF</th>\n      <th>DR1TKCAL</th>\n      <th>DR1TPROT</th>\n      <th>DR1TCARB</th>\n      <th>DR1TSUGR</th>\n      <th>...</th>\n      <th>CSQ204</th>\n      <th>DID040</th>\n      <th>DIQ160</th>\n      <th>MCQ080</th>\n      <th>MCQ082</th>\n      <th>OSQ060</th>\n      <th>PAQ610</th>\n      <th>PAD615</th>\n      <th>WHD110</th>\n      <th>WHD120</th>\n    </tr>\n  </thead>\n  <tbody>\n    <tr>\n      <th>0</th>\n      <td>73557</td>\n      <td>1</td>\n      <td>69</td>\n      <td>16888.327864</td>\n      <td>12930.890649</td>\n      <td>11.0</td>\n      <td>1574.0</td>\n      <td>43.63</td>\n      <td>239.59</td>\n      <td>176.47</td>\n      <td>...</td>\n      <td>2.0</td>\n      <td>62.0</td>\n      <td>NaN</td>\n      <td>1.0</td>\n      <td>2.0</td>\n      <td>2.0</td>\n      <td>NaN</td>\n      <td>NaN</td>\n      <td>270.0</td>\n      <td>200.0</td>\n    </tr>\n    <tr>\n      <th>1</th>\n      <td>73558</td>\n      <td>1</td>\n      <td>54</td>\n      <td>17932.143865</td>\n      <td>12684.148869</td>\n      <td>8.0</td>\n      <td>5062.0</td>\n      <td>338.13</td>\n      <td>423.78</td>\n      <td>44.99</td>\n      <td>...</td>\n      <td>2.0</td>\n      <td>23.0</td>\n      <td>NaN</td>\n      <td>2.0</td>\n      <td>2.0</td>\n      <td>2.0</td>\n      <td>NaN</td>\n      <td>NaN</td>\n      <td>240.0</td>\n      <td>250.0</td>\n    </tr>\n    <tr>\n      <th>2</th>\n      <td>73559</td>\n      <td>1</td>\n      <td>72</td>\n      <td>59641.812930</td>\n      <td>39394.236709</td>\n      <td>27.0</td>\n      <td>1743.0</td>\n      <td>64.61</td>\n      <td>224.39</td>\n      <td>102.90</td>\n      <td>...</td>\n      <td>2.0</td>\n      <td>57.0</td>\n      <td>NaN</td>\n      <td>2.0</td>\n      <td>2.0</td>\n      <td>1.0</td>\n      <td>NaN</td>\n      <td>NaN</td>\n      <td>180.0</td>\n      <td>190.0</td>\n    </tr>\n    <tr>\n      <th>3</th>\n      <td>73560</td>\n      <td>1</td>\n      <td>9</td>\n      <td>142203.069917</td>\n      <td>125966.366442</td>\n      <td>19.0</td>\n      <td>1490.0</td>\n      <td>77.75</td>\n      <td>162.92</td>\n      <td>80.58</td>\n      <td>...</td>\n      <td>NaN</td>\n      <td>NaN</td>\n      <td>NaN</td>\n      <td>NaN</td>\n      <td>2.0</td>\n      <td>NaN</td>\n      <td>NaN</td>\n      <td>NaN</td>\n      <td>NaN</td>\n      <td>NaN</td>\n    </tr>\n    <tr>\n      <th>4</th>\n      <td>73561</td>\n      <td>2</td>\n      <td>73</td>\n      <td>59052.357033</td>\n      <td>39004.892993</td>\n      <td>7.0</td>\n      <td>1421.0</td>\n      <td>55.24</td>\n      <td>178.20</td>\n      <td>87.78</td>\n      <td>...</td>\n      <td>2.0</td>\n      <td>NaN</td>\n      <td>2.0</td>\n      <td>2.0</td>\n      <td>2.0</td>\n      <td>2.0</td>\n      <td>NaN</td>\n      <td>NaN</td>\n      <td>150.0</td>\n      <td>135.0</td>\n    </tr>\n  </tbody>\n</table>\n<p>5 rows × 50 columns</p>\n</div>"
     },
     "metadata": {},
     "execution_count": 86
    }
   ],
   "source": [
    "# After joining all the datasets and checking what columns I need/want, this is the result\n",
    "final_df = full_df[final_columns.values]\n",
    "final_df.head()"
   ]
  },
  {
   "cell_type": "code",
   "execution_count": 87,
   "metadata": {},
   "outputs": [
    {
     "output_type": "stream",
     "name": "stdout",
     "text": [
      "<class 'pandas.core.frame.DataFrame'>\nInt64Index: 10175 entries, 0 to 10174\nData columns (total 50 columns):\n #   Column    Non-Null Count  Dtype  \n---  ------    --------------  -----  \n 0   SEQN      10175 non-null  int64  \n 1   RIAGENDR  10175 non-null  int64  \n 2   RIDAGEYR  10175 non-null  int64  \n 3   WTDRD1    9813 non-null   float64\n 4   WTDR2D    8661 non-null   float64\n 5   DR1TNUMF  8661 non-null   float64\n 6   DR1TKCAL  8531 non-null   float64\n 7   DR1TPROT  8531 non-null   float64\n 8   DR1TCARB  8531 non-null   float64\n 9   DR1TSUGR  8531 non-null   float64\n 10  DR1TFIBE  8531 non-null   float64\n 11  DR1TTFAT  8531 non-null   float64\n 12  DR1TSFAT  8531 non-null   float64\n 13  DR1TMFAT  8531 non-null   float64\n 14  DR1TPFAT  8531 non-null   float64\n 15  DR1TCHOL  8531 non-null   float64\n 16  DR1TATOC  8531 non-null   float64\n 17  DR1TVARA  8531 non-null   float64\n 18  DR1TVB6   8531 non-null   float64\n 19  DR1TFOLA  8531 non-null   float64\n 20  DR1TFA    8531 non-null   float64\n 21  DR1TCHL   8531 non-null   float64\n 22  DR1TVB12  8531 non-null   float64\n 23  DR1TVC    8531 non-null   float64\n 24  DR1TVD    8531 non-null   float64\n 25  DR1TVK    8531 non-null   float64\n 26  DR1TCALC  8531 non-null   float64\n 27  DR1TPHOS  8531 non-null   float64\n 28  DR1TMAGN  8531 non-null   float64\n 29  DR1TIRON  8531 non-null   float64\n 30  DR1TZINC  8531 non-null   float64\n 31  DR1TSODI  8531 non-null   float64\n 32  DR1TPOTA  8531 non-null   float64\n 33  PEASCST1  9813 non-null   float64\n 34  BPXPTY    7564 non-null   float64\n 35  BMXWT     9723 non-null   float64\n 36  BMXBMI    9055 non-null   float64\n 37  CSQ190    1686 non-null   float64\n 38  CSQ200    3815 non-null   float64\n 39  CSQ202    3815 non-null   float64\n 40  CSQ204    3815 non-null   float64\n 41  DID040    737 non-null    float64\n 42  DIQ160    6287 non-null   float64\n 43  MCQ080    6464 non-null   float64\n 44  MCQ082    8572 non-null   float64\n 45  OSQ060    3815 non-null   float64\n 46  PAQ610    1172 non-null   float64\n 47  PAD615    1168 non-null   float64\n 48  WHD110    4179 non-null   float64\n 49  WHD120    5024 non-null   float64\ndtypes: float64(47), int64(3)\nmemory usage: 4.2 MB\n"
     ]
    }
   ],
   "source": [
    "final_df.info()"
   ]
  },
  {
   "cell_type": "code",
   "execution_count": 96,
   "metadata": {},
   "outputs": [],
   "source": [
    "f_df2 = pd.DataFrame(index = final_df.index)\n",
    "\n",
    "for column in final_df.columns:\n",
    "    if final_df[column].isna().sum() > 7000:\n",
    "        f_df2[column] = final_df[column]"
   ]
  },
  {
   "cell_type": "code",
   "execution_count": 97,
   "metadata": {},
   "outputs": [
    {
     "output_type": "stream",
     "name": "stdout",
     "text": [
      "(10175, 46)\n(10175, 0)\n"
     ]
    }
   ],
   "source": [
    "print(final_df.shape)\n",
    "print(f_df2.shape)"
   ]
  },
  {
   "cell_type": "code",
   "execution_count": null,
   "metadata": {},
   "outputs": [],
   "source": []
  }
 ]
}