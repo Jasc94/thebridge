{
 "metadata": {
  "language_info": {
   "codemirror_mode": {
    "name": "ipython",
    "version": 3
   },
   "file_extension": ".py",
   "mimetype": "text/x-python",
   "name": "python",
   "nbconvert_exporter": "python",
   "pygments_lexer": "ipython3",
   "version": "3.7.4"
  },
  "orig_nbformat": 2,
  "kernelspec": {
   "name": "python374jvsc74a57bd0aee8b7b246df8f9039afb4144a1f6fd8d2ca17a180786b69acc140d282b71a49",
   "display_name": "Python 3.7.4 64-bit"
  },
  "metadata": {
   "interpreter": {
    "hash": "aee8b7b246df8f9039afb4144a1f6fd8d2ca17a180786b69acc140d282b71a49"
   }
  }
 },
 "nbformat": 4,
 "nbformat_minor": 2,
 "cells": [
  {
   "cell_type": "code",
   "execution_count": 1,
   "metadata": {},
   "outputs": [],
   "source": [
    "import pandas as pd\n",
    "import numpy as np\n",
    "\n",
    "import matplotlib.pyplot as plt\n",
    "import seaborn as sns\n",
    "\n",
    "import requests\n",
    "from bs4 import BeautifulSoup\n",
    "import html\n",
    "import lxml"
   ]
  },
  {
   "cell_type": "code",
   "execution_count": 2,
   "metadata": {},
   "outputs": [
    {
     "output_type": "execute_result",
     "data": {
      "text/plain": [
       "    SEQN         WTDRD1         WTDR2D  DR1DRSTZ  DR1EXMER  DRABF  DRDINT  \\\n",
       "0  73557   16888.327864   12930.890649         1      49.0    2.0     2.0   \n",
       "1  73558   17932.143865   12684.148869         1      59.0    2.0     2.0   \n",
       "2  73559   59641.812930   39394.236709         1      49.0    2.0     2.0   \n",
       "3  73560  142203.069917  125966.366442         1      54.0    2.0     2.0   \n",
       "4  73561   59052.357033   39004.892993         1      63.0    2.0     2.0   \n",
       "\n",
       "   DR1DBIH  DR1DAY  DR1LANG  ...  DRD370QQ  DRD370R  DRD370RQ  DRD370S  \\\n",
       "0      6.0     2.0      1.0  ...       NaN      NaN       NaN      NaN   \n",
       "1      4.0     1.0      1.0  ...       NaN      2.0       NaN      2.0   \n",
       "2     18.0     6.0      1.0  ...       NaN      NaN       NaN      NaN   \n",
       "3     21.0     3.0      1.0  ...       NaN      NaN       NaN      NaN   \n",
       "4     18.0     1.0      1.0  ...       NaN      2.0       NaN      2.0   \n",
       "\n",
       "   DRD370SQ  DRD370T  DRD370TQ  DRD370U  DRD370UQ  DRD370V  \n",
       "0       NaN      NaN       NaN      NaN       NaN      NaN  \n",
       "1       NaN      2.0       NaN      2.0       NaN      2.0  \n",
       "2       NaN      NaN       NaN      NaN       NaN      NaN  \n",
       "3       NaN      NaN       NaN      NaN       NaN      NaN  \n",
       "4       NaN      2.0       NaN      2.0       NaN      2.0  \n",
       "\n",
       "[5 rows x 168 columns]"
      ],
      "text/html": "<div>\n<style scoped>\n    .dataframe tbody tr th:only-of-type {\n        vertical-align: middle;\n    }\n\n    .dataframe tbody tr th {\n        vertical-align: top;\n    }\n\n    .dataframe thead th {\n        text-align: right;\n    }\n</style>\n<table border=\"1\" class=\"dataframe\">\n  <thead>\n    <tr style=\"text-align: right;\">\n      <th></th>\n      <th>SEQN</th>\n      <th>WTDRD1</th>\n      <th>WTDR2D</th>\n      <th>DR1DRSTZ</th>\n      <th>DR1EXMER</th>\n      <th>DRABF</th>\n      <th>DRDINT</th>\n      <th>DR1DBIH</th>\n      <th>DR1DAY</th>\n      <th>DR1LANG</th>\n      <th>...</th>\n      <th>DRD370QQ</th>\n      <th>DRD370R</th>\n      <th>DRD370RQ</th>\n      <th>DRD370S</th>\n      <th>DRD370SQ</th>\n      <th>DRD370T</th>\n      <th>DRD370TQ</th>\n      <th>DRD370U</th>\n      <th>DRD370UQ</th>\n      <th>DRD370V</th>\n    </tr>\n  </thead>\n  <tbody>\n    <tr>\n      <th>0</th>\n      <td>73557</td>\n      <td>16888.327864</td>\n      <td>12930.890649</td>\n      <td>1</td>\n      <td>49.0</td>\n      <td>2.0</td>\n      <td>2.0</td>\n      <td>6.0</td>\n      <td>2.0</td>\n      <td>1.0</td>\n      <td>...</td>\n      <td>NaN</td>\n      <td>NaN</td>\n      <td>NaN</td>\n      <td>NaN</td>\n      <td>NaN</td>\n      <td>NaN</td>\n      <td>NaN</td>\n      <td>NaN</td>\n      <td>NaN</td>\n      <td>NaN</td>\n    </tr>\n    <tr>\n      <th>1</th>\n      <td>73558</td>\n      <td>17932.143865</td>\n      <td>12684.148869</td>\n      <td>1</td>\n      <td>59.0</td>\n      <td>2.0</td>\n      <td>2.0</td>\n      <td>4.0</td>\n      <td>1.0</td>\n      <td>1.0</td>\n      <td>...</td>\n      <td>NaN</td>\n      <td>2.0</td>\n      <td>NaN</td>\n      <td>2.0</td>\n      <td>NaN</td>\n      <td>2.0</td>\n      <td>NaN</td>\n      <td>2.0</td>\n      <td>NaN</td>\n      <td>2.0</td>\n    </tr>\n    <tr>\n      <th>2</th>\n      <td>73559</td>\n      <td>59641.812930</td>\n      <td>39394.236709</td>\n      <td>1</td>\n      <td>49.0</td>\n      <td>2.0</td>\n      <td>2.0</td>\n      <td>18.0</td>\n      <td>6.0</td>\n      <td>1.0</td>\n      <td>...</td>\n      <td>NaN</td>\n      <td>NaN</td>\n      <td>NaN</td>\n      <td>NaN</td>\n      <td>NaN</td>\n      <td>NaN</td>\n      <td>NaN</td>\n      <td>NaN</td>\n      <td>NaN</td>\n      <td>NaN</td>\n    </tr>\n    <tr>\n      <th>3</th>\n      <td>73560</td>\n      <td>142203.069917</td>\n      <td>125966.366442</td>\n      <td>1</td>\n      <td>54.0</td>\n      <td>2.0</td>\n      <td>2.0</td>\n      <td>21.0</td>\n      <td>3.0</td>\n      <td>1.0</td>\n      <td>...</td>\n      <td>NaN</td>\n      <td>NaN</td>\n      <td>NaN</td>\n      <td>NaN</td>\n      <td>NaN</td>\n      <td>NaN</td>\n      <td>NaN</td>\n      <td>NaN</td>\n      <td>NaN</td>\n      <td>NaN</td>\n    </tr>\n    <tr>\n      <th>4</th>\n      <td>73561</td>\n      <td>59052.357033</td>\n      <td>39004.892993</td>\n      <td>1</td>\n      <td>63.0</td>\n      <td>2.0</td>\n      <td>2.0</td>\n      <td>18.0</td>\n      <td>1.0</td>\n      <td>1.0</td>\n      <td>...</td>\n      <td>NaN</td>\n      <td>2.0</td>\n      <td>NaN</td>\n      <td>2.0</td>\n      <td>NaN</td>\n      <td>2.0</td>\n      <td>NaN</td>\n      <td>2.0</td>\n      <td>NaN</td>\n      <td>2.0</td>\n    </tr>\n  </tbody>\n</table>\n<p>5 rows × 168 columns</p>\n</div>"
     },
     "metadata": {},
     "execution_count": 2
    }
   ],
   "source": [
    "diet = pd.read_csv(\"../data/Health/diet.csv\")\n",
    "diet.head()"
   ]
  },
  {
   "cell_type": "code",
   "execution_count": 3,
   "metadata": {},
   "outputs": [
    {
     "output_type": "execute_result",
     "data": {
      "text/plain": [
       "(9813, 168)"
      ]
     },
     "metadata": {},
     "execution_count": 3
    }
   ],
   "source": [
    "diet.shape"
   ]
  },
  {
   "cell_type": "code",
   "execution_count": 4,
   "metadata": {},
   "outputs": [
    {
     "output_type": "stream",
     "name": "stdout",
     "text": [
      "SEQN\nWTDRD1\nWTDR2D\nDR1DRSTZ\nDR1EXMER\nDRABF\nDRDINT\nDR1DBIH\nDR1DAY\nDR1LANG\nDR1MNRSP\nDR1HELPD\nDBQ095Z\nDBD100\nDRQSPREP\nDR1STY\nDR1SKY\nDRQSDIET\nDRQSDT1\nDRQSDT2\nDRQSDT3\nDRQSDT4\nDRQSDT5\nDRQSDT6\nDRQSDT7\nDRQSDT8\nDRQSDT9\nDRQSDT10\nDRQSDT11\nDRQSDT12\nDRQSDT91\nDR1TNUMF\nDR1TKCAL\nDR1TPROT\nDR1TCARB\nDR1TSUGR\nDR1TFIBE\nDR1TTFAT\nDR1TSFAT\nDR1TMFAT\nDR1TPFAT\nDR1TCHOL\nDR1TATOC\nDR1TATOA\nDR1TRET\nDR1TVARA\nDR1TACAR\nDR1TBCAR\nDR1TCRYP\nDR1TLYCO\nDR1TLZ\nDR1TVB1\nDR1TVB2\nDR1TNIAC\nDR1TVB6\nDR1TFOLA\nDR1TFA\nDR1TFF\nDR1TFDFE\nDR1TCHL\nDR1TVB12\nDR1TB12A\nDR1TVC\nDR1TVD\nDR1TVK\nDR1TCALC\nDR1TPHOS\nDR1TMAGN\nDR1TIRON\nDR1TZINC\nDR1TCOPP\nDR1TSODI\nDR1TPOTA\nDR1TSELE\nDR1TCAFF\nDR1TTHEO\nDR1TALCO\nDR1TMOIS\nDR1TS040\nDR1TS060\nDR1TS080\nDR1TS100\nDR1TS120\nDR1TS140\nDR1TS160\nDR1TS180\nDR1TM161\nDR1TM181\nDR1TM201\nDR1TM221\nDR1TP182\nDR1TP183\nDR1TP184\nDR1TP204\nDR1TP205\nDR1TP225\nDR1TP226\nDR1.300\nDR1.320Z\nDR1.330Z\nDR1BWATZ\nDR1TWS\nDRD340\nDRD350A\nDRD350AQ\nDRD350B\nDRD350BQ\nDRD350C\nDRD350CQ\nDRD350D\nDRD350DQ\nDRD350E\nDRD350EQ\nDRD350F\nDRD350FQ\nDRD350G\nDRD350GQ\nDRD350H\nDRD350HQ\nDRD350I\nDRD350IQ\nDRD350J\nDRD350JQ\nDRD350K\nDRD360\nDRD370A\nDRD370AQ\nDRD370B\nDRD370BQ\nDRD370C\nDRD370CQ\nDRD370D\nDRD370DQ\nDRD370E\nDRD370EQ\nDRD370F\nDRD370FQ\nDRD370G\nDRD370GQ\nDRD370H\nDRD370HQ\nDRD370I\nDRD370IQ\nDRD370J\nDRD370JQ\nDRD370K\nDRD370KQ\nDRD370L\nDRD370LQ\nDRD370M\nDRD370MQ\nDRD370N\nDRD370NQ\nDRD370O\nDRD370OQ\nDRD370P\nDRD370PQ\nDRD370Q\nDRD370QQ\nDRD370R\nDRD370RQ\nDRD370S\nDRD370SQ\nDRD370T\nDRD370TQ\nDRD370U\nDRD370UQ\nDRD370V\n"
     ]
    }
   ],
   "source": [
    "for i in diet.columns:\n",
    "    print(i)"
   ]
  },
  {
   "cell_type": "code",
   "execution_count": 28,
   "metadata": {},
   "outputs": [
    {
     "output_type": "execute_result",
     "data": {
      "text/plain": [
       "'Respondent sequence number.'"
      ]
     },
     "metadata": {},
     "execution_count": 28
    }
   ],
   "source": [
    "descriptions = pd.read_excel(\"../data/Health/NAHNES 2014 Dictionary.xlsx\")\n",
    "descriptions[descriptions[\"Variable Name\"] == \"SEQN\"].iloc[0][1]"
   ]
  },
  {
   "cell_type": "code",
   "execution_count": 37,
   "metadata": {},
   "outputs": [],
   "source": [
    "descriptions_dict = {}\n",
    "\n",
    "for column_name in diet.columns:\n",
    "    try:\n",
    "        descriptions_dict[column_name] = descriptions[descriptions[\"Variable Name\"] == column_name].iloc[0][1]\n",
    "    except:\n",
    "        descriptions_dict[column_name] = None\n",
    "\n",
    "\n",
    "pd.Series(descriptions_dict).to_csv(\"../data/Health/cleaned_column_names.csv\")"
   ]
  },
  {
   "cell_type": "code",
   "execution_count": 36,
   "metadata": {},
   "outputs": [
    {
     "output_type": "stream",
     "name": "stdout",
     "text": [
      "SEQN : Respondent sequence number.\nWTDRD1 : Dietary day one sample weight\nWTDR2D : Dietary two-day sample weight\nDR1DRSTZ : Dietary recall status\nDR1EXMER : Interviewer ID code\nDRABF : Indicates whether the sample person was an infant who was breast-fed on either of the two recall days.\nDRDINT : Indicates whether the sample person has intake data for one or two days.\nDR1DBIH : Number of days between intake day and the day of family questionnaire administered in the household.\nDR1DAY : Intake day of the week\nDR1LANG : The respondent spoke mostly:\nDR1MNRSP : Who was the main respondent for this interview?\nDR1HELPD : Who helped in responding for this interview\nDBQ095Z : What type of salt {do you/does SP} usually add to {your/his/her/SP's} food at the table? Would you say . . .\nDBD100 : How often {do you/does SP} add ordinary salt to {your/his/her/SP's} food at the table? Would you say . . .\nDRQSPREP : How often is ordinary salt or seasoned salt added in cooking or preparing foods in your household? Is it never, rarely, occasionally, or very often?\nDR1STY : Did {you/SP} add any salt to {your/her/his} food at the table yesterday? Salt includes ordinary or seasoned salt, lite salt, or a salt substitute.\nDR1SKY : What type of salt was it? (Was it ordinary or seasoned salt, lite salt, or a salt substitute?)\nDRQSDIET : Are you currently on any kind of diet, either to lose weight or for some other health-related reason?\nDRQSDT1 : What kind of diet are you on? (Is it a weight loss or low calorie diet: low fat or cholesterol diet; low salt or sodium diet; sugar free or low sugar diet; low fiber diet; high fiber diet; diabetic diet; or another type of diet?)\nDRQSDT2 : What kind of diet are you on? (Is it a weight loss or low calorie diet: low fat or cholesterol diet; low salt or sodium diet; sugar free or low sugar diet; low fiber diet; high fiber diet; diabetic diet; or another type of diet?)\nDRQSDT3 : What kind of diet are you on? (Is it a weight loss or low calorie diet: low fat or cholesterol diet; low salt or sodium diet; sugar free or low sugar diet; low fiber diet; high fiber diet; diabetic diet; or another type of diet?)\nDRQSDT4 : What kind of diet are you on? (Is it a weight loss or low calorie diet: low fat or cholesterol diet; low salt or sodium diet; sugar free or low sugar diet; low fiber diet; high fiber diet; diabetic diet; or another type of diet?)\nDRQSDT5 : What kind of diet are you on? (Is it a weight loss or low calorie diet: low fat or cholesterol diet; low salt or sodium diet; sugar free or low sugar diet; low fiber diet; high fiber diet; diabetic diet; or another type of diet?)\nDRQSDT6 : What kind of diet are you on? (Is it a weight loss or low calorie diet: low fat or cholesterol diet; low salt or sodium diet; sugar free or low sugar diet; low fiber diet; high fiber diet; diabetic diet; or another type of diet?)\nDRQSDT7 : What kind of diet are you on? (Is it a weight loss or low calorie diet: low fat or cholesterol diet; low salt or sodium diet; sugar free or low sugar diet; low fiber diet; high fiber diet; diabetic diet; or another type of diet?)\nDRQSDT8 : What kind of diet are you on? (Is it a weight loss or low calorie diet: low fat or cholesterol diet; low salt or sodium diet; sugar free or low sugar diet; low fiber diet; high fiber diet; diabetic diet; or another type of diet?)\nDRQSDT9 : What kind of diet are you on? (Is it a weight loss or low calorie diet: low fat or cholesterol diet; low salt or sodium diet; sugar free or low sugar diet; low fiber diet; high fiber diet; diabetic diet; or another type of diet?)\nDRQSDT10 : What kind of diet are you on? (Is it a weight loss or low calorie diet: low fat or cholesterol diet; low salt or sodium diet; sugar free or low sugar diet; low fiber diet; high fiber diet; diabetic diet; or another type of diet?)\nDRQSDT11 : What kind of diet are you on? (Is it a weight loss or low calorie diet: low fat or cholesterol diet; low salt or sodium diet; sugar free or low sugar diet; low fiber diet; high fiber diet; diabetic diet; or another type of diet?)\nDRQSDT12 : What kind of diet are you on? (Is it a weight loss or low calorie diet: low fat or cholesterol diet; low salt or sodium diet; sugar free or low sugar diet; low fiber diet; high fiber diet; diabetic diet; or another type of diet?)\nDRQSDT91 : What kind of diet are you on? (Is it a weight loss or low calorie diet: low fat or cholesterol diet; low salt or sodium diet; sugar free or low sugar diet; low fiber diet; high fiber diet; diabetic diet; or another type of diet?)\nDR1TNUMF : Total number of foods/beverages reported in the individual foods file\nDR1TKCAL : Energy (kcal)\nDR1TPROT : Protein (gm)\nDR1TCARB : Carbohydrate (gm)\nDR1TSUGR : Total sugars (gm)\nDR1TFIBE : Dietary fiber (gm)\nDR1TTFAT : Total fat (gm)\nDR1TSFAT : Total saturated fatty acids (gm)\nDR1TMFAT : Total monounsaturated fatty acids (gm)\nDR1TPFAT : Total polyunsaturated fatty acids (gm)\nDR1TCHOL : Cholesterol (mg)\nDR1TATOC : Vitamin E as alpha-tocopherol (mg)\nDR1TATOA : Added alpha-tocopherol (Vitamin E) (mg)\nDR1TRET : Retinol (mcg)\nDR1TVARA : Vitamin A as retinol activity equivalents (mcg)\nDR1TACAR : Alpha-carotene (mcg)\nDR1TBCAR : Beta-carotene (mcg)\nDR1TCRYP : Beta-cryptoxanthin (mcg)\nDR1TLYCO : Lycopene (mcg)\nDR1TLZ : Lutein + zeaxanthin (mcg)\nDR1TVB1 : Thiamin (Vitamin B1) (mg)\nDR1TVB2 : Riboflavin (Vitamin B2) (mg)\nDR1TNIAC : Niacin (mg)\nDR1TVB6 : Vitamin B6 (mg)\nDR1TFOLA : Total folate (mcg)\nDR1TFA : Folic acid (mcg)\nDR1TFF : Food folate (mcg)\nDR1TFDFE : Folate as dietary folate equivalents (mcg)\nDR1TCHL : Total choline (mg)\nDR1TVB12 : Vitamin B12 (mcg)\nDR1TB12A : Added vitamin B12 (mcg)\nDR1TVC : Vitamin C (mg)\nDR1TVD : Vitamin D (D2 + D3) (mcg)\nDR1TVK : Vitamin K (mcg)\nDR1TCALC : Calcium (mg)\nDR1TPHOS : Phosphorus (mg)\nDR1TMAGN : Magnesium (mg)\nDR1TIRON : Iron (mg)\nDR1TZINC : Zinc (mg)\nDR1TCOPP : Copper (mg)\nDR1TSODI : Sodium (mg)\nDR1TPOTA : Potassium (mg)\nDR1TSELE : Selenium (mcg)\nDR1TCAFF : Caffeine (mg)\nDR1TTHEO : Theobromine (mg)\nDR1TALCO : Alcohol (gm)\nDR1TMOIS : Moisture (gm)\nDR1TS040 : SFA 4:0 (Butanoic) (gm)\nDR1TS060 : SFA 6:0 (Hexanoic) (gm)\nDR1TS080 : SFA 8:0 (Octanoic) (gm)\nDR1TS100 : SFA 10:0 (Decanoic) (gm)\nDR1TS120 : SFA 12:0 (Dodecanoic) (gm)\nDR1TS140 : SFA 14:0 (Tetradecanoic) (gm)\nDR1TS160 : SFA 16:0 (Hexadecanoic) (gm)\nDR1TS180 : SFA 18:0 (Octadecanoic) (gm)\nDR1TM161 : MFA 16:1 (Hexadecenoic) (gm)\nDR1TM181 : MFA 18:1 (Octadecenoic) (gm)\nDR1TM201 : MFA 20:1 (Eicosenoic) (gm)\nDR1TM221 : MFA 22:1 (Docosenoic) (gm)\nDR1TP182 : PFA 18:2 (Octadecadienoic) (gm)\nDR1TP183 : PFA 18:3 (Octadecatrienoic) (gm)\nDR1TP184 : PFA 18:4 (Octadecatetraenoic) (gm)\nDR1TP204 : PFA 20:4 (Eicosatetraenoic) (gm)\nDR1TP205 : PFA 20:5 (Eicosapentaenoic) (gm)\nDR1TP225 : PFA 22:5 (Docosapentaenoic) (gm)\nDR1TP226 : PFA 22:6 (Docosahexaenoic) (gm)\nDR1.300 : None\nDR1.320Z : None\nDR1.330Z : None\nDR1BWATZ : Total bottled water drank yesterday (gm)\nDR1TWS : When you drink tap water, what is the main source of the tap water? Is the city water supply (community water supply); a well or rain cistern; a spring; or something else?\nDRD340 : Please look at this list of shellfish. During the past 30 days did you eat any types of shellfish listed on this card? Include any foods that had shellfish in them such as sandwiches, soups, or salads.\nDRD350A : Clams eaten during past 30 days\nDRD350AQ : Number of times clams were eaten in the past 30 days\nDRD350B : Crabs eaten during past 30 days\nDRD350BQ : Number of times crab was eaten in the past 30 days\nDRD350C : Crayfish eaten during past 30 days\nDRD350CQ : Number of times crayfish was eaten in the past 30 days\nDRD350D : Lobsters eaten during past 30 days\nDRD350DQ : Number of times lobster was eaten in the past 30 days\nDRD350E : Mussels eaten during past 30 days\nDRD350EQ : Number of times mussels were eaten in the past 30 days\nDRD350F : Oysters eaten during past 30 days\nDRD350FQ : Number of times oysters were eaten in the past 30 days\nDRD350G : Scallops eaten during the past 30 days\nDRD350GQ : Number of times scallops were eaten in the past 30 days\nDRD350H : Shrimp eaten during past 30 days\nDRD350HQ : Number of times shrimp was eaten in the last 30 days\nDRD350I : Other shellfish ( ex. octopus, squid) eaten during past 30 days\nDRD350IQ : Number of times other shellfish (ex. octopus, squid) was eaten in the past 30 days\nDRD350J : Other unknown shellfish eaten during past 30 days\nDRD350JQ : Number of times other unknown shellfish was eaten in the past 30 days\nDRD350K : Refused to give detailed information on shellfish eaten during past 30 days\nDRD360 : Please look at this list of fish. During the past 30 days did you eat any types of fish listed on this card? Include any foods that had fish in them such as sandwiches, soups, or salads.\nDRD370A : Breaded fish products eaten during past 30 days\nDRD370AQ : Number of times breaded fish products were eaten in the past 30 days\nDRD370B : Tuna eaten during past 30 days\nDRD370BQ : Number of times tuna was eaten in the past 30 days\nDRD370C : Bass eaten during past 30 days\nDRD370CQ : Number of times bass was eaten in the past 30 days\nDRD370D : Catfish eaten during past 30 days\nDRD370DQ : Number of times catfish was eaten in the past 30 days\nDRD370E : Cod eaten during past 30 days\nDRD370EQ : Number of times cod was eaten in the past 30 days\nDRD370F : Flatfish eaten during past 30 days\nDRD370FQ : Number of times flatfish was eaten in the past 30 days\nDRD370G : Haddock eaten during past 30 days\nDRD370GQ : Number of times haddock was eaten in the past 30 days\nDRD370H : Mackerel eaten during past 30 days\nDRD370HQ : Number of times mackerel was eaten in the past 30 days\nDRD370I : Perch eaten during past 30 days\nDRD370IQ : Number of times perch was eaten in the past 30 days\nDRD370J : Pike eaten during past 30 days\nDRD370JQ : Number of times pike was eaten in the past 30 days\nDRD370K : Pollock eaten during past 30 days\nDRD370KQ : Number of times pollock was eaten in the past 30 days\nDRD370L : Porgy eaten during past 30 days\nDRD370LQ : Number of times porgy was eaten in the past 30 days\nDRD370M : Salmon eaten during past 30 days\nDRD370MQ : Number of times salmon was eaten in the past 30 days\nDRD370N : Sardines eaten during past 30 days\nDRD370NQ : Number of times sardines were eaten in the past 30 days\nDRD370O : Sea bass eaten during past 30 days\nDRD370OQ : Number of times sea bass was eaten in the past 30 days\nDRD370P : Shark eaten during past 30 days\nDRD370PQ : Number of times shark was eaten in the past 30 days\nDRD370Q : Swordfish eaten during past 30 days\nDRD370QQ : Number of times swordfish was eaten in the past 30 days\nDRD370R : Trout eaten during past 30 days\nDRD370RQ : Number of times trout was eaten in the past 30 days\nDRD370S : Walleye eaten during the past 30 days\nDRD370SQ : Number of times walleye was eaten in the past 30 days\nDRD370T : Other type of fish eaten during past 30 days\nDRD370TQ : Number of times other type of fish was eaten in the past 30 days\nDRD370U : Other unknown type eaten during past 30 days\nDRD370UQ : Number of times other unknown type of fish was eaten in the past 30 days\nDRD370V : Refused to give detailed information on fish eaten during past 30 days\n"
     ]
    }
   ],
   "source": [
    "for column_name in diet.columns:\n",
    "    \n",
    "    try:\n",
    "        name = descriptions[descriptions[\"Variable Name\"] == column_name].iloc[0][1]\n",
    "        print(f\"{column_name} : {name}\")\n",
    "    except:\n",
    "        print(f\"{column_name} : {None}\")"
   ]
  },
  {
   "cell_type": "code",
   "execution_count": null,
   "metadata": {},
   "outputs": [],
   "source": []
  }
 ]
}