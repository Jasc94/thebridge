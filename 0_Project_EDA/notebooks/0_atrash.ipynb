{
 "metadata": {
  "language_info": {
   "codemirror_mode": {
    "name": "ipython",
    "version": 3
   },
   "file_extension": ".py",
   "mimetype": "text/x-python",
   "name": "python",
   "nbconvert_exporter": "python",
   "pygments_lexer": "ipython3",
   "version": "3.7.4"
  },
  "orig_nbformat": 2,
  "kernelspec": {
   "name": "python374jvsc74a57bd0aee8b7b246df8f9039afb4144a1f6fd8d2ca17a180786b69acc140d282b71a49",
   "display_name": "Python 3.7.4 64-bit"
  },
  "metadata": {
   "interpreter": {
    "hash": "aee8b7b246df8f9039afb4144a1f6fd8d2ca17a180786b69acc140d282b71a49"
   }
  }
 },
 "nbformat": 4,
 "nbformat_minor": 2,
 "cells": [
  {
   "cell_type": "code",
   "execution_count": null,
   "metadata": {},
   "outputs": [],
   "source": [
    "new_column = [\"veggie\", \"veggie\", \"veggie\", \"veggie\", \"veggie\", \"veggie\", \"veggie\", \"veggie\", \"veggie\", \"veggie\", \"veggie\", \"veggie\", \"veggie\", \"veggie\", \"veggie\", \"veggie\", \"veggie\", \"veggie\", \"veggie\", \"veggie\", \"veggie\", \"veggie\", \"veggie\", \"veggie\", \"veggie\", \"veggie\", \"animal\", \"animal\", \"animal\", \"animal\", \"animal\", \"animal\", \"animal\", \"animal\", \"animal\", \"animal\", \"veggie\", \"veggie\", \"veggie\", \"veggie\"]"
   ]
  },
  {
   "cell_type": "code",
   "execution_count": 1,
   "metadata": {},
   "outputs": [],
   "source": [
    "trash = ['Dips, gravies, other sauces', 'Ice cream and frozen dairy desserts', 'Baby food: yogurt', 'Milk shakes and other dairy drinks', 'Formula, ready-to-feed', 'Formula, prepared from powder',\n",
    "       'Formula, prepared from concentrate', 'Cakes and pies', 'Baby food: snacks and sweets', 'Baby food: meat and dinners', 'Pasta sauces, tomato-based', 'Burritos and tacos', 'Other sandwiches (single code)', 'Burgers (single code)', 'Egg/breakfast sandwiches (single code)', 'Frankfurter sandwiches (single code)', 'Frankfurter sandwiches (single code)', 'Mustard and other condiments', 'Candy not containing chocolate', 'Rolls and buns', 'Doughnuts, sweet rolls, pastries', 'Crackers, excludes saltines', 'Cookies and brownies', 'Biscuits, muffins, quick breads', 'Pancakes, waffles, French toast', 'Cereal bars', 'Nutrition bars', 'Saltine crackers', 'Pretzels/snack mix', 'Potato chips', 'Egg rolls, dumplings, sushi', 'Pasta mixed dishes, excludes macaroni and cheese', 'Macaroni and cheese', 'Mayonnaise', 'Vegetables on a sandwich', 'Sugar substitutes', 'Candy containing chocolate', 'Soft drinks', 'Diet soft drinks', 'Flavored or carbonated water', 'Other diet drinks', 'Beer', 'Liquor and cocktails', 'Wine', 'Nutritional beverages', 'Protein and nutritional powders', 'Sport and energy drinks', 'Diet sport and energy drinks']"
   ]
  },
  {
   "cell_type": "code",
   "execution_count": null,
   "metadata": {},
   "outputs": [],
   "source": [
    "# NEGATIVE FILTERS\n",
    "\n",
    "others = ['Formula, ready-to-feed', 'Formula, prepared from powder', 'Formula, prepared from concentrate', 'Sugar substitutes', 'Not included in a food category']\n",
    "\n",
    "baby_food = ['Baby food: yogurt', 'Baby food: snacks and sweets', 'Baby food: meat and dinners', ]\n",
    "\n",
    "desserts_and_snacks = ['Ice cream and frozen dairy desserts', 'Milk shakes and other dairy drinks', 'Cakes and pies', 'Candy not containing chocolate', 'Doughnuts, sweet rolls, pastries', 'Crackers, excludes saltines', 'Cookies and brownies', 'Biscuits, muffins, quick breads', 'Pancakes, waffles, French toast', 'Cereal bars', 'Nutrition bars', 'Saltine crackers', 'Pretzels/snack mix', 'Potato chips', 'Candy containing chocolate', 'Pancakes, waffles, French toast']\n",
    "\n",
    "drinks = ['Soft drinks', 'Diet soft drinks', 'Flavored or carbonated water', 'Other diet drinks', 'Beer', 'Liquor and cocktails', 'Wine', 'Nutritional beverages', 'Protein and nutritional powders', 'Sport and energy drinks', 'Diet sport and energy drinks']\n",
    "\n",
    "sandwiches = ['Burritos and tacos', 'Other sandwiches (single code)', 'Burgers (single code)', 'Egg/breakfast sandwiches (single code)', 'Frankfurter sandwiches (single code)', 'Frankfurter sandwiches (single code)', 'Vegetables on a sandwich']\n",
    "\n",
    "prepared_dishes = ['Rolls and buns', 'Egg rolls, dumplings, sushi', 'Pasta mixed dishes, excludes macaroni and cheese', 'Macaroni and cheese', 'Pizza', 'Meat mixed dishes', 'Stir-fry and soy-based sauce mixtures', 'Bean, pea, legume dishes', 'Seafood mixed dishes', 'Rice mixed dishes', 'Fried rice and lo/chow mein', 'Poultry mixed dishes']\n",
    "\n",
    "sauces = ['Dips, gravies, other sauces''Pasta sauces, tomato-based', 'Mustard and other condiments', 'Mayonnaise', 'Jams, syrups, toppings']"
   ]
  },
  {
   "cell_type": "code",
   "execution_count": 2,
   "metadata": {},
   "outputs": [],
   "source": [
    "filters = ['Human milk', 'Milk, reduced fat', 'Milk, whole', 'Milk, lowfat', 'Milk, nonfat', 'Flavored milk, whole', 'Milk substitutes', 'Yogurt, regular', 'Yogurt, Greek', 'Cheese', 'Cottage/ricotta cheese', 'Eggs and omelets', 'Ground beef', 'Cold cuts and cured meats', 'Bacon', 'Pork',\n",
    "       'Butter and animal fats', 'Lamb, goat, game',\n",
    "       'Turkey, duck, other poultry', 'Chicken, whole pieces',\n",
    "       'Chicken patties, nuggets and tenders', 'Poultry mixed dishes',\n",
    "       'Liver and organ meats', 'Frankfurters', 'Sausages', 'Fish',\n",
    "       'Shellfish', 'Beans, peas, legumes', 'Processed soy products', 'Nuts and seeds', 'Peanut butter and jelly sandwiches (single code)', 'Oatmeal', ]"
   ]
  },
  {
   "cell_type": "code",
   "execution_count": null,
   "metadata": {},
   "outputs": [],
   "source": [
    "# POSITIVE FILTERS\n",
    "\n",
    "milks = ['Lamb, goat, game', 'Human milk', 'Milk, reduced fat', 'Milk, whole', 'Milk, lowfat', 'Milk, nonfat', 'Flavored milk, whole', 'Yogurt, regular', 'Yogurt, Greek']\n",
    "\n",
    "cheese = ['Cheese', 'Cottage/ricotta cheese']\n",
    "\n",
    "other_animal_products = ['Eggs and omelets', 'Butter and animal fats']\n",
    "\n",
    "meats = ['Ground beef', 'Cold cuts and cured meats', 'Bacon', 'Pork', 'Liver and organ meats', 'Frankfurters', 'Sausages']\n",
    "\n",
    "chicken = ['Turkey, duck, other poultry', 'Chicken, whole pieces', 'Chicken patties, nuggets and tenders']\n",
    "\n",
    "fish = ['Fish', 'Shellfish']\n",
    "\n",
    "\n",
    "milk_substitutes = ['Milk substitutes']\n",
    "\n",
    "beans = ['Beans, peas, legumes']\n",
    "\n",
    "soy_products = ['Processed soy products']\n",
    "\n",
    "nuts = ['Nuts and seeds']\n",
    "\n",
    "other_veggie_products = ['Peanut butter and jelly sandwiches (single code)', 'Oatmeal']"
   ]
  },
  {
   "cell_type": "code",
   "execution_count": null,
   "metadata": {},
   "outputs": [],
   "source": [
    "# ~  --> opposite to the given mask\n",
    "# isin() --> if the category is in the given list\n",
    "\n",
    "# neg\n",
    "main2[~main2[\"Category name\"].isin(others)]\n",
    "\n",
    "# pos\n",
    "main2[main2[\"Category name\"].isin(others)]"
   ]
  },
  {
   "cell_type": "code",
   "execution_count": null,
   "metadata": {},
   "outputs": [],
   "source": [
    "# -------------------------------- CONDITIONS --------------------------------\n",
    "# NEGATIVE CONDITIONS\n",
    "\n",
    "others_cond = main2[~main2[\"Category name\"].isin(others)].index\n",
    "\n",
    "baby_food_cond = main2[~main2[\"Category name\"].isin(baby_food)].index\n",
    "\n",
    "desserts_and_snacks_cond = main2[~main2[\"Category name\"].isin(desserts_and_snacks)].index\n",
    "\n",
    "drinks_cond = main2[~main2[\"Category name\"].isin(drinks)].index\n",
    "\n",
    "sandwiches_cond = main2[~main2[\"Category name\"].isin(sandwiches)].index\n",
    "\n",
    "prepared_dishes_cond = main2[~main2[\"Category name\"].isin(prepared_dishes)].index\n",
    "\n",
    "sauces_cond = main2[~main2[\"Category name\"].isin(sauces)].index\n",
    "\n",
    "###\n",
    "full_negative_cond = main2[~main2[\"Category name\"].isin(full_negative_cond)].index\n",
    "\n",
    "\n",
    "# POSITIVE CONDITIONS\n",
    "\n",
    "milks_cond = main2[main2[\"Category name\"].isin(milks)].index\n",
    "\n",
    "cheese_cond = main2[main2[\"Category name\"].isin(cheese)].index\n",
    "\n",
    "other_animal_products_cond = main2[main2[\"Category name\"].isin(other_animal_products)].index\n",
    "\n",
    "meats_cond = main2[main2[\"Category name\"].isin(meats)].index\n",
    "\n",
    "chicken_cond = main2[main2[\"Category name\"].isin(chicken)].index\n",
    "\n",
    "fish_cond = main2[main2[\"Category name\"].isin(fish)].index\n",
    "\n",
    "\n",
    "milk_substitutes_cond = main2[main2[\"Category name\"].isin(milk_substitutes)].index\n",
    "\n",
    "beans_cond = main2[main2[\"Category name\"].isin(beans)].index\n",
    "\n",
    "soy_products_cond = main2[main2[\"Category name\"].isin(soy_products)].index\n",
    "\n",
    "nuts_cond = main2[main2[\"Category name\"].isin(nuts)].index\n",
    "\n",
    "other_veggie_products_cond = main2[main2[\"Category name\"].isin(other_veggie_products)].index\n",
    "\n",
    "###\n",
    "animal_cond = main2[main2[\"Category name\"].isin(animal_filter)].index\n",
    "\n",
    "veggie_cond = main2[main2[\"Category name\"].isin(veggie_filter)].index\n",
    "\n",
    "full_positive_cond = main2[main2[\"Category name\"].isin(full_positive_filter)].index"
   ]
  },
  {
   "cell_type": "code",
   "execution_count": null,
   "metadata": {},
   "outputs": [],
   "source": [
    "if filter_ == 0:\n",
    "        return milks\n",
    "\n",
    "    elif filter_ == 1:\n",
    "        return cheese\n",
    "\n",
    "    elif filter_ == 2:\n",
    "        return other_animal_products\n",
    "\n",
    "    elif filter_ == 3:\n",
    "        return meats\n",
    "\n",
    "    elif filter_ == 4:\n",
    "        return chicken\n",
    "\n",
    "    elif filter_ == 5:\n",
    "        return fish\n",
    "\n",
    "    elif filter_ == 6:\n",
    "        return milk_substitutes\n",
    "\n",
    "    elif filter_ == 7:\n",
    "        return beans\n",
    "\n",
    "    elif filter_ == 8:\n",
    "        return soy_products\n",
    "\n",
    "    elif filter_ == 9:\n",
    "        return nuts\n",
    "\n",
    "    elif filter_ == 10:\n",
    "        return other_veggie_products\n",
    "\n",
    "    ###\n",
    "    elif filter_ == 11:\n",
    "        return animal_filter\n",
    "\n",
    "    elif filter_ == 12:\n",
    "        return veggie_filter\n",
    "\n",
    "    elif filter_ == 13:\n",
    "        return full_positive_filter"
   ]
  },
  {
   "cell_type": "code",
   "execution_count": 1,
   "metadata": {},
   "outputs": [],
   "source": [
    "########################################################################################################"
   ]
  },
  {
   "cell_type": "code",
   "execution_count": null,
   "metadata": {},
   "outputs": [],
   "source": [
    "def column_rename(df):\n",
    "    # Key nutrients for the comparison with recommended daily intake\n",
    "    new_daily_intake_nutrients = [\"Protein (g)\", \"Water (g)\", \"Fiber, total dietary (g)\", \"Vitamin A, RAE (mcg_RAE)\", \"Thiamin (mg)\", \"Riboflavin (mg)\", \"Niacin (mg)\", \"Vitamin B-6 (mg)\", \"Vitamin B-12 (mcg)\",  \"Vitamin B-12, added (mcg)\", \"Folate, total (mcg)\", \"Vitamin C (mg)\", \"Calcium (mg)\", \"Iron (mg)\", \"Magnesium (mg)\", \"Potassium (mg)\", \"Sodium (mg)\", \"Zinc (mg)\"]\n",
    "\n",
    "    # Additional interesting nutrients to explore\n",
    "    new_additional_nutrients = [\"Energy (kcal)\", \"Total Fat (g)\", \"Fatty acids, total saturated (g)\", \"Fatty acids, total monounsaturated (g)\", \"Fatty acids, total polyunsaturated (g)\", \"Cholesterol (mg)\", \"Vitamin D (D2 + D3) (mcg)\"]\n",
    "\n",
    "    # For grouping and categorization\n",
    "    new_support_columns = [\"Food name\", \"Category number\", \"Category name\"]\n",
    "\n",
    "    full_column_rename = new_support_columns + new_daily_intake_nutrients + new_additional_nutrients\n",
    "\n",
    "    df.columns = full_column_rename\n",
    "\n",
    "    return df"
   ]
  },
  {
   "cell_type": "code",
   "execution_count": null,
   "metadata": {},
   "outputs": [],
   "source": [
    "def nutrients_filter(num):\n",
    "    # Key nutrients for the comparison with recommended daily intake\n",
    "    daily_intake_nutrients = [\"Protein (g)\", \"Water\\n(g)\", \"Fiber, total dietary (g)\", \"Vitamin A, RAE (mcg_RAE)\", \"Thiamin (mg)\", \"Riboflavin (mg)\", \"Niacin (mg)\", \"Vitamin B-6 (mg)\", \"Vitamin B-12 (mcg)\",  \"Vitamin B-12, added\\n(mcg)\", \"Folate, total (mcg)\", \"Vitamin C (mg)\", \"Calcium (mg)\", \"Iron\\n(mg)\", \"Magnesium (mg)\", \"Potassium (mg)\", \"Sodium (mg)\", \"Zinc\\n(mg)\"]\n",
    "\n",
    "    # Additional interesting nutrients to explore\n",
    "    additional_nutrients = [\"Energy (kcal)\", \"Total Fat (g)\", \"Fatty acids, total saturated (g)\", \"Fatty acids, total monounsaturated (g)\", \"Fatty acids, total polyunsaturated (g)\", \"Cholesterol (mg)\", \"Vitamin D (D2 + D3) (mcg)\"]\n",
    "\n",
    "    # For grouping and categorization\n",
    "    support_columns = [\"Main food description\", \"WWEIA Category number\", \"WWEIA Category description\"]\n",
    "\n",
    "    full_column_filter = support_columns + daily_intake_nutrients + additional_nutrients\n",
    "\n",
    "    if num == 1:\n",
    "        return daily_intake_nutrients\n",
    "    elif num == 2:\n",
    "        return additional_nutrients\n",
    "    elif num == 3:\n",
    "        return support_columns\n",
    "    elif num == 4:\n",
    "        return full_column_filter\n",
    "    elif num == 5:\n",
    "        daily_intake_nutrients.pop(9)\n",
    "        return daily_intake_nutrients\n",
    "    else:\n",
    "        print(\"Number not allowed\")"
   ]
  },
  {
   "cell_type": "code",
   "execution_count": null,
   "metadata": {},
   "outputs": [],
   "source": [
    "animal_options = md.several_filters(nutrition, [12], False)\n",
    "veggie_options = md.several_filters(nutrition, [12], False)\n",
    "top = veggie_options.sort_values(by = \"Protein (g)\", ascending = False)"
   ]
  },
  {
   "cell_type": "code",
   "execution_count": null,
   "metadata": {},
   "outputs": [],
   "source": [
    "resource = \"Total_emissions\"\n",
    "df = resources_df\n",
    "\n",
    "sns.set_theme()\n",
    "fig, ax = plt.subplots(1, 1, figsize = (15, 15))\n",
    "\n",
    "# I keep those values that aren't NA\n",
    "filtered_data = df[df[resource].notna()]\n",
    "# I sort the dataframe by the variable of interest (already defined as x)\n",
    "sorted_data = filtered_data.sort_values(by = resource, ascending = False)\n",
    "\n",
    "# For a better view, I defined the axis and data out of the seaborn function\n",
    "data = sorted_data\n",
    "y = sorted_data.index\n",
    "\n",
    "# Paint the graph\n",
    "sns.barplot(x = resource, y = y, data = data, hue = \"Origin\", ax = ax)\n",
    "\n",
    "# Title\n",
    "if \"water\" in resource.lower():\n",
    "    text_end = \" measured in squared meters (m2)\"\n",
    "elif \"land\" in resource.lower():\n",
    "    text_end = \" measured in liters (l)\"\n",
    "else:\n",
    "    text_end = \" measured in kgs per kg of food\"\n",
    "\n",
    "plt.title(resource + text_end, fontdict = {'fontsize': 20,\n",
    "'fontweight' : \"bold\"}, pad = 15\n",
    ")\n",
    "\n",
    "# Pull the name of the foods that are missing this value\n",
    "missing_values = list(df[df[resource].isna()].index)\n",
    "# Add it as note at the bottom of the plot\n",
    "textstr = f\"We don't have the values for the following foods:\\n{missing_values}\"\n",
    "plt.text(0.25, 0.05, textstr, fontsize = 12, transform = plt.gcf().transFigure)\n",
    "\n",
    "# In notebooks it will plot twice, unless adding plt.show() at the end of the cell\n",
    "# That way, it associates the figure to that\n",
    "plt.legend(loc = 4)\n",
    "plt.show()"
   ]
  },
  {
   "cell_type": "code",
   "execution_count": null,
   "metadata": {},
   "outputs": [],
   "source": [
    "stats = resources_df.groupby(\"Origin\").agg({\"Total_emissions\" : (np.mean, np.median),\n",
    "                                    \"Land use per kg\" : (np.mean, np.median),\n",
    "                                    \"Freswater withdrawls per kg\" : (np.mean, np.median)})\n",
    "stats"
   ]
  },
  {
   "cell_type": "code",
   "execution_count": null,
   "metadata": {},
   "outputs": [],
   "source": [
    "stats = resources_df.groupby(\"Origin\").agg({\"Total_emissions\" : (np.mean, np.median),\n",
    "                                    \"Land use per kg\" : (np.mean, np.median),\n",
    "                                    \"Freswater withdrawls per kg\" : (np.mean, np.median)})\n",
    "\n",
    "to_plot = stats.unstack()\n",
    "\n",
    "to_plot = to_plot.reset_index()\n",
    "to_plot.columns = [\"Resource\", \"Mean_median\", \"Origin\", \"Values\"]"
   ]
  },
  {
   "cell_type": "code",
   "execution_count": null,
   "metadata": {},
   "outputs": [],
   "source": [
    "resources_list = [\"Total_emissions\", \"Land use per kg\", \"Freswater withdrawls per kg\"]\n",
    "\n",
    "resources_df.groupby(\"Origin\").agg({i : (np.mean, np.median) for i in resources_list})"
   ]
  },
  {
   "cell_type": "code",
   "execution_count": null,
   "metadata": {},
   "outputs": [],
   "source": [
    "fig, (ax1, ax2, ax3) = plt.subplots(1, 3, figsize = (15, 7))\n",
    "\n",
    "resource1 = \"Total_emissions\"\n",
    "resource2 = \"Land use per kg\"\n",
    "resource3 = \"Freswater withdrawls per kg\"\n",
    "\n",
    "sns.barplot(x = \"Mean_median\", y = \"Values\", hue = \"Origin\", data = to_plot[to_plot[\"Resource\"] == resource1], ax = ax1)\n",
    "ax1.set_title(resource1, fontdict = {'fontsize': 14, 'fontweight' : \"bold\"})\n",
    "\n",
    "sns.barplot(x = \"Mean_median\", y = \"Values\", hue = \"Origin\", data = to_plot[to_plot[\"Resource\"] == resource2], ax = ax2)\n",
    "ax2.set_title(resource2, fontdict = {'fontsize': 14, 'fontweight' : \"bold\"})\n",
    "\n",
    "sns.barplot(x = \"Mean_median\", y = \"Values\", hue = \"Origin\", data = to_plot[to_plot[\"Resource\"] == resource3], ax = ax3)\n",
    "ax3.set_title(resource3, fontdict = {'fontsize': 14, 'fontweight' : \"bold\"})"
   ]
  },
  {
   "cell_type": "code",
   "execution_count": null,
   "metadata": {},
   "outputs": [],
   "source": [
    "number_of_axes = len(to_plot[\"Resource\"].unique())\n",
    "\n",
    "fig, axes = plt.subplots(1, number_of_axes, figsize = (15, 7))\n",
    "\n",
    "resources_ = list(to_plot[\"Resource\"].unique())\n",
    "\n",
    "for index in range(number_of_axes):\n",
    "    sns.barplot(x = \"Mean_median\", y = \"Values\", hue = \"Origin\", data = to_plot[to_plot[\"Resource\"] == resources_[index]], ax = axes[index])\n",
    "    axes[index].set_title(resources_[index], fontdict = {'fontsize': 14, 'fontweight' : \"bold\"})"
   ]
  },
  {
   "cell_type": "code",
   "execution_count": null,
   "metadata": {},
   "outputs": [],
   "source": [
    "def emissions_graph(df, column):\n",
    "\n",
    "    df = df.sort_values(by = column, ascending = False)\n",
    "    df = df[df[column] > 0]\n",
    "\n",
    "    sns.set_theme()\n",
    "    #sns.set_style(\"whitegrid\", {'grid.linestyle': '--'})\n",
    "\n",
    "    fig, ax = plt.subplots(figsize = (12, 15))\n",
    "\n",
    "    colors = list(sns.color_palette(\"deep\"))\n",
    "\n",
    "    #sns.barplot(x = column, y = df.index, data = df, color = colors[0])\n",
    "    sns.barplot(x = column, y = df.index, data = df)\n",
    "\n",
    "    show_values_on_bars(ax, \"h\")\n",
    "\n",
    "    land_labels = [\"Land use per 1000kcal\", \"Land use per kg\", \"Land use per 100g protein\"]\n",
    "    water_labels = [\"Freswater withdrawls per 1000kcal\", \"Freswater withdrawls per kg\",\n",
    "                    \"Freswater withdrawls per 100g protein\"]\n",
    "    emissions_labels = [\"Total_emissions\"]\n",
    "\n",
    "    if column in land_labels: plt.xlabel(\"Squared meters (m2) of CO2 per Kg of food product\")\n",
    "    elif column in water_labels: plt.xlabel(\"Liters (l) per Kg of food product\")\n",
    "    else: plt.xlabel(\"Kg of CO2 per Kg of food product\")\n",
    "\n",
    "    return fig"
   ]
  },
  {
   "cell_type": "code",
   "execution_count": null,
   "metadata": {},
   "outputs": [],
   "source": [
    "stats = md.nutrients_stats(nutrition_df)\n",
    "filter_ = md.nutrients_filter_2(1)\n",
    "food_group = stats[filter_]\n",
    "food_group"
   ]
  },
  {
   "cell_type": "code",
   "execution_count": null,
   "metadata": {},
   "outputs": [],
   "source": [
    "stats = md.nutrients_stats(nutrition_df)\n",
    "filter_di = md.nutrients_filter_2(1)\n",
    "stats_di = stats[filter_di]\n",
    "\n",
    "food_groups = []\n",
    "\n",
    "for ind in range(len(stats_di.index)):\n",
    "    food_groups.append(stats_di.iloc[ind])\n",
    "\n",
    "path_di = fo.path_to_folder(2, \"data\")\n",
    "filename_di = \"daily_intakes.csv\"\n",
    "\n",
    "men_30 = md.get_daily_intake_data(path_di, filename_di, \"male\", 30)\n",
    "\n",
    "\n",
    "comparison1 = md.foodquality(men_30, food_groups).iloc[list(range(2, len(food_groups) * 2 + 2, 2))]\n",
    "comparison1 = comparison1.unstack().reset_index()\n",
    "comparison1.columns = [\"Nutrient\", \"%OfDI\", \"Values\"]\n",
    "comparison1"
   ]
  },
  {
   "cell_type": "code",
   "execution_count": null,
   "metadata": {},
   "outputs": [],
   "source": [
    "plt.figure(figsize = (12, 25))\n",
    "\n",
    "palette = sns.color_palette(\"rocket\", n_colors = len(food_groups))\n",
    "\n",
    "sns.barplot(x = \"Values\", y = \"Nutrient\", hue = \"%OfDI\", data = comparison1, palette = palette)\n",
    "\n",
    "plt.axvline(x=100, color='r', linestyle='dashed')\n",
    "\n",
    "plt.show()"
   ]
  },
  {
   "cell_type": "code",
   "execution_count": null,
   "metadata": {},
   "outputs": [],
   "source": [
    "fats_and_calories = stats[md.nutrients_filter_2(2)[1:5]]\n",
    "fats_and_calories = fats_and_calories.unstack()\n",
    "fats_and_calories = fats_and_calories.reset_index()\n",
    "fats_and_calories.columns = [\"Nutrient\", \"Food group\", \"Values\"]\n",
    "fats_and_calories[\"Food group\"].unique()"
   ]
  },
  {
   "cell_type": "code",
   "execution_count": null,
   "metadata": {},
   "outputs": [],
   "source": [
    "plt.figure(figsize = (12, 12))\n",
    "\n",
    "last_color = len(fats_and_calories[\"Food group\"].unique())\n",
    "\n",
    "palette = sns.color_palette(\"rocket\", n_colors = last_color)\n",
    "\n",
    "sns.barplot(x = \"Values\", y = \"Nutrient\", hue = \"Food group\", data = fats_and_calories, palette = palette)\n",
    "\n",
    "plt.show()"
   ]
  }
 ]
}