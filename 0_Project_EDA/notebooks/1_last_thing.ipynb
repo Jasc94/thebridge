{
 "metadata": {
  "language_info": {
   "codemirror_mode": {
    "name": "ipython",
    "version": 3
   },
   "file_extension": ".py",
   "mimetype": "text/x-python",
   "name": "python",
   "nbconvert_exporter": "python",
   "pygments_lexer": "ipython3",
   "version": "3.7.4"
  },
  "orig_nbformat": 2,
  "kernelspec": {
   "name": "python374jvsc74a57bd0aee8b7b246df8f9039afb4144a1f6fd8d2ca17a180786b69acc140d282b71a49",
   "display_name": "Python 3.7.4 64-bit"
  },
  "metadata": {
   "interpreter": {
    "hash": "aee8b7b246df8f9039afb4144a1f6fd8d2ca17a180786b69acc140d282b71a49"
   }
  }
 },
 "nbformat": 4,
 "nbformat_minor": 2,
 "cells": [
  {
   "cell_type": "code",
   "execution_count": 1,
   "metadata": {},
   "outputs": [],
   "source": [
    "# -------------------------------- IMPORT LIBRARIES --------------------------------\n",
    "import pandas as pd\n",
    "import numpy as np\n",
    "\n",
    "import matplotlib.pyplot as plt\n",
    "import seaborn as sns\n",
    "\n",
    "import re\n",
    "from varname import nameof\n",
    "\n",
    "import requests\n",
    "from bs4 import BeautifulSoup\n",
    "import html\n",
    "import lxml\n",
    "\n",
    "import sys, os\n",
    "\n",
    "dir = os.path.dirname\n",
    "sys.path.append(dir(os.getcwd()))\n",
    "\n",
    "import src.utils.mining_data_tb as md\n",
    "import src.utils.visualization_tb as vis\n",
    "import src.utils.folder_tb as fo\n",
    "\n",
    "import warnings\n",
    "warnings.filterwarnings('ignore')"
   ]
  },
  {
   "cell_type": "code",
   "execution_count": 2,
   "metadata": {},
   "outputs": [
    {
     "output_type": "execute_result",
     "data": {
      "text/plain": [
       "                        Food name  Category number      Category name  \\\n",
       "0                     Milk, human             9602         Human milk   \n",
       "1                       Milk, NFS             1004  Milk, reduced fat   \n",
       "2                     Milk, whole             1002        Milk, whole   \n",
       "3         Milk, low sodium, whole             1002        Milk, whole   \n",
       "4  Milk, calcium fortified, whole             1002        Milk, whole   \n",
       "\n",
       "   Protein (g)  Water (g)  Fiber, total dietary (g)  Vitamin A, RAE (mcg_RAE)  \\\n",
       "0         1.03      87.50                       0.0                        61   \n",
       "1         3.34      89.04                       0.0                        59   \n",
       "2         3.28      88.10                       0.0                        32   \n",
       "3         3.10      88.20                       0.0                        29   \n",
       "4         3.28      88.10                       0.0                        32   \n",
       "\n",
       "   Thiamin (mg)  Riboflavin (mg)  Niacin (mg)  ...  Energy (kcal)  \\\n",
       "0         0.014            0.036        0.177  ...             70   \n",
       "1         0.057            0.137        0.110  ...             51   \n",
       "2         0.056            0.138        0.105  ...             60   \n",
       "3         0.020            0.105        0.043  ...             61   \n",
       "4         0.056            0.138        0.105  ...             60   \n",
       "\n",
       "   Total Fat (g)  Fatty acids, total saturated (g)  \\\n",
       "0           4.38                             2.009   \n",
       "1           1.99                             1.164   \n",
       "2           3.20                             1.860   \n",
       "3           3.46                             2.154   \n",
       "4           3.20                             1.860   \n",
       "\n",
       "   Fatty acids, total monounsaturated (g)  \\\n",
       "0                                   1.658   \n",
       "1                                   0.426   \n",
       "2                                   0.688   \n",
       "3                                   0.999   \n",
       "4                                   0.688   \n",
       "\n",
       "   Fatty acids, total polyunsaturated (g)  Cholesterol (mg)  \\\n",
       "0                                   0.497                14   \n",
       "1                                   0.065                 8   \n",
       "2                                   0.108                12   \n",
       "3                                   0.128                14   \n",
       "4                                   0.108                12   \n",
       "\n",
       "   Vitamin D (D2 + D3) (mcg)  Carbohydrate (g)  Category 2  Category 3  \n",
       "0                        0.1              6.89       milks      animal  \n",
       "1                        1.1              4.87       milks      animal  \n",
       "2                        1.1              4.67       milks      animal  \n",
       "3                        1.3              4.46       milks      animal  \n",
       "4                        1.1              4.67       milks      animal  \n",
       "\n",
       "[5 rows x 30 columns]"
      ],
      "text/html": "<div>\n<style scoped>\n    .dataframe tbody tr th:only-of-type {\n        vertical-align: middle;\n    }\n\n    .dataframe tbody tr th {\n        vertical-align: top;\n    }\n\n    .dataframe thead th {\n        text-align: right;\n    }\n</style>\n<table border=\"1\" class=\"dataframe\">\n  <thead>\n    <tr style=\"text-align: right;\">\n      <th></th>\n      <th>Food name</th>\n      <th>Category number</th>\n      <th>Category name</th>\n      <th>Protein (g)</th>\n      <th>Water (g)</th>\n      <th>Fiber, total dietary (g)</th>\n      <th>Vitamin A, RAE (mcg_RAE)</th>\n      <th>Thiamin (mg)</th>\n      <th>Riboflavin (mg)</th>\n      <th>Niacin (mg)</th>\n      <th>...</th>\n      <th>Energy (kcal)</th>\n      <th>Total Fat (g)</th>\n      <th>Fatty acids, total saturated (g)</th>\n      <th>Fatty acids, total monounsaturated (g)</th>\n      <th>Fatty acids, total polyunsaturated (g)</th>\n      <th>Cholesterol (mg)</th>\n      <th>Vitamin D (D2 + D3) (mcg)</th>\n      <th>Carbohydrate (g)</th>\n      <th>Category 2</th>\n      <th>Category 3</th>\n    </tr>\n  </thead>\n  <tbody>\n    <tr>\n      <th>0</th>\n      <td>Milk, human</td>\n      <td>9602</td>\n      <td>Human milk</td>\n      <td>1.03</td>\n      <td>87.50</td>\n      <td>0.0</td>\n      <td>61</td>\n      <td>0.014</td>\n      <td>0.036</td>\n      <td>0.177</td>\n      <td>...</td>\n      <td>70</td>\n      <td>4.38</td>\n      <td>2.009</td>\n      <td>1.658</td>\n      <td>0.497</td>\n      <td>14</td>\n      <td>0.1</td>\n      <td>6.89</td>\n      <td>milks</td>\n      <td>animal</td>\n    </tr>\n    <tr>\n      <th>1</th>\n      <td>Milk, NFS</td>\n      <td>1004</td>\n      <td>Milk, reduced fat</td>\n      <td>3.34</td>\n      <td>89.04</td>\n      <td>0.0</td>\n      <td>59</td>\n      <td>0.057</td>\n      <td>0.137</td>\n      <td>0.110</td>\n      <td>...</td>\n      <td>51</td>\n      <td>1.99</td>\n      <td>1.164</td>\n      <td>0.426</td>\n      <td>0.065</td>\n      <td>8</td>\n      <td>1.1</td>\n      <td>4.87</td>\n      <td>milks</td>\n      <td>animal</td>\n    </tr>\n    <tr>\n      <th>2</th>\n      <td>Milk, whole</td>\n      <td>1002</td>\n      <td>Milk, whole</td>\n      <td>3.28</td>\n      <td>88.10</td>\n      <td>0.0</td>\n      <td>32</td>\n      <td>0.056</td>\n      <td>0.138</td>\n      <td>0.105</td>\n      <td>...</td>\n      <td>60</td>\n      <td>3.20</td>\n      <td>1.860</td>\n      <td>0.688</td>\n      <td>0.108</td>\n      <td>12</td>\n      <td>1.1</td>\n      <td>4.67</td>\n      <td>milks</td>\n      <td>animal</td>\n    </tr>\n    <tr>\n      <th>3</th>\n      <td>Milk, low sodium, whole</td>\n      <td>1002</td>\n      <td>Milk, whole</td>\n      <td>3.10</td>\n      <td>88.20</td>\n      <td>0.0</td>\n      <td>29</td>\n      <td>0.020</td>\n      <td>0.105</td>\n      <td>0.043</td>\n      <td>...</td>\n      <td>61</td>\n      <td>3.46</td>\n      <td>2.154</td>\n      <td>0.999</td>\n      <td>0.128</td>\n      <td>14</td>\n      <td>1.3</td>\n      <td>4.46</td>\n      <td>milks</td>\n      <td>animal</td>\n    </tr>\n    <tr>\n      <th>4</th>\n      <td>Milk, calcium fortified, whole</td>\n      <td>1002</td>\n      <td>Milk, whole</td>\n      <td>3.28</td>\n      <td>88.10</td>\n      <td>0.0</td>\n      <td>32</td>\n      <td>0.056</td>\n      <td>0.138</td>\n      <td>0.105</td>\n      <td>...</td>\n      <td>60</td>\n      <td>3.20</td>\n      <td>1.860</td>\n      <td>0.688</td>\n      <td>0.108</td>\n      <td>12</td>\n      <td>1.1</td>\n      <td>4.67</td>\n      <td>milks</td>\n      <td>animal</td>\n    </tr>\n  </tbody>\n</table>\n<p>5 rows × 30 columns</p>\n</div>"
     },
     "metadata": {},
     "execution_count": 2
    }
   ],
   "source": [
    "path = fo.path_to_folder(2, \"data\") + \"CLEANED_Nutritional_values.csv\"\n",
    "df = pd.read_csv(path)\n",
    "df.head()"
   ]
  },
  {
   "cell_type": "code",
   "execution_count": 3,
   "metadata": {},
   "outputs": [
    {
     "output_type": "execute_result",
     "data": {
      "text/plain": [
       "['Protein (g)',\n",
       " 'Water (g)',\n",
       " 'Fiber, total dietary (g)',\n",
       " 'Vitamin A, RAE (mcg_RAE)',\n",
       " 'Thiamin (mg)',\n",
       " 'Riboflavin (mg)',\n",
       " 'Niacin (mg)',\n",
       " 'Vitamin B-6 (mg)',\n",
       " 'Vitamin B-12 (mcg)',\n",
       " 'Folate, total (mcg)',\n",
       " 'Vitamin C (mg)',\n",
       " 'Calcium (mg)',\n",
       " 'Iron (mg)',\n",
       " 'Magnesium (mg)',\n",
       " 'Potassium (mg)',\n",
       " 'Sodium (mg)',\n",
       " 'Zinc (mg)',\n",
       " 'Energy (kcal)',\n",
       " 'Total Fat (g)',\n",
       " 'Fatty acids, total saturated (g)',\n",
       " 'Fatty acids, total monounsaturated (g)',\n",
       " 'Fatty acids, total polyunsaturated (g)',\n",
       " 'Cholesterol (mg)',\n",
       " 'Vitamin D (D2 + D3) (mcg)',\n",
       " 'Carbohydrate (g)']"
      ]
     },
     "metadata": {},
     "execution_count": 3
    }
   ],
   "source": [
    "nutrients = list(df.columns[3:28])\n",
    "nutrients"
   ]
  },
  {
   "cell_type": "code",
   "execution_count": 4,
   "metadata": {},
   "outputs": [
    {
     "output_type": "execute_result",
     "data": {
      "text/plain": [
       "['',\n",
       " '',\n",
       " '',\n",
       " '',\n",
       " '',\n",
       " '',\n",
       " '',\n",
       " '',\n",
       " '',\n",
       " '',\n",
       " '',\n",
       " '',\n",
       " '',\n",
       " '',\n",
       " '',\n",
       " '',\n",
       " '',\n",
       " '',\n",
       " '',\n",
       " '',\n",
       " '',\n",
       " '',\n",
       " '',\n",
       " '',\n",
       " '']"
      ]
     },
     "metadata": {},
     "execution_count": 4
    }
   ],
   "source": [
    "descriptions = [\"\" for x in range(len(nutrients))]\n",
    "descriptions"
   ]
  },
  {
   "source": [
    "nutrients_s = pd.Series(nutrients)\n",
    "nutrients_s.name = \"Nutrients\"\n",
    "descriptions_s = pd.Series(descriptions)\n",
    "descriptions_s.name = \"Descriptions\"\n",
    "nutrients_df = pd.concat([nutrients_s, descriptions_s], axis = 1)\n",
    "\n",
    "\n",
    "path2 = fo.path_to_folder(2, \"data\") + \"Nutrient_descriptions.csv\"\n",
    "nutrients_df.to_csv(path2)"
   ],
   "cell_type": "code",
   "metadata": {},
   "execution_count": null,
   "outputs": []
  },
  {
   "cell_type": "code",
   "execution_count": 6,
   "metadata": {},
   "outputs": [
    {
     "output_type": "execute_result",
     "data": {
      "text/plain": [
       "'Nutritional values dataset:\\n\\n- Saved as : \"2017-2018 FNDDS At A Glance - FNDDS Nutrient Values.xlsx\" in the project\\n- Source : US Department of Agriculture (https://www.ars.usda.gov/northeast-area/beltsville-md-bhnrc/beltsville-human-nutrition-research-center/food-surveys-research-group/docs/fndds-download-databases/)\\n\\n\\n########################################################################################\\nDaily Intakes info:\\n- Saved as : \"daily_intakes.csv\"\\n- Source : Eat for Health - Australian Government (https://www.eatforhealth.gov.au/webform/daily-nutrient-requirements-calculator)\\n\\n\\n########################################################################################\\nResources use:\\n- Saved as:\\n    - Food_production.csv\\n    - Resources_use folder\\n- Source : Our World In Data org (https://ourworldindata.org/environmental-impacts-of-food?country=)\\n\\nData source:\\n\"Our world in data\" resources data is a global aggregation. The NGO uses data from other top organizations such as:\\n- The UN Food and Agriculture Organization (FAO) \\n- European Environment Agency\\n- CAIT Climate Data Explorer\\n- and researchers and institutions\\n\\n\\n\\n\\nOur World In Data credentials:\\n- NGO focused on solving world\\'s largest problems with data and research: Poverty, disease, hunger, climate change, war, existential risks, and inequality\\n- On the closely integrated website SDG-Tracker.org we present the data and research on the UN’s Sustainable Development Goals (SDGs).\\n- all the work we ever do is made available in its entirety as a public good\\n    - Visualizations and text are licensed under CC BY that you may freely use for any purpose\\n    - Our data is available for download\\n    - All code we write is open-sourced under the MIT license and can be found on GitHub\\n- Our World in Data and the SDG-Tracker are collaborative efforts between researchers at the University of Oxford, who are the scientific editors of the website content; and the non-profit organization Global Change Data Lab, who publishes and maintains the website and the data tools that make our work possible. (https://ourworldindata.org/funding)'"
      ]
     },
     "metadata": {},
     "execution_count": 6
    }
   ],
   "source": [
    "path2 = fo.path_to_folder(2, \"documents\") + \"Data_sources.md\"\n",
    "\n",
    "with open(path2, 'r') as file:\n",
    "    text = file.read()\n",
    "\n",
    "text"
   ]
  },
  {
   "cell_type": "code",
   "execution_count": null,
   "metadata": {},
   "outputs": [],
   "source": []
  }
 ]
}