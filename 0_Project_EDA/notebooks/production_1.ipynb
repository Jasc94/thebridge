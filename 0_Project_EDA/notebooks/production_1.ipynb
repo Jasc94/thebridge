{
 "metadata": {
  "language_info": {
   "codemirror_mode": {
    "name": "ipython",
    "version": 3
   },
   "file_extension": ".py",
   "mimetype": "text/x-python",
   "name": "python",
   "nbconvert_exporter": "python",
   "pygments_lexer": "ipython3",
   "version": "3.7.4"
  },
  "orig_nbformat": 2,
  "kernelspec": {
   "name": "python374jvsc74a57bd0aee8b7b246df8f9039afb4144a1f6fd8d2ca17a180786b69acc140d282b71a49",
   "display_name": "Python 3.7.4 64-bit"
  },
  "metadata": {
   "interpreter": {
    "hash": "aee8b7b246df8f9039afb4144a1f6fd8d2ca17a180786b69acc140d282b71a49"
   }
  }
 },
 "nbformat": 4,
 "nbformat_minor": 2,
 "cells": [
  {
   "cell_type": "code",
   "execution_count": 1,
   "metadata": {},
   "outputs": [],
   "source": [
    "# Import libraries\n",
    "import pandas as pd\n",
    "import numpy as np\n",
    "\n",
    "import matplotlib.pyplot as plt\n",
    "import seaborn as sns\n",
    "\n",
    "import re\n",
    "from varname import nameof"
   ]
  },
  {
   "cell_type": "code",
   "execution_count": 2,
   "metadata": {},
   "outputs": [
    {
     "output_type": "execute_result",
     "data": {
      "text/plain": [
       "          Food product  Land use change  Animal Feed  Farm  Processing  \\\n",
       "0  Wheat & Rye (Bread)              0.1          0.0   0.8         0.2   \n",
       "1         Maize (Meal)              0.3          0.0   0.5         0.1   \n",
       "2        Barley (Beer)              0.0          0.0   0.2         0.1   \n",
       "3              Oatmeal              0.0          0.0   1.4         0.0   \n",
       "4                 Rice              0.0          0.0   3.6         0.1   \n",
       "\n",
       "   Transport  Packging  Retail  Total_emissions  \\\n",
       "0        0.1       0.1     0.1              1.4   \n",
       "1        0.1       0.1     0.0              1.1   \n",
       "2        0.0       0.5     0.3              1.1   \n",
       "3        0.1       0.1     0.0              1.6   \n",
       "4        0.1       0.1     0.1              4.0   \n",
       "\n",
       "   Eutrophying emissions per 1000kcal (gPO₄eq per 1000kcal)  ...  \\\n",
       "0                                                NaN         ...   \n",
       "1                                                NaN         ...   \n",
       "2                                                NaN         ...   \n",
       "3                                           4.281357         ...   \n",
       "4                                           9.514379         ...   \n",
       "\n",
       "   Freshwater withdrawals per 100g protein (liters per 100g protein)  \\\n",
       "0                                                NaN                   \n",
       "1                                                NaN                   \n",
       "2                                                NaN                   \n",
       "3                                         371.076923                   \n",
       "4                                        3166.760563                   \n",
       "\n",
       "   Freshwater withdrawals per kilogram (liters per kilogram)  \\\n",
       "0                                                NaN           \n",
       "1                                                NaN           \n",
       "2                                                NaN           \n",
       "3                                              482.4           \n",
       "4                                             2248.4           \n",
       "\n",
       "   Greenhouse gas emissions per 1000kcal (kgCO₂eq per 1000kcal)  \\\n",
       "0                                                NaN              \n",
       "1                                                NaN              \n",
       "2                                                NaN              \n",
       "3                                           0.945482              \n",
       "4                                           1.207271              \n",
       "\n",
       "   Greenhouse gas emissions per 100g protein (kgCO₂eq per 100g protein)  \\\n",
       "0                                                NaN                      \n",
       "1                                                NaN                      \n",
       "2                                                NaN                      \n",
       "3                                           1.907692                      \n",
       "4                                           6.267606                      \n",
       "\n",
       "   Land use per 1000kcal (m² per 1000kcal)  \\\n",
       "0                                      NaN   \n",
       "1                                      NaN   \n",
       "2                                      NaN   \n",
       "3                                 2.897446   \n",
       "4                                 0.759631   \n",
       "\n",
       "   Land use per kilogram (m² per kilogram)  \\\n",
       "0                                      NaN   \n",
       "1                                      NaN   \n",
       "2                                      NaN   \n",
       "3                                      7.6   \n",
       "4                                      2.8   \n",
       "\n",
       "   Land use per 100g protein (m² per 100g protein)  \\\n",
       "0                                              NaN   \n",
       "1                                              NaN   \n",
       "2                                              NaN   \n",
       "3                                         5.846154   \n",
       "4                                         3.943662   \n",
       "\n",
       "   Scarcity-weighted water use per kilogram (liters per kilogram)  \\\n",
       "0                                                NaN                \n",
       "1                                                NaN                \n",
       "2                                                NaN                \n",
       "3                                            18786.2                \n",
       "4                                            49576.3                \n",
       "\n",
       "   Scarcity-weighted water use per 100g protein (liters per 100g protein)  \\\n",
       "0                                                NaN                        \n",
       "1                                                NaN                        \n",
       "2                                                NaN                        \n",
       "3                                        14450.92308                        \n",
       "4                                        69825.77465                        \n",
       "\n",
       "   Scarcity-weighted water use per 1000kcal (liters per 1000 kilocalories)  \n",
       "0                                                NaN                        \n",
       "1                                                NaN                        \n",
       "2                                                NaN                        \n",
       "3                                        7162.104461                        \n",
       "4                                       13449.891480                        \n",
       "\n",
       "[5 rows x 23 columns]"
      ],
      "text/html": "<div>\n<style scoped>\n    .dataframe tbody tr th:only-of-type {\n        vertical-align: middle;\n    }\n\n    .dataframe tbody tr th {\n        vertical-align: top;\n    }\n\n    .dataframe thead th {\n        text-align: right;\n    }\n</style>\n<table border=\"1\" class=\"dataframe\">\n  <thead>\n    <tr style=\"text-align: right;\">\n      <th></th>\n      <th>Food product</th>\n      <th>Land use change</th>\n      <th>Animal Feed</th>\n      <th>Farm</th>\n      <th>Processing</th>\n      <th>Transport</th>\n      <th>Packging</th>\n      <th>Retail</th>\n      <th>Total_emissions</th>\n      <th>Eutrophying emissions per 1000kcal (gPO₄eq per 1000kcal)</th>\n      <th>...</th>\n      <th>Freshwater withdrawals per 100g protein (liters per 100g protein)</th>\n      <th>Freshwater withdrawals per kilogram (liters per kilogram)</th>\n      <th>Greenhouse gas emissions per 1000kcal (kgCO₂eq per 1000kcal)</th>\n      <th>Greenhouse gas emissions per 100g protein (kgCO₂eq per 100g protein)</th>\n      <th>Land use per 1000kcal (m² per 1000kcal)</th>\n      <th>Land use per kilogram (m² per kilogram)</th>\n      <th>Land use per 100g protein (m² per 100g protein)</th>\n      <th>Scarcity-weighted water use per kilogram (liters per kilogram)</th>\n      <th>Scarcity-weighted water use per 100g protein (liters per 100g protein)</th>\n      <th>Scarcity-weighted water use per 1000kcal (liters per 1000 kilocalories)</th>\n    </tr>\n  </thead>\n  <tbody>\n    <tr>\n      <th>0</th>\n      <td>Wheat &amp; Rye (Bread)</td>\n      <td>0.1</td>\n      <td>0.0</td>\n      <td>0.8</td>\n      <td>0.2</td>\n      <td>0.1</td>\n      <td>0.1</td>\n      <td>0.1</td>\n      <td>1.4</td>\n      <td>NaN</td>\n      <td>...</td>\n      <td>NaN</td>\n      <td>NaN</td>\n      <td>NaN</td>\n      <td>NaN</td>\n      <td>NaN</td>\n      <td>NaN</td>\n      <td>NaN</td>\n      <td>NaN</td>\n      <td>NaN</td>\n      <td>NaN</td>\n    </tr>\n    <tr>\n      <th>1</th>\n      <td>Maize (Meal)</td>\n      <td>0.3</td>\n      <td>0.0</td>\n      <td>0.5</td>\n      <td>0.1</td>\n      <td>0.1</td>\n      <td>0.1</td>\n      <td>0.0</td>\n      <td>1.1</td>\n      <td>NaN</td>\n      <td>...</td>\n      <td>NaN</td>\n      <td>NaN</td>\n      <td>NaN</td>\n      <td>NaN</td>\n      <td>NaN</td>\n      <td>NaN</td>\n      <td>NaN</td>\n      <td>NaN</td>\n      <td>NaN</td>\n      <td>NaN</td>\n    </tr>\n    <tr>\n      <th>2</th>\n      <td>Barley (Beer)</td>\n      <td>0.0</td>\n      <td>0.0</td>\n      <td>0.2</td>\n      <td>0.1</td>\n      <td>0.0</td>\n      <td>0.5</td>\n      <td>0.3</td>\n      <td>1.1</td>\n      <td>NaN</td>\n      <td>...</td>\n      <td>NaN</td>\n      <td>NaN</td>\n      <td>NaN</td>\n      <td>NaN</td>\n      <td>NaN</td>\n      <td>NaN</td>\n      <td>NaN</td>\n      <td>NaN</td>\n      <td>NaN</td>\n      <td>NaN</td>\n    </tr>\n    <tr>\n      <th>3</th>\n      <td>Oatmeal</td>\n      <td>0.0</td>\n      <td>0.0</td>\n      <td>1.4</td>\n      <td>0.0</td>\n      <td>0.1</td>\n      <td>0.1</td>\n      <td>0.0</td>\n      <td>1.6</td>\n      <td>4.281357</td>\n      <td>...</td>\n      <td>371.076923</td>\n      <td>482.4</td>\n      <td>0.945482</td>\n      <td>1.907692</td>\n      <td>2.897446</td>\n      <td>7.6</td>\n      <td>5.846154</td>\n      <td>18786.2</td>\n      <td>14450.92308</td>\n      <td>7162.104461</td>\n    </tr>\n    <tr>\n      <th>4</th>\n      <td>Rice</td>\n      <td>0.0</td>\n      <td>0.0</td>\n      <td>3.6</td>\n      <td>0.1</td>\n      <td>0.1</td>\n      <td>0.1</td>\n      <td>0.1</td>\n      <td>4.0</td>\n      <td>9.514379</td>\n      <td>...</td>\n      <td>3166.760563</td>\n      <td>2248.4</td>\n      <td>1.207271</td>\n      <td>6.267606</td>\n      <td>0.759631</td>\n      <td>2.8</td>\n      <td>3.943662</td>\n      <td>49576.3</td>\n      <td>69825.77465</td>\n      <td>13449.891480</td>\n    </tr>\n  </tbody>\n</table>\n<p>5 rows × 23 columns</p>\n</div>"
     },
     "metadata": {},
     "execution_count": 2
    }
   ],
   "source": [
    "prod = pd.read_csv(\"../data/Food_production.csv\")\n",
    "prod.head()"
   ]
  },
  {
   "cell_type": "code",
   "execution_count": 3,
   "metadata": {},
   "outputs": [
    {
     "output_type": "execute_result",
     "data": {
      "text/plain": [
       "(43, 23)"
      ]
     },
     "metadata": {},
     "execution_count": 3
    }
   ],
   "source": [
    "prod.shape"
   ]
  },
  {
   "cell_type": "code",
   "execution_count": 5,
   "metadata": {},
   "outputs": [
    {
     "output_type": "execute_result",
     "data": {
      "text/plain": [
       "0     Wheat & Rye (Bread)\n",
       "1            Maize (Meal)\n",
       "2           Barley (Beer)\n",
       "3                 Oatmeal\n",
       "4                    Rice\n",
       "5                Potatoes\n",
       "6                 Cassava\n",
       "7              Cane Sugar\n",
       "8              Beet Sugar\n",
       "9            Other Pulses\n",
       "10                   Peas\n",
       "11                   Nuts\n",
       "12             Groundnuts\n",
       "13                Soymilk\n",
       "14                   Tofu\n",
       "15            Soybean Oil\n",
       "16               Palm Oil\n",
       "17          Sunflower Oil\n",
       "18           Rapeseed Oil\n",
       "19              Olive Oil\n",
       "20               Tomatoes\n",
       "21         Onions & Leeks\n",
       "22        Root Vegetables\n",
       "23              Brassicas\n",
       "24       Other Vegetables\n",
       "25           Citrus Fruit\n",
       "26                Bananas\n",
       "27                 Apples\n",
       "28       Berries & Grapes\n",
       "29                   Wine\n",
       "30            Other Fruit\n",
       "31                 Coffee\n",
       "32         Dark Chocolate\n",
       "33       Beef (beef herd)\n",
       "34      Beef (dairy herd)\n",
       "35          Lamb & Mutton\n",
       "36               Pig Meat\n",
       "37           Poultry Meat\n",
       "38                   Milk\n",
       "39                 Cheese\n",
       "40                   Eggs\n",
       "41          Fish (farmed)\n",
       "42       Shrimps (farmed)\n",
       "Name: Food product, dtype: object"
      ]
     },
     "metadata": {},
     "execution_count": 5
    }
   ],
   "source": [
    "prod[\"Food product\"]"
   ]
  },
  {
   "cell_type": "code",
   "execution_count": null,
   "metadata": {},
   "outputs": [],
   "source": []
  }
 ]
}