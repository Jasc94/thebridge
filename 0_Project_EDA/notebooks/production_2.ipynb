{
 "metadata": {
  "language_info": {
   "codemirror_mode": {
    "name": "ipython",
    "version": 3
   },
   "file_extension": ".py",
   "mimetype": "text/x-python",
   "name": "python",
   "nbconvert_exporter": "python",
   "pygments_lexer": "ipython3",
   "version": "3.7.4"
  },
  "orig_nbformat": 2,
  "kernelspec": {
   "name": "python374jvsc74a57bd0aee8b7b246df8f9039afb4144a1f6fd8d2ca17a180786b69acc140d282b71a49",
   "display_name": "Python 3.7.4 64-bit"
  },
  "metadata": {
   "interpreter": {
    "hash": "aee8b7b246df8f9039afb4144a1f6fd8d2ca17a180786b69acc140d282b71a49"
   }
  }
 },
 "nbformat": 4,
 "nbformat_minor": 2,
 "cells": [
  {
   "cell_type": "code",
   "execution_count": 6,
   "metadata": {},
   "outputs": [],
   "source": [
    "# Import libraries\n",
    "import pandas as pd\n",
    "import numpy as np\n",
    "\n",
    "import matplotlib.pyplot as plt\n",
    "import seaborn as sns\n",
    "\n",
    "import re\n",
    "from varname import nameof"
   ]
  },
  {
   "cell_type": "code",
   "execution_count": 26,
   "metadata": {},
   "outputs": [
    {
     "output_type": "execute_result",
     "data": {
      "text/plain": [
       "Food product                                                                0\n",
       "Land use change                                                             0\n",
       "Animal Feed                                                                 0\n",
       "Farm                                                                        0\n",
       "Processing                                                                  0\n",
       "Transport                                                                   0\n",
       "Packging                                                                    0\n",
       "Retail                                                                      0\n",
       "Total_emissions                                                             0\n",
       "Eutrophying emissions per 1000kcal (gPO₄eq per 1000kcal)                   10\n",
       "Eutrophying emissions per kilogram (gPO₄eq per kilogram)                    5\n",
       "Eutrophying emissions per 100g protein (gPO₄eq per 100 grams protein)      16\n",
       "Freshwater withdrawals per 1000kcal (liters per 1000kcal)                  13\n",
       "Freshwater withdrawals per 100g protein (liters per 100g protein)          17\n",
       "Freshwater withdrawals per kilogram (liters per kilogram)                   5\n",
       "Greenhouse gas emissions per 1000kcal (kgCO₂eq per 1000kcal)               10\n",
       "Greenhouse gas emissions per 100g protein (kgCO₂eq per 100g protein)       16\n",
       "Land use per 1000kcal (m² per 1000kcal)                                    10\n",
       "Land use per kilogram (m² per kilogram)                                     5\n",
       "Land use per 100g protein (m² per 100g protein)                            16\n",
       "Scarcity-weighted water use per kilogram (liters per kilogram)              5\n",
       "Scarcity-weighted water use per 100g protein (liters per 100g protein)     17\n",
       "Scarcity-weighted water use per 1000kcal (liters per 1000 kilocalories)    13\n",
       "dtype: int64"
      ]
     },
     "metadata": {},
     "execution_count": 26
    }
   ],
   "source": [
    "general = pd.read_csv(\"../data/Food_production.csv\")\n",
    "general.isna().sum()"
   ]
  },
  {
   "cell_type": "code",
   "execution_count": 27,
   "metadata": {},
   "outputs": [
    {
     "output_type": "execute_result",
     "data": {
      "text/plain": [
       "(43, 23)"
      ]
     },
     "metadata": {},
     "execution_count": 27
    }
   ],
   "source": [
    "general.shape"
   ]
  },
  {
   "cell_type": "code",
   "execution_count": 39,
   "metadata": {},
   "outputs": [
    {
     "output_type": "execute_result",
     "data": {
      "text/plain": [
       "              Entity  Land use per 1000kcal  Land use per kg  \\\n",
       "0             Apples               1.312500             0.63   \n",
       "1            Bananas               3.216667             1.93   \n",
       "2             Barley               0.222000             1.11   \n",
       "3   Beef (beef herd)             119.490842           326.21   \n",
       "4  Beef (dairy herd)              15.838828            43.24   \n",
       "\n",
       "   Land use per 100g protein  \n",
       "0                  21.000000  \n",
       "1                  21.444444  \n",
       "2                        NaN  \n",
       "3                 163.595787  \n",
       "4                  21.904762  "
      ],
      "text/html": "<div>\n<style scoped>\n    .dataframe tbody tr th:only-of-type {\n        vertical-align: middle;\n    }\n\n    .dataframe tbody tr th {\n        vertical-align: top;\n    }\n\n    .dataframe thead th {\n        text-align: right;\n    }\n</style>\n<table border=\"1\" class=\"dataframe\">\n  <thead>\n    <tr style=\"text-align: right;\">\n      <th></th>\n      <th>Entity</th>\n      <th>Land use per 1000kcal</th>\n      <th>Land use per kg</th>\n      <th>Land use per 100g protein</th>\n    </tr>\n  </thead>\n  <tbody>\n    <tr>\n      <th>0</th>\n      <td>Apples</td>\n      <td>1.312500</td>\n      <td>0.63</td>\n      <td>21.000000</td>\n    </tr>\n    <tr>\n      <th>1</th>\n      <td>Bananas</td>\n      <td>3.216667</td>\n      <td>1.93</td>\n      <td>21.444444</td>\n    </tr>\n    <tr>\n      <th>2</th>\n      <td>Barley</td>\n      <td>0.222000</td>\n      <td>1.11</td>\n      <td>NaN</td>\n    </tr>\n    <tr>\n      <th>3</th>\n      <td>Beef (beef herd)</td>\n      <td>119.490842</td>\n      <td>326.21</td>\n      <td>163.595787</td>\n    </tr>\n    <tr>\n      <th>4</th>\n      <td>Beef (dairy herd)</td>\n      <td>15.838828</td>\n      <td>43.24</td>\n      <td>21.904762</td>\n    </tr>\n  </tbody>\n</table>\n</div>"
     },
     "metadata": {},
     "execution_count": 39
    }
   ],
   "source": [
    "# The units are liters (l): https://ourworldindata.org/environmental-impacts-of-food?country=#water-use\n",
    "\n",
    "land_use_kcal = pd.read_csv(\"../data/Resources_use/land-use-kcal-poore.csv\").drop([\"Code\", \"Year\"], axis = 1)\n",
    "land_use_kg = pd.read_csv(\"../data/Resources_use/land-use-per-kg-poore.csv\").drop([\"Code\", \"Year\"], axis = 1)\n",
    "land_use_protein = pd.read_csv(\"../data/Resources_use/land-use-protein-poore.csv\").drop([\"Code\", \"Year\"], axis = 1)\n",
    "\n",
    "land_use = pd.merge(land_use_kcal, land_use_kg, how = \"outer\", on = \"Entity\")\n",
    "land_use = pd.merge(land_use, land_use_protein, how = \"outer\", on = \"Entity\")\n",
    "land_use.columns = [\"Entity\", \"Land use per 1000kcal\", \"Land use per kg\", \"Land use per 100g protein\"]\n",
    "land_use.head()"
   ]
  },
  {
   "cell_type": "code",
   "execution_count": 40,
   "metadata": {},
   "outputs": [
    {
     "output_type": "execute_result",
     "data": {
      "text/plain": [
       "              Entity  Freswater withdrawls per 1000kcal  \\\n",
       "0             Apples                         375.208333   \n",
       "1            Bananas                         190.833333   \n",
       "2             Barley                           3.420000   \n",
       "3   Beef (beef herd)                         531.575092   \n",
       "4  Beef (dairy herd)                         994.249084   \n",
       "\n",
       "   Freswater withdrawls per kg  Freswater withdrawls per 100g protein  \n",
       "0                        180.1                            6003.333333  \n",
       "1                        114.5                            1272.222222  \n",
       "2                         17.1                                    NaN  \n",
       "3                       1451.2                             727.783350  \n",
       "4                       2714.3                            1375.025329  "
      ],
      "text/html": "<div>\n<style scoped>\n    .dataframe tbody tr th:only-of-type {\n        vertical-align: middle;\n    }\n\n    .dataframe tbody tr th {\n        vertical-align: top;\n    }\n\n    .dataframe thead th {\n        text-align: right;\n    }\n</style>\n<table border=\"1\" class=\"dataframe\">\n  <thead>\n    <tr style=\"text-align: right;\">\n      <th></th>\n      <th>Entity</th>\n      <th>Freswater withdrawls per 1000kcal</th>\n      <th>Freswater withdrawls per kg</th>\n      <th>Freswater withdrawls per 100g protein</th>\n    </tr>\n  </thead>\n  <tbody>\n    <tr>\n      <th>0</th>\n      <td>Apples</td>\n      <td>375.208333</td>\n      <td>180.1</td>\n      <td>6003.333333</td>\n    </tr>\n    <tr>\n      <th>1</th>\n      <td>Bananas</td>\n      <td>190.833333</td>\n      <td>114.5</td>\n      <td>1272.222222</td>\n    </tr>\n    <tr>\n      <th>2</th>\n      <td>Barley</td>\n      <td>3.420000</td>\n      <td>17.1</td>\n      <td>NaN</td>\n    </tr>\n    <tr>\n      <th>3</th>\n      <td>Beef (beef herd)</td>\n      <td>531.575092</td>\n      <td>1451.2</td>\n      <td>727.783350</td>\n    </tr>\n    <tr>\n      <th>4</th>\n      <td>Beef (dairy herd)</td>\n      <td>994.249084</td>\n      <td>2714.3</td>\n      <td>1375.025329</td>\n    </tr>\n  </tbody>\n</table>\n</div>"
     },
     "metadata": {},
     "execution_count": 40
    }
   ],
   "source": [
    "# The units are squared meters (m2): https://ourworldindata.org/environmental-impacts-of-food?country=#water-use\n",
    "\n",
    "water_use_kcal = pd.read_csv(\"../data/Resources_use/freshwater-withdrawals-per-kcal.csv\").drop([\"Code\", \"Year\"], axis = 1)\n",
    "water_use_kg = pd.read_csv(\"../data/Resources_use/freshwater-withdrawals-per-kg.csv\").drop([\"Code\", \"Year\"], axis = 1)\n",
    "water_use_protein = pd.read_csv(\"../data/Resources_use/freshwater-withdrawals-per-protein.csv\").drop([\"Code\", \"Year\"], axis = 1)\n",
    "\n",
    "water_use = pd.merge(water_use_kcal, water_use_kg, how = \"outer\", on = \"Entity\")\n",
    "water_use = pd.merge(water_use, water_use_protein, how = \"outer\", on = \"Entity\")\n",
    "water_use.columns = [\"Entity\", \"Freswater withdrawls per 1000kcal\", \"Freswater withdrawls per kg\", \"Freswater withdrawls per 100g protein\"]\n",
    "water_use.head()"
   ]
  },
  {
   "cell_type": "code",
   "execution_count": 33,
   "metadata": {},
   "outputs": [
    {
     "output_type": "execute_result",
     "data": {
      "text/plain": [
       "                Entity  Total_emissions\n",
       "0  Wheat & Rye (Bread)              1.4\n",
       "1         Maize (Meal)              1.1\n",
       "2        Barley (Beer)              1.1\n",
       "3              Oatmeal              1.6\n",
       "4                 Rice              4.0"
      ],
      "text/html": "<div>\n<style scoped>\n    .dataframe tbody tr th:only-of-type {\n        vertical-align: middle;\n    }\n\n    .dataframe tbody tr th {\n        vertical-align: top;\n    }\n\n    .dataframe thead th {\n        text-align: right;\n    }\n</style>\n<table border=\"1\" class=\"dataframe\">\n  <thead>\n    <tr style=\"text-align: right;\">\n      <th></th>\n      <th>Entity</th>\n      <th>Total_emissions</th>\n    </tr>\n  </thead>\n  <tbody>\n    <tr>\n      <th>0</th>\n      <td>Wheat &amp; Rye (Bread)</td>\n      <td>1.4</td>\n    </tr>\n    <tr>\n      <th>1</th>\n      <td>Maize (Meal)</td>\n      <td>1.1</td>\n    </tr>\n    <tr>\n      <th>2</th>\n      <td>Barley (Beer)</td>\n      <td>1.1</td>\n    </tr>\n    <tr>\n      <th>3</th>\n      <td>Oatmeal</td>\n      <td>1.6</td>\n    </tr>\n    <tr>\n      <th>4</th>\n      <td>Rice</td>\n      <td>4.0</td>\n    </tr>\n  </tbody>\n</table>\n</div>"
     },
     "metadata": {},
     "execution_count": 33
    }
   ],
   "source": [
    "general = pd.read_csv(\"../data/Food_production.csv\")\n",
    "general = general[[\"Food product\", \"Total_emissions\"]]\n",
    "general.columns = [\"Entity\", \"Total_emissions\"]\n",
    "general.head()"
   ]
  },
  {
   "cell_type": "code",
   "execution_count": 10,
   "metadata": {},
   "outputs": [
    {
     "output_type": "error",
     "ename": "NameError",
     "evalue": "name 'general' is not defined",
     "traceback": [
      "\u001b[0;31m---------------------------------------------------------------------------\u001b[0m",
      "\u001b[0;31mNameError\u001b[0m                                 Traceback (most recent call last)",
      "\u001b[0;32m<ipython-input-10-c62c8574a9db>\u001b[0m in \u001b[0;36m<module>\u001b[0;34m\u001b[0m\n\u001b[0;32m----> 1\u001b[0;31m \u001b[0mresources\u001b[0m \u001b[0;34m=\u001b[0m \u001b[0mpd\u001b[0m\u001b[0;34m.\u001b[0m\u001b[0mmerge\u001b[0m\u001b[0;34m(\u001b[0m\u001b[0mgeneral\u001b[0m\u001b[0;34m,\u001b[0m \u001b[0mland_use\u001b[0m\u001b[0;34m,\u001b[0m \u001b[0mhow\u001b[0m \u001b[0;34m=\u001b[0m \u001b[0;34m\"outer\"\u001b[0m\u001b[0;34m,\u001b[0m \u001b[0mon\u001b[0m \u001b[0;34m=\u001b[0m \u001b[0;34m\"Entity\"\u001b[0m\u001b[0;34m)\u001b[0m\u001b[0;34m\u001b[0m\u001b[0;34m\u001b[0m\u001b[0m\n\u001b[0m\u001b[1;32m      2\u001b[0m \u001b[0mresources\u001b[0m \u001b[0;34m=\u001b[0m \u001b[0mpd\u001b[0m\u001b[0;34m.\u001b[0m\u001b[0mmerge\u001b[0m\u001b[0;34m(\u001b[0m\u001b[0mresources\u001b[0m\u001b[0;34m,\u001b[0m \u001b[0mwater_use\u001b[0m\u001b[0;34m,\u001b[0m \u001b[0mhow\u001b[0m \u001b[0;34m=\u001b[0m \u001b[0;34m\"outer\"\u001b[0m\u001b[0;34m,\u001b[0m \u001b[0mon\u001b[0m \u001b[0;34m=\u001b[0m \u001b[0;34m\"Entity\"\u001b[0m\u001b[0;34m)\u001b[0m\u001b[0;34m\u001b[0m\u001b[0;34m\u001b[0m\u001b[0m\n\u001b[1;32m      3\u001b[0m \u001b[0mresources\u001b[0m\u001b[0;34m.\u001b[0m\u001b[0mhead\u001b[0m\u001b[0;34m(\u001b[0m\u001b[0;34m)\u001b[0m\u001b[0;34m\u001b[0m\u001b[0;34m\u001b[0m\u001b[0m\n",
      "\u001b[0;31mNameError\u001b[0m: name 'general' is not defined"
     ]
    }
   ],
   "source": [
    "resources = pd.merge(general, land_use, how = \"outer\", on = \"Entity\")\n",
    "resources = pd.merge(resources, water_use, how = \"outer\", on = \"Entity\")\n",
    "resources.head()"
   ]
  },
  {
   "cell_type": "code",
   "execution_count": 1,
   "metadata": {},
   "outputs": [],
   "source": [
    "def landuse_prep(path):\n",
    "\n",
    "    # I pull the data and do some manipulation\n",
    "    land_use_kcal = pd.read_csv(path + \"/land-use-kcal-poore.csv\").drop([\"Code\", \"Year\"], axis = 1)\n",
    "    land_use_kg = pd.read_csv(path + \"/land-use-per-kg-poore.csv\").drop([\"Code\", \"Year\"], axis = 1)\n",
    "    land_use_protein = pd.read_csv(path + \"/land-use-protein-poore.csv\").drop([\"Code\", \"Year\"], axis = 1)\n",
    "\n",
    "    # Merge the data into one dataframe\n",
    "    land_use = pd.merge(land_use_kcal, land_use_kg, how = \"outer\", on = \"Entity\")\n",
    "    land_use = pd.merge(land_use, land_use_protein, how = \"outer\", on = \"Entity\")\n",
    "\n",
    "    # Rename the columns\n",
    "    land_use.columns = [\"Entity\", \"Land use per 1000kcal\", \"Land use per kg\", \"Land use per 100g protein\"]\n",
    "\n",
    "    return land_use"
   ]
  },
  {
   "cell_type": "code",
   "execution_count": 2,
   "metadata": {},
   "outputs": [],
   "source": [
    "def wateruse_prep(path):\n",
    "\n",
    "    # I pull the data and do some manipulation\n",
    "    water_use_kcal = pd.read_csv(path + \"/freshwater-withdrawals-per-kcal.csv\").drop([\"Code\", \"Year\"], axis = 1)\n",
    "    water_use_kg = pd.read_csv(path + \"/freshwater-withdrawals-per-kg.csv\").drop([\"Code\", \"Year\"], axis = 1)\n",
    "    water_use_protein = pd.read_csv(path + \"/freshwater-withdrawals-per-protein.csv\").drop([\"Code\", \"Year\"], axis = 1)\n",
    "\n",
    "    # Merge the data into one dataframe\n",
    "    water_use = pd.merge(water_use_kcal, water_use_kg, how = \"outer\", on = \"Entity\")\n",
    "    water_use = pd.merge(water_use, water_use_protein, how = \"outer\", on = \"Entity\")\n",
    "\n",
    "    # Rename the columns\n",
    "    water_use.columns = [\"Entity\", \"Freswater withdrawls per 1000kcal\", \"Freswater withdrawls per kg\", \"Freswater withdrawls per 100g protein\"]\n",
    "    \n",
    "    return water_use"
   ]
  },
  {
   "cell_type": "code",
   "execution_count": 3,
   "metadata": {},
   "outputs": [],
   "source": [
    "def general_prep(path):\n",
    "    general = pd.read_csv(path + \"/Food_production.csv\")\n",
    "    general = general[[\"Food product\", \"Total_emissions\"]]\n",
    "    general.columns = [\"Entity\", \"Total_emissions\"]\n",
    "\n",
    "    return general"
   ]
  },
  {
   "cell_type": "code",
   "execution_count": 8,
   "metadata": {},
   "outputs": [],
   "source": [
    "def join_resources(path1, path2):\n",
    "    # Cleaned general data\n",
    "    general = general_prep(path1)\n",
    "\n",
    "    # Cleaned land_use and water_use data\n",
    "    land_use = landuse_prep(path2)\n",
    "    water_use = wateruse_prep(path2)\n",
    "\n",
    "    # Merge everything into sources\n",
    "    resources = pd.merge(general, land_use, how = \"outer\", on = \"Entity\")\n",
    "    resources = pd.merge(resources, water_use, how = \"outer\", on = \"Entity\")\n",
    "\n",
    "    resources = resources.set_index(\"Entity\")\n",
    "    return resources"
   ]
  },
  {
   "cell_type": "code",
   "execution_count": 11,
   "metadata": {},
   "outputs": [
    {
     "output_type": "execute_result",
     "data": {
      "text/plain": [
       "49"
      ]
     },
     "metadata": {},
     "execution_count": 11
    }
   ],
   "source": [
    "path1 = \"../data/\"\n",
    "path2 = \"../data/Resources_use/\"\n",
    "\n",
    "len(join_resources(path1, path2))"
   ]
  },
  {
   "cell_type": "code",
   "execution_count": null,
   "metadata": {},
   "outputs": [],
   "source": []
  }
 ]
}