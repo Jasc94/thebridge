{
 "metadata": {
  "language_info": {
   "codemirror_mode": {
    "name": "ipython",
    "version": 3
   },
   "file_extension": ".py",
   "mimetype": "text/x-python",
   "name": "python",
   "nbconvert_exporter": "python",
   "pygments_lexer": "ipython3",
   "version": "3.7.4"
  },
  "orig_nbformat": 2,
  "kernelspec": {
   "name": "python374jvsc74a57bd0aee8b7b246df8f9039afb4144a1f6fd8d2ca17a180786b69acc140d282b71a49",
   "display_name": "Python 3.7.4 64-bit"
  },
  "metadata": {
   "interpreter": {
    "hash": "aee8b7b246df8f9039afb4144a1f6fd8d2ca17a180786b69acc140d282b71a49"
   }
  }
 },
 "nbformat": 4,
 "nbformat_minor": 2,
 "cells": [
  {
   "cell_type": "code",
   "execution_count": 1,
   "metadata": {},
   "outputs": [],
   "source": [
    "# Import libraries\n",
    "import pandas as pd\n",
    "import numpy as np\n",
    "\n",
    "import matplotlib.pyplot as plt\n",
    "import seaborn as sns\n",
    "\n",
    "import re\n",
    "from varname import nameof\n",
    "\n",
    "import requests\n",
    "from bs4 import BeautifulSoup\n",
    "import html\n",
    "import lxml"
   ]
  },
  {
   "cell_type": "code",
   "execution_count": 2,
   "metadata": {},
   "outputs": [],
   "source": [
    "def num_cleaning(x):\n",
    "    try:\n",
    "        return re.match(r'[\\d]*[\\.\\d]*', x)[0]\n",
    "    except:\n",
    "        return x\n",
    "\n",
    "def to_float(x):\n",
    "    try:\n",
    "        return float(x)\n",
    "    except:\n",
    "        return x\n",
    "\n",
    "def mapper(data):\n",
    "    try:\n",
    "        data.shape[1]       # This is actually to check whether it is a DataFrame or not\n",
    "        return data.applymap(num_cleaning).applymap(to_float)\n",
    "    except:\n",
    "        return data.map(num_cleaning).map(to_float)\n",
    "\n",
    "def gram_to_liter(x):\n",
    "    return x * 0.001\n",
    "\n",
    "def iu_to_mcg(x):\n",
    "    # This is from international units to mcg retinol\n",
    "    # I'll use this function to convert vimain a units to something that I can compare with the australian recommendation for daily intake\n",
    "    return x * 0.3\n",
    "\n",
    "def key_nutrients():\n",
    "    return [\"protein\", \"water\", \"fiber\", \"vitamin_a\", \"thiamin\", \"riboflavin\", \"niacin\", \"vitamin_b6\", \"vitamin_b12\", \"folate\", \"vitamin_c\", \"calcium\", \"irom\", \"magnesium\", \"potassium\", \"sodium\", \"zink\"]\n",
    "\n"
   ]
  },
  {
   "cell_type": "code",
   "execution_count": 3,
   "metadata": {},
   "outputs": [],
   "source": [
    "def nutrition_prep(filename):\n",
    "    nutrition = pd.read_csv(filename)\n",
    "    nutrition.set_index(\"name\", inplace = True)\n",
    "\n",
    "    filter_ = key_nutrients()\n",
    "\n",
    "    nutrition = nutrition[filter_]\n",
    "\n",
    "    nutrition = mapper(nutrition)\n",
    "\n",
    "    nutrition[\"water\"] = nutrition[\"water\"].map(gram_to_liter)\n",
    "    nutrition[\"vitamin_a\"] = nutrition[\"vitamin_a\"].map(iu_to_mcg)\n",
    "\n",
    "    return nutrition\n",
    "\n",
    "def food_selector(foodname, df):\n",
    "    return df.loc[foodname]"
   ]
  },
  {
   "cell_type": "code",
   "execution_count": 4,
   "metadata": {},
   "outputs": [],
   "source": [
    "def dailyintake_info(url):\n",
    "    r = requests.get(url)\n",
    "    soup = BeautifulSoup(r.text, \"lxml\")\n",
    "\n",
    "    di_table = soup.find(id = \"tbl-calc\")\n",
    "    di_rows = di_table.find_all(\"tr\")\n",
    "\n",
    "    di_dict = {}\n",
    "\n",
    "    for row in di_rows:\n",
    "        items = row.find_all(\"td\")\n",
    "        if len(items) > 1:\n",
    "            di_dict[items[0].text] = items[1].text\n",
    "\n",
    "    s = pd.Series(di_dict)\n",
    "\n",
    "    return s\n",
    "\n",
    "def dailyintake_prep(serie):\n",
    "    serie = mapper(serie)\n",
    "    serie.drop(\"Iodine\", inplace = True)\n",
    "    serie.name = \"daily_intake\"\n",
    "    serie.index = key_nutrients()\n",
    "    return serie"
   ]
  },
  {
   "cell_type": "code",
   "execution_count": 5,
   "metadata": {},
   "outputs": [],
   "source": [
    "def foodquality(food, dailyintake):\n",
    "    if len(food) == len(dailyintake):\n",
    "        s = (food / dailyintake) * 100\n",
    "        s = s.sort_values(ascending = False)\n",
    "        s = s.reset_index()\n",
    "        s.columns = [\"nutrient\", \"%OfDailyIntake\"]\n",
    "        return s"
   ]
  },
  {
   "cell_type": "code",
   "execution_count": 30,
   "metadata": {},
   "outputs": [],
   "source": [
    "foodname1 = \"Cauliflower, raw\"\n",
    "foodname2 = \"Cornstarch\"\n",
    "filename = \"../data/Nutritional_values.csv\"\n",
    "url_w_30 = \"https://www.eatforhealth.gov.au/node/1813927/done?sid=806757&token=05ce5572f5618ac641c9f2395b28c59f\""
   ]
  },
  {
   "cell_type": "code",
   "execution_count": 31,
   "metadata": {},
   "outputs": [],
   "source": [
    "df = nutrition_prep(filename)\n",
    "food1 = food_selector(foodname1, df)\n",
    "food2 = food_selector(foodname2, df)"
   ]
  },
  {
   "cell_type": "code",
   "execution_count": 15,
   "metadata": {},
   "outputs": [
    {
     "output_type": "execute_result",
     "data": {
      "text/plain": [
       "              protein  water  fiber  vitamin_a  thiamin  riboflavin  niacin  \\\n",
       "daily_intake     46.0    2.1   25.0      700.0      1.1         1.1    14.0   \n",
       "\n",
       "              vitamin_b6  vitamin_b12  folate  vitamin_c  calcium  irom  \\\n",
       "daily_intake         1.3          2.4   400.0       45.0   1000.0  18.0   \n",
       "\n",
       "              magnesium  potassium  sodium  zink  \n",
       "daily_intake      310.0     2800.0   460.0   8.0  "
      ],
      "text/html": "<div>\n<style scoped>\n    .dataframe tbody tr th:only-of-type {\n        vertical-align: middle;\n    }\n\n    .dataframe tbody tr th {\n        vertical-align: top;\n    }\n\n    .dataframe thead th {\n        text-align: right;\n    }\n</style>\n<table border=\"1\" class=\"dataframe\">\n  <thead>\n    <tr style=\"text-align: right;\">\n      <th></th>\n      <th>protein</th>\n      <th>water</th>\n      <th>fiber</th>\n      <th>vitamin_a</th>\n      <th>thiamin</th>\n      <th>riboflavin</th>\n      <th>niacin</th>\n      <th>vitamin_b6</th>\n      <th>vitamin_b12</th>\n      <th>folate</th>\n      <th>vitamin_c</th>\n      <th>calcium</th>\n      <th>irom</th>\n      <th>magnesium</th>\n      <th>potassium</th>\n      <th>sodium</th>\n      <th>zink</th>\n    </tr>\n  </thead>\n  <tbody>\n    <tr>\n      <th>daily_intake</th>\n      <td>46.0</td>\n      <td>2.1</td>\n      <td>25.0</td>\n      <td>700.0</td>\n      <td>1.1</td>\n      <td>1.1</td>\n      <td>14.0</td>\n      <td>1.3</td>\n      <td>2.4</td>\n      <td>400.0</td>\n      <td>45.0</td>\n      <td>1000.0</td>\n      <td>18.0</td>\n      <td>310.0</td>\n      <td>2800.0</td>\n      <td>460.0</td>\n      <td>8.0</td>\n    </tr>\n  </tbody>\n</table>\n</div>"
     },
     "metadata": {},
     "execution_count": 15
    }
   ],
   "source": [
    "di = dailyintake_info(url_w_30)\n",
    "di = dailyintake_prep(di)\n",
    "pd.DataFrame(di).T"
   ]
  },
  {
   "cell_type": "code",
   "execution_count": 9,
   "metadata": {},
   "outputs": [],
   "source": [
    "def foodquality(food, dailyintake):\n",
    "    if len(food) == len(dailyintake):\n",
    "        df = pd.merge(food, dailyintake, how = \"outer\", left_index = True, right_index = True)\n",
    "        df[\"%OfDailyIntake\"] = (food / dailyintake) * 100\n",
    "        return df.T"
   ]
  },
  {
   "cell_type": "code",
   "execution_count": 10,
   "metadata": {},
   "outputs": [
    {
     "output_type": "execute_result",
     "data": {
      "text/plain": [
       "                    protein     water  fiber  vitamin_a   thiamin  riboflavin  \\\n",
       "Cauliflower, raw   1.920000  0.092070    2.0        0.0  0.050000    0.060000   \n",
       "daily_intake      46.000000  2.100000   25.0      700.0  1.100000    1.100000   \n",
       "%OfDailyIntake     4.173913  4.384286    8.0        0.0  4.545455    5.454545   \n",
       "\n",
       "                     niacin  vitamin_b6  vitamin_b12  folate   vitamin_c  \\\n",
       "Cauliflower, raw   0.507000    0.184000          0.0   57.00   48.200000   \n",
       "daily_intake      14.000000    1.300000          2.4  400.00   45.000000   \n",
       "%OfDailyIntake     3.621429   14.153846          0.0   14.25  107.111111   \n",
       "\n",
       "                  calcium       irom  magnesium    potassium      sodium  \\\n",
       "Cauliflower, raw     22.0   0.420000   15.00000   299.000000   30.000000   \n",
       "daily_intake       1000.0  18.000000  310.00000  2800.000000  460.000000   \n",
       "%OfDailyIntake        2.2   2.333333    4.83871    10.678571    6.521739   \n",
       "\n",
       "                   zink  \n",
       "Cauliflower, raw  0.270  \n",
       "daily_intake      8.000  \n",
       "%OfDailyIntake    3.375  "
      ],
      "text/html": "<div>\n<style scoped>\n    .dataframe tbody tr th:only-of-type {\n        vertical-align: middle;\n    }\n\n    .dataframe tbody tr th {\n        vertical-align: top;\n    }\n\n    .dataframe thead th {\n        text-align: right;\n    }\n</style>\n<table border=\"1\" class=\"dataframe\">\n  <thead>\n    <tr style=\"text-align: right;\">\n      <th></th>\n      <th>protein</th>\n      <th>water</th>\n      <th>fiber</th>\n      <th>vitamin_a</th>\n      <th>thiamin</th>\n      <th>riboflavin</th>\n      <th>niacin</th>\n      <th>vitamin_b6</th>\n      <th>vitamin_b12</th>\n      <th>folate</th>\n      <th>vitamin_c</th>\n      <th>calcium</th>\n      <th>irom</th>\n      <th>magnesium</th>\n      <th>potassium</th>\n      <th>sodium</th>\n      <th>zink</th>\n    </tr>\n  </thead>\n  <tbody>\n    <tr>\n      <th>Cauliflower, raw</th>\n      <td>1.920000</td>\n      <td>0.092070</td>\n      <td>2.0</td>\n      <td>0.0</td>\n      <td>0.050000</td>\n      <td>0.060000</td>\n      <td>0.507000</td>\n      <td>0.184000</td>\n      <td>0.0</td>\n      <td>57.00</td>\n      <td>48.200000</td>\n      <td>22.0</td>\n      <td>0.420000</td>\n      <td>15.00000</td>\n      <td>299.000000</td>\n      <td>30.000000</td>\n      <td>0.270</td>\n    </tr>\n    <tr>\n      <th>daily_intake</th>\n      <td>46.000000</td>\n      <td>2.100000</td>\n      <td>25.0</td>\n      <td>700.0</td>\n      <td>1.100000</td>\n      <td>1.100000</td>\n      <td>14.000000</td>\n      <td>1.300000</td>\n      <td>2.4</td>\n      <td>400.00</td>\n      <td>45.000000</td>\n      <td>1000.0</td>\n      <td>18.000000</td>\n      <td>310.00000</td>\n      <td>2800.000000</td>\n      <td>460.000000</td>\n      <td>8.000</td>\n    </tr>\n    <tr>\n      <th>%OfDailyIntake</th>\n      <td>4.173913</td>\n      <td>4.384286</td>\n      <td>8.0</td>\n      <td>0.0</td>\n      <td>4.545455</td>\n      <td>5.454545</td>\n      <td>3.621429</td>\n      <td>14.153846</td>\n      <td>0.0</td>\n      <td>14.25</td>\n      <td>107.111111</td>\n      <td>2.2</td>\n      <td>2.333333</td>\n      <td>4.83871</td>\n      <td>10.678571</td>\n      <td>6.521739</td>\n      <td>3.375</td>\n    </tr>\n  </tbody>\n</table>\n</div>"
     },
     "metadata": {},
     "execution_count": 10
    }
   ],
   "source": [
    "foodquality(food, di)"
   ]
  },
  {
   "cell_type": "code",
   "execution_count": 27,
   "metadata": {},
   "outputs": [],
   "source": [
    "def foodquality2(dailyintake, foods):\n",
    "    df = pd.DataFrame(dailyintake)\n",
    "    count = 1\n",
    "    for food in foods:\n",
    "        if len(food) == len(dailyintake):\n",
    "            df = pd.merge(df, food, how = \"outer\", left_index = True, right_index = True)\n",
    "            df[\"%OfDailyIntake_\" + str(count)] = (food / dailyintake) * 100\n",
    "            count += 1\n",
    "\n",
    "    return df.T"
   ]
  },
  {
   "cell_type": "code",
   "execution_count": 32,
   "metadata": {},
   "outputs": [
    {
     "output_type": "execute_result",
     "data": {
      "text/plain": [
       "                    protein     water  fiber  vitamin_a   thiamin  riboflavin  \\\n",
       "daily_intake      46.000000  2.100000   25.0      700.0  1.100000    1.100000   \n",
       "Cauliflower, raw   1.920000  0.092070    2.0        0.0  0.050000    0.060000   \n",
       "%OfDailyIntake_1   4.173913  4.384286    8.0        0.0  4.545455    5.454545   \n",
       "Cornstarch         0.260000  0.008320    0.9        0.0  0.000000    0.000000   \n",
       "%OfDailyIntake_2   0.565217  0.396190    3.6        0.0  0.000000    0.000000   \n",
       "\n",
       "                     niacin  vitamin_b6  vitamin_b12  folate   vitamin_c  \\\n",
       "daily_intake      14.000000    1.300000          2.4  400.00   45.000000   \n",
       "Cauliflower, raw   0.507000    0.184000          0.0   57.00   48.200000   \n",
       "%OfDailyIntake_1   3.621429   14.153846          0.0   14.25  107.111111   \n",
       "Cornstarch         0.000000    0.000000          0.0    0.00    0.000000   \n",
       "%OfDailyIntake_2   0.000000    0.000000          0.0    0.00    0.000000   \n",
       "\n",
       "                  calcium       irom   magnesium    potassium      sodium  \\\n",
       "daily_intake       1000.0  18.000000  310.000000  2800.000000  460.000000   \n",
       "Cauliflower, raw     22.0   0.420000   15.000000   299.000000   30.000000   \n",
       "%OfDailyIntake_1      2.2   2.333333    4.838710    10.678571    6.521739   \n",
       "Cornstarch            2.0   0.470000    3.000000     3.000000    9.000000   \n",
       "%OfDailyIntake_2      0.2   2.611111    0.967742     0.107143    1.956522   \n",
       "\n",
       "                   zink  \n",
       "daily_intake      8.000  \n",
       "Cauliflower, raw  0.270  \n",
       "%OfDailyIntake_1  3.375  \n",
       "Cornstarch        0.060  \n",
       "%OfDailyIntake_2  0.750  "
      ],
      "text/html": "<div>\n<style scoped>\n    .dataframe tbody tr th:only-of-type {\n        vertical-align: middle;\n    }\n\n    .dataframe tbody tr th {\n        vertical-align: top;\n    }\n\n    .dataframe thead th {\n        text-align: right;\n    }\n</style>\n<table border=\"1\" class=\"dataframe\">\n  <thead>\n    <tr style=\"text-align: right;\">\n      <th></th>\n      <th>protein</th>\n      <th>water</th>\n      <th>fiber</th>\n      <th>vitamin_a</th>\n      <th>thiamin</th>\n      <th>riboflavin</th>\n      <th>niacin</th>\n      <th>vitamin_b6</th>\n      <th>vitamin_b12</th>\n      <th>folate</th>\n      <th>vitamin_c</th>\n      <th>calcium</th>\n      <th>irom</th>\n      <th>magnesium</th>\n      <th>potassium</th>\n      <th>sodium</th>\n      <th>zink</th>\n    </tr>\n  </thead>\n  <tbody>\n    <tr>\n      <th>daily_intake</th>\n      <td>46.000000</td>\n      <td>2.100000</td>\n      <td>25.0</td>\n      <td>700.0</td>\n      <td>1.100000</td>\n      <td>1.100000</td>\n      <td>14.000000</td>\n      <td>1.300000</td>\n      <td>2.4</td>\n      <td>400.00</td>\n      <td>45.000000</td>\n      <td>1000.0</td>\n      <td>18.000000</td>\n      <td>310.000000</td>\n      <td>2800.000000</td>\n      <td>460.000000</td>\n      <td>8.000</td>\n    </tr>\n    <tr>\n      <th>Cauliflower, raw</th>\n      <td>1.920000</td>\n      <td>0.092070</td>\n      <td>2.0</td>\n      <td>0.0</td>\n      <td>0.050000</td>\n      <td>0.060000</td>\n      <td>0.507000</td>\n      <td>0.184000</td>\n      <td>0.0</td>\n      <td>57.00</td>\n      <td>48.200000</td>\n      <td>22.0</td>\n      <td>0.420000</td>\n      <td>15.000000</td>\n      <td>299.000000</td>\n      <td>30.000000</td>\n      <td>0.270</td>\n    </tr>\n    <tr>\n      <th>%OfDailyIntake_1</th>\n      <td>4.173913</td>\n      <td>4.384286</td>\n      <td>8.0</td>\n      <td>0.0</td>\n      <td>4.545455</td>\n      <td>5.454545</td>\n      <td>3.621429</td>\n      <td>14.153846</td>\n      <td>0.0</td>\n      <td>14.25</td>\n      <td>107.111111</td>\n      <td>2.2</td>\n      <td>2.333333</td>\n      <td>4.838710</td>\n      <td>10.678571</td>\n      <td>6.521739</td>\n      <td>3.375</td>\n    </tr>\n    <tr>\n      <th>Cornstarch</th>\n      <td>0.260000</td>\n      <td>0.008320</td>\n      <td>0.9</td>\n      <td>0.0</td>\n      <td>0.000000</td>\n      <td>0.000000</td>\n      <td>0.000000</td>\n      <td>0.000000</td>\n      <td>0.0</td>\n      <td>0.00</td>\n      <td>0.000000</td>\n      <td>2.0</td>\n      <td>0.470000</td>\n      <td>3.000000</td>\n      <td>3.000000</td>\n      <td>9.000000</td>\n      <td>0.060</td>\n    </tr>\n    <tr>\n      <th>%OfDailyIntake_2</th>\n      <td>0.565217</td>\n      <td>0.396190</td>\n      <td>3.6</td>\n      <td>0.0</td>\n      <td>0.000000</td>\n      <td>0.000000</td>\n      <td>0.000000</td>\n      <td>0.000000</td>\n      <td>0.0</td>\n      <td>0.00</td>\n      <td>0.000000</td>\n      <td>0.2</td>\n      <td>2.611111</td>\n      <td>0.967742</td>\n      <td>0.107143</td>\n      <td>1.956522</td>\n      <td>0.750</td>\n    </tr>\n  </tbody>\n</table>\n</div>"
     },
     "metadata": {},
     "execution_count": 32
    }
   ],
   "source": [
    "foodquality2(di, [food1, food2])"
   ]
  },
  {
   "cell_type": "code",
   "execution_count": 23,
   "metadata": {},
   "outputs": [
    {
     "output_type": "execute_result",
     "data": {
      "text/plain": [
       "17"
      ]
     },
     "metadata": {},
     "execution_count": 23
    }
   ],
   "source": [
    "len(food)"
   ]
  },
  {
   "cell_type": "code",
   "execution_count": 33,
   "metadata": {},
   "outputs": [
    {
     "output_type": "execute_result",
     "data": {
      "text/plain": [
       "                    protein    water  fiber  vitamin_a  thiamin  riboflavin  \\\n",
       "name                                                                          \n",
       "Cornstarch             0.26  0.00832    0.9        0.0    0.000       0.000   \n",
       "Nuts, pecans           9.17  0.00352    9.6       16.8    0.660       0.130   \n",
       "Eggplant, raw          0.98  0.09230    3.0        6.9    0.039       0.037   \n",
       "Teff, uncooked        13.30  0.00882    8.0        2.7    0.390       0.270   \n",
       "Sherbet, orange        1.10  0.06610    1.3       13.8    0.027       0.097   \n",
       "Cauliflower, raw       1.92  0.09207    2.0        0.0    0.050       0.060   \n",
       "Taro leaves, raw       4.98  0.08566    3.7     1447.5    0.209       0.456   \n",
       "Lamb, raw, ground     16.56  0.05947    0.0        0.0    0.110       0.210   \n",
       "Cheese, camembert     19.80  0.05180    0.0      246.0    0.028       0.488   \n",
       "Vegetarian fillets    23.00  0.04500    6.1        0.0    1.100       0.900   \n",
       "\n",
       "                    niacin  vitamin_b6  vitamin_b12  folate  vitamin_c  \\\n",
       "name                                                                     \n",
       "Cornstarch           0.000       0.000         0.00     0.0        0.0   \n",
       "Nuts, pecans         1.167       0.210         0.00    22.0        1.1   \n",
       "Eggplant, raw        0.649       0.084         0.00    22.0        2.2   \n",
       "Teff, uncooked       3.363       0.482         0.00     0.0        0.0   \n",
       "Sherbet, orange      0.063       0.023         0.13     4.0        2.3   \n",
       "Cauliflower, raw     0.507       0.184         0.00    57.0       48.2   \n",
       "Taro leaves, raw     1.513       0.146         0.00   126.0       52.0   \n",
       "Lamb, raw, ground    5.960       0.130         2.31    18.0        0.0   \n",
       "Cheese, camembert    0.630       0.227         1.30    62.0        0.0   \n",
       "Vegetarian fillets  12.000       1.500         4.20   102.0        0.0   \n",
       "\n",
       "                    calcium  irom  magnesium  potassium  sodium  zink  \n",
       "name                                                                   \n",
       "Cornstarch              2.0  0.47        3.0        3.0     9.0  0.06  \n",
       "Nuts, pecans           70.0  2.53      121.0      410.0     0.0  4.53  \n",
       "Eggplant, raw           9.0  0.23       14.0      229.0     2.0  0.16  \n",
       "Teff, uncooked        180.0  7.63      184.0      427.0    12.0  3.63  \n",
       "Sherbet, orange        54.0  0.14        8.0       96.0    46.0  0.48  \n",
       "Cauliflower, raw       22.0  0.42       15.0      299.0    30.0  0.27  \n",
       "Taro leaves, raw      107.0  2.25       45.0      648.0     3.0  0.41  \n",
       "Lamb, raw, ground      16.0  1.55       21.0      222.0    59.0  3.41  \n",
       "Cheese, camembert     388.0  0.33       20.0      187.0   842.0  2.38  \n",
       "Vegetarian fillets     95.0  2.00       23.0      600.0   490.0  1.40  "
      ],
      "text/html": "<div>\n<style scoped>\n    .dataframe tbody tr th:only-of-type {\n        vertical-align: middle;\n    }\n\n    .dataframe tbody tr th {\n        vertical-align: top;\n    }\n\n    .dataframe thead th {\n        text-align: right;\n    }\n</style>\n<table border=\"1\" class=\"dataframe\">\n  <thead>\n    <tr style=\"text-align: right;\">\n      <th></th>\n      <th>protein</th>\n      <th>water</th>\n      <th>fiber</th>\n      <th>vitamin_a</th>\n      <th>thiamin</th>\n      <th>riboflavin</th>\n      <th>niacin</th>\n      <th>vitamin_b6</th>\n      <th>vitamin_b12</th>\n      <th>folate</th>\n      <th>vitamin_c</th>\n      <th>calcium</th>\n      <th>irom</th>\n      <th>magnesium</th>\n      <th>potassium</th>\n      <th>sodium</th>\n      <th>zink</th>\n    </tr>\n    <tr>\n      <th>name</th>\n      <th></th>\n      <th></th>\n      <th></th>\n      <th></th>\n      <th></th>\n      <th></th>\n      <th></th>\n      <th></th>\n      <th></th>\n      <th></th>\n      <th></th>\n      <th></th>\n      <th></th>\n      <th></th>\n      <th></th>\n      <th></th>\n      <th></th>\n    </tr>\n  </thead>\n  <tbody>\n    <tr>\n      <th>Cornstarch</th>\n      <td>0.26</td>\n      <td>0.00832</td>\n      <td>0.9</td>\n      <td>0.0</td>\n      <td>0.000</td>\n      <td>0.000</td>\n      <td>0.000</td>\n      <td>0.000</td>\n      <td>0.00</td>\n      <td>0.0</td>\n      <td>0.0</td>\n      <td>2.0</td>\n      <td>0.47</td>\n      <td>3.0</td>\n      <td>3.0</td>\n      <td>9.0</td>\n      <td>0.06</td>\n    </tr>\n    <tr>\n      <th>Nuts, pecans</th>\n      <td>9.17</td>\n      <td>0.00352</td>\n      <td>9.6</td>\n      <td>16.8</td>\n      <td>0.660</td>\n      <td>0.130</td>\n      <td>1.167</td>\n      <td>0.210</td>\n      <td>0.00</td>\n      <td>22.0</td>\n      <td>1.1</td>\n      <td>70.0</td>\n      <td>2.53</td>\n      <td>121.0</td>\n      <td>410.0</td>\n      <td>0.0</td>\n      <td>4.53</td>\n    </tr>\n    <tr>\n      <th>Eggplant, raw</th>\n      <td>0.98</td>\n      <td>0.09230</td>\n      <td>3.0</td>\n      <td>6.9</td>\n      <td>0.039</td>\n      <td>0.037</td>\n      <td>0.649</td>\n      <td>0.084</td>\n      <td>0.00</td>\n      <td>22.0</td>\n      <td>2.2</td>\n      <td>9.0</td>\n      <td>0.23</td>\n      <td>14.0</td>\n      <td>229.0</td>\n      <td>2.0</td>\n      <td>0.16</td>\n    </tr>\n    <tr>\n      <th>Teff, uncooked</th>\n      <td>13.30</td>\n      <td>0.00882</td>\n      <td>8.0</td>\n      <td>2.7</td>\n      <td>0.390</td>\n      <td>0.270</td>\n      <td>3.363</td>\n      <td>0.482</td>\n      <td>0.00</td>\n      <td>0.0</td>\n      <td>0.0</td>\n      <td>180.0</td>\n      <td>7.63</td>\n      <td>184.0</td>\n      <td>427.0</td>\n      <td>12.0</td>\n      <td>3.63</td>\n    </tr>\n    <tr>\n      <th>Sherbet, orange</th>\n      <td>1.10</td>\n      <td>0.06610</td>\n      <td>1.3</td>\n      <td>13.8</td>\n      <td>0.027</td>\n      <td>0.097</td>\n      <td>0.063</td>\n      <td>0.023</td>\n      <td>0.13</td>\n      <td>4.0</td>\n      <td>2.3</td>\n      <td>54.0</td>\n      <td>0.14</td>\n      <td>8.0</td>\n      <td>96.0</td>\n      <td>46.0</td>\n      <td>0.48</td>\n    </tr>\n    <tr>\n      <th>Cauliflower, raw</th>\n      <td>1.92</td>\n      <td>0.09207</td>\n      <td>2.0</td>\n      <td>0.0</td>\n      <td>0.050</td>\n      <td>0.060</td>\n      <td>0.507</td>\n      <td>0.184</td>\n      <td>0.00</td>\n      <td>57.0</td>\n      <td>48.2</td>\n      <td>22.0</td>\n      <td>0.42</td>\n      <td>15.0</td>\n      <td>299.0</td>\n      <td>30.0</td>\n      <td>0.27</td>\n    </tr>\n    <tr>\n      <th>Taro leaves, raw</th>\n      <td>4.98</td>\n      <td>0.08566</td>\n      <td>3.7</td>\n      <td>1447.5</td>\n      <td>0.209</td>\n      <td>0.456</td>\n      <td>1.513</td>\n      <td>0.146</td>\n      <td>0.00</td>\n      <td>126.0</td>\n      <td>52.0</td>\n      <td>107.0</td>\n      <td>2.25</td>\n      <td>45.0</td>\n      <td>648.0</td>\n      <td>3.0</td>\n      <td>0.41</td>\n    </tr>\n    <tr>\n      <th>Lamb, raw, ground</th>\n      <td>16.56</td>\n      <td>0.05947</td>\n      <td>0.0</td>\n      <td>0.0</td>\n      <td>0.110</td>\n      <td>0.210</td>\n      <td>5.960</td>\n      <td>0.130</td>\n      <td>2.31</td>\n      <td>18.0</td>\n      <td>0.0</td>\n      <td>16.0</td>\n      <td>1.55</td>\n      <td>21.0</td>\n      <td>222.0</td>\n      <td>59.0</td>\n      <td>3.41</td>\n    </tr>\n    <tr>\n      <th>Cheese, camembert</th>\n      <td>19.80</td>\n      <td>0.05180</td>\n      <td>0.0</td>\n      <td>246.0</td>\n      <td>0.028</td>\n      <td>0.488</td>\n      <td>0.630</td>\n      <td>0.227</td>\n      <td>1.30</td>\n      <td>62.0</td>\n      <td>0.0</td>\n      <td>388.0</td>\n      <td>0.33</td>\n      <td>20.0</td>\n      <td>187.0</td>\n      <td>842.0</td>\n      <td>2.38</td>\n    </tr>\n    <tr>\n      <th>Vegetarian fillets</th>\n      <td>23.00</td>\n      <td>0.04500</td>\n      <td>6.1</td>\n      <td>0.0</td>\n      <td>1.100</td>\n      <td>0.900</td>\n      <td>12.000</td>\n      <td>1.500</td>\n      <td>4.20</td>\n      <td>102.0</td>\n      <td>0.0</td>\n      <td>95.0</td>\n      <td>2.00</td>\n      <td>23.0</td>\n      <td>600.0</td>\n      <td>490.0</td>\n      <td>1.40</td>\n    </tr>\n  </tbody>\n</table>\n</div>"
     },
     "metadata": {},
     "execution_count": 33
    }
   ],
   "source": [
    "df.head(10)"
   ]
  },
  {
   "cell_type": "code",
   "execution_count": null,
   "metadata": {},
   "outputs": [],
   "source": []
  }
 ]
}