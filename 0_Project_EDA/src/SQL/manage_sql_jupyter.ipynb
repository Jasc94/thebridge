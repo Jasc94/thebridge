{
 "metadata": {
  "language_info": {
   "codemirror_mode": {
    "name": "ipython",
    "version": 3
   },
   "file_extension": ".py",
   "mimetype": "text/x-python",
   "name": "python",
   "nbconvert_exporter": "python",
   "pygments_lexer": "ipython3",
   "version": "3.7.4"
  },
  "orig_nbformat": 2,
  "kernelspec": {
   "name": "python374jvsc74a57bd0aee8b7b246df8f9039afb4144a1f6fd8d2ca17a180786b69acc140d282b71a49",
   "display_name": "Python 3.7.4 64-bit"
  },
  "metadata": {
   "interpreter": {
    "hash": "aee8b7b246df8f9039afb4144a1f6fd8d2ca17a180786b69acc140d282b71a49"
   }
  }
 },
 "nbformat": 4,
 "nbformat_minor": 2,
 "cells": [
  {
   "cell_type": "code",
   "execution_count": 1,
   "metadata": {},
   "outputs": [],
   "source": [
    "from jsons import read_json_to_dict\n",
    "from mysql_driver import MySQL\n",
    "import pandas as pd\n",
    "from sqlalchemy import create_engine\n",
    "\n",
    "import sys, os\n",
    "\n",
    "sys.path.append(os.path.dirname(os.getcwd()))\n",
    "\n",
    "import utils.folder_tb as fo\n",
    "import utils.mining_data_tb as md"
   ]
  },
  {
   "cell_type": "code",
   "execution_count": 2,
   "metadata": {},
   "outputs": [],
   "source": [
    "# Read the json\n",
    "read_json = read_json_to_dict(\"sql_server_settings.json\")\n",
    "\n",
    "IP_DNS = read_json[\"IP_DNS\"]\n",
    "USER = read_json[\"USER\"]\n",
    "PASSWORD = read_json[\"PASSWORD\"]\n",
    "DB_NAME = read_json[\"DB_NAME\"]\n",
    "PORT = read_json[\"PORT\"]"
   ]
  },
  {
   "source": [
    "# Daily Intakes data insertion"
   ],
   "cell_type": "markdown",
   "metadata": {}
  },
  {
   "source": [
    "# Connect to MySQL\n",
    "\n",
    "mysql_db = MySQL(IP_DNS, USER, PASSWORD, DB_NAME, PORT)\n",
    "mysql_db.connect()"
   ],
   "cell_type": "markdown",
   "metadata": {}
  },
  {
   "source": [
    "# Create table\n",
    "\n",
    "create_table_sql = \"\"\"CREATE TABLE dailyintakes(\n",
    "    ID INT(20) NOT NULL AUTO_INCREMENT,\n",
    "    GENDER VARCHAR(20) NOT NULL,\n",
    "    AGE INT(2) NOT NULL,\n",
    "    URL VARCHAR(200),\n",
    "    PRIMARY KEY (ID))\"\"\"\n",
    "\n",
    "mysql_db.execute_interactive_sql(create_table_sql)"
   ],
   "cell_type": "markdown",
   "metadata": {}
  },
  {
   "source": [
    "select_sql = \"\"\"SELECT * FROM dailyintakes\"\"\"\n",
    "\n",
    "mysql_db.execute_get_sql(select_sql)"
   ],
   "cell_type": "markdown",
   "metadata": {}
  },
  {
   "source": [
    "for ind, row in daily_intake_data.iterrows():\n",
    "    to_insert = list(row)\n",
    "    \n",
    "    to_insert_sql = mysql_db.generate_insert_into_dailyintakes_sql(to_insert)\n",
    "    mysql_db.execute_interactive_sql(to_insert_sql)"
   ],
   "cell_type": "markdown",
   "metadata": {}
  },
  {
   "source": [
    "select_sql = \"\"\"SELECT * FROM dailyintakes\"\"\"\n",
    "\n",
    "mysql_db.execute_get_sql(select_sql)"
   ],
   "cell_type": "markdown",
   "metadata": {}
  },
  {
   "source": [
    "# More tests\n",
    "\n",
    "mysql_db.close()\n",
    "\n",
    "select_sql = \"\"\"SELECT * FROM dailyintakes\"\"\"\n",
    "\n",
    "mysql_db.execute_get_sql(select_sql)"
   ],
   "cell_type": "markdown",
   "metadata": {}
  },
  {
   "source": [
    "# Resources data insertion"
   ],
   "cell_type": "markdown",
   "metadata": {}
  },
  {
   "cell_type": "code",
   "execution_count": 3,
   "metadata": {},
   "outputs": [
    {
     "output_type": "execute_result",
     "data": {
      "text/plain": [
       "Index(['Food', 'Total_emissions', 'Land use per 1000kcal', 'Land use per kg',\n",
       "       'Land use per 100g protein', 'Freswater withdrawls per 1000kcal',\n",
       "       'Freswater withdrawls per kg', 'Freswater withdrawls per 100g protein',\n",
       "       'Origin'],\n",
       "      dtype='object')"
      ]
     },
     "metadata": {},
     "execution_count": 3
    }
   ],
   "source": [
    "path2 = fo.path_to_folder(2, \"data\") + \"CLEANED_Resources.csv\"\n",
    "resources_df = pd.read_csv(path2)\n",
    "\n",
    "resources_df = resources_df.applymap(md.to_string)\n",
    "\n",
    "column_names = list(resources_df.columns)\n",
    "column_names.pop(0)\n",
    "column_names.insert(0, \"Food\")\n",
    "\n",
    "resources_df.columns = column_names\n",
    "resources_df.columns"
   ]
  },
  {
   "cell_type": "code",
   "execution_count": 4,
   "metadata": {},
   "outputs": [
    {
     "output_type": "stream",
     "name": "stdout",
     "text": [
      "<class 'pandas.core.frame.DataFrame'>\nRangeIndex: 45 entries, 0 to 44\nData columns (total 9 columns):\n #   Column                                 Non-Null Count  Dtype \n---  ------                                 --------------  ----- \n 0   Food                                   45 non-null     object\n 1   Total_emissions                        45 non-null     object\n 2   Land use per 1000kcal                  45 non-null     object\n 3   Land use per kg                        45 non-null     object\n 4   Land use per 100g protein              45 non-null     object\n 5   Freswater withdrawls per 1000kcal      45 non-null     object\n 6   Freswater withdrawls per kg            45 non-null     object\n 7   Freswater withdrawls per 100g protein  45 non-null     object\n 8   Origin                                 45 non-null     object\ndtypes: object(9)\nmemory usage: 3.3+ KB\n"
     ]
    }
   ],
   "source": [
    "resources_df.info()"
   ]
  },
  {
   "cell_type": "code",
   "execution_count": 5,
   "metadata": {},
   "outputs": [
    {
     "output_type": "stream",
     "name": "stdout",
     "text": [
      "Connected to MySQL server [45395203b_ds_april_2021_db]\n"
     ]
    },
    {
     "output_type": "execute_result",
     "data": {
      "text/plain": [
       "<pymysql.connections.Connection at 0x106486e50>"
      ]
     },
     "metadata": {},
     "execution_count": 5
    }
   ],
   "source": [
    "# Connect to MySQL\n",
    "\n",
    "mysql_db = MySQL(IP_DNS, USER, PASSWORD, DB_NAME, PORT)\n",
    "mysql_db.connect()"
   ]
  },
  {
   "source": [
    "# Create table\n",
    "\n",
    "create_table_sql = \"\"\"CREATE TABLE resources(\n",
    "    ID INT(20) AUTO_INCREMENT,\n",
    "    FOOD VARCHAR(300),\n",
    "    TOTAL_EMISSIONS INT,\n",
    "    LAND_USE_PER_1000KCAL INT,\n",
    "    LAND_USE_PER_KG INT,\n",
    "    LAND_USE_PER_100G_PROTEIN INT,\n",
    "    FRESHWATER_WITHDRAWLS_PER_1000KCAL INT,\n",
    "    FRESHWATER_WITHDRAWLS_PER_KG INT,\n",
    "    FRESHWATER_WITHDRAWLS_PER_100G_PROTEIN INT,\n",
    "    ORIGIN VARCHAR(50),\n",
    "    PRIMARY KEY (ID))\"\"\"\n",
    "\n",
    "mysql_db.execute_interactive_sql(create_table_sql)"
   ],
   "cell_type": "code",
   "metadata": {},
   "execution_count": 9,
   "outputs": [
    {
     "output_type": "stream",
     "name": "stdout",
     "text": [
      "Executed \n\nCREATE TABLE resources(\n    ID INT(20) AUTO_INCREMENT,\n    FOOD VARCHAR(300),\n    TOTAL_EMISSIONS INT,\n    LAND_USE_PER_1000KCAL INT,\n    LAND_USE_PER_KG INT,\n    LAND_USE_PER_100G_PROTEIN INT,\n    FRESHWATER_WITHDRAWLS_PER_1000KCAL INT,\n    FRESHWATER_WITHDRAWLS_PER_KG INT,\n    FRESHWATER_WITHDRAWLS_PER_100G_PROTEIN INT,\n    ORIGIN VARCHAR(50),\n    PRIMARY KEY (ID))\n\n succesfully\n"
     ]
    },
    {
     "output_type": "execute_result",
     "data": {
      "text/plain": [
       "1"
      ]
     },
     "metadata": {},
     "execution_count": 9
    }
   ]
  },
  {
   "cell_type": "code",
   "execution_count": 18,
   "metadata": {},
   "outputs": [
    {
     "output_type": "execute_result",
     "data": {
      "text/plain": [
       "         Food Total_emissions Land use per 1000kcal Land use per kg  \\\n",
       "0     Oatmeal             1.6           2.897445673             7.6   \n",
       "1        Rice             4.0           0.759631036             2.8   \n",
       "2    Potatoes             0.3           1.202185792            0.88   \n",
       "3     Cassava             0.9           1.858316222            1.81   \n",
       "4  Cane Sugar             2.6           0.581196581            2.04   \n",
       "\n",
       "  Land use per 100g protein Freswater withdrawls per 1000kcal  \\\n",
       "0               5.846153846                       183.9115517   \n",
       "1               3.943661972                       609.9837222   \n",
       "2               5.176470588                       80.73770492   \n",
       "3               20.11111111                               nan   \n",
       "4                       nan                       176.6666667   \n",
       "\n",
       "  Freswater withdrawls per kg Freswater withdrawls per 100g protein  \\\n",
       "0                       482.4                           371.0769231   \n",
       "1                      2248.4                           3166.760563   \n",
       "2                        59.1                           347.6470588   \n",
       "3                         0.0                                   nan   \n",
       "4                       620.1                                   nan   \n",
       "\n",
       "        Origin  \n",
       "0  plant based  \n",
       "1  plant based  \n",
       "2  plant based  \n",
       "3  plant based  \n",
       "4  plant based  "
      ],
      "text/html": "<div>\n<style scoped>\n    .dataframe tbody tr th:only-of-type {\n        vertical-align: middle;\n    }\n\n    .dataframe tbody tr th {\n        vertical-align: top;\n    }\n\n    .dataframe thead th {\n        text-align: right;\n    }\n</style>\n<table border=\"1\" class=\"dataframe\">\n  <thead>\n    <tr style=\"text-align: right;\">\n      <th></th>\n      <th>Food</th>\n      <th>Total_emissions</th>\n      <th>Land use per 1000kcal</th>\n      <th>Land use per kg</th>\n      <th>Land use per 100g protein</th>\n      <th>Freswater withdrawls per 1000kcal</th>\n      <th>Freswater withdrawls per kg</th>\n      <th>Freswater withdrawls per 100g protein</th>\n      <th>Origin</th>\n    </tr>\n  </thead>\n  <tbody>\n    <tr>\n      <th>0</th>\n      <td>Oatmeal</td>\n      <td>1.6</td>\n      <td>2.897445673</td>\n      <td>7.6</td>\n      <td>5.846153846</td>\n      <td>183.9115517</td>\n      <td>482.4</td>\n      <td>371.0769231</td>\n      <td>plant based</td>\n    </tr>\n    <tr>\n      <th>1</th>\n      <td>Rice</td>\n      <td>4.0</td>\n      <td>0.759631036</td>\n      <td>2.8</td>\n      <td>3.943661972</td>\n      <td>609.9837222</td>\n      <td>2248.4</td>\n      <td>3166.760563</td>\n      <td>plant based</td>\n    </tr>\n    <tr>\n      <th>2</th>\n      <td>Potatoes</td>\n      <td>0.3</td>\n      <td>1.202185792</td>\n      <td>0.88</td>\n      <td>5.176470588</td>\n      <td>80.73770492</td>\n      <td>59.1</td>\n      <td>347.6470588</td>\n      <td>plant based</td>\n    </tr>\n    <tr>\n      <th>3</th>\n      <td>Cassava</td>\n      <td>0.9</td>\n      <td>1.858316222</td>\n      <td>1.81</td>\n      <td>20.11111111</td>\n      <td>nan</td>\n      <td>0.0</td>\n      <td>nan</td>\n      <td>plant based</td>\n    </tr>\n    <tr>\n      <th>4</th>\n      <td>Cane Sugar</td>\n      <td>2.6</td>\n      <td>0.581196581</td>\n      <td>2.04</td>\n      <td>nan</td>\n      <td>176.6666667</td>\n      <td>620.1</td>\n      <td>nan</td>\n      <td>plant based</td>\n    </tr>\n  </tbody>\n</table>\n</div>"
     },
     "metadata": {},
     "execution_count": 18
    }
   ],
   "source": [
    "resources_df.head()"
   ]
  },
  {
   "cell_type": "code",
   "execution_count": 19,
   "metadata": {},
   "outputs": [],
   "source": [
    "db_connection_str = mysql_db.SQL_ALCHEMY\n",
    "db_connection = create_engine(db_connection_str)\n",
    "\n",
    "resources_df.to_sql('resources', con = db_connection, index = False)"
   ]
  },
  {
   "source": [
    "for ind, row in resources_df.iterrows():\n",
    "    to_insert = list(row)\n",
    "    #print(to_insert)\n",
    "    to_insert_sql = mysql_db.generate_insert_into_resources_sql(to_insert)\n",
    "    #print(to_insert_sql)\n",
    "    mysql_db.execute_interactive_sql(to_insert_sql)"
   ],
   "cell_type": "markdown",
   "metadata": {}
  },
  {
   "source": [
    "# Nutritional values data insertion"
   ],
   "cell_type": "markdown",
   "metadata": {}
  },
  {
   "cell_type": "code",
   "execution_count": 20,
   "metadata": {},
   "outputs": [
    {
     "output_type": "execute_result",
     "data": {
      "text/plain": [
       "  Category 2         Protein (g)           Water (g) Fiber, total dietary (g)  \\\n",
       "0    _others   6.106123766816131   59.87791210762336       1.8640179372197367   \n",
       "1      beans   8.882972972972972  60.673783783783776        7.198648648648651   \n",
       "2     cheese  20.260958904109582    51.2809589041096                      0.1   \n",
       "3    chicken  23.178750000000008   60.54558035714287       0.1593749999999999   \n",
       "4       fish  21.006612903225808   63.88760368663595       0.2875576036866351   \n",
       "\n",
       "  Vitamin A, RAE (mcg_RAE)        Thiamin (mg)     Riboflavin (mg)  \\\n",
       "0        73.56125560538116  0.1741895964125551  0.1783259192825109   \n",
       "1         2.45945945945946  0.1479459459459459  0.0723648648648648   \n",
       "2       167.87671232876713  0.0383972602739726  0.3261780821917809   \n",
       "3       15.071428571428571  0.0890133928571428  0.2037410714285714   \n",
       "4        49.99769585253456   0.123889400921659  0.1507465437788017   \n",
       "\n",
       "          Niacin (mg)    Vitamin B-6 (mg)  Vitamin B-12 (mcg)  ...  \\\n",
       "0   2.321376322869969  0.1787167713004477  0.4419156950672639  ...   \n",
       "1  0.6207837837837838  0.1583783783783783  0.0197297297297297  ...   \n",
       "2               0.257  0.0918082191780822  1.0828767123287673  ...   \n",
       "3   6.596642857142853  0.4022008928571429  0.4730803571428573  ...   \n",
       "4   4.530237327188939  0.2868778801843319  3.5892626728110626  ...   \n",
       "\n",
       "          Sodium (mg)           Zinc (mg)       Energy (kcal)  \\\n",
       "0   309.1424215246637   1.090423318385658   191.2938116591928   \n",
       "1  291.72972972972974  1.1345945945945952  173.25675675675674   \n",
       "2   738.2054794520548   2.523972602739728   275.8493150684931   \n",
       "3  453.13392857142856  1.7108035714285716             214.375   \n",
       "4  478.70046082949307  2.1891705069124434   177.1336405529954   \n",
       "\n",
       "        Total Fat (g) Fatty acids, total saturated (g)  \\\n",
       "0    7.90098654708516               2.5168071748878926   \n",
       "1   5.713783783783785               0.9314864864864866   \n",
       "2  19.127534246575337               11.244191780821918   \n",
       "3  11.682946428571432                 2.93689732142857   \n",
       "4   7.109631336405526               1.6488755760368663   \n",
       "\n",
       "  Fatty acids, total monounsaturated (g)  \\\n",
       "0                     2.7165643049327337   \n",
       "1                     2.1094189189189185   \n",
       "2                      5.113616438356164   \n",
       "3                      4.692308035714286   \n",
       "4                     2.5525990783410126   \n",
       "\n",
       "  Fatty acids, total polyunsaturated (g)    Cholesterol (mg)  \\\n",
       "0                     2.0021287892376765  18.782959641255605   \n",
       "1                     2.3210000000000006  1.4324324324324325   \n",
       "2                     0.9789589041095894   61.31506849315068   \n",
       "3                     2.7313571428571417           101.84375   \n",
       "4                     2.0145115207373268   85.36175115207374   \n",
       "\n",
       "  Vitamin D (D2 + D3) (mcg)    Carbohydrate (g)  \n",
       "0        0.3023497757847525   24.36157488789236  \n",
       "1        0.0081081081081081  22.774729729729724  \n",
       "2        0.8287671232876712   5.557534246575344  \n",
       "3        0.1334821428571428   3.249776785714285  \n",
       "4         4.903686635944695   6.001958525345614  \n",
       "\n",
       "[5 rows x 26 columns]"
      ],
      "text/html": "<div>\n<style scoped>\n    .dataframe tbody tr th:only-of-type {\n        vertical-align: middle;\n    }\n\n    .dataframe tbody tr th {\n        vertical-align: top;\n    }\n\n    .dataframe thead th {\n        text-align: right;\n    }\n</style>\n<table border=\"1\" class=\"dataframe\">\n  <thead>\n    <tr style=\"text-align: right;\">\n      <th></th>\n      <th>Category 2</th>\n      <th>Protein (g)</th>\n      <th>Water (g)</th>\n      <th>Fiber, total dietary (g)</th>\n      <th>Vitamin A, RAE (mcg_RAE)</th>\n      <th>Thiamin (mg)</th>\n      <th>Riboflavin (mg)</th>\n      <th>Niacin (mg)</th>\n      <th>Vitamin B-6 (mg)</th>\n      <th>Vitamin B-12 (mcg)</th>\n      <th>...</th>\n      <th>Sodium (mg)</th>\n      <th>Zinc (mg)</th>\n      <th>Energy (kcal)</th>\n      <th>Total Fat (g)</th>\n      <th>Fatty acids, total saturated (g)</th>\n      <th>Fatty acids, total monounsaturated (g)</th>\n      <th>Fatty acids, total polyunsaturated (g)</th>\n      <th>Cholesterol (mg)</th>\n      <th>Vitamin D (D2 + D3) (mcg)</th>\n      <th>Carbohydrate (g)</th>\n    </tr>\n  </thead>\n  <tbody>\n    <tr>\n      <th>0</th>\n      <td>_others</td>\n      <td>6.106123766816131</td>\n      <td>59.87791210762336</td>\n      <td>1.8640179372197367</td>\n      <td>73.56125560538116</td>\n      <td>0.1741895964125551</td>\n      <td>0.1783259192825109</td>\n      <td>2.321376322869969</td>\n      <td>0.1787167713004477</td>\n      <td>0.4419156950672639</td>\n      <td>...</td>\n      <td>309.1424215246637</td>\n      <td>1.090423318385658</td>\n      <td>191.2938116591928</td>\n      <td>7.90098654708516</td>\n      <td>2.5168071748878926</td>\n      <td>2.7165643049327337</td>\n      <td>2.0021287892376765</td>\n      <td>18.782959641255605</td>\n      <td>0.3023497757847525</td>\n      <td>24.36157488789236</td>\n    </tr>\n    <tr>\n      <th>1</th>\n      <td>beans</td>\n      <td>8.882972972972972</td>\n      <td>60.673783783783776</td>\n      <td>7.198648648648651</td>\n      <td>2.45945945945946</td>\n      <td>0.1479459459459459</td>\n      <td>0.0723648648648648</td>\n      <td>0.6207837837837838</td>\n      <td>0.1583783783783783</td>\n      <td>0.0197297297297297</td>\n      <td>...</td>\n      <td>291.72972972972974</td>\n      <td>1.1345945945945952</td>\n      <td>173.25675675675674</td>\n      <td>5.713783783783785</td>\n      <td>0.9314864864864866</td>\n      <td>2.1094189189189185</td>\n      <td>2.3210000000000006</td>\n      <td>1.4324324324324325</td>\n      <td>0.0081081081081081</td>\n      <td>22.774729729729724</td>\n    </tr>\n    <tr>\n      <th>2</th>\n      <td>cheese</td>\n      <td>20.260958904109582</td>\n      <td>51.2809589041096</td>\n      <td>0.1</td>\n      <td>167.87671232876713</td>\n      <td>0.0383972602739726</td>\n      <td>0.3261780821917809</td>\n      <td>0.257</td>\n      <td>0.0918082191780822</td>\n      <td>1.0828767123287673</td>\n      <td>...</td>\n      <td>738.2054794520548</td>\n      <td>2.523972602739728</td>\n      <td>275.8493150684931</td>\n      <td>19.127534246575337</td>\n      <td>11.244191780821918</td>\n      <td>5.113616438356164</td>\n      <td>0.9789589041095894</td>\n      <td>61.31506849315068</td>\n      <td>0.8287671232876712</td>\n      <td>5.557534246575344</td>\n    </tr>\n    <tr>\n      <th>3</th>\n      <td>chicken</td>\n      <td>23.178750000000008</td>\n      <td>60.54558035714287</td>\n      <td>0.1593749999999999</td>\n      <td>15.071428571428571</td>\n      <td>0.0890133928571428</td>\n      <td>0.2037410714285714</td>\n      <td>6.596642857142853</td>\n      <td>0.4022008928571429</td>\n      <td>0.4730803571428573</td>\n      <td>...</td>\n      <td>453.13392857142856</td>\n      <td>1.7108035714285716</td>\n      <td>214.375</td>\n      <td>11.682946428571432</td>\n      <td>2.93689732142857</td>\n      <td>4.692308035714286</td>\n      <td>2.7313571428571417</td>\n      <td>101.84375</td>\n      <td>0.1334821428571428</td>\n      <td>3.249776785714285</td>\n    </tr>\n    <tr>\n      <th>4</th>\n      <td>fish</td>\n      <td>21.006612903225808</td>\n      <td>63.88760368663595</td>\n      <td>0.2875576036866351</td>\n      <td>49.99769585253456</td>\n      <td>0.123889400921659</td>\n      <td>0.1507465437788017</td>\n      <td>4.530237327188939</td>\n      <td>0.2868778801843319</td>\n      <td>3.5892626728110626</td>\n      <td>...</td>\n      <td>478.70046082949307</td>\n      <td>2.1891705069124434</td>\n      <td>177.1336405529954</td>\n      <td>7.109631336405526</td>\n      <td>1.6488755760368663</td>\n      <td>2.5525990783410126</td>\n      <td>2.0145115207373268</td>\n      <td>85.36175115207374</td>\n      <td>4.903686635944695</td>\n      <td>6.001958525345614</td>\n    </tr>\n  </tbody>\n</table>\n<p>5 rows × 26 columns</p>\n</div>"
     },
     "metadata": {},
     "execution_count": 20
    }
   ],
   "source": [
    "path2 = fo.path_to_folder(2, \"data\") + \"CLEANED_Nutritional_values_stats.csv\"\n",
    "nutritional_values_stats = pd.read_csv(path2)\n",
    "\n",
    "nutritional_values_stats = nutritional_values_stats.applymap(md.to_string)\n",
    "nutritional_values_stats.head()"
   ]
  },
  {
   "cell_type": "code",
   "execution_count": 22,
   "metadata": {},
   "outputs": [],
   "source": [
    "db_connection_str_2 = mysql_db.SQL_ALCHEMY\n",
    "db_connection_2 = create_engine(db_connection_str_2)\n",
    "\n",
    "nutritional_values_stats.to_sql('nutritional_values_stats', con = db_connection_2, index = False)"
   ]
  },
  {
   "source": [
    "### Nutritional values (the largest dataset)"
   ],
   "cell_type": "markdown",
   "metadata": {}
  },
  {
   "cell_type": "code",
   "execution_count": 23,
   "metadata": {},
   "outputs": [
    {
     "output_type": "execute_result",
     "data": {
      "text/plain": [
       "                        Food name Category number      Category name  \\\n",
       "0                     Milk, human            9602         Human milk   \n",
       "1                       Milk, NFS            1004  Milk, reduced fat   \n",
       "2                     Milk, whole            1002        Milk, whole   \n",
       "3         Milk, low sodium, whole            1002        Milk, whole   \n",
       "4  Milk, calcium fortified, whole            1002        Milk, whole   \n",
       "\n",
       "  Protein (g) Water (g) Fiber, total dietary (g) Vitamin A, RAE (mcg_RAE)  \\\n",
       "0        1.03      87.5                      0.0                       61   \n",
       "1        3.34     89.04                      0.0                       59   \n",
       "2        3.28      88.1                      0.0                       32   \n",
       "3         3.1      88.2                      0.0                       29   \n",
       "4        3.28      88.1                      0.0                       32   \n",
       "\n",
       "  Thiamin (mg) Riboflavin (mg) Niacin (mg)  ... Energy (kcal) Total Fat (g)  \\\n",
       "0        0.014           0.036       0.177  ...            70          4.38   \n",
       "1        0.057           0.137        0.11  ...            51          1.99   \n",
       "2        0.056           0.138       0.105  ...            60           3.2   \n",
       "3         0.02           0.105       0.043  ...            61          3.46   \n",
       "4        0.056           0.138       0.105  ...            60           3.2   \n",
       "\n",
       "  Fatty acids, total saturated (g) Fatty acids, total monounsaturated (g)  \\\n",
       "0                            2.009                                  1.658   \n",
       "1                            1.164                                  0.426   \n",
       "2                             1.86                                  0.688   \n",
       "3                            2.154                                  0.999   \n",
       "4                             1.86                                  0.688   \n",
       "\n",
       "  Fatty acids, total polyunsaturated (g) Cholesterol (mg)  \\\n",
       "0                                  0.497               14   \n",
       "1                                  0.065                8   \n",
       "2                                  0.108               12   \n",
       "3                                  0.128               14   \n",
       "4                                  0.108               12   \n",
       "\n",
       "  Vitamin D (D2 + D3) (mcg) Carbohydrate (g) Category 2 Category 3  \n",
       "0                       0.1             6.89      milks     animal  \n",
       "1                       1.1             4.87      milks     animal  \n",
       "2                       1.1             4.67      milks     animal  \n",
       "3                       1.3             4.46      milks     animal  \n",
       "4                       1.1             4.67      milks     animal  \n",
       "\n",
       "[5 rows x 30 columns]"
      ],
      "text/html": "<div>\n<style scoped>\n    .dataframe tbody tr th:only-of-type {\n        vertical-align: middle;\n    }\n\n    .dataframe tbody tr th {\n        vertical-align: top;\n    }\n\n    .dataframe thead th {\n        text-align: right;\n    }\n</style>\n<table border=\"1\" class=\"dataframe\">\n  <thead>\n    <tr style=\"text-align: right;\">\n      <th></th>\n      <th>Food name</th>\n      <th>Category number</th>\n      <th>Category name</th>\n      <th>Protein (g)</th>\n      <th>Water (g)</th>\n      <th>Fiber, total dietary (g)</th>\n      <th>Vitamin A, RAE (mcg_RAE)</th>\n      <th>Thiamin (mg)</th>\n      <th>Riboflavin (mg)</th>\n      <th>Niacin (mg)</th>\n      <th>...</th>\n      <th>Energy (kcal)</th>\n      <th>Total Fat (g)</th>\n      <th>Fatty acids, total saturated (g)</th>\n      <th>Fatty acids, total monounsaturated (g)</th>\n      <th>Fatty acids, total polyunsaturated (g)</th>\n      <th>Cholesterol (mg)</th>\n      <th>Vitamin D (D2 + D3) (mcg)</th>\n      <th>Carbohydrate (g)</th>\n      <th>Category 2</th>\n      <th>Category 3</th>\n    </tr>\n  </thead>\n  <tbody>\n    <tr>\n      <th>0</th>\n      <td>Milk, human</td>\n      <td>9602</td>\n      <td>Human milk</td>\n      <td>1.03</td>\n      <td>87.5</td>\n      <td>0.0</td>\n      <td>61</td>\n      <td>0.014</td>\n      <td>0.036</td>\n      <td>0.177</td>\n      <td>...</td>\n      <td>70</td>\n      <td>4.38</td>\n      <td>2.009</td>\n      <td>1.658</td>\n      <td>0.497</td>\n      <td>14</td>\n      <td>0.1</td>\n      <td>6.89</td>\n      <td>milks</td>\n      <td>animal</td>\n    </tr>\n    <tr>\n      <th>1</th>\n      <td>Milk, NFS</td>\n      <td>1004</td>\n      <td>Milk, reduced fat</td>\n      <td>3.34</td>\n      <td>89.04</td>\n      <td>0.0</td>\n      <td>59</td>\n      <td>0.057</td>\n      <td>0.137</td>\n      <td>0.11</td>\n      <td>...</td>\n      <td>51</td>\n      <td>1.99</td>\n      <td>1.164</td>\n      <td>0.426</td>\n      <td>0.065</td>\n      <td>8</td>\n      <td>1.1</td>\n      <td>4.87</td>\n      <td>milks</td>\n      <td>animal</td>\n    </tr>\n    <tr>\n      <th>2</th>\n      <td>Milk, whole</td>\n      <td>1002</td>\n      <td>Milk, whole</td>\n      <td>3.28</td>\n      <td>88.1</td>\n      <td>0.0</td>\n      <td>32</td>\n      <td>0.056</td>\n      <td>0.138</td>\n      <td>0.105</td>\n      <td>...</td>\n      <td>60</td>\n      <td>3.2</td>\n      <td>1.86</td>\n      <td>0.688</td>\n      <td>0.108</td>\n      <td>12</td>\n      <td>1.1</td>\n      <td>4.67</td>\n      <td>milks</td>\n      <td>animal</td>\n    </tr>\n    <tr>\n      <th>3</th>\n      <td>Milk, low sodium, whole</td>\n      <td>1002</td>\n      <td>Milk, whole</td>\n      <td>3.1</td>\n      <td>88.2</td>\n      <td>0.0</td>\n      <td>29</td>\n      <td>0.02</td>\n      <td>0.105</td>\n      <td>0.043</td>\n      <td>...</td>\n      <td>61</td>\n      <td>3.46</td>\n      <td>2.154</td>\n      <td>0.999</td>\n      <td>0.128</td>\n      <td>14</td>\n      <td>1.3</td>\n      <td>4.46</td>\n      <td>milks</td>\n      <td>animal</td>\n    </tr>\n    <tr>\n      <th>4</th>\n      <td>Milk, calcium fortified, whole</td>\n      <td>1002</td>\n      <td>Milk, whole</td>\n      <td>3.28</td>\n      <td>88.1</td>\n      <td>0.0</td>\n      <td>32</td>\n      <td>0.056</td>\n      <td>0.138</td>\n      <td>0.105</td>\n      <td>...</td>\n      <td>60</td>\n      <td>3.2</td>\n      <td>1.86</td>\n      <td>0.688</td>\n      <td>0.108</td>\n      <td>12</td>\n      <td>1.1</td>\n      <td>4.67</td>\n      <td>milks</td>\n      <td>animal</td>\n    </tr>\n  </tbody>\n</table>\n<p>5 rows × 30 columns</p>\n</div>"
     },
     "metadata": {},
     "execution_count": 23
    }
   ],
   "source": [
    "path3 = fo.path_to_folder(2, \"data\") + \"CLEANED_Nutritional_values.csv\"\n",
    "nutritional_values = pd.read_csv(path3)\n",
    "\n",
    "nutritional_values = nutritional_values.applymap(md.to_string)\n",
    "nutritional_values.head()"
   ]
  },
  {
   "cell_type": "code",
   "execution_count": 25,
   "metadata": {},
   "outputs": [
    {
     "output_type": "stream",
     "name": "stdout",
     "text": [
      "FINISHED\n"
     ]
    }
   ],
   "source": [
    "db_connection_str_3 = mysql_db.SQL_ALCHEMY\n",
    "db_connection_3 = create_engine(db_connection_str_3)\n",
    "\n",
    "nutritional_values.to_sql('nutritional_values', con = db_connection_3, index = False)\n",
    "\n",
    "print(\"FINISHED\")"
   ]
  },
  {
   "cell_type": "code",
   "execution_count": 26,
   "metadata": {},
   "outputs": [
    {
     "output_type": "stream",
     "name": "stdout",
     "text": [
      "Connected to MySQL server [45395203b_ds_april_2021_db]\n"
     ]
    },
    {
     "output_type": "execute_result",
     "data": {
      "text/plain": [
       "                        Food name Category number      Category name  \\\n",
       "0                     Milk, human            9602         Human milk   \n",
       "1                       Milk, NFS            1004  Milk, reduced fat   \n",
       "2                     Milk, whole            1002        Milk, whole   \n",
       "3         Milk, low sodium, whole            1002        Milk, whole   \n",
       "4  Milk, calcium fortified, whole            1002        Milk, whole   \n",
       "\n",
       "  Protein (g) Water (g) Fiber, total dietary (g) Vitamin A, RAE (mcg_RAE)  \\\n",
       "0        1.03      87.5                      0.0                       61   \n",
       "1        3.34     89.04                      0.0                       59   \n",
       "2        3.28      88.1                      0.0                       32   \n",
       "3         3.1      88.2                      0.0                       29   \n",
       "4        3.28      88.1                      0.0                       32   \n",
       "\n",
       "  Thiamin (mg) Riboflavin (mg) Niacin (mg)  ... Energy (kcal) Total Fat (g)  \\\n",
       "0        0.014           0.036       0.177  ...            70          4.38   \n",
       "1        0.057           0.137        0.11  ...            51          1.99   \n",
       "2        0.056           0.138       0.105  ...            60           3.2   \n",
       "3         0.02           0.105       0.043  ...            61          3.46   \n",
       "4        0.056           0.138       0.105  ...            60           3.2   \n",
       "\n",
       "  Fatty acids, total saturated (g) Fatty acids, total monounsaturated (g)  \\\n",
       "0                            2.009                                  1.658   \n",
       "1                            1.164                                  0.426   \n",
       "2                             1.86                                  0.688   \n",
       "3                            2.154                                  0.999   \n",
       "4                             1.86                                  0.688   \n",
       "\n",
       "  Fatty acids, total polyunsaturated (g) Cholesterol (mg)  \\\n",
       "0                                  0.497               14   \n",
       "1                                  0.065                8   \n",
       "2                                  0.108               12   \n",
       "3                                  0.128               14   \n",
       "4                                  0.108               12   \n",
       "\n",
       "  Vitamin D (D2 + D3) (mcg) Carbohydrate (g) Category 2 Category 3  \n",
       "0                       0.1             6.89      milks     animal  \n",
       "1                       1.1             4.87      milks     animal  \n",
       "2                       1.1             4.67      milks     animal  \n",
       "3                       1.3             4.46      milks     animal  \n",
       "4                       1.1             4.67      milks     animal  \n",
       "\n",
       "[5 rows x 30 columns]"
      ],
      "text/html": "<div>\n<style scoped>\n    .dataframe tbody tr th:only-of-type {\n        vertical-align: middle;\n    }\n\n    .dataframe tbody tr th {\n        vertical-align: top;\n    }\n\n    .dataframe thead th {\n        text-align: right;\n    }\n</style>\n<table border=\"1\" class=\"dataframe\">\n  <thead>\n    <tr style=\"text-align: right;\">\n      <th></th>\n      <th>Food name</th>\n      <th>Category number</th>\n      <th>Category name</th>\n      <th>Protein (g)</th>\n      <th>Water (g)</th>\n      <th>Fiber, total dietary (g)</th>\n      <th>Vitamin A, RAE (mcg_RAE)</th>\n      <th>Thiamin (mg)</th>\n      <th>Riboflavin (mg)</th>\n      <th>Niacin (mg)</th>\n      <th>...</th>\n      <th>Energy (kcal)</th>\n      <th>Total Fat (g)</th>\n      <th>Fatty acids, total saturated (g)</th>\n      <th>Fatty acids, total monounsaturated (g)</th>\n      <th>Fatty acids, total polyunsaturated (g)</th>\n      <th>Cholesterol (mg)</th>\n      <th>Vitamin D (D2 + D3) (mcg)</th>\n      <th>Carbohydrate (g)</th>\n      <th>Category 2</th>\n      <th>Category 3</th>\n    </tr>\n  </thead>\n  <tbody>\n    <tr>\n      <th>0</th>\n      <td>Milk, human</td>\n      <td>9602</td>\n      <td>Human milk</td>\n      <td>1.03</td>\n      <td>87.5</td>\n      <td>0.0</td>\n      <td>61</td>\n      <td>0.014</td>\n      <td>0.036</td>\n      <td>0.177</td>\n      <td>...</td>\n      <td>70</td>\n      <td>4.38</td>\n      <td>2.009</td>\n      <td>1.658</td>\n      <td>0.497</td>\n      <td>14</td>\n      <td>0.1</td>\n      <td>6.89</td>\n      <td>milks</td>\n      <td>animal</td>\n    </tr>\n    <tr>\n      <th>1</th>\n      <td>Milk, NFS</td>\n      <td>1004</td>\n      <td>Milk, reduced fat</td>\n      <td>3.34</td>\n      <td>89.04</td>\n      <td>0.0</td>\n      <td>59</td>\n      <td>0.057</td>\n      <td>0.137</td>\n      <td>0.11</td>\n      <td>...</td>\n      <td>51</td>\n      <td>1.99</td>\n      <td>1.164</td>\n      <td>0.426</td>\n      <td>0.065</td>\n      <td>8</td>\n      <td>1.1</td>\n      <td>4.87</td>\n      <td>milks</td>\n      <td>animal</td>\n    </tr>\n    <tr>\n      <th>2</th>\n      <td>Milk, whole</td>\n      <td>1002</td>\n      <td>Milk, whole</td>\n      <td>3.28</td>\n      <td>88.1</td>\n      <td>0.0</td>\n      <td>32</td>\n      <td>0.056</td>\n      <td>0.138</td>\n      <td>0.105</td>\n      <td>...</td>\n      <td>60</td>\n      <td>3.2</td>\n      <td>1.86</td>\n      <td>0.688</td>\n      <td>0.108</td>\n      <td>12</td>\n      <td>1.1</td>\n      <td>4.67</td>\n      <td>milks</td>\n      <td>animal</td>\n    </tr>\n    <tr>\n      <th>3</th>\n      <td>Milk, low sodium, whole</td>\n      <td>1002</td>\n      <td>Milk, whole</td>\n      <td>3.1</td>\n      <td>88.2</td>\n      <td>0.0</td>\n      <td>29</td>\n      <td>0.02</td>\n      <td>0.105</td>\n      <td>0.043</td>\n      <td>...</td>\n      <td>61</td>\n      <td>3.46</td>\n      <td>2.154</td>\n      <td>0.999</td>\n      <td>0.128</td>\n      <td>14</td>\n      <td>1.3</td>\n      <td>4.46</td>\n      <td>milks</td>\n      <td>animal</td>\n    </tr>\n    <tr>\n      <th>4</th>\n      <td>Milk, calcium fortified, whole</td>\n      <td>1002</td>\n      <td>Milk, whole</td>\n      <td>3.28</td>\n      <td>88.1</td>\n      <td>0.0</td>\n      <td>32</td>\n      <td>0.056</td>\n      <td>0.138</td>\n      <td>0.105</td>\n      <td>...</td>\n      <td>60</td>\n      <td>3.2</td>\n      <td>1.86</td>\n      <td>0.688</td>\n      <td>0.108</td>\n      <td>12</td>\n      <td>1.1</td>\n      <td>4.67</td>\n      <td>milks</td>\n      <td>animal</td>\n    </tr>\n  </tbody>\n</table>\n<p>5 rows × 30 columns</p>\n</div>"
     },
     "metadata": {},
     "execution_count": 26
    }
   ],
   "source": [
    "#mysql_db.close()\n",
    "\n",
    "db = mysql_db.connect()\n",
    "\n",
    "select_sql = \"\"\"SELECT * FROM nutritional_values\"\"\"\n",
    "\n",
    "test = pd.read_sql(\"select * from nutritional_values\", con = db)\n",
    "test.head()"
   ]
  },
  {
   "cell_type": "code",
   "execution_count": 29,
   "metadata": {},
   "outputs": [
    {
     "output_type": "stream",
     "name": "stdout",
     "text": [
      "Close connection with MySQL server [45395203b_ds_april_2021_db]\n"
     ]
    }
   ],
   "source": [
    "mysql_db.close()"
   ]
  }
 ]
}