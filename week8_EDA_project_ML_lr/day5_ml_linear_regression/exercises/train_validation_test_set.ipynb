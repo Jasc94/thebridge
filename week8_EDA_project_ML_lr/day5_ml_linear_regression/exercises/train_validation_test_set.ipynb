{
 "metadata": {
  "language_info": {
   "codemirror_mode": {
    "name": "ipython",
    "version": 3
   },
   "file_extension": ".py",
   "mimetype": "text/x-python",
   "name": "python",
   "nbconvert_exporter": "python",
   "pygments_lexer": "ipython3",
   "version": "3.7.4"
  },
  "orig_nbformat": 2,
  "kernelspec": {
   "name": "python374jvsc74a57bd0aee8b7b246df8f9039afb4144a1f6fd8d2ca17a180786b69acc140d282b71a49",
   "display_name": "Python 3.7.4 64-bit"
  },
  "metadata": {
   "interpreter": {
    "hash": "aee8b7b246df8f9039afb4144a1f6fd8d2ca17a180786b69acc140d282b71a49"
   }
  }
 },
 "nbformat": 4,
 "nbformat_minor": 2,
 "cells": [
  {
   "cell_type": "markdown",
   "metadata": {},
   "source": [
    "### 1. \n",
    "\n",
    "Crear una función que reciba cuatro parámetros: una lista 'L', un número 'T', un número 'V' y un booleano 'S'. La función debe devolver otras dos listas: \"lista_train_val\" y \"lista_test\".\n",
    "\n",
    "- \"lista_train_val\" es una lista con dos elementos. Cada elemento es una lista: \"list_train\", que representa el conjunto de entrenamiento y \"list_val\", que representa el conjunto de validación. \n",
    "- \"list_test\" es el conjunto de test. Como mínimo ha de tener 1 elemento (si 'L' > 1).\n",
    "- \"L\" es cualquier lista de elementos. Al principio, entra con un tamaño completo (100%). Esta es la lista que se partirá y se generarán los conjuntos entrenamiento, de validación y de test.\n",
    "- \"T\" es un número entre 1 y 100 que va a representar el tamaño, en porcentaje, del conjunto de test \"list_test\". \n",
    "- \"V\" es un número entre 0 y 100 que va a representar el tamaño, en porcentaje, del conjunto de validación \"list_val\". Su valor por defecto es 0.\n",
    "- \"S\", que por defecto es False, determinará si los conjuntos \"list_train\", \"list_test\" y \"list_val\" están aleatoriamente ordenados. ¿Encuentras alguna posible incoherencia si se reordenan aleatoriamente?\n",
    "\n",
    "Prueba la función con una lista de 100 números aleatorios del 0 al 100. \n",
    "\n",
    "### 2. \n",
    "\n",
    "Rehacer el ejercicio anterior en otra función para que no devuelva dos listas, sino los tres conjuntos: \n",
    "\n",
    "--> return list_train, list_val, list_test "
   ]
  },
  {
   "cell_type": "code",
   "execution_count": 11,
   "metadata": {},
   "outputs": [],
   "source": [
    "import random"
   ]
  },
  {
   "source": [
    "# Ejercicio 1"
   ],
   "cell_type": "markdown",
   "metadata": {}
  },
  {
   "cell_type": "code",
   "execution_count": 43,
   "metadata": {},
   "outputs": [],
   "source": [
    "def test_split(L, T, V = 0, S = False):\n",
    "\n",
    "    if S == True:\n",
    "        random.shuffle(L)\n",
    "\n",
    "    # 1) Split the list into train and test according to T\n",
    "    train_split = round(len(L) * ((100 - T) / 100))\n",
    "\n",
    "    train_list = L[:train_split]\n",
    "    test_list = L[train_split:]\n",
    "\n",
    "    # 2) Split the list into train and validation\n",
    "    validation_split = round(len(train_list) * ((100 - V) / 100))\n",
    "\n",
    "    train_list_val = train_list[:validation_split]\n",
    "    validation_list_val = train_list[validation_split:]\n",
    "\n",
    "    train_list_val = [train_list_val, validation_list_val]\n",
    "\n",
    "    return train_list_val, test_list"
   ]
  },
  {
   "cell_type": "code",
   "execution_count": 50,
   "metadata": {},
   "outputs": [
    {
     "output_type": "stream",
     "name": "stdout",
     "text": [
      "lista_train_val:\n [[85, 26, 10, 99, 96, 38, 67, 82, 84, 7, 32, 49, 90, 13, 19, 94, 35, 66, 1, 41, 8, 46, 61, 21, 80], [22, 71, 95, 28, 88, 44, 9, 62, 15, 92, 16, 56, 72, 65, 45, 91, 42, 98, 81, 3, 33, 34, 75, 57, 39]] \n\nlista_train_val length: 2\nlista_train length: 25\nlista_val length: 25\n\n -------------------------------------------------- \n\nlista_test:\n [51, 30, 69, 76, 20, 2, 6, 23, 74, 47, 43, 36, 86, 63, 48, 29, 93, 53, 87, 58, 59, 4, 27, 52, 83, 70, 78, 24, 60, 18, 17, 68, 79, 89, 55, 5, 64, 54, 14, 50, 97, 31, 0, 11, 77, 73, 40, 12, 25, 37] \n\nlista_test length: 50\n"
     ]
    }
   ],
   "source": [
    "test_list = list(range(100))\n",
    "\n",
    "lista_train_val, lista_test = test_split(test_list, 50, 50, True)\n",
    "\n",
    "print(\"lista_train_val:\\n\",lista_train_val, \"\\n\")\n",
    "print(\"lista_train_val length:\", len(lista_train_val))\n",
    "print(\"lista_train length:\", len(lista_train_val[0]))\n",
    "print(\"lista_val length:\", len(lista_train_val[1]))\n",
    "print(\"\\n\", \"-\" * 50, \"\\n\")\n",
    "print(\"lista_test:\\n\",lista_test, \"\\n\")\n",
    "print(\"lista_test length:\", len(lista_test))"
   ]
  },
  {
   "source": [
    "# Ejercicio 2"
   ],
   "cell_type": "markdown",
   "metadata": {}
  },
  {
   "cell_type": "code",
   "execution_count": 51,
   "metadata": {},
   "outputs": [],
   "source": [
    "def test_split_2(L, T, V = 0, S = False):\n",
    "\n",
    "    if S == True:\n",
    "        random.shuffle(L)\n",
    "\n",
    "    # 1) Split the list into train and test according to T\n",
    "    train_split = round(len(L) * ((100 - T) / 100))\n",
    "\n",
    "    train_list = L[:train_split]\n",
    "    test_list = L[train_split:]\n",
    "\n",
    "    # 2) Split the list into train and validation\n",
    "    validation_split = round(len(train_list) * ((100 - V) / 100))\n",
    "\n",
    "    train_list_val = train_list[:validation_split]\n",
    "    validation_list_val = train_list[validation_split:]\n",
    "\n",
    "    #train_list_val = [train_list_val, validation_list_val]\n",
    "\n",
    "    return train_list_val, validation_list_val, test_list"
   ]
  },
  {
   "cell_type": "code",
   "execution_count": 53,
   "metadata": {},
   "outputs": [
    {
     "output_type": "stream",
     "name": "stdout",
     "text": [
      "list_train:\n [27, 67, 92, 31, 4, 50, 7, 98, 78, 26, 93, 43, 57, 52, 2] \n\nlist_train length: 15\n\n -------------------------------------------------- \n\nlist_val:\n [65, 96, 24, 75, 84, 62, 86, 3, 12, 32, 5, 20, 60, 17, 14] \n\nlist_val length: 15\n\n -------------------------------------------------- \n\nlist_test:\n [77, 13, 63, 11, 21, 66, 0, 61, 53, 80, 46, 34, 6, 88, 76, 95, 44, 59, 45, 91, 97, 85, 30, 83, 15, 70, 54, 25, 42, 48, 16, 47, 23, 1, 79, 87, 51, 49, 58, 36, 9, 10, 41, 73, 29, 38, 8, 71, 89, 94, 74, 28, 40, 55, 68, 18, 72, 37, 19, 99, 69, 82, 64, 39, 35, 56, 81, 22, 90, 33] \n\nlist_test length: 70\n"
     ]
    }
   ],
   "source": [
    "test_list_2 = list(range(100))\n",
    "\n",
    "list_train, list_val, list_test = test_split_2(test_list_2, 70, 50, True)\n",
    "\n",
    "print(\"list_train:\\n\",list_train, \"\\n\")\n",
    "print(\"list_train length:\", len(list_train))\n",
    "print(\"\\n\", \"-\" * 50, \"\\n\")\n",
    "print(\"list_val:\\n\",list_val, \"\\n\")\n",
    "print(\"list_val length:\", len(list_val))\n",
    "print(\"\\n\", \"-\" * 50, \"\\n\")\n",
    "print(\"list_test:\\n\",list_test, \"\\n\")\n",
    "print(\"list_test length:\", len(list_test))"
   ]
  },
  {
   "cell_type": "code",
   "execution_count": null,
   "metadata": {},
   "outputs": [],
   "source": []
  }
 ]
}