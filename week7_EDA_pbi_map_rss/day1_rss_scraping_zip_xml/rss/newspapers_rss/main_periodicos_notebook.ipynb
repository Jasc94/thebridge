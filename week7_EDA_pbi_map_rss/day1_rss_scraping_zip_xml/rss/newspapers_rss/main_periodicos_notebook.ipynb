{
 "metadata": {
  "language_info": {
   "codemirror_mode": {
    "name": "ipython",
    "version": 3
   },
   "file_extension": ".py",
   "mimetype": "text/x-python",
   "name": "python",
   "nbconvert_exporter": "python",
   "pygments_lexer": "ipython3",
   "version": "3.7.4"
  },
  "orig_nbformat": 2,
  "kernelspec": {
   "name": "python374jvsc74a57bd0aee8b7b246df8f9039afb4144a1f6fd8d2ca17a180786b69acc140d282b71a49",
   "display_name": "Python 3.7.4 64-bit"
  },
  "metadata": {
   "interpreter": {
    "hash": "aee8b7b246df8f9039afb4144a1f6fd8d2ca17a180786b69acc140d282b71a49"
   }
  }
 },
 "nbformat": 4,
 "nbformat_minor": 2,
 "cells": [
  {
   "cell_type": "code",
   "execution_count": 2,
   "metadata": {},
   "outputs": [
    {
     "output_type": "stream",
     "name": "stdout",
     "text": [
      "company_df.shape: (3, 5)\n\n FINISH \n\n"
     ]
    },
    {
     "output_type": "execute_result",
     "data": {
      "text/plain": [
       "    Periodico Empresa                                            Noticia  \\\n",
       "0   Expansion    euro  Telefónica y otras cuatro grandes telecos euro...   \n",
       "1   Expansion    euro  BBVA pagará a sus clientes hasta 500 euros por...   \n",
       "2  Cinco dias    euro  BBVA amplia el 'plan amigo' y pagará hasta 500...   \n",
       "\n",
       "                     Fecha noticia  \\\n",
       "0  Tue, 25 May 2021 09:54:53 +0200   \n",
       "1  Mon, 24 May 2021 09:12:55 +0200   \n",
       "2  Mon, 24 May 2021 12:56:33 +0200   \n",
       "\n",
       "                                        Link Noticia  \n",
       "0  https://www.expansion.com/empresas/tecnologia/...  \n",
       "1  https://www.expansion.com/empresas/banca/2021/...  \n",
       "2  https://cincodias.elpais.com/cincodias/2021/05...  "
      ],
      "text/html": "<div>\n<style scoped>\n    .dataframe tbody tr th:only-of-type {\n        vertical-align: middle;\n    }\n\n    .dataframe tbody tr th {\n        vertical-align: top;\n    }\n\n    .dataframe thead th {\n        text-align: right;\n    }\n</style>\n<table border=\"1\" class=\"dataframe\">\n  <thead>\n    <tr style=\"text-align: right;\">\n      <th></th>\n      <th>Periodico</th>\n      <th>Empresa</th>\n      <th>Noticia</th>\n      <th>Fecha noticia</th>\n      <th>Link Noticia</th>\n    </tr>\n  </thead>\n  <tbody>\n    <tr>\n      <th>0</th>\n      <td>Expansion</td>\n      <td>euro</td>\n      <td>Telefónica y otras cuatro grandes telecos euro...</td>\n      <td>Tue, 25 May 2021 09:54:53 +0200</td>\n      <td>https://www.expansion.com/empresas/tecnologia/...</td>\n    </tr>\n    <tr>\n      <th>1</th>\n      <td>Expansion</td>\n      <td>euro</td>\n      <td>BBVA pagará a sus clientes hasta 500 euros por...</td>\n      <td>Mon, 24 May 2021 09:12:55 +0200</td>\n      <td>https://www.expansion.com/empresas/banca/2021/...</td>\n    </tr>\n    <tr>\n      <th>2</th>\n      <td>Cinco dias</td>\n      <td>euro</td>\n      <td>BBVA amplia el 'plan amigo' y pagará hasta 500...</td>\n      <td>Mon, 24 May 2021 12:56:33 +0200</td>\n      <td>https://cincodias.elpais.com/cincodias/2021/05...</td>\n    </tr>\n  </tbody>\n</table>\n</div>"
     },
     "metadata": {},
     "execution_count": 2
    }
   ],
   "source": [
    "from urllib.request import urlopen\n",
    "from xml.etree.ElementTree import parse\n",
    "import pandas as pd\n",
    "import json \n",
    "company = 'euro'\n",
    "\n",
    "newspapers = {\n",
    "    'Expansion': 'https://e00-expansion.uecdn.es/rss/empresas.xml',\n",
    "    'El economista': 'https://www.eleconomista.es/rss/rss-empresas.php',\n",
    "    'Cinco dias': 'https://cincodias.elpais.com/seccion/rss/companias/',\n",
    "    'El confidencial': 'https://rss.elconfidencial.com/empresas/'\n",
    "}\n",
    "\n",
    "tot_data = {\n",
    "    'Periodico': [],\n",
    "    'Empresa': [],\n",
    "    'Noticia': [],\n",
    "    'Fecha noticia': [],\n",
    "    'Link Noticia': []\n",
    "}\n",
    "\n",
    "for i in newspapers:\n",
    "    url_str = newspapers[i]\n",
    "    var_url = urlopen(url_str)\n",
    "    xmldoc = parse(var_url)\n",
    "\n",
    "    for item in xmldoc.iterfind('channel/item'):\n",
    "\n",
    "        if company in item.findtext('title').lower():\n",
    "            tot_data['Periodico'].append(i)\n",
    "            tot_data['Empresa'].append(company)\n",
    "            tot_data['Noticia'].append(item.findtext('title'))\n",
    "            tot_data['Fecha noticia'].append(item.findtext('pubDate'))\n",
    "            tot_data['Link Noticia'].append(item.findtext('link'))\n",
    "\n",
    "company_df = pd.DataFrame(tot_data)\n",
    "print(\"company_df.shape:\", company_df.shape)\n",
    "company_df.to_excel('./euro_data.xlsx')\n",
    "company_df.to_csv('./euro_data.csv')\n",
    "company_df.to_json(\"euro_data.json\")\n",
    "print(\"\\n FINISH \\n\")\n",
    "company_df"
   ]
  },
  {
   "cell_type": "code",
   "execution_count": null,
   "metadata": {},
   "outputs": [],
   "source": []
  }
 ]
}