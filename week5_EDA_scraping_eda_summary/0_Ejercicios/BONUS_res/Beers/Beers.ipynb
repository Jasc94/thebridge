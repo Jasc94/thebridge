{
 "cells": [
  {
   "cell_type": "markdown",
   "metadata": {},
   "source": [
    "![imagen](https://cdn.foodbeast.com/content/wp-content/uploads/2012/03/beer-print-01-selectism.jpg)\n",
    "\n",
    "# BONUS - Beers\n",
    "Para este ejercicio se ha utilizado [un dataset de un concurso de kaggle](https://www.kaggle.com/nickhould/craft-cans), cuyo reto consiste en predecir el tipo de cerveza en función de sus características (nivel de alcohol, amargura, tamaño...).\n",
    "\n",
    "# Ejercicio 1\n",
    "Importa las librerias que consideres"
   ]
  },
  {
   "cell_type": "code",
   "execution_count": 114,
   "metadata": {},
   "outputs": [],
   "source": [
    "import pandas as pd\n",
    "import numpy as np\n",
    "import matplotlib.pyplot as plt\n",
    "import seaborn as sns"
   ]
  },
  {
   "cell_type": "markdown",
   "metadata": {},
   "source": [
    "## Ejercicio 2\n",
    "1. Importa el dataset \"datasets_beer.csv\"\n",
    "2. Imprime por pantalla los primeros registros.\n",
    "3. ¿Cuáles son sus columnas?\n",
    "4. ¿Qué dimensiones tiene el DataFrame?"
   ]
  },
  {
   "cell_type": "code",
   "execution_count": 115,
   "metadata": {},
   "outputs": [
    {
     "output_type": "execute_result",
     "data": {
      "text/plain": [
       "   Unnamed: 0    abv  ibu    id                 name  \\\n",
       "0           0  0.050  NaN  1436             Pub Beer   \n",
       "1           1  0.066  NaN  2265          Devil's Cup   \n",
       "2           2  0.071  NaN  2264  Rise of the Phoenix   \n",
       "3           3  0.090  NaN  2263             Sinister   \n",
       "4           4  0.075  NaN  2262        Sex and Candy   \n",
       "\n",
       "                            style  brewery_id  ounces  \n",
       "0             American Pale Lager         408    12.0  \n",
       "1         American Pale Ale (APA)         177    12.0  \n",
       "2                    American IPA         177    12.0  \n",
       "3  American Double / Imperial IPA         177    12.0  \n",
       "4                    American IPA         177    12.0  "
      ],
      "text/html": "<div>\n<style scoped>\n    .dataframe tbody tr th:only-of-type {\n        vertical-align: middle;\n    }\n\n    .dataframe tbody tr th {\n        vertical-align: top;\n    }\n\n    .dataframe thead th {\n        text-align: right;\n    }\n</style>\n<table border=\"1\" class=\"dataframe\">\n  <thead>\n    <tr style=\"text-align: right;\">\n      <th></th>\n      <th>Unnamed: 0</th>\n      <th>abv</th>\n      <th>ibu</th>\n      <th>id</th>\n      <th>name</th>\n      <th>style</th>\n      <th>brewery_id</th>\n      <th>ounces</th>\n    </tr>\n  </thead>\n  <tbody>\n    <tr>\n      <th>0</th>\n      <td>0</td>\n      <td>0.050</td>\n      <td>NaN</td>\n      <td>1436</td>\n      <td>Pub Beer</td>\n      <td>American Pale Lager</td>\n      <td>408</td>\n      <td>12.0</td>\n    </tr>\n    <tr>\n      <th>1</th>\n      <td>1</td>\n      <td>0.066</td>\n      <td>NaN</td>\n      <td>2265</td>\n      <td>Devil's Cup</td>\n      <td>American Pale Ale (APA)</td>\n      <td>177</td>\n      <td>12.0</td>\n    </tr>\n    <tr>\n      <th>2</th>\n      <td>2</td>\n      <td>0.071</td>\n      <td>NaN</td>\n      <td>2264</td>\n      <td>Rise of the Phoenix</td>\n      <td>American IPA</td>\n      <td>177</td>\n      <td>12.0</td>\n    </tr>\n    <tr>\n      <th>3</th>\n      <td>3</td>\n      <td>0.090</td>\n      <td>NaN</td>\n      <td>2263</td>\n      <td>Sinister</td>\n      <td>American Double / Imperial IPA</td>\n      <td>177</td>\n      <td>12.0</td>\n    </tr>\n    <tr>\n      <th>4</th>\n      <td>4</td>\n      <td>0.075</td>\n      <td>NaN</td>\n      <td>2262</td>\n      <td>Sex and Candy</td>\n      <td>American IPA</td>\n      <td>177</td>\n      <td>12.0</td>\n    </tr>\n  </tbody>\n</table>\n</div>"
     },
     "metadata": {},
     "execution_count": 115
    }
   ],
   "source": [
    "# 1.\n",
    "beer = pd.read_csv(\"../data/datasets_beers.csv\")\n",
    "\n",
    "# 2.\n",
    "beer.head()"
   ]
  },
  {
   "cell_type": "code",
   "execution_count": 116,
   "metadata": {},
   "outputs": [
    {
     "output_type": "execute_result",
     "data": {
      "text/plain": [
       "Index(['Unnamed: 0', 'abv', 'ibu', 'id', 'name', 'style', 'brewery_id',\n",
       "       'ounces'],\n",
       "      dtype='object')"
      ]
     },
     "metadata": {},
     "execution_count": 116
    }
   ],
   "source": [
    "# 3.\n",
    "beer.columns"
   ]
  },
  {
   "cell_type": "code",
   "execution_count": 117,
   "metadata": {},
   "outputs": [
    {
     "output_type": "execute_result",
     "data": {
      "text/plain": [
       "(2410, 8)"
      ]
     },
     "metadata": {},
     "execution_count": 117
    }
   ],
   "source": [
    "# 4.\n",
    "beer.shape"
   ]
  },
  {
   "cell_type": "markdown",
   "metadata": {},
   "source": [
    "## Ejercicio 3\n",
    "[Elimina la columna \"Unnamed: 0\"](https://pandas.pydata.org/pandas-docs/stable/reference/api/pandas.DataFrame.drop.html)"
   ]
  },
  {
   "cell_type": "code",
   "execution_count": 118,
   "metadata": {},
   "outputs": [
    {
     "output_type": "execute_result",
     "data": {
      "text/plain": [
       "        abv   ibu    id                  name                           style  \\\n",
       "0     0.050   NaN  1436              Pub Beer             American Pale Lager   \n",
       "1     0.066   NaN  2265           Devil's Cup         American Pale Ale (APA)   \n",
       "2     0.071   NaN  2264   Rise of the Phoenix                    American IPA   \n",
       "3     0.090   NaN  2263              Sinister  American Double / Imperial IPA   \n",
       "4     0.075   NaN  2262         Sex and Candy                    American IPA   \n",
       "...     ...   ...   ...                   ...                             ...   \n",
       "2405  0.067  45.0   928             Belgorado                     Belgian IPA   \n",
       "2406  0.052   NaN   807         Rail Yard Ale        American Amber / Red Ale   \n",
       "2407  0.055   NaN   620       B3K Black Lager                     Schwarzbier   \n",
       "2408  0.055  40.0   145   Silverback Pale Ale         American Pale Ale (APA)   \n",
       "2409  0.052   NaN    84  Rail Yard Ale (2009)        American Amber / Red Ale   \n",
       "\n",
       "      brewery_id  ounces  \n",
       "0            408    12.0  \n",
       "1            177    12.0  \n",
       "2            177    12.0  \n",
       "3            177    12.0  \n",
       "4            177    12.0  \n",
       "...          ...     ...  \n",
       "2405         424    12.0  \n",
       "2406         424    12.0  \n",
       "2407         424    12.0  \n",
       "2408         424    12.0  \n",
       "2409         424    12.0  \n",
       "\n",
       "[2410 rows x 7 columns]"
      ],
      "text/html": "<div>\n<style scoped>\n    .dataframe tbody tr th:only-of-type {\n        vertical-align: middle;\n    }\n\n    .dataframe tbody tr th {\n        vertical-align: top;\n    }\n\n    .dataframe thead th {\n        text-align: right;\n    }\n</style>\n<table border=\"1\" class=\"dataframe\">\n  <thead>\n    <tr style=\"text-align: right;\">\n      <th></th>\n      <th>abv</th>\n      <th>ibu</th>\n      <th>id</th>\n      <th>name</th>\n      <th>style</th>\n      <th>brewery_id</th>\n      <th>ounces</th>\n    </tr>\n  </thead>\n  <tbody>\n    <tr>\n      <th>0</th>\n      <td>0.050</td>\n      <td>NaN</td>\n      <td>1436</td>\n      <td>Pub Beer</td>\n      <td>American Pale Lager</td>\n      <td>408</td>\n      <td>12.0</td>\n    </tr>\n    <tr>\n      <th>1</th>\n      <td>0.066</td>\n      <td>NaN</td>\n      <td>2265</td>\n      <td>Devil's Cup</td>\n      <td>American Pale Ale (APA)</td>\n      <td>177</td>\n      <td>12.0</td>\n    </tr>\n    <tr>\n      <th>2</th>\n      <td>0.071</td>\n      <td>NaN</td>\n      <td>2264</td>\n      <td>Rise of the Phoenix</td>\n      <td>American IPA</td>\n      <td>177</td>\n      <td>12.0</td>\n    </tr>\n    <tr>\n      <th>3</th>\n      <td>0.090</td>\n      <td>NaN</td>\n      <td>2263</td>\n      <td>Sinister</td>\n      <td>American Double / Imperial IPA</td>\n      <td>177</td>\n      <td>12.0</td>\n    </tr>\n    <tr>\n      <th>4</th>\n      <td>0.075</td>\n      <td>NaN</td>\n      <td>2262</td>\n      <td>Sex and Candy</td>\n      <td>American IPA</td>\n      <td>177</td>\n      <td>12.0</td>\n    </tr>\n    <tr>\n      <th>...</th>\n      <td>...</td>\n      <td>...</td>\n      <td>...</td>\n      <td>...</td>\n      <td>...</td>\n      <td>...</td>\n      <td>...</td>\n    </tr>\n    <tr>\n      <th>2405</th>\n      <td>0.067</td>\n      <td>45.0</td>\n      <td>928</td>\n      <td>Belgorado</td>\n      <td>Belgian IPA</td>\n      <td>424</td>\n      <td>12.0</td>\n    </tr>\n    <tr>\n      <th>2406</th>\n      <td>0.052</td>\n      <td>NaN</td>\n      <td>807</td>\n      <td>Rail Yard Ale</td>\n      <td>American Amber / Red Ale</td>\n      <td>424</td>\n      <td>12.0</td>\n    </tr>\n    <tr>\n      <th>2407</th>\n      <td>0.055</td>\n      <td>NaN</td>\n      <td>620</td>\n      <td>B3K Black Lager</td>\n      <td>Schwarzbier</td>\n      <td>424</td>\n      <td>12.0</td>\n    </tr>\n    <tr>\n      <th>2408</th>\n      <td>0.055</td>\n      <td>40.0</td>\n      <td>145</td>\n      <td>Silverback Pale Ale</td>\n      <td>American Pale Ale (APA)</td>\n      <td>424</td>\n      <td>12.0</td>\n    </tr>\n    <tr>\n      <th>2409</th>\n      <td>0.052</td>\n      <td>NaN</td>\n      <td>84</td>\n      <td>Rail Yard Ale (2009)</td>\n      <td>American Amber / Red Ale</td>\n      <td>424</td>\n      <td>12.0</td>\n    </tr>\n  </tbody>\n</table>\n<p>2410 rows × 7 columns</p>\n</div>"
     },
     "metadata": {},
     "execution_count": 118
    }
   ],
   "source": [
    "beer.drop(\"Unnamed: 0\", axis = 1, inplace = True)\n",
    "beer"
   ]
  },
  {
   "cell_type": "markdown",
   "metadata": {},
   "source": [
    "## Ejercicio 4\n",
    "¿Cuántas filas y columnas tiene el dataset?"
   ]
  },
  {
   "cell_type": "code",
   "execution_count": 119,
   "metadata": {},
   "outputs": [
    {
     "output_type": "stream",
     "name": "stdout",
     "text": [
      "Filas:  2410\nColumnas: 7\n"
     ]
    }
   ],
   "source": [
    "print(\"Filas: \", len(beer))\n",
    "print(\"Columnas:\", len(beer.columns))"
   ]
  },
  {
   "cell_type": "markdown",
   "metadata": {},
   "source": [
    "## Ejercicio 5\n",
    "¿De qué tipo son los datos?"
   ]
  },
  {
   "cell_type": "code",
   "execution_count": 120,
   "metadata": {},
   "outputs": [
    {
     "output_type": "stream",
     "name": "stdout",
     "text": [
      "<class 'pandas.core.frame.DataFrame'>\nRangeIndex: 2410 entries, 0 to 2409\nData columns (total 7 columns):\n #   Column      Non-Null Count  Dtype  \n---  ------      --------------  -----  \n 0   abv         2348 non-null   float64\n 1   ibu         1405 non-null   float64\n 2   id          2410 non-null   int64  \n 3   name        2410 non-null   object \n 4   style       2405 non-null   object \n 5   brewery_id  2410 non-null   int64  \n 6   ounces      2410 non-null   float64\ndtypes: float64(3), int64(2), object(2)\nmemory usage: 131.9+ KB\n"
     ]
    }
   ],
   "source": [
    "beer.info()"
   ]
  },
  {
   "cell_type": "markdown",
   "metadata": {},
   "source": [
    "## Ejercicio 6\n",
    "Obtén en una nuevo DataFrame un resumen con las principales estadísticas de las columnas numércias: mean, max, count, cuantiles..."
   ]
  },
  {
   "cell_type": "code",
   "execution_count": 121,
   "metadata": {},
   "outputs": [
    {
     "output_type": "execute_result",
     "data": {
      "text/plain": [
       "               abv          ibu           id   brewery_id       ounces\n",
       "count  2348.000000  1405.000000  2410.000000  2410.000000  2410.000000\n",
       "mean      0.059773    42.713167  1431.113278   231.749793    13.592241\n",
       "std       0.013542    25.954066   752.459975   157.685604     2.352204\n",
       "min       0.001000     4.000000     1.000000     0.000000     8.400000\n",
       "25%       0.050000    21.000000   808.250000    93.000000    12.000000\n",
       "50%       0.056000    35.000000  1453.500000   205.000000    12.000000\n",
       "75%       0.067000    64.000000  2075.750000   366.000000    16.000000\n",
       "max       0.128000   138.000000  2692.000000   557.000000    32.000000"
      ],
      "text/html": "<div>\n<style scoped>\n    .dataframe tbody tr th:only-of-type {\n        vertical-align: middle;\n    }\n\n    .dataframe tbody tr th {\n        vertical-align: top;\n    }\n\n    .dataframe thead th {\n        text-align: right;\n    }\n</style>\n<table border=\"1\" class=\"dataframe\">\n  <thead>\n    <tr style=\"text-align: right;\">\n      <th></th>\n      <th>abv</th>\n      <th>ibu</th>\n      <th>id</th>\n      <th>brewery_id</th>\n      <th>ounces</th>\n    </tr>\n  </thead>\n  <tbody>\n    <tr>\n      <th>count</th>\n      <td>2348.000000</td>\n      <td>1405.000000</td>\n      <td>2410.000000</td>\n      <td>2410.000000</td>\n      <td>2410.000000</td>\n    </tr>\n    <tr>\n      <th>mean</th>\n      <td>0.059773</td>\n      <td>42.713167</td>\n      <td>1431.113278</td>\n      <td>231.749793</td>\n      <td>13.592241</td>\n    </tr>\n    <tr>\n      <th>std</th>\n      <td>0.013542</td>\n      <td>25.954066</td>\n      <td>752.459975</td>\n      <td>157.685604</td>\n      <td>2.352204</td>\n    </tr>\n    <tr>\n      <th>min</th>\n      <td>0.001000</td>\n      <td>4.000000</td>\n      <td>1.000000</td>\n      <td>0.000000</td>\n      <td>8.400000</td>\n    </tr>\n    <tr>\n      <th>25%</th>\n      <td>0.050000</td>\n      <td>21.000000</td>\n      <td>808.250000</td>\n      <td>93.000000</td>\n      <td>12.000000</td>\n    </tr>\n    <tr>\n      <th>50%</th>\n      <td>0.056000</td>\n      <td>35.000000</td>\n      <td>1453.500000</td>\n      <td>205.000000</td>\n      <td>12.000000</td>\n    </tr>\n    <tr>\n      <th>75%</th>\n      <td>0.067000</td>\n      <td>64.000000</td>\n      <td>2075.750000</td>\n      <td>366.000000</td>\n      <td>16.000000</td>\n    </tr>\n    <tr>\n      <th>max</th>\n      <td>0.128000</td>\n      <td>138.000000</td>\n      <td>2692.000000</td>\n      <td>557.000000</td>\n      <td>32.000000</td>\n    </tr>\n  </tbody>\n</table>\n</div>"
     },
     "metadata": {},
     "execution_count": 121
    }
   ],
   "source": [
    "stats = beer.describe()\n",
    "stats"
   ]
  },
  {
   "cell_type": "markdown",
   "metadata": {},
   "source": [
    "## Ejercicio 7\n",
    "¿Cuántas birras hay de cada estilo en este dataset? [Investiga en la documentación de Series](https://pandas.pydata.org/pandas-docs/stable/reference/api/pandas.Series.html) si puedes hacer un conteo de valores."
   ]
  },
  {
   "cell_type": "code",
   "execution_count": 122,
   "metadata": {},
   "outputs": [
    {
     "output_type": "execute_result",
     "data": {
      "text/plain": [
       "      abv   ibu    id                                         name  \\\n",
       "0   0.050   NaN  1436                                     Pub Beer   \n",
       "1   0.066   NaN  2265                                  Devil's Cup   \n",
       "2   0.071   NaN  2264                          Rise of the Phoenix   \n",
       "3   0.090   NaN  2263                                     Sinister   \n",
       "4   0.075   NaN  2262                                Sex and Candy   \n",
       "5   0.077   NaN  2261                                 Black Exodus   \n",
       "6   0.045   NaN  2260                          Lake Street Express   \n",
       "7   0.065   NaN  2259                                      Foreman   \n",
       "8   0.055   NaN  2258                                         Jade   \n",
       "9   0.086   NaN  2131                                 Cone Crusher   \n",
       "10  0.072   NaN  2099                            Sophomoric Saison   \n",
       "11  0.073   NaN  2098                        Regional Ring Of Fire   \n",
       "12  0.069   NaN  2097                                   Garce Selé   \n",
       "13  0.085   NaN  1980                              Troll Destroyer   \n",
       "14  0.061  60.0  1979                                 Bitter Bitch   \n",
       "15  0.060   NaN  2318                                  Ginja Ninja   \n",
       "16  0.060   NaN  2170                                Cherried Away   \n",
       "17  0.060   NaN  2169                                 Rhubarbarian   \n",
       "18  0.060   NaN  1502                                  BrightCider   \n",
       "19  0.082   NaN  1593                  He Said Baltic-Style Porter   \n",
       "20  0.082   NaN  1592                 He Said Belgian-Style Tripel   \n",
       "21  0.099  92.0  1036                                Lower De Boom   \n",
       "22  0.079  45.0  1024                                Fireside Chat   \n",
       "23  0.079   NaN   976                       Marooned On Hog Island   \n",
       "24  0.044  42.0   876                              Bitter American   \n",
       "25  0.049  17.0   802         Hell or High Watermelon Wheat (2009)   \n",
       "26  0.049  17.0   801         Hell or High Watermelon Wheat (2009)   \n",
       "27  0.049  17.0   800  21st Amendment Watermelon Wheat Beer (2006)   \n",
       "28  0.070  70.0   799                    21st Amendment IPA (2006)   \n",
       "29  0.070  70.0   797                 Brew Free! or Die IPA (2008)   \n",
       "30  0.070  70.0   796                 Brew Free! or Die IPA (2009)   \n",
       "31  0.085  52.0   531         Special Edition: Allies Win The War!   \n",
       "32  0.097  94.0   432                                   Hop Crisis   \n",
       "33  0.044  42.0   353                       Bitter American (2011)   \n",
       "34  0.079  45.0   321                         Fireside Chat (2010)   \n",
       "35  0.068  65.0   173                                Back in Black   \n",
       "36  0.083  35.0    11                                 Monk's Blood   \n",
       "37  0.070  65.0    10                        Brew Free! or Die IPA   \n",
       "38  0.049  17.0     9                Hell or High Watermelon Wheat   \n",
       "39  0.070  82.0  2519                                 Bimini Twist   \n",
       "40  0.050   NaN  2518                                 Beach Blonde   \n",
       "41  0.059   NaN  2517                               Rod Bender Red   \n",
       "42  0.035  11.0  2545                        Passion Fruit Prussia   \n",
       "43  0.045  18.0  2544                                    Send Help   \n",
       "44  0.055   NaN  2324                      Cast Iron Oatmeal Brown   \n",
       "45  0.060   NaN  2288                       Reprise Centennial Red   \n",
       "46  0.055   NaN  2287                                    Alter Ego   \n",
       "47  0.065   NaN  2286                                  Divided Sky   \n",
       "48  0.065   NaN  2285                                  Resurrected   \n",
       "49  0.050  28.0  1870                                 Contact High   \n",
       "\n",
       "                             style  brewery_id  ounces  \n",
       "0              American Pale Lager         408    12.0  \n",
       "1          American Pale Ale (APA)         177    12.0  \n",
       "2                     American IPA         177    12.0  \n",
       "3   American Double / Imperial IPA         177    12.0  \n",
       "4                     American IPA         177    12.0  \n",
       "5                    Oatmeal Stout         177    12.0  \n",
       "6          American Pale Ale (APA)         177    12.0  \n",
       "7                  American Porter         177    12.0  \n",
       "8          American Pale Ale (APA)         177    12.0  \n",
       "9   American Double / Imperial IPA         177    12.0  \n",
       "10          Saison / Farmhouse Ale         177    12.0  \n",
       "11          Saison / Farmhouse Ale         177    12.0  \n",
       "12          Saison / Farmhouse Ale         177    12.0  \n",
       "13                     Belgian IPA         177    12.0  \n",
       "14         American Pale Ale (APA)         177    12.0  \n",
       "15                           Cider         154    12.0  \n",
       "16                           Cider         154    12.0  \n",
       "17                           Cider         154    12.0  \n",
       "18                           Cider         154    12.0  \n",
       "19                   Baltic Porter         368    12.0  \n",
       "20                          Tripel         368    12.0  \n",
       "21             American Barleywine         368     8.4  \n",
       "22                   Winter Warmer         368    12.0  \n",
       "23                  American Stout         368    12.0  \n",
       "24         American Pale Ale (APA)         368    12.0  \n",
       "25          Fruit / Vegetable Beer         368    12.0  \n",
       "26          Fruit / Vegetable Beer         368    12.0  \n",
       "27          Fruit / Vegetable Beer         368    12.0  \n",
       "28                    American IPA         368    12.0  \n",
       "29                    American IPA         368    12.0  \n",
       "30                    American IPA         368    12.0  \n",
       "31              English Strong Ale         368    12.0  \n",
       "32  American Double / Imperial IPA         368    12.0  \n",
       "33         American Pale Ale (APA)         368    12.0  \n",
       "34                   Winter Warmer         368    12.0  \n",
       "35              American Black Ale         368    12.0  \n",
       "36                Belgian Dark Ale         368    12.0  \n",
       "37                    American IPA         368    12.0  \n",
       "38          Fruit / Vegetable Beer         368    12.0  \n",
       "39                    American IPA          67    12.0  \n",
       "40             American Blonde Ale          67    12.0  \n",
       "41        American Amber / Red Ale          67    12.0  \n",
       "42              Berliner Weissbier          60    12.0  \n",
       "43             American Blonde Ale          60    12.0  \n",
       "44              American Brown Ale          60    12.0  \n",
       "45        American Amber / Red Ale          60    12.0  \n",
       "46              American Black Ale          60    12.0  \n",
       "47                    American IPA          60    12.0  \n",
       "48                    American IPA          60    12.0  \n",
       "49         American Pale Wheat Ale          60    12.0  "
      ],
      "text/html": "<div>\n<style scoped>\n    .dataframe tbody tr th:only-of-type {\n        vertical-align: middle;\n    }\n\n    .dataframe tbody tr th {\n        vertical-align: top;\n    }\n\n    .dataframe thead th {\n        text-align: right;\n    }\n</style>\n<table border=\"1\" class=\"dataframe\">\n  <thead>\n    <tr style=\"text-align: right;\">\n      <th></th>\n      <th>abv</th>\n      <th>ibu</th>\n      <th>id</th>\n      <th>name</th>\n      <th>style</th>\n      <th>brewery_id</th>\n      <th>ounces</th>\n    </tr>\n  </thead>\n  <tbody>\n    <tr>\n      <th>0</th>\n      <td>0.050</td>\n      <td>NaN</td>\n      <td>1436</td>\n      <td>Pub Beer</td>\n      <td>American Pale Lager</td>\n      <td>408</td>\n      <td>12.0</td>\n    </tr>\n    <tr>\n      <th>1</th>\n      <td>0.066</td>\n      <td>NaN</td>\n      <td>2265</td>\n      <td>Devil's Cup</td>\n      <td>American Pale Ale (APA)</td>\n      <td>177</td>\n      <td>12.0</td>\n    </tr>\n    <tr>\n      <th>2</th>\n      <td>0.071</td>\n      <td>NaN</td>\n      <td>2264</td>\n      <td>Rise of the Phoenix</td>\n      <td>American IPA</td>\n      <td>177</td>\n      <td>12.0</td>\n    </tr>\n    <tr>\n      <th>3</th>\n      <td>0.090</td>\n      <td>NaN</td>\n      <td>2263</td>\n      <td>Sinister</td>\n      <td>American Double / Imperial IPA</td>\n      <td>177</td>\n      <td>12.0</td>\n    </tr>\n    <tr>\n      <th>4</th>\n      <td>0.075</td>\n      <td>NaN</td>\n      <td>2262</td>\n      <td>Sex and Candy</td>\n      <td>American IPA</td>\n      <td>177</td>\n      <td>12.0</td>\n    </tr>\n    <tr>\n      <th>5</th>\n      <td>0.077</td>\n      <td>NaN</td>\n      <td>2261</td>\n      <td>Black Exodus</td>\n      <td>Oatmeal Stout</td>\n      <td>177</td>\n      <td>12.0</td>\n    </tr>\n    <tr>\n      <th>6</th>\n      <td>0.045</td>\n      <td>NaN</td>\n      <td>2260</td>\n      <td>Lake Street Express</td>\n      <td>American Pale Ale (APA)</td>\n      <td>177</td>\n      <td>12.0</td>\n    </tr>\n    <tr>\n      <th>7</th>\n      <td>0.065</td>\n      <td>NaN</td>\n      <td>2259</td>\n      <td>Foreman</td>\n      <td>American Porter</td>\n      <td>177</td>\n      <td>12.0</td>\n    </tr>\n    <tr>\n      <th>8</th>\n      <td>0.055</td>\n      <td>NaN</td>\n      <td>2258</td>\n      <td>Jade</td>\n      <td>American Pale Ale (APA)</td>\n      <td>177</td>\n      <td>12.0</td>\n    </tr>\n    <tr>\n      <th>9</th>\n      <td>0.086</td>\n      <td>NaN</td>\n      <td>2131</td>\n      <td>Cone Crusher</td>\n      <td>American Double / Imperial IPA</td>\n      <td>177</td>\n      <td>12.0</td>\n    </tr>\n    <tr>\n      <th>10</th>\n      <td>0.072</td>\n      <td>NaN</td>\n      <td>2099</td>\n      <td>Sophomoric Saison</td>\n      <td>Saison / Farmhouse Ale</td>\n      <td>177</td>\n      <td>12.0</td>\n    </tr>\n    <tr>\n      <th>11</th>\n      <td>0.073</td>\n      <td>NaN</td>\n      <td>2098</td>\n      <td>Regional Ring Of Fire</td>\n      <td>Saison / Farmhouse Ale</td>\n      <td>177</td>\n      <td>12.0</td>\n    </tr>\n    <tr>\n      <th>12</th>\n      <td>0.069</td>\n      <td>NaN</td>\n      <td>2097</td>\n      <td>Garce Selé</td>\n      <td>Saison / Farmhouse Ale</td>\n      <td>177</td>\n      <td>12.0</td>\n    </tr>\n    <tr>\n      <th>13</th>\n      <td>0.085</td>\n      <td>NaN</td>\n      <td>1980</td>\n      <td>Troll Destroyer</td>\n      <td>Belgian IPA</td>\n      <td>177</td>\n      <td>12.0</td>\n    </tr>\n    <tr>\n      <th>14</th>\n      <td>0.061</td>\n      <td>60.0</td>\n      <td>1979</td>\n      <td>Bitter Bitch</td>\n      <td>American Pale Ale (APA)</td>\n      <td>177</td>\n      <td>12.0</td>\n    </tr>\n    <tr>\n      <th>15</th>\n      <td>0.060</td>\n      <td>NaN</td>\n      <td>2318</td>\n      <td>Ginja Ninja</td>\n      <td>Cider</td>\n      <td>154</td>\n      <td>12.0</td>\n    </tr>\n    <tr>\n      <th>16</th>\n      <td>0.060</td>\n      <td>NaN</td>\n      <td>2170</td>\n      <td>Cherried Away</td>\n      <td>Cider</td>\n      <td>154</td>\n      <td>12.0</td>\n    </tr>\n    <tr>\n      <th>17</th>\n      <td>0.060</td>\n      <td>NaN</td>\n      <td>2169</td>\n      <td>Rhubarbarian</td>\n      <td>Cider</td>\n      <td>154</td>\n      <td>12.0</td>\n    </tr>\n    <tr>\n      <th>18</th>\n      <td>0.060</td>\n      <td>NaN</td>\n      <td>1502</td>\n      <td>BrightCider</td>\n      <td>Cider</td>\n      <td>154</td>\n      <td>12.0</td>\n    </tr>\n    <tr>\n      <th>19</th>\n      <td>0.082</td>\n      <td>NaN</td>\n      <td>1593</td>\n      <td>He Said Baltic-Style Porter</td>\n      <td>Baltic Porter</td>\n      <td>368</td>\n      <td>12.0</td>\n    </tr>\n    <tr>\n      <th>20</th>\n      <td>0.082</td>\n      <td>NaN</td>\n      <td>1592</td>\n      <td>He Said Belgian-Style Tripel</td>\n      <td>Tripel</td>\n      <td>368</td>\n      <td>12.0</td>\n    </tr>\n    <tr>\n      <th>21</th>\n      <td>0.099</td>\n      <td>92.0</td>\n      <td>1036</td>\n      <td>Lower De Boom</td>\n      <td>American Barleywine</td>\n      <td>368</td>\n      <td>8.4</td>\n    </tr>\n    <tr>\n      <th>22</th>\n      <td>0.079</td>\n      <td>45.0</td>\n      <td>1024</td>\n      <td>Fireside Chat</td>\n      <td>Winter Warmer</td>\n      <td>368</td>\n      <td>12.0</td>\n    </tr>\n    <tr>\n      <th>23</th>\n      <td>0.079</td>\n      <td>NaN</td>\n      <td>976</td>\n      <td>Marooned On Hog Island</td>\n      <td>American Stout</td>\n      <td>368</td>\n      <td>12.0</td>\n    </tr>\n    <tr>\n      <th>24</th>\n      <td>0.044</td>\n      <td>42.0</td>\n      <td>876</td>\n      <td>Bitter American</td>\n      <td>American Pale Ale (APA)</td>\n      <td>368</td>\n      <td>12.0</td>\n    </tr>\n    <tr>\n      <th>25</th>\n      <td>0.049</td>\n      <td>17.0</td>\n      <td>802</td>\n      <td>Hell or High Watermelon Wheat (2009)</td>\n      <td>Fruit / Vegetable Beer</td>\n      <td>368</td>\n      <td>12.0</td>\n    </tr>\n    <tr>\n      <th>26</th>\n      <td>0.049</td>\n      <td>17.0</td>\n      <td>801</td>\n      <td>Hell or High Watermelon Wheat (2009)</td>\n      <td>Fruit / Vegetable Beer</td>\n      <td>368</td>\n      <td>12.0</td>\n    </tr>\n    <tr>\n      <th>27</th>\n      <td>0.049</td>\n      <td>17.0</td>\n      <td>800</td>\n      <td>21st Amendment Watermelon Wheat Beer (2006)</td>\n      <td>Fruit / Vegetable Beer</td>\n      <td>368</td>\n      <td>12.0</td>\n    </tr>\n    <tr>\n      <th>28</th>\n      <td>0.070</td>\n      <td>70.0</td>\n      <td>799</td>\n      <td>21st Amendment IPA (2006)</td>\n      <td>American IPA</td>\n      <td>368</td>\n      <td>12.0</td>\n    </tr>\n    <tr>\n      <th>29</th>\n      <td>0.070</td>\n      <td>70.0</td>\n      <td>797</td>\n      <td>Brew Free! or Die IPA (2008)</td>\n      <td>American IPA</td>\n      <td>368</td>\n      <td>12.0</td>\n    </tr>\n    <tr>\n      <th>30</th>\n      <td>0.070</td>\n      <td>70.0</td>\n      <td>796</td>\n      <td>Brew Free! or Die IPA (2009)</td>\n      <td>American IPA</td>\n      <td>368</td>\n      <td>12.0</td>\n    </tr>\n    <tr>\n      <th>31</th>\n      <td>0.085</td>\n      <td>52.0</td>\n      <td>531</td>\n      <td>Special Edition: Allies Win The War!</td>\n      <td>English Strong Ale</td>\n      <td>368</td>\n      <td>12.0</td>\n    </tr>\n    <tr>\n      <th>32</th>\n      <td>0.097</td>\n      <td>94.0</td>\n      <td>432</td>\n      <td>Hop Crisis</td>\n      <td>American Double / Imperial IPA</td>\n      <td>368</td>\n      <td>12.0</td>\n    </tr>\n    <tr>\n      <th>33</th>\n      <td>0.044</td>\n      <td>42.0</td>\n      <td>353</td>\n      <td>Bitter American (2011)</td>\n      <td>American Pale Ale (APA)</td>\n      <td>368</td>\n      <td>12.0</td>\n    </tr>\n    <tr>\n      <th>34</th>\n      <td>0.079</td>\n      <td>45.0</td>\n      <td>321</td>\n      <td>Fireside Chat (2010)</td>\n      <td>Winter Warmer</td>\n      <td>368</td>\n      <td>12.0</td>\n    </tr>\n    <tr>\n      <th>35</th>\n      <td>0.068</td>\n      <td>65.0</td>\n      <td>173</td>\n      <td>Back in Black</td>\n      <td>American Black Ale</td>\n      <td>368</td>\n      <td>12.0</td>\n    </tr>\n    <tr>\n      <th>36</th>\n      <td>0.083</td>\n      <td>35.0</td>\n      <td>11</td>\n      <td>Monk's Blood</td>\n      <td>Belgian Dark Ale</td>\n      <td>368</td>\n      <td>12.0</td>\n    </tr>\n    <tr>\n      <th>37</th>\n      <td>0.070</td>\n      <td>65.0</td>\n      <td>10</td>\n      <td>Brew Free! or Die IPA</td>\n      <td>American IPA</td>\n      <td>368</td>\n      <td>12.0</td>\n    </tr>\n    <tr>\n      <th>38</th>\n      <td>0.049</td>\n      <td>17.0</td>\n      <td>9</td>\n      <td>Hell or High Watermelon Wheat</td>\n      <td>Fruit / Vegetable Beer</td>\n      <td>368</td>\n      <td>12.0</td>\n    </tr>\n    <tr>\n      <th>39</th>\n      <td>0.070</td>\n      <td>82.0</td>\n      <td>2519</td>\n      <td>Bimini Twist</td>\n      <td>American IPA</td>\n      <td>67</td>\n      <td>12.0</td>\n    </tr>\n    <tr>\n      <th>40</th>\n      <td>0.050</td>\n      <td>NaN</td>\n      <td>2518</td>\n      <td>Beach Blonde</td>\n      <td>American Blonde Ale</td>\n      <td>67</td>\n      <td>12.0</td>\n    </tr>\n    <tr>\n      <th>41</th>\n      <td>0.059</td>\n      <td>NaN</td>\n      <td>2517</td>\n      <td>Rod Bender Red</td>\n      <td>American Amber / Red Ale</td>\n      <td>67</td>\n      <td>12.0</td>\n    </tr>\n    <tr>\n      <th>42</th>\n      <td>0.035</td>\n      <td>11.0</td>\n      <td>2545</td>\n      <td>Passion Fruit Prussia</td>\n      <td>Berliner Weissbier</td>\n      <td>60</td>\n      <td>12.0</td>\n    </tr>\n    <tr>\n      <th>43</th>\n      <td>0.045</td>\n      <td>18.0</td>\n      <td>2544</td>\n      <td>Send Help</td>\n      <td>American Blonde Ale</td>\n      <td>60</td>\n      <td>12.0</td>\n    </tr>\n    <tr>\n      <th>44</th>\n      <td>0.055</td>\n      <td>NaN</td>\n      <td>2324</td>\n      <td>Cast Iron Oatmeal Brown</td>\n      <td>American Brown Ale</td>\n      <td>60</td>\n      <td>12.0</td>\n    </tr>\n    <tr>\n      <th>45</th>\n      <td>0.060</td>\n      <td>NaN</td>\n      <td>2288</td>\n      <td>Reprise Centennial Red</td>\n      <td>American Amber / Red Ale</td>\n      <td>60</td>\n      <td>12.0</td>\n    </tr>\n    <tr>\n      <th>46</th>\n      <td>0.055</td>\n      <td>NaN</td>\n      <td>2287</td>\n      <td>Alter Ego</td>\n      <td>American Black Ale</td>\n      <td>60</td>\n      <td>12.0</td>\n    </tr>\n    <tr>\n      <th>47</th>\n      <td>0.065</td>\n      <td>NaN</td>\n      <td>2286</td>\n      <td>Divided Sky</td>\n      <td>American IPA</td>\n      <td>60</td>\n      <td>12.0</td>\n    </tr>\n    <tr>\n      <th>48</th>\n      <td>0.065</td>\n      <td>NaN</td>\n      <td>2285</td>\n      <td>Resurrected</td>\n      <td>American IPA</td>\n      <td>60</td>\n      <td>12.0</td>\n    </tr>\n    <tr>\n      <th>49</th>\n      <td>0.050</td>\n      <td>28.0</td>\n      <td>1870</td>\n      <td>Contact High</td>\n      <td>American Pale Wheat Ale</td>\n      <td>60</td>\n      <td>12.0</td>\n    </tr>\n  </tbody>\n</table>\n</div>"
     },
     "metadata": {},
     "execution_count": 122
    }
   ],
   "source": [
    "beer.head(50)"
   ]
  },
  {
   "cell_type": "code",
   "execution_count": 123,
   "metadata": {},
   "outputs": [
    {
     "output_type": "execute_result",
     "data": {
      "text/plain": [
       "American IPA                      424\n",
       "American Pale Ale (APA)           245\n",
       "American Amber / Red Ale          133\n",
       "American Blonde Ale               108\n",
       "American Double / Imperial IPA    105\n",
       "                                 ... \n",
       "Flanders Red Ale                    1\n",
       "Kristalweizen                       1\n",
       "American Malt Liquor                1\n",
       "Flanders Oud Bruin                  1\n",
       "Low Alcohol Beer                    1\n",
       "Name: style, Length: 99, dtype: int64"
      ]
     },
     "metadata": {},
     "execution_count": 123
    }
   ],
   "source": [
    "beer[\"style\"].value_counts()"
   ]
  },
  {
   "cell_type": "markdown",
   "metadata": {},
   "source": [
    "## Ejercicio 8\n",
    "1. Imprime por pantalla los registros del 10 al 20\n",
    "2. De esos registros, imprime por pantalla desde la columna `name` a `ounces`, ambas incluidas\n",
    "3. Quédate con las columnas `abv`, `ibu` y `ounces`, y además quédate sólo con los registros 10 al 20.\n",
    "4. Convierte el resultado del apartado 3 en un array de `numpy`"
   ]
  },
  {
   "cell_type": "code",
   "execution_count": 124,
   "metadata": {},
   "outputs": [
    {
     "output_type": "stream",
     "name": "stdout",
     "text": [
      "     abv  ibu    id                 name                           style  \\\n0  0.050  NaN  1436             Pub Beer             American Pale Lager   \n1  0.066  NaN  2265          Devil's Cup         American Pale Ale (APA)   \n2  0.071  NaN  2264  Rise of the Phoenix                    American IPA   \n3  0.090  NaN  2263             Sinister  American Double / Imperial IPA   \n4  0.075  NaN  2262        Sex and Candy                    American IPA   \n5  0.077  NaN  2261         Black Exodus                   Oatmeal Stout   \n6  0.045  NaN  2260  Lake Street Express         American Pale Ale (APA)   \n7  0.065  NaN  2259              Foreman                 American Porter   \n8  0.055  NaN  2258                 Jade         American Pale Ale (APA)   \n9  0.086  NaN  2131         Cone Crusher  American Double / Imperial IPA   \n\n   brewery_id  ounces  \n0         408    12.0  \n1         177    12.0  \n2         177    12.0  \n3         177    12.0  \n4         177    12.0  \n5         177    12.0  \n6         177    12.0  \n7         177    12.0  \n8         177    12.0  \n9         177    12.0  \n"
     ]
    }
   ],
   "source": [
    "# 1)\n",
    "print(beer[:10])"
   ]
  },
  {
   "cell_type": "code",
   "execution_count": 125,
   "metadata": {},
   "outputs": [
    {
     "output_type": "execute_result",
     "data": {
      "text/plain": [
       "                      name                           style  brewery_id  ounces\n",
       "0                 Pub Beer             American Pale Lager         408    12.0\n",
       "1              Devil's Cup         American Pale Ale (APA)         177    12.0\n",
       "2      Rise of the Phoenix                    American IPA         177    12.0\n",
       "3                 Sinister  American Double / Imperial IPA         177    12.0\n",
       "4            Sex and Candy                    American IPA         177    12.0\n",
       "...                    ...                             ...         ...     ...\n",
       "2405             Belgorado                     Belgian IPA         424    12.0\n",
       "2406         Rail Yard Ale        American Amber / Red Ale         424    12.0\n",
       "2407       B3K Black Lager                     Schwarzbier         424    12.0\n",
       "2408   Silverback Pale Ale         American Pale Ale (APA)         424    12.0\n",
       "2409  Rail Yard Ale (2009)        American Amber / Red Ale         424    12.0\n",
       "\n",
       "[2410 rows x 4 columns]"
      ],
      "text/html": "<div>\n<style scoped>\n    .dataframe tbody tr th:only-of-type {\n        vertical-align: middle;\n    }\n\n    .dataframe tbody tr th {\n        vertical-align: top;\n    }\n\n    .dataframe thead th {\n        text-align: right;\n    }\n</style>\n<table border=\"1\" class=\"dataframe\">\n  <thead>\n    <tr style=\"text-align: right;\">\n      <th></th>\n      <th>name</th>\n      <th>style</th>\n      <th>brewery_id</th>\n      <th>ounces</th>\n    </tr>\n  </thead>\n  <tbody>\n    <tr>\n      <th>0</th>\n      <td>Pub Beer</td>\n      <td>American Pale Lager</td>\n      <td>408</td>\n      <td>12.0</td>\n    </tr>\n    <tr>\n      <th>1</th>\n      <td>Devil's Cup</td>\n      <td>American Pale Ale (APA)</td>\n      <td>177</td>\n      <td>12.0</td>\n    </tr>\n    <tr>\n      <th>2</th>\n      <td>Rise of the Phoenix</td>\n      <td>American IPA</td>\n      <td>177</td>\n      <td>12.0</td>\n    </tr>\n    <tr>\n      <th>3</th>\n      <td>Sinister</td>\n      <td>American Double / Imperial IPA</td>\n      <td>177</td>\n      <td>12.0</td>\n    </tr>\n    <tr>\n      <th>4</th>\n      <td>Sex and Candy</td>\n      <td>American IPA</td>\n      <td>177</td>\n      <td>12.0</td>\n    </tr>\n    <tr>\n      <th>...</th>\n      <td>...</td>\n      <td>...</td>\n      <td>...</td>\n      <td>...</td>\n    </tr>\n    <tr>\n      <th>2405</th>\n      <td>Belgorado</td>\n      <td>Belgian IPA</td>\n      <td>424</td>\n      <td>12.0</td>\n    </tr>\n    <tr>\n      <th>2406</th>\n      <td>Rail Yard Ale</td>\n      <td>American Amber / Red Ale</td>\n      <td>424</td>\n      <td>12.0</td>\n    </tr>\n    <tr>\n      <th>2407</th>\n      <td>B3K Black Lager</td>\n      <td>Schwarzbier</td>\n      <td>424</td>\n      <td>12.0</td>\n    </tr>\n    <tr>\n      <th>2408</th>\n      <td>Silverback Pale Ale</td>\n      <td>American Pale Ale (APA)</td>\n      <td>424</td>\n      <td>12.0</td>\n    </tr>\n    <tr>\n      <th>2409</th>\n      <td>Rail Yard Ale (2009)</td>\n      <td>American Amber / Red Ale</td>\n      <td>424</td>\n      <td>12.0</td>\n    </tr>\n  </tbody>\n</table>\n<p>2410 rows × 4 columns</p>\n</div>"
     },
     "metadata": {},
     "execution_count": 125
    }
   ],
   "source": [
    "# 2)\n",
    "beer.loc[:, \"name\":\"ounces\"]"
   ]
  },
  {
   "cell_type": "markdown",
   "metadata": {},
   "source": [
    "## Ejercicio 9\n",
    "¿Cuántas onzas pesan todas las birras del dataset?"
   ]
  },
  {
   "cell_type": "code",
   "execution_count": 126,
   "metadata": {},
   "outputs": [
    {
     "output_type": "execute_result",
     "data": {
      "text/plain": [
       "                            ounces\n",
       "style                             \n",
       "Abbey Single Ale              12.0\n",
       "Altbier                       16.0\n",
       "American Adjunct Lager        24.0\n",
       "American Amber / Red Ale      16.0\n",
       "American Amber / Red Lager    24.0\n",
       "...                            ...\n",
       "Tripel                        24.0\n",
       "Vienna Lager                  16.0\n",
       "Wheat Ale                     16.0\n",
       "Winter Warmer                 16.0\n",
       "Witbier                       16.0\n",
       "\n",
       "[99 rows x 1 columns]"
      ],
      "text/html": "<div>\n<style scoped>\n    .dataframe tbody tr th:only-of-type {\n        vertical-align: middle;\n    }\n\n    .dataframe tbody tr th {\n        vertical-align: top;\n    }\n\n    .dataframe thead th {\n        text-align: right;\n    }\n</style>\n<table border=\"1\" class=\"dataframe\">\n  <thead>\n    <tr style=\"text-align: right;\">\n      <th></th>\n      <th>ounces</th>\n    </tr>\n    <tr>\n      <th>style</th>\n      <th></th>\n    </tr>\n  </thead>\n  <tbody>\n    <tr>\n      <th>Abbey Single Ale</th>\n      <td>12.0</td>\n    </tr>\n    <tr>\n      <th>Altbier</th>\n      <td>16.0</td>\n    </tr>\n    <tr>\n      <th>American Adjunct Lager</th>\n      <td>24.0</td>\n    </tr>\n    <tr>\n      <th>American Amber / Red Ale</th>\n      <td>16.0</td>\n    </tr>\n    <tr>\n      <th>American Amber / Red Lager</th>\n      <td>24.0</td>\n    </tr>\n    <tr>\n      <th>...</th>\n      <td>...</td>\n    </tr>\n    <tr>\n      <th>Tripel</th>\n      <td>24.0</td>\n    </tr>\n    <tr>\n      <th>Vienna Lager</th>\n      <td>16.0</td>\n    </tr>\n    <tr>\n      <th>Wheat Ale</th>\n      <td>16.0</td>\n    </tr>\n    <tr>\n      <th>Winter Warmer</th>\n      <td>16.0</td>\n    </tr>\n    <tr>\n      <th>Witbier</th>\n      <td>16.0</td>\n    </tr>\n  </tbody>\n</table>\n<p>99 rows × 1 columns</p>\n</div>"
     },
     "metadata": {},
     "execution_count": 126
    }
   ],
   "source": [
    "beer.groupby(\"style\").agg({\"ounces\": np.max})"
   ]
  },
  {
   "cell_type": "markdown",
   "metadata": {},
   "source": [
    "## Ejercicio 10\n",
    "El amargor de las cervezas se mide por su nivel de IBUs.\n",
    "1. ¿Cuál es el amargor medio de las cervezas?\n",
    "2. ¿El máximo? ¿Y el mínimo?\n",
    "3. ¿Qué cerveza es la que tiene el amargor máximo? ¿Cuál es la de amargor mínimo?"
   ]
  },
  {
   "cell_type": "code",
   "execution_count": 127,
   "metadata": {},
   "outputs": [
    {
     "output_type": "stream",
     "name": "stdout",
     "text": [
      "Amargor máximo de las cervezas:  138.0\nAmargor mínimo de las cervezas:  4.0\nAmargor medio de las cervezas:  42.71316725978647\n"
     ]
    }
   ],
   "source": [
    "print(\"Amargor máximo de las cervezas: \", beer[\"ibu\"].max())\n",
    "print(\"Amargor mínimo de las cervezas: \", beer[\"ibu\"].min())\n",
    "print(\"Amargor medio de las cervezas: \", beer[\"ibu\"].mean())"
   ]
  },
  {
   "cell_type": "markdown",
   "metadata": {},
   "source": [
    "## Ejercicio 11\n",
    "No queda muy claro cuánto de dispar, de dispersa, es la medida de IBU. Mediante estadística descriptiva (una o dos métricas, sin gráficas), razona la dispersión de la variable IBU."
   ]
  },
  {
   "cell_type": "code",
   "execution_count": 128,
   "metadata": {},
   "outputs": [
    {
     "output_type": "stream",
     "name": "stdout",
     "text": [
      "Dispersión del amargor de las cervezas:  25.944827944812104\nDispersión del amargor de las cervezas:  134.0\n"
     ]
    }
   ],
   "source": [
    "print(\"Dispersión del amargor de las cervezas: \", np.std(beer[\"ibu\"]))\n",
    "print(\"Dispersión del amargor de las cervezas: \", beer[\"ibu\"].max() - beer[\"ibu\"].min())"
   ]
  },
  {
   "source": [
    "Dado que la media es aprox. 42, una desviación típica de casi 26 (más de la mitad de la media), parece relativamente alta. Igual haría falta explorar más datos para poder sacar mejores conclusiones "
   ],
   "cell_type": "markdown",
   "metadata": {}
  },
  {
   "cell_type": "markdown",
   "metadata": {},
   "source": [
    "## Ejercicio 12\n",
    "¿Existe alguna [relación lineal](https://pandas.pydata.org/pandas-docs/stable/reference/api/pandas.DataFrame.corr.html) entre las variables numéricas del dataset? Intenta pintar este razonmiento mediante un gráfico.\n",
    "\n",
    "Hint: La librería **Seaborn** tiene un método llamado `heatmap` que te puede ayudar. \n",
    "\n"
   ]
  },
  {
   "cell_type": "code",
   "execution_count": 129,
   "metadata": {},
   "outputs": [
    {
     "output_type": "execute_result",
     "data": {
      "text/plain": [
       "<AxesSubplot:>"
      ]
     },
     "metadata": {},
     "execution_count": 129
    },
    {
     "output_type": "display_data",
     "data": {
      "text/plain": "<Figure size 432x288 with 2 Axes>",
      "image/svg+xml": "<?xml version=\"1.0\" encoding=\"utf-8\" standalone=\"no\"?>\n<!DOCTYPE svg PUBLIC \"-//W3C//DTD SVG 1.1//EN\"\n  \"http://www.w3.org/Graphics/SVG/1.1/DTD/svg11.dtd\">\n<svg height=\"252.317344pt\" version=\"1.1\" viewBox=\"0 0 349.43325 252.317344\" width=\"349.43325pt\" xmlns=\"http://www.w3.org/2000/svg\" xmlns:xlink=\"http://www.w3.org/1999/xlink\">\n <metadata>\n  <rdf:RDF xmlns:cc=\"http://creativecommons.org/ns#\" xmlns:dc=\"http://purl.org/dc/elements/1.1/\" xmlns:rdf=\"http://www.w3.org/1999/02/22-rdf-syntax-ns#\">\n   <cc:Work>\n    <dc:type rdf:resource=\"http://purl.org/dc/dcmitype/StillImage\"/>\n    <dc:date>2021-05-18T15:07:47.842595</dc:date>\n    <dc:format>image/svg+xml</dc:format>\n    <dc:creator>\n     <cc:Agent>\n      <dc:title>Matplotlib v3.4.1, https://matplotlib.org/</dc:title>\n     </cc:Agent>\n    </dc:creator>\n   </cc:Work>\n  </rdf:RDF>\n </metadata>\n <defs>\n  <style type=\"text/css\">*{stroke-linecap:butt;stroke-linejoin:round;}</style>\n </defs>\n <g id=\"figure_1\">\n  <g id=\"patch_1\">\n   <path d=\"M -0 252.317344 \nL 349.43325 252.317344 \nL 349.43325 0 \nL -0 0 \nz\n\" style=\"fill:none;\"/>\n  </g>\n  <g id=\"axes_1\">\n   <g id=\"patch_2\">\n    <path d=\"M 23.878125 228.439219 \nL 291.718125 228.439219 \nL 291.718125 10.999219 \nL 23.878125 10.999219 \nz\n\" style=\"fill:#ffffff;\"/>\n   </g>\n   <g id=\"QuadMesh_1\">\n    <path clip-path=\"url(#p994e359b74)\" d=\"M 23.878125 10.999219 \nL 157.798125 10.999219 \nL 157.798125 119.719219 \nL 23.878125 119.719219 \nL 23.878125 10.999219 \n\" style=\"fill:#faebdd;\"/>\n    <path clip-path=\"url(#p994e359b74)\" d=\"M 157.798125 10.999219 \nL 291.718125 10.999219 \nL 291.718125 119.719219 \nL 157.798125 119.719219 \nL 157.798125 10.999219 \n\" style=\"fill:#03051a;\"/>\n    <path clip-path=\"url(#p994e359b74)\" d=\"M 23.878125 119.719219 \nL 157.798125 119.719219 \nL 157.798125 228.439219 \nL 23.878125 228.439219 \nL 23.878125 119.719219 \n\" style=\"fill:#03051a;\"/>\n    <path clip-path=\"url(#p994e359b74)\" d=\"M 157.798125 119.719219 \nL 291.718125 119.719219 \nL 291.718125 228.439219 \nL 157.798125 228.439219 \nL 157.798125 119.719219 \n\" style=\"fill:#faebdd;\"/>\n   </g>\n   <g id=\"matplotlib.axis_1\">\n    <g id=\"xtick_1\">\n     <g id=\"line2d_1\">\n      <defs>\n       <path d=\"M 0 0 \nL 0 3.5 \n\" id=\"md0065290bc\" style=\"stroke:#000000;stroke-width:0.8;\"/>\n      </defs>\n      <g>\n       <use style=\"stroke:#000000;stroke-width:0.8;\" x=\"90.838125\" xlink:href=\"#md0065290bc\" y=\"228.439219\"/>\n      </g>\n     </g>\n     <g id=\"text_1\">\n      <!-- abv -->\n      <g transform=\"translate(81.640469 243.037656)scale(0.1 -0.1)\">\n       <defs>\n        <path d=\"M 2194 1759 \nQ 1497 1759 1228 1600 \nQ 959 1441 959 1056 \nQ 959 750 1161 570 \nQ 1363 391 1709 391 \nQ 2188 391 2477 730 \nQ 2766 1069 2766 1631 \nL 2766 1759 \nL 2194 1759 \nz\nM 3341 1997 \nL 3341 0 \nL 2766 0 \nL 2766 531 \nQ 2569 213 2275 61 \nQ 1981 -91 1556 -91 \nQ 1019 -91 701 211 \nQ 384 513 384 1019 \nQ 384 1609 779 1909 \nQ 1175 2209 1959 2209 \nL 2766 2209 \nL 2766 2266 \nQ 2766 2663 2505 2880 \nQ 2244 3097 1772 3097 \nQ 1472 3097 1187 3025 \nQ 903 2953 641 2809 \nL 641 3341 \nQ 956 3463 1253 3523 \nQ 1550 3584 1831 3584 \nQ 2591 3584 2966 3190 \nQ 3341 2797 3341 1997 \nz\n\" id=\"DejaVuSans-61\" transform=\"scale(0.015625)\"/>\n        <path d=\"M 3116 1747 \nQ 3116 2381 2855 2742 \nQ 2594 3103 2138 3103 \nQ 1681 3103 1420 2742 \nQ 1159 2381 1159 1747 \nQ 1159 1113 1420 752 \nQ 1681 391 2138 391 \nQ 2594 391 2855 752 \nQ 3116 1113 3116 1747 \nz\nM 1159 2969 \nQ 1341 3281 1617 3432 \nQ 1894 3584 2278 3584 \nQ 2916 3584 3314 3078 \nQ 3713 2572 3713 1747 \nQ 3713 922 3314 415 \nQ 2916 -91 2278 -91 \nQ 1894 -91 1617 61 \nQ 1341 213 1159 525 \nL 1159 0 \nL 581 0 \nL 581 4863 \nL 1159 4863 \nL 1159 2969 \nz\n\" id=\"DejaVuSans-62\" transform=\"scale(0.015625)\"/>\n        <path d=\"M 191 3500 \nL 800 3500 \nL 1894 563 \nL 2988 3500 \nL 3597 3500 \nL 2284 0 \nL 1503 0 \nL 191 3500 \nz\n\" id=\"DejaVuSans-76\" transform=\"scale(0.015625)\"/>\n       </defs>\n       <use xlink:href=\"#DejaVuSans-61\"/>\n       <use x=\"61.279297\" xlink:href=\"#DejaVuSans-62\"/>\n       <use x=\"124.755859\" xlink:href=\"#DejaVuSans-76\"/>\n      </g>\n     </g>\n    </g>\n    <g id=\"xtick_2\">\n     <g id=\"line2d_2\">\n      <g>\n       <use style=\"stroke:#000000;stroke-width:0.8;\" x=\"224.758125\" xlink:href=\"#md0065290bc\" y=\"228.439219\"/>\n      </g>\n     </g>\n     <g id=\"text_2\">\n      <!-- ounces -->\n      <g transform=\"translate(206.930781 243.037656)scale(0.1 -0.1)\">\n       <defs>\n        <path d=\"M 1959 3097 \nQ 1497 3097 1228 2736 \nQ 959 2375 959 1747 \nQ 959 1119 1226 758 \nQ 1494 397 1959 397 \nQ 2419 397 2687 759 \nQ 2956 1122 2956 1747 \nQ 2956 2369 2687 2733 \nQ 2419 3097 1959 3097 \nz\nM 1959 3584 \nQ 2709 3584 3137 3096 \nQ 3566 2609 3566 1747 \nQ 3566 888 3137 398 \nQ 2709 -91 1959 -91 \nQ 1206 -91 779 398 \nQ 353 888 353 1747 \nQ 353 2609 779 3096 \nQ 1206 3584 1959 3584 \nz\n\" id=\"DejaVuSans-6f\" transform=\"scale(0.015625)\"/>\n        <path d=\"M 544 1381 \nL 544 3500 \nL 1119 3500 \nL 1119 1403 \nQ 1119 906 1312 657 \nQ 1506 409 1894 409 \nQ 2359 409 2629 706 \nQ 2900 1003 2900 1516 \nL 2900 3500 \nL 3475 3500 \nL 3475 0 \nL 2900 0 \nL 2900 538 \nQ 2691 219 2414 64 \nQ 2138 -91 1772 -91 \nQ 1169 -91 856 284 \nQ 544 659 544 1381 \nz\nM 1991 3584 \nL 1991 3584 \nz\n\" id=\"DejaVuSans-75\" transform=\"scale(0.015625)\"/>\n        <path d=\"M 3513 2113 \nL 3513 0 \nL 2938 0 \nL 2938 2094 \nQ 2938 2591 2744 2837 \nQ 2550 3084 2163 3084 \nQ 1697 3084 1428 2787 \nQ 1159 2491 1159 1978 \nL 1159 0 \nL 581 0 \nL 581 3500 \nL 1159 3500 \nL 1159 2956 \nQ 1366 3272 1645 3428 \nQ 1925 3584 2291 3584 \nQ 2894 3584 3203 3211 \nQ 3513 2838 3513 2113 \nz\n\" id=\"DejaVuSans-6e\" transform=\"scale(0.015625)\"/>\n        <path d=\"M 3122 3366 \nL 3122 2828 \nQ 2878 2963 2633 3030 \nQ 2388 3097 2138 3097 \nQ 1578 3097 1268 2742 \nQ 959 2388 959 1747 \nQ 959 1106 1268 751 \nQ 1578 397 2138 397 \nQ 2388 397 2633 464 \nQ 2878 531 3122 666 \nL 3122 134 \nQ 2881 22 2623 -34 \nQ 2366 -91 2075 -91 \nQ 1284 -91 818 406 \nQ 353 903 353 1747 \nQ 353 2603 823 3093 \nQ 1294 3584 2113 3584 \nQ 2378 3584 2631 3529 \nQ 2884 3475 3122 3366 \nz\n\" id=\"DejaVuSans-63\" transform=\"scale(0.015625)\"/>\n        <path d=\"M 3597 1894 \nL 3597 1613 \nL 953 1613 \nQ 991 1019 1311 708 \nQ 1631 397 2203 397 \nQ 2534 397 2845 478 \nQ 3156 559 3463 722 \nL 3463 178 \nQ 3153 47 2828 -22 \nQ 2503 -91 2169 -91 \nQ 1331 -91 842 396 \nQ 353 884 353 1716 \nQ 353 2575 817 3079 \nQ 1281 3584 2069 3584 \nQ 2775 3584 3186 3129 \nQ 3597 2675 3597 1894 \nz\nM 3022 2063 \nQ 3016 2534 2758 2815 \nQ 2500 3097 2075 3097 \nQ 1594 3097 1305 2825 \nQ 1016 2553 972 2059 \nL 3022 2063 \nz\n\" id=\"DejaVuSans-65\" transform=\"scale(0.015625)\"/>\n        <path d=\"M 2834 3397 \nL 2834 2853 \nQ 2591 2978 2328 3040 \nQ 2066 3103 1784 3103 \nQ 1356 3103 1142 2972 \nQ 928 2841 928 2578 \nQ 928 2378 1081 2264 \nQ 1234 2150 1697 2047 \nL 1894 2003 \nQ 2506 1872 2764 1633 \nQ 3022 1394 3022 966 \nQ 3022 478 2636 193 \nQ 2250 -91 1575 -91 \nQ 1294 -91 989 -36 \nQ 684 19 347 128 \nL 347 722 \nQ 666 556 975 473 \nQ 1284 391 1588 391 \nQ 1994 391 2212 530 \nQ 2431 669 2431 922 \nQ 2431 1156 2273 1281 \nQ 2116 1406 1581 1522 \nL 1381 1569 \nQ 847 1681 609 1914 \nQ 372 2147 372 2553 \nQ 372 3047 722 3315 \nQ 1072 3584 1716 3584 \nQ 2034 3584 2315 3537 \nQ 2597 3491 2834 3397 \nz\n\" id=\"DejaVuSans-73\" transform=\"scale(0.015625)\"/>\n       </defs>\n       <use xlink:href=\"#DejaVuSans-6f\"/>\n       <use x=\"61.181641\" xlink:href=\"#DejaVuSans-75\"/>\n       <use x=\"124.560547\" xlink:href=\"#DejaVuSans-6e\"/>\n       <use x=\"187.939453\" xlink:href=\"#DejaVuSans-63\"/>\n       <use x=\"242.919922\" xlink:href=\"#DejaVuSans-65\"/>\n       <use x=\"304.443359\" xlink:href=\"#DejaVuSans-73\"/>\n      </g>\n     </g>\n    </g>\n   </g>\n   <g id=\"matplotlib.axis_2\">\n    <g id=\"ytick_1\">\n     <g id=\"line2d_3\">\n      <defs>\n       <path d=\"M 0 0 \nL -3.5 0 \n\" id=\"m8a79b89e2b\" style=\"stroke:#000000;stroke-width:0.8;\"/>\n      </defs>\n      <g>\n       <use style=\"stroke:#000000;stroke-width:0.8;\" x=\"23.878125\" xlink:href=\"#m8a79b89e2b\" y=\"65.359219\"/>\n      </g>\n     </g>\n     <g id=\"text_3\">\n      <!-- abv -->\n      <g transform=\"translate(14.798437 79.955312)rotate(-90)scale(0.1 -0.1)\">\n       <use xlink:href=\"#DejaVuSans-61\"/>\n       <use x=\"61.279297\" xlink:href=\"#DejaVuSans-62\"/>\n       <use x=\"124.755859\" xlink:href=\"#DejaVuSans-76\"/>\n      </g>\n     </g>\n    </g>\n    <g id=\"ytick_2\">\n     <g id=\"line2d_4\">\n      <g>\n       <use style=\"stroke:#000000;stroke-width:0.8;\" x=\"23.878125\" xlink:href=\"#m8a79b89e2b\" y=\"174.079219\"/>\n      </g>\n     </g>\n     <g id=\"text_4\">\n      <!-- ounces -->\n      <g transform=\"translate(14.798437 205.934687)rotate(-90)scale(0.1 -0.1)\">\n       <use xlink:href=\"#DejaVuSans-6f\"/>\n       <use x=\"61.181641\" xlink:href=\"#DejaVuSans-75\"/>\n       <use x=\"124.560547\" xlink:href=\"#DejaVuSans-6e\"/>\n       <use x=\"187.939453\" xlink:href=\"#DejaVuSans-63\"/>\n       <use x=\"242.919922\" xlink:href=\"#DejaVuSans-65\"/>\n       <use x=\"304.443359\" xlink:href=\"#DejaVuSans-73\"/>\n      </g>\n     </g>\n    </g>\n   </g>\n   <g id=\"text_5\">\n    <!-- 1 -->\n    <g style=\"fill:#262626;\" transform=\"translate(87.656875 68.118594)scale(0.1 -0.1)\">\n     <defs>\n      <path d=\"M 794 531 \nL 1825 531 \nL 1825 4091 \nL 703 3866 \nL 703 4441 \nL 1819 4666 \nL 2450 4666 \nL 2450 531 \nL 3481 531 \nL 3481 0 \nL 794 0 \nL 794 531 \nz\n\" id=\"DejaVuSans-31\" transform=\"scale(0.015625)\"/>\n     </defs>\n     <use xlink:href=\"#DejaVuSans-31\"/>\n    </g>\n   </g>\n   <g id=\"text_6\">\n    <!-- 0.17 -->\n    <g style=\"fill:#ffffff;\" transform=\"translate(213.625313 68.118594)scale(0.1 -0.1)\">\n     <defs>\n      <path d=\"M 2034 4250 \nQ 1547 4250 1301 3770 \nQ 1056 3291 1056 2328 \nQ 1056 1369 1301 889 \nQ 1547 409 2034 409 \nQ 2525 409 2770 889 \nQ 3016 1369 3016 2328 \nQ 3016 3291 2770 3770 \nQ 2525 4250 2034 4250 \nz\nM 2034 4750 \nQ 2819 4750 3233 4129 \nQ 3647 3509 3647 2328 \nQ 3647 1150 3233 529 \nQ 2819 -91 2034 -91 \nQ 1250 -91 836 529 \nQ 422 1150 422 2328 \nQ 422 3509 836 4129 \nQ 1250 4750 2034 4750 \nz\n\" id=\"DejaVuSans-30\" transform=\"scale(0.015625)\"/>\n      <path d=\"M 684 794 \nL 1344 794 \nL 1344 0 \nL 684 0 \nL 684 794 \nz\n\" id=\"DejaVuSans-2e\" transform=\"scale(0.015625)\"/>\n      <path d=\"M 525 4666 \nL 3525 4666 \nL 3525 4397 \nL 1831 0 \nL 1172 0 \nL 2766 4134 \nL 525 4134 \nL 525 4666 \nz\n\" id=\"DejaVuSans-37\" transform=\"scale(0.015625)\"/>\n     </defs>\n     <use xlink:href=\"#DejaVuSans-30\"/>\n     <use x=\"63.623047\" xlink:href=\"#DejaVuSans-2e\"/>\n     <use x=\"95.410156\" xlink:href=\"#DejaVuSans-31\"/>\n     <use x=\"159.033203\" xlink:href=\"#DejaVuSans-37\"/>\n    </g>\n   </g>\n   <g id=\"text_7\">\n    <!-- 0.17 -->\n    <g style=\"fill:#ffffff;\" transform=\"translate(79.705313 176.838594)scale(0.1 -0.1)\">\n     <use xlink:href=\"#DejaVuSans-30\"/>\n     <use x=\"63.623047\" xlink:href=\"#DejaVuSans-2e\"/>\n     <use x=\"95.410156\" xlink:href=\"#DejaVuSans-31\"/>\n     <use x=\"159.033203\" xlink:href=\"#DejaVuSans-37\"/>\n    </g>\n   </g>\n   <g id=\"text_8\">\n    <!-- 1 -->\n    <g style=\"fill:#262626;\" transform=\"translate(221.576875 176.838594)scale(0.1 -0.1)\">\n     <use xlink:href=\"#DejaVuSans-31\"/>\n    </g>\n   </g>\n  </g>\n  <g id=\"axes_2\">\n   <g id=\"patch_3\">\n    <path d=\"M 308.458125 228.439219 \nL 319.330125 228.439219 \nL 319.330125 10.999219 \nL 308.458125 10.999219 \nz\n\" style=\"fill:#ffffff;\"/>\n   </g>\n   <g id=\"patch_4\">\n    <path clip-path=\"url(#pf83ba20377)\" d=\"M 308.458125 228.439219 \nL 308.458125 227.589844 \nL 308.458125 11.848594 \nL 308.458125 10.999219 \nL 319.330125 10.999219 \nL 319.330125 11.848594 \nL 319.330125 227.589844 \nL 319.330125 228.439219 \nL 319.330125 228.439219 \nz\n\" style=\"fill:#ffffff;stroke:#ffffff;stroke-linejoin:miter;stroke-width:0.01;\"/>\n   </g>\n   <image height=\"217\" id=\"imaged172b1580c\" transform=\"scale(1 -1)translate(0 -217)\" width=\"11\" x=\"308\" xlink:href=\"data:image/png;base64,\niVBORw0KGgoAAAANSUhEUgAAAAsAAADZCAYAAAD2WsoCAAABYUlEQVR4nO3aQW4DMQwDQMtyPtH/vzPptUfPgYA2aM4EQVK0duOk+vXzWZefU7fItdbZe9+Da91znyoAbwGTDGLukjRyBonZ0gCDQzQn02gBj6jolPKTjCnjlvIP0UwyrqE67iFpUOt6hoz7lKM5d6x1ZDC4N0TGya1ckZFjfua4iRnAJ1akZHQpGef6u4TLIHDsdE8xKOCY5iPgEhmPTCPYjXtqM2ib/yMyhHlIGiXMVn7SHGQWMEzltDAX7IKzBWxFEubeb5Ah0QXTiMnojqUBJzYY3W6RYZqvscock7Hh2WZDgasCTgOYF3UDVj/KsDRizGYQXrbRYIp5CXPBUwWZzWBMhlxZyOvJWfIb0JToGq7uUXMqjSU3rsZ8JI2YjCnRWRpU0RHHavX96sczaN2IgWkoksYUzcScM5gbd475P40/4OpXiHlKGjMMlvxVIJkGlT/3VkDR5VaBdOPLDf4CdO8rI5K+A88AAAAASUVORK5CYII=\" y=\"-11\"/>\n   <g id=\"matplotlib.axis_3\"/>\n   <g id=\"matplotlib.axis_4\">\n    <g id=\"ytick_3\">\n     <g id=\"line2d_5\">\n      <defs>\n       <path d=\"M 0 0 \nL 3.5 0 \n\" id=\"md54bc8089c\" style=\"stroke:#000000;stroke-width:0.8;\"/>\n      </defs>\n      <g>\n       <use style=\"stroke:#000000;stroke-width:0.8;\" x=\"319.330125\" xlink:href=\"#md54bc8089c\" y=\"221.220459\"/>\n      </g>\n     </g>\n     <g id=\"text_9\">\n      <!-- 0.2 -->\n      <g transform=\"translate(326.330125 225.019678)scale(0.1 -0.1)\">\n       <defs>\n        <path d=\"M 1228 531 \nL 3431 531 \nL 3431 0 \nL 469 0 \nL 469 531 \nQ 828 903 1448 1529 \nQ 2069 2156 2228 2338 \nQ 2531 2678 2651 2914 \nQ 2772 3150 2772 3378 \nQ 2772 3750 2511 3984 \nQ 2250 4219 1831 4219 \nQ 1534 4219 1204 4116 \nQ 875 4013 500 3803 \nL 500 4441 \nQ 881 4594 1212 4672 \nQ 1544 4750 1819 4750 \nQ 2544 4750 2975 4387 \nQ 3406 4025 3406 3419 \nQ 3406 3131 3298 2873 \nQ 3191 2616 2906 2266 \nQ 2828 2175 2409 1742 \nQ 1991 1309 1228 531 \nz\n\" id=\"DejaVuSans-32\" transform=\"scale(0.015625)\"/>\n       </defs>\n       <use xlink:href=\"#DejaVuSans-30\"/>\n       <use x=\"63.623047\" xlink:href=\"#DejaVuSans-2e\"/>\n       <use x=\"95.410156\" xlink:href=\"#DejaVuSans-32\"/>\n      </g>\n     </g>\n    </g>\n    <g id=\"ytick_4\">\n     <g id=\"line2d_6\">\n      <g>\n       <use style=\"stroke:#000000;stroke-width:0.8;\" x=\"319.330125\" xlink:href=\"#md54bc8089c\" y=\"194.942804\"/>\n      </g>\n     </g>\n     <g id=\"text_10\">\n      <!-- 0.3 -->\n      <g transform=\"translate(326.330125 198.742023)scale(0.1 -0.1)\">\n       <defs>\n        <path d=\"M 2597 2516 \nQ 3050 2419 3304 2112 \nQ 3559 1806 3559 1356 \nQ 3559 666 3084 287 \nQ 2609 -91 1734 -91 \nQ 1441 -91 1130 -33 \nQ 819 25 488 141 \nL 488 750 \nQ 750 597 1062 519 \nQ 1375 441 1716 441 \nQ 2309 441 2620 675 \nQ 2931 909 2931 1356 \nQ 2931 1769 2642 2001 \nQ 2353 2234 1838 2234 \nL 1294 2234 \nL 1294 2753 \nL 1863 2753 \nQ 2328 2753 2575 2939 \nQ 2822 3125 2822 3475 \nQ 2822 3834 2567 4026 \nQ 2313 4219 1838 4219 \nQ 1578 4219 1281 4162 \nQ 984 4106 628 3988 \nL 628 4550 \nQ 988 4650 1302 4700 \nQ 1616 4750 1894 4750 \nQ 2613 4750 3031 4423 \nQ 3450 4097 3450 3541 \nQ 3450 3153 3228 2886 \nQ 3006 2619 2597 2516 \nz\n\" id=\"DejaVuSans-33\" transform=\"scale(0.015625)\"/>\n       </defs>\n       <use xlink:href=\"#DejaVuSans-30\"/>\n       <use x=\"63.623047\" xlink:href=\"#DejaVuSans-2e\"/>\n       <use x=\"95.410156\" xlink:href=\"#DejaVuSans-33\"/>\n      </g>\n     </g>\n    </g>\n    <g id=\"ytick_5\">\n     <g id=\"line2d_7\">\n      <g>\n       <use style=\"stroke:#000000;stroke-width:0.8;\" x=\"319.330125\" xlink:href=\"#md54bc8089c\" y=\"168.665149\"/>\n      </g>\n     </g>\n     <g id=\"text_11\">\n      <!-- 0.4 -->\n      <g transform=\"translate(326.330125 172.464368)scale(0.1 -0.1)\">\n       <defs>\n        <path d=\"M 2419 4116 \nL 825 1625 \nL 2419 1625 \nL 2419 4116 \nz\nM 2253 4666 \nL 3047 4666 \nL 3047 1625 \nL 3713 1625 \nL 3713 1100 \nL 3047 1100 \nL 3047 0 \nL 2419 0 \nL 2419 1100 \nL 313 1100 \nL 313 1709 \nL 2253 4666 \nz\n\" id=\"DejaVuSans-34\" transform=\"scale(0.015625)\"/>\n       </defs>\n       <use xlink:href=\"#DejaVuSans-30\"/>\n       <use x=\"63.623047\" xlink:href=\"#DejaVuSans-2e\"/>\n       <use x=\"95.410156\" xlink:href=\"#DejaVuSans-34\"/>\n      </g>\n     </g>\n    </g>\n    <g id=\"ytick_6\">\n     <g id=\"line2d_8\">\n      <g>\n       <use style=\"stroke:#000000;stroke-width:0.8;\" x=\"319.330125\" xlink:href=\"#md54bc8089c\" y=\"142.387494\"/>\n      </g>\n     </g>\n     <g id=\"text_12\">\n      <!-- 0.5 -->\n      <g transform=\"translate(326.330125 146.186713)scale(0.1 -0.1)\">\n       <defs>\n        <path d=\"M 691 4666 \nL 3169 4666 \nL 3169 4134 \nL 1269 4134 \nL 1269 2991 \nQ 1406 3038 1543 3061 \nQ 1681 3084 1819 3084 \nQ 2600 3084 3056 2656 \nQ 3513 2228 3513 1497 \nQ 3513 744 3044 326 \nQ 2575 -91 1722 -91 \nQ 1428 -91 1123 -41 \nQ 819 9 494 109 \nL 494 744 \nQ 775 591 1075 516 \nQ 1375 441 1709 441 \nQ 2250 441 2565 725 \nQ 2881 1009 2881 1497 \nQ 2881 1984 2565 2268 \nQ 2250 2553 1709 2553 \nQ 1456 2553 1204 2497 \nQ 953 2441 691 2322 \nL 691 4666 \nz\n\" id=\"DejaVuSans-35\" transform=\"scale(0.015625)\"/>\n       </defs>\n       <use xlink:href=\"#DejaVuSans-30\"/>\n       <use x=\"63.623047\" xlink:href=\"#DejaVuSans-2e\"/>\n       <use x=\"95.410156\" xlink:href=\"#DejaVuSans-35\"/>\n      </g>\n     </g>\n    </g>\n    <g id=\"ytick_7\">\n     <g id=\"line2d_9\">\n      <g>\n       <use style=\"stroke:#000000;stroke-width:0.8;\" x=\"319.330125\" xlink:href=\"#md54bc8089c\" y=\"116.109839\"/>\n      </g>\n     </g>\n     <g id=\"text_13\">\n      <!-- 0.6 -->\n      <g transform=\"translate(326.330125 119.909058)scale(0.1 -0.1)\">\n       <defs>\n        <path d=\"M 2113 2584 \nQ 1688 2584 1439 2293 \nQ 1191 2003 1191 1497 \nQ 1191 994 1439 701 \nQ 1688 409 2113 409 \nQ 2538 409 2786 701 \nQ 3034 994 3034 1497 \nQ 3034 2003 2786 2293 \nQ 2538 2584 2113 2584 \nz\nM 3366 4563 \nL 3366 3988 \nQ 3128 4100 2886 4159 \nQ 2644 4219 2406 4219 \nQ 1781 4219 1451 3797 \nQ 1122 3375 1075 2522 \nQ 1259 2794 1537 2939 \nQ 1816 3084 2150 3084 \nQ 2853 3084 3261 2657 \nQ 3669 2231 3669 1497 \nQ 3669 778 3244 343 \nQ 2819 -91 2113 -91 \nQ 1303 -91 875 529 \nQ 447 1150 447 2328 \nQ 447 3434 972 4092 \nQ 1497 4750 2381 4750 \nQ 2619 4750 2861 4703 \nQ 3103 4656 3366 4563 \nz\n\" id=\"DejaVuSans-36\" transform=\"scale(0.015625)\"/>\n       </defs>\n       <use xlink:href=\"#DejaVuSans-30\"/>\n       <use x=\"63.623047\" xlink:href=\"#DejaVuSans-2e\"/>\n       <use x=\"95.410156\" xlink:href=\"#DejaVuSans-36\"/>\n      </g>\n     </g>\n    </g>\n    <g id=\"ytick_8\">\n     <g id=\"line2d_10\">\n      <g>\n       <use style=\"stroke:#000000;stroke-width:0.8;\" x=\"319.330125\" xlink:href=\"#md54bc8089c\" y=\"89.832184\"/>\n      </g>\n     </g>\n     <g id=\"text_14\">\n      <!-- 0.7 -->\n      <g transform=\"translate(326.330125 93.631403)scale(0.1 -0.1)\">\n       <use xlink:href=\"#DejaVuSans-30\"/>\n       <use x=\"63.623047\" xlink:href=\"#DejaVuSans-2e\"/>\n       <use x=\"95.410156\" xlink:href=\"#DejaVuSans-37\"/>\n      </g>\n     </g>\n    </g>\n    <g id=\"ytick_9\">\n     <g id=\"line2d_11\">\n      <g>\n       <use style=\"stroke:#000000;stroke-width:0.8;\" x=\"319.330125\" xlink:href=\"#md54bc8089c\" y=\"63.554529\"/>\n      </g>\n     </g>\n     <g id=\"text_15\">\n      <!-- 0.8 -->\n      <g transform=\"translate(326.330125 67.353748)scale(0.1 -0.1)\">\n       <defs>\n        <path d=\"M 2034 2216 \nQ 1584 2216 1326 1975 \nQ 1069 1734 1069 1313 \nQ 1069 891 1326 650 \nQ 1584 409 2034 409 \nQ 2484 409 2743 651 \nQ 3003 894 3003 1313 \nQ 3003 1734 2745 1975 \nQ 2488 2216 2034 2216 \nz\nM 1403 2484 \nQ 997 2584 770 2862 \nQ 544 3141 544 3541 \nQ 544 4100 942 4425 \nQ 1341 4750 2034 4750 \nQ 2731 4750 3128 4425 \nQ 3525 4100 3525 3541 \nQ 3525 3141 3298 2862 \nQ 3072 2584 2669 2484 \nQ 3125 2378 3379 2068 \nQ 3634 1759 3634 1313 \nQ 3634 634 3220 271 \nQ 2806 -91 2034 -91 \nQ 1263 -91 848 271 \nQ 434 634 434 1313 \nQ 434 1759 690 2068 \nQ 947 2378 1403 2484 \nz\nM 1172 3481 \nQ 1172 3119 1398 2916 \nQ 1625 2713 2034 2713 \nQ 2441 2713 2670 2916 \nQ 2900 3119 2900 3481 \nQ 2900 3844 2670 4047 \nQ 2441 4250 2034 4250 \nQ 1625 4250 1398 4047 \nQ 1172 3844 1172 3481 \nz\n\" id=\"DejaVuSans-38\" transform=\"scale(0.015625)\"/>\n       </defs>\n       <use xlink:href=\"#DejaVuSans-30\"/>\n       <use x=\"63.623047\" xlink:href=\"#DejaVuSans-2e\"/>\n       <use x=\"95.410156\" xlink:href=\"#DejaVuSans-38\"/>\n      </g>\n     </g>\n    </g>\n    <g id=\"ytick_10\">\n     <g id=\"line2d_12\">\n      <g>\n       <use style=\"stroke:#000000;stroke-width:0.8;\" x=\"319.330125\" xlink:href=\"#md54bc8089c\" y=\"37.276874\"/>\n      </g>\n     </g>\n     <g id=\"text_16\">\n      <!-- 0.9 -->\n      <g transform=\"translate(326.330125 41.076093)scale(0.1 -0.1)\">\n       <defs>\n        <path d=\"M 703 97 \nL 703 672 \nQ 941 559 1184 500 \nQ 1428 441 1663 441 \nQ 2288 441 2617 861 \nQ 2947 1281 2994 2138 \nQ 2813 1869 2534 1725 \nQ 2256 1581 1919 1581 \nQ 1219 1581 811 2004 \nQ 403 2428 403 3163 \nQ 403 3881 828 4315 \nQ 1253 4750 1959 4750 \nQ 2769 4750 3195 4129 \nQ 3622 3509 3622 2328 \nQ 3622 1225 3098 567 \nQ 2575 -91 1691 -91 \nQ 1453 -91 1209 -44 \nQ 966 3 703 97 \nz\nM 1959 2075 \nQ 2384 2075 2632 2365 \nQ 2881 2656 2881 3163 \nQ 2881 3666 2632 3958 \nQ 2384 4250 1959 4250 \nQ 1534 4250 1286 3958 \nQ 1038 3666 1038 3163 \nQ 1038 2656 1286 2365 \nQ 1534 2075 1959 2075 \nz\n\" id=\"DejaVuSans-39\" transform=\"scale(0.015625)\"/>\n       </defs>\n       <use xlink:href=\"#DejaVuSans-30\"/>\n       <use x=\"63.623047\" xlink:href=\"#DejaVuSans-2e\"/>\n       <use x=\"95.410156\" xlink:href=\"#DejaVuSans-39\"/>\n      </g>\n     </g>\n    </g>\n    <g id=\"ytick_11\">\n     <g id=\"line2d_13\">\n      <g>\n       <use style=\"stroke:#000000;stroke-width:0.8;\" x=\"319.330125\" xlink:href=\"#md54bc8089c\" y=\"10.999219\"/>\n      </g>\n     </g>\n     <g id=\"text_17\">\n      <!-- 1.0 -->\n      <g transform=\"translate(326.330125 14.798437)scale(0.1 -0.1)\">\n       <use xlink:href=\"#DejaVuSans-31\"/>\n       <use x=\"63.623047\" xlink:href=\"#DejaVuSans-2e\"/>\n       <use x=\"95.410156\" xlink:href=\"#DejaVuSans-30\"/>\n      </g>\n     </g>\n    </g>\n   </g>\n   <g id=\"LineCollection_1\"/>\n   <g id=\"patch_5\">\n    <path d=\"M 308.458125 228.439219 \nL 308.458125 227.589844 \nL 308.458125 11.848594 \nL 308.458125 10.999219 \nL 319.330125 10.999219 \nL 319.330125 11.848594 \nL 319.330125 227.589844 \nL 319.330125 228.439219 \nz\n\" style=\"fill:none;\"/>\n   </g>\n  </g>\n </g>\n <defs>\n  <clipPath id=\"p994e359b74\">\n   <rect height=\"217.44\" width=\"267.84\" x=\"23.878125\" y=\"10.999219\"/>\n  </clipPath>\n  <clipPath id=\"pf83ba20377\">\n   <rect height=\"217.44\" width=\"10.872\" x=\"308.458125\" y=\"10.999219\"/>\n  </clipPath>\n </defs>\n</svg>\n",
      "image/png": "[encoded data removed]"
     },
     "metadata": {
      "needs_background": "light"
     }
    }
   ],
   "source": [
    "corr = beer[[\"abv\", \"ounces\"]].corr()\n",
    "sns.heatmap(corr, annot = True)"
   ]
  },
  {
   "source": [
    "La correlación es positiva, aunque bastante baja. Por tanto, podríamos descartar la teoría de alguna relación interesante entre ambas."
   ],
   "cell_type": "markdown",
   "metadata": {}
  },
  {
   "cell_type": "markdown",
   "metadata": {},
   "source": [
    "## Ejercicio 13\n",
    "Representa el nivel de alcohol (columna `abv`) en un [histograma](https://pandas.pydata.org/pandas-docs/stable/reference/api/pandas.DataFrame.hist.html). ¿Se trata de una distribución simétrica o asimétrica?"
   ]
  },
  {
   "cell_type": "code",
   "execution_count": 130,
   "metadata": {},
   "outputs": [
    {
     "output_type": "execute_result",
     "data": {
      "text/plain": [
       "<seaborn.axisgrid.FacetGrid at 0x11e86c950>"
      ]
     },
     "metadata": {},
     "execution_count": 130
    },
    {
     "output_type": "display_data",
     "data": {
      "text/plain": "<Figure size 360x360 with 1 Axes>",
      "image/svg+xml": "<?xml version=\"1.0\" encoding=\"utf-8\" standalone=\"no\"?>\n<!DOCTYPE svg PUBLIC \"-//W3C//DTD SVG 1.1//EN\"\n  \"http://www.w3.org/Graphics/SVG/1.1/DTD/svg11.dtd\">\n<svg height=\"352.15625pt\" version=\"1.1\" viewBox=\"0 0 352.565625 352.15625\" width=\"352.565625pt\" xmlns=\"http://www.w3.org/2000/svg\" xmlns:xlink=\"http://www.w3.org/1999/xlink\">\n <metadata>\n  <rdf:RDF xmlns:cc=\"http://creativecommons.org/ns#\" xmlns:dc=\"http://purl.org/dc/elements/1.1/\" xmlns:rdf=\"http://www.w3.org/1999/02/22-rdf-syntax-ns#\">\n   <cc:Work>\n    <dc:type rdf:resource=\"http://purl.org/dc/dcmitype/StillImage\"/>\n    <dc:date>2021-05-18T15:07:48.597396</dc:date>\n    <dc:format>image/svg+xml</dc:format>\n    <dc:creator>\n     <cc:Agent>\n      <dc:title>Matplotlib v3.4.1, https://matplotlib.org/</dc:title>\n     </cc:Agent>\n    </dc:creator>\n   </cc:Work>\n  </rdf:RDF>\n </metadata>\n <defs>\n  <style type=\"text/css\">*{stroke-linecap:butt;stroke-linejoin:round;}</style>\n </defs>\n <g id=\"figure_1\">\n  <g id=\"patch_1\">\n   <path d=\"M 0 352.15625 \nL 352.565625 352.15625 \nL 352.565625 0 \nL 0 0 \nz\n\" style=\"fill:none;\"/>\n  </g>\n  <g id=\"axes_1\">\n   <g id=\"patch_2\">\n    <path d=\"M 46.965625 314.6 \nL 345.365625 314.6 \nL 345.365625 7.2 \nL 46.965625 7.2 \nz\n\" style=\"fill:#ffffff;\"/>\n   </g>\n   <g id=\"patch_3\">\n    <path clip-path=\"url(#pdbaba961d9)\" d=\"M 60.529261 314.6 \nL 65.954716 314.6 \nL 65.954716 313.543098 \nL 60.529261 313.543098 \nz\n\" style=\"fill:#1f77b4;fill-opacity:0.75;stroke:#000000;stroke-linejoin:miter;stroke-width:0.55925;\"/>\n   </g>\n   <g id=\"patch_4\">\n    <path clip-path=\"url(#pdbaba961d9)\" d=\"M 65.954716 314.6 \nL 71.38017 314.6 \nL 71.38017 314.6 \nL 65.954716 314.6 \nz\n\" style=\"fill:#1f77b4;fill-opacity:0.75;stroke:#000000;stroke-linejoin:miter;stroke-width:0.55925;\"/>\n   </g>\n   <g id=\"patch_5\">\n    <path clip-path=\"url(#pdbaba961d9)\" d=\"M 71.38017 314.6 \nL 76.805625 314.6 \nL 76.805625 314.6 \nL 71.38017 314.6 \nz\n\" style=\"fill:#1f77b4;fill-opacity:0.75;stroke:#000000;stroke-linejoin:miter;stroke-width:0.55925;\"/>\n   </g>\n   <g id=\"patch_6\">\n    <path clip-path=\"url(#pdbaba961d9)\" d=\"M 76.805625 314.6 \nL 82.23108 314.6 \nL 82.23108 314.6 \nL 76.805625 314.6 \nz\n\" style=\"fill:#1f77b4;fill-opacity:0.75;stroke:#000000;stroke-linejoin:miter;stroke-width:0.55925;\"/>\n   </g>\n   <g id=\"patch_7\">\n    <path clip-path=\"url(#pdbaba961d9)\" d=\"M 82.23108 314.6 \nL 87.656534 314.6 \nL 87.656534 314.6 \nL 82.23108 314.6 \nz\n\" style=\"fill:#1f77b4;fill-opacity:0.75;stroke:#000000;stroke-linejoin:miter;stroke-width:0.55925;\"/>\n   </g>\n   <g id=\"patch_8\">\n    <path clip-path=\"url(#pdbaba961d9)\" d=\"M 87.656534 314.6 \nL 93.081989 314.6 \nL 93.081989 314.6 \nL 87.656534 314.6 \nz\n\" style=\"fill:#1f77b4;fill-opacity:0.75;stroke:#000000;stroke-linejoin:miter;stroke-width:0.55925;\"/>\n   </g>\n   <g id=\"patch_9\">\n    <path clip-path=\"url(#pdbaba961d9)\" d=\"M 93.081989 314.6 \nL 98.507443 314.6 \nL 98.507443 314.6 \nL 93.081989 314.6 \nz\n\" style=\"fill:#1f77b4;fill-opacity:0.75;stroke:#000000;stroke-linejoin:miter;stroke-width:0.55925;\"/>\n   </g>\n   <g id=\"patch_10\">\n    <path clip-path=\"url(#pdbaba961d9)\" d=\"M 98.507443 314.6 \nL 103.932898 314.6 \nL 103.932898 314.6 \nL 98.507443 314.6 \nz\n\" style=\"fill:#1f77b4;fill-opacity:0.75;stroke:#000000;stroke-linejoin:miter;stroke-width:0.55925;\"/>\n   </g>\n   <g id=\"patch_11\">\n    <path clip-path=\"url(#pdbaba961d9)\" d=\"M 103.932898 314.6 \nL 109.358352 314.6 \nL 109.358352 314.6 \nL 103.932898 314.6 \nz\n\" style=\"fill:#1f77b4;fill-opacity:0.75;stroke:#000000;stroke-linejoin:miter;stroke-width:0.55925;\"/>\n   </g>\n   <g id=\"patch_12\">\n    <path clip-path=\"url(#pdbaba961d9)\" d=\"M 109.358352 314.6 \nL 114.783807 314.6 \nL 114.783807 314.6 \nL 109.358352 314.6 \nz\n\" style=\"fill:#1f77b4;fill-opacity:0.75;stroke:#000000;stroke-linejoin:miter;stroke-width:0.55925;\"/>\n   </g>\n   <g id=\"patch_13\">\n    <path clip-path=\"url(#pdbaba961d9)\" d=\"M 114.783807 314.6 \nL 120.209261 314.6 \nL 120.209261 311.429293 \nL 114.783807 311.429293 \nz\n\" style=\"fill:#1f77b4;fill-opacity:0.75;stroke:#000000;stroke-linejoin:miter;stroke-width:0.55925;\"/>\n   </g>\n   <g id=\"patch_14\">\n    <path clip-path=\"url(#pdbaba961d9)\" d=\"M 120.209261 314.6 \nL 125.634716 314.6 \nL 125.634716 314.6 \nL 120.209261 314.6 \nz\n\" style=\"fill:#1f77b4;fill-opacity:0.75;stroke:#000000;stroke-linejoin:miter;stroke-width:0.55925;\"/>\n   </g>\n   <g id=\"patch_15\">\n    <path clip-path=\"url(#pdbaba961d9)\" d=\"M 125.634716 314.6 \nL 131.06017 314.6 \nL 131.06017 310.372391 \nL 125.634716 310.372391 \nz\n\" style=\"fill:#1f77b4;fill-opacity:0.75;stroke:#000000;stroke-linejoin:miter;stroke-width:0.55925;\"/>\n   </g>\n   <g id=\"patch_16\">\n    <path clip-path=\"url(#pdbaba961d9)\" d=\"M 131.06017 314.6 \nL 136.485625 314.6 \nL 136.485625 308.258587 \nL 131.06017 308.258587 \nz\n\" style=\"fill:#1f77b4;fill-opacity:0.75;stroke:#000000;stroke-linejoin:miter;stroke-width:0.55925;\"/>\n   </g>\n   <g id=\"patch_17\">\n    <path clip-path=\"url(#pdbaba961d9)\" d=\"M 136.485625 314.6 \nL 141.91108 314.6 \nL 141.91108 288.177445 \nL 136.485625 288.177445 \nz\n\" style=\"fill:#1f77b4;fill-opacity:0.75;stroke:#000000;stroke-linejoin:miter;stroke-width:0.55925;\"/>\n   </g>\n   <g id=\"patch_18\">\n    <path clip-path=\"url(#pdbaba961d9)\" d=\"M 141.91108 314.6 \nL 147.336534 314.6 \nL 147.336534 264.925597 \nL 141.91108 264.925597 \nz\n\" style=\"fill:#1f77b4;fill-opacity:0.75;stroke:#000000;stroke-linejoin:miter;stroke-width:0.55925;\"/>\n   </g>\n   <g id=\"patch_19\">\n    <path clip-path=\"url(#pdbaba961d9)\" d=\"M 147.336534 314.6 \nL 152.761989 314.6 \nL 152.761989 244.844456 \nL 147.336534 244.844456 \nz\n\" style=\"fill:#1f77b4;fill-opacity:0.75;stroke:#000000;stroke-linejoin:miter;stroke-width:0.55925;\"/>\n   </g>\n   <g id=\"patch_20\">\n    <path clip-path=\"url(#pdbaba961d9)\" d=\"M 152.761989 314.6 \nL 158.187443 314.6 \nL 158.187443 186.714836 \nL 152.761989 186.714836 \nz\n\" style=\"fill:#1f77b4;fill-opacity:0.75;stroke:#000000;stroke-linejoin:miter;stroke-width:0.55925;\"/>\n   </g>\n   <g id=\"patch_21\">\n    <path clip-path=\"url(#pdbaba961d9)\" d=\"M 158.187443 314.6 \nL 163.612898 314.6 \nL 163.612898 115.90239 \nL 158.187443 115.90239 \nz\n\" style=\"fill:#1f77b4;fill-opacity:0.75;stroke:#000000;stroke-linejoin:miter;stroke-width:0.55925;\"/>\n   </g>\n   <g id=\"patch_22\">\n    <path clip-path=\"url(#pdbaba961d9)\" d=\"M 163.612898 314.6 \nL 169.038352 314.6 \nL 169.038352 21.838095 \nL 163.612898 21.838095 \nz\n\" style=\"fill:#1f77b4;fill-opacity:0.75;stroke:#000000;stroke-linejoin:miter;stroke-width:0.55925;\"/>\n   </g>\n   <g id=\"patch_23\">\n    <path clip-path=\"url(#pdbaba961d9)\" d=\"M 169.038352 314.6 \nL 174.463807 314.6 \nL 174.463807 85.252226 \nL 169.038352 85.252226 \nz\n\" style=\"fill:#1f77b4;fill-opacity:0.75;stroke:#000000;stroke-linejoin:miter;stroke-width:0.55925;\"/>\n   </g>\n   <g id=\"patch_24\">\n    <path clip-path=\"url(#pdbaba961d9)\" d=\"M 174.463807 314.6 \nL 179.889261 314.6 \nL 179.889261 77.853911 \nL 174.463807 77.853911 \nz\n\" style=\"fill:#1f77b4;fill-opacity:0.75;stroke:#000000;stroke-linejoin:miter;stroke-width:0.55925;\"/>\n   </g>\n   <g id=\"patch_25\">\n    <path clip-path=\"url(#pdbaba961d9)\" d=\"M 179.889261 314.6 \nL 185.314716 314.6 \nL 185.314716 153.950868 \nL 179.889261 153.950868 \nz\n\" style=\"fill:#1f77b4;fill-opacity:0.75;stroke:#000000;stroke-linejoin:miter;stroke-width:0.55925;\"/>\n   </g>\n   <g id=\"patch_26\">\n    <path clip-path=\"url(#pdbaba961d9)\" d=\"M 185.314716 314.6 \nL 190.74017 314.6 \nL 190.74017 160.292281 \nL 185.314716 160.292281 \nz\n\" style=\"fill:#1f77b4;fill-opacity:0.75;stroke:#000000;stroke-linejoin:miter;stroke-width:0.55925;\"/>\n   </g>\n   <g id=\"patch_27\">\n    <path clip-path=\"url(#pdbaba961d9)\" d=\"M 190.74017 314.6 \nL 196.165625 314.6 \nL 196.165625 189.885542 \nL 190.74017 189.885542 \nz\n\" style=\"fill:#1f77b4;fill-opacity:0.75;stroke:#000000;stroke-linejoin:miter;stroke-width:0.55925;\"/>\n   </g>\n   <g id=\"patch_28\">\n    <path clip-path=\"url(#pdbaba961d9)\" d=\"M 196.165625 314.6 \nL 201.59108 314.6 \nL 201.59108 137.040433 \nL 196.165625 137.040433 \nz\n\" style=\"fill:#1f77b4;fill-opacity:0.75;stroke:#000000;stroke-linejoin:miter;stroke-width:0.55925;\"/>\n   </g>\n   <g id=\"patch_29\">\n    <path clip-path=\"url(#pdbaba961d9)\" d=\"M 201.59108 314.6 \nL 207.016534 314.6 \nL 207.016534 225.820217 \nL 201.59108 225.820217 \nz\n\" style=\"fill:#1f77b4;fill-opacity:0.75;stroke:#000000;stroke-linejoin:miter;stroke-width:0.55925;\"/>\n   </g>\n   <g id=\"patch_30\">\n    <path clip-path=\"url(#pdbaba961d9)\" d=\"M 207.016534 314.6 \nL 212.441989 314.6 \nL 212.441989 159.235379 \nL 207.016534 159.235379 \nz\n\" style=\"fill:#1f77b4;fill-opacity:0.75;stroke:#000000;stroke-linejoin:miter;stroke-width:0.55925;\"/>\n   </g>\n   <g id=\"patch_31\">\n    <path clip-path=\"url(#pdbaba961d9)\" d=\"M 212.441989 314.6 \nL 217.867443 314.6 \nL 217.867443 287.120543 \nL 212.441989 287.120543 \nz\n\" style=\"fill:#1f77b4;fill-opacity:0.75;stroke:#000000;stroke-linejoin:miter;stroke-width:0.55925;\"/>\n   </g>\n   <g id=\"patch_32\">\n    <path clip-path=\"url(#pdbaba961d9)\" d=\"M 217.867443 314.6 \nL 223.292898 314.6 \nL 223.292898 250.128967 \nL 217.867443 250.128967 \nz\n\" style=\"fill:#1f77b4;fill-opacity:0.75;stroke:#000000;stroke-linejoin:miter;stroke-width:0.55925;\"/>\n   </g>\n   <g id=\"patch_33\">\n    <path clip-path=\"url(#pdbaba961d9)\" d=\"M 223.292898 314.6 \nL 228.718352 314.6 \nL 228.718352 296.632663 \nL 223.292898 296.632663 \nz\n\" style=\"fill:#1f77b4;fill-opacity:0.75;stroke:#000000;stroke-linejoin:miter;stroke-width:0.55925;\"/>\n   </g>\n   <g id=\"patch_34\">\n    <path clip-path=\"url(#pdbaba961d9)\" d=\"M 228.718352 314.6 \nL 234.143807 314.6 \nL 234.143807 226.877119 \nL 228.718352 226.877119 \nz\n\" style=\"fill:#1f77b4;fill-opacity:0.75;stroke:#000000;stroke-linejoin:miter;stroke-width:0.55925;\"/>\n   </g>\n   <g id=\"patch_35\">\n    <path clip-path=\"url(#pdbaba961d9)\" d=\"M 234.143807 314.6 \nL 239.569261 314.6 \nL 239.569261 302.974076 \nL 234.143807 302.974076 \nz\n\" style=\"fill:#1f77b4;fill-opacity:0.75;stroke:#000000;stroke-linejoin:miter;stroke-width:0.55925;\"/>\n   </g>\n   <g id=\"patch_36\">\n    <path clip-path=\"url(#pdbaba961d9)\" d=\"M 239.569261 314.6 \nL 244.994716 314.6 \nL 244.994716 272.323913 \nL 239.569261 272.323913 \nz\n\" style=\"fill:#1f77b4;fill-opacity:0.75;stroke:#000000;stroke-linejoin:miter;stroke-width:0.55925;\"/>\n   </g>\n   <g id=\"patch_37\">\n    <path clip-path=\"url(#pdbaba961d9)\" d=\"M 244.994716 314.6 \nL 250.42017 314.6 \nL 250.42017 306.144783 \nL 244.994716 306.144783 \nz\n\" style=\"fill:#1f77b4;fill-opacity:0.75;stroke:#000000;stroke-linejoin:miter;stroke-width:0.55925;\"/>\n   </g>\n   <g id=\"patch_38\">\n    <path clip-path=\"url(#pdbaba961d9)\" d=\"M 250.42017 314.6 \nL 255.845625 314.6 \nL 255.845625 272.323913 \nL 250.42017 272.323913 \nz\n\" style=\"fill:#1f77b4;fill-opacity:0.75;stroke:#000000;stroke-linejoin:miter;stroke-width:0.55925;\"/>\n   </g>\n   <g id=\"patch_39\">\n    <path clip-path=\"url(#pdbaba961d9)\" d=\"M 255.845625 314.6 \nL 261.27108 314.6 \nL 261.27108 308.258587 \nL 255.845625 308.258587 \nz\n\" style=\"fill:#1f77b4;fill-opacity:0.75;stroke:#000000;stroke-linejoin:miter;stroke-width:0.55925;\"/>\n   </g>\n   <g id=\"patch_40\">\n    <path clip-path=\"url(#pdbaba961d9)\" d=\"M 261.27108 314.6 \nL 266.696534 314.6 \nL 266.696534 294.518859 \nL 261.27108 294.518859 \nz\n\" style=\"fill:#1f77b4;fill-opacity:0.75;stroke:#000000;stroke-linejoin:miter;stroke-width:0.55925;\"/>\n   </g>\n   <g id=\"patch_41\">\n    <path clip-path=\"url(#pdbaba961d9)\" d=\"M 266.696534 314.6 \nL 272.121989 314.6 \nL 272.121989 273.380815 \nL 266.696534 273.380815 \nz\n\" style=\"fill:#1f77b4;fill-opacity:0.75;stroke:#000000;stroke-linejoin:miter;stroke-width:0.55925;\"/>\n   </g>\n   <g id=\"patch_42\">\n    <path clip-path=\"url(#pdbaba961d9)\" d=\"M 272.121989 314.6 \nL 277.547443 314.6 \nL 277.547443 314.6 \nL 272.121989 314.6 \nz\n\" style=\"fill:#1f77b4;fill-opacity:0.75;stroke:#000000;stroke-linejoin:miter;stroke-width:0.55925;\"/>\n   </g>\n   <g id=\"patch_43\">\n    <path clip-path=\"url(#pdbaba961d9)\" d=\"M 277.547443 314.6 \nL 282.972898 314.6 \nL 282.972898 313.543098 \nL 277.547443 313.543098 \nz\n\" style=\"fill:#1f77b4;fill-opacity:0.75;stroke:#000000;stroke-linejoin:miter;stroke-width:0.55925;\"/>\n   </g>\n   <g id=\"patch_44\">\n    <path clip-path=\"url(#pdbaba961d9)\" d=\"M 282.972898 314.6 \nL 288.398352 314.6 \nL 288.398352 314.6 \nL 282.972898 314.6 \nz\n\" style=\"fill:#1f77b4;fill-opacity:0.75;stroke:#000000;stroke-linejoin:miter;stroke-width:0.55925;\"/>\n   </g>\n   <g id=\"patch_45\">\n    <path clip-path=\"url(#pdbaba961d9)\" d=\"M 288.398352 314.6 \nL 293.823807 314.6 \nL 293.823807 314.6 \nL 288.398352 314.6 \nz\n\" style=\"fill:#1f77b4;fill-opacity:0.75;stroke:#000000;stroke-linejoin:miter;stroke-width:0.55925;\"/>\n   </g>\n   <g id=\"patch_46\">\n    <path clip-path=\"url(#pdbaba961d9)\" d=\"M 293.823807 314.6 \nL 299.249261 314.6 \nL 299.249261 314.6 \nL 293.823807 314.6 \nz\n\" style=\"fill:#1f77b4;fill-opacity:0.75;stroke:#000000;stroke-linejoin:miter;stroke-width:0.55925;\"/>\n   </g>\n   <g id=\"patch_47\">\n    <path clip-path=\"url(#pdbaba961d9)\" d=\"M 299.249261 314.6 \nL 304.674716 314.6 \nL 304.674716 314.6 \nL 299.249261 314.6 \nz\n\" style=\"fill:#1f77b4;fill-opacity:0.75;stroke:#000000;stroke-linejoin:miter;stroke-width:0.55925;\"/>\n   </g>\n   <g id=\"patch_48\">\n    <path clip-path=\"url(#pdbaba961d9)\" d=\"M 304.674716 314.6 \nL 310.10017 314.6 \nL 310.10017 314.6 \nL 304.674716 314.6 \nz\n\" style=\"fill:#1f77b4;fill-opacity:0.75;stroke:#000000;stroke-linejoin:miter;stroke-width:0.55925;\"/>\n   </g>\n   <g id=\"patch_49\">\n    <path clip-path=\"url(#pdbaba961d9)\" d=\"M 310.10017 314.6 \nL 315.525625 314.6 \nL 315.525625 313.543098 \nL 310.10017 313.543098 \nz\n\" style=\"fill:#1f77b4;fill-opacity:0.75;stroke:#000000;stroke-linejoin:miter;stroke-width:0.55925;\"/>\n   </g>\n   <g id=\"patch_50\">\n    <path clip-path=\"url(#pdbaba961d9)\" d=\"M 315.525625 314.6 \nL 320.95108 314.6 \nL 320.95108 314.6 \nL 315.525625 314.6 \nz\n\" style=\"fill:#1f77b4;fill-opacity:0.75;stroke:#000000;stroke-linejoin:miter;stroke-width:0.55925;\"/>\n   </g>\n   <g id=\"patch_51\">\n    <path clip-path=\"url(#pdbaba961d9)\" d=\"M 320.95108 314.6 \nL 326.376534 314.6 \nL 326.376534 313.543098 \nL 320.95108 313.543098 \nz\n\" style=\"fill:#1f77b4;fill-opacity:0.75;stroke:#000000;stroke-linejoin:miter;stroke-width:0.55925;\"/>\n   </g>\n   <g id=\"patch_52\">\n    <path clip-path=\"url(#pdbaba961d9)\" d=\"M 326.376534 314.6 \nL 331.801989 314.6 \nL 331.801989 313.543098 \nL 326.376534 313.543098 \nz\n\" style=\"fill:#1f77b4;fill-opacity:0.75;stroke:#000000;stroke-linejoin:miter;stroke-width:0.55925;\"/>\n   </g>\n   <g id=\"matplotlib.axis_1\">\n    <g id=\"xtick_1\">\n     <g id=\"line2d_1\">\n      <defs>\n       <path d=\"M 0 0 \nL 0 3.5 \n\" id=\"m79ab265a06\" style=\"stroke:#000000;stroke-width:0.8;\"/>\n      </defs>\n      <g>\n       <use style=\"stroke:#000000;stroke-width:0.8;\" x=\"58.393256\" xlink:href=\"#m79ab265a06\" y=\"314.6\"/>\n      </g>\n     </g>\n     <g id=\"text_1\">\n      <!-- 0.00 -->\n      <g transform=\"translate(47.260443 329.198437)scale(0.1 -0.1)\">\n       <defs>\n        <path d=\"M 2034 4250 \nQ 1547 4250 1301 3770 \nQ 1056 3291 1056 2328 \nQ 1056 1369 1301 889 \nQ 1547 409 2034 409 \nQ 2525 409 2770 889 \nQ 3016 1369 3016 2328 \nQ 3016 3291 2770 3770 \nQ 2525 4250 2034 4250 \nz\nM 2034 4750 \nQ 2819 4750 3233 4129 \nQ 3647 3509 3647 2328 \nQ 3647 1150 3233 529 \nQ 2819 -91 2034 -91 \nQ 1250 -91 836 529 \nQ 422 1150 422 2328 \nQ 422 3509 836 4129 \nQ 1250 4750 2034 4750 \nz\n\" id=\"DejaVuSans-30\" transform=\"scale(0.015625)\"/>\n        <path d=\"M 684 794 \nL 1344 794 \nL 1344 0 \nL 684 0 \nL 684 794 \nz\n\" id=\"DejaVuSans-2e\" transform=\"scale(0.015625)\"/>\n       </defs>\n       <use xlink:href=\"#DejaVuSans-30\"/>\n       <use x=\"63.623047\" xlink:href=\"#DejaVuSans-2e\"/>\n       <use x=\"95.410156\" xlink:href=\"#DejaVuSans-30\"/>\n       <use x=\"159.033203\" xlink:href=\"#DejaVuSans-30\"/>\n      </g>\n     </g>\n    </g>\n    <g id=\"xtick_2\">\n     <g id=\"line2d_2\">\n      <g>\n       <use style=\"stroke:#000000;stroke-width:0.8;\" x=\"101.11337\" xlink:href=\"#m79ab265a06\" y=\"314.6\"/>\n      </g>\n     </g>\n     <g id=\"text_2\">\n      <!-- 0.02 -->\n      <g transform=\"translate(89.980558 329.198437)scale(0.1 -0.1)\">\n       <defs>\n        <path d=\"M 1228 531 \nL 3431 531 \nL 3431 0 \nL 469 0 \nL 469 531 \nQ 828 903 1448 1529 \nQ 2069 2156 2228 2338 \nQ 2531 2678 2651 2914 \nQ 2772 3150 2772 3378 \nQ 2772 3750 2511 3984 \nQ 2250 4219 1831 4219 \nQ 1534 4219 1204 4116 \nQ 875 4013 500 3803 \nL 500 4441 \nQ 881 4594 1212 4672 \nQ 1544 4750 1819 4750 \nQ 2544 4750 2975 4387 \nQ 3406 4025 3406 3419 \nQ 3406 3131 3298 2873 \nQ 3191 2616 2906 2266 \nQ 2828 2175 2409 1742 \nQ 1991 1309 1228 531 \nz\n\" id=\"DejaVuSans-32\" transform=\"scale(0.015625)\"/>\n       </defs>\n       <use xlink:href=\"#DejaVuSans-30\"/>\n       <use x=\"63.623047\" xlink:href=\"#DejaVuSans-2e\"/>\n       <use x=\"95.410156\" xlink:href=\"#DejaVuSans-30\"/>\n       <use x=\"159.033203\" xlink:href=\"#DejaVuSans-32\"/>\n      </g>\n     </g>\n    </g>\n    <g id=\"xtick_3\">\n     <g id=\"line2d_3\">\n      <g>\n       <use style=\"stroke:#000000;stroke-width:0.8;\" x=\"143.833485\" xlink:href=\"#m79ab265a06\" y=\"314.6\"/>\n      </g>\n     </g>\n     <g id=\"text_3\">\n      <!-- 0.04 -->\n      <g transform=\"translate(132.700672 329.198437)scale(0.1 -0.1)\">\n       <defs>\n        <path d=\"M 2419 4116 \nL 825 1625 \nL 2419 1625 \nL 2419 4116 \nz\nM 2253 4666 \nL 3047 4666 \nL 3047 1625 \nL 3713 1625 \nL 3713 1100 \nL 3047 1100 \nL 3047 0 \nL 2419 0 \nL 2419 1100 \nL 313 1100 \nL 313 1709 \nL 2253 4666 \nz\n\" id=\"DejaVuSans-34\" transform=\"scale(0.015625)\"/>\n       </defs>\n       <use xlink:href=\"#DejaVuSans-30\"/>\n       <use x=\"63.623047\" xlink:href=\"#DejaVuSans-2e\"/>\n       <use x=\"95.410156\" xlink:href=\"#DejaVuSans-30\"/>\n       <use x=\"159.033203\" xlink:href=\"#DejaVuSans-34\"/>\n      </g>\n     </g>\n    </g>\n    <g id=\"xtick_4\">\n     <g id=\"line2d_4\">\n      <g>\n       <use style=\"stroke:#000000;stroke-width:0.8;\" x=\"186.553599\" xlink:href=\"#m79ab265a06\" y=\"314.6\"/>\n      </g>\n     </g>\n     <g id=\"text_4\">\n      <!-- 0.06 -->\n      <g transform=\"translate(175.420787 329.198437)scale(0.1 -0.1)\">\n       <defs>\n        <path d=\"M 2113 2584 \nQ 1688 2584 1439 2293 \nQ 1191 2003 1191 1497 \nQ 1191 994 1439 701 \nQ 1688 409 2113 409 \nQ 2538 409 2786 701 \nQ 3034 994 3034 1497 \nQ 3034 2003 2786 2293 \nQ 2538 2584 2113 2584 \nz\nM 3366 4563 \nL 3366 3988 \nQ 3128 4100 2886 4159 \nQ 2644 4219 2406 4219 \nQ 1781 4219 1451 3797 \nQ 1122 3375 1075 2522 \nQ 1259 2794 1537 2939 \nQ 1816 3084 2150 3084 \nQ 2853 3084 3261 2657 \nQ 3669 2231 3669 1497 \nQ 3669 778 3244 343 \nQ 2819 -91 2113 -91 \nQ 1303 -91 875 529 \nQ 447 1150 447 2328 \nQ 447 3434 972 4092 \nQ 1497 4750 2381 4750 \nQ 2619 4750 2861 4703 \nQ 3103 4656 3366 4563 \nz\n\" id=\"DejaVuSans-36\" transform=\"scale(0.015625)\"/>\n       </defs>\n       <use xlink:href=\"#DejaVuSans-30\"/>\n       <use x=\"63.623047\" xlink:href=\"#DejaVuSans-2e\"/>\n       <use x=\"95.410156\" xlink:href=\"#DejaVuSans-30\"/>\n       <use x=\"159.033203\" xlink:href=\"#DejaVuSans-36\"/>\n      </g>\n     </g>\n    </g>\n    <g id=\"xtick_5\">\n     <g id=\"line2d_5\">\n      <g>\n       <use style=\"stroke:#000000;stroke-width:0.8;\" x=\"229.273714\" xlink:href=\"#m79ab265a06\" y=\"314.6\"/>\n      </g>\n     </g>\n     <g id=\"text_5\">\n      <!-- 0.08 -->\n      <g transform=\"translate(218.140901 329.198437)scale(0.1 -0.1)\">\n       <defs>\n        <path d=\"M 2034 2216 \nQ 1584 2216 1326 1975 \nQ 1069 1734 1069 1313 \nQ 1069 891 1326 650 \nQ 1584 409 2034 409 \nQ 2484 409 2743 651 \nQ 3003 894 3003 1313 \nQ 3003 1734 2745 1975 \nQ 2488 2216 2034 2216 \nz\nM 1403 2484 \nQ 997 2584 770 2862 \nQ 544 3141 544 3541 \nQ 544 4100 942 4425 \nQ 1341 4750 2034 4750 \nQ 2731 4750 3128 4425 \nQ 3525 4100 3525 3541 \nQ 3525 3141 3298 2862 \nQ 3072 2584 2669 2484 \nQ 3125 2378 3379 2068 \nQ 3634 1759 3634 1313 \nQ 3634 634 3220 271 \nQ 2806 -91 2034 -91 \nQ 1263 -91 848 271 \nQ 434 634 434 1313 \nQ 434 1759 690 2068 \nQ 947 2378 1403 2484 \nz\nM 1172 3481 \nQ 1172 3119 1398 2916 \nQ 1625 2713 2034 2713 \nQ 2441 2713 2670 2916 \nQ 2900 3119 2900 3481 \nQ 2900 3844 2670 4047 \nQ 2441 4250 2034 4250 \nQ 1625 4250 1398 4047 \nQ 1172 3844 1172 3481 \nz\n\" id=\"DejaVuSans-38\" transform=\"scale(0.015625)\"/>\n       </defs>\n       <use xlink:href=\"#DejaVuSans-30\"/>\n       <use x=\"63.623047\" xlink:href=\"#DejaVuSans-2e\"/>\n       <use x=\"95.410156\" xlink:href=\"#DejaVuSans-30\"/>\n       <use x=\"159.033203\" xlink:href=\"#DejaVuSans-38\"/>\n      </g>\n     </g>\n    </g>\n    <g id=\"xtick_6\">\n     <g id=\"line2d_6\">\n      <g>\n       <use style=\"stroke:#000000;stroke-width:0.8;\" x=\"271.993828\" xlink:href=\"#m79ab265a06\" y=\"314.6\"/>\n      </g>\n     </g>\n     <g id=\"text_6\">\n      <!-- 0.10 -->\n      <g transform=\"translate(260.861016 329.198437)scale(0.1 -0.1)\">\n       <defs>\n        <path d=\"M 794 531 \nL 1825 531 \nL 1825 4091 \nL 703 3866 \nL 703 4441 \nL 1819 4666 \nL 2450 4666 \nL 2450 531 \nL 3481 531 \nL 3481 0 \nL 794 0 \nL 794 531 \nz\n\" id=\"DejaVuSans-31\" transform=\"scale(0.015625)\"/>\n       </defs>\n       <use xlink:href=\"#DejaVuSans-30\"/>\n       <use x=\"63.623047\" xlink:href=\"#DejaVuSans-2e\"/>\n       <use x=\"95.410156\" xlink:href=\"#DejaVuSans-31\"/>\n       <use x=\"159.033203\" xlink:href=\"#DejaVuSans-30\"/>\n      </g>\n     </g>\n    </g>\n    <g id=\"xtick_7\">\n     <g id=\"line2d_7\">\n      <g>\n       <use style=\"stroke:#000000;stroke-width:0.8;\" x=\"314.713943\" xlink:href=\"#m79ab265a06\" y=\"314.6\"/>\n      </g>\n     </g>\n     <g id=\"text_7\">\n      <!-- 0.12 -->\n      <g transform=\"translate(303.58113 329.198437)scale(0.1 -0.1)\">\n       <use xlink:href=\"#DejaVuSans-30\"/>\n       <use x=\"63.623047\" xlink:href=\"#DejaVuSans-2e\"/>\n       <use x=\"95.410156\" xlink:href=\"#DejaVuSans-31\"/>\n       <use x=\"159.033203\" xlink:href=\"#DejaVuSans-32\"/>\n      </g>\n     </g>\n    </g>\n    <g id=\"text_8\">\n     <!-- abv -->\n     <g transform=\"translate(186.967969 342.876562)scale(0.1 -0.1)\">\n      <defs>\n       <path d=\"M 2194 1759 \nQ 1497 1759 1228 1600 \nQ 959 1441 959 1056 \nQ 959 750 1161 570 \nQ 1363 391 1709 391 \nQ 2188 391 2477 730 \nQ 2766 1069 2766 1631 \nL 2766 1759 \nL 2194 1759 \nz\nM 3341 1997 \nL 3341 0 \nL 2766 0 \nL 2766 531 \nQ 2569 213 2275 61 \nQ 1981 -91 1556 -91 \nQ 1019 -91 701 211 \nQ 384 513 384 1019 \nQ 384 1609 779 1909 \nQ 1175 2209 1959 2209 \nL 2766 2209 \nL 2766 2266 \nQ 2766 2663 2505 2880 \nQ 2244 3097 1772 3097 \nQ 1472 3097 1187 3025 \nQ 903 2953 641 2809 \nL 641 3341 \nQ 956 3463 1253 3523 \nQ 1550 3584 1831 3584 \nQ 2591 3584 2966 3190 \nQ 3341 2797 3341 1997 \nz\n\" id=\"DejaVuSans-61\" transform=\"scale(0.015625)\"/>\n       <path d=\"M 3116 1747 \nQ 3116 2381 2855 2742 \nQ 2594 3103 2138 3103 \nQ 1681 3103 1420 2742 \nQ 1159 2381 1159 1747 \nQ 1159 1113 1420 752 \nQ 1681 391 2138 391 \nQ 2594 391 2855 752 \nQ 3116 1113 3116 1747 \nz\nM 1159 2969 \nQ 1341 3281 1617 3432 \nQ 1894 3584 2278 3584 \nQ 2916 3584 3314 3078 \nQ 3713 2572 3713 1747 \nQ 3713 922 3314 415 \nQ 2916 -91 2278 -91 \nQ 1894 -91 1617 61 \nQ 1341 213 1159 525 \nL 1159 0 \nL 581 0 \nL 581 4863 \nL 1159 4863 \nL 1159 2969 \nz\n\" id=\"DejaVuSans-62\" transform=\"scale(0.015625)\"/>\n       <path d=\"M 191 3500 \nL 800 3500 \nL 1894 563 \nL 2988 3500 \nL 3597 3500 \nL 2284 0 \nL 1503 0 \nL 191 3500 \nz\n\" id=\"DejaVuSans-76\" transform=\"scale(0.015625)\"/>\n      </defs>\n      <use xlink:href=\"#DejaVuSans-61\"/>\n      <use x=\"61.279297\" xlink:href=\"#DejaVuSans-62\"/>\n      <use x=\"124.755859\" xlink:href=\"#DejaVuSans-76\"/>\n     </g>\n    </g>\n   </g>\n   <g id=\"matplotlib.axis_2\">\n    <g id=\"ytick_1\">\n     <g id=\"line2d_8\">\n      <defs>\n       <path d=\"M 0 0 \nL -3.5 0 \n\" id=\"m1c9d348352\" style=\"stroke:#000000;stroke-width:0.8;\"/>\n      </defs>\n      <g>\n       <use style=\"stroke:#000000;stroke-width:0.8;\" x=\"46.965625\" xlink:href=\"#m1c9d348352\" y=\"314.6\"/>\n      </g>\n     </g>\n     <g id=\"text_9\">\n      <!-- 0 -->\n      <g transform=\"translate(33.603125 318.399219)scale(0.1 -0.1)\">\n       <use xlink:href=\"#DejaVuSans-30\"/>\n      </g>\n     </g>\n    </g>\n    <g id=\"ytick_2\">\n     <g id=\"line2d_9\">\n      <g>\n       <use style=\"stroke:#000000;stroke-width:0.8;\" x=\"46.965625\" xlink:href=\"#m1c9d348352\" y=\"261.754891\"/>\n      </g>\n     </g>\n     <g id=\"text_10\">\n      <!-- 50 -->\n      <g transform=\"translate(27.240625 265.55411)scale(0.1 -0.1)\">\n       <defs>\n        <path d=\"M 691 4666 \nL 3169 4666 \nL 3169 4134 \nL 1269 4134 \nL 1269 2991 \nQ 1406 3038 1543 3061 \nQ 1681 3084 1819 3084 \nQ 2600 3084 3056 2656 \nQ 3513 2228 3513 1497 \nQ 3513 744 3044 326 \nQ 2575 -91 1722 -91 \nQ 1428 -91 1123 -41 \nQ 819 9 494 109 \nL 494 744 \nQ 775 591 1075 516 \nQ 1375 441 1709 441 \nQ 2250 441 2565 725 \nQ 2881 1009 2881 1497 \nQ 2881 1984 2565 2268 \nQ 2250 2553 1709 2553 \nQ 1456 2553 1204 2497 \nQ 953 2441 691 2322 \nL 691 4666 \nz\n\" id=\"DejaVuSans-35\" transform=\"scale(0.015625)\"/>\n       </defs>\n       <use xlink:href=\"#DejaVuSans-35\"/>\n       <use x=\"63.623047\" xlink:href=\"#DejaVuSans-30\"/>\n      </g>\n     </g>\n    </g>\n    <g id=\"ytick_3\">\n     <g id=\"line2d_10\">\n      <g>\n       <use style=\"stroke:#000000;stroke-width:0.8;\" x=\"46.965625\" xlink:href=\"#m1c9d348352\" y=\"208.909782\"/>\n      </g>\n     </g>\n     <g id=\"text_11\">\n      <!-- 100 -->\n      <g transform=\"translate(20.878125 212.709)scale(0.1 -0.1)\">\n       <use xlink:href=\"#DejaVuSans-31\"/>\n       <use x=\"63.623047\" xlink:href=\"#DejaVuSans-30\"/>\n       <use x=\"127.246094\" xlink:href=\"#DejaVuSans-30\"/>\n      </g>\n     </g>\n    </g>\n    <g id=\"ytick_4\">\n     <g id=\"line2d_11\">\n      <g>\n       <use style=\"stroke:#000000;stroke-width:0.8;\" x=\"46.965625\" xlink:href=\"#m1c9d348352\" y=\"156.064673\"/>\n      </g>\n     </g>\n     <g id=\"text_12\">\n      <!-- 150 -->\n      <g transform=\"translate(20.878125 159.863891)scale(0.1 -0.1)\">\n       <use xlink:href=\"#DejaVuSans-31\"/>\n       <use x=\"63.623047\" xlink:href=\"#DejaVuSans-35\"/>\n       <use x=\"127.246094\" xlink:href=\"#DejaVuSans-30\"/>\n      </g>\n     </g>\n    </g>\n    <g id=\"ytick_5\">\n     <g id=\"line2d_12\">\n      <g>\n       <use style=\"stroke:#000000;stroke-width:0.8;\" x=\"46.965625\" xlink:href=\"#m1c9d348352\" y=\"103.219563\"/>\n      </g>\n     </g>\n     <g id=\"text_13\">\n      <!-- 200 -->\n      <g transform=\"translate(20.878125 107.018782)scale(0.1 -0.1)\">\n       <use xlink:href=\"#DejaVuSans-32\"/>\n       <use x=\"63.623047\" xlink:href=\"#DejaVuSans-30\"/>\n       <use x=\"127.246094\" xlink:href=\"#DejaVuSans-30\"/>\n      </g>\n     </g>\n    </g>\n    <g id=\"ytick_6\">\n     <g id=\"line2d_13\">\n      <g>\n       <use style=\"stroke:#000000;stroke-width:0.8;\" x=\"46.965625\" xlink:href=\"#m1c9d348352\" y=\"50.374454\"/>\n      </g>\n     </g>\n     <g id=\"text_14\">\n      <!-- 250 -->\n      <g transform=\"translate(20.878125 54.173673)scale(0.1 -0.1)\">\n       <use xlink:href=\"#DejaVuSans-32\"/>\n       <use x=\"63.623047\" xlink:href=\"#DejaVuSans-35\"/>\n       <use x=\"127.246094\" xlink:href=\"#DejaVuSans-30\"/>\n      </g>\n     </g>\n    </g>\n    <g id=\"text_15\">\n     <!-- Count -->\n     <g transform=\"translate(14.798437 175.748437)rotate(-90)scale(0.1 -0.1)\">\n      <defs>\n       <path d=\"M 4122 4306 \nL 4122 3641 \nQ 3803 3938 3442 4084 \nQ 3081 4231 2675 4231 \nQ 1875 4231 1450 3742 \nQ 1025 3253 1025 2328 \nQ 1025 1406 1450 917 \nQ 1875 428 2675 428 \nQ 3081 428 3442 575 \nQ 3803 722 4122 1019 \nL 4122 359 \nQ 3791 134 3420 21 \nQ 3050 -91 2638 -91 \nQ 1578 -91 968 557 \nQ 359 1206 359 2328 \nQ 359 3453 968 4101 \nQ 1578 4750 2638 4750 \nQ 3056 4750 3426 4639 \nQ 3797 4528 4122 4306 \nz\n\" id=\"DejaVuSans-43\" transform=\"scale(0.015625)\"/>\n       <path d=\"M 1959 3097 \nQ 1497 3097 1228 2736 \nQ 959 2375 959 1747 \nQ 959 1119 1226 758 \nQ 1494 397 1959 397 \nQ 2419 397 2687 759 \nQ 2956 1122 2956 1747 \nQ 2956 2369 2687 2733 \nQ 2419 3097 1959 3097 \nz\nM 1959 3584 \nQ 2709 3584 3137 3096 \nQ 3566 2609 3566 1747 \nQ 3566 888 3137 398 \nQ 2709 -91 1959 -91 \nQ 1206 -91 779 398 \nQ 353 888 353 1747 \nQ 353 2609 779 3096 \nQ 1206 3584 1959 3584 \nz\n\" id=\"DejaVuSans-6f\" transform=\"scale(0.015625)\"/>\n       <path d=\"M 544 1381 \nL 544 3500 \nL 1119 3500 \nL 1119 1403 \nQ 1119 906 1312 657 \nQ 1506 409 1894 409 \nQ 2359 409 2629 706 \nQ 2900 1003 2900 1516 \nL 2900 3500 \nL 3475 3500 \nL 3475 0 \nL 2900 0 \nL 2900 538 \nQ 2691 219 2414 64 \nQ 2138 -91 1772 -91 \nQ 1169 -91 856 284 \nQ 544 659 544 1381 \nz\nM 1991 3584 \nL 1991 3584 \nz\n\" id=\"DejaVuSans-75\" transform=\"scale(0.015625)\"/>\n       <path d=\"M 3513 2113 \nL 3513 0 \nL 2938 0 \nL 2938 2094 \nQ 2938 2591 2744 2837 \nQ 2550 3084 2163 3084 \nQ 1697 3084 1428 2787 \nQ 1159 2491 1159 1978 \nL 1159 0 \nL 581 0 \nL 581 3500 \nL 1159 3500 \nL 1159 2956 \nQ 1366 3272 1645 3428 \nQ 1925 3584 2291 3584 \nQ 2894 3584 3203 3211 \nQ 3513 2838 3513 2113 \nz\n\" id=\"DejaVuSans-6e\" transform=\"scale(0.015625)\"/>\n       <path d=\"M 1172 4494 \nL 1172 3500 \nL 2356 3500 \nL 2356 3053 \nL 1172 3053 \nL 1172 1153 \nQ 1172 725 1289 603 \nQ 1406 481 1766 481 \nL 2356 481 \nL 2356 0 \nL 1766 0 \nQ 1100 0 847 248 \nQ 594 497 594 1153 \nL 594 3053 \nL 172 3053 \nL 172 3500 \nL 594 3500 \nL 594 4494 \nL 1172 4494 \nz\n\" id=\"DejaVuSans-74\" transform=\"scale(0.015625)\"/>\n      </defs>\n      <use xlink:href=\"#DejaVuSans-43\"/>\n      <use x=\"69.824219\" xlink:href=\"#DejaVuSans-6f\"/>\n      <use x=\"131.005859\" xlink:href=\"#DejaVuSans-75\"/>\n      <use x=\"194.384766\" xlink:href=\"#DejaVuSans-6e\"/>\n      <use x=\"257.763672\" xlink:href=\"#DejaVuSans-74\"/>\n     </g>\n    </g>\n   </g>\n   <g id=\"patch_53\">\n    <path d=\"M 46.965625 314.6 \nL 46.965625 7.2 \n\" style=\"fill:none;stroke:#000000;stroke-linecap:square;stroke-linejoin:miter;stroke-width:0.8;\"/>\n   </g>\n   <g id=\"patch_54\">\n    <path d=\"M 46.965625 314.6 \nL 345.365625 314.6 \n\" style=\"fill:none;stroke:#000000;stroke-linecap:square;stroke-linejoin:miter;stroke-width:0.8;\"/>\n   </g>\n  </g>\n </g>\n <defs>\n  <clipPath id=\"pdbaba961d9\">\n   <rect height=\"307.4\" width=\"298.4\" x=\"46.965625\" y=\"7.2\"/>\n  </clipPath>\n </defs>\n</svg>\n",
      "image/png": "[encoded data removed]"
     },
     "metadata": {
      "needs_background": "light"
     }
    }
   ],
   "source": [
    "sns.displot(beer[\"abv\"])"
   ]
  },
  {
   "source": [
    "La distribución está un poco sesgada hacia la derecha y tiene un par de outliers interesantes a ambos lados"
   ],
   "cell_type": "markdown",
   "metadata": {}
  },
  {
   "cell_type": "markdown",
   "metadata": {},
   "source": [
    "## Ejercicio 14\n",
    "1. ¿Qué estilos son los que tienen en media más alcohol?\n",
    "2. ¿Y los estilos que son en media más amargos?"
   ]
  },
  {
   "cell_type": "code",
   "execution_count": 131,
   "metadata": {},
   "outputs": [
    {
     "output_type": "execute_result",
     "data": {
      "text/plain": [
       "                             abv\n",
       "style                           \n",
       "English Barleywine      0.107667\n",
       "Quadrupel (Quad)        0.104000\n",
       "American Barleywine     0.099000\n",
       "American Malt Liquor    0.099000\n",
       "Russian Imperial Stout  0.097636\n",
       "...                          ...\n",
       "Berliner Weissbier      0.043909\n",
       "English Dark Mild Ale   0.041500\n",
       "Light Lager             0.040417\n",
       "Radler                  0.040333\n",
       "Low Alcohol Beer        0.001000\n",
       "\n",
       "[99 rows x 1 columns]"
      ],
      "text/html": "<div>\n<style scoped>\n    .dataframe tbody tr th:only-of-type {\n        vertical-align: middle;\n    }\n\n    .dataframe tbody tr th {\n        vertical-align: top;\n    }\n\n    .dataframe thead th {\n        text-align: right;\n    }\n</style>\n<table border=\"1\" class=\"dataframe\">\n  <thead>\n    <tr style=\"text-align: right;\">\n      <th></th>\n      <th>abv</th>\n    </tr>\n    <tr>\n      <th>style</th>\n      <th></th>\n    </tr>\n  </thead>\n  <tbody>\n    <tr>\n      <th>English Barleywine</th>\n      <td>0.107667</td>\n    </tr>\n    <tr>\n      <th>Quadrupel (Quad)</th>\n      <td>0.104000</td>\n    </tr>\n    <tr>\n      <th>American Barleywine</th>\n      <td>0.099000</td>\n    </tr>\n    <tr>\n      <th>American Malt Liquor</th>\n      <td>0.099000</td>\n    </tr>\n    <tr>\n      <th>Russian Imperial Stout</th>\n      <td>0.097636</td>\n    </tr>\n    <tr>\n      <th>...</th>\n      <td>...</td>\n    </tr>\n    <tr>\n      <th>Berliner Weissbier</th>\n      <td>0.043909</td>\n    </tr>\n    <tr>\n      <th>English Dark Mild Ale</th>\n      <td>0.041500</td>\n    </tr>\n    <tr>\n      <th>Light Lager</th>\n      <td>0.040417</td>\n    </tr>\n    <tr>\n      <th>Radler</th>\n      <td>0.040333</td>\n    </tr>\n    <tr>\n      <th>Low Alcohol Beer</th>\n      <td>0.001000</td>\n    </tr>\n  </tbody>\n</table>\n<p>99 rows × 1 columns</p>\n</div>"
     },
     "metadata": {},
     "execution_count": 131
    }
   ],
   "source": [
    "beer.groupby(\"style\").agg({\"abv\" : np.mean}).sort_values(by = \"abv\", ascending = False)"
   ]
  },
  {
   "cell_type": "markdown",
   "metadata": {},
   "source": [
    "## Ejercicio 15\n",
    "Carga el datasets de cervecerias `datasets_breweries.csv`"
   ]
  },
  {
   "cell_type": "code",
   "execution_count": 132,
   "metadata": {},
   "outputs": [
    {
     "output_type": "execute_result",
     "data": {
      "text/plain": [
       "   Unnamed: 0                       name           city state\n",
       "0           0         NorthGate Brewing     Minneapolis    MN\n",
       "1           1  Against the Grain Brewery     Louisville    KY\n",
       "2           2   Jack's Abby Craft Lagers     Framingham    MA\n",
       "3           3  Mike Hess Brewing Company      San Diego    CA\n",
       "4           4    Fort Point Beer Company  San Francisco    CA"
      ],
      "text/html": "<div>\n<style scoped>\n    .dataframe tbody tr th:only-of-type {\n        vertical-align: middle;\n    }\n\n    .dataframe tbody tr th {\n        vertical-align: top;\n    }\n\n    .dataframe thead th {\n        text-align: right;\n    }\n</style>\n<table border=\"1\" class=\"dataframe\">\n  <thead>\n    <tr style=\"text-align: right;\">\n      <th></th>\n      <th>Unnamed: 0</th>\n      <th>name</th>\n      <th>city</th>\n      <th>state</th>\n    </tr>\n  </thead>\n  <tbody>\n    <tr>\n      <th>0</th>\n      <td>0</td>\n      <td>NorthGate Brewing</td>\n      <td>Minneapolis</td>\n      <td>MN</td>\n    </tr>\n    <tr>\n      <th>1</th>\n      <td>1</td>\n      <td>Against the Grain Brewery</td>\n      <td>Louisville</td>\n      <td>KY</td>\n    </tr>\n    <tr>\n      <th>2</th>\n      <td>2</td>\n      <td>Jack's Abby Craft Lagers</td>\n      <td>Framingham</td>\n      <td>MA</td>\n    </tr>\n    <tr>\n      <th>3</th>\n      <td>3</td>\n      <td>Mike Hess Brewing Company</td>\n      <td>San Diego</td>\n      <td>CA</td>\n    </tr>\n    <tr>\n      <th>4</th>\n      <td>4</td>\n      <td>Fort Point Beer Company</td>\n      <td>San Francisco</td>\n      <td>CA</td>\n    </tr>\n  </tbody>\n</table>\n</div>"
     },
     "metadata": {},
     "execution_count": 132
    }
   ],
   "source": [
    "beer2 = pd.read_csv(\"../data/datasets_breweries.csv\")\n",
    "beer2.head()"
   ]
  },
  {
   "cell_type": "markdown",
   "metadata": {},
   "source": [
    "## Ejercicio 16\n",
    "1. Renombra la columna `Unnamed: 0` como `brewery_id`\n",
    "2. Renombra tb la columna `name` por `brewery_name`. ¿Puedes hacer ambos apartados en una sola sentencia?"
   ]
  },
  {
   "cell_type": "code",
   "execution_count": 133,
   "metadata": {},
   "outputs": [
    {
     "output_type": "execute_result",
     "data": {
      "text/plain": [
       "   brewery_id               brewery_name           city state\n",
       "0           0         NorthGate Brewing     Minneapolis    MN\n",
       "1           1  Against the Grain Brewery     Louisville    KY\n",
       "2           2   Jack's Abby Craft Lagers     Framingham    MA\n",
       "3           3  Mike Hess Brewing Company      San Diego    CA\n",
       "4           4    Fort Point Beer Company  San Francisco    CA"
      ],
      "text/html": "<div>\n<style scoped>\n    .dataframe tbody tr th:only-of-type {\n        vertical-align: middle;\n    }\n\n    .dataframe tbody tr th {\n        vertical-align: top;\n    }\n\n    .dataframe thead th {\n        text-align: right;\n    }\n</style>\n<table border=\"1\" class=\"dataframe\">\n  <thead>\n    <tr style=\"text-align: right;\">\n      <th></th>\n      <th>brewery_id</th>\n      <th>brewery_name</th>\n      <th>city</th>\n      <th>state</th>\n    </tr>\n  </thead>\n  <tbody>\n    <tr>\n      <th>0</th>\n      <td>0</td>\n      <td>NorthGate Brewing</td>\n      <td>Minneapolis</td>\n      <td>MN</td>\n    </tr>\n    <tr>\n      <th>1</th>\n      <td>1</td>\n      <td>Against the Grain Brewery</td>\n      <td>Louisville</td>\n      <td>KY</td>\n    </tr>\n    <tr>\n      <th>2</th>\n      <td>2</td>\n      <td>Jack's Abby Craft Lagers</td>\n      <td>Framingham</td>\n      <td>MA</td>\n    </tr>\n    <tr>\n      <th>3</th>\n      <td>3</td>\n      <td>Mike Hess Brewing Company</td>\n      <td>San Diego</td>\n      <td>CA</td>\n    </tr>\n    <tr>\n      <th>4</th>\n      <td>4</td>\n      <td>Fort Point Beer Company</td>\n      <td>San Francisco</td>\n      <td>CA</td>\n    </tr>\n  </tbody>\n</table>\n</div>"
     },
     "metadata": {},
     "execution_count": 133
    }
   ],
   "source": [
    "beer2.rename(columns = {\"Unnamed: 0\" : \"brewery_id\", \"name\" : \"brewery_name\"}, inplace = True)\n",
    "beer2.head()"
   ]
  },
  {
   "cell_type": "markdown",
   "metadata": {},
   "source": [
    "## Ejercicio 17\n",
    "Junta los dos datasets que tienes"
   ]
  },
  {
   "cell_type": "code",
   "execution_count": 134,
   "metadata": {},
   "outputs": [
    {
     "output_type": "execute_result",
     "data": {
      "text/plain": [
       "     abv  ibu    id                 name                           style  \\\n",
       "0  0.050  NaN  1436             Pub Beer             American Pale Lager   \n",
       "1  0.066  NaN  2265          Devil's Cup         American Pale Ale (APA)   \n",
       "2  0.071  NaN  2264  Rise of the Phoenix                    American IPA   \n",
       "3  0.090  NaN  2263             Sinister  American Double / Imperial IPA   \n",
       "4  0.075  NaN  2262        Sex and Candy                    American IPA   \n",
       "\n",
       "   brewery_id  ounces               brewery_name  city state  \n",
       "0         408    12.0  10 Barrel Brewing Company  Bend    OR  \n",
       "1         177    12.0        18th Street Brewery  Gary    IN  \n",
       "2         177    12.0        18th Street Brewery  Gary    IN  \n",
       "3         177    12.0        18th Street Brewery  Gary    IN  \n",
       "4         177    12.0        18th Street Brewery  Gary    IN  "
      ],
      "text/html": "<div>\n<style scoped>\n    .dataframe tbody tr th:only-of-type {\n        vertical-align: middle;\n    }\n\n    .dataframe tbody tr th {\n        vertical-align: top;\n    }\n\n    .dataframe thead th {\n        text-align: right;\n    }\n</style>\n<table border=\"1\" class=\"dataframe\">\n  <thead>\n    <tr style=\"text-align: right;\">\n      <th></th>\n      <th>abv</th>\n      <th>ibu</th>\n      <th>id</th>\n      <th>name</th>\n      <th>style</th>\n      <th>brewery_id</th>\n      <th>ounces</th>\n      <th>brewery_name</th>\n      <th>city</th>\n      <th>state</th>\n    </tr>\n  </thead>\n  <tbody>\n    <tr>\n      <th>0</th>\n      <td>0.050</td>\n      <td>NaN</td>\n      <td>1436</td>\n      <td>Pub Beer</td>\n      <td>American Pale Lager</td>\n      <td>408</td>\n      <td>12.0</td>\n      <td>10 Barrel Brewing Company</td>\n      <td>Bend</td>\n      <td>OR</td>\n    </tr>\n    <tr>\n      <th>1</th>\n      <td>0.066</td>\n      <td>NaN</td>\n      <td>2265</td>\n      <td>Devil's Cup</td>\n      <td>American Pale Ale (APA)</td>\n      <td>177</td>\n      <td>12.0</td>\n      <td>18th Street Brewery</td>\n      <td>Gary</td>\n      <td>IN</td>\n    </tr>\n    <tr>\n      <th>2</th>\n      <td>0.071</td>\n      <td>NaN</td>\n      <td>2264</td>\n      <td>Rise of the Phoenix</td>\n      <td>American IPA</td>\n      <td>177</td>\n      <td>12.0</td>\n      <td>18th Street Brewery</td>\n      <td>Gary</td>\n      <td>IN</td>\n    </tr>\n    <tr>\n      <th>3</th>\n      <td>0.090</td>\n      <td>NaN</td>\n      <td>2263</td>\n      <td>Sinister</td>\n      <td>American Double / Imperial IPA</td>\n      <td>177</td>\n      <td>12.0</td>\n      <td>18th Street Brewery</td>\n      <td>Gary</td>\n      <td>IN</td>\n    </tr>\n    <tr>\n      <th>4</th>\n      <td>0.075</td>\n      <td>NaN</td>\n      <td>2262</td>\n      <td>Sex and Candy</td>\n      <td>American IPA</td>\n      <td>177</td>\n      <td>12.0</td>\n      <td>18th Street Brewery</td>\n      <td>Gary</td>\n      <td>IN</td>\n    </tr>\n  </tbody>\n</table>\n</div>"
     },
     "metadata": {},
     "execution_count": 134
    }
   ],
   "source": [
    "full_beer = pd.merge(beer, beer2, how = \"outer\", on = \"brewery_id\")\n",
    "full_beer.head()"
   ]
  },
  {
   "cell_type": "markdown",
   "metadata": {},
   "source": [
    "## Ejercicio 18\n",
    "1. ¿Cuántos estados diferentes hay?\n",
    "2. ¿Y ciudades diferentes?\n",
    "3. ¿Cuántas vervecerías hay?"
   ]
  },
  {
   "cell_type": "code",
   "execution_count": 135,
   "metadata": {},
   "outputs": [
    {
     "output_type": "stream",
     "name": "stdout",
     "text": [
      "Nº de estados diferentes:  51\nNº de ciudades diferentes:  384\nNº de estados diferentes:  2305\n"
     ]
    }
   ],
   "source": [
    "# 1\n",
    "print(\"Nº de estados diferentes: \", len(full_beer[\"state\"].unique()))\n",
    "\n",
    "# 2\n",
    "print(\"Nº de ciudades diferentes: \", len(full_beer[\"city\"].unique()))\n",
    "\n",
    "# 3\n",
    "print(\"Nº de estados diferentes: \", len(full_beer[\"name\"].unique()))"
   ]
  },
  {
   "cell_type": "markdown",
   "metadata": {},
   "source": [
    "## Ejercicio 19\n",
    "Agrupa por estado y ciudad, la media, mediana y máximo nivel de alcohol"
   ]
  },
  {
   "cell_type": "code",
   "execution_count": 136,
   "metadata": {},
   "outputs": [
    {
     "output_type": "execute_result",
     "data": {
      "text/plain": [
       "                       abv               \n",
       "                      mean  median    max\n",
       "state city                               \n",
       " AK   Anchorage   0.054200  0.0520  0.063\n",
       "      Juneau      0.053000  0.0530  0.053\n",
       "      Soldotna    0.058500  0.0580  0.068\n",
       "      Talkeetna   0.059500  0.0585  0.065\n",
       " AL   Birmingham  0.065400  0.0600  0.093\n",
       "...                    ...     ...    ...\n",
       " WI   Wilson      0.055000  0.0550  0.055\n",
       " WV   Lewisburg   0.062000  0.0620  0.067\n",
       " WY   Jackson     0.054857  0.0520  0.068\n",
       "      Pinedale    0.061000  0.0610  0.072\n",
       "      Sheridan    0.052833  0.0480  0.070\n",
       "\n",
       "[401 rows x 3 columns]"
      ],
      "text/html": "<div>\n<style scoped>\n    .dataframe tbody tr th:only-of-type {\n        vertical-align: middle;\n    }\n\n    .dataframe tbody tr th {\n        vertical-align: top;\n    }\n\n    .dataframe thead tr th {\n        text-align: left;\n    }\n\n    .dataframe thead tr:last-of-type th {\n        text-align: right;\n    }\n</style>\n<table border=\"1\" class=\"dataframe\">\n  <thead>\n    <tr>\n      <th></th>\n      <th></th>\n      <th colspan=\"3\" halign=\"left\">abv</th>\n    </tr>\n    <tr>\n      <th></th>\n      <th></th>\n      <th>mean</th>\n      <th>median</th>\n      <th>max</th>\n    </tr>\n    <tr>\n      <th>state</th>\n      <th>city</th>\n      <th></th>\n      <th></th>\n      <th></th>\n    </tr>\n  </thead>\n  <tbody>\n    <tr>\n      <th rowspan=\"4\" valign=\"top\">AK</th>\n      <th>Anchorage</th>\n      <td>0.054200</td>\n      <td>0.0520</td>\n      <td>0.063</td>\n    </tr>\n    <tr>\n      <th>Juneau</th>\n      <td>0.053000</td>\n      <td>0.0530</td>\n      <td>0.053</td>\n    </tr>\n    <tr>\n      <th>Soldotna</th>\n      <td>0.058500</td>\n      <td>0.0580</td>\n      <td>0.068</td>\n    </tr>\n    <tr>\n      <th>Talkeetna</th>\n      <td>0.059500</td>\n      <td>0.0585</td>\n      <td>0.065</td>\n    </tr>\n    <tr>\n      <th>AL</th>\n      <th>Birmingham</th>\n      <td>0.065400</td>\n      <td>0.0600</td>\n      <td>0.093</td>\n    </tr>\n    <tr>\n      <th>...</th>\n      <th>...</th>\n      <td>...</td>\n      <td>...</td>\n      <td>...</td>\n    </tr>\n    <tr>\n      <th>WI</th>\n      <th>Wilson</th>\n      <td>0.055000</td>\n      <td>0.0550</td>\n      <td>0.055</td>\n    </tr>\n    <tr>\n      <th>WV</th>\n      <th>Lewisburg</th>\n      <td>0.062000</td>\n      <td>0.0620</td>\n      <td>0.067</td>\n    </tr>\n    <tr>\n      <th rowspan=\"3\" valign=\"top\">WY</th>\n      <th>Jackson</th>\n      <td>0.054857</td>\n      <td>0.0520</td>\n      <td>0.068</td>\n    </tr>\n    <tr>\n      <th>Pinedale</th>\n      <td>0.061000</td>\n      <td>0.0610</td>\n      <td>0.072</td>\n    </tr>\n    <tr>\n      <th>Sheridan</th>\n      <td>0.052833</td>\n      <td>0.0480</td>\n      <td>0.070</td>\n    </tr>\n  </tbody>\n</table>\n<p>401 rows × 3 columns</p>\n</div>"
     },
     "metadata": {},
     "execution_count": 136
    }
   ],
   "source": [
    "full_beer.groupby([\"state\", \"city\"]).agg({\"abv\" : [np.mean, np.median, max]})"
   ]
  },
  {
   "cell_type": "markdown",
   "metadata": {},
   "source": [
    "## Ejercicio 20\n",
    "¿Cuáles son las cervezas más amargas que se consumen en Indiana, estado = `IN`?"
   ]
  },
  {
   "cell_type": "code",
   "execution_count": 137,
   "metadata": {},
   "outputs": [],
   "source": [
    "# Los valores de la columna tienen espacios vacíos, así que se los quito\n",
    "full_beer[\"state\"] = full_beer[\"state\"].str.strip()"
   ]
  },
  {
   "cell_type": "code",
   "execution_count": 138,
   "metadata": {},
   "outputs": [
    {
     "output_type": "execute_result",
     "data": {
      "text/plain": [
       "        abv    ibu    id                   name  \\\n",
       "479   0.099  115.0  2471       Hopkick Dropkick   \n",
       "2191  0.085  115.0  1449  Overlord Imperial IPA   \n",
       "811   0.060  104.0  1610         Half Cycle IPA   \n",
       "2062  0.091   91.0   651                   Isis   \n",
       "2189  0.120   90.0  2621                   Csar   \n",
       "\n",
       "                               style  brewery_id  ounces  \\\n",
       "479   American Double / Imperial IPA          24    12.0   \n",
       "2191  American Double / Imperial IPA          17    16.0   \n",
       "811                     American IPA          16    16.0   \n",
       "2062  American Double / Imperial IPA          25    16.0   \n",
       "2189          Russian Imperial Stout          17    16.0   \n",
       "\n",
       "                  brewery_name           city state  \n",
       "479           Burn 'Em Brewing  Michigan City    IN  \n",
       "2191   Tin Man Brewing Company     Evansville    IN  \n",
       "811          Flat 12 Bierwerks   Indianapolis    IN  \n",
       "2062  Sun King Brewing Company   Indianapolis    IN  \n",
       "2189   Tin Man Brewing Company     Evansville    IN  "
      ],
      "text/html": "<div>\n<style scoped>\n    .dataframe tbody tr th:only-of-type {\n        vertical-align: middle;\n    }\n\n    .dataframe tbody tr th {\n        vertical-align: top;\n    }\n\n    .dataframe thead th {\n        text-align: right;\n    }\n</style>\n<table border=\"1\" class=\"dataframe\">\n  <thead>\n    <tr style=\"text-align: right;\">\n      <th></th>\n      <th>abv</th>\n      <th>ibu</th>\n      <th>id</th>\n      <th>name</th>\n      <th>style</th>\n      <th>brewery_id</th>\n      <th>ounces</th>\n      <th>brewery_name</th>\n      <th>city</th>\n      <th>state</th>\n    </tr>\n  </thead>\n  <tbody>\n    <tr>\n      <th>479</th>\n      <td>0.099</td>\n      <td>115.0</td>\n      <td>2471</td>\n      <td>Hopkick Dropkick</td>\n      <td>American Double / Imperial IPA</td>\n      <td>24</td>\n      <td>12.0</td>\n      <td>Burn 'Em Brewing</td>\n      <td>Michigan City</td>\n      <td>IN</td>\n    </tr>\n    <tr>\n      <th>2191</th>\n      <td>0.085</td>\n      <td>115.0</td>\n      <td>1449</td>\n      <td>Overlord Imperial IPA</td>\n      <td>American Double / Imperial IPA</td>\n      <td>17</td>\n      <td>16.0</td>\n      <td>Tin Man Brewing Company</td>\n      <td>Evansville</td>\n      <td>IN</td>\n    </tr>\n    <tr>\n      <th>811</th>\n      <td>0.060</td>\n      <td>104.0</td>\n      <td>1610</td>\n      <td>Half Cycle IPA</td>\n      <td>American IPA</td>\n      <td>16</td>\n      <td>16.0</td>\n      <td>Flat 12 Bierwerks</td>\n      <td>Indianapolis</td>\n      <td>IN</td>\n    </tr>\n    <tr>\n      <th>2062</th>\n      <td>0.091</td>\n      <td>91.0</td>\n      <td>651</td>\n      <td>Isis</td>\n      <td>American Double / Imperial IPA</td>\n      <td>25</td>\n      <td>16.0</td>\n      <td>Sun King Brewing Company</td>\n      <td>Indianapolis</td>\n      <td>IN</td>\n    </tr>\n    <tr>\n      <th>2189</th>\n      <td>0.120</td>\n      <td>90.0</td>\n      <td>2621</td>\n      <td>Csar</td>\n      <td>Russian Imperial Stout</td>\n      <td>17</td>\n      <td>16.0</td>\n      <td>Tin Man Brewing Company</td>\n      <td>Evansville</td>\n      <td>IN</td>\n    </tr>\n  </tbody>\n</table>\n</div>"
     },
     "metadata": {},
     "execution_count": 138
    }
   ],
   "source": [
    "full_beer[full_beer[\"state\"] == \"IN\"].sort_values(by = \"ibu\", ascending = False).head(5)"
   ]
  },
  {
   "cell_type": "markdown",
   "metadata": {},
   "source": [
    "## Ejercicio 21\n",
    "Obtén una tabla con los principales estadísticos del campo `ibu`,  a nivel ciudad"
   ]
  },
  {
   "cell_type": "code",
   "execution_count": 139,
   "metadata": {},
   "outputs": [
    {
     "output_type": "execute_result",
     "data": {
      "text/plain": [
       "                 ibu                                                       \\\n",
       "               count        mean        std    min     25%    50%     75%   \n",
       "city                                                                        \n",
       "Abingdon         1.0  135.000000        NaN  135.0  135.00  135.0  135.00   \n",
       "Abita Springs    3.0   27.333333  21.455380   13.0   15.00   17.0   34.50   \n",
       "Ada              0.0         NaN        NaN    NaN     NaN    NaN     NaN   \n",
       "Afton            4.0   43.000000  19.899749   22.0   28.00   45.0   60.00   \n",
       "Airway Heights   0.0         NaN        NaN    NaN     NaN    NaN     NaN   \n",
       "...              ...         ...        ...    ...     ...    ...     ...   \n",
       "Woodinville      4.0   46.750000  18.643587   27.0   39.75   44.0   51.00   \n",
       "Worcester        1.0   69.000000        NaN   69.0   69.00   69.0   69.00   \n",
       "Yakima           2.0   54.000000  22.627417   38.0   46.00   54.0   62.00   \n",
       "Yardley          0.0         NaN        NaN    NaN     NaN    NaN     NaN   \n",
       "York             4.0   44.250000  22.779742   20.0   35.00   41.0   50.25   \n",
       "\n",
       "                       \n",
       "                  max  \n",
       "city                   \n",
       "Abingdon        135.0  \n",
       "Abita Springs    52.0  \n",
       "Ada               NaN  \n",
       "Afton            60.0  \n",
       "Airway Heights    NaN  \n",
       "...               ...  \n",
       "Woodinville      72.0  \n",
       "Worcester        69.0  \n",
       "Yakima           70.0  \n",
       "Yardley           NaN  \n",
       "York             75.0  \n",
       "\n",
       "[384 rows x 8 columns]"
      ],
      "text/html": "<div>\n<style scoped>\n    .dataframe tbody tr th:only-of-type {\n        vertical-align: middle;\n    }\n\n    .dataframe tbody tr th {\n        vertical-align: top;\n    }\n\n    .dataframe thead tr th {\n        text-align: left;\n    }\n\n    .dataframe thead tr:last-of-type th {\n        text-align: right;\n    }\n</style>\n<table border=\"1\" class=\"dataframe\">\n  <thead>\n    <tr>\n      <th></th>\n      <th colspan=\"8\" halign=\"left\">ibu</th>\n    </tr>\n    <tr>\n      <th></th>\n      <th>count</th>\n      <th>mean</th>\n      <th>std</th>\n      <th>min</th>\n      <th>25%</th>\n      <th>50%</th>\n      <th>75%</th>\n      <th>max</th>\n    </tr>\n    <tr>\n      <th>city</th>\n      <th></th>\n      <th></th>\n      <th></th>\n      <th></th>\n      <th></th>\n      <th></th>\n      <th></th>\n      <th></th>\n    </tr>\n  </thead>\n  <tbody>\n    <tr>\n      <th>Abingdon</th>\n      <td>1.0</td>\n      <td>135.000000</td>\n      <td>NaN</td>\n      <td>135.0</td>\n      <td>135.00</td>\n      <td>135.0</td>\n      <td>135.00</td>\n      <td>135.0</td>\n    </tr>\n    <tr>\n      <th>Abita Springs</th>\n      <td>3.0</td>\n      <td>27.333333</td>\n      <td>21.455380</td>\n      <td>13.0</td>\n      <td>15.00</td>\n      <td>17.0</td>\n      <td>34.50</td>\n      <td>52.0</td>\n    </tr>\n    <tr>\n      <th>Ada</th>\n      <td>0.0</td>\n      <td>NaN</td>\n      <td>NaN</td>\n      <td>NaN</td>\n      <td>NaN</td>\n      <td>NaN</td>\n      <td>NaN</td>\n      <td>NaN</td>\n    </tr>\n    <tr>\n      <th>Afton</th>\n      <td>4.0</td>\n      <td>43.000000</td>\n      <td>19.899749</td>\n      <td>22.0</td>\n      <td>28.00</td>\n      <td>45.0</td>\n      <td>60.00</td>\n      <td>60.0</td>\n    </tr>\n    <tr>\n      <th>Airway Heights</th>\n      <td>0.0</td>\n      <td>NaN</td>\n      <td>NaN</td>\n      <td>NaN</td>\n      <td>NaN</td>\n      <td>NaN</td>\n      <td>NaN</td>\n      <td>NaN</td>\n    </tr>\n    <tr>\n      <th>...</th>\n      <td>...</td>\n      <td>...</td>\n      <td>...</td>\n      <td>...</td>\n      <td>...</td>\n      <td>...</td>\n      <td>...</td>\n      <td>...</td>\n    </tr>\n    <tr>\n      <th>Woodinville</th>\n      <td>4.0</td>\n      <td>46.750000</td>\n      <td>18.643587</td>\n      <td>27.0</td>\n      <td>39.75</td>\n      <td>44.0</td>\n      <td>51.00</td>\n      <td>72.0</td>\n    </tr>\n    <tr>\n      <th>Worcester</th>\n      <td>1.0</td>\n      <td>69.000000</td>\n      <td>NaN</td>\n      <td>69.0</td>\n      <td>69.00</td>\n      <td>69.0</td>\n      <td>69.00</td>\n      <td>69.0</td>\n    </tr>\n    <tr>\n      <th>Yakima</th>\n      <td>2.0</td>\n      <td>54.000000</td>\n      <td>22.627417</td>\n      <td>38.0</td>\n      <td>46.00</td>\n      <td>54.0</td>\n      <td>62.00</td>\n      <td>70.0</td>\n    </tr>\n    <tr>\n      <th>Yardley</th>\n      <td>0.0</td>\n      <td>NaN</td>\n      <td>NaN</td>\n      <td>NaN</td>\n      <td>NaN</td>\n      <td>NaN</td>\n      <td>NaN</td>\n      <td>NaN</td>\n    </tr>\n    <tr>\n      <th>York</th>\n      <td>4.0</td>\n      <td>44.250000</td>\n      <td>22.779742</td>\n      <td>20.0</td>\n      <td>35.00</td>\n      <td>41.0</td>\n      <td>50.25</td>\n      <td>75.0</td>\n    </tr>\n  </tbody>\n</table>\n<p>384 rows × 8 columns</p>\n</div>"
     },
     "metadata": {},
     "execution_count": 139
    }
   ],
   "source": [
    "full_beer[[\"ibu\", \"city\"]].groupby(\"city\").describe()"
   ]
  },
  {
   "cell_type": "markdown",
   "metadata": {},
   "source": [
    "## Ejercicio 22\n",
    "Consigue en un DataFrame todas las cervezas en cuyas cervecerías el mínimo nivel de `abv` sea de 0.07."
   ]
  },
  {
   "cell_type": "code",
   "execution_count": 140,
   "metadata": {},
   "outputs": [
    {
     "output_type": "execute_result",
     "data": {
      "text/plain": [
       "        abv   ibu    id                                  name  \\\n",
       "2     0.071   NaN  2264                   Rise of the Phoenix   \n",
       "3     0.090   NaN  2263                              Sinister   \n",
       "4     0.075   NaN  2262                         Sex and Candy   \n",
       "5     0.077   NaN  2261                          Black Exodus   \n",
       "9     0.086   NaN  2131                          Cone Crusher   \n",
       "...     ...   ...   ...                                   ...   \n",
       "2380  0.080  31.0   761                           P-51 Porter   \n",
       "2382  0.071  60.0  2148                  #002 American I.P.A.   \n",
       "2398  0.077  30.0  1513  Lights Out Vanilla Cream Extra Stout   \n",
       "2402  0.082   NaN  1316             Colorojo Imperial Red Ale   \n",
       "2404  0.075   NaN  1035           Rocky Mountain Oyster Stout   \n",
       "\n",
       "                               style  brewery_id  ounces  \\\n",
       "2                       American IPA         177    12.0   \n",
       "3     American Double / Imperial IPA         177    12.0   \n",
       "4                       American IPA         177    12.0   \n",
       "5                      Oatmeal Stout         177    12.0   \n",
       "9     American Double / Imperial IPA         177    12.0   \n",
       "...                              ...         ...     ...   \n",
       "2380                 American Porter         509    16.0   \n",
       "2382                    American IPA         211    12.0   \n",
       "2398  American Double / Imperial IPA         199    12.0   \n",
       "2402             American Strong Ale         424    12.0   \n",
       "2404                  American Stout         424    12.0   \n",
       "\n",
       "                   brewery_name    city state  min_abv  \n",
       "2           18th Street Brewery    Gary    IN    0.071  \n",
       "3           18th Street Brewery    Gary    IN    0.090  \n",
       "4           18th Street Brewery    Gary    IN    0.075  \n",
       "5           18th Street Brewery    Gary    IN    0.077  \n",
       "9           18th Street Brewery    Gary    IN    0.086  \n",
       "...                         ...     ...   ...      ...  \n",
       "2380            Wingman Brewers  Tacoma    WA    0.080  \n",
       "2382  Wisconsin Brewing Company  Verona    WI    0.071  \n",
       "2398     Worthy Brewing Company    Bend    OR    0.077  \n",
       "2402    Wynkoop Brewing Company  Denver    CO    0.082  \n",
       "2404    Wynkoop Brewing Company  Denver    CO    0.075  \n",
       "\n",
       "[409 rows x 11 columns]"
      ],
      "text/html": "<div>\n<style scoped>\n    .dataframe tbody tr th:only-of-type {\n        vertical-align: middle;\n    }\n\n    .dataframe tbody tr th {\n        vertical-align: top;\n    }\n\n    .dataframe thead th {\n        text-align: right;\n    }\n</style>\n<table border=\"1\" class=\"dataframe\">\n  <thead>\n    <tr style=\"text-align: right;\">\n      <th></th>\n      <th>abv</th>\n      <th>ibu</th>\n      <th>id</th>\n      <th>name</th>\n      <th>style</th>\n      <th>brewery_id</th>\n      <th>ounces</th>\n      <th>brewery_name</th>\n      <th>city</th>\n      <th>state</th>\n      <th>min_abv</th>\n    </tr>\n  </thead>\n  <tbody>\n    <tr>\n      <th>2</th>\n      <td>0.071</td>\n      <td>NaN</td>\n      <td>2264</td>\n      <td>Rise of the Phoenix</td>\n      <td>American IPA</td>\n      <td>177</td>\n      <td>12.0</td>\n      <td>18th Street Brewery</td>\n      <td>Gary</td>\n      <td>IN</td>\n      <td>0.071</td>\n    </tr>\n    <tr>\n      <th>3</th>\n      <td>0.090</td>\n      <td>NaN</td>\n      <td>2263</td>\n      <td>Sinister</td>\n      <td>American Double / Imperial IPA</td>\n      <td>177</td>\n      <td>12.0</td>\n      <td>18th Street Brewery</td>\n      <td>Gary</td>\n      <td>IN</td>\n      <td>0.090</td>\n    </tr>\n    <tr>\n      <th>4</th>\n      <td>0.075</td>\n      <td>NaN</td>\n      <td>2262</td>\n      <td>Sex and Candy</td>\n      <td>American IPA</td>\n      <td>177</td>\n      <td>12.0</td>\n      <td>18th Street Brewery</td>\n      <td>Gary</td>\n      <td>IN</td>\n      <td>0.075</td>\n    </tr>\n    <tr>\n      <th>5</th>\n      <td>0.077</td>\n      <td>NaN</td>\n      <td>2261</td>\n      <td>Black Exodus</td>\n      <td>Oatmeal Stout</td>\n      <td>177</td>\n      <td>12.0</td>\n      <td>18th Street Brewery</td>\n      <td>Gary</td>\n      <td>IN</td>\n      <td>0.077</td>\n    </tr>\n    <tr>\n      <th>9</th>\n      <td>0.086</td>\n      <td>NaN</td>\n      <td>2131</td>\n      <td>Cone Crusher</td>\n      <td>American Double / Imperial IPA</td>\n      <td>177</td>\n      <td>12.0</td>\n      <td>18th Street Brewery</td>\n      <td>Gary</td>\n      <td>IN</td>\n      <td>0.086</td>\n    </tr>\n    <tr>\n      <th>...</th>\n      <td>...</td>\n      <td>...</td>\n      <td>...</td>\n      <td>...</td>\n      <td>...</td>\n      <td>...</td>\n      <td>...</td>\n      <td>...</td>\n      <td>...</td>\n      <td>...</td>\n      <td>...</td>\n    </tr>\n    <tr>\n      <th>2380</th>\n      <td>0.080</td>\n      <td>31.0</td>\n      <td>761</td>\n      <td>P-51 Porter</td>\n      <td>American Porter</td>\n      <td>509</td>\n      <td>16.0</td>\n      <td>Wingman Brewers</td>\n      <td>Tacoma</td>\n      <td>WA</td>\n      <td>0.080</td>\n    </tr>\n    <tr>\n      <th>2382</th>\n      <td>0.071</td>\n      <td>60.0</td>\n      <td>2148</td>\n      <td>#002 American I.P.A.</td>\n      <td>American IPA</td>\n      <td>211</td>\n      <td>12.0</td>\n      <td>Wisconsin Brewing Company</td>\n      <td>Verona</td>\n      <td>WI</td>\n      <td>0.071</td>\n    </tr>\n    <tr>\n      <th>2398</th>\n      <td>0.077</td>\n      <td>30.0</td>\n      <td>1513</td>\n      <td>Lights Out Vanilla Cream Extra Stout</td>\n      <td>American Double / Imperial IPA</td>\n      <td>199</td>\n      <td>12.0</td>\n      <td>Worthy Brewing Company</td>\n      <td>Bend</td>\n      <td>OR</td>\n      <td>0.077</td>\n    </tr>\n    <tr>\n      <th>2402</th>\n      <td>0.082</td>\n      <td>NaN</td>\n      <td>1316</td>\n      <td>Colorojo Imperial Red Ale</td>\n      <td>American Strong Ale</td>\n      <td>424</td>\n      <td>12.0</td>\n      <td>Wynkoop Brewing Company</td>\n      <td>Denver</td>\n      <td>CO</td>\n      <td>0.082</td>\n    </tr>\n    <tr>\n      <th>2404</th>\n      <td>0.075</td>\n      <td>NaN</td>\n      <td>1035</td>\n      <td>Rocky Mountain Oyster Stout</td>\n      <td>American Stout</td>\n      <td>424</td>\n      <td>12.0</td>\n      <td>Wynkoop Brewing Company</td>\n      <td>Denver</td>\n      <td>CO</td>\n      <td>0.075</td>\n    </tr>\n  </tbody>\n</table>\n<p>409 rows × 11 columns</p>\n</div>"
     },
     "metadata": {},
     "execution_count": 140
    }
   ],
   "source": [
    "# Creo una columna min_abv donde añadiré el mínimo nivel de alcohol que ofrece el bar donde sirven cada cerveza\n",
    "full_beer[\"min_abv\"] = full_beer[[\"name\", \"abv\"]].groupby(\"name\").transform(min).sort_values(by = \"abv\", ascending = False)\n",
    "# Utilizo la nueva columna para pasarle una mascara donde min_abv > 0.07\n",
    "full_beer[full_beer[\"min_abv\"] > 0.07]"
   ]
  },
  {
   "cell_type": "markdown",
   "metadata": {},
   "source": [
    "## Ejercicio 23\n",
    "Teniendo en cuenta la media de amargor de todas las cervezas, obtén una tabla con las cervezas cuyos estados tengan una media de amargor en cerveza por encima de la media"
   ]
  },
  {
   "cell_type": "code",
   "execution_count": 141,
   "metadata": {},
   "outputs": [
    {
     "output_type": "execute_result",
     "data": {
      "text/plain": [
       "        abv   ibu    id                  name                           style  \\\n",
       "1     0.066   NaN  2265           Devil's Cup         American Pale Ale (APA)   \n",
       "2     0.071   NaN  2264   Rise of the Phoenix                    American IPA   \n",
       "3     0.090   NaN  2263              Sinister  American Double / Imperial IPA   \n",
       "4     0.075   NaN  2262         Sex and Candy                    American IPA   \n",
       "5     0.077   NaN  2261          Black Exodus                   Oatmeal Stout   \n",
       "...     ...   ...   ...                   ...                             ...   \n",
       "2405  0.067  45.0   928             Belgorado                     Belgian IPA   \n",
       "2406  0.052   NaN   807         Rail Yard Ale        American Amber / Red Ale   \n",
       "2407  0.055   NaN   620       B3K Black Lager                     Schwarzbier   \n",
       "2408  0.055  40.0   145   Silverback Pale Ale         American Pale Ale (APA)   \n",
       "2409  0.052   NaN    84  Rail Yard Ale (2009)        American Amber / Red Ale   \n",
       "\n",
       "      brewery_id  ounces             brewery_name    city state  min_abv  \\\n",
       "1            177    12.0      18th Street Brewery    Gary    IN    0.066   \n",
       "2            177    12.0      18th Street Brewery    Gary    IN    0.071   \n",
       "3            177    12.0      18th Street Brewery    Gary    IN    0.090   \n",
       "4            177    12.0      18th Street Brewery    Gary    IN    0.075   \n",
       "5            177    12.0      18th Street Brewery    Gary    IN    0.077   \n",
       "...          ...     ...                      ...     ...   ...      ...   \n",
       "2405         424    12.0  Wynkoop Brewing Company  Denver    CO    0.067   \n",
       "2406         424    12.0  Wynkoop Brewing Company  Denver    CO    0.052   \n",
       "2407         424    12.0  Wynkoop Brewing Company  Denver    CO    0.055   \n",
       "2408         424    12.0  Wynkoop Brewing Company  Denver    CO    0.055   \n",
       "2409         424    12.0  Wynkoop Brewing Company  Denver    CO    0.052   \n",
       "\n",
       "       avg_abv  \n",
       "1     0.063394  \n",
       "2     0.063394  \n",
       "3     0.063394  \n",
       "4     0.063394  \n",
       "5     0.063394  \n",
       "...        ...  \n",
       "2405  0.063372  \n",
       "2406  0.063372  \n",
       "2407  0.063372  \n",
       "2408  0.063372  \n",
       "2409  0.063372  \n",
       "\n",
       "[1502 rows x 12 columns]"
      ],
      "text/html": "<div>\n<style scoped>\n    .dataframe tbody tr th:only-of-type {\n        vertical-align: middle;\n    }\n\n    .dataframe tbody tr th {\n        vertical-align: top;\n    }\n\n    .dataframe thead th {\n        text-align: right;\n    }\n</style>\n<table border=\"1\" class=\"dataframe\">\n  <thead>\n    <tr style=\"text-align: right;\">\n      <th></th>\n      <th>abv</th>\n      <th>ibu</th>\n      <th>id</th>\n      <th>name</th>\n      <th>style</th>\n      <th>brewery_id</th>\n      <th>ounces</th>\n      <th>brewery_name</th>\n      <th>city</th>\n      <th>state</th>\n      <th>min_abv</th>\n      <th>avg_abv</th>\n    </tr>\n  </thead>\n  <tbody>\n    <tr>\n      <th>1</th>\n      <td>0.066</td>\n      <td>NaN</td>\n      <td>2265</td>\n      <td>Devil's Cup</td>\n      <td>American Pale Ale (APA)</td>\n      <td>177</td>\n      <td>12.0</td>\n      <td>18th Street Brewery</td>\n      <td>Gary</td>\n      <td>IN</td>\n      <td>0.066</td>\n      <td>0.063394</td>\n    </tr>\n    <tr>\n      <th>2</th>\n      <td>0.071</td>\n      <td>NaN</td>\n      <td>2264</td>\n      <td>Rise of the Phoenix</td>\n      <td>American IPA</td>\n      <td>177</td>\n      <td>12.0</td>\n      <td>18th Street Brewery</td>\n      <td>Gary</td>\n      <td>IN</td>\n      <td>0.071</td>\n      <td>0.063394</td>\n    </tr>\n    <tr>\n      <th>3</th>\n      <td>0.090</td>\n      <td>NaN</td>\n      <td>2263</td>\n      <td>Sinister</td>\n      <td>American Double / Imperial IPA</td>\n      <td>177</td>\n      <td>12.0</td>\n      <td>18th Street Brewery</td>\n      <td>Gary</td>\n      <td>IN</td>\n      <td>0.090</td>\n      <td>0.063394</td>\n    </tr>\n    <tr>\n      <th>4</th>\n      <td>0.075</td>\n      <td>NaN</td>\n      <td>2262</td>\n      <td>Sex and Candy</td>\n      <td>American IPA</td>\n      <td>177</td>\n      <td>12.0</td>\n      <td>18th Street Brewery</td>\n      <td>Gary</td>\n      <td>IN</td>\n      <td>0.075</td>\n      <td>0.063394</td>\n    </tr>\n    <tr>\n      <th>5</th>\n      <td>0.077</td>\n      <td>NaN</td>\n      <td>2261</td>\n      <td>Black Exodus</td>\n      <td>Oatmeal Stout</td>\n      <td>177</td>\n      <td>12.0</td>\n      <td>18th Street Brewery</td>\n      <td>Gary</td>\n      <td>IN</td>\n      <td>0.077</td>\n      <td>0.063394</td>\n    </tr>\n    <tr>\n      <th>...</th>\n      <td>...</td>\n      <td>...</td>\n      <td>...</td>\n      <td>...</td>\n      <td>...</td>\n      <td>...</td>\n      <td>...</td>\n      <td>...</td>\n      <td>...</td>\n      <td>...</td>\n      <td>...</td>\n      <td>...</td>\n    </tr>\n    <tr>\n      <th>2405</th>\n      <td>0.067</td>\n      <td>45.0</td>\n      <td>928</td>\n      <td>Belgorado</td>\n      <td>Belgian IPA</td>\n      <td>424</td>\n      <td>12.0</td>\n      <td>Wynkoop Brewing Company</td>\n      <td>Denver</td>\n      <td>CO</td>\n      <td>0.067</td>\n      <td>0.063372</td>\n    </tr>\n    <tr>\n      <th>2406</th>\n      <td>0.052</td>\n      <td>NaN</td>\n      <td>807</td>\n      <td>Rail Yard Ale</td>\n      <td>American Amber / Red Ale</td>\n      <td>424</td>\n      <td>12.0</td>\n      <td>Wynkoop Brewing Company</td>\n      <td>Denver</td>\n      <td>CO</td>\n      <td>0.052</td>\n      <td>0.063372</td>\n    </tr>\n    <tr>\n      <th>2407</th>\n      <td>0.055</td>\n      <td>NaN</td>\n      <td>620</td>\n      <td>B3K Black Lager</td>\n      <td>Schwarzbier</td>\n      <td>424</td>\n      <td>12.0</td>\n      <td>Wynkoop Brewing Company</td>\n      <td>Denver</td>\n      <td>CO</td>\n      <td>0.055</td>\n      <td>0.063372</td>\n    </tr>\n    <tr>\n      <th>2408</th>\n      <td>0.055</td>\n      <td>40.0</td>\n      <td>145</td>\n      <td>Silverback Pale Ale</td>\n      <td>American Pale Ale (APA)</td>\n      <td>424</td>\n      <td>12.0</td>\n      <td>Wynkoop Brewing Company</td>\n      <td>Denver</td>\n      <td>CO</td>\n      <td>0.055</td>\n      <td>0.063372</td>\n    </tr>\n    <tr>\n      <th>2409</th>\n      <td>0.052</td>\n      <td>NaN</td>\n      <td>84</td>\n      <td>Rail Yard Ale (2009)</td>\n      <td>American Amber / Red Ale</td>\n      <td>424</td>\n      <td>12.0</td>\n      <td>Wynkoop Brewing Company</td>\n      <td>Denver</td>\n      <td>CO</td>\n      <td>0.052</td>\n      <td>0.063372</td>\n    </tr>\n  </tbody>\n</table>\n<p>1502 rows × 12 columns</p>\n</div>"
     },
     "metadata": {},
     "execution_count": 141
    }
   ],
   "source": [
    "# Primero calculo la media de alcohol de las cervezas por estado y lo añado como nueva columna\n",
    "full_beer[\"avg_abv\"] = full_beer[[\"state\", \"abv\"]].groupby(\"state\").transform(np.mean)\n",
    "# Filtro por esa columna, los que tengan un avg por encima del avg general\n",
    "full_beer[full_beer[\"avg_abv\"] > np.mean(full_beer[\"avg_abv\"])]"
   ]
  }
 ],
 "metadata": {
  "kernelspec": {
   "name": "python374jvsc74a57bd0aee8b7b246df8f9039afb4144a1f6fd8d2ca17a180786b69acc140d282b71a49",
   "display_name": "Python 3.7.4 64-bit"
  },
  "language_info": {
   "codemirror_mode": {
    "name": "ipython",
    "version": 3
   },
   "file_extension": ".py",
   "mimetype": "text/x-python",
   "name": "python",
   "nbconvert_exporter": "python",
   "pygments_lexer": "ipython3",
   "version": "3.7.4"
  },
  "metadata": {
   "interpreter": {
    "hash": "aee8b7b246df8f9039afb4144a1f6fd8d2ca17a180786b69acc140d282b71a49"
   }
  }
 },
 "nbformat": 4,
 "nbformat_minor": 4
}