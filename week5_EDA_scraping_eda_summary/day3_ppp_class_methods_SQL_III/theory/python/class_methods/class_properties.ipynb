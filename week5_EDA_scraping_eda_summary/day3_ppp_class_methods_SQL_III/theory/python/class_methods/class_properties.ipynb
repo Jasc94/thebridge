{
 "cells": [
  {
   "cell_type": "code",
   "execution_count": 2,
   "metadata": {},
   "outputs": [
    {
     "output_type": "error",
     "ename": "AttributeError",
     "evalue": "'H' object has no attribute 'x'",
     "traceback": [
      "\u001b[0;31m---------------------------------------------------------------------------\u001b[0m",
      "\u001b[0;31mAttributeError\u001b[0m                            Traceback (most recent call last)",
      "\u001b[0;32m<ipython-input-2-6b0ce60a4b5d>\u001b[0m in \u001b[0;36m<module>\u001b[0;34m\u001b[0m\n\u001b[1;32m      4\u001b[0m \u001b[0;34m\u001b[0m\u001b[0m\n\u001b[1;32m      5\u001b[0m \u001b[0mh\u001b[0m \u001b[0;34m=\u001b[0m \u001b[0mH\u001b[0m\u001b[0;34m(\u001b[0m\u001b[0mx\u001b[0m\u001b[0;34m=\u001b[0m\u001b[0;36m2\u001b[0m\u001b[0;34m)\u001b[0m\u001b[0;34m\u001b[0m\u001b[0;34m\u001b[0m\u001b[0m\n\u001b[0;32m----> 6\u001b[0;31m \u001b[0mh\u001b[0m\u001b[0;34m.\u001b[0m\u001b[0mx\u001b[0m\u001b[0;34m\u001b[0m\u001b[0;34m\u001b[0m\u001b[0m\n\u001b[0m",
      "\u001b[0;31mAttributeError\u001b[0m: 'H' object has no attribute 'x'"
     ]
    }
   ],
   "source": [
    "class H:\n",
    "    def __init__(self, x):\n",
    "        self.__x = x  # __ es privado\n",
    "\n",
    "h = H(x=2)\n",
    "h.x"
   ]
  },
  {
   "cell_type": "code",
   "execution_count": 6,
   "metadata": {},
   "outputs": [
    {
     "output_type": "execute_result",
     "data": {
      "text/plain": [
       "7"
      ]
     },
     "metadata": {},
     "execution_count": 6
    }
   ],
   "source": [
    "# Puedo añadirle atributos a una instancia desde fuera, aunque no es una buena praxis\n",
    "\n",
    "h = H(3)\n",
    "\n",
    "# Esta x es diferente a __x\n",
    "h.x = 7\n",
    "h.x"
   ]
  },
  {
   "cell_type": "code",
   "execution_count": 9,
   "metadata": {},
   "outputs": [
    {
     "output_type": "execute_result",
     "data": {
      "text/plain": [
       "10"
      ]
     },
     "metadata": {},
     "execution_count": 9
    }
   ],
   "source": [
    "class H2:\n",
    "    def __init__(self, x):\n",
    "        self.__x = x  # __ es privado\n",
    "\n",
    "    # Podemos crear un método para acceder al atributo\n",
    "    def get_x(self):\n",
    "        return self.__x\n",
    "\n",
    "h2 = H2(10)\n",
    "h2.get_x()"
   ]
  },
  {
   "cell_type": "code",
   "execution_count": 10,
   "metadata": {},
   "outputs": [],
   "source": [
    "class P:\n",
    "    def __init__(self, x):\n",
    "        self.__x = x  # __ es privado\n",
    "\n",
    "    # Decorador - de la función\n",
    "    # Con el decorador property, puedo llamar a la función de la clase desde fuera sin usar ()\n",
    "    # Es decir, la función pasa a ser propiedad de la función\n",
    "    # Hay que poner el @property encima de cada función que queramos hacer property\n",
    "    @property\n",
    "    def x(self):        # getter\n",
    "        \"\"\" Devuelve el valor del atributo privado \"\"\"\n",
    "        print(\"Muestra __x\")\n",
    "        return self.__x\n",
    "\n",
    "    # .setter -> Estamos llamando a la propiedad x\n",
    "    # El método setter es para poder modificar las propiedades\n",
    "    @x.setter\n",
    "    def x(self, x):     # setter\n",
    "        \"\"\" Permite modificar el atributo privado \"\"\"\n",
    "        if x < 0:\n",
    "            self.__x = 0\n",
    "        elif x > 1000:\n",
    "            self.__x = 1000\n",
    "        else:\n",
    "            self.__x = x"
   ]
  },
  {
   "cell_type": "code",
   "execution_count": 12,
   "metadata": {},
   "outputs": [
    {
     "output_type": "stream",
     "name": "stdout",
     "text": [
      "Muestra __x\n"
     ]
    },
    {
     "output_type": "execute_result",
     "data": {
      "text/plain": [
       "5"
      ]
     },
     "metadata": {},
     "execution_count": 12
    }
   ],
   "source": [
    "p = P(x=5)\n",
    "\n",
    "# Podemos sacar x a través de la función, porque tiene el decorador \"Property\" que lo hace una \"propiedad\" de la función\n",
    "# Es decir, no necesito usar los ()\n",
    "p.x"
   ]
  },
  {
   "cell_type": "code",
   "execution_count": 17,
   "metadata": {},
   "outputs": [
    {
     "output_type": "stream",
     "name": "stdout",
     "text": [
      "Muestra __x\n"
     ]
    },
    {
     "output_type": "execute_result",
     "data": {
      "text/plain": [
       "1000"
      ]
     },
     "metadata": {},
     "execution_count": 17
    }
   ],
   "source": [
    "p.x = 10000\n",
    "p.x"
   ]
  },
  {
   "cell_type": "code",
   "execution_count": null,
   "metadata": {
    "tags": []
   },
   "outputs": [],
   "source": [
    "m = P(x=5)\n",
    "m.x"
   ]
  },
  {
   "cell_type": "code",
   "execution_count": null,
   "metadata": {},
   "outputs": [],
   "source": [
    "import numpy as np \n",
    "\n",
    "x = np.arange(45)\n",
    "x.shape"
   ]
  },
  {
   "cell_type": "code",
   "execution_count": null,
   "metadata": {},
   "outputs": [],
   "source": [
    "x.shape = (9,5)\n",
    "x.shape"
   ]
  },
  {
   "cell_type": "code",
   "execution_count": null,
   "metadata": {},
   "outputs": [],
   "source": [
    "class K:\n",
    "    def __init__(self):\n",
    "        self.atr = self.__calcula_dimension()\n",
    "\n",
    "    def __calcula_dimension(self):\n",
    "        return 9 + 5"
   ]
  }
 ],
 "metadata": {
  "language_info": {
   "name": "python",
   "codemirror_mode": {
    "name": "ipython",
    "version": 3
   },
   "version": "3.7.4"
  },
  "orig_nbformat": 2,
  "file_extension": ".py",
  "mimetype": "text/x-python",
  "name": "python",
  "npconvert_exporter": "python",
  "pygments_lexer": "ipython3",
  "version": 3,
  "kernelspec": {
   "name": "python374jvsc74a57bd0aee8b7b246df8f9039afb4144a1f6fd8d2ca17a180786b69acc140d282b71a49",
   "display_name": "Python 3.7.4 64-bit"
  },
  "metadata": {
   "interpreter": {
    "hash": "aee8b7b246df8f9039afb4144a1f6fd8d2ca17a180786b69acc140d282b71a49"
   }
  }
 },
 "nbformat": 4,
 "nbformat_minor": 2
}