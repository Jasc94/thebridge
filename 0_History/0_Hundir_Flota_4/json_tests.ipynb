{
 "metadata": {
  "language_info": {
   "codemirror_mode": {
    "name": "ipython",
    "version": 3
   },
   "file_extension": ".py",
   "mimetype": "text/x-python",
   "name": "python",
   "nbconvert_exporter": "python",
   "pygments_lexer": "ipython3",
   "version": "3.7.4"
  },
  "orig_nbformat": 2,
  "kernelspec": {
   "name": "python374jvsc74a57bd0aee8b7b246df8f9039afb4144a1f6fd8d2ca17a180786b69acc140d282b71a49",
   "display_name": "Python 3.7.4 64-bit"
  },
  "metadata": {
   "interpreter": {
    "hash": "aee8b7b246df8f9039afb4144a1f6fd8d2ca17a180786b69acc140d282b71a49"
   }
  }
 },
 "nbformat": 4,
 "nbformat_minor": 2,
 "cells": [
  {
   "cell_type": "code",
   "execution_count": 1,
   "metadata": {},
   "outputs": [],
   "source": [
    "import pandas as pd\n",
    "import numpy as np\n",
    "import json\n",
    "\n",
    "def matrix_creator():\n",
    "    # Board's index\n",
    "    index = ['A', 'B', 'C', 'D', 'E', 'F', 'G', 'H', 'I', 'J']\n",
    "    # Two dicts for later use\n",
    "    d = {}\n",
    "    d2 = {}\n",
    "\n",
    "    # The outer dict is for the indexes and the inner for the columns\n",
    "    for i in index:\n",
    "        for j in range(1, len(index) + 1):\n",
    "            # I fill it with '~'\n",
    "            d2[j] = '~'\n",
    "        d[i] = d2\n",
    "\n",
    "    # Dataframe out of the dicts\n",
    "    df = pd.DataFrame(d)\n",
    "    # Transpose it to have the letters to be the index and the numbers the columns\n",
    "    df = df.T\n",
    "    return df"
   ]
  },
  {
   "cell_type": "code",
   "execution_count": 2,
   "metadata": {},
   "outputs": [
    {
     "output_type": "error",
     "ename": "NameError",
     "evalue": "name 'df' is not defined",
     "traceback": [
      "\u001b[0;31m---------------------------------------------------------------------------\u001b[0m",
      "\u001b[0;31mNameError\u001b[0m                                 Traceback (most recent call last)",
      "\u001b[0;32m<ipython-input-2-14acba30516d>\u001b[0m in \u001b[0;36m<module>\u001b[0;34m\u001b[0m\n\u001b[1;32m      1\u001b[0m \u001b[0;31m# Para guardar la matrix como json\u001b[0m\u001b[0;34m\u001b[0m\u001b[0;34m\u001b[0m\u001b[0;34m\u001b[0m\u001b[0m\n\u001b[1;32m      2\u001b[0m \u001b[0;34m\u001b[0m\u001b[0m\n\u001b[0;32m----> 3\u001b[0;31m \u001b[0mdf\u001b[0m\u001b[0;34m.\u001b[0m\u001b[0mto_json\u001b[0m\u001b[0;34m(\u001b[0m\u001b[0;34m'json/json_test1.json'\u001b[0m\u001b[0;34m,\u001b[0m \u001b[0morient\u001b[0m \u001b[0;34m=\u001b[0m \u001b[0;34m'records'\u001b[0m\u001b[0;34m,\u001b[0m \u001b[0mindent\u001b[0m \u001b[0;34m=\u001b[0m \u001b[0;36m4\u001b[0m\u001b[0;34m)\u001b[0m\u001b[0;34m\u001b[0m\u001b[0;34m\u001b[0m\u001b[0m\n\u001b[0m\u001b[1;32m      4\u001b[0m \u001b[0mdf\u001b[0m\u001b[0;34m.\u001b[0m\u001b[0mto_json\u001b[0m\u001b[0;34m(\u001b[0m\u001b[0;34m'json/json_test2.json'\u001b[0m\u001b[0;34m,\u001b[0m \u001b[0morient\u001b[0m \u001b[0;34m=\u001b[0m \u001b[0;34m'records'\u001b[0m\u001b[0;34m,\u001b[0m \u001b[0mindent\u001b[0m \u001b[0;34m=\u001b[0m \u001b[0;36m4\u001b[0m\u001b[0;34m)\u001b[0m\u001b[0;34m\u001b[0m\u001b[0;34m\u001b[0m\u001b[0m\n\u001b[1;32m      5\u001b[0m \u001b[0mdf\u001b[0m\u001b[0;34m.\u001b[0m\u001b[0mto_json\u001b[0m\u001b[0;34m(\u001b[0m\u001b[0;34m'json/json_test3.json'\u001b[0m\u001b[0;34m,\u001b[0m \u001b[0morient\u001b[0m \u001b[0;34m=\u001b[0m \u001b[0;34m'records'\u001b[0m\u001b[0;34m,\u001b[0m \u001b[0mindent\u001b[0m \u001b[0;34m=\u001b[0m \u001b[0;36m4\u001b[0m\u001b[0;34m)\u001b[0m\u001b[0;34m\u001b[0m\u001b[0;34m\u001b[0m\u001b[0m\n",
      "\u001b[0;31mNameError\u001b[0m: name 'df' is not defined"
     ]
    }
   ],
   "source": [
    "# Para guardar la matrix como json\n",
    "\n",
    "df.to_json('json/json_test1.json', orient = 'records', indent = 4)\n",
    "df.to_json('json/json_test2.json', orient = 'records', indent = 4)\n",
    "df.to_json('json/json_test3.json', orient = 'records', indent = 4)"
   ]
  },
  {
   "cell_type": "code",
   "execution_count": 4,
   "metadata": {},
   "outputs": [],
   "source": [
    "# Para guardar el juego de hundir la flota, tendría que guardar 4 matrices: back y front de cada jugador"
   ]
  },
  {
   "cell_type": "code",
   "execution_count": 5,
   "metadata": {},
   "outputs": [
    {
     "output_type": "stream",
     "name": "stdout",
     "text": [
      "[{'1': '~', '2': '~', '3': '~', '4': '~', '5': '~', '6': '~', '7': '~', '8': '~', '9': '~', '10': '~'}, {'1': '~', '2': '~', '3': '~', '4': '~', '5': '~', '6': '~', '7': '~', '8': '~', '9': '~', '10': '~'}, {'1': '~', '2': '~', '3': '~', '4': '~', '5': '~', '6': '~', '7': '~', '8': '~', '9': '~', '10': '~'}, {'1': '~', '2': '~', '3': '~', '4': '~', '5': '~', '6': '~', '7': '~', '8': '~', '9': '~', '10': '~'}, {'1': '~', '2': '~', '3': '~', '4': '~', '5': '~', '6': '~', '7': '~', '8': '~', '9': '~', '10': '~'}, {'1': '~', '2': '~', '3': '~', '4': '~', '5': '~', '6': '~', '7': '~', '8': '~', '9': '~', '10': '~'}, {'1': '~', '2': '~', '3': '~', '4': '~', '5': '~', '6': '~', '7': '~', '8': '~', '9': '~', '10': '~'}, {'1': '~', '2': '~', '3': '~', '4': '~', '5': '~', '6': '~', '7': '~', '8': '~', '9': '~', '10': '~'}, {'1': '~', '2': '~', '3': '~', '4': '~', '5': '~', '6': '~', '7': '~', '8': '~', '9': '~', '10': '~'}, {'1': '~', '2': '~', '3': '~', '4': '~', '5': '~', '6': '~', '7': '~', '8': '~', '9': '~', '10': '~'}]\n----------------------------------------------------------------------------------------------------\n   1  2  3  4  5  6  7  8  9 10\n0  ~  ~  ~  ~  ~  ~  ~  ~  ~  ~\n1  ~  ~  ~  ~  ~  ~  ~  ~  ~  ~\n2  ~  ~  ~  ~  ~  ~  ~  ~  ~  ~\n3  ~  ~  ~  ~  ~  ~  ~  ~  ~  ~\n4  ~  ~  ~  ~  ~  ~  ~  ~  ~  ~\n5  ~  ~  ~  ~  ~  ~  ~  ~  ~  ~\n6  ~  ~  ~  ~  ~  ~  ~  ~  ~  ~\n7  ~  ~  ~  ~  ~  ~  ~  ~  ~  ~\n8  ~  ~  ~  ~  ~  ~  ~  ~  ~  ~\n9  ~  ~  ~  ~  ~  ~  ~  ~  ~  ~\n"
     ]
    }
   ],
   "source": [
    "# Para leer la info del json\n",
    "\n",
    "with open('json/json_test.json', 'r+') as outfile:\n",
    "    old_game = json.load(outfile)\n",
    "\n",
    "print(old_game)\n",
    "print('-' * 100)\n",
    "old_df = pd.DataFrame(old_game)\n",
    "print(old_df)"
   ]
  },
  {
   "cell_type": "code",
   "execution_count": 6,
   "metadata": {},
   "outputs": [],
   "source": [
    "def load_old_game(file):\n",
    "    with open(file, 'r+') as outfile:\n",
    "        old_game = json.load(outfile)\n",
    "        old_df = pd.DataFrame(old_game)\n",
    "        return old_df"
   ]
  },
  {
   "cell_type": "code",
   "execution_count": 7,
   "metadata": {},
   "outputs": [
    {
     "output_type": "execute_result",
     "data": {
      "text/plain": [
       "   1  2  3  4  5  6  7  8  9 10\n",
       "0  ~  ~  ~  ~  ~  ~  ~  ~  ~  ~\n",
       "1  ~  ~  ~  ~  ~  ~  ~  ~  ~  ~\n",
       "2  ~  ~  ~  ~  ~  ~  ~  ~  ~  ~\n",
       "3  ~  ~  ~  ~  ~  ~  ~  ~  ~  ~\n",
       "4  ~  ~  ~  ~  ~  ~  ~  ~  ~  ~\n",
       "5  ~  ~  ~  ~  ~  ~  ~  ~  ~  ~\n",
       "6  ~  ~  ~  ~  ~  ~  ~  ~  ~  ~\n",
       "7  ~  ~  ~  ~  ~  ~  ~  ~  ~  ~\n",
       "8  ~  ~  ~  ~  ~  ~  ~  ~  ~  ~\n",
       "9  ~  ~  ~  ~  ~  ~  ~  ~  ~  ~"
      ],
      "text/html": "<div>\n<style scoped>\n    .dataframe tbody tr th:only-of-type {\n        vertical-align: middle;\n    }\n\n    .dataframe tbody tr th {\n        vertical-align: top;\n    }\n\n    .dataframe thead th {\n        text-align: right;\n    }\n</style>\n<table border=\"1\" class=\"dataframe\">\n  <thead>\n    <tr style=\"text-align: right;\">\n      <th></th>\n      <th>1</th>\n      <th>2</th>\n      <th>3</th>\n      <th>4</th>\n      <th>5</th>\n      <th>6</th>\n      <th>7</th>\n      <th>8</th>\n      <th>9</th>\n      <th>10</th>\n    </tr>\n  </thead>\n  <tbody>\n    <tr>\n      <th>0</th>\n      <td>~</td>\n      <td>~</td>\n      <td>~</td>\n      <td>~</td>\n      <td>~</td>\n      <td>~</td>\n      <td>~</td>\n      <td>~</td>\n      <td>~</td>\n      <td>~</td>\n    </tr>\n    <tr>\n      <th>1</th>\n      <td>~</td>\n      <td>~</td>\n      <td>~</td>\n      <td>~</td>\n      <td>~</td>\n      <td>~</td>\n      <td>~</td>\n      <td>~</td>\n      <td>~</td>\n      <td>~</td>\n    </tr>\n    <tr>\n      <th>2</th>\n      <td>~</td>\n      <td>~</td>\n      <td>~</td>\n      <td>~</td>\n      <td>~</td>\n      <td>~</td>\n      <td>~</td>\n      <td>~</td>\n      <td>~</td>\n      <td>~</td>\n    </tr>\n    <tr>\n      <th>3</th>\n      <td>~</td>\n      <td>~</td>\n      <td>~</td>\n      <td>~</td>\n      <td>~</td>\n      <td>~</td>\n      <td>~</td>\n      <td>~</td>\n      <td>~</td>\n      <td>~</td>\n    </tr>\n    <tr>\n      <th>4</th>\n      <td>~</td>\n      <td>~</td>\n      <td>~</td>\n      <td>~</td>\n      <td>~</td>\n      <td>~</td>\n      <td>~</td>\n      <td>~</td>\n      <td>~</td>\n      <td>~</td>\n    </tr>\n    <tr>\n      <th>5</th>\n      <td>~</td>\n      <td>~</td>\n      <td>~</td>\n      <td>~</td>\n      <td>~</td>\n      <td>~</td>\n      <td>~</td>\n      <td>~</td>\n      <td>~</td>\n      <td>~</td>\n    </tr>\n    <tr>\n      <th>6</th>\n      <td>~</td>\n      <td>~</td>\n      <td>~</td>\n      <td>~</td>\n      <td>~</td>\n      <td>~</td>\n      <td>~</td>\n      <td>~</td>\n      <td>~</td>\n      <td>~</td>\n    </tr>\n    <tr>\n      <th>7</th>\n      <td>~</td>\n      <td>~</td>\n      <td>~</td>\n      <td>~</td>\n      <td>~</td>\n      <td>~</td>\n      <td>~</td>\n      <td>~</td>\n      <td>~</td>\n      <td>~</td>\n    </tr>\n    <tr>\n      <th>8</th>\n      <td>~</td>\n      <td>~</td>\n      <td>~</td>\n      <td>~</td>\n      <td>~</td>\n      <td>~</td>\n      <td>~</td>\n      <td>~</td>\n      <td>~</td>\n      <td>~</td>\n    </tr>\n    <tr>\n      <th>9</th>\n      <td>~</td>\n      <td>~</td>\n      <td>~</td>\n      <td>~</td>\n      <td>~</td>\n      <td>~</td>\n      <td>~</td>\n      <td>~</td>\n      <td>~</td>\n      <td>~</td>\n    </tr>\n  </tbody>\n</table>\n</div>"
     },
     "metadata": {},
     "execution_count": 7
    }
   ],
   "source": [
    "load_old_game('json/json_test.json')"
   ]
  },
  {
   "source": [
    "Con los jsons tendría que:\n",
    "- Guardar 4 jsons -> 1 por dataframe\n",
    "- Guardar los jsons en una misma carpeta\n",
    "- Que al guardar, el nombre de cada archivo contenga: partida + player + matriz\n",
    "\n",
    "\n",
    "Al volver a cargarlos:\n",
    "- Debe asignar cada archivo a su correspondiente matriz-jugador"
   ],
   "cell_type": "markdown",
   "metadata": {}
  },
  {
   "source": [
    "# Game dynamic"
   ],
   "cell_type": "markdown",
   "metadata": {}
  },
  {
   "cell_type": "code",
   "execution_count": 8,
   "metadata": {},
   "outputs": [
    {
     "output_type": "stream",
     "name": "stdout",
     "text": [
      "new game\n"
     ]
    }
   ],
   "source": [
    "beginning = input('Do you want to start a new game(new) or continue an old one(old)?').lower()\n",
    "\n",
    "if beginning == 'old':\n",
    "    try:\n",
    "        old_game_folder = input('Please enter the folder (or folder) with your old game: ')\n",
    "        print(load_old_game_2(old_game_folder))\n",
    "    except Exception:\n",
    "        print(\"Seems like the folder/path doesn't exist or it's incorrect\")\n",
    "else:\n",
    "    print('new game')\n",
    "    # rest of the game"
   ]
  },
  {
   "cell_type": "code",
   "execution_count": 9,
   "metadata": {},
   "outputs": [
    {
     "output_type": "stream",
     "name": "stdout",
     "text": [
      "json_test3.json\njson_test.json\njson_test2.json\njson_test1.json\n"
     ]
    }
   ],
   "source": [
    "import os\n",
    "for i in os.listdir('json'):\n",
    "    print(i)"
   ]
  },
  {
   "cell_type": "code",
   "execution_count": 10,
   "metadata": {},
   "outputs": [],
   "source": [
    "def load_old_game_2(path):\n",
    "    # Dict to store all the dataframes that I upload with the names as keys, so that I can them match them with the respective player front/back boards\n",
    "    dfs = {}\n",
    "\n",
    "    # As I will have 4 json (1 per player front/back matrix)\n",
    "    # I check all the items in the folder\n",
    "    for i in os.listdir(path):\n",
    "        # I append the name to the path, so that I can read it later\n",
    "        full_path = path + '/' + str(i)\n",
    "        # I read it\n",
    "        with open(full_path, 'r+') as outfile:\n",
    "            # Now I have the dict\n",
    "            old_game = json.load(outfile)\n",
    "            # Not I have the df\n",
    "            old_df = pd.DataFrame(old_game)\n",
    "            # I append the df, with the corresponding name, to the dict\n",
    "            dfs[i] = old_df\n",
    "\n",
    "    return dfs"
   ]
  },
  {
   "cell_type": "code",
   "execution_count": 11,
   "metadata": {},
   "outputs": [
    {
     "output_type": "execute_result",
     "data": {
      "text/plain": [
       "{'json_test3.json':    1  2  3  4  5  6  7  8  9 10\n",
       " 0  ~  ~  ~  ~  ~  ~  ~  ~  ~  ~\n",
       " 1  ~  ~  ~  ~  ~  ~  ~  ~  ~  ~\n",
       " 2  ~  ~  ~  ~  ~  ~  ~  ~  ~  ~\n",
       " 3  ~  ~  ~  ~  ~  ~  ~  ~  ~  ~\n",
       " 4  ~  ~  ~  ~  ~  ~  ~  ~  ~  ~\n",
       " 5  ~  ~  ~  ~  ~  ~  ~  ~  ~  ~\n",
       " 6  ~  ~  ~  ~  ~  ~  ~  ~  ~  ~\n",
       " 7  ~  ~  ~  ~  ~  ~  ~  ~  ~  ~\n",
       " 8  ~  ~  ~  ~  ~  ~  ~  ~  ~  ~\n",
       " 9  ~  ~  ~  ~  ~  ~  ~  ~  ~  ~,\n",
       " 'json_test.json':    1  2  3  4  5  6  7  8  9 10\n",
       " 0  ~  ~  ~  ~  ~  ~  ~  ~  ~  ~\n",
       " 1  ~  ~  ~  ~  ~  ~  ~  ~  ~  ~\n",
       " 2  ~  ~  ~  ~  ~  ~  ~  ~  ~  ~\n",
       " 3  ~  ~  ~  ~  ~  ~  ~  ~  ~  ~\n",
       " 4  ~  ~  ~  ~  ~  ~  ~  ~  ~  ~\n",
       " 5  ~  ~  ~  ~  ~  ~  ~  ~  ~  ~\n",
       " 6  ~  ~  ~  ~  ~  ~  ~  ~  ~  ~\n",
       " 7  ~  ~  ~  ~  ~  ~  ~  ~  ~  ~\n",
       " 8  ~  ~  ~  ~  ~  ~  ~  ~  ~  ~\n",
       " 9  ~  ~  ~  ~  ~  ~  ~  ~  ~  ~,\n",
       " 'json_test2.json':    1  2  3  4  5  6  7  8  9 10\n",
       " 0  ~  ~  ~  ~  ~  ~  ~  ~  ~  ~\n",
       " 1  ~  ~  ~  ~  ~  ~  ~  ~  ~  ~\n",
       " 2  ~  ~  ~  ~  ~  ~  ~  ~  ~  ~\n",
       " 3  ~  ~  ~  ~  ~  ~  ~  ~  ~  ~\n",
       " 4  ~  ~  ~  ~  ~  ~  ~  ~  ~  ~\n",
       " 5  ~  ~  ~  ~  ~  ~  ~  ~  ~  ~\n",
       " 6  ~  ~  ~  ~  ~  ~  ~  ~  ~  ~\n",
       " 7  ~  ~  ~  ~  ~  ~  ~  ~  ~  ~\n",
       " 8  ~  ~  ~  ~  ~  ~  ~  ~  ~  ~\n",
       " 9  ~  ~  ~  ~  ~  ~  ~  ~  ~  ~,\n",
       " 'json_test1.json':    1  2  3  4  5  6  7  8  9 10\n",
       " 0  ~  ~  ~  ~  ~  ~  ~  ~  ~  ~\n",
       " 1  ~  ~  ~  ~  ~  ~  ~  ~  ~  ~\n",
       " 2  ~  ~  ~  ~  ~  ~  ~  ~  ~  ~\n",
       " 3  ~  ~  ~  ~  ~  ~  ~  ~  ~  ~\n",
       " 4  ~  ~  ~  ~  ~  ~  ~  ~  ~  ~\n",
       " 5  ~  ~  ~  ~  ~  ~  ~  ~  ~  ~\n",
       " 6  ~  ~  ~  ~  ~  ~  ~  ~  ~  ~\n",
       " 7  ~  ~  ~  ~  ~  ~  ~  ~  ~  ~\n",
       " 8  ~  ~  ~  ~  ~  ~  ~  ~  ~  ~\n",
       " 9  ~  ~  ~  ~  ~  ~  ~  ~  ~  ~}"
      ]
     },
     "metadata": {},
     "execution_count": 11
    }
   ],
   "source": [
    "load_old_game_2('json')"
   ]
  },
  {
   "cell_type": "code",
   "execution_count": 13,
   "metadata": {},
   "outputs": [
    {
     "output_type": "execute_result",
     "data": {
      "text/plain": [
       "'new_variable'"
      ]
     },
     "metadata": {},
     "execution_count": 13
    }
   ],
   "source": [
    "from varname import nameof\n",
    "\n",
    "new_variable = 123\n",
    "name = nameof(new_variable)\n",
    "name"
   ]
  },
  {
   "cell_type": "code",
   "execution_count": 15,
   "metadata": {},
   "outputs": [
    {
     "output_type": "execute_result",
     "data": {
      "text/plain": [
       "  1  2  3  4  5  6  7  8  9  10\n",
       "A  ~  ~  ~  ~  ~  ~  ~  ~  ~  ~\n",
       "B  ~  ~  ~  ~  ~  ~  ~  ~  ~  ~\n",
       "C  ~  ~  ~  ~  ~  ~  ~  ~  ~  ~\n",
       "D  ~  ~  ~  ~  ~  ~  ~  ~  ~  ~\n",
       "E  ~  ~  ~  ~  ~  ~  ~  ~  ~  ~\n",
       "F  ~  ~  ~  ~  ~  ~  ~  ~  ~  ~\n",
       "G  ~  ~  ~  ~  ~  ~  ~  ~  ~  ~\n",
       "H  ~  ~  ~  ~  ~  ~  ~  ~  ~  ~\n",
       "I  ~  ~  ~  ~  ~  ~  ~  ~  ~  ~\n",
       "J  ~  ~  ~  ~  ~  ~  ~  ~  ~  ~"
      ],
      "text/html": "<div>\n<style scoped>\n    .dataframe tbody tr th:only-of-type {\n        vertical-align: middle;\n    }\n\n    .dataframe tbody tr th {\n        vertical-align: top;\n    }\n\n    .dataframe thead th {\n        text-align: right;\n    }\n</style>\n<table border=\"1\" class=\"dataframe\">\n  <thead>\n    <tr style=\"text-align: right;\">\n      <th></th>\n      <th>1</th>\n      <th>2</th>\n      <th>3</th>\n      <th>4</th>\n      <th>5</th>\n      <th>6</th>\n      <th>7</th>\n      <th>8</th>\n      <th>9</th>\n      <th>10</th>\n    </tr>\n  </thead>\n  <tbody>\n    <tr>\n      <th>A</th>\n      <td>~</td>\n      <td>~</td>\n      <td>~</td>\n      <td>~</td>\n      <td>~</td>\n      <td>~</td>\n      <td>~</td>\n      <td>~</td>\n      <td>~</td>\n      <td>~</td>\n    </tr>\n    <tr>\n      <th>B</th>\n      <td>~</td>\n      <td>~</td>\n      <td>~</td>\n      <td>~</td>\n      <td>~</td>\n      <td>~</td>\n      <td>~</td>\n      <td>~</td>\n      <td>~</td>\n      <td>~</td>\n    </tr>\n    <tr>\n      <th>C</th>\n      <td>~</td>\n      <td>~</td>\n      <td>~</td>\n      <td>~</td>\n      <td>~</td>\n      <td>~</td>\n      <td>~</td>\n      <td>~</td>\n      <td>~</td>\n      <td>~</td>\n    </tr>\n    <tr>\n      <th>D</th>\n      <td>~</td>\n      <td>~</td>\n      <td>~</td>\n      <td>~</td>\n      <td>~</td>\n      <td>~</td>\n      <td>~</td>\n      <td>~</td>\n      <td>~</td>\n      <td>~</td>\n    </tr>\n    <tr>\n      <th>E</th>\n      <td>~</td>\n      <td>~</td>\n      <td>~</td>\n      <td>~</td>\n      <td>~</td>\n      <td>~</td>\n      <td>~</td>\n      <td>~</td>\n      <td>~</td>\n      <td>~</td>\n    </tr>\n    <tr>\n      <th>F</th>\n      <td>~</td>\n      <td>~</td>\n      <td>~</td>\n      <td>~</td>\n      <td>~</td>\n      <td>~</td>\n      <td>~</td>\n      <td>~</td>\n      <td>~</td>\n      <td>~</td>\n    </tr>\n    <tr>\n      <th>G</th>\n      <td>~</td>\n      <td>~</td>\n      <td>~</td>\n      <td>~</td>\n      <td>~</td>\n      <td>~</td>\n      <td>~</td>\n      <td>~</td>\n      <td>~</td>\n      <td>~</td>\n    </tr>\n    <tr>\n      <th>H</th>\n      <td>~</td>\n      <td>~</td>\n      <td>~</td>\n      <td>~</td>\n      <td>~</td>\n      <td>~</td>\n      <td>~</td>\n      <td>~</td>\n      <td>~</td>\n      <td>~</td>\n    </tr>\n    <tr>\n      <th>I</th>\n      <td>~</td>\n      <td>~</td>\n      <td>~</td>\n      <td>~</td>\n      <td>~</td>\n      <td>~</td>\n      <td>~</td>\n      <td>~</td>\n      <td>~</td>\n      <td>~</td>\n    </tr>\n    <tr>\n      <th>J</th>\n      <td>~</td>\n      <td>~</td>\n      <td>~</td>\n      <td>~</td>\n      <td>~</td>\n      <td>~</td>\n      <td>~</td>\n      <td>~</td>\n      <td>~</td>\n      <td>~</td>\n    </tr>\n  </tbody>\n</table>\n</div>"
     },
     "metadata": {},
     "execution_count": 15
    }
   ],
   "source": [
    "df = matrix_creator()\n",
    "df"
   ]
  },
  {
   "cell_type": "code",
   "execution_count": 48,
   "metadata": {},
   "outputs": [
    {
     "output_type": "execute_result",
     "data": {
      "text/plain": [
       "  1  2  3  4  5  6  7  8  9  10\n",
       "A  ~  ~  ~  ~  ~  ~  ~  ~  ~  ~\n",
       "B  ~  ~  ~  X  X  X  X  ~  ~  ~\n",
       "C  ~  ~  ~  X  X  X  X  ~  ~  ~\n",
       "D  ~  ~  ~  X  X  X  X  ~  ~  ~\n",
       "E  ~  ~  ~  X  ~  ~  ~  ~  ~  ~\n",
       "F  ~  ~  ~  ~  ~  ~  ~  ~  ~  ~\n",
       "G  ~  ~  ~  ~  ~  ~  ~  ~  ~  ~\n",
       "H  ~  ~  ~  ~  ~  ~  ~  ~  ~  ~\n",
       "I  ~  ~  ~  ~  ~  ~  ~  ~  ~  ~\n",
       "J  ~  ~  ~  ~  ~  ~  ~  ~  ~  ~"
      ],
      "text/html": "<div>\n<style scoped>\n    .dataframe tbody tr th:only-of-type {\n        vertical-align: middle;\n    }\n\n    .dataframe tbody tr th {\n        vertical-align: top;\n    }\n\n    .dataframe thead th {\n        text-align: right;\n    }\n</style>\n<table border=\"1\" class=\"dataframe\">\n  <thead>\n    <tr style=\"text-align: right;\">\n      <th></th>\n      <th>1</th>\n      <th>2</th>\n      <th>3</th>\n      <th>4</th>\n      <th>5</th>\n      <th>6</th>\n      <th>7</th>\n      <th>8</th>\n      <th>9</th>\n      <th>10</th>\n    </tr>\n  </thead>\n  <tbody>\n    <tr>\n      <th>A</th>\n      <td>~</td>\n      <td>~</td>\n      <td>~</td>\n      <td>~</td>\n      <td>~</td>\n      <td>~</td>\n      <td>~</td>\n      <td>~</td>\n      <td>~</td>\n      <td>~</td>\n    </tr>\n    <tr>\n      <th>B</th>\n      <td>~</td>\n      <td>~</td>\n      <td>~</td>\n      <td>X</td>\n      <td>X</td>\n      <td>X</td>\n      <td>X</td>\n      <td>~</td>\n      <td>~</td>\n      <td>~</td>\n    </tr>\n    <tr>\n      <th>C</th>\n      <td>~</td>\n      <td>~</td>\n      <td>~</td>\n      <td>X</td>\n      <td>X</td>\n      <td>X</td>\n      <td>X</td>\n      <td>~</td>\n      <td>~</td>\n      <td>~</td>\n    </tr>\n    <tr>\n      <th>D</th>\n      <td>~</td>\n      <td>~</td>\n      <td>~</td>\n      <td>X</td>\n      <td>X</td>\n      <td>X</td>\n      <td>X</td>\n      <td>~</td>\n      <td>~</td>\n      <td>~</td>\n    </tr>\n    <tr>\n      <th>E</th>\n      <td>~</td>\n      <td>~</td>\n      <td>~</td>\n      <td>X</td>\n      <td>~</td>\n      <td>~</td>\n      <td>~</td>\n      <td>~</td>\n      <td>~</td>\n      <td>~</td>\n    </tr>\n    <tr>\n      <th>F</th>\n      <td>~</td>\n      <td>~</td>\n      <td>~</td>\n      <td>~</td>\n      <td>~</td>\n      <td>~</td>\n      <td>~</td>\n      <td>~</td>\n      <td>~</td>\n      <td>~</td>\n    </tr>\n    <tr>\n      <th>G</th>\n      <td>~</td>\n      <td>~</td>\n      <td>~</td>\n      <td>~</td>\n      <td>~</td>\n      <td>~</td>\n      <td>~</td>\n      <td>~</td>\n      <td>~</td>\n      <td>~</td>\n    </tr>\n    <tr>\n      <th>H</th>\n      <td>~</td>\n      <td>~</td>\n      <td>~</td>\n      <td>~</td>\n      <td>~</td>\n      <td>~</td>\n      <td>~</td>\n      <td>~</td>\n      <td>~</td>\n      <td>~</td>\n    </tr>\n    <tr>\n      <th>I</th>\n      <td>~</td>\n      <td>~</td>\n      <td>~</td>\n      <td>~</td>\n      <td>~</td>\n      <td>~</td>\n      <td>~</td>\n      <td>~</td>\n      <td>~</td>\n      <td>~</td>\n    </tr>\n    <tr>\n      <th>J</th>\n      <td>~</td>\n      <td>~</td>\n      <td>~</td>\n      <td>~</td>\n      <td>~</td>\n      <td>~</td>\n      <td>~</td>\n      <td>~</td>\n      <td>~</td>\n      <td>~</td>\n    </tr>\n  </tbody>\n</table>\n</div>"
     },
     "metadata": {},
     "execution_count": 48
    }
   ],
   "source": [
    "for i in df.loc['B':'D'].values:\n",
    "   i[3:7] = 'X'\n",
    "\n",
    "df"
   ]
  },
  {
   "source": [
    "# To save the game"
   ],
   "cell_type": "markdown",
   "metadata": {}
  },
  {
   "cell_type": "code",
   "execution_count": 53,
   "metadata": {},
   "outputs": [],
   "source": [
    "df1 = matrix_creator()\n",
    "df2 = matrix_creator()\n",
    "df3 = matrix_creator()\n",
    "df4 = matrix_creator()\n",
    "\n",
    "for i in df1.loc['B':'D'].values:\n",
    "   i[3:7] = 'X'\n",
    "\n",
    "path1 = 'json/' + nameof(df1) + '.json'\n",
    "path2 = 'json/' + nameof(df2) + '.json'\n",
    "path3 = 'json/' + nameof(df3) + '.json'\n",
    "path4 = 'json/' + nameof(df4) + '.json'\n",
    "\n",
    "df1.to_json(path1, orient = 'records', indent = 4)\n",
    "df2.to_json(path2, orient = 'records', indent = 4)\n",
    "df3.to_json(path3, orient = 'records', indent = 4)\n",
    "df4.to_json(path4, orient = 'records', indent = 4)"
   ]
  },
  {
   "cell_type": "code",
   "execution_count": 2,
   "metadata": {},
   "outputs": [],
   "source": [
    "# game_name = input('How do you want to save the game?')\n",
    "\n",
    "def save_game(dfs_list, game_name):\n",
    "    df1, df2, df3, df4 = dfs_list\n",
    "\n",
    "    path1 = 'json/' + nameof(df1) + '.json'\n",
    "    path2 = 'json/' + nameof(df2) + '.json'\n",
    "    path3 = 'json/' + nameof(df3) + '.json'\n",
    "    path4 = 'json/' + nameof(df4) + '.json'\n",
    "\n",
    "    df1.to_json(path1, orient = 'records', indent = 4)\n",
    "    df2.to_json(path2, orient = 'records', indent = 4)\n",
    "    df3.to_json(path3, orient = 'records', indent = 4)\n",
    "    df4.to_json(path4, orient = 'records', indent = 4)\n",
    "\n",
    "    return 'Succesfully saved'"
   ]
  },
  {
   "cell_type": "code",
   "execution_count": 59,
   "metadata": {},
   "outputs": [
    {
     "output_type": "execute_result",
     "data": {
      "text/plain": [
       "'Succesfully saved'"
      ]
     },
     "metadata": {},
     "execution_count": 59
    }
   ],
   "source": [
    "t1, t2, t3, t4 = matrix_creator(), matrix_creator(), matrix_creator(), matrix_creator()\n",
    "l = [t1, t2, t3, t4]\n",
    "save_game(l)"
   ]
  },
  {
   "cell_type": "code",
   "execution_count": 1,
   "metadata": {},
   "outputs": [],
   "source": [
    "import os\n",
    "if not os.path.exists('my_folder'):\n",
    "    os.makedirs('my_folder')"
   ]
  },
  {
   "cell_type": "code",
   "execution_count": 3,
   "metadata": {},
   "outputs": [],
   "source": [
    "from varname import nameof\n",
    "\n",
    "def save_game(dfs_list, game_name):\n",
    "    # I unpack the dfs in the list\n",
    "    player1_front, player1_back, player2_front, player2_back = dfs_list\n",
    "\n",
    "    os.makedirs('json/' + game_name)\n",
    "    # I append the names to the locations\n",
    "    path1 = 'json/' + game_name + '/' + nameof(player1_front) + '.json'\n",
    "    path2 = 'json/' + game_name + '/' + nameof(player1_back) + '.json'\n",
    "    path3 = 'json/' + game_name + '/' + nameof(player2_front) + '.json'\n",
    "    path4 = 'json/' + game_name + '/' + nameof(player2_back) + '.json'\n",
    "\n",
    "    player1_front.to_json(path1, orient = 'records', indent = 4)\n",
    "    player1_back.to_json(path2, orient = 'records', indent = 4)\n",
    "    player2_front.to_json(path3, orient = 'records', indent = 4)\n",
    "    player2_back.to_json(path4, orient = 'records', indent = 4)\n",
    "\n",
    "    return 'Succesfully saved'"
   ]
  },
  {
   "cell_type": "code",
   "execution_count": 4,
   "metadata": {},
   "outputs": [
    {
     "output_type": "execute_result",
     "data": {
      "text/plain": [
       "'Succesfully saved'"
      ]
     },
     "metadata": {},
     "execution_count": 4
    }
   ],
   "source": [
    "t1, t2, t3, t4 = matrix_creator(), matrix_creator(), matrix_creator(), matrix_creator()\n",
    "l = [t1, t2, t3, t4]\n",
    "save_game(l, 'test2')"
   ]
  },
  {
   "cell_type": "code",
   "execution_count": 2,
   "metadata": {},
   "outputs": [],
   "source": [
    "def load_old_game(game_name):\n",
    "    # Dict to store all the dataframes that I upload with the names as keys, so that I can them match them with the respective player front/back boards\n",
    "    dfs = {}\n",
    "    path = 'json/' + game_name\n",
    "\n",
    "    # As I will have 4 json (1 per player front/back matrix)\n",
    "    # I check all the items in the folder\n",
    "    for i in os.listdir(path):\n",
    "        # I append the name to the path, so that I can read it later\n",
    "        full_path = path + '/' + str(i)\n",
    "        # I read it\n",
    "        with open(full_path, 'r+') as outfile:\n",
    "            # Now I have the dict\n",
    "            old_game = json.load(outfile)\n",
    "            # Not I have the df\n",
    "            old_df = pd.DataFrame(old_game)\n",
    "            # I append the df, with the corresponding name, to the dict\n",
    "            dfs[i] = old_df\n",
    "\n",
    "    return dfs"
   ]
  },
  {
   "cell_type": "code",
   "execution_count": 11,
   "metadata": {},
   "outputs": [],
   "source": [
    "def load_old_game(game_name):\n",
    "    # Dict to store all the dataframes that I upload with the names as keys, so that I can them match them with the respective player front/back boards\n",
    "    dfs = []\n",
    "    path = 'json/' + game_name\n",
    "\n",
    "    # As I will have 4 json (1 per player front/back matrix)\n",
    "    # I check all the items in the folder\n",
    "    for i in os.listdir(path):\n",
    "        # I append the name to the path, so that I can read it later\n",
    "        full_path = path + '/' + str(i)\n",
    "        # I read it\n",
    "        with open(full_path, 'r+') as outfile:\n",
    "            # Now I have the dict\n",
    "            old_game = json.load(outfile)\n",
    "            # Not I have the df\n",
    "            old_df = pd.DataFrame(old_game)\n",
    "\n",
    "            # I recover the indexes, as they get lost when saved as jsons\n",
    "            old_df.index = ['A', 'B', 'C', 'D', 'E', 'F', 'G', 'H', 'I', 'J']\n",
    "            old_df.columns = list(range(1, 11))\n",
    "            \n",
    "            # I append the df, with the corresponding name, to the dict\n",
    "            dfs.append(old_df)\n",
    "\n",
    "    return dfs"
   ]
  },
  {
   "cell_type": "code",
   "execution_count": 13,
   "metadata": {},
   "outputs": [
    {
     "output_type": "execute_result",
     "data": {
      "text/plain": [
       "A    X\n",
       "B    ~\n",
       "C    ~\n",
       "D    ~\n",
       "E    ~\n",
       "F    ~\n",
       "G    ~\n",
       "H    ~\n",
       "I    ~\n",
       "J    ~\n",
       "Name: 1, dtype: object"
      ]
     },
     "metadata": {},
     "execution_count": 13
    }
   ],
   "source": [
    "dfs = load_old_game('second_attempt')\n",
    "dfs[0][1]"
   ]
  },
  {
   "cell_type": "code",
   "execution_count": 28,
   "metadata": {},
   "outputs": [
    {
     "output_type": "execute_result",
     "data": {
      "text/plain": [
       "['player2_front.json',\n",
       " 'player1_back.json',\n",
       " 'player2_back.json',\n",
       " 'player1_front.json']"
      ]
     },
     "metadata": {},
     "execution_count": 28
    }
   ],
   "source": [
    "dfs = load_old_game('test')\n",
    "x = []\n",
    "\n",
    "for k, v in dfs.items():\n",
    "    x.append(k)\n",
    "\n",
    "x"
   ]
  },
  {
   "cell_type": "code",
   "execution_count": 12,
   "metadata": {},
   "outputs": [],
   "source": [
    "t1, t2, t3, t4 = matrix_creator(), matrix_creator(), matrix_creator(), matrix_creator()\n",
    "l = [t1, t2, t3, t4]"
   ]
  },
  {
   "cell_type": "code",
   "execution_count": 14,
   "metadata": {},
   "outputs": [],
   "source": [
    "t2.loc['A', 0:] = '*'\n",
    "t2.loc['B', 0:] = '*'\n",
    "t2.loc['C', 2:8] = '*'\n",
    "t3.loc['A', 0:] = '*'\n",
    "t3.loc['B', 0:] = '*'\n",
    "t3.loc['C', 2:8] = '*'"
   ]
  },
  {
   "cell_type": "code",
   "execution_count": 17,
   "metadata": {},
   "outputs": [
    {
     "output_type": "execute_result",
     "data": {
      "text/plain": [
       "  1  2  3  4  5  6  7  8  9  10\n",
       "A  *  *  *  *  *  *  *  *  *  *\n",
       "B  *  *  *  *  *  *  *  *  *  *\n",
       "C  ~  *  *  *  *  *  *  *  ~  ~\n",
       "D  ~  ~  ~  ~  ~  ~  ~  ~  ~  ~\n",
       "E  ~  ~  ~  ~  ~  ~  ~  ~  ~  ~\n",
       "F  ~  ~  ~  ~  ~  ~  ~  ~  ~  ~\n",
       "G  ~  ~  ~  ~  ~  ~  ~  ~  ~  ~\n",
       "H  ~  ~  ~  ~  ~  ~  ~  ~  ~  ~\n",
       "I  ~  ~  ~  ~  ~  ~  ~  ~  ~  ~\n",
       "J  ~  ~  ~  ~  ~  ~  ~  ~  ~  ~"
      ],
      "text/html": "<div>\n<style scoped>\n    .dataframe tbody tr th:only-of-type {\n        vertical-align: middle;\n    }\n\n    .dataframe tbody tr th {\n        vertical-align: top;\n    }\n\n    .dataframe thead th {\n        text-align: right;\n    }\n</style>\n<table border=\"1\" class=\"dataframe\">\n  <thead>\n    <tr style=\"text-align: right;\">\n      <th></th>\n      <th>1</th>\n      <th>2</th>\n      <th>3</th>\n      <th>4</th>\n      <th>5</th>\n      <th>6</th>\n      <th>7</th>\n      <th>8</th>\n      <th>9</th>\n      <th>10</th>\n    </tr>\n  </thead>\n  <tbody>\n    <tr>\n      <th>A</th>\n      <td>*</td>\n      <td>*</td>\n      <td>*</td>\n      <td>*</td>\n      <td>*</td>\n      <td>*</td>\n      <td>*</td>\n      <td>*</td>\n      <td>*</td>\n      <td>*</td>\n    </tr>\n    <tr>\n      <th>B</th>\n      <td>*</td>\n      <td>*</td>\n      <td>*</td>\n      <td>*</td>\n      <td>*</td>\n      <td>*</td>\n      <td>*</td>\n      <td>*</td>\n      <td>*</td>\n      <td>*</td>\n    </tr>\n    <tr>\n      <th>C</th>\n      <td>~</td>\n      <td>*</td>\n      <td>*</td>\n      <td>*</td>\n      <td>*</td>\n      <td>*</td>\n      <td>*</td>\n      <td>*</td>\n      <td>~</td>\n      <td>~</td>\n    </tr>\n    <tr>\n      <th>D</th>\n      <td>~</td>\n      <td>~</td>\n      <td>~</td>\n      <td>~</td>\n      <td>~</td>\n      <td>~</td>\n      <td>~</td>\n      <td>~</td>\n      <td>~</td>\n      <td>~</td>\n    </tr>\n    <tr>\n      <th>E</th>\n      <td>~</td>\n      <td>~</td>\n      <td>~</td>\n      <td>~</td>\n      <td>~</td>\n      <td>~</td>\n      <td>~</td>\n      <td>~</td>\n      <td>~</td>\n      <td>~</td>\n    </tr>\n    <tr>\n      <th>F</th>\n      <td>~</td>\n      <td>~</td>\n      <td>~</td>\n      <td>~</td>\n      <td>~</td>\n      <td>~</td>\n      <td>~</td>\n      <td>~</td>\n      <td>~</td>\n      <td>~</td>\n    </tr>\n    <tr>\n      <th>G</th>\n      <td>~</td>\n      <td>~</td>\n      <td>~</td>\n      <td>~</td>\n      <td>~</td>\n      <td>~</td>\n      <td>~</td>\n      <td>~</td>\n      <td>~</td>\n      <td>~</td>\n    </tr>\n    <tr>\n      <th>H</th>\n      <td>~</td>\n      <td>~</td>\n      <td>~</td>\n      <td>~</td>\n      <td>~</td>\n      <td>~</td>\n      <td>~</td>\n      <td>~</td>\n      <td>~</td>\n      <td>~</td>\n    </tr>\n    <tr>\n      <th>I</th>\n      <td>~</td>\n      <td>~</td>\n      <td>~</td>\n      <td>~</td>\n      <td>~</td>\n      <td>~</td>\n      <td>~</td>\n      <td>~</td>\n      <td>~</td>\n      <td>~</td>\n    </tr>\n    <tr>\n      <th>J</th>\n      <td>~</td>\n      <td>~</td>\n      <td>~</td>\n      <td>~</td>\n      <td>~</td>\n      <td>~</td>\n      <td>~</td>\n      <td>~</td>\n      <td>~</td>\n      <td>~</td>\n    </tr>\n  </tbody>\n</table>\n</div>"
     },
     "metadata": {},
     "execution_count": 17
    }
   ],
   "source": [
    "t3"
   ]
  },
  {
   "cell_type": "code",
   "execution_count": 18,
   "metadata": {},
   "outputs": [
    {
     "output_type": "execute_result",
     "data": {
      "text/plain": [
       "'Succesfully saved'"
      ]
     },
     "metadata": {},
     "execution_count": 18
    }
   ],
   "source": [
    "save_game(l, 'test4')"
   ]
  },
  {
   "cell_type": "code",
   "execution_count": 31,
   "metadata": {},
   "outputs": [],
   "source": [
    "a, b, c, d = load_old_game('second_attempt').values()"
   ]
  },
  {
   "cell_type": "code",
   "execution_count": 42,
   "metadata": {},
   "outputs": [
    {
     "output_type": "execute_result",
     "data": {
      "text/plain": [
       "0    ~\n",
       "1    ~\n",
       "2    ~\n",
       "3    ~\n",
       "4    ~\n",
       "5    ~\n",
       "6    ~\n",
       "7    O\n",
       "8    ~\n",
       "9    ~\n",
       "Name: 1, dtype: object"
      ]
     },
     "metadata": {},
     "execution_count": 42
    }
   ],
   "source": [
    "d['1']"
   ]
  },
  {
   "cell_type": "code",
   "execution_count": 43,
   "metadata": {},
   "outputs": [
    {
     "output_type": "execute_result",
     "data": {
      "text/plain": [
       "  1  2  3  4  5  6  7  8  9  10\n",
       "A  ~  ~  ~  ~  ~  ~  ~  ~  ~  ~\n",
       "B  ~  ~  ~  ~  ~  ~  ~  ~  ~  ~\n",
       "C  ~  ~  ~  ~  ~  ~  ~  ~  ~  ~\n",
       "D  ~  ~  ~  ~  ~  ~  ~  ~  ~  ~\n",
       "E  ~  ~  ~  ~  ~  ~  ~  ~  ~  ~\n",
       "F  ~  ~  ~  ~  ~  ~  ~  ~  ~  ~\n",
       "G  ~  ~  ~  ~  ~  ~  ~  ~  ~  ~\n",
       "H  ~  ~  ~  ~  ~  ~  ~  ~  ~  ~\n",
       "I  ~  ~  ~  ~  ~  ~  ~  ~  ~  ~\n",
       "J  ~  ~  ~  ~  ~  ~  ~  ~  ~  ~"
      ],
      "text/html": "<div>\n<style scoped>\n    .dataframe tbody tr th:only-of-type {\n        vertical-align: middle;\n    }\n\n    .dataframe tbody tr th {\n        vertical-align: top;\n    }\n\n    .dataframe thead th {\n        text-align: right;\n    }\n</style>\n<table border=\"1\" class=\"dataframe\">\n  <thead>\n    <tr style=\"text-align: right;\">\n      <th></th>\n      <th>1</th>\n      <th>2</th>\n      <th>3</th>\n      <th>4</th>\n      <th>5</th>\n      <th>6</th>\n      <th>7</th>\n      <th>8</th>\n      <th>9</th>\n      <th>10</th>\n    </tr>\n  </thead>\n  <tbody>\n    <tr>\n      <th>A</th>\n      <td>~</td>\n      <td>~</td>\n      <td>~</td>\n      <td>~</td>\n      <td>~</td>\n      <td>~</td>\n      <td>~</td>\n      <td>~</td>\n      <td>~</td>\n      <td>~</td>\n    </tr>\n    <tr>\n      <th>B</th>\n      <td>~</td>\n      <td>~</td>\n      <td>~</td>\n      <td>~</td>\n      <td>~</td>\n      <td>~</td>\n      <td>~</td>\n      <td>~</td>\n      <td>~</td>\n      <td>~</td>\n    </tr>\n    <tr>\n      <th>C</th>\n      <td>~</td>\n      <td>~</td>\n      <td>~</td>\n      <td>~</td>\n      <td>~</td>\n      <td>~</td>\n      <td>~</td>\n      <td>~</td>\n      <td>~</td>\n      <td>~</td>\n    </tr>\n    <tr>\n      <th>D</th>\n      <td>~</td>\n      <td>~</td>\n      <td>~</td>\n      <td>~</td>\n      <td>~</td>\n      <td>~</td>\n      <td>~</td>\n      <td>~</td>\n      <td>~</td>\n      <td>~</td>\n    </tr>\n    <tr>\n      <th>E</th>\n      <td>~</td>\n      <td>~</td>\n      <td>~</td>\n      <td>~</td>\n      <td>~</td>\n      <td>~</td>\n      <td>~</td>\n      <td>~</td>\n      <td>~</td>\n      <td>~</td>\n    </tr>\n    <tr>\n      <th>F</th>\n      <td>~</td>\n      <td>~</td>\n      <td>~</td>\n      <td>~</td>\n      <td>~</td>\n      <td>~</td>\n      <td>~</td>\n      <td>~</td>\n      <td>~</td>\n      <td>~</td>\n    </tr>\n    <tr>\n      <th>G</th>\n      <td>~</td>\n      <td>~</td>\n      <td>~</td>\n      <td>~</td>\n      <td>~</td>\n      <td>~</td>\n      <td>~</td>\n      <td>~</td>\n      <td>~</td>\n      <td>~</td>\n    </tr>\n    <tr>\n      <th>H</th>\n      <td>~</td>\n      <td>~</td>\n      <td>~</td>\n      <td>~</td>\n      <td>~</td>\n      <td>~</td>\n      <td>~</td>\n      <td>~</td>\n      <td>~</td>\n      <td>~</td>\n    </tr>\n    <tr>\n      <th>I</th>\n      <td>~</td>\n      <td>~</td>\n      <td>~</td>\n      <td>~</td>\n      <td>~</td>\n      <td>~</td>\n      <td>~</td>\n      <td>~</td>\n      <td>~</td>\n      <td>~</td>\n    </tr>\n    <tr>\n      <th>J</th>\n      <td>~</td>\n      <td>~</td>\n      <td>~</td>\n      <td>~</td>\n      <td>~</td>\n      <td>~</td>\n      <td>~</td>\n      <td>~</td>\n      <td>~</td>\n      <td>~</td>\n    </tr>\n  </tbody>\n</table>\n</div>"
     },
     "metadata": {},
     "execution_count": 43
    }
   ],
   "source": [
    "test = matrix_creator()\n",
    "test"
   ]
  },
  {
   "cell_type": "code",
   "execution_count": 45,
   "metadata": {},
   "outputs": [
    {
     "output_type": "execute_result",
     "data": {
      "text/plain": [
       "[1, 2, 3, 4, 5, 6, 7, 8, 9, 10]"
      ]
     },
     "metadata": {},
     "execution_count": 45
    }
   ],
   "source": [
    "list(range(1, 11))"
   ]
  },
  {
   "cell_type": "code",
   "execution_count": null,
   "metadata": {},
   "outputs": [],
   "source": [
    "# Print the boards'\n",
    "# For that I store player's 1 back matrix in 'result'\n",
    "result = player1_board.matrix_back\n",
    "\n",
    "# I create a divisor, as I want to print both boards together\n",
    "divisor = ['|' for i in range(10)]\n",
    "index = ['A', 'B', 'C', 'D', 'E', 'F', 'G', 'H', 'I', 'J']\n",
    "divisor_df = pd.DataFrame(divisor, index = index, columns = ['|'])\n",
    "\n",
    "# I join the divisor to player's 1 board and then player's 2 board\n",
    "result = pd.merge(result, divisor_df, how = 'outer', right_index = True, left_index = True)\n",
    "result = pd.merge(result, player2_board.matrix_back, how = 'outer', right_index = True, left_index = True)\n",
    "\n",
    "# I print the result of the game\n",
    "print('\\n', result)"
   ]
  },
  {
   "cell_type": "code",
   "execution_count": 4,
   "metadata": {},
   "outputs": [],
   "source": [
    "df1 = matrix_creator()\n",
    "df2 = matrix_creator()"
   ]
  },
  {
   "cell_type": "code",
   "execution_count": 5,
   "metadata": {},
   "outputs": [
    {
     "output_type": "stream",
     "name": "stdout",
     "text": [
      "\n   1_x 2_x 3_x 4_x 5_x 6_x 7_x 8_x 9_x 10_x  ... 1_y 2_y 3_y 4_y 5_y 6_y 7_y  \\\nA   ~   ~   ~   ~   ~   ~   ~   ~   ~    ~  ...   ~   ~   ~   ~   ~   ~   ~   \nB   ~   ~   ~   ~   ~   ~   ~   ~   ~    ~  ...   ~   ~   ~   ~   ~   ~   ~   \nC   ~   ~   ~   ~   ~   ~   ~   ~   ~    ~  ...   ~   ~   ~   ~   ~   ~   ~   \nD   ~   ~   ~   ~   ~   ~   ~   ~   ~    ~  ...   ~   ~   ~   ~   ~   ~   ~   \nE   ~   ~   ~   ~   ~   ~   ~   ~   ~    ~  ...   ~   ~   ~   ~   ~   ~   ~   \nF   ~   ~   ~   ~   ~   ~   ~   ~   ~    ~  ...   ~   ~   ~   ~   ~   ~   ~   \nG   ~   ~   ~   ~   ~   ~   ~   ~   ~    ~  ...   ~   ~   ~   ~   ~   ~   ~   \nH   ~   ~   ~   ~   ~   ~   ~   ~   ~    ~  ...   ~   ~   ~   ~   ~   ~   ~   \nI   ~   ~   ~   ~   ~   ~   ~   ~   ~    ~  ...   ~   ~   ~   ~   ~   ~   ~   \nJ   ~   ~   ~   ~   ~   ~   ~   ~   ~    ~  ...   ~   ~   ~   ~   ~   ~   ~   \n\n  8_y 9_y 10_y  \nA   ~   ~    ~  \nB   ~   ~    ~  \nC   ~   ~    ~  \nD   ~   ~    ~  \nE   ~   ~    ~  \nF   ~   ~    ~  \nG   ~   ~    ~  \nH   ~   ~    ~  \nI   ~   ~    ~  \nJ   ~   ~    ~  \n\n[10 rows x 21 columns]\n"
     ]
    }
   ],
   "source": [
    "result = df1\n",
    "\n",
    "# I create a divisor, as I want to print both boards together\n",
    "divisor = ['|' for i in range(10)]\n",
    "index = ['A', 'B', 'C', 'D', 'E', 'F', 'G', 'H', 'I', 'J']\n",
    "divisor_df = pd.DataFrame(divisor, index = index, columns = ['|'])\n",
    "\n",
    "# I join the divisor to player's 1 board and then player's 2 board\n",
    "result = pd.merge(result, divisor_df, how = 'outer', right_index = True, left_index = True)\n",
    "result = pd.merge(result, df2, how = 'outer', right_index = True, left_index = True)\n",
    "\n",
    "# I print the result of the game\n",
    "print('\\n', result)"
   ]
  },
  {
   "cell_type": "code",
   "execution_count": 30,
   "metadata": {},
   "outputs": [
    {
     "output_type": "stream",
     "name": "stdout",
     "text": [
      "<class 'pandas.core.frame.DataFrame'>\nIndex: 10 entries, A to J\nData columns (total 10 columns):\n #   Column  Non-Null Count  Dtype\n---  ------  --------------  -----\n 0   1       10 non-null     int64\n 1   2       10 non-null     int64\n 2   3       10 non-null     int64\n 3   4       10 non-null     int64\n 4   5       10 non-null     int64\n 5   6       10 non-null     int64\n 6   7       10 non-null     int64\n 7   8       10 non-null     int64\n 8   9       10 non-null     int64\n 9   10      10 non-null     int64\ndtypes: int64(10)\nmemory usage: 1.2+ KB\n"
     ]
    }
   ],
   "source": [
    "df = matrix_creator()\n",
    "df[:] = 1\n",
    "df.loc[\"A\":\"C\", 10] = 0\n",
    "df.loc[\"A\":\"C\", 4] = -1\n",
    "df = df.astype(int)\n",
    "df.info()"
   ]
  },
  {
   "cell_type": "code",
   "execution_count": 31,
   "metadata": {},
   "outputs": [
    {
     "output_type": "execute_result",
     "data": {
      "text/plain": [
       "<AxesSubplot:>"
      ]
     },
     "metadata": {},
     "execution_count": 31
    },
    {
     "output_type": "display_data",
     "data": {
      "text/plain": "<Figure size 1080x720 with 2 Axes>",
      "image/svg+xml": "<?xml version=\"1.0\" encoding=\"utf-8\" standalone=\"no\"?>\n<!DOCTYPE svg PUBLIC \"-//W3C//DTD SVG 1.1//EN\"\n  \"http://www.w3.org/Graphics/SVG/1.1/DTD/svg11.dtd\">\n<svg height=\"578.477344pt\" version=\"1.1\" viewBox=\"0 0 807.353438 578.477344\" width=\"807.353438pt\" xmlns=\"http://www.w3.org/2000/svg\" xmlns:xlink=\"http://www.w3.org/1999/xlink\">\n <metadata>\n  <rdf:RDF xmlns:cc=\"http://creativecommons.org/ns#\" xmlns:dc=\"http://purl.org/dc/elements/1.1/\" xmlns:rdf=\"http://www.w3.org/1999/02/22-rdf-syntax-ns#\">\n   <cc:Work>\n    <dc:type rdf:resource=\"http://purl.org/dc/dcmitype/StillImage\"/>\n    <dc:date>2021-05-14T10:15:05.679438</dc:date>\n    <dc:format>image/svg+xml</dc:format>\n    <dc:creator>\n     <cc:Agent>\n      <dc:title>Matplotlib v3.4.1, https://matplotlib.org/</dc:title>\n     </cc:Agent>\n    </dc:creator>\n   </cc:Work>\n  </rdf:RDF>\n </metadata>\n <defs>\n  <style type=\"text/css\">*{stroke-linecap:butt;stroke-linejoin:round;}</style>\n </defs>\n <g id=\"figure_1\">\n  <g id=\"patch_1\">\n   <path d=\"M 0 578.477344 \nL 807.353438 578.477344 \nL 807.353438 0 \nL 0 0 \nz\n\" style=\"fill:none;\"/>\n  </g>\n  <g id=\"axes_1\">\n   <g id=\"patch_2\">\n    <path d=\"M 23.878125 554.599219 \nL 693.478125 554.599219 \nL 693.478125 10.999219 \nL 23.878125 10.999219 \nz\n\" style=\"fill:#ffffff;\"/>\n   </g>\n   <g id=\"QuadMesh_1\">\n    <path clip-path=\"url(#p9969c7fc22)\" d=\"M 23.878125 10.999219 \nL 90.838125 10.999219 \nL 90.838125 65.359219 \nL 23.878125 65.359219 \nL 23.878125 10.999219 \n\" style=\"fill:#003c30;stroke:#ffffff;stroke-width:0.5;\"/>\n    <path clip-path=\"url(#p9969c7fc22)\" d=\"M 90.838125 10.999219 \nL 157.798125 10.999219 \nL 157.798125 65.359219 \nL 90.838125 65.359219 \nL 90.838125 10.999219 \n\" style=\"fill:#003c30;stroke:#ffffff;stroke-width:0.5;\"/>\n    <path clip-path=\"url(#p9969c7fc22)\" d=\"M 157.798125 10.999219 \nL 224.758125 10.999219 \nL 224.758125 65.359219 \nL 157.798125 65.359219 \nL 157.798125 10.999219 \n\" style=\"fill:#003c30;stroke:#ffffff;stroke-width:0.5;\"/>\n    <path clip-path=\"url(#p9969c7fc22)\" d=\"M 224.758125 10.999219 \nL 291.718125 10.999219 \nL 291.718125 65.359219 \nL 224.758125 65.359219 \nL 224.758125 10.999219 \n\" style=\"fill:#543005;stroke:#ffffff;stroke-width:0.5;\"/>\n    <path clip-path=\"url(#p9969c7fc22)\" d=\"M 291.718125 10.999219 \nL 358.678125 10.999219 \nL 358.678125 65.359219 \nL 291.718125 65.359219 \nL 291.718125 10.999219 \n\" style=\"fill:#003c30;stroke:#ffffff;stroke-width:0.5;\"/>\n    <path clip-path=\"url(#p9969c7fc22)\" d=\"M 358.678125 10.999219 \nL 425.638125 10.999219 \nL 425.638125 65.359219 \nL 358.678125 65.359219 \nL 358.678125 10.999219 \n\" style=\"fill:#003c30;stroke:#ffffff;stroke-width:0.5;\"/>\n    <path clip-path=\"url(#p9969c7fc22)\" d=\"M 425.638125 10.999219 \nL 492.598125 10.999219 \nL 492.598125 65.359219 \nL 425.638125 65.359219 \nL 425.638125 10.999219 \n\" style=\"fill:#003c30;stroke:#ffffff;stroke-width:0.5;\"/>\n    <path clip-path=\"url(#p9969c7fc22)\" d=\"M 492.598125 10.999219 \nL 559.558125 10.999219 \nL 559.558125 65.359219 \nL 492.598125 65.359219 \nL 492.598125 10.999219 \n\" style=\"fill:#003c30;stroke:#ffffff;stroke-width:0.5;\"/>\n    <path clip-path=\"url(#p9969c7fc22)\" d=\"M 559.558125 10.999219 \nL 626.518125 10.999219 \nL 626.518125 65.359219 \nL 559.558125 65.359219 \nL 559.558125 10.999219 \n\" style=\"fill:#003c30;stroke:#ffffff;stroke-width:0.5;\"/>\n    <path clip-path=\"url(#p9969c7fc22)\" d=\"M 626.518125 10.999219 \nL 693.478125 10.999219 \nL 693.478125 65.359219 \nL 626.518125 65.359219 \nL 626.518125 10.999219 \n\" style=\"fill:#f4f5f5;stroke:#ffffff;stroke-width:0.5;\"/>\n    <path clip-path=\"url(#p9969c7fc22)\" d=\"M 23.878125 65.359219 \nL 90.838125 65.359219 \nL 90.838125 119.719219 \nL 23.878125 119.719219 \nL 23.878125 65.359219 \n\" style=\"fill:#003c30;stroke:#ffffff;stroke-width:0.5;\"/>\n    <path clip-path=\"url(#p9969c7fc22)\" d=\"M 90.838125 65.359219 \nL 157.798125 65.359219 \nL 157.798125 119.719219 \nL 90.838125 119.719219 \nL 90.838125 65.359219 \n\" style=\"fill:#003c30;stroke:#ffffff;stroke-width:0.5;\"/>\n    <path clip-path=\"url(#p9969c7fc22)\" d=\"M 157.798125 65.359219 \nL 224.758125 65.359219 \nL 224.758125 119.719219 \nL 157.798125 119.719219 \nL 157.798125 65.359219 \n\" style=\"fill:#003c30;stroke:#ffffff;stroke-width:0.5;\"/>\n    <path clip-path=\"url(#p9969c7fc22)\" d=\"M 224.758125 65.359219 \nL 291.718125 65.359219 \nL 291.718125 119.719219 \nL 224.758125 119.719219 \nL 224.758125 65.359219 \n\" style=\"fill:#543005;stroke:#ffffff;stroke-width:0.5;\"/>\n    <path clip-path=\"url(#p9969c7fc22)\" d=\"M 291.718125 65.359219 \nL 358.678125 65.359219 \nL 358.678125 119.719219 \nL 291.718125 119.719219 \nL 291.718125 65.359219 \n\" style=\"fill:#003c30;stroke:#ffffff;stroke-width:0.5;\"/>\n    <path clip-path=\"url(#p9969c7fc22)\" d=\"M 358.678125 65.359219 \nL 425.638125 65.359219 \nL 425.638125 119.719219 \nL 358.678125 119.719219 \nL 358.678125 65.359219 \n\" style=\"fill:#003c30;stroke:#ffffff;stroke-width:0.5;\"/>\n    <path clip-path=\"url(#p9969c7fc22)\" d=\"M 425.638125 65.359219 \nL 492.598125 65.359219 \nL 492.598125 119.719219 \nL 425.638125 119.719219 \nL 425.638125 65.359219 \n\" style=\"fill:#003c30;stroke:#ffffff;stroke-width:0.5;\"/>\n    <path clip-path=\"url(#p9969c7fc22)\" d=\"M 492.598125 65.359219 \nL 559.558125 65.359219 \nL 559.558125 119.719219 \nL 492.598125 119.719219 \nL 492.598125 65.359219 \n\" style=\"fill:#003c30;stroke:#ffffff;stroke-width:0.5;\"/>\n    <path clip-path=\"url(#p9969c7fc22)\" d=\"M 559.558125 65.359219 \nL 626.518125 65.359219 \nL 626.518125 119.719219 \nL 559.558125 119.719219 \nL 559.558125 65.359219 \n\" style=\"fill:#003c30;stroke:#ffffff;stroke-width:0.5;\"/>\n    <path clip-path=\"url(#p9969c7fc22)\" d=\"M 626.518125 65.359219 \nL 693.478125 65.359219 \nL 693.478125 119.719219 \nL 626.518125 119.719219 \nL 626.518125 65.359219 \n\" style=\"fill:#f4f5f5;stroke:#ffffff;stroke-width:0.5;\"/>\n    <path clip-path=\"url(#p9969c7fc22)\" d=\"M 23.878125 119.719219 \nL 90.838125 119.719219 \nL 90.838125 174.079219 \nL 23.878125 174.079219 \nL 23.878125 119.719219 \n\" style=\"fill:#003c30;stroke:#ffffff;stroke-width:0.5;\"/>\n    <path clip-path=\"url(#p9969c7fc22)\" d=\"M 90.838125 119.719219 \nL 157.798125 119.719219 \nL 157.798125 174.079219 \nL 90.838125 174.079219 \nL 90.838125 119.719219 \n\" style=\"fill:#003c30;stroke:#ffffff;stroke-width:0.5;\"/>\n    <path clip-path=\"url(#p9969c7fc22)\" d=\"M 157.798125 119.719219 \nL 224.758125 119.719219 \nL 224.758125 174.079219 \nL 157.798125 174.079219 \nL 157.798125 119.719219 \n\" style=\"fill:#003c30;stroke:#ffffff;stroke-width:0.5;\"/>\n    <path clip-path=\"url(#p9969c7fc22)\" d=\"M 224.758125 119.719219 \nL 291.718125 119.719219 \nL 291.718125 174.079219 \nL 224.758125 174.079219 \nL 224.758125 119.719219 \n\" style=\"fill:#543005;stroke:#ffffff;stroke-width:0.5;\"/>\n    <path clip-path=\"url(#p9969c7fc22)\" d=\"M 291.718125 119.719219 \nL 358.678125 119.719219 \nL 358.678125 174.079219 \nL 291.718125 174.079219 \nL 291.718125 119.719219 \n\" style=\"fill:#003c30;stroke:#ffffff;stroke-width:0.5;\"/>\n    <path clip-path=\"url(#p9969c7fc22)\" d=\"M 358.678125 119.719219 \nL 425.638125 119.719219 \nL 425.638125 174.079219 \nL 358.678125 174.079219 \nL 358.678125 119.719219 \n\" style=\"fill:#003c30;stroke:#ffffff;stroke-width:0.5;\"/>\n    <path clip-path=\"url(#p9969c7fc22)\" d=\"M 425.638125 119.719219 \nL 492.598125 119.719219 \nL 492.598125 174.079219 \nL 425.638125 174.079219 \nL 425.638125 119.719219 \n\" style=\"fill:#003c30;stroke:#ffffff;stroke-width:0.5;\"/>\n    <path clip-path=\"url(#p9969c7fc22)\" d=\"M 492.598125 119.719219 \nL 559.558125 119.719219 \nL 559.558125 174.079219 \nL 492.598125 174.079219 \nL 492.598125 119.719219 \n\" style=\"fill:#003c30;stroke:#ffffff;stroke-width:0.5;\"/>\n    <path clip-path=\"url(#p9969c7fc22)\" d=\"M 559.558125 119.719219 \nL 626.518125 119.719219 \nL 626.518125 174.079219 \nL 559.558125 174.079219 \nL 559.558125 119.719219 \n\" style=\"fill:#003c30;stroke:#ffffff;stroke-width:0.5;\"/>\n    <path clip-path=\"url(#p9969c7fc22)\" d=\"M 626.518125 119.719219 \nL 693.478125 119.719219 \nL 693.478125 174.079219 \nL 626.518125 174.079219 \nL 626.518125 119.719219 \n\" style=\"fill:#f4f5f5;stroke:#ffffff;stroke-width:0.5;\"/>\n    <path clip-path=\"url(#p9969c7fc22)\" d=\"M 23.878125 174.079219 \nL 90.838125 174.079219 \nL 90.838125 228.439219 \nL 23.878125 228.439219 \nL 23.878125 174.079219 \n\" style=\"fill:#003c30;stroke:#ffffff;stroke-width:0.5;\"/>\n    <path clip-path=\"url(#p9969c7fc22)\" d=\"M 90.838125 174.079219 \nL 157.798125 174.079219 \nL 157.798125 228.439219 \nL 90.838125 228.439219 \nL 90.838125 174.079219 \n\" style=\"fill:#003c30;stroke:#ffffff;stroke-width:0.5;\"/>\n    <path clip-path=\"url(#p9969c7fc22)\" d=\"M 157.798125 174.079219 \nL 224.758125 174.079219 \nL 224.758125 228.439219 \nL 157.798125 228.439219 \nL 157.798125 174.079219 \n\" style=\"fill:#003c30;stroke:#ffffff;stroke-width:0.5;\"/>\n    <path clip-path=\"url(#p9969c7fc22)\" d=\"M 224.758125 174.079219 \nL 291.718125 174.079219 \nL 291.718125 228.439219 \nL 224.758125 228.439219 \nL 224.758125 174.079219 \n\" style=\"fill:#003c30;stroke:#ffffff;stroke-width:0.5;\"/>\n    <path clip-path=\"url(#p9969c7fc22)\" d=\"M 291.718125 174.079219 \nL 358.678125 174.079219 \nL 358.678125 228.439219 \nL 291.718125 228.439219 \nL 291.718125 174.079219 \n\" style=\"fill:#003c30;stroke:#ffffff;stroke-width:0.5;\"/>\n    <path clip-path=\"url(#p9969c7fc22)\" d=\"M 358.678125 174.079219 \nL 425.638125 174.079219 \nL 425.638125 228.439219 \nL 358.678125 228.439219 \nL 358.678125 174.079219 \n\" style=\"fill:#003c30;stroke:#ffffff;stroke-width:0.5;\"/>\n    <path clip-path=\"url(#p9969c7fc22)\" d=\"M 425.638125 174.079219 \nL 492.598125 174.079219 \nL 492.598125 228.439219 \nL 425.638125 228.439219 \nL 425.638125 174.079219 \n\" style=\"fill:#003c30;stroke:#ffffff;stroke-width:0.5;\"/>\n    <path clip-path=\"url(#p9969c7fc22)\" d=\"M 492.598125 174.079219 \nL 559.558125 174.079219 \nL 559.558125 228.439219 \nL 492.598125 228.439219 \nL 492.598125 174.079219 \n\" style=\"fill:#003c30;stroke:#ffffff;stroke-width:0.5;\"/>\n    <path clip-path=\"url(#p9969c7fc22)\" d=\"M 559.558125 174.079219 \nL 626.518125 174.079219 \nL 626.518125 228.439219 \nL 559.558125 228.439219 \nL 559.558125 174.079219 \n\" style=\"fill:#003c30;stroke:#ffffff;stroke-width:0.5;\"/>\n    <path clip-path=\"url(#p9969c7fc22)\" d=\"M 626.518125 174.079219 \nL 693.478125 174.079219 \nL 693.478125 228.439219 \nL 626.518125 228.439219 \nL 626.518125 174.079219 \n\" style=\"fill:#003c30;stroke:#ffffff;stroke-width:0.5;\"/>\n    <path clip-path=\"url(#p9969c7fc22)\" d=\"M 23.878125 228.439219 \nL 90.838125 228.439219 \nL 90.838125 282.799219 \nL 23.878125 282.799219 \nL 23.878125 228.439219 \n\" style=\"fill:#003c30;stroke:#ffffff;stroke-width:0.5;\"/>\n    <path clip-path=\"url(#p9969c7fc22)\" d=\"M 90.838125 228.439219 \nL 157.798125 228.439219 \nL 157.798125 282.799219 \nL 90.838125 282.799219 \nL 90.838125 228.439219 \n\" style=\"fill:#003c30;stroke:#ffffff;stroke-width:0.5;\"/>\n    <path clip-path=\"url(#p9969c7fc22)\" d=\"M 157.798125 228.439219 \nL 224.758125 228.439219 \nL 224.758125 282.799219 \nL 157.798125 282.799219 \nL 157.798125 228.439219 \n\" style=\"fill:#003c30;stroke:#ffffff;stroke-width:0.5;\"/>\n    <path clip-path=\"url(#p9969c7fc22)\" d=\"M 224.758125 228.439219 \nL 291.718125 228.439219 \nL 291.718125 282.799219 \nL 224.758125 282.799219 \nL 224.758125 228.439219 \n\" style=\"fill:#003c30;stroke:#ffffff;stroke-width:0.5;\"/>\n    <path clip-path=\"url(#p9969c7fc22)\" d=\"M 291.718125 228.439219 \nL 358.678125 228.439219 \nL 358.678125 282.799219 \nL 291.718125 282.799219 \nL 291.718125 228.439219 \n\" style=\"fill:#003c30;stroke:#ffffff;stroke-width:0.5;\"/>\n    <path clip-path=\"url(#p9969c7fc22)\" d=\"M 358.678125 228.439219 \nL 425.638125 228.439219 \nL 425.638125 282.799219 \nL 358.678125 282.799219 \nL 358.678125 228.439219 \n\" style=\"fill:#003c30;stroke:#ffffff;stroke-width:0.5;\"/>\n    <path clip-path=\"url(#p9969c7fc22)\" d=\"M 425.638125 228.439219 \nL 492.598125 228.439219 \nL 492.598125 282.799219 \nL 425.638125 282.799219 \nL 425.638125 228.439219 \n\" style=\"fill:#003c30;stroke:#ffffff;stroke-width:0.5;\"/>\n    <path clip-path=\"url(#p9969c7fc22)\" d=\"M 492.598125 228.439219 \nL 559.558125 228.439219 \nL 559.558125 282.799219 \nL 492.598125 282.799219 \nL 492.598125 228.439219 \n\" style=\"fill:#003c30;stroke:#ffffff;stroke-width:0.5;\"/>\n    <path clip-path=\"url(#p9969c7fc22)\" d=\"M 559.558125 228.439219 \nL 626.518125 228.439219 \nL 626.518125 282.799219 \nL 559.558125 282.799219 \nL 559.558125 228.439219 \n\" style=\"fill:#003c30;stroke:#ffffff;stroke-width:0.5;\"/>\n    <path clip-path=\"url(#p9969c7fc22)\" d=\"M 626.518125 228.439219 \nL 693.478125 228.439219 \nL 693.478125 282.799219 \nL 626.518125 282.799219 \nL 626.518125 228.439219 \n\" style=\"fill:#003c30;stroke:#ffffff;stroke-width:0.5;\"/>\n    <path clip-path=\"url(#p9969c7fc22)\" d=\"M 23.878125 282.799219 \nL 90.838125 282.799219 \nL 90.838125 337.159219 \nL 23.878125 337.159219 \nL 23.878125 282.799219 \n\" style=\"fill:#003c30;stroke:#ffffff;stroke-width:0.5;\"/>\n    <path clip-path=\"url(#p9969c7fc22)\" d=\"M 90.838125 282.799219 \nL 157.798125 282.799219 \nL 157.798125 337.159219 \nL 90.838125 337.159219 \nL 90.838125 282.799219 \n\" style=\"fill:#003c30;stroke:#ffffff;stroke-width:0.5;\"/>\n    <path clip-path=\"url(#p9969c7fc22)\" d=\"M 157.798125 282.799219 \nL 224.758125 282.799219 \nL 224.758125 337.159219 \nL 157.798125 337.159219 \nL 157.798125 282.799219 \n\" style=\"fill:#003c30;stroke:#ffffff;stroke-width:0.5;\"/>\n    <path clip-path=\"url(#p9969c7fc22)\" d=\"M 224.758125 282.799219 \nL 291.718125 282.799219 \nL 291.718125 337.159219 \nL 224.758125 337.159219 \nL 224.758125 282.799219 \n\" style=\"fill:#003c30;stroke:#ffffff;stroke-width:0.5;\"/>\n    <path clip-path=\"url(#p9969c7fc22)\" d=\"M 291.718125 282.799219 \nL 358.678125 282.799219 \nL 358.678125 337.159219 \nL 291.718125 337.159219 \nL 291.718125 282.799219 \n\" style=\"fill:#003c30;stroke:#ffffff;stroke-width:0.5;\"/>\n    <path clip-path=\"url(#p9969c7fc22)\" d=\"M 358.678125 282.799219 \nL 425.638125 282.799219 \nL 425.638125 337.159219 \nL 358.678125 337.159219 \nL 358.678125 282.799219 \n\" style=\"fill:#003c30;stroke:#ffffff;stroke-width:0.5;\"/>\n    <path clip-path=\"url(#p9969c7fc22)\" d=\"M 425.638125 282.799219 \nL 492.598125 282.799219 \nL 492.598125 337.159219 \nL 425.638125 337.159219 \nL 425.638125 282.799219 \n\" style=\"fill:#003c30;stroke:#ffffff;stroke-width:0.5;\"/>\n    <path clip-path=\"url(#p9969c7fc22)\" d=\"M 492.598125 282.799219 \nL 559.558125 282.799219 \nL 559.558125 337.159219 \nL 492.598125 337.159219 \nL 492.598125 282.799219 \n\" style=\"fill:#003c30;stroke:#ffffff;stroke-width:0.5;\"/>\n    <path clip-path=\"url(#p9969c7fc22)\" d=\"M 559.558125 282.799219 \nL 626.518125 282.799219 \nL 626.518125 337.159219 \nL 559.558125 337.159219 \nL 559.558125 282.799219 \n\" style=\"fill:#003c30;stroke:#ffffff;stroke-width:0.5;\"/>\n    <path clip-path=\"url(#p9969c7fc22)\" d=\"M 626.518125 282.799219 \nL 693.478125 282.799219 \nL 693.478125 337.159219 \nL 626.518125 337.159219 \nL 626.518125 282.799219 \n\" style=\"fill:#003c30;stroke:#ffffff;stroke-width:0.5;\"/>\n    <path clip-path=\"url(#p9969c7fc22)\" d=\"M 23.878125 337.159219 \nL 90.838125 337.159219 \nL 90.838125 391.519219 \nL 23.878125 391.519219 \nL 23.878125 337.159219 \n\" style=\"fill:#003c30;stroke:#ffffff;stroke-width:0.5;\"/>\n    <path clip-path=\"url(#p9969c7fc22)\" d=\"M 90.838125 337.159219 \nL 157.798125 337.159219 \nL 157.798125 391.519219 \nL 90.838125 391.519219 \nL 90.838125 337.159219 \n\" style=\"fill:#003c30;stroke:#ffffff;stroke-width:0.5;\"/>\n    <path clip-path=\"url(#p9969c7fc22)\" d=\"M 157.798125 337.159219 \nL 224.758125 337.159219 \nL 224.758125 391.519219 \nL 157.798125 391.519219 \nL 157.798125 337.159219 \n\" style=\"fill:#003c30;stroke:#ffffff;stroke-width:0.5;\"/>\n    <path clip-path=\"url(#p9969c7fc22)\" d=\"M 224.758125 337.159219 \nL 291.718125 337.159219 \nL 291.718125 391.519219 \nL 224.758125 391.519219 \nL 224.758125 337.159219 \n\" style=\"fill:#003c30;stroke:#ffffff;stroke-width:0.5;\"/>\n    <path clip-path=\"url(#p9969c7fc22)\" d=\"M 291.718125 337.159219 \nL 358.678125 337.159219 \nL 358.678125 391.519219 \nL 291.718125 391.519219 \nL 291.718125 337.159219 \n\" style=\"fill:#003c30;stroke:#ffffff;stroke-width:0.5;\"/>\n    <path clip-path=\"url(#p9969c7fc22)\" d=\"M 358.678125 337.159219 \nL 425.638125 337.159219 \nL 425.638125 391.519219 \nL 358.678125 391.519219 \nL 358.678125 337.159219 \n\" style=\"fill:#003c30;stroke:#ffffff;stroke-width:0.5;\"/>\n    <path clip-path=\"url(#p9969c7fc22)\" d=\"M 425.638125 337.159219 \nL 492.598125 337.159219 \nL 492.598125 391.519219 \nL 425.638125 391.519219 \nL 425.638125 337.159219 \n\" style=\"fill:#003c30;stroke:#ffffff;stroke-width:0.5;\"/>\n    <path clip-path=\"url(#p9969c7fc22)\" d=\"M 492.598125 337.159219 \nL 559.558125 337.159219 \nL 559.558125 391.519219 \nL 492.598125 391.519219 \nL 492.598125 337.159219 \n\" style=\"fill:#003c30;stroke:#ffffff;stroke-width:0.5;\"/>\n    <path clip-path=\"url(#p9969c7fc22)\" d=\"M 559.558125 337.159219 \nL 626.518125 337.159219 \nL 626.518125 391.519219 \nL 559.558125 391.519219 \nL 559.558125 337.159219 \n\" style=\"fill:#003c30;stroke:#ffffff;stroke-width:0.5;\"/>\n    <path clip-path=\"url(#p9969c7fc22)\" d=\"M 626.518125 337.159219 \nL 693.478125 337.159219 \nL 693.478125 391.519219 \nL 626.518125 391.519219 \nL 626.518125 337.159219 \n\" style=\"fill:#003c30;stroke:#ffffff;stroke-width:0.5;\"/>\n    <path clip-path=\"url(#p9969c7fc22)\" d=\"M 23.878125 391.519219 \nL 90.838125 391.519219 \nL 90.838125 445.879219 \nL 23.878125 445.879219 \nL 23.878125 391.519219 \n\" style=\"fill:#003c30;stroke:#ffffff;stroke-width:0.5;\"/>\n    <path clip-path=\"url(#p9969c7fc22)\" d=\"M 90.838125 391.519219 \nL 157.798125 391.519219 \nL 157.798125 445.879219 \nL 90.838125 445.879219 \nL 90.838125 391.519219 \n\" style=\"fill:#003c30;stroke:#ffffff;stroke-width:0.5;\"/>\n    <path clip-path=\"url(#p9969c7fc22)\" d=\"M 157.798125 391.519219 \nL 224.758125 391.519219 \nL 224.758125 445.879219 \nL 157.798125 445.879219 \nL 157.798125 391.519219 \n\" style=\"fill:#003c30;stroke:#ffffff;stroke-width:0.5;\"/>\n    <path clip-path=\"url(#p9969c7fc22)\" d=\"M 224.758125 391.519219 \nL 291.718125 391.519219 \nL 291.718125 445.879219 \nL 224.758125 445.879219 \nL 224.758125 391.519219 \n\" style=\"fill:#003c30;stroke:#ffffff;stroke-width:0.5;\"/>\n    <path clip-path=\"url(#p9969c7fc22)\" d=\"M 291.718125 391.519219 \nL 358.678125 391.519219 \nL 358.678125 445.879219 \nL 291.718125 445.879219 \nL 291.718125 391.519219 \n\" style=\"fill:#003c30;stroke:#ffffff;stroke-width:0.5;\"/>\n    <path clip-path=\"url(#p9969c7fc22)\" d=\"M 358.678125 391.519219 \nL 425.638125 391.519219 \nL 425.638125 445.879219 \nL 358.678125 445.879219 \nL 358.678125 391.519219 \n\" style=\"fill:#003c30;stroke:#ffffff;stroke-width:0.5;\"/>\n    <path clip-path=\"url(#p9969c7fc22)\" d=\"M 425.638125 391.519219 \nL 492.598125 391.519219 \nL 492.598125 445.879219 \nL 425.638125 445.879219 \nL 425.638125 391.519219 \n\" style=\"fill:#003c30;stroke:#ffffff;stroke-width:0.5;\"/>\n    <path clip-path=\"url(#p9969c7fc22)\" d=\"M 492.598125 391.519219 \nL 559.558125 391.519219 \nL 559.558125 445.879219 \nL 492.598125 445.879219 \nL 492.598125 391.519219 \n\" style=\"fill:#003c30;stroke:#ffffff;stroke-width:0.5;\"/>\n    <path clip-path=\"url(#p9969c7fc22)\" d=\"M 559.558125 391.519219 \nL 626.518125 391.519219 \nL 626.518125 445.879219 \nL 559.558125 445.879219 \nL 559.558125 391.519219 \n\" style=\"fill:#003c30;stroke:#ffffff;stroke-width:0.5;\"/>\n    <path clip-path=\"url(#p9969c7fc22)\" d=\"M 626.518125 391.519219 \nL 693.478125 391.519219 \nL 693.478125 445.879219 \nL 626.518125 445.879219 \nL 626.518125 391.519219 \n\" style=\"fill:#003c30;stroke:#ffffff;stroke-width:0.5;\"/>\n    <path clip-path=\"url(#p9969c7fc22)\" d=\"M 23.878125 445.879219 \nL 90.838125 445.879219 \nL 90.838125 500.239219 \nL 23.878125 500.239219 \nL 23.878125 445.879219 \n\" style=\"fill:#003c30;stroke:#ffffff;stroke-width:0.5;\"/>\n    <path clip-path=\"url(#p9969c7fc22)\" d=\"M 90.838125 445.879219 \nL 157.798125 445.879219 \nL 157.798125 500.239219 \nL 90.838125 500.239219 \nL 90.838125 445.879219 \n\" style=\"fill:#003c30;stroke:#ffffff;stroke-width:0.5;\"/>\n    <path clip-path=\"url(#p9969c7fc22)\" d=\"M 157.798125 445.879219 \nL 224.758125 445.879219 \nL 224.758125 500.239219 \nL 157.798125 500.239219 \nL 157.798125 445.879219 \n\" style=\"fill:#003c30;stroke:#ffffff;stroke-width:0.5;\"/>\n    <path clip-path=\"url(#p9969c7fc22)\" d=\"M 224.758125 445.879219 \nL 291.718125 445.879219 \nL 291.718125 500.239219 \nL 224.758125 500.239219 \nL 224.758125 445.879219 \n\" style=\"fill:#003c30;stroke:#ffffff;stroke-width:0.5;\"/>\n    <path clip-path=\"url(#p9969c7fc22)\" d=\"M 291.718125 445.879219 \nL 358.678125 445.879219 \nL 358.678125 500.239219 \nL 291.718125 500.239219 \nL 291.718125 445.879219 \n\" style=\"fill:#003c30;stroke:#ffffff;stroke-width:0.5;\"/>\n    <path clip-path=\"url(#p9969c7fc22)\" d=\"M 358.678125 445.879219 \nL 425.638125 445.879219 \nL 425.638125 500.239219 \nL 358.678125 500.239219 \nL 358.678125 445.879219 \n\" style=\"fill:#003c30;stroke:#ffffff;stroke-width:0.5;\"/>\n    <path clip-path=\"url(#p9969c7fc22)\" d=\"M 425.638125 445.879219 \nL 492.598125 445.879219 \nL 492.598125 500.239219 \nL 425.638125 500.239219 \nL 425.638125 445.879219 \n\" style=\"fill:#003c30;stroke:#ffffff;stroke-width:0.5;\"/>\n    <path clip-path=\"url(#p9969c7fc22)\" d=\"M 492.598125 445.879219 \nL 559.558125 445.879219 \nL 559.558125 500.239219 \nL 492.598125 500.239219 \nL 492.598125 445.879219 \n\" style=\"fill:#003c30;stroke:#ffffff;stroke-width:0.5;\"/>\n    <path clip-path=\"url(#p9969c7fc22)\" d=\"M 559.558125 445.879219 \nL 626.518125 445.879219 \nL 626.518125 500.239219 \nL 559.558125 500.239219 \nL 559.558125 445.879219 \n\" style=\"fill:#003c30;stroke:#ffffff;stroke-width:0.5;\"/>\n    <path clip-path=\"url(#p9969c7fc22)\" d=\"M 626.518125 445.879219 \nL 693.478125 445.879219 \nL 693.478125 500.239219 \nL 626.518125 500.239219 \nL 626.518125 445.879219 \n\" style=\"fill:#003c30;stroke:#ffffff;stroke-width:0.5;\"/>\n    <path clip-path=\"url(#p9969c7fc22)\" d=\"M 23.878125 500.239219 \nL 90.838125 500.239219 \nL 90.838125 554.599219 \nL 23.878125 554.599219 \nL 23.878125 500.239219 \n\" style=\"fill:#003c30;stroke:#ffffff;stroke-width:0.5;\"/>\n    <path clip-path=\"url(#p9969c7fc22)\" d=\"M 90.838125 500.239219 \nL 157.798125 500.239219 \nL 157.798125 554.599219 \nL 90.838125 554.599219 \nL 90.838125 500.239219 \n\" style=\"fill:#003c30;stroke:#ffffff;stroke-width:0.5;\"/>\n    <path clip-path=\"url(#p9969c7fc22)\" d=\"M 157.798125 500.239219 \nL 224.758125 500.239219 \nL 224.758125 554.599219 \nL 157.798125 554.599219 \nL 157.798125 500.239219 \n\" style=\"fill:#003c30;stroke:#ffffff;stroke-width:0.5;\"/>\n    <path clip-path=\"url(#p9969c7fc22)\" d=\"M 224.758125 500.239219 \nL 291.718125 500.239219 \nL 291.718125 554.599219 \nL 224.758125 554.599219 \nL 224.758125 500.239219 \n\" style=\"fill:#003c30;stroke:#ffffff;stroke-width:0.5;\"/>\n    <path clip-path=\"url(#p9969c7fc22)\" d=\"M 291.718125 500.239219 \nL 358.678125 500.239219 \nL 358.678125 554.599219 \nL 291.718125 554.599219 \nL 291.718125 500.239219 \n\" style=\"fill:#003c30;stroke:#ffffff;stroke-width:0.5;\"/>\n    <path clip-path=\"url(#p9969c7fc22)\" d=\"M 358.678125 500.239219 \nL 425.638125 500.239219 \nL 425.638125 554.599219 \nL 358.678125 554.599219 \nL 358.678125 500.239219 \n\" style=\"fill:#003c30;stroke:#ffffff;stroke-width:0.5;\"/>\n    <path clip-path=\"url(#p9969c7fc22)\" d=\"M 425.638125 500.239219 \nL 492.598125 500.239219 \nL 492.598125 554.599219 \nL 425.638125 554.599219 \nL 425.638125 500.239219 \n\" style=\"fill:#003c30;stroke:#ffffff;stroke-width:0.5;\"/>\n    <path clip-path=\"url(#p9969c7fc22)\" d=\"M 492.598125 500.239219 \nL 559.558125 500.239219 \nL 559.558125 554.599219 \nL 492.598125 554.599219 \nL 492.598125 500.239219 \n\" style=\"fill:#003c30;stroke:#ffffff;stroke-width:0.5;\"/>\n    <path clip-path=\"url(#p9969c7fc22)\" d=\"M 559.558125 500.239219 \nL 626.518125 500.239219 \nL 626.518125 554.599219 \nL 559.558125 554.599219 \nL 559.558125 500.239219 \n\" style=\"fill:#003c30;stroke:#ffffff;stroke-width:0.5;\"/>\n    <path clip-path=\"url(#p9969c7fc22)\" d=\"M 626.518125 500.239219 \nL 693.478125 500.239219 \nL 693.478125 554.599219 \nL 626.518125 554.599219 \nL 626.518125 500.239219 \n\" style=\"fill:#003c30;stroke:#ffffff;stroke-width:0.5;\"/>\n   </g>\n   <g id=\"matplotlib.axis_1\">\n    <g id=\"xtick_1\">\n     <g id=\"line2d_1\">\n      <defs>\n       <path d=\"M 0 0 \nL 0 3.5 \n\" id=\"md8637ad1b2\" style=\"stroke:#000000;stroke-width:0.8;\"/>\n      </defs>\n      <g>\n       <use style=\"stroke:#000000;stroke-width:0.8;\" x=\"57.358125\" xlink:href=\"#md8637ad1b2\" y=\"554.599219\"/>\n      </g>\n     </g>\n     <g id=\"text_1\">\n      <!-- 1 -->\n      <g transform=\"translate(54.176875 569.197656)scale(0.1 -0.1)\">\n       <defs>\n        <path d=\"M 794 531 \nL 1825 531 \nL 1825 4091 \nL 703 3866 \nL 703 4441 \nL 1819 4666 \nL 2450 4666 \nL 2450 531 \nL 3481 531 \nL 3481 0 \nL 794 0 \nL 794 531 \nz\n\" id=\"DejaVuSans-31\" transform=\"scale(0.015625)\"/>\n       </defs>\n       <use xlink:href=\"#DejaVuSans-31\"/>\n      </g>\n     </g>\n    </g>\n    <g id=\"xtick_2\">\n     <g id=\"line2d_2\">\n      <g>\n       <use style=\"stroke:#000000;stroke-width:0.8;\" x=\"124.318125\" xlink:href=\"#md8637ad1b2\" y=\"554.599219\"/>\n      </g>\n     </g>\n     <g id=\"text_2\">\n      <!-- 2 -->\n      <g transform=\"translate(121.136875 569.197656)scale(0.1 -0.1)\">\n       <defs>\n        <path d=\"M 1228 531 \nL 3431 531 \nL 3431 0 \nL 469 0 \nL 469 531 \nQ 828 903 1448 1529 \nQ 2069 2156 2228 2338 \nQ 2531 2678 2651 2914 \nQ 2772 3150 2772 3378 \nQ 2772 3750 2511 3984 \nQ 2250 4219 1831 4219 \nQ 1534 4219 1204 4116 \nQ 875 4013 500 3803 \nL 500 4441 \nQ 881 4594 1212 4672 \nQ 1544 4750 1819 4750 \nQ 2544 4750 2975 4387 \nQ 3406 4025 3406 3419 \nQ 3406 3131 3298 2873 \nQ 3191 2616 2906 2266 \nQ 2828 2175 2409 1742 \nQ 1991 1309 1228 531 \nz\n\" id=\"DejaVuSans-32\" transform=\"scale(0.015625)\"/>\n       </defs>\n       <use xlink:href=\"#DejaVuSans-32\"/>\n      </g>\n     </g>\n    </g>\n    <g id=\"xtick_3\">\n     <g id=\"line2d_3\">\n      <g>\n       <use style=\"stroke:#000000;stroke-width:0.8;\" x=\"191.278125\" xlink:href=\"#md8637ad1b2\" y=\"554.599219\"/>\n      </g>\n     </g>\n     <g id=\"text_3\">\n      <!-- 3 -->\n      <g transform=\"translate(188.096875 569.197656)scale(0.1 -0.1)\">\n       <defs>\n        <path d=\"M 2597 2516 \nQ 3050 2419 3304 2112 \nQ 3559 1806 3559 1356 \nQ 3559 666 3084 287 \nQ 2609 -91 1734 -91 \nQ 1441 -91 1130 -33 \nQ 819 25 488 141 \nL 488 750 \nQ 750 597 1062 519 \nQ 1375 441 1716 441 \nQ 2309 441 2620 675 \nQ 2931 909 2931 1356 \nQ 2931 1769 2642 2001 \nQ 2353 2234 1838 2234 \nL 1294 2234 \nL 1294 2753 \nL 1863 2753 \nQ 2328 2753 2575 2939 \nQ 2822 3125 2822 3475 \nQ 2822 3834 2567 4026 \nQ 2313 4219 1838 4219 \nQ 1578 4219 1281 4162 \nQ 984 4106 628 3988 \nL 628 4550 \nQ 988 4650 1302 4700 \nQ 1616 4750 1894 4750 \nQ 2613 4750 3031 4423 \nQ 3450 4097 3450 3541 \nQ 3450 3153 3228 2886 \nQ 3006 2619 2597 2516 \nz\n\" id=\"DejaVuSans-33\" transform=\"scale(0.015625)\"/>\n       </defs>\n       <use xlink:href=\"#DejaVuSans-33\"/>\n      </g>\n     </g>\n    </g>\n    <g id=\"xtick_4\">\n     <g id=\"line2d_4\">\n      <g>\n       <use style=\"stroke:#000000;stroke-width:0.8;\" x=\"258.238125\" xlink:href=\"#md8637ad1b2\" y=\"554.599219\"/>\n      </g>\n     </g>\n     <g id=\"text_4\">\n      <!-- 4 -->\n      <g transform=\"translate(255.056875 569.197656)scale(0.1 -0.1)\">\n       <defs>\n        <path d=\"M 2419 4116 \nL 825 1625 \nL 2419 1625 \nL 2419 4116 \nz\nM 2253 4666 \nL 3047 4666 \nL 3047 1625 \nL 3713 1625 \nL 3713 1100 \nL 3047 1100 \nL 3047 0 \nL 2419 0 \nL 2419 1100 \nL 313 1100 \nL 313 1709 \nL 2253 4666 \nz\n\" id=\"DejaVuSans-34\" transform=\"scale(0.015625)\"/>\n       </defs>\n       <use xlink:href=\"#DejaVuSans-34\"/>\n      </g>\n     </g>\n    </g>\n    <g id=\"xtick_5\">\n     <g id=\"line2d_5\">\n      <g>\n       <use style=\"stroke:#000000;stroke-width:0.8;\" x=\"325.198125\" xlink:href=\"#md8637ad1b2\" y=\"554.599219\"/>\n      </g>\n     </g>\n     <g id=\"text_5\">\n      <!-- 5 -->\n      <g transform=\"translate(322.016875 569.197656)scale(0.1 -0.1)\">\n       <defs>\n        <path d=\"M 691 4666 \nL 3169 4666 \nL 3169 4134 \nL 1269 4134 \nL 1269 2991 \nQ 1406 3038 1543 3061 \nQ 1681 3084 1819 3084 \nQ 2600 3084 3056 2656 \nQ 3513 2228 3513 1497 \nQ 3513 744 3044 326 \nQ 2575 -91 1722 -91 \nQ 1428 -91 1123 -41 \nQ 819 9 494 109 \nL 494 744 \nQ 775 591 1075 516 \nQ 1375 441 1709 441 \nQ 2250 441 2565 725 \nQ 2881 1009 2881 1497 \nQ 2881 1984 2565 2268 \nQ 2250 2553 1709 2553 \nQ 1456 2553 1204 2497 \nQ 953 2441 691 2322 \nL 691 4666 \nz\n\" id=\"DejaVuSans-35\" transform=\"scale(0.015625)\"/>\n       </defs>\n       <use xlink:href=\"#DejaVuSans-35\"/>\n      </g>\n     </g>\n    </g>\n    <g id=\"xtick_6\">\n     <g id=\"line2d_6\">\n      <g>\n       <use style=\"stroke:#000000;stroke-width:0.8;\" x=\"392.158125\" xlink:href=\"#md8637ad1b2\" y=\"554.599219\"/>\n      </g>\n     </g>\n     <g id=\"text_6\">\n      <!-- 6 -->\n      <g transform=\"translate(388.976875 569.197656)scale(0.1 -0.1)\">\n       <defs>\n        <path d=\"M 2113 2584 \nQ 1688 2584 1439 2293 \nQ 1191 2003 1191 1497 \nQ 1191 994 1439 701 \nQ 1688 409 2113 409 \nQ 2538 409 2786 701 \nQ 3034 994 3034 1497 \nQ 3034 2003 2786 2293 \nQ 2538 2584 2113 2584 \nz\nM 3366 4563 \nL 3366 3988 \nQ 3128 4100 2886 4159 \nQ 2644 4219 2406 4219 \nQ 1781 4219 1451 3797 \nQ 1122 3375 1075 2522 \nQ 1259 2794 1537 2939 \nQ 1816 3084 2150 3084 \nQ 2853 3084 3261 2657 \nQ 3669 2231 3669 1497 \nQ 3669 778 3244 343 \nQ 2819 -91 2113 -91 \nQ 1303 -91 875 529 \nQ 447 1150 447 2328 \nQ 447 3434 972 4092 \nQ 1497 4750 2381 4750 \nQ 2619 4750 2861 4703 \nQ 3103 4656 3366 4563 \nz\n\" id=\"DejaVuSans-36\" transform=\"scale(0.015625)\"/>\n       </defs>\n       <use xlink:href=\"#DejaVuSans-36\"/>\n      </g>\n     </g>\n    </g>\n    <g id=\"xtick_7\">\n     <g id=\"line2d_7\">\n      <g>\n       <use style=\"stroke:#000000;stroke-width:0.8;\" x=\"459.118125\" xlink:href=\"#md8637ad1b2\" y=\"554.599219\"/>\n      </g>\n     </g>\n     <g id=\"text_7\">\n      <!-- 7 -->\n      <g transform=\"translate(455.936875 569.197656)scale(0.1 -0.1)\">\n       <defs>\n        <path d=\"M 525 4666 \nL 3525 4666 \nL 3525 4397 \nL 1831 0 \nL 1172 0 \nL 2766 4134 \nL 525 4134 \nL 525 4666 \nz\n\" id=\"DejaVuSans-37\" transform=\"scale(0.015625)\"/>\n       </defs>\n       <use xlink:href=\"#DejaVuSans-37\"/>\n      </g>\n     </g>\n    </g>\n    <g id=\"xtick_8\">\n     <g id=\"line2d_8\">\n      <g>\n       <use style=\"stroke:#000000;stroke-width:0.8;\" x=\"526.078125\" xlink:href=\"#md8637ad1b2\" y=\"554.599219\"/>\n      </g>\n     </g>\n     <g id=\"text_8\">\n      <!-- 8 -->\n      <g transform=\"translate(522.896875 569.197656)scale(0.1 -0.1)\">\n       <defs>\n        <path d=\"M 2034 2216 \nQ 1584 2216 1326 1975 \nQ 1069 1734 1069 1313 \nQ 1069 891 1326 650 \nQ 1584 409 2034 409 \nQ 2484 409 2743 651 \nQ 3003 894 3003 1313 \nQ 3003 1734 2745 1975 \nQ 2488 2216 2034 2216 \nz\nM 1403 2484 \nQ 997 2584 770 2862 \nQ 544 3141 544 3541 \nQ 544 4100 942 4425 \nQ 1341 4750 2034 4750 \nQ 2731 4750 3128 4425 \nQ 3525 4100 3525 3541 \nQ 3525 3141 3298 2862 \nQ 3072 2584 2669 2484 \nQ 3125 2378 3379 2068 \nQ 3634 1759 3634 1313 \nQ 3634 634 3220 271 \nQ 2806 -91 2034 -91 \nQ 1263 -91 848 271 \nQ 434 634 434 1313 \nQ 434 1759 690 2068 \nQ 947 2378 1403 2484 \nz\nM 1172 3481 \nQ 1172 3119 1398 2916 \nQ 1625 2713 2034 2713 \nQ 2441 2713 2670 2916 \nQ 2900 3119 2900 3481 \nQ 2900 3844 2670 4047 \nQ 2441 4250 2034 4250 \nQ 1625 4250 1398 4047 \nQ 1172 3844 1172 3481 \nz\n\" id=\"DejaVuSans-38\" transform=\"scale(0.015625)\"/>\n       </defs>\n       <use xlink:href=\"#DejaVuSans-38\"/>\n      </g>\n     </g>\n    </g>\n    <g id=\"xtick_9\">\n     <g id=\"line2d_9\">\n      <g>\n       <use style=\"stroke:#000000;stroke-width:0.8;\" x=\"593.038125\" xlink:href=\"#md8637ad1b2\" y=\"554.599219\"/>\n      </g>\n     </g>\n     <g id=\"text_9\">\n      <!-- 9 -->\n      <g transform=\"translate(589.856875 569.197656)scale(0.1 -0.1)\">\n       <defs>\n        <path d=\"M 703 97 \nL 703 672 \nQ 941 559 1184 500 \nQ 1428 441 1663 441 \nQ 2288 441 2617 861 \nQ 2947 1281 2994 2138 \nQ 2813 1869 2534 1725 \nQ 2256 1581 1919 1581 \nQ 1219 1581 811 2004 \nQ 403 2428 403 3163 \nQ 403 3881 828 4315 \nQ 1253 4750 1959 4750 \nQ 2769 4750 3195 4129 \nQ 3622 3509 3622 2328 \nQ 3622 1225 3098 567 \nQ 2575 -91 1691 -91 \nQ 1453 -91 1209 -44 \nQ 966 3 703 97 \nz\nM 1959 2075 \nQ 2384 2075 2632 2365 \nQ 2881 2656 2881 3163 \nQ 2881 3666 2632 3958 \nQ 2384 4250 1959 4250 \nQ 1534 4250 1286 3958 \nQ 1038 3666 1038 3163 \nQ 1038 2656 1286 2365 \nQ 1534 2075 1959 2075 \nz\n\" id=\"DejaVuSans-39\" transform=\"scale(0.015625)\"/>\n       </defs>\n       <use xlink:href=\"#DejaVuSans-39\"/>\n      </g>\n     </g>\n    </g>\n    <g id=\"xtick_10\">\n     <g id=\"line2d_10\">\n      <g>\n       <use style=\"stroke:#000000;stroke-width:0.8;\" x=\"659.998125\" xlink:href=\"#md8637ad1b2\" y=\"554.599219\"/>\n      </g>\n     </g>\n     <g id=\"text_10\">\n      <!-- 10 -->\n      <g transform=\"translate(653.635625 569.197656)scale(0.1 -0.1)\">\n       <defs>\n        <path d=\"M 2034 4250 \nQ 1547 4250 1301 3770 \nQ 1056 3291 1056 2328 \nQ 1056 1369 1301 889 \nQ 1547 409 2034 409 \nQ 2525 409 2770 889 \nQ 3016 1369 3016 2328 \nQ 3016 3291 2770 3770 \nQ 2525 4250 2034 4250 \nz\nM 2034 4750 \nQ 2819 4750 3233 4129 \nQ 3647 3509 3647 2328 \nQ 3647 1150 3233 529 \nQ 2819 -91 2034 -91 \nQ 1250 -91 836 529 \nQ 422 1150 422 2328 \nQ 422 3509 836 4129 \nQ 1250 4750 2034 4750 \nz\n\" id=\"DejaVuSans-30\" transform=\"scale(0.015625)\"/>\n       </defs>\n       <use xlink:href=\"#DejaVuSans-31\"/>\n       <use x=\"63.623047\" xlink:href=\"#DejaVuSans-30\"/>\n      </g>\n     </g>\n    </g>\n   </g>\n   <g id=\"matplotlib.axis_2\">\n    <g id=\"ytick_1\">\n     <g id=\"line2d_11\">\n      <defs>\n       <path d=\"M 0 0 \nL -3.5 0 \n\" id=\"m82fe09ef22\" style=\"stroke:#000000;stroke-width:0.8;\"/>\n      </defs>\n      <g>\n       <use style=\"stroke:#000000;stroke-width:0.8;\" x=\"23.878125\" xlink:href=\"#m82fe09ef22\" y=\"38.179219\"/>\n      </g>\n     </g>\n     <g id=\"text_11\">\n      <!-- A -->\n      <g transform=\"translate(14.798438 41.220625)rotate(-90)scale(0.1 -0.1)\">\n       <defs>\n        <path d=\"M 2188 4044 \nL 1331 1722 \nL 3047 1722 \nL 2188 4044 \nz\nM 1831 4666 \nL 2547 4666 \nL 4325 0 \nL 3669 0 \nL 3244 1197 \nL 1141 1197 \nL 716 0 \nL 50 0 \nL 1831 4666 \nz\n\" id=\"DejaVuSans-41\" transform=\"scale(0.015625)\"/>\n       </defs>\n       <use xlink:href=\"#DejaVuSans-41\"/>\n      </g>\n     </g>\n    </g>\n    <g id=\"ytick_2\">\n     <g id=\"line2d_12\">\n      <g>\n       <use style=\"stroke:#000000;stroke-width:0.8;\" x=\"23.878125\" xlink:href=\"#m82fe09ef22\" y=\"92.539219\"/>\n      </g>\n     </g>\n     <g id=\"text_12\">\n      <!-- B -->\n      <g transform=\"translate(14.798438 95.600938)rotate(-90)scale(0.1 -0.1)\">\n       <defs>\n        <path d=\"M 1259 2228 \nL 1259 519 \nL 2272 519 \nQ 2781 519 3026 730 \nQ 3272 941 3272 1375 \nQ 3272 1813 3026 2020 \nQ 2781 2228 2272 2228 \nL 1259 2228 \nz\nM 1259 4147 \nL 1259 2741 \nL 2194 2741 \nQ 2656 2741 2882 2914 \nQ 3109 3088 3109 3444 \nQ 3109 3797 2882 3972 \nQ 2656 4147 2194 4147 \nL 1259 4147 \nz\nM 628 4666 \nL 2241 4666 \nQ 2963 4666 3353 4366 \nQ 3744 4066 3744 3513 \nQ 3744 3084 3544 2831 \nQ 3344 2578 2956 2516 \nQ 3422 2416 3680 2098 \nQ 3938 1781 3938 1306 \nQ 3938 681 3513 340 \nQ 3088 0 2303 0 \nL 628 0 \nL 628 4666 \nz\n\" id=\"DejaVuSans-42\" transform=\"scale(0.015625)\"/>\n       </defs>\n       <use xlink:href=\"#DejaVuSans-42\"/>\n      </g>\n     </g>\n    </g>\n    <g id=\"ytick_3\">\n     <g id=\"line2d_13\">\n      <g>\n       <use style=\"stroke:#000000;stroke-width:0.8;\" x=\"23.878125\" xlink:href=\"#m82fe09ef22\" y=\"146.899219\"/>\n      </g>\n     </g>\n     <g id=\"text_13\">\n      <!-- C -->\n      <g transform=\"translate(14.798438 150.082813)rotate(-90)scale(0.1 -0.1)\">\n       <defs>\n        <path d=\"M 4122 4306 \nL 4122 3641 \nQ 3803 3938 3442 4084 \nQ 3081 4231 2675 4231 \nQ 1875 4231 1450 3742 \nQ 1025 3253 1025 2328 \nQ 1025 1406 1450 917 \nQ 1875 428 2675 428 \nQ 3081 428 3442 575 \nQ 3803 722 4122 1019 \nL 4122 359 \nQ 3791 134 3420 21 \nQ 3050 -91 2638 -91 \nQ 1578 -91 968 557 \nQ 359 1206 359 2328 \nQ 359 3453 968 4101 \nQ 1578 4750 2638 4750 \nQ 3056 4750 3426 4639 \nQ 3797 4528 4122 4306 \nz\n\" id=\"DejaVuSans-43\" transform=\"scale(0.015625)\"/>\n       </defs>\n       <use xlink:href=\"#DejaVuSans-43\"/>\n      </g>\n     </g>\n    </g>\n    <g id=\"ytick_4\">\n     <g id=\"line2d_14\">\n      <g>\n       <use style=\"stroke:#000000;stroke-width:0.8;\" x=\"23.878125\" xlink:href=\"#m82fe09ef22\" y=\"201.259219\"/>\n      </g>\n     </g>\n     <g id=\"text_14\">\n      <!-- D -->\n      <g transform=\"translate(14.798438 205.16)rotate(-90)scale(0.1 -0.1)\">\n       <defs>\n        <path d=\"M 1259 4147 \nL 1259 519 \nL 2022 519 \nQ 2988 519 3436 956 \nQ 3884 1394 3884 2338 \nQ 3884 3275 3436 3711 \nQ 2988 4147 2022 4147 \nL 1259 4147 \nz\nM 628 4666 \nL 1925 4666 \nQ 3281 4666 3915 4102 \nQ 4550 3538 4550 2338 \nQ 4550 1131 3912 565 \nQ 3275 0 1925 0 \nL 628 0 \nL 628 4666 \nz\n\" id=\"DejaVuSans-44\" transform=\"scale(0.015625)\"/>\n       </defs>\n       <use xlink:href=\"#DejaVuSans-44\"/>\n      </g>\n     </g>\n    </g>\n    <g id=\"ytick_5\">\n     <g id=\"line2d_15\">\n      <g>\n       <use style=\"stroke:#000000;stroke-width:0.8;\" x=\"23.878125\" xlink:href=\"#m82fe09ef22\" y=\"255.619219\"/>\n      </g>\n     </g>\n     <g id=\"text_15\">\n      <!-- E -->\n      <g transform=\"translate(14.798438 258.13875)rotate(-90)scale(0.1 -0.1)\">\n       <defs>\n        <path d=\"M 628 4666 \nL 3578 4666 \nL 3578 4134 \nL 1259 4134 \nL 1259 2753 \nL 3481 2753 \nL 3481 2222 \nL 1259 2222 \nL 1259 531 \nL 3634 531 \nL 3634 0 \nL 628 0 \nL 628 4666 \nz\n\" id=\"DejaVuSans-45\" transform=\"scale(0.015625)\"/>\n       </defs>\n       <use xlink:href=\"#DejaVuSans-45\"/>\n      </g>\n     </g>\n    </g>\n    <g id=\"ytick_6\">\n     <g id=\"line2d_16\">\n      <g>\n       <use style=\"stroke:#000000;stroke-width:0.8;\" x=\"23.878125\" xlink:href=\"#m82fe09ef22\" y=\"309.979219\"/>\n      </g>\n     </g>\n     <g id=\"text_16\">\n      <!-- F -->\n      <g transform=\"translate(14.798438 311.931563)rotate(-90)scale(0.1 -0.1)\">\n       <defs>\n        <path d=\"M 628 4666 \nL 3309 4666 \nL 3309 4134 \nL 1259 4134 \nL 1259 2759 \nL 3109 2759 \nL 3109 2228 \nL 1259 2228 \nL 1259 0 \nL 628 0 \nL 628 4666 \nz\n\" id=\"DejaVuSans-46\" transform=\"scale(0.015625)\"/>\n       </defs>\n       <use xlink:href=\"#DejaVuSans-46\"/>\n      </g>\n     </g>\n    </g>\n    <g id=\"ytick_7\">\n     <g id=\"line2d_17\">\n      <g>\n       <use style=\"stroke:#000000;stroke-width:0.8;\" x=\"23.878125\" xlink:href=\"#m82fe09ef22\" y=\"364.339219\"/>\n      </g>\n     </g>\n     <g id=\"text_17\">\n      <!-- G -->\n      <g transform=\"translate(14.798438 368.288438)rotate(-90)scale(0.1 -0.1)\">\n       <defs>\n        <path d=\"M 3809 666 \nL 3809 1919 \nL 2778 1919 \nL 2778 2438 \nL 4434 2438 \nL 4434 434 \nQ 4069 175 3628 42 \nQ 3188 -91 2688 -91 \nQ 1594 -91 976 548 \nQ 359 1188 359 2328 \nQ 359 3472 976 4111 \nQ 1594 4750 2688 4750 \nQ 3144 4750 3555 4637 \nQ 3966 4525 4313 4306 \nL 4313 3634 \nQ 3963 3931 3569 4081 \nQ 3175 4231 2741 4231 \nQ 1884 4231 1454 3753 \nQ 1025 3275 1025 2328 \nQ 1025 1384 1454 906 \nQ 1884 428 2741 428 \nQ 3075 428 3337 486 \nQ 3600 544 3809 666 \nz\n\" id=\"DejaVuSans-47\" transform=\"scale(0.015625)\"/>\n       </defs>\n       <use xlink:href=\"#DejaVuSans-47\"/>\n      </g>\n     </g>\n    </g>\n    <g id=\"ytick_8\">\n     <g id=\"line2d_18\">\n      <g>\n       <use style=\"stroke:#000000;stroke-width:0.8;\" x=\"23.878125\" xlink:href=\"#m82fe09ef22\" y=\"418.699219\"/>\n      </g>\n     </g>\n     <g id=\"text_18\">\n      <!-- H -->\n      <g transform=\"translate(14.798438 422.420313)rotate(-90)scale(0.1 -0.1)\">\n       <defs>\n        <path d=\"M 628 4666 \nL 1259 4666 \nL 1259 2753 \nL 3553 2753 \nL 3553 4666 \nL 4184 4666 \nL 4184 0 \nL 3553 0 \nL 3553 2222 \nL 1259 2222 \nL 1259 0 \nL 628 0 \nL 628 4666 \nz\n\" id=\"DejaVuSans-48\" transform=\"scale(0.015625)\"/>\n       </defs>\n       <use xlink:href=\"#DejaVuSans-48\"/>\n      </g>\n     </g>\n    </g>\n    <g id=\"ytick_9\">\n     <g id=\"line2d_19\">\n      <g>\n       <use style=\"stroke:#000000;stroke-width:0.8;\" x=\"23.878125\" xlink:href=\"#m82fe09ef22\" y=\"473.059219\"/>\n      </g>\n     </g>\n     <g id=\"text_19\">\n      <!-- I -->\n      <g transform=\"translate(14.798438 472.21)rotate(-90)scale(0.1 -0.1)\">\n       <defs>\n        <path d=\"M 628 4666 \nL 1259 4666 \nL 1259 0 \nL 628 0 \nL 628 4666 \nz\n\" id=\"DejaVuSans-49\" transform=\"scale(0.015625)\"/>\n       </defs>\n       <use xlink:href=\"#DejaVuSans-49\"/>\n      </g>\n     </g>\n    </g>\n    <g id=\"ytick_10\">\n     <g id=\"line2d_20\">\n      <g>\n       <use style=\"stroke:#000000;stroke-width:0.8;\" x=\"23.878125\" xlink:href=\"#m82fe09ef22\" y=\"527.419219\"/>\n      </g>\n     </g>\n     <g id=\"text_20\">\n      <!-- J -->\n      <g transform=\"translate(14.798438 526.57)rotate(-90)scale(0.1 -0.1)\">\n       <defs>\n        <path d=\"M 628 4666 \nL 1259 4666 \nL 1259 325 \nQ 1259 -519 939 -900 \nQ 619 -1281 -91 -1281 \nL -331 -1281 \nL -331 -750 \nL -134 -750 \nQ 284 -750 456 -515 \nQ 628 -281 628 325 \nL 628 4666 \nz\n\" id=\"DejaVuSans-4a\" transform=\"scale(0.015625)\"/>\n       </defs>\n       <use xlink:href=\"#DejaVuSans-4a\"/>\n      </g>\n     </g>\n    </g>\n   </g>\n  </g>\n  <g id=\"axes_2\">\n   <g id=\"patch_3\">\n    <path d=\"M 735.328125 554.599219 \nL 762.508125 554.599219 \nL 762.508125 10.999219 \nL 735.328125 10.999219 \nz\n\" style=\"fill:#ffffff;\"/>\n   </g>\n   <g id=\"patch_4\">\n    <path clip-path=\"url(#pba5f7bd5ba)\" d=\"M 735.328125 554.599219 \nL 735.328125 552.475781 \nL 735.328125 13.122656 \nL 735.328125 10.999219 \nL 762.508125 10.999219 \nL 762.508125 13.122656 \nL 762.508125 552.475781 \nL 762.508125 554.599219 \nL 762.508125 554.599219 \nz\n\" style=\"fill:#ffffff;stroke:#ffffff;stroke-linejoin:miter;stroke-width:0.01;\"/>\n   </g>\n   <image height=\"543\" id=\"image64fd4f9416\" transform=\"scale(1 -1)translate(0 -543)\" width=\"28\" x=\"735\" xlink:href=\"data:image/png;base64,\niVBORw0KGgoAAAANSUhEUgAAABwAAAIfCAYAAABjBrwTAAACqElEQVR4nO2dgXHkMAwD5bO+ny/m++/E9jexQ4+B3QY4EEBSSnKX49/fP88a5DdZbK219u+YLfiCwuGS8wrPY9ZEU4qTr9DGx8kPTcNoM6UwKsQpSGn8pLEtcBoUxjd+vofxo82U4qjw+wXzj3SfwxL1EKdBYX5KVQjzhsLZmhUL2NCw2Pg4FQpNKYsKcfJTamhw9u8ID02DhwUKTSmLCnHyU2pocFzAOCrEyR9tBR4e5zla8A0PwxUaGpx9/PZoQT3EyW/8Ag8PPYSxD79fcB+n64nF0Yazf3oIYx/iFHgY34e+D3EaGj9eYfzNu8DD/PWkhzQNC/gIP9L80FR4mP4b0gYP4xUWeGgfshRcMZaND2Pj41R4GK+wwEP7kKVgAdv4NG9comx8FvsQp8JD+5ClYAGv+I8hTdfUQxw9xNFDHD3EcQHjGBocPcSZV/jEf+devof2IY0LGMfQ4Oghjh7i6CGOHn6/YEFonpX+trif0X94/IbCla5w2EI95Nn3cEEnzfcLFrSFo43GxsdpGN7xKXXS0DQsYEcbjB7i7Ce98U0pjh7i5HvoaMPZt/dSmHmFV3rj7+uZHd8Ob5x93ekexvehR4qz7/jRlu9h/noq8DB+PRVcMQoUhqfU0ODkh8bRhuMCxinw0McMjQsYxwWMU+Dhnb+eVAijQpx9XeEKDQ2OCnFUiKNCHBXi5Ct8406T/nqKD40KcXzj4xR4qEKaigUcfqT5oVEhjgpxCq4YKqQpWMDxR6pCHP/MDKfBQxXCqPD7BfOP1LcFjgpxVIijQpx8hb4tcPJDo0IcFeIUKHziFa70T5S8cKT5oRn+si/bAqcipfEKC1IaP2nSU2pb4OSHpkDhE/9zmnwPCxQ6S2He8DB80hganAaFjjYY34c4phRnXOF/2q1XtmNy2sEAAAAASUVORK5CYII=\" y=\"-11\"/>\n   <g id=\"matplotlib.axis_3\"/>\n   <g id=\"matplotlib.axis_4\">\n    <g id=\"ytick_11\">\n     <g id=\"line2d_21\">\n      <defs>\n       <path d=\"M 0 0 \nL 3.5 0 \n\" id=\"mb01e1882eb\" style=\"stroke:#000000;stroke-width:0.8;\"/>\n      </defs>\n      <g>\n       <use style=\"stroke:#000000;stroke-width:0.8;\" x=\"762.508125\" xlink:href=\"#mb01e1882eb\" y=\"554.599219\"/>\n      </g>\n     </g>\n     <g id=\"text_21\">\n      <!-- −1.00 -->\n      <g transform=\"translate(769.508125 558.398438)scale(0.1 -0.1)\">\n       <defs>\n        <path d=\"M 678 2272 \nL 4684 2272 \nL 4684 1741 \nL 678 1741 \nL 678 2272 \nz\n\" id=\"DejaVuSans-2212\" transform=\"scale(0.015625)\"/>\n        <path d=\"M 684 794 \nL 1344 794 \nL 1344 0 \nL 684 0 \nL 684 794 \nz\n\" id=\"DejaVuSans-2e\" transform=\"scale(0.015625)\"/>\n       </defs>\n       <use xlink:href=\"#DejaVuSans-2212\"/>\n       <use x=\"83.789062\" xlink:href=\"#DejaVuSans-31\"/>\n       <use x=\"147.412109\" xlink:href=\"#DejaVuSans-2e\"/>\n       <use x=\"179.199219\" xlink:href=\"#DejaVuSans-30\"/>\n       <use x=\"242.822266\" xlink:href=\"#DejaVuSans-30\"/>\n      </g>\n     </g>\n    </g>\n    <g id=\"ytick_12\">\n     <g id=\"line2d_22\">\n      <g>\n       <use style=\"stroke:#000000;stroke-width:0.8;\" x=\"762.508125\" xlink:href=\"#mb01e1882eb\" y=\"486.649219\"/>\n      </g>\n     </g>\n     <g id=\"text_22\">\n      <!-- −0.75 -->\n      <g transform=\"translate(769.508125 490.448437)scale(0.1 -0.1)\">\n       <use xlink:href=\"#DejaVuSans-2212\"/>\n       <use x=\"83.789062\" xlink:href=\"#DejaVuSans-30\"/>\n       <use x=\"147.412109\" xlink:href=\"#DejaVuSans-2e\"/>\n       <use x=\"179.199219\" xlink:href=\"#DejaVuSans-37\"/>\n       <use x=\"242.822266\" xlink:href=\"#DejaVuSans-35\"/>\n      </g>\n     </g>\n    </g>\n    <g id=\"ytick_13\">\n     <g id=\"line2d_23\">\n      <g>\n       <use style=\"stroke:#000000;stroke-width:0.8;\" x=\"762.508125\" xlink:href=\"#mb01e1882eb\" y=\"418.699219\"/>\n      </g>\n     </g>\n     <g id=\"text_23\">\n      <!-- −0.50 -->\n      <g transform=\"translate(769.508125 422.498438)scale(0.1 -0.1)\">\n       <use xlink:href=\"#DejaVuSans-2212\"/>\n       <use x=\"83.789062\" xlink:href=\"#DejaVuSans-30\"/>\n       <use x=\"147.412109\" xlink:href=\"#DejaVuSans-2e\"/>\n       <use x=\"179.199219\" xlink:href=\"#DejaVuSans-35\"/>\n       <use x=\"242.822266\" xlink:href=\"#DejaVuSans-30\"/>\n      </g>\n     </g>\n    </g>\n    <g id=\"ytick_14\">\n     <g id=\"line2d_24\">\n      <g>\n       <use style=\"stroke:#000000;stroke-width:0.8;\" x=\"762.508125\" xlink:href=\"#mb01e1882eb\" y=\"350.749219\"/>\n      </g>\n     </g>\n     <g id=\"text_24\">\n      <!-- −0.25 -->\n      <g transform=\"translate(769.508125 354.548437)scale(0.1 -0.1)\">\n       <use xlink:href=\"#DejaVuSans-2212\"/>\n       <use x=\"83.789062\" xlink:href=\"#DejaVuSans-30\"/>\n       <use x=\"147.412109\" xlink:href=\"#DejaVuSans-2e\"/>\n       <use x=\"179.199219\" xlink:href=\"#DejaVuSans-32\"/>\n       <use x=\"242.822266\" xlink:href=\"#DejaVuSans-35\"/>\n      </g>\n     </g>\n    </g>\n    <g id=\"ytick_15\">\n     <g id=\"line2d_25\">\n      <g>\n       <use style=\"stroke:#000000;stroke-width:0.8;\" x=\"762.508125\" xlink:href=\"#mb01e1882eb\" y=\"282.799219\"/>\n      </g>\n     </g>\n     <g id=\"text_25\">\n      <!-- 0.00 -->\n      <g transform=\"translate(769.508125 286.598438)scale(0.1 -0.1)\">\n       <use xlink:href=\"#DejaVuSans-30\"/>\n       <use x=\"63.623047\" xlink:href=\"#DejaVuSans-2e\"/>\n       <use x=\"95.410156\" xlink:href=\"#DejaVuSans-30\"/>\n       <use x=\"159.033203\" xlink:href=\"#DejaVuSans-30\"/>\n      </g>\n     </g>\n    </g>\n    <g id=\"ytick_16\">\n     <g id=\"line2d_26\">\n      <g>\n       <use style=\"stroke:#000000;stroke-width:0.8;\" x=\"762.508125\" xlink:href=\"#mb01e1882eb\" y=\"214.849219\"/>\n      </g>\n     </g>\n     <g id=\"text_26\">\n      <!-- 0.25 -->\n      <g transform=\"translate(769.508125 218.648438)scale(0.1 -0.1)\">\n       <use xlink:href=\"#DejaVuSans-30\"/>\n       <use x=\"63.623047\" xlink:href=\"#DejaVuSans-2e\"/>\n       <use x=\"95.410156\" xlink:href=\"#DejaVuSans-32\"/>\n       <use x=\"159.033203\" xlink:href=\"#DejaVuSans-35\"/>\n      </g>\n     </g>\n    </g>\n    <g id=\"ytick_17\">\n     <g id=\"line2d_27\">\n      <g>\n       <use style=\"stroke:#000000;stroke-width:0.8;\" x=\"762.508125\" xlink:href=\"#mb01e1882eb\" y=\"146.899219\"/>\n      </g>\n     </g>\n     <g id=\"text_27\">\n      <!-- 0.50 -->\n      <g transform=\"translate(769.508125 150.698438)scale(0.1 -0.1)\">\n       <use xlink:href=\"#DejaVuSans-30\"/>\n       <use x=\"63.623047\" xlink:href=\"#DejaVuSans-2e\"/>\n       <use x=\"95.410156\" xlink:href=\"#DejaVuSans-35\"/>\n       <use x=\"159.033203\" xlink:href=\"#DejaVuSans-30\"/>\n      </g>\n     </g>\n    </g>\n    <g id=\"ytick_18\">\n     <g id=\"line2d_28\">\n      <g>\n       <use style=\"stroke:#000000;stroke-width:0.8;\" x=\"762.508125\" xlink:href=\"#mb01e1882eb\" y=\"78.949219\"/>\n      </g>\n     </g>\n     <g id=\"text_28\">\n      <!-- 0.75 -->\n      <g transform=\"translate(769.508125 82.748438)scale(0.1 -0.1)\">\n       <use xlink:href=\"#DejaVuSans-30\"/>\n       <use x=\"63.623047\" xlink:href=\"#DejaVuSans-2e\"/>\n       <use x=\"95.410156\" xlink:href=\"#DejaVuSans-37\"/>\n       <use x=\"159.033203\" xlink:href=\"#DejaVuSans-35\"/>\n      </g>\n     </g>\n    </g>\n    <g id=\"ytick_19\">\n     <g id=\"line2d_29\">\n      <g>\n       <use style=\"stroke:#000000;stroke-width:0.8;\" x=\"762.508125\" xlink:href=\"#mb01e1882eb\" y=\"10.999219\"/>\n      </g>\n     </g>\n     <g id=\"text_29\">\n      <!-- 1.00 -->\n      <g transform=\"translate(769.508125 14.798438)scale(0.1 -0.1)\">\n       <use xlink:href=\"#DejaVuSans-31\"/>\n       <use x=\"63.623047\" xlink:href=\"#DejaVuSans-2e\"/>\n       <use x=\"95.410156\" xlink:href=\"#DejaVuSans-30\"/>\n       <use x=\"159.033203\" xlink:href=\"#DejaVuSans-30\"/>\n      </g>\n     </g>\n    </g>\n   </g>\n   <g id=\"LineCollection_1\"/>\n   <g id=\"patch_5\">\n    <path d=\"M 735.328125 554.599219 \nL 735.328125 552.475781 \nL 735.328125 13.122656 \nL 735.328125 10.999219 \nL 762.508125 10.999219 \nL 762.508125 13.122656 \nL 762.508125 552.475781 \nL 762.508125 554.599219 \nz\n\" style=\"fill:none;\"/>\n   </g>\n  </g>\n </g>\n <defs>\n  <clipPath id=\"p9969c7fc22\">\n   <rect height=\"543.6\" width=\"669.6\" x=\"23.878125\" y=\"10.999219\"/>\n  </clipPath>\n  <clipPath id=\"pba5f7bd5ba\">\n   <rect height=\"543.6\" width=\"27.18\" x=\"735.328125\" y=\"10.999219\"/>\n  </clipPath>\n </defs>\n</svg>\n",
      "image/png": "[encoded data removed]"
     },
     "metadata": {
      "needs_background": "light"
     }
    }
   ],
   "source": [
    "import matplotlib.pyplot as plt\n",
    "import seaborn as sns\n",
    "\n",
    "plt.figure(figsize=(15,10))\n",
    "sns.heatmap(df, cmap=\"BrBG\", linewidths = 0.5, linecolor = \"white\")"
   ]
  },
  {
   "cell_type": "code",
   "execution_count": null,
   "metadata": {},
   "outputs": [],
   "source": []
  }
 ]
}