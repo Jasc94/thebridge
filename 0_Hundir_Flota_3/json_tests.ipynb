{
 "metadata": {
  "language_info": {
   "codemirror_mode": {
    "name": "ipython",
    "version": 3
   },
   "file_extension": ".py",
   "mimetype": "text/x-python",
   "name": "python",
   "nbconvert_exporter": "python",
   "pygments_lexer": "ipython3",
   "version": "3.7.4"
  },
  "orig_nbformat": 2,
  "kernelspec": {
   "name": "python374jvsc74a57bd0aee8b7b246df8f9039afb4144a1f6fd8d2ca17a180786b69acc140d282b71a49",
   "display_name": "Python 3.7.4 64-bit"
  },
  "metadata": {
   "interpreter": {
    "hash": "aee8b7b246df8f9039afb4144a1f6fd8d2ca17a180786b69acc140d282b71a49"
   }
  }
 },
 "nbformat": 4,
 "nbformat_minor": 2,
 "cells": [
  {
   "cell_type": "code",
   "execution_count": 2,
   "metadata": {},
   "outputs": [],
   "source": [
    "import pandas as pd\n",
    "import numpy as np\n",
    "import json\n",
    "\n",
    "def matrix_creator():\n",
    "    # Board's index\n",
    "    index = ['A', 'B', 'C', 'D', 'E', 'F', 'G', 'H', 'I', 'J']\n",
    "    # Two dicts for later use\n",
    "    d = {}\n",
    "    d2 = {}\n",
    "\n",
    "    # The outer dict is for the indexes and the inner for the columns\n",
    "    for i in index:\n",
    "        for j in range(1, len(index) + 1):\n",
    "            # I fill it with '~'\n",
    "            d2[j] = '~'\n",
    "        d[i] = d2\n",
    "\n",
    "    # Dataframe out of the dicts\n",
    "    df = pd.DataFrame(d)\n",
    "    # Transpose it to have the letters to be the index and the numbers the columns\n",
    "    df = df.T\n",
    "    return df"
   ]
  },
  {
   "cell_type": "code",
   "execution_count": 3,
   "metadata": {},
   "outputs": [],
   "source": [
    "# Para guardar la matrix como json\n",
    "\n",
    "df.to_json('json/json_test1.json', orient = 'records', indent = 4)\n",
    "df.to_json('json/json_test2.json', orient = 'records', indent = 4)\n",
    "df.to_json('json/json_test3.json', orient = 'records', indent = 4)"
   ]
  },
  {
   "cell_type": "code",
   "execution_count": 4,
   "metadata": {},
   "outputs": [],
   "source": [
    "# Para guardar el juego de hundir la flota, tendría que guardar 4 matrices: back y front de cada jugador"
   ]
  },
  {
   "cell_type": "code",
   "execution_count": 5,
   "metadata": {},
   "outputs": [
    {
     "output_type": "stream",
     "name": "stdout",
     "text": [
      "[{'1': '~', '2': '~', '3': '~', '4': '~', '5': '~', '6': '~', '7': '~', '8': '~', '9': '~', '10': '~'}, {'1': '~', '2': '~', '3': '~', '4': '~', '5': '~', '6': '~', '7': '~', '8': '~', '9': '~', '10': '~'}, {'1': '~', '2': '~', '3': '~', '4': '~', '5': '~', '6': '~', '7': '~', '8': '~', '9': '~', '10': '~'}, {'1': '~', '2': '~', '3': '~', '4': '~', '5': '~', '6': '~', '7': '~', '8': '~', '9': '~', '10': '~'}, {'1': '~', '2': '~', '3': '~', '4': '~', '5': '~', '6': '~', '7': '~', '8': '~', '9': '~', '10': '~'}, {'1': '~', '2': '~', '3': '~', '4': '~', '5': '~', '6': '~', '7': '~', '8': '~', '9': '~', '10': '~'}, {'1': '~', '2': '~', '3': '~', '4': '~', '5': '~', '6': '~', '7': '~', '8': '~', '9': '~', '10': '~'}, {'1': '~', '2': '~', '3': '~', '4': '~', '5': '~', '6': '~', '7': '~', '8': '~', '9': '~', '10': '~'}, {'1': '~', '2': '~', '3': '~', '4': '~', '5': '~', '6': '~', '7': '~', '8': '~', '9': '~', '10': '~'}, {'1': '~', '2': '~', '3': '~', '4': '~', '5': '~', '6': '~', '7': '~', '8': '~', '9': '~', '10': '~'}]\n----------------------------------------------------------------------------------------------------\n   1  2  3  4  5  6  7  8  9 10\n0  ~  ~  ~  ~  ~  ~  ~  ~  ~  ~\n1  ~  ~  ~  ~  ~  ~  ~  ~  ~  ~\n2  ~  ~  ~  ~  ~  ~  ~  ~  ~  ~\n3  ~  ~  ~  ~  ~  ~  ~  ~  ~  ~\n4  ~  ~  ~  ~  ~  ~  ~  ~  ~  ~\n5  ~  ~  ~  ~  ~  ~  ~  ~  ~  ~\n6  ~  ~  ~  ~  ~  ~  ~  ~  ~  ~\n7  ~  ~  ~  ~  ~  ~  ~  ~  ~  ~\n8  ~  ~  ~  ~  ~  ~  ~  ~  ~  ~\n9  ~  ~  ~  ~  ~  ~  ~  ~  ~  ~\n"
     ]
    }
   ],
   "source": [
    "# Para leer la info del json\n",
    "\n",
    "with open('json/json_test.json', 'r+') as outfile:\n",
    "    old_game = json.load(outfile)\n",
    "\n",
    "print(old_game)\n",
    "print('-' * 100)\n",
    "old_df = pd.DataFrame(old_game)\n",
    "print(old_df)"
   ]
  },
  {
   "cell_type": "code",
   "execution_count": 6,
   "metadata": {},
   "outputs": [],
   "source": [
    "def load_old_game(file):\n",
    "    with open(file, 'r+') as outfile:\n",
    "        old_game = json.load(outfile)\n",
    "        old_df = pd.DataFrame(old_game)\n",
    "        return old_df"
   ]
  },
  {
   "cell_type": "code",
   "execution_count": 7,
   "metadata": {},
   "outputs": [
    {
     "output_type": "execute_result",
     "data": {
      "text/plain": [
       "   1  2  3  4  5  6  7  8  9 10\n",
       "0  ~  ~  ~  ~  ~  ~  ~  ~  ~  ~\n",
       "1  ~  ~  ~  ~  ~  ~  ~  ~  ~  ~\n",
       "2  ~  ~  ~  ~  ~  ~  ~  ~  ~  ~\n",
       "3  ~  ~  ~  ~  ~  ~  ~  ~  ~  ~\n",
       "4  ~  ~  ~  ~  ~  ~  ~  ~  ~  ~\n",
       "5  ~  ~  ~  ~  ~  ~  ~  ~  ~  ~\n",
       "6  ~  ~  ~  ~  ~  ~  ~  ~  ~  ~\n",
       "7  ~  ~  ~  ~  ~  ~  ~  ~  ~  ~\n",
       "8  ~  ~  ~  ~  ~  ~  ~  ~  ~  ~\n",
       "9  ~  ~  ~  ~  ~  ~  ~  ~  ~  ~"
      ],
      "text/html": "<div>\n<style scoped>\n    .dataframe tbody tr th:only-of-type {\n        vertical-align: middle;\n    }\n\n    .dataframe tbody tr th {\n        vertical-align: top;\n    }\n\n    .dataframe thead th {\n        text-align: right;\n    }\n</style>\n<table border=\"1\" class=\"dataframe\">\n  <thead>\n    <tr style=\"text-align: right;\">\n      <th></th>\n      <th>1</th>\n      <th>2</th>\n      <th>3</th>\n      <th>4</th>\n      <th>5</th>\n      <th>6</th>\n      <th>7</th>\n      <th>8</th>\n      <th>9</th>\n      <th>10</th>\n    </tr>\n  </thead>\n  <tbody>\n    <tr>\n      <th>0</th>\n      <td>~</td>\n      <td>~</td>\n      <td>~</td>\n      <td>~</td>\n      <td>~</td>\n      <td>~</td>\n      <td>~</td>\n      <td>~</td>\n      <td>~</td>\n      <td>~</td>\n    </tr>\n    <tr>\n      <th>1</th>\n      <td>~</td>\n      <td>~</td>\n      <td>~</td>\n      <td>~</td>\n      <td>~</td>\n      <td>~</td>\n      <td>~</td>\n      <td>~</td>\n      <td>~</td>\n      <td>~</td>\n    </tr>\n    <tr>\n      <th>2</th>\n      <td>~</td>\n      <td>~</td>\n      <td>~</td>\n      <td>~</td>\n      <td>~</td>\n      <td>~</td>\n      <td>~</td>\n      <td>~</td>\n      <td>~</td>\n      <td>~</td>\n    </tr>\n    <tr>\n      <th>3</th>\n      <td>~</td>\n      <td>~</td>\n      <td>~</td>\n      <td>~</td>\n      <td>~</td>\n      <td>~</td>\n      <td>~</td>\n      <td>~</td>\n      <td>~</td>\n      <td>~</td>\n    </tr>\n    <tr>\n      <th>4</th>\n      <td>~</td>\n      <td>~</td>\n      <td>~</td>\n      <td>~</td>\n      <td>~</td>\n      <td>~</td>\n      <td>~</td>\n      <td>~</td>\n      <td>~</td>\n      <td>~</td>\n    </tr>\n    <tr>\n      <th>5</th>\n      <td>~</td>\n      <td>~</td>\n      <td>~</td>\n      <td>~</td>\n      <td>~</td>\n      <td>~</td>\n      <td>~</td>\n      <td>~</td>\n      <td>~</td>\n      <td>~</td>\n    </tr>\n    <tr>\n      <th>6</th>\n      <td>~</td>\n      <td>~</td>\n      <td>~</td>\n      <td>~</td>\n      <td>~</td>\n      <td>~</td>\n      <td>~</td>\n      <td>~</td>\n      <td>~</td>\n      <td>~</td>\n    </tr>\n    <tr>\n      <th>7</th>\n      <td>~</td>\n      <td>~</td>\n      <td>~</td>\n      <td>~</td>\n      <td>~</td>\n      <td>~</td>\n      <td>~</td>\n      <td>~</td>\n      <td>~</td>\n      <td>~</td>\n    </tr>\n    <tr>\n      <th>8</th>\n      <td>~</td>\n      <td>~</td>\n      <td>~</td>\n      <td>~</td>\n      <td>~</td>\n      <td>~</td>\n      <td>~</td>\n      <td>~</td>\n      <td>~</td>\n      <td>~</td>\n    </tr>\n    <tr>\n      <th>9</th>\n      <td>~</td>\n      <td>~</td>\n      <td>~</td>\n      <td>~</td>\n      <td>~</td>\n      <td>~</td>\n      <td>~</td>\n      <td>~</td>\n      <td>~</td>\n      <td>~</td>\n    </tr>\n  </tbody>\n</table>\n</div>"
     },
     "metadata": {},
     "execution_count": 7
    }
   ],
   "source": [
    "load_old_game('json/json_test.json')"
   ]
  },
  {
   "source": [
    "Con los jsons tendría que:\n",
    "- Guardar 4 jsons -> 1 por dataframe\n",
    "- Guardar los jsons en una misma carpeta\n",
    "- Que al guardar, el nombre de cada archivo contenga: partida + player + matriz\n",
    "\n",
    "\n",
    "Al volver a cargarlos:\n",
    "- Debe asignar cada archivo a su correspondiente matriz-jugador"
   ],
   "cell_type": "markdown",
   "metadata": {}
  },
  {
   "source": [
    "# Game dynamic"
   ],
   "cell_type": "markdown",
   "metadata": {}
  },
  {
   "cell_type": "code",
   "execution_count": 8,
   "metadata": {},
   "outputs": [
    {
     "output_type": "stream",
     "name": "stdout",
     "text": [
      "new game\n"
     ]
    }
   ],
   "source": [
    "beginning = input('Do you want to start a new game(new) or continue an old one(old)?').lower()\n",
    "\n",
    "if beginning == 'old':\n",
    "    try:\n",
    "        old_game_folder = input('Please enter the folder (or folder) with your old game: ')\n",
    "        print(load_old_game_2(old_game_folder))\n",
    "    except Exception:\n",
    "        print(\"Seems like the folder/path doesn't exist or it's incorrect\")\n",
    "else:\n",
    "    print('new game')\n",
    "    # rest of the game"
   ]
  },
  {
   "cell_type": "code",
   "execution_count": 9,
   "metadata": {},
   "outputs": [
    {
     "output_type": "stream",
     "name": "stdout",
     "text": [
      "json_test3.json\njson_test.json\njson_test2.json\njson_test1.json\n"
     ]
    }
   ],
   "source": [
    "import os\n",
    "for i in os.listdir('json'):\n",
    "    print(i)"
   ]
  },
  {
   "cell_type": "code",
   "execution_count": 10,
   "metadata": {},
   "outputs": [],
   "source": [
    "def load_old_game_2(path):\n",
    "    # Dict to store all the dataframes that I upload with the names as keys, so that I can them match them with the respective player front/back boards\n",
    "    dfs = {}\n",
    "\n",
    "    # As I will have 4 json (1 per player front/back matrix)\n",
    "    # I check all the items in the folder\n",
    "    for i in os.listdir(path):\n",
    "        # I append the name to the path, so that I can read it later\n",
    "        full_path = path + '/' + str(i)\n",
    "        # I read it\n",
    "        with open(full_path, 'r+') as outfile:\n",
    "            # Now I have the dict\n",
    "            old_game = json.load(outfile)\n",
    "            # Not I have the df\n",
    "            old_df = pd.DataFrame(old_game)\n",
    "            # I append the df, with the corresponding name, to the dict\n",
    "            dfs[i] = old_df\n",
    "\n",
    "    return dfs"
   ]
  },
  {
   "cell_type": "code",
   "execution_count": 11,
   "metadata": {},
   "outputs": [
    {
     "output_type": "execute_result",
     "data": {
      "text/plain": [
       "{'json_test3.json':    1  2  3  4  5  6  7  8  9 10\n",
       " 0  ~  ~  ~  ~  ~  ~  ~  ~  ~  ~\n",
       " 1  ~  ~  ~  ~  ~  ~  ~  ~  ~  ~\n",
       " 2  ~  ~  ~  ~  ~  ~  ~  ~  ~  ~\n",
       " 3  ~  ~  ~  ~  ~  ~  ~  ~  ~  ~\n",
       " 4  ~  ~  ~  ~  ~  ~  ~  ~  ~  ~\n",
       " 5  ~  ~  ~  ~  ~  ~  ~  ~  ~  ~\n",
       " 6  ~  ~  ~  ~  ~  ~  ~  ~  ~  ~\n",
       " 7  ~  ~  ~  ~  ~  ~  ~  ~  ~  ~\n",
       " 8  ~  ~  ~  ~  ~  ~  ~  ~  ~  ~\n",
       " 9  ~  ~  ~  ~  ~  ~  ~  ~  ~  ~,\n",
       " 'json_test.json':    1  2  3  4  5  6  7  8  9 10\n",
       " 0  ~  ~  ~  ~  ~  ~  ~  ~  ~  ~\n",
       " 1  ~  ~  ~  ~  ~  ~  ~  ~  ~  ~\n",
       " 2  ~  ~  ~  ~  ~  ~  ~  ~  ~  ~\n",
       " 3  ~  ~  ~  ~  ~  ~  ~  ~  ~  ~\n",
       " 4  ~  ~  ~  ~  ~  ~  ~  ~  ~  ~\n",
       " 5  ~  ~  ~  ~  ~  ~  ~  ~  ~  ~\n",
       " 6  ~  ~  ~  ~  ~  ~  ~  ~  ~  ~\n",
       " 7  ~  ~  ~  ~  ~  ~  ~  ~  ~  ~\n",
       " 8  ~  ~  ~  ~  ~  ~  ~  ~  ~  ~\n",
       " 9  ~  ~  ~  ~  ~  ~  ~  ~  ~  ~,\n",
       " 'json_test2.json':    1  2  3  4  5  6  7  8  9 10\n",
       " 0  ~  ~  ~  ~  ~  ~  ~  ~  ~  ~\n",
       " 1  ~  ~  ~  ~  ~  ~  ~  ~  ~  ~\n",
       " 2  ~  ~  ~  ~  ~  ~  ~  ~  ~  ~\n",
       " 3  ~  ~  ~  ~  ~  ~  ~  ~  ~  ~\n",
       " 4  ~  ~  ~  ~  ~  ~  ~  ~  ~  ~\n",
       " 5  ~  ~  ~  ~  ~  ~  ~  ~  ~  ~\n",
       " 6  ~  ~  ~  ~  ~  ~  ~  ~  ~  ~\n",
       " 7  ~  ~  ~  ~  ~  ~  ~  ~  ~  ~\n",
       " 8  ~  ~  ~  ~  ~  ~  ~  ~  ~  ~\n",
       " 9  ~  ~  ~  ~  ~  ~  ~  ~  ~  ~,\n",
       " 'json_test1.json':    1  2  3  4  5  6  7  8  9 10\n",
       " 0  ~  ~  ~  ~  ~  ~  ~  ~  ~  ~\n",
       " 1  ~  ~  ~  ~  ~  ~  ~  ~  ~  ~\n",
       " 2  ~  ~  ~  ~  ~  ~  ~  ~  ~  ~\n",
       " 3  ~  ~  ~  ~  ~  ~  ~  ~  ~  ~\n",
       " 4  ~  ~  ~  ~  ~  ~  ~  ~  ~  ~\n",
       " 5  ~  ~  ~  ~  ~  ~  ~  ~  ~  ~\n",
       " 6  ~  ~  ~  ~  ~  ~  ~  ~  ~  ~\n",
       " 7  ~  ~  ~  ~  ~  ~  ~  ~  ~  ~\n",
       " 8  ~  ~  ~  ~  ~  ~  ~  ~  ~  ~\n",
       " 9  ~  ~  ~  ~  ~  ~  ~  ~  ~  ~}"
      ]
     },
     "metadata": {},
     "execution_count": 11
    }
   ],
   "source": [
    "load_old_game_2('json')"
   ]
  },
  {
   "cell_type": "code",
   "execution_count": 13,
   "metadata": {},
   "outputs": [
    {
     "output_type": "execute_result",
     "data": {
      "text/plain": [
       "'new_variable'"
      ]
     },
     "metadata": {},
     "execution_count": 13
    }
   ],
   "source": [
    "from varname import nameof\n",
    "\n",
    "new_variable = 123\n",
    "name = nameof(new_variable)\n",
    "name"
   ]
  },
  {
   "cell_type": "code",
   "execution_count": 15,
   "metadata": {},
   "outputs": [
    {
     "output_type": "execute_result",
     "data": {
      "text/plain": [
       "  1  2  3  4  5  6  7  8  9  10\n",
       "A  ~  ~  ~  ~  ~  ~  ~  ~  ~  ~\n",
       "B  ~  ~  ~  ~  ~  ~  ~  ~  ~  ~\n",
       "C  ~  ~  ~  ~  ~  ~  ~  ~  ~  ~\n",
       "D  ~  ~  ~  ~  ~  ~  ~  ~  ~  ~\n",
       "E  ~  ~  ~  ~  ~  ~  ~  ~  ~  ~\n",
       "F  ~  ~  ~  ~  ~  ~  ~  ~  ~  ~\n",
       "G  ~  ~  ~  ~  ~  ~  ~  ~  ~  ~\n",
       "H  ~  ~  ~  ~  ~  ~  ~  ~  ~  ~\n",
       "I  ~  ~  ~  ~  ~  ~  ~  ~  ~  ~\n",
       "J  ~  ~  ~  ~  ~  ~  ~  ~  ~  ~"
      ],
      "text/html": "<div>\n<style scoped>\n    .dataframe tbody tr th:only-of-type {\n        vertical-align: middle;\n    }\n\n    .dataframe tbody tr th {\n        vertical-align: top;\n    }\n\n    .dataframe thead th {\n        text-align: right;\n    }\n</style>\n<table border=\"1\" class=\"dataframe\">\n  <thead>\n    <tr style=\"text-align: right;\">\n      <th></th>\n      <th>1</th>\n      <th>2</th>\n      <th>3</th>\n      <th>4</th>\n      <th>5</th>\n      <th>6</th>\n      <th>7</th>\n      <th>8</th>\n      <th>9</th>\n      <th>10</th>\n    </tr>\n  </thead>\n  <tbody>\n    <tr>\n      <th>A</th>\n      <td>~</td>\n      <td>~</td>\n      <td>~</td>\n      <td>~</td>\n      <td>~</td>\n      <td>~</td>\n      <td>~</td>\n      <td>~</td>\n      <td>~</td>\n      <td>~</td>\n    </tr>\n    <tr>\n      <th>B</th>\n      <td>~</td>\n      <td>~</td>\n      <td>~</td>\n      <td>~</td>\n      <td>~</td>\n      <td>~</td>\n      <td>~</td>\n      <td>~</td>\n      <td>~</td>\n      <td>~</td>\n    </tr>\n    <tr>\n      <th>C</th>\n      <td>~</td>\n      <td>~</td>\n      <td>~</td>\n      <td>~</td>\n      <td>~</td>\n      <td>~</td>\n      <td>~</td>\n      <td>~</td>\n      <td>~</td>\n      <td>~</td>\n    </tr>\n    <tr>\n      <th>D</th>\n      <td>~</td>\n      <td>~</td>\n      <td>~</td>\n      <td>~</td>\n      <td>~</td>\n      <td>~</td>\n      <td>~</td>\n      <td>~</td>\n      <td>~</td>\n      <td>~</td>\n    </tr>\n    <tr>\n      <th>E</th>\n      <td>~</td>\n      <td>~</td>\n      <td>~</td>\n      <td>~</td>\n      <td>~</td>\n      <td>~</td>\n      <td>~</td>\n      <td>~</td>\n      <td>~</td>\n      <td>~</td>\n    </tr>\n    <tr>\n      <th>F</th>\n      <td>~</td>\n      <td>~</td>\n      <td>~</td>\n      <td>~</td>\n      <td>~</td>\n      <td>~</td>\n      <td>~</td>\n      <td>~</td>\n      <td>~</td>\n      <td>~</td>\n    </tr>\n    <tr>\n      <th>G</th>\n      <td>~</td>\n      <td>~</td>\n      <td>~</td>\n      <td>~</td>\n      <td>~</td>\n      <td>~</td>\n      <td>~</td>\n      <td>~</td>\n      <td>~</td>\n      <td>~</td>\n    </tr>\n    <tr>\n      <th>H</th>\n      <td>~</td>\n      <td>~</td>\n      <td>~</td>\n      <td>~</td>\n      <td>~</td>\n      <td>~</td>\n      <td>~</td>\n      <td>~</td>\n      <td>~</td>\n      <td>~</td>\n    </tr>\n    <tr>\n      <th>I</th>\n      <td>~</td>\n      <td>~</td>\n      <td>~</td>\n      <td>~</td>\n      <td>~</td>\n      <td>~</td>\n      <td>~</td>\n      <td>~</td>\n      <td>~</td>\n      <td>~</td>\n    </tr>\n    <tr>\n      <th>J</th>\n      <td>~</td>\n      <td>~</td>\n      <td>~</td>\n      <td>~</td>\n      <td>~</td>\n      <td>~</td>\n      <td>~</td>\n      <td>~</td>\n      <td>~</td>\n      <td>~</td>\n    </tr>\n  </tbody>\n</table>\n</div>"
     },
     "metadata": {},
     "execution_count": 15
    }
   ],
   "source": [
    "df = matrix_creator()\n",
    "df"
   ]
  },
  {
   "cell_type": "code",
   "execution_count": 48,
   "metadata": {},
   "outputs": [
    {
     "output_type": "execute_result",
     "data": {
      "text/plain": [
       "  1  2  3  4  5  6  7  8  9  10\n",
       "A  ~  ~  ~  ~  ~  ~  ~  ~  ~  ~\n",
       "B  ~  ~  ~  X  X  X  X  ~  ~  ~\n",
       "C  ~  ~  ~  X  X  X  X  ~  ~  ~\n",
       "D  ~  ~  ~  X  X  X  X  ~  ~  ~\n",
       "E  ~  ~  ~  X  ~  ~  ~  ~  ~  ~\n",
       "F  ~  ~  ~  ~  ~  ~  ~  ~  ~  ~\n",
       "G  ~  ~  ~  ~  ~  ~  ~  ~  ~  ~\n",
       "H  ~  ~  ~  ~  ~  ~  ~  ~  ~  ~\n",
       "I  ~  ~  ~  ~  ~  ~  ~  ~  ~  ~\n",
       "J  ~  ~  ~  ~  ~  ~  ~  ~  ~  ~"
      ],
      "text/html": "<div>\n<style scoped>\n    .dataframe tbody tr th:only-of-type {\n        vertical-align: middle;\n    }\n\n    .dataframe tbody tr th {\n        vertical-align: top;\n    }\n\n    .dataframe thead th {\n        text-align: right;\n    }\n</style>\n<table border=\"1\" class=\"dataframe\">\n  <thead>\n    <tr style=\"text-align: right;\">\n      <th></th>\n      <th>1</th>\n      <th>2</th>\n      <th>3</th>\n      <th>4</th>\n      <th>5</th>\n      <th>6</th>\n      <th>7</th>\n      <th>8</th>\n      <th>9</th>\n      <th>10</th>\n    </tr>\n  </thead>\n  <tbody>\n    <tr>\n      <th>A</th>\n      <td>~</td>\n      <td>~</td>\n      <td>~</td>\n      <td>~</td>\n      <td>~</td>\n      <td>~</td>\n      <td>~</td>\n      <td>~</td>\n      <td>~</td>\n      <td>~</td>\n    </tr>\n    <tr>\n      <th>B</th>\n      <td>~</td>\n      <td>~</td>\n      <td>~</td>\n      <td>X</td>\n      <td>X</td>\n      <td>X</td>\n      <td>X</td>\n      <td>~</td>\n      <td>~</td>\n      <td>~</td>\n    </tr>\n    <tr>\n      <th>C</th>\n      <td>~</td>\n      <td>~</td>\n      <td>~</td>\n      <td>X</td>\n      <td>X</td>\n      <td>X</td>\n      <td>X</td>\n      <td>~</td>\n      <td>~</td>\n      <td>~</td>\n    </tr>\n    <tr>\n      <th>D</th>\n      <td>~</td>\n      <td>~</td>\n      <td>~</td>\n      <td>X</td>\n      <td>X</td>\n      <td>X</td>\n      <td>X</td>\n      <td>~</td>\n      <td>~</td>\n      <td>~</td>\n    </tr>\n    <tr>\n      <th>E</th>\n      <td>~</td>\n      <td>~</td>\n      <td>~</td>\n      <td>X</td>\n      <td>~</td>\n      <td>~</td>\n      <td>~</td>\n      <td>~</td>\n      <td>~</td>\n      <td>~</td>\n    </tr>\n    <tr>\n      <th>F</th>\n      <td>~</td>\n      <td>~</td>\n      <td>~</td>\n      <td>~</td>\n      <td>~</td>\n      <td>~</td>\n      <td>~</td>\n      <td>~</td>\n      <td>~</td>\n      <td>~</td>\n    </tr>\n    <tr>\n      <th>G</th>\n      <td>~</td>\n      <td>~</td>\n      <td>~</td>\n      <td>~</td>\n      <td>~</td>\n      <td>~</td>\n      <td>~</td>\n      <td>~</td>\n      <td>~</td>\n      <td>~</td>\n    </tr>\n    <tr>\n      <th>H</th>\n      <td>~</td>\n      <td>~</td>\n      <td>~</td>\n      <td>~</td>\n      <td>~</td>\n      <td>~</td>\n      <td>~</td>\n      <td>~</td>\n      <td>~</td>\n      <td>~</td>\n    </tr>\n    <tr>\n      <th>I</th>\n      <td>~</td>\n      <td>~</td>\n      <td>~</td>\n      <td>~</td>\n      <td>~</td>\n      <td>~</td>\n      <td>~</td>\n      <td>~</td>\n      <td>~</td>\n      <td>~</td>\n    </tr>\n    <tr>\n      <th>J</th>\n      <td>~</td>\n      <td>~</td>\n      <td>~</td>\n      <td>~</td>\n      <td>~</td>\n      <td>~</td>\n      <td>~</td>\n      <td>~</td>\n      <td>~</td>\n      <td>~</td>\n    </tr>\n  </tbody>\n</table>\n</div>"
     },
     "metadata": {},
     "execution_count": 48
    }
   ],
   "source": [
    "for i in df.loc['B':'D'].values:\n",
    "   i[3:7] = 'X'\n",
    "\n",
    "df"
   ]
  },
  {
   "source": [
    "# To save the game"
   ],
   "cell_type": "markdown",
   "metadata": {}
  },
  {
   "cell_type": "code",
   "execution_count": 53,
   "metadata": {},
   "outputs": [],
   "source": [
    "df1 = matrix_creator()\n",
    "df2 = matrix_creator()\n",
    "df3 = matrix_creator()\n",
    "df4 = matrix_creator()\n",
    "\n",
    "for i in df1.loc['B':'D'].values:\n",
    "   i[3:7] = 'X'\n",
    "\n",
    "path1 = 'json/' + nameof(df1) + '.json'\n",
    "path2 = 'json/' + nameof(df2) + '.json'\n",
    "path3 = 'json/' + nameof(df3) + '.json'\n",
    "path4 = 'json/' + nameof(df4) + '.json'\n",
    "\n",
    "df1.to_json(path1, orient = 'records', indent = 4)\n",
    "df2.to_json(path2, orient = 'records', indent = 4)\n",
    "df3.to_json(path3, orient = 'records', indent = 4)\n",
    "df4.to_json(path4, orient = 'records', indent = 4)"
   ]
  },
  {
   "cell_type": "code",
   "execution_count": 2,
   "metadata": {},
   "outputs": [],
   "source": [
    "# game_name = input('How do you want to save the game?')\n",
    "\n",
    "def save_game(dfs_list, game_name):\n",
    "    df1, df2, df3, df4 = dfs_list\n",
    "\n",
    "    path1 = 'json/' + nameof(df1) + '.json'\n",
    "    path2 = 'json/' + nameof(df2) + '.json'\n",
    "    path3 = 'json/' + nameof(df3) + '.json'\n",
    "    path4 = 'json/' + nameof(df4) + '.json'\n",
    "\n",
    "    df1.to_json(path1, orient = 'records', indent = 4)\n",
    "    df2.to_json(path2, orient = 'records', indent = 4)\n",
    "    df3.to_json(path3, orient = 'records', indent = 4)\n",
    "    df4.to_json(path4, orient = 'records', indent = 4)\n",
    "\n",
    "    return 'Succesfully saved'"
   ]
  },
  {
   "cell_type": "code",
   "execution_count": 59,
   "metadata": {},
   "outputs": [
    {
     "output_type": "execute_result",
     "data": {
      "text/plain": [
       "'Succesfully saved'"
      ]
     },
     "metadata": {},
     "execution_count": 59
    }
   ],
   "source": [
    "t1, t2, t3, t4 = matrix_creator(), matrix_creator(), matrix_creator(), matrix_creator()\n",
    "l = [t1, t2, t3, t4]\n",
    "save_game(l)"
   ]
  },
  {
   "cell_type": "code",
   "execution_count": 1,
   "metadata": {},
   "outputs": [],
   "source": [
    "import os\n",
    "if not os.path.exists('my_folder'):\n",
    "    os.makedirs('my_folder')"
   ]
  },
  {
   "cell_type": "code",
   "execution_count": 3,
   "metadata": {},
   "outputs": [],
   "source": [
    "from varname import nameof\n",
    "\n",
    "def save_game(dfs_list, game_name):\n",
    "    # I unpack the dfs in the list\n",
    "    player1_front, player1_back, player2_front, player2_back = dfs_list\n",
    "\n",
    "    os.makedirs('json/' + game_name)\n",
    "    # I append the names to the locations\n",
    "    path1 = 'json/' + game_name + '/' + nameof(player1_front) + '.json'\n",
    "    path2 = 'json/' + game_name + '/' + nameof(player1_back) + '.json'\n",
    "    path3 = 'json/' + game_name + '/' + nameof(player2_front) + '.json'\n",
    "    path4 = 'json/' + game_name + '/' + nameof(player2_back) + '.json'\n",
    "\n",
    "    player1_front.to_json(path1, orient = 'records', indent = 4)\n",
    "    player1_back.to_json(path2, orient = 'records', indent = 4)\n",
    "    player2_front.to_json(path3, orient = 'records', indent = 4)\n",
    "    player2_back.to_json(path4, orient = 'records', indent = 4)\n",
    "\n",
    "    return 'Succesfully saved'"
   ]
  },
  {
   "cell_type": "code",
   "execution_count": 4,
   "metadata": {},
   "outputs": [
    {
     "output_type": "execute_result",
     "data": {
      "text/plain": [
       "'Succesfully saved'"
      ]
     },
     "metadata": {},
     "execution_count": 4
    }
   ],
   "source": [
    "t1, t2, t3, t4 = matrix_creator(), matrix_creator(), matrix_creator(), matrix_creator()\n",
    "l = [t1, t2, t3, t4]\n",
    "save_game(l, 'test2')"
   ]
  },
  {
   "cell_type": "code",
   "execution_count": 2,
   "metadata": {},
   "outputs": [],
   "source": [
    "def load_old_game(game_name):\n",
    "    # Dict to store all the dataframes that I upload with the names as keys, so that I can them match them with the respective player front/back boards\n",
    "    dfs = {}\n",
    "    path = 'json/' + game_name\n",
    "\n",
    "    # As I will have 4 json (1 per player front/back matrix)\n",
    "    # I check all the items in the folder\n",
    "    for i in os.listdir(path):\n",
    "        # I append the name to the path, so that I can read it later\n",
    "        full_path = path + '/' + str(i)\n",
    "        # I read it\n",
    "        with open(full_path, 'r+') as outfile:\n",
    "            # Now I have the dict\n",
    "            old_game = json.load(outfile)\n",
    "            # Not I have the df\n",
    "            old_df = pd.DataFrame(old_game)\n",
    "            # I append the df, with the corresponding name, to the dict\n",
    "            dfs[i] = old_df\n",
    "\n",
    "    return dfs"
   ]
  },
  {
   "cell_type": "code",
   "execution_count": 11,
   "metadata": {},
   "outputs": [],
   "source": [
    "def load_old_game(game_name):\n",
    "    # Dict to store all the dataframes that I upload with the names as keys, so that I can them match them with the respective player front/back boards\n",
    "    dfs = []\n",
    "    path = 'json/' + game_name\n",
    "\n",
    "    # As I will have 4 json (1 per player front/back matrix)\n",
    "    # I check all the items in the folder\n",
    "    for i in os.listdir(path):\n",
    "        # I append the name to the path, so that I can read it later\n",
    "        full_path = path + '/' + str(i)\n",
    "        # I read it\n",
    "        with open(full_path, 'r+') as outfile:\n",
    "            # Now I have the dict\n",
    "            old_game = json.load(outfile)\n",
    "            # Not I have the df\n",
    "            old_df = pd.DataFrame(old_game)\n",
    "\n",
    "            # I recover the indexes, as they get lost when saved as jsons\n",
    "            old_df.index = ['A', 'B', 'C', 'D', 'E', 'F', 'G', 'H', 'I', 'J']\n",
    "            old_df.columns = list(range(1, 11))\n",
    "            \n",
    "            # I append the df, with the corresponding name, to the dict\n",
    "            dfs.append(old_df)\n",
    "\n",
    "    return dfs"
   ]
  },
  {
   "cell_type": "code",
   "execution_count": 13,
   "metadata": {},
   "outputs": [
    {
     "output_type": "execute_result",
     "data": {
      "text/plain": [
       "A    X\n",
       "B    ~\n",
       "C    ~\n",
       "D    ~\n",
       "E    ~\n",
       "F    ~\n",
       "G    ~\n",
       "H    ~\n",
       "I    ~\n",
       "J    ~\n",
       "Name: 1, dtype: object"
      ]
     },
     "metadata": {},
     "execution_count": 13
    }
   ],
   "source": [
    "dfs = load_old_game('second_attempt')\n",
    "dfs[0][1]"
   ]
  },
  {
   "cell_type": "code",
   "execution_count": 28,
   "metadata": {},
   "outputs": [
    {
     "output_type": "execute_result",
     "data": {
      "text/plain": [
       "['player2_front.json',\n",
       " 'player1_back.json',\n",
       " 'player2_back.json',\n",
       " 'player1_front.json']"
      ]
     },
     "metadata": {},
     "execution_count": 28
    }
   ],
   "source": [
    "dfs = load_old_game('test')\n",
    "x = []\n",
    "\n",
    "for k, v in dfs.items():\n",
    "    x.append(k)\n",
    "\n",
    "x"
   ]
  },
  {
   "cell_type": "code",
   "execution_count": 12,
   "metadata": {},
   "outputs": [],
   "source": [
    "t1, t2, t3, t4 = matrix_creator(), matrix_creator(), matrix_creator(), matrix_creator()\n",
    "l = [t1, t2, t3, t4]"
   ]
  },
  {
   "cell_type": "code",
   "execution_count": 14,
   "metadata": {},
   "outputs": [],
   "source": [
    "t2.loc['A', 0:] = '*'\n",
    "t2.loc['B', 0:] = '*'\n",
    "t2.loc['C', 2:8] = '*'\n",
    "t3.loc['A', 0:] = '*'\n",
    "t3.loc['B', 0:] = '*'\n",
    "t3.loc['C', 2:8] = '*'"
   ]
  },
  {
   "cell_type": "code",
   "execution_count": 17,
   "metadata": {},
   "outputs": [
    {
     "output_type": "execute_result",
     "data": {
      "text/plain": [
       "  1  2  3  4  5  6  7  8  9  10\n",
       "A  *  *  *  *  *  *  *  *  *  *\n",
       "B  *  *  *  *  *  *  *  *  *  *\n",
       "C  ~  *  *  *  *  *  *  *  ~  ~\n",
       "D  ~  ~  ~  ~  ~  ~  ~  ~  ~  ~\n",
       "E  ~  ~  ~  ~  ~  ~  ~  ~  ~  ~\n",
       "F  ~  ~  ~  ~  ~  ~  ~  ~  ~  ~\n",
       "G  ~  ~  ~  ~  ~  ~  ~  ~  ~  ~\n",
       "H  ~  ~  ~  ~  ~  ~  ~  ~  ~  ~\n",
       "I  ~  ~  ~  ~  ~  ~  ~  ~  ~  ~\n",
       "J  ~  ~  ~  ~  ~  ~  ~  ~  ~  ~"
      ],
      "text/html": "<div>\n<style scoped>\n    .dataframe tbody tr th:only-of-type {\n        vertical-align: middle;\n    }\n\n    .dataframe tbody tr th {\n        vertical-align: top;\n    }\n\n    .dataframe thead th {\n        text-align: right;\n    }\n</style>\n<table border=\"1\" class=\"dataframe\">\n  <thead>\n    <tr style=\"text-align: right;\">\n      <th></th>\n      <th>1</th>\n      <th>2</th>\n      <th>3</th>\n      <th>4</th>\n      <th>5</th>\n      <th>6</th>\n      <th>7</th>\n      <th>8</th>\n      <th>9</th>\n      <th>10</th>\n    </tr>\n  </thead>\n  <tbody>\n    <tr>\n      <th>A</th>\n      <td>*</td>\n      <td>*</td>\n      <td>*</td>\n      <td>*</td>\n      <td>*</td>\n      <td>*</td>\n      <td>*</td>\n      <td>*</td>\n      <td>*</td>\n      <td>*</td>\n    </tr>\n    <tr>\n      <th>B</th>\n      <td>*</td>\n      <td>*</td>\n      <td>*</td>\n      <td>*</td>\n      <td>*</td>\n      <td>*</td>\n      <td>*</td>\n      <td>*</td>\n      <td>*</td>\n      <td>*</td>\n    </tr>\n    <tr>\n      <th>C</th>\n      <td>~</td>\n      <td>*</td>\n      <td>*</td>\n      <td>*</td>\n      <td>*</td>\n      <td>*</td>\n      <td>*</td>\n      <td>*</td>\n      <td>~</td>\n      <td>~</td>\n    </tr>\n    <tr>\n      <th>D</th>\n      <td>~</td>\n      <td>~</td>\n      <td>~</td>\n      <td>~</td>\n      <td>~</td>\n      <td>~</td>\n      <td>~</td>\n      <td>~</td>\n      <td>~</td>\n      <td>~</td>\n    </tr>\n    <tr>\n      <th>E</th>\n      <td>~</td>\n      <td>~</td>\n      <td>~</td>\n      <td>~</td>\n      <td>~</td>\n      <td>~</td>\n      <td>~</td>\n      <td>~</td>\n      <td>~</td>\n      <td>~</td>\n    </tr>\n    <tr>\n      <th>F</th>\n      <td>~</td>\n      <td>~</td>\n      <td>~</td>\n      <td>~</td>\n      <td>~</td>\n      <td>~</td>\n      <td>~</td>\n      <td>~</td>\n      <td>~</td>\n      <td>~</td>\n    </tr>\n    <tr>\n      <th>G</th>\n      <td>~</td>\n      <td>~</td>\n      <td>~</td>\n      <td>~</td>\n      <td>~</td>\n      <td>~</td>\n      <td>~</td>\n      <td>~</td>\n      <td>~</td>\n      <td>~</td>\n    </tr>\n    <tr>\n      <th>H</th>\n      <td>~</td>\n      <td>~</td>\n      <td>~</td>\n      <td>~</td>\n      <td>~</td>\n      <td>~</td>\n      <td>~</td>\n      <td>~</td>\n      <td>~</td>\n      <td>~</td>\n    </tr>\n    <tr>\n      <th>I</th>\n      <td>~</td>\n      <td>~</td>\n      <td>~</td>\n      <td>~</td>\n      <td>~</td>\n      <td>~</td>\n      <td>~</td>\n      <td>~</td>\n      <td>~</td>\n      <td>~</td>\n    </tr>\n    <tr>\n      <th>J</th>\n      <td>~</td>\n      <td>~</td>\n      <td>~</td>\n      <td>~</td>\n      <td>~</td>\n      <td>~</td>\n      <td>~</td>\n      <td>~</td>\n      <td>~</td>\n      <td>~</td>\n    </tr>\n  </tbody>\n</table>\n</div>"
     },
     "metadata": {},
     "execution_count": 17
    }
   ],
   "source": [
    "t3"
   ]
  },
  {
   "cell_type": "code",
   "execution_count": 18,
   "metadata": {},
   "outputs": [
    {
     "output_type": "execute_result",
     "data": {
      "text/plain": [
       "'Succesfully saved'"
      ]
     },
     "metadata": {},
     "execution_count": 18
    }
   ],
   "source": [
    "save_game(l, 'test4')"
   ]
  },
  {
   "cell_type": "code",
   "execution_count": 31,
   "metadata": {},
   "outputs": [],
   "source": [
    "a, b, c, d = load_old_game('second_attempt').values()"
   ]
  },
  {
   "cell_type": "code",
   "execution_count": 42,
   "metadata": {},
   "outputs": [
    {
     "output_type": "execute_result",
     "data": {
      "text/plain": [
       "0    ~\n",
       "1    ~\n",
       "2    ~\n",
       "3    ~\n",
       "4    ~\n",
       "5    ~\n",
       "6    ~\n",
       "7    O\n",
       "8    ~\n",
       "9    ~\n",
       "Name: 1, dtype: object"
      ]
     },
     "metadata": {},
     "execution_count": 42
    }
   ],
   "source": [
    "d['1']"
   ]
  },
  {
   "cell_type": "code",
   "execution_count": 43,
   "metadata": {},
   "outputs": [
    {
     "output_type": "execute_result",
     "data": {
      "text/plain": [
       "  1  2  3  4  5  6  7  8  9  10\n",
       "A  ~  ~  ~  ~  ~  ~  ~  ~  ~  ~\n",
       "B  ~  ~  ~  ~  ~  ~  ~  ~  ~  ~\n",
       "C  ~  ~  ~  ~  ~  ~  ~  ~  ~  ~\n",
       "D  ~  ~  ~  ~  ~  ~  ~  ~  ~  ~\n",
       "E  ~  ~  ~  ~  ~  ~  ~  ~  ~  ~\n",
       "F  ~  ~  ~  ~  ~  ~  ~  ~  ~  ~\n",
       "G  ~  ~  ~  ~  ~  ~  ~  ~  ~  ~\n",
       "H  ~  ~  ~  ~  ~  ~  ~  ~  ~  ~\n",
       "I  ~  ~  ~  ~  ~  ~  ~  ~  ~  ~\n",
       "J  ~  ~  ~  ~  ~  ~  ~  ~  ~  ~"
      ],
      "text/html": "<div>\n<style scoped>\n    .dataframe tbody tr th:only-of-type {\n        vertical-align: middle;\n    }\n\n    .dataframe tbody tr th {\n        vertical-align: top;\n    }\n\n    .dataframe thead th {\n        text-align: right;\n    }\n</style>\n<table border=\"1\" class=\"dataframe\">\n  <thead>\n    <tr style=\"text-align: right;\">\n      <th></th>\n      <th>1</th>\n      <th>2</th>\n      <th>3</th>\n      <th>4</th>\n      <th>5</th>\n      <th>6</th>\n      <th>7</th>\n      <th>8</th>\n      <th>9</th>\n      <th>10</th>\n    </tr>\n  </thead>\n  <tbody>\n    <tr>\n      <th>A</th>\n      <td>~</td>\n      <td>~</td>\n      <td>~</td>\n      <td>~</td>\n      <td>~</td>\n      <td>~</td>\n      <td>~</td>\n      <td>~</td>\n      <td>~</td>\n      <td>~</td>\n    </tr>\n    <tr>\n      <th>B</th>\n      <td>~</td>\n      <td>~</td>\n      <td>~</td>\n      <td>~</td>\n      <td>~</td>\n      <td>~</td>\n      <td>~</td>\n      <td>~</td>\n      <td>~</td>\n      <td>~</td>\n    </tr>\n    <tr>\n      <th>C</th>\n      <td>~</td>\n      <td>~</td>\n      <td>~</td>\n      <td>~</td>\n      <td>~</td>\n      <td>~</td>\n      <td>~</td>\n      <td>~</td>\n      <td>~</td>\n      <td>~</td>\n    </tr>\n    <tr>\n      <th>D</th>\n      <td>~</td>\n      <td>~</td>\n      <td>~</td>\n      <td>~</td>\n      <td>~</td>\n      <td>~</td>\n      <td>~</td>\n      <td>~</td>\n      <td>~</td>\n      <td>~</td>\n    </tr>\n    <tr>\n      <th>E</th>\n      <td>~</td>\n      <td>~</td>\n      <td>~</td>\n      <td>~</td>\n      <td>~</td>\n      <td>~</td>\n      <td>~</td>\n      <td>~</td>\n      <td>~</td>\n      <td>~</td>\n    </tr>\n    <tr>\n      <th>F</th>\n      <td>~</td>\n      <td>~</td>\n      <td>~</td>\n      <td>~</td>\n      <td>~</td>\n      <td>~</td>\n      <td>~</td>\n      <td>~</td>\n      <td>~</td>\n      <td>~</td>\n    </tr>\n    <tr>\n      <th>G</th>\n      <td>~</td>\n      <td>~</td>\n      <td>~</td>\n      <td>~</td>\n      <td>~</td>\n      <td>~</td>\n      <td>~</td>\n      <td>~</td>\n      <td>~</td>\n      <td>~</td>\n    </tr>\n    <tr>\n      <th>H</th>\n      <td>~</td>\n      <td>~</td>\n      <td>~</td>\n      <td>~</td>\n      <td>~</td>\n      <td>~</td>\n      <td>~</td>\n      <td>~</td>\n      <td>~</td>\n      <td>~</td>\n    </tr>\n    <tr>\n      <th>I</th>\n      <td>~</td>\n      <td>~</td>\n      <td>~</td>\n      <td>~</td>\n      <td>~</td>\n      <td>~</td>\n      <td>~</td>\n      <td>~</td>\n      <td>~</td>\n      <td>~</td>\n    </tr>\n    <tr>\n      <th>J</th>\n      <td>~</td>\n      <td>~</td>\n      <td>~</td>\n      <td>~</td>\n      <td>~</td>\n      <td>~</td>\n      <td>~</td>\n      <td>~</td>\n      <td>~</td>\n      <td>~</td>\n    </tr>\n  </tbody>\n</table>\n</div>"
     },
     "metadata": {},
     "execution_count": 43
    }
   ],
   "source": [
    "test = matrix_creator()\n",
    "test"
   ]
  },
  {
   "cell_type": "code",
   "execution_count": 45,
   "metadata": {},
   "outputs": [
    {
     "output_type": "execute_result",
     "data": {
      "text/plain": [
       "[1, 2, 3, 4, 5, 6, 7, 8, 9, 10]"
      ]
     },
     "metadata": {},
     "execution_count": 45
    }
   ],
   "source": [
    "list(range(1, 11))"
   ]
  },
  {
   "cell_type": "code",
   "execution_count": null,
   "metadata": {},
   "outputs": [],
   "source": [
    "# Print the boards'\n",
    "# For that I store player's 1 back matrix in 'result'\n",
    "result = player1_board.matrix_back\n",
    "\n",
    "# I create a divisor, as I want to print both boards together\n",
    "divisor = ['|' for i in range(10)]\n",
    "index = ['A', 'B', 'C', 'D', 'E', 'F', 'G', 'H', 'I', 'J']\n",
    "divisor_df = pd.DataFrame(divisor, index = index, columns = ['|'])\n",
    "\n",
    "# I join the divisor to player's 1 board and then player's 2 board\n",
    "result = pd.merge(result, divisor_df, how = 'outer', right_index = True, left_index = True)\n",
    "result = pd.merge(result, player2_board.matrix_back, how = 'outer', right_index = True, left_index = True)\n",
    "\n",
    "# I print the result of the game\n",
    "print('\\n', result)"
   ]
  },
  {
   "cell_type": "code",
   "execution_count": 4,
   "metadata": {},
   "outputs": [],
   "source": [
    "df1 = matrix_creator()\n",
    "df2 = matrix_creator()"
   ]
  },
  {
   "cell_type": "code",
   "execution_count": 5,
   "metadata": {},
   "outputs": [
    {
     "output_type": "stream",
     "name": "stdout",
     "text": [
      "\n   1_x 2_x 3_x 4_x 5_x 6_x 7_x 8_x 9_x 10_x  ... 1_y 2_y 3_y 4_y 5_y 6_y 7_y  \\\nA   ~   ~   ~   ~   ~   ~   ~   ~   ~    ~  ...   ~   ~   ~   ~   ~   ~   ~   \nB   ~   ~   ~   ~   ~   ~   ~   ~   ~    ~  ...   ~   ~   ~   ~   ~   ~   ~   \nC   ~   ~   ~   ~   ~   ~   ~   ~   ~    ~  ...   ~   ~   ~   ~   ~   ~   ~   \nD   ~   ~   ~   ~   ~   ~   ~   ~   ~    ~  ...   ~   ~   ~   ~   ~   ~   ~   \nE   ~   ~   ~   ~   ~   ~   ~   ~   ~    ~  ...   ~   ~   ~   ~   ~   ~   ~   \nF   ~   ~   ~   ~   ~   ~   ~   ~   ~    ~  ...   ~   ~   ~   ~   ~   ~   ~   \nG   ~   ~   ~   ~   ~   ~   ~   ~   ~    ~  ...   ~   ~   ~   ~   ~   ~   ~   \nH   ~   ~   ~   ~   ~   ~   ~   ~   ~    ~  ...   ~   ~   ~   ~   ~   ~   ~   \nI   ~   ~   ~   ~   ~   ~   ~   ~   ~    ~  ...   ~   ~   ~   ~   ~   ~   ~   \nJ   ~   ~   ~   ~   ~   ~   ~   ~   ~    ~  ...   ~   ~   ~   ~   ~   ~   ~   \n\n  8_y 9_y 10_y  \nA   ~   ~    ~  \nB   ~   ~    ~  \nC   ~   ~    ~  \nD   ~   ~    ~  \nE   ~   ~    ~  \nF   ~   ~    ~  \nG   ~   ~    ~  \nH   ~   ~    ~  \nI   ~   ~    ~  \nJ   ~   ~    ~  \n\n[10 rows x 21 columns]\n"
     ]
    }
   ],
   "source": [
    "result = df1\n",
    "\n",
    "# I create a divisor, as I want to print both boards together\n",
    "divisor = ['|' for i in range(10)]\n",
    "index = ['A', 'B', 'C', 'D', 'E', 'F', 'G', 'H', 'I', 'J']\n",
    "divisor_df = pd.DataFrame(divisor, index = index, columns = ['|'])\n",
    "\n",
    "# I join the divisor to player's 1 board and then player's 2 board\n",
    "result = pd.merge(result, divisor_df, how = 'outer', right_index = True, left_index = True)\n",
    "result = pd.merge(result, df2, how = 'outer', right_index = True, left_index = True)\n",
    "\n",
    "# I print the result of the game\n",
    "print('\\n', result)"
   ]
  },
  {
   "cell_type": "code",
   "execution_count": null,
   "metadata": {},
   "outputs": [],
   "source": []
  }
 ]
}