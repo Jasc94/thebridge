{
 "metadata": {
  "language_info": {
   "codemirror_mode": {
    "name": "ipython",
    "version": 3
   },
   "file_extension": ".py",
   "mimetype": "text/x-python",
   "name": "python",
   "nbconvert_exporter": "python",
   "pygments_lexer": "ipython3",
   "version": "3.7.4"
  },
  "orig_nbformat": 2,
  "kernelspec": {
   "name": "python374jvsc74a57bd0aee8b7b246df8f9039afb4144a1f6fd8d2ca17a180786b69acc140d282b71a49",
   "display_name": "Python 3.7.4 64-bit"
  },
  "metadata": {
   "interpreter": {
    "hash": "aee8b7b246df8f9039afb4144a1f6fd8d2ca17a180786b69acc140d282b71a49"
   }
  }
 },
 "nbformat": 4,
 "nbformat_minor": 2,
 "cells": [
  {
   "cell_type": "code",
   "execution_count": 28,
   "metadata": {},
   "outputs": [],
   "source": [
    "import requests\n",
    "from bs4 import BeautifulSoup\n",
    "import pandas as pd\n",
    "import html\n",
    "import numpy as np\n",
    "import lxml\n",
    "\n",
    "import re\n",
    "import numpy as np"
   ]
  },
  {
   "cell_type": "code",
   "execution_count": 3,
   "metadata": {},
   "outputs": [],
   "source": [
    "url_w_30 = \"https://www.eatforhealth.gov.au/node/1813927/done?sid=806757&token=05ce5572f5618ac641c9f2395b28c59f\"\n",
    "url_m_30 = \"https://www.eatforhealth.gov.au/node/1813927/done?sid=806762&token=2544c5968ac9116d0ee0e2af1aa91200\"\n",
    "\n",
    "r = requests.get(url_w_30)\n",
    "soup = BeautifulSoup(r.text, \"lxml\")"
   ]
  },
  {
   "cell_type": "code",
   "execution_count": 4,
   "metadata": {},
   "outputs": [
    {
     "output_type": "stream",
     "name": "stdout",
     "text": [
      "[]\n[<td>Protein</td>, <td class=\"tbl-calc-value\">46 g/day<span>*</span></td>]\n[<td>Fluids<br/><em>(Including plain water, milk and other drinks)</em></td>, <td class=\"tbl-calc-value\">2.1 L/day<span>**</span></td>]\n[<td>Fibre</td>, <td class=\"tbl-calc-value\">25 g/day<span>**</span></td>]\n[<td>Vitamin A</td>, <td class=\"tbl-calc-value\">700 μg/day of retinol equivalents</td>]\n[<td>Thiamin</td>, <td class=\"tbl-calc-value\">1.1 mg/day<span>*</span></td>]\n[<td>Riboflavin</td>, <td class=\"tbl-calc-value\">1.1 mg/day<span>*</span></td>]\n[<td>Niacin</td>, <td class=\"tbl-calc-value\">14 mg/day of niacin equivalents</td>]\n[<td>Vitamin B6</td>, <td class=\"tbl-calc-value\">1.3 mg/day<span>*</span></td>]\n[<td>Vitamin B12</td>, <td class=\"tbl-calc-value\">2.4 μg/day<span>*</span></td>]\n[<td>Folate</td>, <td class=\"tbl-calc-value\">400 μg/day as dietary folate equivalents</td>]\n[<td>Vitamin C</td>, <td class=\"tbl-calc-value\">45 mg/day<span>*</span></td>]\n[<td>Calcium</td>, <td class=\"tbl-calc-value\">1000 mg/day<span>*</span></td>]\n[<td>Iodine</td>, <td class=\"tbl-calc-value\">150 μg/day<span>*</span></td>]\n[<td>Iron</td>, <td class=\"tbl-calc-value\">18 mg/day<span>*</span></td>]\n[<td>Magnesium</td>, <td class=\"tbl-calc-value\">310 mg/day<span>*</span></td>]\n[<td>Potassium</td>, <td class=\"tbl-calc-value\">2800 mg/day<span>*</span></td>]\n[<td>Sodium</td>, <td class=\"tbl-calc-value\">460-920 mg/day<span>*</span></td>]\n[<td>Zinc</td>, <td class=\"tbl-calc-value\">8 mg/day<span>*</span></td>]\n"
     ]
    }
   ],
   "source": [
    "di_table = soup.find(id = \"tbl-calc\")\n",
    "di_rows = di_table.find_all(\"tr\")\n",
    "\n",
    "for i in di_rows:\n",
    "    print(i.find_all(\"td\"))"
   ]
  },
  {
   "cell_type": "code",
   "execution_count": 5,
   "metadata": {},
   "outputs": [
    {
     "output_type": "execute_result",
     "data": {
      "text/plain": [
       "{'Protein': '46 g/day*',\n",
       " 'Fluids(Including plain water, milk and other drinks)': '2.1 L/day**',\n",
       " 'Fibre': '25 g/day**',\n",
       " 'Vitamin A': '700 μg/day of retinol equivalents',\n",
       " 'Thiamin': '1.1 mg/day*',\n",
       " 'Riboflavin': '1.1 mg/day*',\n",
       " 'Niacin': '14 mg/day of niacin equivalents',\n",
       " 'Vitamin B6': '1.3 mg/day*',\n",
       " 'Vitamin B12': '2.4 μg/day*',\n",
       " 'Folate': '400 μg/day as dietary folate equivalents',\n",
       " 'Vitamin C': '45 mg/day*',\n",
       " 'Calcium': '1000 mg/day*',\n",
       " 'Iodine': '150 μg/day*',\n",
       " 'Iron': '18 mg/day*',\n",
       " 'Magnesium': '310 mg/day*',\n",
       " 'Potassium': '2800 mg/day*',\n",
       " 'Sodium': '460-920 mg/day*',\n",
       " 'Zinc': '8 mg/day*'}"
      ]
     },
     "metadata": {},
     "execution_count": 5
    }
   ],
   "source": [
    "di_dict = {}\n",
    "\n",
    "for row in di_rows:\n",
    "    items = row.find_all(\"td\")\n",
    "    if len(items) > 1:\n",
    "        di_dict[items[0].text] = items[1].text\n",
    "\n",
    "di_dict"
   ]
  },
  {
   "cell_type": "code",
   "execution_count": 6,
   "metadata": {},
   "outputs": [
    {
     "output_type": "execute_result",
     "data": {
      "text/plain": [
       "Protein                                                                                46 g/day*\n",
       "Fluids(Including plain water, milk and other drinks)                                 2.1 L/day**\n",
       "Fibre                                                                                 25 g/day**\n",
       "Vitamin A                                                      700 μg/day of retinol equivalents\n",
       "Thiamin                                                                              1.1 mg/day*\n",
       "Riboflavin                                                                           1.1 mg/day*\n",
       "Niacin                                                           14 mg/day of niacin equivalents\n",
       "Vitamin B6                                                                           1.3 mg/day*\n",
       "Vitamin B12                                                                          2.4 μg/day*\n",
       "Folate                                                  400 μg/day as dietary folate equivalents\n",
       "Vitamin C                                                                             45 mg/day*\n",
       "Calcium                                                                             1000 mg/day*\n",
       "Iodine                                                                               150 μg/day*\n",
       "Iron                                                                                  18 mg/day*\n",
       "Magnesium                                                                            310 mg/day*\n",
       "Potassium                                                                           2800 mg/day*\n",
       "Sodium                                                                           460-920 mg/day*\n",
       "Zinc                                                                                   8 mg/day*\n",
       "dtype: object"
      ]
     },
     "metadata": {},
     "execution_count": 6
    }
   ],
   "source": [
    "df = pd.Series(di_dict)\n",
    "df"
   ]
  },
  {
   "cell_type": "code",
   "execution_count": 7,
   "metadata": {},
   "outputs": [],
   "source": [
    "def daily_intake_info(url):\n",
    "    r = requests.get(url)\n",
    "    soup = BeautifulSoup(r.text, \"lxml\")\n",
    "\n",
    "    di_table = soup.find(id = \"tbl-calc\")\n",
    "    di_rows = di_table.find_all(\"tr\")\n",
    "\n",
    "    di_dict = {}\n",
    "\n",
    "    for row in di_rows:\n",
    "        items = row.find_all(\"td\")\n",
    "        if len(items) > 1:\n",
    "            di_dict[items[0].text] = items[1].text\n",
    "\n",
    "    s = pd.Series(di_dict)\n",
    "\n",
    "    return s"
   ]
  },
  {
   "cell_type": "code",
   "execution_count": 8,
   "metadata": {},
   "outputs": [],
   "source": [
    "url_w_30 = \"https://www.eatforhealth.gov.au/node/1813927/done?sid=806757&token=05ce5572f5618ac641c9f2395b28c59f\"\n",
    "url_m_30 = \"https://www.eatforhealth.gov.au/node/1813927/done?sid=806762&token=2544c5968ac9116d0ee0e2af1aa91200\""
   ]
  },
  {
   "cell_type": "code",
   "execution_count": 9,
   "metadata": {},
   "outputs": [],
   "source": [
    "daily_intake_women_30 = daily_intake_info(url_w_30)\n",
    "daily_intake_men_30 = daily_intake_info(url_m_30)"
   ]
  },
  {
   "cell_type": "code",
   "execution_count": 12,
   "metadata": {},
   "outputs": [],
   "source": [
    "df = pd.DataFrame([daily_intake_women_30, daily_intake_men_30], index = [\"daily_intake_women_30\", \"daily_intake_men_30\"])\n",
    "#df.to_csv(\"daily_intake_first_attempt.csv\")"
   ]
  },
  {
   "cell_type": "code",
   "execution_count": 13,
   "metadata": {},
   "outputs": [
    {
     "output_type": "execute_result",
     "data": {
      "text/plain": [
       "                         Protein  \\\n",
       "daily_intake_women_30  46 g/day*   \n",
       "daily_intake_men_30    64 g/day*   \n",
       "\n",
       "                      Fluids(Including plain water, milk and other drinks)  \\\n",
       "daily_intake_women_30                                        2.1 L/day**     \n",
       "daily_intake_men_30                                          2.3 L/day**     \n",
       "\n",
       "                            Fibre                          Vitamin A  \\\n",
       "daily_intake_women_30  25 g/day**  700 μg/day of retinol equivalents   \n",
       "daily_intake_men_30    30 g/day**  900 μg/day of retinol equivalents   \n",
       "\n",
       "                           Thiamin   Riboflavin  \\\n",
       "daily_intake_women_30  1.1 mg/day*  1.1 mg/day*   \n",
       "daily_intake_men_30    1.2 mg/day*  1.3 mg/day*   \n",
       "\n",
       "                                                Niacin   Vitamin B6  \\\n",
       "daily_intake_women_30  14 mg/day of niacin equivalents  1.3 mg/day*   \n",
       "daily_intake_men_30    16 mg/day of niacin equivalents  1.3 mg/day*   \n",
       "\n",
       "                       Vitamin B12                                    Folate  \\\n",
       "daily_intake_women_30  2.4 μg/day*  400 μg/day as dietary folate equivalents   \n",
       "daily_intake_men_30    2.4 μg/day*  400 μg/day as dietary folate equivalents   \n",
       "\n",
       "                        Vitamin C       Calcium       Iodine        Iron  \\\n",
       "daily_intake_women_30  45 mg/day*  1000 mg/day*  150 μg/day*  18 mg/day*   \n",
       "daily_intake_men_30    45 mg/day*  1000 mg/day*  150 μg/day*   8 mg/day*   \n",
       "\n",
       "                         Magnesium     Potassium           Sodium        Zinc  \n",
       "daily_intake_women_30  310 mg/day*  2800 mg/day*  460-920 mg/day*   8 mg/day*  \n",
       "daily_intake_men_30    400 mg/day*  3800 mg/day*  460-920 mg/day*  14 mg/day*  "
      ],
      "text/html": "<div>\n<style scoped>\n    .dataframe tbody tr th:only-of-type {\n        vertical-align: middle;\n    }\n\n    .dataframe tbody tr th {\n        vertical-align: top;\n    }\n\n    .dataframe thead th {\n        text-align: right;\n    }\n</style>\n<table border=\"1\" class=\"dataframe\">\n  <thead>\n    <tr style=\"text-align: right;\">\n      <th></th>\n      <th>Protein</th>\n      <th>Fluids(Including plain water, milk and other drinks)</th>\n      <th>Fibre</th>\n      <th>Vitamin A</th>\n      <th>Thiamin</th>\n      <th>Riboflavin</th>\n      <th>Niacin</th>\n      <th>Vitamin B6</th>\n      <th>Vitamin B12</th>\n      <th>Folate</th>\n      <th>Vitamin C</th>\n      <th>Calcium</th>\n      <th>Iodine</th>\n      <th>Iron</th>\n      <th>Magnesium</th>\n      <th>Potassium</th>\n      <th>Sodium</th>\n      <th>Zinc</th>\n    </tr>\n  </thead>\n  <tbody>\n    <tr>\n      <th>daily_intake_women_30</th>\n      <td>46 g/day*</td>\n      <td>2.1 L/day**</td>\n      <td>25 g/day**</td>\n      <td>700 μg/day of retinol equivalents</td>\n      <td>1.1 mg/day*</td>\n      <td>1.1 mg/day*</td>\n      <td>14 mg/day of niacin equivalents</td>\n      <td>1.3 mg/day*</td>\n      <td>2.4 μg/day*</td>\n      <td>400 μg/day as dietary folate equivalents</td>\n      <td>45 mg/day*</td>\n      <td>1000 mg/day*</td>\n      <td>150 μg/day*</td>\n      <td>18 mg/day*</td>\n      <td>310 mg/day*</td>\n      <td>2800 mg/day*</td>\n      <td>460-920 mg/day*</td>\n      <td>8 mg/day*</td>\n    </tr>\n    <tr>\n      <th>daily_intake_men_30</th>\n      <td>64 g/day*</td>\n      <td>2.3 L/day**</td>\n      <td>30 g/day**</td>\n      <td>900 μg/day of retinol equivalents</td>\n      <td>1.2 mg/day*</td>\n      <td>1.3 mg/day*</td>\n      <td>16 mg/day of niacin equivalents</td>\n      <td>1.3 mg/day*</td>\n      <td>2.4 μg/day*</td>\n      <td>400 μg/day as dietary folate equivalents</td>\n      <td>45 mg/day*</td>\n      <td>1000 mg/day*</td>\n      <td>150 μg/day*</td>\n      <td>8 mg/day*</td>\n      <td>400 mg/day*</td>\n      <td>3800 mg/day*</td>\n      <td>460-920 mg/day*</td>\n      <td>14 mg/day*</td>\n    </tr>\n  </tbody>\n</table>\n</div>"
     },
     "metadata": {},
     "execution_count": 13
    }
   ],
   "source": [
    "df"
   ]
  },
  {
   "cell_type": "code",
   "execution_count": 24,
   "metadata": {},
   "outputs": [],
   "source": [
    "def num_cleaning(x):\n",
    "    try:\n",
    "        return re.match(r'[\\d]*[\\.\\d]*', x)[0]\n",
    "    except:\n",
    "        return x"
   ]
  },
  {
   "cell_type": "code",
   "execution_count": 32,
   "metadata": {},
   "outputs": [],
   "source": [
    "df2 = df.applymap(num_cleaning)\n",
    "df2.to_csv(\"cleaned_data.csv\")"
   ]
  },
  {
   "cell_type": "code",
   "execution_count": 30,
   "metadata": {},
   "outputs": [
    {
     "output_type": "execute_result",
     "data": {
      "text/plain": [
       "                         Protein  \\\n",
       "daily_intake_women_30  46 g/day*   \n",
       "daily_intake_men_30    64 g/day*   \n",
       "\n",
       "                      Fluids(Including plain water, milk and other drinks)  \\\n",
       "daily_intake_women_30                                        2.1 L/day**     \n",
       "daily_intake_men_30                                          2.3 L/day**     \n",
       "\n",
       "                            Fibre                          Vitamin A  \\\n",
       "daily_intake_women_30  25 g/day**  700 μg/day of retinol equivalents   \n",
       "daily_intake_men_30    30 g/day**  900 μg/day of retinol equivalents   \n",
       "\n",
       "                           Thiamin   Riboflavin  \\\n",
       "daily_intake_women_30  1.1 mg/day*  1.1 mg/day*   \n",
       "daily_intake_men_30    1.2 mg/day*  1.3 mg/day*   \n",
       "\n",
       "                                                Niacin   Vitamin B6  \\\n",
       "daily_intake_women_30  14 mg/day of niacin equivalents  1.3 mg/day*   \n",
       "daily_intake_men_30    16 mg/day of niacin equivalents  1.3 mg/day*   \n",
       "\n",
       "                       Vitamin B12                                    Folate  \\\n",
       "daily_intake_women_30  2.4 μg/day*  400 μg/day as dietary folate equivalents   \n",
       "daily_intake_men_30    2.4 μg/day*  400 μg/day as dietary folate equivalents   \n",
       "\n",
       "                        Vitamin C       Calcium       Iodine        Iron  \\\n",
       "daily_intake_women_30  45 mg/day*  1000 mg/day*  150 μg/day*  18 mg/day*   \n",
       "daily_intake_men_30    45 mg/day*  1000 mg/day*  150 μg/day*   8 mg/day*   \n",
       "\n",
       "                         Magnesium     Potassium           Sodium        Zinc  \n",
       "daily_intake_women_30  310 mg/day*  2800 mg/day*  460-920 mg/day*   8 mg/day*  \n",
       "daily_intake_men_30    400 mg/day*  3800 mg/day*  460-920 mg/day*  14 mg/day*  "
      ],
      "text/html": "<div>\n<style scoped>\n    .dataframe tbody tr th:only-of-type {\n        vertical-align: middle;\n    }\n\n    .dataframe tbody tr th {\n        vertical-align: top;\n    }\n\n    .dataframe thead th {\n        text-align: right;\n    }\n</style>\n<table border=\"1\" class=\"dataframe\">\n  <thead>\n    <tr style=\"text-align: right;\">\n      <th></th>\n      <th>Protein</th>\n      <th>Fluids(Including plain water, milk and other drinks)</th>\n      <th>Fibre</th>\n      <th>Vitamin A</th>\n      <th>Thiamin</th>\n      <th>Riboflavin</th>\n      <th>Niacin</th>\n      <th>Vitamin B6</th>\n      <th>Vitamin B12</th>\n      <th>Folate</th>\n      <th>Vitamin C</th>\n      <th>Calcium</th>\n      <th>Iodine</th>\n      <th>Iron</th>\n      <th>Magnesium</th>\n      <th>Potassium</th>\n      <th>Sodium</th>\n      <th>Zinc</th>\n    </tr>\n  </thead>\n  <tbody>\n    <tr>\n      <th>daily_intake_women_30</th>\n      <td>46 g/day*</td>\n      <td>2.1 L/day**</td>\n      <td>25 g/day**</td>\n      <td>700 μg/day of retinol equivalents</td>\n      <td>1.1 mg/day*</td>\n      <td>1.1 mg/day*</td>\n      <td>14 mg/day of niacin equivalents</td>\n      <td>1.3 mg/day*</td>\n      <td>2.4 μg/day*</td>\n      <td>400 μg/day as dietary folate equivalents</td>\n      <td>45 mg/day*</td>\n      <td>1000 mg/day*</td>\n      <td>150 μg/day*</td>\n      <td>18 mg/day*</td>\n      <td>310 mg/day*</td>\n      <td>2800 mg/day*</td>\n      <td>460-920 mg/day*</td>\n      <td>8 mg/day*</td>\n    </tr>\n    <tr>\n      <th>daily_intake_men_30</th>\n      <td>64 g/day*</td>\n      <td>2.3 L/day**</td>\n      <td>30 g/day**</td>\n      <td>900 μg/day of retinol equivalents</td>\n      <td>1.2 mg/day*</td>\n      <td>1.3 mg/day*</td>\n      <td>16 mg/day of niacin equivalents</td>\n      <td>1.3 mg/day*</td>\n      <td>2.4 μg/day*</td>\n      <td>400 μg/day as dietary folate equivalents</td>\n      <td>45 mg/day*</td>\n      <td>1000 mg/day*</td>\n      <td>150 μg/day*</td>\n      <td>8 mg/day*</td>\n      <td>400 mg/day*</td>\n      <td>3800 mg/day*</td>\n      <td>460-920 mg/day*</td>\n      <td>14 mg/day*</td>\n    </tr>\n  </tbody>\n</table>\n</div>"
     },
     "metadata": {},
     "execution_count": 30
    }
   ],
   "source": [
    "df"
   ]
  },
  {
   "cell_type": "code",
   "execution_count": null,
   "metadata": {},
   "outputs": [],
   "source": []
  }
 ]
}