{
 "metadata": {
  "language_info": {
   "codemirror_mode": {
    "name": "ipython",
    "version": 3
   },
   "file_extension": ".py",
   "mimetype": "text/x-python",
   "name": "python",
   "nbconvert_exporter": "python",
   "pygments_lexer": "ipython3",
   "version": "3.7.4"
  },
  "orig_nbformat": 2,
  "kernelspec": {
   "name": "python374jvsc74a57bd0aee8b7b246df8f9039afb4144a1f6fd8d2ca17a180786b69acc140d282b71a49",
   "display_name": "Python 3.7.4 64-bit"
  },
  "metadata": {
   "interpreter": {
    "hash": "aee8b7b246df8f9039afb4144a1f6fd8d2ca17a180786b69acc140d282b71a49"
   }
  }
 },
 "nbformat": 4,
 "nbformat_minor": 2,
 "cells": [
  {
   "source": [
    "![imagen](../resources/Nutrientes_units.png)"
   ],
   "cell_type": "markdown",
   "metadata": {}
  },
  {
   "cell_type": "code",
   "execution_count": 33,
   "metadata": {},
   "outputs": [],
   "source": [
    "# Import libraries\n",
    "import pandas as pd\n",
    "import numpy as np\n",
    "\n",
    "import matplotlib.pyplot as plt\n",
    "import seaborn as sns\n",
    "\n",
    "import re\n",
    "from varname import nameof\n",
    "\n",
    "import requests\n",
    "from bs4 import BeautifulSoup\n",
    "import html\n",
    "import lxml"
   ]
  },
  {
   "cell_type": "code",
   "execution_count": 2,
   "metadata": {},
   "outputs": [
    {
     "output_type": "execute_result",
     "data": {
      "text/plain": [
       "                serving_size  calories total_fat saturated_fat cholesterol  \\\n",
       "name                                                                         \n",
       "Cornstarch             100 g       381      0.1g           NaN           0   \n",
       "Nuts, pecans           100 g       691       72g          6.2g           0   \n",
       "Eggplant, raw          100 g        25      0.2g           NaN           0   \n",
       "Teff, uncooked         100 g       367      2.4g          0.4g           0   \n",
       "Sherbet, orange        100 g       144        2g          1.2g         1mg   \n",
       "\n",
       "                   sodium  choline     folate folic_acid    niacin  ...  \\\n",
       "name                                                                ...   \n",
       "Cornstarch        9.00 mg   0.4 mg   0.00 mcg   0.00 mcg  0.000 mg  ...   \n",
       "Nuts, pecans      0.00 mg  40.5 mg  22.00 mcg   0.00 mcg  1.167 mg  ...   \n",
       "Eggplant, raw     2.00 mg   6.9 mg  22.00 mcg   0.00 mcg  0.649 mg  ...   \n",
       "Teff, uncooked   12.00 mg  13.1 mg          0          0  3.363 mg  ...   \n",
       "Sherbet, orange  46.00 mg   7.7 mg   4.00 mcg   0.00 mcg  0.063 mg  ...   \n",
       "\n",
       "                     fat saturated_fatty_acids monounsaturated_fatty_acids  \\\n",
       "name                                                                         \n",
       "Cornstarch        0.05 g               0.009 g                     0.016 g   \n",
       "Nuts, pecans     71.97 g               6.180 g                    40.801 g   \n",
       "Eggplant, raw     0.18 g               0.034 g                     0.016 g   \n",
       "Teff, uncooked    2.38 g               0.449 g                     0.589 g   \n",
       "Sherbet, orange   2.00 g               1.160 g                     0.530 g   \n",
       "\n",
       "                polyunsaturated_fatty_acids fatty_acids_total_trans alcohol  \\\n",
       "name                                                                          \n",
       "Cornstarch                          0.025 g                 0.00 mg   0.0 g   \n",
       "Nuts, pecans                       21.614 g                 0.00 mg   0.0 g   \n",
       "Eggplant, raw                       0.076 g                 0.00 mg   0.0 g   \n",
       "Teff, uncooked                      1.071 g                       0       0   \n",
       "Sherbet, orange                     0.080 g                 1.00 mg   0.0 g   \n",
       "\n",
       "                    ash caffeine theobromine    water  \n",
       "name                                                   \n",
       "Cornstarch       0.09 g  0.00 mg     0.00 mg   8.32 g  \n",
       "Nuts, pecans     1.49 g  0.00 mg     0.00 mg   3.52 g  \n",
       "Eggplant, raw    0.66 g  0.00 mg     0.00 mg  92.30 g  \n",
       "Teff, uncooked   2.37 g        0           0   8.82 g  \n",
       "Sherbet, orange  0.40 g  0.00 mg     0.00 mg  66.10 g  \n",
       "\n",
       "[5 rows x 75 columns]"
      ],
      "text/html": "<div>\n<style scoped>\n    .dataframe tbody tr th:only-of-type {\n        vertical-align: middle;\n    }\n\n    .dataframe tbody tr th {\n        vertical-align: top;\n    }\n\n    .dataframe thead th {\n        text-align: right;\n    }\n</style>\n<table border=\"1\" class=\"dataframe\">\n  <thead>\n    <tr style=\"text-align: right;\">\n      <th></th>\n      <th>serving_size</th>\n      <th>calories</th>\n      <th>total_fat</th>\n      <th>saturated_fat</th>\n      <th>cholesterol</th>\n      <th>sodium</th>\n      <th>choline</th>\n      <th>folate</th>\n      <th>folic_acid</th>\n      <th>niacin</th>\n      <th>...</th>\n      <th>fat</th>\n      <th>saturated_fatty_acids</th>\n      <th>monounsaturated_fatty_acids</th>\n      <th>polyunsaturated_fatty_acids</th>\n      <th>fatty_acids_total_trans</th>\n      <th>alcohol</th>\n      <th>ash</th>\n      <th>caffeine</th>\n      <th>theobromine</th>\n      <th>water</th>\n    </tr>\n    <tr>\n      <th>name</th>\n      <th></th>\n      <th></th>\n      <th></th>\n      <th></th>\n      <th></th>\n      <th></th>\n      <th></th>\n      <th></th>\n      <th></th>\n      <th></th>\n      <th></th>\n      <th></th>\n      <th></th>\n      <th></th>\n      <th></th>\n      <th></th>\n      <th></th>\n      <th></th>\n      <th></th>\n      <th></th>\n      <th></th>\n    </tr>\n  </thead>\n  <tbody>\n    <tr>\n      <th>Cornstarch</th>\n      <td>100 g</td>\n      <td>381</td>\n      <td>0.1g</td>\n      <td>NaN</td>\n      <td>0</td>\n      <td>9.00 mg</td>\n      <td>0.4 mg</td>\n      <td>0.00 mcg</td>\n      <td>0.00 mcg</td>\n      <td>0.000 mg</td>\n      <td>...</td>\n      <td>0.05 g</td>\n      <td>0.009 g</td>\n      <td>0.016 g</td>\n      <td>0.025 g</td>\n      <td>0.00 mg</td>\n      <td>0.0 g</td>\n      <td>0.09 g</td>\n      <td>0.00 mg</td>\n      <td>0.00 mg</td>\n      <td>8.32 g</td>\n    </tr>\n    <tr>\n      <th>Nuts, pecans</th>\n      <td>100 g</td>\n      <td>691</td>\n      <td>72g</td>\n      <td>6.2g</td>\n      <td>0</td>\n      <td>0.00 mg</td>\n      <td>40.5 mg</td>\n      <td>22.00 mcg</td>\n      <td>0.00 mcg</td>\n      <td>1.167 mg</td>\n      <td>...</td>\n      <td>71.97 g</td>\n      <td>6.180 g</td>\n      <td>40.801 g</td>\n      <td>21.614 g</td>\n      <td>0.00 mg</td>\n      <td>0.0 g</td>\n      <td>1.49 g</td>\n      <td>0.00 mg</td>\n      <td>0.00 mg</td>\n      <td>3.52 g</td>\n    </tr>\n    <tr>\n      <th>Eggplant, raw</th>\n      <td>100 g</td>\n      <td>25</td>\n      <td>0.2g</td>\n      <td>NaN</td>\n      <td>0</td>\n      <td>2.00 mg</td>\n      <td>6.9 mg</td>\n      <td>22.00 mcg</td>\n      <td>0.00 mcg</td>\n      <td>0.649 mg</td>\n      <td>...</td>\n      <td>0.18 g</td>\n      <td>0.034 g</td>\n      <td>0.016 g</td>\n      <td>0.076 g</td>\n      <td>0.00 mg</td>\n      <td>0.0 g</td>\n      <td>0.66 g</td>\n      <td>0.00 mg</td>\n      <td>0.00 mg</td>\n      <td>92.30 g</td>\n    </tr>\n    <tr>\n      <th>Teff, uncooked</th>\n      <td>100 g</td>\n      <td>367</td>\n      <td>2.4g</td>\n      <td>0.4g</td>\n      <td>0</td>\n      <td>12.00 mg</td>\n      <td>13.1 mg</td>\n      <td>0</td>\n      <td>0</td>\n      <td>3.363 mg</td>\n      <td>...</td>\n      <td>2.38 g</td>\n      <td>0.449 g</td>\n      <td>0.589 g</td>\n      <td>1.071 g</td>\n      <td>0</td>\n      <td>0</td>\n      <td>2.37 g</td>\n      <td>0</td>\n      <td>0</td>\n      <td>8.82 g</td>\n    </tr>\n    <tr>\n      <th>Sherbet, orange</th>\n      <td>100 g</td>\n      <td>144</td>\n      <td>2g</td>\n      <td>1.2g</td>\n      <td>1mg</td>\n      <td>46.00 mg</td>\n      <td>7.7 mg</td>\n      <td>4.00 mcg</td>\n      <td>0.00 mcg</td>\n      <td>0.063 mg</td>\n      <td>...</td>\n      <td>2.00 g</td>\n      <td>1.160 g</td>\n      <td>0.530 g</td>\n      <td>0.080 g</td>\n      <td>1.00 mg</td>\n      <td>0.0 g</td>\n      <td>0.40 g</td>\n      <td>0.00 mg</td>\n      <td>0.00 mg</td>\n      <td>66.10 g</td>\n    </tr>\n  </tbody>\n</table>\n<p>5 rows × 75 columns</p>\n</div>"
     },
     "metadata": {},
     "execution_count": 2
    }
   ],
   "source": [
    "nutrition = pd.read_csv(\"../data/Nutritional_values.csv\")\n",
    "nutrition.set_index(\"name\", inplace = True)\n",
    "nutrition.drop(\"Unnamed: 0\", axis = 1, inplace = True)\n",
    "nutrition.head()"
   ]
  },
  {
   "cell_type": "code",
   "execution_count": 3,
   "metadata": {},
   "outputs": [],
   "source": [
    "key_nutrients = [\"protein\", \"water\", \"fiber\", \"vitamin_a\", \"thiamin\", \"riboflavin\", \"niacin\", \"vitamin_b6\", \"vitamin_b12\", \"folate\", \"vitamin_c\", \"calcium\", \"irom\", \"magnesium\", \"potassium\", \"sodium\", \"zink\"]"
   ]
  },
  {
   "cell_type": "code",
   "execution_count": 4,
   "metadata": {},
   "outputs": [
    {
     "output_type": "execute_result",
     "data": {
      "text/plain": [
       "             protein   water  fiber vitamin_a   thiamin riboflavin    niacin  \\\n",
       "name                                                                           \n",
       "Cornstarch    0.26 g  8.32 g  0.9 g   0.00 IU  0.000 mg   0.000 mg  0.000 mg   \n",
       "Nuts, pecans  9.17 g  3.52 g  9.6 g  56.00 IU  0.660 mg   0.130 mg  1.167 mg   \n",
       "\n",
       "             vitamin_b6 vitamin_b12     folate vitamin_c   calcium     irom  \\\n",
       "name                                                                          \n",
       "Cornstarch     0.000 mg    0.00 mcg   0.00 mcg    0.0 mg   2.00 mg  0.47 mg   \n",
       "Nuts, pecans   0.210 mg    0.00 mcg  22.00 mcg    1.1 mg  70.00 mg  2.53 mg   \n",
       "\n",
       "              magnesium  potassium   sodium     zink  \n",
       "name                                                  \n",
       "Cornstarch      3.00 mg    3.00 mg  9.00 mg  0.06 mg  \n",
       "Nuts, pecans  121.00 mg  410.00 mg  0.00 mg  4.53 mg  "
      ],
      "text/html": "<div>\n<style scoped>\n    .dataframe tbody tr th:only-of-type {\n        vertical-align: middle;\n    }\n\n    .dataframe tbody tr th {\n        vertical-align: top;\n    }\n\n    .dataframe thead th {\n        text-align: right;\n    }\n</style>\n<table border=\"1\" class=\"dataframe\">\n  <thead>\n    <tr style=\"text-align: right;\">\n      <th></th>\n      <th>protein</th>\n      <th>water</th>\n      <th>fiber</th>\n      <th>vitamin_a</th>\n      <th>thiamin</th>\n      <th>riboflavin</th>\n      <th>niacin</th>\n      <th>vitamin_b6</th>\n      <th>vitamin_b12</th>\n      <th>folate</th>\n      <th>vitamin_c</th>\n      <th>calcium</th>\n      <th>irom</th>\n      <th>magnesium</th>\n      <th>potassium</th>\n      <th>sodium</th>\n      <th>zink</th>\n    </tr>\n    <tr>\n      <th>name</th>\n      <th></th>\n      <th></th>\n      <th></th>\n      <th></th>\n      <th></th>\n      <th></th>\n      <th></th>\n      <th></th>\n      <th></th>\n      <th></th>\n      <th></th>\n      <th></th>\n      <th></th>\n      <th></th>\n      <th></th>\n      <th></th>\n      <th></th>\n    </tr>\n  </thead>\n  <tbody>\n    <tr>\n      <th>Cornstarch</th>\n      <td>0.26 g</td>\n      <td>8.32 g</td>\n      <td>0.9 g</td>\n      <td>0.00 IU</td>\n      <td>0.000 mg</td>\n      <td>0.000 mg</td>\n      <td>0.000 mg</td>\n      <td>0.000 mg</td>\n      <td>0.00 mcg</td>\n      <td>0.00 mcg</td>\n      <td>0.0 mg</td>\n      <td>2.00 mg</td>\n      <td>0.47 mg</td>\n      <td>3.00 mg</td>\n      <td>3.00 mg</td>\n      <td>9.00 mg</td>\n      <td>0.06 mg</td>\n    </tr>\n    <tr>\n      <th>Nuts, pecans</th>\n      <td>9.17 g</td>\n      <td>3.52 g</td>\n      <td>9.6 g</td>\n      <td>56.00 IU</td>\n      <td>0.660 mg</td>\n      <td>0.130 mg</td>\n      <td>1.167 mg</td>\n      <td>0.210 mg</td>\n      <td>0.00 mcg</td>\n      <td>22.00 mcg</td>\n      <td>1.1 mg</td>\n      <td>70.00 mg</td>\n      <td>2.53 mg</td>\n      <td>121.00 mg</td>\n      <td>410.00 mg</td>\n      <td>0.00 mg</td>\n      <td>4.53 mg</td>\n    </tr>\n  </tbody>\n</table>\n</div>"
     },
     "metadata": {},
     "execution_count": 4
    }
   ],
   "source": [
    "nutrition[key_nutrients].head(2)"
   ]
  },
  {
   "source": [
    "- protein -> ok\n",
    "- water -> not ok -> needs conversion\n",
    "- fiber -> ok\n",
    "- vitamin_a -> check -> needs conversion\n",
    "- thiamin -> ok\n",
    "- rivoflabin -> ok\n",
    "- niacin -> ok\n",
    "- vitamin_b6 -> ok\n",
    "- vitamin_b12 -> check -> ok\n",
    "- folate -> check -> ok\n",
    "- vitamin_c -> ok\n",
    "- calcium -> ok\n",
    "- irom -> ok\n",
    "- magnesium -> ok\n",
    "- potassium -> ok\n",
    "- sodium -> ok\n",
    "- zinc -> ok\n",
    "\n",
    "\n",
    "mcg = µg\n",
    "\n",
    "iu = international unit\n",
    "\n",
    "https://www.greenfacts.org/glossary/mno/mass-units.htm\n",
    "\n",
    "https://ods.od.nih.gov/factsheets/VitaminA-HealthProfessional/"
   ],
   "cell_type": "markdown",
   "metadata": {}
  },
  {
   "source": [],
   "cell_type": "markdown",
   "metadata": {}
  },
  {
   "cell_type": "code",
   "execution_count": 5,
   "metadata": {},
   "outputs": [
    {
     "output_type": "execute_result",
     "data": {
      "text/plain": [
       "                serving_size  calories total_fat saturated_fat cholesterol  \\\n",
       "name                                                                         \n",
       "Cornstarch             100 g       381      0.1g           NaN           0   \n",
       "Nuts, pecans           100 g       691       72g          6.2g           0   \n",
       "Eggplant, raw          100 g        25      0.2g           NaN           0   \n",
       "Teff, uncooked         100 g       367      2.4g          0.4g           0   \n",
       "Sherbet, orange        100 g       144        2g          1.2g         1mg   \n",
       "\n",
       "                   sodium  choline     folate folic_acid    niacin  ...  \\\n",
       "name                                                                ...   \n",
       "Cornstarch        9.00 mg   0.4 mg   0.00 mcg   0.00 mcg  0.000 mg  ...   \n",
       "Nuts, pecans      0.00 mg  40.5 mg  22.00 mcg   0.00 mcg  1.167 mg  ...   \n",
       "Eggplant, raw     2.00 mg   6.9 mg  22.00 mcg   0.00 mcg  0.649 mg  ...   \n",
       "Teff, uncooked   12.00 mg  13.1 mg          0          0  3.363 mg  ...   \n",
       "Sherbet, orange  46.00 mg   7.7 mg   4.00 mcg   0.00 mcg  0.063 mg  ...   \n",
       "\n",
       "                     fat saturated_fatty_acids monounsaturated_fatty_acids  \\\n",
       "name                                                                         \n",
       "Cornstarch        0.05 g               0.009 g                     0.016 g   \n",
       "Nuts, pecans     71.97 g               6.180 g                    40.801 g   \n",
       "Eggplant, raw     0.18 g               0.034 g                     0.016 g   \n",
       "Teff, uncooked    2.38 g               0.449 g                     0.589 g   \n",
       "Sherbet, orange   2.00 g               1.160 g                     0.530 g   \n",
       "\n",
       "                polyunsaturated_fatty_acids fatty_acids_total_trans alcohol  \\\n",
       "name                                                                          \n",
       "Cornstarch                          0.025 g                 0.00 mg   0.0 g   \n",
       "Nuts, pecans                       21.614 g                 0.00 mg   0.0 g   \n",
       "Eggplant, raw                       0.076 g                 0.00 mg   0.0 g   \n",
       "Teff, uncooked                      1.071 g                       0       0   \n",
       "Sherbet, orange                     0.080 g                 1.00 mg   0.0 g   \n",
       "\n",
       "                    ash caffeine theobromine    water  \n",
       "name                                                   \n",
       "Cornstarch       0.09 g  0.00 mg     0.00 mg   8.32 g  \n",
       "Nuts, pecans     1.49 g  0.00 mg     0.00 mg   3.52 g  \n",
       "Eggplant, raw    0.66 g  0.00 mg     0.00 mg  92.30 g  \n",
       "Teff, uncooked   2.37 g        0           0   8.82 g  \n",
       "Sherbet, orange  0.40 g  0.00 mg     0.00 mg  66.10 g  \n",
       "\n",
       "[5 rows x 75 columns]"
      ],
      "text/html": "<div>\n<style scoped>\n    .dataframe tbody tr th:only-of-type {\n        vertical-align: middle;\n    }\n\n    .dataframe tbody tr th {\n        vertical-align: top;\n    }\n\n    .dataframe thead th {\n        text-align: right;\n    }\n</style>\n<table border=\"1\" class=\"dataframe\">\n  <thead>\n    <tr style=\"text-align: right;\">\n      <th></th>\n      <th>serving_size</th>\n      <th>calories</th>\n      <th>total_fat</th>\n      <th>saturated_fat</th>\n      <th>cholesterol</th>\n      <th>sodium</th>\n      <th>choline</th>\n      <th>folate</th>\n      <th>folic_acid</th>\n      <th>niacin</th>\n      <th>...</th>\n      <th>fat</th>\n      <th>saturated_fatty_acids</th>\n      <th>monounsaturated_fatty_acids</th>\n      <th>polyunsaturated_fatty_acids</th>\n      <th>fatty_acids_total_trans</th>\n      <th>alcohol</th>\n      <th>ash</th>\n      <th>caffeine</th>\n      <th>theobromine</th>\n      <th>water</th>\n    </tr>\n    <tr>\n      <th>name</th>\n      <th></th>\n      <th></th>\n      <th></th>\n      <th></th>\n      <th></th>\n      <th></th>\n      <th></th>\n      <th></th>\n      <th></th>\n      <th></th>\n      <th></th>\n      <th></th>\n      <th></th>\n      <th></th>\n      <th></th>\n      <th></th>\n      <th></th>\n      <th></th>\n      <th></th>\n      <th></th>\n      <th></th>\n    </tr>\n  </thead>\n  <tbody>\n    <tr>\n      <th>Cornstarch</th>\n      <td>100 g</td>\n      <td>381</td>\n      <td>0.1g</td>\n      <td>NaN</td>\n      <td>0</td>\n      <td>9.00 mg</td>\n      <td>0.4 mg</td>\n      <td>0.00 mcg</td>\n      <td>0.00 mcg</td>\n      <td>0.000 mg</td>\n      <td>...</td>\n      <td>0.05 g</td>\n      <td>0.009 g</td>\n      <td>0.016 g</td>\n      <td>0.025 g</td>\n      <td>0.00 mg</td>\n      <td>0.0 g</td>\n      <td>0.09 g</td>\n      <td>0.00 mg</td>\n      <td>0.00 mg</td>\n      <td>8.32 g</td>\n    </tr>\n    <tr>\n      <th>Nuts, pecans</th>\n      <td>100 g</td>\n      <td>691</td>\n      <td>72g</td>\n      <td>6.2g</td>\n      <td>0</td>\n      <td>0.00 mg</td>\n      <td>40.5 mg</td>\n      <td>22.00 mcg</td>\n      <td>0.00 mcg</td>\n      <td>1.167 mg</td>\n      <td>...</td>\n      <td>71.97 g</td>\n      <td>6.180 g</td>\n      <td>40.801 g</td>\n      <td>21.614 g</td>\n      <td>0.00 mg</td>\n      <td>0.0 g</td>\n      <td>1.49 g</td>\n      <td>0.00 mg</td>\n      <td>0.00 mg</td>\n      <td>3.52 g</td>\n    </tr>\n    <tr>\n      <th>Eggplant, raw</th>\n      <td>100 g</td>\n      <td>25</td>\n      <td>0.2g</td>\n      <td>NaN</td>\n      <td>0</td>\n      <td>2.00 mg</td>\n      <td>6.9 mg</td>\n      <td>22.00 mcg</td>\n      <td>0.00 mcg</td>\n      <td>0.649 mg</td>\n      <td>...</td>\n      <td>0.18 g</td>\n      <td>0.034 g</td>\n      <td>0.016 g</td>\n      <td>0.076 g</td>\n      <td>0.00 mg</td>\n      <td>0.0 g</td>\n      <td>0.66 g</td>\n      <td>0.00 mg</td>\n      <td>0.00 mg</td>\n      <td>92.30 g</td>\n    </tr>\n    <tr>\n      <th>Teff, uncooked</th>\n      <td>100 g</td>\n      <td>367</td>\n      <td>2.4g</td>\n      <td>0.4g</td>\n      <td>0</td>\n      <td>12.00 mg</td>\n      <td>13.1 mg</td>\n      <td>0</td>\n      <td>0</td>\n      <td>3.363 mg</td>\n      <td>...</td>\n      <td>2.38 g</td>\n      <td>0.449 g</td>\n      <td>0.589 g</td>\n      <td>1.071 g</td>\n      <td>0</td>\n      <td>0</td>\n      <td>2.37 g</td>\n      <td>0</td>\n      <td>0</td>\n      <td>8.82 g</td>\n    </tr>\n    <tr>\n      <th>Sherbet, orange</th>\n      <td>100 g</td>\n      <td>144</td>\n      <td>2g</td>\n      <td>1.2g</td>\n      <td>1mg</td>\n      <td>46.00 mg</td>\n      <td>7.7 mg</td>\n      <td>4.00 mcg</td>\n      <td>0.00 mcg</td>\n      <td>0.063 mg</td>\n      <td>...</td>\n      <td>2.00 g</td>\n      <td>1.160 g</td>\n      <td>0.530 g</td>\n      <td>0.080 g</td>\n      <td>1.00 mg</td>\n      <td>0.0 g</td>\n      <td>0.40 g</td>\n      <td>0.00 mg</td>\n      <td>0.00 mg</td>\n      <td>66.10 g</td>\n    </tr>\n  </tbody>\n</table>\n<p>5 rows × 75 columns</p>\n</div>"
     },
     "metadata": {},
     "execution_count": 5
    }
   ],
   "source": [
    "nutrition.head()"
   ]
  },
  {
   "cell_type": "code",
   "execution_count": 7,
   "metadata": {},
   "outputs": [
    {
     "output_type": "execute_result",
     "data": {
      "text/plain": [
       "serving_size       100 g\n",
       "calories             691\n",
       "total_fat            72g\n",
       "saturated_fat       6.2g\n",
       "cholesterol            0\n",
       "                  ...   \n",
       "alcohol            0.0 g\n",
       "ash               1.49 g\n",
       "caffeine         0.00 mg\n",
       "theobromine      0.00 mg\n",
       "water             3.52 g\n",
       "Name: Nuts, pecans, Length: 75, dtype: object"
      ]
     },
     "metadata": {},
     "execution_count": 7
    }
   ],
   "source": [
    "nutrition.iloc[1] / "
   ]
  },
  {
   "cell_type": "code",
   "execution_count": 8,
   "metadata": {},
   "outputs": [],
   "source": [
    "def num_cleaning(x):\n",
    "    try:\n",
    "        return re.match(r'[\\d]*[\\.\\d]*', x)[0]\n",
    "    except:\n",
    "        return x\n",
    "\n",
    "def to_float(x):\n",
    "    try:\n",
    "        return float(x)\n",
    "    except:\n",
    "        return x"
   ]
  },
  {
   "cell_type": "code",
   "execution_count": 12,
   "metadata": {},
   "outputs": [],
   "source": [
    "nutrition = nutrition.applymap(num_cleaning).applymap(to_float)"
   ]
  },
  {
   "cell_type": "code",
   "execution_count": 29,
   "metadata": {},
   "outputs": [],
   "source": [
    "# Checking how to divide two rows, as I will need it to compare the amount of nutrientes for each food compared to the recommended daily intake"
   ]
  },
  {
   "cell_type": "code",
   "execution_count": 15,
   "metadata": {},
   "outputs": [
    {
     "output_type": "execute_result",
     "data": {
      "text/plain": [
       "serving_size     100.00\n",
       "calories         381.00\n",
       "total_fat          0.10\n",
       "saturated_fat       NaN\n",
       "cholesterol        0.00\n",
       "                  ...  \n",
       "alcohol            0.00\n",
       "ash                0.09\n",
       "caffeine           0.00\n",
       "theobromine        0.00\n",
       "water              8.32\n",
       "Name: Cornstarch, Length: 75, dtype: float64"
      ]
     },
     "metadata": {},
     "execution_count": 15
    }
   ],
   "source": [
    "nutrition.iloc[0]"
   ]
  },
  {
   "cell_type": "code",
   "execution_count": 16,
   "metadata": {},
   "outputs": [
    {
     "output_type": "execute_result",
     "data": {
      "text/plain": [
       "serving_size     100.00\n",
       "calories         691.00\n",
       "total_fat         72.00\n",
       "saturated_fat      6.20\n",
       "cholesterol        0.00\n",
       "                  ...  \n",
       "alcohol            0.00\n",
       "ash                1.49\n",
       "caffeine           0.00\n",
       "theobromine        0.00\n",
       "water              3.52\n",
       "Name: Nuts, pecans, Length: 75, dtype: float64"
      ]
     },
     "metadata": {},
     "execution_count": 16
    }
   ],
   "source": [
    "nutrition.iloc[1]"
   ]
  },
  {
   "cell_type": "code",
   "execution_count": 28,
   "metadata": {},
   "outputs": [
    {
     "output_type": "execute_result",
     "data": {
      "text/plain": [
       "0          1.0\n",
       "1     0.551375\n",
       "2     0.001389\n",
       "3          NaN\n",
       "4            -\n",
       "        ...   \n",
       "70           -\n",
       "71    0.060403\n",
       "72           -\n",
       "73           -\n",
       "74    2.363636\n",
       "Length: 75, dtype: object"
      ]
     },
     "metadata": {},
     "execution_count": 28
    }
   ],
   "source": [
    "test = pd.Series(map(lambda x, y: x / y if type(x) == float and type(y) == float and y > 0 else \"-\", nutrition.iloc[0], nutrition.iloc[1]))\n",
    "\n",
    "test"
   ]
  },
  {
   "cell_type": "code",
   "execution_count": 31,
   "metadata": {},
   "outputs": [],
   "source": [
    "def daily_intake_info(url):\n",
    "    r = requests.get(url)\n",
    "    soup = BeautifulSoup(r.text, \"lxml\")\n",
    "\n",
    "    di_table = soup.find(id = \"tbl-calc\")\n",
    "    di_rows = di_table.find_all(\"tr\")\n",
    "\n",
    "    di_dict = {}\n",
    "\n",
    "    for row in di_rows:\n",
    "        items = row.find_all(\"td\")\n",
    "        if len(items) > 1:\n",
    "            di_dict[items[0].text] = items[1].text\n",
    "\n",
    "    s = pd.Series(di_dict)\n",
    "\n",
    "    return s"
   ]
  },
  {
   "cell_type": "code",
   "execution_count": 34,
   "metadata": {},
   "outputs": [],
   "source": [
    "url_w_30 = \"https://www.eatforhealth.gov.au/node/1813927/done?sid=806757&token=05ce5572f5618ac641c9f2395b28c59f\"\n",
    "\n",
    "daily_intake_women_30 = daily_intake_info(url_w_30)"
   ]
  },
  {
   "cell_type": "code",
   "execution_count": 45,
   "metadata": {},
   "outputs": [
    {
     "output_type": "execute_result",
     "data": {
      "text/plain": [
       "Protein                                                   46.0\n",
       "Fluids(Including plain water, milk and other drinks)       2.1\n",
       "Fibre                                                     25.0\n",
       "Vitamin A                                                700.0\n",
       "Thiamin                                                    1.1\n",
       "Riboflavin                                                 1.1\n",
       "Niacin                                                    14.0\n",
       "Vitamin B6                                                 1.3\n",
       "Vitamin B12                                                2.4\n",
       "Folate                                                   400.0\n",
       "Vitamin C                                                 45.0\n",
       "Calcium                                                 1000.0\n",
       "Iodine                                                   150.0\n",
       "Iron                                                      18.0\n",
       "Magnesium                                                310.0\n",
       "Potassium                                               2800.0\n",
       "Sodium                                                   460.0\n",
       "Zinc                                                       8.0\n",
       "Name: daily_intake_women_30, dtype: float64"
      ]
     },
     "metadata": {},
     "execution_count": 45
    }
   ],
   "source": [
    "daily_intake_women_30 = daily_intake_women_30.map(num_cleaning).map(to_float)\n",
    "daily_intake_women_30"
   ]
  },
  {
   "cell_type": "code",
   "execution_count": 47,
   "metadata": {},
   "outputs": [],
   "source": [
    "daily_intake_women_30.name = \"daily_intake_women_30\""
   ]
  },
  {
   "cell_type": "code",
   "execution_count": 53,
   "metadata": {},
   "outputs": [],
   "source": [
    "daily_intake_women_30.drop(\"Iodine\", inplace = True)"
   ]
  },
  {
   "cell_type": "code",
   "execution_count": 55,
   "metadata": {},
   "outputs": [
    {
     "output_type": "execute_result",
     "data": {
      "text/plain": [
       "protein          46.0\n",
       "water             2.1\n",
       "fiber            25.0\n",
       "vitamin_a       700.0\n",
       "thiamin           1.1\n",
       "riboflavin        1.1\n",
       "niacin           14.0\n",
       "vitamin_b6        1.3\n",
       "vitamin_b12       2.4\n",
       "folate          400.0\n",
       "vitamin_c        45.0\n",
       "calcium        1000.0\n",
       "irom             18.0\n",
       "magnesium       310.0\n",
       "potassium      2800.0\n",
       "sodium          460.0\n",
       "zink              8.0\n",
       "Name: daily_intake_women_30, dtype: float64"
      ]
     },
     "metadata": {},
     "execution_count": 55
    }
   ],
   "source": [
    "daily_intake_women_30.index = key_nutrients\n",
    "daily_intake_women_30"
   ]
  },
  {
   "cell_type": "code",
   "execution_count": 49,
   "metadata": {},
   "outputs": [
    {
     "output_type": "execute_result",
     "data": {
      "text/plain": [
       "                                                    protein  water  fiber  \\\n",
       "name                                                                        \n",
       "Cornstarch                                             0.26   8.32    0.9   \n",
       "Nuts, pecans                                           9.17   3.52    9.6   \n",
       "Eggplant, raw                                          0.98  92.30    3.0   \n",
       "Teff, uncooked                                        13.30   8.82    8.0   \n",
       "Sherbet, orange                                        1.10  66.10    1.3   \n",
       "...                                                     ...    ...    ...   \n",
       "Beef, raw, all grades, trimmed to 0\" fat, separ...    23.45  72.51    0.0   \n",
       "Lamb, cooked, separable lean only, composite of...    29.59  59.95    0.0   \n",
       "Lamb, raw, separable lean and fat, composite of...    16.74  59.80    0.0   \n",
       "Beef, raw, all grades, trimmed to 0\" fat, separ...    23.37  73.43    0.0   \n",
       "Beef, raw, all grades, trimmed to 0\" fat, separ...    23.37  73.43    0.0   \n",
       "\n",
       "                                                    vitamin_a  thiamin  \\\n",
       "name                                                                     \n",
       "Cornstarch                                                0.0    0.000   \n",
       "Nuts, pecans                                             56.0    0.660   \n",
       "Eggplant, raw                                            23.0    0.039   \n",
       "Teff, uncooked                                            9.0    0.390   \n",
       "Sherbet, orange                                          46.0    0.027   \n",
       "...                                                       ...      ...   \n",
       "Beef, raw, all grades, trimmed to 0\" fat, separ...       11.0    0.063   \n",
       "Lamb, cooked, separable lean only, composite of...        0.0    0.130   \n",
       "Lamb, raw, separable lean and fat, composite of...        0.0    0.130   \n",
       "Beef, raw, all grades, trimmed to 0\" fat, separ...        4.0    0.063   \n",
       "Beef, raw, all grades, trimmed to 0\" fat, separ...        6.0    0.063   \n",
       "\n",
       "                                                    riboflavin  niacin  \\\n",
       "name                                                                     \n",
       "Cornstarch                                               0.000   0.000   \n",
       "Nuts, pecans                                             0.130   1.167   \n",
       "Eggplant, raw                                            0.037   0.649   \n",
       "Teff, uncooked                                           0.270   3.363   \n",
       "Sherbet, orange                                          0.097   0.063   \n",
       "...                                                        ...     ...   \n",
       "Beef, raw, all grades, trimmed to 0\" fat, separ...       0.234   6.422   \n",
       "Lamb, cooked, separable lean only, composite of...       0.500   7.680   \n",
       "Lamb, raw, separable lean and fat, composite of...       0.320   6.550   \n",
       "Beef, raw, all grades, trimmed to 0\" fat, separ...       0.184   6.720   \n",
       "Beef, raw, all grades, trimmed to 0\" fat, separ...       0.184   6.720   \n",
       "\n",
       "                                                    vitamin_b6  vitamin_b12  \\\n",
       "name                                                                          \n",
       "Cornstarch                                               0.000         0.00   \n",
       "Nuts, pecans                                             0.210         0.00   \n",
       "Eggplant, raw                                            0.084         0.00   \n",
       "Teff, uncooked                                           0.482         0.00   \n",
       "Sherbet, orange                                          0.023         0.13   \n",
       "...                                                        ...          ...   \n",
       "Beef, raw, all grades, trimmed to 0\" fat, separ...       0.631         1.64   \n",
       "Lamb, cooked, separable lean only, composite of...       0.140         2.95   \n",
       "Lamb, raw, separable lean and fat, composite of...       0.110         2.42   \n",
       "Beef, raw, all grades, trimmed to 0\" fat, separ...       0.644         1.84   \n",
       "Beef, raw, all grades, trimmed to 0\" fat, separ...       0.644         1.84   \n",
       "\n",
       "                                                    folate  vitamin_c  \\\n",
       "name                                                                    \n",
       "Cornstarch                                             0.0        0.0   \n",
       "Nuts, pecans                                          22.0        1.1   \n",
       "Eggplant, raw                                         22.0        2.2   \n",
       "Teff, uncooked                                         0.0        0.0   \n",
       "Sherbet, orange                                        4.0        2.3   \n",
       "...                                                    ...        ...   \n",
       "Beef, raw, all grades, trimmed to 0\" fat, separ...     4.0        0.0   \n",
       "Lamb, cooked, separable lean only, composite of...     0.0        0.0   \n",
       "Lamb, raw, separable lean and fat, composite of...     1.0        0.0   \n",
       "Beef, raw, all grades, trimmed to 0\" fat, separ...     4.0        0.0   \n",
       "Beef, raw, all grades, trimmed to 0\" fat, separ...     4.0        0.0   \n",
       "\n",
       "                                                    calcium  irom  magnesium  \\\n",
       "name                                                                           \n",
       "Cornstarch                                              2.0  0.47        3.0   \n",
       "Nuts, pecans                                           70.0  2.53      121.0   \n",
       "Eggplant, raw                                           9.0  0.23       14.0   \n",
       "Teff, uncooked                                        180.0  7.63      184.0   \n",
       "Sherbet, orange                                        54.0  0.14        8.0   \n",
       "...                                                     ...   ...        ...   \n",
       "Beef, raw, all grades, trimmed to 0\" fat, separ...     13.0  2.33       12.0   \n",
       "Lamb, cooked, separable lean only, composite of...     13.0  2.35       22.0   \n",
       "Lamb, raw, separable lean and fat, composite of...     13.0  1.49       15.0   \n",
       "Beef, raw, all grades, trimmed to 0\" fat, separ...     13.0  1.45       12.0   \n",
       "Beef, raw, all grades, trimmed to 0\" fat, separ...     13.0  1.45       12.0   \n",
       "\n",
       "                                                    potassium  sodium  zink  \n",
       "name                                                                         \n",
       "Cornstarch                                                3.0     9.0  0.06  \n",
       "Nuts, pecans                                            410.0     0.0  4.53  \n",
       "Eggplant, raw                                           229.0     2.0  0.16  \n",
       "Teff, uncooked                                          427.0    12.0  3.63  \n",
       "Sherbet, orange                                          96.0    46.0  0.48  \n",
       "...                                                       ...     ...   ...  \n",
       "Beef, raw, all grades, trimmed to 0\" fat, separ...      311.0    54.0  3.67  \n",
       "Lamb, cooked, separable lean only, composite of...      188.0    50.0  4.30  \n",
       "Lamb, raw, separable lean and fat, composite of...      136.0    39.0  2.39  \n",
       "Beef, raw, all grades, trimmed to 0\" fat, separ...      319.0    53.0  3.42  \n",
       "Beef, raw, all grades, trimmed to 0\" fat, separ...      319.0    53.0  3.42  \n",
       "\n",
       "[8789 rows x 17 columns]"
      ],
      "text/html": "<div>\n<style scoped>\n    .dataframe tbody tr th:only-of-type {\n        vertical-align: middle;\n    }\n\n    .dataframe tbody tr th {\n        vertical-align: top;\n    }\n\n    .dataframe thead th {\n        text-align: right;\n    }\n</style>\n<table border=\"1\" class=\"dataframe\">\n  <thead>\n    <tr style=\"text-align: right;\">\n      <th></th>\n      <th>protein</th>\n      <th>water</th>\n      <th>fiber</th>\n      <th>vitamin_a</th>\n      <th>thiamin</th>\n      <th>riboflavin</th>\n      <th>niacin</th>\n      <th>vitamin_b6</th>\n      <th>vitamin_b12</th>\n      <th>folate</th>\n      <th>vitamin_c</th>\n      <th>calcium</th>\n      <th>irom</th>\n      <th>magnesium</th>\n      <th>potassium</th>\n      <th>sodium</th>\n      <th>zink</th>\n    </tr>\n    <tr>\n      <th>name</th>\n      <th></th>\n      <th></th>\n      <th></th>\n      <th></th>\n      <th></th>\n      <th></th>\n      <th></th>\n      <th></th>\n      <th></th>\n      <th></th>\n      <th></th>\n      <th></th>\n      <th></th>\n      <th></th>\n      <th></th>\n      <th></th>\n      <th></th>\n    </tr>\n  </thead>\n  <tbody>\n    <tr>\n      <th>Cornstarch</th>\n      <td>0.26</td>\n      <td>8.32</td>\n      <td>0.9</td>\n      <td>0.0</td>\n      <td>0.000</td>\n      <td>0.000</td>\n      <td>0.000</td>\n      <td>0.000</td>\n      <td>0.00</td>\n      <td>0.0</td>\n      <td>0.0</td>\n      <td>2.0</td>\n      <td>0.47</td>\n      <td>3.0</td>\n      <td>3.0</td>\n      <td>9.0</td>\n      <td>0.06</td>\n    </tr>\n    <tr>\n      <th>Nuts, pecans</th>\n      <td>9.17</td>\n      <td>3.52</td>\n      <td>9.6</td>\n      <td>56.0</td>\n      <td>0.660</td>\n      <td>0.130</td>\n      <td>1.167</td>\n      <td>0.210</td>\n      <td>0.00</td>\n      <td>22.0</td>\n      <td>1.1</td>\n      <td>70.0</td>\n      <td>2.53</td>\n      <td>121.0</td>\n      <td>410.0</td>\n      <td>0.0</td>\n      <td>4.53</td>\n    </tr>\n    <tr>\n      <th>Eggplant, raw</th>\n      <td>0.98</td>\n      <td>92.30</td>\n      <td>3.0</td>\n      <td>23.0</td>\n      <td>0.039</td>\n      <td>0.037</td>\n      <td>0.649</td>\n      <td>0.084</td>\n      <td>0.00</td>\n      <td>22.0</td>\n      <td>2.2</td>\n      <td>9.0</td>\n      <td>0.23</td>\n      <td>14.0</td>\n      <td>229.0</td>\n      <td>2.0</td>\n      <td>0.16</td>\n    </tr>\n    <tr>\n      <th>Teff, uncooked</th>\n      <td>13.30</td>\n      <td>8.82</td>\n      <td>8.0</td>\n      <td>9.0</td>\n      <td>0.390</td>\n      <td>0.270</td>\n      <td>3.363</td>\n      <td>0.482</td>\n      <td>0.00</td>\n      <td>0.0</td>\n      <td>0.0</td>\n      <td>180.0</td>\n      <td>7.63</td>\n      <td>184.0</td>\n      <td>427.0</td>\n      <td>12.0</td>\n      <td>3.63</td>\n    </tr>\n    <tr>\n      <th>Sherbet, orange</th>\n      <td>1.10</td>\n      <td>66.10</td>\n      <td>1.3</td>\n      <td>46.0</td>\n      <td>0.027</td>\n      <td>0.097</td>\n      <td>0.063</td>\n      <td>0.023</td>\n      <td>0.13</td>\n      <td>4.0</td>\n      <td>2.3</td>\n      <td>54.0</td>\n      <td>0.14</td>\n      <td>8.0</td>\n      <td>96.0</td>\n      <td>46.0</td>\n      <td>0.48</td>\n    </tr>\n    <tr>\n      <th>...</th>\n      <td>...</td>\n      <td>...</td>\n      <td>...</td>\n      <td>...</td>\n      <td>...</td>\n      <td>...</td>\n      <td>...</td>\n      <td>...</td>\n      <td>...</td>\n      <td>...</td>\n      <td>...</td>\n      <td>...</td>\n      <td>...</td>\n      <td>...</td>\n      <td>...</td>\n      <td>...</td>\n      <td>...</td>\n    </tr>\n    <tr>\n      <th>Beef, raw, all grades, trimmed to 0\" fat, separable lean and fat, boneless, top round roast, round</th>\n      <td>23.45</td>\n      <td>72.51</td>\n      <td>0.0</td>\n      <td>11.0</td>\n      <td>0.063</td>\n      <td>0.234</td>\n      <td>6.422</td>\n      <td>0.631</td>\n      <td>1.64</td>\n      <td>4.0</td>\n      <td>0.0</td>\n      <td>13.0</td>\n      <td>2.33</td>\n      <td>12.0</td>\n      <td>311.0</td>\n      <td>54.0</td>\n      <td>3.67</td>\n    </tr>\n    <tr>\n      <th>Lamb, cooked, separable lean only, composite of trimmed retail cuts, frozen, imported, New Zealand</th>\n      <td>29.59</td>\n      <td>59.95</td>\n      <td>0.0</td>\n      <td>0.0</td>\n      <td>0.130</td>\n      <td>0.500</td>\n      <td>7.680</td>\n      <td>0.140</td>\n      <td>2.95</td>\n      <td>0.0</td>\n      <td>0.0</td>\n      <td>13.0</td>\n      <td>2.35</td>\n      <td>22.0</td>\n      <td>188.0</td>\n      <td>50.0</td>\n      <td>4.30</td>\n    </tr>\n    <tr>\n      <th>Lamb, raw, separable lean and fat, composite of trimmed retail cuts, frozen, imported, New Zealand</th>\n      <td>16.74</td>\n      <td>59.80</td>\n      <td>0.0</td>\n      <td>0.0</td>\n      <td>0.130</td>\n      <td>0.320</td>\n      <td>6.550</td>\n      <td>0.110</td>\n      <td>2.42</td>\n      <td>1.0</td>\n      <td>0.0</td>\n      <td>13.0</td>\n      <td>1.49</td>\n      <td>15.0</td>\n      <td>136.0</td>\n      <td>39.0</td>\n      <td>2.39</td>\n    </tr>\n    <tr>\n      <th>Beef, raw, all grades, trimmed to 0\" fat, separable lean only, boneless, eye of round roast, round</th>\n      <td>23.37</td>\n      <td>73.43</td>\n      <td>0.0</td>\n      <td>4.0</td>\n      <td>0.063</td>\n      <td>0.184</td>\n      <td>6.720</td>\n      <td>0.644</td>\n      <td>1.84</td>\n      <td>4.0</td>\n      <td>0.0</td>\n      <td>13.0</td>\n      <td>1.45</td>\n      <td>12.0</td>\n      <td>319.0</td>\n      <td>53.0</td>\n      <td>3.42</td>\n    </tr>\n    <tr>\n      <th>Beef, raw, all grades, trimmed to 0\" fat, separable lean only, boneless, eye of round steak, round</th>\n      <td>23.37</td>\n      <td>73.43</td>\n      <td>0.0</td>\n      <td>6.0</td>\n      <td>0.063</td>\n      <td>0.184</td>\n      <td>6.720</td>\n      <td>0.644</td>\n      <td>1.84</td>\n      <td>4.0</td>\n      <td>0.0</td>\n      <td>13.0</td>\n      <td>1.45</td>\n      <td>12.0</td>\n      <td>319.0</td>\n      <td>53.0</td>\n      <td>3.42</td>\n    </tr>\n  </tbody>\n</table>\n<p>8789 rows × 17 columns</p>\n</div>"
     },
     "metadata": {},
     "execution_count": 49
    }
   ],
   "source": [
    "nutrition_key = nutrition[key_nutrients]\n",
    "nutrition_key"
   ]
  },
  {
   "cell_type": "code",
   "execution_count": 63,
   "metadata": {},
   "outputs": [
    {
     "output_type": "execute_result",
     "data": {
      "text/plain": [
       "                       protein  water  fiber  vitamin_a  thiamin  riboflavin  \\\n",
       "Cornstarch                0.26   8.32    0.9        0.0      0.0         0.0   \n",
       "daily_intake_women_30    46.00   2.10   25.0      700.0      1.1         1.1   \n",
       "\n",
       "                       niacin  vitamin_b6  vitamin_b12  folate  vitamin_c  \\\n",
       "Cornstarch                0.0         0.0          0.0     0.0        0.0   \n",
       "daily_intake_women_30    14.0         1.3          2.4   400.0       45.0   \n",
       "\n",
       "                       calcium   irom  magnesium  potassium  sodium  zink  \\\n",
       "Cornstarch                 2.0   0.47        3.0        3.0     9.0  0.06   \n",
       "daily_intake_women_30   1000.0  18.00      310.0     2800.0   460.0  8.00   \n",
       "\n",
       "                                         tag  \n",
       "Cornstarch                        Cornstarch  \n",
       "daily_intake_women_30  daily_intake_women_30  "
      ],
      "text/html": "<div>\n<style scoped>\n    .dataframe tbody tr th:only-of-type {\n        vertical-align: middle;\n    }\n\n    .dataframe tbody tr th {\n        vertical-align: top;\n    }\n\n    .dataframe thead th {\n        text-align: right;\n    }\n</style>\n<table border=\"1\" class=\"dataframe\">\n  <thead>\n    <tr style=\"text-align: right;\">\n      <th></th>\n      <th>protein</th>\n      <th>water</th>\n      <th>fiber</th>\n      <th>vitamin_a</th>\n      <th>thiamin</th>\n      <th>riboflavin</th>\n      <th>niacin</th>\n      <th>vitamin_b6</th>\n      <th>vitamin_b12</th>\n      <th>folate</th>\n      <th>vitamin_c</th>\n      <th>calcium</th>\n      <th>irom</th>\n      <th>magnesium</th>\n      <th>potassium</th>\n      <th>sodium</th>\n      <th>zink</th>\n      <th>tag</th>\n    </tr>\n  </thead>\n  <tbody>\n    <tr>\n      <th>Cornstarch</th>\n      <td>0.26</td>\n      <td>8.32</td>\n      <td>0.9</td>\n      <td>0.0</td>\n      <td>0.0</td>\n      <td>0.0</td>\n      <td>0.0</td>\n      <td>0.0</td>\n      <td>0.0</td>\n      <td>0.0</td>\n      <td>0.0</td>\n      <td>2.0</td>\n      <td>0.47</td>\n      <td>3.0</td>\n      <td>3.0</td>\n      <td>9.0</td>\n      <td>0.06</td>\n      <td>Cornstarch</td>\n    </tr>\n    <tr>\n      <th>daily_intake_women_30</th>\n      <td>46.00</td>\n      <td>2.10</td>\n      <td>25.0</td>\n      <td>700.0</td>\n      <td>1.1</td>\n      <td>1.1</td>\n      <td>14.0</td>\n      <td>1.3</td>\n      <td>2.4</td>\n      <td>400.0</td>\n      <td>45.0</td>\n      <td>1000.0</td>\n      <td>18.00</td>\n      <td>310.0</td>\n      <td>2800.0</td>\n      <td>460.0</td>\n      <td>8.00</td>\n      <td>daily_intake_women_30</td>\n    </tr>\n  </tbody>\n</table>\n</div>"
     },
     "metadata": {},
     "execution_count": 63
    }
   ],
   "source": [
    "df = pd.DataFrame([nutrition_key.iloc[0], daily_intake_women_30])\n",
    "df[\"tag\"] = df.index\n",
    "df"
   ]
  },
  {
   "cell_type": "code",
   "execution_count": 84,
   "metadata": {},
   "outputs": [
    {
     "output_type": "execute_result",
     "data": {
      "text/plain": [
       "       nutrient  quantity         tag\n",
       "0       protein      0.26  Cornstarch\n",
       "1         water      8.32  Cornstarch\n",
       "2         fiber      0.90  Cornstarch\n",
       "3     vitamin_a      0.00  Cornstarch\n",
       "4       thiamin      0.00  Cornstarch\n",
       "5    riboflavin      0.00  Cornstarch\n",
       "6        niacin      0.00  Cornstarch\n",
       "7    vitamin_b6      0.00  Cornstarch\n",
       "8   vitamin_b12      0.00  Cornstarch\n",
       "9        folate      0.00  Cornstarch\n",
       "10    vitamin_c      0.00  Cornstarch\n",
       "11      calcium      2.00  Cornstarch\n",
       "12         irom      0.47  Cornstarch\n",
       "13    magnesium      3.00  Cornstarch\n",
       "14    potassium      3.00  Cornstarch\n",
       "15       sodium      9.00  Cornstarch\n",
       "16         zink      0.06  Cornstarch"
      ],
      "text/html": "<div>\n<style scoped>\n    .dataframe tbody tr th:only-of-type {\n        vertical-align: middle;\n    }\n\n    .dataframe tbody tr th {\n        vertical-align: top;\n    }\n\n    .dataframe thead th {\n        text-align: right;\n    }\n</style>\n<table border=\"1\" class=\"dataframe\">\n  <thead>\n    <tr style=\"text-align: right;\">\n      <th></th>\n      <th>nutrient</th>\n      <th>quantity</th>\n      <th>tag</th>\n    </tr>\n  </thead>\n  <tbody>\n    <tr>\n      <th>0</th>\n      <td>protein</td>\n      <td>0.26</td>\n      <td>Cornstarch</td>\n    </tr>\n    <tr>\n      <th>1</th>\n      <td>water</td>\n      <td>8.32</td>\n      <td>Cornstarch</td>\n    </tr>\n    <tr>\n      <th>2</th>\n      <td>fiber</td>\n      <td>0.90</td>\n      <td>Cornstarch</td>\n    </tr>\n    <tr>\n      <th>3</th>\n      <td>vitamin_a</td>\n      <td>0.00</td>\n      <td>Cornstarch</td>\n    </tr>\n    <tr>\n      <th>4</th>\n      <td>thiamin</td>\n      <td>0.00</td>\n      <td>Cornstarch</td>\n    </tr>\n    <tr>\n      <th>5</th>\n      <td>riboflavin</td>\n      <td>0.00</td>\n      <td>Cornstarch</td>\n    </tr>\n    <tr>\n      <th>6</th>\n      <td>niacin</td>\n      <td>0.00</td>\n      <td>Cornstarch</td>\n    </tr>\n    <tr>\n      <th>7</th>\n      <td>vitamin_b6</td>\n      <td>0.00</td>\n      <td>Cornstarch</td>\n    </tr>\n    <tr>\n      <th>8</th>\n      <td>vitamin_b12</td>\n      <td>0.00</td>\n      <td>Cornstarch</td>\n    </tr>\n    <tr>\n      <th>9</th>\n      <td>folate</td>\n      <td>0.00</td>\n      <td>Cornstarch</td>\n    </tr>\n    <tr>\n      <th>10</th>\n      <td>vitamin_c</td>\n      <td>0.00</td>\n      <td>Cornstarch</td>\n    </tr>\n    <tr>\n      <th>11</th>\n      <td>calcium</td>\n      <td>2.00</td>\n      <td>Cornstarch</td>\n    </tr>\n    <tr>\n      <th>12</th>\n      <td>irom</td>\n      <td>0.47</td>\n      <td>Cornstarch</td>\n    </tr>\n    <tr>\n      <th>13</th>\n      <td>magnesium</td>\n      <td>3.00</td>\n      <td>Cornstarch</td>\n    </tr>\n    <tr>\n      <th>14</th>\n      <td>potassium</td>\n      <td>3.00</td>\n      <td>Cornstarch</td>\n    </tr>\n    <tr>\n      <th>15</th>\n      <td>sodium</td>\n      <td>9.00</td>\n      <td>Cornstarch</td>\n    </tr>\n    <tr>\n      <th>16</th>\n      <td>zink</td>\n      <td>0.06</td>\n      <td>Cornstarch</td>\n    </tr>\n  </tbody>\n</table>\n</div>"
     },
     "metadata": {},
     "execution_count": 84
    }
   ],
   "source": [
    "food = nutrition_key.iloc[0]\n",
    "food_name = pd.Series([\"Cornstarch\" for i in range(17)])\n",
    "food = food.reset_index()\n",
    "food = pd.concat([food, food_name], axis = 1)\n",
    "food.columns = [\"nutrient\", \"quantity\", \"tag\"]\n",
    "food"
   ]
  },
  {
   "cell_type": "code",
   "execution_count": 88,
   "metadata": {},
   "outputs": [
    {
     "output_type": "execute_result",
     "data": {
      "text/plain": [
       "       nutrient  quantity           tag\n",
       "0       protein      46.0  Daily_Intake\n",
       "1         water       2.1  Daily_Intake\n",
       "2         fiber      25.0  Daily_Intake\n",
       "3     vitamin_a     700.0  Daily_Intake\n",
       "4       thiamin       1.1  Daily_Intake\n",
       "5    riboflavin       1.1  Daily_Intake\n",
       "6        niacin      14.0  Daily_Intake\n",
       "7    vitamin_b6       1.3  Daily_Intake\n",
       "8   vitamin_b12       2.4  Daily_Intake\n",
       "9        folate     400.0  Daily_Intake\n",
       "10    vitamin_c      45.0  Daily_Intake\n",
       "11      calcium    1000.0  Daily_Intake\n",
       "12         irom      18.0  Daily_Intake\n",
       "13    magnesium     310.0  Daily_Intake\n",
       "14    potassium    2800.0  Daily_Intake\n",
       "15       sodium     460.0  Daily_Intake\n",
       "16         zink       8.0  Daily_Intake"
      ],
      "text/html": "<div>\n<style scoped>\n    .dataframe tbody tr th:only-of-type {\n        vertical-align: middle;\n    }\n\n    .dataframe tbody tr th {\n        vertical-align: top;\n    }\n\n    .dataframe thead th {\n        text-align: right;\n    }\n</style>\n<table border=\"1\" class=\"dataframe\">\n  <thead>\n    <tr style=\"text-align: right;\">\n      <th></th>\n      <th>nutrient</th>\n      <th>quantity</th>\n      <th>tag</th>\n    </tr>\n  </thead>\n  <tbody>\n    <tr>\n      <th>0</th>\n      <td>protein</td>\n      <td>46.0</td>\n      <td>Daily_Intake</td>\n    </tr>\n    <tr>\n      <th>1</th>\n      <td>water</td>\n      <td>2.1</td>\n      <td>Daily_Intake</td>\n    </tr>\n    <tr>\n      <th>2</th>\n      <td>fiber</td>\n      <td>25.0</td>\n      <td>Daily_Intake</td>\n    </tr>\n    <tr>\n      <th>3</th>\n      <td>vitamin_a</td>\n      <td>700.0</td>\n      <td>Daily_Intake</td>\n    </tr>\n    <tr>\n      <th>4</th>\n      <td>thiamin</td>\n      <td>1.1</td>\n      <td>Daily_Intake</td>\n    </tr>\n    <tr>\n      <th>5</th>\n      <td>riboflavin</td>\n      <td>1.1</td>\n      <td>Daily_Intake</td>\n    </tr>\n    <tr>\n      <th>6</th>\n      <td>niacin</td>\n      <td>14.0</td>\n      <td>Daily_Intake</td>\n    </tr>\n    <tr>\n      <th>7</th>\n      <td>vitamin_b6</td>\n      <td>1.3</td>\n      <td>Daily_Intake</td>\n    </tr>\n    <tr>\n      <th>8</th>\n      <td>vitamin_b12</td>\n      <td>2.4</td>\n      <td>Daily_Intake</td>\n    </tr>\n    <tr>\n      <th>9</th>\n      <td>folate</td>\n      <td>400.0</td>\n      <td>Daily_Intake</td>\n    </tr>\n    <tr>\n      <th>10</th>\n      <td>vitamin_c</td>\n      <td>45.0</td>\n      <td>Daily_Intake</td>\n    </tr>\n    <tr>\n      <th>11</th>\n      <td>calcium</td>\n      <td>1000.0</td>\n      <td>Daily_Intake</td>\n    </tr>\n    <tr>\n      <th>12</th>\n      <td>irom</td>\n      <td>18.0</td>\n      <td>Daily_Intake</td>\n    </tr>\n    <tr>\n      <th>13</th>\n      <td>magnesium</td>\n      <td>310.0</td>\n      <td>Daily_Intake</td>\n    </tr>\n    <tr>\n      <th>14</th>\n      <td>potassium</td>\n      <td>2800.0</td>\n      <td>Daily_Intake</td>\n    </tr>\n    <tr>\n      <th>15</th>\n      <td>sodium</td>\n      <td>460.0</td>\n      <td>Daily_Intake</td>\n    </tr>\n    <tr>\n      <th>16</th>\n      <td>zink</td>\n      <td>8.0</td>\n      <td>Daily_Intake</td>\n    </tr>\n  </tbody>\n</table>\n</div>"
     },
     "metadata": {},
     "execution_count": 88
    }
   ],
   "source": [
    "url_w_30 = \"https://www.eatforhealth.gov.au/node/1813927/done?sid=806757&token=05ce5572f5618ac641c9f2395b28c59f\"\n",
    "\n",
    "daily_intake_women_30 = daily_intake_info(url_w_30)\n",
    "\n",
    "daily_intake_women_30 = daily_intake_women_30.map(num_cleaning).map(to_float)\n",
    "\n",
    "daily_intake_women_30.name = \"daily_intake_women_30\"\n",
    "\n",
    "daily_intake_women_30.drop(\"Iodine\", inplace = True)\n",
    "\n",
    "daily_intake_women_30.index = key_nutrients\n",
    "\n",
    "daily_intake_women_30 = daily_intake_women_30.reset_index()\n",
    "di_name = pd.Series([\"Daily_Intake\" for i in range(17)])\n",
    "\n",
    "daily_intake_women_30 = pd.concat([daily_intake_women_30, di_name], axis = 1)\n",
    "daily_intake_women_30.columns = [\"nutrient\", \"quantity\", \"tag\"]\n",
    "daily_intake_women_30"
   ]
  },
  {
   "cell_type": "code",
   "execution_count": 89,
   "metadata": {},
   "outputs": [
    {
     "output_type": "execute_result",
     "data": {
      "text/plain": [
       "       nutrient  quantity           tag\n",
       "0       protein      0.26    Cornstarch\n",
       "1         water      8.32    Cornstarch\n",
       "2         fiber      0.90    Cornstarch\n",
       "3     vitamin_a      0.00    Cornstarch\n",
       "4       thiamin      0.00    Cornstarch\n",
       "5    riboflavin      0.00    Cornstarch\n",
       "6        niacin      0.00    Cornstarch\n",
       "7    vitamin_b6      0.00    Cornstarch\n",
       "8   vitamin_b12      0.00    Cornstarch\n",
       "9        folate      0.00    Cornstarch\n",
       "10    vitamin_c      0.00    Cornstarch\n",
       "11      calcium      2.00    Cornstarch\n",
       "12         irom      0.47    Cornstarch\n",
       "13    magnesium      3.00    Cornstarch\n",
       "14    potassium      3.00    Cornstarch\n",
       "15       sodium      9.00    Cornstarch\n",
       "16         zink      0.06    Cornstarch\n",
       "0       protein     46.00  Daily_Intake\n",
       "1         water      2.10  Daily_Intake\n",
       "2         fiber     25.00  Daily_Intake\n",
       "3     vitamin_a    700.00  Daily_Intake\n",
       "4       thiamin      1.10  Daily_Intake\n",
       "5    riboflavin      1.10  Daily_Intake\n",
       "6        niacin     14.00  Daily_Intake\n",
       "7    vitamin_b6      1.30  Daily_Intake\n",
       "8   vitamin_b12      2.40  Daily_Intake\n",
       "9        folate    400.00  Daily_Intake\n",
       "10    vitamin_c     45.00  Daily_Intake\n",
       "11      calcium   1000.00  Daily_Intake\n",
       "12         irom     18.00  Daily_Intake\n",
       "13    magnesium    310.00  Daily_Intake\n",
       "14    potassium   2800.00  Daily_Intake\n",
       "15       sodium    460.00  Daily_Intake\n",
       "16         zink      8.00  Daily_Intake"
      ],
      "text/html": "<div>\n<style scoped>\n    .dataframe tbody tr th:only-of-type {\n        vertical-align: middle;\n    }\n\n    .dataframe tbody tr th {\n        vertical-align: top;\n    }\n\n    .dataframe thead th {\n        text-align: right;\n    }\n</style>\n<table border=\"1\" class=\"dataframe\">\n  <thead>\n    <tr style=\"text-align: right;\">\n      <th></th>\n      <th>nutrient</th>\n      <th>quantity</th>\n      <th>tag</th>\n    </tr>\n  </thead>\n  <tbody>\n    <tr>\n      <th>0</th>\n      <td>protein</td>\n      <td>0.26</td>\n      <td>Cornstarch</td>\n    </tr>\n    <tr>\n      <th>1</th>\n      <td>water</td>\n      <td>8.32</td>\n      <td>Cornstarch</td>\n    </tr>\n    <tr>\n      <th>2</th>\n      <td>fiber</td>\n      <td>0.90</td>\n      <td>Cornstarch</td>\n    </tr>\n    <tr>\n      <th>3</th>\n      <td>vitamin_a</td>\n      <td>0.00</td>\n      <td>Cornstarch</td>\n    </tr>\n    <tr>\n      <th>4</th>\n      <td>thiamin</td>\n      <td>0.00</td>\n      <td>Cornstarch</td>\n    </tr>\n    <tr>\n      <th>5</th>\n      <td>riboflavin</td>\n      <td>0.00</td>\n      <td>Cornstarch</td>\n    </tr>\n    <tr>\n      <th>6</th>\n      <td>niacin</td>\n      <td>0.00</td>\n      <td>Cornstarch</td>\n    </tr>\n    <tr>\n      <th>7</th>\n      <td>vitamin_b6</td>\n      <td>0.00</td>\n      <td>Cornstarch</td>\n    </tr>\n    <tr>\n      <th>8</th>\n      <td>vitamin_b12</td>\n      <td>0.00</td>\n      <td>Cornstarch</td>\n    </tr>\n    <tr>\n      <th>9</th>\n      <td>folate</td>\n      <td>0.00</td>\n      <td>Cornstarch</td>\n    </tr>\n    <tr>\n      <th>10</th>\n      <td>vitamin_c</td>\n      <td>0.00</td>\n      <td>Cornstarch</td>\n    </tr>\n    <tr>\n      <th>11</th>\n      <td>calcium</td>\n      <td>2.00</td>\n      <td>Cornstarch</td>\n    </tr>\n    <tr>\n      <th>12</th>\n      <td>irom</td>\n      <td>0.47</td>\n      <td>Cornstarch</td>\n    </tr>\n    <tr>\n      <th>13</th>\n      <td>magnesium</td>\n      <td>3.00</td>\n      <td>Cornstarch</td>\n    </tr>\n    <tr>\n      <th>14</th>\n      <td>potassium</td>\n      <td>3.00</td>\n      <td>Cornstarch</td>\n    </tr>\n    <tr>\n      <th>15</th>\n      <td>sodium</td>\n      <td>9.00</td>\n      <td>Cornstarch</td>\n    </tr>\n    <tr>\n      <th>16</th>\n      <td>zink</td>\n      <td>0.06</td>\n      <td>Cornstarch</td>\n    </tr>\n    <tr>\n      <th>0</th>\n      <td>protein</td>\n      <td>46.00</td>\n      <td>Daily_Intake</td>\n    </tr>\n    <tr>\n      <th>1</th>\n      <td>water</td>\n      <td>2.10</td>\n      <td>Daily_Intake</td>\n    </tr>\n    <tr>\n      <th>2</th>\n      <td>fiber</td>\n      <td>25.00</td>\n      <td>Daily_Intake</td>\n    </tr>\n    <tr>\n      <th>3</th>\n      <td>vitamin_a</td>\n      <td>700.00</td>\n      <td>Daily_Intake</td>\n    </tr>\n    <tr>\n      <th>4</th>\n      <td>thiamin</td>\n      <td>1.10</td>\n      <td>Daily_Intake</td>\n    </tr>\n    <tr>\n      <th>5</th>\n      <td>riboflavin</td>\n      <td>1.10</td>\n      <td>Daily_Intake</td>\n    </tr>\n    <tr>\n      <th>6</th>\n      <td>niacin</td>\n      <td>14.00</td>\n      <td>Daily_Intake</td>\n    </tr>\n    <tr>\n      <th>7</th>\n      <td>vitamin_b6</td>\n      <td>1.30</td>\n      <td>Daily_Intake</td>\n    </tr>\n    <tr>\n      <th>8</th>\n      <td>vitamin_b12</td>\n      <td>2.40</td>\n      <td>Daily_Intake</td>\n    </tr>\n    <tr>\n      <th>9</th>\n      <td>folate</td>\n      <td>400.00</td>\n      <td>Daily_Intake</td>\n    </tr>\n    <tr>\n      <th>10</th>\n      <td>vitamin_c</td>\n      <td>45.00</td>\n      <td>Daily_Intake</td>\n    </tr>\n    <tr>\n      <th>11</th>\n      <td>calcium</td>\n      <td>1000.00</td>\n      <td>Daily_Intake</td>\n    </tr>\n    <tr>\n      <th>12</th>\n      <td>irom</td>\n      <td>18.00</td>\n      <td>Daily_Intake</td>\n    </tr>\n    <tr>\n      <th>13</th>\n      <td>magnesium</td>\n      <td>310.00</td>\n      <td>Daily_Intake</td>\n    </tr>\n    <tr>\n      <th>14</th>\n      <td>potassium</td>\n      <td>2800.00</td>\n      <td>Daily_Intake</td>\n    </tr>\n    <tr>\n      <th>15</th>\n      <td>sodium</td>\n      <td>460.00</td>\n      <td>Daily_Intake</td>\n    </tr>\n    <tr>\n      <th>16</th>\n      <td>zink</td>\n      <td>8.00</td>\n      <td>Daily_Intake</td>\n    </tr>\n  </tbody>\n</table>\n</div>"
     },
     "metadata": {},
     "execution_count": 89
    }
   ],
   "source": [
    "final_df = pd.concat([food, daily_intake_women_30])\n",
    "final_df"
   ]
  },
  {
   "cell_type": "code",
   "execution_count": 95,
   "metadata": {},
   "outputs": [
    {
     "output_type": "execute_result",
     "data": {
      "text/plain": [
       "(array([   0.,  500., 1000., 1500., 2000., 2500., 3000.]),\n",
       " [Text(0, 0, ''),\n",
       "  Text(0, 0, ''),\n",
       "  Text(0, 0, ''),\n",
       "  Text(0, 0, ''),\n",
       "  Text(0, 0, ''),\n",
       "  Text(0, 0, ''),\n",
       "  Text(0, 0, '')])"
      ]
     },
     "metadata": {},
     "execution_count": 95
    },
    {
     "output_type": "display_data",
     "data": {
      "text/plain": "<Figure size 1080x1080 with 1 Axes>",
      "image/svg+xml": "<?xml version=\"1.0\" encoding=\"utf-8\" standalone=\"no\"?>\n<!DOCTYPE svg PUBLIC \"-//W3C//DTD SVG 1.1//EN\"\n  \"http://www.w3.org/Graphics/SVG/1.1/DTD/svg11.dtd\">\n<svg height=\"875.928125pt\" version=\"1.1\" viewBox=\"0 0 933.753125 875.928125\" width=\"933.753125pt\" xmlns=\"http://www.w3.org/2000/svg\" xmlns:xlink=\"http://www.w3.org/1999/xlink\">\n <metadata>\n  <rdf:RDF xmlns:cc=\"http://creativecommons.org/ns#\" xmlns:dc=\"http://purl.org/dc/elements/1.1/\" xmlns:rdf=\"http://www.w3.org/1999/02/22-rdf-syntax-ns#\">\n   <cc:Work>\n    <dc:type rdf:resource=\"http://purl.org/dc/dcmitype/StillImage\"/>\n    <dc:date>2021-05-22T12:22:23.962378</dc:date>\n    <dc:format>image/svg+xml</dc:format>\n    <dc:creator>\n     <cc:Agent>\n      <dc:title>Matplotlib v3.4.1, https://matplotlib.org/</dc:title>\n     </cc:Agent>\n    </dc:creator>\n   </cc:Work>\n  </rdf:RDF>\n </metadata>\n <defs>\n  <style type=\"text/css\">*{stroke-linecap:butt;stroke-linejoin:round;}</style>\n </defs>\n <g id=\"figure_1\">\n  <g id=\"patch_1\">\n   <path d=\"M 0 875.928125 \nL 933.753125 875.928125 \nL 933.753125 0 \nL 0 0 \nz\n\" style=\"fill:none;\"/>\n  </g>\n  <g id=\"axes_1\">\n   <g id=\"patch_2\">\n    <path d=\"M 89.553125 822.6 \nL 926.553125 822.6 \nL 926.553125 7.2 \nL 89.553125 7.2 \nz\n\" style=\"fill:#ffffff;\"/>\n   </g>\n   <g id=\"patch_3\">\n    <path clip-path=\"url(#pd938cc514e)\" d=\"M 89.553125 11.996471 \nL 89.627145 11.996471 \nL 89.627145 31.182353 \nL 89.553125 31.182353 \nz\n\" style=\"fill:#3274a1;\"/>\n   </g>\n   <g id=\"patch_4\">\n    <path clip-path=\"url(#pd938cc514e)\" d=\"M 89.553125 59.961176 \nL 91.921778 59.961176 \nL 91.921778 79.147059 \nL 89.553125 79.147059 \nz\n\" style=\"fill:#3274a1;\"/>\n   </g>\n   <g id=\"patch_5\">\n    <path clip-path=\"url(#pd938cc514e)\" d=\"M 89.553125 107.925882 \nL 89.809349 107.925882 \nL 89.809349 127.111765 \nL 89.553125 127.111765 \nz\n\" style=\"fill:#3274a1;\"/>\n   </g>\n   <g id=\"patch_6\">\n    <path clip-path=\"url(#pd938cc514e)\" d=\"M 89.553125 155.890588 \nL 89.553125 155.890588 \nL 89.553125 175.076471 \nL 89.553125 175.076471 \nz\n\" style=\"fill:#3274a1;\"/>\n   </g>\n   <g id=\"patch_7\">\n    <path clip-path=\"url(#pd938cc514e)\" d=\"M 89.553125 203.855294 \nL 89.553125 203.855294 \nL 89.553125 223.041176 \nL 89.553125 223.041176 \nz\n\" style=\"fill:#3274a1;\"/>\n   </g>\n   <g id=\"patch_8\">\n    <path clip-path=\"url(#pd938cc514e)\" d=\"M 89.553125 251.82 \nL 89.553125 251.82 \nL 89.553125 271.005882 \nL 89.553125 271.005882 \nz\n\" style=\"fill:#3274a1;\"/>\n   </g>\n   <g id=\"patch_9\">\n    <path clip-path=\"url(#pd938cc514e)\" d=\"M 89.553125 299.784706 \nL 89.553125 299.784706 \nL 89.553125 318.970588 \nL 89.553125 318.970588 \nz\n\" style=\"fill:#3274a1;\"/>\n   </g>\n   <g id=\"patch_10\">\n    <path clip-path=\"url(#pd938cc514e)\" d=\"M 89.553125 347.749412 \nL 89.553125 347.749412 \nL 89.553125 366.935294 \nL 89.553125 366.935294 \nz\n\" style=\"fill:#3274a1;\"/>\n   </g>\n   <g id=\"patch_11\">\n    <path clip-path=\"url(#pd938cc514e)\" d=\"M 89.553125 395.714118 \nL 89.553125 395.714118 \nL 89.553125 414.9 \nL 89.553125 414.9 \nz\n\" style=\"fill:#3274a1;\"/>\n   </g>\n   <g id=\"patch_12\">\n    <path clip-path=\"url(#pd938cc514e)\" d=\"M 89.553125 443.678824 \nL 89.553125 443.678824 \nL 89.553125 462.864706 \nL 89.553125 462.864706 \nz\n\" style=\"fill:#3274a1;\"/>\n   </g>\n   <g id=\"patch_13\">\n    <path clip-path=\"url(#pd938cc514e)\" d=\"M 89.553125 491.643529 \nL 89.553125 491.643529 \nL 89.553125 510.829412 \nL 89.553125 510.829412 \nz\n\" style=\"fill:#3274a1;\"/>\n   </g>\n   <g id=\"patch_14\">\n    <path clip-path=\"url(#pd938cc514e)\" d=\"M 89.553125 539.608235 \nL 90.122513 539.608235 \nL 90.122513 558.794118 \nL 89.553125 558.794118 \nz\n\" style=\"fill:#3274a1;\"/>\n   </g>\n   <g id=\"patch_15\">\n    <path clip-path=\"url(#pd938cc514e)\" d=\"M 89.553125 587.572941 \nL 89.686931 587.572941 \nL 89.686931 606.758824 \nL 89.553125 606.758824 \nz\n\" style=\"fill:#3274a1;\"/>\n   </g>\n   <g id=\"patch_16\">\n    <path clip-path=\"url(#pd938cc514e)\" d=\"M 89.553125 635.537647 \nL 90.407207 635.537647 \nL 90.407207 654.723529 \nL 89.553125 654.723529 \nz\n\" style=\"fill:#3274a1;\"/>\n   </g>\n   <g id=\"patch_17\">\n    <path clip-path=\"url(#pd938cc514e)\" d=\"M 89.553125 683.502353 \nL 90.407207 683.502353 \nL 90.407207 702.688235 \nL 89.553125 702.688235 \nz\n\" style=\"fill:#3274a1;\"/>\n   </g>\n   <g id=\"patch_18\">\n    <path clip-path=\"url(#pd938cc514e)\" d=\"M 89.553125 731.467059 \nL 92.11537 731.467059 \nL 92.11537 750.652941 \nL 89.553125 750.652941 \nz\n\" style=\"fill:#3274a1;\"/>\n   </g>\n   <g id=\"patch_19\">\n    <path clip-path=\"url(#pd938cc514e)\" d=\"M 89.553125 779.431765 \nL 89.570207 779.431765 \nL 89.570207 798.617647 \nL 89.553125 798.617647 \nz\n\" style=\"fill:#3274a1;\"/>\n   </g>\n   <g id=\"patch_20\">\n    <path clip-path=\"url(#pd938cc514e)\" d=\"M 89.553125 31.182353 \nL 102.649043 31.182353 \nL 102.649043 50.368235 \nL 89.553125 50.368235 \nz\n\" style=\"fill:#e1812c;\"/>\n   </g>\n   <g id=\"patch_21\">\n    <path clip-path=\"url(#pd938cc514e)\" d=\"M 89.553125 79.147059 \nL 90.150982 79.147059 \nL 90.150982 98.332941 \nL 89.553125 98.332941 \nz\n\" style=\"fill:#e1812c;\"/>\n   </g>\n   <g id=\"patch_22\">\n    <path clip-path=\"url(#pd938cc514e)\" d=\"M 89.553125 127.111765 \nL 96.670472 127.111765 \nL 96.670472 146.297647 \nL 89.553125 146.297647 \nz\n\" style=\"fill:#e1812c;\"/>\n   </g>\n   <g id=\"patch_23\">\n    <path clip-path=\"url(#pd938cc514e)\" d=\"M 89.553125 175.076471 \nL 288.838839 175.076471 \nL 288.838839 194.262353 \nL 89.553125 194.262353 \nz\n\" style=\"fill:#e1812c;\"/>\n   </g>\n   <g id=\"patch_24\">\n    <path clip-path=\"url(#pd938cc514e)\" d=\"M 89.553125 223.041176 \nL 89.866288 223.041176 \nL 89.866288 242.227059 \nL 89.553125 242.227059 \nz\n\" style=\"fill:#e1812c;\"/>\n   </g>\n   <g id=\"patch_25\">\n    <path clip-path=\"url(#pd938cc514e)\" d=\"M 89.553125 271.005882 \nL 89.866288 271.005882 \nL 89.866288 290.191765 \nL 89.553125 290.191765 \nz\n\" style=\"fill:#e1812c;\"/>\n   </g>\n   <g id=\"patch_26\">\n    <path clip-path=\"url(#pd938cc514e)\" d=\"M 89.553125 318.970588 \nL 93.538839 318.970588 \nL 93.538839 338.156471 \nL 89.553125 338.156471 \nz\n\" style=\"fill:#e1812c;\"/>\n   </g>\n   <g id=\"patch_27\">\n    <path clip-path=\"url(#pd938cc514e)\" d=\"M 89.553125 366.935294 \nL 89.923227 366.935294 \nL 89.923227 386.121176 \nL 89.553125 386.121176 \nz\n\" style=\"fill:#e1812c;\"/>\n   </g>\n   <g id=\"patch_28\">\n    <path clip-path=\"url(#pd938cc514e)\" d=\"M 89.553125 414.9 \nL 90.23639 414.9 \nL 90.23639 434.085882 \nL 89.553125 434.085882 \nz\n\" style=\"fill:#e1812c;\"/>\n   </g>\n   <g id=\"patch_29\">\n    <path clip-path=\"url(#pd938cc514e)\" d=\"M 89.553125 462.864706 \nL 203.430676 462.864706 \nL 203.430676 482.050588 \nL 89.553125 482.050588 \nz\n\" style=\"fill:#e1812c;\"/>\n   </g>\n   <g id=\"patch_30\">\n    <path clip-path=\"url(#pd938cc514e)\" d=\"M 89.553125 510.829412 \nL 102.364349 510.829412 \nL 102.364349 530.015294 \nL 89.553125 530.015294 \nz\n\" style=\"fill:#e1812c;\"/>\n   </g>\n   <g id=\"patch_31\">\n    <path clip-path=\"url(#pd938cc514e)\" d=\"M 89.553125 558.794118 \nL 374.247003 558.794118 \nL 374.247003 577.98 \nL 89.553125 577.98 \nz\n\" style=\"fill:#e1812c;\"/>\n   </g>\n   <g id=\"patch_32\">\n    <path clip-path=\"url(#pd938cc514e)\" d=\"M 89.553125 606.758824 \nL 94.677615 606.758824 \nL 94.677615 625.944706 \nL 89.553125 625.944706 \nz\n\" style=\"fill:#e1812c;\"/>\n   </g>\n   <g id=\"patch_33\">\n    <path clip-path=\"url(#pd938cc514e)\" d=\"M 89.553125 654.723529 \nL 177.808227 654.723529 \nL 177.808227 673.909412 \nL 89.553125 673.909412 \nz\n\" style=\"fill:#e1812c;\"/>\n   </g>\n   <g id=\"patch_34\">\n    <path clip-path=\"url(#pd938cc514e)\" d=\"M 89.553125 702.688235 \nL 886.695982 702.688235 \nL 886.695982 721.874118 \nL 89.553125 721.874118 \nz\n\" style=\"fill:#e1812c;\"/>\n   </g>\n   <g id=\"patch_35\">\n    <path clip-path=\"url(#pd938cc514e)\" d=\"M 89.553125 750.652941 \nL 220.512309 750.652941 \nL 220.512309 769.838824 \nL 89.553125 769.838824 \nz\n\" style=\"fill:#e1812c;\"/>\n   </g>\n   <g id=\"patch_36\">\n    <path clip-path=\"url(#pd938cc514e)\" d=\"M 89.553125 798.617647 \nL 91.830676 798.617647 \nL 91.830676 817.803529 \nL 89.553125 817.803529 \nz\n\" style=\"fill:#e1812c;\"/>\n   </g>\n   <g id=\"matplotlib.axis_1\">\n    <g id=\"xtick_1\">\n     <g id=\"line2d_1\">\n      <defs>\n       <path d=\"M 0 0 \nL 0 3.5 \n\" id=\"m66adf9b21a\" style=\"stroke:#000000;stroke-width:0.8;\"/>\n      </defs>\n      <g>\n       <use style=\"stroke:#000000;stroke-width:0.8;\" x=\"89.553125\" xlink:href=\"#m66adf9b21a\" y=\"822.6\"/>\n      </g>\n     </g>\n     <g id=\"text_1\">\n      <!-- 0 -->\n      <g transform=\"translate(92.3125 835.9625)rotate(-90)scale(0.1 -0.1)\">\n       <defs>\n        <path d=\"M 2034 4250 \nQ 1547 4250 1301 3770 \nQ 1056 3291 1056 2328 \nQ 1056 1369 1301 889 \nQ 1547 409 2034 409 \nQ 2525 409 2770 889 \nQ 3016 1369 3016 2328 \nQ 3016 3291 2770 3770 \nQ 2525 4250 2034 4250 \nz\nM 2034 4750 \nQ 2819 4750 3233 4129 \nQ 3647 3509 3647 2328 \nQ 3647 1150 3233 529 \nQ 2819 -91 2034 -91 \nQ 1250 -91 836 529 \nQ 422 1150 422 2328 \nQ 422 3509 836 4129 \nQ 1250 4750 2034 4750 \nz\n\" id=\"DejaVuSans-30\" transform=\"scale(0.015625)\"/>\n       </defs>\n       <use xlink:href=\"#DejaVuSans-30\"/>\n      </g>\n     </g>\n    </g>\n    <g id=\"xtick_2\">\n     <g id=\"line2d_2\">\n      <g>\n       <use style=\"stroke:#000000;stroke-width:0.8;\" x=\"231.900064\" xlink:href=\"#m66adf9b21a\" y=\"822.6\"/>\n      </g>\n     </g>\n     <g id=\"text_2\">\n      <!-- 500 -->\n      <g transform=\"translate(234.659439 848.6875)rotate(-90)scale(0.1 -0.1)\">\n       <defs>\n        <path d=\"M 691 4666 \nL 3169 4666 \nL 3169 4134 \nL 1269 4134 \nL 1269 2991 \nQ 1406 3038 1543 3061 \nQ 1681 3084 1819 3084 \nQ 2600 3084 3056 2656 \nQ 3513 2228 3513 1497 \nQ 3513 744 3044 326 \nQ 2575 -91 1722 -91 \nQ 1428 -91 1123 -41 \nQ 819 9 494 109 \nL 494 744 \nQ 775 591 1075 516 \nQ 1375 441 1709 441 \nQ 2250 441 2565 725 \nQ 2881 1009 2881 1497 \nQ 2881 1984 2565 2268 \nQ 2250 2553 1709 2553 \nQ 1456 2553 1204 2497 \nQ 953 2441 691 2322 \nL 691 4666 \nz\n\" id=\"DejaVuSans-35\" transform=\"scale(0.015625)\"/>\n       </defs>\n       <use xlink:href=\"#DejaVuSans-35\"/>\n       <use x=\"63.623047\" xlink:href=\"#DejaVuSans-30\"/>\n       <use x=\"127.246094\" xlink:href=\"#DejaVuSans-30\"/>\n      </g>\n     </g>\n    </g>\n    <g id=\"xtick_3\">\n     <g id=\"line2d_3\">\n      <g>\n       <use style=\"stroke:#000000;stroke-width:0.8;\" x=\"374.247003\" xlink:href=\"#m66adf9b21a\" y=\"822.6\"/>\n      </g>\n     </g>\n     <g id=\"text_3\">\n      <!-- 1000 -->\n      <g transform=\"translate(377.006378 855.05)rotate(-90)scale(0.1 -0.1)\">\n       <defs>\n        <path d=\"M 794 531 \nL 1825 531 \nL 1825 4091 \nL 703 3866 \nL 703 4441 \nL 1819 4666 \nL 2450 4666 \nL 2450 531 \nL 3481 531 \nL 3481 0 \nL 794 0 \nL 794 531 \nz\n\" id=\"DejaVuSans-31\" transform=\"scale(0.015625)\"/>\n       </defs>\n       <use xlink:href=\"#DejaVuSans-31\"/>\n       <use x=\"63.623047\" xlink:href=\"#DejaVuSans-30\"/>\n       <use x=\"127.246094\" xlink:href=\"#DejaVuSans-30\"/>\n       <use x=\"190.869141\" xlink:href=\"#DejaVuSans-30\"/>\n      </g>\n     </g>\n    </g>\n    <g id=\"xtick_4\">\n     <g id=\"line2d_4\">\n      <g>\n       <use style=\"stroke:#000000;stroke-width:0.8;\" x=\"516.593941\" xlink:href=\"#m66adf9b21a\" y=\"822.6\"/>\n      </g>\n     </g>\n     <g id=\"text_4\">\n      <!-- 1500 -->\n      <g transform=\"translate(519.353316 855.05)rotate(-90)scale(0.1 -0.1)\">\n       <use xlink:href=\"#DejaVuSans-31\"/>\n       <use x=\"63.623047\" xlink:href=\"#DejaVuSans-35\"/>\n       <use x=\"127.246094\" xlink:href=\"#DejaVuSans-30\"/>\n       <use x=\"190.869141\" xlink:href=\"#DejaVuSans-30\"/>\n      </g>\n     </g>\n    </g>\n    <g id=\"xtick_5\">\n     <g id=\"line2d_5\">\n      <g>\n       <use style=\"stroke:#000000;stroke-width:0.8;\" x=\"658.94088\" xlink:href=\"#m66adf9b21a\" y=\"822.6\"/>\n      </g>\n     </g>\n     <g id=\"text_5\">\n      <!-- 2000 -->\n      <g transform=\"translate(661.700255 855.05)rotate(-90)scale(0.1 -0.1)\">\n       <defs>\n        <path d=\"M 1228 531 \nL 3431 531 \nL 3431 0 \nL 469 0 \nL 469 531 \nQ 828 903 1448 1529 \nQ 2069 2156 2228 2338 \nQ 2531 2678 2651 2914 \nQ 2772 3150 2772 3378 \nQ 2772 3750 2511 3984 \nQ 2250 4219 1831 4219 \nQ 1534 4219 1204 4116 \nQ 875 4013 500 3803 \nL 500 4441 \nQ 881 4594 1212 4672 \nQ 1544 4750 1819 4750 \nQ 2544 4750 2975 4387 \nQ 3406 4025 3406 3419 \nQ 3406 3131 3298 2873 \nQ 3191 2616 2906 2266 \nQ 2828 2175 2409 1742 \nQ 1991 1309 1228 531 \nz\n\" id=\"DejaVuSans-32\" transform=\"scale(0.015625)\"/>\n       </defs>\n       <use xlink:href=\"#DejaVuSans-32\"/>\n       <use x=\"63.623047\" xlink:href=\"#DejaVuSans-30\"/>\n       <use x=\"127.246094\" xlink:href=\"#DejaVuSans-30\"/>\n       <use x=\"190.869141\" xlink:href=\"#DejaVuSans-30\"/>\n      </g>\n     </g>\n    </g>\n    <g id=\"xtick_6\">\n     <g id=\"line2d_6\">\n      <g>\n       <use style=\"stroke:#000000;stroke-width:0.8;\" x=\"801.287819\" xlink:href=\"#m66adf9b21a\" y=\"822.6\"/>\n      </g>\n     </g>\n     <g id=\"text_6\">\n      <!-- 2500 -->\n      <g transform=\"translate(804.047194 855.05)rotate(-90)scale(0.1 -0.1)\">\n       <use xlink:href=\"#DejaVuSans-32\"/>\n       <use x=\"63.623047\" xlink:href=\"#DejaVuSans-35\"/>\n       <use x=\"127.246094\" xlink:href=\"#DejaVuSans-30\"/>\n       <use x=\"190.869141\" xlink:href=\"#DejaVuSans-30\"/>\n      </g>\n     </g>\n    </g>\n    <g id=\"text_7\">\n     <!-- quantity -->\n     <g transform=\"translate(487.208594 866.648438)scale(0.1 -0.1)\">\n      <defs>\n       <path d=\"M 947 1747 \nQ 947 1113 1208 752 \nQ 1469 391 1925 391 \nQ 2381 391 2643 752 \nQ 2906 1113 2906 1747 \nQ 2906 2381 2643 2742 \nQ 2381 3103 1925 3103 \nQ 1469 3103 1208 2742 \nQ 947 2381 947 1747 \nz\nM 2906 525 \nQ 2725 213 2448 61 \nQ 2172 -91 1784 -91 \nQ 1150 -91 751 415 \nQ 353 922 353 1747 \nQ 353 2572 751 3078 \nQ 1150 3584 1784 3584 \nQ 2172 3584 2448 3432 \nQ 2725 3281 2906 2969 \nL 2906 3500 \nL 3481 3500 \nL 3481 -1331 \nL 2906 -1331 \nL 2906 525 \nz\n\" id=\"DejaVuSans-71\" transform=\"scale(0.015625)\"/>\n       <path d=\"M 544 1381 \nL 544 3500 \nL 1119 3500 \nL 1119 1403 \nQ 1119 906 1312 657 \nQ 1506 409 1894 409 \nQ 2359 409 2629 706 \nQ 2900 1003 2900 1516 \nL 2900 3500 \nL 3475 3500 \nL 3475 0 \nL 2900 0 \nL 2900 538 \nQ 2691 219 2414 64 \nQ 2138 -91 1772 -91 \nQ 1169 -91 856 284 \nQ 544 659 544 1381 \nz\nM 1991 3584 \nL 1991 3584 \nz\n\" id=\"DejaVuSans-75\" transform=\"scale(0.015625)\"/>\n       <path d=\"M 2194 1759 \nQ 1497 1759 1228 1600 \nQ 959 1441 959 1056 \nQ 959 750 1161 570 \nQ 1363 391 1709 391 \nQ 2188 391 2477 730 \nQ 2766 1069 2766 1631 \nL 2766 1759 \nL 2194 1759 \nz\nM 3341 1997 \nL 3341 0 \nL 2766 0 \nL 2766 531 \nQ 2569 213 2275 61 \nQ 1981 -91 1556 -91 \nQ 1019 -91 701 211 \nQ 384 513 384 1019 \nQ 384 1609 779 1909 \nQ 1175 2209 1959 2209 \nL 2766 2209 \nL 2766 2266 \nQ 2766 2663 2505 2880 \nQ 2244 3097 1772 3097 \nQ 1472 3097 1187 3025 \nQ 903 2953 641 2809 \nL 641 3341 \nQ 956 3463 1253 3523 \nQ 1550 3584 1831 3584 \nQ 2591 3584 2966 3190 \nQ 3341 2797 3341 1997 \nz\n\" id=\"DejaVuSans-61\" transform=\"scale(0.015625)\"/>\n       <path d=\"M 3513 2113 \nL 3513 0 \nL 2938 0 \nL 2938 2094 \nQ 2938 2591 2744 2837 \nQ 2550 3084 2163 3084 \nQ 1697 3084 1428 2787 \nQ 1159 2491 1159 1978 \nL 1159 0 \nL 581 0 \nL 581 3500 \nL 1159 3500 \nL 1159 2956 \nQ 1366 3272 1645 3428 \nQ 1925 3584 2291 3584 \nQ 2894 3584 3203 3211 \nQ 3513 2838 3513 2113 \nz\n\" id=\"DejaVuSans-6e\" transform=\"scale(0.015625)\"/>\n       <path d=\"M 1172 4494 \nL 1172 3500 \nL 2356 3500 \nL 2356 3053 \nL 1172 3053 \nL 1172 1153 \nQ 1172 725 1289 603 \nQ 1406 481 1766 481 \nL 2356 481 \nL 2356 0 \nL 1766 0 \nQ 1100 0 847 248 \nQ 594 497 594 1153 \nL 594 3053 \nL 172 3053 \nL 172 3500 \nL 594 3500 \nL 594 4494 \nL 1172 4494 \nz\n\" id=\"DejaVuSans-74\" transform=\"scale(0.015625)\"/>\n       <path d=\"M 603 3500 \nL 1178 3500 \nL 1178 0 \nL 603 0 \nL 603 3500 \nz\nM 603 4863 \nL 1178 4863 \nL 1178 4134 \nL 603 4134 \nL 603 4863 \nz\n\" id=\"DejaVuSans-69\" transform=\"scale(0.015625)\"/>\n       <path d=\"M 2059 -325 \nQ 1816 -950 1584 -1140 \nQ 1353 -1331 966 -1331 \nL 506 -1331 \nL 506 -850 \nL 844 -850 \nQ 1081 -850 1212 -737 \nQ 1344 -625 1503 -206 \nL 1606 56 \nL 191 3500 \nL 800 3500 \nL 1894 763 \nL 2988 3500 \nL 3597 3500 \nL 2059 -325 \nz\n\" id=\"DejaVuSans-79\" transform=\"scale(0.015625)\"/>\n      </defs>\n      <use xlink:href=\"#DejaVuSans-71\"/>\n      <use x=\"63.476562\" xlink:href=\"#DejaVuSans-75\"/>\n      <use x=\"126.855469\" xlink:href=\"#DejaVuSans-61\"/>\n      <use x=\"188.134766\" xlink:href=\"#DejaVuSans-6e\"/>\n      <use x=\"251.513672\" xlink:href=\"#DejaVuSans-74\"/>\n      <use x=\"290.722656\" xlink:href=\"#DejaVuSans-69\"/>\n      <use x=\"318.505859\" xlink:href=\"#DejaVuSans-74\"/>\n      <use x=\"357.714844\" xlink:href=\"#DejaVuSans-79\"/>\n     </g>\n    </g>\n   </g>\n   <g id=\"matplotlib.axis_2\">\n    <g id=\"ytick_1\">\n     <g id=\"line2d_7\">\n      <defs>\n       <path d=\"M 0 0 \nL -3.5 0 \n\" id=\"m5aa8912d49\" style=\"stroke:#000000;stroke-width:0.8;\"/>\n      </defs>\n      <g>\n       <use style=\"stroke:#000000;stroke-width:0.8;\" x=\"89.553125\" xlink:href=\"#m5aa8912d49\" y=\"31.182353\"/>\n      </g>\n     </g>\n     <g id=\"text_8\">\n      <!-- protein -->\n      <g transform=\"translate(47.010938 34.981572)scale(0.1 -0.1)\">\n       <defs>\n        <path d=\"M 1159 525 \nL 1159 -1331 \nL 581 -1331 \nL 581 3500 \nL 1159 3500 \nL 1159 2969 \nQ 1341 3281 1617 3432 \nQ 1894 3584 2278 3584 \nQ 2916 3584 3314 3078 \nQ 3713 2572 3713 1747 \nQ 3713 922 3314 415 \nQ 2916 -91 2278 -91 \nQ 1894 -91 1617 61 \nQ 1341 213 1159 525 \nz\nM 3116 1747 \nQ 3116 2381 2855 2742 \nQ 2594 3103 2138 3103 \nQ 1681 3103 1420 2742 \nQ 1159 2381 1159 1747 \nQ 1159 1113 1420 752 \nQ 1681 391 2138 391 \nQ 2594 391 2855 752 \nQ 3116 1113 3116 1747 \nz\n\" id=\"DejaVuSans-70\" transform=\"scale(0.015625)\"/>\n        <path d=\"M 2631 2963 \nQ 2534 3019 2420 3045 \nQ 2306 3072 2169 3072 \nQ 1681 3072 1420 2755 \nQ 1159 2438 1159 1844 \nL 1159 0 \nL 581 0 \nL 581 3500 \nL 1159 3500 \nL 1159 2956 \nQ 1341 3275 1631 3429 \nQ 1922 3584 2338 3584 \nQ 2397 3584 2469 3576 \nQ 2541 3569 2628 3553 \nL 2631 2963 \nz\n\" id=\"DejaVuSans-72\" transform=\"scale(0.015625)\"/>\n        <path d=\"M 1959 3097 \nQ 1497 3097 1228 2736 \nQ 959 2375 959 1747 \nQ 959 1119 1226 758 \nQ 1494 397 1959 397 \nQ 2419 397 2687 759 \nQ 2956 1122 2956 1747 \nQ 2956 2369 2687 2733 \nQ 2419 3097 1959 3097 \nz\nM 1959 3584 \nQ 2709 3584 3137 3096 \nQ 3566 2609 3566 1747 \nQ 3566 888 3137 398 \nQ 2709 -91 1959 -91 \nQ 1206 -91 779 398 \nQ 353 888 353 1747 \nQ 353 2609 779 3096 \nQ 1206 3584 1959 3584 \nz\n\" id=\"DejaVuSans-6f\" transform=\"scale(0.015625)\"/>\n        <path d=\"M 3597 1894 \nL 3597 1613 \nL 953 1613 \nQ 991 1019 1311 708 \nQ 1631 397 2203 397 \nQ 2534 397 2845 478 \nQ 3156 559 3463 722 \nL 3463 178 \nQ 3153 47 2828 -22 \nQ 2503 -91 2169 -91 \nQ 1331 -91 842 396 \nQ 353 884 353 1716 \nQ 353 2575 817 3079 \nQ 1281 3584 2069 3584 \nQ 2775 3584 3186 3129 \nQ 3597 2675 3597 1894 \nz\nM 3022 2063 \nQ 3016 2534 2758 2815 \nQ 2500 3097 2075 3097 \nQ 1594 3097 1305 2825 \nQ 1016 2553 972 2059 \nL 3022 2063 \nz\n\" id=\"DejaVuSans-65\" transform=\"scale(0.015625)\"/>\n       </defs>\n       <use xlink:href=\"#DejaVuSans-70\"/>\n       <use x=\"63.476562\" xlink:href=\"#DejaVuSans-72\"/>\n       <use x=\"102.339844\" xlink:href=\"#DejaVuSans-6f\"/>\n       <use x=\"163.521484\" xlink:href=\"#DejaVuSans-74\"/>\n       <use x=\"202.730469\" xlink:href=\"#DejaVuSans-65\"/>\n       <use x=\"264.253906\" xlink:href=\"#DejaVuSans-69\"/>\n       <use x=\"292.037109\" xlink:href=\"#DejaVuSans-6e\"/>\n      </g>\n     </g>\n    </g>\n    <g id=\"ytick_2\">\n     <g id=\"line2d_8\">\n      <g>\n       <use style=\"stroke:#000000;stroke-width:0.8;\" x=\"89.553125\" xlink:href=\"#m5aa8912d49\" y=\"79.147059\"/>\n      </g>\n     </g>\n     <g id=\"text_9\">\n      <!-- water -->\n      <g transform=\"translate(54.0625 82.946278)scale(0.1 -0.1)\">\n       <defs>\n        <path d=\"M 269 3500 \nL 844 3500 \nL 1563 769 \nL 2278 3500 \nL 2956 3500 \nL 3675 769 \nL 4391 3500 \nL 4966 3500 \nL 4050 0 \nL 3372 0 \nL 2619 2869 \nL 1863 0 \nL 1184 0 \nL 269 3500 \nz\n\" id=\"DejaVuSans-77\" transform=\"scale(0.015625)\"/>\n       </defs>\n       <use xlink:href=\"#DejaVuSans-77\"/>\n       <use x=\"81.787109\" xlink:href=\"#DejaVuSans-61\"/>\n       <use x=\"143.066406\" xlink:href=\"#DejaVuSans-74\"/>\n       <use x=\"182.275391\" xlink:href=\"#DejaVuSans-65\"/>\n       <use x=\"243.798828\" xlink:href=\"#DejaVuSans-72\"/>\n      </g>\n     </g>\n    </g>\n    <g id=\"ytick_3\">\n     <g id=\"line2d_9\">\n      <g>\n       <use style=\"stroke:#000000;stroke-width:0.8;\" x=\"89.553125\" xlink:href=\"#m5aa8912d49\" y=\"127.111765\"/>\n      </g>\n     </g>\n     <g id=\"text_10\">\n      <!-- fiber -->\n      <g transform=\"translate(59.642188 130.910983)scale(0.1 -0.1)\">\n       <defs>\n        <path d=\"M 2375 4863 \nL 2375 4384 \nL 1825 4384 \nQ 1516 4384 1395 4259 \nQ 1275 4134 1275 3809 \nL 1275 3500 \nL 2222 3500 \nL 2222 3053 \nL 1275 3053 \nL 1275 0 \nL 697 0 \nL 697 3053 \nL 147 3053 \nL 147 3500 \nL 697 3500 \nL 697 3744 \nQ 697 4328 969 4595 \nQ 1241 4863 1831 4863 \nL 2375 4863 \nz\n\" id=\"DejaVuSans-66\" transform=\"scale(0.015625)\"/>\n        <path d=\"M 3116 1747 \nQ 3116 2381 2855 2742 \nQ 2594 3103 2138 3103 \nQ 1681 3103 1420 2742 \nQ 1159 2381 1159 1747 \nQ 1159 1113 1420 752 \nQ 1681 391 2138 391 \nQ 2594 391 2855 752 \nQ 3116 1113 3116 1747 \nz\nM 1159 2969 \nQ 1341 3281 1617 3432 \nQ 1894 3584 2278 3584 \nQ 2916 3584 3314 3078 \nQ 3713 2572 3713 1747 \nQ 3713 922 3314 415 \nQ 2916 -91 2278 -91 \nQ 1894 -91 1617 61 \nQ 1341 213 1159 525 \nL 1159 0 \nL 581 0 \nL 581 4863 \nL 1159 4863 \nL 1159 2969 \nz\n\" id=\"DejaVuSans-62\" transform=\"scale(0.015625)\"/>\n       </defs>\n       <use xlink:href=\"#DejaVuSans-66\"/>\n       <use x=\"35.205078\" xlink:href=\"#DejaVuSans-69\"/>\n       <use x=\"62.988281\" xlink:href=\"#DejaVuSans-62\"/>\n       <use x=\"126.464844\" xlink:href=\"#DejaVuSans-65\"/>\n       <use x=\"187.988281\" xlink:href=\"#DejaVuSans-72\"/>\n      </g>\n     </g>\n    </g>\n    <g id=\"ytick_4\">\n     <g id=\"line2d_10\">\n      <g>\n       <use style=\"stroke:#000000;stroke-width:0.8;\" x=\"89.553125\" xlink:href=\"#m5aa8912d49\" y=\"175.076471\"/>\n      </g>\n     </g>\n     <g id=\"text_11\">\n      <!-- vitamin_a -->\n      <g transform=\"translate(33.823438 178.875689)scale(0.1 -0.1)\">\n       <defs>\n        <path d=\"M 191 3500 \nL 800 3500 \nL 1894 563 \nL 2988 3500 \nL 3597 3500 \nL 2284 0 \nL 1503 0 \nL 191 3500 \nz\n\" id=\"DejaVuSans-76\" transform=\"scale(0.015625)\"/>\n        <path d=\"M 3328 2828 \nQ 3544 3216 3844 3400 \nQ 4144 3584 4550 3584 \nQ 5097 3584 5394 3201 \nQ 5691 2819 5691 2113 \nL 5691 0 \nL 5113 0 \nL 5113 2094 \nQ 5113 2597 4934 2840 \nQ 4756 3084 4391 3084 \nQ 3944 3084 3684 2787 \nQ 3425 2491 3425 1978 \nL 3425 0 \nL 2847 0 \nL 2847 2094 \nQ 2847 2600 2669 2842 \nQ 2491 3084 2119 3084 \nQ 1678 3084 1418 2786 \nQ 1159 2488 1159 1978 \nL 1159 0 \nL 581 0 \nL 581 3500 \nL 1159 3500 \nL 1159 2956 \nQ 1356 3278 1631 3431 \nQ 1906 3584 2284 3584 \nQ 2666 3584 2933 3390 \nQ 3200 3197 3328 2828 \nz\n\" id=\"DejaVuSans-6d\" transform=\"scale(0.015625)\"/>\n        <path d=\"M 3263 -1063 \nL 3263 -1509 \nL -63 -1509 \nL -63 -1063 \nL 3263 -1063 \nz\n\" id=\"DejaVuSans-5f\" transform=\"scale(0.015625)\"/>\n       </defs>\n       <use xlink:href=\"#DejaVuSans-76\"/>\n       <use x=\"59.179688\" xlink:href=\"#DejaVuSans-69\"/>\n       <use x=\"86.962891\" xlink:href=\"#DejaVuSans-74\"/>\n       <use x=\"126.171875\" xlink:href=\"#DejaVuSans-61\"/>\n       <use x=\"187.451172\" xlink:href=\"#DejaVuSans-6d\"/>\n       <use x=\"284.863281\" xlink:href=\"#DejaVuSans-69\"/>\n       <use x=\"312.646484\" xlink:href=\"#DejaVuSans-6e\"/>\n       <use x=\"376.025391\" xlink:href=\"#DejaVuSans-5f\"/>\n       <use x=\"426.025391\" xlink:href=\"#DejaVuSans-61\"/>\n      </g>\n     </g>\n    </g>\n    <g id=\"ytick_5\">\n     <g id=\"line2d_11\">\n      <g>\n       <use style=\"stroke:#000000;stroke-width:0.8;\" x=\"89.553125\" xlink:href=\"#m5aa8912d49\" y=\"223.041176\"/>\n      </g>\n     </g>\n     <g id=\"text_12\">\n      <!-- thiamin -->\n      <g transform=\"translate(44.532813 226.840395)scale(0.1 -0.1)\">\n       <defs>\n        <path d=\"M 3513 2113 \nL 3513 0 \nL 2938 0 \nL 2938 2094 \nQ 2938 2591 2744 2837 \nQ 2550 3084 2163 3084 \nQ 1697 3084 1428 2787 \nQ 1159 2491 1159 1978 \nL 1159 0 \nL 581 0 \nL 581 4863 \nL 1159 4863 \nL 1159 2956 \nQ 1366 3272 1645 3428 \nQ 1925 3584 2291 3584 \nQ 2894 3584 3203 3211 \nQ 3513 2838 3513 2113 \nz\n\" id=\"DejaVuSans-68\" transform=\"scale(0.015625)\"/>\n       </defs>\n       <use xlink:href=\"#DejaVuSans-74\"/>\n       <use x=\"39.208984\" xlink:href=\"#DejaVuSans-68\"/>\n       <use x=\"102.587891\" xlink:href=\"#DejaVuSans-69\"/>\n       <use x=\"130.371094\" xlink:href=\"#DejaVuSans-61\"/>\n       <use x=\"191.650391\" xlink:href=\"#DejaVuSans-6d\"/>\n       <use x=\"289.0625\" xlink:href=\"#DejaVuSans-69\"/>\n       <use x=\"316.845703\" xlink:href=\"#DejaVuSans-6e\"/>\n      </g>\n     </g>\n    </g>\n    <g id=\"ytick_6\">\n     <g id=\"line2d_12\">\n      <g>\n       <use style=\"stroke:#000000;stroke-width:0.8;\" x=\"89.553125\" xlink:href=\"#m5aa8912d49\" y=\"271.005882\"/>\n      </g>\n     </g>\n     <g id=\"text_13\">\n      <!-- riboflavin -->\n      <g transform=\"translate(35.735938 274.805101)scale(0.1 -0.1)\">\n       <defs>\n        <path d=\"M 603 4863 \nL 1178 4863 \nL 1178 0 \nL 603 0 \nL 603 4863 \nz\n\" id=\"DejaVuSans-6c\" transform=\"scale(0.015625)\"/>\n       </defs>\n       <use xlink:href=\"#DejaVuSans-72\"/>\n       <use x=\"41.113281\" xlink:href=\"#DejaVuSans-69\"/>\n       <use x=\"68.896484\" xlink:href=\"#DejaVuSans-62\"/>\n       <use x=\"132.373047\" xlink:href=\"#DejaVuSans-6f\"/>\n       <use x=\"193.554688\" xlink:href=\"#DejaVuSans-66\"/>\n       <use x=\"228.759766\" xlink:href=\"#DejaVuSans-6c\"/>\n       <use x=\"256.542969\" xlink:href=\"#DejaVuSans-61\"/>\n       <use x=\"317.822266\" xlink:href=\"#DejaVuSans-76\"/>\n       <use x=\"377.001953\" xlink:href=\"#DejaVuSans-69\"/>\n       <use x=\"404.785156\" xlink:href=\"#DejaVuSans-6e\"/>\n      </g>\n     </g>\n    </g>\n    <g id=\"ytick_7\">\n     <g id=\"line2d_13\">\n      <g>\n       <use style=\"stroke:#000000;stroke-width:0.8;\" x=\"89.553125\" xlink:href=\"#m5aa8912d49\" y=\"318.970588\"/>\n      </g>\n     </g>\n     <g id=\"text_14\">\n      <!-- niacin -->\n      <g transform=\"translate(52.695313 322.769807)scale(0.1 -0.1)\">\n       <defs>\n        <path d=\"M 3122 3366 \nL 3122 2828 \nQ 2878 2963 2633 3030 \nQ 2388 3097 2138 3097 \nQ 1578 3097 1268 2742 \nQ 959 2388 959 1747 \nQ 959 1106 1268 751 \nQ 1578 397 2138 397 \nQ 2388 397 2633 464 \nQ 2878 531 3122 666 \nL 3122 134 \nQ 2881 22 2623 -34 \nQ 2366 -91 2075 -91 \nQ 1284 -91 818 406 \nQ 353 903 353 1747 \nQ 353 2603 823 3093 \nQ 1294 3584 2113 3584 \nQ 2378 3584 2631 3529 \nQ 2884 3475 3122 3366 \nz\n\" id=\"DejaVuSans-63\" transform=\"scale(0.015625)\"/>\n       </defs>\n       <use xlink:href=\"#DejaVuSans-6e\"/>\n       <use x=\"63.378906\" xlink:href=\"#DejaVuSans-69\"/>\n       <use x=\"91.162109\" xlink:href=\"#DejaVuSans-61\"/>\n       <use x=\"152.441406\" xlink:href=\"#DejaVuSans-63\"/>\n       <use x=\"207.421875\" xlink:href=\"#DejaVuSans-69\"/>\n       <use x=\"235.205078\" xlink:href=\"#DejaVuSans-6e\"/>\n      </g>\n     </g>\n    </g>\n    <g id=\"ytick_8\">\n     <g id=\"line2d_14\">\n      <g>\n       <use style=\"stroke:#000000;stroke-width:0.8;\" x=\"89.553125\" xlink:href=\"#m5aa8912d49\" y=\"366.935294\"/>\n      </g>\n     </g>\n     <g id=\"text_15\">\n      <!-- vitamin_b6 -->\n      <g transform=\"translate(27.240625 370.734513)scale(0.1 -0.1)\">\n       <defs>\n        <path d=\"M 2113 2584 \nQ 1688 2584 1439 2293 \nQ 1191 2003 1191 1497 \nQ 1191 994 1439 701 \nQ 1688 409 2113 409 \nQ 2538 409 2786 701 \nQ 3034 994 3034 1497 \nQ 3034 2003 2786 2293 \nQ 2538 2584 2113 2584 \nz\nM 3366 4563 \nL 3366 3988 \nQ 3128 4100 2886 4159 \nQ 2644 4219 2406 4219 \nQ 1781 4219 1451 3797 \nQ 1122 3375 1075 2522 \nQ 1259 2794 1537 2939 \nQ 1816 3084 2150 3084 \nQ 2853 3084 3261 2657 \nQ 3669 2231 3669 1497 \nQ 3669 778 3244 343 \nQ 2819 -91 2113 -91 \nQ 1303 -91 875 529 \nQ 447 1150 447 2328 \nQ 447 3434 972 4092 \nQ 1497 4750 2381 4750 \nQ 2619 4750 2861 4703 \nQ 3103 4656 3366 4563 \nz\n\" id=\"DejaVuSans-36\" transform=\"scale(0.015625)\"/>\n       </defs>\n       <use xlink:href=\"#DejaVuSans-76\"/>\n       <use x=\"59.179688\" xlink:href=\"#DejaVuSans-69\"/>\n       <use x=\"86.962891\" xlink:href=\"#DejaVuSans-74\"/>\n       <use x=\"126.171875\" xlink:href=\"#DejaVuSans-61\"/>\n       <use x=\"187.451172\" xlink:href=\"#DejaVuSans-6d\"/>\n       <use x=\"284.863281\" xlink:href=\"#DejaVuSans-69\"/>\n       <use x=\"312.646484\" xlink:href=\"#DejaVuSans-6e\"/>\n       <use x=\"376.025391\" xlink:href=\"#DejaVuSans-5f\"/>\n       <use x=\"426.025391\" xlink:href=\"#DejaVuSans-62\"/>\n       <use x=\"489.501953\" xlink:href=\"#DejaVuSans-36\"/>\n      </g>\n     </g>\n    </g>\n    <g id=\"ytick_9\">\n     <g id=\"line2d_15\">\n      <g>\n       <use style=\"stroke:#000000;stroke-width:0.8;\" x=\"89.553125\" xlink:href=\"#m5aa8912d49\" y=\"414.9\"/>\n      </g>\n     </g>\n     <g id=\"text_16\">\n      <!-- vitamin_b12 -->\n      <g transform=\"translate(20.878125 418.699219)scale(0.1 -0.1)\">\n       <use xlink:href=\"#DejaVuSans-76\"/>\n       <use x=\"59.179688\" xlink:href=\"#DejaVuSans-69\"/>\n       <use x=\"86.962891\" xlink:href=\"#DejaVuSans-74\"/>\n       <use x=\"126.171875\" xlink:href=\"#DejaVuSans-61\"/>\n       <use x=\"187.451172\" xlink:href=\"#DejaVuSans-6d\"/>\n       <use x=\"284.863281\" xlink:href=\"#DejaVuSans-69\"/>\n       <use x=\"312.646484\" xlink:href=\"#DejaVuSans-6e\"/>\n       <use x=\"376.025391\" xlink:href=\"#DejaVuSans-5f\"/>\n       <use x=\"426.025391\" xlink:href=\"#DejaVuSans-62\"/>\n       <use x=\"489.501953\" xlink:href=\"#DejaVuSans-31\"/>\n       <use x=\"553.125\" xlink:href=\"#DejaVuSans-32\"/>\n      </g>\n     </g>\n    </g>\n    <g id=\"ytick_10\">\n     <g id=\"line2d_16\">\n      <g>\n       <use style=\"stroke:#000000;stroke-width:0.8;\" x=\"89.553125\" xlink:href=\"#m5aa8912d49\" y=\"462.864706\"/>\n      </g>\n     </g>\n     <g id=\"text_17\">\n      <!-- folate -->\n      <g transform=\"translate(53.934375 466.663925)scale(0.1 -0.1)\">\n       <use xlink:href=\"#DejaVuSans-66\"/>\n       <use x=\"35.205078\" xlink:href=\"#DejaVuSans-6f\"/>\n       <use x=\"96.386719\" xlink:href=\"#DejaVuSans-6c\"/>\n       <use x=\"124.169922\" xlink:href=\"#DejaVuSans-61\"/>\n       <use x=\"185.449219\" xlink:href=\"#DejaVuSans-74\"/>\n       <use x=\"224.658203\" xlink:href=\"#DejaVuSans-65\"/>\n      </g>\n     </g>\n    </g>\n    <g id=\"ytick_11\">\n     <g id=\"line2d_17\">\n      <g>\n       <use style=\"stroke:#000000;stroke-width:0.8;\" x=\"89.553125\" xlink:href=\"#m5aa8912d49\" y=\"510.829412\"/>\n      </g>\n     </g>\n     <g id=\"text_18\">\n      <!-- vitamin_c -->\n      <g transform=\"translate(34.453125 514.628631)scale(0.1 -0.1)\">\n       <use xlink:href=\"#DejaVuSans-76\"/>\n       <use x=\"59.179688\" xlink:href=\"#DejaVuSans-69\"/>\n       <use x=\"86.962891\" xlink:href=\"#DejaVuSans-74\"/>\n       <use x=\"126.171875\" xlink:href=\"#DejaVuSans-61\"/>\n       <use x=\"187.451172\" xlink:href=\"#DejaVuSans-6d\"/>\n       <use x=\"284.863281\" xlink:href=\"#DejaVuSans-69\"/>\n       <use x=\"312.646484\" xlink:href=\"#DejaVuSans-6e\"/>\n       <use x=\"376.025391\" xlink:href=\"#DejaVuSans-5f\"/>\n       <use x=\"426.025391\" xlink:href=\"#DejaVuSans-63\"/>\n      </g>\n     </g>\n    </g>\n    <g id=\"ytick_12\">\n     <g id=\"line2d_18\">\n      <g>\n       <use style=\"stroke:#000000;stroke-width:0.8;\" x=\"89.553125\" xlink:href=\"#m5aa8912d49\" y=\"558.794118\"/>\n      </g>\n     </g>\n     <g id=\"text_19\">\n      <!-- calcium -->\n      <g transform=\"translate(43.79375 562.593336)scale(0.1 -0.1)\">\n       <use xlink:href=\"#DejaVuSans-63\"/>\n       <use x=\"54.980469\" xlink:href=\"#DejaVuSans-61\"/>\n       <use x=\"116.259766\" xlink:href=\"#DejaVuSans-6c\"/>\n       <use x=\"144.042969\" xlink:href=\"#DejaVuSans-63\"/>\n       <use x=\"199.023438\" xlink:href=\"#DejaVuSans-69\"/>\n       <use x=\"226.806641\" xlink:href=\"#DejaVuSans-75\"/>\n       <use x=\"290.185547\" xlink:href=\"#DejaVuSans-6d\"/>\n      </g>\n     </g>\n    </g>\n    <g id=\"ytick_13\">\n     <g id=\"line2d_19\">\n      <g>\n       <use style=\"stroke:#000000;stroke-width:0.8;\" x=\"89.553125\" xlink:href=\"#m5aa8912d49\" y=\"606.758824\"/>\n      </g>\n     </g>\n     <g id=\"text_20\">\n      <!-- irom -->\n      <g transform=\"translate(60.029688 610.558042)scale(0.1 -0.1)\">\n       <use xlink:href=\"#DejaVuSans-69\"/>\n       <use x=\"27.783203\" xlink:href=\"#DejaVuSans-72\"/>\n       <use x=\"66.646484\" xlink:href=\"#DejaVuSans-6f\"/>\n       <use x=\"127.828125\" xlink:href=\"#DejaVuSans-6d\"/>\n      </g>\n     </g>\n    </g>\n    <g id=\"ytick_14\">\n     <g id=\"line2d_20\">\n      <g>\n       <use style=\"stroke:#000000;stroke-width:0.8;\" x=\"89.553125\" xlink:href=\"#m5aa8912d49\" y=\"654.723529\"/>\n      </g>\n     </g>\n     <g id=\"text_21\">\n      <!-- magnesium -->\n      <g transform=\"translate(23.779688 658.522748)scale(0.1 -0.1)\">\n       <defs>\n        <path d=\"M 2906 1791 \nQ 2906 2416 2648 2759 \nQ 2391 3103 1925 3103 \nQ 1463 3103 1205 2759 \nQ 947 2416 947 1791 \nQ 947 1169 1205 825 \nQ 1463 481 1925 481 \nQ 2391 481 2648 825 \nQ 2906 1169 2906 1791 \nz\nM 3481 434 \nQ 3481 -459 3084 -895 \nQ 2688 -1331 1869 -1331 \nQ 1566 -1331 1297 -1286 \nQ 1028 -1241 775 -1147 \nL 775 -588 \nQ 1028 -725 1275 -790 \nQ 1522 -856 1778 -856 \nQ 2344 -856 2625 -561 \nQ 2906 -266 2906 331 \nL 2906 616 \nQ 2728 306 2450 153 \nQ 2172 0 1784 0 \nQ 1141 0 747 490 \nQ 353 981 353 1791 \nQ 353 2603 747 3093 \nQ 1141 3584 1784 3584 \nQ 2172 3584 2450 3431 \nQ 2728 3278 2906 2969 \nL 2906 3500 \nL 3481 3500 \nL 3481 434 \nz\n\" id=\"DejaVuSans-67\" transform=\"scale(0.015625)\"/>\n        <path d=\"M 2834 3397 \nL 2834 2853 \nQ 2591 2978 2328 3040 \nQ 2066 3103 1784 3103 \nQ 1356 3103 1142 2972 \nQ 928 2841 928 2578 \nQ 928 2378 1081 2264 \nQ 1234 2150 1697 2047 \nL 1894 2003 \nQ 2506 1872 2764 1633 \nQ 3022 1394 3022 966 \nQ 3022 478 2636 193 \nQ 2250 -91 1575 -91 \nQ 1294 -91 989 -36 \nQ 684 19 347 128 \nL 347 722 \nQ 666 556 975 473 \nQ 1284 391 1588 391 \nQ 1994 391 2212 530 \nQ 2431 669 2431 922 \nQ 2431 1156 2273 1281 \nQ 2116 1406 1581 1522 \nL 1381 1569 \nQ 847 1681 609 1914 \nQ 372 2147 372 2553 \nQ 372 3047 722 3315 \nQ 1072 3584 1716 3584 \nQ 2034 3584 2315 3537 \nQ 2597 3491 2834 3397 \nz\n\" id=\"DejaVuSans-73\" transform=\"scale(0.015625)\"/>\n       </defs>\n       <use xlink:href=\"#DejaVuSans-6d\"/>\n       <use x=\"97.412109\" xlink:href=\"#DejaVuSans-61\"/>\n       <use x=\"158.691406\" xlink:href=\"#DejaVuSans-67\"/>\n       <use x=\"222.167969\" xlink:href=\"#DejaVuSans-6e\"/>\n       <use x=\"285.546875\" xlink:href=\"#DejaVuSans-65\"/>\n       <use x=\"347.070312\" xlink:href=\"#DejaVuSans-73\"/>\n       <use x=\"399.169922\" xlink:href=\"#DejaVuSans-69\"/>\n       <use x=\"426.953125\" xlink:href=\"#DejaVuSans-75\"/>\n       <use x=\"490.332031\" xlink:href=\"#DejaVuSans-6d\"/>\n      </g>\n     </g>\n    </g>\n    <g id=\"ytick_15\">\n     <g id=\"line2d_21\">\n      <g>\n       <use style=\"stroke:#000000;stroke-width:0.8;\" x=\"89.553125\" xlink:href=\"#m5aa8912d49\" y=\"702.688235\"/>\n      </g>\n     </g>\n     <g id=\"text_22\">\n      <!-- potassium -->\n      <g transform=\"translate(30.7625 706.487454)scale(0.1 -0.1)\">\n       <use xlink:href=\"#DejaVuSans-70\"/>\n       <use x=\"63.476562\" xlink:href=\"#DejaVuSans-6f\"/>\n       <use x=\"124.658203\" xlink:href=\"#DejaVuSans-74\"/>\n       <use x=\"163.867188\" xlink:href=\"#DejaVuSans-61\"/>\n       <use x=\"225.146484\" xlink:href=\"#DejaVuSans-73\"/>\n       <use x=\"277.246094\" xlink:href=\"#DejaVuSans-73\"/>\n       <use x=\"329.345703\" xlink:href=\"#DejaVuSans-69\"/>\n       <use x=\"357.128906\" xlink:href=\"#DejaVuSans-75\"/>\n       <use x=\"420.507812\" xlink:href=\"#DejaVuSans-6d\"/>\n      </g>\n     </g>\n    </g>\n    <g id=\"ytick_16\">\n     <g id=\"line2d_22\">\n      <g>\n       <use style=\"stroke:#000000;stroke-width:0.8;\" x=\"89.553125\" xlink:href=\"#m5aa8912d49\" y=\"750.652941\"/>\n      </g>\n     </g>\n     <g id=\"text_23\">\n      <!-- sodium -->\n      <g transform=\"translate(46.020313 754.45216)scale(0.1 -0.1)\">\n       <defs>\n        <path d=\"M 2906 2969 \nL 2906 4863 \nL 3481 4863 \nL 3481 0 \nL 2906 0 \nL 2906 525 \nQ 2725 213 2448 61 \nQ 2172 -91 1784 -91 \nQ 1150 -91 751 415 \nQ 353 922 353 1747 \nQ 353 2572 751 3078 \nQ 1150 3584 1784 3584 \nQ 2172 3584 2448 3432 \nQ 2725 3281 2906 2969 \nz\nM 947 1747 \nQ 947 1113 1208 752 \nQ 1469 391 1925 391 \nQ 2381 391 2643 752 \nQ 2906 1113 2906 1747 \nQ 2906 2381 2643 2742 \nQ 2381 3103 1925 3103 \nQ 1469 3103 1208 2742 \nQ 947 2381 947 1747 \nz\n\" id=\"DejaVuSans-64\" transform=\"scale(0.015625)\"/>\n       </defs>\n       <use xlink:href=\"#DejaVuSans-73\"/>\n       <use x=\"52.099609\" xlink:href=\"#DejaVuSans-6f\"/>\n       <use x=\"113.28125\" xlink:href=\"#DejaVuSans-64\"/>\n       <use x=\"176.757812\" xlink:href=\"#DejaVuSans-69\"/>\n       <use x=\"204.541016\" xlink:href=\"#DejaVuSans-75\"/>\n       <use x=\"267.919922\" xlink:href=\"#DejaVuSans-6d\"/>\n      </g>\n     </g>\n    </g>\n    <g id=\"ytick_17\">\n     <g id=\"line2d_23\">\n      <g>\n       <use style=\"stroke:#000000;stroke-width:0.8;\" x=\"89.553125\" xlink:href=\"#m5aa8912d49\" y=\"798.617647\"/>\n      </g>\n     </g>\n     <g id=\"text_24\">\n      <!-- zink -->\n      <g transform=\"translate(62.398438 802.416866)scale(0.1 -0.1)\">\n       <defs>\n        <path d=\"M 353 3500 \nL 3084 3500 \nL 3084 2975 \nL 922 459 \nL 3084 459 \nL 3084 0 \nL 275 0 \nL 275 525 \nL 2438 3041 \nL 353 3041 \nL 353 3500 \nz\n\" id=\"DejaVuSans-7a\" transform=\"scale(0.015625)\"/>\n        <path d=\"M 581 4863 \nL 1159 4863 \nL 1159 1991 \nL 2875 3500 \nL 3609 3500 \nL 1753 1863 \nL 3688 0 \nL 2938 0 \nL 1159 1709 \nL 1159 0 \nL 581 0 \nL 581 4863 \nz\n\" id=\"DejaVuSans-6b\" transform=\"scale(0.015625)\"/>\n       </defs>\n       <use xlink:href=\"#DejaVuSans-7a\"/>\n       <use x=\"52.490234\" xlink:href=\"#DejaVuSans-69\"/>\n       <use x=\"80.273438\" xlink:href=\"#DejaVuSans-6e\"/>\n       <use x=\"143.652344\" xlink:href=\"#DejaVuSans-6b\"/>\n      </g>\n     </g>\n    </g>\n    <g id=\"text_25\">\n     <!-- nutrient -->\n     <g transform=\"translate(14.798438 434.847656)rotate(-90)scale(0.1 -0.1)\">\n      <use xlink:href=\"#DejaVuSans-6e\"/>\n      <use x=\"63.378906\" xlink:href=\"#DejaVuSans-75\"/>\n      <use x=\"126.757812\" xlink:href=\"#DejaVuSans-74\"/>\n      <use x=\"165.966797\" xlink:href=\"#DejaVuSans-72\"/>\n      <use x=\"207.080078\" xlink:href=\"#DejaVuSans-69\"/>\n      <use x=\"234.863281\" xlink:href=\"#DejaVuSans-65\"/>\n      <use x=\"296.386719\" xlink:href=\"#DejaVuSans-6e\"/>\n      <use x=\"359.765625\" xlink:href=\"#DejaVuSans-74\"/>\n     </g>\n    </g>\n   </g>\n   <g id=\"line2d_24\">\n    <path clip-path=\"url(#pd938cc514e)\" d=\"M 0 0 \n\" style=\"fill:none;stroke:#424242;stroke-linecap:square;stroke-width:2.7;\"/>\n   </g>\n   <g id=\"line2d_25\">\n    <path clip-path=\"url(#pd938cc514e)\" d=\"M 0 0 \n\" style=\"fill:none;stroke:#424242;stroke-linecap:square;stroke-width:2.7;\"/>\n   </g>\n   <g id=\"line2d_26\">\n    <path clip-path=\"url(#pd938cc514e)\" d=\"M 0 0 \n\" style=\"fill:none;stroke:#424242;stroke-linecap:square;stroke-width:2.7;\"/>\n   </g>\n   <g id=\"line2d_27\">\n    <path clip-path=\"url(#pd938cc514e)\" d=\"M 0 0 \n\" style=\"fill:none;stroke:#424242;stroke-linecap:square;stroke-width:2.7;\"/>\n   </g>\n   <g id=\"line2d_28\">\n    <path clip-path=\"url(#pd938cc514e)\" d=\"M 0 0 \n\" style=\"fill:none;stroke:#424242;stroke-linecap:square;stroke-width:2.7;\"/>\n   </g>\n   <g id=\"line2d_29\">\n    <path clip-path=\"url(#pd938cc514e)\" d=\"M 0 0 \n\" style=\"fill:none;stroke:#424242;stroke-linecap:square;stroke-width:2.7;\"/>\n   </g>\n   <g id=\"line2d_30\">\n    <path clip-path=\"url(#pd938cc514e)\" d=\"M 0 0 \n\" style=\"fill:none;stroke:#424242;stroke-linecap:square;stroke-width:2.7;\"/>\n   </g>\n   <g id=\"line2d_31\">\n    <path clip-path=\"url(#pd938cc514e)\" d=\"M 0 0 \n\" style=\"fill:none;stroke:#424242;stroke-linecap:square;stroke-width:2.7;\"/>\n   </g>\n   <g id=\"line2d_32\">\n    <path clip-path=\"url(#pd938cc514e)\" d=\"M 0 0 \n\" style=\"fill:none;stroke:#424242;stroke-linecap:square;stroke-width:2.7;\"/>\n   </g>\n   <g id=\"line2d_33\">\n    <path clip-path=\"url(#pd938cc514e)\" d=\"M 0 0 \n\" style=\"fill:none;stroke:#424242;stroke-linecap:square;stroke-width:2.7;\"/>\n   </g>\n   <g id=\"line2d_34\">\n    <path clip-path=\"url(#pd938cc514e)\" d=\"M 0 0 \n\" style=\"fill:none;stroke:#424242;stroke-linecap:square;stroke-width:2.7;\"/>\n   </g>\n   <g id=\"line2d_35\">\n    <path clip-path=\"url(#pd938cc514e)\" d=\"M 0 0 \n\" style=\"fill:none;stroke:#424242;stroke-linecap:square;stroke-width:2.7;\"/>\n   </g>\n   <g id=\"line2d_36\">\n    <path clip-path=\"url(#pd938cc514e)\" d=\"M 0 0 \n\" style=\"fill:none;stroke:#424242;stroke-linecap:square;stroke-width:2.7;\"/>\n   </g>\n   <g id=\"line2d_37\">\n    <path clip-path=\"url(#pd938cc514e)\" d=\"M 0 0 \n\" style=\"fill:none;stroke:#424242;stroke-linecap:square;stroke-width:2.7;\"/>\n   </g>\n   <g id=\"line2d_38\">\n    <path clip-path=\"url(#pd938cc514e)\" d=\"M 0 0 \n\" style=\"fill:none;stroke:#424242;stroke-linecap:square;stroke-width:2.7;\"/>\n   </g>\n   <g id=\"line2d_39\">\n    <path clip-path=\"url(#pd938cc514e)\" d=\"M 0 0 \n\" style=\"fill:none;stroke:#424242;stroke-linecap:square;stroke-width:2.7;\"/>\n   </g>\n   <g id=\"line2d_40\">\n    <path clip-path=\"url(#pd938cc514e)\" d=\"M 0 0 \n\" style=\"fill:none;stroke:#424242;stroke-linecap:square;stroke-width:2.7;\"/>\n   </g>\n   <g id=\"line2d_41\">\n    <path clip-path=\"url(#pd938cc514e)\" d=\"M 0 0 \n\" style=\"fill:none;stroke:#424242;stroke-linecap:square;stroke-width:2.7;\"/>\n   </g>\n   <g id=\"line2d_42\">\n    <path clip-path=\"url(#pd938cc514e)\" d=\"M 0 0 \n\" style=\"fill:none;stroke:#424242;stroke-linecap:square;stroke-width:2.7;\"/>\n   </g>\n   <g id=\"line2d_43\">\n    <path clip-path=\"url(#pd938cc514e)\" d=\"M 0 0 \n\" style=\"fill:none;stroke:#424242;stroke-linecap:square;stroke-width:2.7;\"/>\n   </g>\n   <g id=\"line2d_44\">\n    <path clip-path=\"url(#pd938cc514e)\" d=\"M 0 0 \n\" style=\"fill:none;stroke:#424242;stroke-linecap:square;stroke-width:2.7;\"/>\n   </g>\n   <g id=\"line2d_45\">\n    <path clip-path=\"url(#pd938cc514e)\" d=\"M 0 0 \n\" style=\"fill:none;stroke:#424242;stroke-linecap:square;stroke-width:2.7;\"/>\n   </g>\n   <g id=\"line2d_46\">\n    <path clip-path=\"url(#pd938cc514e)\" d=\"M 0 0 \n\" style=\"fill:none;stroke:#424242;stroke-linecap:square;stroke-width:2.7;\"/>\n   </g>\n   <g id=\"line2d_47\">\n    <path clip-path=\"url(#pd938cc514e)\" d=\"M 0 0 \n\" style=\"fill:none;stroke:#424242;stroke-linecap:square;stroke-width:2.7;\"/>\n   </g>\n   <g id=\"line2d_48\">\n    <path clip-path=\"url(#pd938cc514e)\" d=\"M 0 0 \n\" style=\"fill:none;stroke:#424242;stroke-linecap:square;stroke-width:2.7;\"/>\n   </g>\n   <g id=\"line2d_49\">\n    <path clip-path=\"url(#pd938cc514e)\" d=\"M 0 0 \n\" style=\"fill:none;stroke:#424242;stroke-linecap:square;stroke-width:2.7;\"/>\n   </g>\n   <g id=\"line2d_50\">\n    <path clip-path=\"url(#pd938cc514e)\" d=\"M 0 0 \n\" style=\"fill:none;stroke:#424242;stroke-linecap:square;stroke-width:2.7;\"/>\n   </g>\n   <g id=\"line2d_51\">\n    <path clip-path=\"url(#pd938cc514e)\" d=\"M 0 0 \n\" style=\"fill:none;stroke:#424242;stroke-linecap:square;stroke-width:2.7;\"/>\n   </g>\n   <g id=\"line2d_52\">\n    <path clip-path=\"url(#pd938cc514e)\" d=\"M 0 0 \n\" style=\"fill:none;stroke:#424242;stroke-linecap:square;stroke-width:2.7;\"/>\n   </g>\n   <g id=\"line2d_53\">\n    <path clip-path=\"url(#pd938cc514e)\" d=\"M 0 0 \n\" style=\"fill:none;stroke:#424242;stroke-linecap:square;stroke-width:2.7;\"/>\n   </g>\n   <g id=\"line2d_54\">\n    <path clip-path=\"url(#pd938cc514e)\" d=\"M 0 0 \n\" style=\"fill:none;stroke:#424242;stroke-linecap:square;stroke-width:2.7;\"/>\n   </g>\n   <g id=\"line2d_55\">\n    <path clip-path=\"url(#pd938cc514e)\" d=\"M 0 0 \n\" style=\"fill:none;stroke:#424242;stroke-linecap:square;stroke-width:2.7;\"/>\n   </g>\n   <g id=\"line2d_56\">\n    <path clip-path=\"url(#pd938cc514e)\" d=\"M 0 0 \n\" style=\"fill:none;stroke:#424242;stroke-linecap:square;stroke-width:2.7;\"/>\n   </g>\n   <g id=\"line2d_57\">\n    <path clip-path=\"url(#pd938cc514e)\" d=\"M 0 0 \n\" style=\"fill:none;stroke:#424242;stroke-linecap:square;stroke-width:2.7;\"/>\n   </g>\n   <g id=\"patch_37\">\n    <path d=\"M 89.553125 822.6 \nL 89.553125 7.2 \n\" style=\"fill:none;stroke:#000000;stroke-linecap:square;stroke-linejoin:miter;stroke-width:0.8;\"/>\n   </g>\n   <g id=\"patch_38\">\n    <path d=\"M 926.553125 822.6 \nL 926.553125 7.2 \n\" style=\"fill:none;stroke:#000000;stroke-linecap:square;stroke-linejoin:miter;stroke-width:0.8;\"/>\n   </g>\n   <g id=\"patch_39\">\n    <path d=\"M 89.553125 822.6 \nL 926.553125 822.6 \n\" style=\"fill:none;stroke:#000000;stroke-linecap:square;stroke-linejoin:miter;stroke-width:0.8;\"/>\n   </g>\n   <g id=\"patch_40\">\n    <path d=\"M 89.553125 7.2 \nL 926.553125 7.2 \n\" style=\"fill:none;stroke:#000000;stroke-linecap:square;stroke-linejoin:miter;stroke-width:0.8;\"/>\n   </g>\n   <g id=\"legend_1\">\n    <g id=\"patch_41\">\n     <path d=\"M 826.332813 59.5125 \nL 919.553125 59.5125 \nQ 921.553125 59.5125 921.553125 57.5125 \nL 921.553125 14.2 \nQ 921.553125 12.2 919.553125 12.2 \nL 826.332813 12.2 \nQ 824.332813 12.2 824.332813 14.2 \nL 824.332813 57.5125 \nQ 824.332813 59.5125 826.332813 59.5125 \nz\n\" style=\"fill:#ffffff;opacity:0.8;stroke:#cccccc;stroke-linejoin:miter;\"/>\n    </g>\n    <g id=\"text_26\">\n     <!-- tag -->\n     <g transform=\"translate(864.744531 23.798438)scale(0.1 -0.1)\">\n      <use xlink:href=\"#DejaVuSans-74\"/>\n      <use x=\"39.208984\" xlink:href=\"#DejaVuSans-61\"/>\n      <use x=\"100.488281\" xlink:href=\"#DejaVuSans-67\"/>\n     </g>\n    </g>\n    <g id=\"patch_42\">\n     <path d=\"M 828.332813 38.476563 \nL 848.332813 38.476563 \nL 848.332813 31.476563 \nL 828.332813 31.476563 \nz\n\" style=\"fill:#3274a1;\"/>\n    </g>\n    <g id=\"text_27\">\n     <!-- Cornstarch -->\n     <g transform=\"translate(856.332813 38.476563)scale(0.1 -0.1)\">\n      <defs>\n       <path d=\"M 4122 4306 \nL 4122 3641 \nQ 3803 3938 3442 4084 \nQ 3081 4231 2675 4231 \nQ 1875 4231 1450 3742 \nQ 1025 3253 1025 2328 \nQ 1025 1406 1450 917 \nQ 1875 428 2675 428 \nQ 3081 428 3442 575 \nQ 3803 722 4122 1019 \nL 4122 359 \nQ 3791 134 3420 21 \nQ 3050 -91 2638 -91 \nQ 1578 -91 968 557 \nQ 359 1206 359 2328 \nQ 359 3453 968 4101 \nQ 1578 4750 2638 4750 \nQ 3056 4750 3426 4639 \nQ 3797 4528 4122 4306 \nz\n\" id=\"DejaVuSans-43\" transform=\"scale(0.015625)\"/>\n      </defs>\n      <use xlink:href=\"#DejaVuSans-43\"/>\n      <use x=\"69.824219\" xlink:href=\"#DejaVuSans-6f\"/>\n      <use x=\"131.005859\" xlink:href=\"#DejaVuSans-72\"/>\n      <use x=\"170.369141\" xlink:href=\"#DejaVuSans-6e\"/>\n      <use x=\"233.748047\" xlink:href=\"#DejaVuSans-73\"/>\n      <use x=\"285.847656\" xlink:href=\"#DejaVuSans-74\"/>\n      <use x=\"325.056641\" xlink:href=\"#DejaVuSans-61\"/>\n      <use x=\"386.335938\" xlink:href=\"#DejaVuSans-72\"/>\n      <use x=\"425.199219\" xlink:href=\"#DejaVuSans-63\"/>\n      <use x=\"480.179688\" xlink:href=\"#DejaVuSans-68\"/>\n     </g>\n    </g>\n    <g id=\"patch_43\">\n     <path d=\"M 828.332813 53.154688 \nL 848.332813 53.154688 \nL 848.332813 46.154688 \nL 828.332813 46.154688 \nz\n\" style=\"fill:#e1812c;\"/>\n    </g>\n    <g id=\"text_28\">\n     <!-- Daily_Intake -->\n     <g transform=\"translate(856.332813 53.154688)scale(0.1 -0.1)\">\n      <defs>\n       <path d=\"M 1259 4147 \nL 1259 519 \nL 2022 519 \nQ 2988 519 3436 956 \nQ 3884 1394 3884 2338 \nQ 3884 3275 3436 3711 \nQ 2988 4147 2022 4147 \nL 1259 4147 \nz\nM 628 4666 \nL 1925 4666 \nQ 3281 4666 3915 4102 \nQ 4550 3538 4550 2338 \nQ 4550 1131 3912 565 \nQ 3275 0 1925 0 \nL 628 0 \nL 628 4666 \nz\n\" id=\"DejaVuSans-44\" transform=\"scale(0.015625)\"/>\n       <path d=\"M 628 4666 \nL 1259 4666 \nL 1259 0 \nL 628 0 \nL 628 4666 \nz\n\" id=\"DejaVuSans-49\" transform=\"scale(0.015625)\"/>\n      </defs>\n      <use xlink:href=\"#DejaVuSans-44\"/>\n      <use x=\"77.001953\" xlink:href=\"#DejaVuSans-61\"/>\n      <use x=\"138.28125\" xlink:href=\"#DejaVuSans-69\"/>\n      <use x=\"166.064453\" xlink:href=\"#DejaVuSans-6c\"/>\n      <use x=\"193.847656\" xlink:href=\"#DejaVuSans-79\"/>\n      <use x=\"253.027344\" xlink:href=\"#DejaVuSans-5f\"/>\n      <use x=\"303.027344\" xlink:href=\"#DejaVuSans-49\"/>\n      <use x=\"332.519531\" xlink:href=\"#DejaVuSans-6e\"/>\n      <use x=\"395.898438\" xlink:href=\"#DejaVuSans-74\"/>\n      <use x=\"435.107422\" xlink:href=\"#DejaVuSans-61\"/>\n      <use x=\"496.386719\" xlink:href=\"#DejaVuSans-6b\"/>\n      <use x=\"550.671875\" xlink:href=\"#DejaVuSans-65\"/>\n     </g>\n    </g>\n   </g>\n  </g>\n </g>\n <defs>\n  <clipPath id=\"pd938cc514e\">\n   <rect height=\"815.4\" width=\"837\" x=\"89.553125\" y=\"7.2\"/>\n  </clipPath>\n </defs>\n</svg>\n",
      "image/png": "[encoded data removed]"
     },
     "metadata": {
      "needs_background": "light"
     }
    }
   ],
   "source": [
    "plt.figure(figsize = (15, 15))\n",
    "sns.barplot(x = \"quantity\", y = \"nutrient\", hue = \"tag\", data = final_df, orient = \"h\")\n",
    "plt.xticks(rotation = 90)"
   ]
  },
  {
   "cell_type": "code",
   "execution_count": 110,
   "metadata": {},
   "outputs": [
    {
     "output_type": "execute_result",
     "data": {
      "text/plain": [
       "    %OfDailyIntake     nutrient\n",
       "0         0.005652      protein\n",
       "1         3.961905        water\n",
       "2         0.036000        fiber\n",
       "3         0.000000    vitamin_a\n",
       "4         0.000000      thiamin\n",
       "5         0.000000   riboflavin\n",
       "6         0.000000       niacin\n",
       "7         0.000000   vitamin_b6\n",
       "8         0.000000  vitamin_b12\n",
       "9         0.000000       folate\n",
       "10        0.000000    vitamin_c\n",
       "11        0.002000      calcium\n",
       "12        0.026111         irom\n",
       "13        0.009677    magnesium\n",
       "14        0.001071    potassium\n",
       "15        0.019565       sodium\n",
       "16        0.007500         zink"
      ],
      "text/html": "<div>\n<style scoped>\n    .dataframe tbody tr th:only-of-type {\n        vertical-align: middle;\n    }\n\n    .dataframe tbody tr th {\n        vertical-align: top;\n    }\n\n    .dataframe thead th {\n        text-align: right;\n    }\n</style>\n<table border=\"1\" class=\"dataframe\">\n  <thead>\n    <tr style=\"text-align: right;\">\n      <th></th>\n      <th>%OfDailyIntake</th>\n      <th>nutrient</th>\n    </tr>\n  </thead>\n  <tbody>\n    <tr>\n      <th>0</th>\n      <td>0.005652</td>\n      <td>protein</td>\n    </tr>\n    <tr>\n      <th>1</th>\n      <td>3.961905</td>\n      <td>water</td>\n    </tr>\n    <tr>\n      <th>2</th>\n      <td>0.036000</td>\n      <td>fiber</td>\n    </tr>\n    <tr>\n      <th>3</th>\n      <td>0.000000</td>\n      <td>vitamin_a</td>\n    </tr>\n    <tr>\n      <th>4</th>\n      <td>0.000000</td>\n      <td>thiamin</td>\n    </tr>\n    <tr>\n      <th>5</th>\n      <td>0.000000</td>\n      <td>riboflavin</td>\n    </tr>\n    <tr>\n      <th>6</th>\n      <td>0.000000</td>\n      <td>niacin</td>\n    </tr>\n    <tr>\n      <th>7</th>\n      <td>0.000000</td>\n      <td>vitamin_b6</td>\n    </tr>\n    <tr>\n      <th>8</th>\n      <td>0.000000</td>\n      <td>vitamin_b12</td>\n    </tr>\n    <tr>\n      <th>9</th>\n      <td>0.000000</td>\n      <td>folate</td>\n    </tr>\n    <tr>\n      <th>10</th>\n      <td>0.000000</td>\n      <td>vitamin_c</td>\n    </tr>\n    <tr>\n      <th>11</th>\n      <td>0.002000</td>\n      <td>calcium</td>\n    </tr>\n    <tr>\n      <th>12</th>\n      <td>0.026111</td>\n      <td>irom</td>\n    </tr>\n    <tr>\n      <th>13</th>\n      <td>0.009677</td>\n      <td>magnesium</td>\n    </tr>\n    <tr>\n      <th>14</th>\n      <td>0.001071</td>\n      <td>potassium</td>\n    </tr>\n    <tr>\n      <th>15</th>\n      <td>0.019565</td>\n      <td>sodium</td>\n    </tr>\n    <tr>\n      <th>16</th>\n      <td>0.007500</td>\n      <td>zink</td>\n    </tr>\n  </tbody>\n</table>\n</div>"
     },
     "metadata": {},
     "execution_count": 110
    }
   ],
   "source": [
    "df2 = pd.DataFrame()\n",
    "df2[\"%OfDailyIntake\"] = food[\"quantity\"] / daily_intake_women_30[\"quantity\"]\n",
    "df2[\"nutrient\"] = food[\"nutrient\"]\n",
    "df2"
   ]
  },
  {
   "cell_type": "code",
   "execution_count": 125,
   "metadata": {},
   "outputs": [
    {
     "output_type": "execute_result",
     "data": {
      "text/plain": [
       "0.036000000000000004"
      ]
     },
     "metadata": {},
     "execution_count": 125
    }
   ],
   "source": [
    "df2[2:][\"%OfDailyIntake\"].max()"
   ]
  },
  {
   "cell_type": "code",
   "execution_count": 127,
   "metadata": {},
   "outputs": [
    {
     "output_type": "display_data",
     "data": {
      "text/plain": "<Figure size 1080x1080 with 1 Axes>",
      "image/svg+xml": "<?xml version=\"1.0\" encoding=\"utf-8\" standalone=\"no\"?>\n<!DOCTYPE svg PUBLIC \"-//W3C//DTD SVG 1.1//EN\"\n  \"http://www.w3.org/Graphics/SVG/1.1/DTD/svg11.dtd\">\n<svg height=\"860.434375pt\" version=\"1.1\" viewBox=\"0 0 894.34375 860.434375\" width=\"894.34375pt\" xmlns=\"http://www.w3.org/2000/svg\" xmlns:xlink=\"http://www.w3.org/1999/xlink\">\n <metadata>\n  <rdf:RDF xmlns:cc=\"http://creativecommons.org/ns#\" xmlns:dc=\"http://purl.org/dc/elements/1.1/\" xmlns:rdf=\"http://www.w3.org/1999/02/22-rdf-syntax-ns#\">\n   <cc:Work>\n    <dc:type rdf:resource=\"http://purl.org/dc/dcmitype/StillImage\"/>\n    <dc:date>2021-05-22T13:31:58.151217</dc:date>\n    <dc:format>image/svg+xml</dc:format>\n    <dc:creator>\n     <cc:Agent>\n      <dc:title>Matplotlib v3.4.1, https://matplotlib.org/</dc:title>\n     </cc:Agent>\n    </dc:creator>\n   </cc:Work>\n  </rdf:RDF>\n </metadata>\n <defs>\n  <style type=\"text/css\">*{stroke-linecap:butt;stroke-linejoin:round;}</style>\n </defs>\n <g id=\"figure_1\">\n  <g id=\"patch_1\">\n   <path d=\"M 0 860.434375 \nL 894.34375 860.434375 \nL 894.34375 0 \nL 0 0 \nz\n\" style=\"fill:none;\"/>\n  </g>\n  <g id=\"axes_1\">\n   <g id=\"patch_2\">\n    <path d=\"M 50.14375 822.6 \nL 887.14375 822.6 \nL 887.14375 7.2 \nL 50.14375 7.2 \nz\n\" style=\"fill:#ffffff;\"/>\n   </g>\n   <g id=\"patch_3\">\n    <path clip-path=\"url(#p4caf2f7821)\" d=\"M 55.72375 822.6 \nL 100.36375 822.6 \nL 100.36375 298.414286 \nL 55.72375 298.414286 \nz\n\" style=\"fill:#ea96a3;\"/>\n   </g>\n   <g id=\"patch_4\">\n    <path clip-path=\"url(#p4caf2f7821)\" d=\"M 111.52375 822.6 \nL 156.16375 822.6 \nL 156.16375 822.6 \nL 111.52375 822.6 \nz\n\" style=\"fill:#e59471;\"/>\n   </g>\n   <g id=\"patch_5\">\n    <path clip-path=\"url(#p4caf2f7821)\" d=\"M 167.32375 822.6 \nL 211.96375 822.6 \nL 211.96375 822.6 \nL 167.32375 822.6 \nz\n\" style=\"fill:#c6994b;\"/>\n   </g>\n   <g id=\"patch_6\">\n    <path clip-path=\"url(#p4caf2f7821)\" d=\"M 223.12375 822.6 \nL 267.76375 822.6 \nL 267.76375 822.6 \nL 223.12375 822.6 \nz\n\" style=\"fill:#ab9e47;\"/>\n   </g>\n   <g id=\"patch_7\">\n    <path clip-path=\"url(#p4caf2f7821)\" d=\"M 278.92375 822.6 \nL 323.56375 822.6 \nL 323.56375 822.6 \nL 278.92375 822.6 \nz\n\" style=\"fill:#91a446;\"/>\n   </g>\n   <g id=\"patch_8\">\n    <path clip-path=\"url(#p4caf2f7821)\" d=\"M 334.72375 822.6 \nL 379.36375 822.6 \nL 379.36375 822.6 \nL 334.72375 822.6 \nz\n\" style=\"fill:#60ae47;\"/>\n   </g>\n   <g id=\"patch_9\">\n    <path clip-path=\"url(#p4caf2f7821)\" d=\"M 390.52375 822.6 \nL 435.16375 822.6 \nL 435.16375 822.6 \nL 390.52375 822.6 \nz\n\" style=\"fill:#49ae83;\"/>\n   </g>\n   <g id=\"patch_10\">\n    <path clip-path=\"url(#p4caf2f7821)\" d=\"M 446.32375 822.6 \nL 490.96375 822.6 \nL 490.96375 822.6 \nL 446.32375 822.6 \nz\n\" style=\"fill:#4aac9b;\"/>\n   </g>\n   <g id=\"patch_11\">\n    <path clip-path=\"url(#p4caf2f7821)\" d=\"M 502.12375 822.6 \nL 546.76375 822.6 \nL 546.76375 822.6 \nL 502.12375 822.6 \nz\n\" style=\"fill:#4cabad;\"/>\n   </g>\n   <g id=\"patch_12\">\n    <path clip-path=\"url(#p4caf2f7821)\" d=\"M 557.92375 822.6 \nL 602.56375 822.6 \nL 602.56375 793.478571 \nL 557.92375 793.478571 \nz\n\" style=\"fill:#50acc3;\"/>\n   </g>\n   <g id=\"patch_13\">\n    <path clip-path=\"url(#p4caf2f7821)\" d=\"M 613.72375 822.6 \nL 658.36375 822.6 \nL 658.36375 442.403571 \nL 613.72375 442.403571 \nz\n\" style=\"fill:#6daee2;\"/>\n   </g>\n   <g id=\"patch_14\">\n    <path clip-path=\"url(#p4caf2f7821)\" d=\"M 669.52375 822.6 \nL 714.16375 822.6 \nL 714.16375 681.689862 \nL 669.52375 681.689862 \nz\n\" style=\"fill:#adabeb;\"/>\n   </g>\n   <g id=\"patch_15\">\n    <path clip-path=\"url(#p4caf2f7821)\" d=\"M 725.32375 822.6 \nL 769.96375 822.6 \nL 769.96375 806.999235 \nL 725.32375 806.999235 \nz\n\" style=\"fill:#ce9be9;\"/>\n   </g>\n   <g id=\"patch_16\">\n    <path clip-path=\"url(#p4caf2f7821)\" d=\"M 781.12375 822.6 \nL 825.76375 822.6 \nL 825.76375 537.71646 \nL 781.12375 537.71646 \nz\n\" style=\"fill:#e78bdb;\"/>\n   </g>\n   <g id=\"patch_17\">\n    <path clip-path=\"url(#p4caf2f7821)\" d=\"M 836.92375 822.6 \nL 881.56375 822.6 \nL 881.56375 713.394643 \nL 836.92375 713.394643 \nz\n\" style=\"fill:#e891bf;\"/>\n   </g>\n   <g id=\"matplotlib.axis_1\">\n    <g id=\"xtick_1\">\n     <g id=\"line2d_1\">\n      <defs>\n       <path d=\"M 0 0 \nL 0 3.5 \n\" id=\"m78b803783b\" style=\"stroke:#000000;stroke-width:0.8;\"/>\n      </defs>\n      <g>\n       <use style=\"stroke:#000000;stroke-width:0.8;\" x=\"78.04375\" xlink:href=\"#m78b803783b\" y=\"822.6\"/>\n      </g>\n     </g>\n     <g id=\"text_1\">\n      <!-- fiber -->\n      <g transform=\"translate(66.588281 837.198437)scale(0.1 -0.1)\">\n       <defs>\n        <path d=\"M 2375 4863 \nL 2375 4384 \nL 1825 4384 \nQ 1516 4384 1395 4259 \nQ 1275 4134 1275 3809 \nL 1275 3500 \nL 2222 3500 \nL 2222 3053 \nL 1275 3053 \nL 1275 0 \nL 697 0 \nL 697 3053 \nL 147 3053 \nL 147 3500 \nL 697 3500 \nL 697 3744 \nQ 697 4328 969 4595 \nQ 1241 4863 1831 4863 \nL 2375 4863 \nz\n\" id=\"DejaVuSans-66\" transform=\"scale(0.015625)\"/>\n        <path d=\"M 603 3500 \nL 1178 3500 \nL 1178 0 \nL 603 0 \nL 603 3500 \nz\nM 603 4863 \nL 1178 4863 \nL 1178 4134 \nL 603 4134 \nL 603 4863 \nz\n\" id=\"DejaVuSans-69\" transform=\"scale(0.015625)\"/>\n        <path d=\"M 3116 1747 \nQ 3116 2381 2855 2742 \nQ 2594 3103 2138 3103 \nQ 1681 3103 1420 2742 \nQ 1159 2381 1159 1747 \nQ 1159 1113 1420 752 \nQ 1681 391 2138 391 \nQ 2594 391 2855 752 \nQ 3116 1113 3116 1747 \nz\nM 1159 2969 \nQ 1341 3281 1617 3432 \nQ 1894 3584 2278 3584 \nQ 2916 3584 3314 3078 \nQ 3713 2572 3713 1747 \nQ 3713 922 3314 415 \nQ 2916 -91 2278 -91 \nQ 1894 -91 1617 61 \nQ 1341 213 1159 525 \nL 1159 0 \nL 581 0 \nL 581 4863 \nL 1159 4863 \nL 1159 2969 \nz\n\" id=\"DejaVuSans-62\" transform=\"scale(0.015625)\"/>\n        <path d=\"M 3597 1894 \nL 3597 1613 \nL 953 1613 \nQ 991 1019 1311 708 \nQ 1631 397 2203 397 \nQ 2534 397 2845 478 \nQ 3156 559 3463 722 \nL 3463 178 \nQ 3153 47 2828 -22 \nQ 2503 -91 2169 -91 \nQ 1331 -91 842 396 \nQ 353 884 353 1716 \nQ 353 2575 817 3079 \nQ 1281 3584 2069 3584 \nQ 2775 3584 3186 3129 \nQ 3597 2675 3597 1894 \nz\nM 3022 2063 \nQ 3016 2534 2758 2815 \nQ 2500 3097 2075 3097 \nQ 1594 3097 1305 2825 \nQ 1016 2553 972 2059 \nL 3022 2063 \nz\n\" id=\"DejaVuSans-65\" transform=\"scale(0.015625)\"/>\n        <path d=\"M 2631 2963 \nQ 2534 3019 2420 3045 \nQ 2306 3072 2169 3072 \nQ 1681 3072 1420 2755 \nQ 1159 2438 1159 1844 \nL 1159 0 \nL 581 0 \nL 581 3500 \nL 1159 3500 \nL 1159 2956 \nQ 1341 3275 1631 3429 \nQ 1922 3584 2338 3584 \nQ 2397 3584 2469 3576 \nQ 2541 3569 2628 3553 \nL 2631 2963 \nz\n\" id=\"DejaVuSans-72\" transform=\"scale(0.015625)\"/>\n       </defs>\n       <use xlink:href=\"#DejaVuSans-66\"/>\n       <use x=\"35.205078\" xlink:href=\"#DejaVuSans-69\"/>\n       <use x=\"62.988281\" xlink:href=\"#DejaVuSans-62\"/>\n       <use x=\"126.464844\" xlink:href=\"#DejaVuSans-65\"/>\n       <use x=\"187.988281\" xlink:href=\"#DejaVuSans-72\"/>\n      </g>\n     </g>\n    </g>\n    <g id=\"xtick_2\">\n     <g id=\"line2d_2\">\n      <g>\n       <use style=\"stroke:#000000;stroke-width:0.8;\" x=\"133.84375\" xlink:href=\"#m78b803783b\" y=\"822.6\"/>\n      </g>\n     </g>\n     <g id=\"text_2\">\n      <!-- vitamin_a -->\n      <g transform=\"translate(109.478906 837.198437)scale(0.1 -0.1)\">\n       <defs>\n        <path d=\"M 191 3500 \nL 800 3500 \nL 1894 563 \nL 2988 3500 \nL 3597 3500 \nL 2284 0 \nL 1503 0 \nL 191 3500 \nz\n\" id=\"DejaVuSans-76\" transform=\"scale(0.015625)\"/>\n        <path d=\"M 1172 4494 \nL 1172 3500 \nL 2356 3500 \nL 2356 3053 \nL 1172 3053 \nL 1172 1153 \nQ 1172 725 1289 603 \nQ 1406 481 1766 481 \nL 2356 481 \nL 2356 0 \nL 1766 0 \nQ 1100 0 847 248 \nQ 594 497 594 1153 \nL 594 3053 \nL 172 3053 \nL 172 3500 \nL 594 3500 \nL 594 4494 \nL 1172 4494 \nz\n\" id=\"DejaVuSans-74\" transform=\"scale(0.015625)\"/>\n        <path d=\"M 2194 1759 \nQ 1497 1759 1228 1600 \nQ 959 1441 959 1056 \nQ 959 750 1161 570 \nQ 1363 391 1709 391 \nQ 2188 391 2477 730 \nQ 2766 1069 2766 1631 \nL 2766 1759 \nL 2194 1759 \nz\nM 3341 1997 \nL 3341 0 \nL 2766 0 \nL 2766 531 \nQ 2569 213 2275 61 \nQ 1981 -91 1556 -91 \nQ 1019 -91 701 211 \nQ 384 513 384 1019 \nQ 384 1609 779 1909 \nQ 1175 2209 1959 2209 \nL 2766 2209 \nL 2766 2266 \nQ 2766 2663 2505 2880 \nQ 2244 3097 1772 3097 \nQ 1472 3097 1187 3025 \nQ 903 2953 641 2809 \nL 641 3341 \nQ 956 3463 1253 3523 \nQ 1550 3584 1831 3584 \nQ 2591 3584 2966 3190 \nQ 3341 2797 3341 1997 \nz\n\" id=\"DejaVuSans-61\" transform=\"scale(0.015625)\"/>\n        <path d=\"M 3328 2828 \nQ 3544 3216 3844 3400 \nQ 4144 3584 4550 3584 \nQ 5097 3584 5394 3201 \nQ 5691 2819 5691 2113 \nL 5691 0 \nL 5113 0 \nL 5113 2094 \nQ 5113 2597 4934 2840 \nQ 4756 3084 4391 3084 \nQ 3944 3084 3684 2787 \nQ 3425 2491 3425 1978 \nL 3425 0 \nL 2847 0 \nL 2847 2094 \nQ 2847 2600 2669 2842 \nQ 2491 3084 2119 3084 \nQ 1678 3084 1418 2786 \nQ 1159 2488 1159 1978 \nL 1159 0 \nL 581 0 \nL 581 3500 \nL 1159 3500 \nL 1159 2956 \nQ 1356 3278 1631 3431 \nQ 1906 3584 2284 3584 \nQ 2666 3584 2933 3390 \nQ 3200 3197 3328 2828 \nz\n\" id=\"DejaVuSans-6d\" transform=\"scale(0.015625)\"/>\n        <path d=\"M 3513 2113 \nL 3513 0 \nL 2938 0 \nL 2938 2094 \nQ 2938 2591 2744 2837 \nQ 2550 3084 2163 3084 \nQ 1697 3084 1428 2787 \nQ 1159 2491 1159 1978 \nL 1159 0 \nL 581 0 \nL 581 3500 \nL 1159 3500 \nL 1159 2956 \nQ 1366 3272 1645 3428 \nQ 1925 3584 2291 3584 \nQ 2894 3584 3203 3211 \nQ 3513 2838 3513 2113 \nz\n\" id=\"DejaVuSans-6e\" transform=\"scale(0.015625)\"/>\n        <path d=\"M 3263 -1063 \nL 3263 -1509 \nL -63 -1509 \nL -63 -1063 \nL 3263 -1063 \nz\n\" id=\"DejaVuSans-5f\" transform=\"scale(0.015625)\"/>\n       </defs>\n       <use xlink:href=\"#DejaVuSans-76\"/>\n       <use x=\"59.179688\" xlink:href=\"#DejaVuSans-69\"/>\n       <use x=\"86.962891\" xlink:href=\"#DejaVuSans-74\"/>\n       <use x=\"126.171875\" xlink:href=\"#DejaVuSans-61\"/>\n       <use x=\"187.451172\" xlink:href=\"#DejaVuSans-6d\"/>\n       <use x=\"284.863281\" xlink:href=\"#DejaVuSans-69\"/>\n       <use x=\"312.646484\" xlink:href=\"#DejaVuSans-6e\"/>\n       <use x=\"376.025391\" xlink:href=\"#DejaVuSans-5f\"/>\n       <use x=\"426.025391\" xlink:href=\"#DejaVuSans-61\"/>\n      </g>\n     </g>\n    </g>\n    <g id=\"xtick_3\">\n     <g id=\"line2d_3\">\n      <g>\n       <use style=\"stroke:#000000;stroke-width:0.8;\" x=\"189.64375\" xlink:href=\"#m78b803783b\" y=\"822.6\"/>\n      </g>\n     </g>\n     <g id=\"text_3\">\n      <!-- thiamin -->\n      <g transform=\"translate(170.633594 837.198437)scale(0.1 -0.1)\">\n       <defs>\n        <path d=\"M 3513 2113 \nL 3513 0 \nL 2938 0 \nL 2938 2094 \nQ 2938 2591 2744 2837 \nQ 2550 3084 2163 3084 \nQ 1697 3084 1428 2787 \nQ 1159 2491 1159 1978 \nL 1159 0 \nL 581 0 \nL 581 4863 \nL 1159 4863 \nL 1159 2956 \nQ 1366 3272 1645 3428 \nQ 1925 3584 2291 3584 \nQ 2894 3584 3203 3211 \nQ 3513 2838 3513 2113 \nz\n\" id=\"DejaVuSans-68\" transform=\"scale(0.015625)\"/>\n       </defs>\n       <use xlink:href=\"#DejaVuSans-74\"/>\n       <use x=\"39.208984\" xlink:href=\"#DejaVuSans-68\"/>\n       <use x=\"102.587891\" xlink:href=\"#DejaVuSans-69\"/>\n       <use x=\"130.371094\" xlink:href=\"#DejaVuSans-61\"/>\n       <use x=\"191.650391\" xlink:href=\"#DejaVuSans-6d\"/>\n       <use x=\"289.0625\" xlink:href=\"#DejaVuSans-69\"/>\n       <use x=\"316.845703\" xlink:href=\"#DejaVuSans-6e\"/>\n      </g>\n     </g>\n    </g>\n    <g id=\"xtick_4\">\n     <g id=\"line2d_4\">\n      <g>\n       <use style=\"stroke:#000000;stroke-width:0.8;\" x=\"245.44375\" xlink:href=\"#m78b803783b\" y=\"822.6\"/>\n      </g>\n     </g>\n     <g id=\"text_4\">\n      <!-- riboflavin -->\n      <g transform=\"translate(222.035156 837.198437)scale(0.1 -0.1)\">\n       <defs>\n        <path d=\"M 1959 3097 \nQ 1497 3097 1228 2736 \nQ 959 2375 959 1747 \nQ 959 1119 1226 758 \nQ 1494 397 1959 397 \nQ 2419 397 2687 759 \nQ 2956 1122 2956 1747 \nQ 2956 2369 2687 2733 \nQ 2419 3097 1959 3097 \nz\nM 1959 3584 \nQ 2709 3584 3137 3096 \nQ 3566 2609 3566 1747 \nQ 3566 888 3137 398 \nQ 2709 -91 1959 -91 \nQ 1206 -91 779 398 \nQ 353 888 353 1747 \nQ 353 2609 779 3096 \nQ 1206 3584 1959 3584 \nz\n\" id=\"DejaVuSans-6f\" transform=\"scale(0.015625)\"/>\n        <path d=\"M 603 4863 \nL 1178 4863 \nL 1178 0 \nL 603 0 \nL 603 4863 \nz\n\" id=\"DejaVuSans-6c\" transform=\"scale(0.015625)\"/>\n       </defs>\n       <use xlink:href=\"#DejaVuSans-72\"/>\n       <use x=\"41.113281\" xlink:href=\"#DejaVuSans-69\"/>\n       <use x=\"68.896484\" xlink:href=\"#DejaVuSans-62\"/>\n       <use x=\"132.373047\" xlink:href=\"#DejaVuSans-6f\"/>\n       <use x=\"193.554688\" xlink:href=\"#DejaVuSans-66\"/>\n       <use x=\"228.759766\" xlink:href=\"#DejaVuSans-6c\"/>\n       <use x=\"256.542969\" xlink:href=\"#DejaVuSans-61\"/>\n       <use x=\"317.822266\" xlink:href=\"#DejaVuSans-76\"/>\n       <use x=\"377.001953\" xlink:href=\"#DejaVuSans-69\"/>\n       <use x=\"404.785156\" xlink:href=\"#DejaVuSans-6e\"/>\n      </g>\n     </g>\n    </g>\n    <g id=\"xtick_5\">\n     <g id=\"line2d_5\">\n      <g>\n       <use style=\"stroke:#000000;stroke-width:0.8;\" x=\"301.24375\" xlink:href=\"#m78b803783b\" y=\"822.6\"/>\n      </g>\n     </g>\n     <g id=\"text_5\">\n      <!-- niacin -->\n      <g transform=\"translate(286.314844 837.198437)scale(0.1 -0.1)\">\n       <defs>\n        <path d=\"M 3122 3366 \nL 3122 2828 \nQ 2878 2963 2633 3030 \nQ 2388 3097 2138 3097 \nQ 1578 3097 1268 2742 \nQ 959 2388 959 1747 \nQ 959 1106 1268 751 \nQ 1578 397 2138 397 \nQ 2388 397 2633 464 \nQ 2878 531 3122 666 \nL 3122 134 \nQ 2881 22 2623 -34 \nQ 2366 -91 2075 -91 \nQ 1284 -91 818 406 \nQ 353 903 353 1747 \nQ 353 2603 823 3093 \nQ 1294 3584 2113 3584 \nQ 2378 3584 2631 3529 \nQ 2884 3475 3122 3366 \nz\n\" id=\"DejaVuSans-63\" transform=\"scale(0.015625)\"/>\n       </defs>\n       <use xlink:href=\"#DejaVuSans-6e\"/>\n       <use x=\"63.378906\" xlink:href=\"#DejaVuSans-69\"/>\n       <use x=\"91.162109\" xlink:href=\"#DejaVuSans-61\"/>\n       <use x=\"152.441406\" xlink:href=\"#DejaVuSans-63\"/>\n       <use x=\"207.421875\" xlink:href=\"#DejaVuSans-69\"/>\n       <use x=\"235.205078\" xlink:href=\"#DejaVuSans-6e\"/>\n      </g>\n     </g>\n    </g>\n    <g id=\"xtick_6\">\n     <g id=\"line2d_6\">\n      <g>\n       <use style=\"stroke:#000000;stroke-width:0.8;\" x=\"357.04375\" xlink:href=\"#m78b803783b\" y=\"822.6\"/>\n      </g>\n     </g>\n     <g id=\"text_6\">\n      <!-- vitamin_b6 -->\n      <g transform=\"translate(329.3875 837.198437)scale(0.1 -0.1)\">\n       <defs>\n        <path d=\"M 2113 2584 \nQ 1688 2584 1439 2293 \nQ 1191 2003 1191 1497 \nQ 1191 994 1439 701 \nQ 1688 409 2113 409 \nQ 2538 409 2786 701 \nQ 3034 994 3034 1497 \nQ 3034 2003 2786 2293 \nQ 2538 2584 2113 2584 \nz\nM 3366 4563 \nL 3366 3988 \nQ 3128 4100 2886 4159 \nQ 2644 4219 2406 4219 \nQ 1781 4219 1451 3797 \nQ 1122 3375 1075 2522 \nQ 1259 2794 1537 2939 \nQ 1816 3084 2150 3084 \nQ 2853 3084 3261 2657 \nQ 3669 2231 3669 1497 \nQ 3669 778 3244 343 \nQ 2819 -91 2113 -91 \nQ 1303 -91 875 529 \nQ 447 1150 447 2328 \nQ 447 3434 972 4092 \nQ 1497 4750 2381 4750 \nQ 2619 4750 2861 4703 \nQ 3103 4656 3366 4563 \nz\n\" id=\"DejaVuSans-36\" transform=\"scale(0.015625)\"/>\n       </defs>\n       <use xlink:href=\"#DejaVuSans-76\"/>\n       <use x=\"59.179688\" xlink:href=\"#DejaVuSans-69\"/>\n       <use x=\"86.962891\" xlink:href=\"#DejaVuSans-74\"/>\n       <use x=\"126.171875\" xlink:href=\"#DejaVuSans-61\"/>\n       <use x=\"187.451172\" xlink:href=\"#DejaVuSans-6d\"/>\n       <use x=\"284.863281\" xlink:href=\"#DejaVuSans-69\"/>\n       <use x=\"312.646484\" xlink:href=\"#DejaVuSans-6e\"/>\n       <use x=\"376.025391\" xlink:href=\"#DejaVuSans-5f\"/>\n       <use x=\"426.025391\" xlink:href=\"#DejaVuSans-62\"/>\n       <use x=\"489.501953\" xlink:href=\"#DejaVuSans-36\"/>\n      </g>\n     </g>\n    </g>\n    <g id=\"xtick_7\">\n     <g id=\"line2d_7\">\n      <g>\n       <use style=\"stroke:#000000;stroke-width:0.8;\" x=\"412.84375\" xlink:href=\"#m78b803783b\" y=\"822.6\"/>\n      </g>\n     </g>\n     <g id=\"text_7\">\n      <!-- vitamin_b12 -->\n      <g transform=\"translate(382.00625 837.198437)scale(0.1 -0.1)\">\n       <defs>\n        <path d=\"M 794 531 \nL 1825 531 \nL 1825 4091 \nL 703 3866 \nL 703 4441 \nL 1819 4666 \nL 2450 4666 \nL 2450 531 \nL 3481 531 \nL 3481 0 \nL 794 0 \nL 794 531 \nz\n\" id=\"DejaVuSans-31\" transform=\"scale(0.015625)\"/>\n        <path d=\"M 1228 531 \nL 3431 531 \nL 3431 0 \nL 469 0 \nL 469 531 \nQ 828 903 1448 1529 \nQ 2069 2156 2228 2338 \nQ 2531 2678 2651 2914 \nQ 2772 3150 2772 3378 \nQ 2772 3750 2511 3984 \nQ 2250 4219 1831 4219 \nQ 1534 4219 1204 4116 \nQ 875 4013 500 3803 \nL 500 4441 \nQ 881 4594 1212 4672 \nQ 1544 4750 1819 4750 \nQ 2544 4750 2975 4387 \nQ 3406 4025 3406 3419 \nQ 3406 3131 3298 2873 \nQ 3191 2616 2906 2266 \nQ 2828 2175 2409 1742 \nQ 1991 1309 1228 531 \nz\n\" id=\"DejaVuSans-32\" transform=\"scale(0.015625)\"/>\n       </defs>\n       <use xlink:href=\"#DejaVuSans-76\"/>\n       <use x=\"59.179688\" xlink:href=\"#DejaVuSans-69\"/>\n       <use x=\"86.962891\" xlink:href=\"#DejaVuSans-74\"/>\n       <use x=\"126.171875\" xlink:href=\"#DejaVuSans-61\"/>\n       <use x=\"187.451172\" xlink:href=\"#DejaVuSans-6d\"/>\n       <use x=\"284.863281\" xlink:href=\"#DejaVuSans-69\"/>\n       <use x=\"312.646484\" xlink:href=\"#DejaVuSans-6e\"/>\n       <use x=\"376.025391\" xlink:href=\"#DejaVuSans-5f\"/>\n       <use x=\"426.025391\" xlink:href=\"#DejaVuSans-62\"/>\n       <use x=\"489.501953\" xlink:href=\"#DejaVuSans-31\"/>\n       <use x=\"553.125\" xlink:href=\"#DejaVuSans-32\"/>\n      </g>\n     </g>\n    </g>\n    <g id=\"xtick_8\">\n     <g id=\"line2d_8\">\n      <g>\n       <use style=\"stroke:#000000;stroke-width:0.8;\" x=\"468.64375\" xlink:href=\"#m78b803783b\" y=\"822.6\"/>\n      </g>\n     </g>\n     <g id=\"text_8\">\n      <!-- folate -->\n      <g transform=\"translate(454.334375 837.198437)scale(0.1 -0.1)\">\n       <use xlink:href=\"#DejaVuSans-66\"/>\n       <use x=\"35.205078\" xlink:href=\"#DejaVuSans-6f\"/>\n       <use x=\"96.386719\" xlink:href=\"#DejaVuSans-6c\"/>\n       <use x=\"124.169922\" xlink:href=\"#DejaVuSans-61\"/>\n       <use x=\"185.449219\" xlink:href=\"#DejaVuSans-74\"/>\n       <use x=\"224.658203\" xlink:href=\"#DejaVuSans-65\"/>\n      </g>\n     </g>\n    </g>\n    <g id=\"xtick_9\">\n     <g id=\"line2d_9\">\n      <g>\n       <use style=\"stroke:#000000;stroke-width:0.8;\" x=\"524.44375\" xlink:href=\"#m78b803783b\" y=\"822.6\"/>\n      </g>\n     </g>\n     <g id=\"text_9\">\n      <!-- vitamin_c -->\n      <g transform=\"translate(500.39375 837.198437)scale(0.1 -0.1)\">\n       <use xlink:href=\"#DejaVuSans-76\"/>\n       <use x=\"59.179688\" xlink:href=\"#DejaVuSans-69\"/>\n       <use x=\"86.962891\" xlink:href=\"#DejaVuSans-74\"/>\n       <use x=\"126.171875\" xlink:href=\"#DejaVuSans-61\"/>\n       <use x=\"187.451172\" xlink:href=\"#DejaVuSans-6d\"/>\n       <use x=\"284.863281\" xlink:href=\"#DejaVuSans-69\"/>\n       <use x=\"312.646484\" xlink:href=\"#DejaVuSans-6e\"/>\n       <use x=\"376.025391\" xlink:href=\"#DejaVuSans-5f\"/>\n       <use x=\"426.025391\" xlink:href=\"#DejaVuSans-63\"/>\n      </g>\n     </g>\n    </g>\n    <g id=\"xtick_10\">\n     <g id=\"line2d_10\">\n      <g>\n       <use style=\"stroke:#000000;stroke-width:0.8;\" x=\"580.24375\" xlink:href=\"#m78b803783b\" y=\"822.6\"/>\n      </g>\n     </g>\n     <g id=\"text_10\">\n      <!-- calcium -->\n      <g transform=\"translate(560.864062 837.198437)scale(0.1 -0.1)\">\n       <defs>\n        <path d=\"M 544 1381 \nL 544 3500 \nL 1119 3500 \nL 1119 1403 \nQ 1119 906 1312 657 \nQ 1506 409 1894 409 \nQ 2359 409 2629 706 \nQ 2900 1003 2900 1516 \nL 2900 3500 \nL 3475 3500 \nL 3475 0 \nL 2900 0 \nL 2900 538 \nQ 2691 219 2414 64 \nQ 2138 -91 1772 -91 \nQ 1169 -91 856 284 \nQ 544 659 544 1381 \nz\nM 1991 3584 \nL 1991 3584 \nz\n\" id=\"DejaVuSans-75\" transform=\"scale(0.015625)\"/>\n       </defs>\n       <use xlink:href=\"#DejaVuSans-63\"/>\n       <use x=\"54.980469\" xlink:href=\"#DejaVuSans-61\"/>\n       <use x=\"116.259766\" xlink:href=\"#DejaVuSans-6c\"/>\n       <use x=\"144.042969\" xlink:href=\"#DejaVuSans-63\"/>\n       <use x=\"199.023438\" xlink:href=\"#DejaVuSans-69\"/>\n       <use x=\"226.806641\" xlink:href=\"#DejaVuSans-75\"/>\n       <use x=\"290.185547\" xlink:href=\"#DejaVuSans-6d\"/>\n      </g>\n     </g>\n    </g>\n    <g id=\"xtick_11\">\n     <g id=\"line2d_11\">\n      <g>\n       <use style=\"stroke:#000000;stroke-width:0.8;\" x=\"636.04375\" xlink:href=\"#m78b803783b\" y=\"822.6\"/>\n      </g>\n     </g>\n     <g id=\"text_11\">\n      <!-- irom -->\n      <g transform=\"translate(624.782031 837.198437)scale(0.1 -0.1)\">\n       <use xlink:href=\"#DejaVuSans-69\"/>\n       <use x=\"27.783203\" xlink:href=\"#DejaVuSans-72\"/>\n       <use x=\"66.646484\" xlink:href=\"#DejaVuSans-6f\"/>\n       <use x=\"127.828125\" xlink:href=\"#DejaVuSans-6d\"/>\n      </g>\n     </g>\n    </g>\n    <g id=\"xtick_12\">\n     <g id=\"line2d_12\">\n      <g>\n       <use style=\"stroke:#000000;stroke-width:0.8;\" x=\"691.84375\" xlink:href=\"#m78b803783b\" y=\"822.6\"/>\n      </g>\n     </g>\n     <g id=\"text_12\">\n      <!-- magnesium -->\n      <g transform=\"translate(662.457031 837.198437)scale(0.1 -0.1)\">\n       <defs>\n        <path d=\"M 2906 1791 \nQ 2906 2416 2648 2759 \nQ 2391 3103 1925 3103 \nQ 1463 3103 1205 2759 \nQ 947 2416 947 1791 \nQ 947 1169 1205 825 \nQ 1463 481 1925 481 \nQ 2391 481 2648 825 \nQ 2906 1169 2906 1791 \nz\nM 3481 434 \nQ 3481 -459 3084 -895 \nQ 2688 -1331 1869 -1331 \nQ 1566 -1331 1297 -1286 \nQ 1028 -1241 775 -1147 \nL 775 -588 \nQ 1028 -725 1275 -790 \nQ 1522 -856 1778 -856 \nQ 2344 -856 2625 -561 \nQ 2906 -266 2906 331 \nL 2906 616 \nQ 2728 306 2450 153 \nQ 2172 0 1784 0 \nQ 1141 0 747 490 \nQ 353 981 353 1791 \nQ 353 2603 747 3093 \nQ 1141 3584 1784 3584 \nQ 2172 3584 2450 3431 \nQ 2728 3278 2906 2969 \nL 2906 3500 \nL 3481 3500 \nL 3481 434 \nz\n\" id=\"DejaVuSans-67\" transform=\"scale(0.015625)\"/>\n        <path d=\"M 2834 3397 \nL 2834 2853 \nQ 2591 2978 2328 3040 \nQ 2066 3103 1784 3103 \nQ 1356 3103 1142 2972 \nQ 928 2841 928 2578 \nQ 928 2378 1081 2264 \nQ 1234 2150 1697 2047 \nL 1894 2003 \nQ 2506 1872 2764 1633 \nQ 3022 1394 3022 966 \nQ 3022 478 2636 193 \nQ 2250 -91 1575 -91 \nQ 1294 -91 989 -36 \nQ 684 19 347 128 \nL 347 722 \nQ 666 556 975 473 \nQ 1284 391 1588 391 \nQ 1994 391 2212 530 \nQ 2431 669 2431 922 \nQ 2431 1156 2273 1281 \nQ 2116 1406 1581 1522 \nL 1381 1569 \nQ 847 1681 609 1914 \nQ 372 2147 372 2553 \nQ 372 3047 722 3315 \nQ 1072 3584 1716 3584 \nQ 2034 3584 2315 3537 \nQ 2597 3491 2834 3397 \nz\n\" id=\"DejaVuSans-73\" transform=\"scale(0.015625)\"/>\n       </defs>\n       <use xlink:href=\"#DejaVuSans-6d\"/>\n       <use x=\"97.412109\" xlink:href=\"#DejaVuSans-61\"/>\n       <use x=\"158.691406\" xlink:href=\"#DejaVuSans-67\"/>\n       <use x=\"222.167969\" xlink:href=\"#DejaVuSans-6e\"/>\n       <use x=\"285.546875\" xlink:href=\"#DejaVuSans-65\"/>\n       <use x=\"347.070312\" xlink:href=\"#DejaVuSans-73\"/>\n       <use x=\"399.169922\" xlink:href=\"#DejaVuSans-69\"/>\n       <use x=\"426.953125\" xlink:href=\"#DejaVuSans-75\"/>\n       <use x=\"490.332031\" xlink:href=\"#DejaVuSans-6d\"/>\n      </g>\n     </g>\n    </g>\n    <g id=\"xtick_13\">\n     <g id=\"line2d_13\">\n      <g>\n       <use style=\"stroke:#000000;stroke-width:0.8;\" x=\"747.64375\" xlink:href=\"#m78b803783b\" y=\"822.6\"/>\n      </g>\n     </g>\n     <g id=\"text_13\">\n      <!-- potassium -->\n      <g transform=\"translate(721.748437 837.198437)scale(0.1 -0.1)\">\n       <defs>\n        <path d=\"M 1159 525 \nL 1159 -1331 \nL 581 -1331 \nL 581 3500 \nL 1159 3500 \nL 1159 2969 \nQ 1341 3281 1617 3432 \nQ 1894 3584 2278 3584 \nQ 2916 3584 3314 3078 \nQ 3713 2572 3713 1747 \nQ 3713 922 3314 415 \nQ 2916 -91 2278 -91 \nQ 1894 -91 1617 61 \nQ 1341 213 1159 525 \nz\nM 3116 1747 \nQ 3116 2381 2855 2742 \nQ 2594 3103 2138 3103 \nQ 1681 3103 1420 2742 \nQ 1159 2381 1159 1747 \nQ 1159 1113 1420 752 \nQ 1681 391 2138 391 \nQ 2594 391 2855 752 \nQ 3116 1113 3116 1747 \nz\n\" id=\"DejaVuSans-70\" transform=\"scale(0.015625)\"/>\n       </defs>\n       <use xlink:href=\"#DejaVuSans-70\"/>\n       <use x=\"63.476562\" xlink:href=\"#DejaVuSans-6f\"/>\n       <use x=\"124.658203\" xlink:href=\"#DejaVuSans-74\"/>\n       <use x=\"163.867188\" xlink:href=\"#DejaVuSans-61\"/>\n       <use x=\"225.146484\" xlink:href=\"#DejaVuSans-73\"/>\n       <use x=\"277.246094\" xlink:href=\"#DejaVuSans-73\"/>\n       <use x=\"329.345703\" xlink:href=\"#DejaVuSans-69\"/>\n       <use x=\"357.128906\" xlink:href=\"#DejaVuSans-75\"/>\n       <use x=\"420.507812\" xlink:href=\"#DejaVuSans-6d\"/>\n      </g>\n     </g>\n    </g>\n    <g id=\"xtick_14\">\n     <g id=\"line2d_14\">\n      <g>\n       <use style=\"stroke:#000000;stroke-width:0.8;\" x=\"803.44375\" xlink:href=\"#m78b803783b\" y=\"822.6\"/>\n      </g>\n     </g>\n     <g id=\"text_14\">\n      <!-- sodium -->\n      <g transform=\"translate(785.177344 837.198437)scale(0.1 -0.1)\">\n       <defs>\n        <path d=\"M 2906 2969 \nL 2906 4863 \nL 3481 4863 \nL 3481 0 \nL 2906 0 \nL 2906 525 \nQ 2725 213 2448 61 \nQ 2172 -91 1784 -91 \nQ 1150 -91 751 415 \nQ 353 922 353 1747 \nQ 353 2572 751 3078 \nQ 1150 3584 1784 3584 \nQ 2172 3584 2448 3432 \nQ 2725 3281 2906 2969 \nz\nM 947 1747 \nQ 947 1113 1208 752 \nQ 1469 391 1925 391 \nQ 2381 391 2643 752 \nQ 2906 1113 2906 1747 \nQ 2906 2381 2643 2742 \nQ 2381 3103 1925 3103 \nQ 1469 3103 1208 2742 \nQ 947 2381 947 1747 \nz\n\" id=\"DejaVuSans-64\" transform=\"scale(0.015625)\"/>\n       </defs>\n       <use xlink:href=\"#DejaVuSans-73\"/>\n       <use x=\"52.099609\" xlink:href=\"#DejaVuSans-6f\"/>\n       <use x=\"113.28125\" xlink:href=\"#DejaVuSans-64\"/>\n       <use x=\"176.757812\" xlink:href=\"#DejaVuSans-69\"/>\n       <use x=\"204.541016\" xlink:href=\"#DejaVuSans-75\"/>\n       <use x=\"267.919922\" xlink:href=\"#DejaVuSans-6d\"/>\n      </g>\n     </g>\n    </g>\n    <g id=\"xtick_15\">\n     <g id=\"line2d_15\">\n      <g>\n       <use style=\"stroke:#000000;stroke-width:0.8;\" x=\"859.24375\" xlink:href=\"#m78b803783b\" y=\"822.6\"/>\n      </g>\n     </g>\n     <g id=\"text_15\">\n      <!-- zink -->\n      <g transform=\"translate(849.166406 837.198437)scale(0.1 -0.1)\">\n       <defs>\n        <path d=\"M 353 3500 \nL 3084 3500 \nL 3084 2975 \nL 922 459 \nL 3084 459 \nL 3084 0 \nL 275 0 \nL 275 525 \nL 2438 3041 \nL 353 3041 \nL 353 3500 \nz\n\" id=\"DejaVuSans-7a\" transform=\"scale(0.015625)\"/>\n        <path d=\"M 581 4863 \nL 1159 4863 \nL 1159 1991 \nL 2875 3500 \nL 3609 3500 \nL 1753 1863 \nL 3688 0 \nL 2938 0 \nL 1159 1709 \nL 1159 0 \nL 581 0 \nL 581 4863 \nz\n\" id=\"DejaVuSans-6b\" transform=\"scale(0.015625)\"/>\n       </defs>\n       <use xlink:href=\"#DejaVuSans-7a\"/>\n       <use x=\"52.490234\" xlink:href=\"#DejaVuSans-69\"/>\n       <use x=\"80.273438\" xlink:href=\"#DejaVuSans-6e\"/>\n       <use x=\"143.652344\" xlink:href=\"#DejaVuSans-6b\"/>\n      </g>\n     </g>\n    </g>\n    <g id=\"text_16\">\n     <!-- nutrient -->\n     <g transform=\"translate(448.696094 851.154687)scale(0.1 -0.1)\">\n      <use xlink:href=\"#DejaVuSans-6e\"/>\n      <use x=\"63.378906\" xlink:href=\"#DejaVuSans-75\"/>\n      <use x=\"126.757812\" xlink:href=\"#DejaVuSans-74\"/>\n      <use x=\"165.966797\" xlink:href=\"#DejaVuSans-72\"/>\n      <use x=\"207.080078\" xlink:href=\"#DejaVuSans-69\"/>\n      <use x=\"234.863281\" xlink:href=\"#DejaVuSans-65\"/>\n      <use x=\"296.386719\" xlink:href=\"#DejaVuSans-6e\"/>\n      <use x=\"359.765625\" xlink:href=\"#DejaVuSans-74\"/>\n     </g>\n    </g>\n   </g>\n   <g id=\"matplotlib.axis_2\">\n    <g id=\"ytick_1\">\n     <g id=\"line2d_16\">\n      <defs>\n       <path d=\"M 0 0 \nL -3.5 0 \n\" id=\"mc342f235f5\" style=\"stroke:#000000;stroke-width:0.8;\"/>\n      </defs>\n      <g>\n       <use style=\"stroke:#000000;stroke-width:0.8;\" x=\"50.14375\" xlink:href=\"#mc342f235f5\" y=\"822.6\"/>\n      </g>\n     </g>\n     <g id=\"text_17\">\n      <!-- 0.00 -->\n      <g transform=\"translate(20.878125 826.399219)scale(0.1 -0.1)\">\n       <defs>\n        <path d=\"M 2034 4250 \nQ 1547 4250 1301 3770 \nQ 1056 3291 1056 2328 \nQ 1056 1369 1301 889 \nQ 1547 409 2034 409 \nQ 2525 409 2770 889 \nQ 3016 1369 3016 2328 \nQ 3016 3291 2770 3770 \nQ 2525 4250 2034 4250 \nz\nM 2034 4750 \nQ 2819 4750 3233 4129 \nQ 3647 3509 3647 2328 \nQ 3647 1150 3233 529 \nQ 2819 -91 2034 -91 \nQ 1250 -91 836 529 \nQ 422 1150 422 2328 \nQ 422 3509 836 4129 \nQ 1250 4750 2034 4750 \nz\n\" id=\"DejaVuSans-30\" transform=\"scale(0.015625)\"/>\n        <path d=\"M 684 794 \nL 1344 794 \nL 1344 0 \nL 684 0 \nL 684 794 \nz\n\" id=\"DejaVuSans-2e\" transform=\"scale(0.015625)\"/>\n       </defs>\n       <use xlink:href=\"#DejaVuSans-30\"/>\n       <use x=\"63.623047\" xlink:href=\"#DejaVuSans-2e\"/>\n       <use x=\"95.410156\" xlink:href=\"#DejaVuSans-30\"/>\n       <use x=\"159.033203\" xlink:href=\"#DejaVuSans-30\"/>\n      </g>\n     </g>\n    </g>\n    <g id=\"ytick_2\">\n     <g id=\"line2d_17\">\n      <g>\n       <use style=\"stroke:#000000;stroke-width:0.8;\" x=\"50.14375\" xlink:href=\"#mc342f235f5\" y=\"676.992857\"/>\n      </g>\n     </g>\n     <g id=\"text_18\">\n      <!-- 0.01 -->\n      <g transform=\"translate(20.878125 680.792076)scale(0.1 -0.1)\">\n       <use xlink:href=\"#DejaVuSans-30\"/>\n       <use x=\"63.623047\" xlink:href=\"#DejaVuSans-2e\"/>\n       <use x=\"95.410156\" xlink:href=\"#DejaVuSans-30\"/>\n       <use x=\"159.033203\" xlink:href=\"#DejaVuSans-31\"/>\n      </g>\n     </g>\n    </g>\n    <g id=\"ytick_3\">\n     <g id=\"line2d_18\">\n      <g>\n       <use style=\"stroke:#000000;stroke-width:0.8;\" x=\"50.14375\" xlink:href=\"#mc342f235f5\" y=\"531.385714\"/>\n      </g>\n     </g>\n     <g id=\"text_19\">\n      <!-- 0.02 -->\n      <g transform=\"translate(20.878125 535.184933)scale(0.1 -0.1)\">\n       <use xlink:href=\"#DejaVuSans-30\"/>\n       <use x=\"63.623047\" xlink:href=\"#DejaVuSans-2e\"/>\n       <use x=\"95.410156\" xlink:href=\"#DejaVuSans-30\"/>\n       <use x=\"159.033203\" xlink:href=\"#DejaVuSans-32\"/>\n      </g>\n     </g>\n    </g>\n    <g id=\"ytick_4\">\n     <g id=\"line2d_19\">\n      <g>\n       <use style=\"stroke:#000000;stroke-width:0.8;\" x=\"50.14375\" xlink:href=\"#mc342f235f5\" y=\"385.778571\"/>\n      </g>\n     </g>\n     <g id=\"text_20\">\n      <!-- 0.03 -->\n      <g transform=\"translate(20.878125 389.57779)scale(0.1 -0.1)\">\n       <defs>\n        <path d=\"M 2597 2516 \nQ 3050 2419 3304 2112 \nQ 3559 1806 3559 1356 \nQ 3559 666 3084 287 \nQ 2609 -91 1734 -91 \nQ 1441 -91 1130 -33 \nQ 819 25 488 141 \nL 488 750 \nQ 750 597 1062 519 \nQ 1375 441 1716 441 \nQ 2309 441 2620 675 \nQ 2931 909 2931 1356 \nQ 2931 1769 2642 2001 \nQ 2353 2234 1838 2234 \nL 1294 2234 \nL 1294 2753 \nL 1863 2753 \nQ 2328 2753 2575 2939 \nQ 2822 3125 2822 3475 \nQ 2822 3834 2567 4026 \nQ 2313 4219 1838 4219 \nQ 1578 4219 1281 4162 \nQ 984 4106 628 3988 \nL 628 4550 \nQ 988 4650 1302 4700 \nQ 1616 4750 1894 4750 \nQ 2613 4750 3031 4423 \nQ 3450 4097 3450 3541 \nQ 3450 3153 3228 2886 \nQ 3006 2619 2597 2516 \nz\n\" id=\"DejaVuSans-33\" transform=\"scale(0.015625)\"/>\n       </defs>\n       <use xlink:href=\"#DejaVuSans-30\"/>\n       <use x=\"63.623047\" xlink:href=\"#DejaVuSans-2e\"/>\n       <use x=\"95.410156\" xlink:href=\"#DejaVuSans-30\"/>\n       <use x=\"159.033203\" xlink:href=\"#DejaVuSans-33\"/>\n      </g>\n     </g>\n    </g>\n    <g id=\"ytick_5\">\n     <g id=\"line2d_20\">\n      <g>\n       <use style=\"stroke:#000000;stroke-width:0.8;\" x=\"50.14375\" xlink:href=\"#mc342f235f5\" y=\"240.171429\"/>\n      </g>\n     </g>\n     <g id=\"text_21\">\n      <!-- 0.04 -->\n      <g transform=\"translate(20.878125 243.970647)scale(0.1 -0.1)\">\n       <defs>\n        <path d=\"M 2419 4116 \nL 825 1625 \nL 2419 1625 \nL 2419 4116 \nz\nM 2253 4666 \nL 3047 4666 \nL 3047 1625 \nL 3713 1625 \nL 3713 1100 \nL 3047 1100 \nL 3047 0 \nL 2419 0 \nL 2419 1100 \nL 313 1100 \nL 313 1709 \nL 2253 4666 \nz\n\" id=\"DejaVuSans-34\" transform=\"scale(0.015625)\"/>\n       </defs>\n       <use xlink:href=\"#DejaVuSans-30\"/>\n       <use x=\"63.623047\" xlink:href=\"#DejaVuSans-2e\"/>\n       <use x=\"95.410156\" xlink:href=\"#DejaVuSans-30\"/>\n       <use x=\"159.033203\" xlink:href=\"#DejaVuSans-34\"/>\n      </g>\n     </g>\n    </g>\n    <g id=\"ytick_6\">\n     <g id=\"line2d_21\">\n      <g>\n       <use style=\"stroke:#000000;stroke-width:0.8;\" x=\"50.14375\" xlink:href=\"#mc342f235f5\" y=\"94.564286\"/>\n      </g>\n     </g>\n     <g id=\"text_22\">\n      <!-- 0.05 -->\n      <g transform=\"translate(20.878125 98.363504)scale(0.1 -0.1)\">\n       <defs>\n        <path d=\"M 691 4666 \nL 3169 4666 \nL 3169 4134 \nL 1269 4134 \nL 1269 2991 \nQ 1406 3038 1543 3061 \nQ 1681 3084 1819 3084 \nQ 2600 3084 3056 2656 \nQ 3513 2228 3513 1497 \nQ 3513 744 3044 326 \nQ 2575 -91 1722 -91 \nQ 1428 -91 1123 -41 \nQ 819 9 494 109 \nL 494 744 \nQ 775 591 1075 516 \nQ 1375 441 1709 441 \nQ 2250 441 2565 725 \nQ 2881 1009 2881 1497 \nQ 2881 1984 2565 2268 \nQ 2250 2553 1709 2553 \nQ 1456 2553 1204 2497 \nQ 953 2441 691 2322 \nL 691 4666 \nz\n\" id=\"DejaVuSans-35\" transform=\"scale(0.015625)\"/>\n       </defs>\n       <use xlink:href=\"#DejaVuSans-30\"/>\n       <use x=\"63.623047\" xlink:href=\"#DejaVuSans-2e\"/>\n       <use x=\"95.410156\" xlink:href=\"#DejaVuSans-30\"/>\n       <use x=\"159.033203\" xlink:href=\"#DejaVuSans-35\"/>\n      </g>\n     </g>\n    </g>\n    <g id=\"text_23\">\n     <!-- %OfDailyIntake -->\n     <g transform=\"translate(14.798438 453.457031)rotate(-90)scale(0.1 -0.1)\">\n      <defs>\n       <path d=\"M 4653 2053 \nQ 4381 2053 4226 1822 \nQ 4072 1591 4072 1178 \nQ 4072 772 4226 539 \nQ 4381 306 4653 306 \nQ 4919 306 5073 539 \nQ 5228 772 5228 1178 \nQ 5228 1588 5073 1820 \nQ 4919 2053 4653 2053 \nz\nM 4653 2450 \nQ 5147 2450 5437 2106 \nQ 5728 1763 5728 1178 \nQ 5728 594 5436 251 \nQ 5144 -91 4653 -91 \nQ 4153 -91 3862 251 \nQ 3572 594 3572 1178 \nQ 3572 1766 3864 2108 \nQ 4156 2450 4653 2450 \nz\nM 1428 4353 \nQ 1159 4353 1004 4120 \nQ 850 3888 850 3481 \nQ 850 3069 1003 2837 \nQ 1156 2606 1428 2606 \nQ 1700 2606 1854 2837 \nQ 2009 3069 2009 3481 \nQ 2009 3884 1853 4118 \nQ 1697 4353 1428 4353 \nz\nM 4250 4750 \nL 4750 4750 \nL 1831 -91 \nL 1331 -91 \nL 4250 4750 \nz\nM 1428 4750 \nQ 1922 4750 2215 4408 \nQ 2509 4066 2509 3481 \nQ 2509 2891 2217 2550 \nQ 1925 2209 1428 2209 \nQ 931 2209 642 2551 \nQ 353 2894 353 3481 \nQ 353 4063 643 4406 \nQ 934 4750 1428 4750 \nz\n\" id=\"DejaVuSans-25\" transform=\"scale(0.015625)\"/>\n       <path d=\"M 2522 4238 \nQ 1834 4238 1429 3725 \nQ 1025 3213 1025 2328 \nQ 1025 1447 1429 934 \nQ 1834 422 2522 422 \nQ 3209 422 3611 934 \nQ 4013 1447 4013 2328 \nQ 4013 3213 3611 3725 \nQ 3209 4238 2522 4238 \nz\nM 2522 4750 \nQ 3503 4750 4090 4092 \nQ 4678 3434 4678 2328 \nQ 4678 1225 4090 567 \nQ 3503 -91 2522 -91 \nQ 1538 -91 948 565 \nQ 359 1222 359 2328 \nQ 359 3434 948 4092 \nQ 1538 4750 2522 4750 \nz\n\" id=\"DejaVuSans-4f\" transform=\"scale(0.015625)\"/>\n       <path d=\"M 1259 4147 \nL 1259 519 \nL 2022 519 \nQ 2988 519 3436 956 \nQ 3884 1394 3884 2338 \nQ 3884 3275 3436 3711 \nQ 2988 4147 2022 4147 \nL 1259 4147 \nz\nM 628 4666 \nL 1925 4666 \nQ 3281 4666 3915 4102 \nQ 4550 3538 4550 2338 \nQ 4550 1131 3912 565 \nQ 3275 0 1925 0 \nL 628 0 \nL 628 4666 \nz\n\" id=\"DejaVuSans-44\" transform=\"scale(0.015625)\"/>\n       <path d=\"M 2059 -325 \nQ 1816 -950 1584 -1140 \nQ 1353 -1331 966 -1331 \nL 506 -1331 \nL 506 -850 \nL 844 -850 \nQ 1081 -850 1212 -737 \nQ 1344 -625 1503 -206 \nL 1606 56 \nL 191 3500 \nL 800 3500 \nL 1894 763 \nL 2988 3500 \nL 3597 3500 \nL 2059 -325 \nz\n\" id=\"DejaVuSans-79\" transform=\"scale(0.015625)\"/>\n       <path d=\"M 628 4666 \nL 1259 4666 \nL 1259 0 \nL 628 0 \nL 628 4666 \nz\n\" id=\"DejaVuSans-49\" transform=\"scale(0.015625)\"/>\n      </defs>\n      <use xlink:href=\"#DejaVuSans-25\"/>\n      <use x=\"95.019531\" xlink:href=\"#DejaVuSans-4f\"/>\n      <use x=\"173.730469\" xlink:href=\"#DejaVuSans-66\"/>\n      <use x=\"208.935547\" xlink:href=\"#DejaVuSans-44\"/>\n      <use x=\"285.9375\" xlink:href=\"#DejaVuSans-61\"/>\n      <use x=\"347.216797\" xlink:href=\"#DejaVuSans-69\"/>\n      <use x=\"375\" xlink:href=\"#DejaVuSans-6c\"/>\n      <use x=\"402.783203\" xlink:href=\"#DejaVuSans-79\"/>\n      <use x=\"461.962891\" xlink:href=\"#DejaVuSans-49\"/>\n      <use x=\"491.455078\" xlink:href=\"#DejaVuSans-6e\"/>\n      <use x=\"554.833984\" xlink:href=\"#DejaVuSans-74\"/>\n      <use x=\"594.042969\" xlink:href=\"#DejaVuSans-61\"/>\n      <use x=\"655.322266\" xlink:href=\"#DejaVuSans-6b\"/>\n      <use x=\"709.607422\" xlink:href=\"#DejaVuSans-65\"/>\n     </g>\n    </g>\n   </g>\n   <g id=\"line2d_22\">\n    <path clip-path=\"url(#p4caf2f7821)\" d=\"M 0 0 \n\" style=\"fill:none;stroke:#424242;stroke-linecap:square;stroke-width:2.7;\"/>\n   </g>\n   <g id=\"line2d_23\">\n    <path clip-path=\"url(#p4caf2f7821)\" d=\"M 0 0 \n\" style=\"fill:none;stroke:#424242;stroke-linecap:square;stroke-width:2.7;\"/>\n   </g>\n   <g id=\"line2d_24\">\n    <path clip-path=\"url(#p4caf2f7821)\" d=\"M 0 0 \n\" style=\"fill:none;stroke:#424242;stroke-linecap:square;stroke-width:2.7;\"/>\n   </g>\n   <g id=\"line2d_25\">\n    <path clip-path=\"url(#p4caf2f7821)\" d=\"M 0 0 \n\" style=\"fill:none;stroke:#424242;stroke-linecap:square;stroke-width:2.7;\"/>\n   </g>\n   <g id=\"line2d_26\">\n    <path clip-path=\"url(#p4caf2f7821)\" d=\"M 0 0 \n\" style=\"fill:none;stroke:#424242;stroke-linecap:square;stroke-width:2.7;\"/>\n   </g>\n   <g id=\"line2d_27\">\n    <path clip-path=\"url(#p4caf2f7821)\" d=\"M 0 0 \n\" style=\"fill:none;stroke:#424242;stroke-linecap:square;stroke-width:2.7;\"/>\n   </g>\n   <g id=\"line2d_28\">\n    <path clip-path=\"url(#p4caf2f7821)\" d=\"M 0 0 \n\" style=\"fill:none;stroke:#424242;stroke-linecap:square;stroke-width:2.7;\"/>\n   </g>\n   <g id=\"line2d_29\">\n    <path clip-path=\"url(#p4caf2f7821)\" d=\"M 0 0 \n\" style=\"fill:none;stroke:#424242;stroke-linecap:square;stroke-width:2.7;\"/>\n   </g>\n   <g id=\"line2d_30\">\n    <path clip-path=\"url(#p4caf2f7821)\" d=\"M 0 0 \n\" style=\"fill:none;stroke:#424242;stroke-linecap:square;stroke-width:2.7;\"/>\n   </g>\n   <g id=\"line2d_31\">\n    <path clip-path=\"url(#p4caf2f7821)\" d=\"M 0 0 \n\" style=\"fill:none;stroke:#424242;stroke-linecap:square;stroke-width:2.7;\"/>\n   </g>\n   <g id=\"line2d_32\">\n    <path clip-path=\"url(#p4caf2f7821)\" d=\"M 0 0 \n\" style=\"fill:none;stroke:#424242;stroke-linecap:square;stroke-width:2.7;\"/>\n   </g>\n   <g id=\"line2d_33\">\n    <path clip-path=\"url(#p4caf2f7821)\" d=\"M 0 0 \n\" style=\"fill:none;stroke:#424242;stroke-linecap:square;stroke-width:2.7;\"/>\n   </g>\n   <g id=\"line2d_34\">\n    <path clip-path=\"url(#p4caf2f7821)\" d=\"M 0 0 \n\" style=\"fill:none;stroke:#424242;stroke-linecap:square;stroke-width:2.7;\"/>\n   </g>\n   <g id=\"line2d_35\">\n    <path clip-path=\"url(#p4caf2f7821)\" d=\"M 0 0 \n\" style=\"fill:none;stroke:#424242;stroke-linecap:square;stroke-width:2.7;\"/>\n   </g>\n   <g id=\"line2d_36\">\n    <path clip-path=\"url(#p4caf2f7821)\" d=\"M 0 0 \n\" style=\"fill:none;stroke:#424242;stroke-linecap:square;stroke-width:2.7;\"/>\n   </g>\n   <g id=\"patch_18\">\n    <path d=\"M 50.14375 822.6 \nL 50.14375 7.2 \n\" style=\"fill:none;stroke:#000000;stroke-linecap:square;stroke-linejoin:miter;stroke-width:0.8;\"/>\n   </g>\n   <g id=\"patch_19\">\n    <path d=\"M 887.14375 822.6 \nL 887.14375 7.2 \n\" style=\"fill:none;stroke:#000000;stroke-linecap:square;stroke-linejoin:miter;stroke-width:0.8;\"/>\n   </g>\n   <g id=\"patch_20\">\n    <path d=\"M 50.14375 822.6 \nL 887.14375 822.6 \n\" style=\"fill:none;stroke:#000000;stroke-linecap:square;stroke-linejoin:miter;stroke-width:0.8;\"/>\n   </g>\n   <g id=\"patch_21\">\n    <path d=\"M 50.14375 7.2 \nL 887.14375 7.2 \n\" style=\"fill:none;stroke:#000000;stroke-linecap:square;stroke-linejoin:miter;stroke-width:0.8;\"/>\n   </g>\n   <g id=\"text_24\">\n    <!-- 0.04 -->\n    <g transform=\"translate(66.910938 292.173661)scale(0.1 -0.1)\">\n     <use xlink:href=\"#DejaVuSans-30\"/>\n     <use x=\"63.623047\" xlink:href=\"#DejaVuSans-2e\"/>\n     <use x=\"95.410156\" xlink:href=\"#DejaVuSans-30\"/>\n     <use x=\"159.033203\" xlink:href=\"#DejaVuSans-34\"/>\n    </g>\n   </g>\n   <g id=\"text_25\">\n    <!-- 0.00 -->\n    <g transform=\"translate(122.710938 816.359375)scale(0.1 -0.1)\">\n     <use xlink:href=\"#DejaVuSans-30\"/>\n     <use x=\"63.623047\" xlink:href=\"#DejaVuSans-2e\"/>\n     <use x=\"95.410156\" xlink:href=\"#DejaVuSans-30\"/>\n     <use x=\"159.033203\" xlink:href=\"#DejaVuSans-30\"/>\n    </g>\n   </g>\n   <g id=\"text_26\">\n    <!-- 0.00 -->\n    <g transform=\"translate(178.510938 816.359375)scale(0.1 -0.1)\">\n     <use xlink:href=\"#DejaVuSans-30\"/>\n     <use x=\"63.623047\" xlink:href=\"#DejaVuSans-2e\"/>\n     <use x=\"95.410156\" xlink:href=\"#DejaVuSans-30\"/>\n     <use x=\"159.033203\" xlink:href=\"#DejaVuSans-30\"/>\n    </g>\n   </g>\n   <g id=\"text_27\">\n    <!-- 0.00 -->\n    <g transform=\"translate(234.310937 816.359375)scale(0.1 -0.1)\">\n     <use xlink:href=\"#DejaVuSans-30\"/>\n     <use x=\"63.623047\" xlink:href=\"#DejaVuSans-2e\"/>\n     <use x=\"95.410156\" xlink:href=\"#DejaVuSans-30\"/>\n     <use x=\"159.033203\" xlink:href=\"#DejaVuSans-30\"/>\n    </g>\n   </g>\n   <g id=\"text_28\">\n    <!-- 0.00 -->\n    <g transform=\"translate(290.110937 816.359375)scale(0.1 -0.1)\">\n     <use xlink:href=\"#DejaVuSans-30\"/>\n     <use x=\"63.623047\" xlink:href=\"#DejaVuSans-2e\"/>\n     <use x=\"95.410156\" xlink:href=\"#DejaVuSans-30\"/>\n     <use x=\"159.033203\" xlink:href=\"#DejaVuSans-30\"/>\n    </g>\n   </g>\n   <g id=\"text_29\">\n    <!-- 0.00 -->\n    <g transform=\"translate(345.910938 816.359375)scale(0.1 -0.1)\">\n     <use xlink:href=\"#DejaVuSans-30\"/>\n     <use x=\"63.623047\" xlink:href=\"#DejaVuSans-2e\"/>\n     <use x=\"95.410156\" xlink:href=\"#DejaVuSans-30\"/>\n     <use x=\"159.033203\" xlink:href=\"#DejaVuSans-30\"/>\n    </g>\n   </g>\n   <g id=\"text_30\">\n    <!-- 0.00 -->\n    <g transform=\"translate(401.710938 816.359375)scale(0.1 -0.1)\">\n     <use xlink:href=\"#DejaVuSans-30\"/>\n     <use x=\"63.623047\" xlink:href=\"#DejaVuSans-2e\"/>\n     <use x=\"95.410156\" xlink:href=\"#DejaVuSans-30\"/>\n     <use x=\"159.033203\" xlink:href=\"#DejaVuSans-30\"/>\n    </g>\n   </g>\n   <g id=\"text_31\">\n    <!-- 0.00 -->\n    <g transform=\"translate(457.510937 816.359375)scale(0.1 -0.1)\">\n     <use xlink:href=\"#DejaVuSans-30\"/>\n     <use x=\"63.623047\" xlink:href=\"#DejaVuSans-2e\"/>\n     <use x=\"95.410156\" xlink:href=\"#DejaVuSans-30\"/>\n     <use x=\"159.033203\" xlink:href=\"#DejaVuSans-30\"/>\n    </g>\n   </g>\n   <g id=\"text_32\">\n    <!-- 0.00 -->\n    <g transform=\"translate(513.310938 816.359375)scale(0.1 -0.1)\">\n     <use xlink:href=\"#DejaVuSans-30\"/>\n     <use x=\"63.623047\" xlink:href=\"#DejaVuSans-2e\"/>\n     <use x=\"95.410156\" xlink:href=\"#DejaVuSans-30\"/>\n     <use x=\"159.033203\" xlink:href=\"#DejaVuSans-30\"/>\n    </g>\n   </g>\n   <g id=\"text_33\">\n    <!-- 0.00 -->\n    <g transform=\"translate(569.110937 787.237946)scale(0.1 -0.1)\">\n     <use xlink:href=\"#DejaVuSans-30\"/>\n     <use x=\"63.623047\" xlink:href=\"#DejaVuSans-2e\"/>\n     <use x=\"95.410156\" xlink:href=\"#DejaVuSans-30\"/>\n     <use x=\"159.033203\" xlink:href=\"#DejaVuSans-30\"/>\n    </g>\n   </g>\n   <g id=\"text_34\">\n    <!-- 0.03 -->\n    <g transform=\"translate(624.910938 436.162946)scale(0.1 -0.1)\">\n     <use xlink:href=\"#DejaVuSans-30\"/>\n     <use x=\"63.623047\" xlink:href=\"#DejaVuSans-2e\"/>\n     <use x=\"95.410156\" xlink:href=\"#DejaVuSans-30\"/>\n     <use x=\"159.033203\" xlink:href=\"#DejaVuSans-33\"/>\n    </g>\n   </g>\n   <g id=\"text_35\">\n    <!-- 0.01 -->\n    <g transform=\"translate(680.710938 675.449237)scale(0.1 -0.1)\">\n     <use xlink:href=\"#DejaVuSans-30\"/>\n     <use x=\"63.623047\" xlink:href=\"#DejaVuSans-2e\"/>\n     <use x=\"95.410156\" xlink:href=\"#DejaVuSans-30\"/>\n     <use x=\"159.033203\" xlink:href=\"#DejaVuSans-31\"/>\n    </g>\n   </g>\n   <g id=\"text_36\">\n    <!-- 0.00 -->\n    <g transform=\"translate(736.510937 800.75861)scale(0.1 -0.1)\">\n     <use xlink:href=\"#DejaVuSans-30\"/>\n     <use x=\"63.623047\" xlink:href=\"#DejaVuSans-2e\"/>\n     <use x=\"95.410156\" xlink:href=\"#DejaVuSans-30\"/>\n     <use x=\"159.033203\" xlink:href=\"#DejaVuSans-30\"/>\n    </g>\n   </g>\n   <g id=\"text_37\">\n    <!-- 0.02 -->\n    <g transform=\"translate(792.310938 531.475835)scale(0.1 -0.1)\">\n     <use xlink:href=\"#DejaVuSans-30\"/>\n     <use x=\"63.623047\" xlink:href=\"#DejaVuSans-2e\"/>\n     <use x=\"95.410156\" xlink:href=\"#DejaVuSans-30\"/>\n     <use x=\"159.033203\" xlink:href=\"#DejaVuSans-32\"/>\n    </g>\n   </g>\n   <g id=\"text_38\">\n    <!-- 0.01 -->\n    <g transform=\"translate(848.110937 707.154018)scale(0.1 -0.1)\">\n     <use xlink:href=\"#DejaVuSans-30\"/>\n     <use x=\"63.623047\" xlink:href=\"#DejaVuSans-2e\"/>\n     <use x=\"95.410156\" xlink:href=\"#DejaVuSans-30\"/>\n     <use x=\"159.033203\" xlink:href=\"#DejaVuSans-31\"/>\n    </g>\n   </g>\n  </g>\n </g>\n <defs>\n  <clipPath id=\"p4caf2f7821\">\n   <rect height=\"815.4\" width=\"837\" x=\"50.14375\" y=\"7.2\"/>\n  </clipPath>\n </defs>\n</svg>\n",
      "image/png": "[encoded data removed]"
     },
     "metadata": {
      "needs_background": "light"
     }
    }
   ],
   "source": [
    "plt.figure(figsize = (15, 15))\n",
    "splot = sns.barplot(x = \"nutrient\", y = \"%OfDailyIntake\", data = df2[2:])\n",
    "\n",
    "plt.ylim(0, df2[2:][\"%OfDailyIntake\"].max() + 0.02)\n",
    "\n",
    "for p in splot.patches:\n",
    "    splot.annotate(format(p.get_height(), '.2f'), \n",
    "                   (p.get_x() + p.get_width() / 2., p.get_height()), \n",
    "                   ha = 'center', va = 'center', \n",
    "                   xytext = (0, 9), \n",
    "                   textcoords = 'offset points')"
   ]
  },
  {
   "cell_type": "code",
   "execution_count": 128,
   "metadata": {},
   "outputs": [],
   "source": [
    "def gram_to_liter(x):\n",
    "    return x * 0.001"
   ]
  },
  {
   "cell_type": "code",
   "execution_count": 130,
   "metadata": {},
   "outputs": [
    {
     "output_type": "execute_result",
     "data": {
      "text/plain": [
       "0.001"
      ]
     },
     "metadata": {},
     "execution_count": 130
    }
   ],
   "source": [
    "x = 1\n",
    "gram_to_liter(x)"
   ]
  },
  {
   "cell_type": "code",
   "execution_count": 131,
   "metadata": {},
   "outputs": [],
   "source": [
    "def iu_to_mcg(x):\n",
    "    # This is from international units to mcg retinol\n",
    "    # I'll use this function to convert vimain a units to something that I can compare with the australian recommendation for daily intake\n",
    "    return x * 0.3"
   ]
  },
  {
   "cell_type": "code",
   "execution_count": 133,
   "metadata": {},
   "outputs": [
    {
     "output_type": "execute_result",
     "data": {
      "text/plain": [
       "4.5"
      ]
     },
     "metadata": {},
     "execution_count": 133
    }
   ],
   "source": [
    "x = 15\n",
    "iu_to_mcg(x)"
   ]
  },
  {
   "cell_type": "code",
   "execution_count": 136,
   "metadata": {},
   "outputs": [
    {
     "output_type": "execute_result",
     "data": {
      "text/plain": [
       "name\n",
       "Cornstarch                                                                                            0.00832\n",
       "Nuts, pecans                                                                                          0.00352\n",
       "Eggplant, raw                                                                                         0.09230\n",
       "Teff, uncooked                                                                                        0.00882\n",
       "Sherbet, orange                                                                                       0.06610\n",
       "                                                                                                       ...   \n",
       "Beef, raw, all grades, trimmed to 0\" fat, separable lean and fat, boneless, top round roast, round    0.07251\n",
       "Lamb, cooked, separable lean only, composite of trimmed retail cuts, frozen, imported, New Zealand    0.05995\n",
       "Lamb, raw, separable lean and fat, composite of trimmed retail cuts, frozen, imported, New Zealand    0.05980\n",
       "Beef, raw, all grades, trimmed to 0\" fat, separable lean only, boneless, eye of round roast, round    0.07343\n",
       "Beef, raw, all grades, trimmed to 0\" fat, separable lean only, boneless, eye of round steak, round    0.07343\n",
       "Name: water, Length: 8789, dtype: float64"
      ]
     },
     "metadata": {},
     "execution_count": 136
    }
   ],
   "source": [
    "nutrition[\"water\"] = nutrition[\"water\"].map(gram_to_liter)\n",
    "nutrition[\"water\"]"
   ]
  },
  {
   "cell_type": "code",
   "execution_count": null,
   "metadata": {},
   "outputs": [],
   "source": []
  }
 ]
}