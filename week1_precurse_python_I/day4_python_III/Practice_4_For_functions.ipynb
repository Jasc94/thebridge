{
  "nbformat": 4,
  "nbformat_minor": 0,
  "metadata": {
    "kernelspec": {
      "name": "python385jvsc74a57bd0dca0ade3e726a953b501b15e8e990130d2b7799f14cfd9f4271676035ebe5511",
      "display_name": "Python 3.8.5 64-bit ('base': conda)"
    },
    "language_info": {
      "codemirror_mode": {
        "name": "ipython",
        "version": 3
      },
      "file_extension": ".py",
      "mimetype": "text/x-python",
      "name": "python",
      "nbconvert_exporter": "python",
      "pygments_lexer": "ipython3",
      "version": "3.8.5"
    },
    "colab": {
      "name": "Practice_4_For_functions.ipynb",
      "provenance": []
    }
  },
  "cells": [
    {
      "cell_type": "markdown",
      "metadata": {
        "id": "DJUs_Wq1l202"
      },
      "source": [
        "# Python | day 4 | for loop, functions (feat. basics & if/else) "
      ]
    },
    {
      "cell_type": "markdown",
      "metadata": {
        "id": "37NZHugfl207"
      },
      "source": [
        "### Exercise 0.1 - Python Basics\n",
        "\n",
        "1. What do we use to make a line break in a print? And for a tab stop?\n",
        "\n",
        "have a look ---> http://elclubdelautodidacta.es/wp/2012/04/python-capitulo-31-exprimiendo-la-funcion-print/"
      ]
    },
    {
      "cell_type": "code",
      "metadata": {
        "id": "pBMumpM-l208"
      },
      "source": [
        "# line break -> \\n\n",
        "# tab space -> \\t"
      ],
      "execution_count": null,
      "outputs": []
    },
    {
      "cell_type": "markdown",
      "metadata": {
        "id": "wTTdsqARl209"
      },
      "source": [
        "2. Make a converter from dollars to euros. You'll have to use input."
      ]
    },
    {
      "cell_type": "code",
      "metadata": {
        "id": "qzayg5a6l209"
      },
      "source": [
        "dollars = float(input('Enter the amount in dollars'))\n",
        "euros = 0.84 * dollars\n",
        "print('Here is the equivalent amount in euros: ' + str(euros))"
      ],
      "execution_count": 1,
      "outputs": [
        {
          "output_type": "stream",
          "name": "stdout",
          "text": [
            "Here is the equivalent amount in euros: 4.746\n"
          ]
        }
      ]
    },
    {
      "cell_type": "markdown",
      "metadata": {
        "id": "E2Z_4k7Ul209"
      },
      "source": [
        "3. Declare two strings, one will be your first name and the other your last name. Declare your age in another variable. Print a sentence which include those variables, using ```f{}```. Wtf is that? check this out **-->** https://realpython.com/python-string-formatting/"
      ]
    },
    {
      "cell_type": "code",
      "metadata": {
        "id": "W1fm73s5l209"
      },
      "source": [
        "first_name = 'Jonathan'\n",
        "last_name = 'Suarez'\n",
        "age = 27\n",
        "\n",
        "print('My name is {} {} and I am {} years old'.format(first_name, last_name, age))"
      ],
      "execution_count": 3,
      "outputs": [
        {
          "output_type": "stream",
          "name": "stdout",
          "text": [
            "My name is Jonathan Suarez and I am 27 years old\n"
          ]
        }
      ]
    },
    {
      "cell_type": "markdown",
      "metadata": {
        "id": "oG89GZp5l20-"
      },
      "source": [
        "4. Given the list `[4,7, -3]`, calculate its maximum, minimum and sum."
      ]
    },
    {
      "cell_type": "code",
      "metadata": {
        "id": "Qp2drDeJl20-"
      },
      "source": [
        "import numpy as np\n",
        "\n",
        "array = np.array([4,7, -3])\n",
        "print('Max:', np.max(array))\n",
        "print('Min:', np.min(array))\n",
        "print('Sum:', np.sum(array))"
      ],
      "execution_count": 5,
      "outputs": [
        {
          "output_type": "stream",
          "name": "stdout",
          "text": [
            "Max: 7\nMin: -3\nSum: 8\n"
          ]
        }
      ]
    },
    {
      "cell_type": "markdown",
      "metadata": {
        "id": "l4qR1Gg-l20-"
      },
      "source": [
        "5. Save the number `38.38276252728` to a variable called `number_dec` and round it to 5 decimal places.\n"
      ]
    },
    {
      "cell_type": "code",
      "metadata": {
        "id": "kmwlw86Ll20_"
      },
      "source": [
        "number = 38.38276252728\n",
        "rounded_num = round(number, 5)\n",
        "rounded_num"
      ],
      "execution_count": 6,
      "outputs": [
        {
          "output_type": "execute_result",
          "data": {
            "text/plain": [
              "38.38276"
            ]
          },
          "metadata": {},
          "execution_count": 6
        }
      ]
    },
    {
      "cell_type": "markdown",
      "metadata": {
        "id": "ihchfzEjl20_"
      },
      "source": [
        "6. Declare a variable `phrase` with the value `\"Born to be wild\"` and make it uppercase, then lowercase, divide it by spaces, and finally, replace `\"wild\"` with `\"Geek.\"`"
      ]
    },
    {
      "cell_type": "code",
      "metadata": {
        "id": "jknL1TQ1l20_"
      },
      "source": [
        "phrase = 'Born to be wild'\n",
        "\n",
        "upper = phrase.upper()\n",
        "lower = phrase.lower()\n",
        "l1 = phrase.split(' ')\n",
        "new_phrase = phrase.replace('wild', 'Geek')\n",
        "print(new_phrase)"
      ],
      "execution_count": 11,
      "outputs": [
        {
          "output_type": "stream",
          "name": "stdout",
          "text": [
            "Born to be Geek\n"
          ]
        }
      ]
    },
    {
      "cell_type": "markdown",
      "metadata": {
        "id": "BuvoMEkwl20_"
      },
      "source": [
        "7. Create a program where two inputs are collected, and the output of the program is a boolean which tell the user whether those inputs are the same or not.\n"
      ]
    },
    {
      "cell_type": "code",
      "metadata": {
        "id": "edu79XJyl20_"
      },
      "source": [
        "a = input('Write something')\n",
        "b = input('Write something else')\n",
        "\n",
        "if a == b:\n",
        "    print('ThEy ArE tHe SaMe')\n",
        "else:\n",
        "    print('ThEy ArE nOt ThE sAmE')"
      ],
      "execution_count": 13,
      "outputs": [
        {
          "output_type": "stream",
          "name": "stdout",
          "text": [
            "They are the same\n"
          ]
        }
      ]
    },
    {
      "cell_type": "markdown",
      "metadata": {
        "id": "vJi7uSjVl20_"
      },
      "source": [
        "### Exercise 0.2 - If/else\n",
        "\n",
        "1. Create a decission tree using if/else sentences, to determine the price of the movies ticket. If the client's age is between 5 and 15 years, both included, the price will be 5, if she/he is retired and the movie is one of the `peliculas_discount`, the price is 4. In any other case, it will be 7 euros.\n",
        "\n",
        "You should create the list of `peliculas_discount` with your favourites movies. "
      ]
    },
    {
      "cell_type": "code",
      "metadata": {
        "id": "LUk4XcsBl21A"
      },
      "source": [
        "client_age = int(input('Enter your age: '))\n",
        "ticket_price = 0\n",
        "\n",
        "if client_age >= 5 and client_age < 16:\n",
        "    ticket_price += 5\n",
        "elif client_age > 65:\n",
        "    ticket_price += 4\n",
        "else:\n",
        "    ticket_price += 7\n",
        "\n",
        "print(ticket_price)"
      ],
      "execution_count": 20,
      "outputs": [
        {
          "output_type": "stream",
          "name": "stdout",
          "text": [
            "5\n"
          ]
        }
      ]
    },
    {
      "cell_type": "markdown",
      "metadata": {
        "id": "ytfq8Ljwl21A"
      },
      "source": [
        "### Exercise 1 - For"
      ]
    },
    {
      "cell_type": "markdown",
      "metadata": {
        "id": "zpmw7h-Zl21A"
      },
      "source": [
        "1. You are witnessing an epic battle between two powerful sorcerers: Gandalf and Saruman. Each sorcerer has 10 spells of variable power in their mind and they are going to throw them one after the other. The winner of the duel will be the one who wins more of those clashes between spells. Spells are represented as a list of 10 integers whose value equals the power of the spell.\n",
        "\n",
        "```python\n",
        "gandalf = [10, 11, 13, 30, 22, 11, 10, 33, 22, 22]\n",
        "saruman = [23, 66, 12, 43, 12, 10, 44, 23, 12, 17]\n",
        "```\n",
        "\n",
        "For example:\n",
        "\n",
        "The first clash is won by Saruman: 10 against 23, wins 23\n",
        "The second clash wins Saruman: 11 against 66, wins 66\n",
        "etc.\n",
        "You will create two variables, one for each sorcerer, where the sum of clashes won will be stored. Depending on which variable is greater at the end of the duel, you will show one of the following three results on the screen:\n",
        "```\n",
        "Gandalf wins\n",
        "Saruman wins\n",
        "Tie\n",
        "```"
      ]
    },
    {
      "cell_type": "code",
      "metadata": {
        "id": "n7CtdXr1l21A"
      },
      "source": [
        "gandalf = [10, 11, 13, 30, 22, 11, 10, 33, 22, 22]\n",
        "saruman = [23, 66, 12, 43, 12, 10, 44, 23, 12, 17]\n",
        "\n",
        "gandalf_wins = [gandalf[x] > saruman[x] for x in range(len(gandalf))]\n",
        "\n",
        "if gandalf_wins.count(True) > gandalf_wins.count(False):\n",
        "    print('Gandalf wins')\n",
        "elif gandalf_wins.count(True) < gandalf_wins.count(False):\n",
        "    print('Saruman wins')\n",
        "else:\n",
        "    print('Tie') "
      ],
      "execution_count": 41,
      "outputs": [
        {
          "output_type": "stream",
          "name": "stdout",
          "text": [
            "Gandalf wins\n"
          ]
        }
      ]
    },
    {
      "cell_type": "markdown",
      "metadata": {
        "id": "grRYwGQIl21B"
      },
      "source": [
        "### Exercise 2 - Functions"
      ]
    },
    {
      "cell_type": "markdown",
      "metadata": {
        "id": "0FiM30owl21B"
      },
      "source": [
        "1. Write a function program to sum up two given different numbers. "
      ]
    },
    {
      "cell_type": "code",
      "metadata": {
        "id": "-4wJ5-bGl21B"
      },
      "source": [
        "def sumar(a, b):\n",
        "    return a + b"
      ],
      "execution_count": 43,
      "outputs": []
    },
    {
      "cell_type": "markdown",
      "metadata": {
        "id": "A3xHHlQgl21B"
      },
      "source": [
        "Call the function you've just defined to sum up: \n",
        "    - 5 and 6\n",
        "    - -3 and 10\n",
        "    - 99 and 789"
      ]
    },
    {
      "cell_type": "code",
      "metadata": {
        "id": "Dn-M8_KZl21B"
      },
      "source": [
        "l1 = [-5, -3, -99]\n",
        "l2 = [6, 10, 789]\n",
        "\n",
        "for i in range(3):\n",
        "    print(sumar(l1[i], l2[i]))"
      ],
      "execution_count": 45,
      "outputs": [
        {
          "output_type": "stream",
          "name": "stdout",
          "text": [
            "1\n7\n690\n"
          ]
        }
      ]
    },
    {
      "cell_type": "markdown",
      "metadata": {
        "id": "_VePrN2tl21B"
      },
      "source": [
        "### Bonus Track"
      ]
    },
    {
      "cell_type": "markdown",
      "metadata": {
        "id": "WRqECgE-l21B"
      },
      "source": [
        "2. Write a Python program to convert a tuple of characters into a string.\n",
        "\n",
        "    - Sample tuple: `(\"T\", \"H\", \"E\", \" \", \"B\", \"R\", \"I\", \"D\", \"G\", \"E\")`\n",
        "    - Expected output : `\"THE BRIDGE\"`\n",
        "    \n",
        "Hint: Turn it into a list. "
      ]
    },
    {
      "cell_type": "code",
      "metadata": {
        "id": "fB6XXH4ql21C"
      },
      "source": [
        "t = (\"T\", \"H\", \"E\", \" \", \"B\", \"R\", \"I\", \"D\", \"G\", \"E\")\n",
        "t = list(t)\n",
        "''.join(t)"
      ],
      "execution_count": 48,
      "outputs": [
        {
          "output_type": "execute_result",
          "data": {
            "text/plain": [
              "'THE BRIDGE'"
            ]
          },
          "metadata": {},
          "execution_count": 48
        }
      ]
    },
    {
      "cell_type": "markdown",
      "metadata": {
        "id": "jCbS9IyVl21C"
      },
      "source": [
        "3. Write a Python program to generate a list where the values are square of numbers between 1 and 30 (both included), and return a list of first and last 5 elements of the list."
      ]
    },
    {
      "cell_type": "code",
      "metadata": {
        "id": "maf6qhN7l21C"
      },
      "source": [
        "def squares():\n",
        "    l = list(range(1, 31))\n",
        "    new_l = list(map(lambda x: x ** 2, l))\n",
        "    return new_l[:5]\n",
        "\n",
        "squares()"
      ],
      "execution_count": 52,
      "outputs": [
        {
          "output_type": "execute_result",
          "data": {
            "text/plain": [
              "[1, 4, 9, 16, 25]"
            ]
          },
          "metadata": {},
          "execution_count": 52
        }
      ]
    },
    {
      "cell_type": "markdown",
      "metadata": {
        "id": "eoCJ2wxBl21C"
      },
      "source": [
        "4. Create a program that calculates the average.\n",
        "\n",
        "The program will ask the user to specify how many numbers you want to enter, and will show a prompt to include number by number to a list, and then calculate the average of each number in that list."
      ]
    },
    {
      "cell_type": "code",
      "metadata": {
        "id": "8s1lBlxnl21C"
      },
      "source": [
        "from functools import reduce\n",
        "\n",
        "times = int(input('How many numbers do you want to average?'))\n",
        "\n",
        "count = 0\n",
        "numbers_list = []\n",
        "\n",
        "while count < times:\n",
        "    a = float(input('Enter the number {} for your average'.format(count + 1)))\n",
        "    numbers_list.append(a)\n",
        "    count += 1\n",
        "\n",
        "\n",
        "average = reduce(lambda a,b: a + b, numbers_list) / len(numbers_list)\n",
        "average"
      ],
      "execution_count": 55,
      "outputs": [
        {
          "output_type": "execute_result",
          "data": {
            "text/plain": [
              "25.0"
            ]
          },
          "metadata": {},
          "execution_count": 55
        }
      ]
    },
    {
      "cell_type": "markdown",
      "metadata": {
        "id": "3o80a31cl21C"
      },
      "source": [
        "# If you made it till here you did a fantastic work!"
      ]
    },
    {
      "cell_type": "markdown",
      "metadata": {
        "id": "t_u9NmUol21C"
      },
      "source": [
        "![\"holo\"](https://img-9gag-fun.9cache.com/photo/aNg9wMK_460s.jpg)"
      ]
    },
    {
      "cell_type": "code",
      "metadata": {
        "id": "NBwxH7kZl21D"
      },
      "source": [],
      "execution_count": null,
      "outputs": []
    }
  ]
}