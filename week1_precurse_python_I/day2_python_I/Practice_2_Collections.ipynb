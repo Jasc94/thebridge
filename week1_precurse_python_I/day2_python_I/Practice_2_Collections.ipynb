{
  "nbformat": 4,
  "nbformat_minor": 0,
  "metadata": {
    "kernelspec": {
      "name": "python385jvsc74a57bd0dca0ade3e726a953b501b15e8e990130d2b7799f14cfd9f4271676035ebe5511",
      "display_name": "Python 3.8.5 64-bit ('base': conda)"
    },
    "language_info": {
      "codemirror_mode": {
        "name": "ipython",
        "version": 3
      },
      "file_extension": ".py",
      "mimetype": "text/x-python",
      "name": "python",
      "nbconvert_exporter": "python",
      "pygments_lexer": "ipython3",
      "version": "3.8.5"
    },
    "colab": {
      "name": "Practice_2_Collections.ipynb",
      "provenance": []
    }
  },
  "cells": [
    {
      "cell_type": "markdown",
      "metadata": {
        "id": "BtmdIN5AYwdC"
      },
      "source": [
        "# Python | day 1 | collections"
      ]
    },
    {
      "cell_type": "markdown",
      "metadata": {
        "id": "RkzCYgVoYwdI"
      },
      "source": [
        "Lists, tuples & sets"
      ]
    },
    {
      "cell_type": "markdown",
      "metadata": {
        "id": "EPZwvyH-YwdI"
      },
      "source": [
        "May help you https://www.w3schools.com/python/python_ref_list.asp"
      ]
    },
    {
      "cell_type": "markdown",
      "metadata": {
        "id": "dET0GelJYwdJ"
      },
      "source": [
        "### Exercise 1. "
      ]
    },
    {
      "cell_type": "markdown",
      "metadata": {
        "id": "4VoiIT-ZYwdJ"
      },
      "source": [
        "1. Create:\n",
        "    - a list type variable called **student_list** which contains the name of your classmates. \n",
        "\n",
        "Print the created list. "
      ]
    },
    {
      "cell_type": "code",
      "metadata": {
        "id": "m-u-UaSmYwdJ"
      },
      "source": [
        "\n",
        "student_list = ['studentname' + str(i) for i in range(1,21)]\n",
        "student_list"
      ],
      "execution_count": 84,
      "outputs": [
        {
          "output_type": "execute_result",
          "data": {
            "text/plain": [
              "['studentname1',\n",
              " 'studentname2',\n",
              " 'studentname3',\n",
              " 'studentname4',\n",
              " 'studentname5',\n",
              " 'studentname6',\n",
              " 'studentname7',\n",
              " 'studentname8',\n",
              " 'studentname9',\n",
              " 'studentname10',\n",
              " 'studentname11',\n",
              " 'studentname12',\n",
              " 'studentname13',\n",
              " 'studentname14',\n",
              " 'studentname15',\n",
              " 'studentname16',\n",
              " 'studentname17',\n",
              " 'studentname18',\n",
              " 'studentname19',\n",
              " 'studentname20']"
            ]
          },
          "metadata": {},
          "execution_count": 84
        }
      ]
    },
    {
      "cell_type": "markdown",
      "metadata": {
        "id": "XRsi-YMMYwdK"
      },
      "source": [
        "### Exercise 2"
      ]
    },
    {
      "cell_type": "markdown",
      "metadata": {
        "id": "z1KOVtPEYwdK"
      },
      "source": [
        "1. Create an empty list, call it **empty_list**"
      ]
    },
    {
      "cell_type": "code",
      "metadata": {
        "id": "hZ4Dva5aYwdK"
      },
      "source": [
        "empty_list = []"
      ],
      "execution_count": 85,
      "outputs": []
    },
    {
      "cell_type": "markdown",
      "metadata": {
        "id": "5Zig7eicYwdK"
      },
      "source": [
        "2. Create a list with 5 items, call it **my_list**"
      ]
    },
    {
      "cell_type": "code",
      "metadata": {
        "id": "oF8b0SfvYwdL"
      },
      "source": [
        "import numpy as np\n",
        "\n",
        "my_list = np.random.random(5) * 100"
      ],
      "execution_count": 86,
      "outputs": []
    },
    {
      "cell_type": "markdown",
      "metadata": {
        "id": "UX1CsDezYwdL"
      },
      "source": [
        "3. Find the length of **my_list**\n",
        "\n"
      ]
    },
    {
      "cell_type": "code",
      "metadata": {
        "id": "jkZT8avhYwdL"
      },
      "source": [
        "len(my_list)"
      ],
      "execution_count": 87,
      "outputs": [
        {
          "output_type": "execute_result",
          "data": {
            "text/plain": [
              "5"
            ]
          },
          "metadata": {},
          "execution_count": 87
        }
      ]
    },
    {
      "cell_type": "markdown",
      "metadata": {
        "id": "bXwwEZwVYwdL"
      },
      "source": [
        "4. Get the first item, the middle item and the last item of **my_list**\n",
        "\n"
      ]
    },
    {
      "cell_type": "code",
      "metadata": {
        "id": "TNZUDEL4YwdL"
      },
      "source": [
        "first_item, middle_item, last_item = [my_list[0], my_list[2], my_list[4]]\n",
        "# Llamar el deseado\n",
        "first_item"
      ],
      "execution_count": 88,
      "outputs": [
        {
          "output_type": "execute_result",
          "data": {
            "text/plain": [
              "87.60748635709552"
            ]
          },
          "metadata": {},
          "execution_count": 88
        }
      ]
    },
    {
      "cell_type": "markdown",
      "metadata": {
        "id": "Hw28smEOYwdL"
      },
      "source": [
        "5. Declare:\n",
        "    - a **name** variable and assign a value to it\n",
        "    - a **age** variable and assign a value to it\n",
        "    - a **height** variable and assign a value to it\n",
        "    - a **country** variable and assign a value to it\n",
        "    - a **python_version** variable and assign a value to it\n"
      ]
    },
    {
      "cell_type": "code",
      "metadata": {
        "id": "NjYsPzY7YwdM"
      },
      "source": [
        "name = 'Jonathan'\n",
        "age = 26\n",
        "height = 1.86\n",
        "country = 'Spain'\n",
        "python_version = '3.8.5'"
      ],
      "execution_count": 89,
      "outputs": []
    },
    {
      "cell_type": "markdown",
      "metadata": {
        "id": "CClPnQ4uYwdM"
      },
      "source": [
        "6. Create a list called **mixed_data_types** with your name, age, height, country and python_version.\n",
        "\n"
      ]
    },
    {
      "cell_type": "code",
      "metadata": {
        "id": "pdWF3Y6GYwdM"
      },
      "source": [
        "mixed_data_types = [name, age, height, country, python_version]"
      ],
      "execution_count": 90,
      "outputs": []
    },
    {
      "cell_type": "markdown",
      "metadata": {
        "id": "orhX5PHBYwdM"
      },
      "source": [
        "7. Declare a list variable named **it_companies** and assign initial values Facebook, Google, Microsoft, Apple, IBM, Oracle and Amazon.\n"
      ]
    },
    {
      "cell_type": "code",
      "metadata": {
        "id": "trf34ItSYwdM"
      },
      "source": [
        "it_companies = ['Facebook', 'Google', 'Microsoft', 'Apple', 'IBM', 'Oracle', 'Amazon']"
      ],
      "execution_count": 91,
      "outputs": []
    },
    {
      "cell_type": "markdown",
      "metadata": {
        "id": "kWSncSgPYwdM"
      },
      "source": [
        "\n",
        "8. Print **it_companies** using print()\n",
        "\n"
      ]
    },
    {
      "cell_type": "code",
      "metadata": {
        "id": "f-gVCDlbYwdN"
      },
      "source": [
        "for i in it_companies:\n",
        "    print(i)"
      ],
      "execution_count": 92,
      "outputs": [
        {
          "output_type": "stream",
          "name": "stdout",
          "text": [
            "Facebook\nGoogle\nMicrosoft\nApple\nIBM\nOracle\nAmazon\n"
          ]
        }
      ]
    },
    {
      "cell_type": "markdown",
      "metadata": {
        "id": "7m3xiaEeYwdN"
      },
      "source": [
        "9. Print the number of companies in the list"
      ]
    },
    {
      "cell_type": "code",
      "metadata": {
        "id": "n5xgTrNHYwdN"
      },
      "source": [
        "print(len(it_companies))"
      ],
      "execution_count": 93,
      "outputs": [
        {
          "output_type": "stream",
          "name": "stdout",
          "text": [
            "7\n"
          ]
        }
      ]
    },
    {
      "cell_type": "markdown",
      "metadata": {
        "id": "Im7OLbCCYwdN"
      },
      "source": [
        "11. Print *Google*"
      ]
    },
    {
      "cell_type": "code",
      "metadata": {
        "id": "X-XKcfPLYwdN"
      },
      "source": [
        "it_companies[1]"
      ],
      "execution_count": 94,
      "outputs": [
        {
          "output_type": "execute_result",
          "data": {
            "text/plain": [
              "'Google'"
            ]
          },
          "metadata": {},
          "execution_count": 94
        }
      ]
    },
    {
      "cell_type": "markdown",
      "metadata": {
        "id": "c5ZJ_0bEYwdN"
      },
      "source": [
        "10. Print the first, middle and last company"
      ]
    },
    {
      "cell_type": "code",
      "metadata": {
        "id": "HYrxx0_KYwdN"
      },
      "source": [
        "print(it_companies[0])\n",
        "print(it_companies[2])\n",
        "print(it_companies[4])"
      ],
      "execution_count": 95,
      "outputs": [
        {
          "output_type": "stream",
          "name": "stdout",
          "text": [
            "Facebook\nMicrosoft\nIBM\n"
          ]
        }
      ]
    },
    {
      "cell_type": "markdown",
      "metadata": {
        "id": "kVrBb6ggYwdO"
      },
      "source": [
        "11. Assign a new value to the last element of the list "
      ]
    },
    {
      "cell_type": "code",
      "metadata": {
        "id": "4TbOdVTOYwdO"
      },
      "source": [
        "it_companies[-1] = 'LinkedIn'"
      ],
      "execution_count": 96,
      "outputs": []
    },
    {
      "cell_type": "markdown",
      "metadata": {
        "id": "8CKVKUClYwdO"
      },
      "source": [
        "12. Print the list after modifying one of the companies"
      ]
    },
    {
      "cell_type": "code",
      "metadata": {
        "id": "uN5Li1tLYwdO"
      },
      "source": [
        "it_companies"
      ],
      "execution_count": 97,
      "outputs": [
        {
          "output_type": "execute_result",
          "data": {
            "text/plain": [
              "['Facebook', 'Google', 'Microsoft', 'Apple', 'IBM', 'Oracle', 'LinkedIn']"
            ]
          },
          "metadata": {},
          "execution_count": 97
        }
      ]
    },
    {
      "cell_type": "markdown",
      "metadata": {
        "id": "YidOF1Z1YwdO"
      },
      "source": [
        "## Bonus track."
      ]
    },
    {
      "cell_type": "markdown",
      "metadata": {
        "id": "eCPiQmWAYwdO"
      },
      "source": [
        "13. Add an IT company to **it_companies**\n",
        "\n"
      ]
    },
    {
      "cell_type": "code",
      "metadata": {
        "id": "jpZdkI9SYwdO"
      },
      "source": [
        "it_companies.append('Amazon')"
      ],
      "execution_count": 98,
      "outputs": []
    },
    {
      "cell_type": "markdown",
      "metadata": {
        "id": "d9Iyns5sYwdO"
      },
      "source": [
        "14. Check if *Apple* exists in the **it_companies** list."
      ]
    },
    {
      "cell_type": "code",
      "metadata": {
        "id": "buKiBtWEYwdP"
      },
      "source": [
        "'Apple' in it_companies"
      ],
      "execution_count": 99,
      "outputs": [
        {
          "output_type": "execute_result",
          "data": {
            "text/plain": [
              "True"
            ]
          },
          "metadata": {},
          "execution_count": 99
        }
      ]
    },
    {
      "cell_type": "markdown",
      "metadata": {
        "id": "WIUP6PE2YwdP"
      },
      "source": [
        "15. Sort the list using `sort()` method\n",
        "\n"
      ]
    },
    {
      "cell_type": "code",
      "metadata": {
        "id": "ndbh0knDYwdP"
      },
      "source": [
        "it_companies.sort()\n",
        "it_companies"
      ],
      "execution_count": 100,
      "outputs": [
        {
          "output_type": "execute_result",
          "data": {
            "text/plain": [
              "['Amazon',\n",
              " 'Apple',\n",
              " 'Facebook',\n",
              " 'Google',\n",
              " 'IBM',\n",
              " 'LinkedIn',\n",
              " 'Microsoft',\n",
              " 'Oracle']"
            ]
          },
          "metadata": {},
          "execution_count": 100
        }
      ]
    },
    {
      "cell_type": "markdown",
      "metadata": {
        "id": "CvWHO7xxYwdP"
      },
      "source": [
        "16. Reverse the list in descending order using `reverse()` method\n",
        "\n"
      ]
    },
    {
      "cell_type": "code",
      "metadata": {
        "id": "lv2Kg3RBYwdP"
      },
      "source": [
        "it_companies.reverse()\n",
        "it_companies"
      ],
      "execution_count": 101,
      "outputs": [
        {
          "output_type": "execute_result",
          "data": {
            "text/plain": [
              "['Oracle',\n",
              " 'Microsoft',\n",
              " 'LinkedIn',\n",
              " 'IBM',\n",
              " 'Google',\n",
              " 'Facebook',\n",
              " 'Apple',\n",
              " 'Amazon']"
            ]
          },
          "metadata": {},
          "execution_count": 101
        }
      ]
    },
    {
      "cell_type": "markdown",
      "metadata": {
        "id": "QyFM2vu3YwdP"
      },
      "source": [
        "17. Slice out the first 3 companies from the list\n",
        "\n"
      ]
    },
    {
      "cell_type": "code",
      "metadata": {
        "id": "aNuQE6JJYwdP"
      },
      "source": [
        "it_companies[:3]"
      ],
      "execution_count": 102,
      "outputs": [
        {
          "output_type": "execute_result",
          "data": {
            "text/plain": [
              "['Oracle', 'Microsoft', 'LinkedIn']"
            ]
          },
          "metadata": {},
          "execution_count": 102
        }
      ]
    },
    {
      "cell_type": "markdown",
      "metadata": {
        "id": "5a5QzO-NYwdP"
      },
      "source": [
        "18. Remove the last IT company from the list\n"
      ]
    },
    {
      "cell_type": "code",
      "metadata": {
        "id": "y83MnvSIYwdQ"
      },
      "source": [
        "it_companies.pop()\n",
        "it_companies"
      ],
      "execution_count": 103,
      "outputs": [
        {
          "output_type": "execute_result",
          "data": {
            "text/plain": [
              "['Oracle', 'Microsoft', 'LinkedIn', 'IBM', 'Google', 'Facebook', 'Apple']"
            ]
          },
          "metadata": {},
          "execution_count": 103
        }
      ]
    },
    {
      "cell_type": "markdown",
      "metadata": {
        "id": "i-PhJQpFYwdQ"
      },
      "source": [
        "19. Remove all IT companies from the list"
      ]
    },
    {
      "cell_type": "code",
      "metadata": {
        "id": "gPJ2uSjRYwdQ"
      },
      "source": [
        "while len(it_companies) > 0:\n",
        "    it_companies.pop()\n",
        "\n",
        "it_companies"
      ],
      "execution_count": 108,
      "outputs": [
        {
          "output_type": "execute_result",
          "data": {
            "text/plain": [
              "[]"
            ]
          },
          "metadata": {},
          "execution_count": 108
        }
      ]
    },
    {
      "cell_type": "markdown",
      "metadata": {
        "id": "ZnirLBxRYwdQ"
      },
      "source": [
        "20. Join the following lists, and call the list **end**:\n",
        "\n",
        "```python\n",
        "front_end = [['HTML', 'CSS'], 'JS', 'React', 'Redux']\n",
        "back_end = ['Node','Express', 'MongoDB']\n",
        "```"
      ]
    },
    {
      "cell_type": "code",
      "metadata": {
        "id": "gGns51F-YwdQ"
      },
      "source": [
        "front_end = [['HTML', 'CSS'], 'JS', 'React', 'Redux']\n",
        "back_end = ['Node','Express', 'MongoDB']\n",
        "\n",
        "end = front_end + back_end\n",
        "end"
      ],
      "execution_count": 111,
      "outputs": [
        {
          "output_type": "execute_result",
          "data": {
            "text/plain": [
              "[['HTML', 'CSS'], 'JS', 'React', 'Redux', 'Node', 'Express', 'MongoDB']"
            ]
          },
          "metadata": {},
          "execution_count": 111
        }
      ]
    },
    {
      "cell_type": "markdown",
      "metadata": {
        "id": "aa4hKdP3YwdQ"
      },
      "source": [
        "21. From the **end** list print 'HTML'"
      ]
    },
    {
      "cell_type": "code",
      "metadata": {
        "id": "ukc1hXHsYwdQ"
      },
      "source": [
        "end[0][0]"
      ],
      "execution_count": 112,
      "outputs": [
        {
          "output_type": "execute_result",
          "data": {
            "text/plain": [
              "'HTML'"
            ]
          },
          "metadata": {},
          "execution_count": 112
        }
      ]
    },
    {
      "cell_type": "markdown",
      "metadata": {
        "id": "gu6VFq6eYwdR"
      },
      "source": [
        "22. From the end list print the 'C' from the word 'CSS'"
      ]
    },
    {
      "cell_type": "code",
      "metadata": {
        "id": "__TL52P-YwdR"
      },
      "source": [
        "end[0][1][0]"
      ],
      "execution_count": 114,
      "outputs": [
        {
          "output_type": "execute_result",
          "data": {
            "text/plain": [
              "'C'"
            ]
          },
          "metadata": {},
          "execution_count": 114
        }
      ]
    },
    {
      "cell_type": "markdown",
      "metadata": {
        "id": "7By0zfkbYwdR"
      },
      "source": [
        "### Exercise 3. "
      ]
    },
    {
      "cell_type": "markdown",
      "metadata": {
        "id": "hBT_iqcUYwdR"
      },
      "source": [
        "Do you know you can create tuples with only one element?\n",
        "\n",
        "1. In the cell below, define a variable **tup** with a single element \"T\".\n",
        "\n",
        "Hint: you need to add a comma (,) after the single element."
      ]
    },
    {
      "cell_type": "code",
      "metadata": {
        "id": "OGTN6VEVYwdR"
      },
      "source": [
        "tup = ('T',)\n",
        "tup"
      ],
      "execution_count": 127,
      "outputs": [
        {
          "output_type": "execute_result",
          "data": {
            "text/plain": [
              "('T',)"
            ]
          },
          "metadata": {},
          "execution_count": 127
        }
      ]
    },
    {
      "cell_type": "markdown",
      "metadata": {
        "id": "WcUeOm0DYwdR"
      },
      "source": [
        "2. Print the type of tup.\n",
        "Make sure its type is correct (i.e. tuple instead of str)."
      ]
    },
    {
      "cell_type": "code",
      "metadata": {
        "id": "Kpc_AEcbYwdR"
      },
      "source": [
        "type(tup)"
      ],
      "execution_count": 119,
      "outputs": [
        {
          "output_type": "execute_result",
          "data": {
            "text/plain": [
              "tuple"
            ]
          },
          "metadata": {},
          "execution_count": 119
        }
      ]
    },
    {
      "cell_type": "markdown",
      "metadata": {
        "id": "18LpCcOBYwdR"
      },
      "source": [
        "3. Now try to append the following elements to **tup**.\n",
        "Are you able to do it? Explain.\n",
        "\n",
        "`\"H\", \"E\", \" \", \"B\", \"R\", \"I\", \"D\", \"G\", \"E\",`"
      ]
    },
    {
      "cell_type": "code",
      "metadata": {
        "id": "znFe16p3YwdS"
      },
      "source": [
        "to_add = [\"H\", \"E\", \" \", \"B\", \"R\", \"I\", \"D\", \"G\", \"E\"]\n",
        "\n",
        "tup = list(tup)\n",
        "[tup.append(x) for x in to_add]\n",
        "tup = tuple(tup)\n",
        "tup"
      ],
      "execution_count": 128,
      "outputs": [
        {
          "output_type": "execute_result",
          "data": {
            "text/plain": [
              "('T', 'H', 'E', ' ', 'B', 'R', 'I', 'D', 'G', 'E')"
            ]
          },
          "metadata": {},
          "execution_count": 128
        }
      ]
    },
    {
      "cell_type": "markdown",
      "metadata": {
        "id": "_kvHmwH3YwdS"
      },
      "source": [
        "4. How about re-assign a new value to an existing tuple?\n",
        "\n",
        "Re-assign the following elements to **tup**. \n",
        "\n",
        "Are you able to do it? Explain.\n",
        "\n",
        "\n",
        "`\"T\", \"H\", \"E\", \" \", \"B\", \"R\", \"I\", \"D\", \"G\", \"E\",`"
      ]
    },
    {
      "cell_type": "code",
      "metadata": {
        "id": "RRXOBr14YwdS"
      },
      "source": [
        "tup = list(tup)\n",
        "tup[3] = '_'\n",
        "tup = tuple(tup)\n",
        "tup"
      ],
      "execution_count": 129,
      "outputs": [
        {
          "output_type": "execute_result",
          "data": {
            "text/plain": [
              "('T', 'H', 'E', '_', 'B', 'R', 'I', 'D', 'G', 'E')"
            ]
          },
          "metadata": {},
          "execution_count": 129
        }
      ]
    },
    {
      "cell_type": "markdown",
      "metadata": {
        "id": "7s2rfwVQYwdS"
      },
      "source": [
        "### Exercise 4. \n",
        "\n",
        "1. Turn **lista_repes** into a *set* in order to get only the uniques values in the list, assing it to a variable called **my_set**"
      ]
    },
    {
      "cell_type": "code",
      "metadata": {
        "id": "yqBBFKJcYwdS"
      },
      "source": [
        "lista_repes = [\"data\", \"data\", \"data\", \"science\", \"science\", \"python\", \"python\", \"diomedes\", \"diomedes\", \"diomedes\", \"diomedes\", \"clara\", \"gabriel\", \"gabriel\", \"gabriel\"]"
      ],
      "execution_count": 130,
      "outputs": []
    },
    {
      "cell_type": "code",
      "metadata": {
        "id": "rceAhG7IYwdT"
      },
      "source": [
        "my_set = set(lista_repes)\n",
        "my_set"
      ],
      "execution_count": 132,
      "outputs": [
        {
          "output_type": "execute_result",
          "data": {
            "text/plain": [
              "{'clara', 'data', 'diomedes', 'gabriel', 'python', 'science'}"
            ]
          },
          "metadata": {},
          "execution_count": 132
        }
      ]
    },
    {
      "cell_type": "markdown",
      "metadata": {
        "id": "eRVIlugvYwdT"
      },
      "source": [
        "2. Try to print the first element of **my_set**\n",
        "\n",
        "You did good if you get *TypeError: 'set' object is not subscriptable*."
      ]
    },
    {
      "cell_type": "code",
      "metadata": {
        "id": "MlA7geTdYwdT"
      },
      "source": [
        "my_set[0]"
      ],
      "execution_count": 133,
      "outputs": [
        {
          "output_type": "error",
          "ename": "TypeError",
          "evalue": "'set' object is not subscriptable",
          "traceback": [
            "\u001b[0;31m---------------------------------------------------------------------------\u001b[0m",
            "\u001b[0;31mTypeError\u001b[0m                                 Traceback (most recent call last)",
            "\u001b[0;32m<ipython-input-133-158c424478a1>\u001b[0m in \u001b[0;36m<module>\u001b[0;34m\u001b[0m\n\u001b[0;32m----> 1\u001b[0;31m \u001b[0mmy_set\u001b[0m\u001b[0;34m[\u001b[0m\u001b[0;36m0\u001b[0m\u001b[0;34m]\u001b[0m\u001b[0;34m\u001b[0m\u001b[0;34m\u001b[0m\u001b[0m\n\u001b[0m",
            "\u001b[0;31mTypeError\u001b[0m: 'set' object is not subscriptable"
          ]
        }
      ]
    },
    {
      "cell_type": "markdown",
      "metadata": {
        "id": "OpU9JGEJYwdT"
      },
      "source": [
        "3. Turn **my_set** into a list, using the function `list()`. \n",
        "\n",
        "Can you print the first element now?"
      ]
    },
    {
      "cell_type": "code",
      "metadata": {
        "id": "znBMaxE4YwdT"
      },
      "source": [
        "my_set = list(my_set)\n",
        "my_set[0]"
      ],
      "execution_count": 134,
      "outputs": [
        {
          "output_type": "execute_result",
          "data": {
            "text/plain": [
              "'science'"
            ]
          },
          "metadata": {},
          "execution_count": 134
        }
      ]
    },
    {
      "cell_type": "code",
      "execution_count": null,
      "metadata": {},
      "outputs": [],
      "source": []
    }
  ]
}