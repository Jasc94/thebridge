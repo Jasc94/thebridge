{
  "nbformat": 4,
  "nbformat_minor": 0,
  "metadata": {
    "kernelspec": {
      "name": "python385jvsc74a57bd0dca0ade3e726a953b501b15e8e990130d2b7799f14cfd9f4271676035ebe5511",
      "display_name": "Python 3.8.5 64-bit ('base': conda)"
    },
    "language_info": {
      "codemirror_mode": {
        "name": "ipython",
        "version": 3
      },
      "file_extension": ".py",
      "mimetype": "text/x-python",
      "name": "python",
      "nbconvert_exporter": "python",
      "pygments_lexer": "ipython3",
      "version": "3.8.5"
    },
    "colab": {
      "name": "Practice_1_Variable.ipynb",
      "provenance": []
    }
  },
  "cells": [
    {
      "cell_type": "markdown",
      "metadata": {
        "id": "5jiVSn8dYnrB"
      },
      "source": [
        "# Python | day 1 | variables"
      ]
    },
    {
      "cell_type": "markdown",
      "metadata": {
        "id": "tXkWFaCAYnrG"
      },
      "source": [
        "Variables are nothing but reserved memory locations to store values. This means that when you create a variable you reserve some space in memory.\n",
        "\n",
        "Based on the data type of a variable, the interpreter allocates memory and decides what can be stored in the reserved memory. Therefore, by assigning different data types to variables, you can store integers, decimals or characters in these variables."
      ]
    },
    {
      "cell_type": "markdown",
      "metadata": {
        "id": "lAS8pIZ9YnrH"
      },
      "source": [
        "### Exercise 1.\n",
        "\n",
        "1. Write a python comment saying _'My very first python code:'_"
      ]
    },
    {
      "cell_type": "code",
      "execution_count": 22,
      "metadata": {},
      "outputs": [],
      "source": [
        "not_my_data = dir()"
      ]
    },
    {
      "cell_type": "code",
      "metadata": {
        "id": "6RbyQIEFYnrI"
      },
      "source": [
        "# My very first python code"
      ],
      "execution_count": 23,
      "outputs": []
    },
    {
      "cell_type": "markdown",
      "metadata": {
        "id": "Y_jFjr9KYnrI"
      },
      "source": [
        "2. Declare a **first name** variable and assign a value to it\n"
      ]
    },
    {
      "cell_type": "code",
      "metadata": {
        "id": "JgDLbTzoYnrJ"
      },
      "source": [
        "first_name = 'Jonathan'"
      ],
      "execution_count": 24,
      "outputs": []
    },
    {
      "cell_type": "markdown",
      "metadata": {
        "id": "09bG8lexYnrJ"
      },
      "source": [
        "3. Declare a **last name** variable and assign a value to it\n"
      ]
    },
    {
      "cell_type": "code",
      "metadata": {
        "id": "NJBntExIYnrJ"
      },
      "source": [
        "last_name = 'Suarez'"
      ],
      "execution_count": 25,
      "outputs": []
    },
    {
      "cell_type": "markdown",
      "metadata": {
        "id": "WpNvMBJYYnrJ"
      },
      "source": [
        "4. Declare a **full name** variable and assign a value to it\n"
      ]
    },
    {
      "cell_type": "code",
      "metadata": {
        "id": "1f7ETO2yYnrK"
      },
      "source": [
        "# Ejecutar primero las dos línas anteriores\n",
        "full_name = first_name + ' ' + last_name"
      ],
      "execution_count": 26,
      "outputs": []
    },
    {
      "cell_type": "markdown",
      "metadata": {
        "id": "_j082yziYnrK"
      },
      "source": [
        "5. Declare a **country** variable and assign a value to it"
      ]
    },
    {
      "cell_type": "code",
      "metadata": {
        "id": "VjTLdaTTYnrK"
      },
      "source": [
        "country = 'Spain'"
      ],
      "execution_count": 27,
      "outputs": []
    },
    {
      "cell_type": "markdown",
      "metadata": {
        "id": "iKcOzCMpYnrK"
      },
      "source": [
        "6. Declare a **city** variable and assign a value to it"
      ]
    },
    {
      "cell_type": "code",
      "metadata": {
        "id": "NDvPpGDMYnrK"
      },
      "source": [
        "city = 'Madrid'"
      ],
      "execution_count": 28,
      "outputs": []
    },
    {
      "cell_type": "markdown",
      "metadata": {
        "id": "LRC1WdOXYnrL"
      },
      "source": [
        "7. Declare an **age** variable and assign a value to it"
      ]
    },
    {
      "cell_type": "code",
      "metadata": {
        "id": "BxFfIWbvYnrL"
      },
      "source": [
        "age = 27"
      ],
      "execution_count": 29,
      "outputs": []
    },
    {
      "cell_type": "markdown",
      "metadata": {
        "id": "cD0f4z70YnrL"
      },
      "source": [
        "8. Declare a **year** variable and assign a value to it"
      ]
    },
    {
      "cell_type": "code",
      "metadata": {
        "id": "Y3I3rtBAYnrL"
      },
      "source": [
        "year = 2021"
      ],
      "execution_count": 30,
      "outputs": []
    },
    {
      "cell_type": "markdown",
      "metadata": {
        "id": "7uUweeJyYnrL"
      },
      "source": [
        "9. Declare a variable **is_married** and assign a value to it"
      ]
    },
    {
      "cell_type": "code",
      "metadata": {
        "id": "Fpcz2LV1YnrL"
      },
      "source": [
        "is_married = False"
      ],
      "execution_count": 31,
      "outputs": []
    },
    {
      "cell_type": "markdown",
      "metadata": {
        "id": "jlpGM9ZhYnrM"
      },
      "source": [
        "10. Declare a variable **is_true** and assign a value to it"
      ]
    },
    {
      "cell_type": "code",
      "metadata": {
        "id": "N-vff0-CYnrM"
      },
      "source": [
        "is_true = True"
      ],
      "execution_count": 32,
      "outputs": []
    },
    {
      "cell_type": "markdown",
      "metadata": {
        "id": "Hu7Q5dPBYnrM"
      },
      "source": [
        "11. Declare a variable **is_light_on** and assign a value to it"
      ]
    },
    {
      "cell_type": "code",
      "metadata": {
        "id": "Af42LQdBYnrN"
      },
      "source": [
        "is_light_on = True"
      ],
      "execution_count": 33,
      "outputs": []
    },
    {
      "cell_type": "markdown",
      "metadata": {
        "id": "TewSYRwkYnrO"
      },
      "source": [
        "## Exercise 2. \n",
        "\n",
        "1. Check the data type of all your variables using `type()` built-in function\n"
      ]
    },
    {
      "cell_type": "code",
      "metadata": {
        "id": "dtALRHrXYnrO"
      },
      "source": [
        "variables = [first_name, last_name, full_name, country, city, age, year, is_married, is_true, is_light_on]\n",
        "variables_types = [type(x) for x in variables]\n",
        "variables_types"
      ],
      "execution_count": 34,
      "outputs": [
        {
          "output_type": "execute_result",
          "data": {
            "text/plain": [
              "[str, str, str, str, str, int, int, bool, bool, bool]"
            ]
          },
          "metadata": {},
          "execution_count": 34
        }
      ]
    },
    {
      "cell_type": "markdown",
      "metadata": {
        "id": "fgCZKSzAYnrO"
      },
      "source": [
        "Turn the variable **age**, which should be *integer*, into type *float*. This action is known as cast a variable."
      ]
    },
    {
      "cell_type": "code",
      "metadata": {
        "id": "E4-Mr1MJYnrP"
      },
      "source": [
        "age = float(age)"
      ],
      "execution_count": 35,
      "outputs": []
    },
    {
      "cell_type": "markdown",
      "metadata": {
        "id": "N4rJjuFlYnrP"
      },
      "source": [
        "2. Using the `len()` built-in function find the length of your first name\n"
      ]
    },
    {
      "cell_type": "code",
      "metadata": {
        "id": "SRGc2R7EYnrP"
      },
      "source": [
        "len(first_name)"
      ],
      "execution_count": 36,
      "outputs": [
        {
          "output_type": "execute_result",
          "data": {
            "text/plain": [
              "8"
            ]
          },
          "metadata": {},
          "execution_count": 36
        }
      ]
    },
    {
      "cell_type": "markdown",
      "metadata": {
        "id": "gBr9QJTCYnrP"
      },
      "source": [
        "3. Compare the length of your first name and your last name\n"
      ]
    },
    {
      "cell_type": "code",
      "metadata": {
        "id": "zNeXuA91YnrP"
      },
      "source": [
        "if len(first_name) > len(last_name):\n",
        "    print('First name longer than last name')\n",
        "elif len(first_name) < len(last_name):\n",
        "    print('First name shorter than last name')\n",
        "else:\n",
        "    print('They are both equally long')"
      ],
      "execution_count": 37,
      "outputs": [
        {
          "output_type": "stream",
          "name": "stdout",
          "text": [
            "First name longer than last name\n"
          ]
        }
      ]
    },
    {
      "cell_type": "markdown",
      "metadata": {
        "id": "SHc8aSXiYnrQ"
      },
      "source": [
        "4. Declare 5 as **num_one** and 4 as **num_two**\n"
      ]
    },
    {
      "cell_type": "code",
      "metadata": {
        "id": "t4XZ6WhtYnrQ"
      },
      "source": [
        "num_one = 5\n",
        "num_two = 4"
      ],
      "execution_count": 38,
      "outputs": []
    },
    {
      "cell_type": "markdown",
      "metadata": {
        "id": "tj3JzUbiYnrQ"
      },
      "source": [
        "5. Add **num_one** and **num_two** and assign the value to a variable **_total**\n"
      ]
    },
    {
      "cell_type": "code",
      "metadata": {
        "id": "BhmxN4RJYnrQ"
      },
      "source": [
        "variable_total = num_one + num_two"
      ],
      "execution_count": 40,
      "outputs": []
    },
    {
      "cell_type": "markdown",
      "metadata": {
        "id": "o57rGBBDYnrQ"
      },
      "source": [
        "6. Subtract num_two from num_one and assign the value to a variable _diff\n"
      ]
    },
    {
      "cell_type": "code",
      "metadata": {
        "id": "HYs0dGeoYnrQ"
      },
      "source": [
        "variable_diff = num_one - num_two"
      ],
      "execution_count": null,
      "outputs": []
    },
    {
      "cell_type": "markdown",
      "metadata": {
        "id": "5cgUNc5rYnrQ"
      },
      "source": [
        "7. Multiply **num_two** and **num_one** and assign the value to a variable **_product**\n"
      ]
    },
    {
      "cell_type": "code",
      "metadata": {
        "id": "vDqltkCRYnrR"
      },
      "source": [
        "variable_product = num_one * num_two"
      ],
      "execution_count": null,
      "outputs": []
    },
    {
      "cell_type": "markdown",
      "metadata": {
        "id": "ZqfXn1UoYnrR"
      },
      "source": [
        "8. Divide **num_one** by **num_two** and assign the value to a variable **_division**\n"
      ]
    },
    {
      "cell_type": "code",
      "metadata": {
        "id": "w5bQoR2SYnrR"
      },
      "source": [
        "variable_division = num_one / num_two"
      ],
      "execution_count": null,
      "outputs": []
    },
    {
      "cell_type": "markdown",
      "metadata": {
        "id": "Au9QohpCYnrR"
      },
      "source": [
        "9. Use modulus division to find **num_two** divided by **num_one** and assign the value to a variable **_remainder**\n"
      ]
    },
    {
      "cell_type": "code",
      "metadata": {
        "id": "oKhFcAL1YnrR"
      },
      "source": [
        "variable_remainder = num_one % num_two"
      ],
      "execution_count": 41,
      "outputs": []
    },
    {
      "cell_type": "markdown",
      "metadata": {
        "id": "ZJudWm8rYnrR"
      },
      "source": [
        "10. Calculate **num_one** to the power of **num_two** and assign the value to variable **_exp**\n"
      ]
    },
    {
      "cell_type": "code",
      "metadata": {
        "id": "-QdVxrDRYnrR"
      },
      "source": [
        "variable_exp = num_one ** num_two"
      ],
      "execution_count": 42,
      "outputs": []
    },
    {
      "cell_type": "markdown",
      "metadata": {
        "id": "JBfpFvpQYnrS"
      },
      "source": [
        "11. Find floor division of **num_one** by **num_two** and assign the value to a variable **_floor_division**\n"
      ]
    },
    {
      "cell_type": "code",
      "metadata": {
        "id": "BVwjsI8rYnrS"
      },
      "source": [
        "variable_floor_division = num_one // num_two"
      ],
      "execution_count": 43,
      "outputs": []
    },
    {
      "cell_type": "markdown",
      "metadata": {
        "id": "fSSeHkwyYnrS"
      },
      "source": [
        "## Bonus track. "
      ]
    },
    {
      "cell_type": "markdown",
      "metadata": {
        "id": "WgxrGGEIYnrS"
      },
      "source": [
        "12. The radius of a circle is 30 meters. \n",
        "    Calculate the area of a circle and assign the value to a variable **area_of_circle**"
      ]
    },
    {
      "cell_type": "code",
      "metadata": {
        "id": "AbacbhUeYnrS"
      },
      "source": [
        "import math\n",
        "\n",
        "r = 30\n",
        "area_of_circle = math.pi * (r ** 2)"
      ],
      "execution_count": 45,
      "outputs": []
    },
    {
      "cell_type": "markdown",
      "metadata": {
        "id": "7KzL1948YnrS"
      },
      "source": [
        "13. Calculate the circumference of a circle and assign the value to a variable **circum_of_circle**\n"
      ]
    },
    {
      "cell_type": "code",
      "metadata": {
        "id": "CwllUBafYnrS"
      },
      "source": [
        "# Ejecutar primero la celda anterior\n",
        "circum_of_circle = 2 * math.pi * r"
      ],
      "execution_count": 46,
      "outputs": []
    },
    {
      "cell_type": "markdown",
      "metadata": {
        "id": "JFJRgs8wYnrT"
      },
      "source": [
        "14. Take radius as user input and calculate the area.\n"
      ]
    },
    {
      "cell_type": "code",
      "metadata": {
        "id": "eLMG7cOFYnrT"
      },
      "source": [
        "import math\n",
        "\n",
        "r = int(input('Escribe el radio del círculo: '))\n",
        "area = math.pi * (r ** 2)"
      ],
      "execution_count": 49,
      "outputs": []
    },
    {
      "cell_type": "markdown",
      "metadata": {
        "id": "akk6nCekYnrT"
      },
      "source": [
        "15. Use the built-in input function to get first name, last name, country and age from a user and store the value to their corresponding variable names\n"
      ]
    },
    {
      "cell_type": "code",
      "metadata": {
        "id": "opsShgviYnrW"
      },
      "source": [
        "first_name = input('Escribe tu nomnbre: ')\n",
        "last_name = input('Escribe tu apellido: ')\n",
        "country = input('Escribe tu país: ')\n",
        "age = input('Escribe tu edad: ')\n",
        "\n",
        "user = [first_name, last_name, country, age]"
      ],
      "execution_count": 52,
      "outputs": []
    },
    {
      "cell_type": "markdown",
      "metadata": {
        "id": "jRS3MCQcYnrW"
      },
      "source": [
        "16. What is a reserved word in Python? Run `help('keywords')` to check for the reserved words. "
      ]
    },
    {
      "cell_type": "code",
      "metadata": {
        "id": "jY_2WqnGYnrW"
      },
      "source": [
        "help('keywords')"
      ],
      "execution_count": 53,
      "outputs": [
        {
          "output_type": "stream",
          "name": "stdout",
          "text": [
            "\nHere is a list of the Python keywords.  Enter any keyword to get more help.\n\nFalse               class               from                or\nNone                continue            global              pass\nTrue                def                 if                  raise\nand                 del                 import              return\nas                  elif                in                  try\nassert              else                is                  while\nasync               except              lambda              with\nawait               finally             nonlocal            yield\nbreak               for                 not                 \n\n"
          ]
        }
      ]
    },
    {
      "cell_type": "markdown",
      "metadata": {
        "id": "ySQYNVVXYnrW"
      },
      "source": [
        "**Well done!**"
      ]
    },
    {
      "cell_type": "markdown",
      "metadata": {
        "id": "SZNiuTLzYnrW"
      },
      "source": [
        "![h](https://i.pinimg.com/originals/11/b4/20/11b420fbf1595be3056ad6355277933c.jpg)"
      ]
    },
    {
      "cell_type": "code",
      "metadata": {
        "id": "faAHoZ0jYnrX"
      },
      "source": [],
      "execution_count": null,
      "outputs": []
    }
  ]
}