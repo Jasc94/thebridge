{
 "cells": [
  {
   "cell_type": "markdown",
   "metadata": {},
   "source": [
    "# Data Science Bootcamp - The Bridge \n",
    "## Precurso\n",
    "En este notebook vamos a ver, uno a uno, los conceptos básicos de Python. Constarán de ejercicios prácticos acompañados de una explicación teórica dada por el profesor.\n",
    "\n",
    "Los siguientes enlaces están recomendados para el alumno para profundizar y reforzar conceptos a partir de  ejercicios y ejemplos:\n",
    "\n",
    "- https://facundoq.github.io/courses/aa2018/res/02_python.html\n",
    "\n",
    "- https://www.w3resource.com/python-exercises/\n",
    "\n",
    "- https://www.practicepython.org/\n",
    "\n",
    "- https://es.slideshare.net/egutierrezru/python-paraprincipiantes\n",
    "\n",
    "- https://www.sololearn.com/Play/Python#\n",
    "\n",
    "- https://github.com/mhkmcp/Python-Bootcamp-from-Basic-to-Advanced\n",
    "\n",
    "Ejercicios avanzados:\n",
    "\n",
    "- https://github.com/darkprinx/100-plus-Python-programming-exercises-extended/tree/master/Status (++)\n",
    "\n",
    "- https://github.com/mahtab04/Python-Programming-Practice (++)\n",
    "\n",
    "- https://github.com/whojayantkumar/Python_Programs (+++)\n",
    "\n",
    "- https://www.w3resource.com/python-exercises/ (++++)\n",
    "\n",
    "- https://github.com/fupus/notebooks-ejercicios (+++++)\n",
    "\n",
    "Tutor de ayuda PythonTutor:\n",
    "\n",
    "- http://pythontutor.com/\n"
   ]
  },
  {
   "cell_type": "markdown",
   "metadata": {},
   "source": [
    "## 1. Variables y tipos\n",
    "\n",
    "### Cadenas"
   ]
  },
  {
   "cell_type": "code",
   "execution_count": null,
   "metadata": {},
   "outputs": [],
   "source": [
    "# Python primero genera el valor y después lo guarda en la variable x -> lee de derecha a izquierda\n",
    "\n",
    "# Entero - Integer - int\n",
    "x = 7\n",
    "# Cadena - String - Lista de caracteres\n",
    "x = \"lorena\"\n",
    "print(x)\n",
    "\n",
    "x = 7\n",
    "print(x)"
   ]
  },
  {
   "cell_type": "code",
   "execution_count": null,
   "metadata": {},
   "outputs": [],
   "source": [
    "# built-in\n",
    "type(x)"
   ]
  },
  {
   "cell_type": "code",
   "execution_count": null,
   "metadata": {},
   "outputs": [],
   "source": [
    "x = 5\n",
    "y = 7\n",
    "\n",
    "z = x + y\n",
    "print(z)"
   ]
  },
  {
   "cell_type": "code",
   "execution_count": null,
   "metadata": {},
   "outputs": [],
   "source": [
    "# Poniendo una barra invertida (\\) podemos incluir comillas en una string\n",
    "x = \"'lorena' \\\"\"\n",
    "l = 'silvia----'\n",
    "\n",
    "g = x + l\n",
    "# Las cadenas se concatenan\n",
    "print(g)"
   ]
  },
  {
   "cell_type": "code",
   "execution_count": null,
   "metadata": {},
   "outputs": [],
   "source": [
    "print(g)"
   ]
  },
  {
   "cell_type": "code",
   "execution_count": null,
   "metadata": {},
   "outputs": [],
   "source": [
    "# type muestra el tipo de la variable\n",
    "type(g)"
   ]
  },
  {
   "cell_type": "code",
   "execution_count": null,
   "metadata": {},
   "outputs": [],
   "source": [
    "type(3)"
   ]
  },
  {
   "cell_type": "code",
   "execution_count": null,
   "metadata": {},
   "outputs": [],
   "source": [
    "# print es una función que recibe varios argumentos y cada argumento está diferenciado por la coma. Después de cada coma, la función 'print' añade un espacio.\n",
    "\n",
    "# mala praxis\n",
    "print(    g,z  ,    6,     \"cadena\")\n",
    "\n",
    "# buena praxis - PEP8\n",
    "print(g, z, 6, \"cadena\")"
   ]
  },
  {
   "cell_type": "code",
   "execution_count": null,
   "metadata": {},
   "outputs": [],
   "source": [
    "# No podemos realizar operaciones entre dos tipos de variables diferentes\n",
    "\n",
    "x = 5\n",
    "s = '6'\n",
    "print(x + s)"
   ]
  },
  {
   "cell_type": "code",
   "execution_count": null,
   "metadata": {},
   "outputs": [],
   "source": [
    "# Cambiar de int a str\n",
    "# built-in function\n",
    "\n",
    "x = 6\n",
    "print(type(x))\n",
    "\n",
    "x = str(x)\n",
    "print(type(x))"
   ]
  },
  {
   "cell_type": "code",
   "execution_count": null,
   "metadata": {},
   "outputs": [],
   "source": [
    "x = 5\n",
    "y = '6'\n",
    "z1 = x + int(y)\n",
    "z2 = str(x) + y\n",
    "print(z1)\n",
    "print(z2)"
   ]
  },
  {
   "cell_type": "code",
   "execution_count": null,
   "metadata": {},
   "outputs": [],
   "source": [
    "# Cambiar de str a int\n",
    "s = '56'\n",
    "print(type(int(s)))\n",
    "\n",
    "print(s == int(s))"
   ]
  },
  {
   "cell_type": "code",
   "execution_count": null,
   "metadata": {},
   "outputs": [],
   "source": [
    "s = '56a'\n",
    "print(int(s))"
   ]
  },
  {
   "cell_type": "code",
   "execution_count": null,
   "metadata": {},
   "outputs": [],
   "source": [
    "s = int('56')\n",
    "type(s)"
   ]
  },
  {
   "cell_type": "code",
   "execution_count": null,
   "metadata": {},
   "outputs": [],
   "source": [
    "# Para ver la longitud de una lista de caracteres (lista)\n",
    "p = 'lista caracteres'\n",
    "len(p)"
   ]
  },
  {
   "cell_type": "code",
   "execution_count": null,
   "metadata": {},
   "outputs": [],
   "source": [
    "# String, Integer, Float, List, None (NaN), bool\n",
    "# str, int, float, list, bool"
   ]
  },
  {
   "cell_type": "code",
   "execution_count": null,
   "metadata": {},
   "outputs": [],
   "source": [
    "# Float\n",
    "x = 5.7865\n",
    "type(x)"
   ]
  },
  {
   "cell_type": "code",
   "execution_count": null,
   "metadata": {},
   "outputs": [],
   "source": [
    "o = x + 2\n",
    "o"
   ]
  },
  {
   "cell_type": "code",
   "execution_count": null,
   "metadata": {},
   "outputs": [],
   "source": [
    "# Al pasar un float a entero, le quita los decimales (no redondea)\n",
    "int(x)"
   ]
  },
  {
   "cell_type": "code",
   "execution_count": null,
   "metadata": {},
   "outputs": [],
   "source": [
    "# Al pasar un int a float, python simplemente le añade un '.0'\n",
    "f = float(5)\n",
    "f"
   ]
  },
  {
   "cell_type": "code",
   "execution_count": null,
   "metadata": {},
   "outputs": [],
   "source": [
    "m = ((((65 + int(\"22\")) * 2)))\n",
    "m"
   ]
  },
  {
   "cell_type": "code",
   "execution_count": null,
   "metadata": {},
   "outputs": [],
   "source": [
    "print(type(int(m)))"
   ]
  },
  {
   "cell_type": "code",
   "execution_count": null,
   "metadata": {},
   "outputs": [],
   "source": [
    "# los decimales son float. Python permite las operaciones entre int y float\n",
    "x = 4\n",
    "y = 4.2\n",
    "\n",
    "print(x + y)"
   ]
  },
  {
   "cell_type": "code",
   "execution_count": null,
   "metadata": {},
   "outputs": [],
   "source": [
    "# La división normal (/) es siempre float -> aunque el resultado sea un entero\n",
    "# La división absoluta (//) puede ser: \n",
    "# - float si uno de los dos números (o los dos) son float\n",
    "# - int si los dos son int  -> aunque el resultao sea flaot --> quita los decimales (no redondea)\n",
    "j = 15\n",
    "k = 4\n",
    "division = j // k"
   ]
  },
  {
   "cell_type": "code",
   "execution_count": null,
   "metadata": {},
   "outputs": [],
   "source": [
    "num1 = 12\n",
    "num2 = 3\n",
    "\n",
    "suma = num1 + num2\n",
    "resta = num1 - num2\n",
    "multiplicacion = num1 * num2 \n",
    "division = num1 / num2\n",
    "division_absoluta = num1 // num2\n",
    "\n",
    "print(\"suma:\", suma)\n",
    "print(\"resta:\", resta)\n",
    "print(\"multiplicacion:\", multiplicacion)\n",
    "print(\"division:\", division)\n",
    "print(\"division_absoluta:\", division_absoluta)\n",
    "print(type(division))\n",
    "print(type(division_absoluta))"
   ]
  },
  {
   "cell_type": "code",
   "execution_count": null,
   "metadata": {},
   "outputs": [],
   "source": [
    "aa = 5\n",
    "bb = 2.5\n",
    "test = aa // bb\n",
    "test"
   ]
  },
  {
   "cell_type": "code",
   "execution_count": null,
   "metadata": {},
   "outputs": [],
   "source": [
    "# Jupyter notebook permite que la última línea se imprima por pantalla ( la variable )\n",
    "test"
   ]
  },
  {
   "cell_type": "code",
   "execution_count": null,
   "metadata": {},
   "outputs": [],
   "source": [
    "# Soy un comentario\n",
    "# print(\"Hello Python world!\")\n",
    "# Estoy creando una variable que vale 2\n",
    "\"\"\"\n",
    "Esto es otro comentario\n",
    "\"\"\""
   ]
  },
  {
   "cell_type": "markdown",
   "metadata": {},
   "source": [
    "## Ejercicio: \n",
    "### Crear una nueva celda.\n",
    "### Declarar tres variables: \n",
    "- Una con el nombre \"edad\" con valor vuestra edad\n",
    "- Otra \"edad_compañero_der\" que contengan la edad de tipo entero de vuestro compañero de la derecha\n",
    "- Otra \"suma_anterior\" que contenga la suma de las dos variables anteriormente declaradas\n",
    "\n",
    " Mostrar por pantalla la variable \"suma_anterior\"\n",
    "\n"
   ]
  },
  {
   "cell_type": "code",
   "execution_count": null,
   "metadata": {},
   "outputs": [],
   "source": [
    "edad = 27\n",
    "edad_compañero_der = 27\n",
    "suma_anterior = edad + edad_compañero_der\n",
    "suma_anterior"
   ]
  },
  {
   "cell_type": "code",
   "execution_count": null,
   "metadata": {},
   "outputs": [],
   "source": [
    "# funciones built-in de string\n",
    "\n",
    "# Al ejecutar esto, the built-in function wouldn't work anymore, unless we close the file\n",
    "str = 2"
   ]
  },
  {
   "cell_type": "code",
   "execution_count": null,
   "metadata": {},
   "outputs": [],
   "source": [
    "string1 = 'Hola'\n",
    "string1.upper()"
   ]
  },
  {
   "cell_type": "code",
   "execution_count": null,
   "metadata": {},
   "outputs": [],
   "source": [
    "string1.lower()"
   ]
  },
  {
   "cell_type": "markdown",
   "metadata": {},
   "source": [
    "## 2. Números y operadores"
   ]
  },
  {
   "cell_type": "code",
   "execution_count": null,
   "metadata": {},
   "outputs": [],
   "source": [
    "### Enteros ###\n",
    "\n",
    "x = 3\n",
    "\n",
    "print(\"- Tipo de x:\")\n",
    "print(type(x)) # Imprime el tipo (o `clase`) de x\n",
    "print(\"- Valor de x:\")\n",
    "print(x)       # Imprimir un valor\n",
    "print(\"- x+1:\")\n",
    "print(x + 1)   # Suma: imprime \"4\"\n",
    "print(\"- x-1:\")\n",
    "print(x - 1)   # Resta; imprime \"2\"\n",
    "print(\"- x*2:\")\n",
    "print(x * 2)   # Multiplicación; imprime \"6\"\n",
    "print(\"- x^2:\")\n",
    "print(x ** 2)  # Exponenciación; imprime \"9\"\n",
    "# Modificación de x\n",
    "x += 1 \n",
    "print(\"- x modificado:\")\n",
    "print(x)  # Imprime \"4\"\n",
    "\n",
    "x *= 2\n",
    "print(\"- x modificado:\")\n",
    "print(x)  # Imprime \"8\"\n",
    "\n",
    "print(\"- El módulo de x con 40\")\n",
    "print(40 % x)\n",
    "\n",
    "print(\"- Varias cosas en una línea:\")\n",
    "print(1, 2, x, 5*2) # imprime varias cosas a la vez"
   ]
  },
  {
   "cell_type": "code",
   "execution_count": null,
   "metadata": {},
   "outputs": [],
   "source": [
    "x = 0\n",
    "\n",
    "for x in range(0, 10):\n",
    "    print(x)\n",
    "    x += 1      # x = x + 1"
   ]
  },
  {
   "cell_type": "code",
   "execution_count": null,
   "metadata": {},
   "outputs": [],
   "source": [
    "x = 2\n",
    "#x += 2\n",
    "#x *= 2\n",
    "#x /= 2\n",
    "x -= 2\n",
    "x"
   ]
  },
  {
   "cell_type": "code",
   "execution_count": null,
   "metadata": {},
   "outputs": [],
   "source": [
    "# El módulo muestra el resto de la división entre dos números\n"
   ]
  },
  {
   "cell_type": "code",
   "execution_count": null,
   "metadata": {},
   "outputs": [],
   "source": [
    "numero = 99\n",
    "\n",
    "numero % 2  # Si el resto es 0, el número es par. Sino, impar."
   ]
  },
  {
   "source": [
    "## Título markdown"
   ],
   "cell_type": "markdown",
   "metadata": {}
  },
  {
   "source": [
    "# INPUT"
   ],
   "cell_type": "markdown",
   "metadata": {}
  },
  {
   "cell_type": "code",
   "execution_count": null,
   "metadata": {},
   "outputs": [],
   "source": [
    "# El tipo de de input siempre es str\n",
    "\n",
    "x = input('Escribe algo: ')\n",
    "print(x)"
   ]
  },
  {
   "cell_type": "code",
   "execution_count": null,
   "metadata": {},
   "outputs": [],
   "source": [
    "# Transformamos lo que recoge el input a integer\n",
    "\n",
    "x  = int(input('Escribe un número: '))\n",
    "print(type(x))\n",
    "print(x)"
   ]
  },
  {
   "cell_type": "markdown",
   "metadata": {},
   "source": [
    "## 3. Tipo None"
   ]
  },
  {
   "cell_type": "code",
   "execution_count": null,
   "metadata": {},
   "outputs": [],
   "source": [
    "# None\n",
    "\n",
    "# Si no quiero asignarle ningún valor a la variable, ni tipo str, ni tipo int, ...\n",
    "x = None\n",
    "type(x)"
   ]
  },
  {
   "cell_type": "code",
   "execution_count": null,
   "metadata": {},
   "outputs": [],
   "source": [
    "# Lo que si podemos hacer con None es convertirlo en un str que sea literalmente 'None'\n",
    "x = None\n",
    "x = str(x)\n",
    "print(type(x))"
   ]
  },
  {
   "source": [
    "### Boolean"
   ],
   "cell_type": "markdown",
   "metadata": {}
  },
  {
   "cell_type": "code",
   "execution_count": null,
   "metadata": {},
   "outputs": [],
   "source": [
    "cierto = True\n",
    "falso = False\n",
    "print(type(cierto))\n",
    "print(type(falso))"
   ]
  },
  {
   "cell_type": "code",
   "execution_count": null,
   "metadata": {},
   "outputs": [],
   "source": [
    "# Esto daría un error porque estamos tratando pasar un str a int, cuando en realidad es un float\n",
    "# x = int('57.9')\n",
    "\n",
    "# Para hacerlo int primero tenemos que pasarlo por float\n",
    "x = int(float('57.9'))\n",
    "x"
   ]
  },
  {
   "cell_type": "markdown",
   "metadata": {},
   "source": [
    "## 4. Listas y colecciones "
   ]
  },
  {
   "source": [
    "### Colecciones\n",
    "\n",
    "1. Listas\n",
    "2. String (colección de caracteres)\n",
    "3. Tuplas\n",
    "4. Conjuntos (Set)"
   ],
   "cell_type": "markdown",
   "metadata": {}
  },
  {
   "cell_type": "code",
   "execution_count": null,
   "metadata": {},
   "outputs": [],
   "source": [
    "# Lista de elementos:\n",
    "\n",
    "# Las posiciones se empiezan a contar desde 0\n",
    "s = \"Cadena\""
   ]
  },
  {
   "cell_type": "code",
   "execution_count": null,
   "metadata": {},
   "outputs": [],
   "source": [
    "# Para acceder a varios elementos, se especifica con la nomenclatura \"[N:M]\". N es el primer elemento a obtener, M es el último elemento a obtener pero no incluido. Ejemplo: \n",
    "\n",
    "# Queremos mostrar desde las posiciones 3 a la 7. Debemos especificar: [3:8]\n",
    "\n",
    "# Si M no tiene ningún valor, se obtiene desde N hasta el final. \n",
    "# Si N no tiene ningún valor, es desde el principio de la colección hasta M\n",
    "s[3:len(s)]"
   ]
  },
  {
   "cell_type": "code",
   "execution_count": null,
   "metadata": {},
   "outputs": [],
   "source": [
    "s = 'String'\n",
    "# Slicing -> incluye el primer elemento, pero no el último\n",
    "print(s[1:4])\n",
    "print(s[-1])"
   ]
  },
  {
   "cell_type": "code",
   "execution_count": null,
   "metadata": {},
   "outputs": [],
   "source": [
    "l1 = [3, 7.2, 'Hola']\n",
    "print(l1[-1])       # último\n",
    "print(l1[-2])       # penúltimo\n",
    "print(l1[-3])       # antepenúltimo"
   ]
  },
  {
   "cell_type": "code",
   "execution_count": null,
   "metadata": {},
   "outputs": [],
   "source": [
    "l2 = [1, 2, 3, 'aaa', ['x', 2, 7.5]]\n",
    "l2[-1][-1]"
   ]
  },
  {
   "cell_type": "code",
   "execution_count": null,
   "metadata": {},
   "outputs": [],
   "source": [
    "l3 = [1, 2, [[3, 4]]]\n",
    "print(type(l3[-1]))     # [[3, 4]]\n",
    "print(type(l3[-1][0]))  # [3, 4]\n",
    "print(type(l3[-1][0][0]))   # 3"
   ]
  },
  {
   "cell_type": "code",
   "execution_count": null,
   "metadata": {},
   "outputs": [],
   "source": [
    "# Buena praxis\n",
    "# porque nos ayuda a identificar mejor las listas\n",
    "l4 = [4,]\n",
    "\n",
    "# Ejemplo\n",
    "# Asi podemos ver mejor que [1, 2] es el pimer (y último) elemento de la sublista [[1, 2]]\n",
    "l5 = [1, 2, [[1, 2],]]\n",
    "l5"
   ]
  },
  {
   "cell_type": "code",
   "execution_count": null,
   "metadata": {},
   "outputs": [],
   "source": [
    "# Listas --> Mutables\n",
    "lista = [2, 5, \"caract\", [9, \"g\", [\"j\"]]]\n",
    "print(lista[-1][-1][-1])\n",
    "lista[3][2][0]"
   ]
  },
  {
   "cell_type": "code",
   "execution_count": null,
   "metadata": {},
   "outputs": [],
   "source": [
    "s = ''\n",
    "\n",
    "# Esto da un error porque el elemento está fuera del index\n",
    "s[0]"
   ]
  },
  {
   "cell_type": "code",
   "execution_count": null,
   "metadata": {},
   "outputs": [],
   "source": [
    "s = \"Hola soy Clara\"\n",
    "\n",
    "# Para leer la lista de characters al revés\n",
    "print(s[::-1])"
   ]
  },
  {
   "cell_type": "code",
   "execution_count": null,
   "metadata": {},
   "outputs": [],
   "source": [
    "s = 'hola'\n",
    "length = len(s)\n",
    "\n",
    "# Esto devuelve desde el 0 hasta el final -> Por la diferencia de index (que empieza en 0) y longitud (que empieza en 1)\n",
    "print(s[0:length])"
   ]
  },
  {
   "cell_type": "code",
   "execution_count": null,
   "metadata": {},
   "outputs": [],
   "source": [
    "s = 'Texto más largo'\n",
    "\n",
    "# Coge desde la posición 3 hasta el final\n",
    "print(s[3:])\n",
    "\n",
    "# Coge desde la posición inicial hasta la 3\n",
    "print(s[:3])"
   ]
  },
  {
   "cell_type": "code",
   "execution_count": null,
   "metadata": {},
   "outputs": [],
   "source": [
    "# Agrega un valor a la última posición de la lista\n",
    "lista = []\n",
    "lista.append(3)\n",
    "lista"
   ]
  },
  {
   "cell_type": "code",
   "execution_count": null,
   "metadata": {},
   "outputs": [],
   "source": [
    "# remove elimina el primer elemento que se encuentra que coincide con el valor del argumento\n",
    "# remove quita siempre la primera ocurrencia\n",
    "lista = [2, 'y', 7, 'y']\n",
    "lista.remove('y')\n",
    "lista"
   ]
  },
  {
   "cell_type": "code",
   "execution_count": null,
   "metadata": {},
   "outputs": [],
   "source": [
    "lista = [2, 'y', 7, 'y']\n",
    "\n",
    "# Añade el elemento al final de la lista\n",
    "lista.append('y')\n",
    "# Remueve la primera ocurrencia de 'y\n",
    "lista.remove('y')\n",
    "\n",
    "lista"
   ]
  },
  {
   "cell_type": "code",
   "execution_count": null,
   "metadata": {},
   "outputs": [],
   "source": [
    "lista = [4, 'x', 'y', ['z']]\n",
    "lista[-1].append([4])\n",
    "lista"
   ]
  },
  {
   "cell_type": "code",
   "execution_count": null,
   "metadata": {},
   "outputs": [],
   "source": [
    "# Accedemos a la posición 1 del elemento que está en la posición 2 de lista\n",
    "\n",
    "lista = ['l', 9.4, [8.1, 'xs']]\n",
    "lista[2][1]"
   ]
  },
  {
   "cell_type": "code",
   "execution_count": null,
   "metadata": {},
   "outputs": [],
   "source": [
    "lista = [4, 'x', 'y', ['z']]\n",
    "lista.reverse()\n",
    "print(lista)"
   ]
  },
  {
   "cell_type": "code",
   "execution_count": null,
   "metadata": {},
   "outputs": [],
   "source": [
    "l1 = [4, 'x', 'y', ['z']]\n",
    "l2 = [4, 'x', 'y', ['z']]\n",
    "l1.append(l2)\n",
    "l1"
   ]
  },
  {
   "cell_type": "code",
   "execution_count": null,
   "metadata": {},
   "outputs": [],
   "source": [
    "# Reverse hace el cambio 'inplace'\n",
    "\n",
    "prueba = [1, 2, 3, 4, 5]\n",
    "prueba.reverse()\n",
    "prueba"
   ]
  },
  {
   "cell_type": "code",
   "execution_count": null,
   "metadata": {},
   "outputs": [],
   "source": [
    "# En este caso, el cambio no se realiza 'inplace', y podemos guardarlo en una nueva variable\n",
    "\n",
    "s = 'hola'\n",
    "s = s.upper()\n",
    "print(s)"
   ]
  },
  {
   "cell_type": "code",
   "execution_count": null,
   "metadata": {},
   "outputs": [],
   "source": [
    "prueba = [1, 2, 3, 4, 5]\n",
    "print(prueba)\n",
    "# También podemos darle la vuelta a la lista con [::-1]\n",
    "print(prueba[::-1])"
   ]
  },
  {
   "cell_type": "code",
   "execution_count": null,
   "metadata": {},
   "outputs": [],
   "source": [
    "lista = [3, 7.2, 'hola']\n",
    "\n",
    "# Cuando añadimos una coma en print, nos añade un espacio automáticamente\n",
    "print('Primer elemento:\\n', lista[0], '\\nSegundo elemento:\\n', lista[1], '\\nTercer elemento:\\n', lista[2])"
   ]
  },
  {
   "cell_type": "code",
   "execution_count": null,
   "metadata": {},
   "outputs": [],
   "source": [
    "lista = [3, 7.2, 'hola']\n",
    "\n",
    "# Con el separador 'sep'\n",
    "print(lista[0], lista[1], lista[2], sep = '\\n')"
   ]
  },
  {
   "cell_type": "code",
   "execution_count": null,
   "metadata": {},
   "outputs": [],
   "source": [
    "lista = [3, 7.2, 'hola']\n",
    "\n",
    "# Otra forma de hacerlo\n",
    "print('Primer elemento:\\n{}\\nSegundo elemento:\\n{}\\nTercer elemento:\\n{}'.format(lista[0], lista[1], lista[2]))"
   ]
  },
  {
   "cell_type": "code",
   "execution_count": null,
   "metadata": {},
   "outputs": [],
   "source": [
    "lista = [3, 7.2, 'hola']\n",
    "\n",
    "# Para calcular el elemento que está en la mitad\n",
    "elemento_en_la_mitad = len(lista) // 2      # en este caso: 3 / 2 = 1.5 -> 1\n",
    "lista[elemento_en_la_mitad]"
   ]
  },
  {
   "cell_type": "code",
   "execution_count": null,
   "metadata": {},
   "outputs": [],
   "source": [
    "# For backwards slicing\n",
    "nums = [10, 20, 30, 40, 50, 60, 70, 80, 90]\n",
    "\n",
    "# To read from right to left\n",
    "print(nums[::-1])\n",
    "\n",
    "# To start from '80'\n",
    "print(nums[-2::-1])\n",
    "\n",
    "# To start from '80' and stop at 30\n",
    "# We use 1 to indicate the end of the slicing\n",
    "print(nums[-2:1:-1])"
   ]
  },
  {
   "source": [
    "## Tuplas"
   ],
   "cell_type": "markdown",
   "metadata": {}
  },
  {
   "cell_type": "code",
   "execution_count": null,
   "metadata": {},
   "outputs": [],
   "source": [
    "# Para hacer una tupla de un elemento, tenemos que añadirle por fuerza una coma para que no de error\n",
    "x = (2)\n",
    "\n",
    "tupla = (2,)\n",
    "\n",
    "print(type(x))\n",
    "print(type(tupla))"
   ]
  },
  {
   "cell_type": "code",
   "execution_count": null,
   "metadata": {},
   "outputs": [],
   "source": [
    "# Tuplas --> Inmutables\n",
    "# No se puede modificar ni el tamaño de la tupla ni el orden ni los valores en si\n",
    "\n",
    "tupla = (2, 5, \"caract\", [9, \"g\", [\"j\"]])\n",
    "tupla"
   ]
  },
  {
   "cell_type": "code",
   "execution_count": null,
   "metadata": {},
   "outputs": [],
   "source": [
    "# Lo que si podemos hacer es modificar elementos de una lista dentro de una tupla\n",
    "tupla = (1, 2, 3, [4, 5])\n",
    "tupla[3].append(6)\n",
    "tupla"
   ]
  },
  {
   "cell_type": "code",
   "execution_count": null,
   "metadata": {},
   "outputs": [],
   "source": [
    "# Podemos modificar colecciones dentro de una tuplas con las funciones propias. Por ejemplo, las strings también se puede modificar con las funciones propias de string"
   ]
  },
  {
   "cell_type": "code",
   "execution_count": null,
   "metadata": {},
   "outputs": [],
   "source": [
    "# También puedo convertir la tupla en lista y después modificarla\n",
    "tupla = (1, 2, 3)\n",
    "tupla = list(tupla)\n",
    "tupla[-1] = 100\n",
    "\n",
    "# Una vez he modificado la lista, la devuelvo a tupla\n",
    "tupla = tuple(tupla)\n",
    "tupla"
   ]
  },
  {
   "cell_type": "code",
   "execution_count": null,
   "metadata": {},
   "outputs": [],
   "source": [
    "# Update listas\n",
    "lista = [2, \"6\", [\"k\", \"m\"]]\n",
    "lista[1] = 1\n",
    "lista"
   ]
  },
  {
   "source": [
    "## Conjuntos"
   ],
   "cell_type": "markdown",
   "metadata": {}
  },
  {
   "cell_type": "code",
   "execution_count": null,
   "metadata": {},
   "outputs": [],
   "source": [
    "# Conjuntos\n",
    "# Los conjuntos son colecciones de elementos ordenados Y no repetidos\n",
    "\n",
    "conjunto = [2, 4, 6, \"a\", \"z\", \"h\", 2]\n",
    "# Para hacerlo conjunto, usamos la función set()\n",
    "conjunto = set(conjunto)\n",
    "\n",
    "# Me elimina el último dos\n",
    "conjunto"
   ]
  },
  {
   "cell_type": "code",
   "execution_count": null,
   "metadata": {},
   "outputs": [],
   "source": [
    "# Los conjuntos van entre {}\n",
    "# Sin embargo, no podríamos crear conjunto = {} porque crearía un diccionario\n",
    "\n",
    "conjunto = {1,}\n",
    "\n",
    "# El orden es : int/float > boolean > str\n",
    "conjunto"
   ]
  },
  {
   "cell_type": "code",
   "execution_count": null,
   "metadata": {},
   "outputs": [],
   "source": [
    "conjunto = [\"a\", \"z\", \"h\", 2, 2, 4, 6, True, True, False]\n",
    "conjunto = set(conjunto)\n",
    "conjunto"
   ]
  },
  {
   "cell_type": "code",
   "execution_count": null,
   "metadata": {},
   "outputs": [],
   "source": [
    "conjunto = [\"a\", \"z\", \"h\", 2, 2, 4, 6, 2.1, 2.4, 2.3, True, True, False]\n",
    "conjunto = set(conjunto)\n",
    "conjunto"
   ]
  },
  {
   "cell_type": "code",
   "execution_count": null,
   "metadata": {},
   "outputs": [],
   "source": [
    "conjunto_tupla = (\"a\", \"z\", \"h\", 2, 2, 4, 6, 2.1, 2.4, 2.3, True, True, False)\n",
    "conjunto = set(conjunto_tupla)\n",
    "conjunto"
   ]
  },
  {
   "cell_type": "code",
   "execution_count": null,
   "metadata": {},
   "outputs": [],
   "source": [
    "conjunto = {\"a\", \"z\", \"h\", 2, 2, 4, 6, 2.1, 2.4, 2.3, True, True, False}\n",
    "conjunto"
   ]
  },
  {
   "cell_type": "code",
   "execution_count": null,
   "metadata": {},
   "outputs": [],
   "source": [
    "# Los conjuntos no pueden tener valores mutables, como las listas\n",
    "conjunto = {\"a\", \"z\", \"h\", 2, 2, 4, 6, 2.1, 2.4, 2.3, True, True, False, [1, 2]}"
   ]
  },
  {
   "cell_type": "code",
   "execution_count": null,
   "metadata": {},
   "outputs": [],
   "source": [
    "# Sin embargo, las tuplas SÍ se pueden incluir\n",
    "conjunto = {\"a\", \"z\", \"h\", 2, 2, 4, 6, 2.1, 2.4, 2.3, True, True, False, (1, 2)}\n",
    "conjunto"
   ]
  },
  {
   "cell_type": "code",
   "execution_count": null,
   "metadata": {},
   "outputs": [],
   "source": [
    "# Si quiero que mi colección no tenga datos repetidos:\n",
    "# 1. Paso mi colección a conjunto\n",
    "# 2. Devuelvo el conjunto a la colección original\n",
    "\n",
    "# Al devolverlo al tipo de colección original (lista por ejemplo), los valores se desordenan"
   ]
  },
  {
   "cell_type": "code",
   "execution_count": null,
   "metadata": {},
   "outputs": [],
   "source": [
    "# Los conjuntos NO tienen indices -> Por eso no podemos acceder a los elementos específicos de un conjunto\n",
    "\n",
    "# Al pasar la lista a conjunto, se pierden los indices"
   ]
  },
  {
   "cell_type": "code",
   "execution_count": null,
   "metadata": {},
   "outputs": [],
   "source": [
    "s = \"String\"\n",
    "lista_s = list(s)\n",
    "lista_s"
   ]
  },
  {
   "cell_type": "code",
   "execution_count": null,
   "metadata": {},
   "outputs": [],
   "source": [
    "s = \"String\"\n",
    "conj = {s}\n",
    "conj"
   ]
  },
  {
   "cell_type": "code",
   "execution_count": null,
   "metadata": {},
   "outputs": [],
   "source": [
    "# Cambiar de tupla a lista, remover elemento y convertir en tupla\n"
   ]
  },
  {
   "cell_type": "code",
   "execution_count": null,
   "metadata": {},
   "outputs": [],
   "source": [
    "conjunto = {2, 5, \"h\"}\n",
    "lista_con_conjunto = [conjunto]\n",
    "lista_con_conjunto[0]"
   ]
  },
  {
   "cell_type": "code",
   "execution_count": null,
   "metadata": {},
   "outputs": [],
   "source": [
    "# No podemos acceder a elementos de un conjunto\n",
    "lista_con_conjunto[0][0]"
   ]
  },
  {
   "cell_type": "markdown",
   "metadata": {},
   "source": [
    "## 5. Condiciones: if, elif, else"
   ]
  },
  {
   "source": [
    "### Boolean"
   ],
   "cell_type": "markdown",
   "metadata": {}
  },
  {
   "cell_type": "code",
   "execution_count": null,
   "metadata": {},
   "outputs": [],
   "source": [
    "True\n",
    "False\n"
   ]
  },
  {
   "cell_type": "code",
   "execution_count": null,
   "metadata": {},
   "outputs": [],
   "source": [
    "# Operadores comparativos\n",
    "x = 5\n",
    "\n",
    "if x > 3:\n",
    "    print('Es mayor que 3')"
   ]
  },
  {
   "cell_type": "code",
   "execution_count": null,
   "metadata": {},
   "outputs": [],
   "source": [
    "x = 5\n",
    "\n",
    "if x > 3:\n",
    "    print('Es mayor que 3')\n",
    "    # Actualizo el valor\n",
    "    x = 2\n",
    "    print(x)"
   ]
  },
  {
   "cell_type": "code",
   "execution_count": null,
   "metadata": {},
   "outputs": [],
   "source": [
    "x = 5\n",
    "\n",
    "if x > 3:\n",
    "    print('Es mayor que 3')\n",
    "    # Actualizo el valor\n",
    "\n",
    "if x < 4:\n",
    "    x = 2\n",
    "print(x)"
   ]
  },
  {
   "cell_type": "code",
   "execution_count": null,
   "metadata": {},
   "outputs": [],
   "source": [
    "x = 5\n",
    "\n",
    "if x < 4:\n",
    "    print('1')\n",
    "elif x > 3:\n",
    "    print('2')\n",
    "else:\n",
    "    print('3')\n",
    "\n",
    "print('\\nFuera del bloque')\n",
    "# Una vez cumpla una condición, se sale del bloque\n",
    "# Máximo un if y un else, y todos los elif que queramos\n",
    "# elif (optional), else (optional)"
   ]
  },
  {
   "cell_type": "code",
   "execution_count": 33,
   "metadata": {},
   "outputs": [
    {
     "output_type": "stream",
     "name": "stdout",
     "text": [
      "2\n\nFuera del bloque\n"
     ]
    }
   ],
   "source": [
    "# A Python no le importa que pongamos condiciones que se solapen, aunque se considera mala praxis\n",
    "\n",
    "# Mientras más arriba la condición en el condicional, mayor prioridad -> porque una vez se cumpla una condición, el resto no se ejecutan\n",
    "\n",
    "x = 5\n",
    "\n",
    "if x < 4:\n",
    "    print('1')\n",
    "elif x > 3:\n",
    "    print('2')\n",
    "    x = 6\n",
    "\n",
    "# Esta condición Python no la leo, porque la anterior ya se cumplió\n",
    "elif x == 6:\n",
    "    print('x es 6')\n",
    "else:\n",
    "    print('3')\n",
    "\n",
    "print('\\nFuera del bloque')"
   ]
  },
  {
   "cell_type": "code",
   "execution_count": null,
   "metadata": {},
   "outputs": [],
   "source": [
    "# Diferente"
   ]
  },
  {
   "source": [
    "\"\"\"\n",
    "==  -> Igualdad\n",
    "!= -> Diferecia\n",
    "< -> Menor que\n",
    "> -> Mayor que\n",
    "<= -> Menor o igual\n",
    ">= -> Mayor o igual\n",
    "\"\"\"\n"
   ],
   "cell_type": "code",
   "metadata": {},
   "execution_count": null,
   "outputs": []
  },
  {
   "cell_type": "code",
   "execution_count": 34,
   "metadata": {},
   "outputs": [
    {
     "output_type": "stream",
     "name": "stdout",
     "text": [
      "hola\n"
     ]
    }
   ],
   "source": [
    "# Siempre va a entrar en la condición porque es True\n",
    "\n",
    "if True:\n",
    "    print('hola')\n",
    "else:\n",
    "    print('adios')"
   ]
  },
  {
   "cell_type": "code",
   "execution_count": null,
   "metadata": {},
   "outputs": [],
   "source": [
    "# and solo devolverá True si TODOS son True\n",
    "True and False"
   ]
  },
  {
   "cell_type": "code",
   "execution_count": 35,
   "metadata": {},
   "outputs": [
    {
     "output_type": "stream",
     "name": "stdout",
     "text": [
      "adios\n"
     ]
    }
   ],
   "source": [
    "if 1 == 1 and 2 == 3:\n",
    "    print('hola')\n",
    "else:\n",
    "    print('adios')"
   ]
  },
  {
   "cell_type": "code",
   "execution_count": 36,
   "metadata": {},
   "outputs": [
    {
     "output_type": "stream",
     "name": "stdout",
     "text": [
      "hola\n"
     ]
    }
   ],
   "source": [
    "if 1 == 1 or 2 == 3:\n",
    "    print('hola')\n",
    "else:\n",
    "    print('adios')"
   ]
  },
  {
   "cell_type": "code",
   "execution_count": null,
   "metadata": {},
   "outputs": [],
   "source": [
    "# or devolverá True si UNO es True"
   ]
  },
  {
   "cell_type": "code",
   "execution_count": null,
   "metadata": {},
   "outputs": [],
   "source": [
    "# Sinónimos de False para las condiciones:\n",
    "# None\n",
    "# False\n",
    "# 0 (int or float)\n",
    "# Cualquier colección vacía --> [], \"\", (), {}\n",
    "\n",
    "# El None no actúa como un número al compararlo con otro número\n",
    "\"\"\"\n",
    "El True lo toma como un numérico 1\n",
    "\"\"\""
   ]
  },
  {
   "cell_type": "code",
   "execution_count": 38,
   "metadata": {},
   "outputs": [
    {
     "output_type": "stream",
     "name": "stdout",
     "text": [
      "adios\n"
     ]
    }
   ],
   "source": [
    "if (1 == 2 or 2 == 2) and 2 == 1:\n",
    "    print('hola')\n",
    "else:\n",
    "    print('adios')"
   ]
  },
  {
   "cell_type": "code",
   "execution_count": 41,
   "metadata": {},
   "outputs": [
    {
     "output_type": "stream",
     "name": "stdout",
     "text": [
      "hola\n"
     ]
    }
   ],
   "source": [
    "# Si no hay paréntesis, lee primero los ands\n",
    "\n",
    "if 1 == 2 or 2 == 2 or 2 == 1 and 2 == 3:\n",
    "    print('hola')\n",
    "else:\n",
    "    print('adios')"
   ]
  },
  {
   "cell_type": "code",
   "execution_count": 45,
   "metadata": {},
   "outputs": [
    {
     "output_type": "stream",
     "name": "stdout",
     "text": [
      "True\n"
     ]
    }
   ],
   "source": [
    "if 1 == 2 or 2 == 2 and 7 == 7 and 2 > 1:\n",
    "    print(True)\n",
    "else:\n",
    "    print(False)"
   ]
  },
  {
   "cell_type": "code",
   "execution_count": 47,
   "metadata": {},
   "outputs": [
    {
     "output_type": "stream",
     "name": "stdout",
     "text": [
      "hola\n"
     ]
    }
   ],
   "source": [
    "# Cuando encontramos condicionales sin comparaciones, esto quiere decir 'si existe'\n",
    "if 2:\n",
    "    print('hola')"
   ]
  },
  {
   "cell_type": "code",
   "execution_count": 50,
   "metadata": {},
   "outputs": [
    {
     "output_type": "execute_result",
     "data": {
      "text/plain": [
       "\"\\nElementos en Python que son falsos:\\n\\n- 0 (cero)\\n- Conjuntos vacíos ([], (), {}, '', set vacío)\\n- False\\n\\n\""
      ]
     },
     "metadata": {},
     "execution_count": 50
    }
   ],
   "source": [
    "'''\n",
    "Elementos en Python que son falsos:\n",
    "\n",
    "- 0 (cero)\n",
    "- Conjuntos vacíos ([], (), {}, '', set vacío)\n",
    "- False\n",
    "\n",
    "'''"
   ]
  },
  {
   "cell_type": "code",
   "execution_count": 52,
   "metadata": {},
   "outputs": [],
   "source": [
    "# No imprime nada porque todos son falsos\n",
    "\n",
    "if 0:\n",
    "    print('1')\n",
    "elif [] or ():\n",
    "    print('2')\n",
    "elif False:\n",
    "    print('3')\n",
    "elif None:\n",
    "    print('4')"
   ]
  },
  {
   "cell_type": "code",
   "execution_count": 54,
   "metadata": {},
   "outputs": [
    {
     "output_type": "stream",
     "name": "stdout",
     "text": [
      "3\n"
     ]
    }
   ],
   "source": [
    "l = [0, False, 'Hola']\n",
    "\n",
    "if l[0]:\n",
    "    print('1')\n",
    "elif l[1]:\n",
    "    print('2')\n",
    "elif l[2]:\n",
    "    print('3')"
   ]
  },
  {
   "cell_type": "code",
   "execution_count": null,
   "metadata": {},
   "outputs": [],
   "source": [
    "l = [0, False, 'Hola']\n",
    "\n",
    "# Esto son tres bloques de condiciones por separado\n",
    "if l[0]:\n",
    "    print('1')\n",
    "if l[1]:\n",
    "    print('2')\n",
    "if l[2]:\n",
    "    print('3')"
   ]
  },
  {
   "cell_type": "code",
   "execution_count": 2,
   "metadata": {},
   "outputs": [
    {
     "output_type": "stream",
     "name": "stdout",
     "text": [
      "Epaa\n"
     ]
    }
   ],
   "source": [
    "# not condition = False\n",
    "# el not es básicamente darle la vuelta a la condición\n",
    "\n",
    "if 2 == 2 and not 3 == 3 or 1 == 1:\n",
    "    print('Epaa')"
   ]
  },
  {
   "cell_type": "markdown",
   "metadata": {},
   "source": [
    "# Bucles For, While"
   ]
  },
  {
   "cell_type": "code",
   "execution_count": 5,
   "metadata": {},
   "outputs": [
    {
     "output_type": "stream",
     "name": "stdout",
     "text": [
      "2\nx\n[6]\n\n\n2\nx\n[6]\n"
     ]
    }
   ],
   "source": [
    "l1 = [2, 'x', [6]]\n",
    "\n",
    "# Versión for\n",
    "for x in l1:\n",
    "    print(x)\n",
    "\n",
    "print('\\n')\n",
    "\n",
    "# Versión while\n",
    "count = 0\n",
    "while count < len(l1):\n",
    "    print(l1[count])\n",
    "    count += 1"
   ]
  },
  {
   "cell_type": "code",
   "execution_count": 7,
   "metadata": {},
   "outputs": [
    {
     "output_type": "stream",
     "name": "stdout",
     "text": [
      "[2, 'x', [6]]\n"
     ]
    }
   ],
   "source": [
    "l1 = [2, 'x', [6]]\n",
    "print([x for x in l1])"
   ]
  },
  {
   "cell_type": "code",
   "execution_count": 8,
   "metadata": {},
   "outputs": [
    {
     "output_type": "stream",
     "name": "stdout",
     "text": [
      "1\n0\n6\n"
     ]
    }
   ],
   "source": [
    "l2 = [2, 1, 7]\n",
    "\n",
    "for x in l2:\n",
    "    print(x - 1)"
   ]
  },
  {
   "cell_type": "code",
   "execution_count": 9,
   "metadata": {},
   "outputs": [
    {
     "output_type": "stream",
     "name": "stdout",
     "text": [
      "xf\nyf\nzf\n"
     ]
    }
   ],
   "source": [
    "l3 = ['x', 'y', 'z']\n",
    "\n",
    "for x in l3:\n",
    "    print(x + 'f')"
   ]
  },
  {
   "cell_type": "code",
   "execution_count": 11,
   "metadata": {},
   "outputs": [
    {
     "output_type": "stream",
     "name": "stdout",
     "text": [
      "xF\n1F\ngF\n"
     ]
    }
   ],
   "source": [
    "t1 = ('x', '1', 'g')\n",
    "\n",
    "for x in t1:\n",
    "    print(x + 'F')"
   ]
  },
  {
   "cell_type": "code",
   "execution_count": 12,
   "metadata": {},
   "outputs": [
    {
     "output_type": "stream",
     "name": "stdout",
     "text": [
      "xF\n1F\ngF\n"
     ]
    }
   ],
   "source": [
    "t1 = ('x', 1, 'g')\n",
    "\n",
    "for x in t1:\n",
    "    print(str(x) + 'F')"
   ]
  },
  {
   "cell_type": "code",
   "execution_count": 14,
   "metadata": {},
   "outputs": [
    {
     "output_type": "stream",
     "name": "stdout",
     "text": [
      "4\n5\n6\n"
     ]
    }
   ],
   "source": [
    "l = [1, 2, 3, 4, 5, 6, 7]\n",
    "\n",
    "for i in l[3:-1]:\n",
    "    print(i)"
   ]
  },
  {
   "cell_type": "code",
   "execution_count": 15,
   "metadata": {},
   "outputs": [
    {
     "output_type": "stream",
     "name": "stdout",
     "text": [
      "[1, 2]\n[3, 4]\n"
     ]
    }
   ],
   "source": [
    "l = [[1, 2], [3, 4]]\n",
    "\n",
    "for i in l:\n",
    "    print(i)"
   ]
  },
  {
   "cell_type": "code",
   "execution_count": 18,
   "metadata": {},
   "outputs": [
    {
     "output_type": "stream",
     "name": "stdout",
     "text": [
      "fuera del for\n"
     ]
    }
   ],
   "source": [
    "l = [[1, 2], [3, 4]]\n",
    "\n",
    "for i in l:\n",
    "    if len(i) >= 3:\n",
    "        print(i)\n",
    "\n",
    "print('fuera del for')"
   ]
  },
  {
   "cell_type": "code",
   "execution_count": 20,
   "metadata": {},
   "outputs": [
    {
     "output_type": "stream",
     "name": "stdout",
     "text": [
      "[1, 2]\nxyz\nxyz\n2\n"
     ]
    },
    {
     "output_type": "error",
     "ename": "TypeError",
     "evalue": "object of type 'int' has no len()",
     "traceback": [
      "\u001b[0;31m---------------------------------------------------------------------------\u001b[0m",
      "\u001b[0;31mTypeError\u001b[0m                                 Traceback (most recent call last)",
      "\u001b[0;32m<ipython-input-20-9c1e2958f49c>\u001b[0m in \u001b[0;36m<module>\u001b[0;34m\u001b[0m\n\u001b[1;32m      4\u001b[0m \u001b[0;32mfor\u001b[0m \u001b[0mi\u001b[0m \u001b[0;32min\u001b[0m \u001b[0ml\u001b[0m\u001b[0;34m:\u001b[0m\u001b[0;34m\u001b[0m\u001b[0;34m\u001b[0m\u001b[0m\n\u001b[1;32m      5\u001b[0m     \u001b[0mprint\u001b[0m\u001b[0;34m(\u001b[0m\u001b[0mi\u001b[0m\u001b[0;34m)\u001b[0m\u001b[0;34m\u001b[0m\u001b[0;34m\u001b[0m\u001b[0m\n\u001b[0;32m----> 6\u001b[0;31m     \u001b[0;32mif\u001b[0m \u001b[0mlen\u001b[0m\u001b[0;34m(\u001b[0m\u001b[0mi\u001b[0m\u001b[0;34m)\u001b[0m \u001b[0;34m>=\u001b[0m \u001b[0;36m3\u001b[0m\u001b[0;34m:\u001b[0m\u001b[0;34m\u001b[0m\u001b[0;34m\u001b[0m\u001b[0m\n\u001b[0m\u001b[1;32m      7\u001b[0m         \u001b[0mprint\u001b[0m\u001b[0;34m(\u001b[0m\u001b[0mi\u001b[0m\u001b[0;34m)\u001b[0m\u001b[0;34m\u001b[0m\u001b[0;34m\u001b[0m\u001b[0m\n\u001b[1;32m      8\u001b[0m \u001b[0;34m\u001b[0m\u001b[0m\n",
      "\u001b[0;31mTypeError\u001b[0m: object of type 'int' has no len()"
     ]
    }
   ],
   "source": [
    "# Esto va a dar un error al llegar al 2, porque no es una colección, por lo que no tiene funión len()\n",
    "l = [[1, 2], 'xyz', 2, [3, 4]]\n",
    "\n",
    "for i in l:\n",
    "    print(i)\n",
    "    if len(i) >= 3:\n",
    "        print(i)\n",
    "\n",
    "print('fuera del for')"
   ]
  },
  {
   "cell_type": "code",
   "execution_count": 21,
   "metadata": {},
   "outputs": [
    {
     "output_type": "stream",
     "name": "stdout",
     "text": [
      "[1, 2]\n----------- x -----------\nxyz\nxyz\n----------- x -----------\n[3, 4]\n----------- x -----------\n"
     ]
    }
   ],
   "source": [
    "# Para diferenciar iteraciones dentro de un bucle\n",
    "\n",
    "l = [[1, 2], 'xyz', [3, 4]]\n",
    "\n",
    "for i in l:\n",
    "    print(i)\n",
    "    if len(i) >= 3:\n",
    "        print(i)\n",
    "    print('----------- x -----------')"
   ]
  },
  {
   "cell_type": "code",
   "execution_count": 23,
   "metadata": {},
   "outputs": [
    {
     "output_type": "stream",
     "name": "stdout",
     "text": [
      "x es Entero\n"
     ]
    }
   ],
   "source": [
    "# Comprobar tipos\n",
    "x = 2\n",
    "\n",
    "if type(x) == int:\n",
    "    print('x es Entero')"
   ]
  },
  {
   "cell_type": "code",
   "execution_count": 25,
   "metadata": {},
   "outputs": [
    {
     "output_type": "stream",
     "name": "stdout",
     "text": [
      "Es entero\n"
     ]
    }
   ],
   "source": [
    "# Otro método para comprobar tipos\n",
    "x = 2\n",
    "if isinstance(x, int):\n",
    "    print('Es entero')"
   ]
  },
  {
   "cell_type": "code",
   "execution_count": 26,
   "metadata": {},
   "outputs": [
    {
     "output_type": "stream",
     "name": "stdout",
     "text": [
      "Es entero\n"
     ]
    }
   ],
   "source": [
    "# Para comprobar varios tipos a la vez\n",
    "x = 2\n",
    "if isinstance(x, (int, float)):\n",
    "    print('Es entero')"
   ]
  },
  {
   "cell_type": "code",
   "execution_count": 27,
   "metadata": {},
   "outputs": [
    {
     "output_type": "stream",
     "name": "stdout",
     "text": [
      "[1, 2]\n[3, 4]\n"
     ]
    }
   ],
   "source": [
    "l = [[1, 2], 'xyz', [3, 4]]\n",
    "\n",
    "for i in l:\n",
    "    if isinstance(i, list):\n",
    "        print(i)    # Me devuelve solo las listas"
   ]
  },
  {
   "source": [
    "# Lista alturas\n",
    "\n",
    "lista_alturas = [1.66,1.82,1.73,1.75,1.54,1.70,1.70,1.80,1.81,1.87, 1.86, 1.52, 1.70, 1.78, 1.73, 1.78, 1.60, 1.77,1.80, 1.64, 1.79,1.85]\n",
    "\n",
    "alturas_menores = []\n",
    "\n",
    "for x in lista_alturas:\n",
    "    if x < 1.70:\n",
    "        alturas_menores.append(x)\n",
    "\n",
    "alturas_menores"
   ],
   "cell_type": "code",
   "metadata": {},
   "execution_count": 32,
   "outputs": [
    {
     "output_type": "execute_result",
     "data": {
      "text/plain": [
       "[1.66, 1.54, 1.52, 1.6, 1.64]"
      ]
     },
     "metadata": {},
     "execution_count": 32
    }
   ]
  },
  {
   "cell_type": "code",
   "execution_count": 33,
   "metadata": {},
   "outputs": [
    {
     "output_type": "execute_result",
     "data": {
      "text/plain": [
       "[1.66, 1.54, 1.52, 1.6, 1.64]"
      ]
     },
     "metadata": {},
     "execution_count": 33
    }
   ],
   "source": [
    "# Lista alturas\n",
    "\n",
    "lista_alturas = [1.66,1.82,1.73,1.75,1.54,1.70,1.70,1.80,1.81,1.87, 'x', 1.86, 1.52, 1.70, 1.78, 1.73, 1.78, 1.60, 1.77,1.80, 1.64, 1.79,1.85]\n",
    "\n",
    "alturas_menores = []\n",
    "\n",
    "for x in lista_alturas:\n",
    "    # El orden de la condición es importante\n",
    "    # Si ponemos la comparación antes de que compruebe el tipo, devuelve un error al llegar a x\n",
    "    if isinstance(x, float) and x < 1.70:\n",
    "        alturas_menores.append(x)\n",
    "\n",
    "alturas_menores"
   ]
  },
  {
   "cell_type": "code",
   "execution_count": 39,
   "metadata": {},
   "outputs": [
    {
     "output_type": "stream",
     "name": "stdout",
     "text": [
      "1.66\n1.54\n1.52\n1.6\n1.64\n"
     ]
    },
    {
     "output_type": "execute_result",
     "data": {
      "text/plain": [
       "[1.66, 1.54, 1.52, 1.6, 1.64]"
      ]
     },
     "metadata": {},
     "execution_count": 39
    }
   ],
   "source": [
    "# Lista alturas\n",
    "\n",
    "lista_alturas = [1.66,1.82,1.73,1.75,1.54,1.70,1.70,1.80,1.81,1.87, 'x', None, 1.86, 1.52, 1.70, 1.78, 1.73, 1.78, 1.60, 1.77,1.80, 1.64, 1.79,1.85]\n",
    "\n",
    "alturas_menores = []\n",
    "\n",
    "for x in lista_alturas:\n",
    "    if isinstance(x, float) and x < 1.70:\n",
    "        if isinstance(x, int):\n",
    "            print('Este valor es Entero: ', x)\n",
    "        elif x < 1.7:\n",
    "            alturas_menores.append(x)\n",
    "            print(x)\n",
    "\n",
    "alturas_menores"
   ]
  },
  {
   "cell_type": "code",
   "execution_count": 41,
   "metadata": {},
   "outputs": [
    {
     "output_type": "stream",
     "name": "stdout",
     "text": [
      "Pepe\nJuan\nLorena\nRocío\n"
     ]
    }
   ],
   "source": [
    "l4 = [['Pepe', 200], ['Juan', 300], ['Lorena', 150], ['Rocío', 500]]\n",
    "\n",
    "for x in l4:\n",
    "    print(x[0])"
   ]
  },
  {
   "cell_type": "code",
   "execution_count": 42,
   "metadata": {},
   "outputs": [
    {
     "output_type": "stream",
     "name": "stdout",
     "text": [
      "Pepe : 200\nJuan : 300\nLorena : 150\nRocío : 500\n"
     ]
    }
   ],
   "source": [
    "l4 = [['Pepe', 200], ['Juan', 300], ['Lorena', 150], ['Rocío', 500]]\n",
    "\n",
    "for x in l4:\n",
    "    print(x[0], ':', x[1])"
   ]
  },
  {
   "cell_type": "code",
   "execution_count": 48,
   "metadata": {},
   "outputs": [
    {
     "output_type": "stream",
     "name": "stdout",
     "text": [
      "[0, 2, 4, 6, 8]\n"
     ]
    }
   ],
   "source": [
    "x = list(range(0, 10, 2))\n",
    "print(x)"
   ]
  },
  {
   "cell_type": "code",
   "execution_count": 49,
   "metadata": {},
   "outputs": [
    {
     "output_type": "execute_result",
     "data": {
      "text/plain": [
       "[0, 1, 2]"
      ]
     },
     "metadata": {},
     "execution_count": 49
    }
   ],
   "source": [
    "lista = ['x', 'y', 'z']\n",
    "rango_de_lista = list(range(len(lista)))\n",
    "rango_de_lista"
   ]
  },
  {
   "cell_type": "code",
   "execution_count": 50,
   "metadata": {},
   "outputs": [
    {
     "output_type": "stream",
     "name": "stdout",
     "text": [
      "[0, 1, 2, 3]\n"
     ]
    }
   ],
   "source": [
    "l4 = [['Pepe', 200], ['Juan', 300], ['Lorena', 150], ['Rocío', 500]]\n",
    "\n",
    "# Imprimo las posiciones de mi lista\n",
    "print(list(range(len(l4))))"
   ]
  },
  {
   "cell_type": "code",
   "execution_count": null,
   "metadata": {},
   "outputs": [],
   "source": [
    "l4 = [['Pepe', 200], ['Juan', 300], ['Lorena', 150], ['Rocío', 500]]\n",
    "\n",
    "# Esto va a recorrer las posicioens de las listas, NO los valores\n",
    "for x in range(len(l4)):\n",
    "    print(x)"
   ]
  },
  {
   "cell_type": "code",
   "execution_count": 51,
   "metadata": {},
   "outputs": [
    {
     "output_type": "stream",
     "name": "stdout",
     "text": [
      "['Pepe', 200]\n['Juan', 300]\n['Lorena', 150]\n['Rocío', 500]\n"
     ]
    }
   ],
   "source": [
    "l4 = [['Pepe', 200], ['Juan', 300], ['Lorena', 150], ['Rocío', 500]]\n",
    "\n",
    "for x in range(len(l4)):\n",
    "    print(l4[x])"
   ]
  },
  {
   "cell_type": "code",
   "execution_count": 54,
   "metadata": {},
   "outputs": [
    {
     "output_type": "stream",
     "name": "stdout",
     "text": [
      "Pepe\nJuan\nLorena\nRocío\n"
     ]
    }
   ],
   "source": [
    "l4 = [['Pepe', 200], ['Juan', 300], ['Lorena', 150], ['Rocío', 500]]\n",
    "\n",
    "# Para obtener el primer valor de cada uno de los elementos\n",
    "for x in range(len(l4)):\n",
    "    print(l4[x][0])"
   ]
  },
  {
   "cell_type": "code",
   "execution_count": 55,
   "metadata": {},
   "outputs": [
    {
     "output_type": "stream",
     "name": "stdout",
     "text": [
      "0 ['Pepe', 200]\n1 ['Juan', 300]\n2 ['Lorena', 150]\n3 ['Rocío', 500]\n"
     ]
    }
   ],
   "source": [
    "for i, x in enumerate(l4):\n",
    "    print(i, x)"
   ]
  },
  {
   "cell_type": "code",
   "execution_count": 56,
   "metadata": {},
   "outputs": [
    {
     "output_type": "stream",
     "name": "stdout",
     "text": [
      "Pepe : 200\nJuan : 300\nLorena : 150\nRocío : 500\n"
     ]
    }
   ],
   "source": [
    "nombres = ['Pepe', 'Juan', 'Lorena', 'Rocío']\n",
    "dineros = [200, 300, 150, 500]\n",
    "\n",
    "for i in range(len(nombres)):\n",
    "    print(nombres[i], ':', dineros[i])"
   ]
  },
  {
   "cell_type": "code",
   "execution_count": 60,
   "metadata": {},
   "outputs": [
    {
     "output_type": "stream",
     "name": "stdout",
     "text": [
      "index: 0\nPepe 200\n-------------\nindex: 1\nJuan 300\n-------------\nindex: 2\nLorena 150\n-------------\nindex: 3\nRocío 500\n-------------\n"
     ]
    }
   ],
   "source": [
    "for i, x in enumerate(nombres):\n",
    "    print('index:', i)\n",
    "    print(x, dineros[i])\n",
    "    print('-------------')"
   ]
  },
  {
   "cell_type": "code",
   "execution_count": 61,
   "metadata": {},
   "outputs": [
    {
     "output_type": "stream",
     "name": "stdout",
     "text": [
      "Pepe\n200\nJuan\n300\nLorena\n150\nRocío\n500\n"
     ]
    }
   ],
   "source": [
    "l4 = [['Pepe', 200], ['Juan', 300], ['Lorena', 150], ['Rocío', 500]]\n",
    "\n",
    "for x in l4:\n",
    "    for y in x:\n",
    "        print(y)"
   ]
  },
  {
   "cell_type": "code",
   "execution_count": 64,
   "metadata": {},
   "outputs": [
    {
     "output_type": "stream",
     "name": "stdout",
     "text": [
      "Pepe : 200\nJuan : 300\nLorena : 150\nRocío : 500\n"
     ]
    }
   ],
   "source": [
    "# for anidado para mostrar --> nombre _ dinero\n",
    "l4 = [['Pepe', 200], ['Juan', 300], ['Lorena', 150], ['Rocío', 500]]\n",
    "\n",
    "for x in l4:\n",
    "    for y in x:\n",
    "        print(y, ':', x[1])\n",
    "        break   # el break rompe el for tras al primera ejecución"
   ]
  },
  {
   "cell_type": "code",
   "execution_count": null,
   "metadata": {},
   "outputs": [],
   "source": [
    "# List slicing\n",
    "# lista[start:stop:step]\n",
    "# El stop no se incluye en el slicing\n",
    "\n",
    "# Toda la lista de 2 en 2\n",
    "# lista[::2]\n",
    "\n",
    "# Del segundo hsata el antepenúltimo(sin incluirlo) valor de 2 en 2\n",
    "# lista[1:-3:2]\n",
    "\n",
    "# Empezar desde el final de la lista\n",
    "# lista[::-1]\n",
    "\n",
    "# Empezar desde el final e ir de 2 en 2\n",
    "# lista[::-2]\n",
    "\n",
    "# Que empiece desde el penúltimo, termine en la posición 1 y que vaya de 1 en 1 hacia atrás\n",
    "# En este caso no se incluye el elemento de la posición 1\n",
    "# lista[-2:1:-1]"
   ]
  },
  {
   "cell_type": "code",
   "execution_count": null,
   "metadata": {},
   "outputs": [],
   "source": [
    "# Para copiar una lista\n",
    "lista = [1, 2, 3, 4, 5, 6]\n",
    "l1 = lista[:]\n",
    "\n",
    "# Si en vez de hacerlo de esa manera, lo hago de la siguiente:\n",
    "l2 = lista\n",
    "# En este caso, l2 y lista apuntan a los mismo datos. Entonces, si modifico l2, también modifico lista"
   ]
  },
  {
   "cell_type": "code",
   "execution_count": 1,
   "metadata": {},
   "outputs": [
    {
     "output_type": "execute_result",
     "data": {
      "text/plain": [
       "True"
      ]
     },
     "metadata": {},
     "execution_count": 1
    }
   ],
   "source": [
    "not False"
   ]
  },
  {
   "cell_type": "code",
   "execution_count": 2,
   "metadata": {},
   "outputs": [
    {
     "output_type": "stream",
     "name": "stdout",
     "text": [
      "1.66 : bajo\n1.82 : alto\n1.73 : alto\n1.75 : alto\n1.54 : bajo\n1.7 : alto\n1.7 : alto\n1.8 : alto\n1.81 : alto\n1.87 : alto\n1.86 : alto\n1.52 : bajo\n1.7 : alto\n1.78 : alto\n1.73 : alto\n1.78 : alto\n1.6 : bajo\n1.77 : alto\n1.8 : alto\n1.64 : bajo\n1.79 : alto\n1.85 : alto\n"
     ]
    }
   ],
   "source": [
    "alturas = [1.66,1.82,1.73,1.75,1.54,1.70,1.70,1.80,1.81,1.87, 1.86, 1.52, 1.70, 1.78, 1.73, 1.78, 1.60, 1.77,1.80, 1.64, 1.79,1.85]\n",
    "\n",
    "val = ['bajo' if x < 1.7 else 'alto' for x in alturas]\n",
    "for x in range(len(alturas)):   \n",
    "    print(str(alturas[x]) + ' : ' + val[x])"
   ]
  },
  {
   "source": [
    "## Funciones"
   ],
   "cell_type": "markdown",
   "metadata": {}
  },
  {
   "cell_type": "code",
   "execution_count": null,
   "metadata": {},
   "outputs": [],
   "source": []
  }
 ],
 "metadata": {
  "language_info": {
   "name": "python",
   "codemirror_mode": {
    "name": "ipython",
    "version": 3
   },
   "version": "3.8.5"
  },
  "orig_nbformat": 2,
  "file_extension": ".py",
  "mimetype": "text/x-python",
  "name": "python",
  "npconvert_exporter": "python",
  "pygments_lexer": "ipython3",
  "version": 3,
  "kernelspec": {
   "name": "python385jvsc74a57bd0dca0ade3e726a953b501b15e8e990130d2b7799f14cfd9f4271676035ebe5511",
   "display_name": "Python 3.8.5 64-bit ('base': conda)"
  },
  "metadata": {
   "interpreter": {
    "hash": "5c4d2f1fdcd3716c7a5eea90ad07be30193490dd4e63617705244f5fd89ea793"
   }
  }
 },
 "nbformat": 4,
 "nbformat_minor": 2
}