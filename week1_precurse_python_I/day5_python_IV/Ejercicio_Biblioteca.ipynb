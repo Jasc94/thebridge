{
  "nbformat": 4,
  "nbformat_minor": 0,
  "metadata": {
    "kernelspec": {
      "name": "python385jvsc74a57bd0dca0ade3e726a953b501b15e8e990130d2b7799f14cfd9f4271676035ebe5511",
      "display_name": "Python 3.8.5 64-bit ('base': conda)"
    },
    "language_info": {
      "codemirror_mode": {
        "name": "ipython",
        "version": 3
      },
      "file_extension": ".py",
      "mimetype": "text/x-python",
      "name": "python",
      "nbconvert_exporter": "python",
      "pygments_lexer": "ipython3",
      "version": "3.8.5"
    },
    "colab": {
      "name": "Ejercicio_Biblioteca.ipynb",
      "provenance": []
    }
  },
  "cells": [
    {
      "cell_type": "markdown",
      "metadata": {
        "id": "eExDZF-fxTb-"
      },
      "source": [
        "# Ejercicio La Biblioteca | Repaso Week 1\n",
        "## Precurso DSApr21 - The Bridge\n",
        "\n",
        "La versión original de esta Práctica es en español por lo que respetaremos sus orígenes y a su autora, Clara Piniella, y lo dejaremos en este idioma. Disculpen las molestias que esto pudiera ocasionarle como estudiante. "
      ]
    },
    {
      "cell_type": "markdown",
      "metadata": {
        "id": "hF431wLFxTcG"
      },
      "source": [
        "![biblioteca](https://static2.abc.es/media/familia/2018/11/02/AdobeStock_210538561-kJTF--620x349@abc.jpg)"
      ]
    },
    {
      "cell_type": "markdown",
      "metadata": {
        "id": "A3auifJSxTcH"
      },
      "source": [
        "Es tu primer día de trabajo en la Biblioteca de tu barrio y ya tienes tu primera tarea. Te acaban de pasar una lista con libros y la lista de unidades disponibles."
      ]
    },
    {
      "cell_type": "code",
      "metadata": {
        "id": "fH1vU0qXxTcH"
      },
      "source": [
        "libros = [\"El mal de Corcira\", \"Un mundo feliz\", \"Lolita\", \"Crimen y castigo\", \"Python from for to pro\",\\\n",
        "          \"El señor de los anillos\", \"Cien años de soledad\", \"Harry Potter\", \"Lectura Fácil\", \"Seda\",\\\n",
        "          \"La chica de nieve\", \"El día que se perdió la cordura\", \"Data Science\"]"
      ],
      "execution_count": 102,
      "outputs": []
    },
    {
      "cell_type": "code",
      "metadata": {
        "id": "Ore_QnL0xTcI"
      },
      "source": [
        "biblioteca = [(\"El mal de Corcira\",4),(\"Un mundo feliz\", 2),(\"Lolita\", 5),\\\n",
        "              (\"Crimen y castigo\",2),(\"Python from for to pro\", 0),(\"El señor de los anillos\", 6),\\\n",
        "              (\"Cien años de soledad\", 5),(\"Harry Potter\", 9),(\"Lectura Fácil\", 4),(\"Seda\", 2),\\\n",
        "              (\"La chica de nieve\", 6),(\"El día que se perdió la cordura\", 3), (\"Data Science\", 0)]"
      ],
      "execution_count": 103,
      "outputs": []
    },
    {
      "cell_type": "markdown",
      "metadata": {
        "id": "zgoN999dxTcI"
      },
      "source": [
        "1. ¿Cuántos títulos diferentes tienen en esta biblioteca?"
      ]
    },
    {
      "cell_type": "code",
      "metadata": {
        "id": "dagpU0igxTcI"
      },
      "source": [
        "#your code here\n",
        "len(libros)"
      ],
      "execution_count": 104,
      "outputs": [
        {
          "output_type": "execute_result",
          "data": {
            "text/plain": [
              "13"
            ]
          },
          "metadata": {},
          "execution_count": 104
        }
      ]
    },
    {
      "cell_type": "markdown",
      "metadata": {
        "id": "0b5uNN_ixTcJ"
      },
      "source": [
        "2. ¿Cuántas letras componen la palabra *Seda*? "
      ]
    },
    {
      "cell_type": "code",
      "metadata": {
        "id": "uPCBQT7pxTcJ"
      },
      "source": [
        "#your code here\n",
        "s = 'Seda'\n",
        "len(s)"
      ],
      "execution_count": 105,
      "outputs": [
        {
          "output_type": "execute_result",
          "data": {
            "text/plain": [
              "4"
            ]
          },
          "metadata": {},
          "execution_count": 105
        }
      ]
    },
    {
      "cell_type": "markdown",
      "metadata": {
        "id": "HZxHJHMXxTcJ"
      },
      "source": [
        "3. ¿Cuántas unidades hay del libro *Seda*?"
      ]
    },
    {
      "cell_type": "code",
      "metadata": {
        "id": "IPc9riiWxTcJ"
      },
      "source": [
        "#your code here\n",
        "biblioteca[9][1]"
      ],
      "execution_count": 106,
      "outputs": [
        {
          "output_type": "execute_result",
          "data": {
            "text/plain": [
              "2"
            ]
          },
          "metadata": {},
          "execution_count": 106
        }
      ]
    },
    {
      "cell_type": "markdown",
      "metadata": {
        "id": "QHt0ecpsxTcK"
      },
      "source": [
        "4. Quien registraba los libros antes de ti dejo pendiente de añadir a la lista **libros** la variable **pendiente**, además debió confundir el famoso libro de George Orwell *1984*, con un número, asignándolo como un integer.\n",
        "¿Puedes cambiarlo y pasar a string este elemento y añadirlo a **libros**?"
      ]
    },
    {
      "cell_type": "code",
      "metadata": {
        "id": "5_n7k6GXxTcK"
      },
      "source": [
        "pendiente = 1984"
      ],
      "execution_count": 107,
      "outputs": []
    },
    {
      "cell_type": "code",
      "metadata": {
        "id": "gjflVZkbxTcK"
      },
      "source": [
        "#your code here\n",
        "pendiente = str(pendiente)\n",
        "libros.append(pendiente)\n",
        "libros"
      ],
      "execution_count": 108,
      "outputs": [
        {
          "output_type": "execute_result",
          "data": {
            "text/plain": [
              "['El mal de Corcira',\n",
              " 'Un mundo feliz',\n",
              " 'Lolita',\n",
              " 'Crimen y castigo',\n",
              " 'Python from for to pro',\n",
              " 'El señor de los anillos',\n",
              " 'Cien años de soledad',\n",
              " 'Harry Potter',\n",
              " 'Lectura Fácil',\n",
              " 'Seda',\n",
              " 'La chica de nieve',\n",
              " 'El día que se perdió la cordura',\n",
              " 'Data Science',\n",
              " '1984']"
            ]
          },
          "metadata": {},
          "execution_count": 108
        }
      ]
    },
    {
      "cell_type": "markdown",
      "metadata": {
        "id": "l5pHo_kxxTcK"
      },
      "source": [
        "5. Te piden que añadas a esta lista el nuevo libro de Los Juegos del hambre que se titula *Balada de pájaros cantores y serpientes*. Has contado las unidades y han llegado 10. \n",
        "\n",
        "    a. Crea una variable con el título del libro, que se llame **libro_1**. Añade este elemento a la lista **libros**.\n",
        "\n",
        "    b. Crea una variable con el número de unidades, que se llame **uds_1**.\n",
        "\n",
        "    c. Crea una variable que sea una lista llamada **nuevo_libro** en el que su primer elemento sea **libro_1** y el segundo **uds_1**. \n",
        "\n",
        "    d. Convierte a **nuevo_libro** a tupla.\n",
        "    (muestra qué tipo es ahora esta variable)\n",
        "\n",
        "    e. Añade **nuevo_libro** a la lista **biblioteca** "
      ]
    },
    {
      "cell_type": "code",
      "metadata": {
        "id": "au9fLFHFxTcL"
      },
      "source": [
        "#your code here\n",
        "libro_1 = 'Balada de pájaros cantores y serpientes'\n",
        "uds_1 = 10\n",
        "nuevo_libro = [libro_1, uds_1]\n",
        "nuevo_libro = tuple(nuevo_libro)\n",
        "biblioteca.append(nuevo_libro)"
      ],
      "execution_count": 109,
      "outputs": []
    },
    {
      "cell_type": "markdown",
      "metadata": {
        "id": "waWpy9qsxTcL"
      },
      "source": [
        "6. Acaban de traer una unidad más de *El mal de Corcira*, añade una unidad más al segundo elemento del primer elemento de la lista **biblioteca**."
      ]
    },
    {
      "cell_type": "code",
      "metadata": {
        "id": "Y6TrO_AmxTcL",
        "outputId": "7b08d594-fba5-4107-ef53-de6844b8fa85"
      },
      "source": [
        "biblioteca[0]"
      ],
      "execution_count": 110,
      "outputs": [
        {
          "output_type": "execute_result",
          "data": {
            "text/plain": [
              "('El mal de Corcira', 4)"
            ]
          },
          "metadata": {},
          "execution_count": 110
        }
      ]
    },
    {
      "cell_type": "code",
      "metadata": {
        "id": "I1x5LKeixTcM",
        "outputId": "c436526b-27fa-47b5-a15c-d68edc8d56d6"
      },
      "source": [
        "biblioteca[0][1]"
      ],
      "execution_count": 111,
      "outputs": [
        {
          "output_type": "execute_result",
          "data": {
            "text/plain": [
              "4"
            ]
          },
          "metadata": {},
          "execution_count": 111
        }
      ]
    },
    {
      "cell_type": "code",
      "metadata": {
        "id": "eS7YaWbjxTcM",
        "outputId": "4b377fab-9ade-46ef-fb8b-13dfc25d5e4a"
      },
      "source": [
        "biblioteca[0][1] = biblioteca[0][1] - 1"
      ],
      "execution_count": 59,
      "outputs": [
        {
          "output_type": "error",
          "ename": "TypeError",
          "evalue": "'tuple' object does not support item assignment",
          "traceback": [
            "\u001b[0;31m---------------------------------------------------------------------------\u001b[0m",
            "\u001b[0;31mTypeError\u001b[0m                                 Traceback (most recent call last)",
            "\u001b[0;32m<ipython-input-59-8a7bcc0d7ddc>\u001b[0m in \u001b[0;36m<module>\u001b[0;34m\u001b[0m\n\u001b[0;32m----> 1\u001b[0;31m \u001b[0mbiblioteca\u001b[0m\u001b[0;34m[\u001b[0m\u001b[0;36m0\u001b[0m\u001b[0;34m]\u001b[0m\u001b[0;34m[\u001b[0m\u001b[0;36m1\u001b[0m\u001b[0;34m]\u001b[0m \u001b[0;34m=\u001b[0m \u001b[0mbiblioteca\u001b[0m\u001b[0;34m[\u001b[0m\u001b[0;36m0\u001b[0m\u001b[0;34m]\u001b[0m\u001b[0;34m[\u001b[0m\u001b[0;36m1\u001b[0m\u001b[0;34m]\u001b[0m \u001b[0;34m-\u001b[0m \u001b[0;36m1\u001b[0m\u001b[0;34m\u001b[0m\u001b[0;34m\u001b[0m\u001b[0m\n\u001b[0m",
            "\u001b[0;31mTypeError\u001b[0m: 'tuple' object does not support item assignment"
          ]
        }
      ]
    },
    {
      "cell_type": "markdown",
      "metadata": {
        "id": "otp4siF9xTcN"
      },
      "source": [
        "¿Cómo se te ocurre que podrías alterar este dato?"
      ]
    },
    {
      "cell_type": "code",
      "metadata": {
        "id": "36XJp-SixTcN"
      },
      "source": [
        "#your comment here\n",
        "\n",
        "biblioteca[0] = list(biblioteca[0])\n",
        "biblioteca[0][1] = 5\n",
        "biblioteca[0] = tuple(biblioteca[0])\n",
        "biblioteca[0]"
      ],
      "execution_count": 112,
      "outputs": [
        {
          "output_type": "execute_result",
          "data": {
            "text/plain": [
              "('El mal de Corcira', 5)"
            ]
          },
          "metadata": {},
          "execution_count": 112
        }
      ]
    },
    {
      "cell_type": "markdown",
      "metadata": {
        "id": "Fcryhrk1xTcN"
      },
      "source": [
        "Convierte la tupla en una lista para poder modificar el segundo elemento y añadir esta unidad. Asigna la tupla convertida a lista a la variable **tup_to_list** haz los cambios, agrega la unidad y vuelve a añadir la lista ya convertida en tupla a la lista **biblioteca**."
      ]
    },
    {
      "cell_type": "code",
      "metadata": {
        "id": "GqjpBZ2oxTcN"
      },
      "source": [
        "#your code here\n",
        "\n",
        "# Ya lo hice arriba"
      ],
      "execution_count": null,
      "outputs": []
    },
    {
      "cell_type": "markdown",
      "metadata": {
        "id": "Okj3gA68xTcN"
      },
      "source": [
        "Ahora, tenemos dos tuplas con el libro *El mal de Corcira*, pero esto no es lo que queremos. Elimina el primer elemento de la lista **biblioteca**.\n",
        "\n",
        "Hint: https://www.programiz.com/python-programming/methods/list/remove"
      ]
    },
    {
      "cell_type": "code",
      "metadata": {
        "id": "TnZv6NhVxTcO"
      },
      "source": [
        "#your code here\n",
        "# yo no lo repetí\n",
        "biblioteca"
      ],
      "execution_count": 113,
      "outputs": [
        {
          "output_type": "execute_result",
          "data": {
            "text/plain": [
              "[('El mal de Corcira', 5),\n",
              " ('Un mundo feliz', 2),\n",
              " ('Lolita', 5),\n",
              " ('Crimen y castigo', 2),\n",
              " ('Python from for to pro', 0),\n",
              " ('El señor de los anillos', 6),\n",
              " ('Cien años de soledad', 5),\n",
              " ('Harry Potter', 9),\n",
              " ('Lectura Fácil', 4),\n",
              " ('Seda', 2),\n",
              " ('La chica de nieve', 6),\n",
              " ('El día que se perdió la cordura', 3),\n",
              " ('Data Science', 0),\n",
              " ('Balada de pájaros cantores y serpientes', 10)]"
            ]
          },
          "metadata": {},
          "execution_count": 113
        }
      ]
    },
    {
      "cell_type": "markdown",
      "metadata": {
        "id": "L61bM25RxTcO"
      },
      "source": [
        "7. Te han pedido que localices los títulos de los libros de los que no disponen de unidades. Es decir, su segundo elemento, es igual a 0. "
      ]
    },
    {
      "cell_type": "code",
      "metadata": {
        "id": "5muvfsSvxTcO"
      },
      "source": [
        "#your code here\n",
        "for i in biblioteca:\n",
        "    if i[1] == 0:\n",
        "        print(i)"
      ],
      "execution_count": 114,
      "outputs": [
        {
          "output_type": "stream",
          "name": "stdout",
          "text": [
            "('Python from for to pro', 0)\n('Data Science', 0)\n"
          ]
        }
      ]
    },
    {
      "cell_type": "markdown",
      "metadata": {
        "id": "BTHkMC5PxTcO"
      },
      "source": [
        "8. ¿Cómo meterías estos dos elementos en una lista llamada **missing**?"
      ]
    },
    {
      "cell_type": "code",
      "metadata": {
        "id": "jTKwypkJxTcO"
      },
      "source": [
        "#your code here\n",
        "missing = []\n",
        "\n",
        "for i in biblioteca:\n",
        "    if i[1] == 0:\n",
        "        missing.append(i)\n",
        "\n",
        "missing"
      ],
      "execution_count": 115,
      "outputs": [
        {
          "output_type": "execute_result",
          "data": {
            "text/plain": [
              "[('Python from for to pro', 0), ('Data Science', 0)]"
            ]
          },
          "metadata": {},
          "execution_count": 115
        }
      ]
    },
    {
      "cell_type": "markdown",
      "metadata": {
        "id": "LsPnSrIZxTcP"
      },
      "source": [
        "9. Como en cualquier jornada de trabajo, recibes miles de email, hay uno que no habías visto pero en el que tu jefa te pide hacer un pequeño programita (función) que recoja el título de un libro y la cantidad de libros, este último parámetro por defecto será 1, chequée si tenemos ese título en la lista `libros` y si lo tenemos, sume esa cantidad a su cantidad en la lista `biblioteca` y si no, añada el título a `libros` y en una tupla nueva con la cantidad correspondiente a la lista `biblioteca`. "
      ]
    },
    {
      "cell_type": "code",
      "metadata": {
        "id": "ngTRNBG5xTcP"
      },
      "source": [
        "def check_for_book(book, amount = 1):\n",
        "    # Llamo a las variables globales para modificarlas\n",
        "    global biblioteca\n",
        "    global libros\n",
        "    \n",
        "    # Convierto la lista de tuples en lista de listas para poder modificar valores\n",
        "    biblioteca = [list(x) for x in biblioteca]\n",
        "\n",
        "    # Paso los valores de la lista libros a lowercase() para evitar mismatchings por mayusculas/minusculas\n",
        "    libros = [x.lower() for x in libros]\n",
        "\n",
        "    # Reviso si el libro (en lowercase) está en mi lista\n",
        "    if book.lower() in libros:\n",
        "        # Si está, busco en mi biblioteca para añadir el número de ejemplares extra\n",
        "        for x in biblioteca:\n",
        "            if book.lower() == x[0].lower():\n",
        "                x[1] += amount\n",
        "    else:\n",
        "        # Si no está, la añado al final de mi lista de tuplas\n",
        "        biblioteca.append([book, amount])\n",
        "        # y a la lista de libros\n",
        "        libros.append(book)\n",
        "\n",
        "    # Devuelvo la biblioteca a lista de tuplas\n",
        "    biblioteca = [tuple(x) for x in biblioteca]\n",
        "\n",
        "    return biblioteca"
      ],
      "execution_count": 116,
      "outputs": []
    },
    {
      "cell_type": "code",
      "execution_count": null,
      "metadata": {},
      "outputs": [],
      "source": [
        "# Check\n",
        "\n",
        "# Pido al usuario los valores\n",
        "book = input('Enter the book you are searching')\n",
        "amount = input('How many copies of this book?')\n",
        "\n",
        "# Meto el input en un try-except, por si el usuario no mete cantidad de libros\n",
        "try:\n",
        "    print(check_for_book(book, int(amount)))\n",
        "except:\n",
        "    print(check_for_book(book))"
      ]
    },
    {
      "cell_type": "markdown",
      "metadata": {
        "id": "bKJh-g9rxTcP"
      },
      "source": [
        "Pruébalo añadiendo el título de \"Guía del Autopista Galáctico\", cantidad 42."
      ]
    },
    {
      "cell_type": "code",
      "metadata": {
        "id": "OjIi4mglxTcP"
      },
      "source": [
        "#your code here\n",
        "check_for_book('Guía del Autopista Galáctico', 42)"
      ],
      "execution_count": 117,
      "outputs": [
        {
          "output_type": "execute_result",
          "data": {
            "text/plain": [
              "[('El mal de Corcira', 5),\n",
              " ('Un mundo feliz', 2),\n",
              " ('Lolita', 5),\n",
              " ('Crimen y castigo', 2),\n",
              " ('Python from for to pro', 0),\n",
              " ('El señor de los anillos', 6),\n",
              " ('Cien años de soledad', 5),\n",
              " ('Harry Potter', 9),\n",
              " ('Lectura Fácil', 4),\n",
              " ('Seda', 2),\n",
              " ('La chica de nieve', 6),\n",
              " ('El día que se perdió la cordura', 3),\n",
              " ('Data Science', 0),\n",
              " ('Balada de pájaros cantores y serpientes', 10),\n",
              " ('Guía del Autopista Galáctico', 42)]"
            ]
          },
          "metadata": {},
          "execution_count": 117
        }
      ]
    },
    {
      "cell_type": "markdown",
      "metadata": {
        "id": "0toIouDKxTcP"
      },
      "source": [
        "### Bonus Track\n",
        "\n",
        "10. ¿Cuál es el libro con más unidades? ¿Cuál es la media de libros por título?"
      ]
    },
    {
      "cell_type": "code",
      "metadata": {
        "id": "xUv7KwoZxTcP"
      },
      "source": [
        "#your code here\n",
        "\n",
        "# I create variables to store information from every round\n",
        "max_units = 0\n",
        "max_units_book = ''\n",
        "sum_units = 0\n",
        "\n",
        "# I loop through the library list\n",
        "for i in biblioteca:\n",
        "    # if the book I'm checking this round has more units than the one stored in my variables\n",
        "    # update the info\n",
        "    if i[1] > max_units:\n",
        "        max_units = i[1]\n",
        "        max_units_book = i[0]\n",
        "    \n",
        "    # add the copies of the book in every round for later average\n",
        "    sum_units += i[1]\n",
        "\n",
        "# Final result + average\n",
        "result = [max_units, max_units_book]\n",
        "average_units = sum_units / len(biblioteca)\n",
        "\n",
        "# print them both\n",
        "print('Book with more units:', result, '\\n', 'Average units per book:', average_units)"
      ],
      "execution_count": 119,
      "outputs": [
        {
          "output_type": "stream",
          "name": "stdout",
          "text": [
            "Book with more units: [42, 'Guía del Autopista Galáctico'] \n Average units per book: 6.733333333333333\n"
          ]
        }
      ]
    },
    {
      "cell_type": "markdown",
      "metadata": {
        "id": "dbOtAqS2xTcQ"
      },
      "source": [
        "11. ¿Cuál tiene el título más largo y cuál el más corto?"
      ]
    },
    {
      "cell_type": "code",
      "metadata": {
        "id": "oNr-7RggxTcQ"
      },
      "source": [
        "#your code here\n",
        "\n",
        "# Similar procedure as before\n",
        "book_length = 0\n",
        "book_title = ''\n",
        "\n",
        "for i in biblioteca:\n",
        "    if len(i[0]) > book_length:\n",
        "        book_length = len(i[0])\n",
        "        book_title = i[0]\n",
        "\n",
        "largest_book = [book_title, book_length]\n",
        "print('This is the largest book:', largest_book)"
      ],
      "execution_count": 120,
      "outputs": [
        {
          "output_type": "stream",
          "name": "stdout",
          "text": [
            "This is the largest book: ['Balada de pájaros cantores y serpientes', 39]\n"
          ]
        }
      ]
    }
  ]
}