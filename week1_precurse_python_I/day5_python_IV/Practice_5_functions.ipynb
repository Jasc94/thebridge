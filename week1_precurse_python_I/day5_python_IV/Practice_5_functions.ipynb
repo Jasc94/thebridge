{
  "nbformat": 4,
  "nbformat_minor": 0,
  "metadata": {
    "kernelspec": {
      "name": "python385jvsc74a57bd0dca0ade3e726a953b501b15e8e990130d2b7799f14cfd9f4271676035ebe5511",
      "display_name": "Python 3.8.5 64-bit ('base': conda)"
    },
    "language_info": {
      "codemirror_mode": {
        "name": "ipython",
        "version": 3
      },
      "file_extension": ".py",
      "mimetype": "text/x-python",
      "name": "python",
      "nbconvert_exporter": "python",
      "pygments_lexer": "ipython3",
      "version": "3.8.5"
    },
    "colab": {
      "name": "Practice_5_functions.ipynb",
      "provenance": []
    }
  },
  "cells": [
    {
      "cell_type": "markdown",
      "metadata": {
        "id": "o6umh1WUw2YM"
      },
      "source": [
        "# Python | day 5 | functions"
      ]
    },
    {
      "cell_type": "markdown",
      "metadata": {
        "id": "_7KTIjIpw2YU"
      },
      "source": [
        "In Python, a function is a group of related statements that performs a specific task."
      ]
    },
    {
      "cell_type": "markdown",
      "metadata": {
        "id": "EzQK_xxLw2YV"
      },
      "source": [
        "https://www.programiz.com/python-programming/function"
      ]
    },
    {
      "cell_type": "markdown",
      "metadata": {
        "id": "dcYkQZkew2YV"
      },
      "source": [
        "#### Difference between `return` and `print`.\n",
        "\n",
        "Take some minutes to understand the difference between `return` and `print`, it seems to be the same, but they are not and it's important you understand the difference. "
      ]
    },
    {
      "cell_type": "code",
      "metadata": {
        "id": "7xVaATofw2YV"
      },
      "source": [
        "def suma(a,b):\n",
        "    print(a)\n",
        "    return a+b\n",
        "\n",
        "print(suma(suma(2,2),4))"
      ],
      "execution_count": null,
      "outputs": []
    },
    {
      "cell_type": "markdown",
      "metadata": {
        "id": "sNt4fPXgw2YW"
      },
      "source": [
        "#### Comments in a function."
      ]
    },
    {
      "cell_type": "code",
      "metadata": {
        "id": "6NOuTDMgw2YW"
      },
      "source": [
        "def say_hello(name):\n",
        "    \"\"\"\n",
        "    Given a name as an argument, \n",
        "    the function return a string greeting\n",
        "    the name given. \n",
        "    \"\"\"\n",
        "    return f\"hello {name}\""
      ],
      "execution_count": null,
      "outputs": []
    },
    {
      "cell_type": "code",
      "metadata": {
        "id": "dEK9J-Cvw2YW"
      },
      "source": [
        "print(say_hello(\"Clara\"))"
      ],
      "execution_count": null,
      "outputs": []
    },
    {
      "cell_type": "code",
      "metadata": {
        "id": "FXPoMgB5w2YX"
      },
      "source": [
        "help(say_hello)"
      ],
      "execution_count": null,
      "outputs": []
    },
    {
      "cell_type": "markdown",
      "metadata": {
        "id": "brLrgosTw2YX"
      },
      "source": [
        "### Exercise 1. "
      ]
    },
    {
      "cell_type": "markdown",
      "metadata": {
        "id": "RMbXdtmiw2YX"
      },
      "source": [
        "To solve the following exercises it will be necessary to define a function for each section. You choose the name of those functions unless specified, but make sure you define a single parameter `whichever_list`, when calling the function it will correspond to the variable `info_list`.\n",
        "```python\n",
        "def funtion_bla(whichever_list):\n",
        "    return whichever_list\n",
        "\n",
        "function_bla(info_list)\n",
        "```\n",
        "\n",
        "**In the case of not being able to solve a question containing the code in a function, try to do it without defining one.**"
      ]
    },
    {
      "cell_type": "code",
      "metadata": {
        "id": "cyvj7Wjkw2YX"
      },
      "source": [
        "# you can use this list or take yours from Practice 3\n",
        "info_list = [15, 'Recoletos', True, ['Recoletos', 15],  None, '8'] "
      ],
      "execution_count": 10,
      "outputs": []
    },
    {
      "cell_type": "markdown",
      "metadata": {
        "id": "bkwTquaXw2YY"
      },
      "source": [
        "1. Display on the screen `\"I like the tranquility\"` if you like the mountains more and `\"I'd love to live in Malaga\"` if you like the beach more.\n",
        "\n"
      ]
    },
    {
      "cell_type": "code",
      "metadata": {
        "id": "6hbW_OFvw2YY"
      },
      "source": [
        "#define a function which takes a single parameter `whichever_list`\n",
        "\n",
        "def func1(whichever_list):\n",
        "    output = ''\n",
        "    if whichever_list[2] == True:\n",
        "        output = '''I'd love to live in Malaga'''\n",
        "    else:\n",
        "        output = 'I like the tranquility'\n",
        "\n",
        "    return output"
      ],
      "execution_count": 14,
      "outputs": []
    },
    {
      "cell_type": "code",
      "metadata": {
        "id": "1s7EX5ifw2YY"
      },
      "source": [
        "#call the function with the variable `info_list`\n",
        "func1(info_list)"
      ],
      "execution_count": 15,
      "outputs": [
        {
          "output_type": "execute_result",
          "data": {
            "text/plain": [
              "\"I'd love to live in Malaga\""
            ]
          },
          "metadata": {},
          "execution_count": 15
        }
      ]
    },
    {
      "cell_type": "markdown",
      "metadata": {
        "id": "hi6Pox3cw2YY"
      },
      "source": [
        "2. Print `\"Today I am tired\"` if you have slept less than 7 hours or `\"Today I conquer the world\"` if you have slept more than 7 hours."
      ]
    },
    {
      "cell_type": "code",
      "metadata": {
        "id": "e0CWhGDkw2YY"
      },
      "source": [
        "#define a function which takes a single parameter `whichever_list`\n",
        "def func2(whichever_list):\n",
        "    output = ''\n",
        "    if int(whichever_list[-1]) < 7:\n",
        "        output = 'Today I am tired'\n",
        "    else:\n",
        "        output = 'Today I conquer the world'\n",
        "    return output"
      ],
      "execution_count": 16,
      "outputs": []
    },
    {
      "cell_type": "code",
      "metadata": {
        "id": "GKiewRhsw2YZ"
      },
      "source": [
        "#call the function with the variable `info_list`\n",
        "func2(info_list)"
      ],
      "execution_count": 18,
      "outputs": [
        {
          "output_type": "execute_result",
          "data": {
            "text/plain": [
              "'Today I conquer the world'"
            ]
          },
          "metadata": {},
          "execution_count": 18
        }
      ]
    },
    {
      "cell_type": "markdown",
      "metadata": {
        "id": "x4sh4kABw2YZ"
      },
      "source": [
        "3. Loop through `whichever_list` to print all the elements it contains. This function should return the list turned into a tuple. "
      ]
    },
    {
      "cell_type": "code",
      "metadata": {
        "id": "Uc8TUbVNw2YZ"
      },
      "source": [
        "#define a function which takes a single parameter `whichever_list`\n",
        "def func3(whichever_list):\n",
        "    for i in whichever_list:\n",
        "        print(i)\n",
        "    return tuple(whichever_list)"
      ],
      "execution_count": 19,
      "outputs": []
    },
    {
      "cell_type": "code",
      "metadata": {
        "id": "KBIGKvBzw2YZ"
      },
      "source": [
        "#call the function with the variable `info_list`\n",
        "func3(info_list)"
      ],
      "execution_count": 21,
      "outputs": [
        {
          "output_type": "stream",
          "name": "stdout",
          "text": [
            "15\nRecoletos\nTrue\n['Recoletos', 15]\nNone\n8\n"
          ]
        },
        {
          "output_type": "execute_result",
          "data": {
            "text/plain": [
              "(15, 'Recoletos', True, ['Recoletos', 15], None, '8')"
            ]
          },
          "metadata": {},
          "execution_count": 21
        }
      ]
    },
    {
      "cell_type": "markdown",
      "metadata": {
        "id": "u7PKmYV0w2YZ"
      },
      "source": [
        "4. Loop through `whichever_list` to print all the elements it contains concatenated with the string` \"--> OK\" `. This function should return a message saying, `\"everything will be ok\"`. \n"
      ]
    },
    {
      "cell_type": "code",
      "metadata": {
        "id": "FmX1g2XFw2YZ"
      },
      "source": [
        "#define a function which takes a single parameter `whichever_list`\n",
        "def func4(whichever_list):\n",
        "    for i in whichever_list:\n",
        "        print(str(i) + '-->ok')"
      ],
      "execution_count": 22,
      "outputs": []
    },
    {
      "cell_type": "code",
      "metadata": {
        "id": "KIYrOMBqw2Ya"
      },
      "source": [
        "#call the function with the variable `info_list`\n",
        "func4(info_list)"
      ],
      "execution_count": 23,
      "outputs": [
        {
          "output_type": "stream",
          "name": "stdout",
          "text": [
            "15-->ok\nRecoletos-->ok\nTrue-->ok\n['Recoletos', 15]-->ok\nNone-->ok\n8-->ok\n"
          ]
        }
      ]
    },
    {
      "cell_type": "markdown",
      "metadata": {
        "id": "a0x3x_m5w2Ya"
      },
      "source": [
        "5. Loop through `whichever_list` to display all items it contains except the first one. This function should return the first element of the list. "
      ]
    },
    {
      "cell_type": "code",
      "metadata": {
        "id": "hUiZZ85Uw2Ya"
      },
      "source": [
        "#define a function which takes a single parameter `whichever_list`\n",
        "def func5(whichever_list):\n",
        "    for x in whichever_list[1:]:\n",
        "        print(x)"
      ],
      "execution_count": 41,
      "outputs": []
    },
    {
      "cell_type": "code",
      "metadata": {
        "id": "bDS0YyIWw2Ya"
      },
      "source": [
        "#call the function with the variable `info_list`\n",
        "func5(info_list)"
      ],
      "execution_count": 42,
      "outputs": [
        {
          "output_type": "stream",
          "name": "stdout",
          "text": [
            "Recoletos\nTrue\n['Recoletos', 15]\nNone\n8\n"
          ]
        }
      ]
    },
    {
      "cell_type": "markdown",
      "metadata": {
        "id": "94jOKrikw2Ya"
      },
      "source": [
        "6. Loop through `whichever_list` to display all the items it contains except the last one. This function should return the last element of the list. "
      ]
    },
    {
      "cell_type": "code",
      "metadata": {
        "id": "CTIJIXb_w2Ya"
      },
      "source": [
        "#define a function which takes a single parameter `whichever_list`\n",
        "def func6(whichever_list):\n",
        "    for x in whichever_list[:-1]:\n",
        "        print(x)"
      ],
      "execution_count": 43,
      "outputs": []
    },
    {
      "cell_type": "code",
      "metadata": {
        "id": "ijKEQEvNw2Yb"
      },
      "source": [
        "#call the function with the variable `info_list`\n",
        "func6(info_list)"
      ],
      "execution_count": 44,
      "outputs": [
        {
          "output_type": "stream",
          "name": "stdout",
          "text": [
            "15\nRecoletos\nTrue\n['Recoletos', 15]\nNone\n"
          ]
        }
      ]
    },
    {
      "cell_type": "markdown",
      "metadata": {
        "id": "UPdpSIdxw2Yb"
      },
      "source": [
        "7. Loop through `whichever_list` to show all the elements it contains except the street number and the hours you've slept."
      ]
    },
    {
      "cell_type": "code",
      "metadata": {
        "id": "5hA_UwnVw2Yb"
      },
      "source": [
        "#define a function which takes a single parameter `whichever_list`\n",
        "def func7(whichever_list):\n",
        "    for x in whichever_list[1:-1]:\n",
        "        print(x)"
      ],
      "execution_count": 45,
      "outputs": []
    },
    {
      "cell_type": "code",
      "metadata": {
        "id": "fxfafe70w2Yb"
      },
      "source": [
        "#call the function with the variable `info_list`\n",
        "func7(info_list)"
      ],
      "execution_count": 46,
      "outputs": [
        {
          "output_type": "stream",
          "name": "stdout",
          "text": [
            "Recoletos\nTrue\n['Recoletos', 15]\nNone\n"
          ]
        }
      ]
    },
    {
      "cell_type": "markdown",
      "metadata": {
        "id": "dP8IRODzw2Yc"
      },
      "source": [
        "8. Loop through `whichever_list` to print all the elements it contains except the first element of the list which is in fourth position (`'Recoletos'`). This function should return the lenght of that element. "
      ]
    },
    {
      "cell_type": "code",
      "metadata": {
        "id": "foVhuSXUw2Yc"
      },
      "source": [
        "#define a function which takes a single parameter `whichever_list`\n",
        "def func8(whichever_list):\n",
        "    for x in whichever_list:\n",
        "        if isinstance(x, list):\n",
        "            print(x[1])\n",
        "        else:\n",
        "            print(x)"
      ],
      "execution_count": 47,
      "outputs": []
    },
    {
      "cell_type": "code",
      "metadata": {
        "id": "k6vPZr7xw2Yc"
      },
      "source": [
        "#call the function with the variable `info_list`\n",
        "func8(info_list)"
      ],
      "execution_count": 48,
      "outputs": [
        {
          "output_type": "stream",
          "name": "stdout",
          "text": [
            "15\nRecoletos\nTrue\n15\nNone\n8\n"
          ]
        }
      ]
    },
    {
      "cell_type": "markdown",
      "metadata": {
        "id": "BdtJNNKYw2Yc"
      },
      "source": [
        "9. Loop through `whichever_list` to show all the elements it contains except the one that contains the information about whether you like the mountains or the beach. The function should return a message saying `\"I love the beach\"` if you prefer the beach and a message saying `\"I love the mountain\"` otherwise. "
      ]
    },
    {
      "cell_type": "code",
      "metadata": {
        "id": "j0mqu8wRw2Yc"
      },
      "source": [
        "#define a function which takes a single parameter `whichever_list`\n",
        "def func9(whichever_list):\n",
        "    for i, x in enumerate(whichever_list):\n",
        "        if i != 2:\n",
        "            print(x)\n",
        "        else:\n",
        "            if x == True:\n",
        "                print('I love the beach')\n",
        "            else:\n",
        "                print('I love the mountain')"
      ],
      "execution_count": 51,
      "outputs": []
    },
    {
      "cell_type": "code",
      "metadata": {
        "id": "Chn_w2lfw2Yd"
      },
      "source": [
        "#call the function with the variable `info_list`\n",
        "func9(info_list)"
      ],
      "execution_count": 53,
      "outputs": [
        {
          "output_type": "stream",
          "name": "stdout",
          "text": [
            "15\nRecoletos\nI love the beach\n['Recoletos', 15]\nNone\n8\n"
          ]
        }
      ]
    },
    {
      "cell_type": "markdown",
      "metadata": {
        "id": "nNk13tpiw2Yd"
      },
      "source": [
        "### Bonus Track\n",
        "\n",
        "In the case of not being able to solve a question containing the code in a function, try to do it without defining one. "
      ]
    },
    {
      "cell_type": "markdown",
      "metadata": {
        "id": "v66frQvrw2Yd"
      },
      "source": [
        "1. Create a variable called `zone` and give it the value of **None**. Loop through `whichever_list` and update `zone` to **True** if and only if, you have slept more than 7 hours, you like the beach and the sum of the hours you have slept plus the number of The Bridge is less than 24. In any other case, `zone` will be **False**. This function should return the value of `zone` and will be called `zone_function`.\n"
      ]
    },
    {
      "cell_type": "code",
      "metadata": {
        "id": "JQEHFUpYw2Ye"
      },
      "source": [
        "zone = None\n",
        "info_list = [15, 'Recoletos', True, ['Recoletos', 15],  None, '8'] \n",
        "\n",
        "def zone_function(whichever_list):\n",
        "    global zone\n",
        "\n",
        "    if int(whichever_list[-1]) > 7 and whichever_list[2] == True and (int(whichever_list[-1]) + whichever_list[0]) < 24:\n",
        "        zone = True\n",
        "    else:\n",
        "        zone = False\n",
        "    \n",
        "\n",
        "zone_function(info_list)\n",
        "zone"
      ],
      "execution_count": 86,
      "outputs": [
        {
          "output_type": "execute_result",
          "data": {
            "text/plain": [
              "True"
            ]
          },
          "metadata": {},
          "execution_count": 86
        }
      ]
    },
    {
      "cell_type": "markdown",
      "metadata": {
        "id": "QsTRKqk-w2Ye"
      },
      "source": [
        "2. Define a function called `test_function` that receives only one parameter called `zone_value` and that returns the value of `zone_value` if it is **True**. Once you've defined `test_function` you should call it with the value returned by the `zone_function` as an argument."
      ]
    },
    {
      "cell_type": "code",
      "metadata": {
        "id": "Y2dUCpmKw2Yf"
      },
      "source": [
        "def test_function(zone_value):\n",
        "    if zone_value == True:\n",
        "        return zone_value\n",
        "\n",
        "test_function(zone)"
      ],
      "execution_count": 80,
      "outputs": [
        {
          "output_type": "execute_result",
          "data": {
            "text/plain": [
              "True"
            ]
          },
          "metadata": {},
          "execution_count": 80
        }
      ]
    },
    {
      "cell_type": "markdown",
      "metadata": {
        "id": "xfewgpvqw2Yf"
      },
      "source": [
        "3. Define a function that asks the user if they like the mountain and, if not, call the `zone_function` function."
      ]
    },
    {
      "cell_type": "code",
      "metadata": {
        "id": "DoXUjLtAw2Yg"
      },
      "source": [
        "def func10():\n",
        "    a = input('Do you like mountain?').lower()\n",
        "    if a == 'yes':\n",
        "        return 'Muy bien por ti'\n",
        "    else:\n",
        "        return zone_function(info_list)\n",
        "\n",
        "func10()"
      ],
      "execution_count": 88,
      "outputs": [
        {
          "output_type": "execute_result",
          "data": {
            "text/plain": [
              "'Muy bien por ti'"
            ]
          },
          "metadata": {},
          "execution_count": 88
        }
      ]
    },
    {
      "cell_type": "markdown",
      "metadata": {
        "id": "yfjr1ascw2Yg"
      },
      "source": [
        "### Bonus Track of the Bonus Track.\n",
        "\n",
        "**This Bonus Track could take you some days, it is very ok, sometimes coding is all about time.**\n",
        "\n",
        "Sooner than later, you'll also learn about `.py` files and you will be able to implement this program into that kind of file. Not yet, tho. "
      ]
    },
    {
      "cell_type": "markdown",
      "metadata": {
        "id": "Yw-nRlnCw2Yg"
      },
      "source": [
        "1. Program **a calculator** that asks for two numbers and two operators on the screen. One operation must be performed first and then another. Try to define as many functions as possible."
      ]
    },
    {
      "cell_type": "code",
      "metadata": {
        "id": "rYFUNcsPw2Yg"
      },
      "source": [
        "# Defino la función\n",
        "def calculator(num1, num2, oper):\n",
        "    if oper == '+':\n",
        "        return 'Resultado de la suma: ' + str(num1 + num2)\n",
        "    elif oper == '-':\n",
        "        return 'Resultado de la resta: ' + str(num1 - num2)\n",
        "    elif oper == '*':\n",
        "        return 'Resultado de la multiplicación: ' + str(num1 * num2)\n",
        "    elif oper == '/':\n",
        "        return 'Resultado de la división: ' + str(num1 / num2)\n",
        "    elif oper == '**':\n",
        "        return 'Resultado de la potencia: ' + str(num1 ** num2)\n",
        "    elif oper == '//':\n",
        "        return 'Resultado de la div. absoluta: ' + str(num1 // num2)\n",
        "    else:\n",
        "        return 'Resultado de la módulo: ' + str(num1 % num2)\n",
        "\n",
        "# Le pido los valores al usuario\n",
        "param1 = int(input('Enter the first number: '))\n",
        "param2 = int(input('Enter the second number: '))\n",
        "\n",
        "oper1 = input('Enter the first operator: ')\n",
        "oper2 = input('Enter the first operator: ')\n",
        "\n",
        "operators = [oper1, oper2]\n",
        "\n",
        "# Devuelvo resultados\n",
        "for i in operators:\n",
        "    print(calculator(param1, param2, i))"
      ],
      "execution_count": 90,
      "outputs": [
        {
          "output_type": "stream",
          "name": "stdout",
          "text": [
            "Resultado de la división: 2.0\nResultado de la multiplicación: 50\n"
          ]
        }
      ]
    },
    {
      "cell_type": "markdown",
      "metadata": {
        "id": "18Z2yc94w2Yh"
      },
      "source": [
        "!['ha'](https://i.pinimg.com/originals/c6/4e/fc/c64efc9adaedbf446f328698e8b67388.jpg)"
      ]
    },
    {
      "cell_type": "code",
      "metadata": {
        "id": "Ck9iWlYvw2Yi"
      },
      "source": [],
      "execution_count": null,
      "outputs": []
    }
  ]
}