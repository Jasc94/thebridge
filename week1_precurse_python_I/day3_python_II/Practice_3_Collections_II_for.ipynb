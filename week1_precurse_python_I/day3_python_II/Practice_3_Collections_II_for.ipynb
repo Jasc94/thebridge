{
  "nbformat": 4,
  "nbformat_minor": 0,
  "metadata": {
    "kernelspec": {
      "name": "python385jvsc74a57bd0dca0ade3e726a953b501b15e8e990130d2b7799f14cfd9f4271676035ebe5511",
      "display_name": "Python 3.8.5 64-bit ('base': conda)"
    },
    "language_info": {
      "codemirror_mode": {
        "name": "ipython",
        "version": 3
      },
      "file_extension": ".py",
      "mimetype": "text/x-python",
      "name": "python",
      "nbconvert_exporter": "python",
      "pygments_lexer": "ipython3",
      "version": "3.8.5"
    },
    "colab": {
      "name": "Practice_3_Collections_II_for.ipynb",
      "provenance": []
    }
  },
  "cells": [
    {
      "cell_type": "markdown",
      "metadata": {
        "id": "mHUCcapfeNvD"
      },
      "source": [
        "# Python | day 2 | collections & if/else & for"
      ]
    },
    {
      "cell_type": "markdown",
      "metadata": {
        "id": "zdw9HdFjeNvJ"
      },
      "source": [
        "### Exercise 1. "
      ]
    },
    {
      "cell_type": "markdown",
      "metadata": {
        "id": "T67M3y9CeNvJ"
      },
      "source": [
        "1. Create a variable called **num_bridge** with a value of 15."
      ]
    },
    {
      "cell_type": "code",
      "metadata": {
        "id": "rkUByVALeNvK"
      },
      "source": [
        "num_bridge = 15"
      ],
      "execution_count": 21,
      "outputs": []
    },
    {
      "cell_type": "markdown",
      "metadata": {
        "id": "0wLsElQleNvK"
      },
      "source": [
        "2. Create a variable called **name_street** with the value \"Recoletos\".\n",
        "\n"
      ]
    },
    {
      "cell_type": "code",
      "metadata": {
        "id": "8phOy4--eNvK"
      },
      "source": [
        "name_street = 'Recoletos'"
      ],
      "execution_count": 22,
      "outputs": []
    },
    {
      "cell_type": "markdown",
      "metadata": {
        "id": "qgDaYVhkeNvL"
      },
      "source": [
        "3. Create a variable called **personal_taste** which should be `True` if you like the beach better or `False` if you rather choose mountain. \n",
        "\n",
        "```python\n",
        "Example: \n",
        "personal_taste = True\n",
        "```"
      ]
    },
    {
      "cell_type": "code",
      "metadata": {
        "id": "ZKextgt0eNvL"
      },
      "source": [
        "personal_taste = False"
      ],
      "execution_count": 23,
      "outputs": []
    },
    {
      "cell_type": "markdown",
      "metadata": {
        "id": "YU8EFnOdeNvL"
      },
      "source": [
        "4. Create a variable called **nothing** like follows: `nothing = None`. `None`doesn't represent any value, something you should keep in mind if you do `if nothing:` then `nothing` acts as a boolean `False`. "
      ]
    },
    {
      "cell_type": "code",
      "metadata": {
        "id": "0REIlb8OeNvM"
      },
      "source": [
        "nothing = None"
      ],
      "execution_count": 24,
      "outputs": []
    },
    {
      "cell_type": "markdown",
      "metadata": {
        "id": "vX20muS7eNvM"
      },
      "source": [
        "5. Create a variable called **address_list**. This should be a list which contains the following: first element **name_street** and second element **num_bridge**. "
      ]
    },
    {
      "cell_type": "code",
      "metadata": {
        "id": "WWPyqPcVeNvM"
      },
      "source": [
        "address_list = [name_street, num_bridge]"
      ],
      "execution_count": 25,
      "outputs": []
    },
    {
      "cell_type": "markdown",
      "metadata": {
        "id": "rqF_8hZ9eNvM"
      },
      "source": [
        "6. Create a variable called **sleep_hours** that should contains, as a string, the hours you've slept today."
      ]
    },
    {
      "cell_type": "code",
      "metadata": {
        "id": "16Ojd55IeNvM"
      },
      "source": [
        "sleep_hours = '7'"
      ],
      "execution_count": 26,
      "outputs": []
    },
    {
      "cell_type": "markdown",
      "metadata": {
        "id": "bKmWr3CzeNvM"
      },
      "source": [
        "7. Create a list called **info_list** containing every variable you've just created in the order you have done it.\n",
        "\n",
        "```python\n",
        "len(info_list) == 6\n",
        "True\n",
        "```\n",
        "\n",
        "**IMPORTANT: you will use `info_list` at some point during the ramp-up**"
      ]
    },
    {
      "cell_type": "code",
      "metadata": {
        "id": "fqf9ixwseNvN"
      },
      "source": [
        "info_list = [num_bridge, name_street, personal_taste, nothing, address_list, sleep_hours]\n",
        "len(info_list) == 6"
      ],
      "execution_count": 27,
      "outputs": [
        {
          "output_type": "execute_result",
          "data": {
            "text/plain": [
              "True"
            ]
          },
          "metadata": {},
          "execution_count": 27
        }
      ]
    },
    {
      "cell_type": "code",
      "execution_count": 28,
      "metadata": {},
      "outputs": [
        {
          "output_type": "execute_result",
          "data": {
            "text/plain": [
              "[15, 'Recoletos', False, None, ['Recoletos', 15], '7']"
            ]
          },
          "metadata": {},
          "execution_count": 28
        }
      ],
      "source": [
        "info_list"
      ]
    },
    {
      "cell_type": "markdown",
      "metadata": {
        "id": "jJwNur02eNvN"
      },
      "source": [
        "8. Run the following cell in order to delete every variable you've just created and keep **info_list** only.\n",
        "Print **info_list** once you've done it to check the list still exists."
      ]
    },
    {
      "cell_type": "code",
      "metadata": {
        "id": "ZU4wLPUPeNvN"
      },
      "source": [
        "#run this\n",
        "del num_bridge\n",
        "del name_street\n",
        "del personal_taste\n",
        "del nothing\n",
        "del address_list\n",
        "del sleep_hours"
      ],
      "execution_count": 29,
      "outputs": []
    },
    {
      "cell_type": "code",
      "metadata": {
        "id": "suW6_eOIeNvN"
      },
      "source": [
        "info_list"
      ],
      "execution_count": 30,
      "outputs": [
        {
          "output_type": "execute_result",
          "data": {
            "text/plain": [
              "[15, 'Recoletos', False, None, ['Recoletos', 15], '7']"
            ]
          },
          "metadata": {},
          "execution_count": 30
        }
      ]
    },
    {
      "cell_type": "markdown",
      "metadata": {
        "id": "QV80H54teNvN"
      },
      "source": [
        "### Exercise 2."
      ]
    },
    {
      "cell_type": "markdown",
      "metadata": {
        "id": "3GtRLHZLeNvO"
      },
      "source": [
        "You'll need `info_list` in order to continue with this exercise. Remember don't use any variable except `info_list`. \n",
        "\n",
        "Print the following. Don't use functions and/or loops. "
      ]
    },
    {
      "cell_type": "markdown",
      "metadata": {
        "id": "MhbMlF-XeNvO"
      },
      "source": [
        " 1. Sum up the street number of The Bridge and the hours you slept last night. "
      ]
    },
    {
      "cell_type": "code",
      "metadata": {
        "id": "SYoFWV-ieNvO"
      },
      "source": [
        "info_list[0] + int(info_list[-1])"
      ],
      "execution_count": 31,
      "outputs": [
        {
          "output_type": "execute_result",
          "data": {
            "text/plain": [
              "22"
            ]
          },
          "metadata": {},
          "execution_count": 31
        }
      ]
    },
    {
      "cell_type": "markdown",
      "metadata": {
        "id": "mPzsPVFgeNvO"
      },
      "source": [
        "2. Concatenate the street number of The Bridge, the name of the street, your personal taste and the hours you slept. All of them should be separated by `\" --> \"`."
      ]
    },
    {
      "cell_type": "code",
      "metadata": {
        "id": "NkxIkWQHeNvO"
      },
      "source": [
        "sep = ' --> '\n",
        "\n",
        "s = '{}{}{}{}{}{}{}'.format(info_list[0], sep, info_list[1], sep, info_list[2], sep, info_list[-1])\n",
        "s"
      ],
      "execution_count": 32,
      "outputs": [
        {
          "output_type": "execute_result",
          "data": {
            "text/plain": [
              "'15 --> Recoletos --> False --> 7'"
            ]
          },
          "metadata": {},
          "execution_count": 32
        }
      ]
    },
    {
      "cell_type": "markdown",
      "metadata": {
        "id": "qqCehCrLeNvO"
      },
      "source": [
        "3. Access to the list which is at the fourth position of **info_list** and print the result of: \n",
        "     - The concatenation of both elements contained in the list found in fourth position of **info_list**. \n",
        "     - The multiplication of the lenght of the list and the lenght of the street's name.\n",
        "    \n",
        "   If at the fourth position of **info_list** you don't find a list, go back to Exercise 1, please. "
      ]
    },
    {
      "cell_type": "code",
      "metadata": {
        "id": "Y-aqL1CSeNvO"
      },
      "source": [
        "street_name = info_list[4][0] + ' ' + str(info_list[4][1])\n",
        "multiplication = len(info_list[4] * len(street_name))\n",
        "multiplication"
      ],
      "execution_count": 45,
      "outputs": [
        {
          "output_type": "execute_result",
          "data": {
            "text/plain": [
              "24"
            ]
          },
          "metadata": {},
          "execution_count": 45
        }
      ]
    },
    {
      "cell_type": "markdown",
      "metadata": {
        "id": "19xs9ivReNvP"
      },
      "source": [
        "### Exercise 3."
      ]
    },
    {
      "cell_type": "markdown",
      "metadata": {
        "id": "676E7enseNvP"
      },
      "source": [
        "1. Get user input using input(“Enter your age: ”). If user is 18 or older, give feedback: You are old enough to drive. If below 18 give feedback to wait for the missing amount of years."
      ]
    },
    {
      "cell_type": "code",
      "metadata": {
        "id": "aKXqSSYDeNvP"
      },
      "source": [
        "user_age = int(input('Enter your age: '))\n",
        "\n",
        "if user_age > 18:\n",
        "    print('You are old enough to drive')\n",
        "else:\n",
        "    print('You have to wait {} years to drive'.format(18 - user_age))"
      ],
      "execution_count": 48,
      "outputs": [
        {
          "output_type": "stream",
          "name": "stdout",
          "text": [
            "You are old enough to drive\n"
          ]
        }
      ]
    },
    {
      "cell_type": "markdown",
      "metadata": {
        "id": "zOoTsOZ-eNvP"
      },
      "source": [
        "2. Compare the values of **my_age** and **your_age** using if/else. Who is older (me or you)? Use input(“Enter your age: ”) to get **your_age** as input. **my_age** is always your age, cause you are the one coding the program. "
      ]
    },
    {
      "cell_type": "code",
      "metadata": {
        "id": "PG0fmUYreNvP"
      },
      "source": [
        "my_age = 27\n",
        "your_age = int(input('Enter your age: '))\n",
        "\n",
        "if my_age > your_age:\n",
        "    print('You better have some respect!')\n",
        "else:\n",
        "    print('You are very old')"
      ],
      "execution_count": 50,
      "outputs": [
        {
          "output_type": "stream",
          "name": "stdout",
          "text": [
            "You are very old\n"
          ]
        }
      ]
    },
    {
      "cell_type": "markdown",
      "metadata": {
        "id": "LbAsx26beNvP"
      },
      "source": [
        "3. Get two numbers from the user using input prompt. If a is greater than b return \"a is greater than b\", if a is less b return \"a is smaller than b\", else \"a is equal to b\"."
      ]
    },
    {
      "cell_type": "code",
      "metadata": {
        "id": "q4iUZ0EheNvP"
      },
      "source": [
        "a = int(input('Enter the first number'))\n",
        "b = int(input('Enter the second number'))\n",
        "\n",
        "if a > b:\n",
        "    print('a is bigger than b. Motherflucker')\n",
        "else:\n",
        "    print('What a pity! b is bigger than a')"
      ],
      "execution_count": 52,
      "outputs": [
        {
          "output_type": "stream",
          "name": "stdout",
          "text": [
            "a is bigger than b. Motherflucker\n"
          ]
        }
      ]
    },
    {
      "cell_type": "markdown",
      "metadata": {
        "id": "2K-R2rwseNvQ"
      },
      "source": [
        "### Exercise 4\n",
        "\n",
        "Learn about **for loop**\n",
        "\n",
        "Watch this video: https://www.youtube.com/watch?v=wxds6MAtUQ0\n",
        "\n",
        "Read this: https://www.w3schools.com/python/python_for_loops.asp\n",
        "\n",
        "You may need this to understand what is going on with your loops: http://www.pythontutor.com/visualize.html#mode=edit"
      ]
    },
    {
      "cell_type": "markdown",
      "metadata": {
        "id": "aH_U13gJeNvQ"
      },
      "source": [
        "Declare four variables: \n",
        "- A string variable containing your surname. \n",
        "- Two integers variables: one, with the number of the street in which you live, and two, the age of the classmate sitting on your right. \n",
        "    If you are on the right edge of the table, look for your classmate on your left.\n",
        "    If you are on remote, choose one of your mates who are on remote too. \n",
        "- A list containing the variables you have just declared."
      ]
    },
    {
      "cell_type": "code",
      "metadata": {
        "id": "LzO2UCDCeNvQ"
      },
      "source": [
        "surname = 'Suarez'\n",
        "street_number = 1\n",
        "colleage_age = 27\n",
        "l = [surname, street_number, colleage_age]"
      ],
      "execution_count": 54,
      "outputs": []
    },
    {
      "cell_type": "markdown",
      "metadata": {
        "id": "6oXt2iODeNvQ"
      },
      "source": [
        "Using a **for loop** print every element of the list you've just created. \n",
        "    \n"
      ]
    },
    {
      "cell_type": "code",
      "metadata": {
        "id": "uCa3KFnFeNvQ"
      },
      "source": [
        "for x in l:\n",
        "    print(x)"
      ],
      "execution_count": 55,
      "outputs": [
        {
          "output_type": "stream",
          "name": "stdout",
          "text": [
            "Suarez\n1\n27\n"
          ]
        }
      ]
    },
    {
      "cell_type": "markdown",
      "metadata": {
        "id": "3d2b5Fb_eNvQ"
      },
      "source": [
        "Using a **for loop** and a **if** make sure you only print the element in the list which is a string\n",
        "(Your surname). "
      ]
    },
    {
      "cell_type": "code",
      "metadata": {
        "id": "awvdzeLKeNvR"
      },
      "source": [
        "for x in l:\n",
        "    if isinstance(x, str):\n",
        "        print(x)"
      ],
      "execution_count": 56,
      "outputs": [
        {
          "output_type": "stream",
          "name": "stdout",
          "text": [
            "Suarez\n"
          ]
        }
      ]
    },
    {
      "cell_type": "markdown",
      "metadata": {
        "id": "hs7t9s3_eNvR"
      },
      "source": [
        "**Well done!**"
      ]
    },
    {
      "cell_type": "markdown",
      "metadata": {
        "id": "qhWGcJ9AeNvR"
      },
      "source": [
        "### Exercise 5\n",
        "\n",
        "1. The following list contains some fruits:\n",
        "    \n",
        "`fruits = ['banana', 'orange', 'mango', 'lemon']`\n",
        "\n",
        "If a fruit doesn't exist in the list add the fruit to the list and print the modified list. If the fruit exists print('That fruit already exist in the list')\n",
        "\n",
        "Note: You can solve this exercise using or not `for` loop."
      ]
    },
    {
      "cell_type": "code",
      "metadata": {
        "id": "NQyT-BGkeNvR"
      },
      "source": [
        "# Esta es mi interpretación del ejercicio\n",
        "fruits = ['banana', 'orange', 'mango', 'lemon']\n",
        "\n",
        "fruit = input('Enter a fruit: ')\n",
        "\n",
        "if fruit in fruits:\n",
        "    print('That fruit already exists in the list')\n",
        "else:\n",
        "    fruits.append(fruit)\n",
        "    print(fruits)"
      ],
      "execution_count": 59,
      "outputs": [
        {
          "output_type": "stream",
          "name": "stdout",
          "text": [
            "['banana', 'orange', 'mango', 'lemon', 'pineapple']\n"
          ]
        }
      ]
    },
    {
      "cell_type": "markdown",
      "metadata": {
        "id": "mMV2qrJXeNvR"
      },
      "source": [
        "2. Prints the numbers between 0 and 70 that are multiples of 3 and 5."
      ]
    },
    {
      "cell_type": "code",
      "metadata": {
        "id": "SzwgC8_0eNvR"
      },
      "source": [
        "# Saco listas con los multiplos de 3 y 5 hasta 70\n",
        "multiplesOf3 = list(range(1, 71, 3))\n",
        "multiplesOf5 = list(range(1, 71, 5))\n",
        "\n",
        "# Combino ambas listas y las paso por un set para eliminar los posibles duplicados que pudieran haber\n",
        "multiples = list(set(multiplesOf3 + multiplesOf5))\n",
        "\n",
        "for i in multiples:\n",
        "    print(i)"
      ],
      "execution_count": 75,
      "outputs": [
        {
          "output_type": "stream",
          "name": "stdout",
          "text": [
            "1\n4\n6\n7\n10\n11\n13\n16\n19\n21\n22\n25\n26\n28\n31\n34\n36\n37\n40\n41\n43\n46\n49\n51\n52\n55\n56\n58\n61\n64\n66\n67\n70\n"
          ]
        }
      ]
    },
    {
      "cell_type": "markdown",
      "metadata": {
        "id": "ThtO7ruReNvR"
      },
      "source": [
        "3. Given two lists of same lenght, create a third list which contains the sum of both of the list, element by element. \n",
        "\n",
        "```python\n",
        "Example: \n",
        "a = [1,2]\n",
        "b = [4,5]\n",
        "new_list = [5,7]\n",
        "```"
      ]
    },
    {
      "cell_type": "code",
      "metadata": {
        "id": "DtnsrVHAeNvS"
      },
      "source": [
        "a = [1, 2]\n",
        "b = [4, 5]\n",
        "\n",
        "new_list =list(map(lambda x, y: x + y, a, b))\n",
        "new_list"
      ],
      "execution_count": 1,
      "outputs": [
        {
          "output_type": "execute_result",
          "data": {
            "text/plain": [
              "[5, 7]"
            ]
          },
          "metadata": {},
          "execution_count": 1
        }
      ]
    },
    {
      "cell_type": "markdown",
      "metadata": {
        "id": "kwc8Rb2beNvS"
      },
      "source": [
        "### Bonus Track"
      ]
    },
    {
      "cell_type": "markdown",
      "metadata": {
        "id": "4D-VodfveNvS"
      },
      "source": [
        "4. Print the following pattern:\n",
        "\n",
        "```python\n",
        "1\n",
        "22\n",
        "333\n",
        "4444\n",
        "55555\n",
        "666666\n",
        "7777777\n",
        "88888888\n",
        "999999999\n",
        "```"
      ]
    },
    {
      "cell_type": "code",
      "metadata": {
        "id": "o6RFU0kDeNvS"
      },
      "source": [
        "for i in range(10):\n",
        "    to_print = i * str(i)\n",
        "    print(to_print)"
      ],
      "execution_count": 82,
      "outputs": [
        {
          "output_type": "stream",
          "name": "stdout",
          "text": [
            "\n1\n22\n333\n4444\n55555\n666666\n7777777\n88888888\n999999999\n"
          ]
        }
      ]
    },
    {
      "cell_type": "markdown",
      "metadata": {
        "id": "pzNIXaxXeNvS"
      },
      "source": [
        "5. Get first, second best scores from the list.\n",
        "List contains duplicates."
      ]
    },
    {
      "cell_type": "code",
      "metadata": {
        "id": "bCTNlv_WeNvT"
      },
      "source": [
        "scores = [86,86,85,85,85,83,23,45,84,1,2,0]"
      ],
      "execution_count": 1,
      "outputs": []
    },
    {
      "cell_type": "code",
      "metadata": {
        "id": "tMSPdtCweNvT"
      },
      "source": [
        "scores = list(set(scores))\n",
        "scores.sort()\n",
        "print('best score: {}\\nsecond best score: {}'.format(scores[-1], scores[-2]))"
      ],
      "execution_count": 2,
      "outputs": [
        {
          "output_type": "stream",
          "name": "stdout",
          "text": [
            "best score: 86\nsecond best score: 85\n"
          ]
        }
      ]
    },
    {
      "cell_type": "markdown",
      "metadata": {
        "id": "Z-o-JV3NeNvT"
      },
      "source": [
        "6. From the given list:\n",
        "    \n",
        "    a) Create separate lists of strings and numbers.\n",
        "\n",
        "    b) Sort the strings' list in ascending order\n",
        "\n",
        "    c) Sort the strings' list in descending order\n",
        "\n",
        "    d) Sort the number's list from lowest to highest\n",
        "\n",
        "    e) Sort the number's list from highest to lowest"
      ]
    },
    {
      "cell_type": "code",
      "metadata": {
        "id": "i7M14BTPeNvT"
      },
      "source": [
        "gadgets = [\"Mobile\", \"Laptop\", 100, \"Camera\", 310.28, \"Speakers\", 27.00, \n",
        "           \"Television\", 1000, \"Laptop Case\", \"Camera Lens\"]"
      ],
      "execution_count": 35,
      "outputs": []
    },
    {
      "cell_type": "code",
      "metadata": {
        "id": "hAW7JtTteNvT"
      },
      "source": [
        "strings = []\n",
        "numbers = []\n",
        "\n",
        "for i in gadgets:\n",
        "    if isinstance(i, str):\n",
        "        strings.append(i)\n",
        "    else:\n",
        "        numbers.append(i)"
      ],
      "execution_count": 88,
      "outputs": []
    },
    {
      "cell_type": "code",
      "execution_count": 97,
      "metadata": {},
      "outputs": [],
      "source": [
        "strings.sort()\n",
        "strings.sort(reverse = True)\n",
        "numbers.sort()\n",
        "numbers.sort(reverse = True)"
      ]
    },
    {
      "cell_type": "markdown",
      "metadata": {
        "id": "TI1o4m7BeNvT"
      },
      "source": [
        "7. Make a list of ten aliens, each of which is one color: 'red', 'green', or 'blue'.\n",
        "    - You can shorten this to 'r', 'g', and 'b' if you want, but if you choose this option you have to include a comment explaining what r, g, and b stand for.\n",
        "    - Red aliens are worth 5 points, green aliens are worth 10 points, and blue aliens are worth 20 points.\n",
        "\n",
        "    - Use a for loop to determine the number of points a player would earn for destroying all of the aliens in your list."
      ]
    },
    {
      "cell_type": "code",
      "metadata": {
        "id": "8lNqfQgZeNvU"
      },
      "source": [
        "import numpy as np\n",
        "\n",
        "red_aliens = list('r' * 100)\n",
        "green_aliens = list('g' * 100)\n",
        "blue_aliens = list('b' * 100)\n",
        "\n",
        "aliens = red_aliens + green_aliens + blue_aliens\n",
        "\n",
        "aliens_list = list(np.random.choice(aliens, 10))\n",
        "\n",
        "total_points = 0\n",
        "\n",
        "for x in aliens_list:\n",
        "    if x == 'r':\n",
        "        total_points += 5\n",
        "    elif x == 'g':\n",
        "        total_points += 10\n",
        "    elif x == 'b':\n",
        "        total_points += 20\n",
        "\n",
        "total_points"
      ],
      "execution_count": 5,
      "outputs": [
        {
          "output_type": "execute_result",
          "data": {
            "text/plain": [
              "125"
            ]
          },
          "metadata": {},
          "execution_count": 5
        }
      ]
    },
    {
      "cell_type": "markdown",
      "metadata": {
        "id": "OKrphZk9eNvU"
      },
      "source": [
        "![\"hola\"](https://preview.redd.it/wk843smkri441.jpg?width=960&crop=smart&auto=webp&s=1a4d7a5ddeef38c03334d275afe3a9dd33866ce8)"
      ]
    }
  ]
}