{
 "metadata": {
  "language_info": {
   "codemirror_mode": {
    "name": "ipython",
    "version": 3
   },
   "file_extension": ".py",
   "mimetype": "text/x-python",
   "name": "python",
   "nbconvert_exporter": "python",
   "pygments_lexer": "ipython3",
   "version": "3.7.4"
  },
  "orig_nbformat": 4,
  "kernelspec": {
   "name": "python3",
   "display_name": "Python 3.7.4 64-bit"
  },
  "interpreter": {
   "hash": "aee8b7b246df8f9039afb4144a1f6fd8d2ca17a180786b69acc140d282b71a49"
  }
 },
 "nbformat": 4,
 "nbformat_minor": 2,
 "cells": [
  {
   "cell_type": "code",
   "execution_count": 21,
   "source": [
    "# Libraries\n",
    "import requests\n",
    "from bs4 import BeautifulSoup\n",
    "import html\n",
    "import lxml\n",
    "\n",
    "import numpy as np\n",
    "import pandas as pd"
   ],
   "outputs": [],
   "metadata": {}
  },
  {
   "cell_type": "code",
   "execution_count": 15,
   "source": [
    "def get_events(url):\n",
    "    # Link to the event\n",
    "    r = requests.get(url)\n",
    "\n",
    "    # Pulling the data from the link\n",
    "    soup = BeautifulSoup(r.text, \"lxml\")\n",
    "\n",
    "    # Getting all the events\n",
    "    events = soup.findAll(class_ = \"fv-plan-tile\")\n",
    "    event_images = soup.findAll(class_ = \"fv-plan-tile__img\")\n",
    "\n",
    "    # It gets the href attribute for every event in the list\n",
    "    urls = [\"https://feverup.com\" + event[\"href\"] for event in events]\n",
    "    images = [image[\"src\"] for image in event_images]\n",
    "    \n",
    "    return list(zip(urls, images))"
   ],
   "outputs": [],
   "metadata": {}
  },
  {
   "cell_type": "code",
   "execution_count": 27,
   "source": [
    "#url = \"https://feverup.com/madrid/planes-aire-libre\"\n",
    "#url = \"https://feverup.com/madrid/vida-nocturna-clubs\"\n",
    "#url = \"https://feverup.com/madrid/bebidas-afterwork\"\n",
    "url = \"https://feverup.com/madrid/candlelight\"\n",
    "test1 = get_events(url)"
   ],
   "outputs": [],
   "metadata": {}
  },
  {
   "cell_type": "code",
   "execution_count": null,
   "source": [
    "def save_list(list_):\n",
    "    try:\n",
    "        with open(\"urls.txt\", \"w\") as file_:\n",
    "            file_.write(str(test1))\n",
    "        return \"Succesfully saved\"\n",
    "    except:\n",
    "        return \"Error: couldn't be saved\"\n",
    "    "
   ],
   "outputs": [],
   "metadata": {}
  },
  {
   "cell_type": "code",
   "execution_count": 37,
   "source": [
    "with open(\"urls.txt\", \"w+\") as file_:\n",
    "    file_.write(str(test1))"
   ],
   "outputs": [],
   "metadata": {}
  },
  {
   "cell_type": "code",
   "execution_count": 36,
   "source": [
    "with open(\"urls.txt\", \"r+\") as f:\n",
    "    read_ = f.readlines()"
   ],
   "outputs": [],
   "metadata": {}
  },
  {
   "cell_type": "code",
   "execution_count": 34,
   "source": [
    "type(read_)"
   ],
   "outputs": [
    {
     "output_type": "execute_result",
     "data": {
      "text/plain": [
       "list"
      ]
     },
     "metadata": {},
     "execution_count": 34
    }
   ],
   "metadata": {}
  },
  {
   "cell_type": "code",
   "execution_count": null,
   "source": [],
   "outputs": [],
   "metadata": {}
  }
 ]
}