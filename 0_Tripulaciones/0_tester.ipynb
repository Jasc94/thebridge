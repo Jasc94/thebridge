{
 "metadata": {
  "language_info": {
   "codemirror_mode": {
    "name": "ipython",
    "version": 3
   },
   "file_extension": ".py",
   "mimetype": "text/x-python",
   "name": "python",
   "nbconvert_exporter": "python",
   "pygments_lexer": "ipython3",
   "version": "3.7.4"
  },
  "orig_nbformat": 4,
  "kernelspec": {
   "name": "python3",
   "display_name": "Python 3.7.4 64-bit"
  },
  "interpreter": {
   "hash": "aee8b7b246df8f9039afb4144a1f6fd8d2ca17a180786b69acc140d282b71a49"
  }
 },
 "nbformat": 4,
 "nbformat_minor": 2,
 "cells": [
  {
   "cell_type": "code",
   "execution_count": 1,
   "metadata": {},
   "outputs": [],
   "source": [
    "# Libraries\n",
    "\n",
    "import numpy as np\n",
    "import pandas as pd\n",
    "import re\n",
    "import emoji\n",
    "\n",
    "import requests\n",
    "from bs4 import BeautifulSoup\n",
    "import html\n",
    "import lxml"
   ]
  },
  {
   "cell_type": "code",
   "execution_count": 2,
   "metadata": {},
   "outputs": [],
   "source": [
    "# Link to the event\n",
    "url = \"https://feverup.com/m/100122\"\n",
    "r = requests.get(url)\n",
    "# Pulling the data from the link\n",
    "soup = BeautifulSoup(r.text, \"lxml\")\n",
    "# Take event title and description\n",
    "# In the event description is where \"accesibility\" info is located\n",
    "event_title = soup.find(class_ = \"plan-hero__title\").text\n",
    "event_descr = soup.find(class_ = \"plan-description mb-32\")\n",
    "# Transform the event description into string for later processing\n",
    "event_descr = str(event_descr)"
   ]
  },
  {
   "cell_type": "code",
   "execution_count": 9,
   "metadata": {},
   "outputs": [],
   "source": [
    "event_price = soup.find(class_ = \"sidebarBuyingText sidebarWrapper__btn\").text"
   ]
  },
  {
   "cell_type": "code",
   "execution_count": 15,
   "metadata": {},
   "outputs": [
    {
     "output_type": "execute_result",
     "data": {
      "text/plain": [
       "'14,00'"
      ]
     },
     "metadata": {},
     "execution_count": 15
    }
   ],
   "source": [
    "event_price.split(\"\\xa0€\")[0]"
   ]
  },
  {
   "cell_type": "code",
   "execution_count": 12,
   "metadata": {},
   "outputs": [
    {
     "output_type": "execute_result",
     "data": {
      "text/plain": [
       "'14,00\\xa0€ — Comprar ahora'"
      ]
     },
     "metadata": {},
     "execution_count": 12
    }
   ],
   "source": [
    "event_price"
   ]
  },
  {
   "cell_type": "code",
   "execution_count": null,
   "metadata": {},
   "outputs": [],
   "source": []
  }
 ]
}