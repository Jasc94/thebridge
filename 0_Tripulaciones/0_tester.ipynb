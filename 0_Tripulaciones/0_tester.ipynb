{
 "metadata": {
  "language_info": {
   "codemirror_mode": {
    "name": "ipython",
    "version": 3
   },
   "file_extension": ".py",
   "mimetype": "text/x-python",
   "name": "python",
   "nbconvert_exporter": "python",
   "pygments_lexer": "ipython3",
   "version": "3.7.4"
  },
  "orig_nbformat": 4,
  "kernelspec": {
   "name": "python3",
   "display_name": "Python 3.7.4 64-bit"
  },
  "interpreter": {
   "hash": "aee8b7b246df8f9039afb4144a1f6fd8d2ca17a180786b69acc140d282b71a49"
  }
 },
 "nbformat": 4,
 "nbformat_minor": 2,
 "cells": [
  {
   "cell_type": "code",
   "execution_count": 1,
   "source": [
    "# Libraries\n",
    "import requests\n",
    "from bs4 import BeautifulSoup\n",
    "import html\n",
    "import lxml"
   ],
   "outputs": [],
   "metadata": {}
  },
  {
   "cell_type": "code",
   "execution_count": 2,
   "source": [
    "def get_events(url):\n",
    "    # Link to the event\n",
    "    r = requests.get(url)\n",
    "\n",
    "    # Pulling the data from the link\n",
    "    soup = BeautifulSoup(r.text, \"lxml\")\n",
    "\n",
    "    # Getting all the events\n",
    "    events = soup.findAll(class_ = \"fv-plan-tile\")\n",
    "\n",
    "    # It gets the href attribute for every event in the list\n",
    "    urls = [\"https://feverup.com\" + event[\"href\"] for event in events]\n",
    "    \n",
    "    return urls"
   ],
   "outputs": [],
   "metadata": {}
  },
  {
   "cell_type": "code",
   "execution_count": 3,
   "source": [
    "#url = \"https://feverup.com/madrid/planes-aire-libre\"\n",
    "url = \"https://feverup.com/madrid/vida-nocturna-clubs\"\n",
    "get_events(url)"
   ],
   "outputs": [
    {
     "output_type": "execute_result",
     "data": {
      "text/plain": [
       "['https://feverup.com/m/100103',\n",
       " 'https://feverup.com/m/100811',\n",
       " 'https://feverup.com/m/100978',\n",
       " 'https://feverup.com/m/100603',\n",
       " 'https://feverup.com/m/100497',\n",
       " 'https://feverup.com/m/100901',\n",
       " 'https://feverup.com/m/101093',\n",
       " 'https://feverup.com/m/101082',\n",
       " 'https://feverup.com/m/91959',\n",
       " 'https://feverup.com/m/94492']"
      ]
     },
     "metadata": {},
     "execution_count": 3
    }
   ],
   "metadata": {}
  },
  {
   "cell_type": "code",
   "execution_count": null,
   "source": [],
   "outputs": [],
   "metadata": {}
  }
 ]
}