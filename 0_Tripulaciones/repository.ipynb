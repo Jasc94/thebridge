{
 "metadata": {
  "language_info": {
   "codemirror_mode": {
    "name": "ipython",
    "version": 3
   },
   "file_extension": ".py",
   "mimetype": "text/x-python",
   "name": "python",
   "nbconvert_exporter": "python",
   "pygments_lexer": "ipython3",
   "version": 3
  },
  "orig_nbformat": 4
 },
 "nbformat": 4,
 "nbformat_minor": 2,
 "cells": [
  {
   "cell_type": "code",
   "execution_count": null,
   "metadata": {},
   "outputs": [],
   "source": [
    "#re.split(\"Información\", text)\n",
    "#items = re.findall(r\"(?<=strong).+\", text_with_html)\n",
    "items = text_with_html.split(\"strong\")"
   ]
  },
  {
   "cell_type": "code",
   "execution_count": null,
   "metadata": {},
   "outputs": [],
   "source": [
    "gen_info = re.sub(r\"\\<.*?\\>\", \"\", items[6])\n",
    "gen_info"
   ]
  },
  {
   "cell_type": "code",
   "execution_count": null,
   "metadata": {},
   "outputs": [],
   "source": [
    "info_items_2 = []\n",
    "for item in info_items: info_items_2.append(re.sub(r\"\\<.*?\\>\", \"\", item))"
   ]
  },
  {
   "cell_type": "code",
   "execution_count": null,
   "metadata": {},
   "outputs": [],
   "source": [
    "gen_info = info_items_2[6].split(\"🕒\")\n",
    "date = gen_info[0]\n",
    "\n",
    "gen_info_2 = gen_info[1].split(\"⏳\")\n",
    "timetable = gen_info_2[0]\n",
    "\n",
    "gen_info_3 = gen_info_2[1].split(\"👤\")\n",
    "time = gen_info_3[0]\n",
    "time"
   ]
  },
  {
   "cell_type": "code",
   "execution_count": null,
   "metadata": {},
   "outputs": [],
   "source": [
    "iterator = info_items[6]\n",
    "\n",
    "icons = [\"📅\", \"🕒\", \"⏳\", \"👤\", \"📍\", \"⚠️\", \"♿\", \"⌚\", \"❓\", \"🔗\"]\n",
    "general_info = []\n",
    "count = 0\n",
    "\n",
    "for icon in icons:\n",
    "    #print(\"icon:\", icon)\n",
    "    #print(\"iterator:\\n\", iterator)\n",
    "    #print(\"-\" * 20)\n",
    "    if icon in iterator:\n",
    "        iterator = iterator.split(icon)\n",
    "        #print(\"iterator[0]:\\n\", iterator[0])\n",
    "        #print(\"-\" * 20)\n",
    "        general_info.append(iterator[0])\n",
    "        #print(\"iterator[1]:\\n\", iterator[1])\n",
    "        if any(icon in iterator[1] for icon in icons):\n",
    "            iterator = iterator[1]\n",
    "        else:\n",
    "            general_info.append(iterator[1])\n",
    "    else:\n",
    "        pass\n",
    "\n",
    "    count += 1\n",
    "    #print(\"-\" * 50)\n",
    "\n",
    "general_info"
   ]
  }
 ]
}