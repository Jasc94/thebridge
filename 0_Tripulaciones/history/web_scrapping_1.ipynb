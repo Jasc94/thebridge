{
 "metadata": {
  "language_info": {
   "codemirror_mode": {
    "name": "ipython",
    "version": 3
   },
   "file_extension": ".py",
   "mimetype": "text/x-python",
   "name": "python",
   "nbconvert_exporter": "python",
   "pygments_lexer": "ipython3",
   "version": "3.7.4"
  },
  "orig_nbformat": 4,
  "kernelspec": {
   "name": "python3",
   "display_name": "Python 3.7.4 64-bit"
  },
  "interpreter": {
   "hash": "aee8b7b246df8f9039afb4144a1f6fd8d2ca17a180786b69acc140d282b71a49"
  }
 },
 "nbformat": 4,
 "nbformat_minor": 2,
 "cells": [
  {
   "source": [
    "### Links:\n",
    "\n",
    "- home: https://feverup.com/madrid\n",
    "- ejemplo con accesibilidad: https://feverup.com/m/100122"
   ],
   "cell_type": "markdown",
   "metadata": {}
  },
  {
   "cell_type": "code",
   "execution_count": 37,
   "metadata": {},
   "outputs": [],
   "source": [
    "# Libraries\n",
    "\n",
    "import numpy as np\n",
    "import pandas as pd\n",
    "import re\n",
    "import emoji\n",
    "\n",
    "import requests\n",
    "from bs4 import BeautifulSoup\n",
    "import html\n",
    "import lxml"
   ]
  },
  {
   "source": [
    "## 1) Check whether an event is accesible or not for disabled people"
   ],
   "cell_type": "markdown",
   "metadata": {}
  },
  {
   "source": [
    "### 1.1) Scrapping url with accesible event"
   ],
   "cell_type": "markdown",
   "metadata": {}
  },
  {
   "cell_type": "code",
   "execution_count": 46,
   "metadata": {},
   "outputs": [],
   "source": [
    "# 1) Pull info from the url\n",
    "def pull_data(url):\n",
    "    r = requests.get(url)\n",
    "\n",
    "    # URL parsing\n",
    "    soup = BeautifulSoup(r.text, \"lxml\")\n",
    "\n",
    "    # Title & Description (info)\n",
    "    event_title = soup.find(class_ = \"plan-hero__title\").text\n",
    "    event_descr = soup.find(class_ = \"plan-description mb-32\")\n",
    "\n",
    "    #text = event_descr.text\n",
    "    # Parsing soup object to string\n",
    "    text_with_html = str(event_descr)\n",
    "\n",
    "    return text_with_html, event_title\n",
    "\n",
    "# 2) Split the info into the different web sections\n",
    "def section_split(string, splitter):\n",
    "    # Split items using the given splitter\n",
    "    info_items = string.split(splitter)\n",
    "    # To store the new items\n",
    "    info_items_2 = []\n",
    "    for item in info_items:\n",
    "        # To remove html code from each item\n",
    "        info_items_2.append(re.sub(r\"\\<.*?\\>\", \"\", item))\n",
    "    return info_items_2\n",
    "\n",
    "# 3) Pull the information from the general information section\n",
    "def gen_info_split(iterator:str, icons_list:list):\n",
    "    # To save the info we extract from the string\n",
    "    general_info = []\n",
    "\n",
    "    # Iterate over all the icons in the list\n",
    "    for icon in icons:\n",
    "        # It the icon is in the string, then...\n",
    "        if icon in iterator:\n",
    "            # Split iterator using the icon and save it as the new iterator\n",
    "            # Input: string\n",
    "            # Output: list with 2 items\n",
    "            iterator = iterator.split(icon)\n",
    "            # Save the first item in our new list\n",
    "            general_info.append(iterator[0])\n",
    "\n",
    "            # Check if there is still any icon left in the second element of the iterator. If so, save it as the new iterator (a string again)\n",
    "            if any(icon in iterator[1] for icon in icons):\n",
    "                iterator = iterator[1]\n",
    "            # Else, save it in our new list.\n",
    "            # As we don't have more icons in the second element, that means, we don't need to split the iterator anymore, since we already reach the last piece of info we needed\n",
    "            else:\n",
    "                general_info.append(iterator[1])\n",
    "        else:\n",
    "            pass\n",
    "\n",
    "    return general_info"
   ]
  },
  {
   "cell_type": "code",
   "execution_count": 47,
   "metadata": {},
   "outputs": [],
   "source": [
    "url = \"https://feverup.com/m/100122\"\n",
    "#url = \"https://feverup.com/m/100044\"\n",
    "\n",
    "info, event = pull_data(url)\n",
    "info_items = section_split(info, \"strong\")\n",
    "\n",
    "icons = [\"📅\", \"🕒\", \"⏳\", \"👤\", \"📍\", \"⚠️\", \"♿\", \"⌚\", \"❓\", \"🔗\"]\n",
    "info_items[6] = gen_info_split(info_items[6], icons)"
   ]
  },
  {
   "cell_type": "code",
   "execution_count": 42,
   "metadata": {},
   "outputs": [],
   "source": [
    "full_icons_list = emoji.UNICODE_EMOJI[\"es\"].keys()"
   ]
  },
  {
   "cell_type": "code",
   "execution_count": 43,
   "metadata": {},
   "outputs": [
    {
     "output_type": "execute_result",
     "data": {
      "text/plain": [
       "True"
      ]
     },
     "metadata": {},
     "execution_count": 43
    }
   ],
   "source": [
    "any(icon in test for icon in full_icons_list)"
   ]
  },
  {
   "cell_type": "code",
   "execution_count": 58,
   "metadata": {},
   "outputs": [
    {
     "output_type": "execute_result",
     "data": {
      "text/plain": [
       "['<strong>Tickets</strong>',\n",
       " '<strong>Qué vas a disfrutar</strong>',\n",
       " '<strong>Información General</strong>',\n",
       " '<strong>Descripción</strong>']"
      ]
     },
     "metadata": {},
     "execution_count": 58
    }
   ],
   "source": [
    "r = requests.get(url)\n",
    "soup = BeautifulSoup(r.text, \"lxml\")\n",
    "descr = soup.find(class_ = \"plan-description mb-32\")\n",
    "descr2 = str(descr)\n",
    "re.findall(r\"\\<strong\\>.*?\\<\\/strong\\>\", descr2)"
   ]
  },
  {
   "cell_type": "code",
   "execution_count": 59,
   "metadata": {},
   "outputs": [
    {
     "output_type": "execute_result",
     "data": {
      "text/plain": [
       "['</strong><br/>🎫 Entrada - incluye acceso a la exhibición y audioguía<ul><li>General adulto (mayores de 18 años)</li><li>Reducida (diversidad funcional, estudiantes, mayores de 65 años y menores de 18, mostrando siempre documentación)</li><li>Pack de 4 entradas (precio reducido)</li><li>Grupos a partir de 10 personas (precio reducido)</li><li>Menores de 2 años (entrada gratuita)</li></ul><br/><strong>',\n",
       " '</strong><br/>🎨 Descubre una nueva forma de admirar las obras del genio Vincent van Gogh<br/>👨\\u200d🎨 Sumérgete en las pinturas más conocidas del artista gracias a una experiencia tridimensional<br/>📽️ Disfruta de una experiencia basada en una de las colecciones más importantes de Van Gogh y en una investigación exhaustiva sobre su vida<br/>🖼️ Una experiencia diseñada por el Van Gogh Museum de Ámsterdam<br/>🏴\\u200d☠️ Adéntrate en una estimulante actividad con la \"Búsqueda del tesoro para niños\"<br/><br/><strong>',\n",
       " '</strong><br/>📅 Fechas: a partir de septiembre de 2021<br/>🕒 Horarios:<br/>-Lunes a jueves y domingos: de 10:00 a 20:00<br/>-Viernes y sábados: de 10:00 a 21:00<br/>⏳ Duración: 60 minutos aproximadamente<br/>👤 Edad: ¡todas las edades! (menores de 14 años acompañados de un adulto y menores de 24 meses gratis)<br/>📍 Lugar: Espacio Ibercaja Delicias - Paseo de las Delicias 61 (Madrid)<br/>♿ Accesibilidad: accesible para personas con movilidad reducida<br/>❓ Puedes consultar las preguntas frecuentes, sus respuestas y las medidas sanitarias <a href=\"https://meetvincent.com/madrid/faq\" target=\"_blank\">aquí</a><br/><br/><strong>']"
      ]
     },
     "metadata": {},
     "execution_count": 59
    }
   ],
   "source": [
    "re.findall(r\"\\<\\/strong\\>.*?\\<strong\\>\", descr2)"
   ]
  },
  {
   "cell_type": "code",
   "execution_count": 65,
   "metadata": {},
   "outputs": [
    {
     "output_type": "execute_result",
     "data": {
      "text/plain": [
       "[['<div class=\"plan-description mb-32\" data-cy=\"plan-content-description\">⭐ <b>Meet Vincent van Gogh</b> es una experiencia tridimensional dividida en seis escenarios que permiten adentrarse en la vida de uno de los pintores más famosos de la historia<br/><br/>'],\n",
       " ['Tickets',\n",
       "  '<br/>🎫 Entrada - incluye acceso a la exhibición y audioguía<ul><li>General adulto (mayores de 18 años)</li><li>Reducida (diversidad funcional, estudiantes, mayores de 65 años y menores de 18, mostrando siempre documentación)</li><li>Pack de 4 entradas (precio reducido)</li><li>Grupos a partir de 10 personas (precio reducido)</li><li>Menores de 2 años (entrada gratuita)</li></ul><br/>'],\n",
       " ['Qué vas a disfrutar',\n",
       "  '<br/>🎨 Descubre una nueva forma de admirar las obras del genio Vincent van Gogh<br/>👨\\u200d🎨 Sumérgete en las pinturas más conocidas del artista gracias a una experiencia tridimensional<br/>📽️ Disfruta de una experiencia basada en una de las colecciones más importantes de Van Gogh y en una investigación exhaustiva sobre su vida<br/>🖼️ Una experiencia diseñada por el Van Gogh Museum de Ámsterdam<br/>🏴\\u200d☠️ Adéntrate en una estimulante actividad con la \"Búsqueda del tesoro para niños\"<br/><br/>'],\n",
       " ['Información General',\n",
       "  '<br/>📅 Fechas: a partir de septiembre de 2021<br/>🕒 Horarios:<br/>-Lunes a jueves y domingos: de 10:00 a 20:00<br/>-Viernes y sábados: de 10:00 a 21:00<br/>⏳ Duración: 60 minutos aproximadamente<br/>👤 Edad: ¡todas las edades! (menores de 14 años acompañados de un adulto y menores de 24 meses gratis)<br/>📍 Lugar: Espacio Ibercaja Delicias - Paseo de las Delicias 61 (Madrid)<br/>♿ Accesibilidad: accesible para personas con movilidad reducida<br/>❓ Puedes consultar las preguntas frecuentes, sus respuestas y las medidas sanitarias <a href=\"https://meetvincent.com/madrid/faq\" target=\"_blank\">aquí</a><br/><br/>'],\n",
       " ['Descripción',\n",
       "  '<br/>¿Alguna vez has soñado con adentrarte en una pintura? Embárcate en un viaje inspirador al incomparable universo de Van Gogh, uno de los grandes genios del arte del siglo XIX. Explora su vida, obras y secretos como nunca antes a través de una experiencia tridimensional que te dejará sin palabras. Sumérgete en esta experiencia vanguardista insuperable creada por los expertos del Museo Van Gogh de Ámsterdam. ¡No te lo vas a querer perder!</div>']]"
      ]
     },
     "metadata": {},
     "execution_count": 65
    }
   ],
   "source": [
    "[desc.split(\"</strong>\") for desc in descr2.split(\"<strong>\")]"
   ]
  },
  {
   "cell_type": "code",
   "execution_count": null,
   "metadata": {},
   "outputs": [],
   "source": []
  }
 ]
}