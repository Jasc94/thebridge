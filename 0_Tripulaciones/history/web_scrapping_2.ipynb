{
 "metadata": {
  "language_info": {
   "codemirror_mode": {
    "name": "ipython",
    "version": 3
   },
   "file_extension": ".py",
   "mimetype": "text/x-python",
   "name": "python",
   "nbconvert_exporter": "python",
   "pygments_lexer": "ipython3",
   "version": "3.7.4"
  },
  "orig_nbformat": 4,
  "kernelspec": {
   "name": "python3",
   "display_name": "Python 3.7.4 64-bit"
  },
  "interpreter": {
   "hash": "aee8b7b246df8f9039afb4144a1f6fd8d2ca17a180786b69acc140d282b71a49"
  }
 },
 "nbformat": 4,
 "nbformat_minor": 2,
 "cells": [
  {
   "cell_type": "code",
   "execution_count": 1,
   "metadata": {},
   "outputs": [],
   "source": [
    "# Libraries\n",
    "\n",
    "import numpy as np\n",
    "import pandas as pd\n",
    "import re\n",
    "import emoji\n",
    "\n",
    "import requests\n",
    "from bs4 import BeautifulSoup\n",
    "import html\n",
    "import lxml"
   ]
  },
  {
   "cell_type": "code",
   "execution_count": 2,
   "metadata": {},
   "outputs": [
    {
     "output_type": "execute_result",
     "data": {
      "text/plain": [
       "'14,00'"
      ]
     },
     "metadata": {},
     "execution_count": 2
    }
   ],
   "source": [
    "# Link to the event\n",
    "url = \"https://feverup.com/m/100122\"\n",
    "r = requests.get(url)\n",
    "# Pulling the data from the link\n",
    "soup = BeautifulSoup(r.text, \"lxml\")\n",
    "# Take event title and description\n",
    "# In the event description is where \"accesibility\" info is located\n",
    "event_title = soup.find(class_ = \"plan-hero__title\").text\n",
    "event_descr = soup.find(class_ = \"plan-description mb-32\")\n",
    "# Transform the event description into string for later processing\n",
    "event_descr = str(event_descr)\n",
    "# Get price info\n",
    "event_price = soup.find(class_ = \"sidebarBuyingText sidebarWrapper__btn\").text\n",
    "event_price.split(\"\\xa0€\")[0]"
   ]
  },
  {
   "cell_type": "code",
   "execution_count": 3,
   "metadata": {},
   "outputs": [],
   "source": [
    "# 1) Split the data using the \"<strong>\" tag -> This way we separate the sections\n",
    "# 2) Split the data using the \"</strong>\" tag -> This way we separate titles from descriptions\n",
    "event_descr_items = [elem.split(\"</strong>\") for elem in event_descr.split(\"<strong>\")]"
   ]
  },
  {
   "cell_type": "code",
   "execution_count": 4,
   "metadata": {},
   "outputs": [
    {
     "output_type": "execute_result",
     "data": {
      "text/plain": [
       "[1, 2, 2, 2, 2]"
      ]
     },
     "metadata": {},
     "execution_count": 4
    }
   ],
   "source": [
    "# Just for checking purposes\n",
    "[len(elem) for elem in event_descr_items]"
   ]
  },
  {
   "cell_type": "code",
   "execution_count": 5,
   "metadata": {},
   "outputs": [
    {
     "output_type": "execute_result",
     "data": {
      "text/plain": [
       "{1: '<div class=\"plan-description mb-32\" data-cy=\"plan-content-description\">⭐ <b>Meet Vincent van Gogh</b> es una experiencia tridimensional dividida en seis escenarios que permiten adentrarse en la vida de uno de los pintores más famosos de la historia<br/><br/>',\n",
       " 'Tickets': '<br/>🎫 Entrada - incluye acceso a la exhibición y audioguía<ul><li>General adulto (mayores de 18 años)</li><li>Reducida (diversidad funcional, estudiantes, mayores de 65 años y menores de 18, mostrando siempre documentación)</li><li>Pack de 4 entradas (precio reducido)</li><li>Grupos a partir de 10 personas (precio reducido)</li><li>Menores de 2 años (entrada gratuita)</li></ul><br/>',\n",
       " 'Qué vas a disfrutar': '<br/>🎨 Descubre una nueva forma de admirar las obras del genio Vincent van Gogh<br/>👨\\u200d🎨 Sumérgete en las pinturas más conocidas del artista gracias a una experiencia tridimensional<br/>📽️ Disfruta de una experiencia basada en una de las colecciones más importantes de Van Gogh y en una investigación exhaustiva sobre su vida<br/>🖼️ Una experiencia diseñada por el Van Gogh Museum de Ámsterdam<br/>🏴\\u200d☠️ Adéntrate en una estimulante actividad con la \"Búsqueda del tesoro para niños\"<br/><br/>',\n",
       " 'Información General': '<br/>📅 Fechas: a partir de septiembre de 2021<br/>🕒 Horarios:<br/>-Lunes a jueves y domingos: de 10:00 a 20:00<br/>-Viernes y sábados: de 10:00 a 21:00<br/>⏳ Duración: 60 minutos aproximadamente<br/>👤 Edad: ¡todas las edades! (menores de 14 años acompañados de un adulto y menores de 24 meses gratis)<br/>📍 Lugar: Espacio Ibercaja Delicias - Paseo de las Delicias 61 (Madrid)<br/>♿ Accesibilidad: accesible para personas con movilidad reducida<br/>❓ Puedes consultar las preguntas frecuentes, sus respuestas y las medidas sanitarias <a href=\"https://meetvincent.com/madrid/faq\" target=\"_blank\">aquí</a><br/><br/>',\n",
       " 'Descripción': '<br/>¿Alguna vez has soñado con adentrarte en una pintura? Embárcate en un viaje inspirador al incomparable universo de Van Gogh, uno de los grandes genios del arte del siglo XIX. Explora su vida, obras y secretos como nunca antes a través de una experiencia tridimensional que te dejará sin palabras. Sumérgete en esta experiencia vanguardista insuperable creada por los expertos del Museo Van Gogh de Ámsterdam. ¡No te lo vas a querer perder!</div>'}"
      ]
     },
     "metadata": {},
     "execution_count": 5
    }
   ],
   "source": [
    "# Dict to save the info title-descriptions that we have in a list of lists\n",
    "new_dict = {}\n",
    "# This is to assign a numerical value as key to those descriptions without section title\n",
    "no_title_count = 1\n",
    "\n",
    "# Iterate over the list of lists, and for every list...\n",
    "for elem in event_descr_items:\n",
    "    # If there's more than one element (that means, we have description and title)...\n",
    "    if len(elem) > 1:\n",
    "        # Then the first element will be the key and the second one will be the value in our new dict\n",
    "        new_dict[elem[0]] = elem[1]\n",
    "    # If we don't have two values (we are missing the title)...\n",
    "    else:\n",
    "        # Then, the key will be the numerical value we defined and the value will be the only value of the list, which should be the description\n",
    "        new_dict[no_title_count] = elem[0]\n",
    "        no_title_count += 1\n",
    "\n",
    "new_dict"
   ]
  },
  {
   "cell_type": "code",
   "execution_count": 6,
   "metadata": {},
   "outputs": [
    {
     "output_type": "execute_result",
     "data": {
      "text/plain": [
       "{1: '⭐ Meet Vincent van Gogh es una experiencia tridimensional dividida en seis escenarios que permiten adentrarse en la vida de uno de los pintores más famosos de la historia',\n",
       " 'Tickets': '🎫 Entrada - incluye acceso a la exhibición y audioguíaGeneral adulto (mayores de 18 años)Reducida (diversidad funcional, estudiantes, mayores de 65 años y menores de 18, mostrando siempre documentación)Pack de 4 entradas (precio reducido)Grupos a partir de 10 personas (precio reducido)Menores de 2 años (entrada gratuita)',\n",
       " 'Qué vas a disfrutar': '🎨 Descubre una nueva forma de admirar las obras del genio Vincent van Gogh👨\\u200d🎨 Sumérgete en las pinturas más conocidas del artista gracias a una experiencia tridimensional📽️ Disfruta de una experiencia basada en una de las colecciones más importantes de Van Gogh y en una investigación exhaustiva sobre su vida🖼️ Una experiencia diseñada por el Van Gogh Museum de Ámsterdam🏴\\u200d☠️ Adéntrate en una estimulante actividad con la \"Búsqueda del tesoro para niños\"',\n",
       " 'Información General': '📅 Fechas: a partir de septiembre de 2021🕒 Horarios:-Lunes a jueves y domingos: de 10:00 a 20:00-Viernes y sábados: de 10:00 a 21:00⏳ Duración: 60 minutos aproximadamente👤 Edad: ¡todas las edades! (menores de 14 años acompañados de un adulto y menores de 24 meses gratis)📍 Lugar: Espacio Ibercaja Delicias - Paseo de las Delicias 61 (Madrid)♿ Accesibilidad: accesible para personas con movilidad reducida❓ Puedes consultar las preguntas frecuentes, sus respuestas y las medidas sanitarias aquí',\n",
       " 'Descripción': '¿Alguna vez has soñado con adentrarte en una pintura? Embárcate en un viaje inspirador al incomparable universo de Van Gogh, uno de los grandes genios del arte del siglo XIX. Explora su vida, obras y secretos como nunca antes a través de una experiencia tridimensional que te dejará sin palabras. Sumérgete en esta experiencia vanguardista insuperable creada por los expertos del Museo Van Gogh de Ámsterdam. ¡No te lo vas a querer perder!'}"
      ]
     },
     "metadata": {},
     "execution_count": 6
    }
   ],
   "source": [
    "# This is to remove all the html tags from the text\n",
    "for key, value in new_dict.items():\n",
    "    new_dict[key] = re.sub(r\"\\<.*?\\>\", \"\", value)\n",
    "\n",
    "new_dict"
   ]
  },
  {
   "cell_type": "code",
   "execution_count": 7,
   "metadata": {},
   "outputs": [
    {
     "output_type": "execute_result",
     "data": {
      "text/plain": [
       "'📅 Fechas: a partir de septiembre de 2021🕒 Horarios:-Lunes a jueves y domingos: de 10:00 a 20:00-Viernes y sábados: de 10:00 a 21:00⏳ Duración: 60 minutos aproximadamente👤 Edad: ¡todas las edades! (menores de 14 años acompañados de un adulto y menores de 24 meses gratis)📍 Lugar: Espacio Ibercaja Delicias - Paseo de las Delicias 61 (Madrid)♿ Accesibilidad: accesible para personas con movilidad reducida❓ Puedes consultar las preguntas frecuentes, sus respuestas y las medidas sanitarias aquí'"
      ]
     },
     "metadata": {},
     "execution_count": 7
    }
   ],
   "source": [
    "new_dict[\"Información General\"]"
   ]
  },
  {
   "source": [
    "# Now I have to do all the processing with the iterators to pull the information from \"Información general\".\n",
    "\n",
    "# We'll need an iterator\n",
    "# iterator = new_dict[\"Información General\"]\n",
    "info_names = [\"Información\", \"Información General\"]\n",
    "for name in info_names:\n",
    "    try:\n",
    "        iterator = new_dict[name]\n",
    "        break\n",
    "    except:\n",
    "        pass\n",
    "\n",
    "# We'll need an empty list too, save the subsections\n",
    "general_info_sections = []\n",
    "\n",
    "# Lastly, we'll make use of an icons' list to check whether our text has any emoji in it or not\n",
    "# icons_list = emoji.UNICODE_EMOJI[\"es\"].keys()\n",
    "icons_list = [\"📅\", \"🕒\", \"⏳\", \"👤\", \"📍\", \"⚠️\", \"♿\", \"⌚\", \"❓\", \"🔗\"]\n",
    "\n",
    "# Iterate over all the icons in the list\n",
    "for icon in icons_list:\n",
    "    # If the icon is in the iterator (string)...\n",
    "    if icon in iterator:\n",
    "        # Split iterator using the icon and save it as the new iterator\n",
    "        # Input: string\n",
    "        # Output: list with 2 items\n",
    "        iterator = iterator.split(icon)\n",
    "        # Save the first item in our new list\n",
    "        general_info_sections.append(iterator[0])\n",
    "\n",
    "        # Check if there is still any icon left in the second element of the iterator\n",
    "        if any(icon in iterator[1] for icon in icons_list):\n",
    "            # If so, save it as the new iterator (a string again)\n",
    "            iterator = iterator[1]\n",
    "\n",
    "        # Else, save it in our new list.\n",
    "        # As we don't have more icons in the second element, that means, we don't need to split the iterator anymore, since we already reach the last piece of info we needed\n",
    "        else:\n",
    "            general_info_sections.append(iterator[1])\n",
    "    else:\n",
    "        pass\n",
    "\n",
    "general_info_sections"
   ],
   "cell_type": "code",
   "metadata": {},
   "execution_count": 8,
   "outputs": [
    {
     "output_type": "execute_result",
     "data": {
      "text/plain": [
       "['',\n",
       " ' Fechas: a partir de septiembre de 2021',\n",
       " ' Horarios:-Lunes a jueves y domingos: de 10:00 a 20:00-Viernes y sábados: de 10:00 a 21:00',\n",
       " ' Duración: 60 minutos aproximadamente',\n",
       " ' Edad: ¡todas las edades! (menores de 14 años acompañados de un adulto y menores de 24 meses gratis)',\n",
       " ' Lugar: Espacio Ibercaja Delicias - Paseo de las Delicias 61 (Madrid)',\n",
       " ' Accesibilidad: accesible para personas con movilidad reducida',\n",
       " ' Puedes consultar las preguntas frecuentes, sus respuestas y las medidas sanitarias aquí']"
      ]
     },
     "metadata": {},
     "execution_count": 8
    }
   ]
  },
  {
   "cell_type": "code",
   "execution_count": 9,
   "metadata": {},
   "outputs": [
    {
     "output_type": "execute_result",
     "data": {
      "text/plain": [
       "[' Horarios',\n",
       " '-Lunes a jueves y domingos: de 10:00 a 20:00-Viernes y sábados: de 10:00 a 21:00']"
      ]
     },
     "metadata": {},
     "execution_count": 9
    }
   ],
   "source": [
    "general_info_sections[2].split(\":\", 1)"
   ]
  },
  {
   "cell_type": "code",
   "execution_count": 10,
   "metadata": {},
   "outputs": [
    {
     "output_type": "execute_result",
     "data": {
      "text/plain": [
       "[[' Fechas', ' a partir de septiembre de 2021'],\n",
       " [' Horarios',\n",
       "  '-Lunes a jueves y domingos: de 10:00 a 20:00-Viernes y sábados: de 10:00 a 21:00'],\n",
       " [' Duración', ' 60 minutos aproximadamente'],\n",
       " [' Edad',\n",
       "  ' ¡todas las edades! (menores de 14 años acompañados de un adulto y menores de 24 meses gratis)'],\n",
       " [' Lugar', ' Espacio Ibercaja Delicias - Paseo de las Delicias 61 (Madrid)'],\n",
       " [' Accesibilidad', ' accesible para personas con movilidad reducida'],\n",
       " [' Puedes consultar las preguntas frecuentes, sus respuestas y las medidas sanitarias aquí']]"
      ]
     },
     "metadata": {},
     "execution_count": 10
    }
   ],
   "source": [
    "general_info_sections_2 = []\n",
    "\n",
    "for elem in general_info_sections:\n",
    "    if len(elem) > 1:\n",
    "        general_info_sections_2.append(elem.split(\":\", 1))\n",
    "\n",
    "general_info_sections_2"
   ]
  },
  {
   "cell_type": "code",
   "execution_count": 11,
   "metadata": {},
   "outputs": [
    {
     "output_type": "execute_result",
     "data": {
      "text/plain": [
       "{' Fechas': ' a partir de septiembre de 2021',\n",
       " ' Horarios': '-Lunes a jueves y domingos: de 10:00 a 20:00-Viernes y sábados: de 10:00 a 21:00',\n",
       " ' Duración': ' 60 minutos aproximadamente',\n",
       " ' Edad': ' ¡todas las edades! (menores de 14 años acompañados de un adulto y menores de 24 meses gratis)',\n",
       " ' Lugar': ' Espacio Ibercaja Delicias - Paseo de las Delicias 61 (Madrid)',\n",
       " ' Accesibilidad': ' accesible para personas con movilidad reducida',\n",
       " 1: ' Puedes consultar las preguntas frecuentes, sus respuestas y las medidas sanitarias aquí'}"
      ]
     },
     "metadata": {},
     "execution_count": 11
    }
   ],
   "source": [
    "sections = {}\n",
    "extra = 1\n",
    "\n",
    "for list_ in general_info_sections_2:\n",
    "    if len(list_) > 1:\n",
    "        sections[list_[0]] = list_[1]\n",
    "    else:\n",
    "        sections[extra] = list_[0]\n",
    "        extra += 1\n",
    "\n",
    "sections"
   ]
  },
  {
   "cell_type": "code",
   "execution_count": 12,
   "metadata": {},
   "outputs": [],
   "source": [
    "general_df = pd.DataFrame(new_dict, index = [0])\n",
    "sections_df = pd.DataFrame(sections, index = [0])"
   ]
  },
  {
   "cell_type": "code",
   "execution_count": 13,
   "metadata": {},
   "outputs": [
    {
     "output_type": "execute_result",
     "data": {
      "text/plain": [
       "                                                 1_x  \\\n",
       "0  ⭐ Meet Vincent van Gogh es una experiencia tri...   \n",
       "\n",
       "                                             Tickets  \\\n",
       "0  🎫 Entrada - incluye acceso a la exhibición y a...   \n",
       "\n",
       "                                 Qué vas a disfrutar  \\\n",
       "0  🎨 Descubre una nueva forma de admirar las obra...   \n",
       "\n",
       "                                 Información General  \\\n",
       "0  📅 Fechas: a partir de septiembre de 2021🕒 Hora...   \n",
       "\n",
       "                                         Descripción  \\\n",
       "0  ¿Alguna vez has soñado con adentrarte en una p...   \n",
       "\n",
       "                            Fechas  \\\n",
       "0   a partir de septiembre de 2021   \n",
       "\n",
       "                                            Horarios  \\\n",
       "0  -Lunes a jueves y domingos: de 10:00 a 20:00-V...   \n",
       "\n",
       "                      Duración  \\\n",
       "0   60 minutos aproximadamente   \n",
       "\n",
       "                                                Edad  \\\n",
       "0   ¡todas las edades! (menores de 14 años acompa...   \n",
       "\n",
       "                                               Lugar  \\\n",
       "0   Espacio Ibercaja Delicias - Paseo de las Deli...   \n",
       "\n",
       "                                     Accesibilidad  \\\n",
       "0   accesible para personas con movilidad reducida   \n",
       "\n",
       "                                                 1_y  \n",
       "0   Puedes consultar las preguntas frecuentes, su...  "
      ],
      "text/html": "<div>\n<style scoped>\n    .dataframe tbody tr th:only-of-type {\n        vertical-align: middle;\n    }\n\n    .dataframe tbody tr th {\n        vertical-align: top;\n    }\n\n    .dataframe thead th {\n        text-align: right;\n    }\n</style>\n<table border=\"1\" class=\"dataframe\">\n  <thead>\n    <tr style=\"text-align: right;\">\n      <th></th>\n      <th>1_x</th>\n      <th>Tickets</th>\n      <th>Qué vas a disfrutar</th>\n      <th>Información General</th>\n      <th>Descripción</th>\n      <th>Fechas</th>\n      <th>Horarios</th>\n      <th>Duración</th>\n      <th>Edad</th>\n      <th>Lugar</th>\n      <th>Accesibilidad</th>\n      <th>1_y</th>\n    </tr>\n  </thead>\n  <tbody>\n    <tr>\n      <th>0</th>\n      <td>⭐ Meet Vincent van Gogh es una experiencia tri...</td>\n      <td>🎫 Entrada - incluye acceso a la exhibición y a...</td>\n      <td>🎨 Descubre una nueva forma de admirar las obra...</td>\n      <td>📅 Fechas: a partir de septiembre de 2021🕒 Hora...</td>\n      <td>¿Alguna vez has soñado con adentrarte en una p...</td>\n      <td>a partir de septiembre de 2021</td>\n      <td>-Lunes a jueves y domingos: de 10:00 a 20:00-V...</td>\n      <td>60 minutos aproximadamente</td>\n      <td>¡todas las edades! (menores de 14 años acompa...</td>\n      <td>Espacio Ibercaja Delicias - Paseo de las Deli...</td>\n      <td>accesible para personas con movilidad reducida</td>\n      <td>Puedes consultar las preguntas frecuentes, su...</td>\n    </tr>\n  </tbody>\n</table>\n</div>"
     },
     "metadata": {},
     "execution_count": 13
    }
   ],
   "source": [
    "full_df = pd.merge(general_df, sections_df, how = \"outer\", left_index = True, right_index = True)\n",
    "full_df"
   ]
  },
  {
   "source": [
    "pd.DataFrame([new_dict, new_dict])"
   ],
   "cell_type": "markdown",
   "metadata": {}
  },
  {
   "cell_type": "code",
   "execution_count": null,
   "metadata": {},
   "outputs": [],
   "source": []
  }
 ]
}