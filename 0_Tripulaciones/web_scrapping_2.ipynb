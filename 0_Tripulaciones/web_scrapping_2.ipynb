{
 "metadata": {
  "language_info": {
   "codemirror_mode": {
    "name": "ipython",
    "version": 3
   },
   "file_extension": ".py",
   "mimetype": "text/x-python",
   "name": "python",
   "nbconvert_exporter": "python",
   "pygments_lexer": "ipython3",
   "version": "3.7.4"
  },
  "orig_nbformat": 4,
  "kernelspec": {
   "name": "python3",
   "display_name": "Python 3.7.4 64-bit"
  },
  "interpreter": {
   "hash": "aee8b7b246df8f9039afb4144a1f6fd8d2ca17a180786b69acc140d282b71a49"
  }
 },
 "nbformat": 4,
 "nbformat_minor": 2,
 "cells": [
  {
   "cell_type": "code",
   "execution_count": 1,
   "metadata": {},
   "outputs": [],
   "source": [
    "# Libraries\n",
    "\n",
    "import numpy as np\n",
    "import pandas as pd\n",
    "import re\n",
    "import emoji\n",
    "\n",
    "import requests\n",
    "from bs4 import BeautifulSoup\n",
    "import html\n",
    "import lxml"
   ]
  },
  {
   "cell_type": "code",
   "execution_count": 5,
   "metadata": {},
   "outputs": [],
   "source": [
    "url = \"https://feverup.com/m/100122\"\n",
    "r = requests.get(url)\n",
    "soup = BeautifulSoup(r.text, \"lxml\")\n",
    "event_title = soup.find(class_ = \"plan-hero__title\").text\n",
    "event_descr = soup.find(class_ = \"plan-description mb-32\")\n",
    "event_descr = str(event_descr)"
   ]
  },
  {
   "cell_type": "code",
   "execution_count": 8,
   "metadata": {},
   "outputs": [],
   "source": [
    "event_descr_items = [elem.split(\"</strong>\") for elem in event_descr.split(\"<strong>\")]"
   ]
  },
  {
   "cell_type": "code",
   "execution_count": 12,
   "metadata": {},
   "outputs": [
    {
     "output_type": "execute_result",
     "data": {
      "text/plain": [
       "[1, 2, 2, 2, 2]"
      ]
     },
     "metadata": {},
     "execution_count": 12
    }
   ],
   "source": [
    "[len(elem) for elem in event_descr_items]"
   ]
  },
  {
   "cell_type": "code",
   "execution_count": 16,
   "metadata": {},
   "outputs": [
    {
     "output_type": "execute_result",
     "data": {
      "text/plain": [
       "{1: '<div class=\"plan-description mb-32\" data-cy=\"plan-content-description\">⭐ <b>Meet Vincent van Gogh</b> es una experiencia tridimensional dividida en seis escenarios que permiten adentrarse en la vida de uno de los pintores más famosos de la historia<br/><br/>',\n",
       " 'Tickets': '<br/>🎫 Entrada - incluye acceso a la exhibición y audioguía<ul><li>General adulto (mayores de 18 años)</li><li>Reducida (diversidad funcional, estudiantes, mayores de 65 años y menores de 18, mostrando siempre documentación)</li><li>Pack de 4 entradas (precio reducido)</li><li>Grupos a partir de 10 personas (precio reducido)</li><li>Menores de 2 años (entrada gratuita)</li></ul><br/>',\n",
       " 'Qué vas a disfrutar': '<br/>🎨 Descubre una nueva forma de admirar las obras del genio Vincent van Gogh<br/>👨\\u200d🎨 Sumérgete en las pinturas más conocidas del artista gracias a una experiencia tridimensional<br/>📽️ Disfruta de una experiencia basada en una de las colecciones más importantes de Van Gogh y en una investigación exhaustiva sobre su vida<br/>🖼️ Una experiencia diseñada por el Van Gogh Museum de Ámsterdam<br/>🏴\\u200d☠️ Adéntrate en una estimulante actividad con la \"Búsqueda del tesoro para niños\"<br/><br/>',\n",
       " 'Información General': '<br/>📅 Fechas: a partir de septiembre de 2021<br/>🕒 Horarios:<br/>-Lunes a jueves y domingos: de 10:00 a 20:00<br/>-Viernes y sábados: de 10:00 a 21:00<br/>⏳ Duración: 60 minutos aproximadamente<br/>👤 Edad: ¡todas las edades! (menores de 14 años acompañados de un adulto y menores de 24 meses gratis)<br/>📍 Lugar: Espacio Ibercaja Delicias - Paseo de las Delicias 61 (Madrid)<br/>♿ Accesibilidad: accesible para personas con movilidad reducida<br/>❓ Puedes consultar las preguntas frecuentes, sus respuestas y las medidas sanitarias <a href=\"https://meetvincent.com/madrid/faq\" target=\"_blank\">aquí</a><br/><br/>',\n",
       " 'Descripción': '<br/>¿Alguna vez has soñado con adentrarte en una pintura? Embárcate en un viaje inspirador al incomparable universo de Van Gogh, uno de los grandes genios del arte del siglo XIX. Explora su vida, obras y secretos como nunca antes a través de una experiencia tridimensional que te dejará sin palabras. Sumérgete en esta experiencia vanguardista insuperable creada por los expertos del Museo Van Gogh de Ámsterdam. ¡No te lo vas a querer perder!</div>'}"
      ]
     },
     "metadata": {},
     "execution_count": 16
    }
   ],
   "source": [
    "new_dict = {}\n",
    "no_title_count = 1\n",
    "\n",
    "for elem in event_descr_items:\n",
    "    if len(elem) > 1:\n",
    "        new_dict[elem[0]] = elem[1]\n",
    "    else:\n",
    "        new_dict[no_title_count] = elem[0]\n",
    "\n",
    "new_dict"
   ]
  },
  {
   "cell_type": "code",
   "execution_count": 23,
   "metadata": {},
   "outputs": [
    {
     "output_type": "execute_result",
     "data": {
      "text/plain": [
       "{1: '⭐ Meet Vincent van Gogh es una experiencia tridimensional dividida en seis escenarios que permiten adentrarse en la vida de uno de los pintores más famosos de la historia',\n",
       " 'Tickets': '🎫 Entrada - incluye acceso a la exhibición y audioguíaGeneral adulto (mayores de 18 años)Reducida (diversidad funcional, estudiantes, mayores de 65 años y menores de 18, mostrando siempre documentación)Pack de 4 entradas (precio reducido)Grupos a partir de 10 personas (precio reducido)Menores de 2 años (entrada gratuita)',\n",
       " 'Qué vas a disfrutar': '🎨 Descubre una nueva forma de admirar las obras del genio Vincent van Gogh👨\\u200d🎨 Sumérgete en las pinturas más conocidas del artista gracias a una experiencia tridimensional📽️ Disfruta de una experiencia basada en una de las colecciones más importantes de Van Gogh y en una investigación exhaustiva sobre su vida🖼️ Una experiencia diseñada por el Van Gogh Museum de Ámsterdam🏴\\u200d☠️ Adéntrate en una estimulante actividad con la \"Búsqueda del tesoro para niños\"',\n",
       " 'Información General': '📅 Fechas: a partir de septiembre de 2021🕒 Horarios:-Lunes a jueves y domingos: de 10:00 a 20:00-Viernes y sábados: de 10:00 a 21:00⏳ Duración: 60 minutos aproximadamente👤 Edad: ¡todas las edades! (menores de 14 años acompañados de un adulto y menores de 24 meses gratis)📍 Lugar: Espacio Ibercaja Delicias - Paseo de las Delicias 61 (Madrid)♿ Accesibilidad: accesible para personas con movilidad reducida❓ Puedes consultar las preguntas frecuentes, sus respuestas y las medidas sanitarias aquí',\n",
       " 'Descripción': '¿Alguna vez has soñado con adentrarte en una pintura? Embárcate en un viaje inspirador al incomparable universo de Van Gogh, uno de los grandes genios del arte del siglo XIX. Explora su vida, obras y secretos como nunca antes a través de una experiencia tridimensional que te dejará sin palabras. Sumérgete en esta experiencia vanguardista insuperable creada por los expertos del Museo Van Gogh de Ámsterdam. ¡No te lo vas a querer perder!'}"
      ]
     },
     "metadata": {},
     "execution_count": 23
    }
   ],
   "source": [
    "for key, value in new_dict.items():\n",
    "    new_dict[key] = re.sub(r\"\\<.*?\\>\", \"\", value)\n",
    "\n",
    "new_dict"
   ]
  },
  {
   "source": [
    "# Now I have to do all the processing with the iterators to pull the information from \"Información general\".\n",
    "# Then, I can create the DataFrame"
   ],
   "cell_type": "code",
   "metadata": {},
   "execution_count": null,
   "outputs": []
  },
  {
   "cell_type": "code",
   "execution_count": 30,
   "metadata": {},
   "outputs": [
    {
     "output_type": "execute_result",
     "data": {
      "text/plain": [
       "                                                   1  \\\n",
       "0  ⭐ Meet Vincent van Gogh es una experiencia tri...   \n",
       "1  ⭐ Meet Vincent van Gogh es una experiencia tri...   \n",
       "\n",
       "                                             Tickets  \\\n",
       "0  🎫 Entrada - incluye acceso a la exhibición y a...   \n",
       "1  🎫 Entrada - incluye acceso a la exhibición y a...   \n",
       "\n",
       "                                 Qué vas a disfrutar  \\\n",
       "0  🎨 Descubre una nueva forma de admirar las obra...   \n",
       "1  🎨 Descubre una nueva forma de admirar las obra...   \n",
       "\n",
       "                                 Información General  \\\n",
       "0  📅 Fechas: a partir de septiembre de 2021🕒 Hora...   \n",
       "1  📅 Fechas: a partir de septiembre de 2021🕒 Hora...   \n",
       "\n",
       "                                         Descripción  \n",
       "0  ¿Alguna vez has soñado con adentrarte en una p...  \n",
       "1  ¿Alguna vez has soñado con adentrarte en una p...  "
      ],
      "text/html": "<div>\n<style scoped>\n    .dataframe tbody tr th:only-of-type {\n        vertical-align: middle;\n    }\n\n    .dataframe tbody tr th {\n        vertical-align: top;\n    }\n\n    .dataframe thead th {\n        text-align: right;\n    }\n</style>\n<table border=\"1\" class=\"dataframe\">\n  <thead>\n    <tr style=\"text-align: right;\">\n      <th></th>\n      <th>1</th>\n      <th>Tickets</th>\n      <th>Qué vas a disfrutar</th>\n      <th>Información General</th>\n      <th>Descripción</th>\n    </tr>\n  </thead>\n  <tbody>\n    <tr>\n      <th>0</th>\n      <td>⭐ Meet Vincent van Gogh es una experiencia tri...</td>\n      <td>🎫 Entrada - incluye acceso a la exhibición y a...</td>\n      <td>🎨 Descubre una nueva forma de admirar las obra...</td>\n      <td>📅 Fechas: a partir de septiembre de 2021🕒 Hora...</td>\n      <td>¿Alguna vez has soñado con adentrarte en una p...</td>\n    </tr>\n    <tr>\n      <th>1</th>\n      <td>⭐ Meet Vincent van Gogh es una experiencia tri...</td>\n      <td>🎫 Entrada - incluye acceso a la exhibición y a...</td>\n      <td>🎨 Descubre una nueva forma de admirar las obra...</td>\n      <td>📅 Fechas: a partir de septiembre de 2021🕒 Hora...</td>\n      <td>¿Alguna vez has soñado con adentrarte en una p...</td>\n    </tr>\n  </tbody>\n</table>\n</div>"
     },
     "metadata": {},
     "execution_count": 30
    }
   ],
   "source": [
    "pd.DataFrame([new_dict, new_dict])"
   ]
  },
  {
   "cell_type": "code",
   "execution_count": null,
   "metadata": {},
   "outputs": [],
   "source": []
  }
 ]
}