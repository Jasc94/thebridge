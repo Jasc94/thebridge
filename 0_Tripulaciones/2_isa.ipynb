{
 "cells": [
  {
   "cell_type": "code",
   "execution_count": 1,
   "source": [
    "import requests\r\n",
    "from bs4 import BeautifulSoup\r\n",
    "import pandas as pd"
   ],
   "outputs": [],
   "metadata": {}
  },
  {
   "cell_type": "code",
   "execution_count": 2,
   "source": [
    "url_madrid = \"https://feverup.com\""
   ],
   "outputs": [],
   "metadata": {}
  },
  {
   "cell_type": "code",
   "execution_count": 3,
   "source": [
    "r = requests.get('https://feverup.com/madrid')\r\n",
    "soup = BeautifulSoup(r.text, 'lxml')"
   ],
   "outputs": [],
   "metadata": {}
  },
  {
   "cell_type": "markdown",
   "source": [
    "La pagina tiene 33 categorías, cada una con un diferente numero de elementos\r\n"
   ],
   "metadata": {}
  },
  {
   "cell_type": "code",
   "execution_count": 4,
   "source": [
    "eventos_g = soup.findAll(class_ = \"fv-carousel\")"
   ],
   "outputs": [],
   "metadata": {}
  },
  {
   "cell_type": "code",
   "execution_count": 5,
   "source": [
    "len(eventos_g)"
   ],
   "outputs": [
    {
     "output_type": "execute_result",
     "data": {
      "text/plain": [
       "33"
      ]
     },
     "metadata": {},
     "execution_count": 5
    }
   ],
   "metadata": {}
  },
  {
   "cell_type": "code",
   "execution_count": 6,
   "source": [
    "lista_URLs = []\r\n",
    "for evento in eventos_g:\r\n",
    "    URL_evento = evento.find('a')['href']\r\n",
    "    lista_URLs.append(url_madrid + URL_evento)"
   ],
   "outputs": [],
   "metadata": {}
  },
  {
   "cell_type": "code",
   "execution_count": 7,
   "source": [
    "# Fuera:\n",
    "# -> Mas vendidas\n",
    "# -> Gastronomía\n",
    "\n",
    "# Las que Sí:\n",
    "# -> \n",
    "lista_URLs"
   ],
   "outputs": [
    {
     "output_type": "execute_result",
     "data": {
      "text/plain": [
       "['https://feverup.com/madrid/los-planes-mas-vendidos',\n",
       " 'https://feverup.com/madrid/fever-originals',\n",
       " 'https://feverup.com/madrid/actividades-juegos',\n",
       " 'https://feverup.com/madrid/candlelight',\n",
       " 'https://feverup.com/madrid/gastronomia',\n",
       " 'https://feverup.com/madrid/terrazas-y-rooftops',\n",
       " 'https://feverup.com/madrid/belleza-bienestar',\n",
       " 'https://feverup.com/madrid/cursos-charlas-talleres',\n",
       " 'https://feverup.com/madrid/arte-madrid',\n",
       " 'https://feverup.com/madrid/cultura-arte-moda',\n",
       " 'https://feverup.com/madrid/deportes-aventura',\n",
       " 'https://feverup.com/madrid/bebidas-afterwork',\n",
       " 'https://feverup.com/madrid/cine',\n",
       " 'https://feverup.com/madrid/conciertos-tributo',\n",
       " 'https://feverup.com/madrid/atracciones-tours-viajes',\n",
       " 'https://feverup.com/madrid/conciertos-festivales',\n",
       " 'https://feverup.com/madrid/vida-nocturna-clubs',\n",
       " 'https://feverup.com/madrid/experiencia-alojamiento-mad',\n",
       " 'https://feverup.com/madrid/testscovid19',\n",
       " 'https://feverup.com/madrid/brunch',\n",
       " 'https://feverup.com/madrid/cursos-online',\n",
       " 'https://feverup.com/madrid/planes-aire-libre',\n",
       " 'https://feverup.com/madrid/la-prohibida',\n",
       " 'https://feverup.com/madrid/teatro-comedia-espectaculos',\n",
       " 'https://feverup.com/madrid/autocine',\n",
       " 'https://feverup.com/madrid/aprende-idiomas-desde-casa',\n",
       " 'https://feverup.com/madrid/experiencias-desde-casa',\n",
       " 'https://feverup.com/madrid/vida-silver',\n",
       " 'https://feverup.com/madrid/wegame',\n",
       " 'https://feverup.com/madrid/find-the-dinner',\n",
       " 'https://feverup.com/madrid/gran-teatro',\n",
       " 'https://feverup.com/madrid/fabrik',\n",
       " 'https://feverup.com/madrid/roku-gin']"
      ]
     },
     "metadata": {},
     "execution_count": 7
    }
   ],
   "metadata": {}
  },
  {
   "cell_type": "code",
   "execution_count": 19,
   "source": [
    "r = requests.get(lista_URLs[3])\n",
    "soup = BeautifulSoup(r.text, 'lxml')\n",
    "#eventos_3 = soup.find(class_ =\"fv-masonry__item\")\n",
    "eventos_3 = soup.find(class_ =\"fv-plan-tile\")\n",
    "eventos_3"
   ],
   "outputs": [
    {
     "output_type": "execute_result",
     "data": {
      "text/plain": [
       "<a _ngcontent-sc177=\"\" class=\"fv-plan-tile\" href=\"/m/96831\" queryparamshandling=\"merge\"><img _ngcontent-sc177=\"\" alt=\"#\" class=\"fv-plan-tile__img ng-lazyloaded\" src=\"https://fever.imgix.net/plan/photo/1211c7ea-87fd-11eb-b783-06551cb39bc6.jpg?auto=compress&amp;auto=format&amp;fm=jpg&amp;w=720&amp;h=720\"/><div _ngcontent-sc177=\"\" class=\"fv-plan-tile__overlay\" data-cy=\"plan-tile-card\"><div _ngcontent-sc177=\"\" class=\"fv-plan-tile__info-wrapper\"><span _ngcontent-sc177=\"\" class=\"fv-plan-label\" style=\"color:#ffffff;background-color:#67b8c1;\"> EXCLUSIVO FEVER </span><!-- --><span _ngcontent-sc177=\"\" class=\"fv-plan-label fv-plan-label--danger\"> ¡Tickets volando! </span><!-- --><div _ngcontent-sc177=\"\" class=\"fv-plan-tile__date\" data-cy=\"plan-tile-date\"><fa-icon _ngcontent-sc177=\"\" class=\"ng-fa-icon\"><svg aria-hidden=\"true\" class=\"svg-inline--fa fa-calendar-day fa-w-14\" data-icon=\"calendar-day\" data-prefix=\"fal\" focusable=\"false\" role=\"img\" viewbox=\"0 0 448 512\" xmlns=\"http://www.w3.org/2000/svg\"><path d=\"M400 64h-48V8c0-4.4-3.6-8-8-8h-16c-4.4 0-8 3.6-8 8v56H128V8c0-4.4-3.6-8-8-8h-16c-4.4 0-8 3.6-8 8v56H48C21.5 64 0 85.5 0 112v352c0 26.5 21.5 48 48 48h352c26.5 0 48-21.5 48-48V112c0-26.5-21.5-48-48-48zm16 400c0 8.8-7.2 16-16 16H48c-8.8 0-16-7.2-16-16V192h384v272zm0-304H32v-48c0-8.8 7.2-16 16-16h352c8.8 0 16 7.2 16 16v48zM112 384h96c8.8 0 16-7.2 16-16v-96c0-8.8-7.2-16-16-16h-96c-8.8 0-16 7.2-16 16v96c0 8.8 7.2 16 16 16zm16-96h64v64h-64v-64z\" fill=\"currentColor\"></path></svg></fa-icon> sáb. 07 ago. </div><!-- --><h2 _ngcontent-sc177=\"\" class=\"fv-plan-tile__title\" data-cy=\"plan-title\">Candlelight Open Air: Bandas Sonoras Mágicas</h2><div _ngcontent-sc177=\"\" class=\"fv-plan-tile__info row\"><div _ngcontent-sc177=\"\" class=\"cell auto\"><appplanreviewstars _ngcontent-sc177=\"\"><div class=\"fv-rating-plan\"><div class=\"fv-rating-plan__stars fv-rating-plan__stars--color\"><fa-icon class=\"ng-fa-icon\"><svg aria-hidden=\"true\" class=\"svg-inline--fa fa-star fa-w-18\" data-icon=\"star\" data-prefix=\"fas\" focusable=\"false\" role=\"img\" viewbox=\"0 0 576 512\" xmlns=\"http://www.w3.org/2000/svg\"><path d=\"M259.3 17.8L194 150.2 47.9 171.5c-26.2 3.8-36.7 36.1-17.7 54.6l105.7 103-25 145.5c-4.5 26.3 23.2 46 46.4 33.7L288 439.6l130.7 68.7c23.2 12.2 50.9-7.4 46.4-33.7l-25-145.5 105.7-103c19-18.5 8.5-50.8-17.7-54.6L382 150.2 316.7 17.8c-11.7-23.6-45.6-23.9-57.4 0z\" fill=\"currentColor\"></path></svg></fa-icon><fa-icon class=\"ng-fa-icon\"><svg aria-hidden=\"true\" class=\"svg-inline--fa fa-star fa-w-18\" data-icon=\"star\" data-prefix=\"fas\" focusable=\"false\" role=\"img\" viewbox=\"0 0 576 512\" xmlns=\"http://www.w3.org/2000/svg\"><path d=\"M259.3 17.8L194 150.2 47.9 171.5c-26.2 3.8-36.7 36.1-17.7 54.6l105.7 103-25 145.5c-4.5 26.3 23.2 46 46.4 33.7L288 439.6l130.7 68.7c23.2 12.2 50.9-7.4 46.4-33.7l-25-145.5 105.7-103c19-18.5 8.5-50.8-17.7-54.6L382 150.2 316.7 17.8c-11.7-23.6-45.6-23.9-57.4 0z\" fill=\"currentColor\"></path></svg></fa-icon><fa-icon class=\"ng-fa-icon\"><svg aria-hidden=\"true\" class=\"svg-inline--fa fa-star fa-w-18\" data-icon=\"star\" data-prefix=\"fas\" focusable=\"false\" role=\"img\" viewbox=\"0 0 576 512\" xmlns=\"http://www.w3.org/2000/svg\"><path d=\"M259.3 17.8L194 150.2 47.9 171.5c-26.2 3.8-36.7 36.1-17.7 54.6l105.7 103-25 145.5c-4.5 26.3 23.2 46 46.4 33.7L288 439.6l130.7 68.7c23.2 12.2 50.9-7.4 46.4-33.7l-25-145.5 105.7-103c19-18.5 8.5-50.8-17.7-54.6L382 150.2 316.7 17.8c-11.7-23.6-45.6-23.9-57.4 0z\" fill=\"currentColor\"></path></svg></fa-icon><fa-icon class=\"ng-fa-icon\"><svg aria-hidden=\"true\" class=\"svg-inline--fa fa-star fa-w-18\" data-icon=\"star\" data-prefix=\"fas\" focusable=\"false\" role=\"img\" viewbox=\"0 0 576 512\" xmlns=\"http://www.w3.org/2000/svg\"><path d=\"M259.3 17.8L194 150.2 47.9 171.5c-26.2 3.8-36.7 36.1-17.7 54.6l105.7 103-25 145.5c-4.5 26.3 23.2 46 46.4 33.7L288 439.6l130.7 68.7c23.2 12.2 50.9-7.4 46.4-33.7l-25-145.5 105.7-103c19-18.5 8.5-50.8-17.7-54.6L382 150.2 316.7 17.8c-11.7-23.6-45.6-23.9-57.4 0z\" fill=\"currentColor\"></path></svg></fa-icon><fa-icon class=\"ng-fa-icon\"><svg aria-hidden=\"true\" class=\"svg-inline--fa fa-star-half-alt fa-w-17\" data-icon=\"star-half-alt\" data-prefix=\"fas\" focusable=\"false\" role=\"img\" viewbox=\"0 0 536 512\" xmlns=\"http://www.w3.org/2000/svg\"><path d=\"M508.55 171.51L362.18 150.2 296.77 17.81C290.89 5.98 279.42 0 267.95 0c-11.4 0-22.79 5.9-28.69 17.81l-65.43 132.38-146.38 21.29c-26.25 3.8-36.77 36.09-17.74 54.59l105.89 103-25.06 145.48C86.98 495.33 103.57 512 122.15 512c4.93 0 10-1.17 14.87-3.75l130.95-68.68 130.94 68.7c4.86 2.55 9.92 3.71 14.83 3.71 18.6 0 35.22-16.61 31.66-37.4l-25.03-145.49 105.91-102.98c19.04-18.5 8.52-50.8-17.73-54.6zm-121.74 123.2l-18.12 17.62 4.28 24.88 19.52 113.45-102.13-53.59-22.38-11.74.03-317.19 51.03 103.29 11.18 22.63 25.01 3.64 114.23 16.63-82.65 80.38z\" fill=\"currentColor\"></path></svg></fa-icon><!-- --></div><div class=\"fv-rating-plan__num\">(220)</div><!-- --></div><!-- --><!-- --></appplanreviewstars><!-- --><!-- --><div _ngcontent-sc177=\"\" class=\"fv-plan-tile__place\" data-cy=\"plan-tile-place\"><fa-icon _ngcontent-sc177=\"\" class=\"ng-fa-icon\"><svg aria-hidden=\"true\" class=\"svg-inline--fa fa-map-marker-alt fa-w-12\" data-icon=\"map-marker-alt\" data-prefix=\"fal\" focusable=\"false\" role=\"img\" viewbox=\"0 0 384 512\" xmlns=\"http://www.w3.org/2000/svg\"><path d=\"M192 96c-52.935 0-96 43.065-96 96s43.065 96 96 96 96-43.065 96-96-43.065-96-96-96zm0 160c-35.29 0-64-28.71-64-64s28.71-64 64-64 64 28.71 64 64-28.71 64-64 64zm0-256C85.961 0 0 85.961 0 192c0 77.413 26.97 99.031 172.268 309.67 9.534 13.772 29.929 13.774 39.465 0C357.03 291.031 384 269.413 384 192 384 85.961 298.039 0 192 0zm0 473.931C52.705 272.488 32 256.494 32 192c0-42.738 16.643-82.917 46.863-113.137S149.262 32 192 32s82.917 16.643 113.137 46.863S352 149.262 352 192c0 64.49-20.692 80.47-160 281.931z\" fill=\"currentColor\"></path></svg></fa-icon> Teatro Goya </div></div><app-plan-price _ngcontent-sc177=\"\" class=\"fv-plan-tile__price cell shrink\" data-cy=\"plan-tile-price\" direction=\"col\"><div class=\"plan-price plan-price--vertical\"><!-- --><!-- --><span class=\"plan-price__text\">Desde </span><span class=\"plan-price__amount\">15,00 €</span><!-- --><!-- --></div></app-plan-price><!-- --></div></div></div><!-- --></a>"
      ]
     },
     "metadata": {},
     "execution_count": 19
    }
   ],
   "metadata": {}
  },
  {
   "cell_type": "code",
   "execution_count": 17,
   "source": [
    "len(eventos_3)"
   ],
   "outputs": [
    {
     "output_type": "execute_result",
     "data": {
      "text/plain": [
       "10"
      ]
     },
     "metadata": {},
     "execution_count": 17
    }
   ],
   "metadata": {}
  },
  {
   "cell_type": "code",
   "execution_count": null,
   "metadata": {},
   "outputs": [],
   "source": []
  }
 ],
 "metadata": {
  "orig_nbformat": 4,
  "language_info": {
   "name": "python",
   "version": "3.7.4"
  },
  "kernelspec": {
   "name": "python3",
   "display_name": "Python 3.7.4 64-bit"
  },
  "interpreter": {
   "hash": "aee8b7b246df8f9039afb4144a1f6fd8d2ca17a180786b69acc140d282b71a49"
  }
 },
 "nbformat": 4,
 "nbformat_minor": 2
}