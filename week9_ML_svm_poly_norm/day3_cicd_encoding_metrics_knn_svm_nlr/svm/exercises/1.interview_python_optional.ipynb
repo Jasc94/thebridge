{
 "metadata": {
  "language_info": {
   "codemirror_mode": {
    "name": "ipython",
    "version": 3
   },
   "file_extension": ".py",
   "mimetype": "text/x-python",
   "name": "python",
   "nbconvert_exporter": "python",
   "pygments_lexer": "ipython3",
   "version": "3.7.4"
  },
  "orig_nbformat": 2,
  "kernelspec": {
   "name": "python3",
   "display_name": "Python 3.7.4 64-bit"
  },
  "interpreter": {
   "hash": "aee8b7b246df8f9039afb4144a1f6fd8d2ca17a180786b69acc140d282b71a49"
  }
 },
 "nbformat": 4,
 "nbformat_minor": 2,
 "cells": [
  {
   "cell_type": "markdown",
   "metadata": {},
   "source": [
    "Here's your coding interview problem for today.\n",
    "\n",
    "This problem was asked by Facebook.\n",
    "\n",
    "Given a string of round, curly, and square open and closing brackets, return whether the brackets are balanced (well-formed).\n",
    "\n",
    "For example, given the string \"([])[]({})\", you should return true.\n",
    "\n",
    "{}\n",
    "\n",
    "Given the string \"([)]\" or \"((()\", you should return false.\n",
    "\n",
    "\"()[]{}\", True"
   ]
  },
  {
   "source": [
    "- This case is not correct: \n",
    "\n",
    "\"({)}\""
   ],
   "cell_type": "markdown",
   "metadata": {}
  },
  {
   "cell_type": "code",
   "execution_count": 105,
   "metadata": {},
   "outputs": [],
   "source": [
    "def same_amount(string):\n",
    "    cond1 = string.count(\"(\") == string.count(\")\")\n",
    "    cond2 = string.count(\"[\") == string.count(\"]\")\n",
    "    cond3 = string.count(\"{\") == string.count(\"}\")\n",
    "    return all([cond1, cond2, cond3])"
   ]
  },
  {
   "cell_type": "code",
   "execution_count": 139,
   "metadata": {},
   "outputs": [],
   "source": [
    "def reverse_match(string):\n",
    "    cond = \"([{\"\n",
    "\n",
    "    for ind, x in enumerate(string):\n",
    "        if x == \")\" and \"(\" not in string[:ind + 1]: return False\n",
    "        elif x == \"]\" and \"[\" not in string[:ind + 1]: return False\n",
    "        elif x == \"}\" and \"{\" not in string[:ind + 1]: return False\n",
    "\n",
    "    return True"
   ]
  },
  {
   "cell_type": "code",
   "execution_count": 138,
   "metadata": {},
   "outputs": [],
   "source": [
    "def same_direction(string):\n",
    "    cond = []\n",
    "    \n",
    "    for ind, x in enumerate(string[:-1]):\n",
    "\n",
    "        gen_cond = \"([{\"\n",
    "        gen_close = \")]}\"\n",
    "        cond1 = \")\" + gen_cond\n",
    "        cond2 = \"]\" + gen_cond\n",
    "        cond3 = \"}\" + gen_cond\n",
    "\n",
    "        if x == \"(\": cond.append(string[ind + 1] in cond1)\n",
    "        elif x == \"[\": cond.append(string[ind + 1] in cond2)\n",
    "        elif x == \"{\": cond.append(string[ind + 1] in cond3)\n",
    "        elif x in gen_close: cond.append(True)\n",
    "        else: cond.append(False)\n",
    "\n",
    "    return all(cond)"
   ]
  },
  {
   "cell_type": "code",
   "execution_count": 140,
   "metadata": {},
   "outputs": [],
   "source": [
    "def checker(string):\n",
    "    if same_amount(string):\n",
    "        if reverse_match(string):\n",
    "            if same_direction(string):\n",
    "                return True\n",
    "\n",
    "    return False"
   ]
  },
  {
   "cell_type": "code",
   "execution_count": 144,
   "metadata": {},
   "outputs": [
    {
     "output_type": "stream",
     "name": "stdout",
     "text": [
      "True\nFalse\nFalse\nTrue\nTrue\nTrue\nFalse\nFalse\n"
     ]
    }
   ],
   "source": [
    "tests = [\"()()[]\", \"(])\", \"[)(]\", \"([{}])\", \"()[]\", \"{}[]\", \"[}{]\", \"}[{]\"]\n",
    "\n",
    "for test in tests: print(checker(test))"
   ]
  }
 ]
}