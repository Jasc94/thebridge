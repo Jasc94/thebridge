{
 "cells": [
  {
   "cell_type": "markdown",
   "metadata": {},
   "source": [
    "## 🐍 Ramp-up\n",
    "\n",
    "Note: The bold words are instructions for you to know how to solve the exercises below that word. For example, if it says **for loop** you should use at least a for loop in order to solve the exercise. "
   ]
  },
  {
   "cell_type": "markdown",
   "metadata": {},
   "source": [
    "#### Collections\n",
    "1. Create a tuple as follows (10,2,27,8)\n",
    "2. Get the lenght of the tuple\n",
    "3. Which type is it? And which type are the elements the tuple contains?\n",
    "4. Create a new tuple with any other 4 strings and concatenate all of them with the tuple you created before by position, creating a list called `words`.\n",
    "5. Make a list with the same elements in question 1. Find the element 27 and make it 37.\n",
    "6. Remove the number 8 from the list.\n",
    "7. Turn the list you made before into a set.\n",
    "8. Check if the element \"3\" is in that set.\n",
    "9. Sort the list you made in exercise 4 in descending order.\n",
    "10. Turn the list `words` into a dictionary. Split every string taking the number in the tuple (10,2,27,8) as the values and the rest as the keys.\n",
    "11. Sum up the values of the new dictionary.\n",
    "12. Sort the values of the dictionary in descending order and the keys in ascending order, then make a list of tuples with every couple of keys and values by position."
   ]
  },
  {
   "cell_type": "code",
   "execution_count": 17,
   "metadata": {},
   "outputs": [
    {
     "output_type": "stream",
     "name": "stdout",
     "text": [
      "4\n<class 'tuple'>\n<class 'int'>\n<class 'int'>\n<class 'int'>\n<class 'int'>\n"
     ]
    }
   ],
   "source": [
    "# 1)\n",
    "t = (10, 2, 27, 8)\n",
    "\n",
    "# 2)\n",
    "print(len(t))\n",
    "\n",
    "# 3)\n",
    "print(type(t))\n",
    "\n",
    "for i in t:\n",
    "    print(type(i))"
   ]
  },
  {
   "cell_type": "code",
   "execution_count": 19,
   "metadata": {},
   "outputs": [
    {
     "output_type": "execute_result",
     "data": {
      "text/plain": [
       "['string110', 'string22', 'string327', 'string48']"
      ]
     },
     "metadata": {},
     "execution_count": 19
    }
   ],
   "source": [
    "# 4)\n",
    "t2 = ('string1', 'string2', 'string3', 'string4')\n",
    "words = []\n",
    "\n",
    "for i in range(len(t)):\n",
    "    words.append(t2[i] + str(t[i]))\n",
    "\n",
    "words"
   ]
  },
  {
   "cell_type": "code",
   "execution_count": 20,
   "metadata": {},
   "outputs": [
    {
     "output_type": "stream",
     "name": "stdout",
     "text": [
      "False\n"
     ]
    }
   ],
   "source": [
    "# 5)\n",
    "l = list(t)\n",
    "l[2] = l[2] + 10\n",
    "\n",
    "# 6)\n",
    "l.pop()\n",
    "\n",
    "# 7)\n",
    "l = set(l)\n",
    "\n",
    "# 8)\n",
    "print(3 in l)"
   ]
  },
  {
   "cell_type": "code",
   "execution_count": 64,
   "metadata": {},
   "outputs": [
    {
     "output_type": "execute_result",
     "data": {
      "text/plain": [
       "['string48', 'string327', 'string22', 'string110']"
      ]
     },
     "metadata": {},
     "execution_count": 64
    }
   ],
   "source": [
    "# 9)\n",
    "\n",
    "words.sort(reverse = True)\n",
    "words"
   ]
  },
  {
   "cell_type": "code",
   "execution_count": 53,
   "metadata": {},
   "outputs": [
    {
     "output_type": "execute_result",
     "data": {
      "text/plain": [
       "{'string48': 10, 'string327': 2, 'string22': 27, 'string110': 8}"
      ]
     },
     "metadata": {},
     "execution_count": 53
    }
   ],
   "source": [
    "# 10)\n",
    "d = dict(zip(words, t))\n",
    "d"
   ]
  },
  {
   "cell_type": "code",
   "execution_count": 30,
   "metadata": {},
   "outputs": [
    {
     "output_type": "stream",
     "name": "stdout",
     "text": [
      "sum of dict values: 47\n"
     ]
    }
   ],
   "source": [
    "# 11)\n",
    "from functools import reduce\n",
    "\n",
    "d_values = [x for x in d.values()]\n",
    "sum = reduce(lambda a, b: a + b, d_values)\n",
    "print('sum of dict values:', sum)"
   ]
  },
  {
   "cell_type": "code",
   "execution_count": 41,
   "metadata": {},
   "outputs": [
    {
     "output_type": "execute_result",
     "data": {
      "text/plain": [
       "[('string110', 27), ('string22', 10), ('string327', 8), ('string48', 2)]"
      ]
     },
     "metadata": {},
     "execution_count": 41
    }
   ],
   "source": [
    "# 12)\n",
    "d_val = list(d.values())\n",
    "d_keys = list(d.keys())\n",
    "\n",
    "d_val.sort(reverse = True)\n",
    "d_keys.sort()\n",
    "\n",
    "list_of_tuples = [(d_keys[i], d_val[i]) for i in range(len(d_val))]\n",
    "list_of_tuples"
   ]
  },
  {
   "cell_type": "markdown",
   "metadata": {},
   "source": [
    "#### Dictionaries\n",
    "\n",
    "1. Make a dictionary containing three major rivers and the country each river runs through. One key-value pair might be 'nile': 'egypt'.\n",
    "\n",
    "    - Use a loop to print a sentence about each river, such as The Nile runs through Egypt.\n",
    "    - Use a loop to print the name of each river included in the dictionary.\n",
    "    - Use a loop to print the name of each country included in the dictionary."
   ]
  },
  {
   "cell_type": "code",
   "execution_count": 44,
   "metadata": {},
   "outputs": [
    {
     "output_type": "stream",
     "name": "stdout",
     "text": [
      "The Nile runs through Egypt\nCountry: Egypt\nRiver: Nile\n-----\nThe Ebro runs through Spain\nCountry: Spain\nRiver: Ebro\n-----\nThe Missisipi River runs through USA\nCountry: USA\nRiver: Missisipi River\n-----\n"
     ]
    }
   ],
   "source": [
    "rivers = ['Nile', 'Ebro', 'Missisipi River']\n",
    "countries = ['Egypt', 'Spain', 'USA']\n",
    "\n",
    "d2 = dict(zip(countries, rivers))\n",
    "\n",
    "for k, v in d2.items():\n",
    "    print('The {} runs through {}'.format(v, k))\n",
    "    print('Country:', k)\n",
    "    print('River:', v)\n",
    "    print('-----')"
   ]
  },
  {
   "cell_type": "markdown",
   "metadata": {},
   "source": [
    "2. Use the provided dictionary that shows some coders and their favoites languages.\n",
    "```Python\n",
    "favorite_languages = {\n",
    "    'jen': 'python',\n",
    "    'sarah': 'c',\n",
    "    'edward': 'ruby',\n",
    "    'phil': 'python',\n",
    "    }\n",
    "```\n",
    "\n",
    "    - Make a list of people who should take the favorite languages poll. Include some names that are already in the dictionary and some that are not.\n",
    "    - Loop through the list of people who should take the poll. If they have already taken the poll, print a message thanking them for responding. If they have not yet taken the poll, print a message inviting them to take the poll."
   ]
  },
  {
   "cell_type": "code",
   "execution_count": 48,
   "metadata": {},
   "outputs": [
    {
     "output_type": "stream",
     "name": "stdout",
     "text": [
      "jen : Thanks for participating\nsarah : Thanks for participating\nedward : Thanks for participating\nphil : Thanks for participating\nstudent0 : Would you like to join our amazing poll?\nstudent1 : Would you like to join our amazing poll?\nstudent2 : Would you like to join our amazing poll?\n"
     ]
    }
   ],
   "source": [
    "favorite_languages = {'jen': 'python', 'sarah': 'c', 'edward': 'ruby', 'phil': 'python'}\n",
    "\n",
    "poll_participants = [x for x in favorite_languages.keys()]\n",
    "\n",
    "for i in range(3):\n",
    "    poll_participants.append('student' + str(i))\n",
    "\n",
    "for i in poll_participants:\n",
    "    if i in favorite_languages.keys():\n",
    "        print(i, ': Thanks for participating')\n",
    "    else:\n",
    "        print(i, ': Would you like to join our amazing poll?')"
   ]
  },
  {
   "cell_type": "markdown",
   "metadata": {},
   "source": [
    "3. Make a dictionary called cities. Use the names of three cities as keys in your dictionary. Create a dictionary of information about each city and include the country that the city is in, its approximate population, and one fact about that city. The keys for each city’s dictionary should be something like country, population, and fact. Print the name of each city and all of the information you have stored about it.\n",
    "\n",
    "```python\n",
    "cities = {\"city1\":{\"country\": \"bla\"}}\n",
    "```\n",
    "\n",
    "\n"
   ]
  },
  {
   "cell_type": "code",
   "execution_count": 116,
   "metadata": {},
   "outputs": [
    {
     "output_type": "stream",
     "name": "stdout",
     "text": [
      "Berlin\ncountry Germany\npopulation 4000000\nfun fact Fun fact 1\n--------\nMadrid\ncountry Spain\npopulation 3000000\nfun fact Fun fact 2\n--------\nNew York\ncountry USA\npopulation 15000000\nfun fact Fun fact 3\n--------\n"
     ]
    }
   ],
   "source": [
    "cities = {'Berlin' : {'country' : 'Germany', 'population' : 4000000, 'fun fact' : 'Fun fact 1'}, 'Madrid' : {'country' : 'Spain', 'population' : 3000000, 'fun fact' : 'Fun fact 2'}, 'New York' : {'country' : 'USA', 'population' : 15000000, 'fun fact' : 'Fun fact 3'}}\n",
    "cities\n",
    "\n",
    "for k, v in cities.items():\n",
    "    print(k)\n",
    "    for k2, v2 in v.items():\n",
    "        print(k2, v2)\n",
    "    print('--------')"
   ]
  },
  {
   "cell_type": "markdown",
   "metadata": {},
   "source": [
    "**for loop**\n",
    "1. This is a fruit list, ['banana', 'orange', 'mango', 'lemon'] reverse the order using a for loop.\n"
   ]
  },
  {
   "cell_type": "code",
   "execution_count": 52,
   "metadata": {},
   "outputs": [
    {
     "output_type": "execute_result",
     "data": {
      "text/plain": [
       "['lemon', 'mango', 'orange', 'banana']"
      ]
     },
     "metadata": {},
     "execution_count": 52
    }
   ],
   "source": [
    "fruit_list = ['banana', 'orange', 'mango', 'lemon']\n",
    "fruit_list_2 = []\n",
    "\n",
    "for i in range(len(fruit_list)):\n",
    "    fruit_list_2.append(fruit_list[(len(fruit_list) - 1) - i])\n",
    "\n",
    "fruit_list_2"
   ]
  },
  {
   "cell_type": "markdown",
   "metadata": {},
   "source": [
    "2. Write a Python program to create the multiplication table (from 1 to 10) of a number.\n",
    "```python\n",
    "Input a number: 5                                                                                             \n",
    "5 x 1 = 5                                                                                                     \n",
    "5 x 2 = 10                                                                                                    \n",
    "5 x 3 = 15                                                                                                    \n",
    "5 x 4 = 20                                                                                                    \n",
    "5 x 5 = 25                                                                                                    \n",
    "5 x 6 = 30                                                                                                    \n",
    "5 x 7 = 35                                                                                                    \n",
    "5 x 8 = 40                                                                                                    \n",
    "5 x 9 = 45                                                                                                    \n",
    "5 x 10 = 50\n",
    "```"
   ]
  },
  {
   "cell_type": "code",
   "execution_count": 56,
   "metadata": {},
   "outputs": [
    {
     "output_type": "stream",
     "name": "stdout",
     "text": [
      "Input a number: 6\n6 x 0 = 0\n6 x 1 = 6\n6 x 2 = 12\n6 x 3 = 18\n6 x 4 = 24\n6 x 5 = 30\n6 x 6 = 36\n6 x 7 = 42\n6 x 8 = 48\n6 x 9 = 54\n6 x 10 = 60\n"
     ]
    }
   ],
   "source": [
    "num = 0\n",
    "user_num = int(input('Enter the number you want the multiplication table for: '))\n",
    "print('Input a number: {}'.format(user_num))\n",
    "\n",
    "while num < 11:\n",
    "    print('{} x {} = {}'.format(user_num, num, user_num * num))\n",
    "    num += 1"
   ]
  },
  {
   "cell_type": "markdown",
   "metadata": {},
   "source": [
    "3. Write a Python program which iterates the integers from 1 to 50. For multiples of three print \"Fizz\" instead of the number and for the multiples of five print \"Buzz\". For numbers which are multiples of both three and five print \"FizzBuzz\".\n",
    "```python\n",
    "Sample Output :\n",
    "fizzbuzz\n",
    "1\n",
    "2\n",
    "fizz\n",
    "4\n",
    "buzz\n",
    "```"
   ]
  },
  {
   "cell_type": "code",
   "execution_count": 59,
   "metadata": {
    "tags": []
   },
   "outputs": [
    {
     "output_type": "stream",
     "name": "stdout",
     "text": [
      "1\n2\nFizz\n4\nBuzz\nFizz\n7\n8\nFizz\nBuzz\n11\nFizz\n13\n14\nFizz\n16\n17\nFizz\n19\nBuzz\nFizz\n22\n23\nFizz\nBuzz\n26\nFizz\n28\n29\nFizz\n31\n32\nFizz\n34\nBuzz\nFizz\n37\n38\nFizz\nBuzz\n41\nFizz\n43\n44\nFizz\n46\n47\nFizz\n49\n50\n"
     ]
    }
   ],
   "source": [
    "multipleOf3 = list(range(0, 50, 3))\n",
    "multipleOf5 = list(range(0, 50, 5))\n",
    "\n",
    "i = 1\n",
    "while i < 51:\n",
    "    if i in multipleOf3:\n",
    "        print('Fizz')\n",
    "    elif i in multipleOf5:\n",
    "        print('Buzz')\n",
    "    elif i in multipleOf3 and i in multipleOf5:\n",
    "        print('FizzBuzz')\n",
    "    else:\n",
    "        print(i)\n",
    "    i += 1"
   ]
  },
  {
   "cell_type": "markdown",
   "metadata": {},
   "source": [
    "**functions**\n",
    "\n",
    "1. Write a Python function to check whether a string is a pangram or not. \n",
    "\n",
    "Note : Pangrams are words or sentences containing every letter of the alphabet at least once.\n",
    "    \n",
    "For example : `\"The quick brown fox jumps over the lazy dog\"`"
   ]
  },
  {
   "cell_type": "code",
   "execution_count": 63,
   "metadata": {},
   "outputs": [
    {
     "output_type": "execute_result",
     "data": {
      "text/plain": [
       "True"
      ]
     },
     "metadata": {},
     "execution_count": 63
    }
   ],
   "source": [
    "def string_check(s, pangram):\n",
    "    return s in pangram\n",
    "\n",
    "s = 'Th'\n",
    "pangram = 'The quick brown fox jumps over the lazy dog'\n",
    "string_check(s, pangram)"
   ]
  },
  {
   "cell_type": "markdown",
   "metadata": {},
   "source": [
    "2. Write a Python program to count the number of even and odd numbers from a series of numbers. \n",
    "\n",
    "```python\n",
    "Sample numbers: numbers = (1, 2, 3, 4, 5, 6, 7, 8, 9) \n",
    "    \n",
    "Expected Output:\n",
    "Number of even numbers: 5\n",
    "Number of odd numbers: 4\n",
    "```"
   ]
  },
  {
   "cell_type": "code",
   "execution_count": 67,
   "metadata": {},
   "outputs": [
    {
     "output_type": "stream",
     "name": "stdout",
     "text": [
      "Number of even numbers:  4 \n Number of odd numbers:  5\n"
     ]
    }
   ],
   "source": [
    "def even_and_odds(numbers):\n",
    "    even_numbers = []\n",
    "    odd_numbers = []\n",
    "\n",
    "    for i in numbers:\n",
    "        if i % 2 == 0:\n",
    "            even_numbers.append(i)\n",
    "        else:\n",
    "            odd_numbers.append(i)\n",
    "\n",
    "    print('Number of even numbers: ', len(even_numbers), '\\n', 'Number of odd numbers: ', len(odd_numbers))\n",
    "\n",
    "numbers = (1, 2, 3, 4, 5, 6, 7, 8, 9)\n",
    "even_and_odds(numbers)"
   ]
  },
  {
   "cell_type": "markdown",
   "metadata": {},
   "source": [
    "#### functions & while loop\n",
    "1. Write a program which keeps asking for numbers till the user writes 9999. In that case, the program returns the concatenation of every number as a string.\n"
   ]
  },
  {
   "cell_type": "code",
   "execution_count": 76,
   "metadata": {},
   "outputs": [
    {
     "output_type": "stream",
     "name": "stdout",
     "text": [
      "Wrong. The number is bigger\n",
      "--------\n",
      "Wrong. The number is smaller\n",
      "--------\n",
      "You guessed it\n",
      "--------\n",
      "You guessed the number after 2 tries \n",
      " [15, 999999]\n"
     ]
    }
   ],
   "source": [
    "keep_asking = True\n",
    "wrong_guesses = []\n",
    "\n",
    "while keep_asking:\n",
    "    num = int(input('Guess the number: '))\n",
    "\n",
    "    if num == 9999:\n",
    "        keep_asking = False\n",
    "        print('You guessed it')\n",
    "    elif num > 9999:\n",
    "        print('Wrong. The number is smaller')\n",
    "        wrong_guesses.append(num)\n",
    "    else:\n",
    "        print('Wrong. The number is bigger')\n",
    "        wrong_guesses.append(num)\n",
    "    print('--------')\n",
    "\n",
    "print('You guessed the number after {} tries'.format(len(wrong_guesses)), '\\n', wrong_guesses)"
   ]
  },
  {
   "cell_type": "markdown",
   "metadata": {},
   "source": [
    "2. Writes a function that asks a user for a pin code till they get it right... If they give a wrong answer three times the function returns \"Your bank account has been blocked\", otherwise, returns: \"You got it right! You get full access to your money\".\n"
   ]
  },
  {
   "cell_type": "code",
   "execution_count": 85,
   "metadata": {},
   "outputs": [],
   "source": [
    "def check_pin():    \n",
    "    tries = 3\n",
    "    pin = '1234'\n",
    "\n",
    "    while tries > 0:\n",
    "        pin_entered = input('Enter your pin code: ')\n",
    "\n",
    "        if pin_entered == pin:\n",
    "            print('You got it right! Here is your money')\n",
    "            break\n",
    "        else: \n",
    "            tries -= 1\n",
    "            print('Wrong pin number')\n",
    "\n",
    "    if tries == 0:\n",
    "        print('Your account has been blocked')"
   ]
  },
  {
   "cell_type": "code",
   "execution_count": 86,
   "metadata": {},
   "outputs": [
    {
     "output_type": "stream",
     "name": "stdout",
     "text": [
      "You got it right! Here is your money\n"
     ]
    }
   ],
   "source": [
    "check_pin()"
   ]
  },
  {
   "cell_type": "markdown",
   "metadata": {},
   "source": [
    "#### functions & for loop\n",
    "\n",
    "1. Write a function that takes in a person's name, and prints out a greeting.\n",
    "    - The greeting must be at least three lines, and the person's name must be in each line.\n",
    "    - Use your function to greet at least three different people.\n",
    "    - Store your three people in a list, and call your function from a for loop."
   ]
  },
  {
   "cell_type": "code",
   "execution_count": 90,
   "metadata": {},
   "outputs": [
    {
     "output_type": "stream",
     "name": "stdout",
     "text": [
      "Hi name1\nWhatsUp name1\neyy name1\n\n-------\nHi name2\nWhatsUp name2\neyy name2\n\n-------\nHi name3\nWhatsUp name3\neyy name3\n\n-------\n"
     ]
    }
   ],
   "source": [
    "def greeting(name):\n",
    "    print('Hi {}'.format(name))\n",
    "    print('WhatsUp {}'.format(name))\n",
    "    print('eyy {}'.format(name))\n",
    "    return ''\n",
    "\n",
    "names = ['name1', 'name2', 'name3']\n",
    "for i in names:\n",
    "    print(greeting(i))\n",
    "    print('-------')"
   ]
  },
  {
   "cell_type": "markdown",
   "metadata": {},
   "source": [
    "2. Make a list that includes 3 or 4 games that you like to play and print a statement that tells the user what games you like.\n",
    "    - Write a function that asks the user to tell you a game they like, and store the game in a variable such as `new_game`. \n",
    "    - If the user mentions one game you like to play, send a message asking to play together.\n",
    "    - Otherwise ask for another game name. If the user tries your program 3 times and doesn't give a game name you like, then ask them to find another friend."
   ]
  },
  {
   "cell_type": "code",
   "execution_count": 95,
   "metadata": {},
   "outputs": [
    {
     "output_type": "stream",
     "name": "stdout",
     "text": [
      "Find yourself a new friend\n"
     ]
    }
   ],
   "source": [
    "games = ['game' + str(x + 1) for x in range(4)]\n",
    "\n",
    "def which_games():\n",
    "    \n",
    "    tries_left = 3\n",
    "\n",
    "    new_game = input('What game do you like?')\n",
    "    while tries_left > 0:\n",
    "        \n",
    "        if new_game in games:\n",
    "            print('Nice, man! Lets play')\n",
    "            break\n",
    "        else:\n",
    "            tries_left -= 1\n",
    "            new_game = input('Try another game')\n",
    "            \n",
    "    if tries_left == 0:\n",
    "        print('Find yourself a new friend')\n",
    "\n",
    "which_games()"
   ]
  },
  {
   "cell_type": "markdown",
   "metadata": {},
   "source": [
    "#### write a mini-program\n",
    "**Three is a Crowd**\n",
    "- Make a list of names that includes at least four people.\n",
    "- Write an if test that prints a message about the room being crowded, if there are more than three people in your list.\n",
    "- Modify your list so that there are only two people in it. Use one of the methods for removing people from the list, don't just redefine the list.\n",
    "- Run your if test again. There should be no output this time, because there are less than three people in the list.\n",
    "- Store your if test in a function called something like `crowd_test`.\n",
    "\n"
   ]
  },
  {
   "cell_type": "code",
   "execution_count": 103,
   "metadata": {},
   "outputs": [
    {
     "output_type": "stream",
     "name": "stdout",
     "text": [
      "too crowded\n\n"
     ]
    }
   ],
   "source": [
    "names_l = ['names' + str(i + 1) for i in range(4)]\n",
    "\n",
    "def crowd_test(l):\n",
    "    if len(l) > 3:\n",
    "        return 'too crowded'\n",
    "    else:\n",
    "        return ''\n",
    "\n",
    "print(crowd_test(names_l))\n",
    "names_l.pop()\n",
    "names_l.pop()\n",
    "print(crowd_test(names_l))"
   ]
  },
  {
   "cell_type": "markdown",
   "metadata": {},
   "source": [
    "**Three is a Crowd - Part 2**\n",
    "- Save your program from *Three is a Crowd* under a new name.\n",
    "- Add an `else` statement to your if tests. If the `else` statement is run, have it print a message that the room is not very crowded.\n"
   ]
  },
  {
   "cell_type": "code",
   "execution_count": 104,
   "metadata": {},
   "outputs": [
    {
     "output_type": "execute_result",
     "data": {
      "text/plain": [
       "'The room is not sot crowded'"
      ]
     },
     "metadata": {},
     "execution_count": 104
    }
   ],
   "source": [
    "def crowd_test(l):\n",
    "    if len(l) > 3:\n",
    "        return 'too crowded'\n",
    "    else:\n",
    "        return 'The room is not sot crowded'\n",
    "\n",
    "crowd_test(names_l)"
   ]
  },
  {
   "cell_type": "markdown",
   "metadata": {},
   "source": [
    "\n",
    "**Six is a Mob**\n",
    "- Save your program from *Three is a Crowd - Part 2* under a new name.\n",
    "- Add some names to your list, so that there are at least six people in the list.\n",
    "- Modify your tests so that\n",
    "    - If there are more than 5 people, a message is printed about there being a mob in the room.\n",
    "    - If there are 3-5 people, a message is printed about the room being crowded.\n",
    "    - If there are 1 or 2 people, a message is printed about the room not being crowded.\n",
    "    - If there are no people in the room, a message is printed abou the room being empty."
   ]
  },
  {
   "cell_type": "code",
   "execution_count": 105,
   "metadata": {},
   "outputs": [
    {
     "output_type": "execute_result",
     "data": {
      "text/plain": [
       "'this is a mob already'"
      ]
     },
     "metadata": {},
     "execution_count": 105
    }
   ],
   "source": [
    "l2 = ['name' + str(i + 1) for i in range(6)]\n",
    "\n",
    "def mob_test(l):\n",
    "    if len(l) > 5:\n",
    "        return 'this is a mob already'\n",
    "    elif len(l) > 3 and len(l) <= 5:\n",
    "        return 'The room is crowded'\n",
    "    elif len(l) > 1 and len(l) <= 2:\n",
    "        return 'The room is ok'\n",
    "    else:\n",
    "        return ' The room is empty'\n",
    "\n",
    "mob_test(l2)"
   ]
  },
  {
   "cell_type": "code",
   "execution_count": null,
   "metadata": {},
   "outputs": [],
   "source": []
  }
 ],
 "metadata": {
  "kernelspec": {
   "name": "python385jvsc74a57bd0dca0ade3e726a953b501b15e8e990130d2b7799f14cfd9f4271676035ebe5511",
   "display_name": "Python 3.8.5 64-bit ('base': conda)"
  },
  "language_info": {
   "codemirror_mode": {
    "name": "ipython",
    "version": 3
   },
   "file_extension": ".py",
   "mimetype": "text/x-python",
   "name": "python",
   "nbconvert_exporter": "python",
   "pygments_lexer": "ipython3",
   "version": "3.8.5"
  }
 },
 "nbformat": 4,
 "nbformat_minor": 4
}