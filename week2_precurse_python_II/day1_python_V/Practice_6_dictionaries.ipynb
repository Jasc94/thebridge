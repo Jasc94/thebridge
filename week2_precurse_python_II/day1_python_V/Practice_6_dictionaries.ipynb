{
  "nbformat": 4,
  "nbformat_minor": 0,
  "metadata": {
    "kernelspec": {
      "name": "python385jvsc74a57bd0dca0ade3e726a953b501b15e8e990130d2b7799f14cfd9f4271676035ebe5511",
      "display_name": "Python 3.8.5 64-bit ('base': conda)"
    },
    "language_info": {
      "codemirror_mode": {
        "name": "ipython",
        "version": 3
      },
      "file_extension": ".py",
      "mimetype": "text/x-python",
      "name": "python",
      "nbconvert_exporter": "python",
      "pygments_lexer": "ipython3",
      "version": "3.8.5"
    },
    "colab": {
      "name": "Practice_6_dictionaries.ipynb",
      "provenance": []
    }
  },
  "cells": [
    {
      "cell_type": "markdown",
      "metadata": {
        "id": "emTp3TQW5ujy"
      },
      "source": [
        "# Python | day 6 | dictionaries"
      ]
    },
    {
      "cell_type": "markdown",
      "metadata": {
        "id": "S7qRXHAK5uj4"
      },
      "source": [
        "Dictionaries are used to store data values in key:value pairs.\n",
        "\n",
        "A dictionary is a collection which is unordered, changeable and does not allow duplicates.\n",
        "\n",
        "Dictionaries are written with curly brackets, and have keys and values:"
      ]
    },
    {
      "cell_type": "markdown",
      "metadata": {
        "id": "dibdL9Df5uj4"
      },
      "source": [
        "```python\n",
        "thisdict = {\n",
        "  \"brand\": \"Ford\",\n",
        "  \"model\": \"Mustang\",\n",
        "  \"year\": 1964\n",
        "}\n",
        "```"
      ]
    },
    {
      "cell_type": "markdown",
      "metadata": {
        "id": "QV9r6tY25uj5"
      },
      "source": [
        "https://www.w3schools.com/python/python_dictionaries.asp"
      ]
    },
    {
      "cell_type": "markdown",
      "metadata": {
        "id": "cRj1YMuq5uj5"
      },
      "source": [
        "### Exercise 1. \n",
        "\n",
        "1. Create a dictionary with an integer 5 as the key and \"val\" as its value."
      ]
    },
    {
      "cell_type": "code",
      "metadata": {
        "id": "vPF_VCVQ5uj5"
      },
      "source": [
        "d1 = {5 : 'val'}"
      ],
      "execution_count": 1,
      "outputs": []
    },
    {
      "cell_type": "markdown",
      "metadata": {
        "id": "bPBEdtCM5uj6"
      },
      "source": [
        "2. Create two lists: one that has 4 city names and another that has 4 landmarks in the city."
      ]
    },
    {
      "cell_type": "code",
      "metadata": {
        "id": "A401bu6z5uj6"
      },
      "source": [
        "cities = ['New York', 'Berlin', 'Vancouver', 'Madrid']\n",
        "landmarks = ['Central Park', 'Berlin Wall Memorial', 'Granville Island', 'El Retiro']"
      ],
      "execution_count": 2,
      "outputs": []
    },
    {
      "cell_type": "markdown",
      "metadata": {
        "id": "c40xCAbj5uj6"
      },
      "source": [
        "3. Create a dictionary where the cities contained in the first list are the **keys** and the landmarks are the **values**.\n",
        "```python\n",
        "#example\n",
        "places = {\"Malaga\": \"Gibralfaro\", \n",
        "         \"Madrid\": \"Templo de Debod\",\n",
        "         \"Granada\": \"La Alcazaba\",\n",
        "         \"Barcelona\": \"Sagrada Familia\"}\n",
        "```"
      ]
    },
    {
      "cell_type": "code",
      "metadata": {
        "id": "H8i_0dBa5uj6"
      },
      "source": [
        "places = {}\n",
        "\n",
        "for i in range(len(cities)):\n",
        "    places[cities[i]] = landmarks[i]\n",
        "\n",
        "places"
      ],
      "execution_count": 3,
      "outputs": [
        {
          "output_type": "execute_result",
          "data": {
            "text/plain": [
              "{'New York': 'Central Park',\n",
              " 'Berlin': 'Berlin Wall Memorial',\n",
              " 'Vancouver': 'Granville Island',\n",
              " 'Madrid': 'El Retiro'}"
            ]
          },
          "metadata": {},
          "execution_count": 3
        }
      ]
    },
    {
      "cell_type": "markdown",
      "metadata": {
        "id": "1QtK1IGt5uj6"
      },
      "source": [
        "4. Loop through the dictionary and print only the values of those keys starting with the letter **M**.\n",
        "\n",
        "https://realpython.com/iterate-through-dictionary-python/"
      ]
    },
    {
      "cell_type": "code",
      "metadata": {
        "id": "5o7k4cL_5uj7"
      },
      "source": [
        "for k in places.keys():\n",
        "    if k[0] == 'M':\n",
        "        print(k)"
      ],
      "execution_count": 4,
      "outputs": [
        {
          "output_type": "stream",
          "name": "stdout",
          "text": [
            "Madrid\n"
          ]
        }
      ]
    },
    {
      "cell_type": "markdown",
      "metadata": {
        "id": "ABZf7ovB5uj7"
      },
      "source": [
        "5. Create a function that receives two lists `list1` and `list2` by parameter and returns a dictionary with each element of `list1` as keys and the elements of `list2` as values. Call the function with the lists you have created before to return the same dictionary you've created in question 3. "
      ]
    },
    {
      "cell_type": "code",
      "metadata": {
        "id": "LRAoamZU5uj7"
      },
      "source": [
        "def dict_creator(l1, l2):\n",
        "    new_dict = {}\n",
        "\n",
        "    for i in range(len(l1)):\n",
        "        new_dict[l1[i]] = l2[i]\n",
        "    \n",
        "    return new_dict"
      ],
      "execution_count": 6,
      "outputs": []
    },
    {
      "cell_type": "code",
      "execution_count": 7,
      "metadata": {},
      "outputs": [
        {
          "output_type": "execute_result",
          "data": {
            "text/plain": [
              "{'New York': 'Central Park',\n",
              " 'Berlin': 'Berlin Wall Memorial',\n",
              " 'Vancouver': 'Granville Island',\n",
              " 'Madrid': 'El Retiro'}"
            ]
          },
          "metadata": {},
          "execution_count": 7
        }
      ],
      "source": [
        "dict_creator(cities, landmarks)"
      ]
    },
    {
      "cell_type": "markdown",
      "metadata": {
        "id": "Xbti_jxH5uj7"
      },
      "source": [
        "### Exercise 2. "
      ]
    },
    {
      "cell_type": "markdown",
      "metadata": {
        "id": "M5-NaLVb5uj7"
      },
      "source": [
        "1. Create an empty dictionary called dog."
      ]
    },
    {
      "cell_type": "code",
      "metadata": {
        "id": "NUAx_rb65uj8"
      },
      "source": [
        "dog = {}"
      ],
      "execution_count": 9,
      "outputs": []
    },
    {
      "cell_type": "markdown",
      "metadata": {
        "id": "q0UhvhlP5uj8"
      },
      "source": [
        "2. Add name, color, breed, legs, age to the dog dictionary."
      ]
    },
    {
      "cell_type": "code",
      "metadata": {
        "id": "kOrMwSsp5uj8"
      },
      "source": [
        "dog_keys = ['name', 'breed', 'legs', 'age']\n",
        "dog_values = ['Flasi', 'Shih Tzu', 4, 10]\n",
        "\n",
        "dog = dict(zip(dog_keys, dog_values))\n",
        "dog"
      ],
      "execution_count": 13,
      "outputs": [
        {
          "output_type": "execute_result",
          "data": {
            "text/plain": [
              "{'name': 'Flasi', 'breed': 'Shih Tzu', 'legs': 4, 'age': 10}"
            ]
          },
          "metadata": {},
          "execution_count": 13
        }
      ]
    },
    {
      "cell_type": "markdown",
      "metadata": {
        "id": "xhVk7xyA5uj8"
      },
      "source": [
        "3. Create a student dictionary and add first_name, last_name, age, skills, country, city and address as keys for the dictionary.\n"
      ]
    },
    {
      "cell_type": "code",
      "metadata": {
        "id": "6sseyOCZ5uj8"
      },
      "source": [
        "student_keys = ['fist_name', 'last_name', 'age', 'skills', 'country', 'city']\n",
        "student_values = ['Jonathan', 'Suarez Caceres', 26, ['Passionated', 'Ambitious'], 'Spain', 'Madrid']\n",
        "\n",
        "student = {student_keys[i] : student_values[i] for i in range(len(student_keys))}\n",
        "student"
      ],
      "execution_count": 15,
      "outputs": [
        {
          "output_type": "execute_result",
          "data": {
            "text/plain": [
              "{'fist_name': 'Jonathan',\n",
              " 'last_name': 'Suarez Caceres',\n",
              " 'age': 26,\n",
              " 'skills': ['Passionated', 'Ambitious'],\n",
              " 'country': 'Spain',\n",
              " 'city': 'Madrid'}"
            ]
          },
          "metadata": {},
          "execution_count": 15
        }
      ]
    },
    {
      "cell_type": "markdown",
      "metadata": {
        "id": "kgHUYJoW5uj8"
      },
      "source": [
        "4. Get the length of the student dictionary.\n"
      ]
    },
    {
      "cell_type": "code",
      "metadata": {
        "id": "WtREKWcM5uj8"
      },
      "source": [
        "len(student)"
      ],
      "execution_count": 16,
      "outputs": [
        {
          "output_type": "execute_result",
          "data": {
            "text/plain": [
              "6"
            ]
          },
          "metadata": {},
          "execution_count": 16
        }
      ]
    },
    {
      "cell_type": "markdown",
      "metadata": {
        "id": "p4nbQ7qx5uj9"
      },
      "source": [
        "5. Get the value of skills and check the data type, it should be a list."
      ]
    },
    {
      "cell_type": "code",
      "metadata": {
        "id": "CDimfVWA5uj9"
      },
      "source": [
        "type(student['skills'])"
      ],
      "execution_count": 17,
      "outputs": [
        {
          "output_type": "execute_result",
          "data": {
            "text/plain": [
              "list"
            ]
          },
          "metadata": {},
          "execution_count": 17
        }
      ]
    },
    {
      "cell_type": "markdown",
      "metadata": {
        "id": "jmkWSbwp5uj9"
      },
      "source": [
        "6. Modify the skills values by adding one or two skills."
      ]
    },
    {
      "cell_type": "code",
      "metadata": {
        "id": "skPBTlWC5uj9"
      },
      "source": [
        "student['skills'].append('Do-er')\n",
        "student"
      ],
      "execution_count": 19,
      "outputs": [
        {
          "output_type": "execute_result",
          "data": {
            "text/plain": [
              "{'fist_name': 'Jonathan',\n",
              " 'last_name': 'Suarez Caceres',\n",
              " 'age': 26,\n",
              " 'skills': ['Passionated', 'Ambitious', 'Do-er'],\n",
              " 'country': 'Spain',\n",
              " 'city': 'Madrid'}"
            ]
          },
          "metadata": {},
          "execution_count": 19
        }
      ]
    },
    {
      "cell_type": "markdown",
      "metadata": {
        "id": "1itKAoni5uj9"
      },
      "source": [
        "7. Get the dictionary keys as a list."
      ]
    },
    {
      "cell_type": "code",
      "metadata": {
        "id": "m4hpFL_I5uj9"
      },
      "source": [
        "keys_list = list(student.keys())\n",
        "keys_list"
      ],
      "execution_count": 20,
      "outputs": [
        {
          "output_type": "execute_result",
          "data": {
            "text/plain": [
              "['fist_name', 'last_name', 'age', 'skills', 'country', 'city']"
            ]
          },
          "metadata": {},
          "execution_count": 20
        }
      ]
    },
    {
      "cell_type": "markdown",
      "metadata": {
        "id": "KCbi9LXq5uj9"
      },
      "source": [
        "8. Get the dictionary values as a list.\n"
      ]
    },
    {
      "cell_type": "code",
      "metadata": {
        "id": "WxT4t6F75uj-"
      },
      "source": [
        "values_list = list(student.values())\n",
        "values_list"
      ],
      "execution_count": 21,
      "outputs": [
        {
          "output_type": "execute_result",
          "data": {
            "text/plain": [
              "['Jonathan',\n",
              " 'Suarez Caceres',\n",
              " 26,\n",
              " ['Passionated', 'Ambitious', 'Do-er'],\n",
              " 'Spain',\n",
              " 'Madrid']"
            ]
          },
          "metadata": {},
          "execution_count": 21
        }
      ]
    },
    {
      "cell_type": "markdown",
      "metadata": {
        "id": "6OgkRCwD5uj-"
      },
      "source": [
        "9. Change the dictionary to a list of tuples using `items()` method"
      ]
    },
    {
      "cell_type": "code",
      "metadata": {
        "id": "Kaj6u2SY5uj-"
      },
      "source": [
        "t1 = [tuple(x) for x in student.items()]\n",
        "t1"
      ],
      "execution_count": 22,
      "outputs": [
        {
          "output_type": "execute_result",
          "data": {
            "text/plain": [
              "[('fist_name', 'Jonathan'),\n",
              " ('last_name', 'Suarez Caceres'),\n",
              " ('age', 26),\n",
              " ('skills', ['Passionated', 'Ambitious', 'Do-er']),\n",
              " ('country', 'Spain'),\n",
              " ('city', 'Madrid')]"
            ]
          },
          "metadata": {},
          "execution_count": 22
        }
      ]
    },
    {
      "cell_type": "markdown",
      "metadata": {
        "id": "xc0A2gap5uj-"
      },
      "source": [
        "10. Delete one of the items in the dictionary.\n"
      ]
    },
    {
      "cell_type": "code",
      "metadata": {
        "id": "ltyznNg75uj-"
      },
      "source": [
        "del student['city']\n",
        "student"
      ],
      "execution_count": 23,
      "outputs": [
        {
          "output_type": "execute_result",
          "data": {
            "text/plain": [
              "{'fist_name': 'Jonathan',\n",
              " 'last_name': 'Suarez Caceres',\n",
              " 'age': 26,\n",
              " 'skills': ['Passionated', 'Ambitious', 'Do-er'],\n",
              " 'country': 'Spain'}"
            ]
          },
          "metadata": {},
          "execution_count": 23
        }
      ]
    },
    {
      "cell_type": "markdown",
      "metadata": {
        "id": "gtZu9Yp75uj-"
      },
      "source": [
        "### Bonus Track"
      ]
    },
    {
      "cell_type": "markdown",
      "metadata": {
        "id": "OTLRrUW_5uj-"
      },
      "source": [
        "**Tómate un zumito a tu salud.**"
      ]
    },
    {
      "cell_type": "markdown",
      "metadata": {
        "id": "klJSJczJ5uj-"
      },
      "source": [
        "!['daughter'](https://i.pinimg.com/originals/8f/35/28/8f35281e742e71be09697e7e6789b819.png)"
      ]
    },
    {
      "cell_type": "code",
      "metadata": {
        "id": "jPpW_YZc5uj_"
      },
      "source": [],
      "execution_count": null,
      "outputs": []
    }
  ]
}