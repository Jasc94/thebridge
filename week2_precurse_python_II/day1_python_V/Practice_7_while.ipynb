{
  "nbformat": 4,
  "nbformat_minor": 0,
  "metadata": {
    "kernelspec": {
      "name": "python385jvsc74a57bd0dca0ade3e726a953b501b15e8e990130d2b7799f14cfd9f4271676035ebe5511",
      "display_name": "Python 3.8.5 64-bit ('base': conda)"
    },
    "language_info": {
      "codemirror_mode": {
        "name": "ipython",
        "version": 3
      },
      "file_extension": ".py",
      "mimetype": "text/x-python",
      "name": "python",
      "nbconvert_exporter": "python",
      "pygments_lexer": "ipython3",
      "version": "3.8.5"
    },
    "colab": {
      "name": "Practice_7_while.ipynb",
      "provenance": []
    }
  },
  "cells": [
    {
      "cell_type": "markdown",
      "metadata": {
        "id": "7-OI7j2_53Cb"
      },
      "source": [
        "# Python | day 6 | while"
      ]
    },
    {
      "cell_type": "markdown",
      "metadata": {
        "id": "v9XpD-qv53Cg"
      },
      "source": [
        "With the **while** loop we can execute a set of statements as long as a condition is true."
      ]
    },
    {
      "cell_type": "markdown",
      "metadata": {
        "id": "rlzjHaNs53Ch"
      },
      "source": [
        "```python\n",
        "i = 1\n",
        "while i < 6:\n",
        "  print(i)\n",
        "  i += 1\n",
        "```"
      ]
    },
    {
      "cell_type": "markdown",
      "metadata": {
        "id": "R4uZ1z4H53Ch"
      },
      "source": [
        "https://www.w3schools.com/python/python_while_loops.asp"
      ]
    },
    {
      "cell_type": "markdown",
      "metadata": {
        "id": "5QGE6T6e53Ci"
      },
      "source": [
        "### Exercise 1. "
      ]
    },
    {
      "cell_type": "markdown",
      "metadata": {
        "id": "qVUT3tNS53Ci"
      },
      "source": [
        "Do as described below:\n",
        "\n",
        "- Make a variable called strength, and set its initial value to 5.\n",
        "\n",
        "- Print a message reporting the player's strength.\n",
        "\n",
        "- Set up a while loop that runs until the player's strength increases to a value such as 10.\n",
        "\n",
        "- Inside the while loop, print a message that reports the player's current strength.\n",
        "\n",
        "- Inside the while loop, write a statement that increases the player's strength.\n",
        "\n",
        "- Outside the while loop, print a message reporting that the player has grown too strong, and that they have moved up to a new level of the game.\n",
        "\n",
        "Play around with different cutoff levels for the value of strength, and play around with different ways to increase the strength value within the while loop.\n"
      ]
    },
    {
      "cell_type": "code",
      "metadata": {
        "id": "MGZAfgCC53Ci"
      },
      "source": [
        "strength = 5\n",
        "\n",
        "print('initial level of strength:', strength)\n",
        "\n",
        "while strength < 15:\n",
        "    print('current level of strength:', strength)\n",
        "    strength += 1\n",
        "\n",
        "print('Player has grown too strong. Next level. Current strength:', strength)"
      ],
      "execution_count": 1,
      "outputs": [
        {
          "output_type": "stream",
          "name": "stdout",
          "text": [
            "initial level of strength: 5\ncurrent level of strength: 5\ncurrent level of strength: 6\ncurrent level of strength: 7\ncurrent level of strength: 8\ncurrent level of strength: 9\ncurrent level of strength: 10\ncurrent level of strength: 11\ncurrent level of strength: 12\ncurrent level of strength: 13\ncurrent level of strength: 14\nPlayer has grown too strong. Next level. Current strength: 15\n"
          ]
        }
      ]
    },
    {
      "cell_type": "markdown",
      "metadata": {
        "id": "31UxF-mC53Cj"
      },
      "source": [
        "### Exercise 2. "
      ]
    },
    {
      "cell_type": "markdown",
      "metadata": {
        "id": "Gk1sPeUZ53Cj"
      },
      "source": [
        "To solve the following exercises it will be necessary to define a function for each section. You choose the name of those functions unless specified, but make sure you define a single parameter `whichever_list`, when calling the function it will correspond to the variable `info_list`."
      ]
    },
    {
      "cell_type": "code",
      "metadata": {
        "id": "4SxdlQPZ53Cj"
      },
      "source": [
        "# you can use this list or take yours from Practice 3\n",
        "info_list = [15, 'Recoletos', True, ['Recoletos', 15],  None, '8'] "
      ],
      "execution_count": 2,
      "outputs": []
    },
    {
      "cell_type": "markdown",
      "metadata": {
        "id": "kGUkzsmq53Ck"
      },
      "source": [
        "You have already read these questions below, but this time you are asked to solve it using `while` loop instead of `for`. \n",
        "\n",
        "   - Loop through `whichever_list` to print all the elements it contains. This function should return the list turned into a tuple. \n",
        "   - Loop through `whichever_list` to print all the elements it contains concatenated with the string` \"--> OK\" `. This function should return a message saying, `\"everything will be ok\"`. \n",
        "   - Loop through `whichever_list` to display all items it contains except the first one. This function should return the first element of the list. \n",
        "   - Loop through `whichever_list` to display all the items it contains except the last one. This function should return the last element of the list. "
      ]
    },
    {
      "cell_type": "code",
      "metadata": {
        "id": "Tmd9DsU853Ck"
      },
      "source": [
        "def func1(l):\n",
        "    for i in l:\n",
        "        print(i)\n",
        "    \n",
        "    return tuple(l)\n",
        "\n",
        "func1(info_list)"
      ],
      "execution_count": 7,
      "outputs": [
        {
          "output_type": "stream",
          "name": "stdout",
          "text": [
            "15\nRecoletos\nTrue\n['Recoletos', 15]\nNone\n8\n"
          ]
        },
        {
          "output_type": "execute_result",
          "data": {
            "text/plain": [
              "(15, 'Recoletos', True, ['Recoletos', 15], None, '8')"
            ]
          },
          "metadata": {},
          "execution_count": 7
        }
      ]
    },
    {
      "cell_type": "code",
      "metadata": {
        "id": "WoTk6loz53Ck"
      },
      "source": [
        "def func2(l):\n",
        "    for i in l:\n",
        "        print(i, '--> OK')\n",
        "    \n",
        "    return 'Everything will be ok'\n",
        "\n",
        "func2(info_list)"
      ],
      "execution_count": 8,
      "outputs": [
        {
          "output_type": "stream",
          "name": "stdout",
          "text": [
            "15 --> OK\nRecoletos --> OK\nTrue --> OK\n['Recoletos', 15] --> OK\nNone --> OK\n8 --> OK\n"
          ]
        },
        {
          "output_type": "execute_result",
          "data": {
            "text/plain": [
              "'Everything will be ok'"
            ]
          },
          "metadata": {},
          "execution_count": 8
        }
      ]
    },
    {
      "cell_type": "code",
      "metadata": {
        "id": "NzmXd0ID53Ck"
      },
      "source": [
        "def func3(l):\n",
        "    for i in l[1:]:\n",
        "        print(i)\n",
        "    \n",
        "    return l[0]\n",
        "\n",
        "func3(info_list)"
      ],
      "execution_count": 12,
      "outputs": [
        {
          "output_type": "stream",
          "name": "stdout",
          "text": [
            "Recoletos\nTrue\n['Recoletos', 15]\nNone\n8\n"
          ]
        },
        {
          "output_type": "execute_result",
          "data": {
            "text/plain": [
              "15"
            ]
          },
          "metadata": {},
          "execution_count": 12
        }
      ]
    },
    {
      "cell_type": "code",
      "metadata": {
        "id": "mQ7R7tYG53Ck"
      },
      "source": [
        "def func4(l):\n",
        "    for i in l[:-1]:\n",
        "        print(i)\n",
        "    \n",
        "    return l[-1]\n",
        "\n",
        "func4(info_list)"
      ],
      "execution_count": 11,
      "outputs": [
        {
          "output_type": "stream",
          "name": "stdout",
          "text": [
            "15\nRecoletos\nTrue\n['Recoletos', 15]\nNone\n"
          ]
        },
        {
          "output_type": "execute_result",
          "data": {
            "text/plain": [
              "'8'"
            ]
          },
          "metadata": {},
          "execution_count": 11
        }
      ]
    },
    {
      "cell_type": "code",
      "metadata": {
        "id": "c-Ef5oXv53Ck"
      },
      "source": [],
      "execution_count": null,
      "outputs": []
    },
    {
      "cell_type": "markdown",
      "metadata": {
        "id": "5Pb56Z0g53Cl"
      },
      "source": [
        "### Exercise 3. "
      ]
    },
    {
      "cell_type": "markdown",
      "metadata": {
        "id": "whRMN6xB53Cl"
      },
      "source": [
        "1. Define a function that performs the [Fibonacci series](https://quantdare.com/numeros-de-fibonacci/#:~:text=En%20matem%C3%A1ticas%2C%20la%20sucesi%C3%B3n%20o,nombre%20de%20n%C3%BAmero%20de%20Fibonacci.) with a `while`."
      ]
    },
    {
      "cell_type": "code",
      "metadata": {
        "id": "_9mEFUhm53Cl"
      },
      "source": [
        "def Fibonacci():\n",
        "    a = 0\n",
        "    b = 1\n",
        "    c = 0\n",
        "    Fib_series = []\n",
        "\n",
        "    while c < 100:\n",
        "        Fib_series.append(c)\n",
        "        c = a + b\n",
        "        a = b\n",
        "        b = c\n",
        "\n",
        "    return Fib_series\n",
        "\n",
        "Fibonacci()"
      ],
      "execution_count": 16,
      "outputs": [
        {
          "output_type": "execute_result",
          "data": {
            "text/plain": [
              "[0, 1, 2, 3, 5, 8, 13, 21, 34, 55, 89]"
            ]
          },
          "metadata": {},
          "execution_count": 16
        }
      ]
    },
    {
      "cell_type": "markdown",
      "metadata": {
        "id": "ZdwG0WXe53Cl"
      },
      "source": [
        "### Bonus Track."
      ]
    },
    {
      "cell_type": "markdown",
      "metadata": {
        "id": "-lCVvxJ953Cl"
      },
      "source": [
        "To solve the following exercises it will be necessary to define a function for each section. You choose the name of those functions unless specified, but make sure you define a single parameter `whichever_list`, when calling the function it will correspond to the variable `info_list`."
      ]
    },
    {
      "cell_type": "code",
      "metadata": {
        "id": "0wgSoeHA53Cl"
      },
      "source": [
        "# you can use this list or take yours from Practice 3\n",
        "info_list = [15, 'Recoletos', True, ['Recoletos', 15],  None, '8'] "
      ],
      "execution_count": 36,
      "outputs": []
    },
    {
      "cell_type": "markdown",
      "metadata": {
        "id": "9Cl-qc2K53Cm"
      },
      "source": [
        "1. Define a function `f_s` that saves the value of a word (for example: \"nothing\") in a variable and print it. Also, concatenate its value with the street number of The Bridge and display it on the screen. \n",
        "\n",
        "   Also, display a boolean **True** if the length of the concatenated word is 6. If not, it will be **False**. The function must return the value **True** or **False**."
      ]
    },
    {
      "cell_type": "code",
      "metadata": {
        "id": "crGAiWKH53Cm"
      },
      "source": [
        "def f_s(l):\n",
        "    word = [x for x in l if isinstance(x, str) and len(x) > 1][0]\n",
        "    print(word)\n",
        "\n",
        "    word2 = word + str(l[3][1])\n",
        "    print(word2)\n",
        "\n",
        "    if len(word2) == 6:\n",
        "        print(True)\n",
        "    else:\n",
        "        print(False)\n",
        "    \n",
        "    return True\n",
        "\n",
        "f_s(info_list)"
      ],
      "execution_count": 25,
      "outputs": [
        {
          "output_type": "stream",
          "name": "stdout",
          "text": [
            "Recoletos\nRecoletos15\nFalse\n"
          ]
        },
        {
          "output_type": "execute_result",
          "data": {
            "text/plain": [
              "True"
            ]
          },
          "metadata": {},
          "execution_count": 25
        }
      ]
    },
    {
      "cell_type": "markdown",
      "metadata": {
        "id": "-cdP7Tpb53Cm"
      },
      "source": [
        "2. Create a list `list_aux` with 7 elements, whichever you want. Next, create a function `function_use_f_s` which receives as parameters a function `some_function`, a word which is the argument of `some_funtion` and whichever list `whichever_list`. If the value of `some_function` is **True**, then delete an item from `whichever_list`. Repeat the process until `whichever_list` has no elements. The argument for `whichever_list` must be `list_aux` and for `some_function` it will be the function `f_s` from the previous point."
      ]
    },
    {
      "cell_type": "code",
      "metadata": {
        "id": "IPByEe3_53Cm"
      },
      "source": [
        "list_aux = [1, 2, 3, 4, 5, 6, 7]\n",
        "\n",
        "def function_use_f_s(some_function, word, whichever_list):\n",
        "    if f_s(word):\n",
        "        while len(whichever_list) > 0:\n",
        "            whichever_list.pop()\n",
        "        \n",
        "        return whichever_list\n",
        "\n",
        "function_use_f_s(f_s, info_list, info_list)"
      ],
      "execution_count": 26,
      "outputs": [
        {
          "output_type": "stream",
          "name": "stdout",
          "text": [
            "Recoletos\nRecoletos15\nFalse\n"
          ]
        },
        {
          "output_type": "execute_result",
          "data": {
            "text/plain": [
              "[]"
            ]
          },
          "metadata": {},
          "execution_count": 26
        }
      ]
    },
    {
      "cell_type": "markdown",
      "metadata": {
        "id": "WsKjKj7R53Cm"
      },
      "source": [
        "3. Define a function `even_numbers` that has an input parameter `arg1`, type integer. The function must return a list of numbers of size `arg1`, all of them being even numbers. \n",
        "\n",
        "   Don't use the function `print()` inside the function, but print what `even_numbers` returns when calling it with the argument `10`, just to check your function works.\n",
        "   \n",
        "```python\n",
        "print(even_numbers(10))\n",
        "```"
      ]
    },
    {
      "cell_type": "code",
      "metadata": {
        "id": "0Qh_U4CA53Cn"
      },
      "source": [
        "def even_numbers(num):\n",
        "    even_numbers = []\n",
        "    iterable = 0\n",
        "\n",
        "    while num > 0:\n",
        "        even_numbers.append(iterable)\n",
        "        iterable += 2\n",
        "        num -= 1\n",
        "\n",
        "    return even_numbers\n",
        "\n",
        "print(even_numbers(15))"
      ],
      "execution_count": 30,
      "outputs": [
        {
          "output_type": "stream",
          "name": "stdout",
          "text": [
            "[0, 2, 4, 6, 8, 10, 12, 14, 16, 18, 20, 22, 24, 26, 28]\n"
          ]
        }
      ]
    },
    {
      "cell_type": "markdown",
      "metadata": {
        "id": "fV164pTb53Cn"
      },
      "source": [
        "4. Create a function that has an input variable `arg1`, which will be the list of even numbers from the previous section, and that removes elements from the list, one by one, if `arg1` has a size divisible by 2 and, if not, it adds just once, the value of the function `f_s` that should be a boolean (`True` or `False`).\n"
      ]
    },
    {
      "cell_type": "code",
      "metadata": {
        "id": "EzOCjJZB53Cn"
      },
      "source": [
        "def weird_function(l1):\n",
        "    if len(l1) % 2 == 0:\n",
        "        while len(l1) > 0:\n",
        "            l1.pop()\n",
        "    else:\n",
        "        l1.append(f_s(info_list))\n",
        "\n",
        "    return l1\n",
        "\n",
        "l = even_numbers(5)\n",
        "weird_function(l)"
      ],
      "execution_count": 37,
      "outputs": [
        {
          "output_type": "stream",
          "name": "stdout",
          "text": [
            "Recoletos\nRecoletos15\nFalse\n"
          ]
        },
        {
          "output_type": "execute_result",
          "data": {
            "text/plain": [
              "[0, 2, 4, 6, 8, True]"
            ]
          },
          "metadata": {},
          "execution_count": 37
        }
      ]
    },
    {
      "cell_type": "markdown",
      "metadata": {
        "id": "alAGZNz153Cn"
      },
      "source": [
        "!['nicetry'](https://i.pinimg.com/originals/36/ab/81/36ab81cd8d63cf7c4a08f39403698c77.jpg)"
      ]
    }
  ]
}