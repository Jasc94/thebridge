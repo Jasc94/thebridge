{
 "metadata": {
  "language_info": {
   "codemirror_mode": {
    "name": "ipython",
    "version": 3
   },
   "file_extension": ".py",
   "mimetype": "text/x-python",
   "name": "python",
   "nbconvert_exporter": "python",
   "pygments_lexer": "ipython3",
   "version": "3.8.5"
  },
  "orig_nbformat": 2,
  "kernelspec": {
   "name": "python385jvsc74a57bd0dca0ade3e726a953b501b15e8e990130d2b7799f14cfd9f4271676035ebe5511",
   "display_name": "Python 3.8.5 64-bit ('base': conda)"
  }
 },
 "nbformat": 4,
 "nbformat_minor": 2,
 "cells": [
  {
   "cell_type": "code",
   "execution_count": 9,
   "metadata": {},
   "outputs": [
    {
     "output_type": "execute_result",
     "data": {
      "text/plain": [
       "  1  2  3  4  5  6  7  8  9  10\n",
       "A  ~  ~  ~  ~  ~  ~  ~  ~  ~  ~\n",
       "B  ~  ~  ~  ~  ~  ~  ~  ~  ~  ~\n",
       "C  ~  ~  ~  ~  ~  ~  ~  ~  ~  ~\n",
       "D  ~  ~  ~  ~  ~  ~  ~  ~  ~  ~\n",
       "E  ~  ~  ~  ~  ~  ~  ~  ~  ~  ~\n",
       "F  ~  ~  ~  ~  ~  ~  ~  ~  ~  ~\n",
       "G  ~  ~  ~  ~  ~  ~  ~  ~  ~  ~\n",
       "H  ~  ~  ~  ~  ~  ~  ~  ~  ~  ~\n",
       "I  ~  ~  ~  ~  ~  ~  ~  ~  ~  ~\n",
       "J  ~  ~  ~  ~  ~  ~  ~  ~  ~  ~"
      ],
      "text/html": "<div>\n<style scoped>\n    .dataframe tbody tr th:only-of-type {\n        vertical-align: middle;\n    }\n\n    .dataframe tbody tr th {\n        vertical-align: top;\n    }\n\n    .dataframe thead th {\n        text-align: right;\n    }\n</style>\n<table border=\"1\" class=\"dataframe\">\n  <thead>\n    <tr style=\"text-align: right;\">\n      <th></th>\n      <th>1</th>\n      <th>2</th>\n      <th>3</th>\n      <th>4</th>\n      <th>5</th>\n      <th>6</th>\n      <th>7</th>\n      <th>8</th>\n      <th>9</th>\n      <th>10</th>\n    </tr>\n  </thead>\n  <tbody>\n    <tr>\n      <th>A</th>\n      <td>~</td>\n      <td>~</td>\n      <td>~</td>\n      <td>~</td>\n      <td>~</td>\n      <td>~</td>\n      <td>~</td>\n      <td>~</td>\n      <td>~</td>\n      <td>~</td>\n    </tr>\n    <tr>\n      <th>B</th>\n      <td>~</td>\n      <td>~</td>\n      <td>~</td>\n      <td>~</td>\n      <td>~</td>\n      <td>~</td>\n      <td>~</td>\n      <td>~</td>\n      <td>~</td>\n      <td>~</td>\n    </tr>\n    <tr>\n      <th>C</th>\n      <td>~</td>\n      <td>~</td>\n      <td>~</td>\n      <td>~</td>\n      <td>~</td>\n      <td>~</td>\n      <td>~</td>\n      <td>~</td>\n      <td>~</td>\n      <td>~</td>\n    </tr>\n    <tr>\n      <th>D</th>\n      <td>~</td>\n      <td>~</td>\n      <td>~</td>\n      <td>~</td>\n      <td>~</td>\n      <td>~</td>\n      <td>~</td>\n      <td>~</td>\n      <td>~</td>\n      <td>~</td>\n    </tr>\n    <tr>\n      <th>E</th>\n      <td>~</td>\n      <td>~</td>\n      <td>~</td>\n      <td>~</td>\n      <td>~</td>\n      <td>~</td>\n      <td>~</td>\n      <td>~</td>\n      <td>~</td>\n      <td>~</td>\n    </tr>\n    <tr>\n      <th>F</th>\n      <td>~</td>\n      <td>~</td>\n      <td>~</td>\n      <td>~</td>\n      <td>~</td>\n      <td>~</td>\n      <td>~</td>\n      <td>~</td>\n      <td>~</td>\n      <td>~</td>\n    </tr>\n    <tr>\n      <th>G</th>\n      <td>~</td>\n      <td>~</td>\n      <td>~</td>\n      <td>~</td>\n      <td>~</td>\n      <td>~</td>\n      <td>~</td>\n      <td>~</td>\n      <td>~</td>\n      <td>~</td>\n    </tr>\n    <tr>\n      <th>H</th>\n      <td>~</td>\n      <td>~</td>\n      <td>~</td>\n      <td>~</td>\n      <td>~</td>\n      <td>~</td>\n      <td>~</td>\n      <td>~</td>\n      <td>~</td>\n      <td>~</td>\n    </tr>\n    <tr>\n      <th>I</th>\n      <td>~</td>\n      <td>~</td>\n      <td>~</td>\n      <td>~</td>\n      <td>~</td>\n      <td>~</td>\n      <td>~</td>\n      <td>~</td>\n      <td>~</td>\n      <td>~</td>\n    </tr>\n    <tr>\n      <th>J</th>\n      <td>~</td>\n      <td>~</td>\n      <td>~</td>\n      <td>~</td>\n      <td>~</td>\n      <td>~</td>\n      <td>~</td>\n      <td>~</td>\n      <td>~</td>\n      <td>~</td>\n    </tr>\n  </tbody>\n</table>\n</div>"
     },
     "metadata": {},
     "execution_count": 9
    }
   ],
   "source": [
    "# Para crear el campo de juego\n",
    "\n",
    "def matrix_creator():\n",
    "    import pandas as pd\n",
    "\n",
    "    index = ['A', 'B', 'C', 'D', 'E', 'F', 'G', 'H', 'I', 'J']\n",
    "    d = {}\n",
    "    d2 = {}\n",
    "\n",
    "    for i in index:\n",
    "        for j in range(1, len(index) + 1):\n",
    "            d2[j] = '~'\n",
    "        d[i] = d2\n",
    "\n",
    "    df = pd.DataFrame(d)\n",
    "    df = df.T\n",
    "    return df\n",
    "\n",
    "df = matrix_creator()  \n",
    "df"
   ]
  },
  {
   "cell_type": "code",
   "execution_count": 10,
   "metadata": {},
   "outputs": [
    {
     "output_type": "execute_result",
     "data": {
      "text/plain": [
       "  1  2  3  4  5  6  7  8  9  10\n",
       "A  ~  ~  ~  ~  ~  ~  ~  ~  ~  ~\n",
       "B  ~  ~  ~  ~  ~  ~  ~  ~  ~  ~\n",
       "C  ~  ~  ~  ~  ~  ~  ~  ~  ~  ~\n",
       "D  ~  ~  *  ~  ~  ~  ~  ~  ~  ~\n",
       "E  ~  ~  *  ~  ~  ~  ~  ~  ~  ~\n",
       "F  ~  ~  *  ~  ~  ~  ~  ~  ~  ~\n",
       "G  ~  ~  *  ~  ~  ~  ~  ~  ~  ~\n",
       "H  ~  ~  *  ~  ~  ~  ~  ~  ~  ~\n",
       "I  ~  ~  ~  ~  ~  ~  ~  ~  ~  ~\n",
       "J  ~  ~  ~  ~  ~  ~  ~  ~  ~  ~"
      ],
      "text/html": "<div>\n<style scoped>\n    .dataframe tbody tr th:only-of-type {\n        vertical-align: middle;\n    }\n\n    .dataframe tbody tr th {\n        vertical-align: top;\n    }\n\n    .dataframe thead th {\n        text-align: right;\n    }\n</style>\n<table border=\"1\" class=\"dataframe\">\n  <thead>\n    <tr style=\"text-align: right;\">\n      <th></th>\n      <th>1</th>\n      <th>2</th>\n      <th>3</th>\n      <th>4</th>\n      <th>5</th>\n      <th>6</th>\n      <th>7</th>\n      <th>8</th>\n      <th>9</th>\n      <th>10</th>\n    </tr>\n  </thead>\n  <tbody>\n    <tr>\n      <th>A</th>\n      <td>~</td>\n      <td>~</td>\n      <td>~</td>\n      <td>~</td>\n      <td>~</td>\n      <td>~</td>\n      <td>~</td>\n      <td>~</td>\n      <td>~</td>\n      <td>~</td>\n    </tr>\n    <tr>\n      <th>B</th>\n      <td>~</td>\n      <td>~</td>\n      <td>~</td>\n      <td>~</td>\n      <td>~</td>\n      <td>~</td>\n      <td>~</td>\n      <td>~</td>\n      <td>~</td>\n      <td>~</td>\n    </tr>\n    <tr>\n      <th>C</th>\n      <td>~</td>\n      <td>~</td>\n      <td>~</td>\n      <td>~</td>\n      <td>~</td>\n      <td>~</td>\n      <td>~</td>\n      <td>~</td>\n      <td>~</td>\n      <td>~</td>\n    </tr>\n    <tr>\n      <th>D</th>\n      <td>~</td>\n      <td>~</td>\n      <td>*</td>\n      <td>~</td>\n      <td>~</td>\n      <td>~</td>\n      <td>~</td>\n      <td>~</td>\n      <td>~</td>\n      <td>~</td>\n    </tr>\n    <tr>\n      <th>E</th>\n      <td>~</td>\n      <td>~</td>\n      <td>*</td>\n      <td>~</td>\n      <td>~</td>\n      <td>~</td>\n      <td>~</td>\n      <td>~</td>\n      <td>~</td>\n      <td>~</td>\n    </tr>\n    <tr>\n      <th>F</th>\n      <td>~</td>\n      <td>~</td>\n      <td>*</td>\n      <td>~</td>\n      <td>~</td>\n      <td>~</td>\n      <td>~</td>\n      <td>~</td>\n      <td>~</td>\n      <td>~</td>\n    </tr>\n    <tr>\n      <th>G</th>\n      <td>~</td>\n      <td>~</td>\n      <td>*</td>\n      <td>~</td>\n      <td>~</td>\n      <td>~</td>\n      <td>~</td>\n      <td>~</td>\n      <td>~</td>\n      <td>~</td>\n    </tr>\n    <tr>\n      <th>H</th>\n      <td>~</td>\n      <td>~</td>\n      <td>*</td>\n      <td>~</td>\n      <td>~</td>\n      <td>~</td>\n      <td>~</td>\n      <td>~</td>\n      <td>~</td>\n      <td>~</td>\n    </tr>\n    <tr>\n      <th>I</th>\n      <td>~</td>\n      <td>~</td>\n      <td>~</td>\n      <td>~</td>\n      <td>~</td>\n      <td>~</td>\n      <td>~</td>\n      <td>~</td>\n      <td>~</td>\n      <td>~</td>\n    </tr>\n    <tr>\n      <th>J</th>\n      <td>~</td>\n      <td>~</td>\n      <td>~</td>\n      <td>~</td>\n      <td>~</td>\n      <td>~</td>\n      <td>~</td>\n      <td>~</td>\n      <td>~</td>\n      <td>~</td>\n    </tr>\n  </tbody>\n</table>\n</div>"
     },
     "metadata": {},
     "execution_count": 10
    }
   ],
   "source": [
    "# (barco, allignment, columna, fila)barco_pos = ['h', ]\n",
    "\n",
    "df = matrix_creator()\n",
    "size, allignment, column, row = [5, 'v', 3, 'D']\n",
    "\n",
    "l1 = list(df.index)\n",
    "l2 = list(range(len(l1)))\n",
    "\n",
    "d = dict(zip(l1, l2))\n",
    "\n",
    "if allignment == 'h':\n",
    "    for i in range(column, column + size):\n",
    "        df.loc[row][i] = '*'\n",
    "else:\n",
    "    for i in range(d[row], d[row] + size):\n",
    "        df.iloc[i][column] = '*'\n",
    "\n",
    "df"
   ]
  },
  {
   "cell_type": "code",
   "execution_count": 33,
   "metadata": {},
   "outputs": [
    {
     "output_type": "execute_result",
     "data": {
      "text/plain": [
       "  1  2  3  4  5  6  7  8  9  10\n",
       "A  ~  ~  ~  ~  ~  ~  ~  ~  ~  ~\n",
       "B  ~  ~  ~  ~  ~  ~  ~  ~  ~  ~\n",
       "C  ~  ~  ~  ~  ~  ~  ~  ~  ~  ~\n",
       "D  ~  ~  ~  ~  ~  ~  ~  ~  ~  ~\n",
       "E  ~  ~  ~  ~  ~  ~  ~  ~  ~  ~\n",
       "F  ~  ~  ~  ~  ~  ~  ~  ~  ~  ~\n",
       "G  ~  ~  ~  ~  ~  ~  ~  *  ~  ~\n",
       "H  ~  ~  ~  ~  ~  ~  ~  *  ~  ~\n",
       "I  ~  ~  ~  ~  ~  ~  ~  *  ~  ~\n",
       "J  ~  ~  ~  ~  ~  ~  ~  *  ~  ~"
      ],
      "text/html": "<div>\n<style scoped>\n    .dataframe tbody tr th:only-of-type {\n        vertical-align: middle;\n    }\n\n    .dataframe tbody tr th {\n        vertical-align: top;\n    }\n\n    .dataframe thead th {\n        text-align: right;\n    }\n</style>\n<table border=\"1\" class=\"dataframe\">\n  <thead>\n    <tr style=\"text-align: right;\">\n      <th></th>\n      <th>1</th>\n      <th>2</th>\n      <th>3</th>\n      <th>4</th>\n      <th>5</th>\n      <th>6</th>\n      <th>7</th>\n      <th>8</th>\n      <th>9</th>\n      <th>10</th>\n    </tr>\n  </thead>\n  <tbody>\n    <tr>\n      <th>A</th>\n      <td>~</td>\n      <td>~</td>\n      <td>~</td>\n      <td>~</td>\n      <td>~</td>\n      <td>~</td>\n      <td>~</td>\n      <td>~</td>\n      <td>~</td>\n      <td>~</td>\n    </tr>\n    <tr>\n      <th>B</th>\n      <td>~</td>\n      <td>~</td>\n      <td>~</td>\n      <td>~</td>\n      <td>~</td>\n      <td>~</td>\n      <td>~</td>\n      <td>~</td>\n      <td>~</td>\n      <td>~</td>\n    </tr>\n    <tr>\n      <th>C</th>\n      <td>~</td>\n      <td>~</td>\n      <td>~</td>\n      <td>~</td>\n      <td>~</td>\n      <td>~</td>\n      <td>~</td>\n      <td>~</td>\n      <td>~</td>\n      <td>~</td>\n    </tr>\n    <tr>\n      <th>D</th>\n      <td>~</td>\n      <td>~</td>\n      <td>~</td>\n      <td>~</td>\n      <td>~</td>\n      <td>~</td>\n      <td>~</td>\n      <td>~</td>\n      <td>~</td>\n      <td>~</td>\n    </tr>\n    <tr>\n      <th>E</th>\n      <td>~</td>\n      <td>~</td>\n      <td>~</td>\n      <td>~</td>\n      <td>~</td>\n      <td>~</td>\n      <td>~</td>\n      <td>~</td>\n      <td>~</td>\n      <td>~</td>\n    </tr>\n    <tr>\n      <th>F</th>\n      <td>~</td>\n      <td>~</td>\n      <td>~</td>\n      <td>~</td>\n      <td>~</td>\n      <td>~</td>\n      <td>~</td>\n      <td>~</td>\n      <td>~</td>\n      <td>~</td>\n    </tr>\n    <tr>\n      <th>G</th>\n      <td>~</td>\n      <td>~</td>\n      <td>~</td>\n      <td>~</td>\n      <td>~</td>\n      <td>~</td>\n      <td>~</td>\n      <td>*</td>\n      <td>~</td>\n      <td>~</td>\n    </tr>\n    <tr>\n      <th>H</th>\n      <td>~</td>\n      <td>~</td>\n      <td>~</td>\n      <td>~</td>\n      <td>~</td>\n      <td>~</td>\n      <td>~</td>\n      <td>*</td>\n      <td>~</td>\n      <td>~</td>\n    </tr>\n    <tr>\n      <th>I</th>\n      <td>~</td>\n      <td>~</td>\n      <td>~</td>\n      <td>~</td>\n      <td>~</td>\n      <td>~</td>\n      <td>~</td>\n      <td>*</td>\n      <td>~</td>\n      <td>~</td>\n    </tr>\n    <tr>\n      <th>J</th>\n      <td>~</td>\n      <td>~</td>\n      <td>~</td>\n      <td>~</td>\n      <td>~</td>\n      <td>~</td>\n      <td>~</td>\n      <td>*</td>\n      <td>~</td>\n      <td>~</td>\n    </tr>\n  </tbody>\n</table>\n</div>"
     },
     "metadata": {},
     "execution_count": 33
    }
   ],
   "source": [
    "def ship_drawer(df, ship_info):\n",
    "    '''\n",
    "    df -> game board\n",
    "    ship_info -> list with 4 parameters: ship's size, allignment, column and row\n",
    "    '''\n",
    "\n",
    "    # parameters unpacking\n",
    "    size, allignment, column, row = ship_info\n",
    "\n",
    "    # I create a list with the the dataframe (board) indexes and another one with the equivalent numeric index\n",
    "    l1 = list(df.index)\n",
    "    l2 = list(range(len(l1)))\n",
    "\n",
    "    # I zip both list for later use in one dict\n",
    "    d = dict(zip(l1, l2))\n",
    "    \n",
    "    try:\n",
    "        # If allignment is h (horizontal)\n",
    "        # column + size - 1 -> because it starts counting the column position. For instance: column = 7, size = 4, ship'd be in 7, 8, 9, 10\n",
    "        if allignment == 'h' and (column + size - 1) <= 10:\n",
    "            # Loop through all the columns starting in the given one up to that column + the ship's size\n",
    "            for i in range(column, column + size):\n",
    "                df.loc[row][i] = '*'\n",
    "            return df\n",
    "\n",
    "        # In other case (vertical)\n",
    "        # d[row] + size - 1 -> same as before\n",
    "        elif allignment == 'v' and (d[row] + size - 1) <= 10:\n",
    "            # Loop through all the rows starting by the given one up to the row + ship's size\n",
    "            for i in range(d[row], d[row] + size):\n",
    "                df.iloc[i][column] = '*'\n",
    "            return df\n",
    "\n",
    "    except:\n",
    "        print('The given combination is out of ocean boundaries')\n",
    "\n",
    "    \n",
    "\n",
    "a = [4, 'v', 8, 'G']\n",
    "ship_drawer(matrix_creator(), a)"
   ]
  },
  {
   "cell_type": "code",
   "execution_count": 15,
   "metadata": {},
   "outputs": [
    {
     "output_type": "execute_result",
     "data": {
      "text/plain": [
       "[['O', 'O', 'O', 'O', 'O'],\n",
       " ['O', 'O', 'O', 'O', 'O'],\n",
       " ['O', 'O', 'O', 'O', 'O'],\n",
       " ['O', 'O', 'O', 'O', 'O'],\n",
       " ['O', 'O', 'O', 'O', 'O']]"
      ]
     },
     "metadata": {},
     "execution_count": 15
    }
   ],
   "source": [
    "from random import randint\n",
    "\n",
    "#initializing board\n",
    "board = []\n",
    "\n",
    "for x in range(5):\n",
    "    board.append([\"O\"] * 5)\n",
    "\n",
    "board"
   ]
  },
  {
   "cell_type": "code",
   "execution_count": 4,
   "metadata": {},
   "outputs": [
    {
     "output_type": "stream",
     "name": "stdout",
     "text": [
      "Let's play Battleship!\nO O O O O\nO O O O O\nO O O O O\nO O O O O\nO O O O O\n"
     ]
    }
   ],
   "source": [
    "def print_board(board):\n",
    "    for row in board:\n",
    "        print(\" \".join(row))\n",
    "\n",
    "print(\"Let's play Battleship!\")\n",
    "print_board(board)"
   ]
  },
  {
   "cell_type": "code",
   "execution_count": 6,
   "metadata": {},
   "outputs": [],
   "source": [
    "def random_row(board):\n",
    "    return randint(0, len(board) - 1)\n",
    "\n",
    "def random_col(board):\n",
    "    return randint(0, len(board[0]) - 1)\n",
    "\n",
    "ship_row = random_row(board)\n",
    "ship_col = random_col(board)"
   ]
  },
  {
   "cell_type": "code",
   "execution_count": 18,
   "metadata": {},
   "outputs": [
    {
     "output_type": "execute_result",
     "data": {
      "text/plain": [
       "[0, 1, 2, 3, 4, 5, 6, 7, 8, 9]"
      ]
     },
     "metadata": {},
     "execution_count": 18
    }
   ],
   "source": [
    "l2 = list(range(len(l1)))\n",
    "l2"
   ]
  },
  {
   "cell_type": "code",
   "execution_count": null,
   "metadata": {},
   "outputs": [],
   "source": [
    "# Para crear el campo de juego\n",
    "\n",
    "def matrix_creator():\n",
    "    import pandas as pd\n",
    "\n",
    "    index = ['A', 'B', 'C', 'D', 'E', 'F', 'G', 'H', 'I', 'J']\n",
    "    d = {}\n",
    "    d2 = {}\n",
    "\n",
    "    for i in index:\n",
    "        for j in range(1, len(index) + 1):\n",
    "            d2[j] = '~'\n",
    "        d[i] = d2\n",
    "\n",
    "    df = pd.DataFrame(d)\n",
    "    df = df.T\n",
    "    return df\n",
    "\n",
    "df = matrix_creator()  \n",
    "df"
   ]
  },
  {
   "cell_type": "code",
   "execution_count": null,
   "metadata": {},
   "outputs": [],
   "source": [
    "# Para recoger info de colocación de barcos\n",
    "def pos_barco():\n",
    "    # Primero: horizontal / vertical --> h / v\n",
    "    barco = input('Qué barco quieres colocar?')\n",
    "    allignment = input('Horizontal (h) o Vertical (v): ').lower()\n",
    "    columna = int(input('Qué columna?'))\n",
    "    fila = input('Qué fila?')\n",
    "\n",
    "    return (barco, allignment, columna, fila)\n",
    "    \n",
    "\n",
    "# Calculador de espacios\n",
    "def calc_espacios(barco):\n",
    "    if barco =='5x1':\n",
    "        barco = 5\n",
    "    elif barco == '4x1':\n",
    "        barco = 4\n",
    "    elif barco == '3x1':\n",
    "        barco = 3\n",
    "    else:\n",
    "        barco = 2\n",
    "    \n",
    "    return barco\n",
    "\n",
    "test = matrix_creator()\n",
    "barco_pos = list(pos_barco())\n",
    "barco_pos[0] = calc_espacios(barco_pos[0])\n",
    "\n",
    "print(barco, allignment, columna, fila)"
   ]
  },
  {
   "cell_type": "code",
   "execution_count": null,
   "metadata": {},
   "outputs": [],
   "source": [
    "# Para reemplazar agua por barcos\n",
    "\n",
    "df = matrix_creator()\n",
    "\n",
    "if barco_pos[1] == 'h':\n",
    "    for i in range(1, barco_pos[0] + 1):\n",
    "        df.loc[fila][i] = '*'\n",
    "else:\n",
    "    for i in range(1, barco_pos[0] + 1):\n",
    "        df.iloc[i][columna] = '*'\n",
    "\n",
    "df"
   ]
  },
  {
   "cell_type": "code",
   "execution_count": null,
   "metadata": {},
   "outputs": [],
   "source": [
    "# 4 barcos tamaño 2x1.\n",
    "# 3 barcos tamaño 3x1.\n",
    "# 2 barcos tamaño 4x1.\n",
    "# 1 barco tamaño 5x1.\n",
    "\n",
    "# 'h', 3, B\n",
    "\n",
    "# I store the amount and size of the different ships to enter in a dictionary for later use\n",
    "ships_to_enter = {'2x1' : {'size' : 2, 'amount' : 4}, '3x1' : {'size' : 3, 'amount' : 3}, '4x1' : {'size' : 4, 'amount' : 2}, '5x1' : {'size' : 5, 'amount' : 1}}\n",
    "\n",
    "# I initiate the player_ships dict, as I'll store the ships' locations in this dictionaries\n",
    "# The values are the lists, with all the parameters that I'll later pass to the ship_drawer function\n",
    "player_ships = {'2x1' : [], '3x1' : [], '4x1' : [], '5x1' : []}\n",
    "\n",
    "# for every key (2x1, 3x1, ..) \n",
    "for i in ships_to_enter.keys():\n",
    "    # count to compare with the amount of ships I need of every type\n",
    "    count = 0\n",
    "    # while the count is lower than the amount I need, keep going\n",
    "    while count < ships_to_enter[i]['amount']:\n",
    "        print('Lets enter the position for your ship {} of size {}'.format(count + 1, i))\n",
    "        # size will be automatically taken from the dict with amount/size info\n",
    "        size = ships_to_enter[i]['size']\n",
    "\n",
    "        # I ask the user for the coordinates\n",
    "        allignment = input('vertical (v) or horizontal (h): ').lower()\n",
    "        column = int(input('Column to start counting'))\n",
    "        row = input('Row to start counting').upper()\n",
    "\n",
    "        # I append the coordinates to the corresponding list within the dictionary\n",
    "        player_ships[i].append([size, allignment, column, row])\n",
    "        # +1 for the ocunt\n",
    "        count += 1\n",
    "\n",
    "    # After every while round, I reset the count\n",
    "    count = 0\n",
    "\n",
    "\n",
    "print(count)\n",
    "print(player_ships)"
   ]
  },
  {
   "cell_type": "code",
   "execution_count": null,
   "metadata": {},
   "outputs": [],
   "source": [
    "player1_ships = []\n",
    "\n",
    "for i in test.keys():\n",
    "    for j in test[i]:\n",
    "        player1_ships.append(Ship(j[0], j[1], j[2], j[3]))"
   ]
  },
  {
   "cell_type": "code",
   "execution_count": null,
   "metadata": {},
   "outputs": [],
   "source": [
    "for i in player1_ships:\n",
    "    print(i.attributes())"
   ]
  },
  {
   "cell_type": "code",
   "execution_count": null,
   "metadata": {},
   "outputs": [],
   "source": [
    "test = Player_board()\n",
    "df = test.matrix_front\n",
    "df\n",
    "\n",
    "coordinate = ['row', 'column']\n",
    "\n",
    "def pointer(df, coordinate):\n",
    "    row, column = coordinate\n",
    "\n",
    "    if df.loc[row][column] == '~':\n",
    "        df.loc[row][column] = 'O'\n",
    "    else:\n",
    "        df.loc[row][column] = 'X'\n",
    "        print('You hit a ship')\n",
    "    \n",
    "    return df\n",
    "\n",
    "coord = ['B', 5]\n",
    "pointer(df, coord)"
   ]
  },
  {
   "cell_type": "code",
   "execution_count": 1,
   "metadata": {},
   "outputs": [
    {
     "output_type": "execute_result",
     "data": {
      "text/plain": [
       "  1  2  3  4  5  6  7  8  9  10\n",
       "A  ~  ~  ~  ~  ~  ~  ~  ~  ~  ~\n",
       "B  *  *  *  ~  ~  ~  ~  ~  ~  ~\n",
       "C  ~  ~  ~  ~  ~  ~  ~  ~  ~  ~\n",
       "D  ~  ~  ~  ~  ~  ~  ~  ~  ~  ~\n",
       "E  ~  ~  ~  ~  ~  ~  ~  ~  ~  ~\n",
       "F  ~  ~  ~  ~  ~  ~  ~  ~  ~  ~\n",
       "G  ~  ~  ~  ~  ~  ~  ~  *  ~  ~\n",
       "H  ~  ~  ~  ~  ~  ~  ~  *  ~  ~\n",
       "I  ~  ~  ~  ~  ~  ~  ~  *  ~  ~\n",
       "J  ~  ~  ~  ~  ~  ~  ~  *  ~  ~"
      ],
      "text/html": "<div>\n<style scoped>\n    .dataframe tbody tr th:only-of-type {\n        vertical-align: middle;\n    }\n\n    .dataframe tbody tr th {\n        vertical-align: top;\n    }\n\n    .dataframe thead th {\n        text-align: right;\n    }\n</style>\n<table border=\"1\" class=\"dataframe\">\n  <thead>\n    <tr style=\"text-align: right;\">\n      <th></th>\n      <th>1</th>\n      <th>2</th>\n      <th>3</th>\n      <th>4</th>\n      <th>5</th>\n      <th>6</th>\n      <th>7</th>\n      <th>8</th>\n      <th>9</th>\n      <th>10</th>\n    </tr>\n  </thead>\n  <tbody>\n    <tr>\n      <th>A</th>\n      <td>~</td>\n      <td>~</td>\n      <td>~</td>\n      <td>~</td>\n      <td>~</td>\n      <td>~</td>\n      <td>~</td>\n      <td>~</td>\n      <td>~</td>\n      <td>~</td>\n    </tr>\n    <tr>\n      <th>B</th>\n      <td>*</td>\n      <td>*</td>\n      <td>*</td>\n      <td>~</td>\n      <td>~</td>\n      <td>~</td>\n      <td>~</td>\n      <td>~</td>\n      <td>~</td>\n      <td>~</td>\n    </tr>\n    <tr>\n      <th>C</th>\n      <td>~</td>\n      <td>~</td>\n      <td>~</td>\n      <td>~</td>\n      <td>~</td>\n      <td>~</td>\n      <td>~</td>\n      <td>~</td>\n      <td>~</td>\n      <td>~</td>\n    </tr>\n    <tr>\n      <th>D</th>\n      <td>~</td>\n      <td>~</td>\n      <td>~</td>\n      <td>~</td>\n      <td>~</td>\n      <td>~</td>\n      <td>~</td>\n      <td>~</td>\n      <td>~</td>\n      <td>~</td>\n    </tr>\n    <tr>\n      <th>E</th>\n      <td>~</td>\n      <td>~</td>\n      <td>~</td>\n      <td>~</td>\n      <td>~</td>\n      <td>~</td>\n      <td>~</td>\n      <td>~</td>\n      <td>~</td>\n      <td>~</td>\n    </tr>\n    <tr>\n      <th>F</th>\n      <td>~</td>\n      <td>~</td>\n      <td>~</td>\n      <td>~</td>\n      <td>~</td>\n      <td>~</td>\n      <td>~</td>\n      <td>~</td>\n      <td>~</td>\n      <td>~</td>\n    </tr>\n    <tr>\n      <th>G</th>\n      <td>~</td>\n      <td>~</td>\n      <td>~</td>\n      <td>~</td>\n      <td>~</td>\n      <td>~</td>\n      <td>~</td>\n      <td>*</td>\n      <td>~</td>\n      <td>~</td>\n    </tr>\n    <tr>\n      <th>H</th>\n      <td>~</td>\n      <td>~</td>\n      <td>~</td>\n      <td>~</td>\n      <td>~</td>\n      <td>~</td>\n      <td>~</td>\n      <td>*</td>\n      <td>~</td>\n      <td>~</td>\n    </tr>\n    <tr>\n      <th>I</th>\n      <td>~</td>\n      <td>~</td>\n      <td>~</td>\n      <td>~</td>\n      <td>~</td>\n      <td>~</td>\n      <td>~</td>\n      <td>*</td>\n      <td>~</td>\n      <td>~</td>\n    </tr>\n    <tr>\n      <th>J</th>\n      <td>~</td>\n      <td>~</td>\n      <td>~</td>\n      <td>~</td>\n      <td>~</td>\n      <td>~</td>\n      <td>~</td>\n      <td>*</td>\n      <td>~</td>\n      <td>~</td>\n    </tr>\n  </tbody>\n</table>\n</div>"
     },
     "metadata": {},
     "execution_count": 1
    }
   ],
   "source": [
    "import pandas as pd\n",
    "\n",
    "class Player_board:\n",
    "    def __init__(self):\n",
    "        self.matrix = self.matrix_creator()\n",
    "\n",
    "    # To draw the board\n",
    "    def matrix_creator(self):\n",
    "        index = ['A', 'B', 'C', 'D', 'E', 'F', 'G', 'H', 'I', 'J']\n",
    "        d = {}\n",
    "        d2 = {}\n",
    "\n",
    "        for i in index:\n",
    "            for j in range(1, len(index) + 1):\n",
    "                d2[j] = '~'\n",
    "            d[i] = d2\n",
    "\n",
    "        df = pd.DataFrame(d)\n",
    "        df = df.T\n",
    "        return df\n",
    "\n",
    "    # To draw the ships\n",
    "    def ship_drawer(self, ship_info):\n",
    "        '''\n",
    "        df -> game board\n",
    "        ship_info -> list with 4 parameters: ship's size, allignment, column and row\n",
    "        '''\n",
    "\n",
    "        df = self.matrix\n",
    "\n",
    "        # parameters unpacking\n",
    "        size, allignment, column, row = ship_info\n",
    "\n",
    "        # I create a list with the the dataframe (board) indexes and another one with the equivalent numeric index\n",
    "        l1 = list(df.index)\n",
    "        l2 = list(range(len(l1)))\n",
    "\n",
    "        # I zip both list for later use in one dict\n",
    "        d = dict(zip(l1, l2))\n",
    "        \n",
    "        try:\n",
    "            # If allignment is h (horizontal)\n",
    "            # column + size - 1 -> because it starts counting the column position. For instance: column = 7, size = 4, ship'd be in 7, 8, 9, 10\n",
    "            if allignment == 'h' and (column + size - 1) <= 10:\n",
    "                # Loop through all the columns starting in the given one up to that column + the ship's size\n",
    "                for i in range(column, column + size):\n",
    "                    df.loc[row][i] = '*'\n",
    "                return df\n",
    "\n",
    "            # In other case (vertical)\n",
    "            # d[row] + size - 1 -> same as before\n",
    "            elif allignment == 'v' and (d[row] + size - 1) <= 10:\n",
    "                # Loop through all the rows starting by the given one up to the row + ship's size\n",
    "                for i in range(d[row], d[row] + size):\n",
    "                    df.iloc[i][column] = '*'\n",
    "                return df\n",
    "\n",
    "        except:\n",
    "            print('The given combination is out of ocean boundaries')\n",
    "\n",
    "    # To draw the ships\n",
    "    # def ship_drawer(self, )\n",
    "\n",
    "player1 = Player_board()\n",
    "\n",
    "a = [4, 'v', 8, 'G']\n",
    "player1.ship_drawer(a)\n",
    "player1.matrix\n",
    "\n",
    "b = [3, 'h', 1, 'B']\n",
    "player1.ship_drawer(b)\n",
    "player1.matrix"
   ]
  },
  {
   "cell_type": "code",
   "execution_count": null,
   "metadata": {},
   "outputs": [],
   "source": []
  }
 ]
}