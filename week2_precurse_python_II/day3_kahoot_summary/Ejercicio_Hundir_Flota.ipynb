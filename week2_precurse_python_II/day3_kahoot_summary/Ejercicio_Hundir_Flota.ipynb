{
  "nbformat": 4,
  "nbformat_minor": 0,
  "metadata": {
    "file_extension": ".py",
    "kernelspec": {
      "name": "python385jvsc74a57bd0dca0ade3e726a953b501b15e8e990130d2b7799f14cfd9f4271676035ebe5511",
      "display_name": "Python 3.8.5 64-bit ('base': conda)"
    },
    "language_info": {
      "codemirror_mode": {
        "name": "ipython",
        "version": 3
      },
      "file_extension": ".py",
      "mimetype": "text/x-python",
      "name": "python",
      "nbconvert_exporter": "python",
      "pygments_lexer": "ipython3",
      "version": "3.8.5"
    },
    "mimetype": "text/x-python",
    "name": "python",
    "npconvert_exporter": "python",
    "pygments_lexer": "ipython3",
    "version": 3,
    "colab": {
      "name": "Ejercicio_Hundir_Flota.ipynb",
      "provenance": [],
      "collapsed_sections": []
    }
  },
  "cells": [
    {
      "cell_type": "markdown",
      "metadata": {
        "id": "n03HN2Ad5FAA"
      },
      "source": [
        "# Ejercicio Hundir La Flota | Challenge yourself | Week 2\n",
        "## Precurso DSApr21 - The Bridge\n",
        "\n",
        "Se mantiene en español para que no se os olvide leer en español. \n",
        "Disculpen las molestias que esto pudiera ocasionarle como estudiante. "
      ]
    },
    {
      "cell_type": "markdown",
      "metadata": {
        "id": "Ks7YHDed5FAM"
      },
      "source": [
        "En este ejercicio deberás programar el juego **hundir la flota** o [**batalla naval**](https://es.wikipedia.org/wiki/Batalla_naval_(juego)) "
      ]
    },
    {
      "cell_type": "markdown",
      "metadata": {
        "id": "B89V2yc-5FAO"
      },
      "source": [
        "El tablero de este juego será una matriz de 10x10 dimensiones, matriz sobre la que plamaremos el estado de cada turno. Cada matriz de información continente del estado en cada momento, se mostrará por pantalla."
      ]
    },
    {
      "cell_type": "markdown",
      "metadata": {
        "id": "HLtHByLv5FAO"
      },
      "source": [
        "![tablero](https://i.pinimg.com/474x/1c/66/ca/1c66ca8d767428dcd1c39285643f3987--yahoo-search.jpg)"
      ]
    },
    {
      "cell_type": "markdown",
      "metadata": {
        "id": "a4kBrHB45FAP"
      },
      "source": [
        "**Las reglas son las siguientes:**\n",
        "\n",
        "- Cada jugador deberá colocar en su tablero:\n",
        "    - 4 barcos tamaño 2x1. \n",
        "\n",
        "    - 3 barcos tamaño 3x1.\n",
        "\n",
        "    - 2 barcos tamaño 4x1.\n",
        "    \n",
        "    - 1 barco tamaño 5x1. \n",
        "    \n",
        "\n",
        "- En cada turno, el jugador correspondiente debe elegir una casilla de la matriz (10x10) y ambos jugadores marcarán la casilla en la matriz.\n",
        "- Si la casilla que se ha elegido es agua, será marcada como un una \"**o**\" y si la casilla que ha marcado es uno de los barcos, la casilla será marcada con una \"**x**\". \n",
        "- Los barcos han de ser mostrados con un \"__*__\" en la matriz. \n",
        "- Los espacios con agua serán mostrados como \"**~**\".\n",
        "\n",
        "Antes de que comience la partida, cada jugador deberá crear su estado inicial. El estado inicial es una configuración de la matriz con todos los barcos colocados. Para ello, el programa debería preguntar, uno a uno, dónde se quiere colocar cada barco. El estilo de pregunta, ha de ser: \n",
        "\n",
        "- Inserte la posición del barco 1 (2x1). El usuario ha de escribir si se quiere insertar en la 4a fila, en horizontal y ocupando las últimas dos columnas: `4h9:10`.\n",
        "- Inserte la posición del barco 2 (2x1). El usuario ha de escribir si se quiere insertar en la 8a fila, en horizontal y ocupando las dos primeras columnas: `8h1:2`.\n",
        "- Inserte la posición del barco 3 (5x1). Si se quiere colocar en vertical empezando por la fila 1 a la 5 y columna 8: `8v1:5`.\n",
        "\n",
        "También tendrás la opción de cargar una partida anteriormente definida en formato [JSON](https://www.w3schools.com/python/python_json.asp).\n",
        "\n",
        "Para saber quien empieza a jugar, los jugadores deberán ponerse de acuerdo para que uno de ellos sea el que llame a una función que devuelva dos valores random del 1 al 6, de tipo entero. El primer valor que se muestre por pantalla será el correspondiente al jugador que llama a la función, el segundo será el del contrincante. Quien saque un valor más alto, empieza. \n",
        "\n",
        "Además, el programa guardará el nombre de los jugadores y el histórico, es decir, todos los estados de la partida. Para ello se utilizará el formato JSON.\n",
        "\n",
        "Cuando un jugador haya creado su estado inicial, este estado también deberá ser guardado en formato JSON. Antes de que se inicie la partida, el otro jugador deberá cargar tu estado inicial y tú el suyo. El estado inicial del enemigo es el que usará tu programa para comprobar si las coordenadas que has utilizado han acertado en el blanco o no. \n",
        "\n",
        "El formato de preguntas por turno es: \n",
        "\n",
        "- `Inserte coordenadas a atacar:`. La respuesta válida será `0x8` --> fila 0, columna 8. \n",
        "\n",
        "Una vez insertada las coordenadas, deberá resultar en que aparezcan tu matriz y la matriz de estado de tu enemigo, esta última con la nueva coordenada marcada sin la flota excepto si el torpedo hubiera dado en el blanco. "
      ]
    },
    {
      "cell_type": "markdown",
      "metadata": {
        "id": "M-jY6WlB5FAR"
      },
      "source": [
        "**A modo de resumen:**\n",
        "\n",
        "1. Se eligen los nombres de jugador. ¡Recuerda no dejar espacios!\n",
        "\n",
        "2. Se pregunta sobre las posiciones de tu flota. Una vez que se haya definido, el sistema debe guardar en JSON el estado de tu flota. OPCIONAL: Puedes cargar una partida a partir de un fichero JSON.\n",
        "\n",
        "3. Se carga el estado inicial de tu enemigo a partir de un fichero JSON que te habrá definido previamente. El fichero estará en una carpeta llamada \"Partidas_Batalla_Naval\". Para cargar el fichero se debe introducir la ruta o nombre del fichero. \n",
        "\n",
        "4. Cuando ambos estéis en el mismo punto y se sepa quien es el primero, se debe escribir *primero* o *segundo*. Si eres primero, el sistema empezará preguntándote las coordenadas. Si eres segundo, el sistema preguntará por las coordenadas del rival. \n",
        "\n",
        "5. Se debe mostrar por pantalla dos matrices: una matriz 10x10 que representa los puntos que has ido marcando, que no mostrará la flota del enemigo excepto si algún barco ha sido dañado, y otra a la derecha que muestre tu flota con los puntos que hayan sido atacados por parte del contrincante. \n",
        "\n",
        "6. Cuando toda la flota de uno de los dos jugadores haya sido exterminada, se mostrará el ganador de la partida. Que si has sido tú el que ha programado este juego, ya habrás ganado incluso antes de empezar a jugar. "
      ]
    },
    {
      "cell_type": "code",
      "metadata": {
        "id": "mhaBXsrC5FAT"
      },
      "source": [
        "# keep calm and keep coding"
      ],
      "execution_count": null,
      "outputs": []
    },
    {
      "cell_type": "code",
      "execution_count": 24,
      "metadata": {},
      "outputs": [
        {
          "output_type": "execute_result",
          "data": {
            "text/plain": [
              "  1  2  3  4  5  6  7  8  9  10\n",
              "A  ~  ~  ~  ~  ~  ~  ~  ~  ~  ~\n",
              "B  ~  ~  ~  ~  ~  ~  ~  ~  ~  ~\n",
              "C  ~  ~  ~  ~  ~  ~  ~  ~  ~  ~\n",
              "D  ~  ~  ~  ~  ~  ~  ~  ~  ~  ~\n",
              "E  ~  ~  ~  ~  ~  ~  ~  ~  ~  ~\n",
              "F  ~  ~  ~  ~  ~  ~  ~  ~  ~  ~\n",
              "G  ~  ~  ~  ~  ~  ~  ~  ~  ~  ~\n",
              "H  ~  ~  ~  ~  ~  ~  ~  ~  ~  ~\n",
              "I  ~  ~  ~  ~  ~  ~  ~  ~  ~  ~\n",
              "J  ~  ~  ~  ~  ~  ~  ~  ~  ~  ~"
            ],
            "text/html": "<div>\n<style scoped>\n    .dataframe tbody tr th:only-of-type {\n        vertical-align: middle;\n    }\n\n    .dataframe tbody tr th {\n        vertical-align: top;\n    }\n\n    .dataframe thead th {\n        text-align: right;\n    }\n</style>\n<table border=\"1\" class=\"dataframe\">\n  <thead>\n    <tr style=\"text-align: right;\">\n      <th></th>\n      <th>1</th>\n      <th>2</th>\n      <th>3</th>\n      <th>4</th>\n      <th>5</th>\n      <th>6</th>\n      <th>7</th>\n      <th>8</th>\n      <th>9</th>\n      <th>10</th>\n    </tr>\n  </thead>\n  <tbody>\n    <tr>\n      <th>A</th>\n      <td>~</td>\n      <td>~</td>\n      <td>~</td>\n      <td>~</td>\n      <td>~</td>\n      <td>~</td>\n      <td>~</td>\n      <td>~</td>\n      <td>~</td>\n      <td>~</td>\n    </tr>\n    <tr>\n      <th>B</th>\n      <td>~</td>\n      <td>~</td>\n      <td>~</td>\n      <td>~</td>\n      <td>~</td>\n      <td>~</td>\n      <td>~</td>\n      <td>~</td>\n      <td>~</td>\n      <td>~</td>\n    </tr>\n    <tr>\n      <th>C</th>\n      <td>~</td>\n      <td>~</td>\n      <td>~</td>\n      <td>~</td>\n      <td>~</td>\n      <td>~</td>\n      <td>~</td>\n      <td>~</td>\n      <td>~</td>\n      <td>~</td>\n    </tr>\n    <tr>\n      <th>D</th>\n      <td>~</td>\n      <td>~</td>\n      <td>~</td>\n      <td>~</td>\n      <td>~</td>\n      <td>~</td>\n      <td>~</td>\n      <td>~</td>\n      <td>~</td>\n      <td>~</td>\n    </tr>\n    <tr>\n      <th>E</th>\n      <td>~</td>\n      <td>~</td>\n      <td>~</td>\n      <td>~</td>\n      <td>~</td>\n      <td>~</td>\n      <td>~</td>\n      <td>~</td>\n      <td>~</td>\n      <td>~</td>\n    </tr>\n    <tr>\n      <th>F</th>\n      <td>~</td>\n      <td>~</td>\n      <td>~</td>\n      <td>~</td>\n      <td>~</td>\n      <td>~</td>\n      <td>~</td>\n      <td>~</td>\n      <td>~</td>\n      <td>~</td>\n    </tr>\n    <tr>\n      <th>G</th>\n      <td>~</td>\n      <td>~</td>\n      <td>~</td>\n      <td>~</td>\n      <td>~</td>\n      <td>~</td>\n      <td>~</td>\n      <td>~</td>\n      <td>~</td>\n      <td>~</td>\n    </tr>\n    <tr>\n      <th>H</th>\n      <td>~</td>\n      <td>~</td>\n      <td>~</td>\n      <td>~</td>\n      <td>~</td>\n      <td>~</td>\n      <td>~</td>\n      <td>~</td>\n      <td>~</td>\n      <td>~</td>\n    </tr>\n    <tr>\n      <th>I</th>\n      <td>~</td>\n      <td>~</td>\n      <td>~</td>\n      <td>~</td>\n      <td>~</td>\n      <td>~</td>\n      <td>~</td>\n      <td>~</td>\n      <td>~</td>\n      <td>~</td>\n    </tr>\n    <tr>\n      <th>J</th>\n      <td>~</td>\n      <td>~</td>\n      <td>~</td>\n      <td>~</td>\n      <td>~</td>\n      <td>~</td>\n      <td>~</td>\n      <td>~</td>\n      <td>~</td>\n      <td>~</td>\n    </tr>\n  </tbody>\n</table>\n</div>"
          },
          "metadata": {},
          "execution_count": 24
        }
      ],
      "source": [
        "import pandas as pd\n",
        "\n",
        "class Player_board:\n",
        "    def __init__(self):\n",
        "        # The one to show the oponent when guessing\n",
        "        self.matrix_front = self.matrix_creator()\n",
        "        # The one with the ships' coordinates info\n",
        "        self.matrix_back = self.matrix_creator()\n",
        "\n",
        "    # To draw the board\n",
        "    def matrix_creator(self):\n",
        "        index = ['A', 'B', 'C', 'D', 'E', 'F', 'G', 'H', 'I', 'J']\n",
        "        d = {}\n",
        "        d2 = {}\n",
        "\n",
        "        for i in index:\n",
        "            for j in range(1, len(index) + 1):\n",
        "                d2[j] = '~'\n",
        "            d[i] = d2\n",
        "\n",
        "        df = pd.DataFrame(d)\n",
        "        df = df.T\n",
        "        return df\n",
        "\n",
        "    # To draw the ships\n",
        "    def ship_drawer(self, ship_info):\n",
        "        '''\n",
        "        df -> game board\n",
        "        ship_info -> list with 4 parameters: ship's size, allignment, column and row\n",
        "        '''\n",
        "\n",
        "        df = self.matrix_back\n",
        "\n",
        "        # parameters unpacking\n",
        "        size, allignment, column, row = ship_info\n",
        "\n",
        "        # I create a list with the the dataframe (board) indexes and another one with the equivalent numeric index\n",
        "        l1 = list(df.index)\n",
        "        l2 = list(range(len(l1)))\n",
        "\n",
        "        # I zip both list for later use in one dict\n",
        "        d = dict(zip(l1, l2))\n",
        "        \n",
        "        try:\n",
        "            # If allignment is h (horizontal)\n",
        "            # column + size - 1 -> because it starts counting the column position. For instance: column = 7, size = 4, ship'd be in 7, 8, 9, 10\n",
        "            if allignment == 'h' and (column + size - 1) <= 10:\n",
        "                # Loop through all the columns starting in the given one up to that column + the ship's size\n",
        "                for i in range(column, column + size):\n",
        "                    df.loc[row][i] = '*'\n",
        "                return df\n",
        "\n",
        "            # In other case (vertical)\n",
        "            # d[row] + size - 1 -> same as before\n",
        "            elif allignment == 'v' and (d[row] + size - 1) <= 10:\n",
        "                # Loop through all the rows starting by the given one up to the row + ship's size\n",
        "                for i in range(d[row], d[row] + size):\n",
        "                    df.iloc[i][column] = '*'\n",
        "                return df\n",
        "\n",
        "        except:\n",
        "            print('The given combination is out of ocean boundaries')\n",
        "\n",
        "    # To draw the oponent player's guess\n",
        "    def pointer(self, coordinate):\n",
        "        column, row = coordinate\n",
        "\n",
        "        if self.matrix_back.loc[row][column] == '~':\n",
        "            self.matrix_back.loc[row][column] = 'O'\n",
        "            self.matrix_front.loc[row][column] = 'O'\n",
        "            return self.matrix_front\n",
        "\n",
        "        elif self.matrix_back.loc[row][column] == '*':\n",
        "            self.matrix_back.loc[row][column] = 'X'\n",
        "            self.matrix_front.loc[row][column] = 'X'\n",
        "            return self.matrix_front\n",
        "\n",
        "        else:\n",
        "            return 'You already tried there'\n",
        "\n",
        "player1 = Player_board()\n",
        "\n",
        "a = [4, 'v', 8, 'G']\n",
        "player1.ship_drawer(a)\n",
        "player1.matrix_front\n",
        "\n",
        "b = [3, 'h', 1, 'B']\n",
        "player1.ship_drawer(b)\n",
        "player1.matrix_front\n",
        "\n",
        "#player1.pointer(['B', 3])\n",
        "#print(player1.matrix_front)\n",
        "#print(player1.matrix_back)\n",
        "#dict(player1.matrix_back.iloc[0].value_counts())"
      ]
    },
    {
      "cell_type": "code",
      "execution_count": 1,
      "metadata": {},
      "outputs": [
        {
          "output_type": "execute_result",
          "data": {
            "text/plain": [
              "1"
            ]
          },
          "metadata": {},
          "execution_count": 1
        }
      ],
      "source": [
        "class Ship:\n",
        "    def __init__(self, size, coordinates):\n",
        "        self.size = size\n",
        "        self.allignment, self.column, self.row = coordinates\n",
        "        self.life = size\n",
        "\n",
        "    def attributes(self):\n",
        "        return [self.size, self.allignment, self.column, self.row, self.life]\n",
        "\n",
        "    def modify_lives(self):\n",
        "        if self.life > 1:\n",
        "            self.life -= 1\n",
        "            return self.life\n",
        "        elif self.life == 1:\n",
        "            self.life -= 1\n",
        "            return 'The ship was sunk'\n",
        "\n",
        "\n",
        "coord = ['h', 1, 'B']\n",
        "ship1 = Ship(3, coord)\n",
        "ship1.attributes()\n",
        "#print(ship1.attributes())\n",
        "\n",
        "ship1.modify_lives()\n",
        "ship1.modify_lives()\n",
        "#print(ship1.modify_lives())\n",
        "#print(ship1.attributes())"
      ]
    },
    {
      "cell_type": "code",
      "execution_count": 4,
      "metadata": {},
      "outputs": [
        {
          "output_type": "stream",
          "name": "stdout",
          "text": [
            "Lets enter the position for your ship 1 of size 2x1\n",
            "Lets enter the position for your ship 2 of size 2x1\n",
            "Lets enter the position for your ship 3 of size 2x1\n",
            "Lets enter the position for your ship 4 of size 2x1\n",
            "Lets enter the position for your ship 1 of size 3x1\n",
            "Lets enter the position for your ship 2 of size 3x1\n",
            "Lets enter the position for your ship 3 of size 3x1\n",
            "Lets enter the position for your ship 1 of size 4x1\n",
            "Lets enter the position for your ship 2 of size 4x1\n",
            "Lets enter the position for your ship 1 of size 5x1\n",
            "[<__main__.Ship object at 0x10dadc040>, <__main__.Ship object at 0x10d536700>, <__main__.Ship object at 0x10de7ab80>, <__main__.Ship object at 0x10ddc9f70>, <__main__.Ship object at 0x10d7c5490>, <__main__.Ship object at 0x10d7c5a30>, <__main__.Ship object at 0x10d7c5ee0>, <__main__.Ship object at 0x10d7c5a00>, <__main__.Ship object at 0x10d7c5a90>, <__main__.Ship object at 0x10dd40b80>]\n",
            "[2, 'h', 3, 'E', 2]\n",
            "[2, 'h', 3, 'E', 2]\n",
            "[2, 'h', 3, 'E', 2]\n",
            "[2, 'h', 3, 'E', 2]\n",
            "[3, 'h', 3, 'E', 3]\n",
            "[3, 'h', 3, 'E', 3]\n",
            "[3, 'h', 3, 'E', 3]\n",
            "[4, 'h', 3, 'E', 4]\n",
            "[4, 'h', 3, 'E', 4]\n",
            "[5, 'h', 3, 'E', 5]\n"
          ]
        }
      ],
      "source": [
        "def ask_coordenates_2():\n",
        "    # I store the amount and size of the different ships to enter in a dictionary for later use\n",
        "    ships_to_enter = {'2x1' : {'size' : 2, 'amount' : 4}, '3x1' : {'size' : 3, 'amount' : 3}, '4x1' : {'size' : 4, 'amount' : 2}, '5x1' : {'size' : 5, 'amount' : 1}}\n",
        "\n",
        "    player_ships = []\n",
        "\n",
        "    # for every key (2x1, 3x1, ..) \n",
        "    for i in ships_to_enter.keys():\n",
        "        # count to compare with the amount of ships I need of every type\n",
        "        count = 0\n",
        "        # while the count is lower than the amount I need, keep going\n",
        "        while count < ships_to_enter[i]['amount']:\n",
        "            print('Lets enter the position for your ship {} of size {}'.format(count + 1, i))\n",
        "            # size will be automatically taken from the dict with amount/size info\n",
        "            size = ships_to_enter[i]['size']\n",
        "\n",
        "            # I ask the user for the coordinates\n",
        "            allignment = input('vertical (v) or horizontal (h): ').lower()\n",
        "            column = int(input('Column to start counting'))\n",
        "            row = input('Row to start counting').upper()\n",
        "\n",
        "            coord = [allignment, column, row]\n",
        "\n",
        "            # I append the coordinates to the corresponding list within the dictionary\n",
        "            ship = Ship(size, coord)\n",
        "            player_ships.append(ship)\n",
        "            # +1 for the ocunt\n",
        "            count += 1\n",
        "\n",
        "        # After every while round, I reset the count\n",
        "        count = 0\n",
        "\n",
        "    return player_ships\n",
        "\n",
        "test = ask_coordenates_2()\n",
        "print(test)\n",
        "for i in test:\n",
        "    print(i.attributes())"
      ]
    },
    {
      "cell_type": "code",
      "execution_count": 9,
      "metadata": {},
      "outputs": [],
      "source": [
        "def ask_enemy_coordinates():\n",
        "    column = int(input('Column'))\n",
        "    row = input('Row').upper()\n",
        "    coordinate = [column, row]\n",
        "\n",
        "    return coordinate\n",
        "\n",
        "#print(ask_enemy_coordinates())"
      ]
    },
    {
      "cell_type": "code",
      "execution_count": 11,
      "metadata": {},
      "outputs": [
        {
          "output_type": "stream",
          "name": "stdout",
          "text": [
            "  1  2  3  4  5  6  7  8  9  10\nA  ~  ~  O  ~  ~  ~  ~  ~  ~  ~\nB  ~  ~  ~  ~  ~  ~  ~  ~  ~  ~\nC  ~  ~  ~  ~  ~  ~  ~  ~  ~  ~\nD  ~  ~  ~  ~  ~  ~  ~  ~  ~  ~\nE  ~  ~  ~  ~  ~  ~  ~  ~  ~  ~\nF  ~  ~  ~  ~  ~  ~  ~  ~  ~  ~\nG  ~  ~  ~  ~  ~  ~  ~  ~  ~  ~\nH  ~  ~  ~  ~  ~  ~  ~  ~  ~  ~\nI  ~  ~  ~  ~  ~  ~  ~  ~  ~  ~\nJ  ~  ~  ~  ~  ~  ~  ~  ~  ~  ~\n  1  2  3  4  5  6  7  8  9  10\nA  ~  ~  O  ~  ~  ~  ~  ~  ~  ~\nB  ~  ~  ~  ~  ~  ~  ~  ~  ~  ~\nC  ~  ~  ~  ~  ~  ~  ~  ~  ~  ~\nD  ~  ~  ~  ~  ~  ~  ~  ~  ~  ~\nE  ~  ~  ~  ~  ~  ~  ~  ~  ~  ~\nF  ~  ~  ~  ~  ~  ~  ~  ~  ~  ~\nG  ~  ~  ~  ~  ~  ~  ~  ~  ~  ~\nH  ~  ~  ~  ~  ~  ~  ~  ~  ~  ~\nI  ~  ~  ~  ~  ~  ~  ~  ~  ~  ~\nJ  ~  ~  ~  ~  ~  ~  ~  ~  ~  ~\n"
          ]
        }
      ],
      "source": [
        "a = ask_enemy_coordinates()\n",
        "player1 = Player_board()\n",
        "\n",
        "player1.pointer(a)\n",
        "print(player1.matrix_front)\n",
        "print(player1.matrix_back)"
      ]
    },
    {
      "cell_type": "code",
      "execution_count": 15,
      "metadata": {},
      "outputs": [
        {
          "output_type": "stream",
          "name": "stdout",
          "text": [
            "True\n1\n"
          ]
        },
        {
          "output_type": "execute_result",
          "data": {
            "text/plain": [
              "  1  2  3  4  5  6  7  8  9  10\n",
              "A  ~  ~  ~  ~  ~  ~  ~  ~  ~  ~\n",
              "B  ~  ~  ~  ~  ~  ~  ~  ~  ~  ~\n",
              "C  ~  ~  ~  ~  ~  ~  ~  ~  ~  ~\n",
              "D  ~  ~  ~  ~  ~  ~  ~  ~  ~  ~\n",
              "E  ~  ~  ~  ~  ~  ~  ~  ~  ~  ~\n",
              "F  ~  ~  ~  ~  ~  ~  ~  ~  ~  ~\n",
              "G  *  *  *  *  *  ~  ~  *  ~  ~\n",
              "H  ~  ~  ~  ~  ~  ~  ~  *  ~  ~\n",
              "I  ~  ~  ~  ~  ~  ~  ~  *  ~  ~\n",
              "J  ~  ~  ~  ~  ~  ~  ~  *  ~  ~"
            ],
            "text/html": "<div>\n<style scoped>\n    .dataframe tbody tr th:only-of-type {\n        vertical-align: middle;\n    }\n\n    .dataframe tbody tr th {\n        vertical-align: top;\n    }\n\n    .dataframe thead th {\n        text-align: right;\n    }\n</style>\n<table border=\"1\" class=\"dataframe\">\n  <thead>\n    <tr style=\"text-align: right;\">\n      <th></th>\n      <th>1</th>\n      <th>2</th>\n      <th>3</th>\n      <th>4</th>\n      <th>5</th>\n      <th>6</th>\n      <th>7</th>\n      <th>8</th>\n      <th>9</th>\n      <th>10</th>\n    </tr>\n  </thead>\n  <tbody>\n    <tr>\n      <th>A</th>\n      <td>~</td>\n      <td>~</td>\n      <td>~</td>\n      <td>~</td>\n      <td>~</td>\n      <td>~</td>\n      <td>~</td>\n      <td>~</td>\n      <td>~</td>\n      <td>~</td>\n    </tr>\n    <tr>\n      <th>B</th>\n      <td>~</td>\n      <td>~</td>\n      <td>~</td>\n      <td>~</td>\n      <td>~</td>\n      <td>~</td>\n      <td>~</td>\n      <td>~</td>\n      <td>~</td>\n      <td>~</td>\n    </tr>\n    <tr>\n      <th>C</th>\n      <td>~</td>\n      <td>~</td>\n      <td>~</td>\n      <td>~</td>\n      <td>~</td>\n      <td>~</td>\n      <td>~</td>\n      <td>~</td>\n      <td>~</td>\n      <td>~</td>\n    </tr>\n    <tr>\n      <th>D</th>\n      <td>~</td>\n      <td>~</td>\n      <td>~</td>\n      <td>~</td>\n      <td>~</td>\n      <td>~</td>\n      <td>~</td>\n      <td>~</td>\n      <td>~</td>\n      <td>~</td>\n    </tr>\n    <tr>\n      <th>E</th>\n      <td>~</td>\n      <td>~</td>\n      <td>~</td>\n      <td>~</td>\n      <td>~</td>\n      <td>~</td>\n      <td>~</td>\n      <td>~</td>\n      <td>~</td>\n      <td>~</td>\n    </tr>\n    <tr>\n      <th>F</th>\n      <td>~</td>\n      <td>~</td>\n      <td>~</td>\n      <td>~</td>\n      <td>~</td>\n      <td>~</td>\n      <td>~</td>\n      <td>~</td>\n      <td>~</td>\n      <td>~</td>\n    </tr>\n    <tr>\n      <th>G</th>\n      <td>*</td>\n      <td>*</td>\n      <td>*</td>\n      <td>*</td>\n      <td>*</td>\n      <td>~</td>\n      <td>~</td>\n      <td>*</td>\n      <td>~</td>\n      <td>~</td>\n    </tr>\n    <tr>\n      <th>H</th>\n      <td>~</td>\n      <td>~</td>\n      <td>~</td>\n      <td>~</td>\n      <td>~</td>\n      <td>~</td>\n      <td>~</td>\n      <td>*</td>\n      <td>~</td>\n      <td>~</td>\n    </tr>\n    <tr>\n      <th>I</th>\n      <td>~</td>\n      <td>~</td>\n      <td>~</td>\n      <td>~</td>\n      <td>~</td>\n      <td>~</td>\n      <td>~</td>\n      <td>*</td>\n      <td>~</td>\n      <td>~</td>\n    </tr>\n    <tr>\n      <th>J</th>\n      <td>~</td>\n      <td>~</td>\n      <td>~</td>\n      <td>~</td>\n      <td>~</td>\n      <td>~</td>\n      <td>~</td>\n      <td>*</td>\n      <td>~</td>\n      <td>~</td>\n    </tr>\n  </tbody>\n</table>\n</div>"
          },
          "metadata": {},
          "execution_count": 15
        }
      ],
      "source": [
        "player_test = Player_board()\n",
        "\n",
        "a = [4, 'v', 8, 'G']\n",
        "player_test.ship_drawer(a)\n",
        "\n",
        "b = [5, 'h', 1, 'G']\n",
        "player_test.ship_drawer(b)\n",
        "\n",
        "#player_test.matrix_back\n",
        "lifes1 = dict(player_test.matrix_back.iloc[0].value_counts())\n",
        "lifes2 = dict(player_test.matrix_back.iloc[8].value_counts())\n",
        "\n",
        "print('*' in list(lifes2.keys()))\n",
        "\n",
        "total_life = 0\n",
        "\n",
        "if '*' in lifes2.keys():\n",
        "    total_life += lifes2['*']\n",
        "\n",
        "print(total_life)\n",
        "\n",
        "player_test.matrix_back"
      ]
    },
    {
      "cell_type": "code",
      "execution_count": 25,
      "metadata": {},
      "outputs": [
        {
          "output_type": "stream",
          "name": "stdout",
          "text": [
            "9\n  1  2  3  4  5  6  7  8  9  10\nA  ~  ~  ~  ~  ~  ~  ~  ~  ~  ~\nB  ~  ~  ~  ~  ~  ~  ~  ~  ~  ~\nC  ~  ~  ~  ~  ~  ~  ~  ~  ~  ~\nD  ~  ~  ~  ~  ~  ~  ~  ~  ~  ~\nE  ~  ~  ~  ~  ~  ~  ~  ~  ~  ~\nF  ~  ~  ~  ~  ~  ~  ~  ~  ~  ~\nG  *  *  *  *  *  ~  ~  *  ~  ~\nH  ~  ~  ~  ~  ~  ~  ~  *  ~  ~\nI  ~  ~  ~  ~  ~  ~  ~  *  ~  ~\nJ  ~  ~  ~  ~  ~  ~  ~  *  ~  ~\n"
          ]
        }
      ],
      "source": [
        "column_lifes = {}\n",
        "total_lifes = 0\n",
        "\n",
        "for i in range(10):\n",
        "    column_lifes = dict(player_test.matrix_back.iloc[i].value_counts())\n",
        "\n",
        "    if '*' in column_lifes.keys():\n",
        "        total_lifes += column_lifes['*']\n",
        "\n",
        "print(total_lifes)\n",
        "print(player_test.matrix_back)"
      ]
    },
    {
      "cell_type": "code",
      "execution_count": 26,
      "metadata": {},
      "outputs": [],
      "source": [
        "def board_lifes(board):\n",
        "    column_lifes = {}\n",
        "    total_lifes = 0\n",
        "\n",
        "    for i in range(10):\n",
        "        column_lifes = dict(board.matrix_back.iloc[i].value_counts())\n",
        "\n",
        "        if '*' in column_lifes.keys():\n",
        "            total_lifes += column_lifes['*']\n",
        "\n",
        "    return total_lifes"
      ]
    },
    {
      "cell_type": "code",
      "execution_count": 28,
      "metadata": {},
      "outputs": [
        {
          "output_type": "stream",
          "name": "stdout",
          "text": [
            "9\n  1  2  3  4  5  6  7  8  9  10\nA  ~  ~  ~  ~  ~  ~  ~  ~  ~  ~\nB  ~  ~  ~  ~  ~  ~  ~  ~  ~  ~\nC  ~  ~  ~  ~  ~  ~  ~  ~  ~  ~\nD  ~  ~  ~  ~  ~  ~  ~  ~  ~  ~\nE  ~  ~  ~  ~  ~  ~  ~  ~  ~  ~\nF  ~  ~  ~  ~  ~  ~  ~  ~  ~  ~\nG  *  *  *  *  *  ~  ~  *  ~  ~\nH  ~  ~  ~  ~  ~  ~  ~  *  ~  ~\nI  ~  ~  ~  ~  ~  ~  ~  *  ~  ~\nJ  ~  ~  ~  ~  ~  ~  ~  *  ~  ~\n"
          ]
        }
      ],
      "source": [
        "lifes = board_lifes(player_test)\n",
        "print(lifes)\n",
        "print(player_test.matrix_back)"
      ]
    },
    {
      "cell_type": "markdown",
      "metadata": {
        "id": "4gE-1s6R5FAV"
      },
      "source": [
        " Ten en cuenta que lo ideal será que programes este juego en `.py` de modo que puedas ejecutar dicho programa por la terminal. "
      ]
    }
  ]
}