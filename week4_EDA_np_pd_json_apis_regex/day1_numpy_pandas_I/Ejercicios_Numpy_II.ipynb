{
  "nbformat": 4,
  "nbformat_minor": 0,
  "metadata": {
    "kernelspec": {
      "name": "python374jvsc74a57bd0aee8b7b246df8f9039afb4144a1f6fd8d2ca17a180786b69acc140d282b71a49",
      "display_name": "Python 3.7.4 64-bit"
    },
    "language_info": {
      "codemirror_mode": {
        "name": "ipython",
        "version": 3
      },
      "file_extension": ".py",
      "mimetype": "text/x-python",
      "name": "python",
      "nbconvert_exporter": "python",
      "pygments_lexer": "ipython3",
      "version": "3.7.4"
    },
    "colab": {
      "name": "Ejercicios Numpy II.ipynb",
      "provenance": []
    },
    "metadata": {
      "interpreter": {
        "hash": "aee8b7b246df8f9039afb4144a1f6fd8d2ca17a180786b69acc140d282b71a49"
      }
    }
  },
  "cells": [
    {
      "cell_type": "markdown",
      "metadata": {
        "id": "U5U97li5tUlP"
      },
      "source": [
        "# Ejercicios Numpy II"
      ]
    },
    {
      "cell_type": "markdown",
      "metadata": {
        "id": "f9Kwz-7xtUlU"
      },
      "source": [
        "## Ejercicio 1\n",
        "1. Crea un array que vaya del 0 al 9 y que se llame `my_array`\n",
        "2. Imprime por pantalla los elementos [9 7 5 3 1] en ese orden."
      ]
    },
    {
      "cell_type": "code",
      "execution_count": 2,
      "metadata": {},
      "outputs": [],
      "source": [
        "import numpy as np"
      ]
    },
    {
      "cell_type": "code",
      "metadata": {
        "id": "Fuh8yfavtUlV"
      },
      "source": [
        "my_array = np.arange(10)\n",
        "my_array[::-2]"
      ],
      "execution_count": 4,
      "outputs": [
        {
          "output_type": "execute_result",
          "data": {
            "text/plain": [
              "array([9, 7, 5, 3, 1])"
            ]
          },
          "metadata": {},
          "execution_count": 4
        }
      ]
    },
    {
      "cell_type": "markdown",
      "metadata": {
        "id": "f-nZuhu9tUlW"
      },
      "source": [
        "## Ejercicio 2\n",
        "Imprime por pantalla la secuencia [[8 7]] del array `my_array`"
      ]
    },
    {
      "cell_type": "code",
      "metadata": {
        "id": "1O4ieHDwtUlW"
      },
      "source": [
        "my_array[8:6:-1]"
      ],
      "execution_count": 14,
      "outputs": [
        {
          "output_type": "execute_result",
          "data": {
            "text/plain": [
              "array([8, 7])"
            ]
          },
          "metadata": {},
          "execution_count": 14
        }
      ]
    },
    {
      "cell_type": "markdown",
      "metadata": {
        "id": "bq35LEI4tUlW"
      },
      "source": [
        "## Ejercicio 3\n",
        "Imprime por pantalla la secuencia [[2 1 0]] de `my_array`"
      ]
    },
    {
      "cell_type": "code",
      "metadata": {
        "id": "-eal0LZltUlW"
      },
      "source": [
        "my_array[2::-1]"
      ],
      "execution_count": 15,
      "outputs": [
        {
          "output_type": "execute_result",
          "data": {
            "text/plain": [
              "array([2, 1, 0])"
            ]
          },
          "metadata": {},
          "execution_count": 15
        }
      ]
    },
    {
      "cell_type": "markdown",
      "metadata": {
        "id": "6iXMX3XEtUlX"
      },
      "source": [
        "## Ejercicio 4\n",
        "1. Crea una matriz de 4x5, con una secuencia del 1 al 20\n",
        "2. Invierte totalmente la matriz. Tanto las filas, como las columnas"
      ]
    },
    {
      "cell_type": "code",
      "metadata": {
        "id": "E3wYhrVdtUlX"
      },
      "source": [
        "matrix = np.arange(1, 21).reshape(4, 5)\n",
        "matrix"
      ],
      "execution_count": 3,
      "outputs": [
        {
          "output_type": "execute_result",
          "data": {
            "text/plain": [
              "array([[ 1,  2,  3,  4,  5],\n",
              "       [ 6,  7,  8,  9, 10],\n",
              "       [11, 12, 13, 14, 15],\n",
              "       [16, 17, 18, 19, 20]])"
            ]
          },
          "metadata": {},
          "execution_count": 3
        }
      ]
    },
    {
      "cell_type": "markdown",
      "metadata": {
        "id": "hnNPRJp5tUlX"
      },
      "source": [
        "## Ejercicio 5\n",
        "\n",
        "Obtén el siguiente array, partiendo de la matriz del ejercicio 4\n",
        "```Python\n",
        "array([[1, 2],\n",
        "       [6, 7]])\n",
        "```"
      ]
    },
    {
      "cell_type": "code",
      "metadata": {
        "id": "KoVQS07-tUlX"
      },
      "source": [
        "np.transpose(matrix)"
      ],
      "execution_count": 26,
      "outputs": [
        {
          "output_type": "execute_result",
          "data": {
            "text/plain": [
              "array([[ 1,  6, 11, 16],\n",
              "       [ 2,  7, 12, 17],\n",
              "       [ 3,  8, 13, 18],\n",
              "       [ 4,  9, 14, 19],\n",
              "       [ 5, 10, 15, 20]])"
            ]
          },
          "metadata": {},
          "execution_count": 26
        }
      ]
    },
    {
      "cell_type": "markdown",
      "metadata": {
        "id": "UgAt1_KgtUlY"
      },
      "source": [
        "## Ejercicio 6\n",
        "Obtén el siguiente array, partiendo de la matriz del ejercicio 4\n",
        "```Python\n",
        "array([[ 1,  3,  5],\n",
        "       [11, 13, 15]])\n",
        "```"
      ]
    },
    {
      "cell_type": "code",
      "metadata": {
        "id": "mDFkfY5ItUlY"
      },
      "source": [
        "matrix[0::2, 0::2]"
      ],
      "execution_count": 28,
      "outputs": [
        {
          "output_type": "execute_result",
          "data": {
            "text/plain": [
              "array([[ 1,  3,  5],\n",
              "       [11, 13, 15]])"
            ]
          },
          "metadata": {},
          "execution_count": 28
        }
      ]
    },
    {
      "cell_type": "markdown",
      "metadata": {
        "id": "TZ4-fdKGtUlY"
      },
      "source": [
        "## Ejercicio 7\n",
        "Obtén el siguiente array, partiendo de la matriz del ejercicio 4\n",
        "```Python\n",
        "array([[ 5,  4,  3,  2,  1],\n",
        "       [10,  9,  8,  7,  6],\n",
        "       [15, 14, 13, 12, 11]])\n",
        "```"
      ]
    },
    {
      "cell_type": "code",
      "metadata": {
        "id": "70wau83TtUlY"
      },
      "source": [
        "matrix[:-1, ::-1]"
      ],
      "execution_count": 31,
      "outputs": [
        {
          "output_type": "execute_result",
          "data": {
            "text/plain": [
              "array([[ 5,  4,  3,  2,  1],\n",
              "       [10,  9,  8,  7,  6],\n",
              "       [15, 14, 13, 12, 11]])"
            ]
          },
          "metadata": {},
          "execution_count": 31
        }
      ]
    },
    {
      "cell_type": "markdown",
      "metadata": {
        "id": "SQzOo011tUlY"
      },
      "source": [
        "## Ejercicio 8\n",
        "Dado el siguiente array:\n",
        "\n",
        "```Python\n",
        "x = np.array([\"Loro\", \"Perro\", \"Gato\", \"Loro\", \"Perro\"])\n",
        "```\n",
        "\n",
        "Filtra el array para quedarte únicamente con los loros.\n",
        "\n",
        "Resuélvelo de dos maneras diferentes"
      ]
    },
    {
      "cell_type": "code",
      "metadata": {
        "id": "hnTtOumKtUlZ"
      },
      "source": [
        "# 1)\n",
        "x = np.array([\"Loro\", \"Perro\", \"Gato\", \"Loro\", \"Perro\"])\n",
        "\n",
        "x[x == 'Loro']"
      ],
      "execution_count": 32,
      "outputs": [
        {
          "output_type": "execute_result",
          "data": {
            "text/plain": [
              "array(['Loro', 'Loro'], dtype='<U5')"
            ]
          },
          "metadata": {},
          "execution_count": 32
        }
      ]
    },
    {
      "cell_type": "code",
      "metadata": {
        "id": "qqIPcIbQtUlZ"
      },
      "source": [
        "# 2)\n",
        "x = np.array([\"Loro\", \"Perro\", \"Gato\", \"Loro\", \"Perro\"])\n",
        "\n",
        "\n",
        "cond = 'Loro'\n",
        "x[x == cond]"
      ],
      "execution_count": 33,
      "outputs": [
        {
          "output_type": "execute_result",
          "data": {
            "text/plain": [
              "array(['Loro', 'Loro'], dtype='<U5')"
            ]
          },
          "metadata": {},
          "execution_count": 33
        }
      ]
    },
    {
      "cell_type": "markdown",
      "metadata": {
        "id": "GJAvz4PKtUlZ"
      },
      "source": [
        "## Ejercicio 9\n",
        "Crea una secuencia de 20 elementos y transformala en un array compuesto por 2 matrices de 5x2"
      ]
    },
    {
      "cell_type": "code",
      "metadata": {
        "id": "a9pU1RkUtUlZ"
      },
      "source": [
        "seq = np.arange(20)\n",
        "a, b = np.split(seq, [10])\n",
        "a = a.reshape(5, 2)\n",
        "b = b.reshape(5, 2)\n",
        "print(a, '\\n')\n",
        "print(b, '\\n')"
      ],
      "execution_count": 42,
      "outputs": [
        {
          "output_type": "stream",
          "name": "stdout",
          "text": [
            "[[0 1]\n [2 3]\n [4 5]\n [6 7]\n [8 9]] \n\n[[10 11]\n [12 13]\n [14 15]\n [16 17]\n [18 19]] \n\n"
          ]
        }
      ]
    },
    {
      "cell_type": "markdown",
      "metadata": {
        "id": "006zeIzWtUlZ"
      },
      "source": [
        "## Ejercicio 10\n",
        "Obtén el siguiente array, partiendo de la matriz del **ejercicio 4**\n",
        "```Python\n",
        "array([[20, 19, 18, 17, 16],\n",
        "       [15, 14, 13, 12, 11],\n",
        "       [10,  9,  8,  7,  6],\n",
        "       [ 5,  4,  3,  2,  1]])\n",
        "```"
      ]
    },
    {
      "cell_type": "code",
      "metadata": {
        "id": "z9Ivc2y4tUlZ"
      },
      "source": [
        "matrix[::-1, ::-1]"
      ],
      "execution_count": 5,
      "outputs": [
        {
          "output_type": "execute_result",
          "data": {
            "text/plain": [
              "array([[20, 19, 18, 17, 16],\n",
              "       [15, 14, 13, 12, 11],\n",
              "       [10,  9,  8,  7,  6],\n",
              "       [ 5,  4,  3,  2,  1]])"
            ]
          },
          "metadata": {},
          "execution_count": 5
        }
      ]
    },
    {
      "cell_type": "markdown",
      "metadata": {
        "id": "NtVlnDLqtUlZ"
      },
      "source": [
        "## Ejercicio 11\n",
        "Crea un array de 10 0s. ¿Cuánto ocupa en memoria?\n",
        "\n",
        "Sustituye el 4to elemento por 1, e imprime el array por pantalla"
      ]
    },
    {
      "cell_type": "code",
      "metadata": {
        "id": "EltKNSIKtUla"
      },
      "source": [
        "from sys import getsizeof\n",
        "zero = np.zeros(10)\n",
        "print('Memory usage: ', getsizeof(zero))\n",
        "zero[4] = 1\n",
        "zero"
      ],
      "execution_count": 8,
      "outputs": [
        {
          "output_type": "stream",
          "name": "stdout",
          "text": [
            "Memory usage:  184\n"
          ]
        },
        {
          "output_type": "execute_result",
          "data": {
            "text/plain": [
              "array([0., 0., 0., 0., 1., 0., 0., 0., 0., 0.])"
            ]
          },
          "metadata": {},
          "execution_count": 8
        }
      ]
    },
    {
      "cell_type": "markdown",
      "metadata": {
        "id": "TuyPWVistUla"
      },
      "source": [
        "## Ejercicio 12\n",
        "Crea un vector que vaya del 10 al 49\n",
        "\n",
        "Inviértelo"
      ]
    },
    {
      "cell_type": "code",
      "metadata": {
        "id": "-wtKq68itUla"
      },
      "source": [
        "new_array = np.arange(10, 50)\n",
        "new_array[::-1]"
      ],
      "execution_count": 10,
      "outputs": [
        {
          "output_type": "execute_result",
          "data": {
            "text/plain": [
              "array([49, 48, 47, 46, 45, 44, 43, 42, 41, 40, 39, 38, 37, 36, 35, 34, 33,\n",
              "       32, 31, 30, 29, 28, 27, 26, 25, 24, 23, 22, 21, 20, 19, 18, 17, 16,\n",
              "       15, 14, 13, 12, 11, 10])"
            ]
          },
          "metadata": {},
          "execution_count": 10
        }
      ]
    },
    {
      "cell_type": "markdown",
      "metadata": {
        "id": "Tn--wXyYtUla"
      },
      "source": [
        "## Ejericio 13\n",
        "Encuentra los indices de los valores que no sean 0 del siguiente vector [[1,2,0,0,4,0]]. El output sería [[0, 1, 4]]. [Encuentra el método apropiado en la documentación.](https://numpy.org/doc/)"
      ]
    },
    {
      "cell_type": "code",
      "metadata": {
        "id": "iZ42GMI9tUla"
      },
      "source": [
        "arr = np.array([1,2,0,0,4,0])\n",
        "result = np.where(arr != 0)\n",
        "print('Indexes of values different than 0: ', result[0])"
      ],
      "execution_count": 17,
      "outputs": [
        {
          "output_type": "stream",
          "name": "stdout",
          "text": [
            "Indexes of values different than 0:  [0 1 4]\n"
          ]
        }
      ]
    },
    {
      "cell_type": "markdown",
      "metadata": {
        "id": "0goReT7AtUla"
      },
      "source": [
        "## Ejercicio 14\n",
        "Crea una matriz de numeros aleatorios 10x10. Encuentra los valores mínimo y máximo."
      ]
    },
    {
      "cell_type": "code",
      "metadata": {
        "id": "mOKz2yPltUla"
      },
      "source": [
        "new_matrix = np.random.randint(10000, size = (10, 10))\n",
        "print('Max: ', new_matrix.max())\n",
        "print('Min: ', new_matrix.min())\n"
      ],
      "execution_count": 28,
      "outputs": [
        {
          "output_type": "stream",
          "name": "stdout",
          "text": [
            "Max:  9988\nMin:  238\n"
          ]
        }
      ]
    },
    {
      "cell_type": "markdown",
      "metadata": {
        "id": "qIKva3ojtUlb"
      },
      "source": [
        "## Ejercicio 15\n",
        "Crea un vector aleatorio de tamaño 30 y calcula su media"
      ]
    },
    {
      "cell_type": "code",
      "metadata": {
        "id": "yOcRluyltUlb"
      },
      "source": [
        "arr2 = np.random.randint(10000, size = (1, 30))\n",
        "print('Array mean:', arr2.mean())"
      ],
      "execution_count": 33,
      "outputs": [
        {
          "output_type": "stream",
          "name": "stdout",
          "text": [
            "Array mean: 4471.533333333334\n"
          ]
        }
      ]
    },
    {
      "cell_type": "markdown",
      "metadata": {
        "id": "0jtarVzOtUlb"
      },
      "source": [
        "## Ejercicio 16\n",
        "Crea un array cuadrado de 2D, con las dimensiones que quieras, pero que todo el borde esté compuesto por 1s, y el interior por 0s"
      ]
    },
    {
      "cell_type": "code",
      "metadata": {
        "id": "YPAJsy2stUlb"
      },
      "source": [
        "arr3 = np.ones((10, 10))\n",
        "inner = arr3[1:-1, 1:-1]\n",
        "inner.fill(0)\n",
        "arr3"
      ],
      "execution_count": 43,
      "outputs": [
        {
          "output_type": "execute_result",
          "data": {
            "text/plain": [
              "array([[1., 1., 1., 1., 1., 1., 1., 1., 1., 1.],\n",
              "       [1., 0., 0., 0., 0., 0., 0., 0., 0., 1.],\n",
              "       [1., 0., 0., 0., 0., 0., 0., 0., 0., 1.],\n",
              "       [1., 0., 0., 0., 0., 0., 0., 0., 0., 1.],\n",
              "       [1., 0., 0., 0., 0., 0., 0., 0., 0., 1.],\n",
              "       [1., 0., 0., 0., 0., 0., 0., 0., 0., 1.],\n",
              "       [1., 0., 0., 0., 0., 0., 0., 0., 0., 1.],\n",
              "       [1., 0., 0., 0., 0., 0., 0., 0., 0., 1.],\n",
              "       [1., 0., 0., 0., 0., 0., 0., 0., 0., 1.],\n",
              "       [1., 1., 1., 1., 1., 1., 1., 1., 1., 1.]])"
            ]
          },
          "metadata": {},
          "execution_count": 43
        }
      ]
    },
    {
      "cell_type": "markdown",
      "metadata": {
        "id": "V9NKDABWtUlb"
      },
      "source": [
        "## Ejercicio 17\n",
        "Crea una matriz de 8x8, y rellénala con 0s y 1s. Tienes que replicar:\n",
        "```Python\n",
        "[[0 1 0 1 0 1 0 1]\n",
        " [1 0 1 0 1 0 1 0]\n",
        " [0 1 0 1 0 1 0 1]\n",
        " [1 0 1 0 1 0 1 0]\n",
        " [0 1 0 1 0 1 0 1]\n",
        " [1 0 1 0 1 0 1 0]\n",
        " [0 1 0 1 0 1 0 1]\n",
        " [1 0 1 0 1 0 1 0]]\n",
        "```"
      ]
    },
    {
      "cell_type": "code",
      "metadata": {
        "id": "0oTU0BXLtUlb"
      },
      "source": [
        "iden_2 = np.identity(2)\n",
        "iden_2_inv = iden_2[::-1]\n",
        "iden_2_inv = np.concatenate([iden_2_inv, iden_2_inv], axis = 1)\n",
        "iden_2_inv = np.concatenate([iden_2_inv, iden_2_inv], axis = 1)\n",
        "iden_2_inv = np.concatenate([iden_2_inv, iden_2_inv])\n",
        "iden_2_inv = np.concatenate([iden_2_inv, iden_2_inv])\n",
        "iden_2_inv"
      ],
      "execution_count": 60,
      "outputs": [
        {
          "output_type": "execute_result",
          "data": {
            "text/plain": [
              "array([[0., 1., 0., 1., 0., 1., 0., 1.],\n",
              "       [1., 0., 1., 0., 1., 0., 1., 0.],\n",
              "       [0., 1., 0., 1., 0., 1., 0., 1.],\n",
              "       [1., 0., 1., 0., 1., 0., 1., 0.],\n",
              "       [0., 1., 0., 1., 0., 1., 0., 1.],\n",
              "       [1., 0., 1., 0., 1., 0., 1., 0.],\n",
              "       [0., 1., 0., 1., 0., 1., 0., 1.],\n",
              "       [1., 0., 1., 0., 1., 0., 1., 0.]])"
            ]
          },
          "metadata": {},
          "execution_count": 60
        }
      ]
    },
    {
      "cell_type": "markdown",
      "metadata": {
        "id": "2f22sJantUlb"
      },
      "source": [
        "## Ejercicio 18\n",
        "Replica la matriz del apartado anterior, pero en este caso usando [la función `tile`](https://numpy.org/doc/stable/reference/generated/numpy.tile.html)"
      ]
    },
    {
      "cell_type": "code",
      "metadata": {
        "id": "_uqyqFxUtUlc"
      },
      "source": [
        "np.tile([0, 1], (8, 4))"
      ],
      "execution_count": 66,
      "outputs": [
        {
          "output_type": "execute_result",
          "data": {
            "text/plain": [
              "array([[0, 1, 0, 1, 0, 1, 0, 1],\n",
              "       [0, 1, 0, 1, 0, 1, 0, 1],\n",
              "       [0, 1, 0, 1, 0, 1, 0, 1],\n",
              "       [0, 1, 0, 1, 0, 1, 0, 1],\n",
              "       [0, 1, 0, 1, 0, 1, 0, 1],\n",
              "       [0, 1, 0, 1, 0, 1, 0, 1],\n",
              "       [0, 1, 0, 1, 0, 1, 0, 1],\n",
              "       [0, 1, 0, 1, 0, 1, 0, 1]])"
            ]
          },
          "metadata": {},
          "execution_count": 66
        }
      ]
    },
    {
      "cell_type": "markdown",
      "metadata": {
        "id": "Pr8jlEI7tUlc"
      },
      "source": [
        "## Ejercicio 19\n",
        "Crea una matriz aleatoria de 5x5 y normaliza sus valores. Para normalizar tienes que restar sus valores por la media(`np.mean`) y dividir el resultado por la desviación estándar(`np.std`)."
      ]
    },
    {
      "cell_type": "code",
      "metadata": {
        "id": "lBY_AqabtUlc"
      },
      "source": [
        "matrix2 = np.random.randint(100000, size = (5, 5))\n",
        "matrix2_norm = (matrix2 - matrix2.mean())/ matrix2.std()\n",
        "matrix2_norm"
      ],
      "execution_count": 69,
      "outputs": [
        {
          "output_type": "execute_result",
          "data": {
            "text/plain": [
              "array([[-0.06518453, -0.31597354, -0.617027  ,  1.20621447, -1.30313314],\n",
              "       [-1.39928967, -0.20776635, -0.212352  ,  1.5858639 , -0.51649811],\n",
              "       [-1.44951856, -0.07360933,  1.32974273,  1.03938912,  0.79005756],\n",
              "       [ 0.51964622, -1.61079847,  0.48509385,  1.48647253, -0.02042997],\n",
              "       [-1.47134485, -1.0504601 , -0.20360727,  0.73460315,  1.33990937]])"
            ]
          },
          "metadata": {},
          "execution_count": 69
        }
      ]
    },
    {
      "cell_type": "markdown",
      "metadata": {
        "id": "lqsPy5MqtUlc"
      },
      "source": [
        "## Ejercicio 20\n",
        "1. Crea una secuencia de números que vayan del 0 al 10.\n",
        "2. Crea un nuevo array, que parta del anterior, pero sustituya todos los elementos entre el 3 y el 8, por el valor -1\n",
        "3. Crea un nuevo array que niegue todos los elementos entre el 3 y el 8"
      ]
    },
    {
      "cell_type": "code",
      "metadata": {
        "id": "4TCPCvA7tUlc"
      },
      "source": [
        "seq2 = np.arange(11)\n",
        "to_replace = seq2[3:9]\n",
        "to_replace.fill(-1)\n",
        "seq2[seq2 > 0]"
      ],
      "execution_count": 75,
      "outputs": [
        {
          "output_type": "execute_result",
          "data": {
            "text/plain": [
              "array([ 1,  2,  9, 10])"
            ]
          },
          "metadata": {},
          "execution_count": 75
        }
      ]
    },
    {
      "cell_type": "markdown",
      "metadata": {
        "id": "qNFxswm5tUlc"
      },
      "source": [
        "## Ejercicio 21 \n",
        "#### Bonus track. Mini hundir la flota para ir practicando.\n",
        "##### Te ayudará a entender la lógica de la tarea Hundir la Flota.\n",
        "1. Crea un tablero de 10x10 relleno del carácter espacio ( ).\n",
        "2. Posiciona un par de barcos en [(0,1), (1,1)] y [(1,3), (1,4), (1,5), (1,6)]. Los barcos serán Os mayúsculas. Como ves, un barco de dos posiciones de eslora y otro de cuatro.\n",
        "3. Recibe un disparo en uno de los barcos, sustituyendo la O por una X\n",
        "4. Recibe un disparo en agua, sustituyendo uno de los espacios por un guión: -\n",
        "5. Ignorando los disparos recibidos, ahora prueba a posicionar otro barco de 4 posiciones dentro del tablero, pero **de manera ALEATORIA.**\n",
        "\n",
        "**TIP apartado 5**: El barco tendrá una posición inicial aleatoria dentro del tablero, y una orientación también aleatoria (N,S,E,O).\n",
        "\n",
        "Por ejemplo, si tu posicion inicial fuese (5,0) y la orientación O, no podrias ponerlo porque se sale del tablero. Ahora bien, si fuese orientación este, si podrías, y ocuparía las posiciones [(5,0), (5,1), (5,2), (5,3)]. Por tanto tendrás que iterar con un bucle si es posible encajar el barco en el tablero, y el bucle terminará cuando lo consigas encajar. **Ojo con las posiciones donde ya hay barco!!!**\n",
        "\n",
        "Usa `import random` para elegir las coordenadas aleatorias."
      ]
    },
    {
      "cell_type": "code",
      "metadata": {
        "id": "EOlD0csstUld"
      },
      "source": [],
      "execution_count": null,
      "outputs": []
    }
  ]
}