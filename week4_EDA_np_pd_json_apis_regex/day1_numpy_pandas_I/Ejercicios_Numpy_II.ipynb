{
  "nbformat": 4,
  "nbformat_minor": 0,
  "metadata": {
    "kernelspec": {
      "display_name": "Python 3",
      "language": "python",
      "name": "python3"
    },
    "language_info": {
      "codemirror_mode": {
        "name": "ipython",
        "version": 3
      },
      "file_extension": ".py",
      "mimetype": "text/x-python",
      "name": "python",
      "nbconvert_exporter": "python",
      "pygments_lexer": "ipython3",
      "version": "3.8.6"
    },
    "colab": {
      "name": "Ejercicios Numpy II.ipynb",
      "provenance": []
    }
  },
  "cells": [
    {
      "cell_type": "markdown",
      "metadata": {
        "id": "U5U97li5tUlP"
      },
      "source": [
        "# Ejercicios Numpy II"
      ]
    },
    {
      "cell_type": "markdown",
      "metadata": {
        "id": "f9Kwz-7xtUlU"
      },
      "source": [
        "## Ejercicio 1\n",
        "1. Crea un array que vaya del 0 al 9 y que se llame `my_array`\n",
        "2. Imprime por pantalla los elementos [9 7 5 3 1] en ese orden."
      ]
    },
    {
      "cell_type": "code",
      "metadata": {
        "id": "Fuh8yfavtUlV"
      },
      "source": [
        ""
      ],
      "execution_count": null,
      "outputs": []
    },
    {
      "cell_type": "markdown",
      "metadata": {
        "id": "f-nZuhu9tUlW"
      },
      "source": [
        "## Ejercicio 2\n",
        "Imprime por pantalla la secuencia [[8 7]] del array `my_array`"
      ]
    },
    {
      "cell_type": "code",
      "metadata": {
        "id": "1O4ieHDwtUlW"
      },
      "source": [
        ""
      ],
      "execution_count": null,
      "outputs": []
    },
    {
      "cell_type": "markdown",
      "metadata": {
        "id": "bq35LEI4tUlW"
      },
      "source": [
        "## Ejercicio 3\n",
        "Imprime por pantalla la secuencia [[2 1 0]] de `my_array`"
      ]
    },
    {
      "cell_type": "code",
      "metadata": {
        "id": "-eal0LZltUlW"
      },
      "source": [
        ""
      ],
      "execution_count": null,
      "outputs": []
    },
    {
      "cell_type": "markdown",
      "metadata": {
        "id": "6iXMX3XEtUlX"
      },
      "source": [
        "## Ejercicio 4\n",
        "1. Crea una matriz de 4x5, con una secuencia del 1 al 20\n",
        "2. Invierte totalmente la matriz. Tanto las filas, como las columnas"
      ]
    },
    {
      "cell_type": "code",
      "metadata": {
        "id": "E3wYhrVdtUlX"
      },
      "source": [
        ""
      ],
      "execution_count": null,
      "outputs": []
    },
    {
      "cell_type": "markdown",
      "metadata": {
        "id": "hnNPRJp5tUlX"
      },
      "source": [
        "## Ejercicio 5\n",
        "\n",
        "Obtén el siguiente array, partiendo de la matriz del ejercicio 4\n",
        "```Python\n",
        "array([[1, 2],\n",
        "       [6, 7]])\n",
        "```"
      ]
    },
    {
      "cell_type": "code",
      "metadata": {
        "id": "KoVQS07-tUlX"
      },
      "source": [
        ""
      ],
      "execution_count": null,
      "outputs": []
    },
    {
      "cell_type": "markdown",
      "metadata": {
        "id": "UgAt1_KgtUlY"
      },
      "source": [
        "## Ejercicio 6\n",
        "Obtén el siguiente array, partiendo de la matriz del ejercicio 4\n",
        "```Python\n",
        "array([[ 1,  3,  5],\n",
        "       [11, 13, 15]])\n",
        "```"
      ]
    },
    {
      "cell_type": "code",
      "metadata": {
        "id": "mDFkfY5ItUlY"
      },
      "source": [
        ""
      ],
      "execution_count": null,
      "outputs": []
    },
    {
      "cell_type": "markdown",
      "metadata": {
        "id": "TZ4-fdKGtUlY"
      },
      "source": [
        "## Ejercicio 7\n",
        "Obtén el siguiente array, partiendo de la matriz del ejercicio 4\n",
        "```Python\n",
        "array([[ 5,  4,  3,  2,  1],\n",
        "       [10,  9,  8,  7,  6],\n",
        "       [15, 14, 13, 12, 11]])\n",
        "```"
      ]
    },
    {
      "cell_type": "code",
      "metadata": {
        "id": "70wau83TtUlY"
      },
      "source": [
        ""
      ],
      "execution_count": null,
      "outputs": []
    },
    {
      "cell_type": "markdown",
      "metadata": {
        "id": "SQzOo011tUlY"
      },
      "source": [
        "## Ejercicio 8\n",
        "Dado el siguiente array:\n",
        "\n",
        "```Python\n",
        "x = np.array([\"Loro\", \"Perro\", \"Gato\", \"Loro\", \"Perro\"])\n",
        "```\n",
        "\n",
        "Filtra el array para quedarte únicamente con los loros.\n",
        "\n",
        "Resuélvelo de dos maneras diferentes"
      ]
    },
    {
      "cell_type": "code",
      "metadata": {
        "id": "hnTtOumKtUlZ"
      },
      "source": [
        ""
      ],
      "execution_count": null,
      "outputs": []
    },
    {
      "cell_type": "code",
      "metadata": {
        "id": "qqIPcIbQtUlZ"
      },
      "source": [
        ""
      ],
      "execution_count": null,
      "outputs": []
    },
    {
      "cell_type": "markdown",
      "metadata": {
        "id": "GJAvz4PKtUlZ"
      },
      "source": [
        "## Ejercicio 9\n",
        "Crea una secuencia de 20 elementos y transformala en un array compuesto por 2 matrices de 5x2"
      ]
    },
    {
      "cell_type": "code",
      "metadata": {
        "id": "a9pU1RkUtUlZ"
      },
      "source": [
        ""
      ],
      "execution_count": null,
      "outputs": []
    },
    {
      "cell_type": "markdown",
      "metadata": {
        "id": "006zeIzWtUlZ"
      },
      "source": [
        "## Ejercicio 10\n",
        "Obtén el siguiente array, partiendo de la matriz del **ejercicio 4**\n",
        "```Python\n",
        "array([[20, 19, 18, 17, 16],\n",
        "       [15, 14, 13, 12, 11],\n",
        "       [10,  9,  8,  7,  6],\n",
        "       [ 5,  4,  3,  2,  1]])\n",
        "```"
      ]
    },
    {
      "cell_type": "code",
      "metadata": {
        "id": "z9Ivc2y4tUlZ"
      },
      "source": [
        ""
      ],
      "execution_count": null,
      "outputs": []
    },
    {
      "cell_type": "markdown",
      "metadata": {
        "id": "NtVlnDLqtUlZ"
      },
      "source": [
        "## Ejercicio 11\n",
        "Crea un array de 10 0s. ¿Cuánto ocupa en memoria?\n",
        "\n",
        "Sustituye el 4to elemento por 1, e imprime el array por pantalla"
      ]
    },
    {
      "cell_type": "code",
      "metadata": {
        "id": "EltKNSIKtUla"
      },
      "source": [
        ""
      ],
      "execution_count": null,
      "outputs": []
    },
    {
      "cell_type": "markdown",
      "metadata": {
        "id": "TuyPWVistUla"
      },
      "source": [
        "## Ejercicio 12\n",
        "Crea un vector que vaya del 10 al 49\n",
        "\n",
        "Inviértelo"
      ]
    },
    {
      "cell_type": "code",
      "metadata": {
        "id": "-wtKq68itUla"
      },
      "source": [
        ""
      ],
      "execution_count": null,
      "outputs": []
    },
    {
      "cell_type": "markdown",
      "metadata": {
        "id": "Tn--wXyYtUla"
      },
      "source": [
        "## Ejericio 13\n",
        "Encuentra los indices de los valores que no sean 0 del siguiente vector [[1,2,0,0,4,0]]. El output sería [[0, 1, 4]]. [Encuentra el método apropiado en la documentación.](https://numpy.org/doc/)"
      ]
    },
    {
      "cell_type": "code",
      "metadata": {
        "id": "iZ42GMI9tUla"
      },
      "source": [
        ""
      ],
      "execution_count": null,
      "outputs": []
    },
    {
      "cell_type": "markdown",
      "metadata": {
        "id": "0goReT7AtUla"
      },
      "source": [
        "## Ejercicio 14\n",
        "Crea una matriz de numeros aleatorios 10x10. Encuentra los valores mínimo y máximo."
      ]
    },
    {
      "cell_type": "code",
      "metadata": {
        "id": "mOKz2yPltUla"
      },
      "source": [
        ""
      ],
      "execution_count": null,
      "outputs": []
    },
    {
      "cell_type": "markdown",
      "metadata": {
        "id": "qIKva3ojtUlb"
      },
      "source": [
        "## Ejercicio 15\n",
        "Crea un vector aleatorio de tamaño 30 y calcula su media"
      ]
    },
    {
      "cell_type": "code",
      "metadata": {
        "id": "yOcRluyltUlb"
      },
      "source": [
        ""
      ],
      "execution_count": null,
      "outputs": []
    },
    {
      "cell_type": "markdown",
      "metadata": {
        "id": "0jtarVzOtUlb"
      },
      "source": [
        "## Ejercicio 16\n",
        "Crea un array cuadrado de 2D, con las dimensiones que quieras, pero que todo el borde esté compuesto por 1s, y el interior por 0s"
      ]
    },
    {
      "cell_type": "code",
      "metadata": {
        "id": "YPAJsy2stUlb"
      },
      "source": [
        ""
      ],
      "execution_count": null,
      "outputs": []
    },
    {
      "cell_type": "markdown",
      "metadata": {
        "id": "V9NKDABWtUlb"
      },
      "source": [
        "## Ejercicio 17\n",
        "Crea una matriz de 8x8, y rellénala con 0s y 1s. Tienes que replicar:\n",
        "```Python\n",
        "[[0 1 0 1 0 1 0 1]\n",
        " [1 0 1 0 1 0 1 0]\n",
        " [0 1 0 1 0 1 0 1]\n",
        " [1 0 1 0 1 0 1 0]\n",
        " [0 1 0 1 0 1 0 1]\n",
        " [1 0 1 0 1 0 1 0]\n",
        " [0 1 0 1 0 1 0 1]\n",
        " [1 0 1 0 1 0 1 0]]\n",
        "```"
      ]
    },
    {
      "cell_type": "code",
      "metadata": {
        "id": "0oTU0BXLtUlb"
      },
      "source": [
        ""
      ],
      "execution_count": null,
      "outputs": []
    },
    {
      "cell_type": "markdown",
      "metadata": {
        "id": "2f22sJantUlb"
      },
      "source": [
        "## Ejercicio 18\n",
        "Replica la matriz del apartado anterior, pero en este caso usando [la función `tile`](https://numpy.org/doc/stable/reference/generated/numpy.tile.html)"
      ]
    },
    {
      "cell_type": "code",
      "metadata": {
        "id": "_uqyqFxUtUlc"
      },
      "source": [
        ""
      ],
      "execution_count": null,
      "outputs": []
    },
    {
      "cell_type": "markdown",
      "metadata": {
        "id": "Pr8jlEI7tUlc"
      },
      "source": [
        "## Ejercicio 19\n",
        "Crea una matriz aleatoria de 5x5 y normaliza sus valores. Para normalizar tienes que restar sus valores por la media(`np.mean`) y dividir el resultado por la desviación estándar(`np.std`)."
      ]
    },
    {
      "cell_type": "code",
      "metadata": {
        "id": "lBY_AqabtUlc"
      },
      "source": [
        ""
      ],
      "execution_count": null,
      "outputs": []
    },
    {
      "cell_type": "markdown",
      "metadata": {
        "id": "lqsPy5MqtUlc"
      },
      "source": [
        "## Ejercicio 20\n",
        "1. Crea una secuencia de números que vayan del 0 al 10.\n",
        "2. Crea un nuevo array, que parta del anterior, pero sustituya todos los elementos entre el 3 y el 8, por el valor -1\n",
        "3. Crea un nuevo array que niegue todos los elementos entre el 3 y el 8"
      ]
    },
    {
      "cell_type": "code",
      "metadata": {
        "id": "4TCPCvA7tUlc"
      },
      "source": [
        ""
      ],
      "execution_count": null,
      "outputs": []
    },
    {
      "cell_type": "markdown",
      "metadata": {
        "id": "qNFxswm5tUlc"
      },
      "source": [
        "## Ejercicio 21 \n",
        "#### Bonus track. Mini hundir la flota para ir practicando.\n",
        "##### Te ayudará a entender la lógica de la tarea Hundir la Flota.\n",
        "1. Crea un tablero de 10x10 relleno del carácter espacio ( ).\n",
        "2. Posiciona un par de barcos en [(0,1), (1,1)] y [(1,3), (1,4), (1,5), (1,6)]. Los barcos serán Os mayúsculas. Como ves, un barco de dos posiciones de eslora y otro de cuatro.\n",
        "3. Recibe un disparo en uno de los barcos, sustituyendo la O por una X\n",
        "4. Recibe un disparo en agua, sustituyendo uno de los espacios por un guión: -\n",
        "5. Ignorando los disparos recibidos, ahora prueba a posicionar otro barco de 4 posiciones dentro del tablero, pero **de manera ALEATORIA.**\n",
        "\n",
        "**TIP apartado 5**: El barco tendrá una posición inicial aleatoria dentro del tablero, y una orientación también aleatoria (N,S,E,O).\n",
        "\n",
        "Por ejemplo, si tu posicion inicial fuese (5,0) y la orientación O, no podrias ponerlo porque se sale del tablero. Ahora bien, si fuese orientación este, si podrías, y ocuparía las posiciones [(5,0), (5,1), (5,2), (5,3)]. Por tanto tendrás que iterar con un bucle si es posible encajar el barco en el tablero, y el bucle terminará cuando lo consigas encajar. **Ojo con las posiciones donde ya hay barco!!!**\n",
        "\n",
        "Usa `import random` para elegir las coordenadas aleatorias."
      ]
    },
    {
      "cell_type": "code",
      "metadata": {
        "id": "EOlD0csstUld"
      },
      "source": [
        ""
      ],
      "execution_count": null,
      "outputs": []
    }
  ]
}