{
 "cells": [
  {
   "cell_type": "markdown",
   "metadata": {},
   "source": [
    "![imagen](./img/numpy.png)\n",
    "\n",
    "# Numpy y matrices\n",
    "\n",
    "En este Notebook descubrirás la que es probablemente **la librería más utilizada en Python**, `numpy`, la cual nos va a permitir trabajar con una gran variedad de datos en memoria como colecciones de documentos, imágenes, audios o medidas numéricas.\n",
    "\n",
    "1. [Listas y matrices](#1.-Listas-y-matrices)\n",
    "2. [Numpy](#2.-Numpy)\n",
    "3. [Creacion de arrays](#3.-Creacion-de-arrays)\n",
    "4. [Atributos del array](#4.-Atributos-del-array)\n",
    "5. [Indexado](#5.-Indexado)\n",
    "6. [Slicing y subarrays](#6.-Slicing-y-subarrays)\n",
    "7. [Reshape](#7.-Reshape)\n",
    "8. [Tipos de los datos](#8.-Tipos-de-los-datos)\n",
    "9. [Concatenado](#9.-Concatenado)\n",
    "10. [Sustitucion](#10.-Sustitucion)\n",
    "11. [Copias](#11.-Copias)\n",
    "12. [Splitting](#12.-Splitting)\n",
    "13. [Agregaciones](#13.-Agregaciones)"
   ]
  },
  {
   "cell_type": "markdown",
   "metadata": {},
   "source": [
    "## 1. Listas y matrices\n",
    "Ya conocemos muy bien cómo funcionan las listas, aunque en este apartado profundizaremos un poco más en sus funcionalidades, acceso y dimensiones. **Las listas en Python son muy versátiles, lo que nos dan una gran flexibilidad a la hora de modelizar nuestros datos**. Además este apartado no servirá para refrescar conceptos con vistas a **comparar listas de Python con los arrays de Numpy**.\n",
    "\n",
    "Declaramos una lista sencilla"
   ]
  },
  {
   "cell_type": "code",
   "execution_count": 91,
   "metadata": {},
   "outputs": [
    {
     "output_type": "stream",
     "name": "stdout",
     "text": [
      "<class 'numpy.ndarray'>\n[1 2 3 4 5 6 7 8 9]\n"
     ]
    }
   ],
   "source": [
    "import numpy as np\n",
    "\n",
    "my_list = [1,2,3,4,5,6,7,8,9]\n",
    "array = np.array(my_list)\n",
    "\n",
    "print(type(array))\n",
    "print(array)"
   ]
  },
  {
   "cell_type": "code",
   "execution_count": 2,
   "metadata": {},
   "outputs": [
    {
     "output_type": "stream",
     "name": "stdout",
     "text": [
      "[10, 20, 30]\n[40, 50, 60]\n[70, 80, 90]\n\nDimensiones 3x3\n"
     ]
    },
    {
     "output_type": "execute_result",
     "data": {
      "text/plain": [
       "10"
      ]
     },
     "metadata": {},
     "execution_count": 2
    }
   ],
   "source": [
    "# 'Equivalente' a matrix con listas de listas\n",
    "l = [[10, 20, 30], [40, 50, 60], [70, 80, 90]]\n",
    "\n",
    "for x in l:\n",
    "    print(x)\n",
    "\n",
    "print('\\nDimensiones 3x3')\n",
    "\n",
    "l[0][0]"
   ]
  },
  {
   "cell_type": "code",
   "execution_count": 3,
   "metadata": {},
   "outputs": [
    {
     "output_type": "execute_result",
     "data": {
      "text/plain": [
       "array([[10, 20, 30],\n",
       "       [40, 50, 60],\n",
       "       [70, 80, 90]])"
      ]
     },
     "metadata": {},
     "execution_count": 3
    }
   ],
   "source": [
    "# Pasando la lista de listas a una matrix en numpy\n",
    "matrix = [[10, 20, 30], [40, 50, 60], [70, 80, 90]]\n",
    "matrix_array = np.array(matrix)\n",
    "matrix_array"
   ]
  },
  {
   "cell_type": "code",
   "execution_count": 4,
   "metadata": {},
   "outputs": [
    {
     "output_type": "stream",
     "name": "stdout",
     "text": [
      "Nº de filas --> 3\nNº de columnas --> 3\n"
     ]
    }
   ],
   "source": [
    "# Para saber las dimensiones de una lista de listas\n",
    "print('Nº de filas -->', len(matrix))\n",
    "print('Nº de columnas -->', len(matrix[0]))     # Suponiendo que todas tengan el mismo tamaño"
   ]
  },
  {
   "cell_type": "code",
   "execution_count": 5,
   "metadata": {},
   "outputs": [
    {
     "output_type": "execute_result",
     "data": {
      "text/plain": [
       "(3, 3)"
      ]
     },
     "metadata": {},
     "execution_count": 5
    }
   ],
   "source": [
    "# Con NumPy es mucho más fácil\n",
    "matrix_array.shape"
   ]
  },
  {
   "cell_type": "markdown",
   "metadata": {},
   "source": [
    "Recordamos cómo accediamos a los elementos"
   ]
  },
  {
   "cell_type": "code",
   "execution_count": 6,
   "metadata": {},
   "outputs": [
    {
     "output_type": "execute_result",
     "data": {
      "text/plain": [
       "[1, 2, 3, 4, 5, 6, 7, 8, 9]"
      ]
     },
     "metadata": {},
     "execution_count": 6
    }
   ],
   "source": [
    "my_list = [1,2,3,4,5,6,7,8,9]\n",
    "my_list"
   ]
  },
  {
   "cell_type": "code",
   "execution_count": 7,
   "metadata": {},
   "outputs": [
    {
     "output_type": "stream",
     "name": "stdout",
     "text": [
      "1\n2\n9\n[2, 3, 4]\n[2, 3, 4, 5, 6, 7, 8, 9]\n"
     ]
    }
   ],
   "source": [
    "# Primero\n",
    "print(my_list[0])\n",
    "\n",
    "# Segundo\n",
    "print(my_list[1])\n",
    "\n",
    "# Ultimo\n",
    "print(my_list[-1])\n",
    "\n",
    "# Del 2do al 4to incluidos\n",
    "print(my_list[1:4])\n",
    "\n",
    "# Desde el segundo elemento\n",
    "print(my_list[1:])\n"
   ]
  },
  {
   "cell_type": "markdown",
   "metadata": {},
   "source": [
    "¿Y si necesitamos una lista con múltiples dimensiones? ¡También podemos!"
   ]
  },
  {
   "cell_type": "code",
   "execution_count": 8,
   "metadata": {},
   "outputs": [
    {
     "output_type": "execute_result",
     "data": {
      "text/plain": [
       "[[1, 2, 3], [4, 5, 6], [7, 8, 9]]"
      ]
     },
     "metadata": {},
     "execution_count": 8
    }
   ],
   "source": [
    "my_matrix = [[1,2,3],\n",
    "            [4,5,6],\n",
    "            [7,8,9]]\n",
    "my_matrix"
   ]
  },
  {
   "cell_type": "markdown",
   "metadata": {},
   "source": [
    "De esta forma estamos declarando una matriz de 3 filas x 3 columnas. ¿Cómo accedemos a sus elementos?"
   ]
  },
  {
   "cell_type": "code",
   "execution_count": 9,
   "metadata": {},
   "outputs": [
    {
     "output_type": "stream",
     "name": "stdout",
     "text": [
      "[1, 2, 3]\n",
      "[7, 8, 9]\n",
      "3\n",
      "<class 'int'>\n",
      "[[1, 2, 3], [4, 5, 6], [7, 8, 9], [10, 11, 12]]\n",
      "[[1, 2, 3, 1.5, 2.5, 3.5], [4, 5, 6, [1.5, 2.5, 3.5]], [7, 8, 9], [10, 11, 12]]\n"
     ]
    }
   ],
   "source": [
    "# Primera lista\n",
    "print(my_matrix[0])\n",
    "\n",
    "# Ultima lista\n",
    "print(my_matrix[-1])\n",
    "\n",
    "# Tercer elemento de la primera fila\n",
    "print(my_matrix[0][2])\n",
    "print(type(my_matrix[0][2]))\n",
    "\n",
    "# Añadir elementos\n",
    "my_matrix.append([10,11,12])\n",
    "print(my_matrix)\n",
    "\n",
    "# Queremo añadir más elementos a una de las listas de la matriz\n",
    "my_matrix[0].extend([1.5, 2.5, 3.5])\n",
    "my_matrix[1].append([1.5, 2.5, 3.5]) # Elemento nuevo\n",
    "print(my_matrix)"
   ]
  },
  {
   "cell_type": "markdown",
   "metadata": {},
   "source": [
    "En los ejemplos de arriba hemos accedido a los elementos de la matriz directamente con sus índices, pero si no sabemos cómo de grande es la matriz, habrá que iterarla mediante bucles."
   ]
  },
  {
   "cell_type": "code",
   "execution_count": 10,
   "metadata": {},
   "outputs": [
    {
     "output_type": "stream",
     "name": "stdout",
     "text": [
      "1 2 3 \n4 5 6 \n7 8 9 \n"
     ]
    },
    {
     "output_type": "execute_result",
     "data": {
      "text/plain": [
       "[[1, 2, 3], [4, 5, 6], [7, 8, 9]]"
      ]
     },
     "metadata": {},
     "execution_count": 10
    }
   ],
   "source": [
    "my_matrix = [[1,2,3],\n",
    "            [4,5,6],\n",
    "            [7,8,9]]\n",
    "\n",
    "for i in range(len(my_matrix)):\n",
    "    for j in range(len(my_matrix)):\n",
    "        \n",
    "        print(my_matrix[i][j], end = ' ')\n",
    "        \n",
    "    print()\n",
    "    \n",
    "my_matrix"
   ]
  },
  {
   "cell_type": "markdown",
   "metadata": {},
   "source": [
    "Bien, hasta aquí todo correcto, **¿pero y si queremos multiplicar nuestra matriz por un escalar?** Es decir, simplemente aplicarle una operación a cada elemento de la matriz. Veamos cómo se hace."
   ]
  },
  {
   "cell_type": "code",
   "execution_count": 11,
   "metadata": {},
   "outputs": [
    {
     "output_type": "execute_result",
     "data": {
      "text/plain": [
       "[[10, 20, 30], [40, 50, 60], [70, 80, 90]]"
      ]
     },
     "metadata": {},
     "execution_count": 11
    }
   ],
   "source": [
    "my_matrix = [[1,2,3],\n",
    "            [4,5,6],\n",
    "            [7,8,9]]\n",
    "\n",
    "for i in range(len(my_matrix)):\n",
    "    \n",
    "    for j in range(len(my_matrix)):\n",
    "        \n",
    "        my_matrix[i][j] = my_matrix[i][j] * 10\n",
    "        \n",
    "my_matrix"
   ]
  },
  {
   "cell_type": "markdown",
   "metadata": {},
   "source": [
    "¡Conseguido! Aunque un poco aparatoso para ser una operación tan sencilla como multiplicar una matriz por 10. ¿Y si queremos hacer una matriz traspuesta? ¿Y si tenemos dos matrices de las mismas dimensiones y queremos multiplicar elemento a elemento? Se complica todavía más la cosa y tendremos que acudir a los bucles para solucionarlo cuando realmente hay una librería que lo hace por nosotros :)\n",
    "\n",
    "Recuerda que gran parte de la potencia de Python reside en sus librerías, ya que ahorra muchísimo tiempo el no tener que implementar ciertas funciones en nuestro código ya que esas y muchas más vienen ya desarrolladas en paquetes más que probados como `numpy`."
   ]
  },
  {
   "cell_type": "markdown",
   "metadata": {},
   "source": [
    "## 2. Numpy\n",
    "Esta librería va un paso más allá que las listas y permite realizar operaciones entre arrays, listas o matrices de una manera óptima. Características de `numpy`:\n",
    "\n",
    "* **Librería**: Es una librería de Python por lo que tendrás que importarla mediante `import numpy as np`. Por costumbre se suele poner el alias `np`.\n",
    "\n",
    "* **Listas y matrices**: Si nunca has trabajado con estos formatos de datos, no te puedes imaginar la cantidad de cosas que puedes hacer. Formatos de datos como por ejemplo las imágenes no dejan de ser matrices de números, que interpretados de la manera adecuada, representan píxeles con sus posiciones y sus colores.\n",
    "\n",
    "* **Rendimiento**: no es un tema *core* en Data Analysis ya que para realizar tus análisis explotatorios lo vas a poder hacer igual sin preocuparte de este factor. Ahora bien, la cosa se complica cuando productivizamos productos de datos y el SLA (Service Learning Agreement) es exigente. Aquí entra en juego `numpy` ya que es una librería muy rápida.\n",
    "\n",
    "\n",
    "**¿Qué podemos tratar con `numpy`?**\n",
    "* **Imágenes**: las imágenes se pueden tratar como arrays de pixels, los cuales tienen unos valores dependiendo del color.\n",
    "* **Audio**: también se pueden manejar mediante arrays unidimensionales.\n",
    "* **Texto**: lo podemos representar también en un formato numérico.\n",
    "\n",
    "Podrás encontrar toda la [documentación de `numpy` en su página oficial](https://numpy.org/doc/)."
   ]
  },
  {
   "cell_type": "code",
   "execution_count": 28,
   "metadata": {},
   "outputs": [
    {
     "output_type": "execute_result",
     "data": {
      "text/plain": [
       "'1.19.2'"
      ]
     },
     "metadata": {},
     "execution_count": 28
    }
   ],
   "source": [
    "# Importamos numpy\n",
    "import numpy as np\n",
    "np.__version__"
   ]
  },
  {
   "cell_type": "code",
   "execution_count": 13,
   "metadata": {
    "tags": [
     "outputPrepend"
    ]
   },
   "outputs": [
    {
     "output_type": "stream",
     "name": "stdout",
     "text": [
      "y\n            exceptions will be raised.\n        \n        Returns\n        -------\n        variance : ndarray, see dtype parameter above\n            If ``out=None``, returns a new array containing the variance;\n            otherwise, a reference to the output array is returned.\n        \n        See Also\n        --------\n        std, mean, nanmean, nanstd, nanvar\n        ufuncs-output-type\n        \n        Notes\n        -----\n        The variance is the average of the squared deviations from the mean,\n        i.e.,  ``var = mean(abs(x - x.mean())**2)``.\n        \n        The mean is normally calculated as ``x.sum() / N``, where ``N = len(x)``.\n        If, however, `ddof` is specified, the divisor ``N - ddof`` is used\n        instead.  In standard statistical practice, ``ddof=1`` provides an\n        unbiased estimator of the variance of a hypothetical infinite population.\n        ``ddof=0`` provides a maximum likelihood estimate of the variance for\n        normally distributed variables.\n        \n        Note that for complex numbers, the absolute value is taken before\n        squaring, so that the result is always real and nonnegative.\n        \n        For floating-point input, the variance is computed using the same\n        precision the input has.  Depending on the input data, this can cause\n        the results to be inaccurate, especially for `float32` (see example\n        below).  Specifying a higher-accuracy accumulator using the ``dtype``\n        keyword can alleviate this issue.\n        \n        Examples\n        --------\n        >>> a = np.array([[1, 2], [3, 4]])\n        >>> np.var(a)\n        1.25\n        >>> np.var(a, axis=0)\n        array([1.,  1.])\n        >>> np.var(a, axis=1)\n        array([0.25,  0.25])\n        \n        In single precision, var() can be inaccurate:\n        \n        >>> a = np.zeros((2, 512*512), dtype=np.float32)\n        >>> a[0, :] = 1.0\n        >>> a[1, :] = 0.1\n        >>> np.var(a)\n        0.20250003\n        \n        Computing the variance in float64 is more accurate:\n        \n        >>> np.var(a, dtype=np.float64)\n        0.20249999932944759 # may vary\n        >>> ((1-0.55)**2 + (0.1-0.55)**2)/2\n        0.2025\n    \n    vdot(...)\n        vdot(a, b)\n        \n        Return the dot product of two vectors.\n        \n        The vdot(`a`, `b`) function handles complex numbers differently than\n        dot(`a`, `b`).  If the first argument is complex the complex conjugate\n        of the first argument is used for the calculation of the dot product.\n        \n        Note that `vdot` handles multidimensional arrays differently than `dot`:\n        it does *not* perform a matrix product, but flattens input arguments\n        to 1-D vectors first. Consequently, it should only be used for vectors.\n        \n        Parameters\n        ----------\n        a : array_like\n            If `a` is complex the complex conjugate is taken before calculation\n            of the dot product.\n        b : array_like\n            Second argument to the dot product.\n        \n        Returns\n        -------\n        output : ndarray\n            Dot product of `a` and `b`.  Can be an int, float, or\n            complex depending on the types of `a` and `b`.\n        \n        See Also\n        --------\n        dot : Return the dot product without using the complex conjugate of the\n              first argument.\n        \n        Examples\n        --------\n        >>> a = np.array([1+2j,3+4j])\n        >>> b = np.array([5+6j,7+8j])\n        >>> np.vdot(a, b)\n        (70-8j)\n        >>> np.vdot(b, a)\n        (70+8j)\n        \n        Note that higher-dimensional arrays are flattened!\n        \n        >>> a = np.array([[1, 4], [5, 6]])\n        >>> b = np.array([[4, 1], [2, 2]])\n        >>> np.vdot(a, b)\n        30\n        >>> np.vdot(b, a)\n        30\n        >>> 1*4 + 4*1 + 5*2 + 6*2\n        30\n    \n    vsplit(ary, indices_or_sections)\n        Split an array into multiple sub-arrays vertically (row-wise).\n        \n        Please refer to the ``split`` documentation.  ``vsplit`` is equivalent\n        to ``split`` with `axis=0` (default), the array is always split along the\n        first axis regardless of the array dimension.\n        \n        See Also\n        --------\n        split : Split an array into multiple sub-arrays of equal size.\n        \n        Examples\n        --------\n        >>> x = np.arange(16.0).reshape(4, 4)\n        >>> x\n        array([[ 0.,   1.,   2.,   3.],\n               [ 4.,   5.,   6.,   7.],\n               [ 8.,   9.,  10.,  11.],\n               [12.,  13.,  14.,  15.]])\n        >>> np.vsplit(x, 2)\n        [array([[0., 1., 2., 3.],\n               [4., 5., 6., 7.]]), array([[ 8.,  9., 10., 11.],\n               [12., 13., 14., 15.]])]\n        >>> np.vsplit(x, np.array([3, 6]))\n        [array([[ 0.,  1.,  2.,  3.],\n               [ 4.,  5.,  6.,  7.],\n               [ 8.,  9., 10., 11.]]), array([[12., 13., 14., 15.]]), array([], shape=(0, 4), dtype=float64)]\n        \n        With a higher dimensional array the split is still along the first axis.\n        \n        >>> x = np.arange(8.0).reshape(2, 2, 2)\n        >>> x\n        array([[[0.,  1.],\n                [2.,  3.]],\n               [[4.,  5.],\n                [6.,  7.]]])\n        >>> np.vsplit(x, 2)\n        [array([[[0., 1.],\n                [2., 3.]]]), array([[[4., 5.],\n                [6., 7.]]])]\n    \n    vstack(tup)\n        Stack arrays in sequence vertically (row wise).\n        \n        This is equivalent to concatenation along the first axis after 1-D arrays\n        of shape `(N,)` have been reshaped to `(1,N)`. Rebuilds arrays divided by\n        `vsplit`.\n        \n        This function makes most sense for arrays with up to 3 dimensions. For\n        instance, for pixel-data with a height (first axis), width (second axis),\n        and r/g/b channels (third axis). The functions `concatenate`, `stack` and\n        `block` provide more general stacking and concatenation operations.\n        \n        Parameters\n        ----------\n        tup : sequence of ndarrays\n            The arrays must have the same shape along all but the first axis.\n            1-D arrays must have the same length.\n        \n        Returns\n        -------\n        stacked : ndarray\n            The array formed by stacking the given arrays, will be at least 2-D.\n        \n        See Also\n        --------\n        concatenate : Join a sequence of arrays along an existing axis.\n        stack : Join a sequence of arrays along a new axis.\n        block : Assemble an nd-array from nested lists of blocks.\n        hstack : Stack arrays in sequence horizontally (column wise).\n        dstack : Stack arrays in sequence depth wise (along third axis).\n        column_stack : Stack 1-D arrays as columns into a 2-D array.\n        vsplit : Split an array into multiple sub-arrays vertically (row-wise).\n        \n        Examples\n        --------\n        >>> a = np.array([1, 2, 3])\n        >>> b = np.array([2, 3, 4])\n        >>> np.vstack((a,b))\n        array([[1, 2, 3],\n               [2, 3, 4]])\n        \n        >>> a = np.array([[1], [2], [3]])\n        >>> b = np.array([[2], [3], [4]])\n        >>> np.vstack((a,b))\n        array([[1],\n               [2],\n               [3],\n               [2],\n               [3],\n               [4]])\n    \n    where(...)\n        where(condition, [x, y])\n        \n        Return elements chosen from `x` or `y` depending on `condition`.\n        \n        .. note::\n            When only `condition` is provided, this function is a shorthand for\n            ``np.asarray(condition).nonzero()``. Using `nonzero` directly should be\n            preferred, as it behaves correctly for subclasses. The rest of this\n            documentation covers only the case where all three arguments are\n            provided.\n        \n        Parameters\n        ----------\n        condition : array_like, bool\n            Where True, yield `x`, otherwise yield `y`.\n        x, y : array_like\n            Values from which to choose. `x`, `y` and `condition` need to be\n            broadcastable to some shape.\n        \n        Returns\n        -------\n        out : ndarray\n            An array with elements from `x` where `condition` is True, and elements\n            from `y` elsewhere.\n        \n        See Also\n        --------\n        choose\n        nonzero : The function that is called when x and y are omitted\n        \n        Notes\n        -----\n        If all the arrays are 1-D, `where` is equivalent to::\n        \n            [xv if c else yv\n             for c, xv, yv in zip(condition, x, y)]\n        \n        Examples\n        --------\n        >>> a = np.arange(10)\n        >>> a\n        array([0, 1, 2, 3, 4, 5, 6, 7, 8, 9])\n        >>> np.where(a < 5, a, 10*a)\n        array([ 0,  1,  2,  3,  4, 50, 60, 70, 80, 90])\n        \n        This can be used on multidimensional arrays too:\n        \n        >>> np.where([[True, False], [True, True]],\n        ...          [[1, 2], [3, 4]],\n        ...          [[9, 8], [7, 6]])\n        array([[1, 8],\n               [3, 4]])\n        \n        The shapes of x, y, and the condition are broadcast together:\n        \n        >>> x, y = np.ogrid[:3, :4]\n        >>> np.where(x < y, x, 10 + y)  # both x and 10+y are broadcast\n        array([[10,  0,  0,  0],\n               [10, 11,  1,  1],\n               [10, 11, 12,  2]])\n        \n        >>> a = np.array([[0, 1, 2],\n        ...               [0, 2, 4],\n        ...               [0, 3, 6]])\n        >>> np.where(a < 4, a, -1)  # -1 is broadcast\n        array([[ 0,  1,  2],\n               [ 0,  2, -1],\n               [ 0,  3, -1]])\n    \n    who(vardict=None)\n        Print the NumPy arrays in the given dictionary.\n        \n        If there is no dictionary passed in or `vardict` is None then returns\n        NumPy arrays in the globals() dictionary (all NumPy arrays in the\n        namespace).\n        \n        Parameters\n        ----------\n        vardict : dict, optional\n            A dictionary possibly containing ndarrays.  Default is globals().\n        \n        Returns\n        -------\n        out : None\n            Returns 'None'.\n        \n        Notes\n        -----\n        Prints out the name, shape, bytes and type of all of the ndarrays\n        present in `vardict`.\n        \n        Examples\n        --------\n        >>> a = np.arange(10)\n        >>> b = np.ones(20)\n        >>> np.who()\n        Name            Shape            Bytes            Type\n        ===========================================================\n        a               10               80               int64\n        b               20               160              float64\n        Upper bound on total bytes  =       240\n        \n        >>> d = {'x': np.arange(2.0), 'y': np.arange(3.0), 'txt': 'Some str',\n        ... 'idx':5}\n        >>> np.who(d)\n        Name            Shape            Bytes            Type\n        ===========================================================\n        x               2                16               float64\n        y               3                24               float64\n        Upper bound on total bytes  =       40\n    \n    zeros(...)\n        zeros(shape, dtype=float, order='C')\n        \n        Return a new array of given shape and type, filled with zeros.\n        \n        Parameters\n        ----------\n        shape : int or tuple of ints\n            Shape of the new array, e.g., ``(2, 3)`` or ``2``.\n        dtype : data-type, optional\n            The desired data-type for the array, e.g., `numpy.int8`.  Default is\n            `numpy.float64`.\n        order : {'C', 'F'}, optional, default: 'C'\n            Whether to store multi-dimensional data in row-major\n            (C-style) or column-major (Fortran-style) order in\n            memory.\n        \n        Returns\n        -------\n        out : ndarray\n            Array of zeros with the given shape, dtype, and order.\n        \n        See Also\n        --------\n        zeros_like : Return an array of zeros with shape and type of input.\n        empty : Return a new uninitialized array.\n        ones : Return a new array setting values to one.\n        full : Return a new array of given shape filled with value.\n        \n        Examples\n        --------\n        >>> np.zeros(5)\n        array([ 0.,  0.,  0.,  0.,  0.])\n        \n        >>> np.zeros((5,), dtype=int)\n        array([0, 0, 0, 0, 0])\n        \n        >>> np.zeros((2, 1))\n        array([[ 0.],\n               [ 0.]])\n        \n        >>> s = (2,2)\n        >>> np.zeros(s)\n        array([[ 0.,  0.],\n               [ 0.,  0.]])\n        \n        >>> np.zeros((2,), dtype=[('x', 'i4'), ('y', 'i4')]) # custom dtype\n        array([(0, 0), (0, 0)],\n              dtype=[('x', '<i4'), ('y', '<i4')])\n    \n    zeros_like(a, dtype=None, order='K', subok=True, shape=None)\n        Return an array of zeros with the same shape and type as a given array.\n        \n        Parameters\n        ----------\n        a : array_like\n            The shape and data-type of `a` define these same attributes of\n            the returned array.\n        dtype : data-type, optional\n            Overrides the data type of the result.\n        \n            .. versionadded:: 1.6.0\n        order : {'C', 'F', 'A', or 'K'}, optional\n            Overrides the memory layout of the result. 'C' means C-order,\n            'F' means F-order, 'A' means 'F' if `a` is Fortran contiguous,\n            'C' otherwise. 'K' means match the layout of `a` as closely\n            as possible.\n        \n            .. versionadded:: 1.6.0\n        subok : bool, optional.\n            If True, then the newly created array will use the sub-class\n            type of 'a', otherwise it will be a base-class array. Defaults\n            to True.\n        shape : int or sequence of ints, optional.\n            Overrides the shape of the result. If order='K' and the number of\n            dimensions is unchanged, will try to keep order, otherwise,\n            order='C' is implied.\n        \n            .. versionadded:: 1.17.0\n        \n        Returns\n        -------\n        out : ndarray\n            Array of zeros with the same shape and type as `a`.\n        \n        See Also\n        --------\n        empty_like : Return an empty array with shape and type of input.\n        ones_like : Return an array of ones with shape and type of input.\n        full_like : Return a new array with shape of input filled with value.\n        zeros : Return a new array setting values to zero.\n        \n        Examples\n        --------\n        >>> x = np.arange(6)\n        >>> x = x.reshape((2, 3))\n        >>> x\n        array([[0, 1, 2],\n               [3, 4, 5]])\n        >>> np.zeros_like(x)\n        array([[0, 0, 0],\n               [0, 0, 0]])\n        \n        >>> y = np.arange(3, dtype=float)\n        >>> y\n        array([0., 1., 2.])\n        >>> np.zeros_like(y)\n        array([0.,  0.,  0.])\n\nDATA\n    ALLOW_THREADS = 1\n    BUFSIZE = 8192\n    CLIP = 0\n    ERR_CALL = 3\n    ERR_DEFAULT = 521\n    ERR_IGNORE = 0\n    ERR_LOG = 5\n    ERR_PRINT = 4\n    ERR_RAISE = 2\n    ERR_WARN = 1\n    FLOATING_POINT_SUPPORT = 1\n    FPE_DIVIDEBYZERO = 1\n    FPE_INVALID = 8\n    FPE_OVERFLOW = 2\n    FPE_UNDERFLOW = 4\n    False_ = False\n    Inf = inf\n    Infinity = inf\n    MAXDIMS = 32\n    MAY_SHARE_BOUNDS = 0\n    MAY_SHARE_EXACT = -1\n    NAN = nan\n    NINF = -inf\n    NZERO = -0.0\n    NaN = nan\n    PINF = inf\n    PZERO = 0.0\n    RAISE = 2\n    SHIFT_DIVIDEBYZERO = 0\n    SHIFT_INVALID = 9\n    SHIFT_OVERFLOW = 3\n    SHIFT_UNDERFLOW = 6\n    ScalarType = (<class 'int'>, <class 'float'>, <class 'complex'>, <clas...\n    True_ = True\n    UFUNC_BUFSIZE_DEFAULT = 8192\n    UFUNC_PYVALS_NAME = 'UFUNC_PYVALS'\n    WRAP = 1\n    _UFUNC_API = <capsule object NULL>\n    __NUMPY_SETUP__ = False\n    __all__ = ['ModuleDeprecationWarning', 'VisibleDeprecationWarning', '_...\n    __git_revision__ = '68752f786df542d340f25c41a8920d9b2aed66cf'\n    __mkl_version__ = '2019.4'\n    absolute = <ufunc 'absolute'>\n    add = <ufunc 'add'>\n    arccos = <ufunc 'arccos'>\n    arccosh = <ufunc 'arccosh'>\n    arcsin = <ufunc 'arcsin'>\n    arcsinh = <ufunc 'arcsinh'>\n    arctan = <ufunc 'arctan'>\n    arctan2 = <ufunc 'arctan2'>\n    arctanh = <ufunc 'arctanh'>\n    bitwise_and = <ufunc 'bitwise_and'>\n    bitwise_not = <ufunc 'invert'>\n    bitwise_or = <ufunc 'bitwise_or'>\n    bitwise_xor = <ufunc 'bitwise_xor'>\n    c_ = <numpy.lib.index_tricks.CClass object>\n    cast = {<class 'numpy.int8'>: <function <lambda> at 0x1...datetime64'>...\n    cbrt = <ufunc 'cbrt'>\n    ceil = <ufunc 'ceil'>\n    conj = <ufunc 'conjugate'>\n    conjugate = <ufunc 'conjugate'>\n    copysign = <ufunc 'copysign'>\n    cos = <ufunc 'cos'>\n    cosh = <ufunc 'cosh'>\n    deg2rad = <ufunc 'deg2rad'>\n    degrees = <ufunc 'degrees'>\n    divide = <ufunc 'true_divide'>\n    divmod = <ufunc 'divmod'>\n    e = 2.718281828459045\n    equal = <ufunc 'equal'>\n    euler_gamma = 0.5772156649015329\n    exp = <ufunc 'exp'>\n    exp2 = <ufunc 'exp2'>\n    expm1 = <ufunc 'expm1'>\n    fabs = <ufunc 'fabs'>\n    float_power = <ufunc 'float_power'>\n    floor = <ufunc 'floor'>\n    floor_divide = <ufunc 'floor_divide'>\n    fmax = <ufunc 'fmax'>\n    fmin = <ufunc 'fmin'>\n    fmod = <ufunc 'fmod'>\n    frexp = <ufunc 'frexp'>\n    gcd = <ufunc 'gcd'>\n    greater = <ufunc 'greater'>\n    greater_equal = <ufunc 'greater_equal'>\n    heaviside = <ufunc 'heaviside'>\n    hypot = <ufunc 'hypot'>\n    index_exp = <numpy.lib.index_tricks.IndexExpression object>\n    inf = inf\n    infty = inf\n    invert = <ufunc 'invert'>\n    isfinite = <ufunc 'isfinite'>\n    isinf = <ufunc 'isinf'>\n    isnan = <ufunc 'isnan'>\n    isnat = <ufunc 'isnat'>\n    lcm = <ufunc 'lcm'>\n    ldexp = <ufunc 'ldexp'>\n    left_shift = <ufunc 'left_shift'>\n    less = <ufunc 'less'>\n    less_equal = <ufunc 'less_equal'>\n    little_endian = True\n    log = <ufunc 'log'>\n    log10 = <ufunc 'log10'>\n    log1p = <ufunc 'log1p'>\n    log2 = <ufunc 'log2'>\n    logaddexp = <ufunc 'logaddexp'>\n    logaddexp2 = <ufunc 'logaddexp2'>\n    logical_and = <ufunc 'logical_and'>\n    logical_not = <ufunc 'logical_not'>\n    logical_or = <ufunc 'logical_or'>\n    logical_xor = <ufunc 'logical_xor'>\n    matmul = <ufunc 'matmul'>\n    maximum = <ufunc 'maximum'>\n    mgrid = <numpy.lib.index_tricks.MGridClass object>\n    minimum = <ufunc 'minimum'>\n    mod = <ufunc 'remainder'>\n    modf = <ufunc 'modf'>\n    multiply = <ufunc 'multiply'>\n    nan = nan\n    nbytes = {<class 'numpy.bool_'>: 1, <class 'numpy.int8'>:....datetime6...\n    negative = <ufunc 'negative'>\n    newaxis = None\n    nextafter = <ufunc 'nextafter'>\n    not_equal = <ufunc 'not_equal'>\n    ogrid = <numpy.lib.index_tricks.OGridClass object>\n    pi = 3.141592653589793\n    positive = <ufunc 'positive'>\n    power = <ufunc 'power'>\n    r_ = <numpy.lib.index_tricks.RClass object>\n    rad2deg = <ufunc 'rad2deg'>\n    radians = <ufunc 'radians'>\n    reciprocal = <ufunc 'reciprocal'>\n    remainder = <ufunc 'remainder'>\n    right_shift = <ufunc 'right_shift'>\n    rint = <ufunc 'rint'>\n    s_ = <numpy.lib.index_tricks.IndexExpression object>\n    sctypeDict = {'?': <class 'numpy.bool_'>, 0: <class 'numpy.bool_'>, 'b...\n    sctypeNA = {'Bool': <class 'numpy.bool_'>, <class 'numpy.bo...'>, <cla...\n    sctypes = {'complex': [<class 'numpy.complex64'>, <class 'numpy.comple...\n    sign = <ufunc 'sign'>\n    signbit = <ufunc 'signbit'>\n    sin = <ufunc 'sin'>\n    sinh = <ufunc 'sinh'>\n    spacing = <ufunc 'spacing'>\n    sqrt = <ufunc 'sqrt'>\n    square = <ufunc 'square'>\n    subtract = <ufunc 'subtract'>\n    tan = <ufunc 'tan'>\n    tanh = <ufunc 'tanh'>\n    tracemalloc_domain = 389047\n    true_divide = <ufunc 'true_divide'>\n    trunc = <ufunc 'trunc'>\n    typeDict = {'?': <class 'numpy.bool_'>, 0: <class 'numpy.bool_'>, 'byt...\n    typeNA = {'Bool': <class 'numpy.bool_'>, <class 'numpy.bo...'>, <class...\n    typecodes = {'All': '?bhilqpBHILQPefdgFDGSUVOMm', 'AllFloat': 'efdgFDG...\n\nVERSION\n    1.19.2\n\nFILE\n    /opt/anaconda3/lib/python3.8/site-packages/numpy/__init__.py\n\n\n"
     ]
    }
   ],
   "source": [
    "help(np) # estamos intentando mostrar la documentación de una librería entera."
   ]
  },
  {
   "cell_type": "code",
   "execution_count": 29,
   "metadata": {
    "jupyter": {
     "outputs_hidden": true
    }
   },
   "outputs": [
    {
     "output_type": "stream",
     "text": [
      "\u001b[0;31mType:\u001b[0m        module\n",
      "\u001b[0;31mString form:\u001b[0m <module 'numpy' from '/opt/anaconda3/lib/python3.8/site-packages/numpy/__init__.py'>\n",
      "\u001b[0;31mFile:\u001b[0m        /opt/anaconda3/lib/python3.8/site-packages/numpy/__init__.py\n",
      "\u001b[0;31mDocstring:\u001b[0m  \n",
      "NumPy\n",
      "=====\n",
      "\n",
      "Provides\n",
      "  1. An array object of arbitrary homogeneous items\n",
      "  2. Fast mathematical operations over arrays\n",
      "  3. Linear Algebra, Fourier Transforms, Random Number Generation\n",
      "\n",
      "How to use the documentation\n",
      "----------------------------\n",
      "Documentation is available in two forms: docstrings provided\n",
      "with the code, and a loose standing reference guide, available from\n",
      "`the NumPy homepage <https://www.scipy.org>`_.\n",
      "\n",
      "We recommend exploring the docstrings using\n",
      "`IPython <https://ipython.org>`_, an advanced Python shell with\n",
      "TAB-completion and introspection capabilities.  See below for further\n",
      "instructions.\n",
      "\n",
      "The docstring examples assume that `numpy` has been imported as `np`::\n",
      "\n",
      "  >>> import numpy as np\n",
      "\n",
      "Code snippets are indicated by three greater-than signs::\n",
      "\n",
      "  >>> x = 42\n",
      "  >>> x = x + 1\n",
      "\n",
      "Use the built-in ``help`` function to view a function's docstring::\n",
      "\n",
      "  >>> help(np.sort)\n",
      "  ... # doctest: +SKIP\n",
      "\n",
      "For some objects, ``np.info(obj)`` may provide additional help.  This is\n",
      "particularly true if you see the line \"Help on ufunc object:\" at the top\n",
      "of the help() page.  Ufuncs are implemented in C, not Python, for speed.\n",
      "The native Python help() does not know how to view their help, but our\n",
      "np.info() function does.\n",
      "\n",
      "To search for documents containing a keyword, do::\n",
      "\n",
      "  >>> np.lookfor('keyword')\n",
      "  ... # doctest: +SKIP\n",
      "\n",
      "General-purpose documents like a glossary and help on the basic concepts\n",
      "of numpy are available under the ``doc`` sub-module::\n",
      "\n",
      "  >>> from numpy import doc\n",
      "  >>> help(doc)\n",
      "  ... # doctest: +SKIP\n",
      "\n",
      "Available subpackages\n",
      "---------------------\n",
      "doc\n",
      "    Topical documentation on broadcasting, indexing, etc.\n",
      "lib\n",
      "    Basic functions used by several sub-packages.\n",
      "random\n",
      "    Core Random Tools\n",
      "linalg\n",
      "    Core Linear Algebra Tools\n",
      "fft\n",
      "    Core FFT routines\n",
      "polynomial\n",
      "    Polynomial tools\n",
      "testing\n",
      "    NumPy testing tools\n",
      "f2py\n",
      "    Fortran to Python Interface Generator.\n",
      "distutils\n",
      "    Enhancements to distutils with support for\n",
      "    Fortran compilers support and more.\n",
      "\n",
      "Utilities\n",
      "---------\n",
      "test\n",
      "    Run numpy unittests\n",
      "show_config\n",
      "    Show numpy build configuration\n",
      "dual\n",
      "    Overwrite certain functions with high-performance Scipy tools\n",
      "matlib\n",
      "    Make everything matrices.\n",
      "__version__\n",
      "    NumPy version string\n",
      "\n",
      "Viewing documentation using IPython\n",
      "-----------------------------------\n",
      "Start IPython with the NumPy profile (``ipython -p numpy``), which will\n",
      "import `numpy` under the alias `np`.  Then, use the ``cpaste`` command to\n",
      "paste examples into the shell.  To see which functions are available in\n",
      "`numpy`, type ``np.<TAB>`` (where ``<TAB>`` refers to the TAB key), or use\n",
      "``np.*cos*?<ENTER>`` (where ``<ENTER>`` refers to the ENTER key) to narrow\n",
      "down the list.  To view the docstring for a function, use\n",
      "``np.cos?<ENTER>`` (to view the docstring) and ``np.cos??<ENTER>`` (to view\n",
      "the source code).\n",
      "\n",
      "Copies vs. in-place operation\n",
      "-----------------------------\n",
      "Most of the functions in `numpy` return a copy of the array argument\n",
      "(e.g., `np.sort`).  In-place versions of these functions are often\n",
      "available as array methods, i.e. ``x = np.array([1,2,3]); x.sort()``.\n",
      "Exceptions to this rule are documented.\n"
     ],
     "name": "stdout"
    }
   ],
   "source": [
    "np?"
   ]
  },
  {
   "cell_type": "code",
   "execution_count": 30,
   "metadata": {
    "jupyter": {
     "outputs_hidden": true
    },
    "tags": [
     "outputPrepend"
    ]
   },
   "outputs": [
    {
     "output_type": "stream",
     "name": "stdout",
     "text": [
      " in the distribution does the t\n        statistic appear?\n        \n        >>> np.sum(s<t) / float(len(s))\n        0.0090699999999999999  #random\n        \n        So the p-value is about 0.009, which says the null hypothesis has a\n        probability of about 99% of being true.\n    \n    triangular(...) method of numpy.random.mtrand.RandomState instance\n        triangular(left, mode, right, size=None)\n        \n        Draw samples from the triangular distribution over the\n        interval ``[left, right]``.\n        \n        The triangular distribution is a continuous probability\n        distribution with lower limit left, peak at mode, and upper\n        limit right. Unlike the other distributions, these parameters\n        directly define the shape of the pdf.\n        \n        .. note::\n            New code should use the ``triangular`` method of a ``default_rng()``\n            instance instead; please see the :ref:`random-quick-start`.\n        \n        Parameters\n        ----------\n        left : float or array_like of floats\n            Lower limit.\n        mode : float or array_like of floats\n            The value where the peak of the distribution occurs.\n            The value must fulfill the condition ``left <= mode <= right``.\n        right : float or array_like of floats\n            Upper limit, must be larger than `left`.\n        size : int or tuple of ints, optional\n            Output shape.  If the given shape is, e.g., ``(m, n, k)``, then\n            ``m * n * k`` samples are drawn.  If size is ``None`` (default),\n            a single value is returned if ``left``, ``mode``, and ``right``\n            are all scalars.  Otherwise, ``np.broadcast(left, mode, right).size``\n            samples are drawn.\n        \n        Returns\n        -------\n        out : ndarray or scalar\n            Drawn samples from the parameterized triangular distribution.\n        \n        See Also\n        --------\n        Generator.triangular: which should be used for new code.\n        \n        Notes\n        -----\n        The probability density function for the triangular distribution is\n        \n        .. math:: P(x;l, m, r) = \\begin{cases}\n                  \\frac{2(x-l)}{(r-l)(m-l)}& \\text{for $l \\leq x \\leq m$},\\\\\n                  \\frac{2(r-x)}{(r-l)(r-m)}& \\text{for $m \\leq x \\leq r$},\\\\\n                  0& \\text{otherwise}.\n                  \\end{cases}\n        \n        The triangular distribution is often used in ill-defined\n        problems where the underlying distribution is not known, but\n        some knowledge of the limits and mode exists. Often it is used\n        in simulations.\n        \n        References\n        ----------\n        .. [1] Wikipedia, \"Triangular distribution\"\n               https://en.wikipedia.org/wiki/Triangular_distribution\n        \n        Examples\n        --------\n        Draw values from the distribution and plot the histogram:\n        \n        >>> import matplotlib.pyplot as plt\n        >>> h = plt.hist(np.random.triangular(-3, 0, 8, 100000), bins=200,\n        ...              density=True)\n        >>> plt.show()\n    \n    uniform(...) method of numpy.random.mtrand.RandomState instance\n        uniform(low=0.0, high=1.0, size=None)\n        \n        Draw samples from a uniform distribution.\n        \n        Samples are uniformly distributed over the half-open interval\n        ``[low, high)`` (includes low, but excludes high).  In other words,\n        any value within the given interval is equally likely to be drawn\n        by `uniform`.\n        \n        .. note::\n            New code should use the ``uniform`` method of a ``default_rng()``\n            instance instead; please see the :ref:`random-quick-start`.\n        \n        Parameters\n        ----------\n        low : float or array_like of floats, optional\n            Lower boundary of the output interval.  All values generated will be\n            greater than or equal to low.  The default value is 0.\n        high : float or array_like of floats\n            Upper boundary of the output interval.  All values generated will be\n            less than or equal to high.  The default value is 1.0.\n        size : int or tuple of ints, optional\n            Output shape.  If the given shape is, e.g., ``(m, n, k)``, then\n            ``m * n * k`` samples are drawn.  If size is ``None`` (default),\n            a single value is returned if ``low`` and ``high`` are both scalars.\n            Otherwise, ``np.broadcast(low, high).size`` samples are drawn.\n        \n        Returns\n        -------\n        out : ndarray or scalar\n            Drawn samples from the parameterized uniform distribution.\n        \n        See Also\n        --------\n        randint : Discrete uniform distribution, yielding integers.\n        random_integers : Discrete uniform distribution over the closed\n                          interval ``[low, high]``.\n        random_sample : Floats uniformly distributed over ``[0, 1)``.\n        random : Alias for `random_sample`.\n        rand : Convenience function that accepts dimensions as input, e.g.,\n               ``rand(2,2)`` would generate a 2-by-2 array of floats,\n               uniformly distributed over ``[0, 1)``.\n        Generator.uniform: which should be used for new code.\n        \n        Notes\n        -----\n        The probability density function of the uniform distribution is\n        \n        .. math:: p(x) = \\frac{1}{b - a}\n        \n        anywhere within the interval ``[a, b)``, and zero elsewhere.\n        \n        When ``high`` == ``low``, values of ``low`` will be returned.\n        If ``high`` < ``low``, the results are officially undefined\n        and may eventually raise an error, i.e. do not rely on this\n        function to behave when passed arguments satisfying that\n        inequality condition. The ``high`` limit may be included in the\n        returned array of floats due to floating-point rounding in the\n        equation ``low + (high-low) * random_sample()``. For example:\n        \n        >>> x = np.float32(5*0.99999999)\n        >>> x\n        5.0\n        \n        \n        Examples\n        --------\n        Draw samples from the distribution:\n        \n        >>> s = np.random.uniform(-1,0,1000)\n        \n        All values are within the given interval:\n        \n        >>> np.all(s >= -1)\n        True\n        >>> np.all(s < 0)\n        True\n        \n        Display the histogram of the samples, along with the\n        probability density function:\n        \n        >>> import matplotlib.pyplot as plt\n        >>> count, bins, ignored = plt.hist(s, 15, density=True)\n        >>> plt.plot(bins, np.ones_like(bins), linewidth=2, color='r')\n        >>> plt.show()\n    \n    vonmises(...) method of numpy.random.mtrand.RandomState instance\n        vonmises(mu, kappa, size=None)\n        \n        Draw samples from a von Mises distribution.\n        \n        Samples are drawn from a von Mises distribution with specified mode\n        (mu) and dispersion (kappa), on the interval [-pi, pi].\n        \n        The von Mises distribution (also known as the circular normal\n        distribution) is a continuous probability distribution on the unit\n        circle.  It may be thought of as the circular analogue of the normal\n        distribution.\n        \n        .. note::\n            New code should use the ``vonmises`` method of a ``default_rng()``\n            instance instead; please see the :ref:`random-quick-start`.\n        \n        Parameters\n        ----------\n        mu : float or array_like of floats\n            Mode (\"center\") of the distribution.\n        kappa : float or array_like of floats\n            Dispersion of the distribution, has to be >=0.\n        size : int or tuple of ints, optional\n            Output shape.  If the given shape is, e.g., ``(m, n, k)``, then\n            ``m * n * k`` samples are drawn.  If size is ``None`` (default),\n            a single value is returned if ``mu`` and ``kappa`` are both scalars.\n            Otherwise, ``np.broadcast(mu, kappa).size`` samples are drawn.\n        \n        Returns\n        -------\n        out : ndarray or scalar\n            Drawn samples from the parameterized von Mises distribution.\n        \n        See Also\n        --------\n        scipy.stats.vonmises : probability density function, distribution, or\n            cumulative density function, etc.\n        Generator.vonmises: which should be used for new code.\n        \n        Notes\n        -----\n        The probability density for the von Mises distribution is\n        \n        .. math:: p(x) = \\frac{e^{\\kappa cos(x-\\mu)}}{2\\pi I_0(\\kappa)},\n        \n        where :math:`\\mu` is the mode and :math:`\\kappa` the dispersion,\n        and :math:`I_0(\\kappa)` is the modified Bessel function of order 0.\n        \n        The von Mises is named for Richard Edler von Mises, who was born in\n        Austria-Hungary, in what is now the Ukraine.  He fled to the United\n        States in 1939 and became a professor at Harvard.  He worked in\n        probability theory, aerodynamics, fluid mechanics, and philosophy of\n        science.\n        \n        References\n        ----------\n        .. [1] Abramowitz, M. and Stegun, I. A. (Eds.). \"Handbook of\n               Mathematical Functions with Formulas, Graphs, and Mathematical\n               Tables, 9th printing,\" New York: Dover, 1972.\n        .. [2] von Mises, R., \"Mathematical Theory of Probability\n               and Statistics\", New York: Academic Press, 1964.\n        \n        Examples\n        --------\n        Draw samples from the distribution:\n        \n        >>> mu, kappa = 0.0, 4.0 # mean and dispersion\n        >>> s = np.random.vonmises(mu, kappa, 1000)\n        \n        Display the histogram of the samples, along with\n        the probability density function:\n        \n        >>> import matplotlib.pyplot as plt\n        >>> from scipy.special import i0  # doctest: +SKIP\n        >>> plt.hist(s, 50, density=True)\n        >>> x = np.linspace(-np.pi, np.pi, num=51)\n        >>> y = np.exp(kappa*np.cos(x-mu))/(2*np.pi*i0(kappa))  # doctest: +SKIP\n        >>> plt.plot(x, y, linewidth=2, color='r')  # doctest: +SKIP\n        >>> plt.show()\n    \n    wald(...) method of numpy.random.mtrand.RandomState instance\n        wald(mean, scale, size=None)\n        \n        Draw samples from a Wald, or inverse Gaussian, distribution.\n        \n        As the scale approaches infinity, the distribution becomes more like a\n        Gaussian. Some references claim that the Wald is an inverse Gaussian\n        with mean equal to 1, but this is by no means universal.\n        \n        The inverse Gaussian distribution was first studied in relationship to\n        Brownian motion. In 1956 M.C.K. Tweedie used the name inverse Gaussian\n        because there is an inverse relationship between the time to cover a\n        unit distance and distance covered in unit time.\n        \n        .. note::\n            New code should use the ``wald`` method of a ``default_rng()``\n            instance instead; please see the :ref:`random-quick-start`.\n        \n        Parameters\n        ----------\n        mean : float or array_like of floats\n            Distribution mean, must be > 0.\n        scale : float or array_like of floats\n            Scale parameter, must be > 0.\n        size : int or tuple of ints, optional\n            Output shape.  If the given shape is, e.g., ``(m, n, k)``, then\n            ``m * n * k`` samples are drawn.  If size is ``None`` (default),\n            a single value is returned if ``mean`` and ``scale`` are both scalars.\n            Otherwise, ``np.broadcast(mean, scale).size`` samples are drawn.\n        \n        Returns\n        -------\n        out : ndarray or scalar\n            Drawn samples from the parameterized Wald distribution.\n        \n        See Also\n        --------\n        Generator.wald: which should be used for new code.\n        \n        Notes\n        -----\n        The probability density function for the Wald distribution is\n        \n        .. math:: P(x;mean,scale) = \\sqrt{\\frac{scale}{2\\pi x^3}}e^\n                                    \\frac{-scale(x-mean)^2}{2\\cdotp mean^2x}\n        \n        As noted above the inverse Gaussian distribution first arise\n        from attempts to model Brownian motion. It is also a\n        competitor to the Weibull for use in reliability modeling and\n        modeling stock returns and interest rate processes.\n        \n        References\n        ----------\n        .. [1] Brighton Webs Ltd., Wald Distribution,\n               https://web.archive.org/web/20090423014010/http://www.brighton-webs.co.uk:80/distributions/wald.asp\n        .. [2] Chhikara, Raj S., and Folks, J. Leroy, \"The Inverse Gaussian\n               Distribution: Theory : Methodology, and Applications\", CRC Press,\n               1988.\n        .. [3] Wikipedia, \"Inverse Gaussian distribution\"\n               https://en.wikipedia.org/wiki/Inverse_Gaussian_distribution\n        \n        Examples\n        --------\n        Draw values from the distribution and plot the histogram:\n        \n        >>> import matplotlib.pyplot as plt\n        >>> h = plt.hist(np.random.wald(3, 2, 100000), bins=200, density=True)\n        >>> plt.show()\n    \n    weibull(...) method of numpy.random.mtrand.RandomState instance\n        weibull(a, size=None)\n        \n        Draw samples from a Weibull distribution.\n        \n        Draw samples from a 1-parameter Weibull distribution with the given\n        shape parameter `a`.\n        \n        .. math:: X = (-ln(U))^{1/a}\n        \n        Here, U is drawn from the uniform distribution over (0,1].\n        \n        The more common 2-parameter Weibull, including a scale parameter\n        :math:`\\lambda` is just :math:`X = \\lambda(-ln(U))^{1/a}`.\n        \n        .. note::\n            New code should use the ``weibull`` method of a ``default_rng()``\n            instance instead; please see the :ref:`random-quick-start`.\n        \n        Parameters\n        ----------\n        a : float or array_like of floats\n            Shape parameter of the distribution.  Must be nonnegative.\n        size : int or tuple of ints, optional\n            Output shape.  If the given shape is, e.g., ``(m, n, k)``, then\n            ``m * n * k`` samples are drawn.  If size is ``None`` (default),\n            a single value is returned if ``a`` is a scalar.  Otherwise,\n            ``np.array(a).size`` samples are drawn.\n        \n        Returns\n        -------\n        out : ndarray or scalar\n            Drawn samples from the parameterized Weibull distribution.\n        \n        See Also\n        --------\n        scipy.stats.weibull_max\n        scipy.stats.weibull_min\n        scipy.stats.genextreme\n        gumbel\n        Generator.weibull: which should be used for new code.\n        \n        Notes\n        -----\n        The Weibull (or Type III asymptotic extreme value distribution\n        for smallest values, SEV Type III, or Rosin-Rammler\n        distribution) is one of a class of Generalized Extreme Value\n        (GEV) distributions used in modeling extreme value problems.\n        This class includes the Gumbel and Frechet distributions.\n        \n        The probability density for the Weibull distribution is\n        \n        .. math:: p(x) = \\frac{a}\n                         {\\lambda}(\\frac{x}{\\lambda})^{a-1}e^{-(x/\\lambda)^a},\n        \n        where :math:`a` is the shape and :math:`\\lambda` the scale.\n        \n        The function has its peak (the mode) at\n        :math:`\\lambda(\\frac{a-1}{a})^{1/a}`.\n        \n        When ``a = 1``, the Weibull distribution reduces to the exponential\n        distribution.\n        \n        References\n        ----------\n        .. [1] Waloddi Weibull, Royal Technical University, Stockholm,\n               1939 \"A Statistical Theory Of The Strength Of Materials\",\n               Ingeniorsvetenskapsakademiens Handlingar Nr 151, 1939,\n               Generalstabens Litografiska Anstalts Forlag, Stockholm.\n        .. [2] Waloddi Weibull, \"A Statistical Distribution Function of\n               Wide Applicability\", Journal Of Applied Mechanics ASME Paper\n               1951.\n        .. [3] Wikipedia, \"Weibull distribution\",\n               https://en.wikipedia.org/wiki/Weibull_distribution\n        \n        Examples\n        --------\n        Draw samples from the distribution:\n        \n        >>> a = 5. # shape\n        >>> s = np.random.weibull(a, 1000)\n        \n        Display the histogram of the samples, along with\n        the probability density function:\n        \n        >>> import matplotlib.pyplot as plt\n        >>> x = np.arange(1,100.)/50.\n        >>> def weib(x,n,a):\n        ...     return (a / n) * (x / n)**(a - 1) * np.exp(-(x / n)**a)\n        \n        >>> count, bins, ignored = plt.hist(np.random.weibull(5.,1000))\n        >>> x = np.arange(1,100.)/50.\n        >>> scale = count.max()/weib(x, 1., 5.).max()\n        >>> plt.plot(x, weib(x, 1., 5.)*scale)\n        >>> plt.show()\n    \n    zipf(...) method of numpy.random.mtrand.RandomState instance\n        zipf(a, size=None)\n        \n        Draw samples from a Zipf distribution.\n        \n        Samples are drawn from a Zipf distribution with specified parameter\n        `a` > 1.\n        \n        The Zipf distribution (also known as the zeta distribution) is a\n        continuous probability distribution that satisfies Zipf's law: the\n        frequency of an item is inversely proportional to its rank in a\n        frequency table.\n        \n        .. note::\n            New code should use the ``zipf`` method of a ``default_rng()``\n            instance instead; please see the :ref:`random-quick-start`.\n        \n        Parameters\n        ----------\n        a : float or array_like of floats\n            Distribution parameter. Must be greater than 1.\n        size : int or tuple of ints, optional\n            Output shape.  If the given shape is, e.g., ``(m, n, k)``, then\n            ``m * n * k`` samples are drawn.  If size is ``None`` (default),\n            a single value is returned if ``a`` is a scalar. Otherwise,\n            ``np.array(a).size`` samples are drawn.\n        \n        Returns\n        -------\n        out : ndarray or scalar\n            Drawn samples from the parameterized Zipf distribution.\n        \n        See Also\n        --------\n        scipy.stats.zipf : probability density function, distribution, or\n            cumulative density function, etc.\n        Generator.zipf: which should be used for new code.\n        \n        Notes\n        -----\n        The probability density for the Zipf distribution is\n        \n        .. math:: p(x) = \\frac{x^{-a}}{\\zeta(a)},\n        \n        where :math:`\\zeta` is the Riemann Zeta function.\n        \n        It is named for the American linguist George Kingsley Zipf, who noted\n        that the frequency of any word in a sample of a language is inversely\n        proportional to its rank in the frequency table.\n        \n        References\n        ----------\n        .. [1] Zipf, G. K., \"Selected Studies of the Principle of Relative\n               Frequency in Language,\" Cambridge, MA: Harvard Univ. Press,\n               1932.\n        \n        Examples\n        --------\n        Draw samples from the distribution:\n        \n        >>> a = 2. # parameter\n        >>> s = np.random.zipf(a, 1000)\n        \n        Display the histogram of the samples, along with\n        the probability density function:\n        \n        >>> import matplotlib.pyplot as plt\n        >>> from scipy import special  # doctest: +SKIP\n        \n        Truncate s values at 50 so plot is interesting:\n        \n        >>> count, bins, ignored = plt.hist(s[s<50], 50, density=True)\n        >>> x = np.arange(1., 50.)\n        >>> y = x**(-a) / special.zetac(a)  # doctest: +SKIP\n        >>> plt.plot(x, y/max(y), linewidth=2, color='r')  # doctest: +SKIP\n        >>> plt.show()\n\nDATA\n    __all__ = ['beta', 'binomial', 'bytes', 'chisquare', 'choice', 'dirich...\n\nFILE\n    /opt/anaconda3/lib/python3.8/site-packages/numpy/random/__init__.py\n\n\n"
     ]
    }
   ],
   "source": [
    "help(np.random)"
   ]
  },
  {
   "cell_type": "markdown",
   "metadata": {},
   "source": [
    "Se verá más en detalle en posteriores apartados, pero algunos ejemplos de cosas que podemos hacer con `numpy` son:"
   ]
  },
  {
   "cell_type": "code",
   "execution_count": 31,
   "metadata": {},
   "outputs": [
    {
     "output_type": "execute_result",
     "data": {
      "text/plain": [
       "array([10, 20, 30, 40, 50, 60, 70, 80, 90])"
      ]
     },
     "metadata": {},
     "execution_count": 31
    }
   ],
   "source": [
    "array = np.array([1,2,3,4,5,6,7,8,9])\n",
    "\n",
    "array * 10\n",
    "# Con numpy todos los daatos del arry tienen que ser del\n",
    "# mismo tipo. Si no, numpy los transforma, si puede"
   ]
  },
  {
   "cell_type": "code",
   "execution_count": 17,
   "metadata": {},
   "outputs": [
    {
     "output_type": "stream",
     "name": "stdout",
     "text": [
      "<class 'numpy.ndarray'>\n(434, 1000, 3)\n"
     ]
    },
    {
     "output_type": "execute_result",
     "data": {
      "text/plain": [
       "<matplotlib.image.AxesImage at 0x116edaa60>"
      ]
     },
     "metadata": {},
     "execution_count": 17
    },
    {
     "output_type": "display_data",
     "data": {
      "text/plain": "<Figure size 432x288 with 1 Axes>",
      "image/svg+xml": "<?xml version=\"1.0\" encoding=\"utf-8\" standalone=\"no\"?>\n<!DOCTYPE svg PUBLIC \"-//W3C//DTD SVG 1.1//EN\"\n  \"http://www.w3.org/Graphics/SVG/1.1/DTD/svg11.dtd\">\n<!-- Created with matplotlib (https://matplotlib.org/) -->\n<svg height=\"180.013144pt\" version=\"1.1\" viewBox=\"0 0 375.2875 180.013144\" width=\"375.2875pt\" xmlns=\"http://www.w3.org/2000/svg\" xmlns:xlink=\"http://www.w3.org/1999/xlink\">\n <metadata>\n  <rdf:RDF xmlns:cc=\"http://creativecommons.org/ns#\" xmlns:dc=\"http://purl.org/dc/elements/1.1/\" xmlns:rdf=\"http://www.w3.org/1999/02/22-rdf-syntax-ns#\">\n   <cc:Work>\n    <dc:type rdf:resource=\"http://purl.org/dc/dcmitype/StillImage\"/>\n    <dc:date>2021-05-04T13:54:15.507802</dc:date>\n    <dc:format>image/svg+xml</dc:format>\n    <dc:creator>\n     <cc:Agent>\n      <dc:title>Matplotlib v3.3.2, https://matplotlib.org/</dc:title>\n     </cc:Agent>\n    </dc:creator>\n   </cc:Work>\n  </rdf:RDF>\n </metadata>\n <defs>\n  <style type=\"text/css\">*{stroke-linecap:butt;stroke-linejoin:round;}</style>\n </defs>\n <g id=\"figure_1\">\n  <g id=\"patch_1\">\n   <path d=\"M 0 180.013144 \nL 375.2875 180.013144 \nL 375.2875 0 \nL 0 0 \nz\n\" style=\"fill:none;\"/>\n  </g>\n  <g id=\"axes_1\">\n   <g id=\"patch_2\">\n    <path d=\"M 33.2875 156.135019 \nL 368.0875 156.135019 \nL 368.0875 10.831819 \nL 33.2875 10.831819 \nz\n\" style=\"fill:#ffffff;\"/>\n   </g>\n   <g clip-path=\"url(#p7d086dbdd1)\">\n    <image height=\"146\" id=\"image4d9174e820\" transform=\"scale(1 -1)translate(0 -146)\" width=\"335\" x=\"33.2875\" xlink:href=\"data:image/png;base64,\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\" y=\"-10.135019\"/>\n   </g>\n   <g id=\"matplotlib.axis_1\">\n    <g id=\"xtick_1\">\n     <g id=\"line2d_1\">\n      <defs>\n       <path d=\"M 0 0 \nL 0 3.5 \n\" id=\"me6f724ce3c\" style=\"stroke:#000000;stroke-width:0.8;\"/>\n      </defs>\n      <g>\n       <use style=\"stroke:#000000;stroke-width:0.8;\" x=\"33.4549\" xlink:href=\"#me6f724ce3c\" y=\"156.135019\"/>\n      </g>\n     </g>\n     <g id=\"text_1\">\n      <!-- 0 -->\n      <g transform=\"translate(30.27365 170.733456)scale(0.1 -0.1)\">\n       <defs>\n        <path d=\"M 31.78125 66.40625 \nQ 24.171875 66.40625 20.328125 58.90625 \nQ 16.5 51.421875 16.5 36.375 \nQ 16.5 21.390625 20.328125 13.890625 \nQ 24.171875 6.390625 31.78125 6.390625 \nQ 39.453125 6.390625 43.28125 13.890625 \nQ 47.125 21.390625 47.125 36.375 \nQ 47.125 51.421875 43.28125 58.90625 \nQ 39.453125 66.40625 31.78125 66.40625 \nz\nM 31.78125 74.21875 \nQ 44.046875 74.21875 50.515625 64.515625 \nQ 56.984375 54.828125 56.984375 36.375 \nQ 56.984375 17.96875 50.515625 8.265625 \nQ 44.046875 -1.421875 31.78125 -1.421875 \nQ 19.53125 -1.421875 13.0625 8.265625 \nQ 6.59375 17.96875 6.59375 36.375 \nQ 6.59375 54.828125 13.0625 64.515625 \nQ 19.53125 74.21875 31.78125 74.21875 \nz\n\" id=\"DejaVuSans-48\"/>\n       </defs>\n       <use xlink:href=\"#DejaVuSans-48\"/>\n      </g>\n     </g>\n    </g>\n    <g id=\"xtick_2\">\n     <g id=\"line2d_2\">\n      <g>\n       <use style=\"stroke:#000000;stroke-width:0.8;\" x=\"100.4149\" xlink:href=\"#me6f724ce3c\" y=\"156.135019\"/>\n      </g>\n     </g>\n     <g id=\"text_2\">\n      <!-- 200 -->\n      <g transform=\"translate(90.87115 170.733456)scale(0.1 -0.1)\">\n       <defs>\n        <path d=\"M 19.1875 8.296875 \nL 53.609375 8.296875 \nL 53.609375 0 \nL 7.328125 0 \nL 7.328125 8.296875 \nQ 12.9375 14.109375 22.625 23.890625 \nQ 32.328125 33.6875 34.8125 36.53125 \nQ 39.546875 41.84375 41.421875 45.53125 \nQ 43.3125 49.21875 43.3125 52.78125 \nQ 43.3125 58.59375 39.234375 62.25 \nQ 35.15625 65.921875 28.609375 65.921875 \nQ 23.96875 65.921875 18.8125 64.3125 \nQ 13.671875 62.703125 7.8125 59.421875 \nL 7.8125 69.390625 \nQ 13.765625 71.78125 18.9375 73 \nQ 24.125 74.21875 28.421875 74.21875 \nQ 39.75 74.21875 46.484375 68.546875 \nQ 53.21875 62.890625 53.21875 53.421875 \nQ 53.21875 48.921875 51.53125 44.890625 \nQ 49.859375 40.875 45.40625 35.40625 \nQ 44.1875 33.984375 37.640625 27.21875 \nQ 31.109375 20.453125 19.1875 8.296875 \nz\n\" id=\"DejaVuSans-50\"/>\n       </defs>\n       <use xlink:href=\"#DejaVuSans-50\"/>\n       <use x=\"63.623047\" xlink:href=\"#DejaVuSans-48\"/>\n       <use x=\"127.246094\" xlink:href=\"#DejaVuSans-48\"/>\n      </g>\n     </g>\n    </g>\n    <g id=\"xtick_3\">\n     <g id=\"line2d_3\">\n      <g>\n       <use style=\"stroke:#000000;stroke-width:0.8;\" x=\"167.3749\" xlink:href=\"#me6f724ce3c\" y=\"156.135019\"/>\n      </g>\n     </g>\n     <g id=\"text_3\">\n      <!-- 400 -->\n      <g transform=\"translate(157.83115 170.733456)scale(0.1 -0.1)\">\n       <defs>\n        <path d=\"M 37.796875 64.3125 \nL 12.890625 25.390625 \nL 37.796875 25.390625 \nz\nM 35.203125 72.90625 \nL 47.609375 72.90625 \nL 47.609375 25.390625 \nL 58.015625 25.390625 \nL 58.015625 17.1875 \nL 47.609375 17.1875 \nL 47.609375 0 \nL 37.796875 0 \nL 37.796875 17.1875 \nL 4.890625 17.1875 \nL 4.890625 26.703125 \nz\n\" id=\"DejaVuSans-52\"/>\n       </defs>\n       <use xlink:href=\"#DejaVuSans-52\"/>\n       <use x=\"63.623047\" xlink:href=\"#DejaVuSans-48\"/>\n       <use x=\"127.246094\" xlink:href=\"#DejaVuSans-48\"/>\n      </g>\n     </g>\n    </g>\n    <g id=\"xtick_4\">\n     <g id=\"line2d_4\">\n      <g>\n       <use style=\"stroke:#000000;stroke-width:0.8;\" x=\"234.3349\" xlink:href=\"#me6f724ce3c\" y=\"156.135019\"/>\n      </g>\n     </g>\n     <g id=\"text_4\">\n      <!-- 600 -->\n      <g transform=\"translate(224.79115 170.733456)scale(0.1 -0.1)\">\n       <defs>\n        <path d=\"M 33.015625 40.375 \nQ 26.375 40.375 22.484375 35.828125 \nQ 18.609375 31.296875 18.609375 23.390625 \nQ 18.609375 15.53125 22.484375 10.953125 \nQ 26.375 6.390625 33.015625 6.390625 \nQ 39.65625 6.390625 43.53125 10.953125 \nQ 47.40625 15.53125 47.40625 23.390625 \nQ 47.40625 31.296875 43.53125 35.828125 \nQ 39.65625 40.375 33.015625 40.375 \nz\nM 52.59375 71.296875 \nL 52.59375 62.3125 \nQ 48.875 64.0625 45.09375 64.984375 \nQ 41.3125 65.921875 37.59375 65.921875 \nQ 27.828125 65.921875 22.671875 59.328125 \nQ 17.53125 52.734375 16.796875 39.40625 \nQ 19.671875 43.65625 24.015625 45.921875 \nQ 28.375 48.1875 33.59375 48.1875 \nQ 44.578125 48.1875 50.953125 41.515625 \nQ 57.328125 34.859375 57.328125 23.390625 \nQ 57.328125 12.15625 50.6875 5.359375 \nQ 44.046875 -1.421875 33.015625 -1.421875 \nQ 20.359375 -1.421875 13.671875 8.265625 \nQ 6.984375 17.96875 6.984375 36.375 \nQ 6.984375 53.65625 15.1875 63.9375 \nQ 23.390625 74.21875 37.203125 74.21875 \nQ 40.921875 74.21875 44.703125 73.484375 \nQ 48.484375 72.75 52.59375 71.296875 \nz\n\" id=\"DejaVuSans-54\"/>\n       </defs>\n       <use xlink:href=\"#DejaVuSans-54\"/>\n       <use x=\"63.623047\" xlink:href=\"#DejaVuSans-48\"/>\n       <use x=\"127.246094\" xlink:href=\"#DejaVuSans-48\"/>\n      </g>\n     </g>\n    </g>\n    <g id=\"xtick_5\">\n     <g id=\"line2d_5\">\n      <g>\n       <use style=\"stroke:#000000;stroke-width:0.8;\" x=\"301.2949\" xlink:href=\"#me6f724ce3c\" y=\"156.135019\"/>\n      </g>\n     </g>\n     <g id=\"text_5\">\n      <!-- 800 -->\n      <g transform=\"translate(291.75115 170.733456)scale(0.1 -0.1)\">\n       <defs>\n        <path d=\"M 31.78125 34.625 \nQ 24.75 34.625 20.71875 30.859375 \nQ 16.703125 27.09375 16.703125 20.515625 \nQ 16.703125 13.921875 20.71875 10.15625 \nQ 24.75 6.390625 31.78125 6.390625 \nQ 38.8125 6.390625 42.859375 10.171875 \nQ 46.921875 13.96875 46.921875 20.515625 \nQ 46.921875 27.09375 42.890625 30.859375 \nQ 38.875 34.625 31.78125 34.625 \nz\nM 21.921875 38.8125 \nQ 15.578125 40.375 12.03125 44.71875 \nQ 8.5 49.078125 8.5 55.328125 \nQ 8.5 64.0625 14.71875 69.140625 \nQ 20.953125 74.21875 31.78125 74.21875 \nQ 42.671875 74.21875 48.875 69.140625 \nQ 55.078125 64.0625 55.078125 55.328125 \nQ 55.078125 49.078125 51.53125 44.71875 \nQ 48 40.375 41.703125 38.8125 \nQ 48.828125 37.15625 52.796875 32.3125 \nQ 56.78125 27.484375 56.78125 20.515625 \nQ 56.78125 9.90625 50.3125 4.234375 \nQ 43.84375 -1.421875 31.78125 -1.421875 \nQ 19.734375 -1.421875 13.25 4.234375 \nQ 6.78125 9.90625 6.78125 20.515625 \nQ 6.78125 27.484375 10.78125 32.3125 \nQ 14.796875 37.15625 21.921875 38.8125 \nz\nM 18.3125 54.390625 \nQ 18.3125 48.734375 21.84375 45.5625 \nQ 25.390625 42.390625 31.78125 42.390625 \nQ 38.140625 42.390625 41.71875 45.5625 \nQ 45.3125 48.734375 45.3125 54.390625 \nQ 45.3125 60.0625 41.71875 63.234375 \nQ 38.140625 66.40625 31.78125 66.40625 \nQ 25.390625 66.40625 21.84375 63.234375 \nQ 18.3125 60.0625 18.3125 54.390625 \nz\n\" id=\"DejaVuSans-56\"/>\n       </defs>\n       <use xlink:href=\"#DejaVuSans-56\"/>\n       <use x=\"63.623047\" xlink:href=\"#DejaVuSans-48\"/>\n       <use x=\"127.246094\" xlink:href=\"#DejaVuSans-48\"/>\n      </g>\n     </g>\n    </g>\n   </g>\n   <g id=\"matplotlib.axis_2\">\n    <g id=\"ytick_1\">\n     <g id=\"line2d_6\">\n      <defs>\n       <path d=\"M 0 0 \nL -3.5 0 \n\" id=\"mf81a5f96ed\" style=\"stroke:#000000;stroke-width:0.8;\"/>\n      </defs>\n      <g>\n       <use style=\"stroke:#000000;stroke-width:0.8;\" x=\"33.2875\" xlink:href=\"#mf81a5f96ed\" y=\"10.999219\"/>\n      </g>\n     </g>\n     <g id=\"text_6\">\n      <!-- 0 -->\n      <g transform=\"translate(19.925 14.798437)scale(0.1 -0.1)\">\n       <use xlink:href=\"#DejaVuSans-48\"/>\n      </g>\n     </g>\n    </g>\n    <g id=\"ytick_2\">\n     <g id=\"line2d_7\">\n      <g>\n       <use style=\"stroke:#000000;stroke-width:0.8;\" x=\"33.2875\" xlink:href=\"#mf81a5f96ed\" y=\"44.479219\"/>\n      </g>\n     </g>\n     <g id=\"text_7\">\n      <!-- 100 -->\n      <g transform=\"translate(7.2 48.278437)scale(0.1 -0.1)\">\n       <defs>\n        <path d=\"M 12.40625 8.296875 \nL 28.515625 8.296875 \nL 28.515625 63.921875 \nL 10.984375 60.40625 \nL 10.984375 69.390625 \nL 28.421875 72.90625 \nL 38.28125 72.90625 \nL 38.28125 8.296875 \nL 54.390625 8.296875 \nL 54.390625 0 \nL 12.40625 0 \nz\n\" id=\"DejaVuSans-49\"/>\n       </defs>\n       <use xlink:href=\"#DejaVuSans-49\"/>\n       <use x=\"63.623047\" xlink:href=\"#DejaVuSans-48\"/>\n       <use x=\"127.246094\" xlink:href=\"#DejaVuSans-48\"/>\n      </g>\n     </g>\n    </g>\n    <g id=\"ytick_3\">\n     <g id=\"line2d_8\">\n      <g>\n       <use style=\"stroke:#000000;stroke-width:0.8;\" x=\"33.2875\" xlink:href=\"#mf81a5f96ed\" y=\"77.959219\"/>\n      </g>\n     </g>\n     <g id=\"text_8\">\n      <!-- 200 -->\n      <g transform=\"translate(7.2 81.758437)scale(0.1 -0.1)\">\n       <use xlink:href=\"#DejaVuSans-50\"/>\n       <use x=\"63.623047\" xlink:href=\"#DejaVuSans-48\"/>\n       <use x=\"127.246094\" xlink:href=\"#DejaVuSans-48\"/>\n      </g>\n     </g>\n    </g>\n    <g id=\"ytick_4\">\n     <g id=\"line2d_9\">\n      <g>\n       <use style=\"stroke:#000000;stroke-width:0.8;\" x=\"33.2875\" xlink:href=\"#mf81a5f96ed\" y=\"111.439219\"/>\n      </g>\n     </g>\n     <g id=\"text_9\">\n      <!-- 300 -->\n      <g transform=\"translate(7.2 115.238437)scale(0.1 -0.1)\">\n       <defs>\n        <path d=\"M 40.578125 39.3125 \nQ 47.65625 37.796875 51.625 33 \nQ 55.609375 28.21875 55.609375 21.1875 \nQ 55.609375 10.40625 48.1875 4.484375 \nQ 40.765625 -1.421875 27.09375 -1.421875 \nQ 22.515625 -1.421875 17.65625 -0.515625 \nQ 12.796875 0.390625 7.625 2.203125 \nL 7.625 11.71875 \nQ 11.71875 9.328125 16.59375 8.109375 \nQ 21.484375 6.890625 26.8125 6.890625 \nQ 36.078125 6.890625 40.9375 10.546875 \nQ 45.796875 14.203125 45.796875 21.1875 \nQ 45.796875 27.640625 41.28125 31.265625 \nQ 36.765625 34.90625 28.71875 34.90625 \nL 20.21875 34.90625 \nL 20.21875 43.015625 \nL 29.109375 43.015625 \nQ 36.375 43.015625 40.234375 45.921875 \nQ 44.09375 48.828125 44.09375 54.296875 \nQ 44.09375 59.90625 40.109375 62.90625 \nQ 36.140625 65.921875 28.71875 65.921875 \nQ 24.65625 65.921875 20.015625 65.03125 \nQ 15.375 64.15625 9.8125 62.3125 \nL 9.8125 71.09375 \nQ 15.4375 72.65625 20.34375 73.4375 \nQ 25.25 74.21875 29.59375 74.21875 \nQ 40.828125 74.21875 47.359375 69.109375 \nQ 53.90625 64.015625 53.90625 55.328125 \nQ 53.90625 49.265625 50.4375 45.09375 \nQ 46.96875 40.921875 40.578125 39.3125 \nz\n\" id=\"DejaVuSans-51\"/>\n       </defs>\n       <use xlink:href=\"#DejaVuSans-51\"/>\n       <use x=\"63.623047\" xlink:href=\"#DejaVuSans-48\"/>\n       <use x=\"127.246094\" xlink:href=\"#DejaVuSans-48\"/>\n      </g>\n     </g>\n    </g>\n    <g id=\"ytick_5\">\n     <g id=\"line2d_10\">\n      <g>\n       <use style=\"stroke:#000000;stroke-width:0.8;\" x=\"33.2875\" xlink:href=\"#mf81a5f96ed\" y=\"144.919219\"/>\n      </g>\n     </g>\n     <g id=\"text_10\">\n      <!-- 400 -->\n      <g transform=\"translate(7.2 148.718437)scale(0.1 -0.1)\">\n       <use xlink:href=\"#DejaVuSans-52\"/>\n       <use x=\"63.623047\" xlink:href=\"#DejaVuSans-48\"/>\n       <use x=\"127.246094\" xlink:href=\"#DejaVuSans-48\"/>\n      </g>\n     </g>\n    </g>\n   </g>\n   <g id=\"patch_3\">\n    <path d=\"M 33.2875 156.135019 \nL 33.2875 10.831819 \n\" style=\"fill:none;stroke:#000000;stroke-linecap:square;stroke-linejoin:miter;stroke-width:0.8;\"/>\n   </g>\n   <g id=\"patch_4\">\n    <path d=\"M 368.0875 156.135019 \nL 368.0875 10.831819 \n\" style=\"fill:none;stroke:#000000;stroke-linecap:square;stroke-linejoin:miter;stroke-width:0.8;\"/>\n   </g>\n   <g id=\"patch_5\">\n    <path d=\"M 33.2875 156.135019 \nL 368.0875 156.135019 \n\" style=\"fill:none;stroke:#000000;stroke-linecap:square;stroke-linejoin:miter;stroke-width:0.8;\"/>\n   </g>\n   <g id=\"patch_6\">\n    <path d=\"M 33.2875 10.831819 \nL 368.0875 10.831819 \n\" style=\"fill:none;stroke:#000000;stroke-linecap:square;stroke-linejoin:miter;stroke-width:0.8;\"/>\n   </g>\n  </g>\n </g>\n <defs>\n  <clipPath id=\"p7d086dbdd1\">\n   <rect height=\"145.3032\" width=\"334.8\" x=\"33.2875\" y=\"10.831819\"/>\n  </clipPath>\n </defs>\n</svg>\n",
      "image/png": "[encoded data removed]"
     },
     "metadata": {
      "needs_background": "light"
     }
    }
   ],
   "source": [
    "from skimage.io import imread\n",
    "import matplotlib.pyplot as plt\n",
    "\n",
    "imagen = imread(\"./img/python.jpg\")\n",
    "print(type(imagen))\n",
    "print(imagen.shape)\n",
    "\n",
    "plt.imshow(imagen)"
   ]
  },
  {
   "cell_type": "code",
   "execution_count": 18,
   "metadata": {
    "jupyter": {
     "outputs_hidden": true
    }
   },
   "outputs": [
    {
     "output_type": "execute_result",
     "data": {
      "text/plain": [
       "array([255, 255, 255], dtype=uint8)"
      ]
     },
     "metadata": {},
     "execution_count": 18
    }
   ],
   "source": [
    "imagen[0][0]"
   ]
  },
  {
   "cell_type": "code",
   "execution_count": 19,
   "metadata": {},
   "outputs": [
    {
     "output_type": "execute_result",
     "data": {
      "text/plain": [
       "(434, 1000, 3)"
      ]
     },
     "metadata": {},
     "execution_count": 19
    }
   ],
   "source": [
    "imagen.shape"
   ]
  },
  {
   "cell_type": "code",
   "execution_count": 20,
   "metadata": {},
   "outputs": [
    {
     "output_type": "execute_result",
     "data": {
      "text/plain": [
       "(1000, 3)"
      ]
     },
     "metadata": {},
     "execution_count": 20
    }
   ],
   "source": [
    "# Dimensiones de la primera fila\n",
    "imagen[0].shape"
   ]
  },
  {
   "cell_type": "code",
   "execution_count": 21,
   "metadata": {},
   "outputs": [
    {
     "output_type": "execute_result",
     "data": {
      "text/plain": [
       "(3,)"
      ]
     },
     "metadata": {},
     "execution_count": 21
    }
   ],
   "source": [
    "# Dimensiones de la primera fila y la primera columna\n",
    "imagen[0][0].shape"
   ]
  },
  {
   "cell_type": "code",
   "execution_count": 22,
   "metadata": {},
   "outputs": [
    {
     "output_type": "stream",
     "name": "stdout",
     "text": [
      "[226 174  52]\n[ 40 104 131]\n"
     ]
    }
   ],
   "source": [
    "# Zona amarilla\n",
    "print(imagen[200, 290, :])\n",
    "\n",
    "# Zona azul\n",
    "print(imagen[200, 200, :])"
   ]
  },
  {
   "cell_type": "code",
   "execution_count": 23,
   "metadata": {},
   "outputs": [
    {
     "output_type": "execute_result",
     "data": {
      "text/plain": [
       "<matplotlib.image.AxesImage at 0x11712a250>"
      ]
     },
     "metadata": {},
     "execution_count": 23
    },
    {
     "output_type": "display_data",
     "data": {
      "text/plain": "<Figure size 432x288 with 1 Axes>",
      "image/svg+xml": "<?xml version=\"1.0\" encoding=\"utf-8\" standalone=\"no\"?>\n<!DOCTYPE svg PUBLIC \"-//W3C//DTD SVG 1.1//EN\"\n  \"http://www.w3.org/Graphics/SVG/1.1/DTD/svg11.dtd\">\n<!-- Created with matplotlib (https://matplotlib.org/) -->\n<svg height=\"180.013144pt\" version=\"1.1\" viewBox=\"0 0 375.2875 180.013144\" width=\"375.2875pt\" xmlns=\"http://www.w3.org/2000/svg\" xmlns:xlink=\"http://www.w3.org/1999/xlink\">\n <metadata>\n  <rdf:RDF xmlns:cc=\"http://creativecommons.org/ns#\" xmlns:dc=\"http://purl.org/dc/elements/1.1/\" xmlns:rdf=\"http://www.w3.org/1999/02/22-rdf-syntax-ns#\">\n   <cc:Work>\n    <dc:type rdf:resource=\"http://purl.org/dc/dcmitype/StillImage\"/>\n    <dc:date>2021-05-04T13:54:15.992206</dc:date>\n    <dc:format>image/svg+xml</dc:format>\n    <dc:creator>\n     <cc:Agent>\n      <dc:title>Matplotlib v3.3.2, https://matplotlib.org/</dc:title>\n     </cc:Agent>\n    </dc:creator>\n   </cc:Work>\n  </rdf:RDF>\n </metadata>\n <defs>\n  <style type=\"text/css\">*{stroke-linecap:butt;stroke-linejoin:round;}</style>\n </defs>\n <g id=\"figure_1\">\n  <g id=\"patch_1\">\n   <path d=\"M 0 180.013144 \nL 375.2875 180.013144 \nL 375.2875 0 \nL 0 0 \nz\n\" style=\"fill:none;\"/>\n  </g>\n  <g id=\"axes_1\">\n   <g id=\"patch_2\">\n    <path d=\"M 33.2875 156.135019 \nL 368.0875 156.135019 \nL 368.0875 10.831819 \nL 33.2875 10.831819 \nz\n\" style=\"fill:#ffffff;\"/>\n   </g>\n   <g clip-path=\"url(#pfdcb724baa)\">\n    <image height=\"146\" id=\"imagee4681557c2\" transform=\"scale(1 -1)translate(0 -146)\" width=\"335\" x=\"33.2875\" xlink:href=\"data:image/png;base64,\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\" y=\"-10.135019\"/>\n   </g>\n   <g id=\"matplotlib.axis_1\">\n    <g id=\"xtick_1\">\n     <g id=\"line2d_1\">\n      <defs>\n       <path d=\"M 0 0 \nL 0 3.5 \n\" id=\"mf5151dd667\" style=\"stroke:#000000;stroke-width:0.8;\"/>\n      </defs>\n      <g>\n       <use style=\"stroke:#000000;stroke-width:0.8;\" x=\"33.4549\" xlink:href=\"#mf5151dd667\" y=\"156.135019\"/>\n      </g>\n     </g>\n     <g id=\"text_1\">\n      <!-- 0 -->\n      <g transform=\"translate(30.27365 170.733456)scale(0.1 -0.1)\">\n       <defs>\n        <path d=\"M 31.78125 66.40625 \nQ 24.171875 66.40625 20.328125 58.90625 \nQ 16.5 51.421875 16.5 36.375 \nQ 16.5 21.390625 20.328125 13.890625 \nQ 24.171875 6.390625 31.78125 6.390625 \nQ 39.453125 6.390625 43.28125 13.890625 \nQ 47.125 21.390625 47.125 36.375 \nQ 47.125 51.421875 43.28125 58.90625 \nQ 39.453125 66.40625 31.78125 66.40625 \nz\nM 31.78125 74.21875 \nQ 44.046875 74.21875 50.515625 64.515625 \nQ 56.984375 54.828125 56.984375 36.375 \nQ 56.984375 17.96875 50.515625 8.265625 \nQ 44.046875 -1.421875 31.78125 -1.421875 \nQ 19.53125 -1.421875 13.0625 8.265625 \nQ 6.59375 17.96875 6.59375 36.375 \nQ 6.59375 54.828125 13.0625 64.515625 \nQ 19.53125 74.21875 31.78125 74.21875 \nz\n\" id=\"DejaVuSans-48\"/>\n       </defs>\n       <use xlink:href=\"#DejaVuSans-48\"/>\n      </g>\n     </g>\n    </g>\n    <g id=\"xtick_2\">\n     <g id=\"line2d_2\">\n      <g>\n       <use style=\"stroke:#000000;stroke-width:0.8;\" x=\"100.4149\" xlink:href=\"#mf5151dd667\" y=\"156.135019\"/>\n      </g>\n     </g>\n     <g id=\"text_2\">\n      <!-- 200 -->\n      <g transform=\"translate(90.87115 170.733456)scale(0.1 -0.1)\">\n       <defs>\n        <path d=\"M 19.1875 8.296875 \nL 53.609375 8.296875 \nL 53.609375 0 \nL 7.328125 0 \nL 7.328125 8.296875 \nQ 12.9375 14.109375 22.625 23.890625 \nQ 32.328125 33.6875 34.8125 36.53125 \nQ 39.546875 41.84375 41.421875 45.53125 \nQ 43.3125 49.21875 43.3125 52.78125 \nQ 43.3125 58.59375 39.234375 62.25 \nQ 35.15625 65.921875 28.609375 65.921875 \nQ 23.96875 65.921875 18.8125 64.3125 \nQ 13.671875 62.703125 7.8125 59.421875 \nL 7.8125 69.390625 \nQ 13.765625 71.78125 18.9375 73 \nQ 24.125 74.21875 28.421875 74.21875 \nQ 39.75 74.21875 46.484375 68.546875 \nQ 53.21875 62.890625 53.21875 53.421875 \nQ 53.21875 48.921875 51.53125 44.890625 \nQ 49.859375 40.875 45.40625 35.40625 \nQ 44.1875 33.984375 37.640625 27.21875 \nQ 31.109375 20.453125 19.1875 8.296875 \nz\n\" id=\"DejaVuSans-50\"/>\n       </defs>\n       <use xlink:href=\"#DejaVuSans-50\"/>\n       <use x=\"63.623047\" xlink:href=\"#DejaVuSans-48\"/>\n       <use x=\"127.246094\" xlink:href=\"#DejaVuSans-48\"/>\n      </g>\n     </g>\n    </g>\n    <g id=\"xtick_3\">\n     <g id=\"line2d_3\">\n      <g>\n       <use style=\"stroke:#000000;stroke-width:0.8;\" x=\"167.3749\" xlink:href=\"#mf5151dd667\" y=\"156.135019\"/>\n      </g>\n     </g>\n     <g id=\"text_3\">\n      <!-- 400 -->\n      <g transform=\"translate(157.83115 170.733456)scale(0.1 -0.1)\">\n       <defs>\n        <path d=\"M 37.796875 64.3125 \nL 12.890625 25.390625 \nL 37.796875 25.390625 \nz\nM 35.203125 72.90625 \nL 47.609375 72.90625 \nL 47.609375 25.390625 \nL 58.015625 25.390625 \nL 58.015625 17.1875 \nL 47.609375 17.1875 \nL 47.609375 0 \nL 37.796875 0 \nL 37.796875 17.1875 \nL 4.890625 17.1875 \nL 4.890625 26.703125 \nz\n\" id=\"DejaVuSans-52\"/>\n       </defs>\n       <use xlink:href=\"#DejaVuSans-52\"/>\n       <use x=\"63.623047\" xlink:href=\"#DejaVuSans-48\"/>\n       <use x=\"127.246094\" xlink:href=\"#DejaVuSans-48\"/>\n      </g>\n     </g>\n    </g>\n    <g id=\"xtick_4\">\n     <g id=\"line2d_4\">\n      <g>\n       <use style=\"stroke:#000000;stroke-width:0.8;\" x=\"234.3349\" xlink:href=\"#mf5151dd667\" y=\"156.135019\"/>\n      </g>\n     </g>\n     <g id=\"text_4\">\n      <!-- 600 -->\n      <g transform=\"translate(224.79115 170.733456)scale(0.1 -0.1)\">\n       <defs>\n        <path d=\"M 33.015625 40.375 \nQ 26.375 40.375 22.484375 35.828125 \nQ 18.609375 31.296875 18.609375 23.390625 \nQ 18.609375 15.53125 22.484375 10.953125 \nQ 26.375 6.390625 33.015625 6.390625 \nQ 39.65625 6.390625 43.53125 10.953125 \nQ 47.40625 15.53125 47.40625 23.390625 \nQ 47.40625 31.296875 43.53125 35.828125 \nQ 39.65625 40.375 33.015625 40.375 \nz\nM 52.59375 71.296875 \nL 52.59375 62.3125 \nQ 48.875 64.0625 45.09375 64.984375 \nQ 41.3125 65.921875 37.59375 65.921875 \nQ 27.828125 65.921875 22.671875 59.328125 \nQ 17.53125 52.734375 16.796875 39.40625 \nQ 19.671875 43.65625 24.015625 45.921875 \nQ 28.375 48.1875 33.59375 48.1875 \nQ 44.578125 48.1875 50.953125 41.515625 \nQ 57.328125 34.859375 57.328125 23.390625 \nQ 57.328125 12.15625 50.6875 5.359375 \nQ 44.046875 -1.421875 33.015625 -1.421875 \nQ 20.359375 -1.421875 13.671875 8.265625 \nQ 6.984375 17.96875 6.984375 36.375 \nQ 6.984375 53.65625 15.1875 63.9375 \nQ 23.390625 74.21875 37.203125 74.21875 \nQ 40.921875 74.21875 44.703125 73.484375 \nQ 48.484375 72.75 52.59375 71.296875 \nz\n\" id=\"DejaVuSans-54\"/>\n       </defs>\n       <use xlink:href=\"#DejaVuSans-54\"/>\n       <use x=\"63.623047\" xlink:href=\"#DejaVuSans-48\"/>\n       <use x=\"127.246094\" xlink:href=\"#DejaVuSans-48\"/>\n      </g>\n     </g>\n    </g>\n    <g id=\"xtick_5\">\n     <g id=\"line2d_5\">\n      <g>\n       <use style=\"stroke:#000000;stroke-width:0.8;\" x=\"301.2949\" xlink:href=\"#mf5151dd667\" y=\"156.135019\"/>\n      </g>\n     </g>\n     <g id=\"text_5\">\n      <!-- 800 -->\n      <g transform=\"translate(291.75115 170.733456)scale(0.1 -0.1)\">\n       <defs>\n        <path d=\"M 31.78125 34.625 \nQ 24.75 34.625 20.71875 30.859375 \nQ 16.703125 27.09375 16.703125 20.515625 \nQ 16.703125 13.921875 20.71875 10.15625 \nQ 24.75 6.390625 31.78125 6.390625 \nQ 38.8125 6.390625 42.859375 10.171875 \nQ 46.921875 13.96875 46.921875 20.515625 \nQ 46.921875 27.09375 42.890625 30.859375 \nQ 38.875 34.625 31.78125 34.625 \nz\nM 21.921875 38.8125 \nQ 15.578125 40.375 12.03125 44.71875 \nQ 8.5 49.078125 8.5 55.328125 \nQ 8.5 64.0625 14.71875 69.140625 \nQ 20.953125 74.21875 31.78125 74.21875 \nQ 42.671875 74.21875 48.875 69.140625 \nQ 55.078125 64.0625 55.078125 55.328125 \nQ 55.078125 49.078125 51.53125 44.71875 \nQ 48 40.375 41.703125 38.8125 \nQ 48.828125 37.15625 52.796875 32.3125 \nQ 56.78125 27.484375 56.78125 20.515625 \nQ 56.78125 9.90625 50.3125 4.234375 \nQ 43.84375 -1.421875 31.78125 -1.421875 \nQ 19.734375 -1.421875 13.25 4.234375 \nQ 6.78125 9.90625 6.78125 20.515625 \nQ 6.78125 27.484375 10.78125 32.3125 \nQ 14.796875 37.15625 21.921875 38.8125 \nz\nM 18.3125 54.390625 \nQ 18.3125 48.734375 21.84375 45.5625 \nQ 25.390625 42.390625 31.78125 42.390625 \nQ 38.140625 42.390625 41.71875 45.5625 \nQ 45.3125 48.734375 45.3125 54.390625 \nQ 45.3125 60.0625 41.71875 63.234375 \nQ 38.140625 66.40625 31.78125 66.40625 \nQ 25.390625 66.40625 21.84375 63.234375 \nQ 18.3125 60.0625 18.3125 54.390625 \nz\n\" id=\"DejaVuSans-56\"/>\n       </defs>\n       <use xlink:href=\"#DejaVuSans-56\"/>\n       <use x=\"63.623047\" xlink:href=\"#DejaVuSans-48\"/>\n       <use x=\"127.246094\" xlink:href=\"#DejaVuSans-48\"/>\n      </g>\n     </g>\n    </g>\n   </g>\n   <g id=\"matplotlib.axis_2\">\n    <g id=\"ytick_1\">\n     <g id=\"line2d_6\">\n      <defs>\n       <path d=\"M 0 0 \nL -3.5 0 \n\" id=\"m97ff78f2dd\" style=\"stroke:#000000;stroke-width:0.8;\"/>\n      </defs>\n      <g>\n       <use style=\"stroke:#000000;stroke-width:0.8;\" x=\"33.2875\" xlink:href=\"#m97ff78f2dd\" y=\"10.999219\"/>\n      </g>\n     </g>\n     <g id=\"text_6\">\n      <!-- 0 -->\n      <g transform=\"translate(19.925 14.798437)scale(0.1 -0.1)\">\n       <use xlink:href=\"#DejaVuSans-48\"/>\n      </g>\n     </g>\n    </g>\n    <g id=\"ytick_2\">\n     <g id=\"line2d_7\">\n      <g>\n       <use style=\"stroke:#000000;stroke-width:0.8;\" x=\"33.2875\" xlink:href=\"#m97ff78f2dd\" y=\"44.479219\"/>\n      </g>\n     </g>\n     <g id=\"text_7\">\n      <!-- 100 -->\n      <g transform=\"translate(7.2 48.278437)scale(0.1 -0.1)\">\n       <defs>\n        <path d=\"M 12.40625 8.296875 \nL 28.515625 8.296875 \nL 28.515625 63.921875 \nL 10.984375 60.40625 \nL 10.984375 69.390625 \nL 28.421875 72.90625 \nL 38.28125 72.90625 \nL 38.28125 8.296875 \nL 54.390625 8.296875 \nL 54.390625 0 \nL 12.40625 0 \nz\n\" id=\"DejaVuSans-49\"/>\n       </defs>\n       <use xlink:href=\"#DejaVuSans-49\"/>\n       <use x=\"63.623047\" xlink:href=\"#DejaVuSans-48\"/>\n       <use x=\"127.246094\" xlink:href=\"#DejaVuSans-48\"/>\n      </g>\n     </g>\n    </g>\n    <g id=\"ytick_3\">\n     <g id=\"line2d_8\">\n      <g>\n       <use style=\"stroke:#000000;stroke-width:0.8;\" x=\"33.2875\" xlink:href=\"#m97ff78f2dd\" y=\"77.959219\"/>\n      </g>\n     </g>\n     <g id=\"text_8\">\n      <!-- 200 -->\n      <g transform=\"translate(7.2 81.758437)scale(0.1 -0.1)\">\n       <use xlink:href=\"#DejaVuSans-50\"/>\n       <use x=\"63.623047\" xlink:href=\"#DejaVuSans-48\"/>\n       <use x=\"127.246094\" xlink:href=\"#DejaVuSans-48\"/>\n      </g>\n     </g>\n    </g>\n    <g id=\"ytick_4\">\n     <g id=\"line2d_9\">\n      <g>\n       <use style=\"stroke:#000000;stroke-width:0.8;\" x=\"33.2875\" xlink:href=\"#m97ff78f2dd\" y=\"111.439219\"/>\n      </g>\n     </g>\n     <g id=\"text_9\">\n      <!-- 300 -->\n      <g transform=\"translate(7.2 115.238437)scale(0.1 -0.1)\">\n       <defs>\n        <path d=\"M 40.578125 39.3125 \nQ 47.65625 37.796875 51.625 33 \nQ 55.609375 28.21875 55.609375 21.1875 \nQ 55.609375 10.40625 48.1875 4.484375 \nQ 40.765625 -1.421875 27.09375 -1.421875 \nQ 22.515625 -1.421875 17.65625 -0.515625 \nQ 12.796875 0.390625 7.625 2.203125 \nL 7.625 11.71875 \nQ 11.71875 9.328125 16.59375 8.109375 \nQ 21.484375 6.890625 26.8125 6.890625 \nQ 36.078125 6.890625 40.9375 10.546875 \nQ 45.796875 14.203125 45.796875 21.1875 \nQ 45.796875 27.640625 41.28125 31.265625 \nQ 36.765625 34.90625 28.71875 34.90625 \nL 20.21875 34.90625 \nL 20.21875 43.015625 \nL 29.109375 43.015625 \nQ 36.375 43.015625 40.234375 45.921875 \nQ 44.09375 48.828125 44.09375 54.296875 \nQ 44.09375 59.90625 40.109375 62.90625 \nQ 36.140625 65.921875 28.71875 65.921875 \nQ 24.65625 65.921875 20.015625 65.03125 \nQ 15.375 64.15625 9.8125 62.3125 \nL 9.8125 71.09375 \nQ 15.4375 72.65625 20.34375 73.4375 \nQ 25.25 74.21875 29.59375 74.21875 \nQ 40.828125 74.21875 47.359375 69.109375 \nQ 53.90625 64.015625 53.90625 55.328125 \nQ 53.90625 49.265625 50.4375 45.09375 \nQ 46.96875 40.921875 40.578125 39.3125 \nz\n\" id=\"DejaVuSans-51\"/>\n       </defs>\n       <use xlink:href=\"#DejaVuSans-51\"/>\n       <use x=\"63.623047\" xlink:href=\"#DejaVuSans-48\"/>\n       <use x=\"127.246094\" xlink:href=\"#DejaVuSans-48\"/>\n      </g>\n     </g>\n    </g>\n    <g id=\"ytick_5\">\n     <g id=\"line2d_10\">\n      <g>\n       <use style=\"stroke:#000000;stroke-width:0.8;\" x=\"33.2875\" xlink:href=\"#m97ff78f2dd\" y=\"144.919219\"/>\n      </g>\n     </g>\n     <g id=\"text_10\">\n      <!-- 400 -->\n      <g transform=\"translate(7.2 148.718437)scale(0.1 -0.1)\">\n       <use xlink:href=\"#DejaVuSans-52\"/>\n       <use x=\"63.623047\" xlink:href=\"#DejaVuSans-48\"/>\n       <use x=\"127.246094\" xlink:href=\"#DejaVuSans-48\"/>\n      </g>\n     </g>\n    </g>\n   </g>\n   <g id=\"patch_3\">\n    <path d=\"M 33.2875 156.135019 \nL 33.2875 10.831819 \n\" style=\"fill:none;stroke:#000000;stroke-linecap:square;stroke-linejoin:miter;stroke-width:0.8;\"/>\n   </g>\n   <g id=\"patch_4\">\n    <path d=\"M 368.0875 156.135019 \nL 368.0875 10.831819 \n\" style=\"fill:none;stroke:#000000;stroke-linecap:square;stroke-linejoin:miter;stroke-width:0.8;\"/>\n   </g>\n   <g id=\"patch_5\">\n    <path d=\"M 33.2875 156.135019 \nL 368.0875 156.135019 \n\" style=\"fill:none;stroke:#000000;stroke-linecap:square;stroke-linejoin:miter;stroke-width:0.8;\"/>\n   </g>\n   <g id=\"patch_6\">\n    <path d=\"M 33.2875 10.831819 \nL 368.0875 10.831819 \n\" style=\"fill:none;stroke:#000000;stroke-linecap:square;stroke-linejoin:miter;stroke-width:0.8;\"/>\n   </g>\n  </g>\n </g>\n <defs>\n  <clipPath id=\"pfdcb724baa\">\n   <rect height=\"145.3032\" width=\"334.8\" x=\"33.2875\" y=\"10.831819\"/>\n  </clipPath>\n </defs>\n</svg>\n",
      "image/png": "[encoded data removed]"
     },
     "metadata": {
      "needs_background": "light"
     }
    }
   ],
   "source": [
    "# MODIFICAR UN COLOR\n",
    "\n",
    "imagen2 = imread('./img/python.jpg')\n",
    "nuevo_color = np.array([0, 255 ,0])\n",
    "#imagen2[200:300][:] = nuevo_color\n",
    "imagen2[200:300, 200:300][:] = nuevo_color\n",
    "plt.imshow(imagen2)"
   ]
  },
  {
   "cell_type": "code",
   "execution_count": 27,
   "metadata": {},
   "outputs": [
    {
     "output_type": "execute_result",
     "data": {
      "text/plain": [
       "numpy.uint8"
      ]
     },
     "metadata": {},
     "execution_count": 27
    }
   ],
   "source": [
    "type(imagen[0][0][0])"
   ]
  },
  {
   "cell_type": "markdown",
   "metadata": {},
   "source": [
    "## 3. Creacion de arrays\n",
    "Lo primero, importamos la librería de `numpy`"
   ]
  },
  {
   "cell_type": "code",
   "execution_count": 109,
   "metadata": {},
   "outputs": [],
   "source": [
    "import numpy as np"
   ]
  },
  {
   "cell_type": "code",
   "execution_count": 32,
   "metadata": {},
   "outputs": [
    {
     "output_type": "execute_result",
     "data": {
      "text/plain": [
       "(3,)"
      ]
     },
     "metadata": {},
     "execution_count": 32
    }
   ],
   "source": [
    "# Escalar\n",
    "x = 2\n",
    "# Vector\n",
    "v = np.array([2, 3, 5])\n",
    "v.shape"
   ]
  },
  {
   "cell_type": "code",
   "execution_count": 33,
   "metadata": {},
   "outputs": [
    {
     "output_type": "execute_result",
     "data": {
      "text/plain": [
       "(3, 3)"
      ]
     },
     "metadata": {},
     "execution_count": 33
    }
   ],
   "source": [
    "# Matriz\n",
    "m = np.array([[2, 3, 5], [2, 3, 5], [2, 3, 5]])\n",
    "m.shape"
   ]
  },
  {
   "cell_type": "code",
   "execution_count": 34,
   "metadata": {},
   "outputs": [
    {
     "output_type": "execute_result",
     "data": {
      "text/plain": [
       "(2, 3, 3)"
      ]
     },
     "metadata": {},
     "execution_count": 34
    }
   ],
   "source": [
    "# Tensor\n",
    "t = np.array([[[2, 3, 5], [2, 3, 5], [2, 3, 5]], [[2, 3, 5], [2, 3, 5], [2, 3, 5]]])\n",
    "t.shape"
   ]
  },
  {
   "cell_type": "markdown",
   "metadata": {},
   "source": [
    "**Vectores**\n",
    "\n",
    "Ya podemos crear nuestro primer vector. Que se trata de un array de 1D"
   ]
  },
  {
   "cell_type": "code",
   "execution_count": 32,
   "metadata": {},
   "outputs": [
    {
     "output_type": "stream",
     "name": "stdout",
     "text": [
      "[1 2 3 4 5]\n"
     ]
    }
   ],
   "source": [
    "array = np.array([1,2,3,4,5])\n",
    "print(array)"
   ]
  },
  {
   "cell_type": "markdown",
   "metadata": {},
   "source": [
    "El acceso a sus elementos es igual que en las listas"
   ]
  },
  {
   "cell_type": "code",
   "execution_count": 33,
   "metadata": {},
   "outputs": [
    {
     "output_type": "stream",
     "name": "stdout",
     "text": [
      "1\n5\n4\n"
     ]
    }
   ],
   "source": [
    "print(array[0])\n",
    "print(array[-1])\n",
    "print(array[-2])"
   ]
  },
  {
   "cell_type": "markdown",
   "metadata": {},
   "source": [
    "**Fíjate en el tipo**. Ya no son listas, aunque lo parecen. Incluso los tipos de los datos ya no son los que conocemos, sino que `numpy` aporta nuevos tipos de datos. Lo veremos más adelante."
   ]
  },
  {
   "cell_type": "code",
   "execution_count": 34,
   "metadata": {},
   "outputs": [
    {
     "output_type": "stream",
     "name": "stdout",
     "text": [
      "<class 'numpy.ndarray'>\n<class 'numpy.int64'>\nint64\n"
     ]
    }
   ],
   "source": [
    "print(type(array))\n",
    "print(type(array[0]))\n",
    "print(array.dtype)"
   ]
  },
  {
   "cell_type": "markdown",
   "metadata": {},
   "source": [
    "**Matrices**\n",
    "\n",
    "Vamos a crear ahora un **array multidimensional**"
   ]
  },
  {
   "cell_type": "code",
   "execution_count": 35,
   "metadata": {},
   "outputs": [
    {
     "output_type": "stream",
     "name": "stdout",
     "text": [
      "[[1 2 3]\n [4 5 6]\n [7 8 9]]\n"
     ]
    }
   ],
   "source": [
    "array_multi = np.array([[1,2,3], [4,5,6], [7,8,9]])\n",
    "print(array_multi)"
   ]
  },
  {
   "cell_type": "markdown",
   "metadata": {},
   "source": [
    "Otra ventaja de usar `numpy` en vez de listas es que el `print` lo realiza en formato matriz, lo que nos permite ver los datos mucho mejor que si lo imprimiese en una sola línea.\n",
    "\n",
    "**Secuencias**\n",
    "\n",
    "¿Recuerdas `range()`? Lo usábamos en listas para crear secuencias, estableciendo el punto de inicio, de parada, y el salto entre elementos. En `numpy` hay algo parecido denominado `arange`. [Te dejo el enlace a la documentación](https://numpy.org/doc/stable/reference/generated/numpy.arange.html)."
   ]
  },
  {
   "cell_type": "code",
   "execution_count": 36,
   "metadata": {},
   "outputs": [
    {
     "output_type": "stream",
     "name": "stdout",
     "text": [
      "[0 1 2 3 4 5 6 7 8 9]\n[0 2 4 6 8]\n[0.  0.5 1.  1.5 2.  2.5 3.  3.5 4.  4.5 5.  5.5 6.  6.5 7.  7.5 8.  8.5\n 9.  9.5]\n[0. 2. 4. 6. 8.]\n"
     ]
    }
   ],
   "source": [
    "# Array del 0 al 9\n",
    "print(np.arange(10))\n",
    "\n",
    "# Del 0 al 9, con saltos de 2\n",
    "print(np.arange(0, 10 , 2))\n",
    "\n",
    "# Array de 0 al 10, con saltos de 0.5\n",
    "print(np.arange(0, 10, 0.5))\n",
    "\n",
    "# Especficiando el tipo de dato\n",
    "print(np.arange(0, 10, 2, np.float64))"
   ]
  },
  {
   "cell_type": "markdown",
   "metadata": {},
   "source": [
    "**Random**\n",
    "\n",
    "Otra opción es usar el paquete `random` de `numpy`. **Muy útil cuando tenemos que crear secuencias aleatorias**, y lo mejor de todo es que tiene una gran cantidad de opciones para configurar. [Consulta la documentación para más detalle](https://docs.scipy.org/doc/numpy-1.14.0/reference/routines.random.html)."
   ]
  },
  {
   "cell_type": "code",
   "execution_count": 37,
   "metadata": {},
   "outputs": [
    {
     "output_type": "stream",
     "name": "stdout",
     "text": [
      "[0.16216856 0.00759185 0.70326435 0.72153539 0.82923856 0.93297689\n 0.58809747 0.84697272 0.97362574 0.30952051]\n[[1 2 0 4]\n [1 4 4 3]\n [2 1 1 0]]\n[9 7 7 7 9 7 5 5 5 7]\n"
     ]
    }
   ],
   "source": [
    "print(np.random.rand(10))\n",
    "\n",
    "# Matriz de numeros aleatorios\n",
    "print(np.random.randint(5, size = (3,4)))\n",
    "\n",
    "# Unidimensional\n",
    "print(np.random.randint(5,10, size = (10)))"
   ]
  },
  {
   "cell_type": "code",
   "execution_count": 39,
   "metadata": {},
   "outputs": [
    {
     "output_type": "execute_result",
     "data": {
      "text/plain": [
       "<matplotlib.image.AxesImage at 0x118ae6b50>"
      ]
     },
     "metadata": {},
     "execution_count": 39
    },
    {
     "output_type": "display_data",
     "data": {
      "text/plain": "<Figure size 432x288 with 1 Axes>",
      "image/svg+xml": "<?xml version=\"1.0\" encoding=\"utf-8\" standalone=\"no\"?>\n<!DOCTYPE svg PUBLIC \"-//W3C//DTD SVG 1.1//EN\"\n  \"http://www.w3.org/Graphics/SVG/1.1/DTD/svg11.dtd\">\n<!-- Created with matplotlib (https://matplotlib.org/) -->\n<svg height=\"201.998344pt\" version=\"1.1\" viewBox=\"0 0 375.2875 201.998344\" width=\"375.2875pt\" xmlns=\"http://www.w3.org/2000/svg\" xmlns:xlink=\"http://www.w3.org/1999/xlink\">\n <metadata>\n  <rdf:RDF xmlns:cc=\"http://creativecommons.org/ns#\" xmlns:dc=\"http://purl.org/dc/elements/1.1/\" xmlns:rdf=\"http://www.w3.org/1999/02/22-rdf-syntax-ns#\">\n   <cc:Work>\n    <dc:type rdf:resource=\"http://purl.org/dc/dcmitype/StillImage\"/>\n    <dc:date>2021-05-04T14:21:50.707619</dc:date>\n    <dc:format>image/svg+xml</dc:format>\n    <dc:creator>\n     <cc:Agent>\n      <dc:title>Matplotlib v3.3.2, https://matplotlib.org/</dc:title>\n     </cc:Agent>\n    </dc:creator>\n   </cc:Work>\n  </rdf:RDF>\n </metadata>\n <defs>\n  <style type=\"text/css\">*{stroke-linecap:butt;stroke-linejoin:round;}</style>\n </defs>\n <g id=\"figure_1\">\n  <g id=\"patch_1\">\n   <path d=\"M 0 201.998344 \nL 375.2875 201.998344 \nL 375.2875 0 \nL 0 0 \nz\n\" style=\"fill:none;\"/>\n  </g>\n  <g id=\"axes_1\">\n   <g id=\"patch_2\">\n    <path d=\"M 33.2875 178.120219 \nL 368.0875 178.120219 \nL 368.0875 10.720219 \nL 33.2875 10.720219 \nz\n\" style=\"fill:#ffffff;\"/>\n   </g>\n   <g clip-path=\"url(#p5c29d90019)\">\n    <image height=\"168\" id=\"imagec132b15d61\" transform=\"scale(1 -1)translate(0 -168)\" width=\"335\" x=\"33.2875\" xlink:href=\"data:image/png;base64,\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\" y=\"-10.120219\"/>\n   </g>\n   <g id=\"matplotlib.axis_1\">\n    <g id=\"xtick_1\">\n     <g id=\"line2d_1\">\n      <defs>\n       <path d=\"M 0 0 \nL 0 3.5 \n\" id=\"mee61093080\" style=\"stroke:#000000;stroke-width:0.8;\"/>\n      </defs>\n      <g>\n       <use style=\"stroke:#000000;stroke-width:0.8;\" x=\"33.5665\" xlink:href=\"#mee61093080\" y=\"178.120219\"/>\n      </g>\n     </g>\n     <g id=\"text_1\">\n      <!-- 0 -->\n      <g transform=\"translate(30.38525 192.718656)scale(0.1 -0.1)\">\n       <defs>\n        <path d=\"M 31.78125 66.40625 \nQ 24.171875 66.40625 20.328125 58.90625 \nQ 16.5 51.421875 16.5 36.375 \nQ 16.5 21.390625 20.328125 13.890625 \nQ 24.171875 6.390625 31.78125 6.390625 \nQ 39.453125 6.390625 43.28125 13.890625 \nQ 47.125 21.390625 47.125 36.375 \nQ 47.125 51.421875 43.28125 58.90625 \nQ 39.453125 66.40625 31.78125 66.40625 \nz\nM 31.78125 74.21875 \nQ 44.046875 74.21875 50.515625 64.515625 \nQ 56.984375 54.828125 56.984375 36.375 \nQ 56.984375 17.96875 50.515625 8.265625 \nQ 44.046875 -1.421875 31.78125 -1.421875 \nQ 19.53125 -1.421875 13.0625 8.265625 \nQ 6.59375 17.96875 6.59375 36.375 \nQ 6.59375 54.828125 13.0625 64.515625 \nQ 19.53125 74.21875 31.78125 74.21875 \nz\n\" id=\"DejaVuSans-48\"/>\n       </defs>\n       <use xlink:href=\"#DejaVuSans-48\"/>\n      </g>\n     </g>\n    </g>\n    <g id=\"xtick_2\">\n     <g id=\"line2d_2\">\n      <g>\n       <use style=\"stroke:#000000;stroke-width:0.8;\" x=\"89.3665\" xlink:href=\"#mee61093080\" y=\"178.120219\"/>\n      </g>\n     </g>\n     <g id=\"text_2\">\n      <!-- 100 -->\n      <g transform=\"translate(79.82275 192.718656)scale(0.1 -0.1)\">\n       <defs>\n        <path d=\"M 12.40625 8.296875 \nL 28.515625 8.296875 \nL 28.515625 63.921875 \nL 10.984375 60.40625 \nL 10.984375 69.390625 \nL 28.421875 72.90625 \nL 38.28125 72.90625 \nL 38.28125 8.296875 \nL 54.390625 8.296875 \nL 54.390625 0 \nL 12.40625 0 \nz\n\" id=\"DejaVuSans-49\"/>\n       </defs>\n       <use xlink:href=\"#DejaVuSans-49\"/>\n       <use x=\"63.623047\" xlink:href=\"#DejaVuSans-48\"/>\n       <use x=\"127.246094\" xlink:href=\"#DejaVuSans-48\"/>\n      </g>\n     </g>\n    </g>\n    <g id=\"xtick_3\">\n     <g id=\"line2d_3\">\n      <g>\n       <use style=\"stroke:#000000;stroke-width:0.8;\" x=\"145.1665\" xlink:href=\"#mee61093080\" y=\"178.120219\"/>\n      </g>\n     </g>\n     <g id=\"text_3\">\n      <!-- 200 -->\n      <g transform=\"translate(135.62275 192.718656)scale(0.1 -0.1)\">\n       <defs>\n        <path d=\"M 19.1875 8.296875 \nL 53.609375 8.296875 \nL 53.609375 0 \nL 7.328125 0 \nL 7.328125 8.296875 \nQ 12.9375 14.109375 22.625 23.890625 \nQ 32.328125 33.6875 34.8125 36.53125 \nQ 39.546875 41.84375 41.421875 45.53125 \nQ 43.3125 49.21875 43.3125 52.78125 \nQ 43.3125 58.59375 39.234375 62.25 \nQ 35.15625 65.921875 28.609375 65.921875 \nQ 23.96875 65.921875 18.8125 64.3125 \nQ 13.671875 62.703125 7.8125 59.421875 \nL 7.8125 69.390625 \nQ 13.765625 71.78125 18.9375 73 \nQ 24.125 74.21875 28.421875 74.21875 \nQ 39.75 74.21875 46.484375 68.546875 \nQ 53.21875 62.890625 53.21875 53.421875 \nQ 53.21875 48.921875 51.53125 44.890625 \nQ 49.859375 40.875 45.40625 35.40625 \nQ 44.1875 33.984375 37.640625 27.21875 \nQ 31.109375 20.453125 19.1875 8.296875 \nz\n\" id=\"DejaVuSans-50\"/>\n       </defs>\n       <use xlink:href=\"#DejaVuSans-50\"/>\n       <use x=\"63.623047\" xlink:href=\"#DejaVuSans-48\"/>\n       <use x=\"127.246094\" xlink:href=\"#DejaVuSans-48\"/>\n      </g>\n     </g>\n    </g>\n    <g id=\"xtick_4\">\n     <g id=\"line2d_4\">\n      <g>\n       <use style=\"stroke:#000000;stroke-width:0.8;\" x=\"200.9665\" xlink:href=\"#mee61093080\" y=\"178.120219\"/>\n      </g>\n     </g>\n     <g id=\"text_4\">\n      <!-- 300 -->\n      <g transform=\"translate(191.42275 192.718656)scale(0.1 -0.1)\">\n       <defs>\n        <path d=\"M 40.578125 39.3125 \nQ 47.65625 37.796875 51.625 33 \nQ 55.609375 28.21875 55.609375 21.1875 \nQ 55.609375 10.40625 48.1875 4.484375 \nQ 40.765625 -1.421875 27.09375 -1.421875 \nQ 22.515625 -1.421875 17.65625 -0.515625 \nQ 12.796875 0.390625 7.625 2.203125 \nL 7.625 11.71875 \nQ 11.71875 9.328125 16.59375 8.109375 \nQ 21.484375 6.890625 26.8125 6.890625 \nQ 36.078125 6.890625 40.9375 10.546875 \nQ 45.796875 14.203125 45.796875 21.1875 \nQ 45.796875 27.640625 41.28125 31.265625 \nQ 36.765625 34.90625 28.71875 34.90625 \nL 20.21875 34.90625 \nL 20.21875 43.015625 \nL 29.109375 43.015625 \nQ 36.375 43.015625 40.234375 45.921875 \nQ 44.09375 48.828125 44.09375 54.296875 \nQ 44.09375 59.90625 40.109375 62.90625 \nQ 36.140625 65.921875 28.71875 65.921875 \nQ 24.65625 65.921875 20.015625 65.03125 \nQ 15.375 64.15625 9.8125 62.3125 \nL 9.8125 71.09375 \nQ 15.4375 72.65625 20.34375 73.4375 \nQ 25.25 74.21875 29.59375 74.21875 \nQ 40.828125 74.21875 47.359375 69.109375 \nQ 53.90625 64.015625 53.90625 55.328125 \nQ 53.90625 49.265625 50.4375 45.09375 \nQ 46.96875 40.921875 40.578125 39.3125 \nz\n\" id=\"DejaVuSans-51\"/>\n       </defs>\n       <use xlink:href=\"#DejaVuSans-51\"/>\n       <use x=\"63.623047\" xlink:href=\"#DejaVuSans-48\"/>\n       <use x=\"127.246094\" xlink:href=\"#DejaVuSans-48\"/>\n      </g>\n     </g>\n    </g>\n    <g id=\"xtick_5\">\n     <g id=\"line2d_5\">\n      <g>\n       <use style=\"stroke:#000000;stroke-width:0.8;\" x=\"256.7665\" xlink:href=\"#mee61093080\" y=\"178.120219\"/>\n      </g>\n     </g>\n     <g id=\"text_5\">\n      <!-- 400 -->\n      <g transform=\"translate(247.22275 192.718656)scale(0.1 -0.1)\">\n       <defs>\n        <path d=\"M 37.796875 64.3125 \nL 12.890625 25.390625 \nL 37.796875 25.390625 \nz\nM 35.203125 72.90625 \nL 47.609375 72.90625 \nL 47.609375 25.390625 \nL 58.015625 25.390625 \nL 58.015625 17.1875 \nL 47.609375 17.1875 \nL 47.609375 0 \nL 37.796875 0 \nL 37.796875 17.1875 \nL 4.890625 17.1875 \nL 4.890625 26.703125 \nz\n\" id=\"DejaVuSans-52\"/>\n       </defs>\n       <use xlink:href=\"#DejaVuSans-52\"/>\n       <use x=\"63.623047\" xlink:href=\"#DejaVuSans-48\"/>\n       <use x=\"127.246094\" xlink:href=\"#DejaVuSans-48\"/>\n      </g>\n     </g>\n    </g>\n    <g id=\"xtick_6\">\n     <g id=\"line2d_6\">\n      <g>\n       <use style=\"stroke:#000000;stroke-width:0.8;\" x=\"312.5665\" xlink:href=\"#mee61093080\" y=\"178.120219\"/>\n      </g>\n     </g>\n     <g id=\"text_6\">\n      <!-- 500 -->\n      <g transform=\"translate(303.02275 192.718656)scale(0.1 -0.1)\">\n       <defs>\n        <path d=\"M 10.796875 72.90625 \nL 49.515625 72.90625 \nL 49.515625 64.59375 \nL 19.828125 64.59375 \nL 19.828125 46.734375 \nQ 21.96875 47.46875 24.109375 47.828125 \nQ 26.265625 48.1875 28.421875 48.1875 \nQ 40.625 48.1875 47.75 41.5 \nQ 54.890625 34.8125 54.890625 23.390625 \nQ 54.890625 11.625 47.5625 5.09375 \nQ 40.234375 -1.421875 26.90625 -1.421875 \nQ 22.3125 -1.421875 17.546875 -0.640625 \nQ 12.796875 0.140625 7.71875 1.703125 \nL 7.71875 11.625 \nQ 12.109375 9.234375 16.796875 8.0625 \nQ 21.484375 6.890625 26.703125 6.890625 \nQ 35.15625 6.890625 40.078125 11.328125 \nQ 45.015625 15.765625 45.015625 23.390625 \nQ 45.015625 31 40.078125 35.4375 \nQ 35.15625 39.890625 26.703125 39.890625 \nQ 22.75 39.890625 18.8125 39.015625 \nQ 14.890625 38.140625 10.796875 36.28125 \nz\n\" id=\"DejaVuSans-53\"/>\n       </defs>\n       <use xlink:href=\"#DejaVuSans-53\"/>\n       <use x=\"63.623047\" xlink:href=\"#DejaVuSans-48\"/>\n       <use x=\"127.246094\" xlink:href=\"#DejaVuSans-48\"/>\n      </g>\n     </g>\n    </g>\n   </g>\n   <g id=\"matplotlib.axis_2\">\n    <g id=\"ytick_1\">\n     <g id=\"line2d_7\">\n      <defs>\n       <path d=\"M 0 0 \nL -3.5 0 \n\" id=\"m106e029e6e\" style=\"stroke:#000000;stroke-width:0.8;\"/>\n      </defs>\n      <g>\n       <use style=\"stroke:#000000;stroke-width:0.8;\" x=\"33.2875\" xlink:href=\"#m106e029e6e\" y=\"10.999219\"/>\n      </g>\n     </g>\n     <g id=\"text_7\">\n      <!-- 0 -->\n      <g transform=\"translate(19.925 14.798438)scale(0.1 -0.1)\">\n       <use xlink:href=\"#DejaVuSans-48\"/>\n      </g>\n     </g>\n    </g>\n    <g id=\"ytick_2\">\n     <g id=\"line2d_8\">\n      <g>\n       <use style=\"stroke:#000000;stroke-width:0.8;\" x=\"33.2875\" xlink:href=\"#m106e029e6e\" y=\"38.899219\"/>\n      </g>\n     </g>\n     <g id=\"text_8\">\n      <!-- 50 -->\n      <g transform=\"translate(13.5625 42.698438)scale(0.1 -0.1)\">\n       <use xlink:href=\"#DejaVuSans-53\"/>\n       <use x=\"63.623047\" xlink:href=\"#DejaVuSans-48\"/>\n      </g>\n     </g>\n    </g>\n    <g id=\"ytick_3\">\n     <g id=\"line2d_9\">\n      <g>\n       <use style=\"stroke:#000000;stroke-width:0.8;\" x=\"33.2875\" xlink:href=\"#m106e029e6e\" y=\"66.799219\"/>\n      </g>\n     </g>\n     <g id=\"text_9\">\n      <!-- 100 -->\n      <g transform=\"translate(7.2 70.598438)scale(0.1 -0.1)\">\n       <use xlink:href=\"#DejaVuSans-49\"/>\n       <use x=\"63.623047\" xlink:href=\"#DejaVuSans-48\"/>\n       <use x=\"127.246094\" xlink:href=\"#DejaVuSans-48\"/>\n      </g>\n     </g>\n    </g>\n    <g id=\"ytick_4\">\n     <g id=\"line2d_10\">\n      <g>\n       <use style=\"stroke:#000000;stroke-width:0.8;\" x=\"33.2875\" xlink:href=\"#m106e029e6e\" y=\"94.699219\"/>\n      </g>\n     </g>\n     <g id=\"text_10\">\n      <!-- 150 -->\n      <g transform=\"translate(7.2 98.498438)scale(0.1 -0.1)\">\n       <use xlink:href=\"#DejaVuSans-49\"/>\n       <use x=\"63.623047\" xlink:href=\"#DejaVuSans-53\"/>\n       <use x=\"127.246094\" xlink:href=\"#DejaVuSans-48\"/>\n      </g>\n     </g>\n    </g>\n    <g id=\"ytick_5\">\n     <g id=\"line2d_11\">\n      <g>\n       <use style=\"stroke:#000000;stroke-width:0.8;\" x=\"33.2875\" xlink:href=\"#m106e029e6e\" y=\"122.599219\"/>\n      </g>\n     </g>\n     <g id=\"text_11\">\n      <!-- 200 -->\n      <g transform=\"translate(7.2 126.398438)scale(0.1 -0.1)\">\n       <use xlink:href=\"#DejaVuSans-50\"/>\n       <use x=\"63.623047\" xlink:href=\"#DejaVuSans-48\"/>\n       <use x=\"127.246094\" xlink:href=\"#DejaVuSans-48\"/>\n      </g>\n     </g>\n    </g>\n    <g id=\"ytick_6\">\n     <g id=\"line2d_12\">\n      <g>\n       <use style=\"stroke:#000000;stroke-width:0.8;\" x=\"33.2875\" xlink:href=\"#m106e029e6e\" y=\"150.499219\"/>\n      </g>\n     </g>\n     <g id=\"text_12\">\n      <!-- 250 -->\n      <g transform=\"translate(7.2 154.298438)scale(0.1 -0.1)\">\n       <use xlink:href=\"#DejaVuSans-50\"/>\n       <use x=\"63.623047\" xlink:href=\"#DejaVuSans-53\"/>\n       <use x=\"127.246094\" xlink:href=\"#DejaVuSans-48\"/>\n      </g>\n     </g>\n    </g>\n   </g>\n   <g id=\"patch_3\">\n    <path d=\"M 33.2875 178.120219 \nL 33.2875 10.720219 \n\" style=\"fill:none;stroke:#000000;stroke-linecap:square;stroke-linejoin:miter;stroke-width:0.8;\"/>\n   </g>\n   <g id=\"patch_4\">\n    <path d=\"M 368.0875 178.120219 \nL 368.0875 10.720219 \n\" style=\"fill:none;stroke:#000000;stroke-linecap:square;stroke-linejoin:miter;stroke-width:0.8;\"/>\n   </g>\n   <g id=\"patch_5\">\n    <path d=\"M 33.2875 178.120219 \nL 368.0875 178.120219 \n\" style=\"fill:none;stroke:#000000;stroke-linecap:square;stroke-linejoin:miter;stroke-width:0.8;\"/>\n   </g>\n   <g id=\"patch_6\">\n    <path d=\"M 33.2875 10.720219 \nL 368.0875 10.720219 \n\" style=\"fill:none;stroke:#000000;stroke-linecap:square;stroke-linejoin:miter;stroke-width:0.8;\"/>\n   </g>\n  </g>\n </g>\n <defs>\n  <clipPath id=\"p5c29d90019\">\n   <rect height=\"167.4\" width=\"334.8\" x=\"33.2875\" y=\"10.720219\"/>\n  </clipPath>\n </defs>\n</svg>\n",
      "image/png": "[encoded data removed]"
     },
     "metadata": {
      "needs_background": "light"
     }
    }
   ],
   "source": [
    "randint = np.random.randint(0,255,(300,600,3))\n",
    "# print(randint)\n",
    "plt.imshow(randint)"
   ]
  },
  {
   "cell_type": "markdown",
   "metadata": {},
   "source": [
    "**Seed**\n",
    "\n",
    "Como habrás podido comprobar, cada ejecución de una secuencia aleatoria es diferente. **Fijando una semilla, todas las secuencias aleatorias que ejecutes (si tienen los mismos argumentos), tendrán siempre el mismo output**. Se usa mucho cuando queremos replicar resultados, o compartirlos con otros compañeros. Los resultados que obtengas en este Notebook no serán los mismos que obtenga el compañero, en caso de haber un factor aleatorio, por lo que no vamos a poder comparar los Notebooks... A no ser que ambos fijéis la misma semilla.\n",
    "\n",
    "**¿Qué valor ponemos en seed? El que queramos** mientras en el resto de Notebooks donde queramos replicar estos resultados, tengan la misma semilla."
   ]
  },
  {
   "cell_type": "code",
   "execution_count": 41,
   "metadata": {},
   "outputs": [
    {
     "output_type": "stream",
     "name": "stdout",
     "text": [
      "[0.19151945 0.62210877 0.43772774 0.78535858 0.77997581 0.27259261\n 0.27646426 0.80187218 0.95813935 0.87593263]\n[0.48932698 0.05933244 0.36620243 0.51886544 0.59822501 0.43061449\n 0.17863405 0.2852539  0.07143863 0.18471334]\n[0.65227754 0.6995098  0.96479186 0.46544847 0.74570976 0.13285534\n 0.42363387 0.27274848 0.72703255 0.05397126]\n"
     ]
    }
   ],
   "source": [
    "# Afecta a todo el notebook y siempre va a replicar\n",
    "# lo mismo cuando haga np.random.rand(10)\n",
    "np.random.seed(1234)\n",
    "print(np.random.rand(10))\n",
    "\n",
    "np.random.seed(5678)\n",
    "print(np.random.rand(10))\n",
    "\n",
    "np.random.seed(None)\n",
    "print(np.random.rand(10))"
   ]
  },
  {
   "cell_type": "code",
   "execution_count": 42,
   "metadata": {},
   "outputs": [
    {
     "output_type": "stream",
     "name": "stdout",
     "text": [
      "[0.19151945 0.62210877 0.43772774 0.78535858 0.77997581 0.27259261\n 0.27646426 0.80187218 0.95813935 0.87593263]\n"
     ]
    }
   ],
   "source": [
    "np.random.seed(1234)\n",
    "print(np.random.rand(10))"
   ]
  },
  {
   "cell_type": "markdown",
   "metadata": {},
   "source": [
    "**Matrices con valores**\n",
    "[Hay diferentes maneras de crear arrays o matrices](https://numpy.org/doc/stable/reference/routines.array-creation.html), pero en ocasiones necesitamos tener predefinidas matrices con un único valor. Veamos algunos ejemplos:"
   ]
  },
  {
   "cell_type": "code",
   "execution_count": 44,
   "metadata": {},
   "outputs": [
    {
     "output_type": "stream",
     "name": "stdout",
     "text": [
      "[[1. 0. 0. 0. 0.]\n [0. 1. 0. 0. 0.]\n [0. 0. 1. 0. 0.]\n [0. 0. 0. 1. 0.]\n [0. 0. 0. 0. 1.]]\n"
     ]
    }
   ],
   "source": [
    "# Matriz identidad\n",
    "print(np.identity(5))"
   ]
  },
  {
   "cell_type": "code",
   "execution_count": 45,
   "metadata": {},
   "outputs": [
    {
     "output_type": "execute_result",
     "data": {
      "text/plain": [
       "array([[1., 0., 0., 0., 0., 0., 0., 0., 0., 0.],\n",
       "       [0., 1., 0., 0., 0., 0., 0., 0., 0., 0.],\n",
       "       [0., 0., 1., 0., 0., 0., 0., 0., 0., 0.],\n",
       "       [0., 0., 0., 1., 0., 0., 0., 0., 0., 0.],\n",
       "       [0., 0., 0., 0., 1., 0., 0., 0., 0., 0.],\n",
       "       [0., 0., 0., 0., 0., 1., 0., 0., 0., 0.],\n",
       "       [0., 0., 0., 0., 0., 0., 1., 0., 0., 0.],\n",
       "       [0., 0., 0., 0., 0., 0., 0., 1., 0., 0.],\n",
       "       [0., 0., 0., 0., 0., 0., 0., 0., 1., 0.],\n",
       "       [0., 0., 0., 0., 0., 0., 0., 0., 0., 1.]])"
      ]
     },
     "metadata": {},
     "execution_count": 45
    }
   ],
   "source": [
    "np.identity(10)"
   ]
  },
  {
   "cell_type": "code",
   "execution_count": 46,
   "metadata": {},
   "outputs": [
    {
     "output_type": "execute_result",
     "data": {
      "text/plain": [
       "array([[0., 0., 0., 0., 0.],\n",
       "       [0., 0., 0., 0., 0.],\n",
       "       [0., 0., 0., 0., 0.]])"
      ]
     },
     "metadata": {},
     "execution_count": 46
    }
   ],
   "source": [
    "# Matriz de 0s\n",
    "np.zeros((3,5))"
   ]
  },
  {
   "cell_type": "code",
   "execution_count": 48,
   "metadata": {},
   "outputs": [
    {
     "output_type": "execute_result",
     "data": {
      "text/plain": [
       "array([[0., 0., 0.],\n",
       "       [0., 0., 0.],\n",
       "       [0., 0., 0.],\n",
       "       [0., 0., 0.],\n",
       "       [0., 0., 0.]])"
      ]
     },
     "metadata": {},
     "execution_count": 48
    }
   ],
   "source": [
    "np.zeros((5, 3))"
   ]
  },
  {
   "cell_type": "code",
   "execution_count": 50,
   "metadata": {},
   "outputs": [
    {
     "output_type": "execute_result",
     "data": {
      "text/plain": [
       "array([[1, 1, 1],\n",
       "       [1, 1, 1],\n",
       "       [1, 1, 1]], dtype=int32)"
      ]
     },
     "metadata": {},
     "execution_count": 50
    }
   ],
   "source": [
    "# Matriz de unos\n",
    "np.ones((3,3), np.int32)"
   ]
  },
  {
   "cell_type": "code",
   "execution_count": 51,
   "metadata": {},
   "outputs": [
    {
     "output_type": "execute_result",
     "data": {
      "text/plain": [
       "array([[1., 1., 1.],\n",
       "       [1., 1., 1.],\n",
       "       [1., 1., 1.]], dtype=float32)"
      ]
     },
     "metadata": {},
     "execution_count": 51
    }
   ],
   "source": [
    "np.ones((3,3), np.float32)"
   ]
  },
  {
   "cell_type": "code",
   "execution_count": 53,
   "metadata": {},
   "outputs": [
    {
     "output_type": "execute_result",
     "data": {
      "text/plain": [
       "array([[7, 7, 7],\n",
       "       [7, 7, 7],\n",
       "       [7, 7, 7]])"
      ]
     },
     "metadata": {},
     "execution_count": 53
    }
   ],
   "source": [
    "# Matriz con 100es\n",
    "np.full((3,3), 7)"
   ]
  },
  {
   "cell_type": "code",
   "execution_count": 54,
   "metadata": {},
   "outputs": [
    {
     "output_type": "execute_result",
     "data": {
      "text/plain": [
       "array([[15, 15, 15, 15],\n",
       "       [15, 15, 15, 15],\n",
       "       [15, 15, 15, 15]])"
      ]
     },
     "metadata": {},
     "execution_count": 54
    }
   ],
   "source": [
    "np.full((3, 4), 15)"
   ]
  },
  {
   "cell_type": "markdown",
   "metadata": {},
   "source": [
    "<table align=\"left\">\n",
    " <tr><td width=\"80\"><img src=\"./img/ejercicio.png\" style=\"width:auto;height:auto\"></td>\n",
    "     <td style=\"text-align:left\">\n",
    "         <h3>Creación de arrays en numpy</h3>\n",
    "      \n",
    "<ol>\n",
    "    <li>Crea un array con 3 deportes que te gusten</li>\n",
    "    <li>Accede al primer elemento y al último</li>\n",
    "    <li>Comprueba los tipos de los datos</li>\n",
    "    <li>Crea una secuencia de numeros del 10 al 0, con saltos de -0.5</li>\n",
    "    <li>Crea una matriz de 5x2 con numeros enteros aleatorios comprendidos entre el 10 y el 20</li>\n",
    "</ol>\n",
    "         \n",
    " </td></tr>\n",
    "</table>"
   ]
  },
  {
   "cell_type": "code",
   "execution_count": 55,
   "metadata": {},
   "outputs": [],
   "source": [
    "#1 \n",
    "sports = np.array([\"snowboard\", \"ping-pong\", \"tenis\"])"
   ]
  },
  {
   "cell_type": "code",
   "execution_count": 56,
   "metadata": {},
   "outputs": [
    {
     "output_type": "execute_result",
     "data": {
      "text/plain": [
       "'snowboard'"
      ]
     },
     "metadata": {},
     "execution_count": 56
    }
   ],
   "source": [
    "#2\n",
    "sports[0]"
   ]
  },
  {
   "cell_type": "code",
   "execution_count": 57,
   "metadata": {},
   "outputs": [
    {
     "output_type": "execute_result",
     "data": {
      "text/plain": [
       "'tenis'"
      ]
     },
     "metadata": {},
     "execution_count": 57
    }
   ],
   "source": [
    "sports[-1]"
   ]
  },
  {
   "cell_type": "code",
   "execution_count": 58,
   "metadata": {},
   "outputs": [
    {
     "output_type": "execute_result",
     "data": {
      "text/plain": [
       "dtype('<U9')"
      ]
     },
     "metadata": {},
     "execution_count": 58
    }
   ],
   "source": [
    "#3 \n",
    "# Unicode y el número es el máximo de carácteres encontrado en el array\n",
    "sports.dtype"
   ]
  },
  {
   "cell_type": "code",
   "execution_count": 60,
   "metadata": {},
   "outputs": [
    {
     "output_type": "execute_result",
     "data": {
      "text/plain": [
       "array([10. ,  9.5,  9. ,  8.5,  8. ,  7.5,  7. ,  6.5,  6. ,  5.5,  5. ,\n",
       "        4.5,  4. ,  3.5,  3. ,  2.5,  2. ,  1.5,  1. ,  0.5,  0. ])"
      ]
     },
     "metadata": {},
     "execution_count": 60
    }
   ],
   "source": [
    "#4\n",
    "# Del 10 al -0.5, sin incluir este último, y dando saltos de 0.5 en 0.5\n",
    "np.arange(10, -0.5, -0.5)"
   ]
  },
  {
   "cell_type": "code",
   "execution_count": 62,
   "metadata": {},
   "outputs": [
    {
     "output_type": "execute_result",
     "data": {
      "text/plain": [
       "array([[16, 13],\n",
       "       [17, 10],\n",
       "       [19, 10],\n",
       "       [13, 12],\n",
       "       [13, 11]])"
      ]
     },
     "metadata": {},
     "execution_count": 62
    }
   ],
   "source": [
    "#5\n",
    "np.random.randint(10, 20, (5,2))"
   ]
  },
  {
   "cell_type": "markdown",
   "metadata": {},
   "source": [
    "## 4. Atributos del array"
   ]
  },
  {
   "cell_type": "markdown",
   "metadata": {},
   "source": [
    "Hay ciertos atributos que debemos conocer:\n",
    "* `ndim`: es el numero de dimensiones. Número de niveles que tiene el array de `numpy`.\n",
    "* `shape`: tamaño de cada una de las dimensiones. Devuelve el resultado en formato `tupla`\n",
    "* `size`: cantidad de elementos del array."
   ]
  },
  {
   "cell_type": "code",
   "execution_count": 63,
   "metadata": {},
   "outputs": [
    {
     "output_type": "stream",
     "name": "stdout",
     "text": [
      "2\n(3, 3)\n9\n"
     ]
    }
   ],
   "source": [
    "array_multi = np.array([[1,2,3], [4,5,6], [7,8,9]])\n",
    "print(array_multi.ndim)\n",
    "print(array_multi.shape)\n",
    "print(array_multi.size)"
   ]
  },
  {
   "cell_type": "code",
   "execution_count": 65,
   "metadata": {},
   "outputs": [
    {
     "output_type": "stream",
     "name": "stdout",
     "text": [
      "[[[ 1 10]\n  [ 2 20]\n  [ 3 30]]\n\n [[ 4 40]\n  [ 5 50]\n  [ 6 60]]\n\n [[ 7 70]\n  [ 8 80]\n  [ 9 90]]]\n\n\nndim: 3\nshape: (3, 3, 2)\nsize: 18\n"
     ]
    }
   ],
   "source": [
    "array_multi_3 = np.array([[[1,10], [2, 20], [3, 30]],\n",
    "                          [[4, 40], [5, 50], [6, 60]],\n",
    "                          [[7, 70], [8, 80], [9, 90]]])\n",
    "print(array_multi_3)\n",
    "print('\\n')\n",
    "print(\"ndim:\", array_multi_3.ndim)\n",
    "print(\"shape:\", array_multi_3.shape)\n",
    "print(\"size:\", array_multi_3.size)"
   ]
  },
  {
   "cell_type": "markdown",
   "metadata": {},
   "source": [
    "Otros atributos interesantes son:\n",
    "* `itemsize`: tamaño en bytes de los items del array\n",
    "* `nbytes`: tamaño en bytes de todo el array"
   ]
  },
  {
   "cell_type": "code",
   "execution_count": 68,
   "metadata": {},
   "outputs": [
    {
     "output_type": "stream",
     "name": "stdout",
     "text": [
      "8\n40\n"
     ]
    }
   ],
   "source": [
    "array = np.array([1,2,3,4,5])\n",
    "print(array.itemsize)\n",
    "print(array.nbytes)\n",
    "# Ocupa 32 bits cada elemento: 32/8 = 4 bytes\n",
    "# 1 byte = 8 bits"
   ]
  },
  {
   "cell_type": "code",
   "execution_count": 69,
   "metadata": {},
   "outputs": [
    {
     "output_type": "execute_result",
     "data": {
      "text/plain": [
       "dtype('int64')"
      ]
     },
     "metadata": {},
     "execution_count": 69
    }
   ],
   "source": [
    "# Para comprobar ahora que se puede crear el array forzando el tipo\n",
    "# Y pesa mas al ser float\n",
    "array.dtype"
   ]
  },
  {
   "cell_type": "code",
   "execution_count": 70,
   "metadata": {},
   "outputs": [
    {
     "output_type": "stream",
     "name": "stdout",
     "text": [
      "8\n40\n"
     ]
    }
   ],
   "source": [
    "array = np.array([1,2,3,4,5], dtype = np.float64)\n",
    "print(array.itemsize)\n",
    "print(array.nbytes)"
   ]
  },
  {
   "cell_type": "markdown",
   "metadata": {},
   "source": [
    "Vemos que aumentando el tamaño de los elementos, el array es el doble de pesado. Profundizaremos más adelante en los tipos."
   ]
  },
  {
   "cell_type": "markdown",
   "metadata": {},
   "source": [
    "## 5. Indexado (Importante)\n",
    "##### ¿Cómo accedemos a los elementos del array?\n",
    "\n",
    "Declaremos primero varios arrays:"
   ]
  },
  {
   "cell_type": "code",
   "execution_count": 71,
   "metadata": {},
   "outputs": [
    {
     "output_type": "stream",
     "name": "stdout",
     "text": [
      "1\n2\n3\n"
     ]
    }
   ],
   "source": [
    "array_1 = np.array([1,2,3,4,5])\n",
    "array_2 = np.array([[1,2,3], [4,5,6], [7,8,9]])\n",
    "array_3 = np.array([[[1,10], [2, 20], [3, 30]],\n",
    "                    [[4, 40], [5, 50], [6, 60]],\n",
    "                    [[7, 70], [8, 80], [9, 90]]])\n",
    "\n",
    "print(array_1.ndim)\n",
    "print(array_2.ndim)\n",
    "print(array_3.ndim)"
   ]
  },
  {
   "cell_type": "markdown",
   "metadata": {},
   "source": [
    "Probamos primero con el primer array"
   ]
  },
  {
   "cell_type": "code",
   "execution_count": 72,
   "metadata": {},
   "outputs": [
    {
     "output_type": "stream",
     "name": "stdout",
     "text": [
      "1\n[3 4 5]\n"
     ]
    }
   ],
   "source": [
    "print(array_1[0])\n",
    "print(array_1[2:5])"
   ]
  },
  {
   "cell_type": "markdown",
   "metadata": {},
   "source": [
    "Vamos ahora con el de dos dimensiones"
   ]
  },
  {
   "cell_type": "code",
   "execution_count": 73,
   "metadata": {},
   "outputs": [
    {
     "output_type": "stream",
     "name": "stdout",
     "text": [
      "[1 2 3]\n2\n2\n<class 'numpy.ndarray'>\n<class 'numpy.int64'>\n"
     ]
    }
   ],
   "source": [
    "print(array_2[0])\n",
    "\n",
    "# Segundo elemento de la primera fila\n",
    "print(array_2[0][1])\n",
    "print(array_2[0,1]) # primero dato de la fila, después dato de la columna\n",
    "\n",
    "# Tipo del primer elemento\n",
    "print(type(array_2[0]))\n",
    "print(type(array_2[0,0]))"
   ]
  },
  {
   "cell_type": "code",
   "execution_count": 78,
   "metadata": {},
   "outputs": [
    {
     "output_type": "stream",
     "name": "stdout",
     "text": [
      "5\n5\n"
     ]
    }
   ],
   "source": [
    "test = np.array([[1, 2, 3], [4, 5, 6], [7, 8, 9]])\n",
    "# 2º elemento de la 2ª fila\n",
    "print(test[1,1])\n",
    "# También se puede acceder de la siguiente mandera\n",
    "print(test[1][1])"
   ]
  },
  {
   "cell_type": "code",
   "execution_count": 80,
   "metadata": {},
   "outputs": [
    {
     "output_type": "execute_result",
     "data": {
      "text/plain": [
       "array([[2, 3],\n",
       "       [5, 6],\n",
       "       [8, 9]])"
      ]
     },
     "metadata": {},
     "execution_count": 80
    }
   ],
   "source": [
    "array_2 = np.array([[1,2,3], [4,5,6], [7,8,9]])\n",
    "\n",
    "array_2[0:3, 1:3]"
   ]
  },
  {
   "cell_type": "code",
   "execution_count": 86,
   "metadata": {},
   "outputs": [
    {
     "output_type": "stream",
     "name": "stdout",
     "text": [
      "[3 6 9]\n\n\n[1 4 7]\n"
     ]
    }
   ],
   "source": [
    "# Último elemento de cada fila\n",
    "print(test[:, -1])\n",
    "print('\\n')\n",
    "# Primer elemento de cada fila\n",
    "print(test[:, 0])"
   ]
  },
  {
   "cell_type": "markdown",
   "metadata": {},
   "source": [
    "Y ahora con el de 3"
   ]
  },
  {
   "cell_type": "code",
   "execution_count": 87,
   "metadata": {},
   "outputs": [
    {
     "output_type": "stream",
     "name": "stdout",
     "text": [
      "[[[ 1 10]\n  [ 2 20]\n  [ 3 30]]\n\n [[ 4 40]\n  [ 5 50]\n  [ 6 60]]\n\n [[ 7 70]\n  [ 8 80]\n  [ 9 90]]]\n"
     ]
    }
   ],
   "source": [
    "print(array_3)"
   ]
  },
  {
   "cell_type": "code",
   "execution_count": 89,
   "metadata": {},
   "outputs": [
    {
     "output_type": "stream",
     "name": "stdout",
     "text": [
      "[[ 1 10]\n [ 2 20]\n [ 3 30]]\n\n\n[ 3 30]\n\n\n30\n"
     ]
    }
   ],
   "source": [
    "print(array_3[0])\n",
    "print('\\n')\n",
    "print(array_3[0,-1])\n",
    "print('\\n')\n",
    "print(array_3[0,-1,-1])"
   ]
  },
  {
   "cell_type": "markdown",
   "metadata": {},
   "source": [
    "## 6. Slicing y subarrays\n",
    "Ya hemos visto que podemos acceder a los elementos individuales del array usamos la sintaxis con corchetes, pero si necesitamos acceder a un conjunto de valores, tendremos que usar `:`. El slicing sigue la siguiente sintaxis:\n",
    "```Python\n",
    "x[start:stop:step]\n",
    "```\n",
    "Por defecto, si no ponemos alguno de estos argumentos, `start = 0`, `stop = tamaño de la dimensión` y `step = 1`.\n",
    "\n",
    "Recuerda, al igual que en listas, el `start` está incluido, mientras que el stop no.\n",
    "\n",
    "Veamos primero un ejemplo para una dimensión"
   ]
  },
  {
   "cell_type": "code",
   "execution_count": 161,
   "metadata": {},
   "outputs": [
    {
     "name": "stdout",
     "output_type": "stream",
     "text": [
      "[0 1 2 3 4 5 6 7 8 9]\n",
      "Del primer elemento al quinto [0 1 2 3 4]\n",
      "Del primero al quinto con saltos de dos [0 2 4]\n",
      "Desde el quinto [5 6 7 8 9]\n",
      "Desde el quinto [5 6 7 8 9]\n",
      "Desde el quinto hasta el penultimo [5 6 7 8]\n",
      "Desde el quinto, al primero [5]\n",
      "Sacar una copia [0 1 2 3 4 5 6 7 8 9]\n",
      "Sacar una copia [0 1 2 3 4 5 6 7 8 9]\n",
      "Ultimos dos elementos [8 9]\n"
     ]
    }
   ],
   "source": [
    "# Ojo si modifico un array que he sacado con indexing, estoy modificando el original.\n",
    "\n",
    "# Array de 10 elementos\n",
    "x = np.arange(10)\n",
    "print(x)\n",
    "\n",
    "print(\"Del primer elemento al quinto\", x[0:5]) # x[:5]\n",
    "\n",
    "print(\"Del primero al quinto con saltos de dos\", x[:5:2])\n",
    "\n",
    "print(\"Desde el quinto\", x[5::])\n",
    "print(\"Desde el quinto\", x[5:]) # equivalente\n",
    "\n",
    "print(\"Desde el quinto hasta el penultimo\", x[5:-1])\n",
    "\n",
    "print(\"Desde el quinto, al primero\", x[5::-1])\n",
    "\n",
    "print(\"Sacar una copia\", x[:]) # Creo una referencia.\n",
    "# si asigno a variable y modifico, tb modifico x.\n",
    "print(\"Sacar una copia\", x.copy()) # Copia.\n",
    "# Si asigno a variable y modifico, x no se modifica.\n",
    "\n",
    "print(\"Ultimos dos elementos\",x[-2:])"
   ]
  },
  {
   "cell_type": "code",
   "execution_count": 159,
   "metadata": {},
   "outputs": [
    {
     "data": {
      "text/plain": [
       "9"
      ]
     },
     "execution_count": 159,
     "metadata": {},
     "output_type": "execute_result"
    }
   ],
   "source": [
    "x[9]\n",
    "#index del ultimo"
   ]
  },
  {
   "cell_type": "code",
   "execution_count": null,
   "metadata": {},
   "outputs": [],
   "source": [
    "x[-1]\n",
    "# index del ultimo empezando por el final\n"
   ]
  },
  {
   "cell_type": "code",
   "execution_count": 150,
   "metadata": {},
   "outputs": [
    {
     "name": "stdout",
     "output_type": "stream",
     "text": [
      "[0 1 2 3 4 5 6 7 8 9]\n"
     ]
    }
   ],
   "source": [
    "x = np.arange(10)\n",
    "print(x)"
   ]
  },
  {
   "cell_type": "code",
   "execution_count": 152,
   "metadata": {},
   "outputs": [
    {
     "data": {
      "text/plain": [
       "array([0, 1, 2])"
      ]
     },
     "execution_count": 152,
     "metadata": {},
     "output_type": "execute_result"
    }
   ],
   "source": [
    "y = x[:3]\n",
    "y"
   ]
  },
  {
   "cell_type": "code",
   "execution_count": 153,
   "metadata": {},
   "outputs": [],
   "source": [
    "y[0] = 5"
   ]
  },
  {
   "cell_type": "code",
   "execution_count": 154,
   "metadata": {},
   "outputs": [
    {
     "name": "stdout",
     "output_type": "stream",
     "text": [
      "[5 1 2]\n",
      "[5 1 2 3 4 5 6 7 8 9]\n"
     ]
    }
   ],
   "source": [
    "y[0] = 5\n",
    "print(y)\n",
    "print(x)"
   ]
  },
  {
   "cell_type": "markdown",
   "metadata": {},
   "source": [
    "<table align=\"left\">\n",
    " <tr><td width=\"80\"><img src=\"./img/ejercicio.png\" style=\"width:auto;height:auto\"></td>\n",
    "     <td style=\"text-align:left\">\n",
    "         <h3>Ejercicio slicing\n",
    "         </h3>\n",
    "<ol>\n",
    "    <li>Todos los elementos, pero de dos en dos</li>\n",
    "    <li>Todos los elementos, pero de dos en dos, a partir del segundo item</li>\n",
    "    <li>Todo, pero invertido</li>\n",
    "    <li>Obtén los últimos dos items, pero invertidos</li>\n",
    "    <li>Todo, excepto los ultimos dos items, invertido.</li>\n",
    "</ol>\n",
    "         \n",
    " </td></tr>\n",
    "</table>"
   ]
  },
  {
   "cell_type": "code",
   "execution_count": 163,
   "metadata": {},
   "outputs": [
    {
     "name": "stdout",
     "output_type": "stream",
     "text": [
      "[0 1 2 3 4 5 6 7 8 9]\n"
     ]
    }
   ],
   "source": [
    "x = np.arange(10)\n",
    "print(x)"
   ]
  },
  {
   "cell_type": "code",
   "execution_count": 165,
   "metadata": {},
   "outputs": [
    {
     "data": {
      "text/plain": [
       "array([0, 2, 4, 6, 8])"
      ]
     },
     "execution_count": 165,
     "metadata": {},
     "output_type": "execute_result"
    }
   ],
   "source": [
    "#1 \n",
    "x[0::2]"
   ]
  },
  {
   "cell_type": "code",
   "execution_count": 167,
   "metadata": {},
   "outputs": [
    {
     "data": {
      "text/plain": [
       "array([1, 3, 5, 7, 9])"
      ]
     },
     "execution_count": 167,
     "metadata": {},
     "output_type": "execute_result"
    }
   ],
   "source": [
    "#2\n",
    "x[1::2]"
   ]
  },
  {
   "cell_type": "code",
   "execution_count": 169,
   "metadata": {},
   "outputs": [
    {
     "data": {
      "text/plain": [
       "array([9, 8, 7, 6, 5, 4, 3, 2, 1, 0])"
      ]
     },
     "execution_count": 169,
     "metadata": {},
     "output_type": "execute_result"
    }
   ],
   "source": [
    "#3\n",
    "x[::-1]"
   ]
  },
  {
   "cell_type": "code",
   "execution_count": 171,
   "metadata": {},
   "outputs": [
    {
     "data": {
      "text/plain": [
       "array([9, 8])"
      ]
     },
     "execution_count": 171,
     "metadata": {},
     "output_type": "execute_result"
    }
   ],
   "source": [
    "#4\n",
    "x[-1:-3:-1]"
   ]
  },
  {
   "cell_type": "code",
   "execution_count": 178,
   "metadata": {},
   "outputs": [
    {
     "data": {
      "text/plain": [
       "array([9, 8])"
      ]
     },
     "execution_count": 178,
     "metadata": {},
     "output_type": "execute_result"
    }
   ],
   "source": [
    "x[:7:-1]"
   ]
  },
  {
   "cell_type": "code",
   "execution_count": 179,
   "metadata": {},
   "outputs": [
    {
     "data": {
      "text/plain": [
       "array([7, 6, 5, 4, 3, 2, 1, 0])"
      ]
     },
     "execution_count": 179,
     "metadata": {},
     "output_type": "execute_result"
    }
   ],
   "source": [
    "#5\n",
    "x[-3::-1]"
   ]
  },
  {
   "cell_type": "markdown",
   "metadata": {},
   "source": [
    "Veamos ahora unos ejemplos multidimensionales. Funciona igual, lo unico que ahora cada dimension irá separado por comas"
   ]
  },
  {
   "cell_type": "code",
   "execution_count": 90,
   "metadata": {},
   "outputs": [
    {
     "output_type": "stream",
     "name": "stdout",
     "text": [
      "[[ 1  2  3  4  5]\n [ 6  7  8  9 10]\n [11 12 13 14 15]]\n\n2 primeras filas y 3 primeras columnas\n [[1 2 3]\n [6 7 8]]\n\nTodas las filas, cada dos columnas\n [[ 1  3  5]\n [ 6  8 10]\n [11 13 15]]\n\nInvertir las filas\n [[11 12 13 14 15]\n [ 6  7  8  9 10]\n [ 1  2  3  4  5]]\n\nInvertir columnas\n [[ 5  4  3  2  1]\n [10  9  8  7  6]\n [15 14 13 12 11]]\n"
     ]
    }
   ],
   "source": [
    "array_multi = np.array([[1,2,3,4,5], [6,7,8,9,10], [11,12,13,14,15]])\n",
    "print(array_multi)\n",
    "\n",
    "print(\"\\n2 primeras filas y 3 primeras columnas\\n\", array_multi[:2, :3])\n",
    "\n",
    "print(\"\\nTodas las filas, cada dos columnas\\n\", array_multi[::, ::2])\n",
    "\n",
    "print(\"\\nInvertir las filas\\n\", array_multi[::-1])\n",
    "\n",
    "print(\"\\nInvertir columnas\\n\", array_multi[:,::-1])"
   ]
  },
  {
   "cell_type": "code",
   "execution_count": 95,
   "metadata": {},
   "outputs": [
    {
     "output_type": "stream",
     "name": "stdout",
     "text": [
      "[[31 32 33 34 35]\n [21 22 23 24 25]\n [11 12 13 14 15]]\n\n\n[[15 14 13 12 11]\n [25 24 23 22 21]\n [35 34 33 32 31]]\n"
     ]
    }
   ],
   "source": [
    "test = [[11, 12, 13, 14, 15], [21, 22, 23, 24, 25], [31, 32, 33, 34, 35]]\n",
    "test = np.array(test)\n",
    "print(test[::-1])\n",
    "print('\\n')\n",
    "print(test[:, ::-1])"
   ]
  },
  {
   "cell_type": "markdown",
   "metadata": {},
   "source": [
    "Otra forma de quedarnos con subarrays, o de filtrarlos, es mediante una máscara de booleanos. La máscara tiene las mismas dimensiones que el array, y donde haya un `True`, se quedará con ese valor, pero donde haya un `False`, lo ignorará."
   ]
  },
  {
   "cell_type": "code",
   "execution_count": 96,
   "metadata": {},
   "outputs": [
    {
     "output_type": "stream",
     "name": "stdout",
     "text": [
      "[2 4 5 2 3 7 2]\n"
     ]
    },
    {
     "output_type": "execute_result",
     "data": {
      "text/plain": [
       "array([ True, False, False,  True, False, False,  True])"
      ]
     },
     "metadata": {},
     "execution_count": 96
    }
   ],
   "source": [
    "x = np.array([2,4,5,2,3,7,2])\n",
    "\n",
    "print(x)\n",
    "x == 2"
   ]
  },
  {
   "cell_type": "code",
   "execution_count": 97,
   "metadata": {},
   "outputs": [
    {
     "output_type": "stream",
     "name": "stdout",
     "text": [
      "[ True False False  True False False  True]\n[2 2 2]\n[ True  True  True]\n"
     ]
    }
   ],
   "source": [
    "x_bools = x == 2\n",
    "\n",
    "print(x_bools)\n",
    "\n",
    "print(x[x_bools])\n",
    "\n",
    "print(x_bools[x_bools])"
   ]
  },
  {
   "cell_type": "code",
   "execution_count": 101,
   "metadata": {},
   "outputs": [
    {
     "output_type": "execute_result",
     "data": {
      "text/plain": [
       "array([5, 6, 7, 8, 9])"
      ]
     },
     "metadata": {},
     "execution_count": 101
    }
   ],
   "source": [
    "new_arr = np.array([1, 2, 3, 4, 5, 6, 7, 8, 9])\n",
    "\n",
    "# guardo la condición\n",
    "cond = new_arr > 4\n",
    "# se la paso al array\n",
    "new_arr[cond]"
   ]
  },
  {
   "cell_type": "code",
   "execution_count": 102,
   "metadata": {},
   "outputs": [
    {
     "output_type": "execute_result",
     "data": {
      "text/plain": [
       "array([5, 6, 7, 8, 9])"
      ]
     },
     "metadata": {},
     "execution_count": 102
    }
   ],
   "source": [
    "# es lo mismo que hacer:\n",
    "new_arr_2 = np.array([1, 2, 3, 4, 5, 6, 7, 8, 9])\n",
    "\n",
    "new_arr_2[new_arr_2 > 4]"
   ]
  },
  {
   "cell_type": "markdown",
   "metadata": {},
   "source": [
    "**¿Qué tendría qué hacer si quiero solo aquellos días en los que tengo clases?**"
   ]
  },
  {
   "cell_type": "code",
   "execution_count": 187,
   "metadata": {},
   "outputs": [
    {
     "data": {
      "text/plain": [
       "array(['Martes', 'Jueves', 'Sábado'], dtype='<U9')"
      ]
     },
     "execution_count": 187,
     "metadata": {},
     "output_type": "execute_result"
    }
   ],
   "source": [
    "dias = np.array(['Lunes', 'Martes', 'Miércoles', 'Jueves', 'Viernes', 'Sábado', 'Domingo'])\n",
    "horas_bootcamp = np.array([0, 3.5, 0, 3.5, 0, 7.5, 0])\n",
    "\n",
    "dias[horas_bootcamp != 0]"
   ]
  },
  {
   "cell_type": "code",
   "execution_count": 103,
   "metadata": {},
   "outputs": [
    {
     "output_type": "execute_result",
     "data": {
      "text/plain": [
       "array(['Monday', 'Tuesday', 'Wednesday', 'Thursday', 'Friday'],\n",
       "      dtype='<U9')"
      ]
     },
     "metadata": {},
     "execution_count": 103
    }
   ],
   "source": [
    "days = np.array(['Monday', 'Tuesday', 'Wednesday', 'Thursday', 'Friday', 'Saturday', 'Sunday'])\n",
    "bootcamp_hours = np.array([5, 5, 5, 5, 5, 0, 0])\n",
    "\n",
    "days[bootcamp_hours > 0]"
   ]
  },
  {
   "cell_type": "markdown",
   "metadata": {},
   "source": [
    "## 7. Reshape\n",
    "Con el reshape podremos **cambiar las dimensiones de los arrays**, siempre y cuando en numero de elementos sea posible. Por ejemplo, si tenemos 4 elementos, no podremos hacer una matriz de 3x3.\n",
    "\n",
    "Éste método se puede utilizar en una infinidad de casos, pero lo más habitual sería, partiendo de un array de una dimensión, convirtiéndolo en multidimensión."
   ]
  },
  {
   "cell_type": "code",
   "execution_count": 104,
   "metadata": {},
   "outputs": [
    {
     "output_type": "stream",
     "name": "stdout",
     "text": [
      "[0 1 2 3 4 5 6 7 8]\n\n\n[[0 1 2]\n [3 4 5]\n [6 7 8]]\n"
     ]
    }
   ],
   "source": [
    "x = np.arange(9)\n",
    "print(x)\n",
    "print('\\n')\n",
    "\n",
    "y = x.reshape((3,3))\n",
    "print(y)"
   ]
  },
  {
   "cell_type": "code",
   "execution_count": 106,
   "metadata": {},
   "outputs": [
    {
     "output_type": "execute_result",
     "data": {
      "text/plain": [
       "array([[0, 1],\n",
       "       [2, 3],\n",
       "       [4, 5],\n",
       "       [6, 7],\n",
       "       [8, 9]])"
      ]
     },
     "metadata": {},
     "execution_count": 106
    }
   ],
   "source": [
    "nx = np.arange(10)\n",
    "\n",
    "nx2 = nx.reshape(5, 2)\n",
    "nx2"
   ]
  },
  {
   "cell_type": "code",
   "execution_count": 108,
   "metadata": {},
   "outputs": [
    {
     "output_type": "execute_result",
     "data": {
      "text/plain": [
       "array([0, 1, 2, 3, 4, 5, 6, 7, 8, 9])"
      ]
     },
     "metadata": {},
     "execution_count": 108
    }
   ],
   "source": [
    "nx2.flatten()"
   ]
  },
  {
   "cell_type": "code",
   "execution_count": 107,
   "metadata": {},
   "outputs": [
    {
     "output_type": "execute_result",
     "data": {
      "text/plain": [
       "array([0, 1, 2, 3, 4, 5, 6, 7, 8])"
      ]
     },
     "metadata": {},
     "execution_count": 107
    }
   ],
   "source": [
    "# Para pasarlo todo a 1 dim\n",
    "y.flatten()"
   ]
  },
  {
   "cell_type": "code",
   "execution_count": 47,
   "metadata": {},
   "outputs": [
    {
     "name": "stdout",
     "output_type": "stream",
     "text": [
      "[[[ 0  1  2  3  4]\n",
      "  [ 5  6  7  8  9]\n",
      "  [10 11 12 13 14]]\n",
      "\n",
      " [[15 16 17 18 19]\n",
      "  [20 21 22 23 24]\n",
      "  [25 26 27 28 29]]]\n"
     ]
    }
   ],
   "source": [
    "x = np.arange(30).reshape(2,3,5)\n",
    "print(x)"
   ]
  },
  {
   "cell_type": "code",
   "execution_count": 48,
   "metadata": {},
   "outputs": [
    {
     "name": "stdout",
     "output_type": "stream",
     "text": [
      "[[ 0  1  2  3  4]\n",
      " [ 5  6  7  8  9]\n",
      " [10 11 12 13 14]\n",
      " [15 16 17 18 19]\n",
      " [20 21 22 23 24]\n",
      " [25 26 27 28 29]]\n"
     ]
    }
   ],
   "source": [
    "x = np.arange(30).reshape((6,5))\n",
    "print(x)"
   ]
  },
  {
   "cell_type": "markdown",
   "metadata": {},
   "source": [
    "<table align=\"left\">\n",
    " <tr><td width=\"80\"><img src=\"./img/error.png\" style=\"width:auto;height:auto\"></td>\n",
    "     <td style=\"text-align:left\">\n",
    "         <h3>ERRORES con reshape</h3>\n",
    "         \n",
    " </td></tr>\n",
    "</table>"
   ]
  },
  {
   "cell_type": "code",
   "execution_count": 49,
   "metadata": {},
   "outputs": [
    {
     "ename": "ValueError",
     "evalue": "cannot reshape array of size 3 into shape (3,4)",
     "output_type": "error",
     "traceback": [
      "\u001b[1;31m---------------------------------------------------------------------------\u001b[0m",
      "\u001b[1;31mValueError\u001b[0m                                Traceback (most recent call last)",
      "\u001b[1;32m<ipython-input-49-c77a1dac7621>\u001b[0m in \u001b[0;36m<module>\u001b[1;34m\u001b[0m\n\u001b[0;32m      1\u001b[0m \u001b[0mx\u001b[0m \u001b[1;33m=\u001b[0m \u001b[0mnp\u001b[0m\u001b[1;33m.\u001b[0m\u001b[0marray\u001b[0m\u001b[1;33m(\u001b[0m\u001b[1;33m[\u001b[0m\u001b[1;36m1\u001b[0m\u001b[1;33m,\u001b[0m\u001b[1;36m2\u001b[0m\u001b[1;33m,\u001b[0m\u001b[1;36m3\u001b[0m\u001b[1;33m]\u001b[0m\u001b[1;33m)\u001b[0m\u001b[1;33m\u001b[0m\u001b[1;33m\u001b[0m\u001b[0m\n\u001b[1;32m----> 2\u001b[1;33m \u001b[0mx\u001b[0m\u001b[1;33m.\u001b[0m\u001b[0mreshape\u001b[0m\u001b[1;33m(\u001b[0m\u001b[1;33m(\u001b[0m\u001b[1;36m3\u001b[0m\u001b[1;33m,\u001b[0m\u001b[1;36m4\u001b[0m\u001b[1;33m)\u001b[0m\u001b[1;33m)\u001b[0m\u001b[1;33m\u001b[0m\u001b[1;33m\u001b[0m\u001b[0m\n\u001b[0m",
      "\u001b[1;31mValueError\u001b[0m: cannot reshape array of size 3 into shape (3,4)"
     ]
    }
   ],
   "source": [
    "x = np.array([1,2,3])\n",
    "x.reshape((3,4))"
   ]
  },
  {
   "cell_type": "markdown",
   "metadata": {},
   "source": [
    "## 8. Tipos de los datos\n",
    "En `numpy` también hay **que tener en cuenta los tipos de datos con los que trabajamos**, para no cometer el error de *mezclar peras con manzanas*. Es más, **`numpy` es mucho más variado en cuanto a tipos**, que el propio intérprete de Python. \n",
    "\n",
    "En el caso de `numpy`, hay que pensar en el factor tamaño cuando especifiquemos los tipos de los datos. No es lo mismo el numero 12, que el 120000000000. Desde el punto de vista del intérprete de Python, son dos `int`s, pero para numpy son un `int32` o un `int64`. Ese número es la cantidad de bits que se necesita para representar el valor. Cuanto más grande sea el valor, mayor cantidad de bits utilizaremos.\n",
    "\n",
    "[En la documentación tienes el detalle de todos los tipos de datos.](https://numpy.org/devdocs/user/basics.types.html)\n",
    "\n",
    "Por ejemplo, valores numéricos:"
   ]
  },
  {
   "cell_type": "code",
   "execution_count": 109,
   "metadata": {},
   "outputs": [
    {
     "output_type": "stream",
     "name": "stdout",
     "text": [
      "[1 2 3 4]\nint64\n[100000000000000000]\nint64\n"
     ]
    }
   ],
   "source": [
    "# Valores normales\n",
    "x = np.array([1,2,3,4])\n",
    "print(x)\n",
    "print(x.dtype)\n",
    "\n",
    "# Valores mas grandes\n",
    "x = np.array([100000000000000000])\n",
    "print(x)\n",
    "print(x.dtype)"
   ]
  },
  {
   "cell_type": "markdown",
   "metadata": {},
   "source": [
    "![](img/enteroenc.png)\n",
    "https://docs.microsoft.com/es-es/cpp/c-language/cpp-integer-limits?view=msvc-160"
   ]
  },
  {
   "cell_type": "code",
   "execution_count": 110,
   "metadata": {},
   "outputs": [
    {
     "output_type": "stream",
     "name": "stdout",
     "text": [
      "[2147483647]\nint64\n[2147483648]\nint64\n"
     ]
    }
   ],
   "source": [
    "x = np.array([2147483647])\n",
    "print(x)\n",
    "print(x.dtype)\n",
    "\n",
    "x = np.array([2147483648])\n",
    "print(x)\n",
    "print(x.dtype)"
   ]
  },
  {
   "cell_type": "code",
   "execution_count": 191,
   "metadata": {},
   "outputs": [
    {
     "name": "stdout",
     "output_type": "stream",
     "text": [
      "[1.]\n",
      "float64\n"
     ]
    }
   ],
   "source": [
    "# Floats\n",
    "x = np.array([1.])\n",
    "print(x)\n",
    "print(x.dtype)"
   ]
  },
  {
   "cell_type": "markdown",
   "metadata": {},
   "source": [
    "Si tenemos booleanos;"
   ]
  },
  {
   "cell_type": "code",
   "execution_count": 192,
   "metadata": {},
   "outputs": [
    {
     "name": "stdout",
     "output_type": "stream",
     "text": [
      "bool\n"
     ]
    }
   ],
   "source": [
    "x = np.array([True, False, True])\n",
    "print(x.dtype)"
   ]
  },
  {
   "cell_type": "markdown",
   "metadata": {},
   "source": [
    "Cadenas de texto. La `U` viene de unicode, que es la codificación que sigue `numpy`. Y el número de al lado es la longitud de la cadena de texto más larga del array."
   ]
  },
  {
   "cell_type": "code",
   "execution_count": 60,
   "metadata": {},
   "outputs": [
    {
     "name": "stdout",
     "output_type": "stream",
     "text": [
      "<U3\n"
     ]
    }
   ],
   "source": [
    "x = np.array(['aaa', 'b', 'c'])\n",
    "print(x.dtype)"
   ]
  },
  {
   "cell_type": "markdown",
   "metadata": {},
   "source": [
    "Podemos mezclar varios tipos de datos, pero `numpy` forzará un solo tipo. ¿Cómo lo hace? Realiza las conversiones de tal manera que no pierda información en la conversión. En la conversión prima el siguiente orden: \n",
    "\n",
    "`String -> Float -> Int -> Boolean`"
   ]
  },
  {
   "cell_type": "code",
   "execution_count": 193,
   "metadata": {},
   "outputs": [
    {
     "name": "stdout",
     "output_type": "stream",
     "text": [
      "['a' 'True']\n",
      "[1 1]\n",
      "[1. 1.]\n"
     ]
    }
   ],
   "source": [
    "print(np.array(['a', True]))\n",
    "print(np.array([1, True]))\n",
    "print(np.array([1, 1.]))"
   ]
  },
  {
   "cell_type": "markdown",
   "metadata": {},
   "source": [
    "## 9. Concatenado\n",
    "Para concatenar matrices, `numpy` tiene varios métodos: `np.concatenate`, `np.vstack` o `np.hstack`. Lo único que hay que tener en cuenta es que coincidan las dimensiones, para que el concatenado sea correcto."
   ]
  },
  {
   "cell_type": "code",
   "execution_count": 62,
   "metadata": {},
   "outputs": [
    {
     "data": {
      "text/plain": [
       "array([1, 2, 3, 3, 2, 1])"
      ]
     },
     "execution_count": 62,
     "metadata": {},
     "output_type": "execute_result"
    }
   ],
   "source": [
    "x = np.array([1,2,3])\n",
    "y = np.array([3,2,1])\n",
    "np.concatenate([x,y])\n",
    "# axis = 0 por defecto"
   ]
  },
  {
   "cell_type": "markdown",
   "metadata": {},
   "source": [
    "Como ves, el concatenado es horizontal. Al ser elementos de 1D, mantiene las dimensiones. Se pueden concatenar todos los arrays que queramos."
   ]
  },
  {
   "cell_type": "code",
   "execution_count": 63,
   "metadata": {},
   "outputs": [
    {
     "data": {
      "text/plain": [
       "array([ 1,  2,  3,  3,  2,  1, 99, 99, 99])"
      ]
     },
     "execution_count": 63,
     "metadata": {},
     "output_type": "execute_result"
    }
   ],
   "source": [
    "z = np.array([99,99,99])\n",
    "np.concatenate([x,y,z])"
   ]
  },
  {
   "cell_type": "markdown",
   "metadata": {},
   "source": [
    "Probemos ahora con arrays bidimensionales"
   ]
  },
  {
   "cell_type": "code",
   "execution_count": 64,
   "metadata": {},
   "outputs": [
    {
     "data": {
      "text/plain": [
       "array([[1, 2, 3],\n",
       "       [4, 5, 6],\n",
       "       [1, 2, 3],\n",
       "       [4, 5, 6]])"
      ]
     },
     "execution_count": 64,
     "metadata": {},
     "output_type": "execute_result"
    }
   ],
   "source": [
    "xy = np.array([[1,2,3],\n",
    "              [4,5,6]])\n",
    "\n",
    "np.concatenate([xy,xy])"
   ]
  },
  {
   "cell_type": "markdown",
   "metadata": {},
   "source": [
    "Ahora podemos jugar con los ejes. El método `concatenate` tiene un argumento que es `axis`, con el cual podemos jugar con las dimensiones y elegir el tipo de concatenado."
   ]
  },
  {
   "cell_type": "code",
   "execution_count": 65,
   "metadata": {},
   "outputs": [
    {
     "data": {
      "text/plain": [
       "array([[1, 2, 3, 1, 2, 3],\n",
       "       [4, 5, 6, 4, 5, 6]])"
      ]
     },
     "execution_count": 65,
     "metadata": {},
     "output_type": "execute_result"
    }
   ],
   "source": [
    "np.concatenate([xy,xy], axis = 1)"
   ]
  },
  {
   "cell_type": "markdown",
   "metadata": {},
   "source": [
    "Si tenemos arrays de diferentes dimensiones, puede resultar más útil usar `vstack`"
   ]
  },
  {
   "cell_type": "code",
   "execution_count": 66,
   "metadata": {},
   "outputs": [
    {
     "data": {
      "text/plain": [
       "array([[1, 2, 3],\n",
       "       [4, 5, 6],\n",
       "       [7, 8, 9]])"
      ]
     },
     "execution_count": 66,
     "metadata": {},
     "output_type": "execute_result"
    }
   ],
   "source": [
    "xy = np.array([[1,2,3],\n",
    "              [4,5,6]])\n",
    "\n",
    "x = np.array([7,8,9])\n",
    "\n",
    "np.vstack([xy,x])"
   ]
  },
  {
   "cell_type": "markdown",
   "metadata": {},
   "source": [
    "O si queremos hacer un concatenado horizontal, lo haremos mediante `hstack`."
   ]
  },
  {
   "cell_type": "code",
   "execution_count": 67,
   "metadata": {},
   "outputs": [
    {
     "data": {
      "text/plain": [
       "array([[1, 2, 3, 7],\n",
       "       [4, 5, 6, 8]])"
      ]
     },
     "execution_count": 67,
     "metadata": {},
     "output_type": "execute_result"
    }
   ],
   "source": [
    "xy = np.array([[1,2,3],\n",
    "              [4,5,6]])\n",
    "\n",
    "x = np.array([[7],\n",
    "              [8]])\n",
    "np.hstack([xy,x])"
   ]
  },
  {
   "cell_type": "markdown",
   "metadata": {},
   "source": [
    "## 10. Sustitución\n",
    "En `numpy` podemos aplicar operaciones para sustituir elementos dependiendo de ciertas condiciones, y con esa sintaxis de sustitución también es posible filtrar datos de las matrices."
   ]
  },
  {
   "cell_type": "code",
   "execution_count": 68,
   "metadata": {},
   "outputs": [
    {
     "data": {
      "text/plain": [
       "array([[1, 2, 3]])"
      ]
     },
     "execution_count": 68,
     "metadata": {},
     "output_type": "execute_result"
    }
   ],
   "source": [
    "xy = np.array([[1,2,3],\n",
    "              [4,5,6]])\n",
    "\n",
    "my_filter = ([True, False])\n",
    "\n",
    "xy[my_filter]"
   ]
  },
  {
   "cell_type": "markdown",
   "metadata": {},
   "source": [
    "De esta manera, lo que hacemos es preparar una lista de booleanos, y se lo aplicamos al array. Si lo queremos hacer de una manera más automática y entendible, utilizamos `where`."
   ]
  },
  {
   "cell_type": "code",
   "execution_count": 111,
   "metadata": {},
   "outputs": [
    {
     "output_type": "stream",
     "name": "stdout",
     "text": [
      "[[10 10 10]\n [20 20 20]]\n\n\n[[10 10 10]\n [ 4  5  6]]\n"
     ]
    }
   ],
   "source": [
    "xy = np.array([[1,2,3],\n",
    "              [4,5,6]])\n",
    "\n",
    "\n",
    "print(np.where(xy < 4, 10, 20)) \n",
    "print('\\n')\n",
    "print(np.where(xy < 4, 10, xy))"
   ]
  },
  {
   "cell_type": "code",
   "execution_count": 194,
   "metadata": {},
   "outputs": [
    {
     "name": "stdout",
     "output_type": "stream",
     "text": [
      "[[1 2 3]\n",
      " [4 5 6]]\n"
     ]
    }
   ],
   "source": [
    "# Crea una copia con las sustituciones\n",
    "print(xy)\n"
   ]
  },
  {
   "cell_type": "code",
   "execution_count": 195,
   "metadata": {},
   "outputs": [
    {
     "name": "stdout",
     "output_type": "stream",
     "text": [
      "[[10 10 10]\n",
      " [20 20 20]]\n"
     ]
    }
   ],
   "source": [
    "a = np.where(xy < 4, 10, 20)\n",
    "print(a)"
   ]
  },
  {
   "cell_type": "code",
   "execution_count": 196,
   "metadata": {},
   "outputs": [
    {
     "name": "stdout",
     "output_type": "stream",
     "text": [
      "[[1 2 3]\n",
      " [4 5 6]]\n"
     ]
    }
   ],
   "source": [
    "print(xy)"
   ]
  },
  {
   "cell_type": "markdown",
   "metadata": {},
   "source": [
    "O incluso podemos sustituit los que se den en la condición, y el resto mantener los valores del array."
   ]
  },
  {
   "cell_type": "markdown",
   "metadata": {},
   "source": [
    "## 11. Copias\n",
    "Una característica importante y extremadamente útil en los arrays es que cuando **hacemos *slicing*, realmente obtenemos de los arrays vistas, no copias**. ¿Esto qué significa? Que si hacemos *slicing*, creando un nuevo array, y lo modificamos, también estaremos modificando el original.\n",
    "\n",
    "Esto difiere con las listas de Python, que al aplicar *slicing* lo que obtenemos es una copia, y por tanto cualquier modificación sobre la nueva lista no afectará a la lista original.\n",
    "\n",
    "Declaro un array"
   ]
  },
  {
   "cell_type": "code",
   "execution_count": 71,
   "metadata": {},
   "outputs": [
    {
     "data": {
      "text/plain": [
       "array([[1., 1., 1., 1.],\n",
       "       [1., 1., 1., 1.],\n",
       "       [1., 1., 1., 1.]])"
      ]
     },
     "execution_count": 71,
     "metadata": {},
     "output_type": "execute_result"
    }
   ],
   "source": [
    "x2 = np.ones((3, 4))\n",
    "x2"
   ]
  },
  {
   "cell_type": "markdown",
   "metadata": {},
   "source": [
    "Extraemos una matriz 2x2"
   ]
  },
  {
   "cell_type": "code",
   "execution_count": 72,
   "metadata": {},
   "outputs": [
    {
     "name": "stdout",
     "output_type": "stream",
     "text": [
      "[[1. 1.]\n",
      " [1. 1.]]\n"
     ]
    }
   ],
   "source": [
    "x2_sub = x2[:2, :2]\n",
    "print(x2_sub)"
   ]
  },
  {
   "cell_type": "markdown",
   "metadata": {},
   "source": [
    "Si ahora modificamos un elemento del nuevo subarray, verás que el array original ha cambiado"
   ]
  },
  {
   "cell_type": "code",
   "execution_count": 73,
   "metadata": {},
   "outputs": [
    {
     "name": "stdout",
     "output_type": "stream",
     "text": [
      "[[99.  1.]\n",
      " [ 1.  1.]]\n"
     ]
    }
   ],
   "source": [
    "x2_sub[0, 0] = 99\n",
    "print(x2_sub)"
   ]
  },
  {
   "cell_type": "code",
   "execution_count": 74,
   "metadata": {},
   "outputs": [
    {
     "name": "stdout",
     "output_type": "stream",
     "text": [
      "[[99.  1.  1.  1.]\n",
      " [ 1.  1.  1.  1.]\n",
      " [ 1.  1.  1.  1.]]\n"
     ]
    }
   ],
   "source": [
    "print(x2)"
   ]
  },
  {
   "cell_type": "markdown",
   "metadata": {},
   "source": [
    "Esta característica es bastante útil ya que si trabajamos con datasets muy grandes, podremos acceder y procesar partes del dataset original, sin necesidad de hacer copias, y por tanto, sin sobrecargar la memoria.\n",
    "\n",
    "Aunque siempre tenemos la opción de realizar copias del array mediante la sentencia `copy()`"
   ]
  },
  {
   "cell_type": "code",
   "execution_count": 75,
   "metadata": {},
   "outputs": [
    {
     "name": "stdout",
     "output_type": "stream",
     "text": [
      "[[99.  1.]\n",
      " [ 1.  1.]]\n"
     ]
    }
   ],
   "source": [
    "x2_sub_copy = x2[:2, :2].copy()\n",
    "print(x2_sub_copy)"
   ]
  },
  {
   "cell_type": "markdown",
   "metadata": {},
   "source": [
    "Ahora si modificamos el subarray, el original se quedará como estaba"
   ]
  },
  {
   "cell_type": "code",
   "execution_count": 76,
   "metadata": {},
   "outputs": [
    {
     "name": "stdout",
     "output_type": "stream",
     "text": [
      "[[42.  1.]\n",
      " [ 1.  1.]]\n"
     ]
    }
   ],
   "source": [
    "x2_sub_copy[0, 0] = 42\n",
    "print(x2_sub_copy)"
   ]
  },
  {
   "cell_type": "code",
   "execution_count": 77,
   "metadata": {},
   "outputs": [
    {
     "name": "stdout",
     "output_type": "stream",
     "text": [
      "[[99.  1.  1.  1.]\n",
      " [ 1.  1.  1.  1.]\n",
      " [ 1.  1.  1.  1.]]\n"
     ]
    }
   ],
   "source": [
    "print(x2)"
   ]
  },
  {
   "cell_type": "markdown",
   "metadata": {},
   "source": [
    "## 12. Splitting\n",
    "Al igual que hacíamos el concatenado, podemos realizar la operación contraria mediante `np.split`, `np.hsplit` y `np.vsplit`. Le podemos pasar una lista de indices por los que realizar el split."
   ]
  },
  {
   "cell_type": "code",
   "execution_count": 78,
   "metadata": {},
   "outputs": [
    {
     "name": "stdout",
     "output_type": "stream",
     "text": [
      "[11 22 33] [99 99] [3 2 1]\n"
     ]
    }
   ],
   "source": [
    "x = [11, 22, 33, 99, 99, 3, 2, 1]\n",
    "x1, x2, x3 = np.split(x, [3, 5]) # [3,5] son los indices\n",
    "print(x1, x2, x3)"
   ]
  },
  {
   "cell_type": "code",
   "execution_count": 116,
   "metadata": {},
   "outputs": [
    {
     "output_type": "stream",
     "name": "stdout",
     "text": [
      "[0 1 2 3] \n [4 5 6] \n [7 8] \n [ 9 10 11]\n"
     ]
    }
   ],
   "source": [
    "y = [0, 1, 2, 3, 4, 5, 6, 7, 8, 9, 10, 11]\n",
    "\n",
    "y1, y2,  y3, y4 = np.split(y, [4, 7, 9])\n",
    "\n",
    "print(y1, '\\n', y2, '\\n', y3, '\\n', y4)"
   ]
  },
  {
   "cell_type": "markdown",
   "metadata": {},
   "source": [
    "N puntos de splitting, supone crear N + 1 subarrays nuevos.\n",
    "\n",
    "`np.hsplit` y `np.vsplit` funcionan de manera similar"
   ]
  },
  {
   "cell_type": "code",
   "execution_count": 120,
   "metadata": {},
   "outputs": [
    {
     "output_type": "execute_result",
     "data": {
      "text/plain": [
       "array([[ 0,  1,  2,  3],\n",
       "       [ 4,  5,  6,  7],\n",
       "       [ 8,  9, 10, 11],\n",
       "       [12, 13, 14, 15]])"
      ]
     },
     "metadata": {},
     "execution_count": 120
    }
   ],
   "source": [
    "grid = np.arange(16).reshape((4, 4))\n",
    "grid"
   ]
  },
  {
   "cell_type": "code",
   "execution_count": 118,
   "metadata": {},
   "outputs": [
    {
     "output_type": "execute_result",
     "data": {
      "text/plain": [
       "array([[3, 1, 3, 7],\n",
       "       [1, 7, 4, 0],\n",
       "       [5, 1, 5, 9],\n",
       "       [9, 4, 0, 9]])"
      ]
     },
     "metadata": {},
     "execution_count": 118
    }
   ],
   "source": [
    "grid2 = np.array([np.random.randint(10) for i in range(16)]).reshape(4, 4)\n",
    "grid2"
   ]
  },
  {
   "cell_type": "code",
   "execution_count": 121,
   "metadata": {},
   "outputs": [
    {
     "output_type": "stream",
     "name": "stdout",
     "text": [
      "[[0 1 2 3]\n [4 5 6 7]]\n\n\n[[ 8  9 10 11]\n [12 13 14 15]]\n"
     ]
    }
   ],
   "source": [
    "upper, lower = np.vsplit(grid, [2])\n",
    "print(upper)\n",
    "print('\\n')\n",
    "print(lower)"
   ]
  },
  {
   "cell_type": "code",
   "execution_count": 122,
   "metadata": {},
   "outputs": [
    {
     "output_type": "stream",
     "name": "stdout",
     "text": [
      "[[ 0  1]\n [ 4  5]\n [ 8  9]\n [12 13]]\n\n\n[[ 2  3]\n [ 6  7]\n [10 11]\n [14 15]]\n"
     ]
    }
   ],
   "source": [
    "left, right = np.hsplit(grid, [2])\n",
    "print(left)\n",
    "print('\\n')\n",
    "print(right)"
   ]
  },
  {
   "cell_type": "markdown",
   "metadata": {},
   "source": [
    "## 13. Agregaciones\n",
    "Cuando nos enfrentamos a una gran cantidad de datos, un primer paso es calcular estadísticos mediante agregaciones de los datos, como por ejemplo la media, mediana o la desviación estándar. Con estas medidads podemos resumir el conjunto de los datos.\n",
    "\n",
    "Numpy tiene una serie de funciones de agregación integradas rápidas para trabajar con sus matrices.\n",
    "\n",
    "#### Suma\n",
    "Como primer ejemplo, vamos a calcular la suma de los valores de un array. Lo podemos implementar con la función *built-in* de Python `sum`."
   ]
  },
  {
   "cell_type": "code",
   "execution_count": 123,
   "metadata": {},
   "outputs": [
    {
     "output_type": "stream",
     "name": "stdout",
     "text": [
      "[0.68923564 0.92954594 0.91811655 0.97530172 0.39700197 0.26262609\n 0.43015136 0.76453077 0.59973081 0.08094696 0.70454447 0.16401332\n 0.03234935 0.32815036 0.47386    0.06808472 0.3827107  0.11855414\n 0.89632852 0.76430853 0.37540494 0.02581418 0.90653093 0.78641778\n 0.61931523 0.21158894 0.292304   0.66154467 0.88626098 0.67117646\n 0.32968079 0.2073618  0.01163207 0.07154342 0.73005591 0.9798396\n 0.69001621 0.99057483 0.69053432 0.94812322 0.58364465 0.53155327\n 0.16865734 0.15880774 0.93796532 0.71826456 0.47654265 0.88365336\n 0.40420231 0.17146805 0.13183202 0.41190816 0.02485604 0.5635608\n 0.78187792 0.26705997 0.21425496 0.17755704 0.42926568 0.97211312\n 0.04653158 0.91735447 0.15893009 0.94338268 0.76316153 0.05387827\n 0.25408163 0.92797263 0.8383115  0.15692453 0.69077595 0.36694644\n 0.93747272 0.61336482 0.69934982 0.50294625 0.7111109  0.13438585\n 0.82893194 0.74284587 0.45703374 0.07910336 0.37304659 0.93363636\n 0.41872481 0.23421157 0.57248483 0.57211088 0.41689298 0.62588308\n 0.22036227 0.62205913 0.47767162 0.97434208 0.77298466 0.02713854\n 0.22102235 0.12032832 0.17527398 0.42946156]\n"
     ]
    },
    {
     "output_type": "execute_result",
     "data": {
      "text/plain": [
       "50.08728939068689"
      ]
     },
     "metadata": {},
     "execution_count": 123
    }
   ],
   "source": [
    "L = np.random.random(100)\n",
    "print(L)\n",
    "sum(L)"
   ]
  },
  {
   "cell_type": "markdown",
   "metadata": {},
   "source": [
    "La sintaxis para el caso de Numpy es muy similar"
   ]
  },
  {
   "cell_type": "code",
   "execution_count": 124,
   "metadata": {},
   "outputs": [
    {
     "output_type": "execute_result",
     "data": {
      "text/plain": [
       "50.08728939068692"
      ]
     },
     "metadata": {},
     "execution_count": 124
    }
   ],
   "source": [
    "np.sum(L)"
   ]
  },
  {
   "cell_type": "markdown",
   "metadata": {},
   "source": [
    "Sin embargo, Numpy es computacionalmente mucho más potente a la hora de realizar este tipo de cálculos"
   ]
  },
  {
   "cell_type": "code",
   "execution_count": 125,
   "metadata": {},
   "outputs": [
    {
     "output_type": "stream",
     "name": "stdout",
     "text": [
      "146 ms ± 5.84 ms per loop (mean ± std. dev. of 7 runs, 10 loops each)\n",
      "395 µs ± 4.83 µs per loop (mean ± std. dev. of 7 runs, 1000 loops each)\n"
     ]
    }
   ],
   "source": [
    "big_array = np.random.rand(1000000)\n",
    "%timeit sum(big_array)\n",
    "%timeit np.sum(big_array)"
   ]
  },
  {
   "cell_type": "markdown",
   "metadata": {},
   "source": [
    "Como ves, la función `sum` y `np.sum` son funciones diferentes. No solo computacionalmente, sino que `np.sum` está preparada para trabajar con arrays multidimensionales."
   ]
  },
  {
   "cell_type": "markdown",
   "metadata": {},
   "source": [
    "#### Mínimo y Máximo\n",
    "Al igual que antes, Python dispone de las funciones `min` y `max`, utilizadas para obtener los valores mínimo y máximo de un array."
   ]
  },
  {
   "cell_type": "code",
   "execution_count": 85,
   "metadata": {},
   "outputs": [
    {
     "data": {
      "text/plain": [
       "(5.823232201995765e-07, 0.9999990367421666)"
      ]
     },
     "execution_count": 85,
     "metadata": {},
     "output_type": "execute_result"
    }
   ],
   "source": [
    "min(big_array), max(big_array)"
   ]
  },
  {
   "cell_type": "markdown",
   "metadata": {},
   "source": [
    "La función equivalente de Numpy tiene una sintaxis muy similar"
   ]
  },
  {
   "cell_type": "code",
   "execution_count": 86,
   "metadata": {},
   "outputs": [
    {
     "data": {
      "text/plain": [
       "(5.823232201995765e-07, 0.9999990367421666)"
      ]
     },
     "execution_count": 86,
     "metadata": {},
     "output_type": "execute_result"
    }
   ],
   "source": [
    "np.min(big_array), np.max(big_array)"
   ]
  },
  {
   "cell_type": "code",
   "execution_count": 126,
   "metadata": {},
   "outputs": [
    {
     "output_type": "stream",
     "name": "stdout",
     "text": [
      "89.8 ms ± 5.28 ms per loop (mean ± std. dev. of 7 runs, 10 loops each)\n",
      "411 µs ± 2.43 µs per loop (mean ± std. dev. of 7 runs, 1000 loops each)\n"
     ]
    }
   ],
   "source": [
    "%timeit min(big_array)\n",
    "%timeit np.min(big_array)"
   ]
  },
  {
   "cell_type": "markdown",
   "metadata": {},
   "source": [
    "Para `min`, `max, `sum` y otras funciones de agregación de Numpy, tienes disponible otra sintaxis, todavía más corta."
   ]
  },
  {
   "cell_type": "code",
   "execution_count": 88,
   "metadata": {},
   "outputs": [
    {
     "name": "stdout",
     "output_type": "stream",
     "text": [
      "5.823232201995765e-07 0.9999990367421666 500013.40687784384\n"
     ]
    }
   ],
   "source": [
    "print(big_array.min(), big_array.max(), big_array.sum())"
   ]
  },
  {
   "cell_type": "markdown",
   "metadata": {},
   "source": [
    "####  Agregaciones multidimensionales\n",
    "Un tipo de agregación muy habitual en Numpy es a lo largo de una fila, o de una columna."
   ]
  },
  {
   "cell_type": "code",
   "execution_count": 89,
   "metadata": {},
   "outputs": [
    {
     "name": "stdout",
     "output_type": "stream",
     "text": [
      "[[0.11286537 0.27746232 0.17348701 0.011245  ]\n",
      " [0.47333823 0.44860674 0.67364594 0.57994895]\n",
      " [0.02377898 0.77363467 0.42490804 0.74124302]]\n"
     ]
    }
   ],
   "source": [
    "M = np.random.random((3, 4))\n",
    "print(M)"
   ]
  },
  {
   "cell_type": "markdown",
   "metadata": {},
   "source": [
    "Por defecto, cada función de agregación de Numpy se aplicará sobre toda la matriz"
   ]
  },
  {
   "cell_type": "code",
   "execution_count": 90,
   "metadata": {},
   "outputs": [
    {
     "data": {
      "text/plain": [
       "4.714164269489868"
      ]
     },
     "execution_count": 90,
     "metadata": {},
     "output_type": "execute_result"
    }
   ],
   "source": [
    "M.sum()"
   ]
  },
  {
   "cell_type": "markdown",
   "metadata": {},
   "source": [
    "Las funciones de agregación tienen un parámetro en el que especificamos el eje sobre el cual queremos aplicar dicha operación. Por ejemplo, podemos conseguir el valor mínimo de cada columna, simplemente introduciendo el parámetro `axis=0`"
   ]
  },
  {
   "cell_type": "code",
   "execution_count": 91,
   "metadata": {},
   "outputs": [
    {
     "data": {
      "text/plain": [
       "array([0.02377898, 0.27746232, 0.17348701, 0.011245  ])"
      ]
     },
     "execution_count": 91,
     "metadata": {},
     "output_type": "execute_result"
    }
   ],
   "source": [
    "M.min(axis=0)"
   ]
  },
  {
   "cell_type": "markdown",
   "metadata": {},
   "source": [
    "La función devuelve cuatro valores, que se corresponden con las cuatro columnas.\n",
    "\n",
    "Y de manera similar podemos obtener el valor máximo por fila."
   ]
  },
  {
   "cell_type": "code",
   "execution_count": 92,
   "metadata": {},
   "outputs": [
    {
     "data": {
      "text/plain": [
       "array([0.27746232, 0.67364594, 0.77363467])"
      ]
     },
     "execution_count": 92,
     "metadata": {},
     "output_type": "execute_result"
    }
   ],
   "source": [
    "M.max(axis=1)"
   ]
  },
  {
   "cell_type": "markdown",
   "metadata": {},
   "source": [
    "La manera en la que se especifica el eje puede ser confusa, sobretodo si vienes de otro lenguaje. El argumento `axis` especifica la dimension sobre la que queremos aplicar la operación, en vez de la dimension que queremos que nos devuelva. Por lo que poniendo `axis=0` significa que el primer eje se quedará fijo, y agregará los valores de cada columna\n",
    "\n",
    "#### Otras funciones de agregación\n",
    "Numpy proporciona muchísimas funciones de agregación por lo que no veremos todas en detalle este notebook. No obstante, sí que es interesante conocer aquellas funciones de numpy que están hechas para ignorar los missings, es decir los `NaN`. Aquí tienes una tabla con varias funciones de agregación de gran utilidad, así como sus versiones compatibles para missings.\n",
    "\n",
    "|Function Name      |   NaN-safe Version  | Description                                   |\n",
    "|-------------------|---------------------|-----------------------------------------------|\n",
    "| ``np.sum``        | ``np.nansum``       | Compute sum of elements                       |\n",
    "| ``np.prod``       | ``np.nanprod``      | Compute product of elements                   |\n",
    "| ``np.mean``       | ``np.nanmean``      | Compute mean of elements                      |\n",
    "| ``np.std``        | ``np.nanstd``       | Compute standard deviation                    |\n",
    "| ``np.var``        | ``np.nanvar``       | Compute variance                              |\n",
    "| ``np.min``        | ``np.nanmin``       | Find minimum value                            |\n",
    "| ``np.max``        | ``np.nanmax``       | Find maximum value                            |\n",
    "| ``np.argmin``     | ``np.nanargmin``    | Find index of minimum value                   |\n",
    "| ``np.argmax``     | ``np.nanargmax``    | Find index of maximum value                   |\n",
    "| ``np.median``     | ``np.nanmedian``    | Compute median of elements                    |\n",
    "| ``np.percentile`` | ``np.nanpercentile``| Compute rank-based statistics of elements     |\n",
    "| ``np.any``        | N/A                 | Evaluate whether any elements are true        |\n",
    "| ``np.all``        | N/A                 | Evaluate whether all elements are true        |"
   ]
  },
  {
   "cell_type": "markdown",
   "metadata": {},
   "source": [
    "### Ejemplo con pandas 🐼\n",
    "\n",
    "##### ¿Cuál es la estatura media de los presidentes de EEUU?\n",
    "Las funciones de agregación de Numpy pueden resultar de gran utilidad a la hora de resumir sets de datos. En este ejemplo vamos a considerar las diferentes estaturas de los presidentes de Estados Unidos. Tienes estos datos disponibles en el CSV *president_heights.csv*.\n",
    "\n",
    "Utilizaremos el paquete **pandas** para leer los datos."
   ]
  },
  {
   "cell_type": "code",
   "execution_count": 135,
   "metadata": {},
   "outputs": [
    {
     "output_type": "execute_result",
     "data": {
      "text/plain": [
       "   order               name  height(cm)\n",
       "0      1  George Washington         189\n",
       "1      2         John Adams         170\n",
       "2      3   Thomas Jefferson         189\n",
       "3      4      James Madison         163\n",
       "4      5       James Monroe         183"
      ],
      "text/html": "<div>\n<style scoped>\n    .dataframe tbody tr th:only-of-type {\n        vertical-align: middle;\n    }\n\n    .dataframe tbody tr th {\n        vertical-align: top;\n    }\n\n    .dataframe thead th {\n        text-align: right;\n    }\n</style>\n<table border=\"1\" class=\"dataframe\">\n  <thead>\n    <tr style=\"text-align: right;\">\n      <th></th>\n      <th>order</th>\n      <th>name</th>\n      <th>height(cm)</th>\n    </tr>\n  </thead>\n  <tbody>\n    <tr>\n      <th>0</th>\n      <td>1</td>\n      <td>George Washington</td>\n      <td>189</td>\n    </tr>\n    <tr>\n      <th>1</th>\n      <td>2</td>\n      <td>John Adams</td>\n      <td>170</td>\n    </tr>\n    <tr>\n      <th>2</th>\n      <td>3</td>\n      <td>Thomas Jefferson</td>\n      <td>189</td>\n    </tr>\n    <tr>\n      <th>3</th>\n      <td>4</td>\n      <td>James Madison</td>\n      <td>163</td>\n    </tr>\n    <tr>\n      <th>4</th>\n      <td>5</td>\n      <td>James Monroe</td>\n      <td>183</td>\n    </tr>\n  </tbody>\n</table>\n</div>"
     },
     "metadata": {},
     "execution_count": 135
    }
   ],
   "source": [
    "import pandas as pd\n",
    "import numpy as np\n",
    "\n",
    "data = pd.read_csv('../../data/president_heights.csv')\n",
    "\n",
    "data.head()"
   ]
  },
  {
   "cell_type": "code",
   "execution_count": 141,
   "metadata": {},
   "outputs": [
    {
     "output_type": "execute_result",
     "data": {
      "text/plain": [
       "42"
      ]
     },
     "metadata": {},
     "execution_count": 141
    }
   ],
   "source": [
    "heights = np.array(data['height(cm)'])\n",
    "len(heights)"
   ]
  },
  {
   "cell_type": "markdown",
   "metadata": {},
   "source": [
    "Ahora que tenemos los datos en un array podemos calcular una serie de estadísticos"
   ]
  },
  {
   "cell_type": "code",
   "execution_count": 137,
   "metadata": {},
   "outputs": [
    {
     "output_type": "stream",
     "name": "stdout",
     "text": [
      "Mean height:        179.73809523809524\nStandard deviation: 6.931843442745892\nMinimum height:     163\nMaximum height:     193\n"
     ]
    }
   ],
   "source": [
    "print(\"Mean height:       \", heights.mean())\n",
    "print(\"Standard deviation:\", heights.std())\n",
    "print(\"Minimum height:    \", heights.min())\n",
    "print(\"Maximum height:    \", heights.max())"
   ]
  },
  {
   "cell_type": "markdown",
   "metadata": {},
   "source": [
    "Fíjate que en cada operación de agregación, estamos reduciendo el array entero a un único valor, el cual nos da información sobre cómo se distribuyen los valores.\n",
    "\n",
    "Podemos ver también los cuartiles:"
   ]
  },
  {
   "cell_type": "code",
   "execution_count": 138,
   "metadata": {},
   "outputs": [
    {
     "output_type": "stream",
     "name": "stdout",
     "text": [
      "25th percentile:    174.25\nMedian:             182.0\n75th percentile:    183.0\n"
     ]
    }
   ],
   "source": [
    "print(\"25th percentile:   \", np.percentile(heights, 25))\n",
    "print(\"Median:            \", np.median(heights))\n",
    "print(\"75th percentile:   \", np.percentile(heights, 75))"
   ]
  },
  {
   "cell_type": "markdown",
   "metadata": {},
   "source": [
    "Vemos que la altura mediana de los presidentes es de 182 cm.\n",
    "\n",
    "Por supuesto, en ocasiones resulta más útil desarrollar representaciones visuales de los datos, en vez de calcular simples estadísticos. Esto lo podemos hacer mediante librerías como seaborn o matplotlib."
   ]
  },
  {
   "cell_type": "code",
   "execution_count": 139,
   "metadata": {},
   "outputs": [],
   "source": [
    "%matplotlib inline\n",
    "import matplotlib.pyplot as plt\n",
    "import seaborn; seaborn.set()  # set plot style"
   ]
  },
  {
   "cell_type": "code",
   "execution_count": 140,
   "metadata": {},
   "outputs": [
    {
     "output_type": "execute_result",
     "data": {
      "text/plain": [
       "Text(0, 0.5, 'number')"
      ]
     },
     "metadata": {},
     "execution_count": 140
    },
    {
     "output_type": "display_data",
     "data": {
      "text/plain": "<Figure size 432x288 with 1 Axes>",
      "image/svg+xml": "<?xml version=\"1.0\" encoding=\"utf-8\" standalone=\"no\"?>\n<!DOCTYPE svg PUBLIC \"-//W3C//DTD SVG 1.1//EN\"\n  \"http://www.w3.org/Graphics/SVG/1.1/DTD/svg11.dtd\">\n<!-- Created with matplotlib (https://matplotlib.org/) -->\n<svg height=\"281.396719pt\" version=\"1.1\" viewBox=\"0 0 385.908437 281.396719\" width=\"385.908437pt\" xmlns=\"http://www.w3.org/2000/svg\" xmlns:xlink=\"http://www.w3.org/1999/xlink\">\n <metadata>\n  <rdf:RDF xmlns:cc=\"http://creativecommons.org/ns#\" xmlns:dc=\"http://purl.org/dc/elements/1.1/\" xmlns:rdf=\"http://www.w3.org/1999/02/22-rdf-syntax-ns#\">\n   <cc:Work>\n    <dc:type rdf:resource=\"http://purl.org/dc/dcmitype/StillImage\"/>\n    <dc:date>2021-05-04T16:06:25.546870</dc:date>\n    <dc:format>image/svg+xml</dc:format>\n    <dc:creator>\n     <cc:Agent>\n      <dc:title>Matplotlib v3.3.2, https://matplotlib.org/</dc:title>\n     </cc:Agent>\n    </dc:creator>\n   </cc:Work>\n  </rdf:RDF>\n </metadata>\n <defs>\n  <style type=\"text/css\">*{stroke-linecap:butt;stroke-linejoin:round;}</style>\n </defs>\n <g id=\"figure_1\">\n  <g id=\"patch_1\">\n   <path d=\"M 0 281.396719 \nL 385.908437 281.396719 \nL 385.908437 0 \nL 0 0 \nz\n\" style=\"fill:#ffffff;\"/>\n  </g>\n  <g id=\"axes_1\">\n   <g id=\"patch_2\">\n    <path d=\"M 43.908438 239.375625 \nL 378.708438 239.375625 \nL 378.708438 21.935625 \nL 43.908438 21.935625 \nz\n\" style=\"fill:#eaeaf2;\"/>\n   </g>\n   <g id=\"matplotlib.axis_1\">\n    <g id=\"xtick_1\">\n     <g id=\"line2d_1\">\n      <path clip-path=\"url(#p5da5c7d297)\" d=\"M 79.417528 239.375625 \nL 79.417528 21.935625 \n\" style=\"fill:none;stroke:#ffffff;stroke-linecap:round;\"/>\n     </g>\n     <g id=\"text_1\">\n      <!-- 165 -->\n      <g style=\"fill:#262626;\" transform=\"translate(70.241982 256.749219)scale(0.11 -0.11)\">\n       <defs>\n        <path d=\"M 37.25 0 \nL 28.46875 0 \nL 28.46875 56 \nQ 25.296875 52.984375 20.140625 49.953125 \nQ 14.984375 46.921875 10.890625 45.40625 \nL 10.890625 53.90625 \nQ 18.265625 57.375 23.78125 62.296875 \nQ 29.296875 67.234375 31.59375 71.875 \nL 37.25 71.875 \nz\n\" id=\"ArialMT-49\"/>\n        <path d=\"M 49.75 54.046875 \nL 41.015625 53.375 \nQ 39.84375 58.546875 37.703125 60.890625 \nQ 34.125 64.65625 28.90625 64.65625 \nQ 24.703125 64.65625 21.53125 62.3125 \nQ 17.390625 59.28125 14.984375 53.46875 \nQ 12.59375 47.65625 12.5 36.921875 \nQ 15.671875 41.75 20.265625 44.09375 \nQ 24.859375 46.4375 29.890625 46.4375 \nQ 38.671875 46.4375 44.84375 39.96875 \nQ 51.03125 33.5 51.03125 23.25 \nQ 51.03125 16.5 48.125 10.71875 \nQ 45.21875 4.9375 40.140625 1.859375 \nQ 35.0625 -1.21875 28.609375 -1.21875 \nQ 17.625 -1.21875 10.6875 6.859375 \nQ 3.765625 14.9375 3.765625 33.5 \nQ 3.765625 54.25 11.421875 63.671875 \nQ 18.109375 71.875 29.4375 71.875 \nQ 37.890625 71.875 43.28125 67.140625 \nQ 48.6875 62.40625 49.75 54.046875 \nz\nM 13.875 23.1875 \nQ 13.875 18.65625 15.796875 14.5 \nQ 17.71875 10.359375 21.1875 8.171875 \nQ 24.65625 6 28.46875 6 \nQ 34.03125 6 38.03125 10.484375 \nQ 42.046875 14.984375 42.046875 22.703125 \nQ 42.046875 30.125 38.078125 34.390625 \nQ 34.125 38.671875 28.125 38.671875 \nQ 22.171875 38.671875 18.015625 34.390625 \nQ 13.875 30.125 13.875 23.1875 \nz\n\" id=\"ArialMT-54\"/>\n        <path d=\"M 4.15625 18.75 \nL 13.375 19.53125 \nQ 14.40625 12.796875 18.140625 9.390625 \nQ 21.875 6 27.15625 6 \nQ 33.5 6 37.890625 10.78125 \nQ 42.28125 15.578125 42.28125 23.484375 \nQ 42.28125 31 38.0625 35.34375 \nQ 33.84375 39.703125 27 39.703125 \nQ 22.75 39.703125 19.328125 37.765625 \nQ 15.921875 35.84375 13.96875 32.765625 \nL 5.71875 33.84375 \nL 12.640625 70.609375 \nL 48.25 70.609375 \nL 48.25 62.203125 \nL 19.671875 62.203125 \nL 15.828125 42.96875 \nQ 22.265625 47.46875 29.34375 47.46875 \nQ 38.71875 47.46875 45.15625 40.96875 \nQ 51.609375 34.46875 51.609375 24.265625 \nQ 51.609375 14.546875 45.953125 7.46875 \nQ 39.0625 -1.21875 27.15625 -1.21875 \nQ 17.390625 -1.21875 11.203125 4.25 \nQ 5.03125 9.71875 4.15625 18.75 \nz\n\" id=\"ArialMT-53\"/>\n       </defs>\n       <use xlink:href=\"#ArialMT-49\"/>\n       <use x=\"55.615234\" xlink:href=\"#ArialMT-54\"/>\n       <use x=\"111.230469\" xlink:href=\"#ArialMT-53\"/>\n      </g>\n     </g>\n    </g>\n    <g id=\"xtick_2\">\n     <g id=\"line2d_2\">\n      <path clip-path=\"url(#p5da5c7d297)\" d=\"M 130.144801 239.375625 \nL 130.144801 21.935625 \n\" style=\"fill:none;stroke:#ffffff;stroke-linecap:round;\"/>\n     </g>\n     <g id=\"text_2\">\n      <!-- 170 -->\n      <g style=\"fill:#262626;\" transform=\"translate(120.969254 256.749219)scale(0.11 -0.11)\">\n       <defs>\n        <path d=\"M 4.734375 62.203125 \nL 4.734375 70.65625 \nL 51.078125 70.65625 \nL 51.078125 63.8125 \nQ 44.234375 56.546875 37.515625 44.484375 \nQ 30.8125 32.421875 27.15625 19.671875 \nQ 24.515625 10.6875 23.78125 0 \nL 14.75 0 \nQ 14.890625 8.453125 18.0625 20.40625 \nQ 21.234375 32.375 27.171875 43.484375 \nQ 33.109375 54.59375 39.796875 62.203125 \nz\n\" id=\"ArialMT-55\"/>\n        <path d=\"M 4.15625 35.296875 \nQ 4.15625 48 6.765625 55.734375 \nQ 9.375 63.484375 14.515625 67.671875 \nQ 19.671875 71.875 27.484375 71.875 \nQ 33.25 71.875 37.59375 69.546875 \nQ 41.9375 67.234375 44.765625 62.859375 \nQ 47.609375 58.5 49.21875 52.21875 \nQ 50.828125 45.953125 50.828125 35.296875 \nQ 50.828125 22.703125 48.234375 14.96875 \nQ 45.65625 7.234375 40.5 3 \nQ 35.359375 -1.21875 27.484375 -1.21875 \nQ 17.140625 -1.21875 11.234375 6.203125 \nQ 4.15625 15.140625 4.15625 35.296875 \nz\nM 13.1875 35.296875 \nQ 13.1875 17.671875 17.3125 11.828125 \nQ 21.4375 6 27.484375 6 \nQ 33.546875 6 37.671875 11.859375 \nQ 41.796875 17.71875 41.796875 35.296875 \nQ 41.796875 52.984375 37.671875 58.78125 \nQ 33.546875 64.59375 27.390625 64.59375 \nQ 21.34375 64.59375 17.71875 59.46875 \nQ 13.1875 52.9375 13.1875 35.296875 \nz\n\" id=\"ArialMT-48\"/>\n       </defs>\n       <use xlink:href=\"#ArialMT-49\"/>\n       <use x=\"55.615234\" xlink:href=\"#ArialMT-55\"/>\n       <use x=\"111.230469\" xlink:href=\"#ArialMT-48\"/>\n      </g>\n     </g>\n    </g>\n    <g id=\"xtick_3\">\n     <g id=\"line2d_3\">\n      <path clip-path=\"url(#p5da5c7d297)\" d=\"M 180.872074 239.375625 \nL 180.872074 21.935625 \n\" style=\"fill:none;stroke:#ffffff;stroke-linecap:round;\"/>\n     </g>\n     <g id=\"text_3\">\n      <!-- 175 -->\n      <g style=\"fill:#262626;\" transform=\"translate(171.696527 256.749219)scale(0.11 -0.11)\">\n       <use xlink:href=\"#ArialMT-49\"/>\n       <use x=\"55.615234\" xlink:href=\"#ArialMT-55\"/>\n       <use x=\"111.230469\" xlink:href=\"#ArialMT-53\"/>\n      </g>\n     </g>\n    </g>\n    <g id=\"xtick_4\">\n     <g id=\"line2d_4\">\n      <path clip-path=\"url(#p5da5c7d297)\" d=\"M 231.599347 239.375625 \nL 231.599347 21.935625 \n\" style=\"fill:none;stroke:#ffffff;stroke-linecap:round;\"/>\n     </g>\n     <g id=\"text_4\">\n      <!-- 180 -->\n      <g style=\"fill:#262626;\" transform=\"translate(222.4238 256.749219)scale(0.11 -0.11)\">\n       <defs>\n        <path d=\"M 17.671875 38.8125 \nQ 12.203125 40.828125 9.5625 44.53125 \nQ 6.9375 48.25 6.9375 53.421875 \nQ 6.9375 61.234375 12.546875 66.546875 \nQ 18.171875 71.875 27.484375 71.875 \nQ 36.859375 71.875 42.578125 66.421875 \nQ 48.296875 60.984375 48.296875 53.171875 \nQ 48.296875 48.1875 45.671875 44.5 \nQ 43.0625 40.828125 37.75 38.8125 \nQ 44.34375 36.671875 47.78125 31.875 \nQ 51.21875 27.09375 51.21875 20.453125 \nQ 51.21875 11.28125 44.71875 5.03125 \nQ 38.234375 -1.21875 27.640625 -1.21875 \nQ 17.046875 -1.21875 10.546875 5.046875 \nQ 4.046875 11.328125 4.046875 20.703125 \nQ 4.046875 27.6875 7.59375 32.390625 \nQ 11.140625 37.109375 17.671875 38.8125 \nz\nM 15.921875 53.71875 \nQ 15.921875 48.640625 19.1875 45.40625 \nQ 22.46875 42.1875 27.6875 42.1875 \nQ 32.765625 42.1875 36.015625 45.375 \nQ 39.265625 48.578125 39.265625 53.21875 \nQ 39.265625 58.0625 35.90625 61.359375 \nQ 32.5625 64.65625 27.59375 64.65625 \nQ 22.5625 64.65625 19.234375 61.421875 \nQ 15.921875 58.203125 15.921875 53.71875 \nz\nM 13.09375 20.65625 \nQ 13.09375 16.890625 14.875 13.375 \nQ 16.65625 9.859375 20.171875 7.921875 \nQ 23.6875 6 27.734375 6 \nQ 34.03125 6 38.125 10.046875 \nQ 42.234375 14.109375 42.234375 20.359375 \nQ 42.234375 26.703125 38.015625 30.859375 \nQ 33.796875 35.015625 27.4375 35.015625 \nQ 21.234375 35.015625 17.15625 30.90625 \nQ 13.09375 26.8125 13.09375 20.65625 \nz\n\" id=\"ArialMT-56\"/>\n       </defs>\n       <use xlink:href=\"#ArialMT-49\"/>\n       <use x=\"55.615234\" xlink:href=\"#ArialMT-56\"/>\n       <use x=\"111.230469\" xlink:href=\"#ArialMT-48\"/>\n      </g>\n     </g>\n    </g>\n    <g id=\"xtick_5\">\n     <g id=\"line2d_5\">\n      <path clip-path=\"url(#p5da5c7d297)\" d=\"M 282.326619 239.375625 \nL 282.326619 21.935625 \n\" style=\"fill:none;stroke:#ffffff;stroke-linecap:round;\"/>\n     </g>\n     <g id=\"text_5\">\n      <!-- 185 -->\n      <g style=\"fill:#262626;\" transform=\"translate(273.151072 256.749219)scale(0.11 -0.11)\">\n       <use xlink:href=\"#ArialMT-49\"/>\n       <use x=\"55.615234\" xlink:href=\"#ArialMT-56\"/>\n       <use x=\"111.230469\" xlink:href=\"#ArialMT-53\"/>\n      </g>\n     </g>\n    </g>\n    <g id=\"xtick_6\">\n     <g id=\"line2d_6\">\n      <path clip-path=\"url(#p5da5c7d297)\" d=\"M 333.053892 239.375625 \nL 333.053892 21.935625 \n\" style=\"fill:none;stroke:#ffffff;stroke-linecap:round;\"/>\n     </g>\n     <g id=\"text_6\">\n      <!-- 190 -->\n      <g style=\"fill:#262626;\" transform=\"translate(323.878345 256.749219)scale(0.11 -0.11)\">\n       <defs>\n        <path d=\"M 5.46875 16.546875 \nL 13.921875 17.328125 \nQ 14.984375 11.375 18.015625 8.6875 \nQ 21.046875 6 25.78125 6 \nQ 29.828125 6 32.875 7.859375 \nQ 35.9375 9.71875 37.890625 12.8125 \nQ 39.84375 15.921875 41.15625 21.1875 \nQ 42.484375 26.46875 42.484375 31.9375 \nQ 42.484375 32.515625 42.4375 33.6875 \nQ 39.796875 29.5 35.234375 26.875 \nQ 30.671875 24.265625 25.34375 24.265625 \nQ 16.453125 24.265625 10.296875 30.703125 \nQ 4.15625 37.15625 4.15625 47.703125 \nQ 4.15625 58.59375 10.578125 65.234375 \nQ 17 71.875 26.65625 71.875 \nQ 33.640625 71.875 39.421875 68.109375 \nQ 45.21875 64.359375 48.21875 57.390625 \nQ 51.21875 50.4375 51.21875 37.25 \nQ 51.21875 23.53125 48.234375 15.40625 \nQ 45.265625 7.28125 39.375 3.03125 \nQ 33.5 -1.21875 25.59375 -1.21875 \nQ 17.1875 -1.21875 11.859375 3.4375 \nQ 6.546875 8.109375 5.46875 16.546875 \nz\nM 41.453125 48.140625 \nQ 41.453125 55.71875 37.421875 60.15625 \nQ 33.40625 64.59375 27.734375 64.59375 \nQ 21.875 64.59375 17.53125 59.8125 \nQ 13.1875 55.03125 13.1875 47.40625 \nQ 13.1875 40.578125 17.3125 36.296875 \nQ 21.4375 32.03125 27.484375 32.03125 \nQ 33.59375 32.03125 37.515625 36.296875 \nQ 41.453125 40.578125 41.453125 48.140625 \nz\n\" id=\"ArialMT-57\"/>\n       </defs>\n       <use xlink:href=\"#ArialMT-49\"/>\n       <use x=\"55.615234\" xlink:href=\"#ArialMT-57\"/>\n       <use x=\"111.230469\" xlink:href=\"#ArialMT-48\"/>\n      </g>\n     </g>\n    </g>\n    <g id=\"text_7\">\n     <!-- height (cm) -->\n     <g style=\"fill:#262626;\" transform=\"translate(181.301875 271.671094)scale(0.12 -0.12)\">\n      <defs>\n       <path d=\"M 6.59375 0 \nL 6.59375 71.578125 \nL 15.375 71.578125 \nL 15.375 45.90625 \nQ 21.53125 53.03125 30.90625 53.03125 \nQ 36.671875 53.03125 40.921875 50.75 \nQ 45.171875 48.484375 47 44.484375 \nQ 48.828125 40.484375 48.828125 32.859375 \nL 48.828125 0 \nL 40.046875 0 \nL 40.046875 32.859375 \nQ 40.046875 39.453125 37.1875 42.453125 \nQ 34.328125 45.453125 29.109375 45.453125 \nQ 25.203125 45.453125 21.75 43.421875 \nQ 18.3125 41.40625 16.84375 37.9375 \nQ 15.375 34.46875 15.375 28.375 \nL 15.375 0 \nz\n\" id=\"ArialMT-104\"/>\n       <path d=\"M 42.09375 16.703125 \nL 51.171875 15.578125 \nQ 49.03125 7.625 43.21875 3.21875 \nQ 37.40625 -1.171875 28.375 -1.171875 \nQ 17 -1.171875 10.328125 5.828125 \nQ 3.65625 12.84375 3.65625 25.484375 \nQ 3.65625 38.578125 10.390625 45.796875 \nQ 17.140625 53.03125 27.875 53.03125 \nQ 38.28125 53.03125 44.875 45.953125 \nQ 51.46875 38.875 51.46875 26.03125 \nQ 51.46875 25.25 51.421875 23.6875 \nL 12.75 23.6875 \nQ 13.234375 15.140625 17.578125 10.59375 \nQ 21.921875 6.0625 28.421875 6.0625 \nQ 33.25 6.0625 36.671875 8.59375 \nQ 40.09375 11.140625 42.09375 16.703125 \nz\nM 13.234375 30.90625 \nL 42.1875 30.90625 \nQ 41.609375 37.453125 38.875 40.71875 \nQ 34.671875 45.796875 27.984375 45.796875 \nQ 21.921875 45.796875 17.796875 41.75 \nQ 13.671875 37.703125 13.234375 30.90625 \nz\n\" id=\"ArialMT-101\"/>\n       <path d=\"M 6.640625 61.46875 \nL 6.640625 71.578125 \nL 15.4375 71.578125 \nL 15.4375 61.46875 \nz\nM 6.640625 0 \nL 6.640625 51.859375 \nL 15.4375 51.859375 \nL 15.4375 0 \nz\n\" id=\"ArialMT-105\"/>\n       <path d=\"M 4.984375 -4.296875 \nL 13.53125 -5.5625 \nQ 14.0625 -9.515625 16.5 -11.328125 \nQ 19.78125 -13.765625 25.4375 -13.765625 \nQ 31.546875 -13.765625 34.859375 -11.328125 \nQ 38.1875 -8.890625 39.359375 -4.5 \nQ 40.046875 -1.8125 39.984375 6.78125 \nQ 34.234375 0 25.640625 0 \nQ 14.9375 0 9.078125 7.71875 \nQ 3.21875 15.4375 3.21875 26.21875 \nQ 3.21875 33.640625 5.90625 39.90625 \nQ 8.59375 46.1875 13.6875 49.609375 \nQ 18.796875 53.03125 25.6875 53.03125 \nQ 34.859375 53.03125 40.828125 45.609375 \nL 40.828125 51.859375 \nL 48.921875 51.859375 \nL 48.921875 7.03125 \nQ 48.921875 -5.078125 46.453125 -10.125 \nQ 44 -15.1875 38.640625 -18.109375 \nQ 33.296875 -21.046875 25.484375 -21.046875 \nQ 16.21875 -21.046875 10.5 -16.875 \nQ 4.78125 -12.703125 4.984375 -4.296875 \nz\nM 12.25 26.859375 \nQ 12.25 16.65625 16.296875 11.96875 \nQ 20.359375 7.28125 26.46875 7.28125 \nQ 32.515625 7.28125 36.609375 11.9375 \nQ 40.71875 16.609375 40.71875 26.5625 \nQ 40.71875 36.078125 36.5 40.90625 \nQ 32.28125 45.75 26.3125 45.75 \nQ 20.453125 45.75 16.34375 40.984375 \nQ 12.25 36.234375 12.25 26.859375 \nz\n\" id=\"ArialMT-103\"/>\n       <path d=\"M 25.78125 7.859375 \nL 27.046875 0.09375 \nQ 23.34375 -0.6875 20.40625 -0.6875 \nQ 15.625 -0.6875 12.984375 0.828125 \nQ 10.359375 2.34375 9.28125 4.8125 \nQ 8.203125 7.28125 8.203125 15.1875 \nL 8.203125 45.015625 \nL 1.765625 45.015625 \nL 1.765625 51.859375 \nL 8.203125 51.859375 \nL 8.203125 64.703125 \nL 16.9375 69.96875 \nL 16.9375 51.859375 \nL 25.78125 51.859375 \nL 25.78125 45.015625 \nL 16.9375 45.015625 \nL 16.9375 14.703125 \nQ 16.9375 10.9375 17.40625 9.859375 \nQ 17.875 8.796875 18.921875 8.15625 \nQ 19.96875 7.515625 21.921875 7.515625 \nQ 23.390625 7.515625 25.78125 7.859375 \nz\n\" id=\"ArialMT-116\"/>\n       <path id=\"ArialMT-32\"/>\n       <path d=\"M 23.390625 -21.046875 \nQ 16.109375 -11.859375 11.078125 0.4375 \nQ 6.0625 12.75 6.0625 25.921875 \nQ 6.0625 37.546875 9.8125 48.1875 \nQ 14.203125 60.546875 23.390625 72.796875 \nL 29.6875 72.796875 \nQ 23.78125 62.640625 21.875 58.296875 \nQ 18.890625 51.5625 17.1875 44.234375 \nQ 15.09375 35.109375 15.09375 25.875 \nQ 15.09375 2.390625 29.6875 -21.046875 \nz\n\" id=\"ArialMT-40\"/>\n       <path d=\"M 40.4375 19 \nL 49.078125 17.875 \nQ 47.65625 8.9375 41.8125 3.875 \nQ 35.984375 -1.171875 27.484375 -1.171875 \nQ 16.84375 -1.171875 10.375 5.78125 \nQ 3.90625 12.75 3.90625 25.734375 \nQ 3.90625 34.125 6.6875 40.421875 \nQ 9.46875 46.734375 15.15625 49.875 \nQ 20.84375 53.03125 27.546875 53.03125 \nQ 35.984375 53.03125 41.359375 48.75 \nQ 46.734375 44.484375 48.25 36.625 \nL 39.703125 35.296875 \nQ 38.484375 40.53125 35.375 43.15625 \nQ 32.28125 45.796875 27.875 45.796875 \nQ 21.234375 45.796875 17.078125 41.03125 \nQ 12.9375 36.28125 12.9375 25.984375 \nQ 12.9375 15.53125 16.9375 10.796875 \nQ 20.953125 6.0625 27.390625 6.0625 \nQ 32.5625 6.0625 36.03125 9.234375 \nQ 39.5 12.40625 40.4375 19 \nz\n\" id=\"ArialMT-99\"/>\n       <path d=\"M 6.59375 0 \nL 6.59375 51.859375 \nL 14.453125 51.859375 \nL 14.453125 44.578125 \nQ 16.890625 48.390625 20.9375 50.703125 \nQ 25 53.03125 30.171875 53.03125 \nQ 35.9375 53.03125 39.625 50.640625 \nQ 43.3125 48.25 44.828125 43.953125 \nQ 50.984375 53.03125 60.84375 53.03125 \nQ 68.5625 53.03125 72.703125 48.75 \nQ 76.859375 44.484375 76.859375 35.59375 \nL 76.859375 0 \nL 68.109375 0 \nL 68.109375 32.671875 \nQ 68.109375 37.9375 67.25 40.25 \nQ 66.40625 42.578125 64.15625 43.984375 \nQ 61.921875 45.40625 58.890625 45.40625 \nQ 53.421875 45.40625 49.796875 41.765625 \nQ 46.1875 38.140625 46.1875 30.125 \nL 46.1875 0 \nL 37.40625 0 \nL 37.40625 33.6875 \nQ 37.40625 39.546875 35.25 42.46875 \nQ 33.109375 45.40625 28.21875 45.40625 \nQ 24.515625 45.40625 21.359375 43.453125 \nQ 18.21875 41.5 16.796875 37.734375 \nQ 15.375 33.984375 15.375 26.90625 \nL 15.375 0 \nz\n\" id=\"ArialMT-109\"/>\n       <path d=\"M 12.359375 -21.046875 \nL 6.0625 -21.046875 \nQ 20.65625 2.390625 20.65625 25.875 \nQ 20.65625 35.0625 18.5625 44.09375 \nQ 16.890625 51.421875 13.921875 58.15625 \nQ 12.015625 62.546875 6.0625 72.796875 \nL 12.359375 72.796875 \nQ 21.53125 60.546875 25.921875 48.1875 \nQ 29.6875 37.546875 29.6875 25.921875 \nQ 29.6875 12.75 24.625 0.4375 \nQ 19.578125 -11.859375 12.359375 -21.046875 \nz\n\" id=\"ArialMT-41\"/>\n      </defs>\n      <use xlink:href=\"#ArialMT-104\"/>\n      <use x=\"55.615234\" xlink:href=\"#ArialMT-101\"/>\n      <use x=\"111.230469\" xlink:href=\"#ArialMT-105\"/>\n      <use x=\"133.447266\" xlink:href=\"#ArialMT-103\"/>\n      <use x=\"189.0625\" xlink:href=\"#ArialMT-104\"/>\n      <use x=\"244.677734\" xlink:href=\"#ArialMT-116\"/>\n      <use x=\"272.460938\" xlink:href=\"#ArialMT-32\"/>\n      <use x=\"300.244141\" xlink:href=\"#ArialMT-40\"/>\n      <use x=\"333.544922\" xlink:href=\"#ArialMT-99\"/>\n      <use x=\"383.544922\" xlink:href=\"#ArialMT-109\"/>\n      <use x=\"466.845703\" xlink:href=\"#ArialMT-41\"/>\n     </g>\n    </g>\n   </g>\n   <g id=\"matplotlib.axis_2\">\n    <g id=\"ytick_1\">\n     <g id=\"line2d_7\">\n      <path clip-path=\"url(#p5da5c7d297)\" d=\"M 43.908438 239.375625 \nL 378.708438 239.375625 \n\" style=\"fill:none;stroke:#ffffff;stroke-linecap:round;\"/>\n     </g>\n     <g id=\"text_8\">\n      <!-- 0 -->\n      <g style=\"fill:#262626;\" transform=\"translate(28.291406 243.312422)scale(0.11 -0.11)\">\n       <use xlink:href=\"#ArialMT-48\"/>\n      </g>\n     </g>\n    </g>\n    <g id=\"ytick_2\">\n     <g id=\"line2d_8\">\n      <path clip-path=\"url(#p5da5c7d297)\" d=\"M 43.908438 204.861339 \nL 378.708438 204.861339 \n\" style=\"fill:none;stroke:#ffffff;stroke-linecap:round;\"/>\n     </g>\n     <g id=\"text_9\">\n      <!-- 2 -->\n      <g style=\"fill:#262626;\" transform=\"translate(28.291406 208.798136)scale(0.11 -0.11)\">\n       <defs>\n        <path d=\"M 50.34375 8.453125 \nL 50.34375 0 \nL 3.03125 0 \nQ 2.9375 3.171875 4.046875 6.109375 \nQ 5.859375 10.9375 9.828125 15.625 \nQ 13.8125 20.3125 21.34375 26.46875 \nQ 33.015625 36.03125 37.109375 41.625 \nQ 41.21875 47.21875 41.21875 52.203125 \nQ 41.21875 57.421875 37.46875 61 \nQ 33.734375 64.59375 27.734375 64.59375 \nQ 21.390625 64.59375 17.578125 60.78125 \nQ 13.765625 56.984375 13.71875 50.25 \nL 4.6875 51.171875 \nQ 5.609375 61.28125 11.65625 66.578125 \nQ 17.71875 71.875 27.9375 71.875 \nQ 38.234375 71.875 44.234375 66.15625 \nQ 50.25 60.453125 50.25 52 \nQ 50.25 47.703125 48.484375 43.546875 \nQ 46.734375 39.40625 42.65625 34.8125 \nQ 38.578125 30.21875 29.109375 22.21875 \nQ 21.1875 15.578125 18.9375 13.203125 \nQ 16.703125 10.84375 15.234375 8.453125 \nz\n\" id=\"ArialMT-50\"/>\n       </defs>\n       <use xlink:href=\"#ArialMT-50\"/>\n      </g>\n     </g>\n    </g>\n    <g id=\"ytick_3\">\n     <g id=\"line2d_9\">\n      <path clip-path=\"url(#p5da5c7d297)\" d=\"M 43.908438 170.347054 \nL 378.708438 170.347054 \n\" style=\"fill:none;stroke:#ffffff;stroke-linecap:round;\"/>\n     </g>\n     <g id=\"text_10\">\n      <!-- 4 -->\n      <g style=\"fill:#262626;\" transform=\"translate(28.291406 174.28385)scale(0.11 -0.11)\">\n       <defs>\n        <path d=\"M 32.328125 0 \nL 32.328125 17.140625 \nL 1.265625 17.140625 \nL 1.265625 25.203125 \nL 33.9375 71.578125 \nL 41.109375 71.578125 \nL 41.109375 25.203125 \nL 50.78125 25.203125 \nL 50.78125 17.140625 \nL 41.109375 17.140625 \nL 41.109375 0 \nz\nM 32.328125 25.203125 \nL 32.328125 57.46875 \nL 9.90625 25.203125 \nz\n\" id=\"ArialMT-52\"/>\n       </defs>\n       <use xlink:href=\"#ArialMT-52\"/>\n      </g>\n     </g>\n    </g>\n    <g id=\"ytick_4\">\n     <g id=\"line2d_10\">\n      <path clip-path=\"url(#p5da5c7d297)\" d=\"M 43.908438 135.832768 \nL 378.708438 135.832768 \n\" style=\"fill:none;stroke:#ffffff;stroke-linecap:round;\"/>\n     </g>\n     <g id=\"text_11\">\n      <!-- 6 -->\n      <g style=\"fill:#262626;\" transform=\"translate(28.291406 139.769565)scale(0.11 -0.11)\">\n       <use xlink:href=\"#ArialMT-54\"/>\n      </g>\n     </g>\n    </g>\n    <g id=\"ytick_5\">\n     <g id=\"line2d_11\">\n      <path clip-path=\"url(#p5da5c7d297)\" d=\"M 43.908438 101.318482 \nL 378.708438 101.318482 \n\" style=\"fill:none;stroke:#ffffff;stroke-linecap:round;\"/>\n     </g>\n     <g id=\"text_12\">\n      <!-- 8 -->\n      <g style=\"fill:#262626;\" transform=\"translate(28.291406 105.255279)scale(0.11 -0.11)\">\n       <use xlink:href=\"#ArialMT-56\"/>\n      </g>\n     </g>\n    </g>\n    <g id=\"ytick_6\">\n     <g id=\"line2d_12\">\n      <path clip-path=\"url(#p5da5c7d297)\" d=\"M 43.908438 66.804196 \nL 378.708438 66.804196 \n\" style=\"fill:none;stroke:#ffffff;stroke-linecap:round;\"/>\n     </g>\n     <g id=\"text_13\">\n      <!-- 10 -->\n      <g style=\"fill:#262626;\" transform=\"translate(22.174375 70.740993)scale(0.11 -0.11)\">\n       <use xlink:href=\"#ArialMT-49\"/>\n       <use x=\"55.615234\" xlink:href=\"#ArialMT-48\"/>\n      </g>\n     </g>\n    </g>\n    <g id=\"ytick_7\">\n     <g id=\"line2d_13\">\n      <path clip-path=\"url(#p5da5c7d297)\" d=\"M 43.908438 32.289911 \nL 378.708438 32.289911 \n\" style=\"fill:none;stroke:#ffffff;stroke-linecap:round;\"/>\n     </g>\n     <g id=\"text_14\">\n      <!-- 12 -->\n      <g style=\"fill:#262626;\" transform=\"translate(22.174375 36.226708)scale(0.11 -0.11)\">\n       <use xlink:href=\"#ArialMT-49\"/>\n       <use x=\"55.615234\" xlink:href=\"#ArialMT-50\"/>\n      </g>\n     </g>\n    </g>\n    <g id=\"text_15\">\n     <!-- number -->\n     <g style=\"fill:#262626;\" transform=\"translate(15.789375 150.9975)rotate(-90)scale(0.12 -0.12)\">\n      <defs>\n       <path d=\"M 6.59375 0 \nL 6.59375 51.859375 \nL 14.5 51.859375 \nL 14.5 44.484375 \nQ 20.21875 53.03125 31 53.03125 \nQ 35.6875 53.03125 39.625 51.34375 \nQ 43.5625 49.65625 45.515625 46.921875 \nQ 47.46875 44.1875 48.25 40.4375 \nQ 48.734375 37.984375 48.734375 31.890625 \nL 48.734375 0 \nL 39.9375 0 \nL 39.9375 31.546875 \nQ 39.9375 36.921875 38.90625 39.578125 \nQ 37.890625 42.234375 35.28125 43.8125 \nQ 32.671875 45.40625 29.15625 45.40625 \nQ 23.53125 45.40625 19.453125 41.84375 \nQ 15.375 38.28125 15.375 28.328125 \nL 15.375 0 \nz\n\" id=\"ArialMT-110\"/>\n       <path d=\"M 40.578125 0 \nL 40.578125 7.625 \nQ 34.515625 -1.171875 24.125 -1.171875 \nQ 19.53125 -1.171875 15.546875 0.578125 \nQ 11.578125 2.34375 9.640625 5 \nQ 7.71875 7.671875 6.9375 11.53125 \nQ 6.390625 14.109375 6.390625 19.734375 \nL 6.390625 51.859375 \nL 15.1875 51.859375 \nL 15.1875 23.09375 \nQ 15.1875 16.21875 15.71875 13.8125 \nQ 16.546875 10.359375 19.234375 8.375 \nQ 21.921875 6.390625 25.875 6.390625 \nQ 29.828125 6.390625 33.296875 8.421875 \nQ 36.765625 10.453125 38.203125 13.9375 \nQ 39.65625 17.4375 39.65625 24.078125 \nL 39.65625 51.859375 \nL 48.4375 51.859375 \nL 48.4375 0 \nz\n\" id=\"ArialMT-117\"/>\n       <path d=\"M 14.703125 0 \nL 6.546875 0 \nL 6.546875 71.578125 \nL 15.328125 71.578125 \nL 15.328125 46.046875 \nQ 20.90625 53.03125 29.546875 53.03125 \nQ 34.328125 53.03125 38.59375 51.09375 \nQ 42.875 49.171875 45.625 45.671875 \nQ 48.390625 42.1875 49.953125 37.25 \nQ 51.515625 32.328125 51.515625 26.703125 \nQ 51.515625 13.375 44.921875 6.09375 \nQ 38.328125 -1.171875 29.109375 -1.171875 \nQ 19.921875 -1.171875 14.703125 6.5 \nz\nM 14.59375 26.3125 \nQ 14.59375 17 17.140625 12.84375 \nQ 21.296875 6.0625 28.375 6.0625 \nQ 34.125 6.0625 38.328125 11.0625 \nQ 42.53125 16.0625 42.53125 25.984375 \nQ 42.53125 36.140625 38.5 40.96875 \nQ 34.46875 45.796875 28.765625 45.796875 \nQ 23 45.796875 18.796875 40.796875 \nQ 14.59375 35.796875 14.59375 26.3125 \nz\n\" id=\"ArialMT-98\"/>\n       <path d=\"M 6.5 0 \nL 6.5 51.859375 \nL 14.40625 51.859375 \nL 14.40625 44 \nQ 17.4375 49.515625 20 51.265625 \nQ 22.5625 53.03125 25.640625 53.03125 \nQ 30.078125 53.03125 34.671875 50.203125 \nL 31.640625 42.046875 \nQ 28.421875 43.953125 25.203125 43.953125 \nQ 22.3125 43.953125 20.015625 42.21875 \nQ 17.71875 40.484375 16.75 37.40625 \nQ 15.28125 32.71875 15.28125 27.15625 \nL 15.28125 0 \nz\n\" id=\"ArialMT-114\"/>\n      </defs>\n      <use xlink:href=\"#ArialMT-110\"/>\n      <use x=\"55.615234\" xlink:href=\"#ArialMT-117\"/>\n      <use x=\"111.230469\" xlink:href=\"#ArialMT-109\"/>\n      <use x=\"194.53125\" xlink:href=\"#ArialMT-98\"/>\n      <use x=\"250.146484\" xlink:href=\"#ArialMT-101\"/>\n      <use x=\"305.761719\" xlink:href=\"#ArialMT-114\"/>\n     </g>\n    </g>\n   </g>\n   <g id=\"patch_3\">\n    <path clip-path=\"url(#p5da5c7d297)\" d=\"M 59.126619 239.375625 \nL 89.562983 239.375625 \nL 89.562983 222.118482 \nL 59.126619 222.118482 \nz\n\" style=\"fill:#4c72b0;stroke:#ffffff;stroke-linejoin:miter;\"/>\n   </g>\n   <g id=\"patch_4\">\n    <path clip-path=\"url(#p5da5c7d297)\" d=\"M 89.562983 239.375625 \nL 119.999347 239.375625 \nL 119.999347 204.861339 \nL 89.562983 204.861339 \nz\n\" style=\"fill:#4c72b0;stroke:#ffffff;stroke-linejoin:miter;\"/>\n   </g>\n   <g id=\"patch_5\">\n    <path clip-path=\"url(#p5da5c7d297)\" d=\"M 119.999347 239.375625 \nL 150.43571 239.375625 \nL 150.43571 187.604196 \nL 119.999347 187.604196 \nz\n\" style=\"fill:#4c72b0;stroke:#ffffff;stroke-linejoin:miter;\"/>\n   </g>\n   <g id=\"patch_6\">\n    <path clip-path=\"url(#p5da5c7d297)\" d=\"M 150.43571 239.375625 \nL 180.872074 239.375625 \nL 180.872074 153.089911 \nL 150.43571 153.089911 \nz\n\" style=\"fill:#4c72b0;stroke:#ffffff;stroke-linejoin:miter;\"/>\n   </g>\n   <g id=\"patch_7\">\n    <path clip-path=\"url(#p5da5c7d297)\" d=\"M 180.872074 239.375625 \nL 211.308438 239.375625 \nL 211.308438 187.604196 \nL 180.872074 187.604196 \nz\n\" style=\"fill:#4c72b0;stroke:#ffffff;stroke-linejoin:miter;\"/>\n   </g>\n   <g id=\"patch_8\">\n    <path clip-path=\"url(#p5da5c7d297)\" d=\"M 211.308437 239.375625 \nL 241.744801 239.375625 \nL 241.744801 135.832768 \nL 211.308437 135.832768 \nz\n\" style=\"fill:#4c72b0;stroke:#ffffff;stroke-linejoin:miter;\"/>\n   </g>\n   <g id=\"patch_9\">\n    <path clip-path=\"url(#p5da5c7d297)\" d=\"M 241.744801 239.375625 \nL 272.181165 239.375625 \nL 272.181165 32.289911 \nL 241.744801 32.289911 \nz\n\" style=\"fill:#4c72b0;stroke:#ffffff;stroke-linejoin:miter;\"/>\n   </g>\n   <g id=\"patch_10\">\n    <path clip-path=\"url(#p5da5c7d297)\" d=\"M 272.181165 239.375625 \nL 302.617528 239.375625 \nL 302.617528 187.604196 \nL 272.181165 187.604196 \nz\n\" style=\"fill:#4c72b0;stroke:#ffffff;stroke-linejoin:miter;\"/>\n   </g>\n   <g id=\"patch_11\">\n    <path clip-path=\"url(#p5da5c7d297)\" d=\"M 302.617528 239.375625 \nL 333.053892 239.375625 \nL 333.053892 153.089911 \nL 302.617528 153.089911 \nz\n\" style=\"fill:#4c72b0;stroke:#ffffff;stroke-linejoin:miter;\"/>\n   </g>\n   <g id=\"patch_12\">\n    <path clip-path=\"url(#p5da5c7d297)\" d=\"M 333.053892 239.375625 \nL 363.490256 239.375625 \nL 363.490256 204.861339 \nL 333.053892 204.861339 \nz\n\" style=\"fill:#4c72b0;stroke:#ffffff;stroke-linejoin:miter;\"/>\n   </g>\n   <g id=\"patch_13\">\n    <path d=\"M 43.908438 239.375625 \nL 43.908438 21.935625 \n\" style=\"fill:none;stroke:#ffffff;stroke-linecap:square;stroke-linejoin:miter;stroke-width:1.25;\"/>\n   </g>\n   <g id=\"patch_14\">\n    <path d=\"M 378.708438 239.375625 \nL 378.708438 21.935625 \n\" style=\"fill:none;stroke:#ffffff;stroke-linecap:square;stroke-linejoin:miter;stroke-width:1.25;\"/>\n   </g>\n   <g id=\"patch_15\">\n    <path d=\"M 43.908437 239.375625 \nL 378.708437 239.375625 \n\" style=\"fill:none;stroke:#ffffff;stroke-linecap:square;stroke-linejoin:miter;stroke-width:1.25;\"/>\n   </g>\n   <g id=\"patch_16\">\n    <path d=\"M 43.908437 21.935625 \nL 378.708437 21.935625 \n\" style=\"fill:none;stroke:#ffffff;stroke-linecap:square;stroke-linejoin:miter;stroke-width:1.25;\"/>\n   </g>\n   <g id=\"text_16\">\n    <!-- Height Distribution of US Presidents -->\n    <g style=\"fill:#262626;\" transform=\"translate(115.602813 15.935625)scale(0.12 -0.12)\">\n     <defs>\n      <path d=\"M 8.015625 0 \nL 8.015625 71.578125 \nL 17.484375 71.578125 \nL 17.484375 42.1875 \nL 54.6875 42.1875 \nL 54.6875 71.578125 \nL 64.15625 71.578125 \nL 64.15625 0 \nL 54.6875 0 \nL 54.6875 33.734375 \nL 17.484375 33.734375 \nL 17.484375 0 \nz\n\" id=\"ArialMT-72\"/>\n      <path d=\"M 7.71875 0 \nL 7.71875 71.578125 \nL 32.375 71.578125 \nQ 40.71875 71.578125 45.125 70.5625 \nQ 51.265625 69.140625 55.609375 65.4375 \nQ 61.28125 60.640625 64.078125 53.1875 \nQ 66.890625 45.75 66.890625 36.1875 \nQ 66.890625 28.03125 64.984375 21.734375 \nQ 63.09375 15.4375 60.109375 11.296875 \nQ 57.125 7.171875 53.578125 4.796875 \nQ 50.046875 2.4375 45.046875 1.21875 \nQ 40.046875 0 33.546875 0 \nz\nM 17.1875 8.453125 \nL 32.46875 8.453125 \nQ 39.546875 8.453125 43.578125 9.765625 \nQ 47.609375 11.078125 50 13.484375 \nQ 53.375 16.84375 55.25 22.53125 \nQ 57.125 28.21875 57.125 36.328125 \nQ 57.125 47.5625 53.4375 53.59375 \nQ 49.75 59.625 44.484375 61.671875 \nQ 40.671875 63.140625 32.234375 63.140625 \nL 17.1875 63.140625 \nz\n\" id=\"ArialMT-68\"/>\n      <path d=\"M 3.078125 15.484375 \nL 11.765625 16.84375 \nQ 12.5 11.625 15.84375 8.84375 \nQ 19.1875 6.0625 25.203125 6.0625 \nQ 31.25 6.0625 34.171875 8.515625 \nQ 37.109375 10.984375 37.109375 14.3125 \nQ 37.109375 17.28125 34.515625 19 \nQ 32.71875 20.171875 25.53125 21.96875 \nQ 15.875 24.421875 12.140625 26.203125 \nQ 8.40625 27.984375 6.46875 31.125 \nQ 4.546875 34.28125 4.546875 38.09375 \nQ 4.546875 41.546875 6.125 44.5 \nQ 7.71875 47.46875 10.453125 49.421875 \nQ 12.5 50.921875 16.03125 51.96875 \nQ 19.578125 53.03125 23.640625 53.03125 \nQ 29.734375 53.03125 34.34375 51.265625 \nQ 38.96875 49.515625 41.15625 46.5 \nQ 43.359375 43.5 44.1875 38.484375 \nL 35.59375 37.3125 \nQ 35.015625 41.3125 32.203125 43.546875 \nQ 29.390625 45.796875 24.265625 45.796875 \nQ 18.21875 45.796875 15.625 43.796875 \nQ 13.03125 41.796875 13.03125 39.109375 \nQ 13.03125 37.40625 14.109375 36.03125 \nQ 15.1875 34.625 17.484375 33.6875 \nQ 18.796875 33.203125 25.25 31.453125 \nQ 34.578125 28.953125 38.25 27.359375 \nQ 41.9375 25.78125 44.03125 22.75 \nQ 46.140625 19.734375 46.140625 15.234375 \nQ 46.140625 10.84375 43.578125 6.953125 \nQ 41.015625 3.078125 36.171875 0.953125 \nQ 31.34375 -1.171875 25.25 -1.171875 \nQ 15.140625 -1.171875 9.84375 3.03125 \nQ 4.546875 7.234375 3.078125 15.484375 \nz\n\" id=\"ArialMT-115\"/>\n      <path d=\"M 3.328125 25.921875 \nQ 3.328125 40.328125 11.328125 47.265625 \nQ 18.015625 53.03125 27.640625 53.03125 \nQ 38.328125 53.03125 45.109375 46.015625 \nQ 51.90625 39.015625 51.90625 26.65625 \nQ 51.90625 16.65625 48.90625 10.90625 \nQ 45.90625 5.171875 40.15625 2 \nQ 34.421875 -1.171875 27.640625 -1.171875 \nQ 16.75 -1.171875 10.03125 5.8125 \nQ 3.328125 12.796875 3.328125 25.921875 \nz\nM 12.359375 25.921875 \nQ 12.359375 15.96875 16.703125 11.015625 \nQ 21.046875 6.0625 27.640625 6.0625 \nQ 34.1875 6.0625 38.53125 11.03125 \nQ 42.875 16.015625 42.875 26.21875 \nQ 42.875 35.84375 38.5 40.796875 \nQ 34.125 45.75 27.640625 45.75 \nQ 21.046875 45.75 16.703125 40.8125 \nQ 12.359375 35.890625 12.359375 25.921875 \nz\n\" id=\"ArialMT-111\"/>\n      <path d=\"M 8.6875 0 \nL 8.6875 45.015625 \nL 0.921875 45.015625 \nL 0.921875 51.859375 \nL 8.6875 51.859375 \nL 8.6875 57.375 \nQ 8.6875 62.59375 9.625 65.140625 \nQ 10.890625 68.5625 14.078125 70.671875 \nQ 17.28125 72.796875 23.046875 72.796875 \nQ 26.765625 72.796875 31.25 71.921875 \nL 29.9375 64.265625 \nQ 27.203125 64.75 24.75 64.75 \nQ 20.75 64.75 19.09375 63.03125 \nQ 17.4375 61.328125 17.4375 56.640625 \nL 17.4375 51.859375 \nL 27.546875 51.859375 \nL 27.546875 45.015625 \nL 17.4375 45.015625 \nL 17.4375 0 \nz\n\" id=\"ArialMT-102\"/>\n      <path d=\"M 54.6875 71.578125 \nL 64.15625 71.578125 \nL 64.15625 30.21875 \nQ 64.15625 19.4375 61.71875 13.078125 \nQ 59.28125 6.734375 52.90625 2.75 \nQ 46.53125 -1.21875 36.1875 -1.21875 \nQ 26.125 -1.21875 19.71875 2.25 \nQ 13.328125 5.71875 10.59375 12.28125 \nQ 7.859375 18.84375 7.859375 30.21875 \nL 7.859375 71.578125 \nL 17.328125 71.578125 \nL 17.328125 30.28125 \nQ 17.328125 20.953125 19.0625 16.53125 \nQ 20.796875 12.109375 25.015625 9.71875 \nQ 29.25 7.328125 35.359375 7.328125 \nQ 45.796875 7.328125 50.234375 12.0625 \nQ 54.6875 16.796875 54.6875 30.28125 \nz\n\" id=\"ArialMT-85\"/>\n      <path d=\"M 4.5 23 \nL 13.421875 23.78125 \nQ 14.0625 18.40625 16.375 14.96875 \nQ 18.703125 11.53125 23.578125 9.40625 \nQ 28.46875 7.28125 34.578125 7.28125 \nQ 39.984375 7.28125 44.140625 8.890625 \nQ 48.296875 10.5 50.3125 13.296875 \nQ 52.34375 16.109375 52.34375 19.4375 \nQ 52.34375 22.796875 50.390625 25.3125 \nQ 48.4375 27.828125 43.953125 29.546875 \nQ 41.0625 30.671875 31.203125 33.03125 \nQ 21.34375 35.40625 17.390625 37.5 \nQ 12.25 40.1875 9.734375 44.15625 \nQ 7.234375 48.140625 7.234375 53.078125 \nQ 7.234375 58.5 10.296875 63.203125 \nQ 13.375 67.921875 19.28125 70.359375 \nQ 25.203125 72.796875 32.421875 72.796875 \nQ 40.375 72.796875 46.453125 70.234375 \nQ 52.546875 67.671875 55.8125 62.6875 \nQ 59.078125 57.71875 59.328125 51.421875 \nL 50.25 50.734375 \nQ 49.515625 57.515625 45.28125 60.984375 \nQ 41.0625 64.453125 32.8125 64.453125 \nQ 24.21875 64.453125 20.28125 61.296875 \nQ 16.359375 58.15625 16.359375 53.71875 \nQ 16.359375 49.859375 19.140625 47.359375 \nQ 21.875 44.875 33.421875 42.265625 \nQ 44.96875 39.65625 49.265625 37.703125 \nQ 55.515625 34.8125 58.484375 30.390625 \nQ 61.46875 25.984375 61.46875 20.21875 \nQ 61.46875 14.5 58.203125 9.4375 \nQ 54.9375 4.390625 48.796875 1.578125 \nQ 42.671875 -1.21875 35.015625 -1.21875 \nQ 25.296875 -1.21875 18.71875 1.609375 \nQ 12.15625 4.4375 8.421875 10.125 \nQ 4.6875 15.828125 4.5 23 \nz\n\" id=\"ArialMT-83\"/>\n      <path d=\"M 7.71875 0 \nL 7.71875 71.578125 \nL 34.71875 71.578125 \nQ 41.84375 71.578125 45.609375 70.90625 \nQ 50.875 70.015625 54.4375 67.546875 \nQ 58.015625 65.09375 60.1875 60.640625 \nQ 62.359375 56.203125 62.359375 50.875 \nQ 62.359375 41.75 56.546875 35.421875 \nQ 50.734375 29.109375 35.546875 29.109375 \nL 17.1875 29.109375 \nL 17.1875 0 \nz\nM 17.1875 37.546875 \nL 35.6875 37.546875 \nQ 44.875 37.546875 48.734375 40.96875 \nQ 52.59375 44.390625 52.59375 50.59375 \nQ 52.59375 55.078125 50.3125 58.265625 \nQ 48.046875 61.46875 44.34375 62.5 \nQ 41.9375 63.140625 35.5 63.140625 \nL 17.1875 63.140625 \nz\n\" id=\"ArialMT-80\"/>\n      <path d=\"M 40.234375 0 \nL 40.234375 6.546875 \nQ 35.296875 -1.171875 25.734375 -1.171875 \nQ 19.53125 -1.171875 14.328125 2.25 \nQ 9.125 5.671875 6.265625 11.796875 \nQ 3.421875 17.921875 3.421875 25.875 \nQ 3.421875 33.640625 6 39.96875 \nQ 8.59375 46.296875 13.765625 49.65625 \nQ 18.953125 53.03125 25.34375 53.03125 \nQ 30.03125 53.03125 33.6875 51.046875 \nQ 37.359375 49.078125 39.65625 45.90625 \nL 39.65625 71.578125 \nL 48.390625 71.578125 \nL 48.390625 0 \nz\nM 12.453125 25.875 \nQ 12.453125 15.921875 16.640625 10.984375 \nQ 20.84375 6.0625 26.5625 6.0625 \nQ 32.328125 6.0625 36.34375 10.765625 \nQ 40.375 15.484375 40.375 25.140625 \nQ 40.375 35.796875 36.265625 40.765625 \nQ 32.171875 45.75 26.171875 45.75 \nQ 20.3125 45.75 16.375 40.96875 \nQ 12.453125 36.1875 12.453125 25.875 \nz\n\" id=\"ArialMT-100\"/>\n     </defs>\n     <use xlink:href=\"#ArialMT-72\"/>\n     <use x=\"72.216797\" xlink:href=\"#ArialMT-101\"/>\n     <use x=\"127.832031\" xlink:href=\"#ArialMT-105\"/>\n     <use x=\"150.048828\" xlink:href=\"#ArialMT-103\"/>\n     <use x=\"205.664062\" xlink:href=\"#ArialMT-104\"/>\n     <use x=\"261.279297\" xlink:href=\"#ArialMT-116\"/>\n     <use x=\"289.0625\" xlink:href=\"#ArialMT-32\"/>\n     <use x=\"316.845703\" xlink:href=\"#ArialMT-68\"/>\n     <use x=\"389.0625\" xlink:href=\"#ArialMT-105\"/>\n     <use x=\"411.279297\" xlink:href=\"#ArialMT-115\"/>\n     <use x=\"461.279297\" xlink:href=\"#ArialMT-116\"/>\n     <use x=\"489.0625\" xlink:href=\"#ArialMT-114\"/>\n     <use x=\"522.363281\" xlink:href=\"#ArialMT-105\"/>\n     <use x=\"544.580078\" xlink:href=\"#ArialMT-98\"/>\n     <use x=\"600.195312\" xlink:href=\"#ArialMT-117\"/>\n     <use x=\"655.810547\" xlink:href=\"#ArialMT-116\"/>\n     <use x=\"683.59375\" xlink:href=\"#ArialMT-105\"/>\n     <use x=\"705.810547\" xlink:href=\"#ArialMT-111\"/>\n     <use x=\"761.425781\" xlink:href=\"#ArialMT-110\"/>\n     <use x=\"817.041016\" xlink:href=\"#ArialMT-32\"/>\n     <use x=\"844.824219\" xlink:href=\"#ArialMT-111\"/>\n     <use x=\"900.439453\" xlink:href=\"#ArialMT-102\"/>\n     <use x=\"928.222656\" xlink:href=\"#ArialMT-32\"/>\n     <use x=\"956.005859\" xlink:href=\"#ArialMT-85\"/>\n     <use x=\"1028.222656\" xlink:href=\"#ArialMT-83\"/>\n     <use x=\"1094.921875\" xlink:href=\"#ArialMT-32\"/>\n     <use x=\"1122.705078\" xlink:href=\"#ArialMT-80\"/>\n     <use x=\"1189.404297\" xlink:href=\"#ArialMT-114\"/>\n     <use x=\"1222.705078\" xlink:href=\"#ArialMT-101\"/>\n     <use x=\"1278.320312\" xlink:href=\"#ArialMT-115\"/>\n     <use x=\"1328.320312\" xlink:href=\"#ArialMT-105\"/>\n     <use x=\"1350.537109\" xlink:href=\"#ArialMT-100\"/>\n     <use x=\"1406.152344\" xlink:href=\"#ArialMT-101\"/>\n     <use x=\"1461.767578\" xlink:href=\"#ArialMT-110\"/>\n     <use x=\"1517.382812\" xlink:href=\"#ArialMT-116\"/>\n     <use x=\"1545.166016\" xlink:href=\"#ArialMT-115\"/>\n    </g>\n   </g>\n  </g>\n </g>\n <defs>\n  <clipPath id=\"p5da5c7d297\">\n   <rect height=\"217.44\" width=\"334.8\" x=\"43.908438\" y=\"21.935625\"/>\n  </clipPath>\n </defs>\n</svg>\n",
      "image/png": "[encoded data removed]"
     },
     "metadata": {}
    }
   ],
   "source": [
    "plt.hist(heights)\n",
    "plt.title('Height Distribution of US Presidents')\n",
    "plt.xlabel('height (cm)')\n",
    "plt.ylabel('number')"
   ]
  },
  {
   "cell_type": "code",
   "execution_count": null,
   "metadata": {},
   "outputs": [],
   "source": []
  }
 ],
 "metadata": {
  "kernelspec": {
   "name": "python385jvsc74a57bd0dca0ade3e726a953b501b15e8e990130d2b7799f14cfd9f4271676035ebe5511",
   "display_name": "Python 3.8.5 64-bit ('base': conda)"
  },
  "language_info": {
   "codemirror_mode": {
    "name": "ipython",
    "version": 3
   },
   "file_extension": ".py",
   "mimetype": "text/x-python",
   "name": "python",
   "nbconvert_exporter": "python",
   "pygments_lexer": "ipython3",
   "version": "3.8.5"
  }
 },
 "nbformat": 4,
 "nbformat_minor": 4
}