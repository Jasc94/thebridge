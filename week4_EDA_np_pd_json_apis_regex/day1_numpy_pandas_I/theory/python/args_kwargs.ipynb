{
 "cells": [
  {
   "cell_type": "markdown",
   "metadata": {},
   "source": [
    "Parámetros *args y *kwargs en Python"
   ]
  },
  {
   "source": [
    "# Args"
   ],
   "cell_type": "markdown",
   "metadata": {}
  },
  {
   "cell_type": "code",
   "execution_count": 1,
   "metadata": {},
   "outputs": [
    {
     "output_type": "stream",
     "name": "stdout",
     "text": [
      "<class 'tuple'>\n(2, ['g', 'h'], 9)\n"
     ]
    }
   ],
   "source": [
    "def nombre_args(*args):\n",
    "    print(type(args))\n",
    "    print(args)\n",
    "\n",
    "x = 2\n",
    "y = ['g', 'h']\n",
    "\n",
    "nombre_args(x, y, 9)"
   ]
  },
  {
   "cell_type": "code",
   "execution_count": 2,
   "metadata": {},
   "outputs": [
    {
     "output_type": "execute_result",
     "data": {
      "text/plain": [
       "10"
      ]
     },
     "metadata": {},
     "execution_count": 2
    }
   ],
   "source": [
    "def suma_numeros(*args):\n",
    "    return sum(args)\n",
    "\n",
    "a = 1\n",
    "b = 2\n",
    "c = 3\n",
    "d = 4\n",
    "\n",
    "suma_numeros(a, b, c, d)"
   ]
  },
  {
   "cell_type": "code",
   "execution_count": 3,
   "metadata": {},
   "outputs": [
    {
     "output_type": "execute_result",
     "data": {
      "text/plain": [
       "29"
      ]
     },
     "metadata": {},
     "execution_count": 3
    }
   ],
   "source": [
    "suma_numeros(2, 5, 6, 12, 4)"
   ]
  },
  {
   "cell_type": "code",
   "execution_count": 5,
   "metadata": {},
   "outputs": [
    {
     "output_type": "stream",
     "name": "stdout",
     "text": [
      "x: 5\nargs: (6, 7)\n13\n"
     ]
    }
   ],
   "source": [
    "def suma_numeros_2(x, *args):\n",
    "    print('x:', x)\n",
    "    print('args:', args)\n",
    "    print(sum(args))\n",
    "\n",
    "suma_numeros_2(5, 6, 7)"
   ]
  },
  {
   "cell_type": "code",
   "execution_count": 6,
   "metadata": {},
   "outputs": [
    {
     "output_type": "stream",
     "name": "stdout",
     "text": [
      "x: 14\nargs: ()\n0\n"
     ]
    }
   ],
   "source": [
    "suma_numeros_2(14)"
   ]
  },
  {
   "source": [
    "Cuando usamos *args, no podemos asignar ningún nombre de variable dentro de la función.\n",
    "\n",
    "Ejemplo: suma_numeros_2(x = 2, 5, 7) --> Esto da error"
   ],
   "cell_type": "markdown",
   "metadata": {}
  },
  {
   "source": [
    "# Kwrags"
   ],
   "cell_type": "markdown",
   "metadata": {}
  },
  {
   "cell_type": "code",
   "execution_count": 10,
   "metadata": {},
   "outputs": [
    {
     "output_type": "stream",
     "name": "stdout",
     "text": [
      "<class 'dict'>\n{'x': 2, 'p': 3}\n"
     ]
    }
   ],
   "source": [
    "def funcion_kwargs(**kwargs):\n",
    "    print(type(kwargs))\n",
    "    print(kwargs)\n",
    "\n",
    "funcion_kwargs(x = 2, p = 3)"
   ]
  },
  {
   "source": [
    "La función kwargs guarda los parámetros que le metamos, con su nombre, dentro de un diccionario"
   ],
   "cell_type": "markdown",
   "metadata": {}
  },
  {
   "cell_type": "code",
   "execution_count": 13,
   "metadata": {},
   "outputs": [
    {
     "output_type": "stream",
     "name": "stdout",
     "text": [
      "x: 2\n<class 'dict'>\n{'p': 3}\n"
     ]
    }
   ],
   "source": [
    "def funcion_kwargs_2(x, **kwargs):\n",
    "    print('x:', x)\n",
    "    print(type(kwargs))\n",
    "    print(kwargs)\n",
    "\n",
    "funcion_kwargs_2(x = 2, p = 3)"
   ]
  },
  {
   "cell_type": "code",
   "execution_count": 12,
   "metadata": {},
   "outputs": [
    {
     "output_type": "stream",
     "name": "stdout",
     "text": [
      "x: 2\n<class 'dict'>\n{'p': 3, 's': [-8, -9]}\n"
     ]
    }
   ],
   "source": [
    "def funcion_kwargs_3(x, b = 4, **kwargs):\n",
    "    print('x:', x)\n",
    "    print(type(kwargs))\n",
    "    print(kwargs)\n",
    "\n",
    "funcion_kwargs_3(x = 2, p = 3, s = [-8, -9])"
   ]
  },
  {
   "cell_type": "code",
   "execution_count": 14,
   "metadata": {},
   "outputs": [
    {
     "output_type": "stream",
     "name": "stdout",
     "text": [
      "x: 2\n<class 'dict'>\n{'p': 5, 's': [4, 5]}\n"
     ]
    }
   ],
   "source": [
    "# También puedo introducir los parámetros en diferente orden\n",
    "\n",
    "funcion_kwargs_3(p = 5, s = [4, 5], x = 2)"
   ]
  },
  {
   "cell_type": "code",
   "execution_count": 17,
   "metadata": {},
   "outputs": [
    {
     "output_type": "stream",
     "name": "stdout",
     "text": [
      "x: 15\n<class 'dict'>\n{'s': [4, 5]}\n"
     ]
    }
   ],
   "source": [
    "# Sin pasarle el nombre de los argumentos, simplemente se asignan por orden, incluyendo aquellos parámetros que ya tienen algún valor por\n",
    "# defecto\n",
    "\n",
    "funcion_kwargs_3(15, 20, s = [4, 5])"
   ]
  },
  {
   "cell_type": "code",
   "execution_count": 18,
   "metadata": {},
   "outputs": [
    {
     "output_type": "error",
     "ename": "TypeError",
     "evalue": "funcion_kwargs_3() takes from 1 to 2 positional arguments but 3 were given",
     "traceback": [
      "\u001b[0;31m---------------------------------------------------------------------------\u001b[0m",
      "\u001b[0;31mTypeError\u001b[0m                                 Traceback (most recent call last)",
      "\u001b[0;32m<ipython-input-18-c0d5cae36a58>\u001b[0m in \u001b[0;36m<module>\u001b[0;34m\u001b[0m\n\u001b[0;32m----> 1\u001b[0;31m \u001b[0mfuncion_kwargs_3\u001b[0m\u001b[0;34m(\u001b[0m\u001b[0;36m2\u001b[0m\u001b[0;34m,\u001b[0m \u001b[0;34m-\u001b[0m\u001b[0;36m1\u001b[0m\u001b[0;34m,\u001b[0m \u001b[0;34m-\u001b[0m\u001b[0;36m9999\u001b[0m\u001b[0;34m,\u001b[0m \u001b[0mp\u001b[0m \u001b[0;34m=\u001b[0m \u001b[0;36m3\u001b[0m\u001b[0;34m,\u001b[0m \u001b[0ms\u001b[0m \u001b[0;34m=\u001b[0m \u001b[0;34m[\u001b[0m\u001b[0;36m2\u001b[0m\u001b[0;34m,\u001b[0m \u001b[0;34m's'\u001b[0m\u001b[0;34m]\u001b[0m\u001b[0;34m)\u001b[0m\u001b[0;34m\u001b[0m\u001b[0;34m\u001b[0m\u001b[0m\n\u001b[0m",
      "\u001b[0;31mTypeError\u001b[0m: funcion_kwargs_3() takes from 1 to 2 positional arguments but 3 were given"
     ]
    }
   ],
   "source": [
    "# Esto da error porque los dos primeros parámetros están cubiertos (x y b), y el -9999 cae en el kwargs que necesita sí o sí que definamos el parámetro\n",
    "funcion_kwargs_3(2, -1, -9999, p = 3, s = [2, 's'])"
   ]
  },
  {
   "source": [
    "# Si utilizamos *args y **kwargs, se pone primero *args (un asterisco) y después **kwargs (dos asteriscos)"
   ],
   "cell_type": "code",
   "metadata": {},
   "execution_count": 19,
   "outputs": []
  },
  {
   "cell_type": "code",
   "execution_count": 21,
   "metadata": {},
   "outputs": [
    {
     "output_type": "stream",
     "name": "stdout",
     "text": [
      "x: 1\nb: 4\n<class 'tuple'>\n()\n<class 'dict'>\n{}\n"
     ]
    }
   ],
   "source": [
    "def funcion_args_kwargs(x, b = 4, *args, **kwargs):\n",
    "    print('x:', x)\n",
    "    print('b:', b)\n",
    "    print(type(args))\n",
    "    print(args)\n",
    "    print(type(kwargs))\n",
    "    print(kwargs)\n",
    "\n",
    "funcion_args_kwargs(1)"
   ]
  },
  {
   "cell_type": "code",
   "execution_count": 22,
   "metadata": {},
   "outputs": [
    {
     "output_type": "stream",
     "name": "stdout",
     "text": [
      "x: 1\nb: 4\n<class 'tuple'>\n()\n<class 'dict'>\n{'k': 2}\n"
     ]
    }
   ],
   "source": [
    "# k va a kwargs\n",
    "funcion_args_kwargs(x = 1, k = 2)"
   ]
  },
  {
   "cell_type": "code",
   "execution_count": 23,
   "metadata": {},
   "outputs": [
    {
     "output_type": "stream",
     "name": "stdout",
     "text": [
      "x: 1\nb: 2\n<class 'tuple'>\n(3,)\n<class 'dict'>\n{}\n"
     ]
    }
   ],
   "source": [
    "# El 1 va a la x, el 2 va a la b y el 3 va a *args\n",
    "funcion_args_kwargs(1, 2, 3)"
   ]
  },
  {
   "cell_type": "code",
   "execution_count": 24,
   "metadata": {},
   "outputs": [
    {
     "output_type": "stream",
     "name": "stdout",
     "text": [
      "x: 1\nb: 2\n<class 'tuple'>\n(3,)\n<class 'dict'>\n{'j': 6}\n"
     ]
    }
   ],
   "source": [
    "# Igual que antes + la j va a **kwargs\n",
    "funcion_args_kwargs(1, 2, 3, j = 6)"
   ]
  },
  {
   "cell_type": "code",
   "execution_count": 25,
   "metadata": {},
   "outputs": [
    {
     "output_type": "stream",
     "name": "stdout",
     "text": [
      "x: 1\nb: 4\n<class 'tuple'>\n()\n<class 'dict'>\n{'j': 6}\n"
     ]
    }
   ],
   "source": [
    "# En este caso, 1 va a la x y j va a **kwargs\n",
    "funcion_args_kwargs(1, j = 6)"
   ]
  },
  {
   "cell_type": "code",
   "execution_count": 27,
   "metadata": {},
   "outputs": [
    {
     "output_type": "stream",
     "name": "stdout",
     "text": [
      "x: 1\nb: 2\n<class 'tuple'>\n(3, 9999)\n<class 'dict'>\n{'j': 6}\n"
     ]
    }
   ],
   "source": [
    "# x -> 1, b -> 2, 3, 9999 -> *args, 6 -> **kwargs\n",
    "funcion_args_kwargs(1, 2, 3, 9999, j = 6)"
   ]
  },
  {
   "cell_type": "code",
   "execution_count": 29,
   "metadata": {},
   "outputs": [
    {
     "output_type": "error",
     "ename": "TypeError",
     "evalue": "funcion_args_kwargs() got multiple values for argument 'b'",
     "traceback": [
      "\u001b[0;31m---------------------------------------------------------------------------\u001b[0m",
      "\u001b[0;31mTypeError\u001b[0m                                 Traceback (most recent call last)",
      "\u001b[0;32m<ipython-input-29-661aebf5f775>\u001b[0m in \u001b[0;36m<module>\u001b[0;34m\u001b[0m\n\u001b[1;32m      1\u001b[0m \u001b[0;31m# Da error porque b no se puede asignar después de los **kwargs\u001b[0m\u001b[0;34m\u001b[0m\u001b[0;34m\u001b[0m\u001b[0;34m\u001b[0m\u001b[0m\n\u001b[0;32m----> 2\u001b[0;31m \u001b[0mfuncion_args_kwargs\u001b[0m\u001b[0;34m(\u001b[0m\u001b[0;36m1\u001b[0m\u001b[0;34m,\u001b[0m \u001b[0;36m2\u001b[0m\u001b[0;34m,\u001b[0m \u001b[0;36m3\u001b[0m\u001b[0;34m,\u001b[0m \u001b[0;36m9999\u001b[0m\u001b[0;34m,\u001b[0m \u001b[0mj\u001b[0m \u001b[0;34m=\u001b[0m \u001b[0;36m6\u001b[0m\u001b[0;34m,\u001b[0m \u001b[0mb\u001b[0m \u001b[0;34m=\u001b[0m \u001b[0;36m5\u001b[0m\u001b[0;34m)\u001b[0m\u001b[0;34m\u001b[0m\u001b[0;34m\u001b[0m\u001b[0m\n\u001b[0m",
      "\u001b[0;31mTypeError\u001b[0m: funcion_args_kwargs() got multiple values for argument 'b'"
     ]
    }
   ],
   "source": [
    "# Da error porque b no se puede asignar después de los **kwargs\n",
    "funcion_args_kwargs(1, 2, 3, 9999, j = 6, b = 5)"
   ]
  },
  {
   "cell_type": "code",
   "execution_count": 30,
   "metadata": {},
   "outputs": [
    {
     "output_type": "error",
     "ename": "SyntaxError",
     "evalue": "positional argument follows keyword argument (<ipython-input-30-9157b0143f7d>, line 2)",
     "traceback": [
      "\u001b[0;36m  File \u001b[0;32m\"<ipython-input-30-9157b0143f7d>\"\u001b[0;36m, line \u001b[0;32m2\u001b[0m\n\u001b[0;31m    funcion_args_kwargs(1, 2, 3, 9999, j = 6, 5)\u001b[0m\n\u001b[0m                                              ^\u001b[0m\n\u001b[0;31mSyntaxError\u001b[0m\u001b[0;31m:\u001b[0m positional argument follows keyword argument\n"
     ]
    }
   ],
   "source": [
    "# Tampoco funciona porque una vez que pongo un igual, ya todos los parámetros a la derecha tienen que ser con igual\n",
    "funcion_args_kwargs(1, 2, 3, 9999, j = 6, 5)"
   ]
  },
  {
   "cell_type": "code",
   "execution_count": 32,
   "metadata": {},
   "outputs": [
    {
     "output_type": "stream",
     "name": "stdout",
     "text": [
      "x: 1\nb: 2\n<class 'tuple'>\n(3, 9999, {5: 'po'})\n<class 'dict'>\n{'j': 6}\n"
     ]
    }
   ],
   "source": [
    "# Esto funciona, porque d no representa ningún nombre de parámetro. Es decir, es como meterle un parámetro sin nombre\n",
    "d = {5 : 'po'}\n",
    "funcion_args_kwargs(1, 2, 3, 9999, d, j = 6,)"
   ]
  },
  {
   "cell_type": "code",
   "execution_count": 36,
   "metadata": {},
   "outputs": [
    {
     "output_type": "stream",
     "name": "stdout",
     "text": [
      "x: 1\nb: 2\n<class 'tuple'>\n(3, 9999, {5: 'po'})\n<class 'dict'>\n{'d': {5: 'po'}, 'j': 6}\nkwargs['d']: {5: 'po'}\n"
     ]
    }
   ],
   "source": [
    "def funcion_args_kwargs_2(x, b = 4, *args, **kwargs):\n",
    "    print('x:', x)\n",
    "    print('b:', b)\n",
    "    print(type(args))\n",
    "    print(args)\n",
    "    print(type(kwargs))\n",
    "    print(kwargs)\n",
    "    print(\"kwargs['d']:\", kwargs['d'])\n",
    "\n",
    "d = {5 : 'po'}\n",
    "funcion_args_kwargs_2(1, 2, 3, 9999, d, d = d, j = 6,)"
   ]
  },
  {
   "cell_type": "code",
   "execution_count": 37,
   "metadata": {},
   "outputs": [],
   "source": [
    "####\n",
    "s = 'Stri\\'ng'\n",
    "f = \"Str'ing\""
   ]
  },
  {
   "cell_type": "code",
   "execution_count": null,
   "metadata": {},
   "outputs": [],
   "source": []
  }
 ],
 "metadata": {
  "language_info": {
   "name": "python",
   "codemirror_mode": {
    "name": "ipython",
    "version": 3
   },
   "version": "3.8.5"
  },
  "orig_nbformat": 2,
  "file_extension": ".py",
  "mimetype": "text/x-python",
  "name": "python",
  "npconvert_exporter": "python",
  "pygments_lexer": "ipython3",
  "version": 3,
  "kernelspec": {
   "name": "python385jvsc74a57bd0dca0ade3e726a953b501b15e8e990130d2b7799f14cfd9f4271676035ebe5511",
   "display_name": "Python 3.8.5 64-bit ('base': conda)"
  }
 },
 "nbformat": 4,
 "nbformat_minor": 2
}