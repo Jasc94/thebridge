{
 "metadata": {
  "language_info": {
   "codemirror_mode": {
    "name": "ipython",
    "version": 3
   },
   "file_extension": ".py",
   "mimetype": "text/x-python",
   "name": "python",
   "nbconvert_exporter": "python",
   "pygments_lexer": "ipython3",
   "version": "3.8.5"
  },
  "orig_nbformat": 2,
  "kernelspec": {
   "name": "python385jvsc74a57bd0dca0ade3e726a953b501b15e8e990130d2b7799f14cfd9f4271676035ebe5511",
   "display_name": "Python 3.8.5 64-bit ('base': conda)"
  }
 },
 "nbformat": 4,
 "nbformat_minor": 2,
 "cells": [
  {
   "cell_type": "code",
   "execution_count": 1,
   "metadata": {},
   "outputs": [
    {
     "output_type": "stream",
     "name": "stdout",
     "text": [
      "2\n14\n2\n"
     ]
    }
   ],
   "source": [
    "x = 2\n",
    "\n",
    "def funcion(x):\n",
    "    x = 7 + x\n",
    "    print(x)\n",
    "\n",
    "print(x)\n",
    "funcion(x=7)\n",
    "print(x)"
   ]
  },
  {
   "cell_type": "code",
   "execution_count": 4,
   "metadata": {},
   "outputs": [
    {
     "output_type": "stream",
     "name": "stdout",
     "text": [
      "2\n"
     ]
    }
   ],
   "source": [
    "x = 99\n",
    "\n",
    "def funcion():\n",
    "    # variable Global\n",
    "    global x\n",
    "    x = 2\n",
    "    return x\n",
    "\n",
    "funcion()\n",
    "print(x)"
   ]
  },
  {
   "cell_type": "code",
   "execution_count": 5,
   "metadata": {},
   "outputs": [
    {
     "output_type": "error",
     "ename": "SyntaxError",
     "evalue": "name 'x' is assigned to before global declaration (<ipython-input-5-b42815c305cd>, line 7)",
     "traceback": [
      "\u001b[0;36m  File \u001b[0;32m\"<ipython-input-5-b42815c305cd>\"\u001b[0;36m, line \u001b[0;32m7\u001b[0m\n\u001b[0;31m    global x\u001b[0m\n\u001b[0m    ^\u001b[0m\n\u001b[0;31mSyntaxError\u001b[0m\u001b[0;31m:\u001b[0m name 'x' is assigned to before global declaration\n"
     ]
    }
   ],
   "source": [
    "x = 99\n",
    "\n",
    "# Esto da error porque no podemos definir una variable local y después hacerla global\n",
    "# El global debe ir al principio de la función\n",
    "def funcion():\n",
    "    x = 7\n",
    "    # variable Global\n",
    "    global x\n",
    "    x = 2\n",
    "    return x\n",
    "\n",
    "funcion()\n",
    "print(x)"
   ]
  },
  {
   "cell_type": "code",
   "execution_count": 7,
   "metadata": {},
   "outputs": [
    {
     "output_type": "stream",
     "name": "stdout",
     "text": [
      "[0, 1, 2, 'AS']\n"
     ]
    }
   ],
   "source": [
    "x = 99\n",
    "l1 = [0, 1, 2]\n",
    "\n",
    "# En este caso, la lista se se cambia\n",
    "def funcion(lista):\n",
    "    # variable Global\n",
    "    global x\n",
    "    x = 2\n",
    "    lista.append('AS')\n",
    "\n",
    "funcion(l1)\n",
    "print(l1)"
   ]
  },
  {
   "cell_type": "code",
   "execution_count": 9,
   "metadata": {},
   "outputs": [
    {
     "output_type": "stream",
     "name": "stdout",
     "text": [
      "[0, 1, 2, 'AS']\n"
     ]
    }
   ],
   "source": [
    "x = 99\n",
    "l1 = [0, 1, 2]\n",
    "\n",
    "\n",
    "def funcion(lista):\n",
    "    global x\n",
    "    global l1\n",
    "    x = 2\n",
    "    lista.append('AS')      # La función append devuelve 'None'\n",
    "    lista = l1\n",
    "\n",
    "funcion(l1)\n",
    "print(l1)"
   ]
  },
  {
   "cell_type": "code",
   "execution_count": 10,
   "metadata": {},
   "outputs": [
    {
     "output_type": "stream",
     "name": "stdout",
     "text": [
      "l1: [0, 1, 2, 'AS']\nx: 2\n"
     ]
    }
   ],
   "source": [
    "x = 99\n",
    "l1 = [0, 1, 2]\n",
    "\n",
    "\n",
    "def funcion(lista):\n",
    "    global x\n",
    "    x = 2\n",
    "    l1 = lista.append('AS')      # La función append devuelve 'None'\n",
    "\n",
    "funcion(l1)\n",
    "print('l1:', l1)\n",
    "print('x:', x)"
   ]
  },
  {
   "cell_type": "code",
   "execution_count": 15,
   "metadata": {},
   "outputs": [
    {
     "output_type": "stream",
     "name": "stdout",
     "text": [
      "l1 dentro de la función: None\nl1 fuera de la función:  [0, 1, 2, 'AS']\n"
     ]
    }
   ],
   "source": [
    "x = 99\n",
    "l1 = [0, 1, 2]\n",
    "\n",
    "\n",
    "def funcion(lista):\n",
    "    global x\n",
    "    x = 2\n",
    "    l1 = lista.append('AS')      # En esta línea le estoy añadiendo 'AS' a la lista (l1) y además estoy guardando el valor 'None' en la lista l1 (dentro de la función)\n",
    "    print('l1 dentro de la función:', l1)\n",
    "\n",
    "funcion(l1)\n",
    "print('l1 fuera de la función: ', l1)"
   ]
  },
  {
   "cell_type": "code",
   "execution_count": 16,
   "metadata": {},
   "outputs": [
    {
     "output_type": "stream",
     "name": "stdout",
     "text": [
      "l1 dentro de función 1: [0, 1, 2, 'AS']\nlista dentro de la función: [0, 1, 2, 'AS']\nl1 dentro de función 1: None\nlista dentro de la función: [0, 1, 2, 'AS', 'AS']\nl1 fuera de la función:  None\n"
     ]
    }
   ],
   "source": [
    "x = 99\n",
    "l1 = [0, 1, 2]\n",
    "\n",
    "\n",
    "def funcion(lista):\n",
    "    global x, l1\n",
    "    x = 2\n",
    "    lista.append('AS')\n",
    "    print('l1 dentro de función 1:', l1)\n",
    "    print('lista dentro de la función:', lista)\n",
    "    l1 = lista.append('AS')\n",
    "    print('l1 dentro de función 1:', l1)\n",
    "    print('lista dentro de la función:', lista)\n",
    "\n",
    "funcion(l1)\n",
    "print('l1 fuera de la función: ', l1)"
   ]
  },
  {
   "cell_type": "code",
   "execution_count": 19,
   "metadata": {},
   "outputs": [
    {
     "output_type": "stream",
     "name": "stdout",
     "text": [
      "lista dentro de la función: [0, 1, 2, 'AS']\nl1 dentro de función 1: None\nlista dentro de la función: [0, 1, 2, 'AS', 'AS']\nl1 fuera de la función:  [0, 1, 2, 'AS', 'AS']\nx: 2\n"
     ]
    }
   ],
   "source": [
    "x = 99\n",
    "l1 = [0, 1, 2]\n",
    "\n",
    "\n",
    "def funcion(lista):\n",
    "    x = 2\n",
    "    lista.append('AS')\n",
    "    print('lista dentro de la función:', lista)\n",
    "    l1 = lista.append('AS')\n",
    "    print('l1 dentro de función 1:', l1)\n",
    "    print('lista dentro de la función:', lista)\n",
    "\n",
    "    return x\n",
    "\n",
    "x = funcion(l1)\n",
    "print('l1 fuera de la función: ', l1)\n",
    "print('x:', x)"
   ]
  },
  {
   "cell_type": "code",
   "execution_count": 2,
   "metadata": {},
   "outputs": [
    {
     "output_type": "stream",
     "name": "stdout",
     "text": [
      "2\n24\n2\n"
     ]
    }
   ],
   "source": [
    "x = 2\n",
    "a = 10\n",
    "\n",
    "def funcion(x):\n",
    "    x = 7 + x + a\n",
    "    print(x)\n",
    "\n",
    "print(x)\n",
    "funcion(x=7)\n",
    "print(x)"
   ]
  },
  {
   "cell_type": "code",
   "execution_count": 11,
   "metadata": {},
   "outputs": [
    {
     "output_type": "stream",
     "name": "stdout",
     "text": [
      "2\nb: 14\n24\n2\n10\n"
     ]
    }
   ],
   "source": [
    "x = 2\n",
    "a = 10\n",
    "\n",
    "def funcion(x):\n",
    "    b = a + 4\n",
    "    print(\"b:\", b)\n",
    "    x = 7 + x + a\n",
    "    print(x)\n",
    "\n",
    "print(x)\n",
    "funcion(x=7)\n",
    "print(x)\n",
    "print(a)"
   ]
  },
  {
   "cell_type": "code",
   "execution_count": 12,
   "metadata": {},
   "outputs": [
    {
     "output_type": "stream",
     "name": "stdout",
     "text": [
      "2\na: 12\nb: 16\n26\n2\n12\n"
     ]
    }
   ],
   "source": [
    "x = 2\n",
    "a = 10\n",
    "\n",
    "def funcion(x):\n",
    "    global a\n",
    "    a = a + 2\n",
    "    b = a + 4\n",
    "    print(\"a:\", a)\n",
    "    print(\"b:\", b)\n",
    "    x = 7 + x + a\n",
    "    print(x)\n",
    "\n",
    "print(x)\n",
    "funcion(x=7)\n",
    "print(x)\n",
    "print(a)"
   ]
  },
  {
   "cell_type": "code",
   "execution_count": null,
   "metadata": {},
   "outputs": [],
   "source": []
  }
 ]
}