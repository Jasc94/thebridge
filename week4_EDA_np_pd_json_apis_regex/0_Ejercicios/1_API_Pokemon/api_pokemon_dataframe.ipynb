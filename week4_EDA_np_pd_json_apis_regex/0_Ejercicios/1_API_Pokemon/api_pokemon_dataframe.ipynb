{
  "nbformat": 4,
  "nbformat_minor": 0,
  "metadata": {
    "language_info": {
      "codemirror_mode": {
        "name": "ipython",
        "version": 3
      },
      "file_extension": ".py",
      "mimetype": "text/x-python",
      "name": "python",
      "nbconvert_exporter": "python",
      "pygments_lexer": "ipython3",
      "version": 3
    },
    "orig_nbformat": 2,
    "colab": {
      "name": "api_pokemon_dataframe.ipynb",
      "provenance": []
    }
  },
  "cells": [
    {
      "cell_type": "markdown",
      "metadata": {
        "id": "ThF6JvtmC9-4"
      },
      "source": [
        "### Ejercicio 1\n",
        "\n",
        "A partir de la API de Pokemon, se pide generar un DataFrame como el de la imagen con las columnas: \n",
        "\n",
        "- **\"height\",\"id\",\"order\",\"weight\",\"types\"**\n",
        "\n",
        "### Ejercicio 2\n",
        "\n",
        "¿Has visto que dentro del DataFrame la columna \"types\" hay diccionarios? Se pide agregar, por cada pokemon, las columnas necesarias al DataFrame para albergar toda la información de \"types\" (solo las keys)\n",
        "\n",
        "![](df_pk.PNG)"
      ]
    }
  ]
}