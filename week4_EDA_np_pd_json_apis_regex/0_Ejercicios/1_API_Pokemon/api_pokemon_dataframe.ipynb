{
  "nbformat": 4,
  "nbformat_minor": 0,
  "metadata": {
    "language_info": {
      "codemirror_mode": {
        "name": "ipython",
        "version": 3
      },
      "file_extension": ".py",
      "mimetype": "text/x-python",
      "name": "python",
      "nbconvert_exporter": "python",
      "pygments_lexer": "ipython3",
      "version": "3.7.4"
    },
    "orig_nbformat": 2,
    "colab": {
      "name": "api_pokemon_dataframe.ipynb",
      "provenance": []
    },
    "kernelspec": {
      "name": "python374jvsc74a57bd0aee8b7b246df8f9039afb4144a1f6fd8d2ca17a180786b69acc140d282b71a49",
      "display_name": "Python 3.7.4 64-bit"
    },
    "metadata": {
      "interpreter": {
        "hash": "aee8b7b246df8f9039afb4144a1f6fd8d2ca17a180786b69acc140d282b71a49"
      }
    }
  },
  "cells": [
    {
      "cell_type": "markdown",
      "metadata": {
        "id": "ThF6JvtmC9-4"
      },
      "source": [
        "### Ejercicio 1\n",
        "\n",
        "A partir de la API de Pokemon, se pide generar un DataFrame como el de la imagen con las columnas: \n",
        "\n",
        "- **\"height\",\"id\",\"order\",\"weight\",\"types\"**\n",
        "\n",
        "### Ejercicio 2\n",
        "\n",
        "¿Has visto que dentro del DataFrame la columna \"types\" hay diccionarios? Se pide agregar, por cada pokemon, las columnas necesarias al DataFrame para albergar toda la información de \"types\" (solo las keys)\n",
        "\n",
        "![](df_pk.PNG)"
      ]
    },
    {
      "source": [
        "# Ejercicio 1"
      ],
      "cell_type": "markdown",
      "metadata": {}
    },
    {
      "cell_type": "code",
      "execution_count": 1,
      "metadata": {},
      "outputs": [],
      "source": [
        "import json\n",
        "import requests\n",
        "\n",
        "import pandas as pd\n",
        "from pandas.io.json import json_normalize"
      ]
    },
    {
      "cell_type": "code",
      "execution_count": 2,
      "metadata": {},
      "outputs": [
        {
          "output_type": "execute_result",
          "data": {
            "text/plain": [
              "{'count': 1118,\n",
              " 'next': 'https://pokeapi.co/api/v2/pokemon?offset=10&limit=10',\n",
              " 'previous': None,\n",
              " 'results': [{'name': 'bulbasaur',\n",
              "   'url': 'https://pokeapi.co/api/v2/pokemon/1/'},\n",
              "  {'name': 'ivysaur', 'url': 'https://pokeapi.co/api/v2/pokemon/2/'},\n",
              "  {'name': 'venusaur', 'url': 'https://pokeapi.co/api/v2/pokemon/3/'},\n",
              "  {'name': 'charmander', 'url': 'https://pokeapi.co/api/v2/pokemon/4/'},\n",
              "  {'name': 'charmeleon', 'url': 'https://pokeapi.co/api/v2/pokemon/5/'},\n",
              "  {'name': 'charizard', 'url': 'https://pokeapi.co/api/v2/pokemon/6/'},\n",
              "  {'name': 'squirtle', 'url': 'https://pokeapi.co/api/v2/pokemon/7/'},\n",
              "  {'name': 'wartortle', 'url': 'https://pokeapi.co/api/v2/pokemon/8/'},\n",
              "  {'name': 'blastoise', 'url': 'https://pokeapi.co/api/v2/pokemon/9/'},\n",
              "  {'name': 'caterpie', 'url': 'https://pokeapi.co/api/v2/pokemon/10/'}]}"
            ]
          },
          "metadata": {},
          "execution_count": 2
        }
      ],
      "source": [
        "# 1) I check the data with a few values\n",
        "\n",
        "url = \"https://pokeapi.co/api/v2/pokemon?limit=10&offset=0\"\n",
        "\n",
        "poke_json = requests.get(url).json()\n",
        "poke_json"
      ]
    },
    {
      "cell_type": "code",
      "execution_count": 3,
      "metadata": {},
      "outputs": [
        {
          "output_type": "execute_result",
          "data": {
            "text/plain": [
              "         name                                    url\n",
              "0   bulbasaur   https://pokeapi.co/api/v2/pokemon/1/\n",
              "1     ivysaur   https://pokeapi.co/api/v2/pokemon/2/\n",
              "2    venusaur   https://pokeapi.co/api/v2/pokemon/3/\n",
              "3  charmander   https://pokeapi.co/api/v2/pokemon/4/\n",
              "4  charmeleon   https://pokeapi.co/api/v2/pokemon/5/\n",
              "5   charizard   https://pokeapi.co/api/v2/pokemon/6/\n",
              "6    squirtle   https://pokeapi.co/api/v2/pokemon/7/\n",
              "7   wartortle   https://pokeapi.co/api/v2/pokemon/8/\n",
              "8   blastoise   https://pokeapi.co/api/v2/pokemon/9/\n",
              "9    caterpie  https://pokeapi.co/api/v2/pokemon/10/"
            ],
            "text/html": "<div>\n<style scoped>\n    .dataframe tbody tr th:only-of-type {\n        vertical-align: middle;\n    }\n\n    .dataframe tbody tr th {\n        vertical-align: top;\n    }\n\n    .dataframe thead th {\n        text-align: right;\n    }\n</style>\n<table border=\"1\" class=\"dataframe\">\n  <thead>\n    <tr style=\"text-align: right;\">\n      <th></th>\n      <th>name</th>\n      <th>url</th>\n    </tr>\n  </thead>\n  <tbody>\n    <tr>\n      <th>0</th>\n      <td>bulbasaur</td>\n      <td>https://pokeapi.co/api/v2/pokemon/1/</td>\n    </tr>\n    <tr>\n      <th>1</th>\n      <td>ivysaur</td>\n      <td>https://pokeapi.co/api/v2/pokemon/2/</td>\n    </tr>\n    <tr>\n      <th>2</th>\n      <td>venusaur</td>\n      <td>https://pokeapi.co/api/v2/pokemon/3/</td>\n    </tr>\n    <tr>\n      <th>3</th>\n      <td>charmander</td>\n      <td>https://pokeapi.co/api/v2/pokemon/4/</td>\n    </tr>\n    <tr>\n      <th>4</th>\n      <td>charmeleon</td>\n      <td>https://pokeapi.co/api/v2/pokemon/5/</td>\n    </tr>\n    <tr>\n      <th>5</th>\n      <td>charizard</td>\n      <td>https://pokeapi.co/api/v2/pokemon/6/</td>\n    </tr>\n    <tr>\n      <th>6</th>\n      <td>squirtle</td>\n      <td>https://pokeapi.co/api/v2/pokemon/7/</td>\n    </tr>\n    <tr>\n      <th>7</th>\n      <td>wartortle</td>\n      <td>https://pokeapi.co/api/v2/pokemon/8/</td>\n    </tr>\n    <tr>\n      <th>8</th>\n      <td>blastoise</td>\n      <td>https://pokeapi.co/api/v2/pokemon/9/</td>\n    </tr>\n    <tr>\n      <th>9</th>\n      <td>caterpie</td>\n      <td>https://pokeapi.co/api/v2/pokemon/10/</td>\n    </tr>\n  </tbody>\n</table>\n</div>"
          },
          "metadata": {},
          "execution_count": 3
        }
      ],
      "source": [
        "# I transform it into a dataframe\n",
        "df = pd.DataFrame(poke_json[\"results\"])\n",
        "df"
      ]
    },
    {
      "cell_type": "code",
      "execution_count": 4,
      "metadata": {},
      "outputs": [
        {
          "output_type": "stream",
          "name": "stdout",
          "text": [
            "7\n1\n1\n69\n[{'slot': 1, 'type': {'name': 'grass', 'url': 'https://pokeapi.co/api/v2/type/12/'}}, {'slot': 2, 'type': {'name': 'poison', 'url': 'https://pokeapi.co/api/v2/type/4/'}}]\n"
          ]
        }
      ],
      "source": [
        "# After checking the API documentation, I realize that I can directly access the \"height\", \"id\", etc... info from the urls in the url column of my df\n",
        "url2 = df[\"url\"][0]\n",
        "json2 = requests.get(url2).json()\n",
        "print(json2[\"height\"])\n",
        "print(json2[\"id\"])\n",
        "print(json2[\"order\"])\n",
        "print(json2[\"weight\"])\n",
        "print(json2[\"types\"])"
      ]
    },
    {
      "cell_type": "code",
      "execution_count": 5,
      "metadata": {},
      "outputs": [
        {
          "output_type": "execute_result",
          "data": {
            "text/plain": [
              "         name                                    url  height  id  order  \\\n",
              "0   bulbasaur   https://pokeapi.co/api/v2/pokemon/1/       7   1      1   \n",
              "1     ivysaur   https://pokeapi.co/api/v2/pokemon/2/      10   2      2   \n",
              "2    venusaur   https://pokeapi.co/api/v2/pokemon/3/      20   3      3   \n",
              "3  charmander   https://pokeapi.co/api/v2/pokemon/4/       6   4      5   \n",
              "4  charmeleon   https://pokeapi.co/api/v2/pokemon/5/      11   5      6   \n",
              "5   charizard   https://pokeapi.co/api/v2/pokemon/6/      17   6      7   \n",
              "6    squirtle   https://pokeapi.co/api/v2/pokemon/7/       5   7     10   \n",
              "7   wartortle   https://pokeapi.co/api/v2/pokemon/8/      10   8     11   \n",
              "8   blastoise   https://pokeapi.co/api/v2/pokemon/9/      16   9     12   \n",
              "9    caterpie  https://pokeapi.co/api/v2/pokemon/10/       3  10     14   \n",
              "\n",
              "   weight                                              types  \n",
              "0      69  [{'slot': 1, 'type': {'name': 'grass', 'url': ...  \n",
              "1     130  [{'slot': 1, 'type': {'name': 'grass', 'url': ...  \n",
              "2    1000  [{'slot': 1, 'type': {'name': 'grass', 'url': ...  \n",
              "3      85  [{'slot': 1, 'type': {'name': 'fire', 'url': '...  \n",
              "4     190  [{'slot': 1, 'type': {'name': 'fire', 'url': '...  \n",
              "5     905  [{'slot': 1, 'type': {'name': 'fire', 'url': '...  \n",
              "6      90  [{'slot': 1, 'type': {'name': 'water', 'url': ...  \n",
              "7     225  [{'slot': 1, 'type': {'name': 'water', 'url': ...  \n",
              "8     855  [{'slot': 1, 'type': {'name': 'water', 'url': ...  \n",
              "9      29  [{'slot': 1, 'type': {'name': 'bug', 'url': 'h...  "
            ],
            "text/html": "<div>\n<style scoped>\n    .dataframe tbody tr th:only-of-type {\n        vertical-align: middle;\n    }\n\n    .dataframe tbody tr th {\n        vertical-align: top;\n    }\n\n    .dataframe thead th {\n        text-align: right;\n    }\n</style>\n<table border=\"1\" class=\"dataframe\">\n  <thead>\n    <tr style=\"text-align: right;\">\n      <th></th>\n      <th>name</th>\n      <th>url</th>\n      <th>height</th>\n      <th>id</th>\n      <th>order</th>\n      <th>weight</th>\n      <th>types</th>\n    </tr>\n  </thead>\n  <tbody>\n    <tr>\n      <th>0</th>\n      <td>bulbasaur</td>\n      <td>https://pokeapi.co/api/v2/pokemon/1/</td>\n      <td>7</td>\n      <td>1</td>\n      <td>1</td>\n      <td>69</td>\n      <td>[{'slot': 1, 'type': {'name': 'grass', 'url': ...</td>\n    </tr>\n    <tr>\n      <th>1</th>\n      <td>ivysaur</td>\n      <td>https://pokeapi.co/api/v2/pokemon/2/</td>\n      <td>10</td>\n      <td>2</td>\n      <td>2</td>\n      <td>130</td>\n      <td>[{'slot': 1, 'type': {'name': 'grass', 'url': ...</td>\n    </tr>\n    <tr>\n      <th>2</th>\n      <td>venusaur</td>\n      <td>https://pokeapi.co/api/v2/pokemon/3/</td>\n      <td>20</td>\n      <td>3</td>\n      <td>3</td>\n      <td>1000</td>\n      <td>[{'slot': 1, 'type': {'name': 'grass', 'url': ...</td>\n    </tr>\n    <tr>\n      <th>3</th>\n      <td>charmander</td>\n      <td>https://pokeapi.co/api/v2/pokemon/4/</td>\n      <td>6</td>\n      <td>4</td>\n      <td>5</td>\n      <td>85</td>\n      <td>[{'slot': 1, 'type': {'name': 'fire', 'url': '...</td>\n    </tr>\n    <tr>\n      <th>4</th>\n      <td>charmeleon</td>\n      <td>https://pokeapi.co/api/v2/pokemon/5/</td>\n      <td>11</td>\n      <td>5</td>\n      <td>6</td>\n      <td>190</td>\n      <td>[{'slot': 1, 'type': {'name': 'fire', 'url': '...</td>\n    </tr>\n    <tr>\n      <th>5</th>\n      <td>charizard</td>\n      <td>https://pokeapi.co/api/v2/pokemon/6/</td>\n      <td>17</td>\n      <td>6</td>\n      <td>7</td>\n      <td>905</td>\n      <td>[{'slot': 1, 'type': {'name': 'fire', 'url': '...</td>\n    </tr>\n    <tr>\n      <th>6</th>\n      <td>squirtle</td>\n      <td>https://pokeapi.co/api/v2/pokemon/7/</td>\n      <td>5</td>\n      <td>7</td>\n      <td>10</td>\n      <td>90</td>\n      <td>[{'slot': 1, 'type': {'name': 'water', 'url': ...</td>\n    </tr>\n    <tr>\n      <th>7</th>\n      <td>wartortle</td>\n      <td>https://pokeapi.co/api/v2/pokemon/8/</td>\n      <td>10</td>\n      <td>8</td>\n      <td>11</td>\n      <td>225</td>\n      <td>[{'slot': 1, 'type': {'name': 'water', 'url': ...</td>\n    </tr>\n    <tr>\n      <th>8</th>\n      <td>blastoise</td>\n      <td>https://pokeapi.co/api/v2/pokemon/9/</td>\n      <td>16</td>\n      <td>9</td>\n      <td>12</td>\n      <td>855</td>\n      <td>[{'slot': 1, 'type': {'name': 'water', 'url': ...</td>\n    </tr>\n    <tr>\n      <th>9</th>\n      <td>caterpie</td>\n      <td>https://pokeapi.co/api/v2/pokemon/10/</td>\n      <td>3</td>\n      <td>10</td>\n      <td>14</td>\n      <td>29</td>\n      <td>[{'slot': 1, 'type': {'name': 'bug', 'url': 'h...</td>\n    </tr>\n  </tbody>\n</table>\n</div>"
          },
          "metadata": {},
          "execution_count": 5
        }
      ],
      "source": [
        "# Now, all I need is to create the corresponding columns\n",
        "# For that, I want to pull the \"height\", \"id\", etc... info for every pokemon (row), so I simply use apply\n",
        "df[\"height\"] = df[\"url\"].apply(lambda x: requests.get(x).json()[\"height\"])\n",
        "df[\"id\"] = df[\"url\"].apply(lambda x: requests.get(x).json()[\"id\"])\n",
        "df[\"order\"] = df[\"url\"].apply(lambda x: requests.get(x).json()[\"order\"])\n",
        "df[\"weight\"] = df[\"url\"].apply(lambda x: requests.get(x).json()[\"weight\"])\n",
        "df[\"types\"] = df[\"url\"].apply(lambda x: requests.get(x).json()[\"types\"])\n",
        "df"
      ]
    },
    {
      "source": [
        "# Ejercicio 2"
      ],
      "cell_type": "markdown",
      "metadata": {}
    },
    {
      "cell_type": "code",
      "execution_count": 6,
      "metadata": {},
      "outputs": [
        {
          "output_type": "execute_result",
          "data": {
            "text/plain": [
              "0    [{'slot': 1, 'type': {'name': 'grass', 'url': ...\n",
              "1    [{'slot': 1, 'type': {'name': 'grass', 'url': ...\n",
              "2    [{'slot': 1, 'type': {'name': 'grass', 'url': ...\n",
              "3    [{'slot': 1, 'type': {'name': 'fire', 'url': '...\n",
              "4    [{'slot': 1, 'type': {'name': 'fire', 'url': '...\n",
              "5    [{'slot': 1, 'type': {'name': 'fire', 'url': '...\n",
              "6    [{'slot': 1, 'type': {'name': 'water', 'url': ...\n",
              "7    [{'slot': 1, 'type': {'name': 'water', 'url': ...\n",
              "8    [{'slot': 1, 'type': {'name': 'water', 'url': ...\n",
              "9    [{'slot': 1, 'type': {'name': 'bug', 'url': 'h...\n",
              "Name: types, dtype: object"
            ]
          },
          "metadata": {},
          "execution_count": 6
        }
      ],
      "source": [
        "# 1) I check the structure of the column types\n",
        "df[\"types\"]"
      ]
    },
    {
      "cell_type": "code",
      "execution_count": 7,
      "metadata": {},
      "outputs": [
        {
          "output_type": "stream",
          "name": "stdout",
          "text": [
            "2\n2\n2\n1\n1\n2\n1\n1\n1\n1\n"
          ]
        }
      ],
      "source": [
        "# As it is a list of dicts, I want to check if the length is the same for all the lists\n",
        "for i in df[\"types\"]:\n",
        "    print(len(i))"
      ]
    },
    {
      "cell_type": "code",
      "execution_count": 8,
      "metadata": {},
      "outputs": [
        {
          "output_type": "execute_result",
          "data": {
            "text/plain": [
              "{'slot': 1,\n",
              " 'type': {'name': 'grass', 'url': 'https://pokeapi.co/api/v2/type/12/'}}"
            ]
          },
          "metadata": {},
          "execution_count": 8
        }
      ],
      "source": [
        "# As it turns out, the lists don't have the same length\n",
        "\n",
        "# Let's see what one of the lists with len == 2 looks like\n",
        "df[\"types\"][0][0]"
      ]
    },
    {
      "cell_type": "code",
      "execution_count": 9,
      "metadata": {},
      "outputs": [
        {
          "output_type": "execute_result",
          "data": {
            "text/plain": [
              "         name                                    url  height  id  order  \\\n",
              "0   bulbasaur   https://pokeapi.co/api/v2/pokemon/1/       7   1      1   \n",
              "1     ivysaur   https://pokeapi.co/api/v2/pokemon/2/      10   2      2   \n",
              "2    venusaur   https://pokeapi.co/api/v2/pokemon/3/      20   3      3   \n",
              "3  charmander   https://pokeapi.co/api/v2/pokemon/4/       6   4      5   \n",
              "4  charmeleon   https://pokeapi.co/api/v2/pokemon/5/      11   5      6   \n",
              "5   charizard   https://pokeapi.co/api/v2/pokemon/6/      17   6      7   \n",
              "6    squirtle   https://pokeapi.co/api/v2/pokemon/7/       5   7     10   \n",
              "7   wartortle   https://pokeapi.co/api/v2/pokemon/8/      10   8     11   \n",
              "8   blastoise   https://pokeapi.co/api/v2/pokemon/9/      16   9     12   \n",
              "9    caterpie  https://pokeapi.co/api/v2/pokemon/10/       3  10     14   \n",
              "\n",
              "   weight                                              types  types_0_keys  \\\n",
              "0      69  [{'slot': 1, 'type': {'name': 'grass', 'url': ...  (slot, type)   \n",
              "1     130  [{'slot': 1, 'type': {'name': 'grass', 'url': ...  (slot, type)   \n",
              "2    1000  [{'slot': 1, 'type': {'name': 'grass', 'url': ...  (slot, type)   \n",
              "3      85  [{'slot': 1, 'type': {'name': 'fire', 'url': '...  (slot, type)   \n",
              "4     190  [{'slot': 1, 'type': {'name': 'fire', 'url': '...  (slot, type)   \n",
              "5     905  [{'slot': 1, 'type': {'name': 'fire', 'url': '...  (slot, type)   \n",
              "6      90  [{'slot': 1, 'type': {'name': 'water', 'url': ...  (slot, type)   \n",
              "7     225  [{'slot': 1, 'type': {'name': 'water', 'url': ...  (slot, type)   \n",
              "8     855  [{'slot': 1, 'type': {'name': 'water', 'url': ...  (slot, type)   \n",
              "9      29  [{'slot': 1, 'type': {'name': 'bug', 'url': 'h...  (slot, type)   \n",
              "\n",
              "                                        types_1_keys  \n",
              "0  {'slot': 2, 'type': {'name': 'poison', 'url': ...  \n",
              "1  {'slot': 2, 'type': {'name': 'poison', 'url': ...  \n",
              "2  {'slot': 2, 'type': {'name': 'poison', 'url': ...  \n",
              "3                                                  -  \n",
              "4                                                  -  \n",
              "5  {'slot': 2, 'type': {'name': 'flying', 'url': ...  \n",
              "6                                                  -  \n",
              "7                                                  -  \n",
              "8                                                  -  \n",
              "9                                                  -  "
            ],
            "text/html": "<div>\n<style scoped>\n    .dataframe tbody tr th:only-of-type {\n        vertical-align: middle;\n    }\n\n    .dataframe tbody tr th {\n        vertical-align: top;\n    }\n\n    .dataframe thead th {\n        text-align: right;\n    }\n</style>\n<table border=\"1\" class=\"dataframe\">\n  <thead>\n    <tr style=\"text-align: right;\">\n      <th></th>\n      <th>name</th>\n      <th>url</th>\n      <th>height</th>\n      <th>id</th>\n      <th>order</th>\n      <th>weight</th>\n      <th>types</th>\n      <th>types_0_keys</th>\n      <th>types_1_keys</th>\n    </tr>\n  </thead>\n  <tbody>\n    <tr>\n      <th>0</th>\n      <td>bulbasaur</td>\n      <td>https://pokeapi.co/api/v2/pokemon/1/</td>\n      <td>7</td>\n      <td>1</td>\n      <td>1</td>\n      <td>69</td>\n      <td>[{'slot': 1, 'type': {'name': 'grass', 'url': ...</td>\n      <td>(slot, type)</td>\n      <td>{'slot': 2, 'type': {'name': 'poison', 'url': ...</td>\n    </tr>\n    <tr>\n      <th>1</th>\n      <td>ivysaur</td>\n      <td>https://pokeapi.co/api/v2/pokemon/2/</td>\n      <td>10</td>\n      <td>2</td>\n      <td>2</td>\n      <td>130</td>\n      <td>[{'slot': 1, 'type': {'name': 'grass', 'url': ...</td>\n      <td>(slot, type)</td>\n      <td>{'slot': 2, 'type': {'name': 'poison', 'url': ...</td>\n    </tr>\n    <tr>\n      <th>2</th>\n      <td>venusaur</td>\n      <td>https://pokeapi.co/api/v2/pokemon/3/</td>\n      <td>20</td>\n      <td>3</td>\n      <td>3</td>\n      <td>1000</td>\n      <td>[{'slot': 1, 'type': {'name': 'grass', 'url': ...</td>\n      <td>(slot, type)</td>\n      <td>{'slot': 2, 'type': {'name': 'poison', 'url': ...</td>\n    </tr>\n    <tr>\n      <th>3</th>\n      <td>charmander</td>\n      <td>https://pokeapi.co/api/v2/pokemon/4/</td>\n      <td>6</td>\n      <td>4</td>\n      <td>5</td>\n      <td>85</td>\n      <td>[{'slot': 1, 'type': {'name': 'fire', 'url': '...</td>\n      <td>(slot, type)</td>\n      <td>-</td>\n    </tr>\n    <tr>\n      <th>4</th>\n      <td>charmeleon</td>\n      <td>https://pokeapi.co/api/v2/pokemon/5/</td>\n      <td>11</td>\n      <td>5</td>\n      <td>6</td>\n      <td>190</td>\n      <td>[{'slot': 1, 'type': {'name': 'fire', 'url': '...</td>\n      <td>(slot, type)</td>\n      <td>-</td>\n    </tr>\n    <tr>\n      <th>5</th>\n      <td>charizard</td>\n      <td>https://pokeapi.co/api/v2/pokemon/6/</td>\n      <td>17</td>\n      <td>6</td>\n      <td>7</td>\n      <td>905</td>\n      <td>[{'slot': 1, 'type': {'name': 'fire', 'url': '...</td>\n      <td>(slot, type)</td>\n      <td>{'slot': 2, 'type': {'name': 'flying', 'url': ...</td>\n    </tr>\n    <tr>\n      <th>6</th>\n      <td>squirtle</td>\n      <td>https://pokeapi.co/api/v2/pokemon/7/</td>\n      <td>5</td>\n      <td>7</td>\n      <td>10</td>\n      <td>90</td>\n      <td>[{'slot': 1, 'type': {'name': 'water', 'url': ...</td>\n      <td>(slot, type)</td>\n      <td>-</td>\n    </tr>\n    <tr>\n      <th>7</th>\n      <td>wartortle</td>\n      <td>https://pokeapi.co/api/v2/pokemon/8/</td>\n      <td>10</td>\n      <td>8</td>\n      <td>11</td>\n      <td>225</td>\n      <td>[{'slot': 1, 'type': {'name': 'water', 'url': ...</td>\n      <td>(slot, type)</td>\n      <td>-</td>\n    </tr>\n    <tr>\n      <th>8</th>\n      <td>blastoise</td>\n      <td>https://pokeapi.co/api/v2/pokemon/9/</td>\n      <td>16</td>\n      <td>9</td>\n      <td>12</td>\n      <td>855</td>\n      <td>[{'slot': 1, 'type': {'name': 'water', 'url': ...</td>\n      <td>(slot, type)</td>\n      <td>-</td>\n    </tr>\n    <tr>\n      <th>9</th>\n      <td>caterpie</td>\n      <td>https://pokeapi.co/api/v2/pokemon/10/</td>\n      <td>3</td>\n      <td>10</td>\n      <td>14</td>\n      <td>29</td>\n      <td>[{'slot': 1, 'type': {'name': 'bug', 'url': 'h...</td>\n      <td>(slot, type)</td>\n      <td>-</td>\n    </tr>\n  </tbody>\n</table>\n</div>"
          },
          "metadata": {},
          "execution_count": 9
        }
      ],
      "source": [
        "# Now, I already know what to do\n",
        "# I will extract the keys of the first element of the list (a dict)\n",
        "# And if there's a second element, I'll do the same\n",
        "\n",
        "df[\"types_0_keys\"] = df[\"types\"].apply(lambda x: x[0].keys())\n",
        "df[\"types_1_keys\"] = df[\"types\"].apply(lambda x: x[1] if len(x) > 1 else '-')\n",
        "df"
      ]
    },
    {
      "cell_type": "code",
      "execution_count": null,
      "metadata": {},
      "outputs": [],
      "source": []
    }
  ]
}