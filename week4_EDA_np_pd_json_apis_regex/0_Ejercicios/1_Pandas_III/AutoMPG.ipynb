{
  "nbformat": 4,
  "nbformat_minor": 0,
  "metadata": {
    "anaconda-cloud": {},
    "kernelspec": {
      "name": "python374jvsc74a57bd0aee8b7b246df8f9039afb4144a1f6fd8d2ca17a180786b69acc140d282b71a49",
      "display_name": "Python 3.7.4 64-bit"
    },
    "language_info": {
      "codemirror_mode": {
        "name": "ipython",
        "version": 3
      },
      "file_extension": ".py",
      "mimetype": "text/x-python",
      "name": "python",
      "nbconvert_exporter": "python",
      "pygments_lexer": "ipython3",
      "version": "3.7.4"
    },
    "colab": {
      "name": "AutoMPG.ipynb",
      "provenance": []
    },
    "metadata": {
      "interpreter": {
        "hash": "aee8b7b246df8f9039afb4144a1f6fd8d2ca17a180786b69acc140d282b71a49"
      }
    }
  },
  "cells": [
    {
      "cell_type": "markdown",
      "metadata": {
        "id": "CGDgXFyleDwN"
      },
      "source": [
        "# 06 - Combining datasets\n",
        "\n",
        "### Step 1. Import the necessary libraries"
      ]
    },
    {
      "cell_type": "code",
      "metadata": {
        "id": "i0itahNleDwU"
      },
      "source": [
        "import pandas as pd\n",
        "import numpy as np"
      ],
      "execution_count": 9,
      "outputs": []
    },
    {
      "cell_type": "markdown",
      "metadata": {
        "id": "3wztfO8yeDwU"
      },
      "source": [
        "### Step 2. Import the datasets you'll find in the folder `data` and assign each to a variable called cars1 and cars2"
      ]
    },
    {
      "cell_type": "markdown",
      "metadata": {
        "id": "VsVmjkz-eDwV"
      },
      "source": [
        "The following exercise uses data from [UC Irvine Machine Learning Repository](https://archive.ics.uci.edu/ml/datasets/Auto+MPG)"
      ]
    },
    {
      "cell_type": "code",
      "metadata": {
        "id": "cz2fltMheDwV"
      },
      "source": [
        "cars1 = pd.read_csv('cars1.csv')\n",
        "cars2 = pd.read_csv('cars2.csv')"
      ],
      "execution_count": 10,
      "outputs": []
    },
    {
      "cell_type": "code",
      "execution_count": 11,
      "metadata": {},
      "outputs": [
        {
          "output_type": "execute_result",
          "data": {
            "text/plain": [
              "    mpg  cylinders  displacement horsepower  weight  acceleration  model  \\\n",
              "0  18.0          8           307        130    3504          12.0     70   \n",
              "1  15.0          8           350        165    3693          11.5     70   \n",
              "2  18.0          8           318        150    3436          11.0     70   \n",
              "3  16.0          8           304        150    3433          12.0     70   \n",
              "4  17.0          8           302        140    3449          10.5     70   \n",
              "\n",
              "   origin                        car  Unnamed: 9  Unnamed: 10  Unnamed: 11  \\\n",
              "0       1  chevrolet chevelle malibu         NaN          NaN          NaN   \n",
              "1       1          buick skylark 320         NaN          NaN          NaN   \n",
              "2       1         plymouth satellite         NaN          NaN          NaN   \n",
              "3       1              amc rebel sst         NaN          NaN          NaN   \n",
              "4       1                ford torino         NaN          NaN          NaN   \n",
              "\n",
              "   Unnamed: 12  Unnamed: 13  \n",
              "0          NaN          NaN  \n",
              "1          NaN          NaN  \n",
              "2          NaN          NaN  \n",
              "3          NaN          NaN  \n",
              "4          NaN          NaN  "
            ],
            "text/html": "<div>\n<style scoped>\n    .dataframe tbody tr th:only-of-type {\n        vertical-align: middle;\n    }\n\n    .dataframe tbody tr th {\n        vertical-align: top;\n    }\n\n    .dataframe thead th {\n        text-align: right;\n    }\n</style>\n<table border=\"1\" class=\"dataframe\">\n  <thead>\n    <tr style=\"text-align: right;\">\n      <th></th>\n      <th>mpg</th>\n      <th>cylinders</th>\n      <th>displacement</th>\n      <th>horsepower</th>\n      <th>weight</th>\n      <th>acceleration</th>\n      <th>model</th>\n      <th>origin</th>\n      <th>car</th>\n      <th>Unnamed: 9</th>\n      <th>Unnamed: 10</th>\n      <th>Unnamed: 11</th>\n      <th>Unnamed: 12</th>\n      <th>Unnamed: 13</th>\n    </tr>\n  </thead>\n  <tbody>\n    <tr>\n      <th>0</th>\n      <td>18.0</td>\n      <td>8</td>\n      <td>307</td>\n      <td>130</td>\n      <td>3504</td>\n      <td>12.0</td>\n      <td>70</td>\n      <td>1</td>\n      <td>chevrolet chevelle malibu</td>\n      <td>NaN</td>\n      <td>NaN</td>\n      <td>NaN</td>\n      <td>NaN</td>\n      <td>NaN</td>\n    </tr>\n    <tr>\n      <th>1</th>\n      <td>15.0</td>\n      <td>8</td>\n      <td>350</td>\n      <td>165</td>\n      <td>3693</td>\n      <td>11.5</td>\n      <td>70</td>\n      <td>1</td>\n      <td>buick skylark 320</td>\n      <td>NaN</td>\n      <td>NaN</td>\n      <td>NaN</td>\n      <td>NaN</td>\n      <td>NaN</td>\n    </tr>\n    <tr>\n      <th>2</th>\n      <td>18.0</td>\n      <td>8</td>\n      <td>318</td>\n      <td>150</td>\n      <td>3436</td>\n      <td>11.0</td>\n      <td>70</td>\n      <td>1</td>\n      <td>plymouth satellite</td>\n      <td>NaN</td>\n      <td>NaN</td>\n      <td>NaN</td>\n      <td>NaN</td>\n      <td>NaN</td>\n    </tr>\n    <tr>\n      <th>3</th>\n      <td>16.0</td>\n      <td>8</td>\n      <td>304</td>\n      <td>150</td>\n      <td>3433</td>\n      <td>12.0</td>\n      <td>70</td>\n      <td>1</td>\n      <td>amc rebel sst</td>\n      <td>NaN</td>\n      <td>NaN</td>\n      <td>NaN</td>\n      <td>NaN</td>\n      <td>NaN</td>\n    </tr>\n    <tr>\n      <th>4</th>\n      <td>17.0</td>\n      <td>8</td>\n      <td>302</td>\n      <td>140</td>\n      <td>3449</td>\n      <td>10.5</td>\n      <td>70</td>\n      <td>1</td>\n      <td>ford torino</td>\n      <td>NaN</td>\n      <td>NaN</td>\n      <td>NaN</td>\n      <td>NaN</td>\n      <td>NaN</td>\n    </tr>\n  </tbody>\n</table>\n</div>"
          },
          "metadata": {},
          "execution_count": 11
        }
      ],
      "source": [
        "cars1.head()"
      ]
    },
    {
      "cell_type": "code",
      "execution_count": 12,
      "metadata": {},
      "outputs": [
        {
          "output_type": "execute_result",
          "data": {
            "text/plain": [
              "    mpg  cylinders  displacement horsepower  weight  acceleration  model  \\\n",
              "0  33.0          4            91         53    1795          17.4     76   \n",
              "1  20.0          6           225        100    3651          17.7     76   \n",
              "2  18.0          6           250         78    3574          21.0     76   \n",
              "3  18.5          6           250        110    3645          16.2     76   \n",
              "4  17.5          6           258         95    3193          17.8     76   \n",
              "\n",
              "   origin                 car  \n",
              "0       3         honda civic  \n",
              "1       1      dodge aspen se  \n",
              "2       1   ford granada ghia  \n",
              "3       1  pontiac ventura sj  \n",
              "4       1       amc pacer d/l  "
            ],
            "text/html": "<div>\n<style scoped>\n    .dataframe tbody tr th:only-of-type {\n        vertical-align: middle;\n    }\n\n    .dataframe tbody tr th {\n        vertical-align: top;\n    }\n\n    .dataframe thead th {\n        text-align: right;\n    }\n</style>\n<table border=\"1\" class=\"dataframe\">\n  <thead>\n    <tr style=\"text-align: right;\">\n      <th></th>\n      <th>mpg</th>\n      <th>cylinders</th>\n      <th>displacement</th>\n      <th>horsepower</th>\n      <th>weight</th>\n      <th>acceleration</th>\n      <th>model</th>\n      <th>origin</th>\n      <th>car</th>\n    </tr>\n  </thead>\n  <tbody>\n    <tr>\n      <th>0</th>\n      <td>33.0</td>\n      <td>4</td>\n      <td>91</td>\n      <td>53</td>\n      <td>1795</td>\n      <td>17.4</td>\n      <td>76</td>\n      <td>3</td>\n      <td>honda civic</td>\n    </tr>\n    <tr>\n      <th>1</th>\n      <td>20.0</td>\n      <td>6</td>\n      <td>225</td>\n      <td>100</td>\n      <td>3651</td>\n      <td>17.7</td>\n      <td>76</td>\n      <td>1</td>\n      <td>dodge aspen se</td>\n    </tr>\n    <tr>\n      <th>2</th>\n      <td>18.0</td>\n      <td>6</td>\n      <td>250</td>\n      <td>78</td>\n      <td>3574</td>\n      <td>21.0</td>\n      <td>76</td>\n      <td>1</td>\n      <td>ford granada ghia</td>\n    </tr>\n    <tr>\n      <th>3</th>\n      <td>18.5</td>\n      <td>6</td>\n      <td>250</td>\n      <td>110</td>\n      <td>3645</td>\n      <td>16.2</td>\n      <td>76</td>\n      <td>1</td>\n      <td>pontiac ventura sj</td>\n    </tr>\n    <tr>\n      <th>4</th>\n      <td>17.5</td>\n      <td>6</td>\n      <td>258</td>\n      <td>95</td>\n      <td>3193</td>\n      <td>17.8</td>\n      <td>76</td>\n      <td>1</td>\n      <td>amc pacer d/l</td>\n    </tr>\n  </tbody>\n</table>\n</div>"
          },
          "metadata": {},
          "execution_count": 12
        }
      ],
      "source": [
        "cars2.head()"
      ]
    },
    {
      "cell_type": "markdown",
      "metadata": {
        "id": "uedMONnTeDwV"
      },
      "source": [
        "### Step 3. Have a look at the columns of the dataset."
      ]
    },
    {
      "source": [
        "print(\"cars1 columns:\", cars1.columns)\n",
        "print(\"\\n\")\n",
        "print(\"cars2 columns:\", cars2.columns)"
      ],
      "cell_type": "code",
      "metadata": {
        "id": "gVbpLJiveDwV"
      },
      "execution_count": 13,
      "outputs": [
        {
          "output_type": "stream",
          "name": "stdout",
          "text": [
            "cars1 columns: Index(['mpg', 'cylinders', 'displacement', 'horsepower', 'weight',\n       'acceleration', 'model', 'origin', 'car', 'Unnamed: 9', 'Unnamed: 10',\n       'Unnamed: 11', 'Unnamed: 12', 'Unnamed: 13'],\n      dtype='object')\n\n\ncars2 columns: Index(['mpg', 'cylinders', 'displacement', 'horsepower', 'weight',\n       'acceleration', 'model', 'origin', 'car'],\n      dtype='object')\n"
          ]
        }
      ]
    },
    {
      "cell_type": "markdown",
      "metadata": {
        "id": "zcBhWGrqeDwW"
      },
      "source": [
        "### Step 4. Oops, it seems our first dataset has some unnamed blank columns, fix cars1"
      ]
    },
    {
      "cell_type": "code",
      "metadata": {
        "id": "FBF0Jv2SeDwW"
      },
      "source": [
        "cars1 = cars1.dropna(axis = 1)"
      ],
      "execution_count": 14,
      "outputs": []
    },
    {
      "cell_type": "code",
      "execution_count": 15,
      "metadata": {},
      "outputs": [
        {
          "output_type": "execute_result",
          "data": {
            "text/plain": [
              "      mpg  cylinders  displacement horsepower  weight  acceleration  model  \\\n",
              "0    18.0          8           307        130    3504          12.0     70   \n",
              "1    15.0          8           350        165    3693          11.5     70   \n",
              "2    18.0          8           318        150    3436          11.0     70   \n",
              "3    16.0          8           304        150    3433          12.0     70   \n",
              "4    17.0          8           302        140    3449          10.5     70   \n",
              "..    ...        ...           ...        ...     ...           ...    ...   \n",
              "193  24.0          6           200         81    3012          17.6     76   \n",
              "194  22.5          6           232         90    3085          17.6     76   \n",
              "195  29.0          4            85         52    2035          22.2     76   \n",
              "196  24.5          4            98         60    2164          22.1     76   \n",
              "197  29.0          4            90         70    1937          14.2     76   \n",
              "\n",
              "     origin                        car  \n",
              "0         1  chevrolet chevelle malibu  \n",
              "1         1          buick skylark 320  \n",
              "2         1         plymouth satellite  \n",
              "3         1              amc rebel sst  \n",
              "4         1                ford torino  \n",
              "..      ...                        ...  \n",
              "193       1              ford maverick  \n",
              "194       1                 amc hornet  \n",
              "195       1         chevrolet chevette  \n",
              "196       1            chevrolet woody  \n",
              "197       2                  vw rabbit  \n",
              "\n",
              "[198 rows x 9 columns]"
            ],
            "text/html": "<div>\n<style scoped>\n    .dataframe tbody tr th:only-of-type {\n        vertical-align: middle;\n    }\n\n    .dataframe tbody tr th {\n        vertical-align: top;\n    }\n\n    .dataframe thead th {\n        text-align: right;\n    }\n</style>\n<table border=\"1\" class=\"dataframe\">\n  <thead>\n    <tr style=\"text-align: right;\">\n      <th></th>\n      <th>mpg</th>\n      <th>cylinders</th>\n      <th>displacement</th>\n      <th>horsepower</th>\n      <th>weight</th>\n      <th>acceleration</th>\n      <th>model</th>\n      <th>origin</th>\n      <th>car</th>\n    </tr>\n  </thead>\n  <tbody>\n    <tr>\n      <th>0</th>\n      <td>18.0</td>\n      <td>8</td>\n      <td>307</td>\n      <td>130</td>\n      <td>3504</td>\n      <td>12.0</td>\n      <td>70</td>\n      <td>1</td>\n      <td>chevrolet chevelle malibu</td>\n    </tr>\n    <tr>\n      <th>1</th>\n      <td>15.0</td>\n      <td>8</td>\n      <td>350</td>\n      <td>165</td>\n      <td>3693</td>\n      <td>11.5</td>\n      <td>70</td>\n      <td>1</td>\n      <td>buick skylark 320</td>\n    </tr>\n    <tr>\n      <th>2</th>\n      <td>18.0</td>\n      <td>8</td>\n      <td>318</td>\n      <td>150</td>\n      <td>3436</td>\n      <td>11.0</td>\n      <td>70</td>\n      <td>1</td>\n      <td>plymouth satellite</td>\n    </tr>\n    <tr>\n      <th>3</th>\n      <td>16.0</td>\n      <td>8</td>\n      <td>304</td>\n      <td>150</td>\n      <td>3433</td>\n      <td>12.0</td>\n      <td>70</td>\n      <td>1</td>\n      <td>amc rebel sst</td>\n    </tr>\n    <tr>\n      <th>4</th>\n      <td>17.0</td>\n      <td>8</td>\n      <td>302</td>\n      <td>140</td>\n      <td>3449</td>\n      <td>10.5</td>\n      <td>70</td>\n      <td>1</td>\n      <td>ford torino</td>\n    </tr>\n    <tr>\n      <th>...</th>\n      <td>...</td>\n      <td>...</td>\n      <td>...</td>\n      <td>...</td>\n      <td>...</td>\n      <td>...</td>\n      <td>...</td>\n      <td>...</td>\n      <td>...</td>\n    </tr>\n    <tr>\n      <th>193</th>\n      <td>24.0</td>\n      <td>6</td>\n      <td>200</td>\n      <td>81</td>\n      <td>3012</td>\n      <td>17.6</td>\n      <td>76</td>\n      <td>1</td>\n      <td>ford maverick</td>\n    </tr>\n    <tr>\n      <th>194</th>\n      <td>22.5</td>\n      <td>6</td>\n      <td>232</td>\n      <td>90</td>\n      <td>3085</td>\n      <td>17.6</td>\n      <td>76</td>\n      <td>1</td>\n      <td>amc hornet</td>\n    </tr>\n    <tr>\n      <th>195</th>\n      <td>29.0</td>\n      <td>4</td>\n      <td>85</td>\n      <td>52</td>\n      <td>2035</td>\n      <td>22.2</td>\n      <td>76</td>\n      <td>1</td>\n      <td>chevrolet chevette</td>\n    </tr>\n    <tr>\n      <th>196</th>\n      <td>24.5</td>\n      <td>4</td>\n      <td>98</td>\n      <td>60</td>\n      <td>2164</td>\n      <td>22.1</td>\n      <td>76</td>\n      <td>1</td>\n      <td>chevrolet woody</td>\n    </tr>\n    <tr>\n      <th>197</th>\n      <td>29.0</td>\n      <td>4</td>\n      <td>90</td>\n      <td>70</td>\n      <td>1937</td>\n      <td>14.2</td>\n      <td>76</td>\n      <td>2</td>\n      <td>vw rabbit</td>\n    </tr>\n  </tbody>\n</table>\n<p>198 rows × 9 columns</p>\n</div>"
          },
          "metadata": {},
          "execution_count": 15
        }
      ],
      "source": [
        "cars1"
      ]
    },
    {
      "cell_type": "markdown",
      "metadata": {
        "id": "RGpMQ8-AeDwW"
      },
      "source": [
        "### Step 5. What is the number of observations in each dataset?"
      ]
    },
    {
      "cell_type": "code",
      "metadata": {
        "jupyter": {
          "outputs_hidden": false
        },
        "id": "mE3DjdsJeDwW"
      },
      "source": [
        "print(\"number of observations in cars1:\", len(cars1))\n",
        "print(\"number of observations in cars2:\", len(cars2))"
      ],
      "execution_count": 16,
      "outputs": [
        {
          "output_type": "stream",
          "name": "stdout",
          "text": [
            "number of observations in cars1: 198\nnumber of observations in cars2: 200\n"
          ]
        }
      ]
    },
    {
      "cell_type": "markdown",
      "metadata": {
        "id": "-iabzxBteDwX"
      },
      "source": [
        "### Step 6. Join cars1 and cars2 into a single DataFrame called cars"
      ]
    },
    {
      "cell_type": "code",
      "metadata": {
        "id": "5ZLnPzhpeDwX"
      },
      "source": [
        "# No estoy seguro de que esto sea lo que pides, pero como dices \"join\" pues tire palante con esa función\n",
        "cars = cars1.join(cars2, lsuffix = '_1', rsuffix = '_2')\n",
        "cars"
      ],
      "execution_count": 21,
      "outputs": [
        {
          "output_type": "execute_result",
          "data": {
            "text/plain": [
              "     mpg_1  cylinders_1  displacement_1 horsepower_1  weight_1  \\\n",
              "0     18.0            8             307          130      3504   \n",
              "1     15.0            8             350          165      3693   \n",
              "2     18.0            8             318          150      3436   \n",
              "3     16.0            8             304          150      3433   \n",
              "4     17.0            8             302          140      3449   \n",
              "..     ...          ...             ...          ...       ...   \n",
              "193   24.0            6             200           81      3012   \n",
              "194   22.5            6             232           90      3085   \n",
              "195   29.0            4              85           52      2035   \n",
              "196   24.5            4              98           60      2164   \n",
              "197   29.0            4              90           70      1937   \n",
              "\n",
              "     acceleration_1  model_1  origin_1                      car_1  mpg_2  \\\n",
              "0              12.0       70         1  chevrolet chevelle malibu   33.0   \n",
              "1              11.5       70         1          buick skylark 320   20.0   \n",
              "2              11.0       70         1         plymouth satellite   18.0   \n",
              "3              12.0       70         1              amc rebel sst   18.5   \n",
              "4              10.5       70         1                ford torino   17.5   \n",
              "..              ...      ...       ...                        ...    ...   \n",
              "193            17.6       76         1              ford maverick   36.0   \n",
              "194            17.6       76         1                 amc hornet   27.0   \n",
              "195            22.2       76         1         chevrolet chevette   27.0   \n",
              "196            22.1       76         1            chevrolet woody   44.0   \n",
              "197            14.2       76         2                  vw rabbit   32.0   \n",
              "\n",
              "     cylinders_2  displacement_2 horsepower_2  weight_2  acceleration_2  \\\n",
              "0              4              91           53      1795            17.4   \n",
              "1              6             225          100      3651            17.7   \n",
              "2              6             250           78      3574            21.0   \n",
              "3              6             250          110      3645            16.2   \n",
              "4              6             258           95      3193            17.8   \n",
              "..           ...             ...          ...       ...             ...   \n",
              "193            4             135           84      2370            13.0   \n",
              "194            4             151           90      2950            17.3   \n",
              "195            4             140           86      2790            15.6   \n",
              "196            4              97           52      2130            24.6   \n",
              "197            4             135           84      2295            11.6   \n",
              "\n",
              "     model_2  origin_2               car_2  \n",
              "0         76         3         honda civic  \n",
              "1         76         1      dodge aspen se  \n",
              "2         76         1   ford granada ghia  \n",
              "3         76         1  pontiac ventura sj  \n",
              "4         76         1       amc pacer d/l  \n",
              "..       ...       ...                 ...  \n",
              "193       82         1   dodge charger 2.2  \n",
              "194       82         1    chevrolet camaro  \n",
              "195       82         1     ford mustang gl  \n",
              "196       82         2           vw pickup  \n",
              "197       82         1       dodge rampage  \n",
              "\n",
              "[198 rows x 18 columns]"
            ],
            "text/html": "<div>\n<style scoped>\n    .dataframe tbody tr th:only-of-type {\n        vertical-align: middle;\n    }\n\n    .dataframe tbody tr th {\n        vertical-align: top;\n    }\n\n    .dataframe thead th {\n        text-align: right;\n    }\n</style>\n<table border=\"1\" class=\"dataframe\">\n  <thead>\n    <tr style=\"text-align: right;\">\n      <th></th>\n      <th>mpg_1</th>\n      <th>cylinders_1</th>\n      <th>displacement_1</th>\n      <th>horsepower_1</th>\n      <th>weight_1</th>\n      <th>acceleration_1</th>\n      <th>model_1</th>\n      <th>origin_1</th>\n      <th>car_1</th>\n      <th>mpg_2</th>\n      <th>cylinders_2</th>\n      <th>displacement_2</th>\n      <th>horsepower_2</th>\n      <th>weight_2</th>\n      <th>acceleration_2</th>\n      <th>model_2</th>\n      <th>origin_2</th>\n      <th>car_2</th>\n    </tr>\n  </thead>\n  <tbody>\n    <tr>\n      <th>0</th>\n      <td>18.0</td>\n      <td>8</td>\n      <td>307</td>\n      <td>130</td>\n      <td>3504</td>\n      <td>12.0</td>\n      <td>70</td>\n      <td>1</td>\n      <td>chevrolet chevelle malibu</td>\n      <td>33.0</td>\n      <td>4</td>\n      <td>91</td>\n      <td>53</td>\n      <td>1795</td>\n      <td>17.4</td>\n      <td>76</td>\n      <td>3</td>\n      <td>honda civic</td>\n    </tr>\n    <tr>\n      <th>1</th>\n      <td>15.0</td>\n      <td>8</td>\n      <td>350</td>\n      <td>165</td>\n      <td>3693</td>\n      <td>11.5</td>\n      <td>70</td>\n      <td>1</td>\n      <td>buick skylark 320</td>\n      <td>20.0</td>\n      <td>6</td>\n      <td>225</td>\n      <td>100</td>\n      <td>3651</td>\n      <td>17.7</td>\n      <td>76</td>\n      <td>1</td>\n      <td>dodge aspen se</td>\n    </tr>\n    <tr>\n      <th>2</th>\n      <td>18.0</td>\n      <td>8</td>\n      <td>318</td>\n      <td>150</td>\n      <td>3436</td>\n      <td>11.0</td>\n      <td>70</td>\n      <td>1</td>\n      <td>plymouth satellite</td>\n      <td>18.0</td>\n      <td>6</td>\n      <td>250</td>\n      <td>78</td>\n      <td>3574</td>\n      <td>21.0</td>\n      <td>76</td>\n      <td>1</td>\n      <td>ford granada ghia</td>\n    </tr>\n    <tr>\n      <th>3</th>\n      <td>16.0</td>\n      <td>8</td>\n      <td>304</td>\n      <td>150</td>\n      <td>3433</td>\n      <td>12.0</td>\n      <td>70</td>\n      <td>1</td>\n      <td>amc rebel sst</td>\n      <td>18.5</td>\n      <td>6</td>\n      <td>250</td>\n      <td>110</td>\n      <td>3645</td>\n      <td>16.2</td>\n      <td>76</td>\n      <td>1</td>\n      <td>pontiac ventura sj</td>\n    </tr>\n    <tr>\n      <th>4</th>\n      <td>17.0</td>\n      <td>8</td>\n      <td>302</td>\n      <td>140</td>\n      <td>3449</td>\n      <td>10.5</td>\n      <td>70</td>\n      <td>1</td>\n      <td>ford torino</td>\n      <td>17.5</td>\n      <td>6</td>\n      <td>258</td>\n      <td>95</td>\n      <td>3193</td>\n      <td>17.8</td>\n      <td>76</td>\n      <td>1</td>\n      <td>amc pacer d/l</td>\n    </tr>\n    <tr>\n      <th>...</th>\n      <td>...</td>\n      <td>...</td>\n      <td>...</td>\n      <td>...</td>\n      <td>...</td>\n      <td>...</td>\n      <td>...</td>\n      <td>...</td>\n      <td>...</td>\n      <td>...</td>\n      <td>...</td>\n      <td>...</td>\n      <td>...</td>\n      <td>...</td>\n      <td>...</td>\n      <td>...</td>\n      <td>...</td>\n      <td>...</td>\n    </tr>\n    <tr>\n      <th>193</th>\n      <td>24.0</td>\n      <td>6</td>\n      <td>200</td>\n      <td>81</td>\n      <td>3012</td>\n      <td>17.6</td>\n      <td>76</td>\n      <td>1</td>\n      <td>ford maverick</td>\n      <td>36.0</td>\n      <td>4</td>\n      <td>135</td>\n      <td>84</td>\n      <td>2370</td>\n      <td>13.0</td>\n      <td>82</td>\n      <td>1</td>\n      <td>dodge charger 2.2</td>\n    </tr>\n    <tr>\n      <th>194</th>\n      <td>22.5</td>\n      <td>6</td>\n      <td>232</td>\n      <td>90</td>\n      <td>3085</td>\n      <td>17.6</td>\n      <td>76</td>\n      <td>1</td>\n      <td>amc hornet</td>\n      <td>27.0</td>\n      <td>4</td>\n      <td>151</td>\n      <td>90</td>\n      <td>2950</td>\n      <td>17.3</td>\n      <td>82</td>\n      <td>1</td>\n      <td>chevrolet camaro</td>\n    </tr>\n    <tr>\n      <th>195</th>\n      <td>29.0</td>\n      <td>4</td>\n      <td>85</td>\n      <td>52</td>\n      <td>2035</td>\n      <td>22.2</td>\n      <td>76</td>\n      <td>1</td>\n      <td>chevrolet chevette</td>\n      <td>27.0</td>\n      <td>4</td>\n      <td>140</td>\n      <td>86</td>\n      <td>2790</td>\n      <td>15.6</td>\n      <td>82</td>\n      <td>1</td>\n      <td>ford mustang gl</td>\n    </tr>\n    <tr>\n      <th>196</th>\n      <td>24.5</td>\n      <td>4</td>\n      <td>98</td>\n      <td>60</td>\n      <td>2164</td>\n      <td>22.1</td>\n      <td>76</td>\n      <td>1</td>\n      <td>chevrolet woody</td>\n      <td>44.0</td>\n      <td>4</td>\n      <td>97</td>\n      <td>52</td>\n      <td>2130</td>\n      <td>24.6</td>\n      <td>82</td>\n      <td>2</td>\n      <td>vw pickup</td>\n    </tr>\n    <tr>\n      <th>197</th>\n      <td>29.0</td>\n      <td>4</td>\n      <td>90</td>\n      <td>70</td>\n      <td>1937</td>\n      <td>14.2</td>\n      <td>76</td>\n      <td>2</td>\n      <td>vw rabbit</td>\n      <td>32.0</td>\n      <td>4</td>\n      <td>135</td>\n      <td>84</td>\n      <td>2295</td>\n      <td>11.6</td>\n      <td>82</td>\n      <td>1</td>\n      <td>dodge rampage</td>\n    </tr>\n  </tbody>\n</table>\n<p>198 rows × 18 columns</p>\n</div>"
          },
          "metadata": {},
          "execution_count": 21
        }
      ]
    },
    {
      "cell_type": "markdown",
      "metadata": {
        "id": "Vtvtrs8keDwX"
      },
      "source": [
        "### Step 7. Oops, there is a column missing, called owners. Create a random number Series from 15,000 to 73,000."
      ]
    },
    {
      "cell_type": "code",
      "metadata": {
        "id": "hEW_sBgHeDwX"
      },
      "source": [
        "array = np.random.randint(15000, 73000, size = len(cars))\n",
        "s = pd.Series(array)\n",
        "s.name = \"Owner\"\n",
        "s"
      ],
      "execution_count": 31,
      "outputs": [
        {
          "output_type": "execute_result",
          "data": {
            "text/plain": [
              "0      48811\n",
              "1      64334\n",
              "2      17180\n",
              "3      29905\n",
              "4      59468\n",
              "       ...  \n",
              "193    59416\n",
              "194    37849\n",
              "195    24381\n",
              "196    70691\n",
              "197    50672\n",
              "Name: Owner, Length: 198, dtype: int64"
            ]
          },
          "metadata": {},
          "execution_count": 31
        }
      ]
    },
    {
      "cell_type": "markdown",
      "metadata": {
        "id": "7xDPfR58eDwX"
      },
      "source": [
        "### Step 8. Add the column owners to cars"
      ]
    },
    {
      "cell_type": "code",
      "execution_count": 33,
      "metadata": {},
      "outputs": [],
      "source": [
        "cars = pd.concat([cars, s], axis = 1)"
      ]
    },
    {
      "cell_type": "code",
      "execution_count": 34,
      "metadata": {},
      "outputs": [
        {
          "output_type": "execute_result",
          "data": {
            "text/plain": [
              "     mpg_1  cylinders_1  displacement_1 horsepower_1  weight_1  \\\n",
              "0     18.0            8             307          130      3504   \n",
              "1     15.0            8             350          165      3693   \n",
              "2     18.0            8             318          150      3436   \n",
              "3     16.0            8             304          150      3433   \n",
              "4     17.0            8             302          140      3449   \n",
              "..     ...          ...             ...          ...       ...   \n",
              "193   24.0            6             200           81      3012   \n",
              "194   22.5            6             232           90      3085   \n",
              "195   29.0            4              85           52      2035   \n",
              "196   24.5            4              98           60      2164   \n",
              "197   29.0            4              90           70      1937   \n",
              "\n",
              "     acceleration_1  model_1  origin_1                      car_1  mpg_2  \\\n",
              "0              12.0       70         1  chevrolet chevelle malibu   33.0   \n",
              "1              11.5       70         1          buick skylark 320   20.0   \n",
              "2              11.0       70         1         plymouth satellite   18.0   \n",
              "3              12.0       70         1              amc rebel sst   18.5   \n",
              "4              10.5       70         1                ford torino   17.5   \n",
              "..              ...      ...       ...                        ...    ...   \n",
              "193            17.6       76         1              ford maverick   36.0   \n",
              "194            17.6       76         1                 amc hornet   27.0   \n",
              "195            22.2       76         1         chevrolet chevette   27.0   \n",
              "196            22.1       76         1            chevrolet woody   44.0   \n",
              "197            14.2       76         2                  vw rabbit   32.0   \n",
              "\n",
              "     cylinders_2  displacement_2 horsepower_2  weight_2  acceleration_2  \\\n",
              "0              4              91           53      1795            17.4   \n",
              "1              6             225          100      3651            17.7   \n",
              "2              6             250           78      3574            21.0   \n",
              "3              6             250          110      3645            16.2   \n",
              "4              6             258           95      3193            17.8   \n",
              "..           ...             ...          ...       ...             ...   \n",
              "193            4             135           84      2370            13.0   \n",
              "194            4             151           90      2950            17.3   \n",
              "195            4             140           86      2790            15.6   \n",
              "196            4              97           52      2130            24.6   \n",
              "197            4             135           84      2295            11.6   \n",
              "\n",
              "     model_2  origin_2               car_2  Owner  \n",
              "0         76         3         honda civic  48811  \n",
              "1         76         1      dodge aspen se  64334  \n",
              "2         76         1   ford granada ghia  17180  \n",
              "3         76         1  pontiac ventura sj  29905  \n",
              "4         76         1       amc pacer d/l  59468  \n",
              "..       ...       ...                 ...    ...  \n",
              "193       82         1   dodge charger 2.2  59416  \n",
              "194       82         1    chevrolet camaro  37849  \n",
              "195       82         1     ford mustang gl  24381  \n",
              "196       82         2           vw pickup  70691  \n",
              "197       82         1       dodge rampage  50672  \n",
              "\n",
              "[198 rows x 19 columns]"
            ],
            "text/html": "<div>\n<style scoped>\n    .dataframe tbody tr th:only-of-type {\n        vertical-align: middle;\n    }\n\n    .dataframe tbody tr th {\n        vertical-align: top;\n    }\n\n    .dataframe thead th {\n        text-align: right;\n    }\n</style>\n<table border=\"1\" class=\"dataframe\">\n  <thead>\n    <tr style=\"text-align: right;\">\n      <th></th>\n      <th>mpg_1</th>\n      <th>cylinders_1</th>\n      <th>displacement_1</th>\n      <th>horsepower_1</th>\n      <th>weight_1</th>\n      <th>acceleration_1</th>\n      <th>model_1</th>\n      <th>origin_1</th>\n      <th>car_1</th>\n      <th>mpg_2</th>\n      <th>cylinders_2</th>\n      <th>displacement_2</th>\n      <th>horsepower_2</th>\n      <th>weight_2</th>\n      <th>acceleration_2</th>\n      <th>model_2</th>\n      <th>origin_2</th>\n      <th>car_2</th>\n      <th>Owner</th>\n    </tr>\n  </thead>\n  <tbody>\n    <tr>\n      <th>0</th>\n      <td>18.0</td>\n      <td>8</td>\n      <td>307</td>\n      <td>130</td>\n      <td>3504</td>\n      <td>12.0</td>\n      <td>70</td>\n      <td>1</td>\n      <td>chevrolet chevelle malibu</td>\n      <td>33.0</td>\n      <td>4</td>\n      <td>91</td>\n      <td>53</td>\n      <td>1795</td>\n      <td>17.4</td>\n      <td>76</td>\n      <td>3</td>\n      <td>honda civic</td>\n      <td>48811</td>\n    </tr>\n    <tr>\n      <th>1</th>\n      <td>15.0</td>\n      <td>8</td>\n      <td>350</td>\n      <td>165</td>\n      <td>3693</td>\n      <td>11.5</td>\n      <td>70</td>\n      <td>1</td>\n      <td>buick skylark 320</td>\n      <td>20.0</td>\n      <td>6</td>\n      <td>225</td>\n      <td>100</td>\n      <td>3651</td>\n      <td>17.7</td>\n      <td>76</td>\n      <td>1</td>\n      <td>dodge aspen se</td>\n      <td>64334</td>\n    </tr>\n    <tr>\n      <th>2</th>\n      <td>18.0</td>\n      <td>8</td>\n      <td>318</td>\n      <td>150</td>\n      <td>3436</td>\n      <td>11.0</td>\n      <td>70</td>\n      <td>1</td>\n      <td>plymouth satellite</td>\n      <td>18.0</td>\n      <td>6</td>\n      <td>250</td>\n      <td>78</td>\n      <td>3574</td>\n      <td>21.0</td>\n      <td>76</td>\n      <td>1</td>\n      <td>ford granada ghia</td>\n      <td>17180</td>\n    </tr>\n    <tr>\n      <th>3</th>\n      <td>16.0</td>\n      <td>8</td>\n      <td>304</td>\n      <td>150</td>\n      <td>3433</td>\n      <td>12.0</td>\n      <td>70</td>\n      <td>1</td>\n      <td>amc rebel sst</td>\n      <td>18.5</td>\n      <td>6</td>\n      <td>250</td>\n      <td>110</td>\n      <td>3645</td>\n      <td>16.2</td>\n      <td>76</td>\n      <td>1</td>\n      <td>pontiac ventura sj</td>\n      <td>29905</td>\n    </tr>\n    <tr>\n      <th>4</th>\n      <td>17.0</td>\n      <td>8</td>\n      <td>302</td>\n      <td>140</td>\n      <td>3449</td>\n      <td>10.5</td>\n      <td>70</td>\n      <td>1</td>\n      <td>ford torino</td>\n      <td>17.5</td>\n      <td>6</td>\n      <td>258</td>\n      <td>95</td>\n      <td>3193</td>\n      <td>17.8</td>\n      <td>76</td>\n      <td>1</td>\n      <td>amc pacer d/l</td>\n      <td>59468</td>\n    </tr>\n    <tr>\n      <th>...</th>\n      <td>...</td>\n      <td>...</td>\n      <td>...</td>\n      <td>...</td>\n      <td>...</td>\n      <td>...</td>\n      <td>...</td>\n      <td>...</td>\n      <td>...</td>\n      <td>...</td>\n      <td>...</td>\n      <td>...</td>\n      <td>...</td>\n      <td>...</td>\n      <td>...</td>\n      <td>...</td>\n      <td>...</td>\n      <td>...</td>\n      <td>...</td>\n    </tr>\n    <tr>\n      <th>193</th>\n      <td>24.0</td>\n      <td>6</td>\n      <td>200</td>\n      <td>81</td>\n      <td>3012</td>\n      <td>17.6</td>\n      <td>76</td>\n      <td>1</td>\n      <td>ford maverick</td>\n      <td>36.0</td>\n      <td>4</td>\n      <td>135</td>\n      <td>84</td>\n      <td>2370</td>\n      <td>13.0</td>\n      <td>82</td>\n      <td>1</td>\n      <td>dodge charger 2.2</td>\n      <td>59416</td>\n    </tr>\n    <tr>\n      <th>194</th>\n      <td>22.5</td>\n      <td>6</td>\n      <td>232</td>\n      <td>90</td>\n      <td>3085</td>\n      <td>17.6</td>\n      <td>76</td>\n      <td>1</td>\n      <td>amc hornet</td>\n      <td>27.0</td>\n      <td>4</td>\n      <td>151</td>\n      <td>90</td>\n      <td>2950</td>\n      <td>17.3</td>\n      <td>82</td>\n      <td>1</td>\n      <td>chevrolet camaro</td>\n      <td>37849</td>\n    </tr>\n    <tr>\n      <th>195</th>\n      <td>29.0</td>\n      <td>4</td>\n      <td>85</td>\n      <td>52</td>\n      <td>2035</td>\n      <td>22.2</td>\n      <td>76</td>\n      <td>1</td>\n      <td>chevrolet chevette</td>\n      <td>27.0</td>\n      <td>4</td>\n      <td>140</td>\n      <td>86</td>\n      <td>2790</td>\n      <td>15.6</td>\n      <td>82</td>\n      <td>1</td>\n      <td>ford mustang gl</td>\n      <td>24381</td>\n    </tr>\n    <tr>\n      <th>196</th>\n      <td>24.5</td>\n      <td>4</td>\n      <td>98</td>\n      <td>60</td>\n      <td>2164</td>\n      <td>22.1</td>\n      <td>76</td>\n      <td>1</td>\n      <td>chevrolet woody</td>\n      <td>44.0</td>\n      <td>4</td>\n      <td>97</td>\n      <td>52</td>\n      <td>2130</td>\n      <td>24.6</td>\n      <td>82</td>\n      <td>2</td>\n      <td>vw pickup</td>\n      <td>70691</td>\n    </tr>\n    <tr>\n      <th>197</th>\n      <td>29.0</td>\n      <td>4</td>\n      <td>90</td>\n      <td>70</td>\n      <td>1937</td>\n      <td>14.2</td>\n      <td>76</td>\n      <td>2</td>\n      <td>vw rabbit</td>\n      <td>32.0</td>\n      <td>4</td>\n      <td>135</td>\n      <td>84</td>\n      <td>2295</td>\n      <td>11.6</td>\n      <td>82</td>\n      <td>1</td>\n      <td>dodge rampage</td>\n      <td>50672</td>\n    </tr>\n  </tbody>\n</table>\n<p>198 rows × 19 columns</p>\n</div>"
          },
          "metadata": {},
          "execution_count": 34
        }
      ],
      "source": [
        "cars"
      ]
    },
    {
      "cell_type": "code",
      "execution_count": null,
      "metadata": {},
      "outputs": [],
      "source": []
    }
  ]
}