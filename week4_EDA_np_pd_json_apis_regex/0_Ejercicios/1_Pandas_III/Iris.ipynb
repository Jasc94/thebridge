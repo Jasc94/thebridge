{
  "nbformat": 4,
  "nbformat_minor": 0,
  "metadata": {
    "kernelspec": {
      "name": "python374jvsc74a57bd0aee8b7b246df8f9039afb4144a1f6fd8d2ca17a180786b69acc140d282b71a49",
      "display_name": "Python 3.7.4 64-bit"
    },
    "language_info": {
      "codemirror_mode": {
        "name": "ipython",
        "version": 3
      },
      "file_extension": ".py",
      "mimetype": "text/x-python",
      "name": "python",
      "nbconvert_exporter": "python",
      "pygments_lexer": "ipython3",
      "version": "3.7.4"
    },
    "colab": {
      "name": "Iris.ipynb",
      "provenance": []
    },
    "metadata": {
      "interpreter": {
        "hash": "aee8b7b246df8f9039afb4144a1f6fd8d2ca17a180786b69acc140d282b71a49"
      }
    }
  },
  "cells": [
    {
      "cell_type": "markdown",
      "metadata": {
        "id": "E-GPf8vWd8Wg"
      },
      "source": [
        "# 03 - Deleting & handling missing values - Iris"
      ]
    },
    {
      "cell_type": "markdown",
      "metadata": {
        "id": "VJe3GCqVd8Wo"
      },
      "source": [
        "### Step 1. Import the necessary libraries"
      ]
    },
    {
      "cell_type": "code",
      "metadata": {
        "id": "zb-ptcyYd8Wp"
      },
      "source": [
        "import pandas as pd\n",
        "import numpy as np"
      ],
      "execution_count": 2,
      "outputs": []
    },
    {
      "cell_type": "markdown",
      "metadata": {
        "id": "Z903j0dyd8Wp"
      },
      "source": [
        "### Step 2. Import the dataset from this [address](https://archive.ics.uci.edu/ml/machine-learning-databases/iris/iris.data). "
      ]
    },
    {
      "cell_type": "markdown",
      "metadata": {
        "id": "vKPIhk2kd8Wp"
      },
      "source": [
        "### Step 3. Assign it to a variable called iris"
      ]
    },
    {
      "cell_type": "code",
      "metadata": {
        "id": "d7qHlqmhd8Wq"
      },
      "source": [
        "iris = pd.read_csv('iris.data', names = list(range(0, 5)))\n",
        "iris"
      ],
      "execution_count": 6,
      "outputs": [
        {
          "output_type": "execute_result",
          "data": {
            "text/plain": [
              "       0    1    2    3               4\n",
              "0    5.1  3.5  1.4  0.2     Iris-setosa\n",
              "1    4.9  3.0  1.4  0.2     Iris-setosa\n",
              "2    4.7  3.2  1.3  0.2     Iris-setosa\n",
              "3    4.6  3.1  1.5  0.2     Iris-setosa\n",
              "4    5.0  3.6  1.4  0.2     Iris-setosa\n",
              "..   ...  ...  ...  ...             ...\n",
              "145  6.7  3.0  5.2  2.3  Iris-virginica\n",
              "146  6.3  2.5  5.0  1.9  Iris-virginica\n",
              "147  6.5  3.0  5.2  2.0  Iris-virginica\n",
              "148  6.2  3.4  5.4  2.3  Iris-virginica\n",
              "149  5.9  3.0  5.1  1.8  Iris-virginica\n",
              "\n",
              "[150 rows x 5 columns]"
            ],
            "text/html": "<div>\n<style scoped>\n    .dataframe tbody tr th:only-of-type {\n        vertical-align: middle;\n    }\n\n    .dataframe tbody tr th {\n        vertical-align: top;\n    }\n\n    .dataframe thead th {\n        text-align: right;\n    }\n</style>\n<table border=\"1\" class=\"dataframe\">\n  <thead>\n    <tr style=\"text-align: right;\">\n      <th></th>\n      <th>0</th>\n      <th>1</th>\n      <th>2</th>\n      <th>3</th>\n      <th>4</th>\n    </tr>\n  </thead>\n  <tbody>\n    <tr>\n      <th>0</th>\n      <td>5.1</td>\n      <td>3.5</td>\n      <td>1.4</td>\n      <td>0.2</td>\n      <td>Iris-setosa</td>\n    </tr>\n    <tr>\n      <th>1</th>\n      <td>4.9</td>\n      <td>3.0</td>\n      <td>1.4</td>\n      <td>0.2</td>\n      <td>Iris-setosa</td>\n    </tr>\n    <tr>\n      <th>2</th>\n      <td>4.7</td>\n      <td>3.2</td>\n      <td>1.3</td>\n      <td>0.2</td>\n      <td>Iris-setosa</td>\n    </tr>\n    <tr>\n      <th>3</th>\n      <td>4.6</td>\n      <td>3.1</td>\n      <td>1.5</td>\n      <td>0.2</td>\n      <td>Iris-setosa</td>\n    </tr>\n    <tr>\n      <th>4</th>\n      <td>5.0</td>\n      <td>3.6</td>\n      <td>1.4</td>\n      <td>0.2</td>\n      <td>Iris-setosa</td>\n    </tr>\n    <tr>\n      <th>...</th>\n      <td>...</td>\n      <td>...</td>\n      <td>...</td>\n      <td>...</td>\n      <td>...</td>\n    </tr>\n    <tr>\n      <th>145</th>\n      <td>6.7</td>\n      <td>3.0</td>\n      <td>5.2</td>\n      <td>2.3</td>\n      <td>Iris-virginica</td>\n    </tr>\n    <tr>\n      <th>146</th>\n      <td>6.3</td>\n      <td>2.5</td>\n      <td>5.0</td>\n      <td>1.9</td>\n      <td>Iris-virginica</td>\n    </tr>\n    <tr>\n      <th>147</th>\n      <td>6.5</td>\n      <td>3.0</td>\n      <td>5.2</td>\n      <td>2.0</td>\n      <td>Iris-virginica</td>\n    </tr>\n    <tr>\n      <th>148</th>\n      <td>6.2</td>\n      <td>3.4</td>\n      <td>5.4</td>\n      <td>2.3</td>\n      <td>Iris-virginica</td>\n    </tr>\n    <tr>\n      <th>149</th>\n      <td>5.9</td>\n      <td>3.0</td>\n      <td>5.1</td>\n      <td>1.8</td>\n      <td>Iris-virginica</td>\n    </tr>\n  </tbody>\n</table>\n<p>150 rows × 5 columns</p>\n</div>"
          },
          "metadata": {},
          "execution_count": 6
        }
      ]
    },
    {
      "cell_type": "markdown",
      "metadata": {
        "id": "Aof27upWd8Wq"
      },
      "source": [
        "### Step 4. Call the columns for the dataset as follows:\n",
        "1. sepal_length (in cm)\n",
        "2. sepal_width (in cm)\n",
        "3. petal_length (in cm)\n",
        "4. petal_width (in cm)\n",
        "5. class"
      ]
    },
    {
      "cell_type": "code",
      "metadata": {
        "id": "sn-kUuLmd8Wq"
      },
      "source": [
        "iris.columns = ['sepal_length (in cm)', 'sepal_width (in cm)', 'petal_length (in cm)', 'petal_width (in cm)', 'class']\n",
        "iris"
      ],
      "execution_count": 7,
      "outputs": [
        {
          "output_type": "execute_result",
          "data": {
            "text/plain": [
              "     sepal_length (in cm)  sepal_width (in cm)  petal_length (in cm)  \\\n",
              "0                     5.1                  3.5                   1.4   \n",
              "1                     4.9                  3.0                   1.4   \n",
              "2                     4.7                  3.2                   1.3   \n",
              "3                     4.6                  3.1                   1.5   \n",
              "4                     5.0                  3.6                   1.4   \n",
              "..                    ...                  ...                   ...   \n",
              "145                   6.7                  3.0                   5.2   \n",
              "146                   6.3                  2.5                   5.0   \n",
              "147                   6.5                  3.0                   5.2   \n",
              "148                   6.2                  3.4                   5.4   \n",
              "149                   5.9                  3.0                   5.1   \n",
              "\n",
              "     petal_width (in cm)           class  \n",
              "0                    0.2     Iris-setosa  \n",
              "1                    0.2     Iris-setosa  \n",
              "2                    0.2     Iris-setosa  \n",
              "3                    0.2     Iris-setosa  \n",
              "4                    0.2     Iris-setosa  \n",
              "..                   ...             ...  \n",
              "145                  2.3  Iris-virginica  \n",
              "146                  1.9  Iris-virginica  \n",
              "147                  2.0  Iris-virginica  \n",
              "148                  2.3  Iris-virginica  \n",
              "149                  1.8  Iris-virginica  \n",
              "\n",
              "[150 rows x 5 columns]"
            ],
            "text/html": "<div>\n<style scoped>\n    .dataframe tbody tr th:only-of-type {\n        vertical-align: middle;\n    }\n\n    .dataframe tbody tr th {\n        vertical-align: top;\n    }\n\n    .dataframe thead th {\n        text-align: right;\n    }\n</style>\n<table border=\"1\" class=\"dataframe\">\n  <thead>\n    <tr style=\"text-align: right;\">\n      <th></th>\n      <th>sepal_length (in cm)</th>\n      <th>sepal_width (in cm)</th>\n      <th>petal_length (in cm)</th>\n      <th>petal_width (in cm)</th>\n      <th>class</th>\n    </tr>\n  </thead>\n  <tbody>\n    <tr>\n      <th>0</th>\n      <td>5.1</td>\n      <td>3.5</td>\n      <td>1.4</td>\n      <td>0.2</td>\n      <td>Iris-setosa</td>\n    </tr>\n    <tr>\n      <th>1</th>\n      <td>4.9</td>\n      <td>3.0</td>\n      <td>1.4</td>\n      <td>0.2</td>\n      <td>Iris-setosa</td>\n    </tr>\n    <tr>\n      <th>2</th>\n      <td>4.7</td>\n      <td>3.2</td>\n      <td>1.3</td>\n      <td>0.2</td>\n      <td>Iris-setosa</td>\n    </tr>\n    <tr>\n      <th>3</th>\n      <td>4.6</td>\n      <td>3.1</td>\n      <td>1.5</td>\n      <td>0.2</td>\n      <td>Iris-setosa</td>\n    </tr>\n    <tr>\n      <th>4</th>\n      <td>5.0</td>\n      <td>3.6</td>\n      <td>1.4</td>\n      <td>0.2</td>\n      <td>Iris-setosa</td>\n    </tr>\n    <tr>\n      <th>...</th>\n      <td>...</td>\n      <td>...</td>\n      <td>...</td>\n      <td>...</td>\n      <td>...</td>\n    </tr>\n    <tr>\n      <th>145</th>\n      <td>6.7</td>\n      <td>3.0</td>\n      <td>5.2</td>\n      <td>2.3</td>\n      <td>Iris-virginica</td>\n    </tr>\n    <tr>\n      <th>146</th>\n      <td>6.3</td>\n      <td>2.5</td>\n      <td>5.0</td>\n      <td>1.9</td>\n      <td>Iris-virginica</td>\n    </tr>\n    <tr>\n      <th>147</th>\n      <td>6.5</td>\n      <td>3.0</td>\n      <td>5.2</td>\n      <td>2.0</td>\n      <td>Iris-virginica</td>\n    </tr>\n    <tr>\n      <th>148</th>\n      <td>6.2</td>\n      <td>3.4</td>\n      <td>5.4</td>\n      <td>2.3</td>\n      <td>Iris-virginica</td>\n    </tr>\n    <tr>\n      <th>149</th>\n      <td>5.9</td>\n      <td>3.0</td>\n      <td>5.1</td>\n      <td>1.8</td>\n      <td>Iris-virginica</td>\n    </tr>\n  </tbody>\n</table>\n<p>150 rows × 5 columns</p>\n</div>"
          },
          "metadata": {},
          "execution_count": 7
        }
      ]
    },
    {
      "cell_type": "markdown",
      "metadata": {
        "id": "BGEkxJKtd8Wq"
      },
      "source": [
        "### Step 5.  Is there any missing value in the dataframe?"
      ]
    },
    {
      "cell_type": "code",
      "metadata": {
        "id": "Va4bSSHId8Wr"
      },
      "source": [
        "iris.isnull().sum()"
      ],
      "execution_count": 9,
      "outputs": [
        {
          "output_type": "execute_result",
          "data": {
            "text/plain": [
              "sepal_length (in cm)    0\n",
              "sepal_width (in cm)     0\n",
              "petal_length (in cm)    0\n",
              "petal_width (in cm)     0\n",
              "class                   0\n",
              "dtype: int64"
            ]
          },
          "metadata": {},
          "execution_count": 9
        }
      ]
    },
    {
      "cell_type": "markdown",
      "metadata": {
        "id": "PJpgwiTDd8Wr"
      },
      "source": [
        "### Step 6.  Lets set the values of the rows 10 to 29 of the column 'petal_length' to NaN"
      ]
    },
    {
      "cell_type": "code",
      "metadata": {
        "id": "gcvhm3CLd8Wr"
      },
      "source": [
        "iris[10:30]['petal_length (in cm)'] = float('NaN')\n",
        "iris.head(30)"
      ],
      "execution_count": 16,
      "outputs": [
        {
          "output_type": "stream",
          "name": "stderr",
          "text": [
            "ipykernel_launcher:1: SettingWithCopyWarning: \nA value is trying to be set on a copy of a slice from a DataFrame.\nTry using .loc[row_indexer,col_indexer] = value instead\n\nSee the caveats in the documentation: https://pandas.pydata.org/pandas-docs/stable/user_guide/indexing.html#returning-a-view-versus-a-copy\n"
          ]
        },
        {
          "output_type": "execute_result",
          "data": {
            "text/plain": [
              "    sepal_length (in cm)  sepal_width (in cm)  petal_length (in cm)  \\\n",
              "0                    5.1                  3.5                   1.4   \n",
              "1                    4.9                  3.0                   1.4   \n",
              "2                    4.7                  3.2                   1.3   \n",
              "3                    4.6                  3.1                   1.5   \n",
              "4                    5.0                  3.6                   1.4   \n",
              "5                    5.4                  3.9                   1.7   \n",
              "6                    4.6                  3.4                   1.4   \n",
              "7                    5.0                  3.4                   1.5   \n",
              "8                    4.4                  2.9                   1.4   \n",
              "9                    4.9                  3.1                   1.5   \n",
              "10                   5.4                  3.7                   NaN   \n",
              "11                   4.8                  3.4                   NaN   \n",
              "12                   4.8                  3.0                   NaN   \n",
              "13                   4.3                  3.0                   NaN   \n",
              "14                   5.8                  4.0                   NaN   \n",
              "15                   5.7                  4.4                   NaN   \n",
              "16                   5.4                  3.9                   NaN   \n",
              "17                   5.1                  3.5                   NaN   \n",
              "18                   5.7                  3.8                   NaN   \n",
              "19                   5.1                  3.8                   NaN   \n",
              "20                   5.4                  3.4                   NaN   \n",
              "21                   5.1                  3.7                   NaN   \n",
              "22                   4.6                  3.6                   NaN   \n",
              "23                   5.1                  3.3                   NaN   \n",
              "24                   4.8                  3.4                   NaN   \n",
              "25                   5.0                  3.0                   NaN   \n",
              "26                   5.0                  3.4                   NaN   \n",
              "27                   5.2                  3.5                   NaN   \n",
              "28                   5.2                  3.4                   NaN   \n",
              "29                   4.7                  3.2                   NaN   \n",
              "\n",
              "    petal_width (in cm)        class  \n",
              "0                   0.2  Iris-setosa  \n",
              "1                   0.2  Iris-setosa  \n",
              "2                   0.2  Iris-setosa  \n",
              "3                   0.2  Iris-setosa  \n",
              "4                   0.2  Iris-setosa  \n",
              "5                   0.4  Iris-setosa  \n",
              "6                   0.3  Iris-setosa  \n",
              "7                   0.2  Iris-setosa  \n",
              "8                   0.2  Iris-setosa  \n",
              "9                   0.1  Iris-setosa  \n",
              "10                  0.2  Iris-setosa  \n",
              "11                  0.2  Iris-setosa  \n",
              "12                  0.1  Iris-setosa  \n",
              "13                  0.1  Iris-setosa  \n",
              "14                  0.2  Iris-setosa  \n",
              "15                  0.4  Iris-setosa  \n",
              "16                  0.4  Iris-setosa  \n",
              "17                  0.3  Iris-setosa  \n",
              "18                  0.3  Iris-setosa  \n",
              "19                  0.3  Iris-setosa  \n",
              "20                  0.2  Iris-setosa  \n",
              "21                  0.4  Iris-setosa  \n",
              "22                  0.2  Iris-setosa  \n",
              "23                  0.5  Iris-setosa  \n",
              "24                  0.2  Iris-setosa  \n",
              "25                  0.2  Iris-setosa  \n",
              "26                  0.4  Iris-setosa  \n",
              "27                  0.2  Iris-setosa  \n",
              "28                  0.2  Iris-setosa  \n",
              "29                  0.2  Iris-setosa  "
            ],
            "text/html": "<div>\n<style scoped>\n    .dataframe tbody tr th:only-of-type {\n        vertical-align: middle;\n    }\n\n    .dataframe tbody tr th {\n        vertical-align: top;\n    }\n\n    .dataframe thead th {\n        text-align: right;\n    }\n</style>\n<table border=\"1\" class=\"dataframe\">\n  <thead>\n    <tr style=\"text-align: right;\">\n      <th></th>\n      <th>sepal_length (in cm)</th>\n      <th>sepal_width (in cm)</th>\n      <th>petal_length (in cm)</th>\n      <th>petal_width (in cm)</th>\n      <th>class</th>\n    </tr>\n  </thead>\n  <tbody>\n    <tr>\n      <th>0</th>\n      <td>5.1</td>\n      <td>3.5</td>\n      <td>1.4</td>\n      <td>0.2</td>\n      <td>Iris-setosa</td>\n    </tr>\n    <tr>\n      <th>1</th>\n      <td>4.9</td>\n      <td>3.0</td>\n      <td>1.4</td>\n      <td>0.2</td>\n      <td>Iris-setosa</td>\n    </tr>\n    <tr>\n      <th>2</th>\n      <td>4.7</td>\n      <td>3.2</td>\n      <td>1.3</td>\n      <td>0.2</td>\n      <td>Iris-setosa</td>\n    </tr>\n    <tr>\n      <th>3</th>\n      <td>4.6</td>\n      <td>3.1</td>\n      <td>1.5</td>\n      <td>0.2</td>\n      <td>Iris-setosa</td>\n    </tr>\n    <tr>\n      <th>4</th>\n      <td>5.0</td>\n      <td>3.6</td>\n      <td>1.4</td>\n      <td>0.2</td>\n      <td>Iris-setosa</td>\n    </tr>\n    <tr>\n      <th>5</th>\n      <td>5.4</td>\n      <td>3.9</td>\n      <td>1.7</td>\n      <td>0.4</td>\n      <td>Iris-setosa</td>\n    </tr>\n    <tr>\n      <th>6</th>\n      <td>4.6</td>\n      <td>3.4</td>\n      <td>1.4</td>\n      <td>0.3</td>\n      <td>Iris-setosa</td>\n    </tr>\n    <tr>\n      <th>7</th>\n      <td>5.0</td>\n      <td>3.4</td>\n      <td>1.5</td>\n      <td>0.2</td>\n      <td>Iris-setosa</td>\n    </tr>\n    <tr>\n      <th>8</th>\n      <td>4.4</td>\n      <td>2.9</td>\n      <td>1.4</td>\n      <td>0.2</td>\n      <td>Iris-setosa</td>\n    </tr>\n    <tr>\n      <th>9</th>\n      <td>4.9</td>\n      <td>3.1</td>\n      <td>1.5</td>\n      <td>0.1</td>\n      <td>Iris-setosa</td>\n    </tr>\n    <tr>\n      <th>10</th>\n      <td>5.4</td>\n      <td>3.7</td>\n      <td>NaN</td>\n      <td>0.2</td>\n      <td>Iris-setosa</td>\n    </tr>\n    <tr>\n      <th>11</th>\n      <td>4.8</td>\n      <td>3.4</td>\n      <td>NaN</td>\n      <td>0.2</td>\n      <td>Iris-setosa</td>\n    </tr>\n    <tr>\n      <th>12</th>\n      <td>4.8</td>\n      <td>3.0</td>\n      <td>NaN</td>\n      <td>0.1</td>\n      <td>Iris-setosa</td>\n    </tr>\n    <tr>\n      <th>13</th>\n      <td>4.3</td>\n      <td>3.0</td>\n      <td>NaN</td>\n      <td>0.1</td>\n      <td>Iris-setosa</td>\n    </tr>\n    <tr>\n      <th>14</th>\n      <td>5.8</td>\n      <td>4.0</td>\n      <td>NaN</td>\n      <td>0.2</td>\n      <td>Iris-setosa</td>\n    </tr>\n    <tr>\n      <th>15</th>\n      <td>5.7</td>\n      <td>4.4</td>\n      <td>NaN</td>\n      <td>0.4</td>\n      <td>Iris-setosa</td>\n    </tr>\n    <tr>\n      <th>16</th>\n      <td>5.4</td>\n      <td>3.9</td>\n      <td>NaN</td>\n      <td>0.4</td>\n      <td>Iris-setosa</td>\n    </tr>\n    <tr>\n      <th>17</th>\n      <td>5.1</td>\n      <td>3.5</td>\n      <td>NaN</td>\n      <td>0.3</td>\n      <td>Iris-setosa</td>\n    </tr>\n    <tr>\n      <th>18</th>\n      <td>5.7</td>\n      <td>3.8</td>\n      <td>NaN</td>\n      <td>0.3</td>\n      <td>Iris-setosa</td>\n    </tr>\n    <tr>\n      <th>19</th>\n      <td>5.1</td>\n      <td>3.8</td>\n      <td>NaN</td>\n      <td>0.3</td>\n      <td>Iris-setosa</td>\n    </tr>\n    <tr>\n      <th>20</th>\n      <td>5.4</td>\n      <td>3.4</td>\n      <td>NaN</td>\n      <td>0.2</td>\n      <td>Iris-setosa</td>\n    </tr>\n    <tr>\n      <th>21</th>\n      <td>5.1</td>\n      <td>3.7</td>\n      <td>NaN</td>\n      <td>0.4</td>\n      <td>Iris-setosa</td>\n    </tr>\n    <tr>\n      <th>22</th>\n      <td>4.6</td>\n      <td>3.6</td>\n      <td>NaN</td>\n      <td>0.2</td>\n      <td>Iris-setosa</td>\n    </tr>\n    <tr>\n      <th>23</th>\n      <td>5.1</td>\n      <td>3.3</td>\n      <td>NaN</td>\n      <td>0.5</td>\n      <td>Iris-setosa</td>\n    </tr>\n    <tr>\n      <th>24</th>\n      <td>4.8</td>\n      <td>3.4</td>\n      <td>NaN</td>\n      <td>0.2</td>\n      <td>Iris-setosa</td>\n    </tr>\n    <tr>\n      <th>25</th>\n      <td>5.0</td>\n      <td>3.0</td>\n      <td>NaN</td>\n      <td>0.2</td>\n      <td>Iris-setosa</td>\n    </tr>\n    <tr>\n      <th>26</th>\n      <td>5.0</td>\n      <td>3.4</td>\n      <td>NaN</td>\n      <td>0.4</td>\n      <td>Iris-setosa</td>\n    </tr>\n    <tr>\n      <th>27</th>\n      <td>5.2</td>\n      <td>3.5</td>\n      <td>NaN</td>\n      <td>0.2</td>\n      <td>Iris-setosa</td>\n    </tr>\n    <tr>\n      <th>28</th>\n      <td>5.2</td>\n      <td>3.4</td>\n      <td>NaN</td>\n      <td>0.2</td>\n      <td>Iris-setosa</td>\n    </tr>\n    <tr>\n      <th>29</th>\n      <td>4.7</td>\n      <td>3.2</td>\n      <td>NaN</td>\n      <td>0.2</td>\n      <td>Iris-setosa</td>\n    </tr>\n  </tbody>\n</table>\n</div>"
          },
          "metadata": {},
          "execution_count": 16
        }
      ]
    },
    {
      "cell_type": "markdown",
      "metadata": {
        "id": "fKwphTQDd8Wr"
      },
      "source": [
        "### Step 7. Good, now lets substitute the NaN values to 1.0"
      ]
    },
    {
      "cell_type": "code",
      "metadata": {
        "id": "0ilM3yxJd8Wr"
      },
      "source": [
        "iris.fillna(1.0, inplace = True)\n",
        "iris.head(30)"
      ],
      "execution_count": 20,
      "outputs": [
        {
          "output_type": "execute_result",
          "data": {
            "text/plain": [
              "    sepal_length (in cm)  sepal_width (in cm)  petal_length (in cm)  \\\n",
              "0                    5.1                  3.5                   1.4   \n",
              "1                    4.9                  3.0                   1.4   \n",
              "2                    4.7                  3.2                   1.3   \n",
              "3                    4.6                  3.1                   1.5   \n",
              "4                    5.0                  3.6                   1.4   \n",
              "5                    5.4                  3.9                   1.7   \n",
              "6                    4.6                  3.4                   1.4   \n",
              "7                    5.0                  3.4                   1.5   \n",
              "8                    4.4                  2.9                   1.4   \n",
              "9                    4.9                  3.1                   1.5   \n",
              "10                   5.4                  3.7                   1.0   \n",
              "11                   4.8                  3.4                   1.0   \n",
              "12                   4.8                  3.0                   1.0   \n",
              "13                   4.3                  3.0                   1.0   \n",
              "14                   5.8                  4.0                   1.0   \n",
              "15                   5.7                  4.4                   1.0   \n",
              "16                   5.4                  3.9                   1.0   \n",
              "17                   5.1                  3.5                   1.0   \n",
              "18                   5.7                  3.8                   1.0   \n",
              "19                   5.1                  3.8                   1.0   \n",
              "20                   5.4                  3.4                   1.0   \n",
              "21                   5.1                  3.7                   1.0   \n",
              "22                   4.6                  3.6                   1.0   \n",
              "23                   5.1                  3.3                   1.0   \n",
              "24                   4.8                  3.4                   1.0   \n",
              "25                   5.0                  3.0                   1.0   \n",
              "26                   5.0                  3.4                   1.0   \n",
              "27                   5.2                  3.5                   1.0   \n",
              "28                   5.2                  3.4                   1.0   \n",
              "29                   4.7                  3.2                   1.0   \n",
              "\n",
              "    petal_width (in cm)        class  \n",
              "0                   0.2  Iris-setosa  \n",
              "1                   0.2  Iris-setosa  \n",
              "2                   0.2  Iris-setosa  \n",
              "3                   0.2  Iris-setosa  \n",
              "4                   0.2  Iris-setosa  \n",
              "5                   0.4  Iris-setosa  \n",
              "6                   0.3  Iris-setosa  \n",
              "7                   0.2  Iris-setosa  \n",
              "8                   0.2  Iris-setosa  \n",
              "9                   0.1  Iris-setosa  \n",
              "10                  0.2  Iris-setosa  \n",
              "11                  0.2  Iris-setosa  \n",
              "12                  0.1  Iris-setosa  \n",
              "13                  0.1  Iris-setosa  \n",
              "14                  0.2  Iris-setosa  \n",
              "15                  0.4  Iris-setosa  \n",
              "16                  0.4  Iris-setosa  \n",
              "17                  0.3  Iris-setosa  \n",
              "18                  0.3  Iris-setosa  \n",
              "19                  0.3  Iris-setosa  \n",
              "20                  0.2  Iris-setosa  \n",
              "21                  0.4  Iris-setosa  \n",
              "22                  0.2  Iris-setosa  \n",
              "23                  0.5  Iris-setosa  \n",
              "24                  0.2  Iris-setosa  \n",
              "25                  0.2  Iris-setosa  \n",
              "26                  0.4  Iris-setosa  \n",
              "27                  0.2  Iris-setosa  \n",
              "28                  0.2  Iris-setosa  \n",
              "29                  0.2  Iris-setosa  "
            ],
            "text/html": "<div>\n<style scoped>\n    .dataframe tbody tr th:only-of-type {\n        vertical-align: middle;\n    }\n\n    .dataframe tbody tr th {\n        vertical-align: top;\n    }\n\n    .dataframe thead th {\n        text-align: right;\n    }\n</style>\n<table border=\"1\" class=\"dataframe\">\n  <thead>\n    <tr style=\"text-align: right;\">\n      <th></th>\n      <th>sepal_length (in cm)</th>\n      <th>sepal_width (in cm)</th>\n      <th>petal_length (in cm)</th>\n      <th>petal_width (in cm)</th>\n      <th>class</th>\n    </tr>\n  </thead>\n  <tbody>\n    <tr>\n      <th>0</th>\n      <td>5.1</td>\n      <td>3.5</td>\n      <td>1.4</td>\n      <td>0.2</td>\n      <td>Iris-setosa</td>\n    </tr>\n    <tr>\n      <th>1</th>\n      <td>4.9</td>\n      <td>3.0</td>\n      <td>1.4</td>\n      <td>0.2</td>\n      <td>Iris-setosa</td>\n    </tr>\n    <tr>\n      <th>2</th>\n      <td>4.7</td>\n      <td>3.2</td>\n      <td>1.3</td>\n      <td>0.2</td>\n      <td>Iris-setosa</td>\n    </tr>\n    <tr>\n      <th>3</th>\n      <td>4.6</td>\n      <td>3.1</td>\n      <td>1.5</td>\n      <td>0.2</td>\n      <td>Iris-setosa</td>\n    </tr>\n    <tr>\n      <th>4</th>\n      <td>5.0</td>\n      <td>3.6</td>\n      <td>1.4</td>\n      <td>0.2</td>\n      <td>Iris-setosa</td>\n    </tr>\n    <tr>\n      <th>5</th>\n      <td>5.4</td>\n      <td>3.9</td>\n      <td>1.7</td>\n      <td>0.4</td>\n      <td>Iris-setosa</td>\n    </tr>\n    <tr>\n      <th>6</th>\n      <td>4.6</td>\n      <td>3.4</td>\n      <td>1.4</td>\n      <td>0.3</td>\n      <td>Iris-setosa</td>\n    </tr>\n    <tr>\n      <th>7</th>\n      <td>5.0</td>\n      <td>3.4</td>\n      <td>1.5</td>\n      <td>0.2</td>\n      <td>Iris-setosa</td>\n    </tr>\n    <tr>\n      <th>8</th>\n      <td>4.4</td>\n      <td>2.9</td>\n      <td>1.4</td>\n      <td>0.2</td>\n      <td>Iris-setosa</td>\n    </tr>\n    <tr>\n      <th>9</th>\n      <td>4.9</td>\n      <td>3.1</td>\n      <td>1.5</td>\n      <td>0.1</td>\n      <td>Iris-setosa</td>\n    </tr>\n    <tr>\n      <th>10</th>\n      <td>5.4</td>\n      <td>3.7</td>\n      <td>1.0</td>\n      <td>0.2</td>\n      <td>Iris-setosa</td>\n    </tr>\n    <tr>\n      <th>11</th>\n      <td>4.8</td>\n      <td>3.4</td>\n      <td>1.0</td>\n      <td>0.2</td>\n      <td>Iris-setosa</td>\n    </tr>\n    <tr>\n      <th>12</th>\n      <td>4.8</td>\n      <td>3.0</td>\n      <td>1.0</td>\n      <td>0.1</td>\n      <td>Iris-setosa</td>\n    </tr>\n    <tr>\n      <th>13</th>\n      <td>4.3</td>\n      <td>3.0</td>\n      <td>1.0</td>\n      <td>0.1</td>\n      <td>Iris-setosa</td>\n    </tr>\n    <tr>\n      <th>14</th>\n      <td>5.8</td>\n      <td>4.0</td>\n      <td>1.0</td>\n      <td>0.2</td>\n      <td>Iris-setosa</td>\n    </tr>\n    <tr>\n      <th>15</th>\n      <td>5.7</td>\n      <td>4.4</td>\n      <td>1.0</td>\n      <td>0.4</td>\n      <td>Iris-setosa</td>\n    </tr>\n    <tr>\n      <th>16</th>\n      <td>5.4</td>\n      <td>3.9</td>\n      <td>1.0</td>\n      <td>0.4</td>\n      <td>Iris-setosa</td>\n    </tr>\n    <tr>\n      <th>17</th>\n      <td>5.1</td>\n      <td>3.5</td>\n      <td>1.0</td>\n      <td>0.3</td>\n      <td>Iris-setosa</td>\n    </tr>\n    <tr>\n      <th>18</th>\n      <td>5.7</td>\n      <td>3.8</td>\n      <td>1.0</td>\n      <td>0.3</td>\n      <td>Iris-setosa</td>\n    </tr>\n    <tr>\n      <th>19</th>\n      <td>5.1</td>\n      <td>3.8</td>\n      <td>1.0</td>\n      <td>0.3</td>\n      <td>Iris-setosa</td>\n    </tr>\n    <tr>\n      <th>20</th>\n      <td>5.4</td>\n      <td>3.4</td>\n      <td>1.0</td>\n      <td>0.2</td>\n      <td>Iris-setosa</td>\n    </tr>\n    <tr>\n      <th>21</th>\n      <td>5.1</td>\n      <td>3.7</td>\n      <td>1.0</td>\n      <td>0.4</td>\n      <td>Iris-setosa</td>\n    </tr>\n    <tr>\n      <th>22</th>\n      <td>4.6</td>\n      <td>3.6</td>\n      <td>1.0</td>\n      <td>0.2</td>\n      <td>Iris-setosa</td>\n    </tr>\n    <tr>\n      <th>23</th>\n      <td>5.1</td>\n      <td>3.3</td>\n      <td>1.0</td>\n      <td>0.5</td>\n      <td>Iris-setosa</td>\n    </tr>\n    <tr>\n      <th>24</th>\n      <td>4.8</td>\n      <td>3.4</td>\n      <td>1.0</td>\n      <td>0.2</td>\n      <td>Iris-setosa</td>\n    </tr>\n    <tr>\n      <th>25</th>\n      <td>5.0</td>\n      <td>3.0</td>\n      <td>1.0</td>\n      <td>0.2</td>\n      <td>Iris-setosa</td>\n    </tr>\n    <tr>\n      <th>26</th>\n      <td>5.0</td>\n      <td>3.4</td>\n      <td>1.0</td>\n      <td>0.4</td>\n      <td>Iris-setosa</td>\n    </tr>\n    <tr>\n      <th>27</th>\n      <td>5.2</td>\n      <td>3.5</td>\n      <td>1.0</td>\n      <td>0.2</td>\n      <td>Iris-setosa</td>\n    </tr>\n    <tr>\n      <th>28</th>\n      <td>5.2</td>\n      <td>3.4</td>\n      <td>1.0</td>\n      <td>0.2</td>\n      <td>Iris-setosa</td>\n    </tr>\n    <tr>\n      <th>29</th>\n      <td>4.7</td>\n      <td>3.2</td>\n      <td>1.0</td>\n      <td>0.2</td>\n      <td>Iris-setosa</td>\n    </tr>\n  </tbody>\n</table>\n</div>"
          },
          "metadata": {},
          "execution_count": 20
        }
      ]
    },
    {
      "cell_type": "markdown",
      "metadata": {
        "id": "sxBwT-Uxd8Wr"
      },
      "source": [
        "### Step 8. Now let's delete the column class"
      ]
    },
    {
      "cell_type": "code",
      "metadata": {
        "jupyter": {
          "outputs_hidden": false
        },
        "id": "bDHNVQDZd8Ws"
      },
      "source": [
        "iris.drop(columns = ['class'], inplace = True)\n",
        "iris"
      ],
      "execution_count": 22,
      "outputs": [
        {
          "output_type": "execute_result",
          "data": {
            "text/plain": [
              "     sepal_length (in cm)  sepal_width (in cm)  petal_length (in cm)  \\\n",
              "0                     5.1                  3.5                   1.4   \n",
              "1                     4.9                  3.0                   1.4   \n",
              "2                     4.7                  3.2                   1.3   \n",
              "3                     4.6                  3.1                   1.5   \n",
              "4                     5.0                  3.6                   1.4   \n",
              "..                    ...                  ...                   ...   \n",
              "145                   6.7                  3.0                   5.2   \n",
              "146                   6.3                  2.5                   5.0   \n",
              "147                   6.5                  3.0                   5.2   \n",
              "148                   6.2                  3.4                   5.4   \n",
              "149                   5.9                  3.0                   5.1   \n",
              "\n",
              "     petal_width (in cm)  \n",
              "0                    0.2  \n",
              "1                    0.2  \n",
              "2                    0.2  \n",
              "3                    0.2  \n",
              "4                    0.2  \n",
              "..                   ...  \n",
              "145                  2.3  \n",
              "146                  1.9  \n",
              "147                  2.0  \n",
              "148                  2.3  \n",
              "149                  1.8  \n",
              "\n",
              "[150 rows x 4 columns]"
            ],
            "text/html": "<div>\n<style scoped>\n    .dataframe tbody tr th:only-of-type {\n        vertical-align: middle;\n    }\n\n    .dataframe tbody tr th {\n        vertical-align: top;\n    }\n\n    .dataframe thead th {\n        text-align: right;\n    }\n</style>\n<table border=\"1\" class=\"dataframe\">\n  <thead>\n    <tr style=\"text-align: right;\">\n      <th></th>\n      <th>sepal_length (in cm)</th>\n      <th>sepal_width (in cm)</th>\n      <th>petal_length (in cm)</th>\n      <th>petal_width (in cm)</th>\n    </tr>\n  </thead>\n  <tbody>\n    <tr>\n      <th>0</th>\n      <td>5.1</td>\n      <td>3.5</td>\n      <td>1.4</td>\n      <td>0.2</td>\n    </tr>\n    <tr>\n      <th>1</th>\n      <td>4.9</td>\n      <td>3.0</td>\n      <td>1.4</td>\n      <td>0.2</td>\n    </tr>\n    <tr>\n      <th>2</th>\n      <td>4.7</td>\n      <td>3.2</td>\n      <td>1.3</td>\n      <td>0.2</td>\n    </tr>\n    <tr>\n      <th>3</th>\n      <td>4.6</td>\n      <td>3.1</td>\n      <td>1.5</td>\n      <td>0.2</td>\n    </tr>\n    <tr>\n      <th>4</th>\n      <td>5.0</td>\n      <td>3.6</td>\n      <td>1.4</td>\n      <td>0.2</td>\n    </tr>\n    <tr>\n      <th>...</th>\n      <td>...</td>\n      <td>...</td>\n      <td>...</td>\n      <td>...</td>\n    </tr>\n    <tr>\n      <th>145</th>\n      <td>6.7</td>\n      <td>3.0</td>\n      <td>5.2</td>\n      <td>2.3</td>\n    </tr>\n    <tr>\n      <th>146</th>\n      <td>6.3</td>\n      <td>2.5</td>\n      <td>5.0</td>\n      <td>1.9</td>\n    </tr>\n    <tr>\n      <th>147</th>\n      <td>6.5</td>\n      <td>3.0</td>\n      <td>5.2</td>\n      <td>2.0</td>\n    </tr>\n    <tr>\n      <th>148</th>\n      <td>6.2</td>\n      <td>3.4</td>\n      <td>5.4</td>\n      <td>2.3</td>\n    </tr>\n    <tr>\n      <th>149</th>\n      <td>5.9</td>\n      <td>3.0</td>\n      <td>5.1</td>\n      <td>1.8</td>\n    </tr>\n  </tbody>\n</table>\n<p>150 rows × 4 columns</p>\n</div>"
          },
          "metadata": {},
          "execution_count": 22
        }
      ]
    },
    {
      "cell_type": "markdown",
      "metadata": {
        "id": "DQbS3_bRd8Ws"
      },
      "source": [
        "### Step 9.  Set the first 3 rows as NaN"
      ]
    },
    {
      "cell_type": "code",
      "metadata": {
        "id": "-9HZKJRnd8Ws"
      },
      "source": [
        "iris[:3] = float('NaN')\n",
        "iris"
      ],
      "execution_count": 25,
      "outputs": [
        {
          "output_type": "execute_result",
          "data": {
            "text/plain": [
              "     sepal_length (in cm)  sepal_width (in cm)  petal_length (in cm)  \\\n",
              "0                     NaN                  NaN                   NaN   \n",
              "1                     NaN                  NaN                   NaN   \n",
              "2                     NaN                  NaN                   NaN   \n",
              "3                     4.6                  3.1                   1.5   \n",
              "4                     5.0                  3.6                   1.4   \n",
              "..                    ...                  ...                   ...   \n",
              "145                   6.7                  3.0                   5.2   \n",
              "146                   6.3                  2.5                   5.0   \n",
              "147                   6.5                  3.0                   5.2   \n",
              "148                   6.2                  3.4                   5.4   \n",
              "149                   5.9                  3.0                   5.1   \n",
              "\n",
              "     petal_width (in cm)  \n",
              "0                    NaN  \n",
              "1                    NaN  \n",
              "2                    NaN  \n",
              "3                    0.2  \n",
              "4                    0.2  \n",
              "..                   ...  \n",
              "145                  2.3  \n",
              "146                  1.9  \n",
              "147                  2.0  \n",
              "148                  2.3  \n",
              "149                  1.8  \n",
              "\n",
              "[150 rows x 4 columns]"
            ],
            "text/html": "<div>\n<style scoped>\n    .dataframe tbody tr th:only-of-type {\n        vertical-align: middle;\n    }\n\n    .dataframe tbody tr th {\n        vertical-align: top;\n    }\n\n    .dataframe thead th {\n        text-align: right;\n    }\n</style>\n<table border=\"1\" class=\"dataframe\">\n  <thead>\n    <tr style=\"text-align: right;\">\n      <th></th>\n      <th>sepal_length (in cm)</th>\n      <th>sepal_width (in cm)</th>\n      <th>petal_length (in cm)</th>\n      <th>petal_width (in cm)</th>\n    </tr>\n  </thead>\n  <tbody>\n    <tr>\n      <th>0</th>\n      <td>NaN</td>\n      <td>NaN</td>\n      <td>NaN</td>\n      <td>NaN</td>\n    </tr>\n    <tr>\n      <th>1</th>\n      <td>NaN</td>\n      <td>NaN</td>\n      <td>NaN</td>\n      <td>NaN</td>\n    </tr>\n    <tr>\n      <th>2</th>\n      <td>NaN</td>\n      <td>NaN</td>\n      <td>NaN</td>\n      <td>NaN</td>\n    </tr>\n    <tr>\n      <th>3</th>\n      <td>4.6</td>\n      <td>3.1</td>\n      <td>1.5</td>\n      <td>0.2</td>\n    </tr>\n    <tr>\n      <th>4</th>\n      <td>5.0</td>\n      <td>3.6</td>\n      <td>1.4</td>\n      <td>0.2</td>\n    </tr>\n    <tr>\n      <th>...</th>\n      <td>...</td>\n      <td>...</td>\n      <td>...</td>\n      <td>...</td>\n    </tr>\n    <tr>\n      <th>145</th>\n      <td>6.7</td>\n      <td>3.0</td>\n      <td>5.2</td>\n      <td>2.3</td>\n    </tr>\n    <tr>\n      <th>146</th>\n      <td>6.3</td>\n      <td>2.5</td>\n      <td>5.0</td>\n      <td>1.9</td>\n    </tr>\n    <tr>\n      <th>147</th>\n      <td>6.5</td>\n      <td>3.0</td>\n      <td>5.2</td>\n      <td>2.0</td>\n    </tr>\n    <tr>\n      <th>148</th>\n      <td>6.2</td>\n      <td>3.4</td>\n      <td>5.4</td>\n      <td>2.3</td>\n    </tr>\n    <tr>\n      <th>149</th>\n      <td>5.9</td>\n      <td>3.0</td>\n      <td>5.1</td>\n      <td>1.8</td>\n    </tr>\n  </tbody>\n</table>\n<p>150 rows × 4 columns</p>\n</div>"
          },
          "metadata": {},
          "execution_count": 25
        }
      ]
    },
    {
      "cell_type": "markdown",
      "metadata": {
        "id": "HtBIu_cPd8Ws"
      },
      "source": [
        "### Step 10.  Delete the rows that have NaN"
      ]
    },
    {
      "cell_type": "code",
      "metadata": {
        "id": "noxnh4Ced8Ws"
      },
      "source": [
        "iris = iris[iris['petal_width (in cm)'].isnull() == False]\n",
        "iris"
      ],
      "execution_count": 32,
      "outputs": [
        {
          "output_type": "execute_result",
          "data": {
            "text/plain": [
              "     sepal_length (in cm)  sepal_width (in cm)  petal_length (in cm)  \\\n",
              "3                     4.6                  3.1                   1.5   \n",
              "4                     5.0                  3.6                   1.4   \n",
              "5                     5.4                  3.9                   1.7   \n",
              "6                     4.6                  3.4                   1.4   \n",
              "7                     5.0                  3.4                   1.5   \n",
              "..                    ...                  ...                   ...   \n",
              "145                   6.7                  3.0                   5.2   \n",
              "146                   6.3                  2.5                   5.0   \n",
              "147                   6.5                  3.0                   5.2   \n",
              "148                   6.2                  3.4                   5.4   \n",
              "149                   5.9                  3.0                   5.1   \n",
              "\n",
              "     petal_width (in cm)  \n",
              "3                    0.2  \n",
              "4                    0.2  \n",
              "5                    0.4  \n",
              "6                    0.3  \n",
              "7                    0.2  \n",
              "..                   ...  \n",
              "145                  2.3  \n",
              "146                  1.9  \n",
              "147                  2.0  \n",
              "148                  2.3  \n",
              "149                  1.8  \n",
              "\n",
              "[147 rows x 4 columns]"
            ],
            "text/html": "<div>\n<style scoped>\n    .dataframe tbody tr th:only-of-type {\n        vertical-align: middle;\n    }\n\n    .dataframe tbody tr th {\n        vertical-align: top;\n    }\n\n    .dataframe thead th {\n        text-align: right;\n    }\n</style>\n<table border=\"1\" class=\"dataframe\">\n  <thead>\n    <tr style=\"text-align: right;\">\n      <th></th>\n      <th>sepal_length (in cm)</th>\n      <th>sepal_width (in cm)</th>\n      <th>petal_length (in cm)</th>\n      <th>petal_width (in cm)</th>\n    </tr>\n  </thead>\n  <tbody>\n    <tr>\n      <th>3</th>\n      <td>4.6</td>\n      <td>3.1</td>\n      <td>1.5</td>\n      <td>0.2</td>\n    </tr>\n    <tr>\n      <th>4</th>\n      <td>5.0</td>\n      <td>3.6</td>\n      <td>1.4</td>\n      <td>0.2</td>\n    </tr>\n    <tr>\n      <th>5</th>\n      <td>5.4</td>\n      <td>3.9</td>\n      <td>1.7</td>\n      <td>0.4</td>\n    </tr>\n    <tr>\n      <th>6</th>\n      <td>4.6</td>\n      <td>3.4</td>\n      <td>1.4</td>\n      <td>0.3</td>\n    </tr>\n    <tr>\n      <th>7</th>\n      <td>5.0</td>\n      <td>3.4</td>\n      <td>1.5</td>\n      <td>0.2</td>\n    </tr>\n    <tr>\n      <th>...</th>\n      <td>...</td>\n      <td>...</td>\n      <td>...</td>\n      <td>...</td>\n    </tr>\n    <tr>\n      <th>145</th>\n      <td>6.7</td>\n      <td>3.0</td>\n      <td>5.2</td>\n      <td>2.3</td>\n    </tr>\n    <tr>\n      <th>146</th>\n      <td>6.3</td>\n      <td>2.5</td>\n      <td>5.0</td>\n      <td>1.9</td>\n    </tr>\n    <tr>\n      <th>147</th>\n      <td>6.5</td>\n      <td>3.0</td>\n      <td>5.2</td>\n      <td>2.0</td>\n    </tr>\n    <tr>\n      <th>148</th>\n      <td>6.2</td>\n      <td>3.4</td>\n      <td>5.4</td>\n      <td>2.3</td>\n    </tr>\n    <tr>\n      <th>149</th>\n      <td>5.9</td>\n      <td>3.0</td>\n      <td>5.1</td>\n      <td>1.8</td>\n    </tr>\n  </tbody>\n</table>\n<p>147 rows × 4 columns</p>\n</div>"
          },
          "metadata": {},
          "execution_count": 32
        }
      ]
    },
    {
      "cell_type": "markdown",
      "metadata": {
        "id": "nzQefbndd8Ws"
      },
      "source": [
        "### Step 11. Reset the index so it begins with 0 again"
      ]
    },
    {
      "cell_type": "code",
      "metadata": {
        "id": "5HMPsZxxd8Wt"
      },
      "source": [
        "iris.reset_index(inplace = True)\n",
        "iris.drop(\"index\", axis = 1, inplace = True)\n",
        "iris"
      ],
      "execution_count": 33,
      "outputs": [
        {
          "output_type": "stream",
          "name": "stderr",
          "text": [
            "/Library/Frameworks/Python.framework/Versions/3.7/lib/python3.7/site-packages/pandas/core/frame.py:4315: SettingWithCopyWarning: \nA value is trying to be set on a copy of a slice from a DataFrame\n\nSee the caveats in the documentation: https://pandas.pydata.org/pandas-docs/stable/user_guide/indexing.html#returning-a-view-versus-a-copy\n  errors=errors,\n"
          ]
        },
        {
          "output_type": "execute_result",
          "data": {
            "text/plain": [
              "     sepal_length (in cm)  sepal_width (in cm)  petal_length (in cm)  \\\n",
              "0                     4.6                  3.1                   1.5   \n",
              "1                     5.0                  3.6                   1.4   \n",
              "2                     5.4                  3.9                   1.7   \n",
              "3                     4.6                  3.4                   1.4   \n",
              "4                     5.0                  3.4                   1.5   \n",
              "..                    ...                  ...                   ...   \n",
              "142                   6.7                  3.0                   5.2   \n",
              "143                   6.3                  2.5                   5.0   \n",
              "144                   6.5                  3.0                   5.2   \n",
              "145                   6.2                  3.4                   5.4   \n",
              "146                   5.9                  3.0                   5.1   \n",
              "\n",
              "     petal_width (in cm)  \n",
              "0                    0.2  \n",
              "1                    0.2  \n",
              "2                    0.4  \n",
              "3                    0.3  \n",
              "4                    0.2  \n",
              "..                   ...  \n",
              "142                  2.3  \n",
              "143                  1.9  \n",
              "144                  2.0  \n",
              "145                  2.3  \n",
              "146                  1.8  \n",
              "\n",
              "[147 rows x 4 columns]"
            ],
            "text/html": "<div>\n<style scoped>\n    .dataframe tbody tr th:only-of-type {\n        vertical-align: middle;\n    }\n\n    .dataframe tbody tr th {\n        vertical-align: top;\n    }\n\n    .dataframe thead th {\n        text-align: right;\n    }\n</style>\n<table border=\"1\" class=\"dataframe\">\n  <thead>\n    <tr style=\"text-align: right;\">\n      <th></th>\n      <th>sepal_length (in cm)</th>\n      <th>sepal_width (in cm)</th>\n      <th>petal_length (in cm)</th>\n      <th>petal_width (in cm)</th>\n    </tr>\n  </thead>\n  <tbody>\n    <tr>\n      <th>0</th>\n      <td>4.6</td>\n      <td>3.1</td>\n      <td>1.5</td>\n      <td>0.2</td>\n    </tr>\n    <tr>\n      <th>1</th>\n      <td>5.0</td>\n      <td>3.6</td>\n      <td>1.4</td>\n      <td>0.2</td>\n    </tr>\n    <tr>\n      <th>2</th>\n      <td>5.4</td>\n      <td>3.9</td>\n      <td>1.7</td>\n      <td>0.4</td>\n    </tr>\n    <tr>\n      <th>3</th>\n      <td>4.6</td>\n      <td>3.4</td>\n      <td>1.4</td>\n      <td>0.3</td>\n    </tr>\n    <tr>\n      <th>4</th>\n      <td>5.0</td>\n      <td>3.4</td>\n      <td>1.5</td>\n      <td>0.2</td>\n    </tr>\n    <tr>\n      <th>...</th>\n      <td>...</td>\n      <td>...</td>\n      <td>...</td>\n      <td>...</td>\n    </tr>\n    <tr>\n      <th>142</th>\n      <td>6.7</td>\n      <td>3.0</td>\n      <td>5.2</td>\n      <td>2.3</td>\n    </tr>\n    <tr>\n      <th>143</th>\n      <td>6.3</td>\n      <td>2.5</td>\n      <td>5.0</td>\n      <td>1.9</td>\n    </tr>\n    <tr>\n      <th>144</th>\n      <td>6.5</td>\n      <td>3.0</td>\n      <td>5.2</td>\n      <td>2.0</td>\n    </tr>\n    <tr>\n      <th>145</th>\n      <td>6.2</td>\n      <td>3.4</td>\n      <td>5.4</td>\n      <td>2.3</td>\n    </tr>\n    <tr>\n      <th>146</th>\n      <td>5.9</td>\n      <td>3.0</td>\n      <td>5.1</td>\n      <td>1.8</td>\n    </tr>\n  </tbody>\n</table>\n<p>147 rows × 4 columns</p>\n</div>"
          },
          "metadata": {},
          "execution_count": 33
        }
      ]
    },
    {
      "cell_type": "code",
      "execution_count": null,
      "metadata": {},
      "outputs": [],
      "source": []
    }
  ]
}