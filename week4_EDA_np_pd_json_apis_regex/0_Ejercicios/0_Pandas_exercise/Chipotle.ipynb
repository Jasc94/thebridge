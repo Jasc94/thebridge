{
  "nbformat": 4,
  "nbformat_minor": 0,
  "metadata": {
    "anaconda-cloud": {},
    "kernelspec": {
      "name": "python374jvsc74a57bd0aee8b7b246df8f9039afb4144a1f6fd8d2ca17a180786b69acc140d282b71a49",
      "display_name": "Python 3.7.4 64-bit"
    },
    "language_info": {
      "codemirror_mode": {
        "name": "ipython",
        "version": 3
      },
      "file_extension": ".py",
      "mimetype": "text/x-python",
      "name": "python",
      "nbconvert_exporter": "python",
      "pygments_lexer": "ipython3",
      "version": "3.7.4"
    },
    "colab": {
      "name": "Chipotle.ipynb",
      "provenance": []
    },
    "metadata": {
      "interpreter": {
        "hash": "aee8b7b246df8f9039afb4144a1f6fd8d2ca17a180786b69acc140d282b71a49"
      }
    }
  },
  "cells": [
    {
      "cell_type": "markdown",
      "metadata": {
        "id": "K7gFlNfZAPC_"
      },
      "source": [
        "# 02 - Filtering and Sorting Data"
      ]
    },
    {
      "cell_type": "markdown",
      "metadata": {
        "id": "IIGC5gh3APDG"
      },
      "source": [
        "\n",
        "\n",
        "### Step 1. Import the necessary libraries"
      ]
    },
    {
      "cell_type": "code",
      "metadata": {
        "id": "fwwhyO1BAPDG"
      },
      "source": [
        "import numpy as np\n",
        "import pandas as pd\n",
        "import re"
      ],
      "execution_count": 1,
      "outputs": []
    },
    {
      "cell_type": "markdown",
      "metadata": {
        "id": "gjtWDtG7APDH"
      },
      "source": [
        "### Step 2. Import the dataset from this [address](https://raw.githubusercontent.com/justmarkham/DAT8/master/data/chipotle.tsv). Assign it to a variable called chipo.\n",
        "\n",
        "This time we are going to pull data directly from the internet."
      ]
    },
    {
      "cell_type": "code",
      "metadata": {
        "id": "G5BUVXJ8APDH"
      },
      "source": [
        "address = \"https://raw.githubusercontent.com/justmarkham/DAT8/master/data/chipotle.tsv\""
      ],
      "execution_count": 2,
      "outputs": []
    },
    {
      "cell_type": "code",
      "execution_count": 128,
      "metadata": {},
      "outputs": [
        {
          "output_type": "execute_result",
          "data": {
            "text/plain": [
              "    order_id  quantity                              item_name  \\\n",
              "0          1         1           Chips and Fresh Tomato Salsa   \n",
              "1          1         1                                   Izze   \n",
              "2          1         1                       Nantucket Nectar   \n",
              "3          1         1  Chips and Tomatillo-Green Chili Salsa   \n",
              "4          2         2                           Chicken Bowl   \n",
              "5          3         1                           Chicken Bowl   \n",
              "6          3         1                          Side of Chips   \n",
              "7          4         1                          Steak Burrito   \n",
              "8          4         1                       Steak Soft Tacos   \n",
              "9          5         1                          Steak Burrito   \n",
              "10         5         1                    Chips and Guacamole   \n",
              "11         6         1                   Chicken Crispy Tacos   \n",
              "12         6         1                     Chicken Soft Tacos   \n",
              "13         7         1                           Chicken Bowl   \n",
              "14         7         1                    Chips and Guacamole   \n",
              "15         8         1  Chips and Tomatillo-Green Chili Salsa   \n",
              "16         8         1                        Chicken Burrito   \n",
              "17         9         1                        Chicken Burrito   \n",
              "18         9         2                            Canned Soda   \n",
              "19        10         1                           Chicken Bowl   \n",
              "\n",
              "                                   choice_description item_price  \n",
              "0                                                 NaN     $2.39   \n",
              "1                                        [Clementine]     $3.39   \n",
              "2                                             [Apple]     $3.39   \n",
              "3                                                 NaN     $2.39   \n",
              "4   [Tomatillo-Red Chili Salsa (Hot), [Black Beans...    $16.98   \n",
              "5   [Fresh Tomato Salsa (Mild), [Rice, Cheese, Sou...    $10.98   \n",
              "6                                                 NaN     $1.69   \n",
              "7   [Tomatillo Red Chili Salsa, [Fajita Vegetables...    $11.75   \n",
              "8   [Tomatillo Green Chili Salsa, [Pinto Beans, Ch...     $9.25   \n",
              "9   [Fresh Tomato Salsa, [Rice, Black Beans, Pinto...     $9.25   \n",
              "10                                                NaN     $4.45   \n",
              "11  [Roasted Chili Corn Salsa, [Fajita Vegetables,...     $8.75   \n",
              "12  [Roasted Chili Corn Salsa, [Rice, Black Beans,...     $8.75   \n",
              "13  [Fresh Tomato Salsa, [Fajita Vegetables, Rice,...    $11.25   \n",
              "14                                                NaN     $4.45   \n",
              "15                                                NaN     $2.39   \n",
              "16  [Tomatillo-Green Chili Salsa (Medium), [Pinto ...     $8.49   \n",
              "17  [Fresh Tomato Salsa (Mild), [Black Beans, Rice...     $8.49   \n",
              "18                                           [Sprite]     $2.18   \n",
              "19  [Tomatillo Red Chili Salsa, [Fajita Vegetables...     $8.75   "
            ],
            "text/html": "<div>\n<style scoped>\n    .dataframe tbody tr th:only-of-type {\n        vertical-align: middle;\n    }\n\n    .dataframe tbody tr th {\n        vertical-align: top;\n    }\n\n    .dataframe thead th {\n        text-align: right;\n    }\n</style>\n<table border=\"1\" class=\"dataframe\">\n  <thead>\n    <tr style=\"text-align: right;\">\n      <th></th>\n      <th>order_id</th>\n      <th>quantity</th>\n      <th>item_name</th>\n      <th>choice_description</th>\n      <th>item_price</th>\n    </tr>\n  </thead>\n  <tbody>\n    <tr>\n      <th>0</th>\n      <td>1</td>\n      <td>1</td>\n      <td>Chips and Fresh Tomato Salsa</td>\n      <td>NaN</td>\n      <td>$2.39</td>\n    </tr>\n    <tr>\n      <th>1</th>\n      <td>1</td>\n      <td>1</td>\n      <td>Izze</td>\n      <td>[Clementine]</td>\n      <td>$3.39</td>\n    </tr>\n    <tr>\n      <th>2</th>\n      <td>1</td>\n      <td>1</td>\n      <td>Nantucket Nectar</td>\n      <td>[Apple]</td>\n      <td>$3.39</td>\n    </tr>\n    <tr>\n      <th>3</th>\n      <td>1</td>\n      <td>1</td>\n      <td>Chips and Tomatillo-Green Chili Salsa</td>\n      <td>NaN</td>\n      <td>$2.39</td>\n    </tr>\n    <tr>\n      <th>4</th>\n      <td>2</td>\n      <td>2</td>\n      <td>Chicken Bowl</td>\n      <td>[Tomatillo-Red Chili Salsa (Hot), [Black Beans...</td>\n      <td>$16.98</td>\n    </tr>\n    <tr>\n      <th>5</th>\n      <td>3</td>\n      <td>1</td>\n      <td>Chicken Bowl</td>\n      <td>[Fresh Tomato Salsa (Mild), [Rice, Cheese, Sou...</td>\n      <td>$10.98</td>\n    </tr>\n    <tr>\n      <th>6</th>\n      <td>3</td>\n      <td>1</td>\n      <td>Side of Chips</td>\n      <td>NaN</td>\n      <td>$1.69</td>\n    </tr>\n    <tr>\n      <th>7</th>\n      <td>4</td>\n      <td>1</td>\n      <td>Steak Burrito</td>\n      <td>[Tomatillo Red Chili Salsa, [Fajita Vegetables...</td>\n      <td>$11.75</td>\n    </tr>\n    <tr>\n      <th>8</th>\n      <td>4</td>\n      <td>1</td>\n      <td>Steak Soft Tacos</td>\n      <td>[Tomatillo Green Chili Salsa, [Pinto Beans, Ch...</td>\n      <td>$9.25</td>\n    </tr>\n    <tr>\n      <th>9</th>\n      <td>5</td>\n      <td>1</td>\n      <td>Steak Burrito</td>\n      <td>[Fresh Tomato Salsa, [Rice, Black Beans, Pinto...</td>\n      <td>$9.25</td>\n    </tr>\n    <tr>\n      <th>10</th>\n      <td>5</td>\n      <td>1</td>\n      <td>Chips and Guacamole</td>\n      <td>NaN</td>\n      <td>$4.45</td>\n    </tr>\n    <tr>\n      <th>11</th>\n      <td>6</td>\n      <td>1</td>\n      <td>Chicken Crispy Tacos</td>\n      <td>[Roasted Chili Corn Salsa, [Fajita Vegetables,...</td>\n      <td>$8.75</td>\n    </tr>\n    <tr>\n      <th>12</th>\n      <td>6</td>\n      <td>1</td>\n      <td>Chicken Soft Tacos</td>\n      <td>[Roasted Chili Corn Salsa, [Rice, Black Beans,...</td>\n      <td>$8.75</td>\n    </tr>\n    <tr>\n      <th>13</th>\n      <td>7</td>\n      <td>1</td>\n      <td>Chicken Bowl</td>\n      <td>[Fresh Tomato Salsa, [Fajita Vegetables, Rice,...</td>\n      <td>$11.25</td>\n    </tr>\n    <tr>\n      <th>14</th>\n      <td>7</td>\n      <td>1</td>\n      <td>Chips and Guacamole</td>\n      <td>NaN</td>\n      <td>$4.45</td>\n    </tr>\n    <tr>\n      <th>15</th>\n      <td>8</td>\n      <td>1</td>\n      <td>Chips and Tomatillo-Green Chili Salsa</td>\n      <td>NaN</td>\n      <td>$2.39</td>\n    </tr>\n    <tr>\n      <th>16</th>\n      <td>8</td>\n      <td>1</td>\n      <td>Chicken Burrito</td>\n      <td>[Tomatillo-Green Chili Salsa (Medium), [Pinto ...</td>\n      <td>$8.49</td>\n    </tr>\n    <tr>\n      <th>17</th>\n      <td>9</td>\n      <td>1</td>\n      <td>Chicken Burrito</td>\n      <td>[Fresh Tomato Salsa (Mild), [Black Beans, Rice...</td>\n      <td>$8.49</td>\n    </tr>\n    <tr>\n      <th>18</th>\n      <td>9</td>\n      <td>2</td>\n      <td>Canned Soda</td>\n      <td>[Sprite]</td>\n      <td>$2.18</td>\n    </tr>\n    <tr>\n      <th>19</th>\n      <td>10</td>\n      <td>1</td>\n      <td>Chicken Bowl</td>\n      <td>[Tomatillo Red Chili Salsa, [Fajita Vegetables...</td>\n      <td>$8.75</td>\n    </tr>\n  </tbody>\n</table>\n</div>"
          },
          "metadata": {},
          "execution_count": 128
        }
      ],
      "source": [
        "df = pd.read_csv(address, sep = '\\t')\n",
        "df.head(20)"
      ]
    },
    {
      "cell_type": "markdown",
      "metadata": {
        "id": "Fzpvz02QAPDH"
      },
      "source": [
        "### Step 3. Name of the most expensive products (item_name)\n",
        "\n",
        "¿Recuerdas el `map`? En **pandas** tienes el método [`apply`](https://pandas.pydata.org/pandas-docs/stable/reference/api/pandas.DataFrame.apply.html) y en para resolver este ejercicio te puede ser muy útil. \n",
        "\n",
        "Pero no acaba ahí https://stackoverflow.com/questions/19798153/difference-between-map-applymap-and-apply-methods-in-pandas"
      ]
    },
    {
      "cell_type": "code",
      "execution_count": 106,
      "metadata": {},
      "outputs": [
        {
          "output_type": "execute_result",
          "data": {
            "text/plain": [
              "dtype('O')"
            ]
          },
          "metadata": {},
          "execution_count": 106
        }
      ],
      "source": [
        "df['item_price'].dtype"
      ]
    },
    {
      "cell_type": "code",
      "execution_count": 129,
      "metadata": {
        "tags": []
      },
      "outputs": [
        {
          "output_type": "execute_result",
          "data": {
            "text/plain": [
              "dtype('float64')"
            ]
          },
          "metadata": {},
          "execution_count": 129
        }
      ],
      "source": [
        "# Step 1) Sacar la columna de los precios en formato float\n",
        "\n",
        "# Como la variable no es tipo float, la transformo primero para poder sacar maximos y minimos\n",
        "# Para ello saco el patrón con regex\n",
        "df['item_price_2'] = re.findall('[\\d]*[.][\\d]*', str(list(df['item_price'].values)))\n",
        "# La neuva columna la paso a numerico\n",
        "df['item_price_2'] = pd.to_numeric(df['item_price_2'])\n",
        "# Esto ya es tipo floar\n",
        "df['item_price_2'].dtype"
      ]
    },
    {
      "cell_type": "code",
      "execution_count": 131,
      "metadata": {},
      "outputs": [
        {
          "output_type": "execute_result",
          "data": {
            "text/plain": [
              "    order_id  quantity                              item_name  \\\n",
              "0          1         1           Chips and Fresh Tomato Salsa   \n",
              "1          1         1                                   Izze   \n",
              "2          1         1                       Nantucket Nectar   \n",
              "3          1         1  Chips and Tomatillo-Green Chili Salsa   \n",
              "4          2         2                           Chicken Bowl   \n",
              "5          3         1                           Chicken Bowl   \n",
              "6          3         1                          Side of Chips   \n",
              "7          4         1                          Steak Burrito   \n",
              "8          4         1                       Steak Soft Tacos   \n",
              "9          5         1                          Steak Burrito   \n",
              "10         5         1                    Chips and Guacamole   \n",
              "11         6         1                   Chicken Crispy Tacos   \n",
              "12         6         1                     Chicken Soft Tacos   \n",
              "13         7         1                           Chicken Bowl   \n",
              "14         7         1                    Chips and Guacamole   \n",
              "15         8         1  Chips and Tomatillo-Green Chili Salsa   \n",
              "16         8         1                        Chicken Burrito   \n",
              "17         9         1                        Chicken Burrito   \n",
              "18         9         2                            Canned Soda   \n",
              "19        10         1                           Chicken Bowl   \n",
              "\n",
              "                                   choice_description item_price  \\\n",
              "0                                                 NaN     $2.39    \n",
              "1                                        [Clementine]     $3.39    \n",
              "2                                             [Apple]     $3.39    \n",
              "3                                                 NaN     $2.39    \n",
              "4   [Tomatillo-Red Chili Salsa (Hot), [Black Beans...    $16.98    \n",
              "5   [Fresh Tomato Salsa (Mild), [Rice, Cheese, Sou...    $10.98    \n",
              "6                                                 NaN     $1.69    \n",
              "7   [Tomatillo Red Chili Salsa, [Fajita Vegetables...    $11.75    \n",
              "8   [Tomatillo Green Chili Salsa, [Pinto Beans, Ch...     $9.25    \n",
              "9   [Fresh Tomato Salsa, [Rice, Black Beans, Pinto...     $9.25    \n",
              "10                                                NaN     $4.45    \n",
              "11  [Roasted Chili Corn Salsa, [Fajita Vegetables,...     $8.75    \n",
              "12  [Roasted Chili Corn Salsa, [Rice, Black Beans,...     $8.75    \n",
              "13  [Fresh Tomato Salsa, [Fajita Vegetables, Rice,...    $11.25    \n",
              "14                                                NaN     $4.45    \n",
              "15                                                NaN     $2.39    \n",
              "16  [Tomatillo-Green Chili Salsa (Medium), [Pinto ...     $8.49    \n",
              "17  [Fresh Tomato Salsa (Mild), [Black Beans, Rice...     $8.49    \n",
              "18                                           [Sprite]     $2.18    \n",
              "19  [Tomatillo Red Chili Salsa, [Fajita Vegetables...     $8.75    \n",
              "\n",
              "    item_price_2  unit_price  \n",
              "0           2.39        2.39  \n",
              "1           3.39        3.39  \n",
              "2           3.39        3.39  \n",
              "3           2.39        2.39  \n",
              "4          16.98        8.49  \n",
              "5          10.98       10.98  \n",
              "6           1.69        1.69  \n",
              "7          11.75       11.75  \n",
              "8           9.25        9.25  \n",
              "9           9.25        9.25  \n",
              "10          4.45        4.45  \n",
              "11          8.75        8.75  \n",
              "12          8.75        8.75  \n",
              "13         11.25       11.25  \n",
              "14          4.45        4.45  \n",
              "15          2.39        2.39  \n",
              "16          8.49        8.49  \n",
              "17          8.49        8.49  \n",
              "18          2.18        1.09  \n",
              "19          8.75        8.75  "
            ],
            "text/html": "<div>\n<style scoped>\n    .dataframe tbody tr th:only-of-type {\n        vertical-align: middle;\n    }\n\n    .dataframe tbody tr th {\n        vertical-align: top;\n    }\n\n    .dataframe thead th {\n        text-align: right;\n    }\n</style>\n<table border=\"1\" class=\"dataframe\">\n  <thead>\n    <tr style=\"text-align: right;\">\n      <th></th>\n      <th>order_id</th>\n      <th>quantity</th>\n      <th>item_name</th>\n      <th>choice_description</th>\n      <th>item_price</th>\n      <th>item_price_2</th>\n      <th>unit_price</th>\n    </tr>\n  </thead>\n  <tbody>\n    <tr>\n      <th>0</th>\n      <td>1</td>\n      <td>1</td>\n      <td>Chips and Fresh Tomato Salsa</td>\n      <td>NaN</td>\n      <td>$2.39</td>\n      <td>2.39</td>\n      <td>2.39</td>\n    </tr>\n    <tr>\n      <th>1</th>\n      <td>1</td>\n      <td>1</td>\n      <td>Izze</td>\n      <td>[Clementine]</td>\n      <td>$3.39</td>\n      <td>3.39</td>\n      <td>3.39</td>\n    </tr>\n    <tr>\n      <th>2</th>\n      <td>1</td>\n      <td>1</td>\n      <td>Nantucket Nectar</td>\n      <td>[Apple]</td>\n      <td>$3.39</td>\n      <td>3.39</td>\n      <td>3.39</td>\n    </tr>\n    <tr>\n      <th>3</th>\n      <td>1</td>\n      <td>1</td>\n      <td>Chips and Tomatillo-Green Chili Salsa</td>\n      <td>NaN</td>\n      <td>$2.39</td>\n      <td>2.39</td>\n      <td>2.39</td>\n    </tr>\n    <tr>\n      <th>4</th>\n      <td>2</td>\n      <td>2</td>\n      <td>Chicken Bowl</td>\n      <td>[Tomatillo-Red Chili Salsa (Hot), [Black Beans...</td>\n      <td>$16.98</td>\n      <td>16.98</td>\n      <td>8.49</td>\n    </tr>\n    <tr>\n      <th>5</th>\n      <td>3</td>\n      <td>1</td>\n      <td>Chicken Bowl</td>\n      <td>[Fresh Tomato Salsa (Mild), [Rice, Cheese, Sou...</td>\n      <td>$10.98</td>\n      <td>10.98</td>\n      <td>10.98</td>\n    </tr>\n    <tr>\n      <th>6</th>\n      <td>3</td>\n      <td>1</td>\n      <td>Side of Chips</td>\n      <td>NaN</td>\n      <td>$1.69</td>\n      <td>1.69</td>\n      <td>1.69</td>\n    </tr>\n    <tr>\n      <th>7</th>\n      <td>4</td>\n      <td>1</td>\n      <td>Steak Burrito</td>\n      <td>[Tomatillo Red Chili Salsa, [Fajita Vegetables...</td>\n      <td>$11.75</td>\n      <td>11.75</td>\n      <td>11.75</td>\n    </tr>\n    <tr>\n      <th>8</th>\n      <td>4</td>\n      <td>1</td>\n      <td>Steak Soft Tacos</td>\n      <td>[Tomatillo Green Chili Salsa, [Pinto Beans, Ch...</td>\n      <td>$9.25</td>\n      <td>9.25</td>\n      <td>9.25</td>\n    </tr>\n    <tr>\n      <th>9</th>\n      <td>5</td>\n      <td>1</td>\n      <td>Steak Burrito</td>\n      <td>[Fresh Tomato Salsa, [Rice, Black Beans, Pinto...</td>\n      <td>$9.25</td>\n      <td>9.25</td>\n      <td>9.25</td>\n    </tr>\n    <tr>\n      <th>10</th>\n      <td>5</td>\n      <td>1</td>\n      <td>Chips and Guacamole</td>\n      <td>NaN</td>\n      <td>$4.45</td>\n      <td>4.45</td>\n      <td>4.45</td>\n    </tr>\n    <tr>\n      <th>11</th>\n      <td>6</td>\n      <td>1</td>\n      <td>Chicken Crispy Tacos</td>\n      <td>[Roasted Chili Corn Salsa, [Fajita Vegetables,...</td>\n      <td>$8.75</td>\n      <td>8.75</td>\n      <td>8.75</td>\n    </tr>\n    <tr>\n      <th>12</th>\n      <td>6</td>\n      <td>1</td>\n      <td>Chicken Soft Tacos</td>\n      <td>[Roasted Chili Corn Salsa, [Rice, Black Beans,...</td>\n      <td>$8.75</td>\n      <td>8.75</td>\n      <td>8.75</td>\n    </tr>\n    <tr>\n      <th>13</th>\n      <td>7</td>\n      <td>1</td>\n      <td>Chicken Bowl</td>\n      <td>[Fresh Tomato Salsa, [Fajita Vegetables, Rice,...</td>\n      <td>$11.25</td>\n      <td>11.25</td>\n      <td>11.25</td>\n    </tr>\n    <tr>\n      <th>14</th>\n      <td>7</td>\n      <td>1</td>\n      <td>Chips and Guacamole</td>\n      <td>NaN</td>\n      <td>$4.45</td>\n      <td>4.45</td>\n      <td>4.45</td>\n    </tr>\n    <tr>\n      <th>15</th>\n      <td>8</td>\n      <td>1</td>\n      <td>Chips and Tomatillo-Green Chili Salsa</td>\n      <td>NaN</td>\n      <td>$2.39</td>\n      <td>2.39</td>\n      <td>2.39</td>\n    </tr>\n    <tr>\n      <th>16</th>\n      <td>8</td>\n      <td>1</td>\n      <td>Chicken Burrito</td>\n      <td>[Tomatillo-Green Chili Salsa (Medium), [Pinto ...</td>\n      <td>$8.49</td>\n      <td>8.49</td>\n      <td>8.49</td>\n    </tr>\n    <tr>\n      <th>17</th>\n      <td>9</td>\n      <td>1</td>\n      <td>Chicken Burrito</td>\n      <td>[Fresh Tomato Salsa (Mild), [Black Beans, Rice...</td>\n      <td>$8.49</td>\n      <td>8.49</td>\n      <td>8.49</td>\n    </tr>\n    <tr>\n      <th>18</th>\n      <td>9</td>\n      <td>2</td>\n      <td>Canned Soda</td>\n      <td>[Sprite]</td>\n      <td>$2.18</td>\n      <td>2.18</td>\n      <td>1.09</td>\n    </tr>\n    <tr>\n      <th>19</th>\n      <td>10</td>\n      <td>1</td>\n      <td>Chicken Bowl</td>\n      <td>[Tomatillo Red Chili Salsa, [Fajita Vegetables...</td>\n      <td>$8.75</td>\n      <td>8.75</td>\n      <td>8.75</td>\n    </tr>\n  </tbody>\n</table>\n</div>"
          },
          "metadata": {},
          "execution_count": 131
        }
      ],
      "source": [
        "# Step 2) Calcular el precio de la unidad\n",
        "\n",
        "df['unit_price'] = df['item_price_2'] / df['quantity']\n",
        "df.head(20)"
      ]
    },
    {
      "cell_type": "code",
      "metadata": {
        "id": "CAd8mJYMAPDI"
      },
      "source": [
        "# Saco un nuevo df de la lista de productos agrupados por nombres (porque los hay repetidos) y de esos, que me devuelva el máximo valor entre los repetidos\n",
        "ordered_items = df.groupby('item_name').agg({'unit_price' : max}).sort_values(by = 'unit_price', ascending = False)\n",
        "# print(ordered_items)\n",
        "\n",
        "# Saco el precio máximo de la anterior selección\n",
        "top_price= ordered_items.apply(max)[0]\n",
        "#print(top_price)\n",
        "\n",
        "# Que me devuelva la lista de ordered_items, donde el precio sea igual al precio máximo. De esta manera obtenemos el item con el mayor precio\n",
        "ordered_items[ordered_items == top_price].dropna()"
      ],
      "execution_count": 132,
      "outputs": [
        {
          "output_type": "execute_result",
          "data": {
            "text/plain": [
              "                     unit_price\n",
              "item_name                      \n",
              "Steak Salad Bowl          11.89\n",
              "Carnitas Salad Bowl       11.89\n",
              "Barbacoa Salad Bowl       11.89"
            ],
            "text/html": "<div>\n<style scoped>\n    .dataframe tbody tr th:only-of-type {\n        vertical-align: middle;\n    }\n\n    .dataframe tbody tr th {\n        vertical-align: top;\n    }\n\n    .dataframe thead th {\n        text-align: right;\n    }\n</style>\n<table border=\"1\" class=\"dataframe\">\n  <thead>\n    <tr style=\"text-align: right;\">\n      <th></th>\n      <th>unit_price</th>\n    </tr>\n    <tr>\n      <th>item_name</th>\n      <th></th>\n    </tr>\n  </thead>\n  <tbody>\n    <tr>\n      <th>Steak Salad Bowl</th>\n      <td>11.89</td>\n    </tr>\n    <tr>\n      <th>Carnitas Salad Bowl</th>\n      <td>11.89</td>\n    </tr>\n    <tr>\n      <th>Barbacoa Salad Bowl</th>\n      <td>11.89</td>\n    </tr>\n  </tbody>\n</table>\n</div>"
          },
          "metadata": {},
          "execution_count": 132
        }
      ]
    },
    {
      "cell_type": "markdown",
      "metadata": {
        "id": "DzgWD4n4APDI"
      },
      "source": [
        "### Step 4. How many products cost more than $10.00?"
      ]
    },
    {
      "cell_type": "code",
      "metadata": {
        "id": "T7CMZfARAPDI"
      },
      "source": [
        "df[df['unit_price'] > 10]"
      ],
      "execution_count": 133,
      "outputs": [
        {
          "output_type": "execute_result",
          "data": {
            "text/plain": [
              "      order_id  quantity           item_name  \\\n",
              "5            3         1        Chicken Bowl   \n",
              "7            4         1       Steak Burrito   \n",
              "13           7         1        Chicken Bowl   \n",
              "23          12         1     Chicken Burrito   \n",
              "39          19         1       Barbacoa Bowl   \n",
              "...        ...       ...                 ...   \n",
              "4610      1830         1       Steak Burrito   \n",
              "4611      1830         1      Veggie Burrito   \n",
              "4617      1833         1       Steak Burrito   \n",
              "4618      1833         1       Steak Burrito   \n",
              "4619      1834         1  Chicken Salad Bowl   \n",
              "\n",
              "                                     choice_description item_price  \\\n",
              "5     [Fresh Tomato Salsa (Mild), [Rice, Cheese, Sou...    $10.98    \n",
              "7     [Tomatillo Red Chili Salsa, [Fajita Vegetables...    $11.75    \n",
              "13    [Fresh Tomato Salsa, [Fajita Vegetables, Rice,...    $11.25    \n",
              "23    [[Tomatillo-Green Chili Salsa (Medium), Tomati...    $10.98    \n",
              "39    [Roasted Chili Corn Salsa, [Fajita Vegetables,...    $11.75    \n",
              "...                                                 ...        ...   \n",
              "4610  [Fresh Tomato Salsa, [Rice, Sour Cream, Cheese...    $11.75    \n",
              "4611  [Tomatillo Green Chili Salsa, [Rice, Fajita Ve...    $11.25    \n",
              "4617  [Fresh Tomato Salsa, [Rice, Black Beans, Sour ...    $11.75    \n",
              "4618  [Fresh Tomato Salsa, [Rice, Sour Cream, Cheese...    $11.75    \n",
              "4619  [Fresh Tomato Salsa, [Fajita Vegetables, Pinto...    $11.25    \n",
              "\n",
              "      item_price_2  unit_price  \n",
              "5            10.98       10.98  \n",
              "7            11.75       11.75  \n",
              "13           11.25       11.25  \n",
              "23           10.98       10.98  \n",
              "39           11.75       11.75  \n",
              "...            ...         ...  \n",
              "4610         11.75       11.75  \n",
              "4611         11.25       11.25  \n",
              "4617         11.75       11.75  \n",
              "4618         11.75       11.75  \n",
              "4619         11.25       11.25  \n",
              "\n",
              "[1034 rows x 7 columns]"
            ],
            "text/html": "<div>\n<style scoped>\n    .dataframe tbody tr th:only-of-type {\n        vertical-align: middle;\n    }\n\n    .dataframe tbody tr th {\n        vertical-align: top;\n    }\n\n    .dataframe thead th {\n        text-align: right;\n    }\n</style>\n<table border=\"1\" class=\"dataframe\">\n  <thead>\n    <tr style=\"text-align: right;\">\n      <th></th>\n      <th>order_id</th>\n      <th>quantity</th>\n      <th>item_name</th>\n      <th>choice_description</th>\n      <th>item_price</th>\n      <th>item_price_2</th>\n      <th>unit_price</th>\n    </tr>\n  </thead>\n  <tbody>\n    <tr>\n      <th>5</th>\n      <td>3</td>\n      <td>1</td>\n      <td>Chicken Bowl</td>\n      <td>[Fresh Tomato Salsa (Mild), [Rice, Cheese, Sou...</td>\n      <td>$10.98</td>\n      <td>10.98</td>\n      <td>10.98</td>\n    </tr>\n    <tr>\n      <th>7</th>\n      <td>4</td>\n      <td>1</td>\n      <td>Steak Burrito</td>\n      <td>[Tomatillo Red Chili Salsa, [Fajita Vegetables...</td>\n      <td>$11.75</td>\n      <td>11.75</td>\n      <td>11.75</td>\n    </tr>\n    <tr>\n      <th>13</th>\n      <td>7</td>\n      <td>1</td>\n      <td>Chicken Bowl</td>\n      <td>[Fresh Tomato Salsa, [Fajita Vegetables, Rice,...</td>\n      <td>$11.25</td>\n      <td>11.25</td>\n      <td>11.25</td>\n    </tr>\n    <tr>\n      <th>23</th>\n      <td>12</td>\n      <td>1</td>\n      <td>Chicken Burrito</td>\n      <td>[[Tomatillo-Green Chili Salsa (Medium), Tomati...</td>\n      <td>$10.98</td>\n      <td>10.98</td>\n      <td>10.98</td>\n    </tr>\n    <tr>\n      <th>39</th>\n      <td>19</td>\n      <td>1</td>\n      <td>Barbacoa Bowl</td>\n      <td>[Roasted Chili Corn Salsa, [Fajita Vegetables,...</td>\n      <td>$11.75</td>\n      <td>11.75</td>\n      <td>11.75</td>\n    </tr>\n    <tr>\n      <th>...</th>\n      <td>...</td>\n      <td>...</td>\n      <td>...</td>\n      <td>...</td>\n      <td>...</td>\n      <td>...</td>\n      <td>...</td>\n    </tr>\n    <tr>\n      <th>4610</th>\n      <td>1830</td>\n      <td>1</td>\n      <td>Steak Burrito</td>\n      <td>[Fresh Tomato Salsa, [Rice, Sour Cream, Cheese...</td>\n      <td>$11.75</td>\n      <td>11.75</td>\n      <td>11.75</td>\n    </tr>\n    <tr>\n      <th>4611</th>\n      <td>1830</td>\n      <td>1</td>\n      <td>Veggie Burrito</td>\n      <td>[Tomatillo Green Chili Salsa, [Rice, Fajita Ve...</td>\n      <td>$11.25</td>\n      <td>11.25</td>\n      <td>11.25</td>\n    </tr>\n    <tr>\n      <th>4617</th>\n      <td>1833</td>\n      <td>1</td>\n      <td>Steak Burrito</td>\n      <td>[Fresh Tomato Salsa, [Rice, Black Beans, Sour ...</td>\n      <td>$11.75</td>\n      <td>11.75</td>\n      <td>11.75</td>\n    </tr>\n    <tr>\n      <th>4618</th>\n      <td>1833</td>\n      <td>1</td>\n      <td>Steak Burrito</td>\n      <td>[Fresh Tomato Salsa, [Rice, Sour Cream, Cheese...</td>\n      <td>$11.75</td>\n      <td>11.75</td>\n      <td>11.75</td>\n    </tr>\n    <tr>\n      <th>4619</th>\n      <td>1834</td>\n      <td>1</td>\n      <td>Chicken Salad Bowl</td>\n      <td>[Fresh Tomato Salsa, [Fajita Vegetables, Pinto...</td>\n      <td>$11.25</td>\n      <td>11.25</td>\n      <td>11.25</td>\n    </tr>\n  </tbody>\n</table>\n<p>1034 rows × 7 columns</p>\n</div>"
          },
          "metadata": {},
          "execution_count": 133
        }
      ]
    },
    {
      "cell_type": "markdown",
      "metadata": {
        "id": "9PjdXe9hAPDI"
      },
      "source": [
        "### Step 5. What is the price of each item? \n",
        "###### print a data frame with only two columns item_name and item_price"
      ]
    },
    {
      "cell_type": "code",
      "metadata": {
        "id": "zNj_y6-4APDI"
      },
      "source": [
        "df[['item_name', 'unit_price']]"
      ],
      "execution_count": 134,
      "outputs": [
        {
          "output_type": "execute_result",
          "data": {
            "text/plain": [
              "                                  item_name  unit_price\n",
              "0              Chips and Fresh Tomato Salsa        2.39\n",
              "1                                      Izze        3.39\n",
              "2                          Nantucket Nectar        3.39\n",
              "3     Chips and Tomatillo-Green Chili Salsa        2.39\n",
              "4                              Chicken Bowl        8.49\n",
              "...                                     ...         ...\n",
              "4617                          Steak Burrito       11.75\n",
              "4618                          Steak Burrito       11.75\n",
              "4619                     Chicken Salad Bowl       11.25\n",
              "4620                     Chicken Salad Bowl        8.75\n",
              "4621                     Chicken Salad Bowl        8.75\n",
              "\n",
              "[4622 rows x 2 columns]"
            ],
            "text/html": "<div>\n<style scoped>\n    .dataframe tbody tr th:only-of-type {\n        vertical-align: middle;\n    }\n\n    .dataframe tbody tr th {\n        vertical-align: top;\n    }\n\n    .dataframe thead th {\n        text-align: right;\n    }\n</style>\n<table border=\"1\" class=\"dataframe\">\n  <thead>\n    <tr style=\"text-align: right;\">\n      <th></th>\n      <th>item_name</th>\n      <th>unit_price</th>\n    </tr>\n  </thead>\n  <tbody>\n    <tr>\n      <th>0</th>\n      <td>Chips and Fresh Tomato Salsa</td>\n      <td>2.39</td>\n    </tr>\n    <tr>\n      <th>1</th>\n      <td>Izze</td>\n      <td>3.39</td>\n    </tr>\n    <tr>\n      <th>2</th>\n      <td>Nantucket Nectar</td>\n      <td>3.39</td>\n    </tr>\n    <tr>\n      <th>3</th>\n      <td>Chips and Tomatillo-Green Chili Salsa</td>\n      <td>2.39</td>\n    </tr>\n    <tr>\n      <th>4</th>\n      <td>Chicken Bowl</td>\n      <td>8.49</td>\n    </tr>\n    <tr>\n      <th>...</th>\n      <td>...</td>\n      <td>...</td>\n    </tr>\n    <tr>\n      <th>4617</th>\n      <td>Steak Burrito</td>\n      <td>11.75</td>\n    </tr>\n    <tr>\n      <th>4618</th>\n      <td>Steak Burrito</td>\n      <td>11.75</td>\n    </tr>\n    <tr>\n      <th>4619</th>\n      <td>Chicken Salad Bowl</td>\n      <td>11.25</td>\n    </tr>\n    <tr>\n      <th>4620</th>\n      <td>Chicken Salad Bowl</td>\n      <td>8.75</td>\n    </tr>\n    <tr>\n      <th>4621</th>\n      <td>Chicken Salad Bowl</td>\n      <td>8.75</td>\n    </tr>\n  </tbody>\n</table>\n<p>4622 rows × 2 columns</p>\n</div>"
          },
          "metadata": {},
          "execution_count": 134
        }
      ]
    },
    {
      "cell_type": "markdown",
      "metadata": {
        "id": "JLHUyaMHAPDJ"
      },
      "source": [
        "### Step 6. Sort by the name of the item"
      ]
    },
    {
      "cell_type": "code",
      "metadata": {
        "id": "vcebmE1SAPDJ"
      },
      "source": [
        "df.sort_values('item_name')"
      ],
      "execution_count": 135,
      "outputs": [
        {
          "output_type": "execute_result",
          "data": {
            "text/plain": [
              "      order_id  quantity          item_name  \\\n",
              "3389      1360         2  6 Pack Soft Drink   \n",
              "341        148         1  6 Pack Soft Drink   \n",
              "1849       749         1  6 Pack Soft Drink   \n",
              "1860       754         1  6 Pack Soft Drink   \n",
              "2713      1076         1  6 Pack Soft Drink   \n",
              "...        ...       ...                ...   \n",
              "2384       948         1  Veggie Soft Tacos   \n",
              "781        322         1  Veggie Soft Tacos   \n",
              "2851      1132         1  Veggie Soft Tacos   \n",
              "1699       688         1  Veggie Soft Tacos   \n",
              "1395       567         1  Veggie Soft Tacos   \n",
              "\n",
              "                                     choice_description item_price  \\\n",
              "3389                                        [Diet Coke]    $12.98    \n",
              "341                                         [Diet Coke]     $6.49    \n",
              "1849                                             [Coke]     $6.49    \n",
              "1860                                        [Diet Coke]     $6.49    \n",
              "2713                                             [Coke]     $6.49    \n",
              "...                                                 ...        ...   \n",
              "2384  [Roasted Chili Corn Salsa, [Fajita Vegetables,...     $8.75    \n",
              "781   [Fresh Tomato Salsa, [Black Beans, Cheese, Sou...     $8.75    \n",
              "2851  [Roasted Chili Corn Salsa (Medium), [Black Bea...     $8.49    \n",
              "1699  [Fresh Tomato Salsa, [Fajita Vegetables, Rice,...    $11.25    \n",
              "1395  [Fresh Tomato Salsa (Mild), [Pinto Beans, Rice...     $8.49    \n",
              "\n",
              "      item_price_2  unit_price  \n",
              "3389         12.98        6.49  \n",
              "341           6.49        6.49  \n",
              "1849          6.49        6.49  \n",
              "1860          6.49        6.49  \n",
              "2713          6.49        6.49  \n",
              "...            ...         ...  \n",
              "2384          8.75        8.75  \n",
              "781           8.75        8.75  \n",
              "2851          8.49        8.49  \n",
              "1699         11.25       11.25  \n",
              "1395          8.49        8.49  \n",
              "\n",
              "[4622 rows x 7 columns]"
            ],
            "text/html": "<div>\n<style scoped>\n    .dataframe tbody tr th:only-of-type {\n        vertical-align: middle;\n    }\n\n    .dataframe tbody tr th {\n        vertical-align: top;\n    }\n\n    .dataframe thead th {\n        text-align: right;\n    }\n</style>\n<table border=\"1\" class=\"dataframe\">\n  <thead>\n    <tr style=\"text-align: right;\">\n      <th></th>\n      <th>order_id</th>\n      <th>quantity</th>\n      <th>item_name</th>\n      <th>choice_description</th>\n      <th>item_price</th>\n      <th>item_price_2</th>\n      <th>unit_price</th>\n    </tr>\n  </thead>\n  <tbody>\n    <tr>\n      <th>3389</th>\n      <td>1360</td>\n      <td>2</td>\n      <td>6 Pack Soft Drink</td>\n      <td>[Diet Coke]</td>\n      <td>$12.98</td>\n      <td>12.98</td>\n      <td>6.49</td>\n    </tr>\n    <tr>\n      <th>341</th>\n      <td>148</td>\n      <td>1</td>\n      <td>6 Pack Soft Drink</td>\n      <td>[Diet Coke]</td>\n      <td>$6.49</td>\n      <td>6.49</td>\n      <td>6.49</td>\n    </tr>\n    <tr>\n      <th>1849</th>\n      <td>749</td>\n      <td>1</td>\n      <td>6 Pack Soft Drink</td>\n      <td>[Coke]</td>\n      <td>$6.49</td>\n      <td>6.49</td>\n      <td>6.49</td>\n    </tr>\n    <tr>\n      <th>1860</th>\n      <td>754</td>\n      <td>1</td>\n      <td>6 Pack Soft Drink</td>\n      <td>[Diet Coke]</td>\n      <td>$6.49</td>\n      <td>6.49</td>\n      <td>6.49</td>\n    </tr>\n    <tr>\n      <th>2713</th>\n      <td>1076</td>\n      <td>1</td>\n      <td>6 Pack Soft Drink</td>\n      <td>[Coke]</td>\n      <td>$6.49</td>\n      <td>6.49</td>\n      <td>6.49</td>\n    </tr>\n    <tr>\n      <th>...</th>\n      <td>...</td>\n      <td>...</td>\n      <td>...</td>\n      <td>...</td>\n      <td>...</td>\n      <td>...</td>\n      <td>...</td>\n    </tr>\n    <tr>\n      <th>2384</th>\n      <td>948</td>\n      <td>1</td>\n      <td>Veggie Soft Tacos</td>\n      <td>[Roasted Chili Corn Salsa, [Fajita Vegetables,...</td>\n      <td>$8.75</td>\n      <td>8.75</td>\n      <td>8.75</td>\n    </tr>\n    <tr>\n      <th>781</th>\n      <td>322</td>\n      <td>1</td>\n      <td>Veggie Soft Tacos</td>\n      <td>[Fresh Tomato Salsa, [Black Beans, Cheese, Sou...</td>\n      <td>$8.75</td>\n      <td>8.75</td>\n      <td>8.75</td>\n    </tr>\n    <tr>\n      <th>2851</th>\n      <td>1132</td>\n      <td>1</td>\n      <td>Veggie Soft Tacos</td>\n      <td>[Roasted Chili Corn Salsa (Medium), [Black Bea...</td>\n      <td>$8.49</td>\n      <td>8.49</td>\n      <td>8.49</td>\n    </tr>\n    <tr>\n      <th>1699</th>\n      <td>688</td>\n      <td>1</td>\n      <td>Veggie Soft Tacos</td>\n      <td>[Fresh Tomato Salsa, [Fajita Vegetables, Rice,...</td>\n      <td>$11.25</td>\n      <td>11.25</td>\n      <td>11.25</td>\n    </tr>\n    <tr>\n      <th>1395</th>\n      <td>567</td>\n      <td>1</td>\n      <td>Veggie Soft Tacos</td>\n      <td>[Fresh Tomato Salsa (Mild), [Pinto Beans, Rice...</td>\n      <td>$8.49</td>\n      <td>8.49</td>\n      <td>8.49</td>\n    </tr>\n  </tbody>\n</table>\n<p>4622 rows × 7 columns</p>\n</div>"
          },
          "metadata": {},
          "execution_count": 135
        }
      ]
    },
    {
      "cell_type": "markdown",
      "metadata": {
        "id": "BRiwsMS8APDJ"
      },
      "source": [
        "### Step 7. What was the quantity of the most expensive item ordered? 2 ways"
      ]
    },
    {
      "cell_type": "markdown",
      "metadata": {
        "id": "ht-tSZplAPDJ"
      },
      "source": [
        "V1"
      ]
    },
    {
      "cell_type": "code",
      "metadata": {
        "id": "7_42Ue_pAPDK"
      },
      "source": [
        "# To check\n",
        "# df.sort_values('item_price_2', ascending = False)\n",
        "\n",
        "df[df['unit_price'] == 11.89].groupby('item_name').agg({'quantity' : sum})"
      ],
      "execution_count": 138,
      "outputs": [
        {
          "output_type": "execute_result",
          "data": {
            "text/plain": [
              "                     quantity\n",
              "item_name                    \n",
              "Barbacoa Salad Bowl         5\n",
              "Carnitas Salad Bowl         4\n",
              "Steak Salad Bowl           21"
            ],
            "text/html": "<div>\n<style scoped>\n    .dataframe tbody tr th:only-of-type {\n        vertical-align: middle;\n    }\n\n    .dataframe tbody tr th {\n        vertical-align: top;\n    }\n\n    .dataframe thead th {\n        text-align: right;\n    }\n</style>\n<table border=\"1\" class=\"dataframe\">\n  <thead>\n    <tr style=\"text-align: right;\">\n      <th></th>\n      <th>quantity</th>\n    </tr>\n    <tr>\n      <th>item_name</th>\n      <th></th>\n    </tr>\n  </thead>\n  <tbody>\n    <tr>\n      <th>Barbacoa Salad Bowl</th>\n      <td>5</td>\n    </tr>\n    <tr>\n      <th>Carnitas Salad Bowl</th>\n      <td>4</td>\n    </tr>\n    <tr>\n      <th>Steak Salad Bowl</th>\n      <td>21</td>\n    </tr>\n  </tbody>\n</table>\n</div>"
          },
          "metadata": {},
          "execution_count": 138
        }
      ]
    },
    {
      "cell_type": "markdown",
      "metadata": {
        "id": "ZJWnTKJhAPDK"
      },
      "source": [
        "V2"
      ]
    },
    {
      "cell_type": "code",
      "metadata": {
        "id": "yg2usSvdAPDK"
      },
      "source": [
        "# La verdad, no sé jajajaja"
      ],
      "execution_count": 127,
      "outputs": [
        {
          "output_type": "execute_result",
          "data": {
            "text/plain": [
              "      order_id  quantity                     item_name choice_description  \\\n",
              "0            1         1  Chips and Fresh Tomato Salsa                NaN   \n",
              "25          13         1  Chips and Fresh Tomato Salsa                NaN   \n",
              "55          25         1  Chips and Fresh Tomato Salsa                NaN   \n",
              "89          39         1  Chips and Fresh Tomato Salsa                NaN   \n",
              "183         82         1  Chips and Fresh Tomato Salsa                NaN   \n",
              "...        ...       ...                           ...                ...   \n",
              "4231      1689         1  Chips and Fresh Tomato Salsa                NaN   \n",
              "4318      1722         1  Chips and Fresh Tomato Salsa                NaN   \n",
              "4324      1725         1  Chips and Fresh Tomato Salsa                NaN   \n",
              "4425      1764         1  Chips and Fresh Tomato Salsa                NaN   \n",
              "4503      1790         1  Chips and Fresh Tomato Salsa                NaN   \n",
              "\n",
              "     item_price  item_price_2  \n",
              "0        $2.39           2.39  \n",
              "25       $2.39           2.39  \n",
              "55       $2.39           2.39  \n",
              "89       $2.95           2.95  \n",
              "183      $2.95           2.95  \n",
              "...         ...           ...  \n",
              "4231     $2.95           2.95  \n",
              "4318     $2.95           2.95  \n",
              "4324     $2.95           2.95  \n",
              "4425     $2.95           2.95  \n",
              "4503     $2.95           2.95  \n",
              "\n",
              "[110 rows x 6 columns]"
            ],
            "text/html": "<div>\n<style scoped>\n    .dataframe tbody tr th:only-of-type {\n        vertical-align: middle;\n    }\n\n    .dataframe tbody tr th {\n        vertical-align: top;\n    }\n\n    .dataframe thead th {\n        text-align: right;\n    }\n</style>\n<table border=\"1\" class=\"dataframe\">\n  <thead>\n    <tr style=\"text-align: right;\">\n      <th></th>\n      <th>order_id</th>\n      <th>quantity</th>\n      <th>item_name</th>\n      <th>choice_description</th>\n      <th>item_price</th>\n      <th>item_price_2</th>\n    </tr>\n  </thead>\n  <tbody>\n    <tr>\n      <th>0</th>\n      <td>1</td>\n      <td>1</td>\n      <td>Chips and Fresh Tomato Salsa</td>\n      <td>NaN</td>\n      <td>$2.39</td>\n      <td>2.39</td>\n    </tr>\n    <tr>\n      <th>25</th>\n      <td>13</td>\n      <td>1</td>\n      <td>Chips and Fresh Tomato Salsa</td>\n      <td>NaN</td>\n      <td>$2.39</td>\n      <td>2.39</td>\n    </tr>\n    <tr>\n      <th>55</th>\n      <td>25</td>\n      <td>1</td>\n      <td>Chips and Fresh Tomato Salsa</td>\n      <td>NaN</td>\n      <td>$2.39</td>\n      <td>2.39</td>\n    </tr>\n    <tr>\n      <th>89</th>\n      <td>39</td>\n      <td>1</td>\n      <td>Chips and Fresh Tomato Salsa</td>\n      <td>NaN</td>\n      <td>$2.95</td>\n      <td>2.95</td>\n    </tr>\n    <tr>\n      <th>183</th>\n      <td>82</td>\n      <td>1</td>\n      <td>Chips and Fresh Tomato Salsa</td>\n      <td>NaN</td>\n      <td>$2.95</td>\n      <td>2.95</td>\n    </tr>\n    <tr>\n      <th>...</th>\n      <td>...</td>\n      <td>...</td>\n      <td>...</td>\n      <td>...</td>\n      <td>...</td>\n      <td>...</td>\n    </tr>\n    <tr>\n      <th>4231</th>\n      <td>1689</td>\n      <td>1</td>\n      <td>Chips and Fresh Tomato Salsa</td>\n      <td>NaN</td>\n      <td>$2.95</td>\n      <td>2.95</td>\n    </tr>\n    <tr>\n      <th>4318</th>\n      <td>1722</td>\n      <td>1</td>\n      <td>Chips and Fresh Tomato Salsa</td>\n      <td>NaN</td>\n      <td>$2.95</td>\n      <td>2.95</td>\n    </tr>\n    <tr>\n      <th>4324</th>\n      <td>1725</td>\n      <td>1</td>\n      <td>Chips and Fresh Tomato Salsa</td>\n      <td>NaN</td>\n      <td>$2.95</td>\n      <td>2.95</td>\n    </tr>\n    <tr>\n      <th>4425</th>\n      <td>1764</td>\n      <td>1</td>\n      <td>Chips and Fresh Tomato Salsa</td>\n      <td>NaN</td>\n      <td>$2.95</td>\n      <td>2.95</td>\n    </tr>\n    <tr>\n      <th>4503</th>\n      <td>1790</td>\n      <td>1</td>\n      <td>Chips and Fresh Tomato Salsa</td>\n      <td>NaN</td>\n      <td>$2.95</td>\n      <td>2.95</td>\n    </tr>\n  </tbody>\n</table>\n<p>110 rows × 6 columns</p>\n</div>"
          },
          "metadata": {},
          "execution_count": 127
        }
      ]
    },
    {
      "cell_type": "markdown",
      "metadata": {
        "id": "aIqVs6p-APDK"
      },
      "source": [
        "### Step 8. How many times was a Veggie Salad Bowl ordered?"
      ]
    },
    {
      "cell_type": "code",
      "metadata": {
        "id": "GoeH0Q1xAPDK"
      },
      "source": [
        "df.groupby('item_name').agg({'quantity' : sum}).loc['Veggie Salad Bowl']"
      ],
      "execution_count": 144,
      "outputs": [
        {
          "output_type": "execute_result",
          "data": {
            "text/plain": [
              "quantity    18\n",
              "Name: Veggie Salad Bowl, dtype: int64"
            ]
          },
          "metadata": {},
          "execution_count": 144
        }
      ]
    },
    {
      "cell_type": "markdown",
      "metadata": {
        "id": "5Xn1ZzCWAPDL"
      },
      "source": [
        "### Step 9. How many times did someone order more than one Canned Soda?"
      ]
    },
    {
      "cell_type": "code",
      "metadata": {
        "id": "3tU8BhW7APDL"
      },
      "source": [
        "df[(df['item_name'] == 'Canned Soda') & (df['quantity'] > 1)]"
      ],
      "execution_count": 146,
      "outputs": [
        {
          "output_type": "execute_result",
          "data": {
            "text/plain": [
              "      order_id  quantity    item_name choice_description item_price  \\\n",
              "18           9         2  Canned Soda           [Sprite]     $2.18    \n",
              "51          23         2  Canned Soda     [Mountain Dew]     $2.18    \n",
              "162         73         2  Canned Soda        [Diet Coke]     $2.18    \n",
              "171         76         2  Canned Soda  [Diet Dr. Pepper]     $2.18    \n",
              "350        150         2  Canned Soda        [Diet Coke]     $2.18    \n",
              "352        151         2  Canned Soda        [Coca Cola]     $2.18    \n",
              "698        287         2  Canned Soda        [Coca Cola]     $2.18    \n",
              "700        288         2  Canned Soda        [Coca Cola]     $2.18    \n",
              "909        376         2  Canned Soda     [Mountain Dew]     $2.18    \n",
              "1091       450         2  Canned Soda       [Dr. Pepper]     $2.18    \n",
              "1092       450         2  Canned Soda        [Coca Cola]     $2.18    \n",
              "1944       787         2  Canned Soda       [Dr. Pepper]     $2.18    \n",
              "2135       859         2  Canned Soda        [Diet Coke]     $2.18    \n",
              "2235       901         4  Canned Soda           [Sprite]     $4.36    \n",
              "2905      1156         2  Canned Soda        [Coca Cola]     $2.18    \n",
              "2906      1156         2  Canned Soda           [Sprite]     $2.18    \n",
              "3152      1258         2  Canned Soda       [Dr. Pepper]     $2.18    \n",
              "3364      1349         2  Canned Soda        [Coca Cola]     $2.18    \n",
              "3592      1440         2  Canned Soda        [Diet Coke]     $2.18    \n",
              "3866      1550         2  Canned Soda     [Mountain Dew]     $2.18    \n",
              "\n",
              "      item_price_2  unit_price  \n",
              "18            2.18        1.09  \n",
              "51            2.18        1.09  \n",
              "162           2.18        1.09  \n",
              "171           2.18        1.09  \n",
              "350           2.18        1.09  \n",
              "352           2.18        1.09  \n",
              "698           2.18        1.09  \n",
              "700           2.18        1.09  \n",
              "909           2.18        1.09  \n",
              "1091          2.18        1.09  \n",
              "1092          2.18        1.09  \n",
              "1944          2.18        1.09  \n",
              "2135          2.18        1.09  \n",
              "2235          4.36        1.09  \n",
              "2905          2.18        1.09  \n",
              "2906          2.18        1.09  \n",
              "3152          2.18        1.09  \n",
              "3364          2.18        1.09  \n",
              "3592          2.18        1.09  \n",
              "3866          2.18        1.09  "
            ],
            "text/html": "<div>\n<style scoped>\n    .dataframe tbody tr th:only-of-type {\n        vertical-align: middle;\n    }\n\n    .dataframe tbody tr th {\n        vertical-align: top;\n    }\n\n    .dataframe thead th {\n        text-align: right;\n    }\n</style>\n<table border=\"1\" class=\"dataframe\">\n  <thead>\n    <tr style=\"text-align: right;\">\n      <th></th>\n      <th>order_id</th>\n      <th>quantity</th>\n      <th>item_name</th>\n      <th>choice_description</th>\n      <th>item_price</th>\n      <th>item_price_2</th>\n      <th>unit_price</th>\n    </tr>\n  </thead>\n  <tbody>\n    <tr>\n      <th>18</th>\n      <td>9</td>\n      <td>2</td>\n      <td>Canned Soda</td>\n      <td>[Sprite]</td>\n      <td>$2.18</td>\n      <td>2.18</td>\n      <td>1.09</td>\n    </tr>\n    <tr>\n      <th>51</th>\n      <td>23</td>\n      <td>2</td>\n      <td>Canned Soda</td>\n      <td>[Mountain Dew]</td>\n      <td>$2.18</td>\n      <td>2.18</td>\n      <td>1.09</td>\n    </tr>\n    <tr>\n      <th>162</th>\n      <td>73</td>\n      <td>2</td>\n      <td>Canned Soda</td>\n      <td>[Diet Coke]</td>\n      <td>$2.18</td>\n      <td>2.18</td>\n      <td>1.09</td>\n    </tr>\n    <tr>\n      <th>171</th>\n      <td>76</td>\n      <td>2</td>\n      <td>Canned Soda</td>\n      <td>[Diet Dr. Pepper]</td>\n      <td>$2.18</td>\n      <td>2.18</td>\n      <td>1.09</td>\n    </tr>\n    <tr>\n      <th>350</th>\n      <td>150</td>\n      <td>2</td>\n      <td>Canned Soda</td>\n      <td>[Diet Coke]</td>\n      <td>$2.18</td>\n      <td>2.18</td>\n      <td>1.09</td>\n    </tr>\n    <tr>\n      <th>352</th>\n      <td>151</td>\n      <td>2</td>\n      <td>Canned Soda</td>\n      <td>[Coca Cola]</td>\n      <td>$2.18</td>\n      <td>2.18</td>\n      <td>1.09</td>\n    </tr>\n    <tr>\n      <th>698</th>\n      <td>287</td>\n      <td>2</td>\n      <td>Canned Soda</td>\n      <td>[Coca Cola]</td>\n      <td>$2.18</td>\n      <td>2.18</td>\n      <td>1.09</td>\n    </tr>\n    <tr>\n      <th>700</th>\n      <td>288</td>\n      <td>2</td>\n      <td>Canned Soda</td>\n      <td>[Coca Cola]</td>\n      <td>$2.18</td>\n      <td>2.18</td>\n      <td>1.09</td>\n    </tr>\n    <tr>\n      <th>909</th>\n      <td>376</td>\n      <td>2</td>\n      <td>Canned Soda</td>\n      <td>[Mountain Dew]</td>\n      <td>$2.18</td>\n      <td>2.18</td>\n      <td>1.09</td>\n    </tr>\n    <tr>\n      <th>1091</th>\n      <td>450</td>\n      <td>2</td>\n      <td>Canned Soda</td>\n      <td>[Dr. Pepper]</td>\n      <td>$2.18</td>\n      <td>2.18</td>\n      <td>1.09</td>\n    </tr>\n    <tr>\n      <th>1092</th>\n      <td>450</td>\n      <td>2</td>\n      <td>Canned Soda</td>\n      <td>[Coca Cola]</td>\n      <td>$2.18</td>\n      <td>2.18</td>\n      <td>1.09</td>\n    </tr>\n    <tr>\n      <th>1944</th>\n      <td>787</td>\n      <td>2</td>\n      <td>Canned Soda</td>\n      <td>[Dr. Pepper]</td>\n      <td>$2.18</td>\n      <td>2.18</td>\n      <td>1.09</td>\n    </tr>\n    <tr>\n      <th>2135</th>\n      <td>859</td>\n      <td>2</td>\n      <td>Canned Soda</td>\n      <td>[Diet Coke]</td>\n      <td>$2.18</td>\n      <td>2.18</td>\n      <td>1.09</td>\n    </tr>\n    <tr>\n      <th>2235</th>\n      <td>901</td>\n      <td>4</td>\n      <td>Canned Soda</td>\n      <td>[Sprite]</td>\n      <td>$4.36</td>\n      <td>4.36</td>\n      <td>1.09</td>\n    </tr>\n    <tr>\n      <th>2905</th>\n      <td>1156</td>\n      <td>2</td>\n      <td>Canned Soda</td>\n      <td>[Coca Cola]</td>\n      <td>$2.18</td>\n      <td>2.18</td>\n      <td>1.09</td>\n    </tr>\n    <tr>\n      <th>2906</th>\n      <td>1156</td>\n      <td>2</td>\n      <td>Canned Soda</td>\n      <td>[Sprite]</td>\n      <td>$2.18</td>\n      <td>2.18</td>\n      <td>1.09</td>\n    </tr>\n    <tr>\n      <th>3152</th>\n      <td>1258</td>\n      <td>2</td>\n      <td>Canned Soda</td>\n      <td>[Dr. Pepper]</td>\n      <td>$2.18</td>\n      <td>2.18</td>\n      <td>1.09</td>\n    </tr>\n    <tr>\n      <th>3364</th>\n      <td>1349</td>\n      <td>2</td>\n      <td>Canned Soda</td>\n      <td>[Coca Cola]</td>\n      <td>$2.18</td>\n      <td>2.18</td>\n      <td>1.09</td>\n    </tr>\n    <tr>\n      <th>3592</th>\n      <td>1440</td>\n      <td>2</td>\n      <td>Canned Soda</td>\n      <td>[Diet Coke]</td>\n      <td>$2.18</td>\n      <td>2.18</td>\n      <td>1.09</td>\n    </tr>\n    <tr>\n      <th>3866</th>\n      <td>1550</td>\n      <td>2</td>\n      <td>Canned Soda</td>\n      <td>[Mountain Dew]</td>\n      <td>$2.18</td>\n      <td>2.18</td>\n      <td>1.09</td>\n    </tr>\n  </tbody>\n</table>\n</div>"
          },
          "metadata": {},
          "execution_count": 146
        }
      ]
    },
    {
      "cell_type": "code",
      "execution_count": null,
      "metadata": {},
      "outputs": [],
      "source": []
    }
  ]
}