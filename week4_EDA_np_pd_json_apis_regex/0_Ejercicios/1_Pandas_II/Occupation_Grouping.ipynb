{
  "nbformat": 4,
  "nbformat_minor": 0,
  "metadata": {
    "kernelspec": {
      "name": "python374jvsc74a57bd0aee8b7b246df8f9039afb4144a1f6fd8d2ca17a180786b69acc140d282b71a49",
      "display_name": "Python 3.7.4 64-bit"
    },
    "language_info": {
      "codemirror_mode": {
        "name": "ipython",
        "version": 3
      },
      "file_extension": ".py",
      "mimetype": "text/x-python",
      "name": "python",
      "nbconvert_exporter": "python",
      "pygments_lexer": "ipython3",
      "version": "3.7.4"
    },
    "colab": {
      "name": "Occupation Grouping.ipynb",
      "provenance": []
    },
    "metadata": {
      "interpreter": {
        "hash": "aee8b7b246df8f9039afb4144a1f6fd8d2ca17a180786b69acc140d282b71a49"
      }
    }
  },
  "cells": [
    {
      "cell_type": "markdown",
      "metadata": {
        "id": "lHVVUZB9FbfO"
      },
      "source": [
        "# 04 - Grouping"
      ]
    },
    {
      "cell_type": "markdown",
      "metadata": {
        "id": "SW9dOznaFbfV"
      },
      "source": [
        "### Step 1. Import the necessary libraries"
      ]
    },
    {
      "cell_type": "code",
      "metadata": {
        "id": "89VTC2IqFbfV"
      },
      "source": [
        "import pandas as pd\n",
        "import numpy as np"
      ],
      "execution_count": 15,
      "outputs": []
    },
    {
      "cell_type": "markdown",
      "metadata": {
        "id": "YeG5WoVlFbfW"
      },
      "source": [
        "### Step 2. Import the dataset from this [address](https://raw.githubusercontent.com/justmarkham/DAT8/master/data/u.user). "
      ]
    },
    {
      "cell_type": "markdown",
      "metadata": {
        "id": "hk5Ek8xfFbfW"
      },
      "source": [
        "### Step 3. Assign it to a variable called users."
      ]
    },
    {
      "cell_type": "code",
      "metadata": {
        "id": "p4GGVKizFbfW"
      },
      "source": [
        "users = pd.read_table('https://raw.githubusercontent.com/justmarkham/DAT8/master/data/u.user', \n",
        "                      sep='|', index_col='user_id')\n",
        "users"
      ],
      "execution_count": 2,
      "outputs": [
        {
          "output_type": "execute_result",
          "data": {
            "text/plain": [
              "         age gender     occupation zip_code\n",
              "user_id                                    \n",
              "1         24      M     technician    85711\n",
              "2         53      F          other    94043\n",
              "3         23      M         writer    32067\n",
              "4         24      M     technician    43537\n",
              "5         33      F          other    15213\n",
              "...      ...    ...            ...      ...\n",
              "939       26      F        student    33319\n",
              "940       32      M  administrator    02215\n",
              "941       20      M        student    97229\n",
              "942       48      F      librarian    78209\n",
              "943       22      M        student    77841\n",
              "\n",
              "[943 rows x 4 columns]"
            ],
            "text/html": "<div>\n<style scoped>\n    .dataframe tbody tr th:only-of-type {\n        vertical-align: middle;\n    }\n\n    .dataframe tbody tr th {\n        vertical-align: top;\n    }\n\n    .dataframe thead th {\n        text-align: right;\n    }\n</style>\n<table border=\"1\" class=\"dataframe\">\n  <thead>\n    <tr style=\"text-align: right;\">\n      <th></th>\n      <th>age</th>\n      <th>gender</th>\n      <th>occupation</th>\n      <th>zip_code</th>\n    </tr>\n    <tr>\n      <th>user_id</th>\n      <th></th>\n      <th></th>\n      <th></th>\n      <th></th>\n    </tr>\n  </thead>\n  <tbody>\n    <tr>\n      <th>1</th>\n      <td>24</td>\n      <td>M</td>\n      <td>technician</td>\n      <td>85711</td>\n    </tr>\n    <tr>\n      <th>2</th>\n      <td>53</td>\n      <td>F</td>\n      <td>other</td>\n      <td>94043</td>\n    </tr>\n    <tr>\n      <th>3</th>\n      <td>23</td>\n      <td>M</td>\n      <td>writer</td>\n      <td>32067</td>\n    </tr>\n    <tr>\n      <th>4</th>\n      <td>24</td>\n      <td>M</td>\n      <td>technician</td>\n      <td>43537</td>\n    </tr>\n    <tr>\n      <th>5</th>\n      <td>33</td>\n      <td>F</td>\n      <td>other</td>\n      <td>15213</td>\n    </tr>\n    <tr>\n      <th>...</th>\n      <td>...</td>\n      <td>...</td>\n      <td>...</td>\n      <td>...</td>\n    </tr>\n    <tr>\n      <th>939</th>\n      <td>26</td>\n      <td>F</td>\n      <td>student</td>\n      <td>33319</td>\n    </tr>\n    <tr>\n      <th>940</th>\n      <td>32</td>\n      <td>M</td>\n      <td>administrator</td>\n      <td>02215</td>\n    </tr>\n    <tr>\n      <th>941</th>\n      <td>20</td>\n      <td>M</td>\n      <td>student</td>\n      <td>97229</td>\n    </tr>\n    <tr>\n      <th>942</th>\n      <td>48</td>\n      <td>F</td>\n      <td>librarian</td>\n      <td>78209</td>\n    </tr>\n    <tr>\n      <th>943</th>\n      <td>22</td>\n      <td>M</td>\n      <td>student</td>\n      <td>77841</td>\n    </tr>\n  </tbody>\n</table>\n<p>943 rows × 4 columns</p>\n</div>"
          },
          "metadata": {},
          "execution_count": 2
        }
      ]
    },
    {
      "cell_type": "markdown",
      "metadata": {
        "id": "lp9eKswEFbfX"
      },
      "source": [
        "### Step 4. Discover what is the mean age per occupation"
      ]
    },
    {
      "cell_type": "code",
      "metadata": {
        "id": "q6dFR_SzFbfX"
      },
      "source": [
        "users.groupby('occupation').agg({'age' : 'mean'})"
      ],
      "execution_count": 3,
      "outputs": [
        {
          "output_type": "execute_result",
          "data": {
            "text/plain": [
              "                     age\n",
              "occupation              \n",
              "administrator  38.746835\n",
              "artist         31.392857\n",
              "doctor         43.571429\n",
              "educator       42.010526\n",
              "engineer       36.388060\n",
              "entertainment  29.222222\n",
              "executive      38.718750\n",
              "healthcare     41.562500\n",
              "homemaker      32.571429\n",
              "lawyer         36.750000\n",
              "librarian      40.000000\n",
              "marketing      37.615385\n",
              "none           26.555556\n",
              "other          34.523810\n",
              "programmer     33.121212\n",
              "retired        63.071429\n",
              "salesman       35.666667\n",
              "scientist      35.548387\n",
              "student        22.081633\n",
              "technician     33.148148\n",
              "writer         36.311111"
            ],
            "text/html": "<div>\n<style scoped>\n    .dataframe tbody tr th:only-of-type {\n        vertical-align: middle;\n    }\n\n    .dataframe tbody tr th {\n        vertical-align: top;\n    }\n\n    .dataframe thead th {\n        text-align: right;\n    }\n</style>\n<table border=\"1\" class=\"dataframe\">\n  <thead>\n    <tr style=\"text-align: right;\">\n      <th></th>\n      <th>age</th>\n    </tr>\n    <tr>\n      <th>occupation</th>\n      <th></th>\n    </tr>\n  </thead>\n  <tbody>\n    <tr>\n      <th>administrator</th>\n      <td>38.746835</td>\n    </tr>\n    <tr>\n      <th>artist</th>\n      <td>31.392857</td>\n    </tr>\n    <tr>\n      <th>doctor</th>\n      <td>43.571429</td>\n    </tr>\n    <tr>\n      <th>educator</th>\n      <td>42.010526</td>\n    </tr>\n    <tr>\n      <th>engineer</th>\n      <td>36.388060</td>\n    </tr>\n    <tr>\n      <th>entertainment</th>\n      <td>29.222222</td>\n    </tr>\n    <tr>\n      <th>executive</th>\n      <td>38.718750</td>\n    </tr>\n    <tr>\n      <th>healthcare</th>\n      <td>41.562500</td>\n    </tr>\n    <tr>\n      <th>homemaker</th>\n      <td>32.571429</td>\n    </tr>\n    <tr>\n      <th>lawyer</th>\n      <td>36.750000</td>\n    </tr>\n    <tr>\n      <th>librarian</th>\n      <td>40.000000</td>\n    </tr>\n    <tr>\n      <th>marketing</th>\n      <td>37.615385</td>\n    </tr>\n    <tr>\n      <th>none</th>\n      <td>26.555556</td>\n    </tr>\n    <tr>\n      <th>other</th>\n      <td>34.523810</td>\n    </tr>\n    <tr>\n      <th>programmer</th>\n      <td>33.121212</td>\n    </tr>\n    <tr>\n      <th>retired</th>\n      <td>63.071429</td>\n    </tr>\n    <tr>\n      <th>salesman</th>\n      <td>35.666667</td>\n    </tr>\n    <tr>\n      <th>scientist</th>\n      <td>35.548387</td>\n    </tr>\n    <tr>\n      <th>student</th>\n      <td>22.081633</td>\n    </tr>\n    <tr>\n      <th>technician</th>\n      <td>33.148148</td>\n    </tr>\n    <tr>\n      <th>writer</th>\n      <td>36.311111</td>\n    </tr>\n  </tbody>\n</table>\n</div>"
          },
          "metadata": {},
          "execution_count": 3
        }
      ]
    },
    {
      "cell_type": "markdown",
      "metadata": {
        "id": "26mgFsgqFbfX"
      },
      "source": [
        "### Step 5. Discover the Male ratio per occupation and sort it from the most to the least"
      ]
    },
    {
      "cell_type": "code",
      "metadata": {
        "id": "vPD5P7jzFbfX"
      },
      "source": [
        "#users.pivot_table(index = 'occupation', columns = 'gender', aggfunc = sum, margins = True)\n",
        "# users.pivot_table(index = 'occupation', columns = 'gender', aggfunc = sum)\n",
        "# sers.groupby(['occupation', 'gender']).count()\n",
        "\n",
        "\n",
        "absolute_values = users.pivot_table(index = 'occupation', columns = 'gender', aggfunc = 'count', margins = True)[\"age\"]\n",
        "absolute_values['% Male'] = absolute_values['M'] / absolute_values['All']\n",
        "absolute_values.sort_values(by = '% Male', ascending = False)"
      ],
      "execution_count": 58,
      "outputs": [
        {
          "output_type": "execute_result",
          "data": {
            "text/plain": [
              "gender             F      M  All    % Male\n",
              "occupation                                \n",
              "doctor           NaN    7.0    7  1.000000\n",
              "engineer         2.0   65.0   67  0.970149\n",
              "technician       1.0   26.0   27  0.962963\n",
              "retired          1.0   13.0   14  0.928571\n",
              "programmer       6.0   60.0   66  0.909091\n",
              "executive        3.0   29.0   32  0.906250\n",
              "scientist        3.0   28.0   31  0.903226\n",
              "entertainment    2.0   16.0   18  0.888889\n",
              "lawyer           2.0   10.0   12  0.833333\n",
              "salesman         3.0    9.0   12  0.750000\n",
              "educator        26.0   69.0   95  0.726316\n",
              "All            273.0  670.0  943  0.710498\n",
              "student         60.0  136.0  196  0.693878\n",
              "other           36.0   69.0  105  0.657143\n",
              "marketing       10.0   16.0   26  0.615385\n",
              "writer          19.0   26.0   45  0.577778\n",
              "none             4.0    5.0    9  0.555556\n",
              "administrator   36.0   43.0   79  0.544304\n",
              "artist          13.0   15.0   28  0.535714\n",
              "librarian       29.0   22.0   51  0.431373\n",
              "healthcare      11.0    5.0   16  0.312500\n",
              "homemaker        6.0    1.0    7  0.142857"
            ],
            "text/html": "<div>\n<style scoped>\n    .dataframe tbody tr th:only-of-type {\n        vertical-align: middle;\n    }\n\n    .dataframe tbody tr th {\n        vertical-align: top;\n    }\n\n    .dataframe thead th {\n        text-align: right;\n    }\n</style>\n<table border=\"1\" class=\"dataframe\">\n  <thead>\n    <tr style=\"text-align: right;\">\n      <th>gender</th>\n      <th>F</th>\n      <th>M</th>\n      <th>All</th>\n      <th>% Male</th>\n    </tr>\n    <tr>\n      <th>occupation</th>\n      <th></th>\n      <th></th>\n      <th></th>\n      <th></th>\n    </tr>\n  </thead>\n  <tbody>\n    <tr>\n      <th>doctor</th>\n      <td>NaN</td>\n      <td>7.0</td>\n      <td>7</td>\n      <td>1.000000</td>\n    </tr>\n    <tr>\n      <th>engineer</th>\n      <td>2.0</td>\n      <td>65.0</td>\n      <td>67</td>\n      <td>0.970149</td>\n    </tr>\n    <tr>\n      <th>technician</th>\n      <td>1.0</td>\n      <td>26.0</td>\n      <td>27</td>\n      <td>0.962963</td>\n    </tr>\n    <tr>\n      <th>retired</th>\n      <td>1.0</td>\n      <td>13.0</td>\n      <td>14</td>\n      <td>0.928571</td>\n    </tr>\n    <tr>\n      <th>programmer</th>\n      <td>6.0</td>\n      <td>60.0</td>\n      <td>66</td>\n      <td>0.909091</td>\n    </tr>\n    <tr>\n      <th>executive</th>\n      <td>3.0</td>\n      <td>29.0</td>\n      <td>32</td>\n      <td>0.906250</td>\n    </tr>\n    <tr>\n      <th>scientist</th>\n      <td>3.0</td>\n      <td>28.0</td>\n      <td>31</td>\n      <td>0.903226</td>\n    </tr>\n    <tr>\n      <th>entertainment</th>\n      <td>2.0</td>\n      <td>16.0</td>\n      <td>18</td>\n      <td>0.888889</td>\n    </tr>\n    <tr>\n      <th>lawyer</th>\n      <td>2.0</td>\n      <td>10.0</td>\n      <td>12</td>\n      <td>0.833333</td>\n    </tr>\n    <tr>\n      <th>salesman</th>\n      <td>3.0</td>\n      <td>9.0</td>\n      <td>12</td>\n      <td>0.750000</td>\n    </tr>\n    <tr>\n      <th>educator</th>\n      <td>26.0</td>\n      <td>69.0</td>\n      <td>95</td>\n      <td>0.726316</td>\n    </tr>\n    <tr>\n      <th>All</th>\n      <td>273.0</td>\n      <td>670.0</td>\n      <td>943</td>\n      <td>0.710498</td>\n    </tr>\n    <tr>\n      <th>student</th>\n      <td>60.0</td>\n      <td>136.0</td>\n      <td>196</td>\n      <td>0.693878</td>\n    </tr>\n    <tr>\n      <th>other</th>\n      <td>36.0</td>\n      <td>69.0</td>\n      <td>105</td>\n      <td>0.657143</td>\n    </tr>\n    <tr>\n      <th>marketing</th>\n      <td>10.0</td>\n      <td>16.0</td>\n      <td>26</td>\n      <td>0.615385</td>\n    </tr>\n    <tr>\n      <th>writer</th>\n      <td>19.0</td>\n      <td>26.0</td>\n      <td>45</td>\n      <td>0.577778</td>\n    </tr>\n    <tr>\n      <th>none</th>\n      <td>4.0</td>\n      <td>5.0</td>\n      <td>9</td>\n      <td>0.555556</td>\n    </tr>\n    <tr>\n      <th>administrator</th>\n      <td>36.0</td>\n      <td>43.0</td>\n      <td>79</td>\n      <td>0.544304</td>\n    </tr>\n    <tr>\n      <th>artist</th>\n      <td>13.0</td>\n      <td>15.0</td>\n      <td>28</td>\n      <td>0.535714</td>\n    </tr>\n    <tr>\n      <th>librarian</th>\n      <td>29.0</td>\n      <td>22.0</td>\n      <td>51</td>\n      <td>0.431373</td>\n    </tr>\n    <tr>\n      <th>healthcare</th>\n      <td>11.0</td>\n      <td>5.0</td>\n      <td>16</td>\n      <td>0.312500</td>\n    </tr>\n    <tr>\n      <th>homemaker</th>\n      <td>6.0</td>\n      <td>1.0</td>\n      <td>7</td>\n      <td>0.142857</td>\n    </tr>\n  </tbody>\n</table>\n</div>"
          },
          "metadata": {},
          "execution_count": 58
        }
      ]
    },
    {
      "cell_type": "markdown",
      "metadata": {
        "id": "x4ZfMBojFbfX"
      },
      "source": [
        "### Step 6. For each occupation, calculate the minimum and maximum ages"
      ]
    },
    {
      "cell_type": "code",
      "metadata": {
        "jupyter": {
          "outputs_hidden": false
        },
        "id": "YvDF1SpCFbfY"
      },
      "source": [
        "users.groupby('occupation').agg({'age' : [min, max]})"
      ],
      "execution_count": 59,
      "outputs": [
        {
          "output_type": "execute_result",
          "data": {
            "text/plain": [
              "              age    \n",
              "              min max\n",
              "occupation           \n",
              "administrator  21  70\n",
              "artist         19  48\n",
              "doctor         28  64\n",
              "educator       23  63\n",
              "engineer       22  70\n",
              "entertainment  15  50\n",
              "executive      22  69\n",
              "healthcare     22  62\n",
              "homemaker      20  50\n",
              "lawyer         21  53\n",
              "librarian      23  69\n",
              "marketing      24  55\n",
              "none           11  55\n",
              "other          13  64\n",
              "programmer     20  63\n",
              "retired        51  73\n",
              "salesman       18  66\n",
              "scientist      23  55\n",
              "student         7  42\n",
              "technician     21  55\n",
              "writer         18  60"
            ],
            "text/html": "<div>\n<style scoped>\n    .dataframe tbody tr th:only-of-type {\n        vertical-align: middle;\n    }\n\n    .dataframe tbody tr th {\n        vertical-align: top;\n    }\n\n    .dataframe thead tr th {\n        text-align: left;\n    }\n\n    .dataframe thead tr:last-of-type th {\n        text-align: right;\n    }\n</style>\n<table border=\"1\" class=\"dataframe\">\n  <thead>\n    <tr>\n      <th></th>\n      <th colspan=\"2\" halign=\"left\">age</th>\n    </tr>\n    <tr>\n      <th></th>\n      <th>min</th>\n      <th>max</th>\n    </tr>\n    <tr>\n      <th>occupation</th>\n      <th></th>\n      <th></th>\n    </tr>\n  </thead>\n  <tbody>\n    <tr>\n      <th>administrator</th>\n      <td>21</td>\n      <td>70</td>\n    </tr>\n    <tr>\n      <th>artist</th>\n      <td>19</td>\n      <td>48</td>\n    </tr>\n    <tr>\n      <th>doctor</th>\n      <td>28</td>\n      <td>64</td>\n    </tr>\n    <tr>\n      <th>educator</th>\n      <td>23</td>\n      <td>63</td>\n    </tr>\n    <tr>\n      <th>engineer</th>\n      <td>22</td>\n      <td>70</td>\n    </tr>\n    <tr>\n      <th>entertainment</th>\n      <td>15</td>\n      <td>50</td>\n    </tr>\n    <tr>\n      <th>executive</th>\n      <td>22</td>\n      <td>69</td>\n    </tr>\n    <tr>\n      <th>healthcare</th>\n      <td>22</td>\n      <td>62</td>\n    </tr>\n    <tr>\n      <th>homemaker</th>\n      <td>20</td>\n      <td>50</td>\n    </tr>\n    <tr>\n      <th>lawyer</th>\n      <td>21</td>\n      <td>53</td>\n    </tr>\n    <tr>\n      <th>librarian</th>\n      <td>23</td>\n      <td>69</td>\n    </tr>\n    <tr>\n      <th>marketing</th>\n      <td>24</td>\n      <td>55</td>\n    </tr>\n    <tr>\n      <th>none</th>\n      <td>11</td>\n      <td>55</td>\n    </tr>\n    <tr>\n      <th>other</th>\n      <td>13</td>\n      <td>64</td>\n    </tr>\n    <tr>\n      <th>programmer</th>\n      <td>20</td>\n      <td>63</td>\n    </tr>\n    <tr>\n      <th>retired</th>\n      <td>51</td>\n      <td>73</td>\n    </tr>\n    <tr>\n      <th>salesman</th>\n      <td>18</td>\n      <td>66</td>\n    </tr>\n    <tr>\n      <th>scientist</th>\n      <td>23</td>\n      <td>55</td>\n    </tr>\n    <tr>\n      <th>student</th>\n      <td>7</td>\n      <td>42</td>\n    </tr>\n    <tr>\n      <th>technician</th>\n      <td>21</td>\n      <td>55</td>\n    </tr>\n    <tr>\n      <th>writer</th>\n      <td>18</td>\n      <td>60</td>\n    </tr>\n  </tbody>\n</table>\n</div>"
          },
          "metadata": {},
          "execution_count": 59
        }
      ]
    },
    {
      "cell_type": "markdown",
      "metadata": {
        "id": "r82pQczqFbfY"
      },
      "source": [
        "### Step 7. For each combination of occupation and gender, calculate the mean age"
      ]
    },
    {
      "cell_type": "code",
      "metadata": {
        "id": "1xKLfciGFbfY"
      },
      "source": [
        "users.groupby(['occupation', 'gender']).agg({'age' : 'mean'})"
      ],
      "execution_count": 61,
      "outputs": [
        {
          "output_type": "execute_result",
          "data": {
            "text/plain": [
              "                            age\n",
              "occupation    gender           \n",
              "administrator F       40.638889\n",
              "              M       37.162791\n",
              "artist        F       30.307692\n",
              "              M       32.333333\n",
              "doctor        M       43.571429\n",
              "educator      F       39.115385\n",
              "              M       43.101449\n",
              "engineer      F       29.500000\n",
              "              M       36.600000\n",
              "entertainment F       31.000000\n",
              "              M       29.000000\n",
              "executive     F       44.000000\n",
              "              M       38.172414\n",
              "healthcare    F       39.818182\n",
              "              M       45.400000\n",
              "homemaker     F       34.166667\n",
              "              M       23.000000\n",
              "lawyer        F       39.500000\n",
              "              M       36.200000\n",
              "librarian     F       40.000000\n",
              "              M       40.000000\n",
              "marketing     F       37.200000\n",
              "              M       37.875000\n",
              "none          F       36.500000\n",
              "              M       18.600000\n",
              "other         F       35.472222\n",
              "              M       34.028986\n",
              "programmer    F       32.166667\n",
              "              M       33.216667\n",
              "retired       F       70.000000\n",
              "              M       62.538462\n",
              "salesman      F       27.000000\n",
              "              M       38.555556\n",
              "scientist     F       28.333333\n",
              "              M       36.321429\n",
              "student       F       20.750000\n",
              "              M       22.669118\n",
              "technician    F       38.000000\n",
              "              M       32.961538\n",
              "writer        F       37.631579\n",
              "              M       35.346154"
            ],
            "text/html": "<div>\n<style scoped>\n    .dataframe tbody tr th:only-of-type {\n        vertical-align: middle;\n    }\n\n    .dataframe tbody tr th {\n        vertical-align: top;\n    }\n\n    .dataframe thead th {\n        text-align: right;\n    }\n</style>\n<table border=\"1\" class=\"dataframe\">\n  <thead>\n    <tr style=\"text-align: right;\">\n      <th></th>\n      <th></th>\n      <th>age</th>\n    </tr>\n    <tr>\n      <th>occupation</th>\n      <th>gender</th>\n      <th></th>\n    </tr>\n  </thead>\n  <tbody>\n    <tr>\n      <th rowspan=\"2\" valign=\"top\">administrator</th>\n      <th>F</th>\n      <td>40.638889</td>\n    </tr>\n    <tr>\n      <th>M</th>\n      <td>37.162791</td>\n    </tr>\n    <tr>\n      <th rowspan=\"2\" valign=\"top\">artist</th>\n      <th>F</th>\n      <td>30.307692</td>\n    </tr>\n    <tr>\n      <th>M</th>\n      <td>32.333333</td>\n    </tr>\n    <tr>\n      <th>doctor</th>\n      <th>M</th>\n      <td>43.571429</td>\n    </tr>\n    <tr>\n      <th rowspan=\"2\" valign=\"top\">educator</th>\n      <th>F</th>\n      <td>39.115385</td>\n    </tr>\n    <tr>\n      <th>M</th>\n      <td>43.101449</td>\n    </tr>\n    <tr>\n      <th rowspan=\"2\" valign=\"top\">engineer</th>\n      <th>F</th>\n      <td>29.500000</td>\n    </tr>\n    <tr>\n      <th>M</th>\n      <td>36.600000</td>\n    </tr>\n    <tr>\n      <th rowspan=\"2\" valign=\"top\">entertainment</th>\n      <th>F</th>\n      <td>31.000000</td>\n    </tr>\n    <tr>\n      <th>M</th>\n      <td>29.000000</td>\n    </tr>\n    <tr>\n      <th rowspan=\"2\" valign=\"top\">executive</th>\n      <th>F</th>\n      <td>44.000000</td>\n    </tr>\n    <tr>\n      <th>M</th>\n      <td>38.172414</td>\n    </tr>\n    <tr>\n      <th rowspan=\"2\" valign=\"top\">healthcare</th>\n      <th>F</th>\n      <td>39.818182</td>\n    </tr>\n    <tr>\n      <th>M</th>\n      <td>45.400000</td>\n    </tr>\n    <tr>\n      <th rowspan=\"2\" valign=\"top\">homemaker</th>\n      <th>F</th>\n      <td>34.166667</td>\n    </tr>\n    <tr>\n      <th>M</th>\n      <td>23.000000</td>\n    </tr>\n    <tr>\n      <th rowspan=\"2\" valign=\"top\">lawyer</th>\n      <th>F</th>\n      <td>39.500000</td>\n    </tr>\n    <tr>\n      <th>M</th>\n      <td>36.200000</td>\n    </tr>\n    <tr>\n      <th rowspan=\"2\" valign=\"top\">librarian</th>\n      <th>F</th>\n      <td>40.000000</td>\n    </tr>\n    <tr>\n      <th>M</th>\n      <td>40.000000</td>\n    </tr>\n    <tr>\n      <th rowspan=\"2\" valign=\"top\">marketing</th>\n      <th>F</th>\n      <td>37.200000</td>\n    </tr>\n    <tr>\n      <th>M</th>\n      <td>37.875000</td>\n    </tr>\n    <tr>\n      <th rowspan=\"2\" valign=\"top\">none</th>\n      <th>F</th>\n      <td>36.500000</td>\n    </tr>\n    <tr>\n      <th>M</th>\n      <td>18.600000</td>\n    </tr>\n    <tr>\n      <th rowspan=\"2\" valign=\"top\">other</th>\n      <th>F</th>\n      <td>35.472222</td>\n    </tr>\n    <tr>\n      <th>M</th>\n      <td>34.028986</td>\n    </tr>\n    <tr>\n      <th rowspan=\"2\" valign=\"top\">programmer</th>\n      <th>F</th>\n      <td>32.166667</td>\n    </tr>\n    <tr>\n      <th>M</th>\n      <td>33.216667</td>\n    </tr>\n    <tr>\n      <th rowspan=\"2\" valign=\"top\">retired</th>\n      <th>F</th>\n      <td>70.000000</td>\n    </tr>\n    <tr>\n      <th>M</th>\n      <td>62.538462</td>\n    </tr>\n    <tr>\n      <th rowspan=\"2\" valign=\"top\">salesman</th>\n      <th>F</th>\n      <td>27.000000</td>\n    </tr>\n    <tr>\n      <th>M</th>\n      <td>38.555556</td>\n    </tr>\n    <tr>\n      <th rowspan=\"2\" valign=\"top\">scientist</th>\n      <th>F</th>\n      <td>28.333333</td>\n    </tr>\n    <tr>\n      <th>M</th>\n      <td>36.321429</td>\n    </tr>\n    <tr>\n      <th rowspan=\"2\" valign=\"top\">student</th>\n      <th>F</th>\n      <td>20.750000</td>\n    </tr>\n    <tr>\n      <th>M</th>\n      <td>22.669118</td>\n    </tr>\n    <tr>\n      <th rowspan=\"2\" valign=\"top\">technician</th>\n      <th>F</th>\n      <td>38.000000</td>\n    </tr>\n    <tr>\n      <th>M</th>\n      <td>32.961538</td>\n    </tr>\n    <tr>\n      <th rowspan=\"2\" valign=\"top\">writer</th>\n      <th>F</th>\n      <td>37.631579</td>\n    </tr>\n    <tr>\n      <th>M</th>\n      <td>35.346154</td>\n    </tr>\n  </tbody>\n</table>\n</div>"
          },
          "metadata": {},
          "execution_count": 61
        }
      ]
    },
    {
      "cell_type": "markdown",
      "metadata": {
        "id": "5AFdoHY2FbfY"
      },
      "source": [
        "### Step 8.  For each occupation present the percentage of women and men"
      ]
    },
    {
      "cell_type": "code",
      "metadata": {
        "id": "UddR642kFbfY"
      },
      "source": [
        "absolute_values['%_Female'] = absolute_values['F'] / absolute_values['All']\n",
        "absolute_values[['% Male', '%_Female']]"
      ],
      "execution_count": 65,
      "outputs": [
        {
          "output_type": "execute_result",
          "data": {
            "text/plain": [
              "gender           % Male  %_Female\n",
              "occupation                       \n",
              "administrator  0.544304  0.455696\n",
              "artist         0.535714  0.464286\n",
              "doctor         1.000000       NaN\n",
              "educator       0.726316  0.273684\n",
              "engineer       0.970149  0.029851\n",
              "entertainment  0.888889  0.111111\n",
              "executive      0.906250  0.093750\n",
              "healthcare     0.312500  0.687500\n",
              "homemaker      0.142857  0.857143\n",
              "lawyer         0.833333  0.166667\n",
              "librarian      0.431373  0.568627\n",
              "marketing      0.615385  0.384615\n",
              "none           0.555556  0.444444\n",
              "other          0.657143  0.342857\n",
              "programmer     0.909091  0.090909\n",
              "retired        0.928571  0.071429\n",
              "salesman       0.750000  0.250000\n",
              "scientist      0.903226  0.096774\n",
              "student        0.693878  0.306122\n",
              "technician     0.962963  0.037037\n",
              "writer         0.577778  0.422222\n",
              "All            0.710498  0.289502"
            ],
            "text/html": "<div>\n<style scoped>\n    .dataframe tbody tr th:only-of-type {\n        vertical-align: middle;\n    }\n\n    .dataframe tbody tr th {\n        vertical-align: top;\n    }\n\n    .dataframe thead th {\n        text-align: right;\n    }\n</style>\n<table border=\"1\" class=\"dataframe\">\n  <thead>\n    <tr style=\"text-align: right;\">\n      <th>gender</th>\n      <th>% Male</th>\n      <th>%_Female</th>\n    </tr>\n    <tr>\n      <th>occupation</th>\n      <th></th>\n      <th></th>\n    </tr>\n  </thead>\n  <tbody>\n    <tr>\n      <th>administrator</th>\n      <td>0.544304</td>\n      <td>0.455696</td>\n    </tr>\n    <tr>\n      <th>artist</th>\n      <td>0.535714</td>\n      <td>0.464286</td>\n    </tr>\n    <tr>\n      <th>doctor</th>\n      <td>1.000000</td>\n      <td>NaN</td>\n    </tr>\n    <tr>\n      <th>educator</th>\n      <td>0.726316</td>\n      <td>0.273684</td>\n    </tr>\n    <tr>\n      <th>engineer</th>\n      <td>0.970149</td>\n      <td>0.029851</td>\n    </tr>\n    <tr>\n      <th>entertainment</th>\n      <td>0.888889</td>\n      <td>0.111111</td>\n    </tr>\n    <tr>\n      <th>executive</th>\n      <td>0.906250</td>\n      <td>0.093750</td>\n    </tr>\n    <tr>\n      <th>healthcare</th>\n      <td>0.312500</td>\n      <td>0.687500</td>\n    </tr>\n    <tr>\n      <th>homemaker</th>\n      <td>0.142857</td>\n      <td>0.857143</td>\n    </tr>\n    <tr>\n      <th>lawyer</th>\n      <td>0.833333</td>\n      <td>0.166667</td>\n    </tr>\n    <tr>\n      <th>librarian</th>\n      <td>0.431373</td>\n      <td>0.568627</td>\n    </tr>\n    <tr>\n      <th>marketing</th>\n      <td>0.615385</td>\n      <td>0.384615</td>\n    </tr>\n    <tr>\n      <th>none</th>\n      <td>0.555556</td>\n      <td>0.444444</td>\n    </tr>\n    <tr>\n      <th>other</th>\n      <td>0.657143</td>\n      <td>0.342857</td>\n    </tr>\n    <tr>\n      <th>programmer</th>\n      <td>0.909091</td>\n      <td>0.090909</td>\n    </tr>\n    <tr>\n      <th>retired</th>\n      <td>0.928571</td>\n      <td>0.071429</td>\n    </tr>\n    <tr>\n      <th>salesman</th>\n      <td>0.750000</td>\n      <td>0.250000</td>\n    </tr>\n    <tr>\n      <th>scientist</th>\n      <td>0.903226</td>\n      <td>0.096774</td>\n    </tr>\n    <tr>\n      <th>student</th>\n      <td>0.693878</td>\n      <td>0.306122</td>\n    </tr>\n    <tr>\n      <th>technician</th>\n      <td>0.962963</td>\n      <td>0.037037</td>\n    </tr>\n    <tr>\n      <th>writer</th>\n      <td>0.577778</td>\n      <td>0.422222</td>\n    </tr>\n    <tr>\n      <th>All</th>\n      <td>0.710498</td>\n      <td>0.289502</td>\n    </tr>\n  </tbody>\n</table>\n</div>"
          },
          "metadata": {},
          "execution_count": 65
        }
      ]
    },
    {
      "cell_type": "code",
      "execution_count": null,
      "metadata": {},
      "outputs": [],
      "source": []
    }
  ]
}