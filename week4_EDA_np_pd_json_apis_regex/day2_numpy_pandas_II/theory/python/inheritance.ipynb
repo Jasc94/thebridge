{
 "cells": [
  {
   "cell_type": "markdown",
   "metadata": {},
   "source": [
    "Inheritance in python"
   ]
  },
  {
   "cell_type": "code",
   "execution_count": 31,
   "metadata": {},
   "outputs": [],
   "source": [
    "class LivingBeing():\n",
    "    \"\"\"Father/Mother class\"\"\"\n",
    "    def __init__(self, kingdom, born_date, color, procreate_ability=True):\n",
    "        self.is_living = True\n",
    "        self.kingdom = kingdom\n",
    "        self.procreate_ability = procreate_ability\n",
    "        self.born_date = born_date\n",
    "        self.death_date = None\n",
    "        #self.days_lived = days_lived\n",
    "        self.color = color\n",
    "\n",
    "    def living_being_function(self):\n",
    "        print(\"I am a living being!\")\n",
    "\n",
    "    def die(self, death_date):\n",
    "        print(\"Murió\")\n",
    "        self.is_living = False\n",
    "        self.death_date = death_date"
   ]
  },
  {
   "cell_type": "code",
   "execution_count": 15,
   "metadata": {},
   "outputs": [],
   "source": [
    "def new_day(a_class):\n",
    "    a_class.days_lived += 1"
   ]
  },
  {
   "cell_type": "code",
   "execution_count": 16,
   "metadata": {
    "tags": []
   },
   "outputs": [
    {
     "output_type": "stream",
     "name": "stdout",
     "text": [
      "celula.days_lived: 500\ncelula.days_lived: 501\n"
     ]
    }
   ],
   "source": [
    "celula = LivingBeing(kingdom=\"Animal\", born_date=\"18/06/2019\", days_lived = 500)\n",
    "print(\"celula.days_lived:\", celula.days_lived)\n",
    "new_day(a_class=celula)\n",
    "print(\"celula.days_lived:\", celula.days_lived)"
   ]
  },
  {
   "cell_type": "code",
   "execution_count": 17,
   "metadata": {},
   "outputs": [
    {
     "output_type": "stream",
     "name": "stdout",
     "text": [
      "celula.is_living: True\nMurió\ncelula.is_living: False\ncelula.death_date: 05/05/2021\n"
     ]
    }
   ],
   "source": [
    "print(\"celula.is_living:\",celula.is_living)\n",
    "celula.die(\"05/05/2021\")\n",
    "print(\"celula.is_living:\",celula.is_living)\n",
    "print(\"celula.death_date:\",celula.death_date)"
   ]
  },
  {
   "cell_type": "code",
   "execution_count": null,
   "metadata": {},
   "outputs": [],
   "source": [
    "humano = LivingBeing(kingdom=\"Animal\", born_date=\"21/06/2019\")\n",
    "print(\"humano.is_living:\", humano.is_living)\n",
    "humano.die()\n",
    "print(\"humano.is_living:\", humano.is_living)"
   ]
  },
  {
   "cell_type": "code",
   "execution_count": 25,
   "metadata": {},
   "outputs": [],
   "source": [
    "# La clase humano hereda los métodos de Living Human\n",
    "\n",
    "class Human(LivingBeing):\n",
    "    \"\"\"Children class\"\"\"\n",
    "    def __init__(self, born_date, procreate_ability=True, eyes=2, legs=2, intelligence_ability=True):\n",
    "        # Herencia\n",
    "        # Estos son los atributos cuyos valores hereda de Living Being\n",
    "        LivingBeing.__init__(self, kingdom=\"Animal\", procreate_ability=procreate_ability, born_date=born_date, days_lived = 0)\n",
    "\n",
    "        # Estos atributos son los que se podrán pasar por parámetros y que son específicos de la clase hijo\n",
    "        self.eyes = eyes\n",
    "        self.legs = legs\n",
    "        self.intelligence_ability = intelligence_ability\n",
    "    \n",
    "    "
   ]
  },
  {
   "source": [
    "humano = Human(born_date=\"13/05/1991\")\n",
    "\n",
    "print(\"humano.is_living:\", humano.is_living)\n",
    "print(\"\\nCalling to living_being_function():\\n\")\n",
    "humano.living_being_function()"
   ],
   "cell_type": "code",
   "metadata": {
    "tags": []
   },
   "execution_count": 26,
   "outputs": [
    {
     "output_type": "stream",
     "name": "stdout",
     "text": [
      "humano.is_living: True\n\nCalling to living_being_function():\n\nI am a living being!\n"
     ]
    }
   ]
  },
  {
   "cell_type": "code",
   "execution_count": 27,
   "metadata": {},
   "outputs": [
    {
     "output_type": "stream",
     "name": "stdout",
     "text": [
      "humano.is_living: True\n\nCalling to living_being_function():\n\nI am a living being!\n"
     ]
    }
   ],
   "source": [
    "humano_esteril = Human(born_date=\"13/05/1991\", procreate_ability=False)\n",
    "\n",
    "print(\"humano.is_living:\", humano_esteril.is_living)\n",
    "print(\"\\nCalling to living_being_function():\\n\")\n",
    "humano_esteril.living_being_function()"
   ]
  },
  {
   "cell_type": "code",
   "execution_count": 39,
   "metadata": {
    "tags": []
   },
   "outputs": [],
   "source": [
    "class Perro(LivingBeing):\n",
    "    def __init__(self, raza, c, born_d, patas = 4, oj = 2, cola = True, agresivo = False):\n",
    "\n",
    "        # Inheritance\n",
    "        # Ejemplo: kingdom -> todos los perros pertenecen al kingdom \"animal\", por lo que no es necesario ponerlo en el constructor, y podemos meterlo directamente en la herencia\n",
    "        LivingBeing.__init__(self, kingdom = \"Animal\", born_date = born_d, color = c)\n",
    "\n",
    "        # Le pasamos a los self, los atributos que son particular de la clase perro y no de LivingBeing\n",
    "        self.cola = cola\n",
    "        self.raza = raza\n",
    "        self.patas = patas\n",
    "        self.ojos = oj\n",
    "        self.agresivo = agresivo"
   ]
  },
  {
   "cell_type": "code",
   "execution_count": 41,
   "metadata": {},
   "outputs": [
    {
     "output_type": "stream",
     "name": "stdout",
     "text": [
      "True\nSan Bernardo\nAnimal\n4\nFalse\n3\n"
     ]
    }
   ],
   "source": [
    "doby = Perro(raza = \"San Bernardo\", c = \"Marrón y Blanco\", born_d = \"05/05/2020\", oj = 3)\n",
    "\n",
    "print(doby.cola)\n",
    "print(doby.raza)\n",
    "print(doby.kingdom)\n",
    "print(doby.patas)\n",
    "print(doby.agresivo)\n",
    "print(doby.ojos)"
   ]
  },
  {
   "cell_type": "code",
   "execution_count": 42,
   "metadata": {},
   "outputs": [
    {
     "output_type": "stream",
     "name": "stdout",
     "text": [
      "Help on class Perro in module __main__:\n\nclass Perro(LivingBeing)\n |  Perro(raza, c, born_d, patas=4, oj=2, cola=True, agresivo=False)\n |  \n |  Father/Mother class\n |  \n |  Method resolution order:\n |      Perro\n |      LivingBeing\n |      builtins.object\n |  \n |  Methods defined here:\n |  \n |  __init__(self, raza, c, born_d, patas=4, oj=2, cola=True, agresivo=False)\n |      Initialize self.  See help(type(self)) for accurate signature.\n |  \n |  ----------------------------------------------------------------------\n |  Methods inherited from LivingBeing:\n |  \n |  die(self, death_date)\n |  \n |  living_being_function(self)\n |  \n |  ----------------------------------------------------------------------\n |  Data descriptors inherited from LivingBeing:\n |  \n |  __dict__\n |      dictionary for instance variables (if defined)\n |  \n |  __weakref__\n |      list of weak references to the object (if defined)\n\n"
     ]
    }
   ],
   "source": [
    "# Para acceder a la documentaciónde la clase perro\n",
    "help(Perro)"
   ]
  },
  {
   "cell_type": "code",
   "execution_count": null,
   "metadata": {},
   "outputs": [],
   "source": []
  }
 ],
 "metadata": {
  "language_info": {
   "name": "python",
   "codemirror_mode": {
    "name": "ipython",
    "version": 3
   },
   "version": "3.7.4"
  },
  "orig_nbformat": 2,
  "file_extension": ".py",
  "mimetype": "text/x-python",
  "name": "python",
  "npconvert_exporter": "python",
  "pygments_lexer": "ipython3",
  "version": 3,
  "kernelspec": {
   "name": "python374jvsc74a57bd0aee8b7b246df8f9039afb4144a1f6fd8d2ca17a180786b69acc140d282b71a49",
   "display_name": "Python 3.7.4 64-bit"
  },
  "metadata": {
   "interpreter": {
    "hash": "aee8b7b246df8f9039afb4144a1f6fd8d2ca17a180786b69acc140d282b71a49"
   }
  }
 },
 "nbformat": 4,
 "nbformat_minor": 2
}