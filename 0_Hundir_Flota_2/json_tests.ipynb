{
 "metadata": {
  "language_info": {
   "codemirror_mode": {
    "name": "ipython",
    "version": 3
   },
   "file_extension": ".py",
   "mimetype": "text/x-python",
   "name": "python",
   "nbconvert_exporter": "python",
   "pygments_lexer": "ipython3",
   "version": "3.7.4"
  },
  "orig_nbformat": 2,
  "kernelspec": {
   "name": "python374jvsc74a57bd0aee8b7b246df8f9039afb4144a1f6fd8d2ca17a180786b69acc140d282b71a49",
   "display_name": "Python 3.7.4 64-bit"
  },
  "metadata": {
   "interpreter": {
    "hash": "aee8b7b246df8f9039afb4144a1f6fd8d2ca17a180786b69acc140d282b71a49"
   }
  }
 },
 "nbformat": 4,
 "nbformat_minor": 2,
 "cells": [
  {
   "cell_type": "code",
   "execution_count": 3,
   "metadata": {},
   "outputs": [],
   "source": [
    "import pandas as pd\n",
    "import numpy as np\n",
    "import json\n",
    "\n",
    "def matrix_creator():\n",
    "    # Board's index\n",
    "    index = ['A', 'B', 'C', 'D', 'E', 'F', 'G', 'H', 'I', 'J']\n",
    "    # Two dicts for later use\n",
    "    d = {}\n",
    "    d2 = {}\n",
    "\n",
    "    # The outer dict is for the indexes and the inner for the columns\n",
    "    for i in index:\n",
    "        for j in range(1, len(index) + 1):\n",
    "            # I fill it with '~'\n",
    "            d2[j] = '~'\n",
    "        d[i] = d2\n",
    "\n",
    "    # Dataframe out of the dicts\n",
    "    df = pd.DataFrame(d)\n",
    "    # Transpose it to have the letters to be the index and the numbers the columns\n",
    "    df = df.T\n",
    "    return df"
   ]
  },
  {
   "cell_type": "code",
   "execution_count": 4,
   "metadata": {},
   "outputs": [
    {
     "output_type": "execute_result",
     "data": {
      "text/plain": [
       "  1  2  3  4  5  6  7  8  9  10\n",
       "A  ~  ~  ~  ~  ~  ~  ~  ~  ~  ~\n",
       "B  ~  ~  ~  ~  ~  ~  ~  ~  ~  ~\n",
       "C  ~  ~  ~  ~  ~  ~  ~  ~  ~  ~\n",
       "D  ~  ~  ~  ~  ~  ~  ~  ~  ~  ~\n",
       "E  ~  ~  ~  ~  ~  ~  ~  ~  ~  ~\n",
       "F  ~  ~  ~  ~  ~  ~  ~  ~  ~  ~\n",
       "G  ~  ~  ~  ~  ~  ~  ~  ~  ~  ~\n",
       "H  ~  ~  ~  ~  ~  ~  ~  ~  ~  ~\n",
       "I  ~  ~  ~  ~  ~  ~  ~  ~  ~  ~\n",
       "J  ~  ~  ~  ~  ~  ~  ~  ~  ~  ~"
      ],
      "text/html": "<div>\n<style scoped>\n    .dataframe tbody tr th:only-of-type {\n        vertical-align: middle;\n    }\n\n    .dataframe tbody tr th {\n        vertical-align: top;\n    }\n\n    .dataframe thead th {\n        text-align: right;\n    }\n</style>\n<table border=\"1\" class=\"dataframe\">\n  <thead>\n    <tr style=\"text-align: right;\">\n      <th></th>\n      <th>1</th>\n      <th>2</th>\n      <th>3</th>\n      <th>4</th>\n      <th>5</th>\n      <th>6</th>\n      <th>7</th>\n      <th>8</th>\n      <th>9</th>\n      <th>10</th>\n    </tr>\n  </thead>\n  <tbody>\n    <tr>\n      <th>A</th>\n      <td>~</td>\n      <td>~</td>\n      <td>~</td>\n      <td>~</td>\n      <td>~</td>\n      <td>~</td>\n      <td>~</td>\n      <td>~</td>\n      <td>~</td>\n      <td>~</td>\n    </tr>\n    <tr>\n      <th>B</th>\n      <td>~</td>\n      <td>~</td>\n      <td>~</td>\n      <td>~</td>\n      <td>~</td>\n      <td>~</td>\n      <td>~</td>\n      <td>~</td>\n      <td>~</td>\n      <td>~</td>\n    </tr>\n    <tr>\n      <th>C</th>\n      <td>~</td>\n      <td>~</td>\n      <td>~</td>\n      <td>~</td>\n      <td>~</td>\n      <td>~</td>\n      <td>~</td>\n      <td>~</td>\n      <td>~</td>\n      <td>~</td>\n    </tr>\n    <tr>\n      <th>D</th>\n      <td>~</td>\n      <td>~</td>\n      <td>~</td>\n      <td>~</td>\n      <td>~</td>\n      <td>~</td>\n      <td>~</td>\n      <td>~</td>\n      <td>~</td>\n      <td>~</td>\n    </tr>\n    <tr>\n      <th>E</th>\n      <td>~</td>\n      <td>~</td>\n      <td>~</td>\n      <td>~</td>\n      <td>~</td>\n      <td>~</td>\n      <td>~</td>\n      <td>~</td>\n      <td>~</td>\n      <td>~</td>\n    </tr>\n    <tr>\n      <th>F</th>\n      <td>~</td>\n      <td>~</td>\n      <td>~</td>\n      <td>~</td>\n      <td>~</td>\n      <td>~</td>\n      <td>~</td>\n      <td>~</td>\n      <td>~</td>\n      <td>~</td>\n    </tr>\n    <tr>\n      <th>G</th>\n      <td>~</td>\n      <td>~</td>\n      <td>~</td>\n      <td>~</td>\n      <td>~</td>\n      <td>~</td>\n      <td>~</td>\n      <td>~</td>\n      <td>~</td>\n      <td>~</td>\n    </tr>\n    <tr>\n      <th>H</th>\n      <td>~</td>\n      <td>~</td>\n      <td>~</td>\n      <td>~</td>\n      <td>~</td>\n      <td>~</td>\n      <td>~</td>\n      <td>~</td>\n      <td>~</td>\n      <td>~</td>\n    </tr>\n    <tr>\n      <th>I</th>\n      <td>~</td>\n      <td>~</td>\n      <td>~</td>\n      <td>~</td>\n      <td>~</td>\n      <td>~</td>\n      <td>~</td>\n      <td>~</td>\n      <td>~</td>\n      <td>~</td>\n    </tr>\n    <tr>\n      <th>J</th>\n      <td>~</td>\n      <td>~</td>\n      <td>~</td>\n      <td>~</td>\n      <td>~</td>\n      <td>~</td>\n      <td>~</td>\n      <td>~</td>\n      <td>~</td>\n      <td>~</td>\n    </tr>\n  </tbody>\n</table>\n</div>"
     },
     "metadata": {},
     "execution_count": 4
    }
   ],
   "source": [
    "df = matrix_creator()\n",
    "df"
   ]
  },
  {
   "cell_type": "code",
   "execution_count": 25,
   "metadata": {},
   "outputs": [],
   "source": [
    "# Para guardar la matrix como json\n",
    "\n",
    "df.to_json('json/json_test1.json', orient = 'records', indent = 4)\n",
    "df.to_json('json/json_test2.json', orient = 'records', indent = 4)\n",
    "df.to_json('json/json_test3.json', orient = 'records', indent = 4)"
   ]
  },
  {
   "cell_type": "code",
   "execution_count": 10,
   "metadata": {},
   "outputs": [],
   "source": [
    "# Para guardar el juego de hundir la flota, tendría que guardar 4 matrices: back y front de cada jugador"
   ]
  },
  {
   "cell_type": "code",
   "execution_count": 16,
   "metadata": {},
   "outputs": [
    {
     "output_type": "stream",
     "name": "stdout",
     "text": [
      "[{'1': '~', '2': '~', '3': '~', '4': '~', '5': '~', '6': '~', '7': '~', '8': '~', '9': '~', '10': '~'}, {'1': '~', '2': '~', '3': '~', '4': '~', '5': '~', '6': '~', '7': '~', '8': '~', '9': '~', '10': '~'}, {'1': '~', '2': '~', '3': '~', '4': '~', '5': '~', '6': '~', '7': '~', '8': '~', '9': '~', '10': '~'}, {'1': '~', '2': '~', '3': '~', '4': '~', '5': '~', '6': '~', '7': '~', '8': '~', '9': '~', '10': '~'}, {'1': '~', '2': '~', '3': '~', '4': '~', '5': '~', '6': '~', '7': '~', '8': '~', '9': '~', '10': '~'}, {'1': '~', '2': '~', '3': '~', '4': '~', '5': '~', '6': '~', '7': '~', '8': '~', '9': '~', '10': '~'}, {'1': '~', '2': '~', '3': '~', '4': '~', '5': '~', '6': '~', '7': '~', '8': '~', '9': '~', '10': '~'}, {'1': '~', '2': '~', '3': '~', '4': '~', '5': '~', '6': '~', '7': '~', '8': '~', '9': '~', '10': '~'}, {'1': '~', '2': '~', '3': '~', '4': '~', '5': '~', '6': '~', '7': '~', '8': '~', '9': '~', '10': '~'}, {'1': '~', '2': '~', '3': '~', '4': '~', '5': '~', '6': '~', '7': '~', '8': '~', '9': '~', '10': '~'}]\n----------------------------------------------------------------------------------------------------\n   1  2  3  4  5  6  7  8  9 10\n0  ~  ~  ~  ~  ~  ~  ~  ~  ~  ~\n1  ~  ~  ~  ~  ~  ~  ~  ~  ~  ~\n2  ~  ~  ~  ~  ~  ~  ~  ~  ~  ~\n3  ~  ~  ~  ~  ~  ~  ~  ~  ~  ~\n4  ~  ~  ~  ~  ~  ~  ~  ~  ~  ~\n5  ~  ~  ~  ~  ~  ~  ~  ~  ~  ~\n6  ~  ~  ~  ~  ~  ~  ~  ~  ~  ~\n7  ~  ~  ~  ~  ~  ~  ~  ~  ~  ~\n8  ~  ~  ~  ~  ~  ~  ~  ~  ~  ~\n9  ~  ~  ~  ~  ~  ~  ~  ~  ~  ~\n"
     ]
    }
   ],
   "source": [
    "# Para leer la info del json\n",
    "\n",
    "with open('json/json_test.json', 'r+') as outfile:\n",
    "    old_game = json.load(outfile)\n",
    "\n",
    "print(old_game)\n",
    "print('-' * 100)\n",
    "old_df = pd.DataFrame(old_game)\n",
    "print(old_df)"
   ]
  },
  {
   "cell_type": "code",
   "execution_count": 18,
   "metadata": {},
   "outputs": [],
   "source": [
    "def load_old_game(file):\n",
    "    with open(file, 'r+') as outfile:\n",
    "        old_game = json.load(outfile)\n",
    "        old_df = pd.DataFrame(old_game)\n",
    "        return old_df"
   ]
  },
  {
   "cell_type": "code",
   "execution_count": 20,
   "metadata": {},
   "outputs": [
    {
     "output_type": "execute_result",
     "data": {
      "text/plain": [
       "   1  2  3  4  5  6  7  8  9 10\n",
       "0  ~  ~  ~  ~  ~  ~  ~  ~  ~  ~\n",
       "1  ~  ~  ~  ~  ~  ~  ~  ~  ~  ~\n",
       "2  ~  ~  ~  ~  ~  ~  ~  ~  ~  ~\n",
       "3  ~  ~  ~  ~  ~  ~  ~  ~  ~  ~\n",
       "4  ~  ~  ~  ~  ~  ~  ~  ~  ~  ~\n",
       "5  ~  ~  ~  ~  ~  ~  ~  ~  ~  ~\n",
       "6  ~  ~  ~  ~  ~  ~  ~  ~  ~  ~\n",
       "7  ~  ~  ~  ~  ~  ~  ~  ~  ~  ~\n",
       "8  ~  ~  ~  ~  ~  ~  ~  ~  ~  ~\n",
       "9  ~  ~  ~  ~  ~  ~  ~  ~  ~  ~"
      ],
      "text/html": "<div>\n<style scoped>\n    .dataframe tbody tr th:only-of-type {\n        vertical-align: middle;\n    }\n\n    .dataframe tbody tr th {\n        vertical-align: top;\n    }\n\n    .dataframe thead th {\n        text-align: right;\n    }\n</style>\n<table border=\"1\" class=\"dataframe\">\n  <thead>\n    <tr style=\"text-align: right;\">\n      <th></th>\n      <th>1</th>\n      <th>2</th>\n      <th>3</th>\n      <th>4</th>\n      <th>5</th>\n      <th>6</th>\n      <th>7</th>\n      <th>8</th>\n      <th>9</th>\n      <th>10</th>\n    </tr>\n  </thead>\n  <tbody>\n    <tr>\n      <th>0</th>\n      <td>~</td>\n      <td>~</td>\n      <td>~</td>\n      <td>~</td>\n      <td>~</td>\n      <td>~</td>\n      <td>~</td>\n      <td>~</td>\n      <td>~</td>\n      <td>~</td>\n    </tr>\n    <tr>\n      <th>1</th>\n      <td>~</td>\n      <td>~</td>\n      <td>~</td>\n      <td>~</td>\n      <td>~</td>\n      <td>~</td>\n      <td>~</td>\n      <td>~</td>\n      <td>~</td>\n      <td>~</td>\n    </tr>\n    <tr>\n      <th>2</th>\n      <td>~</td>\n      <td>~</td>\n      <td>~</td>\n      <td>~</td>\n      <td>~</td>\n      <td>~</td>\n      <td>~</td>\n      <td>~</td>\n      <td>~</td>\n      <td>~</td>\n    </tr>\n    <tr>\n      <th>3</th>\n      <td>~</td>\n      <td>~</td>\n      <td>~</td>\n      <td>~</td>\n      <td>~</td>\n      <td>~</td>\n      <td>~</td>\n      <td>~</td>\n      <td>~</td>\n      <td>~</td>\n    </tr>\n    <tr>\n      <th>4</th>\n      <td>~</td>\n      <td>~</td>\n      <td>~</td>\n      <td>~</td>\n      <td>~</td>\n      <td>~</td>\n      <td>~</td>\n      <td>~</td>\n      <td>~</td>\n      <td>~</td>\n    </tr>\n    <tr>\n      <th>5</th>\n      <td>~</td>\n      <td>~</td>\n      <td>~</td>\n      <td>~</td>\n      <td>~</td>\n      <td>~</td>\n      <td>~</td>\n      <td>~</td>\n      <td>~</td>\n      <td>~</td>\n    </tr>\n    <tr>\n      <th>6</th>\n      <td>~</td>\n      <td>~</td>\n      <td>~</td>\n      <td>~</td>\n      <td>~</td>\n      <td>~</td>\n      <td>~</td>\n      <td>~</td>\n      <td>~</td>\n      <td>~</td>\n    </tr>\n    <tr>\n      <th>7</th>\n      <td>~</td>\n      <td>~</td>\n      <td>~</td>\n      <td>~</td>\n      <td>~</td>\n      <td>~</td>\n      <td>~</td>\n      <td>~</td>\n      <td>~</td>\n      <td>~</td>\n    </tr>\n    <tr>\n      <th>8</th>\n      <td>~</td>\n      <td>~</td>\n      <td>~</td>\n      <td>~</td>\n      <td>~</td>\n      <td>~</td>\n      <td>~</td>\n      <td>~</td>\n      <td>~</td>\n      <td>~</td>\n    </tr>\n    <tr>\n      <th>9</th>\n      <td>~</td>\n      <td>~</td>\n      <td>~</td>\n      <td>~</td>\n      <td>~</td>\n      <td>~</td>\n      <td>~</td>\n      <td>~</td>\n      <td>~</td>\n      <td>~</td>\n    </tr>\n  </tbody>\n</table>\n</div>"
     },
     "metadata": {},
     "execution_count": 20
    }
   ],
   "source": [
    "load_old_game('json/json_test.json')"
   ]
  },
  {
   "source": [
    "Con los jsons tendría que:\n",
    "- Guardar 4 jsons -> 1 por dataframe\n",
    "- Guardar los jsons en una misma carpeta\n",
    "- Que al guardar, el nombre de cada archivo contenga: partida + player + matriz\n",
    "\n",
    "\n",
    "Al volver a cargarlos:\n",
    "- Debe asignar cada archivo a su correspondiente matriz-jugador"
   ],
   "cell_type": "markdown",
   "metadata": {}
  },
  {
   "source": [
    "# Game dynamic"
   ],
   "cell_type": "markdown",
   "metadata": {}
  },
  {
   "cell_type": "code",
   "execution_count": 50,
   "metadata": {},
   "outputs": [
    {
     "output_type": "stream",
     "name": "stdout",
     "text": [
      "Seems like the folder/path doesn't exist or it's incorrect\n"
     ]
    }
   ],
   "source": [
    "beginning = input('Do you want to start a new game(new) or continue an old one(old)?').lower()\n",
    "\n",
    "if beginning == 'old':\n",
    "    try:\n",
    "        old_game_folder = input('Please enter the folder (or folder) with your old game: ')\n",
    "        print(load_old_game_2(old_game_folder))\n",
    "    except Exception:\n",
    "        print(\"Seems like the folder/path doesn't exist or it's incorrect\")\n",
    "else:\n",
    "    print('new game')\n",
    "    # rest of the game"
   ]
  },
  {
   "cell_type": "code",
   "execution_count": 26,
   "metadata": {},
   "outputs": [
    {
     "output_type": "stream",
     "name": "stdout",
     "text": [
      "json_test3.json\njson_test.json\njson_test2.json\ndata.json\njson_test1.json\n"
     ]
    }
   ],
   "source": [
    "import os\n",
    "for i in os.listdir('json'):\n",
    "    print(i)"
   ]
  },
  {
   "cell_type": "code",
   "execution_count": 41,
   "metadata": {},
   "outputs": [],
   "source": [
    "def load_old_game_2(path):\n",
    "    dfs = {}\n",
    "\n",
    "    for i in os.listdir(path):\n",
    "        full_path = path + '/' + str(i)\n",
    "        with open(full_path, 'r+') as outfile:\n",
    "            old_game = json.load(outfile)\n",
    "            old_df = pd.DataFrame(old_game)\n",
    "            dfs[i] = old_df\n",
    "\n",
    "    return dfs"
   ]
  },
  {
   "cell_type": "code",
   "execution_count": 42,
   "metadata": {},
   "outputs": [
    {
     "output_type": "execute_result",
     "data": {
      "text/plain": [
       "{'json_test3.json':    1  2  3  4  5  6  7  8  9 10\n",
       " 0  ~  ~  ~  ~  ~  ~  ~  ~  ~  ~\n",
       " 1  ~  ~  ~  ~  ~  ~  ~  ~  ~  ~\n",
       " 2  ~  ~  ~  ~  ~  ~  ~  ~  ~  ~\n",
       " 3  ~  ~  ~  ~  ~  ~  ~  ~  ~  ~\n",
       " 4  ~  ~  ~  ~  ~  ~  ~  ~  ~  ~\n",
       " 5  ~  ~  ~  ~  ~  ~  ~  ~  ~  ~\n",
       " 6  ~  ~  ~  ~  ~  ~  ~  ~  ~  ~\n",
       " 7  ~  ~  ~  ~  ~  ~  ~  ~  ~  ~\n",
       " 8  ~  ~  ~  ~  ~  ~  ~  ~  ~  ~\n",
       " 9  ~  ~  ~  ~  ~  ~  ~  ~  ~  ~,\n",
       " 'json_test.json':    1  2  3  4  5  6  7  8  9 10\n",
       " 0  ~  ~  ~  ~  ~  ~  ~  ~  ~  ~\n",
       " 1  ~  ~  ~  ~  ~  ~  ~  ~  ~  ~\n",
       " 2  ~  ~  ~  ~  ~  ~  ~  ~  ~  ~\n",
       " 3  ~  ~  ~  ~  ~  ~  ~  ~  ~  ~\n",
       " 4  ~  ~  ~  ~  ~  ~  ~  ~  ~  ~\n",
       " 5  ~  ~  ~  ~  ~  ~  ~  ~  ~  ~\n",
       " 6  ~  ~  ~  ~  ~  ~  ~  ~  ~  ~\n",
       " 7  ~  ~  ~  ~  ~  ~  ~  ~  ~  ~\n",
       " 8  ~  ~  ~  ~  ~  ~  ~  ~  ~  ~\n",
       " 9  ~  ~  ~  ~  ~  ~  ~  ~  ~  ~,\n",
       " 'json_test2.json':    1  2  3  4  5  6  7  8  9 10\n",
       " 0  ~  ~  ~  ~  ~  ~  ~  ~  ~  ~\n",
       " 1  ~  ~  ~  ~  ~  ~  ~  ~  ~  ~\n",
       " 2  ~  ~  ~  ~  ~  ~  ~  ~  ~  ~\n",
       " 3  ~  ~  ~  ~  ~  ~  ~  ~  ~  ~\n",
       " 4  ~  ~  ~  ~  ~  ~  ~  ~  ~  ~\n",
       " 5  ~  ~  ~  ~  ~  ~  ~  ~  ~  ~\n",
       " 6  ~  ~  ~  ~  ~  ~  ~  ~  ~  ~\n",
       " 7  ~  ~  ~  ~  ~  ~  ~  ~  ~  ~\n",
       " 8  ~  ~  ~  ~  ~  ~  ~  ~  ~  ~\n",
       " 9  ~  ~  ~  ~  ~  ~  ~  ~  ~  ~,\n",
       " 'json_test1.json':    1  2  3  4  5  6  7  8  9 10\n",
       " 0  ~  ~  ~  ~  ~  ~  ~  ~  ~  ~\n",
       " 1  ~  ~  ~  ~  ~  ~  ~  ~  ~  ~\n",
       " 2  ~  ~  ~  ~  ~  ~  ~  ~  ~  ~\n",
       " 3  ~  ~  ~  ~  ~  ~  ~  ~  ~  ~\n",
       " 4  ~  ~  ~  ~  ~  ~  ~  ~  ~  ~\n",
       " 5  ~  ~  ~  ~  ~  ~  ~  ~  ~  ~\n",
       " 6  ~  ~  ~  ~  ~  ~  ~  ~  ~  ~\n",
       " 7  ~  ~  ~  ~  ~  ~  ~  ~  ~  ~\n",
       " 8  ~  ~  ~  ~  ~  ~  ~  ~  ~  ~\n",
       " 9  ~  ~  ~  ~  ~  ~  ~  ~  ~  ~}"
      ]
     },
     "metadata": {},
     "execution_count": 42
    }
   ],
   "source": [
    "load_old_game_2('json')"
   ]
  },
  {
   "cell_type": "code",
   "execution_count": null,
   "metadata": {},
   "outputs": [],
   "source": []
  }
 ]
}