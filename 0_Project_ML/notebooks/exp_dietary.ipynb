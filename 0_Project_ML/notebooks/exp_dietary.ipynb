{
 "metadata": {
  "language_info": {
   "codemirror_mode": {
    "name": "ipython",
    "version": 3
   },
   "file_extension": ".py",
   "mimetype": "text/x-python",
   "name": "python",
   "nbconvert_exporter": "python",
   "pygments_lexer": "ipython3",
   "version": "3.7.4"
  },
  "orig_nbformat": 4,
  "kernelspec": {
   "name": "python3",
   "display_name": "Python 3.7.4 64-bit"
  },
  "interpreter": {
   "hash": "aee8b7b246df8f9039afb4144a1f6fd8d2ca17a180786b69acc140d282b71a49"
  }
 },
 "nbformat": 4,
 "nbformat_minor": 2,
 "cells": [
  {
   "cell_type": "code",
   "execution_count": 1,
   "metadata": {},
   "outputs": [],
   "source": [
    "import pandas as pd\n",
    "import numpy as np\n",
    "\n",
    "import seaborn as sns\n",
    "import matplotlib.pyplot as plt\n",
    "\n",
    "import os, sys\n",
    "\n",
    "# Relative paths\n",
    "dirname = os.path.dirname\n",
    "sep = os.sep\n",
    "\n",
    "ml_folder = dirname(os.getcwd())\n",
    "sys.path.append(ml_folder)\n",
    "\n",
    "from src.utils import mining_data as md "
   ]
  },
  {
   "cell_type": "code",
   "execution_count": 2,
   "metadata": {},
   "outputs": [],
   "source": [
    "dietary_dfs = md.read_data(2, \"2_dietary\")"
   ]
  },
  {
   "cell_type": "code",
   "execution_count": 3,
   "metadata": {},
   "outputs": [
    {
     "output_type": "stream",
     "name": "stdout",
     "text": [
      "dr1tot_j (8704, 167)\ndr1tot_i (9544, 167)\ndr1tot_h (9813, 167)\ndr2tot_i (9544, 84)\ndr2tot_h (9813, 84)\ndr2tot_j (8704, 84)\n"
     ]
    }
   ],
   "source": [
    "for name, df in dietary_dfs.items():\n",
    "    print(name, df.shape)"
   ]
  },
  {
   "cell_type": "code",
   "execution_count": 4,
   "metadata": {},
   "outputs": [],
   "source": [
    "variable_names = pd.read_csv(\"../data/6_variables/0_final_variables.csv\", index_col = 0)\n",
    "\n",
    "cond1 = variable_names[\"file_name\"] == \"DR1TOT_J\"\n",
    "cond2 = variable_names[\"file_name\"] == \"DR2TOT_J\"\n",
    "\n",
    "filter1 = list(variable_names[cond1][\"vAr_nAmE\"].values)\n",
    "filter2 = list(variable_names[cond2][\"vAr_nAmE\"].values)"
   ]
  },
  {
   "cell_type": "code",
   "execution_count": 7,
   "metadata": {},
   "outputs": [],
   "source": [
    "dr1tot_i = dietary_dfs[\"dr1tot_i\"].loc[:, filter1]\n",
    "dr1tot_j = dietary_dfs[\"dr1tot_j\"].loc[:, filter1]\n",
    "dr1tot_h = dietary_dfs[\"dr1tot_h\"].loc[:, filter1]"
   ]
  },
  {
   "cell_type": "code",
   "execution_count": 8,
   "metadata": {},
   "outputs": [],
   "source": [
    "dr2tot_i = dietary_dfs[\"dr2tot_i\"].loc[:, filter2]\n",
    "dr2tot_j = dietary_dfs[\"dr2tot_j\"].loc[:, filter2]\n",
    "dr2tot_h = dietary_dfs[\"dr2tot_h\"].loc[:, filter2]"
   ]
  },
  {
   "cell_type": "code",
   "execution_count": 9,
   "metadata": {},
   "outputs": [
    {
     "output_type": "execute_result",
     "data": {
      "text/plain": [
       "       DR2TALCO  DR2TATOA  DR2TATOC  DR2TB12A  DR2TBCAR  DR2TCAFF  DR2TCALC  \\\n",
       "SEQN                                                                          \n",
       "73557       0.0      0.00      5.74      0.00     118.0      66.0     377.0   \n",
       "73558      44.6      0.00      6.32      0.00    4574.0     216.0    1077.0   \n",
       "73559       0.0      0.00      8.21      1.66     421.0      64.0     702.0   \n",
       "73560       0.0      0.00      4.60      1.76     284.0       2.0     758.0   \n",
       "73561       0.0      0.00     56.29      8.77    1573.0      48.0    1567.0   \n",
       "...         ...       ...       ...       ...       ...       ...       ...   \n",
       "83727      19.9      0.00     10.29      4.15    1213.0      45.0    3045.0   \n",
       "83728       0.0      0.00      3.10      0.90     943.0       0.0     709.0   \n",
       "83729       0.0      0.05      1.84      0.00    1216.0      41.0     554.0   \n",
       "83730       NaN       NaN       NaN       NaN       NaN       NaN       NaN   \n",
       "83731       0.0      0.00      7.76      1.85   29014.0       3.0     837.0   \n",
       "\n",
       "       DR2TCARB  DR2TCHL  DR2TCHOL  ...  DR2TVARA  DR2TVB1  DR2TVB12  DR2TVB2  \\\n",
       "SEQN                                ...                                         \n",
       "73557    217.80    633.5     893.0  ...     242.0    1.257      2.62    1.475   \n",
       "73558    111.49    507.8     397.0  ...     742.0    1.268      4.24    2.570   \n",
       "73559    286.47    127.7      56.0  ...     593.0    1.792      4.96    1.878   \n",
       "73560    249.63    108.7      60.0  ...     368.0    1.364      3.49    1.309   \n",
       "73561    195.95    252.5      58.0  ...     959.0    1.629      9.11    2.066   \n",
       "...         ...      ...       ...  ...       ...      ...       ...      ...   \n",
       "83727    465.47    791.5     736.0  ...    1715.0    3.592     14.81    4.176   \n",
       "83728    147.16    109.0      52.0  ...     442.0    0.679      2.84    1.200   \n",
       "83729     88.46     86.7      76.0  ...     185.0    0.658      1.32    0.663   \n",
       "83730       NaN      NaN       NaN  ...       NaN      NaN       NaN      NaN   \n",
       "83731    187.98    132.3      26.0  ...    3278.0    1.300      3.36    1.731   \n",
       "\n",
       "       DR2TVB6  DR2TVC  DR2TVD  DR2TVK  DR2TZINC         WTDR2D  \n",
       "SEQN                                                             \n",
       "73557    2.788   258.8     3.5    20.4     11.39   12930.890649  \n",
       "73558    2.438   110.2     7.0   258.0     11.41   12684.148869  \n",
       "73559    1.862   226.4     4.0    66.1      8.15   39394.236709  \n",
       "73560    1.097   231.9     2.7    30.6      9.05  125966.366442  \n",
       "73561    2.974   255.9    25.4   136.1     19.34   39004.892993  \n",
       "...        ...     ...     ...     ...       ...            ...  \n",
       "83727    5.207   160.4    18.0   112.3     32.23   10520.302070  \n",
       "83728    1.331    68.1     5.9    22.6      3.32   51815.103262  \n",
       "83729    0.714    63.0     2.1    47.3      2.32   10401.781170  \n",
       "83730      NaN     NaN     NaN     NaN       NaN            NaN  \n",
       "83731    1.849    33.5     4.1   274.1      9.24    4339.132077  \n",
       "\n",
       "[9813 rows x 46 columns]"
      ],
      "text/html": "<div>\n<style scoped>\n    .dataframe tbody tr th:only-of-type {\n        vertical-align: middle;\n    }\n\n    .dataframe tbody tr th {\n        vertical-align: top;\n    }\n\n    .dataframe thead th {\n        text-align: right;\n    }\n</style>\n<table border=\"1\" class=\"dataframe\">\n  <thead>\n    <tr style=\"text-align: right;\">\n      <th></th>\n      <th>DR2TALCO</th>\n      <th>DR2TATOA</th>\n      <th>DR2TATOC</th>\n      <th>DR2TB12A</th>\n      <th>DR2TBCAR</th>\n      <th>DR2TCAFF</th>\n      <th>DR2TCALC</th>\n      <th>DR2TCARB</th>\n      <th>DR2TCHL</th>\n      <th>DR2TCHOL</th>\n      <th>...</th>\n      <th>DR2TVARA</th>\n      <th>DR2TVB1</th>\n      <th>DR2TVB12</th>\n      <th>DR2TVB2</th>\n      <th>DR2TVB6</th>\n      <th>DR2TVC</th>\n      <th>DR2TVD</th>\n      <th>DR2TVK</th>\n      <th>DR2TZINC</th>\n      <th>WTDR2D</th>\n    </tr>\n    <tr>\n      <th>SEQN</th>\n      <th></th>\n      <th></th>\n      <th></th>\n      <th></th>\n      <th></th>\n      <th></th>\n      <th></th>\n      <th></th>\n      <th></th>\n      <th></th>\n      <th></th>\n      <th></th>\n      <th></th>\n      <th></th>\n      <th></th>\n      <th></th>\n      <th></th>\n      <th></th>\n      <th></th>\n      <th></th>\n      <th></th>\n    </tr>\n  </thead>\n  <tbody>\n    <tr>\n      <th>73557</th>\n      <td>0.0</td>\n      <td>0.00</td>\n      <td>5.74</td>\n      <td>0.00</td>\n      <td>118.0</td>\n      <td>66.0</td>\n      <td>377.0</td>\n      <td>217.80</td>\n      <td>633.5</td>\n      <td>893.0</td>\n      <td>...</td>\n      <td>242.0</td>\n      <td>1.257</td>\n      <td>2.62</td>\n      <td>1.475</td>\n      <td>2.788</td>\n      <td>258.8</td>\n      <td>3.5</td>\n      <td>20.4</td>\n      <td>11.39</td>\n      <td>12930.890649</td>\n    </tr>\n    <tr>\n      <th>73558</th>\n      <td>44.6</td>\n      <td>0.00</td>\n      <td>6.32</td>\n      <td>0.00</td>\n      <td>4574.0</td>\n      <td>216.0</td>\n      <td>1077.0</td>\n      <td>111.49</td>\n      <td>507.8</td>\n      <td>397.0</td>\n      <td>...</td>\n      <td>742.0</td>\n      <td>1.268</td>\n      <td>4.24</td>\n      <td>2.570</td>\n      <td>2.438</td>\n      <td>110.2</td>\n      <td>7.0</td>\n      <td>258.0</td>\n      <td>11.41</td>\n      <td>12684.148869</td>\n    </tr>\n    <tr>\n      <th>73559</th>\n      <td>0.0</td>\n      <td>0.00</td>\n      <td>8.21</td>\n      <td>1.66</td>\n      <td>421.0</td>\n      <td>64.0</td>\n      <td>702.0</td>\n      <td>286.47</td>\n      <td>127.7</td>\n      <td>56.0</td>\n      <td>...</td>\n      <td>593.0</td>\n      <td>1.792</td>\n      <td>4.96</td>\n      <td>1.878</td>\n      <td>1.862</td>\n      <td>226.4</td>\n      <td>4.0</td>\n      <td>66.1</td>\n      <td>8.15</td>\n      <td>39394.236709</td>\n    </tr>\n    <tr>\n      <th>73560</th>\n      <td>0.0</td>\n      <td>0.00</td>\n      <td>4.60</td>\n      <td>1.76</td>\n      <td>284.0</td>\n      <td>2.0</td>\n      <td>758.0</td>\n      <td>249.63</td>\n      <td>108.7</td>\n      <td>60.0</td>\n      <td>...</td>\n      <td>368.0</td>\n      <td>1.364</td>\n      <td>3.49</td>\n      <td>1.309</td>\n      <td>1.097</td>\n      <td>231.9</td>\n      <td>2.7</td>\n      <td>30.6</td>\n      <td>9.05</td>\n      <td>125966.366442</td>\n    </tr>\n    <tr>\n      <th>73561</th>\n      <td>0.0</td>\n      <td>0.00</td>\n      <td>56.29</td>\n      <td>8.77</td>\n      <td>1573.0</td>\n      <td>48.0</td>\n      <td>1567.0</td>\n      <td>195.95</td>\n      <td>252.5</td>\n      <td>58.0</td>\n      <td>...</td>\n      <td>959.0</td>\n      <td>1.629</td>\n      <td>9.11</td>\n      <td>2.066</td>\n      <td>2.974</td>\n      <td>255.9</td>\n      <td>25.4</td>\n      <td>136.1</td>\n      <td>19.34</td>\n      <td>39004.892993</td>\n    </tr>\n    <tr>\n      <th>...</th>\n      <td>...</td>\n      <td>...</td>\n      <td>...</td>\n      <td>...</td>\n      <td>...</td>\n      <td>...</td>\n      <td>...</td>\n      <td>...</td>\n      <td>...</td>\n      <td>...</td>\n      <td>...</td>\n      <td>...</td>\n      <td>...</td>\n      <td>...</td>\n      <td>...</td>\n      <td>...</td>\n      <td>...</td>\n      <td>...</td>\n      <td>...</td>\n      <td>...</td>\n      <td>...</td>\n    </tr>\n    <tr>\n      <th>83727</th>\n      <td>19.9</td>\n      <td>0.00</td>\n      <td>10.29</td>\n      <td>4.15</td>\n      <td>1213.0</td>\n      <td>45.0</td>\n      <td>3045.0</td>\n      <td>465.47</td>\n      <td>791.5</td>\n      <td>736.0</td>\n      <td>...</td>\n      <td>1715.0</td>\n      <td>3.592</td>\n      <td>14.81</td>\n      <td>4.176</td>\n      <td>5.207</td>\n      <td>160.4</td>\n      <td>18.0</td>\n      <td>112.3</td>\n      <td>32.23</td>\n      <td>10520.302070</td>\n    </tr>\n    <tr>\n      <th>83728</th>\n      <td>0.0</td>\n      <td>0.00</td>\n      <td>3.10</td>\n      <td>0.90</td>\n      <td>943.0</td>\n      <td>0.0</td>\n      <td>709.0</td>\n      <td>147.16</td>\n      <td>109.0</td>\n      <td>52.0</td>\n      <td>...</td>\n      <td>442.0</td>\n      <td>0.679</td>\n      <td>2.84</td>\n      <td>1.200</td>\n      <td>1.331</td>\n      <td>68.1</td>\n      <td>5.9</td>\n      <td>22.6</td>\n      <td>3.32</td>\n      <td>51815.103262</td>\n    </tr>\n    <tr>\n      <th>83729</th>\n      <td>0.0</td>\n      <td>0.05</td>\n      <td>1.84</td>\n      <td>0.00</td>\n      <td>1216.0</td>\n      <td>41.0</td>\n      <td>554.0</td>\n      <td>88.46</td>\n      <td>86.7</td>\n      <td>76.0</td>\n      <td>...</td>\n      <td>185.0</td>\n      <td>0.658</td>\n      <td>1.32</td>\n      <td>0.663</td>\n      <td>0.714</td>\n      <td>63.0</td>\n      <td>2.1</td>\n      <td>47.3</td>\n      <td>2.32</td>\n      <td>10401.781170</td>\n    </tr>\n    <tr>\n      <th>83730</th>\n      <td>NaN</td>\n      <td>NaN</td>\n      <td>NaN</td>\n      <td>NaN</td>\n      <td>NaN</td>\n      <td>NaN</td>\n      <td>NaN</td>\n      <td>NaN</td>\n      <td>NaN</td>\n      <td>NaN</td>\n      <td>...</td>\n      <td>NaN</td>\n      <td>NaN</td>\n      <td>NaN</td>\n      <td>NaN</td>\n      <td>NaN</td>\n      <td>NaN</td>\n      <td>NaN</td>\n      <td>NaN</td>\n      <td>NaN</td>\n      <td>NaN</td>\n    </tr>\n    <tr>\n      <th>83731</th>\n      <td>0.0</td>\n      <td>0.00</td>\n      <td>7.76</td>\n      <td>1.85</td>\n      <td>29014.0</td>\n      <td>3.0</td>\n      <td>837.0</td>\n      <td>187.98</td>\n      <td>132.3</td>\n      <td>26.0</td>\n      <td>...</td>\n      <td>3278.0</td>\n      <td>1.300</td>\n      <td>3.36</td>\n      <td>1.731</td>\n      <td>1.849</td>\n      <td>33.5</td>\n      <td>4.1</td>\n      <td>274.1</td>\n      <td>9.24</td>\n      <td>4339.132077</td>\n    </tr>\n  </tbody>\n</table>\n<p>9813 rows × 46 columns</p>\n</div>"
     },
     "metadata": {},
     "execution_count": 9
    }
   ],
   "source": [
    "dr2tot_h"
   ]
  },
  {
   "cell_type": "code",
   "execution_count": null,
   "metadata": {},
   "outputs": [],
   "source": []
  }
 ]
}