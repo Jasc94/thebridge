{
 "metadata": {
  "language_info": {
   "codemirror_mode": {
    "name": "ipython",
    "version": 3
   },
   "file_extension": ".py",
   "mimetype": "text/x-python",
   "name": "python",
   "nbconvert_exporter": "python",
   "pygments_lexer": "ipython3",
   "version": 3
  },
  "orig_nbformat": 4
 },
 "nbformat": 4,
 "nbformat_minor": 2,
 "cells": [
  {
   "cell_type": "code",
   "execution_count": null,
   "metadata": {},
   "outputs": [],
   "source": [
    "r = requests.get(url)\n",
    "\n",
    "soup = bs(r.text, \"lxml\")\n",
    "\n",
    "table = soup.find(id = \"GridView1\")\n",
    "rows = table.find_all(\"tr\")\n",
    "\n",
    "var_names = []\n",
    "var_descrs = []\n",
    "file_names = []\n",
    "file_descrs = []\n",
    "start_years = []\n",
    "end_years = []\n",
    "components = []\n",
    "constraints = []\n",
    "\n",
    "\n",
    "for row in range(1, len(rows)):\n",
    "    var_name, var_descr, file_name, file_descr, start_year, end_year, component, constraint = rows[row].find_all(\"td\")\n",
    "\n",
    "    var_names.append(var_name.text)\n",
    "    var_descrs.append(var_descr.text)\n",
    "    file_names.append(file_name.text)\n",
    "    file_descrs.append(file_descr.text)\n",
    "    start_years.append(start_year.text)\n",
    "    end_years.append(end_year.text)\n",
    "    components.append(component.text)\n",
    "    constraints.append(constraint.text)\n",
    "\n",
    "\n",
    "df = pd.DataFrame(list(zip(var_names, var_descrs, file_names, file_descrs, start_years, end_years, components, constraints)), columns = [\"var_name\", \"var_descr\", \"file_name\", \"file_descr\", \"start_year\", \"end_year\", \"component\", \"constraint\"])\n",
    "\n",
    "df.head(2)"
   ]
  }
 ]
}