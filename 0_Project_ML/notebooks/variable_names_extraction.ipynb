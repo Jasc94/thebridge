{
 "metadata": {
  "language_info": {
   "codemirror_mode": {
    "name": "ipython",
    "version": 3
   },
   "file_extension": ".py",
   "mimetype": "text/x-python",
   "name": "python",
   "nbconvert_exporter": "python",
   "pygments_lexer": "ipython3",
   "version": "3.7.4"
  },
  "orig_nbformat": 4,
  "kernelspec": {
   "name": "python3",
   "display_name": "Python 3.7.4 64-bit"
  },
  "interpreter": {
   "hash": "aee8b7b246df8f9039afb4144a1f6fd8d2ca17a180786b69acc140d282b71a49"
  }
 },
 "nbformat": 4,
 "nbformat_minor": 2,
 "cells": [
  {
   "cell_type": "code",
   "execution_count": 1,
   "metadata": {},
   "outputs": [],
   "source": [
    "import requests\n",
    "from bs4 import BeautifulSoup as bs\n",
    "import html\n",
    "import lxml\n",
    "\n",
    "import numpy as np\n",
    "import pandas as pd"
   ]
  },
  {
   "source": [
    "#########\n",
    "def obtain_rows(url):\n",
    "    r = requests.get(url)\n",
    "    soup = bs(r.text, \"lxml\")\n",
    "    table = soup.find(id = \"GridView1\")\n",
    "    rows = table.find_all(\"tr\")\n",
    "\n",
    "    return rows\n",
    "\n",
    "#########\n",
    "def obtain_row_info(rows):\n",
    "    var_names = []\n",
    "    var_descrs = []\n",
    "    file_names = []\n",
    "    file_descrs = []\n",
    "    start_years = []\n",
    "    end_years = []\n",
    "    components = []\n",
    "    constraints = []\n",
    "\n",
    "    for row in range(1, len(rows)):\n",
    "        var_name, var_descr, file_name, file_descr, start_year, end_year, component, constraint = rows[row].find_all(\"td\")\n",
    "\n",
    "        var_names.append(var_name.text)\n",
    "        var_descrs.append(var_descr.text)\n",
    "        file_names.append(file_name.text)\n",
    "        file_descrs.append(file_descr.text)\n",
    "        start_years.append(start_year.text)\n",
    "        end_years.append(end_year.text)\n",
    "        components.append(component.text)\n",
    "        constraints.append(constraint.text)\n",
    "\n",
    "    return list(zip(var_names, var_descrs, file_names, file_descrs, start_years, end_years, components, constraints))\n",
    "\n",
    "#########\n",
    "def df_creator(field_list):\n",
    "    df = pd.DataFrame(field_list, columns = [\"var_name\", \"var_descr\", \"file_name\", \"file_descr\", \"start_year\", \"end_year\", \"component\", \"constraint\"])\n",
    "\n",
    "    return df\n",
    "\n",
    "#########\n",
    "def ready_to_use(url):\n",
    "    return df_creator(obtain_row_info(obtain_rows(url)))"
   ],
   "cell_type": "code",
   "metadata": {},
   "execution_count": 2,
   "outputs": []
  },
  {
   "cell_type": "code",
   "execution_count": 3,
   "metadata": {},
   "outputs": [],
   "source": [
    "#url = \"https://wwwn.cdc.gov/nchs/nhanes/search/variablelist.aspx?Component=Dietary&CycleBeginYear=2017\"\n",
    "\n",
    "#url = \"https://wwwn.cdc.gov/nchs/nhanes/search/variablelist.aspx?Component=Laboratory&CycleBeginYear=2017\"\n",
    "\n",
    "demographics_url = \"https://wwwn.cdc.gov/nchs/nhanes/search/variablelist.aspx?Component=Demographics&CycleBeginYear=2017\"\n",
    "dietary_url = \"https://wwwn.cdc.gov/nchs/nhanes/search/variablelist.aspx?Component=Dietary&CycleBeginYear=2017\"\n",
    "examination_url = \"https://wwwn.cdc.gov/nchs/nhanes/search/variablelist.aspx?Component=Examination&CycleBeginYear=2017\"\n",
    "laboratory_url = \"https://wwwn.cdc.gov/nchs/nhanes/search/variablelist.aspx?Component=Laboratory&CycleBeginYear=2017\"\n",
    "questionnaire_url = \"https://wwwn.cdc.gov/nchs/nhanes/search/variablelist.aspx?Component=Questionnaire&CycleBeginYear=2017\"\n",
    "\n",
    "urls = [demographics_url, dietary_url, examination_url, laboratory_url, questionnaire_url]\n",
    "url_names = [\"demographics_url\", \"dietary_url\", \"examination_url\", \"laboratory_url\", \"questionnaire_url\"]\n",
    "\n",
    "urls_dict = dict(zip(url_names, urls))"
   ]
  },
  {
   "cell_type": "code",
   "execution_count": 6,
   "metadata": {},
   "outputs": [],
   "source": [
    "dfs = {}\n",
    "for name, url in urls_dict.items():\n",
    "    dfs[name] = df_creator(obtain_row_info(obtain_rows(url)))"
   ]
  },
  {
   "cell_type": "code",
   "execution_count": 12,
   "metadata": {},
   "outputs": [],
   "source": [
    "for name, df in dfs.items(): df.to_csv(\"../data/6_variables/\" + name + \".csv\")"
   ]
  },
  {
   "cell_type": "code",
   "execution_count": 1,
   "metadata": {},
   "outputs": [],
   "source": [
    "def variables_links():\n",
    "    demographics_url = \"https://wwwn.cdc.gov/nchs/nhanes/search/variablelist.aspx?Component=Demographics&CycleBeginYear=2017\"\n",
    "    dietary_url = \"https://wwwn.cdc.gov/nchs/nhanes/search/variablelist.aspx?Component=Dietary&CycleBeginYear=2017\"\n",
    "    examination_url = \"https://wwwn.cdc.gov/nchs/nhanes/search/variablelist.aspx?Component=Examination&CycleBeginYear=2017\"\n",
    "    laboratory_url = \"https://wwwn.cdc.gov/nchs/nhanes/search/variablelist.aspx?Component=Laboratory&CycleBeginYear=2017\"\n",
    "    questionnaire_url = \"https://wwwn.cdc.gov/nchs/nhanes/search/variablelist.aspx?Component=Questionnaire&CycleBeginYear=2017\"\n",
    "\n",
    "    urls = [demographics_url, dietary_url, examination_url, laboratory_url, questionnaire_url]\n",
    "\n",
    "    for url in urls:\n",
    "        yield url"
   ]
  },
  {
   "cell_type": "code",
   "execution_count": 5,
   "metadata": {},
   "outputs": [],
   "source": [
    "gen = variables_links()"
   ]
  },
  {
   "cell_type": "code",
   "execution_count": 12,
   "metadata": {},
   "outputs": [
    {
     "output_type": "error",
     "ename": "StopIteration",
     "evalue": "",
     "traceback": [
      "\u001b[0;31m---------------------------------------------------------------------------\u001b[0m",
      "\u001b[0;31mStopIteration\u001b[0m                             Traceback (most recent call last)",
      "\u001b[0;32m<ipython-input-12-6e72e47198db>\u001b[0m in \u001b[0;36m<module>\u001b[0;34m\u001b[0m\n\u001b[0;32m----> 1\u001b[0;31m \u001b[0mnext\u001b[0m\u001b[0;34m(\u001b[0m\u001b[0mgen\u001b[0m\u001b[0;34m)\u001b[0m\u001b[0;34m\u001b[0m\u001b[0;34m\u001b[0m\u001b[0m\n\u001b[0m",
      "\u001b[0;31mStopIteration\u001b[0m: "
     ]
    }
   ],
   "source": [
    "next(gen)"
   ]
  },
  {
   "cell_type": "code",
   "execution_count": null,
   "metadata": {},
   "outputs": [],
   "source": []
  }
 ]
}