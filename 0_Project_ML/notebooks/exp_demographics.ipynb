{
 "metadata": {
  "language_info": {
   "codemirror_mode": {
    "name": "ipython",
    "version": 3
   },
   "file_extension": ".py",
   "mimetype": "text/x-python",
   "name": "python",
   "nbconvert_exporter": "python",
   "pygments_lexer": "ipython3",
   "version": "3.7.4"
  },
  "orig_nbformat": 4,
  "kernelspec": {
   "name": "python3",
   "display_name": "Python 3.7.4 64-bit"
  },
  "interpreter": {
   "hash": "aee8b7b246df8f9039afb4144a1f6fd8d2ca17a180786b69acc140d282b71a49"
  }
 },
 "nbformat": 4,
 "nbformat_minor": 2,
 "cells": [
  {
   "cell_type": "code",
   "execution_count": 8,
   "metadata": {},
   "outputs": [],
   "source": [
    "import pandas as pd\n",
    "import numpy as np\n",
    "\n",
    "import seaborn as sns\n",
    "import matplotlib.pyplot as plt\n",
    "\n",
    "import os, sys"
   ]
  },
  {
   "cell_type": "code",
   "execution_count": 28,
   "metadata": {},
   "outputs": [],
   "source": [
    "# Relative paths\n",
    "dirname = os.path.dirname\n",
    "sep = os.sep\n",
    "\n",
    "ml_folder = dirname(os.getcwd())"
   ]
  },
  {
   "cell_type": "code",
   "execution_count": 37,
   "metadata": {},
   "outputs": [],
   "source": [
    "# To bring demographics data\n",
    "demographics_path = ml_folder + sep + \"data\" + sep + \"1_demographics\"\n",
    "\n",
    "demographics_dfs = {}\n",
    "\n",
    "for file_ in os.listdir(demographics_path):\n",
    "    if file_ != \"history\":\n",
    "        # Path to file\n",
    "        filepath = demographics_path + sep + file_\n",
    "\n",
    "        # Reading as dataframe\n",
    "        df = pd.read_csv(filepath, index_col = 0)\n",
    "        df[\"SEQN\"] = df[\"SEQN\"].map(int)\n",
    "        df.set_index(\"SEQN\", inplace = True)\n",
    "\n",
    "        # Saving it in a dictionary\n",
    "        dict_key = file_[:-4].lower()\n",
    "        demographics_dfs[dict_key] = df"
   ]
  },
  {
   "source": [
    "- demo_h -> 2013-2014\n",
    "- demo_i -> 2015-2016\n",
    "- demo_j -> 2017-2018"
   ],
   "cell_type": "markdown",
   "metadata": {}
  },
  {
   "cell_type": "code",
   "execution_count": 49,
   "metadata": {},
   "outputs": [
    {
     "output_type": "stream",
     "name": "stdout",
     "text": [
      "demo_i / (9971, 2) \n\n<class 'pandas.core.frame.DataFrame'>\nInt64Index: 9971 entries, 83732 to 93702\nData columns (total 2 columns):\n #   Column    Non-Null Count  Dtype\n---  ------    --------------  -----\n 0   RIAGENDR  9971 non-null   int64\n 1   RIDAGEYR  9971 non-null   int64\ndtypes: int64(2)\nmemory usage: 233.7 KB\nNone\n##################################################\ndemo_h / (10175, 2) \n\n<class 'pandas.core.frame.DataFrame'>\nInt64Index: 10175 entries, 73557 to 83731\nData columns (total 2 columns):\n #   Column    Non-Null Count  Dtype\n---  ------    --------------  -----\n 0   RIAGENDR  10175 non-null  int64\n 1   RIDAGEYR  10175 non-null  int64\ndtypes: int64(2)\nmemory usage: 238.5 KB\nNone\n##################################################\ndemo_j / (9254, 2) \n\n<class 'pandas.core.frame.DataFrame'>\nInt64Index: 9254 entries, 93703 to 102956\nData columns (total 2 columns):\n #   Column    Non-Null Count  Dtype\n---  ------    --------------  -----\n 0   RIAGENDR  9254 non-null   int64\n 1   RIDAGEYR  9254 non-null   int64\ndtypes: int64(2)\nmemory usage: 474.9 KB\nNone\n##################################################\n"
     ]
    }
   ],
   "source": [
    "for name, df in demographics_dfs.items():\n",
    "    # I'm interested just in age and gender \n",
    "    df_ = df.loc[:, [\"RIAGENDR\", \"RIDAGEYR\"]]\n",
    "    print(name, \"/\", df_.shape, \"\\n\")\n",
    "    print(df_.info())\n",
    "    print(\"#\" * 50)"
   ]
  },
  {
   "source": [
    "Nice, no missing info for these two."
   ],
   "cell_type": "markdown",
   "metadata": {}
  },
  {
   "cell_type": "code",
   "execution_count": null,
   "metadata": {},
   "outputs": [],
   "source": []
  }
 ]
}