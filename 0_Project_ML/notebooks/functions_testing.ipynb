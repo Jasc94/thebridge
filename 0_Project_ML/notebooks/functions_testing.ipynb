{
 "metadata": {
  "language_info": {
   "codemirror_mode": {
    "name": "ipython",
    "version": 3
   },
   "file_extension": ".py",
   "mimetype": "text/x-python",
   "name": "python",
   "nbconvert_exporter": "python",
   "pygments_lexer": "ipython3",
   "version": "3.7.4"
  },
  "orig_nbformat": 4,
  "kernelspec": {
   "name": "python3",
   "display_name": "Python 3.7.4 64-bit"
  },
  "interpreter": {
   "hash": "aee8b7b246df8f9039afb4144a1f6fd8d2ca17a180786b69acc140d282b71a49"
  }
 },
 "nbformat": 4,
 "nbformat_minor": 2,
 "cells": [
  {
   "cell_type": "code",
   "execution_count": 1,
   "metadata": {},
   "outputs": [],
   "source": [
    "import pandas as pd\n",
    "from pandas.plotting import scatter_matrix\n",
    "import numpy as np\n",
    "\n",
    "import seaborn as sns\n",
    "import matplotlib.pyplot as plt\n",
    "\n",
    "from sklearn.linear_model import LogisticRegression\n",
    "from sklearn.ensemble import RandomForestClassifier\n",
    "from sklearn.neighbors import KNeighborsClassifier\n",
    "\n",
    "from sklearn.model_selection import train_test_split, RepeatedStratifiedKFold\n",
    "from sklearn import metrics\n",
    "from sklearn.preprocessing import StandardScaler\n",
    "\n",
    "from imblearn.over_sampling import SMOTE\n",
    "\n",
    "import tensorflow as tf\n",
    "from tensorflow import keras\n",
    "from tensorflow.keras import layers, models, callbacks\n",
    "\n",
    "import os, sys\n",
    "\n",
    "# Relative paths\n",
    "dirname = os.path.dirname\n",
    "sep = os.sep\n",
    "\n",
    "ml_folder = dirname(os.getcwd())\n",
    "sys.path.append(ml_folder)\n",
    "\n",
    "from src.utils import mining_data_tb as md\n",
    "from src.utils import visualization_tb as vi\n",
    "\n",
    "import warnings\n",
    "\n",
    "warnings.filterwarnings(\"ignore\")"
   ]
  },
  {
   "cell_type": "code",
   "execution_count": 2,
   "metadata": {},
   "outputs": [],
   "source": [
    "all_data_dfs = md.read_all_data(2,[\"1_demographics\", \"2_dietary\", \"3_examination\", \"4_laboratory\", \"5_questionnaire\"])"
   ]
  },
  {
   "source": [
    "files = {}\n",
    "count = 0\n",
    "\n",
    "for key, dfs in diet_dfs.items():\n",
    "    key_ = key[:-2]\n",
    "\n",
    "    if count == 0:\n",
    "        files[key_] = dfs\n",
    "    else:\n",
    "        if key_ not in files.keys():\n",
    "            files[key_] = dfs\n",
    "        else:\n",
    "            files[key_] = pd.concat([files[key_], dfs])\n",
    "\n",
    "    count +=1"
   ],
   "cell_type": "markdown",
   "metadata": {}
  },
  {
   "cell_type": "code",
   "execution_count": 3,
   "metadata": {},
   "outputs": [],
   "source": [
    "def concatenate_dfs(data_dfs):\n",
    "    files = {}\n",
    "    count = 0\n",
    "\n",
    "    for key, dfs in data_dfs.items():\n",
    "        key_ = key[:-2]\n",
    "\n",
    "        if count == 0:\n",
    "            files[key_] = dfs\n",
    "        else:\n",
    "            if key_ not in files.keys():\n",
    "                files[key_] = dfs\n",
    "            else:\n",
    "                files[key_] = pd.concat([files[key_], dfs])\n",
    "\n",
    "        count +=1\n",
    "\n",
    "    return files"
   ]
  },
  {
   "cell_type": "code",
   "execution_count": 4,
   "metadata": {},
   "outputs": [],
   "source": [
    "def concatenate_all_dfs(data_dfs_list):\n",
    "    #end_dfs = []\n",
    "    end_dfs = {}\n",
    "    \n",
    "    for data_dfs in data_dfs_list:\n",
    "        files = concatenate_dfs(data_dfs)\n",
    "        end_dfs = {**end_dfs, **files}\n",
    "        #end_dfs.append(files)\n",
    "\n",
    "    return end_dfs"
   ]
  },
  {
   "cell_type": "code",
   "execution_count": 5,
   "metadata": {},
   "outputs": [],
   "source": [
    "def merge_dfs(end_dfs):\n",
    "    keys = list(end_dfs.keys())\n",
    "    f_df = end_dfs.pop(keys[0])\n",
    "\n",
    "    for name, df in end_dfs.items():\n",
    "        f_df = pd.merge(f_df, df, how = \"outer\", on = \"SEQN\")\n",
    "\n",
    "    return f_df"
   ]
  },
  {
   "cell_type": "code",
   "execution_count": 6,
   "metadata": {},
   "outputs": [],
   "source": [
    "test = concatenate_all_dfs(all_data_dfs)"
   ]
  },
  {
   "cell_type": "code",
   "execution_count": 7,
   "metadata": {},
   "outputs": [],
   "source": [
    "test2 = merge_dfs(test)"
   ]
  },
  {
   "cell_type": "code",
   "execution_count": 9,
   "metadata": {},
   "outputs": [],
   "source": [
    "cols = list(test2.columns)"
   ]
  },
  {
   "cell_type": "code",
   "execution_count": 18,
   "metadata": {},
   "outputs": [],
   "source": [
    "duplicated = test2.loc[:, [\"WTDRD1_y\", \"WTDRD1_x\"]]"
   ]
  },
  {
   "cell_type": "code",
   "execution_count": 19,
   "metadata": {},
   "outputs": [],
   "source": [
    "duplicated[\"duplicated\"] = duplicated.iloc[:, 0] == duplicated.iloc[:, 1]"
   ]
  },
  {
   "cell_type": "code",
   "execution_count": 32,
   "metadata": {},
   "outputs": [
    {
     "output_type": "execute_result",
     "data": {
      "text/plain": [
       "1339"
      ]
     },
     "metadata": {},
     "execution_count": 32
    }
   ],
   "source": [
    "# duplicated[\"duplicated\"].value_counts()\n",
    "duplicated[duplicated[\"duplicated\"] == False].iloc[:, 1].isna().sum()"
   ]
  },
  {
   "cell_type": "code",
   "execution_count": 14,
   "metadata": {},
   "outputs": [
    {
     "output_type": "execute_result",
     "data": {
      "text/plain": [
       "(29400, 956)"
      ]
     },
     "metadata": {},
     "execution_count": 14
    }
   ],
   "source": [
    "test2.shape"
   ]
  },
  {
   "cell_type": "code",
   "execution_count": 10,
   "metadata": {},
   "outputs": [
    {
     "output_type": "stream",
     "name": "stdout",
     "text": [
      "SDDSRVYR\nRIDSTATR\nRIAGENDR\nRIDAGEYR\nRIDAGEMN\nRIDRETH1\nRIDRETH3\nRIDEXMON\nRIDEXAGM\nDMQMILIZ\nDMQADFC\nDMDBORN4\nDMDCITZN\nDMDYRSUS\nDMDEDUC3\nDMDEDUC2\nDMDMARTL\nRIDEXPRG\nSIALANG\nSIAPROXY\nSIAINTRP\nFIALANG\nFIAPROXY\nFIAINTRP\nMIALANG\nMIAPROXY\nMIAINTRP\nAIALANGA\nDMDHHSIZ\nDMDFMSIZ\nDMDHHSZA\nDMDHHSZB\nDMDHHSZE\nDMDHRGND\nDMDHRAGE\nDMDHRBR4\nDMDHREDU\nDMDHRMAR\nDMDHSEDU\nWTINT2YR\nWTMEC2YR\nSDMVPSU\nSDMVSTRA\nINDHHIN2\nINDFMIN2\nINDFMPIR\nDMDHRAGZ\nDMDHREDZ\nDMDHRMAZ\nDMDHSEDZ\nWTDRD1_x\nWTDR2D_x\nDR1DRSTZ\nDR1EXMER\nDRABF_x\nDRDINT_x\nDR1DBIH\nDR1DAY\nDR1LANG\nDR1MRESP\nDR1HELP\nDBQ095Z\nDBD100\nDRQSPREP\nDR1STY\nDR1SKY\nDRQSDIET\nDRQSDT1\nDRQSDT2\nDRQSDT3\nDRQSDT4\nDRQSDT5\nDRQSDT6\nDRQSDT7\nDRQSDT8\nDRQSDT9\nDRQSDT10\nDRQSDT11\nDRQSDT12\nDRQSDT91\nDR1TNUMF\nDR1TKCAL\nDR1TPROT\nDR1TCARB\nDR1TSUGR\nDR1TFIBE\nDR1TTFAT\nDR1TSFAT\nDR1TMFAT\nDR1TPFAT\nDR1TCHOL\nDR1TATOC\nDR1TATOA\nDR1TRET\nDR1TVARA\nDR1TACAR\nDR1TBCAR\nDR1TCRYP\nDR1TLYCO\nDR1TLZ\nDR1TVB1\nDR1TVB2\nDR1TNIAC\nDR1TVB6\nDR1TFOLA\nDR1TFA\nDR1TFF\nDR1TFDFE\nDR1TCHL\nDR1TVB12\nDR1TB12A\nDR1TVC\nDR1TVD\nDR1TVK\nDR1TCALC\nDR1TPHOS\nDR1TMAGN\nDR1TIRON\nDR1TZINC\nDR1TCOPP\nDR1TSODI\nDR1TPOTA\nDR1TSELE\nDR1TCAFF\nDR1TTHEO\nDR1TALCO\nDR1TMOIS\nDR1TS040\nDR1TS060\nDR1TS080\nDR1TS100\nDR1TS120\nDR1TS140\nDR1TS160\nDR1TS180\nDR1TM161\nDR1TM181\nDR1TM201\nDR1TM221\nDR1TP182\nDR1TP183\nDR1TP184\nDR1TP204\nDR1TP205\nDR1TP225\nDR1TP226\nDR1_300\nDR1_320Z\nDR1_330Z\nDR1BWATZ\nDR1TWSZ\nDRD340\nDRD350A\nDRD350AQ\nDRD350B\nDRD350BQ\nDRD350C\nDRD350CQ\nDRD350D\nDRD350DQ\nDRD350E\nDRD350EQ\nDRD350F\nDRD350FQ\nDRD350G\nDRD350GQ\nDRD350H\nDRD350HQ\nDRD350I\nDRD350IQ\nDRD350J\nDRD350JQ\nDRD350K\nDRD360\nDRD370A\nDRD370AQ\nDRD370B\nDRD370BQ\nDRD370C\nDRD370CQ\nDRD370D\nDRD370DQ\nDRD370E\nDRD370EQ\nDRD370F\nDRD370FQ\nDRD370G\nDRD370GQ\nDRD370H\nDRD370HQ\nDRD370I\nDRD370IQ\nDRD370J\nDRD370JQ\nDRD370K\nDRD370KQ\nDRD370L\nDRD370LQ\nDRD370M\nDRD370MQ\nDRD370N\nDRD370NQ\nDRD370O\nDRD370OQ\nDRD370P\nDRD370PQ\nDRD370Q\nDRD370QQ\nDRD370R\nDRD370RQ\nDRD370S\nDRD370SQ\nDRD370T\nDRD370TQ\nDRD370U\nDRD370UQ\nDRD370V\nDR1TWS\nDR1MNRSP\nDR1HELPD\nWTDRD1_y\nWTDR2D_y\nDR2DRSTZ\nDR2EXMER\nDRABF_y\nDRDINT_y\nDR2DBIH\nDR2DAY\nDR2LANG\nDR2MRESP\nDR2HELP\nDR2TNUMF\nDR2STY\nDR2SKY\nDR2TKCAL\nDR2TPROT\nDR2TCARB\nDR2TSUGR\nDR2TFIBE\nDR2TTFAT\nDR2TSFAT\nDR2TMFAT\nDR2TPFAT\nDR2TCHOL\nDR2TATOC\nDR2TATOA\nDR2TRET\nDR2TVARA\nDR2TACAR\nDR2TBCAR\nDR2TCRYP\nDR2TLYCO\nDR2TLZ\nDR2TVB1\nDR2TVB2\nDR2TNIAC\nDR2TVB6\nDR2TFOLA\nDR2TFA\nDR2TFF\nDR2TFDFE\nDR2TCHL\nDR2TVB12\nDR2TB12A\nDR2TVC\nDR2TVD\nDR2TVK\nDR2TCALC\nDR2TPHOS\nDR2TMAGN\nDR2TIRON\nDR2TZINC\nDR2TCOPP\nDR2TSODI\nDR2TPOTA\nDR2TSELE\nDR2TCAFF\nDR2TTHEO\nDR2TALCO\nDR2TMOIS\nDR2TS040\nDR2TS060\nDR2TS080\nDR2TS100\nDR2TS120\nDR2TS140\nDR2TS160\nDR2TS180\nDR2TM161\nDR2TM181\nDR2TM201\nDR2TM221\nDR2TP182\nDR2TP183\nDR2TP184\nDR2TP204\nDR2TP205\nDR2TP225\nDR2TP226\nDR2_300\nDR2_320Z\nDR2_330Z\nDR2BWATZ\nDR2TWS\nDR2MNRSP\nDR2HELPD\nDR2TWSZ\nDXAEXSTS\nDXAHEBV\nDXXHEA\nDXXHEBMC\nDXXHEBMD\nDXAHETV\nDXXHEFAT\nDXDHELE\nDXXHELI\nDXDHETOT\nDXDHEPF\nDXALABV\nDXXLAA\nDXXLABMC\nDXXLABMD\nDXALATV\nDXXLAFAT\nDXDLALE\nDXXLALI\nDXDLATOT\nDXDLAPF\nDXALLBV\nDXXLLA\nDXXLLBMC\nDXXLLBMD\nDXALLTV\nDXXLLFAT\nDXDLLLE\nDXXLLLI\nDXDLLTOT\nDXDLLPF\nDXARABV\nDXXRAA\nDXXRABMC\nDXXRABMD\nDXARATV\nDXXRAFAT\nDXDRALE\nDXXRALI\nDXDRATOT\nDXDRAPF\nDXARLBV\nDXXRLA\nDXXRLBMC\nDXXRLBMD\nDXARLTV\nDXXRLFAT\nDXDRLLE\nDXXRLLI\nDXDRLTOT\nDXDRLPF\nDXXLRA\nDXXLRBMC\nDXXLRBMD\nDXXRRA\nDXXRRBMC\nDXXRRBMD\nDXXTSA\nDXXTSBMC\nDXXTSBMD\nDXXLSA\nDXXLSBMC\nDXXLSBMD\nDXXPEA\nDXXPEBMC\nDXXPEBMD\nDXATRBV\nDXDTRA\nDXDTRBMC\nDXDTRBMD\nDXATRTV\nDXXTRFAT\nDXDTRLE\nDXXTRLI\nDXDTRTOT\nDXDTRPF\nDXDSTA\nDXDSTBMC\nDXDSTBMD\nDXDSTFAT\nDXDSTLE\nDXDSTLI\nDXDSTTOT\nDXDSTPF\nDXDTOA\nDXDTOBMC\nDXDTOBMD\nDXDTOFAT\nDXDTOLE\nDXDTOLI\nDXDTOTOT\nDXDTOPF\nBMDSTATS\nBMXWT\nBMIWT\nBMXRECUM\nBMIRECUM\nBMXHEAD\nBMIHEAD\nBMXHT\nBMIHT\nBMXBMI\nBMXLEG\nBMILEG\nBMXARML\nBMIARML\nBMXARMC\nBMIARMC\nBMXWAIST\nBMIWAIST\nBMXHIP\nBMIHIP\nBMDBMIC\nBMXSAD1\nBMXSAD2\nBMXSAD3\nBMXSAD4\nBMDAVSAD\nBMDSADCM\nPEASCCT1\nBPXCHR\nBPAARM\nBPACSZ\nBPXPLS\nBPXPULS\nBPXPTY\nBPXML1\nBPXSY1\nBPXDI1\nBPAEN1\nBPXSY2\nBPXDI2\nBPAEN2\nBPXSY3\nBPXDI3\nBPAEN3\nBPXSY4\nBPXDI4\nBPAEN4\nPEASCST1\nPEASCTM1\nLBXSATSI\nLBDSATLC\nLBXSAL\nLBDSALSI\nLBXSAPSI\nLBXSASSI\nLBXSC3SI\nLBXSBU\nLBDSBUSI\nLBXSCLSI\nLBXSCK\nLBXSCR\nLBDSCRSI\nLBXSGB\nLBDSGBSI\nLBXSGL\nLBDSGLSI\nLBXSGTSI\nLBDSGTLC\nLBXSIR\nLBDSIRSI\nLBXSLDSI\nLBXSOSSI\nLBXSPH\nLBDSPHSI\nLBXSKSI\nLBXSNASI\nLBXSTB\nLBDSTBSI\nLBDSTBLC\nLBXSCA\nLBDSCASI\nLBXSCH\nLBDSCHSI\nLBXSTP\nLBDSTPSI\nLBXSTR\nLBDSTRSI\nLBXSUA\nLBDSUASI\nWTSAF2YR_x\nLBXTR\nLBDTRSI\nLBDLDL\nLBDLDLSI\nLBDLDLM\nLBDLDMSI\nLBDLDLN\nLBDLDNSI\nWTSAF2YR_y\nLBXIN\nLBDINSI\nPHAFSTHR\nPHAFSTMN\nLBDINLC\nWTFOL2YR\nLBDRFO\nLBDRFOSI\nLBXTC\nLBDTCSI\nLBDHDD\nLBDHDDSI\nLBXCOT\nLBDCOTLC\nLBXHCT_x\nLBDHCTLC\nLBXWBCSI\nLBXLYPCT\nLBXMOPCT\nLBXNEPCT\nLBXEOPCT\nLBXBAPCT\nLBDLYMNO\nLBDMONO\nLBDNENO\nLBDEONO\nLBDBANO\nLBXRBCSI\nLBXHGB\nLBXHCT_y\nLBXMCVSI\nLBXMCHSI\nLBXMC\nLBXRDW\nLBXPLTSI\nLBXMPSI\nLBXNRBC\nURXVOL1\nURDFLOW1\nURDTIME1\nURXVOL2\nURDFLOW2\nURDTIME2\nURXVOL3\nURDFLOW3\nURDTIME3\nURXUMA\nURXUMS\nURDUMALC\nURXUCR\nURXCRS\nURDUCRLC\nURDACT\nBPQ020\nBPQ030\nBPD035\nBPQ040A\nBPQ050A\nBPQ080\nBPQ060\nBPQ070\nBPQ090D\nBPQ100D\nBPQ056\nBPD058\nBPQ059\nSMQ020\nSMD030\nSMQ040\nSMQ050Q\nSMQ050U\nSMD055\nSMD057\nSMQ078\nSMD641\nSMD650\nSMD093\nSMDUPCA\nSMD100BR\nSMD100FL\nSMD100MN\nSMD100LN\nSMD100TR\nSMD100NI\nSMD100CO\nSMQ621\nSMD630\nSMQ661\nSMQ665A\nSMQ665B\nSMQ665C\nSMQ665D\nSMQ670\nSMQ848\nSMQ852Q\nSMQ852U\nSMQ925\nSMQ930\nSMQ935\nSMQ080\nSMQ890\nSMQ895\nSMQ900\nSMQ905\nSMQ910\nSMQ915\nSMAQUEX2\nDIQ010\nDID040\nDIQ160\nDIQ170\nDIQ172\nDIQ175A\nDIQ175B\nDIQ175C\nDIQ175D\nDIQ175E\nDIQ175F\nDIQ175G\nDIQ175H\nDIQ175I\nDIQ175J\nDIQ175K\nDIQ175L\nDIQ175M\nDIQ175N\nDIQ175O\nDIQ175P\nDIQ175Q\nDIQ175R\nDIQ175S\nDIQ175T\nDIQ175U\nDIQ175V\nDIQ175W\nDIQ175X\nDIQ180\nDIQ050\nDID060\nDIQ060U\nDIQ070\nDIQ230\nDIQ240\nDID250\nDID260\nDIQ260U\nDIQ275\nDIQ280\nDIQ291\nDIQ300S\nDIQ300D\nDID310S\nDID310D\nDID320\nDID330\nDID341\nDID350\nDIQ350U\nDIQ360\nDIQ080\nDUQ200\nDUQ210\nDUQ211\nDUQ213\nDUQ215Q\nDUQ215U\nDUQ217\nDUQ219\nDUQ220Q\nDUQ220U\nDUQ230\nDUQ240\nDUQ250\nDUQ260\nDUQ270Q\nDUQ270U\nDUQ272\nDUQ280\nDUQ290\nDUQ300\nDUQ310Q\nDUQ310U\nDUQ320\nDUQ330\nDUQ340\nDUQ350Q\nDUQ350U\nDUQ352\nDUQ360\nDUQ370\nDUQ380A\nDUQ380B\nDUQ380C\nDUQ380D\nDUQ380E\nDUQ390\nDUQ400Q\nDUQ400U\nDUQ410\nDUQ420\nDUQ430\nDUD380F\nMCQ010\nMCQ025\nMCQ035\nMCQ040\nMCQ050\nAGQ030\nMCQ053\nMCQ080\nMCQ092\nMCD093\nMCQ149\nMCQ151\nMCQ160A\nMCQ180A\nMCQ195\nMCQ160N\nMCQ180N\nMCQ160B\nMCQ180B\nMCQ160C\nMCQ180C\nMCQ160D\nMCQ180D\nMCQ160E\nMCQ180E\nMCQ160F\nMCQ180F\nMCQ160G\nMCQ180G\nMCQ160M\nMCQ170M\nMCQ180M\nMCQ160K\nMCQ170K\nMCQ180K\nMCQ160L\nMCQ170L\nMCQ180L\nMCQ160O\nMCQ203\nMCQ206\nMCQ220\nMCQ230A\nMCQ230B\nMCQ230C\nMCQ230D\nMCQ240A\nMCQ240AA\nMCQ240B\nMCQ240BB\nMCQ240C\nMCQ240CC\nMCQ240D\nMCQ240DD\nMCQ240DK\nMCQ240E\nMCQ240F\nMCQ240G\nMCQ240H\nMCQ240I\nMCQ240J\nMCQ240K\nMCQ240L\nMCQ240M\nMCQ240N\nMCQ240O\nMCQ240P\nMCQ240Q\nMCQ240R\nMCQ240S\nMCQ240T\nMCQ240U\nMCQ240V\nMCQ240W\nMCQ240X\nMCQ240Y\nMCQ240Z\nMCQ300A\nMCQ300B\nMCQ300C\nMCQ365A\nMCQ365B\nMCQ365C\nMCQ365D\nMCQ370A\nMCQ370B\nMCQ370C\nMCQ370D\nOSQ230\nMCQ070\nMCQ075\nMCQ082\nMCQ084\nMCQ086\nMCQ380\nRHD018\nMCD180A\nMCD180N\nMCD180B\nMCD180C\nMCD180D\nMCD180E\nMCD180F\nMCD180M\nMCD180G\nMCD180K\nMCD180L\nMCQ500\nMCQ510A\nMCQ510B\nMCQ510C\nMCQ510D\nMCQ510E\nMCQ510F\nMCQ520\nMCQ530\nMCQ540\nMCQ550\nMCQ560\nMCQ570\nMCD240A\nMCD240B\nMCD240C\nMCQ366A\nMCQ366B\nMCQ366C\nMCQ366D\nMCQ371A\nMCQ371B\nMCQ371C\nMCQ371D\nPAQ605\nPAQ610\nPAD615\nPAQ620\nPAQ625\nPAD630\nPAQ635\nPAQ640\nPAD645\nPAQ650\nPAQ655\nPAD660\nPAQ665\nPAQ670\nPAD675\nPAD680\nPAQ706\nPAQ710\nPAQ715\nPAQ722\nPAQ724A\nPAQ724B\nPAQ724C\nPAQ724D\nPAQ724E\nPAQ724F\nPAQ724G\nPAQ724H\nPAQ724I\nPAQ724J\nPAQ724K\nPAQ724L\nPAQ724M\nPAQ724N\nPAQ724O\nPAQ724P\nPAQ724Q\nPAQ724R\nPAQ724S\nPAQ724T\nPAQ724U\nPAQ724V\nPAQ724W\nPAQ724X\nPAQ724Y\nPAQ724Z\nPAQ724AA\nPAQ724AB\nPAQ724AC\nPAQ724AD\nPAQ724AE\nPAQ724AF\nPAQ724CM\nPAQ731\nPAD733\nPAQ677\nPAQ678\nPAQ740\nPAQ742\nPAQ744\nPAQ746\nPAQ748\nPAQ755\nPAQ759A\nPAQ759B\nPAQ759C\nPAQ759D\nPAQ759E\nPAQ759F\nPAQ759G\nPAQ759H\nPAQ759I\nPAQ759J\nPAQ759K\nPAQ759L\nPAQ759M\nPAQ759N\nPAQ759O\nPAQ759P\nPAQ759Q\nPAQ759R\nPAQ759S\nPAQ759T\nPAQ759U\nPAQ762\nPAQ764\nPAQ766\nPAQ679\nPAQ750\nPAQ770\nPAQ772A\nPAQ772B\nPAQ772C\nPAQ759V\nPAAQUEX\nSMQ681\nSMQ690A\nSMQ710\nSMQ720\nSMQ725\nSMQ690B\nSMQ740\nSMQ690C\nSMQ770\nSMQ690G\nSMQ845\nSMQ690H\nSMQ849\nSMQ851\nSMQ690D\nSMQ800\nSMQ690E\nSMQ817\nSMQ690K\nSMQ857O\nSMQ863\nSMQ690F\nSMQ830\nSMQ840\nSMDANY\nSMAQUEX\nSMQ690I\nSMQ857\nSMQ690J\nSMQ861\n"
     ]
    }
   ],
   "source": [
    "for col in cols: print(col)"
   ]
  },
  {
   "source": [
    "print(diet_dfs[\"dr1tot_h\"].shape)\n",
    "print(diet_dfs[\"dr1tot_i\"].shape)\n",
    "print(diet_dfs[\"dr1tot_j\"].shape)\n",
    "\n",
    "files[\"dr1tot\"].shape"
   ],
   "cell_type": "markdown",
   "metadata": {}
  },
  {
   "source": [
    "def read_all_data(up_levels, folders):\n",
    "    #dem_folder, diet_folder, exam_folder, lab_folder, quest_folder = folders\n",
    "\n",
    "    dfs_list = []\n",
    "    \n",
    "\n",
    "    for folder in folders:\n",
    "        dfs_list.append(md.read_data(up_levels, folder))\n",
    "\n",
    "    #demo_dfs = md.read_data(up_levels, dem_folder)\n",
    "    #diet_dfs = md.read_data(up_levels, diet_folder)\n",
    "    #exam_dfs = md.read_data(up_levels, exam_folder)\n",
    "    #lab_dfs = md.read_data(up_levels, lab_folder)\n",
    "    #quest_dfs = md.read_data(up_levels, quest_folder)\n",
    "\n",
    "    #return demo_dfs, diet_dfs, exam_dfs, lab_dfs, quest_dfs\n",
    "    return dfs_list"
   ],
   "cell_type": "markdown",
   "metadata": {}
  },
  {
   "source": [
    "demo_dfs, diet_dfs, exam_dfs, lab_dfs, quest_dfs = read_all_data(2,[\"1_demographics\", \"2_dietary\", \"3_examination\", \"4_laboratory\", \"5_questionnaire\"])"
   ],
   "cell_type": "markdown",
   "metadata": {}
  },
  {
   "source": [
    "data = read_all_data(2, [\"1_demographics\", \"2_dietary\"])\n",
    "data[\"diet_dfs\"][\"dr1tot_j\"]"
   ],
   "cell_type": "markdown",
   "metadata": {}
  },
  {
   "source": [
    "def var_data(up_levels, filepath):\n",
    "\n",
    "    path = dirname(os.getcwd())\n",
    "    for i in range(up_levels): path = dirname(path)\n",
    "\n",
    "    fullpath = path + sep + filepath\n",
    "    data = pd.read_csv(fullpath, index_col = 0)\n",
    "\n",
    "    return data"
   ],
   "cell_type": "markdown",
   "metadata": {}
  },
  {
   "cell_type": "code",
   "execution_count": null,
   "metadata": {},
   "outputs": [],
   "source": []
  }
 ]
}