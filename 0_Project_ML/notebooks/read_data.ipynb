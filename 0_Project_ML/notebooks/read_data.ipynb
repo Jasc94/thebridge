{
 "metadata": {
  "language_info": {
   "codemirror_mode": {
    "name": "ipython",
    "version": 3
   },
   "file_extension": ".py",
   "mimetype": "text/x-python",
   "name": "python",
   "nbconvert_exporter": "python",
   "pygments_lexer": "ipython3",
   "version": "3.7.4"
  },
  "orig_nbformat": 4,
  "kernelspec": {
   "name": "python3",
   "display_name": "Python 3.7.4 64-bit"
  },
  "interpreter": {
   "hash": "aee8b7b246df8f9039afb4144a1f6fd8d2ca17a180786b69acc140d282b71a49"
  }
 },
 "nbformat": 4,
 "nbformat_minor": 2,
 "cells": [
  {
   "cell_type": "code",
   "execution_count": 3,
   "metadata": {},
   "outputs": [],
   "source": [
    "import pandas as pd"
   ]
  },
  {
   "cell_type": "code",
   "execution_count": 4,
   "metadata": {},
   "outputs": [
    {
     "output_type": "execute_result",
     "data": {
      "text/plain": [
       "   Unnamed: 0     SEQN  SDDSRVYR  RIDSTATR  RIAGENDR  RIDAGEYR  RIDAGEMN  \\\n",
       "0           1  93703.0        10         2         2         2       NaN   \n",
       "1           2  93704.0        10         2         1         2       NaN   \n",
       "2           3  93705.0        10         2         2        66       NaN   \n",
       "3           4  93706.0        10         2         1        18       NaN   \n",
       "4           5  93707.0        10         2         1        13       NaN   \n",
       "\n",
       "   RIDRETH1  RIDRETH3  RIDEXMON  ...  DMDHREDZ  DMDHRMAZ  DMDHSEDZ  \\\n",
       "0         5         6       2.0  ...       3.0       1.0       3.0   \n",
       "1         3         3       1.0  ...       3.0       1.0       2.0   \n",
       "2         4         4       2.0  ...       1.0       2.0       NaN   \n",
       "3         5         6       2.0  ...       3.0       1.0       2.0   \n",
       "4         5         7       2.0  ...       2.0       1.0       3.0   \n",
       "\n",
       "       WTINT2YR      WTMEC2YR  SDMVPSU  SDMVSTRA  INDHHIN2  INDFMIN2  INDFMPIR  \n",
       "0   9246.491865   8539.731348        2       145      15.0      15.0      5.00  \n",
       "1  37338.768343  42566.614750        1       143      15.0      15.0      5.00  \n",
       "2   8614.571172   8338.419786        2       145       3.0       3.0      0.82  \n",
       "3   8548.632619   8723.439814        2       134       NaN       NaN       NaN  \n",
       "4   6769.344567   7064.609730        1       138      10.0      10.0      1.88  \n",
       "\n",
       "[5 rows x 47 columns]"
      ],
      "text/html": "<div>\n<style scoped>\n    .dataframe tbody tr th:only-of-type {\n        vertical-align: middle;\n    }\n\n    .dataframe tbody tr th {\n        vertical-align: top;\n    }\n\n    .dataframe thead th {\n        text-align: right;\n    }\n</style>\n<table border=\"1\" class=\"dataframe\">\n  <thead>\n    <tr style=\"text-align: right;\">\n      <th></th>\n      <th>Unnamed: 0</th>\n      <th>SEQN</th>\n      <th>SDDSRVYR</th>\n      <th>RIDSTATR</th>\n      <th>RIAGENDR</th>\n      <th>RIDAGEYR</th>\n      <th>RIDAGEMN</th>\n      <th>RIDRETH1</th>\n      <th>RIDRETH3</th>\n      <th>RIDEXMON</th>\n      <th>...</th>\n      <th>DMDHREDZ</th>\n      <th>DMDHRMAZ</th>\n      <th>DMDHSEDZ</th>\n      <th>WTINT2YR</th>\n      <th>WTMEC2YR</th>\n      <th>SDMVPSU</th>\n      <th>SDMVSTRA</th>\n      <th>INDHHIN2</th>\n      <th>INDFMIN2</th>\n      <th>INDFMPIR</th>\n    </tr>\n  </thead>\n  <tbody>\n    <tr>\n      <th>0</th>\n      <td>1</td>\n      <td>93703.0</td>\n      <td>10</td>\n      <td>2</td>\n      <td>2</td>\n      <td>2</td>\n      <td>NaN</td>\n      <td>5</td>\n      <td>6</td>\n      <td>2.0</td>\n      <td>...</td>\n      <td>3.0</td>\n      <td>1.0</td>\n      <td>3.0</td>\n      <td>9246.491865</td>\n      <td>8539.731348</td>\n      <td>2</td>\n      <td>145</td>\n      <td>15.0</td>\n      <td>15.0</td>\n      <td>5.00</td>\n    </tr>\n    <tr>\n      <th>1</th>\n      <td>2</td>\n      <td>93704.0</td>\n      <td>10</td>\n      <td>2</td>\n      <td>1</td>\n      <td>2</td>\n      <td>NaN</td>\n      <td>3</td>\n      <td>3</td>\n      <td>1.0</td>\n      <td>...</td>\n      <td>3.0</td>\n      <td>1.0</td>\n      <td>2.0</td>\n      <td>37338.768343</td>\n      <td>42566.614750</td>\n      <td>1</td>\n      <td>143</td>\n      <td>15.0</td>\n      <td>15.0</td>\n      <td>5.00</td>\n    </tr>\n    <tr>\n      <th>2</th>\n      <td>3</td>\n      <td>93705.0</td>\n      <td>10</td>\n      <td>2</td>\n      <td>2</td>\n      <td>66</td>\n      <td>NaN</td>\n      <td>4</td>\n      <td>4</td>\n      <td>2.0</td>\n      <td>...</td>\n      <td>1.0</td>\n      <td>2.0</td>\n      <td>NaN</td>\n      <td>8614.571172</td>\n      <td>8338.419786</td>\n      <td>2</td>\n      <td>145</td>\n      <td>3.0</td>\n      <td>3.0</td>\n      <td>0.82</td>\n    </tr>\n    <tr>\n      <th>3</th>\n      <td>4</td>\n      <td>93706.0</td>\n      <td>10</td>\n      <td>2</td>\n      <td>1</td>\n      <td>18</td>\n      <td>NaN</td>\n      <td>5</td>\n      <td>6</td>\n      <td>2.0</td>\n      <td>...</td>\n      <td>3.0</td>\n      <td>1.0</td>\n      <td>2.0</td>\n      <td>8548.632619</td>\n      <td>8723.439814</td>\n      <td>2</td>\n      <td>134</td>\n      <td>NaN</td>\n      <td>NaN</td>\n      <td>NaN</td>\n    </tr>\n    <tr>\n      <th>4</th>\n      <td>5</td>\n      <td>93707.0</td>\n      <td>10</td>\n      <td>2</td>\n      <td>1</td>\n      <td>13</td>\n      <td>NaN</td>\n      <td>5</td>\n      <td>7</td>\n      <td>2.0</td>\n      <td>...</td>\n      <td>2.0</td>\n      <td>1.0</td>\n      <td>3.0</td>\n      <td>6769.344567</td>\n      <td>7064.609730</td>\n      <td>1</td>\n      <td>138</td>\n      <td>10.0</td>\n      <td>10.0</td>\n      <td>1.88</td>\n    </tr>\n  </tbody>\n</table>\n<p>5 rows × 47 columns</p>\n</div>"
     },
     "metadata": {},
     "execution_count": 4
    }
   ],
   "source": [
    "df = pd.read_csv(\"../data/1_demographics/DEMO_J.csv\")\n",
    "df.head()"
   ]
  },
  {
   "cell_type": "code",
   "execution_count": 12,
   "metadata": {},
   "outputs": [
    {
     "output_type": "execute_result",
     "data": {
      "text/plain": [
       "(9254, 47)"
      ]
     },
     "metadata": {},
     "execution_count": 12
    }
   ],
   "source": [
    "df.shape"
   ]
  },
  {
   "cell_type": "code",
   "execution_count": 21,
   "metadata": {},
   "outputs": [
    {
     "output_type": "execute_result",
     "data": {
      "text/plain": [
       "   Unnamed: 0     SEQN        WTDRD1        WTDR2D  DR1ILINE  DR1DRSTZ  \\\n",
       "0           1  93704.0  81714.005497  82442.869214         1         1   \n",
       "1           2  93704.0  81714.005497  82442.869214         2         1   \n",
       "2           3  93704.0  81714.005497  82442.869214         3         1   \n",
       "3           4  93704.0  81714.005497  82442.869214         4         1   \n",
       "4           5  93704.0  81714.005497  82442.869214         5         1   \n",
       "\n",
       "   DR1EXMER  DRABF  DRDINT  DR1DBIH  ...  DR1IM181  DR1IM201  DR1IM221  \\\n",
       "0        49      2       2      7.0  ...     4.549     0.040     0.000   \n",
       "1        49      2       2      7.0  ...     0.459     0.002     0.000   \n",
       "2        49      2       2      7.0  ...     4.656     0.106     0.009   \n",
       "3        49      2       2      7.0  ...     0.001     0.000     0.000   \n",
       "4        49      2       2      7.0  ...     2.043     0.041     0.000   \n",
       "\n",
       "   DR1IP182  DR1IP183  DR1IP184  DR1IP204  DR1IP205  DR1IP225  DR1IP226  \n",
       "0     3.669     0.467       0.0     0.022       0.0     0.001     0.006  \n",
       "1     0.072     0.007       0.0     0.002       0.0     0.000     0.000  \n",
       "2     5.485     0.226       0.0     0.040       0.0     0.003     0.002  \n",
       "3     0.002     0.000       0.0     0.000       0.0     0.000     0.000  \n",
       "4     1.418     0.263       0.0     0.000       0.0     0.000     0.000  \n",
       "\n",
       "[5 rows x 85 columns]"
      ],
      "text/html": "<div>\n<style scoped>\n    .dataframe tbody tr th:only-of-type {\n        vertical-align: middle;\n    }\n\n    .dataframe tbody tr th {\n        vertical-align: top;\n    }\n\n    .dataframe thead th {\n        text-align: right;\n    }\n</style>\n<table border=\"1\" class=\"dataframe\">\n  <thead>\n    <tr style=\"text-align: right;\">\n      <th></th>\n      <th>Unnamed: 0</th>\n      <th>SEQN</th>\n      <th>WTDRD1</th>\n      <th>WTDR2D</th>\n      <th>DR1ILINE</th>\n      <th>DR1DRSTZ</th>\n      <th>DR1EXMER</th>\n      <th>DRABF</th>\n      <th>DRDINT</th>\n      <th>DR1DBIH</th>\n      <th>...</th>\n      <th>DR1IM181</th>\n      <th>DR1IM201</th>\n      <th>DR1IM221</th>\n      <th>DR1IP182</th>\n      <th>DR1IP183</th>\n      <th>DR1IP184</th>\n      <th>DR1IP204</th>\n      <th>DR1IP205</th>\n      <th>DR1IP225</th>\n      <th>DR1IP226</th>\n    </tr>\n  </thead>\n  <tbody>\n    <tr>\n      <th>0</th>\n      <td>1</td>\n      <td>93704.0</td>\n      <td>81714.005497</td>\n      <td>82442.869214</td>\n      <td>1</td>\n      <td>1</td>\n      <td>49</td>\n      <td>2</td>\n      <td>2</td>\n      <td>7.0</td>\n      <td>...</td>\n      <td>4.549</td>\n      <td>0.040</td>\n      <td>0.000</td>\n      <td>3.669</td>\n      <td>0.467</td>\n      <td>0.0</td>\n      <td>0.022</td>\n      <td>0.0</td>\n      <td>0.001</td>\n      <td>0.006</td>\n    </tr>\n    <tr>\n      <th>1</th>\n      <td>2</td>\n      <td>93704.0</td>\n      <td>81714.005497</td>\n      <td>82442.869214</td>\n      <td>2</td>\n      <td>1</td>\n      <td>49</td>\n      <td>2</td>\n      <td>2</td>\n      <td>7.0</td>\n      <td>...</td>\n      <td>0.459</td>\n      <td>0.002</td>\n      <td>0.000</td>\n      <td>0.072</td>\n      <td>0.007</td>\n      <td>0.0</td>\n      <td>0.002</td>\n      <td>0.0</td>\n      <td>0.000</td>\n      <td>0.000</td>\n    </tr>\n    <tr>\n      <th>2</th>\n      <td>3</td>\n      <td>93704.0</td>\n      <td>81714.005497</td>\n      <td>82442.869214</td>\n      <td>3</td>\n      <td>1</td>\n      <td>49</td>\n      <td>2</td>\n      <td>2</td>\n      <td>7.0</td>\n      <td>...</td>\n      <td>4.656</td>\n      <td>0.106</td>\n      <td>0.009</td>\n      <td>5.485</td>\n      <td>0.226</td>\n      <td>0.0</td>\n      <td>0.040</td>\n      <td>0.0</td>\n      <td>0.003</td>\n      <td>0.002</td>\n    </tr>\n    <tr>\n      <th>3</th>\n      <td>4</td>\n      <td>93704.0</td>\n      <td>81714.005497</td>\n      <td>82442.869214</td>\n      <td>4</td>\n      <td>1</td>\n      <td>49</td>\n      <td>2</td>\n      <td>2</td>\n      <td>7.0</td>\n      <td>...</td>\n      <td>0.001</td>\n      <td>0.000</td>\n      <td>0.000</td>\n      <td>0.002</td>\n      <td>0.000</td>\n      <td>0.0</td>\n      <td>0.000</td>\n      <td>0.0</td>\n      <td>0.000</td>\n      <td>0.000</td>\n    </tr>\n    <tr>\n      <th>4</th>\n      <td>5</td>\n      <td>93704.0</td>\n      <td>81714.005497</td>\n      <td>82442.869214</td>\n      <td>5</td>\n      <td>1</td>\n      <td>49</td>\n      <td>2</td>\n      <td>2</td>\n      <td>7.0</td>\n      <td>...</td>\n      <td>2.043</td>\n      <td>0.041</td>\n      <td>0.000</td>\n      <td>1.418</td>\n      <td>0.263</td>\n      <td>0.0</td>\n      <td>0.000</td>\n      <td>0.0</td>\n      <td>0.000</td>\n      <td>0.000</td>\n    </tr>\n  </tbody>\n</table>\n<p>5 rows × 85 columns</p>\n</div>"
     },
     "metadata": {},
     "execution_count": 21
    }
   ],
   "source": [
    "df2 = pd.read_csv(\"../data/2_dietary/DR1IFF_J.csv\")\n",
    "df2.head()"
   ]
  },
  {
   "cell_type": "code",
   "execution_count": 19,
   "metadata": {},
   "outputs": [
    {
     "output_type": "execute_result",
     "data": {
      "text/plain": [
       "    Unnamed: 0     SEQN       WTDRD1  WTDR2D  DR1ILINE  DR1DRSTZ  DR1EXMER  \\\n",
       "30          31  93706.0  6463.882999     0.0         1         1        86   \n",
       "31          32  93706.0  6463.882999     0.0         2         1        86   \n",
       "32          33  93706.0  6463.882999     0.0         3         1        86   \n",
       "33          34  93706.0  6463.882999     0.0         4         1        86   \n",
       "34          35  93706.0  6463.882999     0.0         5         1        86   \n",
       "35          36  93706.0  6463.882999     0.0         6         1        86   \n",
       "36          37  93706.0  6463.882999     0.0         7         1        86   \n",
       "37          38  93706.0  6463.882999     0.0         8         1        86   \n",
       "\n",
       "    DRABF  DRDINT  DR1DBIH  ...  DR1IM181  DR1IM201  DR1IM221  DR1IP182  \\\n",
       "30      2       1      NaN  ...     0.000     0.000     0.000     0.000   \n",
       "31      2       1      NaN  ...     2.043     0.032     0.002     1.259   \n",
       "32      2       1      NaN  ...     3.701     0.057     0.003     2.268   \n",
       "33      2       1      NaN  ...    19.762     0.297     0.006    10.741   \n",
       "34      2       1      NaN  ...     8.031     0.069     0.000    14.894   \n",
       "35      2       1      NaN  ...     0.006     0.000     0.000     0.016   \n",
       "36      2       1      NaN  ...     8.031     0.069     0.000    14.894   \n",
       "37      2       1      NaN  ...     0.003     0.000     0.000     0.025   \n",
       "\n",
       "    DR1IP183  DR1IP184  DR1IP204  DR1IP205  DR1IP225  DR1IP226  \n",
       "30     0.000     0.000     0.000     0.000     0.000     0.000  \n",
       "31     0.152     0.002     0.011     0.004     0.004     0.000  \n",
       "32     0.274     0.003     0.019     0.006     0.006     0.000  \n",
       "33     0.731     0.011     0.266     0.011     0.034     0.017  \n",
       "34     1.958     0.000     0.006     0.000     0.000     0.002  \n",
       "35     0.000     0.000     0.000     0.000     0.000     0.000  \n",
       "36     1.958     0.000     0.006     0.000     0.000     0.002  \n",
       "37     0.001     0.000     0.000     0.000     0.000     0.000  \n",
       "\n",
       "[8 rows x 85 columns]"
      ],
      "text/html": "<div>\n<style scoped>\n    .dataframe tbody tr th:only-of-type {\n        vertical-align: middle;\n    }\n\n    .dataframe tbody tr th {\n        vertical-align: top;\n    }\n\n    .dataframe thead th {\n        text-align: right;\n    }\n</style>\n<table border=\"1\" class=\"dataframe\">\n  <thead>\n    <tr style=\"text-align: right;\">\n      <th></th>\n      <th>Unnamed: 0</th>\n      <th>SEQN</th>\n      <th>WTDRD1</th>\n      <th>WTDR2D</th>\n      <th>DR1ILINE</th>\n      <th>DR1DRSTZ</th>\n      <th>DR1EXMER</th>\n      <th>DRABF</th>\n      <th>DRDINT</th>\n      <th>DR1DBIH</th>\n      <th>...</th>\n      <th>DR1IM181</th>\n      <th>DR1IM201</th>\n      <th>DR1IM221</th>\n      <th>DR1IP182</th>\n      <th>DR1IP183</th>\n      <th>DR1IP184</th>\n      <th>DR1IP204</th>\n      <th>DR1IP205</th>\n      <th>DR1IP225</th>\n      <th>DR1IP226</th>\n    </tr>\n  </thead>\n  <tbody>\n    <tr>\n      <th>30</th>\n      <td>31</td>\n      <td>93706.0</td>\n      <td>6463.882999</td>\n      <td>0.0</td>\n      <td>1</td>\n      <td>1</td>\n      <td>86</td>\n      <td>2</td>\n      <td>1</td>\n      <td>NaN</td>\n      <td>...</td>\n      <td>0.000</td>\n      <td>0.000</td>\n      <td>0.000</td>\n      <td>0.000</td>\n      <td>0.000</td>\n      <td>0.000</td>\n      <td>0.000</td>\n      <td>0.000</td>\n      <td>0.000</td>\n      <td>0.000</td>\n    </tr>\n    <tr>\n      <th>31</th>\n      <td>32</td>\n      <td>93706.0</td>\n      <td>6463.882999</td>\n      <td>0.0</td>\n      <td>2</td>\n      <td>1</td>\n      <td>86</td>\n      <td>2</td>\n      <td>1</td>\n      <td>NaN</td>\n      <td>...</td>\n      <td>2.043</td>\n      <td>0.032</td>\n      <td>0.002</td>\n      <td>1.259</td>\n      <td>0.152</td>\n      <td>0.002</td>\n      <td>0.011</td>\n      <td>0.004</td>\n      <td>0.004</td>\n      <td>0.000</td>\n    </tr>\n    <tr>\n      <th>32</th>\n      <td>33</td>\n      <td>93706.0</td>\n      <td>6463.882999</td>\n      <td>0.0</td>\n      <td>3</td>\n      <td>1</td>\n      <td>86</td>\n      <td>2</td>\n      <td>1</td>\n      <td>NaN</td>\n      <td>...</td>\n      <td>3.701</td>\n      <td>0.057</td>\n      <td>0.003</td>\n      <td>2.268</td>\n      <td>0.274</td>\n      <td>0.003</td>\n      <td>0.019</td>\n      <td>0.006</td>\n      <td>0.006</td>\n      <td>0.000</td>\n    </tr>\n    <tr>\n      <th>33</th>\n      <td>34</td>\n      <td>93706.0</td>\n      <td>6463.882999</td>\n      <td>0.0</td>\n      <td>4</td>\n      <td>1</td>\n      <td>86</td>\n      <td>2</td>\n      <td>1</td>\n      <td>NaN</td>\n      <td>...</td>\n      <td>19.762</td>\n      <td>0.297</td>\n      <td>0.006</td>\n      <td>10.741</td>\n      <td>0.731</td>\n      <td>0.011</td>\n      <td>0.266</td>\n      <td>0.011</td>\n      <td>0.034</td>\n      <td>0.017</td>\n    </tr>\n    <tr>\n      <th>34</th>\n      <td>35</td>\n      <td>93706.0</td>\n      <td>6463.882999</td>\n      <td>0.0</td>\n      <td>5</td>\n      <td>1</td>\n      <td>86</td>\n      <td>2</td>\n      <td>1</td>\n      <td>NaN</td>\n      <td>...</td>\n      <td>8.031</td>\n      <td>0.069</td>\n      <td>0.000</td>\n      <td>14.894</td>\n      <td>1.958</td>\n      <td>0.000</td>\n      <td>0.006</td>\n      <td>0.000</td>\n      <td>0.000</td>\n      <td>0.002</td>\n    </tr>\n    <tr>\n      <th>35</th>\n      <td>36</td>\n      <td>93706.0</td>\n      <td>6463.882999</td>\n      <td>0.0</td>\n      <td>6</td>\n      <td>1</td>\n      <td>86</td>\n      <td>2</td>\n      <td>1</td>\n      <td>NaN</td>\n      <td>...</td>\n      <td>0.006</td>\n      <td>0.000</td>\n      <td>0.000</td>\n      <td>0.016</td>\n      <td>0.000</td>\n      <td>0.000</td>\n      <td>0.000</td>\n      <td>0.000</td>\n      <td>0.000</td>\n      <td>0.000</td>\n    </tr>\n    <tr>\n      <th>36</th>\n      <td>37</td>\n      <td>93706.0</td>\n      <td>6463.882999</td>\n      <td>0.0</td>\n      <td>7</td>\n      <td>1</td>\n      <td>86</td>\n      <td>2</td>\n      <td>1</td>\n      <td>NaN</td>\n      <td>...</td>\n      <td>8.031</td>\n      <td>0.069</td>\n      <td>0.000</td>\n      <td>14.894</td>\n      <td>1.958</td>\n      <td>0.000</td>\n      <td>0.006</td>\n      <td>0.000</td>\n      <td>0.000</td>\n      <td>0.002</td>\n    </tr>\n    <tr>\n      <th>37</th>\n      <td>38</td>\n      <td>93706.0</td>\n      <td>6463.882999</td>\n      <td>0.0</td>\n      <td>8</td>\n      <td>1</td>\n      <td>86</td>\n      <td>2</td>\n      <td>1</td>\n      <td>NaN</td>\n      <td>...</td>\n      <td>0.003</td>\n      <td>0.000</td>\n      <td>0.000</td>\n      <td>0.025</td>\n      <td>0.001</td>\n      <td>0.000</td>\n      <td>0.000</td>\n      <td>0.000</td>\n      <td>0.000</td>\n      <td>0.000</td>\n    </tr>\n  </tbody>\n</table>\n<p>8 rows × 85 columns</p>\n</div>"
     },
     "metadata": {},
     "execution_count": 19
    }
   ],
   "source": [
    "df2[df2[\"SEQN\"] == 93706]"
   ]
  },
  {
   "cell_type": "code",
   "execution_count": null,
   "metadata": {},
   "outputs": [],
   "source": []
  }
 ]
}