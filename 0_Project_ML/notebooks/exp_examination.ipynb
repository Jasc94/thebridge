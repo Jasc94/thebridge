{
 "metadata": {
  "language_info": {
   "codemirror_mode": {
    "name": "ipython",
    "version": 3
   },
   "file_extension": ".py",
   "mimetype": "text/x-python",
   "name": "python",
   "nbconvert_exporter": "python",
   "pygments_lexer": "ipython3",
   "version": "3.7.4"
  },
  "orig_nbformat": 4,
  "kernelspec": {
   "name": "python3",
   "display_name": "Python 3.7.4 64-bit"
  },
  "interpreter": {
   "hash": "aee8b7b246df8f9039afb4144a1f6fd8d2ca17a180786b69acc140d282b71a49"
  }
 },
 "nbformat": 4,
 "nbformat_minor": 2,
 "cells": [
  {
   "cell_type": "code",
   "execution_count": 1,
   "metadata": {},
   "outputs": [],
   "source": [
    "import pandas as pd\n",
    "from pandas.plotting import scatter_matrix\n",
    "import numpy as np\n",
    "\n",
    "import seaborn as sns\n",
    "import matplotlib.pyplot as plt\n",
    "\n",
    "import os, sys\n",
    "\n",
    "# Relative paths\n",
    "dirname = os.path.dirname\n",
    "sep = os.sep\n",
    "\n",
    "ml_folder = dirname(os.getcwd())\n",
    "sys.path.append(ml_folder)\n",
    "\n",
    "from src.utils import mining_data_tb as md\n",
    "from src.utils import visualization_tb as vi\n",
    "\n",
    "import warnings\n",
    "\n",
    "warnings.filterwarnings(\"ignore\")"
   ]
  },
  {
   "cell_type": "code",
   "execution_count": 2,
   "metadata": {},
   "outputs": [
    {
     "output_type": "execute_result",
     "data": {
      "text/plain": [
       "9"
      ]
     },
     "metadata": {},
     "execution_count": 2
    }
   ],
   "source": [
    "examination_dfs = md.read_data(2, \"3_examination\")\n",
    "len(examination_dfs)"
   ]
  },
  {
   "cell_type": "code",
   "execution_count": 3,
   "metadata": {},
   "outputs": [
    {
     "output_type": "stream",
     "name": "stdout",
     "text": [
      "dxx_i (5780, 92)\ndxx_h (6033, 92)\ndxx_j (5114, 92)\nbmx_j (8704, 20)\nbmx_h (9813, 25)\nbmx_i (9544, 25)\nbpx_i (9544, 20)\nbpx_h (9813, 22)\nbpx_j (8704, 20)\n"
     ]
    }
   ],
   "source": [
    "for name, df in examination_dfs.items():\n",
    "    print(name, df.shape)"
   ]
  },
  {
   "source": [
    "I have quite fewer values for the dxx files. Let's check the NaNs before making any decision."
   ],
   "cell_type": "markdown",
   "metadata": {}
  },
  {
   "cell_type": "code",
   "execution_count": 18,
   "metadata": {},
   "outputs": [],
   "source": [
    "# Filters to pull the variables I need\n",
    "variable_names = pd.read_csv(\"../data/6_variables/0_final_variables.csv\", index_col = 0)\n",
    "\n",
    "cond1 = variable_names[\"file_name\"] == \"BMX_J\"\n",
    "cond2 = variable_names[\"file_name\"] == \"BPX_J\"\n",
    "cond3 = variable_names[\"file_name\"] == \"DXX_J\"\n",
    "\n",
    "filter1 = list(variable_names[cond1][\"vAr_nAmE\"].values)\n",
    "filter2 = list(variable_names[cond2][\"vAr_nAmE\"].values)\n",
    "filter3 = list(variable_names[cond3][\"vAr_nAmE\"].values)"
   ]
  },
  {
   "cell_type": "code",
   "execution_count": 19,
   "metadata": {},
   "outputs": [],
   "source": [
    "# Filtering the columns\n",
    "bmx_h = examination_dfs[\"bmx_h\"].loc[:, filter1]\n",
    "bmx_i = examination_dfs[\"bmx_i\"].loc[:, filter1]\n",
    "bmx_j = examination_dfs[\"bmx_j\"].loc[:, filter1]\n",
    "\n",
    "bpx_h = examination_dfs[\"bpx_h\"].loc[:, filter2]\n",
    "bpx_i = examination_dfs[\"bpx_i\"].loc[:, filter2]\n",
    "bpx_j = examination_dfs[\"bpx_j\"].loc[:, filter2]\n",
    "\n",
    "dxx_h = examination_dfs[\"dxx_h\"].loc[:, filter3]\n",
    "dxx_i = examination_dfs[\"dxx_i\"].loc[:, filter3]\n",
    "dxx_j = examination_dfs[\"dxx_j\"].loc[:, filter3]"
   ]
  },
  {
   "cell_type": "code",
   "execution_count": 29,
   "metadata": {},
   "outputs": [
    {
     "output_type": "stream",
     "name": "stdout",
     "text": [
      "(28061, 9)\n<class 'pandas.core.frame.DataFrame'>\nInt64Index: 28061 entries, 73557 to 102956\nData columns (total 9 columns):\n #   Column    Non-Null Count  Dtype  \n---  ------    --------------  -----  \n 0   BMXARMC   26450 non-null  float64\n 1   BMXARML   26454 non-null  float64\n 2   BMXBMI    25816 non-null  float64\n 3   BMXHEAD   638 non-null    float64\n 4   BMXHT     25852 non-null  float64\n 5   BMXLEG    21215 non-null  float64\n 6   BMXRECUM  3032 non-null   float64\n 7   BMXWAIST  24575 non-null  float64\n 8   BMXWT     27748 non-null  float64\ndtypes: float64(9)\nmemory usage: 2.1 MB\nNone\n##################################################\n(28061, 8)\n<class 'pandas.core.frame.DataFrame'>\nInt64Index: 28061 entries, 73557 to 102956\nData columns (total 8 columns):\n #   Column  Non-Null Count  Dtype  \n---  ------  --------------  -----  \n 0   BPXDI1  20619 non-null  float64\n 1   BPXDI2  21285 non-null  float64\n 2   BPXDI3  21222 non-null  float64\n 3   BPXDI4  1395 non-null   float64\n 4   BPXSY1  20619 non-null  float64\n 5   BPXSY2  21285 non-null  float64\n 6   BPXSY3  21222 non-null  float64\n 7   BPXSY4  1395 non-null   float64\ndtypes: float64(8)\nmemory usage: 1.9 MB\nNone\n##################################################\n(16927, 17)\n<class 'pandas.core.frame.DataFrame'>\nInt64Index: 16927 entries, 73558 to 102956\nData columns (total 17 columns):\n #   Column    Non-Null Count  Dtype  \n---  ------    --------------  -----  \n 0   DXDHELE   14430 non-null  float64\n 1   DXDHEPF   14430 non-null  float64\n 2   DXDHETOT  14430 non-null  float64\n 3   DXDLALE   14414 non-null  float64\n 4   DXDLAPF   14414 non-null  float64\n 5   DXDLATOT  14357 non-null  float64\n 6   DXDLLLE   14159 non-null  float64\n 7   DXDLLPF   14159 non-null  float64\n 8   DXDLLTOT  14106 non-null  float64\n 9   DXDRALE   14317 non-null  float64\n 10  DXDRAPF   14317 non-null  float64\n 11  DXDRATOT  14254 non-null  float64\n 12  DXDRLLE   14115 non-null  float64\n 13  DXDRLPF   14115 non-null  float64\n 14  DXDRLTOT  14056 non-null  float64\n 15  DXDTOFAT  13312 non-null  float64\n 16  DXDTOPF   13312 non-null  float64\ndtypes: float64(17)\nmemory usage: 2.3 MB\nNone\n"
     ]
    }
   ],
   "source": [
    "bmx = pd.concat([bmx_h, bmx_i, bmx_j])\n",
    "bpx = pd.concat([bpx_h, bpx_i, bpx_j])\n",
    "dxx = pd.concat([dxx_h, dxx_i, dxx_j])\n",
    "\n",
    "print(bmx.shape)\n",
    "print(bmx.info())\n",
    "print(\"#\" * 50)\n",
    "print(bpx.shape)\n",
    "print(bpx.info())\n",
    "print(\"#\" * 50)\n",
    "print(dxx.shape)\n",
    "print(dxx.info())"
   ]
  },
  {
   "source": [
    "dxx has too many less values. I'll have to drop that data. I'll check the rest too just in case."
   ],
   "cell_type": "markdown",
   "metadata": {}
  },
  {
   "cell_type": "code",
   "execution_count": 31,
   "metadata": {},
   "outputs": [
    {
     "output_type": "stream",
     "name": "stdout",
     "text": [
      "(28061, 7)\n(28061, 6)\n(16927, 17)\n"
     ]
    }
   ],
   "source": [
    "bmx.drop([\"BMXHEAD\", \"BMXRECUM\"], axis = 1, inplace = True)\n",
    "bpx.drop([\"BPXDI4\", \"BPXSY4\"], axis = 1, inplace = True)\n",
    "\n",
    "print(bmx.shape)\n",
    "print(bpx.shape)\n",
    "print(dxx.shape)"
   ]
  },
  {
   "cell_type": "code",
   "execution_count": null,
   "metadata": {},
   "outputs": [],
   "source": []
  }
 ]
}