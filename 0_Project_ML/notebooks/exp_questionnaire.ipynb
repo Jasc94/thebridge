{
 "metadata": {
  "language_info": {
   "codemirror_mode": {
    "name": "ipython",
    "version": 3
   },
   "file_extension": ".py",
   "mimetype": "text/x-python",
   "name": "python",
   "nbconvert_exporter": "python",
   "pygments_lexer": "ipython3",
   "version": "3.7.4"
  },
  "orig_nbformat": 4,
  "kernelspec": {
   "name": "python3",
   "display_name": "Python 3.7.4 64-bit"
  },
  "interpreter": {
   "hash": "aee8b7b246df8f9039afb4144a1f6fd8d2ca17a180786b69acc140d282b71a49"
  }
 },
 "nbformat": 4,
 "nbformat_minor": 2,
 "cells": [
  {
   "cell_type": "code",
   "execution_count": 1,
   "metadata": {},
   "outputs": [],
   "source": [
    "import pandas as pd\n",
    "from pandas.plotting import scatter_matrix\n",
    "import numpy as np\n",
    "\n",
    "import seaborn as sns\n",
    "import matplotlib.pyplot as plt\n",
    "\n",
    "import os, sys\n",
    "\n",
    "# Relative paths\n",
    "dirname = os.path.dirname\n",
    "sep = os.sep\n",
    "\n",
    "ml_folder = dirname(os.getcwd())\n",
    "sys.path.append(ml_folder)\n",
    "\n",
    "from src.utils import mining_data_tb as md\n",
    "from src.utils import visualization_tb as vi\n",
    "\n",
    "import warnings\n",
    "\n",
    "warnings.filterwarnings(\"ignore\")"
   ]
  },
  {
   "cell_type": "code",
   "execution_count": 2,
   "metadata": {},
   "outputs": [
    {
     "output_type": "execute_result",
     "data": {
      "text/plain": [
       "21"
      ]
     },
     "metadata": {},
     "execution_count": 2
    }
   ],
   "source": [
    "questionnaire_dfs = md.read_data(2, \"5_questionnaire\")\n",
    "variable_names = pd.read_csv(\"../data/6_variables/0_final_variables.csv\", index_col = 0)\n",
    "\n",
    "len(questionnaire_dfs)"
   ]
  },
  {
   "cell_type": "code",
   "execution_count": 3,
   "metadata": {},
   "outputs": [],
   "source": [
    "def questionnaire_cleaner(questionnaire_dfs, variable_names):\n",
    "    # Conditions to filters the variable names df\n",
    "    cond1 = variable_names[\"file_name\"] == \"BPQ_J\"\n",
    "    cond2 = variable_names[\"file_name\"] == \"PAQ_J\"\n",
    "    cond3 = variable_names[\"file_name\"] == \"DIQ_J\"\n",
    "    cond4 = variable_names[\"file_name\"] == \"SMQRTU_J\"\n",
    "    cond5 = variable_names[\"file_name\"] == \"SMQ_J\"\n",
    "    cond6 = variable_names[\"file_name\"] == \"MCQ_J\"\n",
    "    cond7 = variable_names[\"file_name\"] == \"DUQ_J\"\n",
    "\n",
    "    # Filtering the variable descriptions I need\n",
    "    filter1 = list(variable_names[cond1][\"vAr_nAmE\"].values)\n",
    "    filter2 = list(variable_names[cond2][\"vAr_nAmE\"].values)\n",
    "    filter3 = list(variable_names[cond3][\"vAr_nAmE\"].values)\n",
    "    filter4 = list(variable_names[cond4][\"vAr_nAmE\"].values)\n",
    "    filter5 = list(variable_names[cond5][\"vAr_nAmE\"].values)\n",
    "    filter6 = list(variable_names[cond6][\"vAr_nAmE\"].values)\n",
    "    filter7 = list(variable_names[cond7][\"vAr_nAmE\"].values)\n",
    "\n",
    "    # Filtering the data\n",
    "    bpq_h = questionnaire_dfs[\"bpq_h\"].loc[:, filter1]\n",
    "    bpq_i = questionnaire_dfs[\"bpq_i\"].loc[:, filter1]\n",
    "    bpq_j = questionnaire_dfs[\"bpq_j\"].loc[:, filter1]\n",
    "\n",
    "    paq_h = questionnaire_dfs[\"paq_h\"].loc[:, filter2]\n",
    "    paq_i = questionnaire_dfs[\"paq_i\"].loc[:, filter2]\n",
    "    paq_j = questionnaire_dfs[\"paq_j\"].loc[:, filter2]\n",
    "\n",
    "    diq_h = questionnaire_dfs[\"diq_h\"].loc[:, filter3]\n",
    "    diq_i = questionnaire_dfs[\"diq_i\"].loc[:, filter3]\n",
    "    diq_j = questionnaire_dfs[\"diq_j\"].loc[:, filter3]\n",
    "\n",
    "    smqrtu_h = questionnaire_dfs[\"smqrtu_h\"].loc[:, filter4]\n",
    "    smqrtu_i = questionnaire_dfs[\"smqrtu_i\"].loc[:, filter4]\n",
    "    smqrtu_j = questionnaire_dfs[\"smqrtu_j\"].loc[:, filter4]\n",
    "\n",
    "    smq_h = questionnaire_dfs[\"smq_h\"].loc[:, filter5]\n",
    "    smq_i = questionnaire_dfs[\"smq_i\"].loc[:, filter5]\n",
    "    smq_j = questionnaire_dfs[\"smq_j\"].loc[:, filter5]\n",
    "\n",
    "    mcq_h = questionnaire_dfs[\"mcq_h\"].loc[:, filter6]\n",
    "    mcq_i = questionnaire_dfs[\"mcq_i\"].loc[:, filter6]\n",
    "    mcq_j = questionnaire_dfs[\"mcq_j\"].loc[:, filter6]\n",
    "\n",
    "    duq_h = questionnaire_dfs[\"duq_h\"].loc[:, filter7]\n",
    "    duq_i = questionnaire_dfs[\"duq_i\"].loc[:, filter7]\n",
    "    duq_j = questionnaire_dfs[\"duq_j\"].loc[:, filter7]\n",
    "\n",
    "    bpq = pd.concat([bpq_h, bpq_i, bpq_j])\n",
    "    paq = pd.concat([paq_h, paq_i, paq_j])\n",
    "    diq = pd.concat([diq_h, diq_i, diq_j])\n",
    "    smqrtu = pd.concat([smqrtu_h, smqrtu_i, smqrtu_j])\n",
    "    smq = pd.concat([smq_h, smq_i, smq_j])\n",
    "    mcq = pd.concat([mcq_h, mcq_i, mcq_j])\n",
    "    duq = pd.concat([duq_h, duq_i, duq_j])\n",
    "\n",
    "    full_dfs = {\"bpq\" : bpq, \"paq\" : paq, \"diq\" : diq, \"smqrtu\" : smqrtu, \"smq\" : smq, \"mcq\" : mcq, \"duq\" : duq}\n",
    "\n",
    "    return full_dfs"
   ]
  },
  {
   "cell_type": "code",
   "execution_count": 4,
   "metadata": {},
   "outputs": [],
   "source": [
    "full_dfs = questionnaire_cleaner(questionnaire_dfs, variable_names)"
   ]
  },
  {
   "cell_type": "code",
   "execution_count": 5,
   "metadata": {},
   "outputs": [
    {
     "output_type": "stream",
     "name": "stdout",
     "text": [
      "\n bpq (18952, 3) \n\n<class 'pandas.core.frame.DataFrame'>\nInt64Index: 18952 entries, 73557 to 102956\nData columns (total 3 columns):\n #   Column  Non-Null Count  Dtype  \n---  ------  --------------  -----  \n 0   BPD035  6390 non-null   float64\n 1   BPQ020  18952 non-null  int64  \n 2   BPQ030  6401 non-null   float64\ndtypes: float64(2), int64(1)\nmemory usage: 592.2 KB\nNone\n##################################################\n\n paq (24595, 6) \n\n<class 'pandas.core.frame.DataFrame'>\nInt64Index: 24595 entries, 73557 to 102956\nData columns (total 6 columns):\n #   Column  Non-Null Count  Dtype  \n---  ------  --------------  -----  \n 0   PAD615  3899 non-null   float64\n 1   PAD630  7308 non-null   float64\n 2   PAD645  5249 non-null   float64\n 3   PAD660  5675 non-null   float64\n 4   PAD675  8303 non-null   float64\n 5   PAQ610  3927 non-null   float64\ndtypes: float64(6)\nmemory usage: 1.3 MB\nNone\n##################################################\n\n diq (28242, 2) \n\n<class 'pandas.core.frame.DataFrame'>\nInt64Index: 28242 entries, 73557 to 102956\nData columns (total 2 columns):\n #   Column  Non-Null Count  Dtype  \n---  ------  --------------  -----  \n 0   DID040  2482 non-null   float64\n 1   DIQ170  18531 non-null  float64\ndtypes: float64(2)\nmemory usage: 661.9 KB\nNone\n##################################################\n\n smqrtu (20124, 2) \n\n<class 'pandas.core.frame.DataFrame'>\nInt64Index: 20124 entries, 73557 to 102956\nData columns (total 2 columns):\n #   Column  Non-Null Count  Dtype  \n---  ------  --------------  -----  \n 0   SMQ710  3022 non-null   float64\n 1   SMQ720  3022 non-null   float64\ndtypes: float64(2)\nmemory usage: 471.7 KB\nNone\n##################################################\n\n smq (20893, 1) \n\n<class 'pandas.core.frame.DataFrame'>\nInt64Index: 20893 entries, 73557 to 102956\nData columns (total 1 columns):\n #   Column  Non-Null Count  Dtype  \n---  ------  --------------  -----  \n 0   SMD030  7360 non-null   float64\ndtypes: float64(1)\nmemory usage: 326.5 KB\nNone\n##################################################\n\n mcq (28242, 10) \n\n<class 'pandas.core.frame.DataFrame'>\nInt64Index: 28242 entries, 73557 to 102956\nData columns (total 10 columns):\n #   Column   Non-Null Count  Dtype  \n---  ------   --------------  -----  \n 0   MCQ010   28241 non-null  float64\n 1   MCQ160B  17057 non-null  float64\n 2   MCQ160C  17057 non-null  float64\n 3   MCQ160D  17057 non-null  float64\n 4   MCQ160E  17057 non-null  float64\n 5   MCQ160F  17057 non-null  float64\n 6   MCQ220   17057 non-null  float64\n 7   MCQ230A  1684 non-null   float64\n 8   MCQ230B  188 non-null    float64\n 9   MCQ230C  21 non-null     float64\ndtypes: float64(10)\nmemory usage: 2.4 MB\nNone\n##################################################\n\n duq (14472, 2) \n\n<class 'pandas.core.frame.DataFrame'>\nInt64Index: 14472 entries, 73557 to 102956\nData columns (total 2 columns):\n #   Column  Non-Null Count  Dtype  \n---  ------  --------------  -----  \n 0   DUQ217  2691 non-null   float64\n 1   DUQ219  2691 non-null   float64\ndtypes: float64(2)\nmemory usage: 339.2 KB\nNone\n##################################################\n"
     ]
    }
   ],
   "source": [
    "for name, df in full_dfs.items():\n",
    "    print(\"\\n\", name , df.shape, \"\\n\")\n",
    "    print(df.info())\n",
    "    print(\"#\" * 50)"
   ]
  },
  {
   "source": [
    "I will have to drop \"duq\", \"smqrtu\", \"smq\" and \"paq\" files alltogether.\n",
    "\n",
    "Also the following variables:\n",
    "- BPD035\n",
    "- BPD030\n",
    "--------------\n",
    "- DID040\n",
    "--------------\n",
    "- MCQ230A\n",
    "- MCQ230B\n",
    "- MCQ230C"
   ],
   "cell_type": "markdown",
   "metadata": {}
  },
  {
   "cell_type": "code",
   "execution_count": 6,
   "metadata": {},
   "outputs": [],
   "source": [
    "mcq = full_dfs[\"mcq\"]\n",
    "bpq = full_dfs[\"bpq\"]\n",
    "diq = full_dfs[\"diq\"]"
   ]
  },
  {
   "cell_type": "code",
   "execution_count": 7,
   "metadata": {},
   "outputs": [
    {
     "output_type": "execute_result",
     "data": {
      "text/plain": [
       "2.0    23906\n",
       "1.0     4306\n",
       "9.0       27\n",
       "7.0        2\n",
       "Name: MCQ010, dtype: int64"
      ]
     },
     "metadata": {},
     "execution_count": 7
    }
   ],
   "source": [
    "mcq[\"MCQ010\"].value_counts()"
   ]
  },
  {
   "cell_type": "code",
   "execution_count": 8,
   "metadata": {},
   "outputs": [
    {
     "output_type": "execute_result",
     "data": {
      "text/plain": [
       "(1921, 10)"
      ]
     },
     "metadata": {},
     "execution_count": 8
    }
   ],
   "source": [
    "cond_1 = mcq[\"MCQ160B\"] == 1\n",
    "cond_2 = mcq[\"MCQ160C\"] == 1\n",
    "cond_3 = mcq[\"MCQ160D\"] == 1\n",
    "cond_4 = mcq[\"MCQ160E\"] == 1\n",
    "cond_5 = mcq[\"MCQ160F\"] == 1\n",
    "\n",
    "mcq[(cond_1) | (cond_2) | (cond_3) | (cond_4) | (cond_5)].shape"
   ]
  },
  {
   "cell_type": "code",
   "execution_count": 9,
   "metadata": {},
   "outputs": [],
   "source": [
    "bpq_2 = bpq.BPQ020\n",
    "diq_2 = diq.DIQ170\n",
    "mcq_2 = mcq.drop([\"MCQ230A\", \"MCQ230B\", \"MCQ230C\"], axis = 1)"
   ]
  },
  {
   "cell_type": "code",
   "execution_count": 10,
   "metadata": {},
   "outputs": [
    {
     "output_type": "execute_result",
     "data": {
      "text/plain": [
       "       MCQ010  MCQ160B  MCQ160C  MCQ160D  MCQ160E  MCQ160F  MCQ220  DIQ170  \\\n",
       "SEQN                                                                         \n",
       "73557     2.0      2.0      2.0      2.0      2.0      1.0     2.0     NaN   \n",
       "73558     1.0      2.0      2.0      2.0      2.0      2.0     2.0     NaN   \n",
       "73559     2.0      2.0      2.0      2.0      2.0      2.0     1.0     NaN   \n",
       "73560     2.0      NaN      NaN      NaN      NaN      NaN     NaN     NaN   \n",
       "73561     2.0      2.0      2.0      2.0      2.0      2.0     2.0     2.0   \n",
       "\n",
       "       BPQ020  \n",
       "SEQN           \n",
       "73557     1.0  \n",
       "73558     1.0  \n",
       "73559     1.0  \n",
       "73560     NaN  \n",
       "73561     1.0  "
      ],
      "text/html": "<div>\n<style scoped>\n    .dataframe tbody tr th:only-of-type {\n        vertical-align: middle;\n    }\n\n    .dataframe tbody tr th {\n        vertical-align: top;\n    }\n\n    .dataframe thead th {\n        text-align: right;\n    }\n</style>\n<table border=\"1\" class=\"dataframe\">\n  <thead>\n    <tr style=\"text-align: right;\">\n      <th></th>\n      <th>MCQ010</th>\n      <th>MCQ160B</th>\n      <th>MCQ160C</th>\n      <th>MCQ160D</th>\n      <th>MCQ160E</th>\n      <th>MCQ160F</th>\n      <th>MCQ220</th>\n      <th>DIQ170</th>\n      <th>BPQ020</th>\n    </tr>\n    <tr>\n      <th>SEQN</th>\n      <th></th>\n      <th></th>\n      <th></th>\n      <th></th>\n      <th></th>\n      <th></th>\n      <th></th>\n      <th></th>\n      <th></th>\n    </tr>\n  </thead>\n  <tbody>\n    <tr>\n      <th>73557</th>\n      <td>2.0</td>\n      <td>2.0</td>\n      <td>2.0</td>\n      <td>2.0</td>\n      <td>2.0</td>\n      <td>1.0</td>\n      <td>2.0</td>\n      <td>NaN</td>\n      <td>1.0</td>\n    </tr>\n    <tr>\n      <th>73558</th>\n      <td>1.0</td>\n      <td>2.0</td>\n      <td>2.0</td>\n      <td>2.0</td>\n      <td>2.0</td>\n      <td>2.0</td>\n      <td>2.0</td>\n      <td>NaN</td>\n      <td>1.0</td>\n    </tr>\n    <tr>\n      <th>73559</th>\n      <td>2.0</td>\n      <td>2.0</td>\n      <td>2.0</td>\n      <td>2.0</td>\n      <td>2.0</td>\n      <td>2.0</td>\n      <td>1.0</td>\n      <td>NaN</td>\n      <td>1.0</td>\n    </tr>\n    <tr>\n      <th>73560</th>\n      <td>2.0</td>\n      <td>NaN</td>\n      <td>NaN</td>\n      <td>NaN</td>\n      <td>NaN</td>\n      <td>NaN</td>\n      <td>NaN</td>\n      <td>NaN</td>\n      <td>NaN</td>\n    </tr>\n    <tr>\n      <th>73561</th>\n      <td>2.0</td>\n      <td>2.0</td>\n      <td>2.0</td>\n      <td>2.0</td>\n      <td>2.0</td>\n      <td>2.0</td>\n      <td>2.0</td>\n      <td>2.0</td>\n      <td>1.0</td>\n    </tr>\n  </tbody>\n</table>\n</div>"
     },
     "metadata": {},
     "execution_count": 10
    }
   ],
   "source": [
    "final_df = pd.merge(mcq_2, diq_2, how = \"outer\", on = \"SEQN\")\n",
    "final_df = pd.merge(final_df, bpq_2, how = \"outer\", on = \"SEQN\")\n",
    "\n",
    "final_df.head()"
   ]
  },
  {
   "cell_type": "code",
   "execution_count": 11,
   "metadata": {},
   "outputs": [
    {
     "output_type": "stream",
     "name": "stdout",
     "text": [
      "<class 'pandas.core.frame.DataFrame'>\nInt64Index: 28242 entries, 73557 to 102956\nData columns (total 9 columns):\n #   Column   Non-Null Count  Dtype  \n---  ------   --------------  -----  \n 0   MCQ010   28241 non-null  float64\n 1   MCQ160B  17057 non-null  float64\n 2   MCQ160C  17057 non-null  float64\n 3   MCQ160D  17057 non-null  float64\n 4   MCQ160E  17057 non-null  float64\n 5   MCQ160F  17057 non-null  float64\n 6   MCQ220   17057 non-null  float64\n 7   DIQ170   18531 non-null  float64\n 8   BPQ020   18952 non-null  float64\ndtypes: float64(9)\nmemory usage: 2.2 MB\n"
     ]
    }
   ],
   "source": [
    "final_df.info()"
   ]
  },
  {
   "cell_type": "code",
   "execution_count": 12,
   "metadata": {},
   "outputs": [
    {
     "output_type": "execute_result",
     "data": {
      "text/plain": [
       "2.0    12484\n",
       "1.0     2118\n",
       "9.0       13\n",
       "Name: MCQ010, dtype: int64"
      ]
     },
     "metadata": {},
     "execution_count": 12
    }
   ],
   "source": [
    "final_df.dropna().MCQ010.value_counts()"
   ]
  },
  {
   "cell_type": "code",
   "execution_count": 13,
   "metadata": {},
   "outputs": [
    {
     "output_type": "execute_result",
     "data": {
      "text/plain": [
       "2.0    23906\n",
       "1.0     4306\n",
       "9.0       27\n",
       "7.0        2\n",
       "Name: MCQ010, dtype: int64"
      ]
     },
     "metadata": {},
     "execution_count": 13
    }
   ],
   "source": [
    "final_df.MCQ010.value_counts()"
   ]
  },
  {
   "cell_type": "code",
   "execution_count": null,
   "metadata": {},
   "outputs": [],
   "source": []
  }
 ]
}