{
 "metadata": {
  "language_info": {
   "codemirror_mode": {
    "name": "ipython",
    "version": 3
   },
   "file_extension": ".py",
   "mimetype": "text/x-python",
   "name": "python",
   "nbconvert_exporter": "python",
   "pygments_lexer": "ipython3",
   "version": "3.7.4"
  },
  "orig_nbformat": 4,
  "kernelspec": {
   "name": "python3",
   "display_name": "Python 3.7.4 64-bit"
  },
  "interpreter": {
   "hash": "aee8b7b246df8f9039afb4144a1f6fd8d2ca17a180786b69acc140d282b71a49"
  }
 },
 "nbformat": 4,
 "nbformat_minor": 2,
 "cells": [
  {
   "cell_type": "code",
   "execution_count": 31,
   "metadata": {},
   "outputs": [],
   "source": [
    "import pandas as pd\n",
    "import numpy as np\n",
    "\n",
    "import seaborn as sns\n",
    "import matplotlib.pyplot as plt\n",
    "\n",
    "from sklearn.linear_model import LogisticRegression\n",
    "from sklearn.model_selection import train_test_split, RepeatedStratifiedKFold\n",
    "\n",
    "import sklearn.metrics as metrics\n",
    "\n",
    "from imblearn.over_sampling import SMOTE\n"
   ]
  },
  {
   "cell_type": "code",
   "execution_count": 2,
   "metadata": {},
   "outputs": [
    {
     "output_type": "execute_result",
     "data": {
      "text/plain": [
       "       SDDSRVYR  RIDSTATR  RIAGENDR  RIDAGEYR  RIDAGEMN  RIDRETH1  RIDRETH3  \\\n",
       "SEQN                                                                          \n",
       "93703        10         2         2         2       NaN         5         6   \n",
       "93704        10         2         1         2       NaN         3         3   \n",
       "\n",
       "       RIDEXMON  RIDEXAGM  DMQMILIZ  ...  DMDHREDZ  DMDHRMAZ  DMDHSEDZ  \\\n",
       "SEQN                                 ...                                 \n",
       "93703       2.0      27.0       NaN  ...       3.0       1.0       3.0   \n",
       "93704       1.0      33.0       NaN  ...       3.0       1.0       2.0   \n",
       "\n",
       "           WTINT2YR      WTMEC2YR  SDMVPSU  SDMVSTRA  INDHHIN2  INDFMIN2  \\\n",
       "SEQN                                                                       \n",
       "93703   9246.491865   8539.731348        2       145      15.0      15.0   \n",
       "93704  37338.768343  42566.614750        1       143      15.0      15.0   \n",
       "\n",
       "       INDFMPIR  \n",
       "SEQN             \n",
       "93703       5.0  \n",
       "93704       5.0  \n",
       "\n",
       "[2 rows x 45 columns]"
      ],
      "text/html": "<div>\n<style scoped>\n    .dataframe tbody tr th:only-of-type {\n        vertical-align: middle;\n    }\n\n    .dataframe tbody tr th {\n        vertical-align: top;\n    }\n\n    .dataframe thead th {\n        text-align: right;\n    }\n</style>\n<table border=\"1\" class=\"dataframe\">\n  <thead>\n    <tr style=\"text-align: right;\">\n      <th></th>\n      <th>SDDSRVYR</th>\n      <th>RIDSTATR</th>\n      <th>RIAGENDR</th>\n      <th>RIDAGEYR</th>\n      <th>RIDAGEMN</th>\n      <th>RIDRETH1</th>\n      <th>RIDRETH3</th>\n      <th>RIDEXMON</th>\n      <th>RIDEXAGM</th>\n      <th>DMQMILIZ</th>\n      <th>...</th>\n      <th>DMDHREDZ</th>\n      <th>DMDHRMAZ</th>\n      <th>DMDHSEDZ</th>\n      <th>WTINT2YR</th>\n      <th>WTMEC2YR</th>\n      <th>SDMVPSU</th>\n      <th>SDMVSTRA</th>\n      <th>INDHHIN2</th>\n      <th>INDFMIN2</th>\n      <th>INDFMPIR</th>\n    </tr>\n    <tr>\n      <th>SEQN</th>\n      <th></th>\n      <th></th>\n      <th></th>\n      <th></th>\n      <th></th>\n      <th></th>\n      <th></th>\n      <th></th>\n      <th></th>\n      <th></th>\n      <th></th>\n      <th></th>\n      <th></th>\n      <th></th>\n      <th></th>\n      <th></th>\n      <th></th>\n      <th></th>\n      <th></th>\n      <th></th>\n      <th></th>\n    </tr>\n  </thead>\n  <tbody>\n    <tr>\n      <th>93703</th>\n      <td>10</td>\n      <td>2</td>\n      <td>2</td>\n      <td>2</td>\n      <td>NaN</td>\n      <td>5</td>\n      <td>6</td>\n      <td>2.0</td>\n      <td>27.0</td>\n      <td>NaN</td>\n      <td>...</td>\n      <td>3.0</td>\n      <td>1.0</td>\n      <td>3.0</td>\n      <td>9246.491865</td>\n      <td>8539.731348</td>\n      <td>2</td>\n      <td>145</td>\n      <td>15.0</td>\n      <td>15.0</td>\n      <td>5.0</td>\n    </tr>\n    <tr>\n      <th>93704</th>\n      <td>10</td>\n      <td>2</td>\n      <td>1</td>\n      <td>2</td>\n      <td>NaN</td>\n      <td>3</td>\n      <td>3</td>\n      <td>1.0</td>\n      <td>33.0</td>\n      <td>NaN</td>\n      <td>...</td>\n      <td>3.0</td>\n      <td>1.0</td>\n      <td>2.0</td>\n      <td>37338.768343</td>\n      <td>42566.614750</td>\n      <td>1</td>\n      <td>143</td>\n      <td>15.0</td>\n      <td>15.0</td>\n      <td>5.0</td>\n    </tr>\n  </tbody>\n</table>\n<p>2 rows × 45 columns</p>\n</div>"
     },
     "metadata": {},
     "execution_count": 2
    }
   ],
   "source": [
    "# Demographics\n",
    "dem = pd.read_csv(\"../data/1_demographics/DEMO_J.csv\", index_col = 0)\n",
    "dem[\"SEQN\"] = dem[\"SEQN\"].map(int)\n",
    "dem.set_index(\"SEQN\", inplace = True)\n",
    "dem.head(2)"
   ]
  },
  {
   "cell_type": "code",
   "execution_count": 3,
   "metadata": {},
   "outputs": [
    {
     "output_type": "execute_result",
     "data": {
      "text/plain": [
       "             WTDRD1        WTDR2D  DR1DRSTZ  DR1EXMER  DRABF  DRDINT  DR1DBIH  \\\n",
       "SEQN                                                                            \n",
       "93703      0.000000           NaN         5       NaN    NaN     NaN      NaN   \n",
       "93704  81714.005497  82442.869214         1      49.0    2.0     2.0      7.0   \n",
       "\n",
       "       DR1DAY  DR1LANG  DR1MRESP  ...  DRD370QQ  DRD370R  DRD370RQ  DRD370S  \\\n",
       "SEQN                              ...                                         \n",
       "93703     NaN      NaN       NaN  ...       NaN      NaN       NaN      NaN   \n",
       "93704     2.0      1.0       2.0  ...       NaN      2.0       NaN      2.0   \n",
       "\n",
       "       DRD370SQ  DRD370T  DRD370TQ  DRD370U  DRD370UQ  DRD370V  \n",
       "SEQN                                                            \n",
       "93703       NaN      NaN       NaN      NaN       NaN      NaN  \n",
       "93704       NaN      2.0       NaN      2.0       NaN      2.0  \n",
       "\n",
       "[2 rows x 167 columns]"
      ],
      "text/html": "<div>\n<style scoped>\n    .dataframe tbody tr th:only-of-type {\n        vertical-align: middle;\n    }\n\n    .dataframe tbody tr th {\n        vertical-align: top;\n    }\n\n    .dataframe thead th {\n        text-align: right;\n    }\n</style>\n<table border=\"1\" class=\"dataframe\">\n  <thead>\n    <tr style=\"text-align: right;\">\n      <th></th>\n      <th>WTDRD1</th>\n      <th>WTDR2D</th>\n      <th>DR1DRSTZ</th>\n      <th>DR1EXMER</th>\n      <th>DRABF</th>\n      <th>DRDINT</th>\n      <th>DR1DBIH</th>\n      <th>DR1DAY</th>\n      <th>DR1LANG</th>\n      <th>DR1MRESP</th>\n      <th>...</th>\n      <th>DRD370QQ</th>\n      <th>DRD370R</th>\n      <th>DRD370RQ</th>\n      <th>DRD370S</th>\n      <th>DRD370SQ</th>\n      <th>DRD370T</th>\n      <th>DRD370TQ</th>\n      <th>DRD370U</th>\n      <th>DRD370UQ</th>\n      <th>DRD370V</th>\n    </tr>\n    <tr>\n      <th>SEQN</th>\n      <th></th>\n      <th></th>\n      <th></th>\n      <th></th>\n      <th></th>\n      <th></th>\n      <th></th>\n      <th></th>\n      <th></th>\n      <th></th>\n      <th></th>\n      <th></th>\n      <th></th>\n      <th></th>\n      <th></th>\n      <th></th>\n      <th></th>\n      <th></th>\n      <th></th>\n      <th></th>\n      <th></th>\n    </tr>\n  </thead>\n  <tbody>\n    <tr>\n      <th>93703</th>\n      <td>0.000000</td>\n      <td>NaN</td>\n      <td>5</td>\n      <td>NaN</td>\n      <td>NaN</td>\n      <td>NaN</td>\n      <td>NaN</td>\n      <td>NaN</td>\n      <td>NaN</td>\n      <td>NaN</td>\n      <td>...</td>\n      <td>NaN</td>\n      <td>NaN</td>\n      <td>NaN</td>\n      <td>NaN</td>\n      <td>NaN</td>\n      <td>NaN</td>\n      <td>NaN</td>\n      <td>NaN</td>\n      <td>NaN</td>\n      <td>NaN</td>\n    </tr>\n    <tr>\n      <th>93704</th>\n      <td>81714.005497</td>\n      <td>82442.869214</td>\n      <td>1</td>\n      <td>49.0</td>\n      <td>2.0</td>\n      <td>2.0</td>\n      <td>7.0</td>\n      <td>2.0</td>\n      <td>1.0</td>\n      <td>2.0</td>\n      <td>...</td>\n      <td>NaN</td>\n      <td>2.0</td>\n      <td>NaN</td>\n      <td>2.0</td>\n      <td>NaN</td>\n      <td>2.0</td>\n      <td>NaN</td>\n      <td>2.0</td>\n      <td>NaN</td>\n      <td>2.0</td>\n    </tr>\n  </tbody>\n</table>\n<p>2 rows × 167 columns</p>\n</div>"
     },
     "metadata": {},
     "execution_count": 3
    }
   ],
   "source": [
    "# Diet\n",
    "diet = pd.read_csv(\"../data/2_dietary/DR1TOT_J.csv\", index_col = 0)\n",
    "diet[\"SEQN\"] = diet[\"SEQN\"].map(int)\n",
    "diet.set_index(\"SEQN\", inplace = True)\n",
    "diet.head(2)"
   ]
  },
  {
   "cell_type": "code",
   "execution_count": 4,
   "metadata": {},
   "outputs": [
    {
     "output_type": "execute_result",
     "data": {
      "text/plain": [
       "       LBDHDD  LBDHDDSI  WTSAF2YR  LBXTR  LBDTRSI  LBDLDL  LBDLDLSI  LBDLDLM  \\\n",
       "SEQN                                                                           \n",
       "93705    60.0      1.55       NaN    NaN      NaN     NaN       NaN      NaN   \n",
       "93706    47.0      1.22       NaN    NaN      NaN     NaN       NaN      NaN   \n",
       "\n",
       "       LBDLDMSI  LBDLDLN  LBDLDNSI  LBXTC  LBDTCSI  \n",
       "SEQN                                                \n",
       "93705       NaN      NaN       NaN  157.0     4.06  \n",
       "93706       NaN      NaN       NaN  148.0     3.83  "
      ],
      "text/html": "<div>\n<style scoped>\n    .dataframe tbody tr th:only-of-type {\n        vertical-align: middle;\n    }\n\n    .dataframe tbody tr th {\n        vertical-align: top;\n    }\n\n    .dataframe thead th {\n        text-align: right;\n    }\n</style>\n<table border=\"1\" class=\"dataframe\">\n  <thead>\n    <tr style=\"text-align: right;\">\n      <th></th>\n      <th>LBDHDD</th>\n      <th>LBDHDDSI</th>\n      <th>WTSAF2YR</th>\n      <th>LBXTR</th>\n      <th>LBDTRSI</th>\n      <th>LBDLDL</th>\n      <th>LBDLDLSI</th>\n      <th>LBDLDLM</th>\n      <th>LBDLDMSI</th>\n      <th>LBDLDLN</th>\n      <th>LBDLDNSI</th>\n      <th>LBXTC</th>\n      <th>LBDTCSI</th>\n    </tr>\n    <tr>\n      <th>SEQN</th>\n      <th></th>\n      <th></th>\n      <th></th>\n      <th></th>\n      <th></th>\n      <th></th>\n      <th></th>\n      <th></th>\n      <th></th>\n      <th></th>\n      <th></th>\n      <th></th>\n      <th></th>\n    </tr>\n  </thead>\n  <tbody>\n    <tr>\n      <th>93705</th>\n      <td>60.0</td>\n      <td>1.55</td>\n      <td>NaN</td>\n      <td>NaN</td>\n      <td>NaN</td>\n      <td>NaN</td>\n      <td>NaN</td>\n      <td>NaN</td>\n      <td>NaN</td>\n      <td>NaN</td>\n      <td>NaN</td>\n      <td>157.0</td>\n      <td>4.06</td>\n    </tr>\n    <tr>\n      <th>93706</th>\n      <td>47.0</td>\n      <td>1.22</td>\n      <td>NaN</td>\n      <td>NaN</td>\n      <td>NaN</td>\n      <td>NaN</td>\n      <td>NaN</td>\n      <td>NaN</td>\n      <td>NaN</td>\n      <td>NaN</td>\n      <td>NaN</td>\n      <td>148.0</td>\n      <td>3.83</td>\n    </tr>\n  </tbody>\n</table>\n</div>"
     },
     "metadata": {},
     "execution_count": 4
    }
   ],
   "source": [
    "# Laboratory\n",
    "hdl = pd.read_csv(\"../data/4_laboratory/HDL_J.csv\", index_col = 0)\n",
    "hdl[\"SEQN\"] = hdl[\"SEQN\"].map(int)\n",
    "hdl.set_index(\"SEQN\", inplace = True)\n",
    "\n",
    "trigly = pd.read_csv(\"../data/4_laboratory/TRIGLY_J.csv\", index_col = 0)\n",
    "trigly[\"SEQN\"] = trigly[\"SEQN\"].map(int)\n",
    "trigly.set_index(\"SEQN\", inplace = True)\n",
    "\n",
    "tchol = pd.read_csv(\"../data/4_laboratory/TCHOL_J.csv\", index_col = 0)\n",
    "tchol[\"SEQN\"] = tchol[\"SEQN\"].map(int)\n",
    "tchol.set_index(\"SEQN\", inplace = True)\n",
    "\n",
    "laboratory = pd.merge(hdl, trigly, how = \"outer\", left_index = True, right_index = True)\n",
    "laboratory = pd.merge(laboratory, tchol, how = \"outer\", left_index = True, right_index = True)\n",
    "\n",
    "laboratory.head(2)"
   ]
  },
  {
   "cell_type": "code",
   "execution_count": 5,
   "metadata": {},
   "outputs": [
    {
     "output_type": "execute_result",
     "data": {
      "text/plain": [
       "       MCQ010  MCQ025  MCQ035  MCQ040  MCQ050  AGQ030  MCQ053  MCQ080  MCQ092  \\\n",
       "SEQN                                                                            \n",
       "93703       2     NaN     NaN     NaN     NaN     NaN       2     NaN     NaN   \n",
       "93704       2     NaN     NaN     NaN     NaN     NaN       2     NaN     NaN   \n",
       "\n",
       "       MCD093  ...  MCQ300A  MCQ366A  MCQ366B  MCQ366C  MCQ366D  MCQ371A  \\\n",
       "SEQN           ...                                                         \n",
       "93703     NaN  ...      NaN      NaN      NaN      NaN      NaN      NaN   \n",
       "93704     NaN  ...      NaN      NaN      NaN      NaN      NaN      NaN   \n",
       "\n",
       "       MCQ371B  MCQ371C  MCQ371D  OSQ230  \n",
       "SEQN                                      \n",
       "93703      NaN      NaN      NaN     NaN  \n",
       "93704      NaN      NaN      NaN     NaN  \n",
       "\n",
       "[2 rows x 75 columns]"
      ],
      "text/html": "<div>\n<style scoped>\n    .dataframe tbody tr th:only-of-type {\n        vertical-align: middle;\n    }\n\n    .dataframe tbody tr th {\n        vertical-align: top;\n    }\n\n    .dataframe thead th {\n        text-align: right;\n    }\n</style>\n<table border=\"1\" class=\"dataframe\">\n  <thead>\n    <tr style=\"text-align: right;\">\n      <th></th>\n      <th>MCQ010</th>\n      <th>MCQ025</th>\n      <th>MCQ035</th>\n      <th>MCQ040</th>\n      <th>MCQ050</th>\n      <th>AGQ030</th>\n      <th>MCQ053</th>\n      <th>MCQ080</th>\n      <th>MCQ092</th>\n      <th>MCD093</th>\n      <th>...</th>\n      <th>MCQ300A</th>\n      <th>MCQ366A</th>\n      <th>MCQ366B</th>\n      <th>MCQ366C</th>\n      <th>MCQ366D</th>\n      <th>MCQ371A</th>\n      <th>MCQ371B</th>\n      <th>MCQ371C</th>\n      <th>MCQ371D</th>\n      <th>OSQ230</th>\n    </tr>\n    <tr>\n      <th>SEQN</th>\n      <th></th>\n      <th></th>\n      <th></th>\n      <th></th>\n      <th></th>\n      <th></th>\n      <th></th>\n      <th></th>\n      <th></th>\n      <th></th>\n      <th></th>\n      <th></th>\n      <th></th>\n      <th></th>\n      <th></th>\n      <th></th>\n      <th></th>\n      <th></th>\n      <th></th>\n      <th></th>\n      <th></th>\n    </tr>\n  </thead>\n  <tbody>\n    <tr>\n      <th>93703</th>\n      <td>2</td>\n      <td>NaN</td>\n      <td>NaN</td>\n      <td>NaN</td>\n      <td>NaN</td>\n      <td>NaN</td>\n      <td>2</td>\n      <td>NaN</td>\n      <td>NaN</td>\n      <td>NaN</td>\n      <td>...</td>\n      <td>NaN</td>\n      <td>NaN</td>\n      <td>NaN</td>\n      <td>NaN</td>\n      <td>NaN</td>\n      <td>NaN</td>\n      <td>NaN</td>\n      <td>NaN</td>\n      <td>NaN</td>\n      <td>NaN</td>\n    </tr>\n    <tr>\n      <th>93704</th>\n      <td>2</td>\n      <td>NaN</td>\n      <td>NaN</td>\n      <td>NaN</td>\n      <td>NaN</td>\n      <td>NaN</td>\n      <td>2</td>\n      <td>NaN</td>\n      <td>NaN</td>\n      <td>NaN</td>\n      <td>...</td>\n      <td>NaN</td>\n      <td>NaN</td>\n      <td>NaN</td>\n      <td>NaN</td>\n      <td>NaN</td>\n      <td>NaN</td>\n      <td>NaN</td>\n      <td>NaN</td>\n      <td>NaN</td>\n      <td>NaN</td>\n    </tr>\n  </tbody>\n</table>\n<p>2 rows × 75 columns</p>\n</div>"
     },
     "metadata": {},
     "execution_count": 5
    }
   ],
   "source": [
    "# Questionnaire: Medical Condition\n",
    "med_cond = pd.read_csv(\"../data/5_questionnaire/MCQ_J.csv\", index_col = 0)\n",
    "med_cond[\"SEQN\"] = med_cond[\"SEQN\"].map(int)\n",
    "med_cond.set_index(\"SEQN\", inplace = True)\n",
    "med_cond.head(2)"
   ]
  },
  {
   "cell_type": "code",
   "execution_count": 6,
   "metadata": {},
   "outputs": [
    {
     "output_type": "execute_result",
     "data": {
      "text/plain": [
       "       SDDSRVYR  RIDSTATR  RIAGENDR  RIDAGEYR  RIDAGEMN  RIDRETH1  RIDRETH3  \\\n",
       "SEQN                                                                          \n",
       "93703        10         2         2         2       NaN         5         6   \n",
       "93704        10         2         1         2       NaN         3         3   \n",
       "93705        10         2         2        66       NaN         4         4   \n",
       "93706        10         2         1        18       NaN         5         6   \n",
       "93707        10         2         1        13       NaN         5         7   \n",
       "\n",
       "       RIDEXMON  RIDEXAGM  DMQMILIZ  ...  MCQ300A  MCQ366A  MCQ366B  MCQ366C  \\\n",
       "SEQN                                 ...                                       \n",
       "93703       2.0      27.0       NaN  ...      NaN      NaN      NaN      NaN   \n",
       "93704       1.0      33.0       NaN  ...      NaN      NaN      NaN      NaN   \n",
       "93705       2.0       NaN       2.0  ...      2.0      2.0      2.0      2.0   \n",
       "93706       2.0     222.0       2.0  ...      NaN      2.0      2.0      2.0   \n",
       "93707       2.0     158.0       NaN  ...      NaN      NaN      NaN      NaN   \n",
       "\n",
       "       MCQ366D  MCQ371A  MCQ371B  MCQ371C  MCQ371D  OSQ230  \n",
       "SEQN                                                        \n",
       "93703      NaN      NaN      NaN      NaN      NaN     NaN  \n",
       "93704      NaN      NaN      NaN      NaN      NaN     NaN  \n",
       "93705      2.0      1.0      1.0      1.0      1.0     2.0  \n",
       "93706      2.0      2.0      2.0      2.0      2.0     NaN  \n",
       "93707      NaN      NaN      NaN      NaN      NaN     NaN  \n",
       "\n",
       "[5 rows x 300 columns]"
      ],
      "text/html": "<div>\n<style scoped>\n    .dataframe tbody tr th:only-of-type {\n        vertical-align: middle;\n    }\n\n    .dataframe tbody tr th {\n        vertical-align: top;\n    }\n\n    .dataframe thead th {\n        text-align: right;\n    }\n</style>\n<table border=\"1\" class=\"dataframe\">\n  <thead>\n    <tr style=\"text-align: right;\">\n      <th></th>\n      <th>SDDSRVYR</th>\n      <th>RIDSTATR</th>\n      <th>RIAGENDR</th>\n      <th>RIDAGEYR</th>\n      <th>RIDAGEMN</th>\n      <th>RIDRETH1</th>\n      <th>RIDRETH3</th>\n      <th>RIDEXMON</th>\n      <th>RIDEXAGM</th>\n      <th>DMQMILIZ</th>\n      <th>...</th>\n      <th>MCQ300A</th>\n      <th>MCQ366A</th>\n      <th>MCQ366B</th>\n      <th>MCQ366C</th>\n      <th>MCQ366D</th>\n      <th>MCQ371A</th>\n      <th>MCQ371B</th>\n      <th>MCQ371C</th>\n      <th>MCQ371D</th>\n      <th>OSQ230</th>\n    </tr>\n    <tr>\n      <th>SEQN</th>\n      <th></th>\n      <th></th>\n      <th></th>\n      <th></th>\n      <th></th>\n      <th></th>\n      <th></th>\n      <th></th>\n      <th></th>\n      <th></th>\n      <th></th>\n      <th></th>\n      <th></th>\n      <th></th>\n      <th></th>\n      <th></th>\n      <th></th>\n      <th></th>\n      <th></th>\n      <th></th>\n      <th></th>\n    </tr>\n  </thead>\n  <tbody>\n    <tr>\n      <th>93703</th>\n      <td>10</td>\n      <td>2</td>\n      <td>2</td>\n      <td>2</td>\n      <td>NaN</td>\n      <td>5</td>\n      <td>6</td>\n      <td>2.0</td>\n      <td>27.0</td>\n      <td>NaN</td>\n      <td>...</td>\n      <td>NaN</td>\n      <td>NaN</td>\n      <td>NaN</td>\n      <td>NaN</td>\n      <td>NaN</td>\n      <td>NaN</td>\n      <td>NaN</td>\n      <td>NaN</td>\n      <td>NaN</td>\n      <td>NaN</td>\n    </tr>\n    <tr>\n      <th>93704</th>\n      <td>10</td>\n      <td>2</td>\n      <td>1</td>\n      <td>2</td>\n      <td>NaN</td>\n      <td>3</td>\n      <td>3</td>\n      <td>1.0</td>\n      <td>33.0</td>\n      <td>NaN</td>\n      <td>...</td>\n      <td>NaN</td>\n      <td>NaN</td>\n      <td>NaN</td>\n      <td>NaN</td>\n      <td>NaN</td>\n      <td>NaN</td>\n      <td>NaN</td>\n      <td>NaN</td>\n      <td>NaN</td>\n      <td>NaN</td>\n    </tr>\n    <tr>\n      <th>93705</th>\n      <td>10</td>\n      <td>2</td>\n      <td>2</td>\n      <td>66</td>\n      <td>NaN</td>\n      <td>4</td>\n      <td>4</td>\n      <td>2.0</td>\n      <td>NaN</td>\n      <td>2.0</td>\n      <td>...</td>\n      <td>2.0</td>\n      <td>2.0</td>\n      <td>2.0</td>\n      <td>2.0</td>\n      <td>2.0</td>\n      <td>1.0</td>\n      <td>1.0</td>\n      <td>1.0</td>\n      <td>1.0</td>\n      <td>2.0</td>\n    </tr>\n    <tr>\n      <th>93706</th>\n      <td>10</td>\n      <td>2</td>\n      <td>1</td>\n      <td>18</td>\n      <td>NaN</td>\n      <td>5</td>\n      <td>6</td>\n      <td>2.0</td>\n      <td>222.0</td>\n      <td>2.0</td>\n      <td>...</td>\n      <td>NaN</td>\n      <td>2.0</td>\n      <td>2.0</td>\n      <td>2.0</td>\n      <td>2.0</td>\n      <td>2.0</td>\n      <td>2.0</td>\n      <td>2.0</td>\n      <td>2.0</td>\n      <td>NaN</td>\n    </tr>\n    <tr>\n      <th>93707</th>\n      <td>10</td>\n      <td>2</td>\n      <td>1</td>\n      <td>13</td>\n      <td>NaN</td>\n      <td>5</td>\n      <td>7</td>\n      <td>2.0</td>\n      <td>158.0</td>\n      <td>NaN</td>\n      <td>...</td>\n      <td>NaN</td>\n      <td>NaN</td>\n      <td>NaN</td>\n      <td>NaN</td>\n      <td>NaN</td>\n      <td>NaN</td>\n      <td>NaN</td>\n      <td>NaN</td>\n      <td>NaN</td>\n      <td>NaN</td>\n    </tr>\n  </tbody>\n</table>\n<p>5 rows × 300 columns</p>\n</div>"
     },
     "metadata": {},
     "execution_count": 6
    }
   ],
   "source": [
    "# Joining everything together\n",
    "\n",
    "full_data = pd.merge(dem, diet, how = \"outer\", left_index = True, right_index = True)\n",
    "full_data = pd.merge(full_data, laboratory, how = \"outer\", left_index = True, right_index = True)\n",
    "full_data = pd.merge(full_data, med_cond, how = \"outer\", left_index = True, right_index = True)\n",
    "\n",
    "full_data.head()"
   ]
  },
  {
   "cell_type": "code",
   "execution_count": 7,
   "metadata": {},
   "outputs": [
    {
     "output_type": "execute_result",
     "data": {
      "text/plain": [
       "(9254, 300)"
      ]
     },
     "metadata": {},
     "execution_count": 7
    }
   ],
   "source": [
    "full_data.shape"
   ]
  },
  {
   "cell_type": "code",
   "execution_count": 8,
   "metadata": {},
   "outputs": [
    {
     "output_type": "execute_result",
     "data": {
      "text/plain": [
       "       RIAGENDR  DMDHRAGZ  DR1TALCO  DR1TCHOL  DR1TFA  DR1TFIBE  DR1TPFAT  \\\n",
       "SEQN                                                                        \n",
       "93703         2         2       NaN       NaN     NaN       NaN       NaN   \n",
       "93704         1         2       0.0     144.0    33.0       5.9    12.506   \n",
       "\n",
       "       DR1TSFAT  DR1TSUGR  DR1TTFAT  MCD180A  MCD180B  MCD180C  MCD180D  \\\n",
       "SEQN                                                                      \n",
       "93703       NaN       NaN       NaN      NaN      NaN      NaN      NaN   \n",
       "93704    11.372     76.97     43.24      NaN      NaN      NaN      NaN   \n",
       "\n",
       "       MCD180E  MCD180F  MCD240A  MCD240B  MCD240C  MCQ010  \n",
       "SEQN                                                        \n",
       "93703      NaN      NaN      NaN      NaN      NaN     2.0  \n",
       "93704      NaN      NaN      NaN      NaN      NaN     2.0  "
      ],
      "text/html": "<div>\n<style scoped>\n    .dataframe tbody tr th:only-of-type {\n        vertical-align: middle;\n    }\n\n    .dataframe tbody tr th {\n        vertical-align: top;\n    }\n\n    .dataframe thead th {\n        text-align: right;\n    }\n</style>\n<table border=\"1\" class=\"dataframe\">\n  <thead>\n    <tr style=\"text-align: right;\">\n      <th></th>\n      <th>RIAGENDR</th>\n      <th>DMDHRAGZ</th>\n      <th>DR1TALCO</th>\n      <th>DR1TCHOL</th>\n      <th>DR1TFA</th>\n      <th>DR1TFIBE</th>\n      <th>DR1TPFAT</th>\n      <th>DR1TSFAT</th>\n      <th>DR1TSUGR</th>\n      <th>DR1TTFAT</th>\n      <th>MCD180A</th>\n      <th>MCD180B</th>\n      <th>MCD180C</th>\n      <th>MCD180D</th>\n      <th>MCD180E</th>\n      <th>MCD180F</th>\n      <th>MCD240A</th>\n      <th>MCD240B</th>\n      <th>MCD240C</th>\n      <th>MCQ010</th>\n    </tr>\n    <tr>\n      <th>SEQN</th>\n      <th></th>\n      <th></th>\n      <th></th>\n      <th></th>\n      <th></th>\n      <th></th>\n      <th></th>\n      <th></th>\n      <th></th>\n      <th></th>\n      <th></th>\n      <th></th>\n      <th></th>\n      <th></th>\n      <th></th>\n      <th></th>\n      <th></th>\n      <th></th>\n      <th></th>\n      <th></th>\n    </tr>\n  </thead>\n  <tbody>\n    <tr>\n      <th>93703</th>\n      <td>2</td>\n      <td>2</td>\n      <td>NaN</td>\n      <td>NaN</td>\n      <td>NaN</td>\n      <td>NaN</td>\n      <td>NaN</td>\n      <td>NaN</td>\n      <td>NaN</td>\n      <td>NaN</td>\n      <td>NaN</td>\n      <td>NaN</td>\n      <td>NaN</td>\n      <td>NaN</td>\n      <td>NaN</td>\n      <td>NaN</td>\n      <td>NaN</td>\n      <td>NaN</td>\n      <td>NaN</td>\n      <td>2.0</td>\n    </tr>\n    <tr>\n      <th>93704</th>\n      <td>1</td>\n      <td>2</td>\n      <td>0.0</td>\n      <td>144.0</td>\n      <td>33.0</td>\n      <td>5.9</td>\n      <td>12.506</td>\n      <td>11.372</td>\n      <td>76.97</td>\n      <td>43.24</td>\n      <td>NaN</td>\n      <td>NaN</td>\n      <td>NaN</td>\n      <td>NaN</td>\n      <td>NaN</td>\n      <td>NaN</td>\n      <td>NaN</td>\n      <td>NaN</td>\n      <td>NaN</td>\n      <td>2.0</td>\n    </tr>\n  </tbody>\n</table>\n</div>"
     },
     "metadata": {},
     "execution_count": 8
    }
   ],
   "source": [
    "columns = [\"RIAGENDR\", \"DMDHRAGZ\", \"DR1TALCO\", \"DR1TCHOL\", \"DR1TFA\", \"DR1TFIBE\", \"DR1TPFAT\", \"DR1TSFAT\", \"DR1TSUGR\", \"DR1TTFAT\", \"MCD180A\", \"MCD180B\", \"MCD180C\", \"MCD180D\", \"MCD180E\", \"MCD180F\", \"MCD240A\", \"MCD240B\", \"MCD240C\", \"MCQ010\"]\n",
    "\n",
    "df = full_data[columns]\n",
    "df.head(2)"
   ]
  },
  {
   "cell_type": "code",
   "execution_count": 9,
   "metadata": {},
   "outputs": [
    {
     "output_type": "stream",
     "name": "stdout",
     "text": [
      "<class 'pandas.core.frame.DataFrame'>\nInt64Index: 9254 entries, 93703 to 102956\nData columns (total 20 columns):\n #   Column    Non-Null Count  Dtype  \n---  ------    --------------  -----  \n 0   RIAGENDR  9254 non-null   int64  \n 1   DMDHRAGZ  9254 non-null   int64  \n 2   DR1TALCO  7484 non-null   float64\n 3   DR1TCHOL  7484 non-null   float64\n 4   DR1TFA    7484 non-null   float64\n 5   DR1TFIBE  7484 non-null   float64\n 6   DR1TPFAT  7484 non-null   float64\n 7   DR1TSFAT  7484 non-null   float64\n 8   DR1TSUGR  7484 non-null   float64\n 9   DR1TTFAT  7484 non-null   float64\n 10  MCD180A   1695 non-null   float64\n 11  MCD180B   201 non-null    float64\n 12  MCD180C   265 non-null    float64\n 13  MCD180D   161 non-null    float64\n 14  MCD180E   270 non-null    float64\n 15  MCD180F   273 non-null    float64\n 16  MCD240A   587 non-null    float64\n 17  MCD240B   64 non-null     float64\n 18  MCD240C   9 non-null      float64\n 19  MCQ010    8897 non-null   float64\ndtypes: float64(18), int64(2)\nmemory usage: 1.5 MB\n"
     ]
    }
   ],
   "source": [
    "df.info()"
   ]
  },
  {
   "cell_type": "code",
   "execution_count": 10,
   "metadata": {},
   "outputs": [
    {
     "output_type": "stream",
     "name": "stderr",
     "text": [
      "ipykernel_launcher:8: SettingWithCopyWarning: \nA value is trying to be set on a copy of a slice from a DataFrame.\nTry using .loc[row_indexer,col_indexer] = value instead\n\nSee the caveats in the documentation: https://pandas.pydata.org/pandas-docs/stable/user_guide/indexing.html#returning-a-view-versus-a-copy\n/Library/Frameworks/Python.framework/Versions/3.7/lib/python3.7/site-packages/pandas/core/indexing.py:1720: SettingWithCopyWarning: \nA value is trying to be set on a copy of a slice from a DataFrame.\nTry using .loc[row_indexer,col_indexer] = value instead\n\nSee the caveats in the documentation: https://pandas.pydata.org/pandas-docs/stable/user_guide/indexing.html#returning-a-view-versus-a-copy\n  self._setitem_single_column(loc, value, pi)\n"
     ]
    },
    {
     "output_type": "execute_result",
     "data": {
      "text/plain": [
       "       RIAGENDR  DMDHRAGZ  DR1TALCO  DR1TCHOL  DR1TFA  DR1TFIBE  DR1TPFAT  \\\n",
       "SEQN                                                                        \n",
       "93703         2         2       NaN       NaN     NaN       NaN       NaN   \n",
       "93704         1         2       0.0     144.0    33.0       5.9    12.506   \n",
       "93705         2         4       0.0      14.0    32.0       8.4    19.786   \n",
       "93706         1         4       0.0     462.0   125.0       7.1    49.873   \n",
       "93707         1         3       0.0     585.0    15.0      10.9    12.424   \n",
       "\n",
       "       DR1TSFAT  DR1TSUGR  DR1TTFAT  ...  MCD180B  MCD180C  MCD180D  MCD180E  \\\n",
       "SEQN                                 ...                                       \n",
       "93703       NaN       NaN       NaN  ...      NaN      NaN      NaN      NaN   \n",
       "93704    11.372     76.97     43.24  ...      NaN      NaN      NaN      NaN   \n",
       "93705    16.435     91.55     56.98  ...      NaN      NaN      NaN      NaN   \n",
       "93706    35.169     14.73    137.39  ...      NaN      NaN      NaN      NaN   \n",
       "93707    33.252     84.22     89.18  ...      NaN      NaN      NaN      NaN   \n",
       "\n",
       "       MCD180F  MCD240A  MCD240B  MCD240C  MCQ010  heart  \n",
       "SEQN                                                      \n",
       "93703      NaN      NaN      NaN      NaN     2.0      0  \n",
       "93704      NaN      NaN      NaN      NaN     2.0      0  \n",
       "93705      NaN      NaN      NaN      NaN     1.0      0  \n",
       "93706      NaN      NaN      NaN      NaN     2.0      0  \n",
       "93707      NaN      NaN      NaN      NaN     2.0      0  \n",
       "\n",
       "[5 rows x 21 columns]"
      ],
      "text/html": "<div>\n<style scoped>\n    .dataframe tbody tr th:only-of-type {\n        vertical-align: middle;\n    }\n\n    .dataframe tbody tr th {\n        vertical-align: top;\n    }\n\n    .dataframe thead th {\n        text-align: right;\n    }\n</style>\n<table border=\"1\" class=\"dataframe\">\n  <thead>\n    <tr style=\"text-align: right;\">\n      <th></th>\n      <th>RIAGENDR</th>\n      <th>DMDHRAGZ</th>\n      <th>DR1TALCO</th>\n      <th>DR1TCHOL</th>\n      <th>DR1TFA</th>\n      <th>DR1TFIBE</th>\n      <th>DR1TPFAT</th>\n      <th>DR1TSFAT</th>\n      <th>DR1TSUGR</th>\n      <th>DR1TTFAT</th>\n      <th>...</th>\n      <th>MCD180B</th>\n      <th>MCD180C</th>\n      <th>MCD180D</th>\n      <th>MCD180E</th>\n      <th>MCD180F</th>\n      <th>MCD240A</th>\n      <th>MCD240B</th>\n      <th>MCD240C</th>\n      <th>MCQ010</th>\n      <th>heart</th>\n    </tr>\n    <tr>\n      <th>SEQN</th>\n      <th></th>\n      <th></th>\n      <th></th>\n      <th></th>\n      <th></th>\n      <th></th>\n      <th></th>\n      <th></th>\n      <th></th>\n      <th></th>\n      <th></th>\n      <th></th>\n      <th></th>\n      <th></th>\n      <th></th>\n      <th></th>\n      <th></th>\n      <th></th>\n      <th></th>\n      <th></th>\n      <th></th>\n    </tr>\n  </thead>\n  <tbody>\n    <tr>\n      <th>93703</th>\n      <td>2</td>\n      <td>2</td>\n      <td>NaN</td>\n      <td>NaN</td>\n      <td>NaN</td>\n      <td>NaN</td>\n      <td>NaN</td>\n      <td>NaN</td>\n      <td>NaN</td>\n      <td>NaN</td>\n      <td>...</td>\n      <td>NaN</td>\n      <td>NaN</td>\n      <td>NaN</td>\n      <td>NaN</td>\n      <td>NaN</td>\n      <td>NaN</td>\n      <td>NaN</td>\n      <td>NaN</td>\n      <td>2.0</td>\n      <td>0</td>\n    </tr>\n    <tr>\n      <th>93704</th>\n      <td>1</td>\n      <td>2</td>\n      <td>0.0</td>\n      <td>144.0</td>\n      <td>33.0</td>\n      <td>5.9</td>\n      <td>12.506</td>\n      <td>11.372</td>\n      <td>76.97</td>\n      <td>43.24</td>\n      <td>...</td>\n      <td>NaN</td>\n      <td>NaN</td>\n      <td>NaN</td>\n      <td>NaN</td>\n      <td>NaN</td>\n      <td>NaN</td>\n      <td>NaN</td>\n      <td>NaN</td>\n      <td>2.0</td>\n      <td>0</td>\n    </tr>\n    <tr>\n      <th>93705</th>\n      <td>2</td>\n      <td>4</td>\n      <td>0.0</td>\n      <td>14.0</td>\n      <td>32.0</td>\n      <td>8.4</td>\n      <td>19.786</td>\n      <td>16.435</td>\n      <td>91.55</td>\n      <td>56.98</td>\n      <td>...</td>\n      <td>NaN</td>\n      <td>NaN</td>\n      <td>NaN</td>\n      <td>NaN</td>\n      <td>NaN</td>\n      <td>NaN</td>\n      <td>NaN</td>\n      <td>NaN</td>\n      <td>1.0</td>\n      <td>0</td>\n    </tr>\n    <tr>\n      <th>93706</th>\n      <td>1</td>\n      <td>4</td>\n      <td>0.0</td>\n      <td>462.0</td>\n      <td>125.0</td>\n      <td>7.1</td>\n      <td>49.873</td>\n      <td>35.169</td>\n      <td>14.73</td>\n      <td>137.39</td>\n      <td>...</td>\n      <td>NaN</td>\n      <td>NaN</td>\n      <td>NaN</td>\n      <td>NaN</td>\n      <td>NaN</td>\n      <td>NaN</td>\n      <td>NaN</td>\n      <td>NaN</td>\n      <td>2.0</td>\n      <td>0</td>\n    </tr>\n    <tr>\n      <th>93707</th>\n      <td>1</td>\n      <td>3</td>\n      <td>0.0</td>\n      <td>585.0</td>\n      <td>15.0</td>\n      <td>10.9</td>\n      <td>12.424</td>\n      <td>33.252</td>\n      <td>84.22</td>\n      <td>89.18</td>\n      <td>...</td>\n      <td>NaN</td>\n      <td>NaN</td>\n      <td>NaN</td>\n      <td>NaN</td>\n      <td>NaN</td>\n      <td>NaN</td>\n      <td>NaN</td>\n      <td>NaN</td>\n      <td>2.0</td>\n      <td>0</td>\n    </tr>\n  </tbody>\n</table>\n<p>5 rows × 21 columns</p>\n</div>"
     },
     "metadata": {},
     "execution_count": 10
    }
   ],
   "source": [
    "cond1 = df[\"MCD180B\"].notna() == True\n",
    "cond2 = df[\"MCD180C\"].notna() == True\n",
    "cond3 = df[\"MCD180D\"].notna() == True\n",
    "cond4 = df[\"MCD180E\"].notna() == True\n",
    "cond5 = df[\"MCD180F\"].notna() == True\n",
    "\n",
    "#heart_issues_sample = df[(cond1) | (cond2) | (cond3) | (cond4) | (cond5)]\n",
    "df[\"heart\"] = 0\n",
    "df.loc[(cond1) | (cond2) | (cond3) | (cond4) | (cond5), \"heart\"] = 1\n",
    "df.head()"
   ]
  },
  {
   "cell_type": "code",
   "execution_count": 11,
   "metadata": {},
   "outputs": [
    {
     "output_type": "execute_result",
     "data": {
      "text/plain": [
       "0    8563\n",
       "1     691\n",
       "Name: heart, dtype: int64"
      ]
     },
     "metadata": {},
     "execution_count": 11
    }
   ],
   "source": [
    "df.heart.value_counts()"
   ]
  },
  {
   "source": [
    "to_check = df[columns]\n",
    "\n",
    "corr = to_check.corr()\n",
    "mask = np.zeros_like(corr)\n",
    "mask[np.triu_indices_from(mask)] = True\n",
    "\n",
    "with sns.axes_style(\"white\"):\n",
    "    f, ax = plt.subplots(figsize=(14, 14))\n",
    "    ax = sns.heatmap(corr, annot = True, linewidths = .05, mask=mask, vmax=.3, square=True, cmap = \"YlGnBu\")"
   ],
   "cell_type": "markdown",
   "metadata": {}
  },
  {
   "cell_type": "code",
   "execution_count": 12,
   "metadata": {},
   "outputs": [
    {
     "output_type": "execute_result",
     "data": {
      "text/plain": [
       "RIAGENDR       0\n",
       "DMDHRAGZ       0\n",
       "DR1TALCO    1770\n",
       "DR1TCHOL    1770\n",
       "DR1TFA      1770\n",
       "DR1TFIBE    1770\n",
       "DR1TPFAT    1770\n",
       "DR1TSFAT    1770\n",
       "DR1TSUGR    1770\n",
       "DR1TTFAT    1770\n",
       "MCD180A     7559\n",
       "MCD180B     9053\n",
       "MCD180C     8989\n",
       "MCD180D     9093\n",
       "MCD180E     8984\n",
       "MCD180F     8981\n",
       "MCD240A     8667\n",
       "MCD240B     9190\n",
       "MCD240C     9245\n",
       "MCQ010       357\n",
       "heart          0\n",
       "dtype: int64"
      ]
     },
     "metadata": {},
     "execution_count": 12
    }
   ],
   "source": [
    "df.isna().sum()"
   ]
  },
  {
   "cell_type": "code",
   "execution_count": 18,
   "metadata": {},
   "outputs": [
    {
     "output_type": "execute_result",
     "data": {
      "text/plain": [
       "(7484, 8)"
      ]
     },
     "metadata": {},
     "execution_count": 18
    }
   ],
   "source": [
    "df2 = df[[\"RIAGENDR\", \"DMDHRAGZ\", \"DR1TALCO\", \"DR1TCHOL\", \"DR1TFA\", \"DR1TFIBE\", \"DR1TPFAT\", \"heart\"]].dropna()\n",
    "df2.shape"
   ]
  },
  {
   "cell_type": "code",
   "execution_count": 50,
   "metadata": {},
   "outputs": [],
   "source": [
    "# Variables\n",
    "X = np.array(df2.drop(\"heart\", axis = 1))\n",
    "y = np.array(df2[\"heart\"])\n",
    "\n",
    "# Train-test split\n",
    "X_train, X_test, y_train, y_test = train_test_split(X, y, test_size = .2, random_state = 42)\n",
    "\n",
    "# Oversampling\n",
    "sm = SMOTE(sampling_strategy = .5, random_state = 42, n_jobs = -1)\n",
    "X_train, y_train = sm.fit_resample(X_train, y_train)\n",
    "\n",
    "# Cros validation\n",
    "kfold = RepeatedStratifiedKFold(n_splits = 5, n_repeats = 1, random_state = 42)\n",
    "\n",
    "# Model\n",
    "model = LogisticRegression(n_jobs = -1)"
   ]
  },
  {
   "cell_type": "code",
   "execution_count": 51,
   "metadata": {},
   "outputs": [
    {
     "output_type": "stream",
     "name": "stdout",
     "text": [
      "Model 1:\n",
      "Train score: 0.7319680770968228\n",
      "Validation score: 0.7188440698374473\n",
      "\n",
      "Confusion matrix\n",
      " [[939 168]\n",
      " [299 255]]\n",
      "\n",
      "##################################################\n",
      "\n",
      "Model 2:\n",
      "Train score: 0.7544044571600662\n",
      "Validation score: 0.7627934978928357\n",
      "\n",
      "Confusion matrix\n",
      " [[964 143]\n",
      " [251 303]]\n",
      "\n",
      "##################################################\n",
      "\n",
      "Model 3:\n",
      "Train score: 0.7497741644083108\n",
      "Validation score: 0.7451807228915662\n",
      "\n",
      "Confusion matrix\n",
      " [[984 123]\n",
      " [300 253]]\n",
      "\n",
      "##################################################\n",
      "\n",
      "Model 4:\n",
      "Train score: 0.7259861487503764\n",
      "Validation score: 0.7373493975903614\n",
      "\n",
      "Confusion matrix\n",
      " [[960 147]\n",
      " [289 264]]\n",
      "\n",
      "##################################################\n",
      "\n",
      "Model 5:\n",
      "Train score: 0.746461909063535\n",
      "Validation score: 0.7512048192771085\n",
      "\n",
      "Confusion matrix\n",
      " [[995 112]\n",
      " [301 252]]\n",
      "\n",
      "##################################################\n",
      "\n"
     ]
    }
   ],
   "source": [
    "count = 1\n",
    "\n",
    "# Cross validation\n",
    "for (train, val) in kfold.split(X_train, y_train):\n",
    "    # Train-Validation sets\n",
    "    x_t, y_t = X_train[train], y_train[train]\n",
    "    x_v, y_v = X_train[val], y_train[val]\n",
    "\n",
    "    # Training\n",
    "    model.fit(x_t, y_t)\n",
    "\n",
    "    # Scores\n",
    "    train_score_ = model.score(x_t, y_t)\n",
    "    test_score_ = model.score(x_v, y_v)\n",
    "\n",
    "    # Prediction\n",
    "    prediction = model.predict(x_v)\n",
    "\n",
    "    # Confusion matrix\n",
    "    cm = metrics.confusion_matrix(y_v, prediction)\n",
    "\n",
    "    print(f\"Model {count}:\")\n",
    "    print(\"Train score:\", train_score_)\n",
    "    print(\"Validation score:\", test_score_)\n",
    "    print(\"\\nConfusion matrix\\n\", cm)\n",
    "    print(\"\")\n",
    "    print(\"#\" * 50)\n",
    "    print(\"\")\n",
    "\n",
    "    count += 1"
   ]
  },
  {
   "cell_type": "code",
   "execution_count": 52,
   "metadata": {},
   "outputs": [
    {
     "output_type": "stream",
     "name": "stdout",
     "text": [
      "Train set model:\n\nTrain score: 0.7344013490725126\nTest score: 0.7822311289245157\n\nConfusion matrix (test data)\n [[1094  280]\n [  46   77]]\n\nMetrics:\nPrecision: 0.21568627450980393\nRecall: 0.6260162601626016\nF1-score: 0.32083333333333336\n"
     ]
    }
   ],
   "source": [
    "# Training with full train_data\n",
    "model.fit(X_train, y_train)\n",
    "\n",
    "# Scores\n",
    "train_score_ = model.score(X_train, y_train)\n",
    "test_score_ = model.score(X_test, y_test)\n",
    "\n",
    "# Prediction\n",
    "prediction = model.predict(X_test)\n",
    "\n",
    "# Confusion matrix\n",
    "cm = metrics.confusion_matrix(y_test, prediction)\n",
    "\n",
    "print(\"Train set model:\")\n",
    "print(\"\\nTrain score:\", train_score_)\n",
    "print(\"Test score:\", test_score_)\n",
    "print(\"\\nConfusion matrix (test data)\\n\", cm)\n",
    "print(\"\\nMetrics:\")\n",
    "print(\"Precision:\", metrics.precision_score(y_test, prediction))\n",
    "print(\"Recall:\", metrics.recall_score(y_test, prediction))\n",
    "print(\"F1-score:\", metrics.f1_score(y_test, prediction))"
   ]
  },
  {
   "cell_type": "code",
   "execution_count": 41,
   "metadata": {},
   "outputs": [
    {
     "output_type": "display_data",
     "data": {
      "text/plain": "<Figure size 1008x432 with 2 Axes>",
      "image/svg+xml": "<?xml version=\"1.0\" encoding=\"utf-8\" standalone=\"no\"?>\n<!DOCTYPE svg PUBLIC \"-//W3C//DTD SVG 1.1//EN\"\n  \"http://www.w3.org/Graphics/SVG/1.1/DTD/svg11.dtd\">\n<svg height=\"360.738125pt\" version=\"1.1\" viewBox=\"0 0 780.031591 360.738125\" width=\"780.031591pt\" xmlns=\"http://www.w3.org/2000/svg\" xmlns:xlink=\"http://www.w3.org/1999/xlink\">\n <metadata>\n  <rdf:RDF xmlns:cc=\"http://creativecommons.org/ns#\" xmlns:dc=\"http://purl.org/dc/elements/1.1/\" xmlns:rdf=\"http://www.w3.org/1999/02/22-rdf-syntax-ns#\">\n   <cc:Work>\n    <dc:type rdf:resource=\"http://purl.org/dc/dcmitype/StillImage\"/>\n    <dc:date>2021-06-27T22:19:54.371679</dc:date>\n    <dc:format>image/svg+xml</dc:format>\n    <dc:creator>\n     <cc:Agent>\n      <dc:title>Matplotlib v3.4.1, https://matplotlib.org/</dc:title>\n     </cc:Agent>\n    </dc:creator>\n   </cc:Work>\n  </rdf:RDF>\n </metadata>\n <defs>\n  <style type=\"text/css\">*{stroke-linecap:butt;stroke-linejoin:round;}</style>\n </defs>\n <g id=\"figure_1\">\n  <g id=\"patch_1\">\n   <path d=\"M 0 360.738125 \nL 780.031591 360.738125 \nL 780.031591 0 \nL 0 0 \nz\n\" style=\"fill:none;\"/>\n  </g>\n  <g id=\"axes_1\">\n   <g id=\"patch_2\">\n    <path d=\"M 20.5625 350.038125 \nL 346.7225 350.038125 \nL 346.7225 23.878125 \nL 20.5625 23.878125 \nz\n\" style=\"fill:#ffffff;\"/>\n   </g>\n   <g clip-path=\"url(#p7256db9b29)\">\n    <image height=\"327\" id=\"image1d3045f2c0\" transform=\"scale(1 -1)translate(0 -327)\" width=\"327\" x=\"20.5625\" xlink:href=\"data:image/png;base64,\niVBORw0KGgoAAAANSUhEUgAAAUcAAAFHCAYAAAAySY5rAAAEMklEQVR4nO3WsQ3EMAwEQVr4RtR/kXLmaHN9MFPBBcSCz8ycgT+w1ro9AT6uESCII0AQR4AgjgBBHAGCOAIEcQQI4ggQxBEgiCNAEEeAII4AQRwBgjgCBHEECOIIEMQRIIgjQBBHgCCOAEEcAYI4AgRxBAjiCBDEESCII0AQR4AgjgBBHAGCOAIEcQQI4ggQxBEgiCNAEEeAII4AQRwBgjgCBHEECOIIEMQRIIgjQBBHgCCOAEEcAYI4AgRxBAjiCBDEESCII0AQR4AgjgBBHAGCOAIEcQQI4ggQxBEgiCNAEEeAII4AQRwBgjgCBHEECOIIEMQRIIgjQBBHgCCOAEEcAYI4AgRxBAjiCBDEESCII0AQR4AgjgBBHAGCOAIEcQQI4ggQxBEgiCNAEEeAII4AQRwBgjgCBHEECOIIEMQRIIgjQBBHgCCOAEEcAYI4AgRxBAjiCBDEESCII0AQR4AgjgBBHAGCOAIEcQQI4ggQxBEgiCNAEEeAII4AQRwBgjgCBHEECOIIEMQRIIgjQBBHgCCOAEEcAYI4AgRxBAjiCBDEESCII0AQR4AgjgBBHAGCOAIEcQQI4ggQxBEgiCNAEEeAII4AQRwBgjgCBHEECOIIEMQRIIgjQBBHgCCOAEEcAYI4AgRxBAjiCBDEESCII0AQR4AgjgBBHAGCOAIEcQQI4ggQxBEgiCNAEEeAII4AQRwBgjgCBHEECOIIEMQRIIgjQBBHgPA759zeADMzs/e+PQE+PkeAII4AQRwBgjgCBHEECOIIEMQRIIgjQBBHgCCOAEEcAYI4AgRxBAjiCBDEESCII0AQR4AgjgBBHAGCOAIEcQQI4ggQxBEgiCNAEEeAII4AQRwBgjgCBHEECOIIEMQRIIgjQBBHgCCOAEEcAYI4AgRxBAjiCBDEESCII0AQR4AgjgBBHAGCOAIEcQQI4ggQxBEgiCNAEEeAII4AQRwBgjgCBHEECOIIEMQRIIgjQBBHgCCOAEEcAYI4AgRxBAjiCBDEESCII0AQR4AgjgBBHAGCOAIEcQQI4ggQxBEgiCNAEEeAII4AQRwBgjgCBHEECOIIEMQRIIgjQBBHgCCOAEEcAYI4AgRxBAjiCBDEESCII0AQR4AgjgBBHAGCOAIEcQQI4ggQxBEgiCNAEEeAII4AQRwBgjgCBHEECOIIEMQRIIgjQBBHgCCOAEEcAYI4AgRxBAjiCBDEESCII0AQR4AgjgBBHAGCOAIEcQQI4ggQxBEgiCNAEEeAII4AQRwBgjgCBHEECOIIEMQRIIgjQBBHgCCOAEEcAYI4AgRxBAjiCBDEESCII0AQR4AgjgBBHAGCOAIEcQQI4ggQxBEgiCNAEEeAII4AQRwBgjgCBHEECOIIEMQRIIgjQBBHgCCOAEEcAYI4AgRxBAjiCBDEESCII0AQR4AgjgDhBeY/BvVxjkG5AAAAAElFTkSuQmCC\" y=\"-23.038125\"/>\n   </g>\n   <g id=\"matplotlib.axis_1\">\n    <g id=\"xtick_1\">\n     <g id=\"line2d_1\">\n      <defs>\n       <path d=\"M 0 0 \nL 0 3.5 \n\" id=\"m3d2c027722\" style=\"stroke:#000000;stroke-width:0.8;\"/>\n      </defs>\n      <g>\n       <use style=\"stroke:#000000;stroke-width:0.8;\" x=\"102.1025\" xlink:href=\"#m3d2c027722\" y=\"350.038125\"/>\n      </g>\n     </g>\n     <g id=\"line2d_2\">\n      <defs>\n       <path d=\"M 0 0 \nL 0 -3.5 \n\" id=\"m0705b8cdae\" style=\"stroke:#000000;stroke-width:0.8;\"/>\n      </defs>\n      <g>\n       <use style=\"stroke:#000000;stroke-width:0.8;\" x=\"102.1025\" xlink:href=\"#m0705b8cdae\" y=\"23.878125\"/>\n      </g>\n     </g>\n     <g id=\"text_1\">\n      <!-- 0 -->\n      <g transform=\"translate(98.92125 14.798437)scale(0.1 -0.1)\">\n       <defs>\n        <path d=\"M 2034 4250 \nQ 1547 4250 1301 3770 \nQ 1056 3291 1056 2328 \nQ 1056 1369 1301 889 \nQ 1547 409 2034 409 \nQ 2525 409 2770 889 \nQ 3016 1369 3016 2328 \nQ 3016 3291 2770 3770 \nQ 2525 4250 2034 4250 \nz\nM 2034 4750 \nQ 2819 4750 3233 4129 \nQ 3647 3509 3647 2328 \nQ 3647 1150 3233 529 \nQ 2819 -91 2034 -91 \nQ 1250 -91 836 529 \nQ 422 1150 422 2328 \nQ 422 3509 836 4129 \nQ 1250 4750 2034 4750 \nz\n\" id=\"DejaVuSans-30\" transform=\"scale(0.015625)\"/>\n       </defs>\n       <use xlink:href=\"#DejaVuSans-30\"/>\n      </g>\n     </g>\n    </g>\n    <g id=\"xtick_2\">\n     <g id=\"line2d_3\">\n      <g>\n       <use style=\"stroke:#000000;stroke-width:0.8;\" x=\"265.1825\" xlink:href=\"#m3d2c027722\" y=\"350.038125\"/>\n      </g>\n     </g>\n     <g id=\"line2d_4\">\n      <g>\n       <use style=\"stroke:#000000;stroke-width:0.8;\" x=\"265.1825\" xlink:href=\"#m0705b8cdae\" y=\"23.878125\"/>\n      </g>\n     </g>\n     <g id=\"text_2\">\n      <!-- 1 -->\n      <g transform=\"translate(262.00125 14.798437)scale(0.1 -0.1)\">\n       <defs>\n        <path d=\"M 794 531 \nL 1825 531 \nL 1825 4091 \nL 703 3866 \nL 703 4441 \nL 1819 4666 \nL 2450 4666 \nL 2450 531 \nL 3481 531 \nL 3481 0 \nL 794 0 \nL 794 531 \nz\n\" id=\"DejaVuSans-31\" transform=\"scale(0.015625)\"/>\n       </defs>\n       <use xlink:href=\"#DejaVuSans-31\"/>\n      </g>\n     </g>\n    </g>\n   </g>\n   <g id=\"matplotlib.axis_2\">\n    <g id=\"ytick_1\">\n     <g id=\"line2d_5\">\n      <defs>\n       <path d=\"M 0 0 \nL -3.5 0 \n\" id=\"m0b7d668080\" style=\"stroke:#000000;stroke-width:0.8;\"/>\n      </defs>\n      <g>\n       <use style=\"stroke:#000000;stroke-width:0.8;\" x=\"20.5625\" xlink:href=\"#m0b7d668080\" y=\"105.418125\"/>\n      </g>\n     </g>\n     <g id=\"text_3\">\n      <!-- 0 -->\n      <g transform=\"translate(7.2 109.217344)scale(0.1 -0.1)\">\n       <use xlink:href=\"#DejaVuSans-30\"/>\n      </g>\n     </g>\n    </g>\n    <g id=\"ytick_2\">\n     <g id=\"line2d_6\">\n      <g>\n       <use style=\"stroke:#000000;stroke-width:0.8;\" x=\"20.5625\" xlink:href=\"#m0b7d668080\" y=\"268.498125\"/>\n      </g>\n     </g>\n     <g id=\"text_4\">\n      <!-- 1 -->\n      <g transform=\"translate(7.2 272.297344)scale(0.1 -0.1)\">\n       <use xlink:href=\"#DejaVuSans-31\"/>\n      </g>\n     </g>\n    </g>\n   </g>\n   <g id=\"patch_3\">\n    <path d=\"M 20.5625 350.038125 \nL 20.5625 23.878125 \n\" style=\"fill:none;stroke:#000000;stroke-linecap:square;stroke-linejoin:miter;stroke-width:0.8;\"/>\n   </g>\n   <g id=\"patch_4\">\n    <path d=\"M 346.7225 350.038125 \nL 346.7225 23.878125 \n\" style=\"fill:none;stroke:#000000;stroke-linecap:square;stroke-linejoin:miter;stroke-width:0.8;\"/>\n   </g>\n   <g id=\"patch_5\">\n    <path d=\"M 20.5625 350.038125 \nL 346.7225 350.038125 \n\" style=\"fill:none;stroke:#000000;stroke-linecap:square;stroke-linejoin:miter;stroke-width:0.8;\"/>\n   </g>\n   <g id=\"patch_6\">\n    <path d=\"M 20.5625 23.878125 \nL 346.7225 23.878125 \n\" style=\"fill:none;stroke:#000000;stroke-linecap:square;stroke-linejoin:miter;stroke-width:0.8;\"/>\n   </g>\n  </g>\n  <g id=\"axes_2\">\n   <g id=\"patch_7\">\n    <path d=\"M 446.671591 350.038125 \nL 772.831591 350.038125 \nL 772.831591 23.878125 \nL 446.671591 23.878125 \nz\n\" style=\"fill:#ffffff;\"/>\n   </g>\n   <g clip-path=\"url(#pd96435d1c4)\">\n    <image height=\"327\" id=\"image80b81cef55\" transform=\"scale(1 -1)translate(0 -327)\" width=\"327\" x=\"446.671591\" xlink:href=\"data:image/png;base64,\niVBORw0KGgoAAAANSUhEUgAAAUcAAAFHCAYAAAAySY5rAAAEMUlEQVR4nO3WoRHAMBADwXc6dP/FOCzouAN2KxC60TrnnIEfWGvdngCf5/YAgD8SR4AgjgBBHAGCOAIEcQQI4ggQxBEgiCNAEEeAII4AQRwBgjgCBHEECOIIEMQRIIgjQBBHgCCOAEEcAYI4AgRxBAjiCBDEESCII0AQR4AgjgBBHAGCOAIEcQQI4ggQxBEgiCNAEEeAII4AQRwBgjgCBHEECOIIEMQRIIgjQBBHgCCOAEEcAYI4AgRxBAjiCBDEESCII0AQR4AgjgBBHAGCOAIEcQQI4ggQxBEgiCNAEEeAII4AQRwBgjgCBHEECOIIEMQRIIgjQBBHgCCOAEEcAYI4AgRxBAjiCBDEESCII0AQR4AgjgBBHAGCOAIEcQQI4ggQxBEgiCNAEEeAII4AQRwBgjgCBHEECOIIEMQRIIgjQBBHgCCOAEEcAYI4AgRxBAjiCBDEESCII0AQR4AgjgBBHAGCOAIEcQQI4ggQxBEgiCNAEEeAII4AQRwBgjgCBHEECOIIEMQRIIgjQBBHgCCOAEEcAYI4AgRxBAjiCBDEESCII0AQR4AgjgBBHAGCOAIEcQQI4ggQxBEgiCNAEEeAII4AQRwBgjgCBHEECOIIEMQRIIgjQBBHgCCOAEEcAYI4AgRxBAjiCBDEESCII0AQR4AgjgBBHAGCOAIEcQQI4ggQxBEgiCNAEEeAII4AQRwBgjgCBHEECOIIEMQRIIgjQBBHgCCOAGHNzLk9AmZm9t63J8DHcwQI4ggQxBEgiCNAEEeAII4AQRwBgjgCBHEECOIIEMQRIIgjQBBHgCCOAEEcAYI4AgRxBAjiCBDEESCII0AQR4AgjgBBHAGCOAIEcQQI4ggQxBEgiCNAEEeAII4AQRwBgjgCBHEECOIIEMQRIIgjQBBHgCCOAEEcAYI4AgRxBAjiCBDEESCII0AQR4AgjgBBHAGCOAIEcQQI4ggQxBEgiCNAEEeAII4AQRwBgjgCBHEECOIIEMQRIIgjQBBHgCCOAEEcAYI4AgRxBAjiCBDEESCII0AQR4AgjgBBHAGCOAIEcQQI4ggQxBEgiCNAEEeAII4AQRwBgjgCBHEECOIIEMQRIIgjQBBHgCCOAEEcAYI4AgRxBAjiCBDEESCII0AQR4AgjgBBHAGCOAIEcQQI4ggQxBEgiCNAEEeAII4AQRwBgjgCBHEECOIIEMQRIIgjQBBHgCCOAEEcAYI4AgRxBAjiCBDEESCII0AQR4AgjgBBHAGCOAIEcQQI4ggQxBEgiCNAEEeAII4AQRwBgjgCBHEECOIIEMQRIIgjQBBHgCCOAEEcAYI4AgRxBAjiCBDEESCII0AQR4AgjgBBHAGCOAIEcQQI4ggQxBEgiCNAEEeAII4AQRwBgjgCBHEECOIIEMQRIIgjQBBHgCCOAEEcAYI4AgRxBAjiCBBe63UIfjuJulIAAAAASUVORK5CYII=\" y=\"-23.038125\"/>\n   </g>\n   <g id=\"matplotlib.axis_3\">\n    <g id=\"xtick_3\">\n     <g id=\"line2d_7\">\n      <g>\n       <use style=\"stroke:#000000;stroke-width:0.8;\" x=\"528.211591\" xlink:href=\"#m3d2c027722\" y=\"350.038125\"/>\n      </g>\n     </g>\n     <g id=\"line2d_8\">\n      <g>\n       <use style=\"stroke:#000000;stroke-width:0.8;\" x=\"528.211591\" xlink:href=\"#m0705b8cdae\" y=\"23.878125\"/>\n      </g>\n     </g>\n     <g id=\"text_5\">\n      <!-- 0 -->\n      <g transform=\"translate(525.030341 14.798437)scale(0.1 -0.1)\">\n       <use xlink:href=\"#DejaVuSans-30\"/>\n      </g>\n     </g>\n    </g>\n    <g id=\"xtick_4\">\n     <g id=\"line2d_9\">\n      <g>\n       <use style=\"stroke:#000000;stroke-width:0.8;\" x=\"691.291591\" xlink:href=\"#m3d2c027722\" y=\"350.038125\"/>\n      </g>\n     </g>\n     <g id=\"line2d_10\">\n      <g>\n       <use style=\"stroke:#000000;stroke-width:0.8;\" x=\"691.291591\" xlink:href=\"#m0705b8cdae\" y=\"23.878125\"/>\n      </g>\n     </g>\n     <g id=\"text_6\">\n      <!-- 1 -->\n      <g transform=\"translate(688.110341 14.798437)scale(0.1 -0.1)\">\n       <use xlink:href=\"#DejaVuSans-31\"/>\n      </g>\n     </g>\n    </g>\n   </g>\n   <g id=\"matplotlib.axis_4\">\n    <g id=\"ytick_3\">\n     <g id=\"line2d_11\">\n      <g>\n       <use style=\"stroke:#000000;stroke-width:0.8;\" x=\"446.671591\" xlink:href=\"#m0b7d668080\" y=\"105.418125\"/>\n      </g>\n     </g>\n     <g id=\"text_7\">\n      <!-- 0 -->\n      <g transform=\"translate(433.309091 109.217344)scale(0.1 -0.1)\">\n       <use xlink:href=\"#DejaVuSans-30\"/>\n      </g>\n     </g>\n    </g>\n    <g id=\"ytick_4\">\n     <g id=\"line2d_12\">\n      <g>\n       <use style=\"stroke:#000000;stroke-width:0.8;\" x=\"446.671591\" xlink:href=\"#m0b7d668080\" y=\"268.498125\"/>\n      </g>\n     </g>\n     <g id=\"text_8\">\n      <!-- 1 -->\n      <g transform=\"translate(433.309091 272.297344)scale(0.1 -0.1)\">\n       <use xlink:href=\"#DejaVuSans-31\"/>\n      </g>\n     </g>\n    </g>\n   </g>\n   <g id=\"patch_8\">\n    <path d=\"M 446.671591 350.038125 \nL 446.671591 23.878125 \n\" style=\"fill:none;stroke:#000000;stroke-linecap:square;stroke-linejoin:miter;stroke-width:0.8;\"/>\n   </g>\n   <g id=\"patch_9\">\n    <path d=\"M 772.831591 350.038125 \nL 772.831591 23.878125 \n\" style=\"fill:none;stroke:#000000;stroke-linecap:square;stroke-linejoin:miter;stroke-width:0.8;\"/>\n   </g>\n   <g id=\"patch_10\">\n    <path d=\"M 446.671591 350.038125 \nL 772.831591 350.038125 \n\" style=\"fill:none;stroke:#000000;stroke-linecap:square;stroke-linejoin:miter;stroke-width:0.8;\"/>\n   </g>\n   <g id=\"patch_11\">\n    <path d=\"M 446.671591 23.878125 \nL 772.831591 23.878125 \n\" style=\"fill:none;stroke:#000000;stroke-linecap:square;stroke-linejoin:miter;stroke-width:0.8;\"/>\n   </g>\n  </g>\n </g>\n <defs>\n  <clipPath id=\"p7256db9b29\">\n   <rect height=\"326.16\" width=\"326.16\" x=\"20.5625\" y=\"23.878125\"/>\n  </clipPath>\n  <clipPath id=\"pd96435d1c4\">\n   <rect height=\"326.16\" width=\"326.16\" x=\"446.671591\" y=\"23.878125\"/>\n  </clipPath>\n </defs>\n</svg>\n",
      "image/png": "[encoded data removed]"
     },
     "metadata": {
      "needs_background": "light"
     }
    }
   ],
   "source": [
    "row_sums = cm.sum(axis = 1, keepdims = True)\n",
    "norm_cm = cm / row_sums\n",
    "np.fill_diagonal(norm_cm, 0)\n",
    "\n",
    "fig, (ax1, ax2) = plt.subplots(1, 2, figsize = (14, 6))\n",
    "\n",
    "ax1.matshow(cm, cmap = plt.cm.gray)\n",
    "ax2.matshow(norm_cm, cmap = plt.cm.gray)\n",
    "\n",
    "plt.show()"
   ]
  },
  {
   "cell_type": "code",
   "execution_count": null,
   "metadata": {},
   "outputs": [],
   "source": []
  }
 ]
}