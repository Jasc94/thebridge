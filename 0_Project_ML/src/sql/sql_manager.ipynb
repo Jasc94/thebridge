{
 "metadata": {
  "language_info": {
   "codemirror_mode": {
    "name": "ipython",
    "version": 3
   },
   "file_extension": ".py",
   "mimetype": "text/x-python",
   "name": "python",
   "nbconvert_exporter": "python",
   "pygments_lexer": "ipython3",
   "version": "3.7.4"
  },
  "orig_nbformat": 4,
  "kernelspec": {
   "name": "python3",
   "display_name": "Python 3.7.4 64-bit"
  },
  "interpreter": {
   "hash": "aee8b7b246df8f9039afb4144a1f6fd8d2ca17a180786b69acc140d282b71a49"
  }
 },
 "nbformat": 4,
 "nbformat_minor": 2,
 "cells": [
  {
   "cell_type": "code",
   "execution_count": 1,
   "metadata": {},
   "outputs": [],
   "source": [
    "import pandas as pd\n",
    "from sqlalchemy import create_engine\n",
    "\n",
    "import sys, os\n",
    "\n",
    "# Helpers\n",
    "abspath = os.path.abspath\n",
    "dirname = os.path.dirname\n",
    "sep = os.sep\n",
    "file_ = os.getcwd()\n",
    "\n",
    "sys.path.append(dirname(abspath(file_)))\n",
    "\n",
    "import utils.folder_tb as fo\n",
    "import utils.mining_data_tb as md\n",
    "import utils.sql_tb as sq"
   ]
  },
  {
   "source": [
    "## Data to upload"
   ],
   "cell_type": "markdown",
   "metadata": {}
  },
  {
   "cell_type": "code",
   "execution_count": 2,
   "metadata": {},
   "outputs": [
    {
     "output_type": "stream",
     "name": "stdout",
     "text": [
      "(13446, 16)\n<class 'pandas.core.frame.DataFrame'>\nRangeIndex: 13446 entries, 0 to 13445\nData columns (total 16 columns):\n #   Column    Non-Null Count  Dtype  \n---  ------    --------------  -----  \n 0   SEQN      13446 non-null  int64  \n 1   MCQ160H   13446 non-null  int64  \n 2   RIAGENDR  13446 non-null  int64  \n 3   RIDAGEYR  13446 non-null  int64  \n 4   BPXDI1    13446 non-null  float64\n 5   BPXSY1    13446 non-null  float64\n 6   BMXWT     13446 non-null  float64\n 7   BMXWAIST  13446 non-null  float64\n 8   LBXTC     13446 non-null  float64\n 9   LBXSGL    13446 non-null  float64\n 10  MEANCHOL  13446 non-null  float64\n 11  MEANTFAT  13446 non-null  float64\n 12  MEANSFAT  13446 non-null  float64\n 13  MEANSUGR  13446 non-null  float64\n 14  MEANFIBE  13446 non-null  float64\n 15  MEANTVB6  13446 non-null  float64\ndtypes: float64(12), int64(4)\nmemory usage: 1.6 MB\n"
     ]
    }
   ],
   "source": [
    "# Load the data and check that everything is fine\n",
    "cleaned_data_path = fo.path_to_folder(2, \"data\" + sep + \"7_cleaned_data\") + \"cleaned_data.csv\"\n",
    "data = pd.read_csv(cleaned_data_path)\n",
    "\n",
    "print(data.shape)\n",
    "data.info()"
   ]
  },
  {
   "cell_type": "code",
   "execution_count": 3,
   "metadata": {},
   "outputs": [],
   "source": [
    "model_comparisons_path = fo.path_to_folder(2, \"models\")\n",
    "\n",
    "# First model table\n",
    "model_comparison_noscale_nobalance = pd.read_csv(model_comparisons_path + \"model_comparison_noscale_nobalance.csv\")\n",
    "model_comparison_noscale_nobalance.rename(columns = {\"Unnamed: 0\" : \"Model\"}, inplace = True)\n",
    "\n",
    "# Second model table\n",
    "model_comparison_scale_balance = pd.read_csv(model_comparisons_path + \"model_comparison_scale_balance.csv\")\n",
    "model_comparison_scale_balance.rename(columns = {\"Unnamed: 0\" : \"Model\"}, inplace = True)"
   ]
  },
  {
   "cell_type": "code",
   "execution_count": 4,
   "metadata": {},
   "outputs": [
    {
     "output_type": "execute_result",
     "data": {
      "text/plain": [
       "                                               Model  Test_score  Train_score  \\\n",
       "0  LogisticRegression(max_iter=300, n_jobs=-1, ra...    0.923048     0.916698   \n",
       "1  RandomForestClassifier(max_depth=20, n_jobs=-1...    0.919703     0.972109   \n",
       "2     LogisticRegression(n_jobs=-1, random_state=42)    0.918959     0.916419   \n",
       "3  RandomForestClassifier(max_depth=10, n_jobs=-1...    0.918587     0.936315   \n",
       "4  RandomForestClassifier(n_jobs=-1, random_state...    0.918216     0.971923   \n",
       "5  RandomForestClassifier(max_features='sqrt', n_...    0.918216     0.971923   \n",
       "6  RandomForestClassifier(max_features='log2', n_...    0.918216     0.971923   \n",
       "7                    KNeighborsClassifier(n_jobs=-1)    0.914498     0.918929   \n",
       "8  KNeighborsClassifier(n_jobs=-1, weights='dista...    0.914498     0.969319   \n",
       "\n",
       "   Test_score_drop  Accuracy  Precision    Recall  F1_score  \\\n",
       "0         0.006928  0.923048   0.627451  0.145455  0.236162   \n",
       "1        -0.053910  0.919703   0.642857  0.040909  0.076923   \n",
       "2         0.002772  0.918959   0.520000  0.118182  0.192593   \n",
       "3        -0.018933  0.918587   0.600000  0.013636  0.026667   \n",
       "4        -0.055259  0.918216   0.500000  0.031818  0.059829   \n",
       "5        -0.055259  0.918216   0.500000  0.031818  0.059829   \n",
       "6        -0.055259  0.918216   0.500000  0.031818  0.059829   \n",
       "7        -0.004822  0.914498   0.421875  0.122727  0.190141   \n",
       "8        -0.056556  0.914498   0.421875  0.122727  0.190141   \n",
       "\n",
       "              Confusion_matrix  \n",
       "0  [[2451   19]\\n [ 188   32]]  \n",
       "1  [[2465    5]\\n [ 211    9]]  \n",
       "2  [[2446   24]\\n [ 194   26]]  \n",
       "3  [[2468    2]\\n [ 217    3]]  \n",
       "4  [[2463    7]\\n [ 213    7]]  \n",
       "5  [[2463    7]\\n [ 213    7]]  \n",
       "6  [[2463    7]\\n [ 213    7]]  \n",
       "7  [[2433   37]\\n [ 193   27]]  \n",
       "8  [[2433   37]\\n [ 193   27]]  "
      ],
      "text/html": "<div>\n<style scoped>\n    .dataframe tbody tr th:only-of-type {\n        vertical-align: middle;\n    }\n\n    .dataframe tbody tr th {\n        vertical-align: top;\n    }\n\n    .dataframe thead th {\n        text-align: right;\n    }\n</style>\n<table border=\"1\" class=\"dataframe\">\n  <thead>\n    <tr style=\"text-align: right;\">\n      <th></th>\n      <th>Model</th>\n      <th>Test_score</th>\n      <th>Train_score</th>\n      <th>Test_score_drop</th>\n      <th>Accuracy</th>\n      <th>Precision</th>\n      <th>Recall</th>\n      <th>F1_score</th>\n      <th>Confusion_matrix</th>\n    </tr>\n  </thead>\n  <tbody>\n    <tr>\n      <th>0</th>\n      <td>LogisticRegression(max_iter=300, n_jobs=-1, ra...</td>\n      <td>0.923048</td>\n      <td>0.916698</td>\n      <td>0.006928</td>\n      <td>0.923048</td>\n      <td>0.627451</td>\n      <td>0.145455</td>\n      <td>0.236162</td>\n      <td>[[2451   19]\\n [ 188   32]]</td>\n    </tr>\n    <tr>\n      <th>1</th>\n      <td>RandomForestClassifier(max_depth=20, n_jobs=-1...</td>\n      <td>0.919703</td>\n      <td>0.972109</td>\n      <td>-0.053910</td>\n      <td>0.919703</td>\n      <td>0.642857</td>\n      <td>0.040909</td>\n      <td>0.076923</td>\n      <td>[[2465    5]\\n [ 211    9]]</td>\n    </tr>\n    <tr>\n      <th>2</th>\n      <td>LogisticRegression(n_jobs=-1, random_state=42)</td>\n      <td>0.918959</td>\n      <td>0.916419</td>\n      <td>0.002772</td>\n      <td>0.918959</td>\n      <td>0.520000</td>\n      <td>0.118182</td>\n      <td>0.192593</td>\n      <td>[[2446   24]\\n [ 194   26]]</td>\n    </tr>\n    <tr>\n      <th>3</th>\n      <td>RandomForestClassifier(max_depth=10, n_jobs=-1...</td>\n      <td>0.918587</td>\n      <td>0.936315</td>\n      <td>-0.018933</td>\n      <td>0.918587</td>\n      <td>0.600000</td>\n      <td>0.013636</td>\n      <td>0.026667</td>\n      <td>[[2468    2]\\n [ 217    3]]</td>\n    </tr>\n    <tr>\n      <th>4</th>\n      <td>RandomForestClassifier(n_jobs=-1, random_state...</td>\n      <td>0.918216</td>\n      <td>0.971923</td>\n      <td>-0.055259</td>\n      <td>0.918216</td>\n      <td>0.500000</td>\n      <td>0.031818</td>\n      <td>0.059829</td>\n      <td>[[2463    7]\\n [ 213    7]]</td>\n    </tr>\n    <tr>\n      <th>5</th>\n      <td>RandomForestClassifier(max_features='sqrt', n_...</td>\n      <td>0.918216</td>\n      <td>0.971923</td>\n      <td>-0.055259</td>\n      <td>0.918216</td>\n      <td>0.500000</td>\n      <td>0.031818</td>\n      <td>0.059829</td>\n      <td>[[2463    7]\\n [ 213    7]]</td>\n    </tr>\n    <tr>\n      <th>6</th>\n      <td>RandomForestClassifier(max_features='log2', n_...</td>\n      <td>0.918216</td>\n      <td>0.971923</td>\n      <td>-0.055259</td>\n      <td>0.918216</td>\n      <td>0.500000</td>\n      <td>0.031818</td>\n      <td>0.059829</td>\n      <td>[[2463    7]\\n [ 213    7]]</td>\n    </tr>\n    <tr>\n      <th>7</th>\n      <td>KNeighborsClassifier(n_jobs=-1)</td>\n      <td>0.914498</td>\n      <td>0.918929</td>\n      <td>-0.004822</td>\n      <td>0.914498</td>\n      <td>0.421875</td>\n      <td>0.122727</td>\n      <td>0.190141</td>\n      <td>[[2433   37]\\n [ 193   27]]</td>\n    </tr>\n    <tr>\n      <th>8</th>\n      <td>KNeighborsClassifier(n_jobs=-1, weights='dista...</td>\n      <td>0.914498</td>\n      <td>0.969319</td>\n      <td>-0.056556</td>\n      <td>0.914498</td>\n      <td>0.421875</td>\n      <td>0.122727</td>\n      <td>0.190141</td>\n      <td>[[2433   37]\\n [ 193   27]]</td>\n    </tr>\n  </tbody>\n</table>\n</div>"
     },
     "metadata": {},
     "execution_count": 4
    }
   ],
   "source": [
    "model_comparison_noscale_nobalance"
   ]
  },
  {
   "source": [
    "## SQL connection"
   ],
   "cell_type": "markdown",
   "metadata": {}
  },
  {
   "cell_type": "code",
   "execution_count": 5,
   "metadata": {},
   "outputs": [],
   "source": [
    "# Load server setting into variables\n",
    "read_json = md.read_json_to_dict(\"sql_server_settings.json\")\n",
    "\n",
    "IP_DNS = read_json[\"IP_DNS\"]\n",
    "USER = read_json[\"USER\"]\n",
    "PASSWORD = read_json[\"PASSWORD\"]\n",
    "DB_NAME = read_json[\"DB_NAME\"]\n",
    "PORT = read_json[\"PORT\"]"
   ]
  },
  {
   "cell_type": "code",
   "execution_count": 11,
   "metadata": {},
   "outputs": [
    {
     "output_type": "stream",
     "name": "stdout",
     "text": [
      "Connected to MySQL server [45395203b_ds_april_2021_db]\n"
     ]
    },
    {
     "output_type": "execute_result",
     "data": {
      "text/plain": [
       "<pymysql.connections.Connection at 0x13530b090>"
      ]
     },
     "metadata": {},
     "execution_count": 11
    }
   ],
   "source": [
    "# Connection with the database\n",
    "sql_db = sq.MySQL(IP_DNS, USER, PASSWORD, DB_NAME, PORT)\n",
    "sql_db.connect()"
   ]
  },
  {
   "cell_type": "code",
   "execution_count": 7,
   "metadata": {},
   "outputs": [],
   "source": [
    "db_connection_str = sql_db.SQL_ALCHEMY\n",
    "db_connection = create_engine(db_connection_str)"
   ]
  },
  {
   "source": [
    "### DON'T EXECUTE THIS ONE\n",
    "\n",
    "# Uploading the data into the db\n",
    "# Dataset\n",
    "data.to_sql(\"jonathan_suarez_caceres\", con = db_connection, index = False)\n",
    "\n",
    "# First model comparison\n",
    "model_comparison_scale_balance.to_sql(\"model_comparison_scale_balance\", con = db_connection, index = False)\n",
    "\n",
    "# Second model comparison\n",
    "model_comparison_noscale_nobalance.to_sql(\"model_comparison_noscale_nobalance\", con = db_connection, index = False)"
   ],
   "cell_type": "code",
   "metadata": {},
   "execution_count": 8,
   "outputs": []
  },
  {
   "cell_type": "code",
   "execution_count": 13,
   "metadata": {},
   "outputs": [
    {
     "output_type": "stream",
     "name": "stdout",
     "text": [
      "Close connection with MySQL server [45395203b_ds_april_2021_db]\n"
     ]
    }
   ],
   "source": [
    "# Close connection\n",
    "sql_db.close()"
   ]
  },
  {
   "source": [
    "# Just for testing purposes"
   ],
   "cell_type": "markdown",
   "metadata": {}
  },
  {
   "cell_type": "code",
   "execution_count": 12,
   "metadata": {},
   "outputs": [
    {
     "output_type": "stream",
     "name": "stdout",
     "text": [
      "Executing:\n \nSELECT * FROM model_comparison_noscale_nobalance\n\n"
     ]
    },
    {
     "output_type": "execute_result",
     "data": {
      "text/plain": [
       "                                               Model  Test_score  Train_score  \\\n",
       "0  LogisticRegression(max_iter=300, n_jobs=-1, ra...    0.923048     0.916698   \n",
       "1  RandomForestClassifier(max_depth=20, n_jobs=-1...    0.919703     0.972109   \n",
       "2     LogisticRegression(n_jobs=-1, random_state=42)    0.918959     0.916419   \n",
       "3  RandomForestClassifier(max_depth=10, n_jobs=-1...    0.918587     0.936315   \n",
       "4  RandomForestClassifier(n_jobs=-1, random_state...    0.918216     0.971923   \n",
       "5  RandomForestClassifier(max_features='sqrt', n_...    0.918216     0.971923   \n",
       "6  RandomForestClassifier(max_features='log2', n_...    0.918216     0.971923   \n",
       "7                    KNeighborsClassifier(n_jobs=-1)    0.914498     0.918929   \n",
       "8  KNeighborsClassifier(n_jobs=-1, weights='dista...    0.914498     0.969319   \n",
       "\n",
       "   Test_score_drop  Accuracy  Precision    Recall  F1_score  \\\n",
       "0         0.006928  0.923048   0.627451  0.145455  0.236162   \n",
       "1        -0.053910  0.919703   0.642857  0.040909  0.076923   \n",
       "2         0.002772  0.918959   0.520000  0.118182  0.192593   \n",
       "3        -0.018933  0.918587   0.600000  0.013636  0.026667   \n",
       "4        -0.055259  0.918216   0.500000  0.031818  0.059829   \n",
       "5        -0.055259  0.918216   0.500000  0.031818  0.059829   \n",
       "6        -0.055259  0.918216   0.500000  0.031818  0.059829   \n",
       "7        -0.004822  0.914498   0.421875  0.122727  0.190141   \n",
       "8        -0.056556  0.914498   0.421875  0.122727  0.190141   \n",
       "\n",
       "              Confusion_matrix  \n",
       "0  [[2451   19]\\n [ 188   32]]  \n",
       "1  [[2465    5]\\n [ 211    9]]  \n",
       "2  [[2446   24]\\n [ 194   26]]  \n",
       "3  [[2468    2]\\n [ 217    3]]  \n",
       "4  [[2463    7]\\n [ 213    7]]  \n",
       "5  [[2463    7]\\n [ 213    7]]  \n",
       "6  [[2463    7]\\n [ 213    7]]  \n",
       "7  [[2433   37]\\n [ 193   27]]  \n",
       "8  [[2433   37]\\n [ 193   27]]  "
      ],
      "text/html": "<div>\n<style scoped>\n    .dataframe tbody tr th:only-of-type {\n        vertical-align: middle;\n    }\n\n    .dataframe tbody tr th {\n        vertical-align: top;\n    }\n\n    .dataframe thead th {\n        text-align: right;\n    }\n</style>\n<table border=\"1\" class=\"dataframe\">\n  <thead>\n    <tr style=\"text-align: right;\">\n      <th></th>\n      <th>Model</th>\n      <th>Test_score</th>\n      <th>Train_score</th>\n      <th>Test_score_drop</th>\n      <th>Accuracy</th>\n      <th>Precision</th>\n      <th>Recall</th>\n      <th>F1_score</th>\n      <th>Confusion_matrix</th>\n    </tr>\n  </thead>\n  <tbody>\n    <tr>\n      <th>0</th>\n      <td>LogisticRegression(max_iter=300, n_jobs=-1, ra...</td>\n      <td>0.923048</td>\n      <td>0.916698</td>\n      <td>0.006928</td>\n      <td>0.923048</td>\n      <td>0.627451</td>\n      <td>0.145455</td>\n      <td>0.236162</td>\n      <td>[[2451   19]\\n [ 188   32]]</td>\n    </tr>\n    <tr>\n      <th>1</th>\n      <td>RandomForestClassifier(max_depth=20, n_jobs=-1...</td>\n      <td>0.919703</td>\n      <td>0.972109</td>\n      <td>-0.053910</td>\n      <td>0.919703</td>\n      <td>0.642857</td>\n      <td>0.040909</td>\n      <td>0.076923</td>\n      <td>[[2465    5]\\n [ 211    9]]</td>\n    </tr>\n    <tr>\n      <th>2</th>\n      <td>LogisticRegression(n_jobs=-1, random_state=42)</td>\n      <td>0.918959</td>\n      <td>0.916419</td>\n      <td>0.002772</td>\n      <td>0.918959</td>\n      <td>0.520000</td>\n      <td>0.118182</td>\n      <td>0.192593</td>\n      <td>[[2446   24]\\n [ 194   26]]</td>\n    </tr>\n    <tr>\n      <th>3</th>\n      <td>RandomForestClassifier(max_depth=10, n_jobs=-1...</td>\n      <td>0.918587</td>\n      <td>0.936315</td>\n      <td>-0.018933</td>\n      <td>0.918587</td>\n      <td>0.600000</td>\n      <td>0.013636</td>\n      <td>0.026667</td>\n      <td>[[2468    2]\\n [ 217    3]]</td>\n    </tr>\n    <tr>\n      <th>4</th>\n      <td>RandomForestClassifier(n_jobs=-1, random_state...</td>\n      <td>0.918216</td>\n      <td>0.971923</td>\n      <td>-0.055259</td>\n      <td>0.918216</td>\n      <td>0.500000</td>\n      <td>0.031818</td>\n      <td>0.059829</td>\n      <td>[[2463    7]\\n [ 213    7]]</td>\n    </tr>\n    <tr>\n      <th>5</th>\n      <td>RandomForestClassifier(max_features='sqrt', n_...</td>\n      <td>0.918216</td>\n      <td>0.971923</td>\n      <td>-0.055259</td>\n      <td>0.918216</td>\n      <td>0.500000</td>\n      <td>0.031818</td>\n      <td>0.059829</td>\n      <td>[[2463    7]\\n [ 213    7]]</td>\n    </tr>\n    <tr>\n      <th>6</th>\n      <td>RandomForestClassifier(max_features='log2', n_...</td>\n      <td>0.918216</td>\n      <td>0.971923</td>\n      <td>-0.055259</td>\n      <td>0.918216</td>\n      <td>0.500000</td>\n      <td>0.031818</td>\n      <td>0.059829</td>\n      <td>[[2463    7]\\n [ 213    7]]</td>\n    </tr>\n    <tr>\n      <th>7</th>\n      <td>KNeighborsClassifier(n_jobs=-1)</td>\n      <td>0.914498</td>\n      <td>0.918929</td>\n      <td>-0.004822</td>\n      <td>0.914498</td>\n      <td>0.421875</td>\n      <td>0.122727</td>\n      <td>0.190141</td>\n      <td>[[2433   37]\\n [ 193   27]]</td>\n    </tr>\n    <tr>\n      <th>8</th>\n      <td>KNeighborsClassifier(n_jobs=-1, weights='dista...</td>\n      <td>0.914498</td>\n      <td>0.969319</td>\n      <td>-0.056556</td>\n      <td>0.914498</td>\n      <td>0.421875</td>\n      <td>0.122727</td>\n      <td>0.190141</td>\n      <td>[[2433   37]\\n [ 193   27]]</td>\n    </tr>\n  </tbody>\n</table>\n</div>"
     },
     "metadata": {},
     "execution_count": 12
    }
   ],
   "source": [
    "# Just for testing purposes\n",
    "\n",
    "sql_query = '''\n",
    "SELECT * FROM model_comparison_noscale_nobalance\n",
    "'''\n",
    "\n",
    "results = sql_db.execute_get_sql(sql_query)\n",
    "column_names = [tuple[0] for tuple in sql_db.cursor.description]\n",
    "pd.DataFrame(results, columns = column_names)"
   ]
  }
 ]
}