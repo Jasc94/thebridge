{
 "metadata": {
  "language_info": {
   "codemirror_mode": {
    "name": "ipython",
    "version": 3
   },
   "file_extension": ".py",
   "mimetype": "text/x-python",
   "name": "python",
   "nbconvert_exporter": "python",
   "pygments_lexer": "ipython3",
   "version": "3.7.4"
  },
  "orig_nbformat": 4,
  "kernelspec": {
   "name": "python3",
   "display_name": "Python 3.7.4 64-bit"
  },
  "interpreter": {
   "hash": "aee8b7b246df8f9039afb4144a1f6fd8d2ca17a180786b69acc140d282b71a49"
  }
 },
 "nbformat": 4,
 "nbformat_minor": 2,
 "cells": [
  {
   "cell_type": "code",
   "execution_count": 1,
   "metadata": {},
   "outputs": [],
   "source": [
    "import pandas as pd\n",
    "from sqlalchemy import create_engine\n",
    "\n",
    "import sys, os\n",
    "\n",
    "# Helpers\n",
    "abspath = os.path.abspath\n",
    "dirname = os.path.dirname\n",
    "sep = os.sep\n",
    "file_ = os.getcwd()\n",
    "\n",
    "sys.path.append(dirname(abspath(file_)))\n",
    "\n",
    "import utils.folder_tb as fo\n",
    "import utils.mining_data_tb as md\n",
    "import utils.sql_tb as sq"
   ]
  },
  {
   "source": [
    "## Data to upload"
   ],
   "cell_type": "markdown",
   "metadata": {}
  },
  {
   "cell_type": "code",
   "execution_count": 4,
   "metadata": {},
   "outputs": [
    {
     "output_type": "stream",
     "name": "stdout",
     "text": [
      "(13472, 18)\n<class 'pandas.core.frame.DataFrame'>\nRangeIndex: 13472 entries, 0 to 13471\nData columns (total 18 columns):\n #   Column    Non-Null Count  Dtype  \n---  ------    --------------  -----  \n 0   SEQN      13472 non-null  int64  \n 1   MCQ010    13472 non-null  float64\n 2   RIAGENDR  13472 non-null  int64  \n 3   RIDAGEYR  13472 non-null  int64  \n 4   DR1TCHOL  13472 non-null  float64\n 5   DR1TTFAT  13472 non-null  float64\n 6   DR1TSFAT  13472 non-null  float64\n 7   DR1TSUGR  13472 non-null  float64\n 8   DR2TCHOL  13472 non-null  float64\n 9   DR2TTFAT  13472 non-null  float64\n 10  DR2TSFAT  13472 non-null  float64\n 11  DR2TSUGR  13472 non-null  float64\n 12  BPXDI1    13472 non-null  float64\n 13  BPXSY1    13472 non-null  float64\n 14  BMXWT     13472 non-null  float64\n 15  BMXWAIST  13472 non-null  float64\n 16  LBXTC     13472 non-null  float64\n 17  LBXSGL    13472 non-null  float64\ndtypes: float64(15), int64(3)\nmemory usage: 1.9 MB\n"
     ]
    }
   ],
   "source": [
    "# Load the data and check that everything is fine\n",
    "cleaned_data_path = fo.path_to_folder(2, \"data\" + sep + \"7_cleaned_data\") + \"cleaned_data.csv\"\n",
    "data = pd.read_csv(cleaned_data_path)\n",
    "\n",
    "print(data.shape)\n",
    "data.info()"
   ]
  },
  {
   "cell_type": "code",
   "execution_count": 7,
   "metadata": {},
   "outputs": [],
   "source": [
    "model_comparisons_path = fo.path_to_folder(2, \"models\")\n",
    "\n",
    "# First model table\n",
    "model_comparison_noscale_nobalance = pd.read_csv(model_comparisons_path + \"model_comparison_noscale_nobalance.csv\")\n",
    "model_comparison_noscale_nobalance.rename(columns = {\"Unnamed: 0\" : \"Model\"}, inplace = True)\n",
    "\n",
    "# Second model table\n",
    "model_comparison_scale_balance = pd.read_csv(model_comparisons_path + \"model_comparison_scale_balance.csv\")\n",
    "model_comparison_scale_balance.rename(columns = {\"Unnamed: 0\" : \"Model\"}, inplace = True)"
   ]
  },
  {
   "cell_type": "code",
   "execution_count": 12,
   "metadata": {},
   "outputs": [
    {
     "output_type": "execute_result",
     "data": {
      "text/plain": [
       "                                               Model  Test_score  Train_score  \\\n",
       "0  LogisticRegression(max_iter=300, n_jobs=-1, ra...    0.922305     0.915675   \n",
       "1     LogisticRegression(n_jobs=-1, random_state=42)    0.920818     0.916233   \n",
       "2  RandomForestClassifier(max_depth=10, n_jobs=-1...    0.919703     0.936036   \n",
       "3  RandomForestClassifier(max_depth=20, n_jobs=-1...    0.919703     0.971458   \n",
       "4  RandomForestClassifier(n_jobs=-1, random_state...    0.918587     0.971830   \n",
       "5  RandomForestClassifier(max_features='sqrt', n_...    0.918587     0.971830   \n",
       "6  RandomForestClassifier(max_features='log2', n_...    0.918587     0.971830   \n",
       "7                    KNeighborsClassifier(n_jobs=-1)    0.914126     0.917627   \n",
       "8  KNeighborsClassifier(n_jobs=-1, weights='dista...    0.914126     0.970342   \n",
       "\n",
       "   Test_score_drop  Accuracy  Precision    Recall  F1_score  \\\n",
       "0         0.007240  0.922305   0.617021  0.131818  0.217228   \n",
       "1         0.005004  0.920818   0.574468  0.122727  0.202247   \n",
       "2        -0.017449  0.919703   0.750000  0.027273  0.052632   \n",
       "3        -0.053276  0.919703   0.571429  0.072727  0.129032   \n",
       "4        -0.054786  0.918587   0.526316  0.045455  0.083682   \n",
       "5        -0.054786  0.918587   0.526316  0.045455  0.083682   \n",
       "6        -0.054786  0.918587   0.526316  0.045455  0.083682   \n",
       "7        -0.003815  0.914126   0.342857  0.054545  0.094118   \n",
       "8        -0.057934  0.914126   0.342857  0.054545  0.094118   \n",
       "\n",
       "              Confusion_matrix  \n",
       "0  [[2452   18]\\n [ 191   29]]  \n",
       "1  [[2450   20]\\n [ 193   27]]  \n",
       "2  [[2468    2]\\n [ 214    6]]  \n",
       "3  [[2458   12]\\n [ 204   16]]  \n",
       "4  [[2461    9]\\n [ 210   10]]  \n",
       "5  [[2461    9]\\n [ 210   10]]  \n",
       "6  [[2461    9]\\n [ 210   10]]  \n",
       "7  [[2447   23]\\n [ 208   12]]  \n",
       "8  [[2447   23]\\n [ 208   12]]  "
      ],
      "text/html": "<div>\n<style scoped>\n    .dataframe tbody tr th:only-of-type {\n        vertical-align: middle;\n    }\n\n    .dataframe tbody tr th {\n        vertical-align: top;\n    }\n\n    .dataframe thead th {\n        text-align: right;\n    }\n</style>\n<table border=\"1\" class=\"dataframe\">\n  <thead>\n    <tr style=\"text-align: right;\">\n      <th></th>\n      <th>Model</th>\n      <th>Test_score</th>\n      <th>Train_score</th>\n      <th>Test_score_drop</th>\n      <th>Accuracy</th>\n      <th>Precision</th>\n      <th>Recall</th>\n      <th>F1_score</th>\n      <th>Confusion_matrix</th>\n    </tr>\n  </thead>\n  <tbody>\n    <tr>\n      <th>0</th>\n      <td>LogisticRegression(max_iter=300, n_jobs=-1, ra...</td>\n      <td>0.922305</td>\n      <td>0.915675</td>\n      <td>0.007240</td>\n      <td>0.922305</td>\n      <td>0.617021</td>\n      <td>0.131818</td>\n      <td>0.217228</td>\n      <td>[[2452   18]\\n [ 191   29]]</td>\n    </tr>\n    <tr>\n      <th>1</th>\n      <td>LogisticRegression(n_jobs=-1, random_state=42)</td>\n      <td>0.920818</td>\n      <td>0.916233</td>\n      <td>0.005004</td>\n      <td>0.920818</td>\n      <td>0.574468</td>\n      <td>0.122727</td>\n      <td>0.202247</td>\n      <td>[[2450   20]\\n [ 193   27]]</td>\n    </tr>\n    <tr>\n      <th>2</th>\n      <td>RandomForestClassifier(max_depth=10, n_jobs=-1...</td>\n      <td>0.919703</td>\n      <td>0.936036</td>\n      <td>-0.017449</td>\n      <td>0.919703</td>\n      <td>0.750000</td>\n      <td>0.027273</td>\n      <td>0.052632</td>\n      <td>[[2468    2]\\n [ 214    6]]</td>\n    </tr>\n    <tr>\n      <th>3</th>\n      <td>RandomForestClassifier(max_depth=20, n_jobs=-1...</td>\n      <td>0.919703</td>\n      <td>0.971458</td>\n      <td>-0.053276</td>\n      <td>0.919703</td>\n      <td>0.571429</td>\n      <td>0.072727</td>\n      <td>0.129032</td>\n      <td>[[2458   12]\\n [ 204   16]]</td>\n    </tr>\n    <tr>\n      <th>4</th>\n      <td>RandomForestClassifier(n_jobs=-1, random_state...</td>\n      <td>0.918587</td>\n      <td>0.971830</td>\n      <td>-0.054786</td>\n      <td>0.918587</td>\n      <td>0.526316</td>\n      <td>0.045455</td>\n      <td>0.083682</td>\n      <td>[[2461    9]\\n [ 210   10]]</td>\n    </tr>\n    <tr>\n      <th>5</th>\n      <td>RandomForestClassifier(max_features='sqrt', n_...</td>\n      <td>0.918587</td>\n      <td>0.971830</td>\n      <td>-0.054786</td>\n      <td>0.918587</td>\n      <td>0.526316</td>\n      <td>0.045455</td>\n      <td>0.083682</td>\n      <td>[[2461    9]\\n [ 210   10]]</td>\n    </tr>\n    <tr>\n      <th>6</th>\n      <td>RandomForestClassifier(max_features='log2', n_...</td>\n      <td>0.918587</td>\n      <td>0.971830</td>\n      <td>-0.054786</td>\n      <td>0.918587</td>\n      <td>0.526316</td>\n      <td>0.045455</td>\n      <td>0.083682</td>\n      <td>[[2461    9]\\n [ 210   10]]</td>\n    </tr>\n    <tr>\n      <th>7</th>\n      <td>KNeighborsClassifier(n_jobs=-1)</td>\n      <td>0.914126</td>\n      <td>0.917627</td>\n      <td>-0.003815</td>\n      <td>0.914126</td>\n      <td>0.342857</td>\n      <td>0.054545</td>\n      <td>0.094118</td>\n      <td>[[2447   23]\\n [ 208   12]]</td>\n    </tr>\n    <tr>\n      <th>8</th>\n      <td>KNeighborsClassifier(n_jobs=-1, weights='dista...</td>\n      <td>0.914126</td>\n      <td>0.970342</td>\n      <td>-0.057934</td>\n      <td>0.914126</td>\n      <td>0.342857</td>\n      <td>0.054545</td>\n      <td>0.094118</td>\n      <td>[[2447   23]\\n [ 208   12]]</td>\n    </tr>\n  </tbody>\n</table>\n</div>"
     },
     "metadata": {},
     "execution_count": 12
    }
   ],
   "source": [
    "model_comparison_noscale_nobalance"
   ]
  },
  {
   "source": [
    "## SQL connection"
   ],
   "cell_type": "markdown",
   "metadata": {}
  },
  {
   "cell_type": "code",
   "execution_count": 2,
   "metadata": {},
   "outputs": [],
   "source": [
    "# Load server setting into variables\n",
    "read_json = md.read_json_to_dict(\"sql_server_settings.json\")\n",
    "\n",
    "IP_DNS = read_json[\"IP_DNS\"]\n",
    "USER = read_json[\"USER\"]\n",
    "PASSWORD = read_json[\"PASSWORD\"]\n",
    "DB_NAME = read_json[\"DB_NAME\"]\n",
    "PORT = read_json[\"PORT\"]"
   ]
  },
  {
   "cell_type": "code",
   "execution_count": 3,
   "metadata": {},
   "outputs": [
    {
     "output_type": "stream",
     "name": "stdout",
     "text": [
      "Connected to MySQL server [45395203b_ds_april_2021_db]\n"
     ]
    },
    {
     "output_type": "execute_result",
     "data": {
      "text/plain": [
       "<pymysql.connections.Connection at 0x10d0af050>"
      ]
     },
     "metadata": {},
     "execution_count": 3
    }
   ],
   "source": [
    "# Connection with the database\n",
    "sql_db = sq.MySQL(IP_DNS, USER, PASSWORD, DB_NAME, PORT)\n",
    "sql_db.connect()"
   ]
  },
  {
   "cell_type": "code",
   "execution_count": 11,
   "metadata": {},
   "outputs": [],
   "source": [
    "db_connection_str = sql_db.SQL_ALCHEMY\n",
    "db_connection = create_engine(db_connection_str)"
   ]
  },
  {
   "source": [
    "### DON'T EXECUTE THIS ONE\n",
    "\n",
    "# Uploading the data into the db\n",
    "data.to_sql(\"jonathan_suarez_caceres\", con = db_connection, index = False)"
   ],
   "cell_type": "code",
   "metadata": {},
   "execution_count": null,
   "outputs": []
  },
  {
   "cell_type": "code",
   "execution_count": 13,
   "metadata": {},
   "outputs": [],
   "source": [
    "# First table\n",
    "model_comparison_scale_balance.to_sql(\"model_comparison_scale_balance\", con = db_connection, index = False)\n",
    "\n",
    "# Second table\n",
    "model_comparison_noscale_nobalance.to_sql(\"model_comparison_noscale_nobalance\", con = db_connection, index = False)"
   ]
  },
  {
   "cell_type": "code",
   "execution_count": 14,
   "metadata": {},
   "outputs": [
    {
     "output_type": "stream",
     "name": "stdout",
     "text": [
      "Close connection with MySQL server [45395203b_ds_april_2021_db]\n"
     ]
    }
   ],
   "source": [
    "# Close connection\n",
    "sql_db.close()"
   ]
  },
  {
   "cell_type": "code",
   "execution_count": 10,
   "metadata": {},
   "outputs": [
    {
     "output_type": "stream",
     "name": "stdout",
     "text": [
      "Executing:\n \nSELECT * FROM model_comparison_noscale_nobalance\n\n"
     ]
    },
    {
     "output_type": "execute_result",
     "data": {
      "text/plain": [
       "                                               Model  Test_score  Train_score  \\\n",
       "0  LogisticRegression(max_iter=300, n_jobs=-1, ra...    0.922305     0.915675   \n",
       "1     LogisticRegression(n_jobs=-1, random_state=42)    0.920818     0.916233   \n",
       "2  RandomForestClassifier(max_depth=10, n_jobs=-1...    0.919703     0.936036   \n",
       "3  RandomForestClassifier(max_depth=20, n_jobs=-1...    0.919703     0.971458   \n",
       "4  RandomForestClassifier(n_jobs=-1, random_state...    0.918587     0.971830   \n",
       "5  RandomForestClassifier(max_features='sqrt', n_...    0.918587     0.971830   \n",
       "6  RandomForestClassifier(max_features='log2', n_...    0.918587     0.971830   \n",
       "7                    KNeighborsClassifier(n_jobs=-1)    0.914126     0.917627   \n",
       "8  KNeighborsClassifier(n_jobs=-1, weights='dista...    0.914126     0.970342   \n",
       "\n",
       "   Test_score_drop  Accuracy  Precision    Recall  F1_score  \\\n",
       "0         0.007240  0.922305   0.617021  0.131818  0.217228   \n",
       "1         0.005004  0.920818   0.574468  0.122727  0.202247   \n",
       "2        -0.017449  0.919703   0.750000  0.027273  0.052632   \n",
       "3        -0.053276  0.919703   0.571429  0.072727  0.129032   \n",
       "4        -0.054786  0.918587   0.526316  0.045455  0.083682   \n",
       "5        -0.054786  0.918587   0.526316  0.045455  0.083682   \n",
       "6        -0.054786  0.918587   0.526316  0.045455  0.083682   \n",
       "7        -0.003815  0.914126   0.342857  0.054545  0.094118   \n",
       "8        -0.057934  0.914126   0.342857  0.054545  0.094118   \n",
       "\n",
       "              Confusion_matrix  \n",
       "0  [[2452   18]\\n [ 191   29]]  \n",
       "1  [[2450   20]\\n [ 193   27]]  \n",
       "2  [[2468    2]\\n [ 214    6]]  \n",
       "3  [[2458   12]\\n [ 204   16]]  \n",
       "4  [[2461    9]\\n [ 210   10]]  \n",
       "5  [[2461    9]\\n [ 210   10]]  \n",
       "6  [[2461    9]\\n [ 210   10]]  \n",
       "7  [[2447   23]\\n [ 208   12]]  \n",
       "8  [[2447   23]\\n [ 208   12]]  "
      ],
      "text/html": "<div>\n<style scoped>\n    .dataframe tbody tr th:only-of-type {\n        vertical-align: middle;\n    }\n\n    .dataframe tbody tr th {\n        vertical-align: top;\n    }\n\n    .dataframe thead th {\n        text-align: right;\n    }\n</style>\n<table border=\"1\" class=\"dataframe\">\n  <thead>\n    <tr style=\"text-align: right;\">\n      <th></th>\n      <th>Model</th>\n      <th>Test_score</th>\n      <th>Train_score</th>\n      <th>Test_score_drop</th>\n      <th>Accuracy</th>\n      <th>Precision</th>\n      <th>Recall</th>\n      <th>F1_score</th>\n      <th>Confusion_matrix</th>\n    </tr>\n  </thead>\n  <tbody>\n    <tr>\n      <th>0</th>\n      <td>LogisticRegression(max_iter=300, n_jobs=-1, ra...</td>\n      <td>0.922305</td>\n      <td>0.915675</td>\n      <td>0.007240</td>\n      <td>0.922305</td>\n      <td>0.617021</td>\n      <td>0.131818</td>\n      <td>0.217228</td>\n      <td>[[2452   18]\\n [ 191   29]]</td>\n    </tr>\n    <tr>\n      <th>1</th>\n      <td>LogisticRegression(n_jobs=-1, random_state=42)</td>\n      <td>0.920818</td>\n      <td>0.916233</td>\n      <td>0.005004</td>\n      <td>0.920818</td>\n      <td>0.574468</td>\n      <td>0.122727</td>\n      <td>0.202247</td>\n      <td>[[2450   20]\\n [ 193   27]]</td>\n    </tr>\n    <tr>\n      <th>2</th>\n      <td>RandomForestClassifier(max_depth=10, n_jobs=-1...</td>\n      <td>0.919703</td>\n      <td>0.936036</td>\n      <td>-0.017449</td>\n      <td>0.919703</td>\n      <td>0.750000</td>\n      <td>0.027273</td>\n      <td>0.052632</td>\n      <td>[[2468    2]\\n [ 214    6]]</td>\n    </tr>\n    <tr>\n      <th>3</th>\n      <td>RandomForestClassifier(max_depth=20, n_jobs=-1...</td>\n      <td>0.919703</td>\n      <td>0.971458</td>\n      <td>-0.053276</td>\n      <td>0.919703</td>\n      <td>0.571429</td>\n      <td>0.072727</td>\n      <td>0.129032</td>\n      <td>[[2458   12]\\n [ 204   16]]</td>\n    </tr>\n    <tr>\n      <th>4</th>\n      <td>RandomForestClassifier(n_jobs=-1, random_state...</td>\n      <td>0.918587</td>\n      <td>0.971830</td>\n      <td>-0.054786</td>\n      <td>0.918587</td>\n      <td>0.526316</td>\n      <td>0.045455</td>\n      <td>0.083682</td>\n      <td>[[2461    9]\\n [ 210   10]]</td>\n    </tr>\n    <tr>\n      <th>5</th>\n      <td>RandomForestClassifier(max_features='sqrt', n_...</td>\n      <td>0.918587</td>\n      <td>0.971830</td>\n      <td>-0.054786</td>\n      <td>0.918587</td>\n      <td>0.526316</td>\n      <td>0.045455</td>\n      <td>0.083682</td>\n      <td>[[2461    9]\\n [ 210   10]]</td>\n    </tr>\n    <tr>\n      <th>6</th>\n      <td>RandomForestClassifier(max_features='log2', n_...</td>\n      <td>0.918587</td>\n      <td>0.971830</td>\n      <td>-0.054786</td>\n      <td>0.918587</td>\n      <td>0.526316</td>\n      <td>0.045455</td>\n      <td>0.083682</td>\n      <td>[[2461    9]\\n [ 210   10]]</td>\n    </tr>\n    <tr>\n      <th>7</th>\n      <td>KNeighborsClassifier(n_jobs=-1)</td>\n      <td>0.914126</td>\n      <td>0.917627</td>\n      <td>-0.003815</td>\n      <td>0.914126</td>\n      <td>0.342857</td>\n      <td>0.054545</td>\n      <td>0.094118</td>\n      <td>[[2447   23]\\n [ 208   12]]</td>\n    </tr>\n    <tr>\n      <th>8</th>\n      <td>KNeighborsClassifier(n_jobs=-1, weights='dista...</td>\n      <td>0.914126</td>\n      <td>0.970342</td>\n      <td>-0.057934</td>\n      <td>0.914126</td>\n      <td>0.342857</td>\n      <td>0.054545</td>\n      <td>0.094118</td>\n      <td>[[2447   23]\\n [ 208   12]]</td>\n    </tr>\n  </tbody>\n</table>\n</div>"
     },
     "metadata": {},
     "execution_count": 10
    }
   ],
   "source": [
    "sql_query = '''\n",
    "SELECT * FROM model_comparison_noscale_nobalance\n",
    "'''\n",
    "\n",
    "results = sql_db.execute_get_sql(sql_query)\n",
    "column_names = [tuple[0] for tuple in sql_db.cursor.description]\n",
    "pd.DataFrame(results, columns = column_names)"
   ]
  },
  {
   "cell_type": "code",
   "execution_count": 8,
   "metadata": {},
   "outputs": [
    {
     "output_type": "execute_result",
     "data": {
      "text/plain": [
       "['Model',\n",
       " 'Test_score',\n",
       " 'Train_score',\n",
       " 'Test_score_drop',\n",
       " 'Accuracy',\n",
       " 'Precision',\n",
       " 'Recall',\n",
       " 'F1_score',\n",
       " 'Confusion_matrix']"
      ]
     },
     "metadata": {},
     "execution_count": 8
    }
   ],
   "source": [
    "[tuple[0] for tuple in sql_db.cursor.description]"
   ]
  },
  {
   "cell_type": "code",
   "execution_count": null,
   "metadata": {},
   "outputs": [],
   "source": []
  }
 ]
}