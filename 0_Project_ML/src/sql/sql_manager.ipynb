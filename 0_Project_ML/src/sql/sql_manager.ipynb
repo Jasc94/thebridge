{
 "metadata": {
  "language_info": {
   "codemirror_mode": {
    "name": "ipython",
    "version": 3
   },
   "file_extension": ".py",
   "mimetype": "text/x-python",
   "name": "python",
   "nbconvert_exporter": "python",
   "pygments_lexer": "ipython3",
   "version": "3.7.4"
  },
  "orig_nbformat": 4,
  "kernelspec": {
   "name": "python3",
   "display_name": "Python 3.7.4 64-bit"
  },
  "interpreter": {
   "hash": "aee8b7b246df8f9039afb4144a1f6fd8d2ca17a180786b69acc140d282b71a49"
  }
 },
 "nbformat": 4,
 "nbformat_minor": 2,
 "cells": [
  {
   "cell_type": "code",
   "execution_count": 1,
   "metadata": {},
   "outputs": [
    {
     "output_type": "stream",
     "name": "stdout",
     "text": [
      "/Users/jonathansuarezcaceres/Downloads/1_DataScience/TheBridge/thebridge/0_Project_ML/src/utils\n"
     ]
    }
   ],
   "source": [
    "import pandas as pd\n",
    "from sqlalchemy import create_engine\n",
    "\n",
    "import sys, os\n",
    "\n",
    "# Helpers\n",
    "abspath = os.path.abspath\n",
    "dirname = os.path.dirname\n",
    "sep = os.sep\n",
    "file_ = os.getcwd()\n",
    "\n",
    "sys.path.append(dirname(abspath(file_)))\n",
    "\n",
    "import utils.folder_tb as fo\n",
    "import utils.mining_data_tb as md\n",
    "import utils.sql_tb as sq"
   ]
  },
  {
   "source": [
    "## Data to upload"
   ],
   "cell_type": "markdown",
   "metadata": {}
  },
  {
   "cell_type": "code",
   "execution_count": 2,
   "metadata": {},
   "outputs": [
    {
     "output_type": "stream",
     "name": "stdout",
     "text": [
      "(13472, 18)\n<class 'pandas.core.frame.DataFrame'>\nRangeIndex: 13472 entries, 0 to 13471\nData columns (total 18 columns):\n #   Column    Non-Null Count  Dtype  \n---  ------    --------------  -----  \n 0   SEQN      13472 non-null  int64  \n 1   MCQ010    13472 non-null  float64\n 2   RIAGENDR  13472 non-null  int64  \n 3   RIDAGEYR  13472 non-null  int64  \n 4   DR1TCHOL  13472 non-null  float64\n 5   DR1TTFAT  13472 non-null  float64\n 6   DR1TSFAT  13472 non-null  float64\n 7   DR1TSUGR  13472 non-null  float64\n 8   DR2TCHOL  13472 non-null  float64\n 9   DR2TTFAT  13472 non-null  float64\n 10  DR2TSFAT  13472 non-null  float64\n 11  DR2TSUGR  13472 non-null  float64\n 12  BPXDI1    13472 non-null  float64\n 13  BPXSY1    13472 non-null  float64\n 14  BMXWT     13472 non-null  float64\n 15  BMXWAIST  13472 non-null  float64\n 16  LBXTC     13472 non-null  float64\n 17  LBXSGL    13472 non-null  float64\ndtypes: float64(15), int64(3)\nmemory usage: 1.9 MB\n"
     ]
    }
   ],
   "source": [
    "# Load the data and check that everything is fine\n",
    "cleaned_data_path = fo.path_to_folder(2, \"data\" + sep + \"7_cleaned_data\") + \"cleaned_data.csv\"\n",
    "data = pd.read_csv(cleaned_data_path)\n",
    "\n",
    "print(data.shape)\n",
    "data.info()"
   ]
  },
  {
   "source": [
    "## SQL connection"
   ],
   "cell_type": "markdown",
   "metadata": {}
  },
  {
   "cell_type": "code",
   "execution_count": 3,
   "metadata": {},
   "outputs": [],
   "source": [
    "# Load server setting into variables\n",
    "read_json = md.read_json_to_dict(\"sql_server_settings.json\")\n",
    "\n",
    "IP_DNS = read_json[\"IP_DNS\"]\n",
    "USER = read_json[\"USER\"]\n",
    "PASSWORD = read_json[\"PASSWORD\"]\n",
    "DB_NAME = read_json[\"DB_NAME\"]\n",
    "PORT = read_json[\"PORT\"]"
   ]
  },
  {
   "cell_type": "code",
   "execution_count": 4,
   "metadata": {},
   "outputs": [
    {
     "output_type": "stream",
     "name": "stdout",
     "text": [
      "Connected to MySQL server [45395203b_ds_april_2021_db]\n"
     ]
    },
    {
     "output_type": "execute_result",
     "data": {
      "text/plain": [
       "<pymysql.connections.Connection at 0x12be10110>"
      ]
     },
     "metadata": {},
     "execution_count": 4
    }
   ],
   "source": [
    "# Connection with the database\n",
    "sql_db = sq.MySQL(IP_DNS, USER, PASSWORD, DB_NAME, PORT)\n",
    "sql_db.connect()"
   ]
  },
  {
   "cell_type": "code",
   "execution_count": 8,
   "metadata": {},
   "outputs": [],
   "source": [
    "# Uploading the data into the db\n",
    "db_connection_str = sql_db.SQL_ALCHEMY\n",
    "db_connection = create_engine(db_connection_str)\n",
    "\n",
    "data.to_sql(\"jonathan_suarez_caceres\", con = db_connection, index = False)"
   ]
  },
  {
   "cell_type": "code",
   "execution_count": 9,
   "metadata": {},
   "outputs": [
    {
     "output_type": "stream",
     "name": "stdout",
     "text": [
      "Close connection with MySQL server [45395203b_ds_april_2021_db]\n"
     ]
    }
   ],
   "source": [
    "# Close connection\n",
    "sql_db.close()"
   ]
  },
  {
   "cell_type": "code",
   "execution_count": null,
   "metadata": {},
   "outputs": [],
   "source": []
  }
 ]
}