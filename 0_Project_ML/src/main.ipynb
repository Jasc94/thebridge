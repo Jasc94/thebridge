{
 "metadata": {
  "language_info": {
   "codemirror_mode": {
    "name": "ipython",
    "version": 3
   },
   "file_extension": ".py",
   "mimetype": "text/x-python",
   "name": "python",
   "nbconvert_exporter": "python",
   "pygments_lexer": "ipython3",
   "version": "3.7.4"
  },
  "orig_nbformat": 4,
  "kernelspec": {
   "name": "python3",
   "display_name": "Python 3.7.4 64-bit"
  },
  "interpreter": {
   "hash": "aee8b7b246df8f9039afb4144a1f6fd8d2ca17a180786b69acc140d282b71a49"
  }
 },
 "nbformat": 4,
 "nbformat_minor": 2,
 "cells": [
  {
   "source": [
    "# Intro\n",
    "\n",
    "We will be working with the data from [NHANES](https://wwwn.cdc.gov/nchs/nhanes/continuousnhanes/default.aspx?BeginYear=2017), which is the the National Health and Nutrition Examination Survey, conducted by the National Center for Health Statistics (USA). \n",
    "\n",
    "They follow up the survey participants for 2 years and also ask relevant demographic and dietary questions and also life-style related.\n",
    "\n",
    "For each study (they are made every two years), we find data about:\n",
    "- demographics\n",
    "- diet\n",
    "- examination\n",
    "- laboratory\n",
    "- questionnaire (mainly lifestyle related)\n",
    "\n",
    "With this data we will try to predict a few diseases such as heart diseases or asthma.\n",
    "\n",
    "As the data is quite noise, full of NaNs, etc... I took the surveys from several year-pairs:\n",
    "- 2013-2014\n",
    "- 2015-2016\n",
    "- 2017-2018\n",
    "\n",
    "This should be no problem, as it isn't a temporal serie. The survey methods can be consulted in the website."
   ],
   "cell_type": "markdown",
   "metadata": {}
  },
  {
   "cell_type": "code",
   "execution_count": 1,
   "metadata": {},
   "outputs": [],
   "source": [
    "import pandas as pd\n",
    "from pandas.plotting import scatter_matrix\n",
    "import numpy as np\n",
    "\n",
    "import seaborn as sns\n",
    "import matplotlib.pyplot as plt\n",
    "\n",
    "from sklearn.linear_model import LogisticRegression\n",
    "from sklearn.ensemble import RandomForestClassifier\n",
    "from sklearn.neighbors import KNeighborsClassifier\n",
    "\n",
    "from sklearn.model_selection import train_test_split, RepeatedStratifiedKFold\n",
    "from sklearn import metrics\n",
    "from sklearn.preprocessing import StandardScaler\n",
    "\n",
    "from imblearn.over_sampling import SMOTE\n",
    "\n",
    "import tensorflow as tf\n",
    "from tensorflow import keras\n",
    "from tensorflow.keras import layers, models, callbacks\n",
    "\n",
    "import os, sys\n",
    "\n",
    "# Relative paths\n",
    "dirname = os.path.dirname\n",
    "sep = os.sep\n",
    "\n",
    "ml_folder = dirname(os.getcwd())\n",
    "sys.path.append(ml_folder)\n",
    "\n",
    "from src.utils import mining_data_tb as md\n",
    "from src.utils import visualization_tb as vi\n",
    "\n",
    "import warnings\n",
    "\n",
    "warnings.filterwarnings(\"ignore\")"
   ]
  },
  {
   "source": [
    "## Data exploration"
   ],
   "cell_type": "markdown",
   "metadata": {}
  },
  {
   "cell_type": "code",
   "execution_count": 2,
   "metadata": {},
   "outputs": [],
   "source": [
    "# As the data variables are coded (for instance, \"RIAGENDR\" is Gender), we first need to load the variable descriptions. For that, we will create an object with all the info and methods to change names whenever necessary\n",
    "\n",
    "# 1) We create the object\n",
    "vardata = md.variables_data()\n",
    "\n",
    "# 2) We load the info\n",
    "vardata_path = \"data\" + sep + \"6_variables\" + sep + \"0_final_variables.csv\"\n",
    "vardata.load_data(2, vardata_path)"
   ]
  },
  {
   "cell_type": "code",
   "execution_count": 8,
   "metadata": {},
   "outputs": [],
   "source": [
    "# Now we can load the actual dataset we will be using for the ml models\n",
    "\n",
    "# 1) Create object\n",
    "dataset = md.dataset()\n",
    "\n",
    "# 2) Load data\n",
    "folders = [\"1_demographics\", \"2_dietary\", \"3_examination\", \"4_laboratory\", \"5_questionnaire\"]\n",
    "dataset.load_data(0, folders)\n",
    "\n",
    "# 3) Clean duplicated columns (alraedy have them detected)\n",
    "columns_correction = {\n",
    "            \"WTDRD1_x\" : \"WTDRD1\",\n",
    "            \"WTDR2D_x\" : \"WTDR2D\",\n",
    "            \"DRABF_x\" : \"DRABF\",\n",
    "            \"DRDINT_x\" : \"DRDINT\",\n",
    "            \"WTSAF2YR_x\" : \"WTSAF2YR\",\n",
    "            \"LBXHCT_x\" : \"LBXHCT\"\n",
    "        }\n",
    "dataset.clean_columns(columns_correction)\n",
    "\n",
    "# 4) Add heart heart_disease -> It creates a new column where if participant has any cardiovascular disease (angina, stroke, etc...), it will have a 1 and 0 otherwise\n",
    "dataset.heart_disease()"
   ]
  },
  {
   "cell_type": "code",
   "execution_count": 11,
   "metadata": {},
   "outputs": [
    {
     "output_type": "stream",
     "name": "stdout",
     "text": [
      "(29285, 951) \n\n"
     ]
    },
    {
     "output_type": "execute_result",
     "data": {
      "text/plain": [
       "       SDDSRVYR  RIDSTATR  RIAGENDR  RIDAGEYR  RIDAGEMN  RIDRETH1  RIDRETH3  \\\n",
       "SEQN                                                                          \n",
       "83732         9         2         1        62       NaN         3         3   \n",
       "83733         9         2         1        53       NaN         3         3   \n",
       "\n",
       "       RIDEXMON  RIDEXAGM  DMQMILIZ  ...  SMQ690F  SMQ830  SMQ840  SMDANY  \\\n",
       "SEQN                                 ...                                    \n",
       "83732       1.0       NaN       2.0  ...      NaN     NaN     NaN     2.0   \n",
       "83733       1.0       NaN       2.0  ...      NaN     NaN     NaN     1.0   \n",
       "\n",
       "       SMAQUEX  SMQ690I  SMQ857  SMQ690J  SMQ861  heart_disease  \n",
       "SEQN                                                             \n",
       "83732      2.0      NaN     NaN      NaN     NaN              0  \n",
       "83733      2.0      NaN     NaN      NaN     NaN              0  \n",
       "\n",
       "[2 rows x 951 columns]"
      ],
      "text/html": "<div>\n<style scoped>\n    .dataframe tbody tr th:only-of-type {\n        vertical-align: middle;\n    }\n\n    .dataframe tbody tr th {\n        vertical-align: top;\n    }\n\n    .dataframe thead th {\n        text-align: right;\n    }\n</style>\n<table border=\"1\" class=\"dataframe\">\n  <thead>\n    <tr style=\"text-align: right;\">\n      <th></th>\n      <th>SDDSRVYR</th>\n      <th>RIDSTATR</th>\n      <th>RIAGENDR</th>\n      <th>RIDAGEYR</th>\n      <th>RIDAGEMN</th>\n      <th>RIDRETH1</th>\n      <th>RIDRETH3</th>\n      <th>RIDEXMON</th>\n      <th>RIDEXAGM</th>\n      <th>DMQMILIZ</th>\n      <th>...</th>\n      <th>SMQ690F</th>\n      <th>SMQ830</th>\n      <th>SMQ840</th>\n      <th>SMDANY</th>\n      <th>SMAQUEX</th>\n      <th>SMQ690I</th>\n      <th>SMQ857</th>\n      <th>SMQ690J</th>\n      <th>SMQ861</th>\n      <th>heart_disease</th>\n    </tr>\n    <tr>\n      <th>SEQN</th>\n      <th></th>\n      <th></th>\n      <th></th>\n      <th></th>\n      <th></th>\n      <th></th>\n      <th></th>\n      <th></th>\n      <th></th>\n      <th></th>\n      <th></th>\n      <th></th>\n      <th></th>\n      <th></th>\n      <th></th>\n      <th></th>\n      <th></th>\n      <th></th>\n      <th></th>\n      <th></th>\n      <th></th>\n    </tr>\n  </thead>\n  <tbody>\n    <tr>\n      <th>83732</th>\n      <td>9</td>\n      <td>2</td>\n      <td>1</td>\n      <td>62</td>\n      <td>NaN</td>\n      <td>3</td>\n      <td>3</td>\n      <td>1.0</td>\n      <td>NaN</td>\n      <td>2.0</td>\n      <td>...</td>\n      <td>NaN</td>\n      <td>NaN</td>\n      <td>NaN</td>\n      <td>2.0</td>\n      <td>2.0</td>\n      <td>NaN</td>\n      <td>NaN</td>\n      <td>NaN</td>\n      <td>NaN</td>\n      <td>0</td>\n    </tr>\n    <tr>\n      <th>83733</th>\n      <td>9</td>\n      <td>2</td>\n      <td>1</td>\n      <td>53</td>\n      <td>NaN</td>\n      <td>3</td>\n      <td>3</td>\n      <td>1.0</td>\n      <td>NaN</td>\n      <td>2.0</td>\n      <td>...</td>\n      <td>NaN</td>\n      <td>NaN</td>\n      <td>NaN</td>\n      <td>1.0</td>\n      <td>2.0</td>\n      <td>NaN</td>\n      <td>NaN</td>\n      <td>NaN</td>\n      <td>NaN</td>\n      <td>0</td>\n    </tr>\n  </tbody>\n</table>\n<p>2 rows × 951 columns</p>\n</div>"
     },
     "metadata": {},
     "execution_count": 11
    }
   ],
   "source": [
    "# With this, we can do a first exploration. For that, we can access the df though the object attribute \"df\"\n",
    "\n",
    "print(dataset.df.shape, \"\\n\")\n",
    "dataset.df.head(2)"
   ]
  },
  {
   "cell_type": "code",
   "execution_count": 12,
   "metadata": {},
   "outputs": [],
   "source": [
    "# As we can see, it is quite wide. Let's filter by the columns we will actually be using (using our magnificent object)\n",
    "features = features = [\"MCQ010\", \"RIAGENDR\", \"RIDAGEYR\", \"DR1TCHOL\", \"DR1TTFAT\", \"DR1TSFAT\", \"DR1TSUGR\", \"DR2TCHOL\", \"DR2TTFAT\", \"DR2TSFAT\", \"DR2TSUGR\", \"BPXDI1\", \"BPXSY1\", \"BMXWT\", \"DXDTOPF\", \"BMXWAIST\", \"LBXTR\", \"LBXTC\", \"LBXSGL\"]\n",
    "\n",
    "dataset.filter_columns(features)"
   ]
  },
  {
   "cell_type": "code",
   "execution_count": 15,
   "metadata": {},
   "outputs": [
    {
     "output_type": "stream",
     "name": "stdout",
     "text": [
      "(29285, 19)\n<class 'pandas.core.frame.DataFrame'>\nInt64Index: 29285 entries, 83732 to 102956\nData columns (total 19 columns):\n #   Column    Non-Null Count  Dtype  \n---  ------    --------------  -----  \n 0   MCQ010    28126 non-null  float64\n 1   RIAGENDR  29285 non-null  int64  \n 2   RIDAGEYR  29285 non-null  int64  \n 3   DR1TCHOL  24248 non-null  float64\n 4   DR1TTFAT  24248 non-null  float64\n 5   DR1TSFAT  24248 non-null  float64\n 6   DR1TSUGR  24248 non-null  float64\n 7   DR2TCHOL  20754 non-null  float64\n 8   DR2TTFAT  20754 non-null  float64\n 9   DR2TSFAT  20754 non-null  float64\n 10  DR2TSUGR  20754 non-null  float64\n 11  BPXDI1    20522 non-null  float64\n 12  BPXSY1    20522 non-null  float64\n 13  BMXWT     27642 non-null  float64\n 14  DXDTOPF   13290 non-null  float64\n 15  BMXWAIST  24476 non-null  float64\n 16  LBXTR     8654 non-null   float64\n 17  LBXTC     21517 non-null  float64\n 18  LBXSGL    18610 non-null  float64\ndtypes: float64(17), int64(2)\nmemory usage: 4.5 MB\n"
     ]
    }
   ],
   "source": [
    "print(dataset.df.shape)\n",
    "\n",
    "dataset.df.info()"
   ]
  },
  {
   "cell_type": "code",
   "execution_count": null,
   "metadata": {},
   "outputs": [],
   "source": []
  }
 ]
}