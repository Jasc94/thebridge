{
 "metadata": {
  "language_info": {
   "codemirror_mode": {
    "name": "ipython",
    "version": 3
   },
   "file_extension": ".py",
   "mimetype": "text/x-python",
   "name": "python",
   "nbconvert_exporter": "python",
   "pygments_lexer": "ipython3",
   "version": "3.7.4"
  },
  "orig_nbformat": 4,
  "kernelspec": {
   "name": "python3",
   "display_name": "Python 3.7.4 64-bit"
  },
  "interpreter": {
   "hash": "aee8b7b246df8f9039afb4144a1f6fd8d2ca17a180786b69acc140d282b71a49"
  }
 },
 "nbformat": 4,
 "nbformat_minor": 2,
 "cells": [
  {
   "cell_type": "code",
   "execution_count": 1,
   "metadata": {},
   "outputs": [],
   "source": [
    "import streamlit as st\n",
    "\n",
    "import copy\n",
    "import numpy as np\n",
    "import pandas as pd\n",
    "import joblib\n",
    "\n",
    "from sqlalchemy import create_engine\n",
    "\n",
    "from sklearn.linear_model import LogisticRegression\n",
    "from sklearn.ensemble import RandomForestClassifier\n",
    "from sklearn.neighbors import KNeighborsClassifier\n",
    "from sklearn.svm import LinearSVC\n",
    "\n",
    "from sklearn.model_selection import train_test_split, RepeatedStratifiedKFold\n",
    "from sklearn import metrics\n",
    "from sklearn.preprocessing import StandardScaler\n",
    "\n",
    "import tensorflow as tf\n",
    "from tensorflow import keras\n",
    "from tensorflow.keras import layers, models, callbacks\n",
    "from keras.models import load_model\n",
    "\n",
    "import plotly.express as px\n",
    "import plotly.graph_objects as go\n",
    "from plotly.subplots import make_subplots\n",
    "import plotly.figure_factory as ff\n",
    "\n",
    "import requests\n",
    "import webbrowser\n",
    "\n",
    "import sys\n",
    "import os\n",
    "\n",
    "# Helpers\n",
    "abspath = os.path.abspath\n",
    "dirname = os.path.dirname\n",
    "sep = os.sep\n",
    "\n",
    "# Path modification\n",
    "current_folder = dirname(abspath(os.getcwd()))\n",
    "for i in range(1): current_folder = dirname(abspath(current_folder))\n",
    "sys.path.append(current_folder)\n",
    "\n",
    "# Self-made packages\n",
    "import mining_data_tb as md\n",
    "import visualization_tb as vi\n",
    "import folder_tb as fo\n",
    "import models as mo\n",
    "import sql_tb as sq"
   ]
  },
  {
   "cell_type": "code",
   "execution_count": 2,
   "metadata": {},
   "outputs": [],
   "source": [
    "# Server settings\n",
    "settings_path = fo.path_to_folder(1, \"sql\") + \"sql_server_settings.json\"\n",
    "read_json = md.read_json_to_dict(settings_path)\n",
    "\n",
    "IP_DNS = read_json[\"IP_DNS\"]\n",
    "USER = read_json[\"USER\"]\n",
    "PASSWORD = read_json[\"PASSWORD\"]\n",
    "DB_NAME = read_json[\"DB_NAME\"]\n",
    "PORT = read_json[\"PORT\"]"
   ]
  },
  {
   "cell_type": "code",
   "execution_count": 3,
   "metadata": {},
   "outputs": [
    {
     "output_type": "stream",
     "name": "stdout",
     "text": [
      "Connected to MySQL server [45395203b_ds_april_2021_db]\n"
     ]
    },
    {
     "output_type": "execute_result",
     "data": {
      "text/plain": [
       "<pymysql.connections.Connection at 0x151cbe490>"
      ]
     },
     "metadata": {},
     "execution_count": 3
    }
   ],
   "source": [
    "# Server connection\n",
    "sql_db = sq.MySQL(IP_DNS, USER, PASSWORD, DB_NAME, PORT)\n",
    "sql_db.connect()"
   ]
  },
  {
   "cell_type": "code",
   "execution_count": 4,
   "metadata": {},
   "outputs": [
    {
     "output_type": "execute_result",
     "data": {
      "text/plain": [
       "\"INSERT INTO predictions (model, RIDAGEYR, BPXDI1, BPXSY1, BMXWT, BMXWAIST, LBXTC, LBXSGL, MEANCHOL, MEANTFAT, MEANSFAT, MEANSUGR, MEANFIBE, MEANTVB6, FEMALE, MALE, prediction) VALUES ('ndsuafnaisfas', '43', '68', '121', '79', '97', '183', '100', '290', '78', '25', '103', '16', '2', '1', '0', '0')\""
      ]
     },
     "metadata": {},
     "execution_count": 4
    }
   ],
   "source": [
    "model = \"ndsuafnaisfas\"\n",
    "RIDAGEYR = 43\n",
    "BPXDI1 = 68\n",
    "BPXSY1 = 121 \n",
    "BMXWT = 79\n",
    "BMXWAIST = 97\n",
    "LBXTC = 183\n",
    "LBXSGL = 100\n",
    "MEANCHOL = 290\n",
    "MEANTFAT = 78\n",
    "MEANSFAT = 25\n",
    "MEANSUGR = 103\n",
    "MEANFIBE = 16\n",
    "MEANTVB6 = 2\n",
    "FEMALE = 1\n",
    "MALE = 0\n",
    "prediction = \"0\"\n",
    "\n",
    "to_predict = [model, RIDAGEYR, BPXDI1, BPXSY1, BMXWT, BMXWAIST, LBXTC,\n",
    "                LBXSGL, MEANCHOL, MEANTFAT, MEANSFAT, MEANSUGR, MEANFIBE,\n",
    "                MEANTVB6, FEMALE, MALE, prediction]\n",
    "to_predict = [str(val) for val in to_predict]\n",
    "\n",
    "sql_insert = sql_db.insert_into_predictions(to_predict)\n",
    "sql_insert"
   ]
  },
  {
   "cell_type": "code",
   "execution_count": 5,
   "metadata": {},
   "outputs": [
    {
     "output_type": "stream",
     "name": "stdout",
     "text": [
      "Executed \n\nINSERT INTO predictions (model, RIDAGEYR, BPXDI1, BPXSY1, BMXWT, BMXWAIST, LBXTC, LBXSGL, MEANCHOL, MEANTFAT, MEANSFAT, MEANSUGR, MEANFIBE, MEANTVB6, FEMALE, MALE, prediction) VALUES ('ndsuafnaisfas', '43', '68', '121', '79', '97', '183', '100', '290', '78', '25', '103', '16', '2', '1', '0', '0')\n\n succesfully\n"
     ]
    },
    {
     "output_type": "execute_result",
     "data": {
      "text/plain": [
       "1"
      ]
     },
     "metadata": {},
     "execution_count": 5
    }
   ],
   "source": [
    "sql_db.execute_interactive_sql(sql_insert)"
   ]
  },
  {
   "cell_type": "code",
   "execution_count": 11,
   "metadata": {},
   "outputs": [],
   "source": [
    "db_connection_str = sql_db.SQL_ALCHEMY\n",
    "db_connection = create_engine(db_connection_str)\n",
    "\n",
    "data.to_sql(\"api_table_1\", con = db_connection, index = False)"
   ]
  },
  {
   "cell_type": "code",
   "execution_count": 9,
   "metadata": {},
   "outputs": [
    {
     "output_type": "execute_result",
     "data": {
      "text/plain": [
       "<pymysql.cursors.Cursor at 0x110b45490>"
      ]
     },
     "metadata": {},
     "execution_count": 9
    }
   ],
   "source": [
    "sql_db.cursor"
   ]
  },
  {
   "cell_type": "code",
   "execution_count": 12,
   "metadata": {},
   "outputs": [
    {
     "output_type": "stream",
     "name": "stdout",
     "text": [
      "Close connection with MySQL server [45395203b_ds_april_2021_db]\n"
     ]
    }
   ],
   "source": [
    "sql_db.close()"
   ]
  },
  {
   "cell_type": "code",
   "execution_count": 6,
   "metadata": {},
   "outputs": [],
   "source": [
    "model = joblib.load(fo.path_to_folder(2, \"models\") + \"best_ml_model.pkl\")"
   ]
  },
  {
   "cell_type": "code",
   "execution_count": 15,
   "metadata": {},
   "outputs": [
    {
     "output_type": "stream",
     "name": "stderr",
     "text": [
      "/Library/Frameworks/Python.framework/Versions/3.7/lib/python3.7/site-packages/sklearn/utils/validation.py:63: FutureWarning: Arrays of bytes/strings is being converted to decimal numbers if dtype='numeric'. This behavior is deprecated in 0.24 and will be removed in 1.1 (renaming of 0.26). Please convert your data to numeric values explicitly instead.\n  return f(*args, **kwargs)\n"
     ]
    }
   ],
   "source": [
    "pred = model.predict(np.array(to_predict[1:-1]).reshape(1, -1))"
   ]
  },
  {
   "cell_type": "code",
   "execution_count": 17,
   "metadata": {},
   "outputs": [
    {
     "output_type": "execute_result",
     "data": {
      "text/plain": [
       "array([ True])"
      ]
     },
     "metadata": {},
     "execution_count": 17
    }
   ],
   "source": [
    "pred == 1"
   ]
  },
  {
   "cell_type": "code",
   "execution_count": null,
   "metadata": {},
   "outputs": [],
   "source": []
  }
 ]
}