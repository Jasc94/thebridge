{
 "metadata": {
  "language_info": {
   "codemirror_mode": {
    "name": "ipython",
    "version": 3
   },
   "file_extension": ".py",
   "mimetype": "text/x-python",
   "name": "python",
   "nbconvert_exporter": "python",
   "pygments_lexer": "ipython3",
   "version": "3.7.4"
  },
  "orig_nbformat": 4,
  "kernelspec": {
   "name": "python3",
   "display_name": "Python 3.7.4 64-bit"
  },
  "interpreter": {
   "hash": "aee8b7b246df8f9039afb4144a1f6fd8d2ca17a180786b69acc140d282b71a49"
  }
 },
 "nbformat": 4,
 "nbformat_minor": 2,
 "cells": [
  {
   "cell_type": "code",
   "execution_count": 2,
   "metadata": {},
   "outputs": [],
   "source": [
    "from flask import Flask, request, render_template, Response\n",
    "from imblearn.over_sampling import SMOTE\n",
    "from sqlalchemy import create_engine\n",
    "\n",
    "import pandas as pd\n",
    "\n",
    "import sys, os, argparse\n",
    "\n",
    "# Helpers\n",
    "abspath = os.path.abspath\n",
    "dirname = os.path.dirname\n",
    "sep = os.sep\n",
    "\n",
    "current_folder = dirname(abspath(os.getcwd()))\n",
    "sys.path.append(current_folder)\n",
    "\n",
    "#for i in sys.path: print(i)\n",
    "\n",
    "import folder_tb as fo\n",
    "import mining_data_tb as md\n",
    "import sql_tb as sq"
   ]
  },
  {
   "cell_type": "code",
   "execution_count": 8,
   "metadata": {},
   "outputs": [],
   "source": [
    "# Data\n",
    "data_path = fo.path_to_folder(2, \"data\" + sep + \"7_cleaned_data\") + \"cleaned_data.csv\"\n",
    "data = pd.read_csv(data_path)"
   ]
  },
  {
   "cell_type": "code",
   "execution_count": 9,
   "metadata": {},
   "outputs": [],
   "source": [
    "# Server settings\n",
    "settings_path = fo.path_to_folder(1, \"sql\") + \"sql_server_settings.json\"\n",
    "read_json = md.read_json_to_dict(settings_path)\n",
    "\n",
    "IP_DNS = read_json[\"IP_DNS\"]\n",
    "USER = read_json[\"USER\"]\n",
    "PASSWORD = read_json[\"PASSWORD\"]\n",
    "DB_NAME = read_json[\"DB_NAME\"]\n",
    "PORT = read_json[\"PORT\"]"
   ]
  },
  {
   "cell_type": "code",
   "execution_count": 10,
   "metadata": {},
   "outputs": [
    {
     "output_type": "stream",
     "name": "stdout",
     "text": [
      "Connected to MySQL server [45395203b_ds_april_2021_db]\n"
     ]
    },
    {
     "output_type": "execute_result",
     "data": {
      "text/plain": [
       "<pymysql.connections.Connection at 0x1327f3fd0>"
      ]
     },
     "metadata": {},
     "execution_count": 10
    }
   ],
   "source": [
    "# Server connection\n",
    "sql_db = sq.MySQL(IP_DNS, USER, PASSWORD, DB_NAME, PORT)\n",
    "sql_db.connect()"
   ]
  },
  {
   "cell_type": "code",
   "execution_count": 11,
   "metadata": {},
   "outputs": [],
   "source": [
    "db_connection_str = sql_db.SQL_ALCHEMY\n",
    "db_connection = create_engine(db_connection_str)\n",
    "\n",
    "data.to_sql(\"api_table_1\", con = db_connection, index = False)"
   ]
  },
  {
   "cell_type": "code",
   "execution_count": 12,
   "metadata": {},
   "outputs": [
    {
     "output_type": "stream",
     "name": "stdout",
     "text": [
      "Close connection with MySQL server [45395203b_ds_april_2021_db]\n"
     ]
    }
   ],
   "source": [
    "sql_db.close()"
   ]
  },
  {
   "cell_type": "code",
   "execution_count": null,
   "metadata": {},
   "outputs": [],
   "source": []
  }
 ]
}