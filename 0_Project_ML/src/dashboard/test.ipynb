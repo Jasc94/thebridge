{
 "metadata": {
  "language_info": {
   "codemirror_mode": {
    "name": "ipython",
    "version": 3
   },
   "file_extension": ".py",
   "mimetype": "text/x-python",
   "name": "python",
   "nbconvert_exporter": "python",
   "pygments_lexer": "ipython3",
   "version": "3.7.4"
  },
  "orig_nbformat": 4,
  "kernelspec": {
   "name": "python3",
   "display_name": "Python 3.7.4 64-bit"
  },
  "interpreter": {
   "hash": "aee8b7b246df8f9039afb4144a1f6fd8d2ca17a180786b69acc140d282b71a49"
  }
 },
 "nbformat": 4,
 "nbformat_minor": 2,
 "cells": [
  {
   "cell_type": "code",
   "execution_count": 5,
   "metadata": {},
   "outputs": [],
   "source": [
    "import streamlit as st\n",
    "\n",
    "import numpy as np\n",
    "import pandas as pd\n",
    "\n",
    "#import plotly.plotly as py\n",
    "import plotly.express as px\n",
    "import plotly.graph_objects as go\n",
    "from plotly.subplots import make_subplots\n",
    "import plotly.figure_factory as ff\n",
    "\n",
    "import requests\n",
    "import webbrowser\n",
    "\n",
    "import sys\n",
    "import os\n",
    "\n",
    "# Helpers\n",
    "abspath = os.path.abspath\n",
    "dirname = os.path.dirname\n",
    "sep = os.sep\n",
    "\n",
    "# Path modification\n",
    "current_folder = dirname(abspath(os.getcwd()))\n",
    "for i in range(0): current_folder = dirname(abspath(current_folder))\n",
    "sys.path.append(current_folder)\n",
    "\n",
    "# Self-made packages\n",
    "import utils.mining_data_tb as md\n",
    "import utils.visualization_tb as vi\n",
    "import utils.folder_tb as fo"
   ]
  },
  {
   "cell_type": "code",
   "execution_count": 9,
   "metadata": {},
   "outputs": [],
   "source": [
    "vardata_downpath = \"data\" + sep + \"6_variables\" + sep + \"0_final_variables.csv\"\n",
    "vardata = md.variables_data()\n",
    "vardata.load_data(2, vardata_downpath)\n",
    "variables_df = vardata.df.iloc[:, [0, 1, -2]]\n"
   ]
  },
  {
   "cell_type": "code",
   "execution_count": 29,
   "metadata": {},
   "outputs": [],
   "source": [
    "data1 = variables_df[variables_df.component == \"Demographics\"]\n",
    "data2 = variables_df[variables_df.component == \"Dietary\"]"
   ]
  },
  {
   "cell_type": "code",
   "execution_count": 30,
   "metadata": {},
   "outputs": [
    {
     "output_type": "execute_result",
     "data": {
      "text/plain": [
       "     vAr_nAmE                                          var_descr     component\n",
       "id                                                                            \n",
       "28   RIAGENDR                         Gender of the participant.  Demographics\n",
       "0    AIALANGA     Language of the MEC ACASI Interview Instrument  Demographics\n",
       "1    DMDBORN4            In what country {were you/was SP} born?  Demographics\n",
       "2    DMDCITZN  {Are you/Is SP} a citizen of the United States...  Demographics\n",
       "3    DMDEDUC2  What is the highest grade or level of school {...  Demographics\n",
       "..        ...                                                ...           ...\n",
       "739    DSQIVD                          Vitamin D (D2 + D3) (mcg)       Dietary\n",
       "740    DSQIVK                                    Vitamin K (mcg)       Dietary\n",
       "741  DSQIZINC                                          Zinc (mg)       Dietary\n",
       "742   RXQ215A  Did you take {PRODUCT NAME} as an antacid, as ...       Dietary\n",
       "743      SEQN                        Respondent sequence number.       Dietary\n",
       "\n",
       "[791 rows x 3 columns]"
      ],
      "text/html": "<div>\n<style scoped>\n    .dataframe tbody tr th:only-of-type {\n        vertical-align: middle;\n    }\n\n    .dataframe tbody tr th {\n        vertical-align: top;\n    }\n\n    .dataframe thead th {\n        text-align: right;\n    }\n</style>\n<table border=\"1\" class=\"dataframe\">\n  <thead>\n    <tr style=\"text-align: right;\">\n      <th></th>\n      <th>vAr_nAmE</th>\n      <th>var_descr</th>\n      <th>component</th>\n    </tr>\n    <tr>\n      <th>id</th>\n      <th></th>\n      <th></th>\n      <th></th>\n    </tr>\n  </thead>\n  <tbody>\n    <tr>\n      <th>28</th>\n      <td>RIAGENDR</td>\n      <td>Gender of the participant.</td>\n      <td>Demographics</td>\n    </tr>\n    <tr>\n      <th>0</th>\n      <td>AIALANGA</td>\n      <td>Language of the MEC ACASI Interview Instrument</td>\n      <td>Demographics</td>\n    </tr>\n    <tr>\n      <th>1</th>\n      <td>DMDBORN4</td>\n      <td>In what country {were you/was SP} born?</td>\n      <td>Demographics</td>\n    </tr>\n    <tr>\n      <th>2</th>\n      <td>DMDCITZN</td>\n      <td>{Are you/Is SP} a citizen of the United States...</td>\n      <td>Demographics</td>\n    </tr>\n    <tr>\n      <th>3</th>\n      <td>DMDEDUC2</td>\n      <td>What is the highest grade or level of school {...</td>\n      <td>Demographics</td>\n    </tr>\n    <tr>\n      <th>...</th>\n      <td>...</td>\n      <td>...</td>\n      <td>...</td>\n    </tr>\n    <tr>\n      <th>739</th>\n      <td>DSQIVD</td>\n      <td>Vitamin D (D2 + D3) (mcg)</td>\n      <td>Dietary</td>\n    </tr>\n    <tr>\n      <th>740</th>\n      <td>DSQIVK</td>\n      <td>Vitamin K (mcg)</td>\n      <td>Dietary</td>\n    </tr>\n    <tr>\n      <th>741</th>\n      <td>DSQIZINC</td>\n      <td>Zinc (mg)</td>\n      <td>Dietary</td>\n    </tr>\n    <tr>\n      <th>742</th>\n      <td>RXQ215A</td>\n      <td>Did you take {PRODUCT NAME} as an antacid, as ...</td>\n      <td>Dietary</td>\n    </tr>\n    <tr>\n      <th>743</th>\n      <td>SEQN</td>\n      <td>Respondent sequence number.</td>\n      <td>Dietary</td>\n    </tr>\n  </tbody>\n</table>\n<p>791 rows × 3 columns</p>\n</div>"
     },
     "metadata": {},
     "execution_count": 30
    }
   ],
   "source": [
    "data.append(data2)"
   ]
  },
  {
   "cell_type": "code",
   "execution_count": 49,
   "metadata": {},
   "outputs": [
    {
     "output_type": "execute_result",
     "data": {
      "text/plain": [
       "      vAr_nAmE                                          var_descr  \\\n",
       "id                                                                  \n",
       "28    RIAGENDR                         Gender of the participant.   \n",
       "0     AIALANGA     Language of the MEC ACASI Interview Instrument   \n",
       "1     DMDBORN4            In what country {were you/was SP} born?   \n",
       "2     DMDCITZN  {Are you/Is SP} a citizen of the United States...   \n",
       "3     DMDEDUC2  What is the highest grade or level of school {...   \n",
       "...        ...                                                ...   \n",
       "1002      SEQN                        Respondent sequence number.   \n",
       "1003      SEQN                        Respondent sequence number.   \n",
       "1057      SEQN                        Respondent sequence number.   \n",
       "1067      SEQN                        Respondent sequence number.   \n",
       "1068      SEQN                        Respondent sequence number.   \n",
       "\n",
       "          component  \n",
       "id                   \n",
       "28     Demographics  \n",
       "0      Demographics  \n",
       "1      Demographics  \n",
       "2      Demographics  \n",
       "3      Demographics  \n",
       "...             ...  \n",
       "1002  Questionnaire  \n",
       "1003  Questionnaire  \n",
       "1057  Questionnaire  \n",
       "1067  Questionnaire  \n",
       "1068  Questionnaire  \n",
       "\n",
       "[956 rows x 3 columns]"
      ],
      "text/html": "<div>\n<style scoped>\n    .dataframe tbody tr th:only-of-type {\n        vertical-align: middle;\n    }\n\n    .dataframe tbody tr th {\n        vertical-align: top;\n    }\n\n    .dataframe thead th {\n        text-align: right;\n    }\n</style>\n<table border=\"1\" class=\"dataframe\">\n  <thead>\n    <tr style=\"text-align: right;\">\n      <th></th>\n      <th>vAr_nAmE</th>\n      <th>var_descr</th>\n      <th>component</th>\n    </tr>\n    <tr>\n      <th>id</th>\n      <th></th>\n      <th></th>\n      <th></th>\n    </tr>\n  </thead>\n  <tbody>\n    <tr>\n      <th>28</th>\n      <td>RIAGENDR</td>\n      <td>Gender of the participant.</td>\n      <td>Demographics</td>\n    </tr>\n    <tr>\n      <th>0</th>\n      <td>AIALANGA</td>\n      <td>Language of the MEC ACASI Interview Instrument</td>\n      <td>Demographics</td>\n    </tr>\n    <tr>\n      <th>1</th>\n      <td>DMDBORN4</td>\n      <td>In what country {were you/was SP} born?</td>\n      <td>Demographics</td>\n    </tr>\n    <tr>\n      <th>2</th>\n      <td>DMDCITZN</td>\n      <td>{Are you/Is SP} a citizen of the United States...</td>\n      <td>Demographics</td>\n    </tr>\n    <tr>\n      <th>3</th>\n      <td>DMDEDUC2</td>\n      <td>What is the highest grade or level of school {...</td>\n      <td>Demographics</td>\n    </tr>\n    <tr>\n      <th>...</th>\n      <td>...</td>\n      <td>...</td>\n      <td>...</td>\n    </tr>\n    <tr>\n      <th>1002</th>\n      <td>SEQN</td>\n      <td>Respondent sequence number.</td>\n      <td>Questionnaire</td>\n    </tr>\n    <tr>\n      <th>1003</th>\n      <td>SEQN</td>\n      <td>Respondent sequence number.</td>\n      <td>Questionnaire</td>\n    </tr>\n    <tr>\n      <th>1057</th>\n      <td>SEQN</td>\n      <td>Respondent sequence number.</td>\n      <td>Questionnaire</td>\n    </tr>\n    <tr>\n      <th>1067</th>\n      <td>SEQN</td>\n      <td>Respondent sequence number.</td>\n      <td>Questionnaire</td>\n    </tr>\n    <tr>\n      <th>1068</th>\n      <td>SEQN</td>\n      <td>Respondent sequence number.</td>\n      <td>Questionnaire</td>\n    </tr>\n  </tbody>\n</table>\n<p>956 rows × 3 columns</p>\n</div>"
     },
     "metadata": {},
     "execution_count": 49
    }
   ],
   "source": [
    "variables_df[variables_df.vAr_nAmE.isin(list(raw_dataset.columns))]"
   ]
  },
  {
   "cell_type": "code",
   "execution_count": 31,
   "metadata": {},
   "outputs": [],
   "source": [
    "raw_dataset_path = fo.path_to_folder(2, \"data\" + sep + \"7_cleaned_data\") + \"raw_data.csv\"\n",
    "raw_dataset = pd.read_csv(raw_dataset_path)"
   ]
  },
  {
   "cell_type": "code",
   "execution_count": 50,
   "metadata": {},
   "outputs": [
    {
     "output_type": "execute_result",
     "data": {
      "text/plain": [
       "       MCQ010  DR1TCALC  DR1TFA\n",
       "0         2.0     623.0   163.0\n",
       "1         2.0     594.0   112.0\n",
       "2         1.0     872.0    65.0\n",
       "3         2.0    1284.0    63.0\n",
       "4         1.0      72.0     6.0\n",
       "...       ...       ...     ...\n",
       "29280     2.0     831.0     5.0\n",
       "29281     1.0    1574.0   260.0\n",
       "29282     2.0     946.0   371.0\n",
       "29283     2.0     951.0   297.0\n",
       "29284     2.0     250.0     0.0\n",
       "\n",
       "[29285 rows x 3 columns]"
      ],
      "text/html": "<div>\n<style scoped>\n    .dataframe tbody tr th:only-of-type {\n        vertical-align: middle;\n    }\n\n    .dataframe tbody tr th {\n        vertical-align: top;\n    }\n\n    .dataframe thead th {\n        text-align: right;\n    }\n</style>\n<table border=\"1\" class=\"dataframe\">\n  <thead>\n    <tr style=\"text-align: right;\">\n      <th></th>\n      <th>MCQ010</th>\n      <th>DR1TCALC</th>\n      <th>DR1TFA</th>\n    </tr>\n  </thead>\n  <tbody>\n    <tr>\n      <th>0</th>\n      <td>2.0</td>\n      <td>623.0</td>\n      <td>163.0</td>\n    </tr>\n    <tr>\n      <th>1</th>\n      <td>2.0</td>\n      <td>594.0</td>\n      <td>112.0</td>\n    </tr>\n    <tr>\n      <th>2</th>\n      <td>1.0</td>\n      <td>872.0</td>\n      <td>65.0</td>\n    </tr>\n    <tr>\n      <th>3</th>\n      <td>2.0</td>\n      <td>1284.0</td>\n      <td>63.0</td>\n    </tr>\n    <tr>\n      <th>4</th>\n      <td>1.0</td>\n      <td>72.0</td>\n      <td>6.0</td>\n    </tr>\n    <tr>\n      <th>...</th>\n      <td>...</td>\n      <td>...</td>\n      <td>...</td>\n    </tr>\n    <tr>\n      <th>29280</th>\n      <td>2.0</td>\n      <td>831.0</td>\n      <td>5.0</td>\n    </tr>\n    <tr>\n      <th>29281</th>\n      <td>1.0</td>\n      <td>1574.0</td>\n      <td>260.0</td>\n    </tr>\n    <tr>\n      <th>29282</th>\n      <td>2.0</td>\n      <td>946.0</td>\n      <td>371.0</td>\n    </tr>\n    <tr>\n      <th>29283</th>\n      <td>2.0</td>\n      <td>951.0</td>\n      <td>297.0</td>\n    </tr>\n    <tr>\n      <th>29284</th>\n      <td>2.0</td>\n      <td>250.0</td>\n      <td>0.0</td>\n    </tr>\n  </tbody>\n</table>\n<p>29285 rows × 3 columns</p>\n</div>"
     },
     "metadata": {},
     "execution_count": 50
    }
   ],
   "source": [
    "raw_dataset.loc[:, ['MCQ010', 'DR1TCALC', 'DR1TFA']]"
   ]
  },
  {
   "cell_type": "code",
   "execution_count": null,
   "metadata": {},
   "outputs": [],
   "source": []
  }
 ]
}