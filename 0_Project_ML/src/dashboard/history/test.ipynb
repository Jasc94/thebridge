{
 "metadata": {
  "language_info": {
   "codemirror_mode": {
    "name": "ipython",
    "version": 3
   },
   "file_extension": ".py",
   "mimetype": "text/x-python",
   "name": "python",
   "nbconvert_exporter": "python",
   "pygments_lexer": "ipython3",
   "version": "3.7.4"
  },
  "orig_nbformat": 4,
  "kernelspec": {
   "name": "python3",
   "display_name": "Python 3.7.4 64-bit"
  },
  "interpreter": {
   "hash": "aee8b7b246df8f9039afb4144a1f6fd8d2ca17a180786b69acc140d282b71a49"
  }
 },
 "nbformat": 4,
 "nbformat_minor": 2,
 "cells": [
  {
   "cell_type": "code",
   "execution_count": 2,
   "metadata": {},
   "outputs": [],
   "source": [
    "import streamlit as st\n",
    "\n",
    "import numpy as np\n",
    "import pandas as pd\n",
    "\n",
    "#import plotly.plotly as py\n",
    "import plotly.express as px\n",
    "import plotly.graph_objects as go\n",
    "from plotly.subplots import make_subplots\n",
    "import plotly.figure_factory as ff\n",
    "\n",
    "import requests\n",
    "import webbrowser\n",
    "\n",
    "import sys\n",
    "import os\n",
    "\n",
    "# Helpers\n",
    "abspath = os.path.abspath\n",
    "dirname = os.path.dirname\n",
    "sep = os.sep\n",
    "\n",
    "# Path modification\n",
    "current_folder = dirname(abspath(os.getcwd()))\n",
    "for i in range(0): current_folder = dirname(abspath(current_folder))\n",
    "sys.path.append(current_folder)\n",
    "\n",
    "# Self-made packages\n",
    "import utils.mining_data_tb as md\n",
    "import utils.visualization_tb as vi\n",
    "import utils.folder_tb as fo"
   ]
  },
  {
   "cell_type": "code",
   "execution_count": 14,
   "metadata": {},
   "outputs": [],
   "source": [
    "dataset = md.dataset()\n",
    "\n",
    "# 2) Load data\n",
    "folders = [\"1_demographics\", \"2_dietary\", \"3_examination\", \"4_laboratory\", \"5_questionnaire\"]\n",
    "dataset.load_data(2, folders)\n",
    "\n",
    "columns_correction = {\n",
    "            \"WTDRD1_x\" : \"WTDRD1\",\n",
    "            \"WTDR2D_x\" : \"WTDR2D\",\n",
    "            \"DRABF_x\" : \"DRABF\",\n",
    "            \"DRDINT_x\" : \"DRDINT\",\n",
    "            \"WTSAF2YR_x\" : \"WTSAF2YR\",\n",
    "            \"LBXHCT_x\" : \"LBXHCT\"\n",
    "        }\n",
    "dataset.clean_columns(columns_correction)\n",
    "dataset.heart_disease()"
   ]
  },
  {
   "cell_type": "code",
   "execution_count": 7,
   "metadata": {},
   "outputs": [
    {
     "output_type": "execute_result",
     "data": {
      "text/plain": [
       "Index(['SDDSRVYR', 'RIDSTATR', 'RIAGENDR', 'RIDAGEYR', 'RIDAGEMN', 'RIDRETH1',\n",
       "       'RIDRETH3', 'RIDEXMON', 'RIDEXAGM', 'DMQMILIZ',\n",
       "       ...\n",
       "       'SMQ863', 'SMQ690F', 'SMQ830', 'SMQ840', 'SMDANY', 'SMAQUEX', 'SMQ690I',\n",
       "       'SMQ857', 'SMQ690J', 'SMQ861'],\n",
       "      dtype='object', length=950)"
      ]
     },
     "metadata": {},
     "execution_count": 7
    }
   ],
   "source": [
    "dataset.df.drop(\"heart_disease\", axis = 1).columns"
   ]
  },
  {
   "cell_type": "code",
   "execution_count": 15,
   "metadata": {},
   "outputs": [
    {
     "output_type": "execute_result",
     "data": {
      "text/plain": [
       "SEQN\n",
       "83732     2.0\n",
       "83733     2.0\n",
       "83734     2.0\n",
       "83735     2.0\n",
       "83736     2.0\n",
       "         ... \n",
       "102952    2.0\n",
       "102953    2.0\n",
       "102954    2.0\n",
       "102955    NaN\n",
       "102956    2.0\n",
       "Name: MCQ160B, Length: 29285, dtype: float64"
      ]
     },
     "metadata": {},
     "execution_count": 15
    }
   ],
   "source": [
    "dataset.df.MCQ160B"
   ]
  },
  {
   "cell_type": "code",
   "execution_count": null,
   "metadata": {},
   "outputs": [],
   "source": []
  }
 ]
}