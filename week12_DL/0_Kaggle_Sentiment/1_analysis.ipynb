{
 "metadata": {
  "language_info": {
   "codemirror_mode": {
    "name": "ipython",
    "version": 3
   },
   "file_extension": ".py",
   "mimetype": "text/x-python",
   "name": "python",
   "nbconvert_exporter": "python",
   "pygments_lexer": "ipython3",
   "version": "3.7.4"
  },
  "orig_nbformat": 4,
  "kernelspec": {
   "name": "python3",
   "display_name": "Python 3.7.4 64-bit"
  },
  "interpreter": {
   "hash": "aee8b7b246df8f9039afb4144a1f6fd8d2ca17a180786b69acc140d282b71a49"
  }
 },
 "nbformat": 4,
 "nbformat_minor": 2,
 "cells": [
  {
   "cell_type": "code",
   "execution_count": 12,
   "metadata": {},
   "outputs": [],
   "source": [
    "import pandas as pd\n",
    "import numpy as np\n",
    "\n",
    "import matplotlib.pyplot as plt\n",
    "from matplotlib.image import imread\n",
    "\n",
    "import tensorflow as tf\n",
    "from tensorflow import keras\n",
    "from tensorflow.keras import layers, models"
   ]
  },
  {
   "cell_type": "code",
   "execution_count": 2,
   "metadata": {},
   "outputs": [
    {
     "output_type": "execute_result",
     "data": {
      "text/plain": [
       "   label  id_img             path\n",
       "0  happy   22373  happy/22373.jpg\n",
       "1  happy   21433  happy/21433.jpg\n",
       "2  happy   12418  happy/12418.jpg\n",
       "3  happy   21278  happy/21278.jpg\n",
       "4  happy    8081  happy/08081.jpg"
      ],
      "text/html": "<div>\n<style scoped>\n    .dataframe tbody tr th:only-of-type {\n        vertical-align: middle;\n    }\n\n    .dataframe tbody tr th {\n        vertical-align: top;\n    }\n\n    .dataframe thead th {\n        text-align: right;\n    }\n</style>\n<table border=\"1\" class=\"dataframe\">\n  <thead>\n    <tr style=\"text-align: right;\">\n      <th></th>\n      <th>label</th>\n      <th>id_img</th>\n      <th>path</th>\n    </tr>\n  </thead>\n  <tbody>\n    <tr>\n      <th>0</th>\n      <td>happy</td>\n      <td>22373</td>\n      <td>happy/22373.jpg</td>\n    </tr>\n    <tr>\n      <th>1</th>\n      <td>happy</td>\n      <td>21433</td>\n      <td>happy/21433.jpg</td>\n    </tr>\n    <tr>\n      <th>2</th>\n      <td>happy</td>\n      <td>12418</td>\n      <td>happy/12418.jpg</td>\n    </tr>\n    <tr>\n      <th>3</th>\n      <td>happy</td>\n      <td>21278</td>\n      <td>happy/21278.jpg</td>\n    </tr>\n    <tr>\n      <th>4</th>\n      <td>happy</td>\n      <td>8081</td>\n      <td>happy/08081.jpg</td>\n    </tr>\n  </tbody>\n</table>\n</div>"
     },
     "metadata": {},
     "execution_count": 2
    }
   ],
   "source": [
    "data = pd.read_csv(\"data/train_set.csv\")\n",
    "data.head()"
   ]
  },
  {
   "cell_type": "code",
   "execution_count": 3,
   "metadata": {},
   "outputs": [
    {
     "output_type": "execute_result",
     "data": {
      "text/plain": [
       "happy      3285\n",
       "sadness    2891\n",
       "Name: label, dtype: int64"
      ]
     },
     "metadata": {},
     "execution_count": 3
    }
   ],
   "source": [
    "data.label.value_counts()"
   ]
  },
  {
   "cell_type": "code",
   "execution_count": 4,
   "metadata": {},
   "outputs": [
    {
     "output_type": "execute_result",
     "data": {
      "text/plain": [
       "array([[ 25,  44,  56, ...,  34,  11,  17],\n",
       "       [ 30,  46,  54, ...,  45,  19,  17],\n",
       "       [ 38,  50,  55, ...,  53,  25,  12],\n",
       "       ...,\n",
       "       [110, 116, 129, ...,  40,  63,  34],\n",
       "       [110, 138, 135, ...,  51,  52,  30],\n",
       "       [ 93, 142, 127, ...,  73,  48,  33]], dtype=uint8)"
      ]
     },
     "metadata": {},
     "execution_count": 4
    }
   ],
   "source": [
    "_ = imread(\"data/train/\" + data.iloc[0, 2])\n",
    "_"
   ]
  },
  {
   "cell_type": "code",
   "execution_count": 72,
   "metadata": {},
   "outputs": [
    {
     "output_type": "execute_result",
     "data": {
      "text/plain": [
       "   label  id_img             path  \\\n",
       "0      1   22373  happy/22373.jpg   \n",
       "1      1   21433  happy/21433.jpg   \n",
       "\n",
       "                                                   X  \n",
       "0  [[25, 44, 56, 68, 88, 98, 93, 92, 105, 120, 13...  \n",
       "1  [[33, 29, 22, 18, 19, 23, 22, 19, 20, 23, 14, ...  "
      ],
      "text/html": "<div>\n<style scoped>\n    .dataframe tbody tr th:only-of-type {\n        vertical-align: middle;\n    }\n\n    .dataframe tbody tr th {\n        vertical-align: top;\n    }\n\n    .dataframe thead th {\n        text-align: right;\n    }\n</style>\n<table border=\"1\" class=\"dataframe\">\n  <thead>\n    <tr style=\"text-align: right;\">\n      <th></th>\n      <th>label</th>\n      <th>id_img</th>\n      <th>path</th>\n      <th>X</th>\n    </tr>\n  </thead>\n  <tbody>\n    <tr>\n      <th>0</th>\n      <td>1</td>\n      <td>22373</td>\n      <td>happy/22373.jpg</td>\n      <td>[[25, 44, 56, 68, 88, 98, 93, 92, 105, 120, 13...</td>\n    </tr>\n    <tr>\n      <th>1</th>\n      <td>1</td>\n      <td>21433</td>\n      <td>happy/21433.jpg</td>\n      <td>[[33, 29, 22, 18, 19, 23, 22, 19, 20, 23, 14, ...</td>\n    </tr>\n  </tbody>\n</table>\n</div>"
     },
     "metadata": {},
     "execution_count": 72
    }
   ],
   "source": [
    "data[\"X\"] = data.path.apply(lambda x: imread(\"data/train/\" + x))\n",
    "data[\"label\"].replace([\"happy\", \"sadness\"], [1, 0], inplace = True)\n",
    "data.head(2)"
   ]
  },
  {
   "cell_type": "code",
   "execution_count": 73,
   "metadata": {},
   "outputs": [
    {
     "output_type": "execute_result",
     "data": {
      "text/plain": [
       "0       1\n",
       "1       1\n",
       "2       1\n",
       "3       1\n",
       "4       1\n",
       "       ..\n",
       "6171    0\n",
       "6172    0\n",
       "6173    0\n",
       "6174    0\n",
       "6175    0\n",
       "Name: label, Length: 6176, dtype: int64"
      ]
     },
     "metadata": {},
     "execution_count": 73
    }
   ],
   "source": [
    "data.label"
   ]
  },
  {
   "cell_type": "code",
   "execution_count": 74,
   "metadata": {},
   "outputs": [
    {
     "output_type": "stream",
     "name": "stdout",
     "text": [
      "X shape (6176, 48, 48, 1)\ny shape (6176,)\n"
     ]
    }
   ],
   "source": [
    "# Dependent variables\n",
    "X = np.array(list(data.iloc[:, 3].values))\n",
    "X = X.reshape(6176, 48, 48, 1)\n",
    "#X = np.asarray(X).astype('float32')\n",
    "\n",
    "# Independent variable\n",
    "y = np.array(data.iloc[:, 0])\n",
    "#y = np.asarray(y)\n",
    "\n",
    "\n",
    "print(\"X shape\", X.shape)\n",
    "print(\"y shape\", y.shape)"
   ]
  },
  {
   "cell_type": "code",
   "execution_count": 76,
   "metadata": {},
   "outputs": [
    {
     "output_type": "stream",
     "name": "stdout",
     "text": [
      "Epoch 1/10\n",
      "193/193 [==============================] - 3s 12ms/step - loss: 33.4158 - accuracy: 0.5667\n",
      "Epoch 2/10\n",
      "193/193 [==============================] - 2s 12ms/step - loss: 0.7520 - accuracy: 0.5050\n",
      "Epoch 3/10\n",
      "193/193 [==============================] - 2s 12ms/step - loss: 0.7309 - accuracy: 0.5316\n",
      "Epoch 4/10\n",
      "193/193 [==============================] - 2s 12ms/step - loss: 0.6613 - accuracy: 0.5826\n",
      "Epoch 5/10\n",
      "193/193 [==============================] - 2s 13ms/step - loss: 0.6463 - accuracy: 0.6316\n",
      "Epoch 6/10\n",
      "193/193 [==============================] - 3s 13ms/step - loss: 0.6276 - accuracy: 0.6546\n",
      "Epoch 7/10\n",
      "193/193 [==============================] - 3s 13ms/step - loss: 0.6581 - accuracy: 0.5808\n",
      "Epoch 8/10\n",
      "193/193 [==============================] - 2s 13ms/step - loss: 0.6171 - accuracy: 0.6575\n",
      "Epoch 9/10\n",
      "193/193 [==============================] - 3s 14ms/step - loss: 0.6067 - accuracy: 0.6773\n",
      "Epoch 10/10\n",
      "193/193 [==============================] - 3s 14ms/step - loss: 0.5922 - accuracy: 0.6877\n"
     ]
    },
    {
     "output_type": "execute_result",
     "data": {
      "text/plain": [
       "<tensorflow.python.keras.callbacks.History at 0x1579506d0>"
      ]
     },
     "metadata": {},
     "execution_count": 76
    }
   ],
   "source": [
    "model = models.Sequential([\n",
    "    layers.Conv2D(filters = 8,\n",
    "                  kernel_size = (3, 3),\n",
    "                  input_shape = (48, 48, 1),\n",
    "                  padding = \"same\"),\n",
    "    #layers.MaxPool2D((2, 2)),\n",
    "    layers.Dropout(.25),\n",
    "    layers.Flatten(),\n",
    "    layers.Dense(32, activation = \"relu\"),\n",
    "    layers.Dense(2, activation = \"sigmoid\")\n",
    "])\n",
    "\n",
    "model.compile(optimizer='adam',\n",
    "              loss='sparse_categorical_crossentropy',\n",
    "              metrics=['accuracy'])\n",
    "\n",
    "model_history = model.fit(X, y, epochs = 10)"
   ]
  },
  {
   "cell_type": "code",
   "execution_count": null,
   "metadata": {},
   "outputs": [],
   "source": []
  }
 ]
}