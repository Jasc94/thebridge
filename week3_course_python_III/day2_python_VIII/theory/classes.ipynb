{
 "metadata": {
  "language_info": {
   "codemirror_mode": {
    "name": "ipython",
    "version": 3
   },
   "file_extension": ".py",
   "mimetype": "text/x-python",
   "name": "python",
   "nbconvert_exporter": "python",
   "pygments_lexer": "ipython3",
   "version": "3.8.5"
  },
  "orig_nbformat": 2,
  "kernelspec": {
   "name": "python385jvsc74a57bd0dca0ade3e726a953b501b15e8e990130d2b7799f14cfd9f4271676035ebe5511",
   "display_name": "Python 3.8.5 64-bit ('base': conda)"
  }
 },
 "nbformat": 4,
 "nbformat_minor": 2,
 "cells": [
  {
   "source": [
    "# OOP --> Object Oriented Programming"
   ],
   "cell_type": "markdown",
   "metadata": {}
  },
  {
   "cell_type": "code",
   "execution_count": 8,
   "metadata": {},
   "outputs": [
    {
     "output_type": "stream",
     "name": "stdout",
     "text": [
      "Ataulfo\n89\n"
     ]
    }
   ],
   "source": [
    "class Human:\n",
    "\n",
    "    # función constructor\n",
    "    def __init__(self, nombre, edad, sexo, altura, color_pelo, ojos = 2, piernas = 2, especie = 'Homo Sapiens'):\n",
    "\n",
    "        # Con 'self' le indicamos a la clase que se apropie el atributo que recibe (en este caso por parámetro)\n",
    "        # nombre del atributo de la clase = valor que recibe por parámetro\n",
    "        self.nombre = nombre\n",
    "        # En este caso forzamos a que la edad siempre sea 89\n",
    "        self.edad = 89\n",
    "\n",
    "# Todos los parámetros que no están definidos en el cosntructor con self, no serán atributos de la clase/instancia\n",
    "ataulfo = Human(nombre = 'Ataulfo', edad = 25, sexo = 'H', altura = 2.20, ojos = 3, color_pelo = 'pelirojo')\n",
    "\n",
    "print(ataulfo.nombre)\n",
    "print(ataulfo.edad)"
   ]
  },
  {
   "cell_type": "code",
   "execution_count": 24,
   "metadata": {},
   "outputs": [
    {
     "output_type": "stream",
     "name": "stdout",
     "text": [
      "Ataulfo\n25\n"
     ]
    }
   ],
   "source": [
    "class Human2:\n",
    "\n",
    "    # función constructor\n",
    "    def __init__(self, nombre, edad, sexo, altura, color_pelo, ojos = 2, piernas = 2, especie = 'Homo Sapiens'):\n",
    "\n",
    "        # Con 'self' le indicamos a la clase que se apropie el atributo que recibe (en este caso por parámetro)\n",
    "        # nombre del atributo de la clase = valor que recibe por parámetro\n",
    "        self.nombre = nombre\n",
    "        if edad < 89:\n",
    "            self.edad = edad\n",
    "        else:\n",
    "            self.edad = 89\n",
    "        self.sexo = sexo\n",
    "        self.altura = altura\n",
    "        self.color_pelo = color_pelo\n",
    "        self.ojos = ojos\n",
    "        self.piernas = piernas\n",
    "        self.especie = especie\n",
    "\n",
    "    # Hay que incluir self en todas las funciones definidas dentro de la clase también\n",
    "    def mostrar_piernas(self, piernas = 19):\n",
    "        # Para acceder a los atributos, hay que usar siempre un self\n",
    "        print('piernas como atributo de la clase', self.piernas)\n",
    "        # En este caso, 'piernas' es una variable simple\n",
    "        print('piernas como variable', piernas)\n",
    "\n",
    "    def mostrar_atributos(self):\n",
    "        print(self.nombre)\n",
    "        print(self.edad)\n",
    "        print(self.sexo)\n",
    "        print(self.altura)\n",
    "        print(self.color_pelo)\n",
    "        print(self.ojos)\n",
    "\n",
    "    def muestra_jkl(self, jkl):\n",
    "        self.jkl = jkl\n",
    "        print(self.jkl)\n",
    "\n",
    "# Todos los parámetros que no están definidos en el cosntructor con self, no serán atributos de la clase/instancia\n",
    "ataulfo2 = Human2(nombre = 'Ataulfo', edad = 25, sexo = 'H', altura = 2.20, ojos = 3, color_pelo = 'pelirojo')\n",
    "\n",
    "print(ataulfo2.nombre)\n",
    "print(ataulfo2.edad)"
   ]
  },
  {
   "cell_type": "code",
   "execution_count": 18,
   "metadata": {},
   "outputs": [
    {
     "output_type": "stream",
     "name": "stdout",
     "text": [
      "piernas como atributo de la clase 2\npiernas como variable 19\n"
     ]
    }
   ],
   "source": [
    "ataulfo2.mostrar_piernas()"
   ]
  },
  {
   "cell_type": "code",
   "execution_count": 19,
   "metadata": {},
   "outputs": [],
   "source": [
    "# Al instanciar una clase, y pasarle los atributos, estamos llamando al constructor\n",
    "elvis = Human2(nombre = 'Elvis', edad = 51, sexo = 'H', altura = 2.20, ojos = 2, color_pelo = 'moreno')"
   ]
  },
  {
   "cell_type": "code",
   "execution_count": 20,
   "metadata": {},
   "outputs": [
    {
     "output_type": "execute_result",
     "data": {
      "text/plain": [
       "False"
      ]
     },
     "metadata": {},
     "execution_count": 20
    }
   ],
   "source": [
    "elvis == ataulfo2"
   ]
  },
  {
   "cell_type": "code",
   "execution_count": 21,
   "metadata": {},
   "outputs": [
    {
     "output_type": "stream",
     "name": "stdout",
     "text": [
      "Elvis\n51\nH\n2.2\nmoreno\n2\n"
     ]
    }
   ],
   "source": [
    "elvis.mostrar_atributos()"
   ]
  },
  {
   "cell_type": "code",
   "execution_count": 23,
   "metadata": {},
   "outputs": [
    {
     "output_type": "stream",
     "name": "stdout",
     "text": [
      "10\n"
     ]
    }
   ],
   "source": [
    "ataulfo2.muestra_jkl(10)"
   ]
  },
  {
   "cell_type": "code",
   "execution_count": null,
   "metadata": {},
   "outputs": [],
   "source": []
  }
 ]
}