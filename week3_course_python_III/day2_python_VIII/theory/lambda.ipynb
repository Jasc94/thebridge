{
 "metadata": {
  "language_info": {
   "codemirror_mode": {
    "name": "ipython",
    "version": 3
   },
   "file_extension": ".py",
   "mimetype": "text/x-python",
   "name": "python",
   "nbconvert_exporter": "python",
   "pygments_lexer": "ipython3",
   "version": "3.8.5"
  },
  "orig_nbformat": 2,
  "kernelspec": {
   "name": "python385jvsc74a57bd0dca0ade3e726a953b501b15e8e990130d2b7799f14cfd9f4271676035ebe5511",
   "display_name": "Python 3.8.5 64-bit ('base': conda)"
  }
 },
 "nbformat": 4,
 "nbformat_minor": 2,
 "cells": [
  {
   "source": [
    "# Lambdas"
   ],
   "cell_type": "markdown",
   "metadata": {}
  },
  {
   "cell_type": "code",
   "execution_count": 1,
   "metadata": {},
   "outputs": [
    {
     "output_type": "execute_result",
     "data": {
      "text/plain": [
       "'8'"
      ]
     },
     "metadata": {},
     "execution_count": 1
    }
   ],
   "source": [
    "def nombre_funcion(x):\n",
    "    return str(x + 2)\n",
    "\n",
    "nombre_funcion(6)"
   ]
  },
  {
   "cell_type": "code",
   "execution_count": 2,
   "metadata": {},
   "outputs": [
    {
     "output_type": "execute_result",
     "data": {
      "text/plain": [
       "'12'"
      ]
     },
     "metadata": {},
     "execution_count": 2
    }
   ],
   "source": [
    "nombre_funcion2 = lambda x: str(x + 2)\n",
    "\n",
    "nombre_funcion2(10)"
   ]
  },
  {
   "cell_type": "code",
   "execution_count": 3,
   "metadata": {},
   "outputs": [
    {
     "output_type": "execute_result",
     "data": {
      "text/plain": [
       "'15'"
      ]
     },
     "metadata": {},
     "execution_count": 3
    }
   ],
   "source": [
    "f1 = lambda x, y, z: str(x + y + z)\n",
    "\n",
    "f1(5, 5, 5)"
   ]
  },
  {
   "source": [
    "nombre_funcion = lambda parámetros: lo que retorna"
   ],
   "cell_type": "markdown",
   "metadata": {}
  },
  {
   "source": [
    "## Usandolas anonimamente"
   ],
   "cell_type": "markdown",
   "metadata": {}
  },
  {
   "cell_type": "code",
   "execution_count": 4,
   "metadata": {},
   "outputs": [
    {
     "output_type": "execute_result",
     "data": {
      "text/plain": [
       "[<function __main__.<listcomp>.<lambda>(elem)>,\n",
       " <function __main__.<listcomp>.<lambda>(elem)>,\n",
       " <function __main__.<listcomp>.<lambda>(elem)>,\n",
       " <function __main__.<listcomp>.<lambda>(elem)>]"
      ]
     },
     "metadata": {},
     "execution_count": 4
    }
   ],
   "source": [
    "l = [2, 4, 6, 8]\n",
    "\n",
    "l2 = [lambda elem: elem // 2 for elem in l]\n",
    "l2"
   ]
  },
  {
   "cell_type": "code",
   "execution_count": 5,
   "metadata": {},
   "outputs": [],
   "source": [
    "# Esto retorna una lista de funciones anónimas"
   ]
  },
  {
   "cell_type": "code",
   "execution_count": 6,
   "metadata": {},
   "outputs": [
    {
     "output_type": "execute_result",
     "data": {
      "text/plain": [
       "[1, 2, 3, 4]"
      ]
     },
     "metadata": {},
     "execution_count": 6
    }
   ],
   "source": [
    "ll = [2, 4, 6, 8]\n",
    "\n",
    "f2 = lambda x: x // 2\n",
    "\n",
    "ll2 = [f2(elem) for elem in ll]\n",
    "ll2"
   ]
  },
  {
   "cell_type": "code",
   "execution_count": 7,
   "metadata": {},
   "outputs": [],
   "source": [
    "# Esto sí que devuelve una lista de valores utilizando la función"
   ]
  },
  {
   "cell_type": "code",
   "execution_count": 10,
   "metadata": {},
   "outputs": [
    {
     "output_type": "execute_result",
     "data": {
      "text/plain": [
       "[2, 4, 2.5, 8, 10]"
      ]
     },
     "metadata": {},
     "execution_count": 10
    }
   ],
   "source": [
    "# En las lambdas con condicionales es obligatorio tener el 'else'\n",
    "lll = [2, 4, 5, 8, 10]\n",
    "\n",
    "f3 = lambda x: x if x % 2 == 0 else x / 2\n",
    "\n",
    "lll3 = [f3(elem) for elem in lll]\n",
    "lll3"
   ]
  },
  {
   "cell_type": "code",
   "execution_count": null,
   "metadata": {},
   "outputs": [],
   "source": []
  }
 ]
}