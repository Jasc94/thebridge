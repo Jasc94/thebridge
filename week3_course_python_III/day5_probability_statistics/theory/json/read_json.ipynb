{
 "metadata": {
  "language_info": {
   "codemirror_mode": {
    "name": "ipython",
    "version": 3
   },
   "file_extension": ".py",
   "mimetype": "text/x-python",
   "name": "python",
   "nbconvert_exporter": "python",
   "pygments_lexer": "ipython3",
   "version": "3.9.2"
  },
  "orig_nbformat": 2,
  "kernelspec": {
   "name": "python392jvsc74a57bd0aee8b7b246df8f9039afb4144a1f6fd8d2ca17a180786b69acc140d282b71a49",
   "display_name": "Python 3.9.2 64-bit"
  },
  "metadata": {
   "interpreter": {
    "hash": "aee8b7b246df8f9039afb4144a1f6fd8d2ca17a180786b69acc140d282b71a49"
   }
  }
 },
 "nbformat": 4,
 "nbformat_minor": 2,
 "cells": [
  {
   "source": [
    "#### Para escribir a un archivo un json"
   ],
   "cell_type": "markdown",
   "metadata": {}
  },
  {
   "cell_type": "code",
   "execution_count": 2,
   "metadata": {},
   "outputs": [],
   "source": [
    "import json\n",
    "\n",
    "nombre_archivo = \"pepito_ataulfo.json\"\n",
    "\n",
    "mi_diccionario = {\"clave\": 2, \n",
    "                  \"otra_clave\": 3, \n",
    "                  515:[1,3,4,5,6,7,8,2], \n",
    "                  \"DICT\":{\"clave_pequena\": \"valor_pequeño\"}}\n",
    "\n",
    "with open(nombre_archivo, 'w+') as outfile:\n",
    "    json.dump(mi_diccionario, outfile, indent=4)"
   ]
  },
  {
   "source": [
    "#### Para sobreescribir un archivo  (si se requiere)"
   ],
   "cell_type": "markdown",
   "metadata": {}
  },
  {
   "cell_type": "code",
   "execution_count": 3,
   "metadata": {},
   "outputs": [],
   "source": [
    "# Para añadir más información, debemos poner 'a+'0\n",
    "\n",
    "with open(nombre_archivo, 'a+', encoding='latin1') as outfile:\n",
    "    json.dump(mi_diccionario, outfile, indent=4)"
   ]
  },
  {
   "source": [
    "#### Para leer un archivo json\n"
   ],
   "cell_type": "markdown",
   "metadata": {}
  },
  {
   "cell_type": "code",
   "execution_count": 1,
   "metadata": {},
   "outputs": [
    {
     "output_type": "stream",
     "name": "stdout",
     "text": [
      "<class 'dict'>\n"
     ]
    },
    {
     "output_type": "execute_result",
     "data": {
      "text/plain": [
       "{'squadName': 'Super Hero Squad',\n",
       " 'homeTown': 'Metro City',\n",
       " 'formed': 2016,\n",
       " 'secretBase': 'Super tower',\n",
       " 'active': True,\n",
       " 'members': [{'name': 'Molecule Man',\n",
       "   'age': 29,\n",
       "   'secretIdentity': 'Dan Jukes',\n",
       "   'powers': ['Radiation resistance', 'Turning tiny', 'Radiation blast']},\n",
       "  {'name': 'Madame Uppercut',\n",
       "   'age': 39,\n",
       "   'secretIdentity': 'Jane Wilson',\n",
       "   'powers': ['Million tonne punch',\n",
       "    'Damage resistance',\n",
       "    'Superhuman reflexes']},\n",
       "  {'name': 'Eternal Flame',\n",
       "   'age': 1000000,\n",
       "   'secretIdentity': 'Unknown',\n",
       "   'powers': ['Immortality',\n",
       "    'Heat Immunity',\n",
       "    'Inferno',\n",
       "    'Teleportation',\n",
       "    'Interdimensional travel']}]}"
      ]
     },
     "metadata": {},
     "execution_count": 1
    }
   ],
   "source": [
    "import json\n",
    "\n",
    "# Hay varias formas de abrir un archivo. Con 'with open', la ventaja es que se encarga de cerrar el archivo una vez haya ejecutado lo que necesitabas\n",
    "with open('data_indented.json', 'r+') as outfile:\n",
    "    # El .load() solo funciona si el formato interno del json es diccionarios\n",
    "    json_data_indented_readed = json.load(outfile)\n",
    "\n",
    "print(type(json_data_indented_readed))\n",
    "json_data_indented_readed"
   ]
  },
  {
   "cell_type": "code",
   "execution_count": 2,
   "metadata": {},
   "outputs": [
    {
     "output_type": "execute_result",
     "data": {
      "text/plain": [
       "[{'name': 'Molecule Man',\n",
       "  'age': 29,\n",
       "  'secretIdentity': 'Dan Jukes',\n",
       "  'powers': ['Radiation resistance', 'Turning tiny', 'Radiation blast']},\n",
       " {'name': 'Madame Uppercut',\n",
       "  'age': 39,\n",
       "  'secretIdentity': 'Jane Wilson',\n",
       "  'powers': ['Million tonne punch',\n",
       "   'Damage resistance',\n",
       "   'Superhuman reflexes']},\n",
       " {'name': 'Eternal Flame',\n",
       "  'age': 1000000,\n",
       "  'secretIdentity': 'Unknown',\n",
       "  'powers': ['Immortality',\n",
       "   'Heat Immunity',\n",
       "   'Inferno',\n",
       "   'Teleportation',\n",
       "   'Interdimensional travel']}]"
      ]
     },
     "metadata": {},
     "execution_count": 2
    }
   ],
   "source": [
    "# Esto me devuelve una lista de diccionarios\n",
    "json_data_indented_readed[\"members\"]"
   ]
  },
  {
   "cell_type": "code",
   "execution_count": 5,
   "metadata": {},
   "outputs": [
    {
     "output_type": "stream",
     "name": "stdout",
     "text": [
      "{\"name\": \"Molecule Man\", \"age\": 29, \"secretIdentity\": \"Dan Jukes\", \"powers\": [\"Radiation resistance\", \"Turning tiny\", \"Radiation blast\"]}\n-----------\n{'name': 'Molecule Man', 'age': 29, 'secretIdentity': 'Dan Jukes', 'powers': ['Radiation resistance', 'Turning tiny', 'Radiation blast']}\n\n##############################\n\n{\"name\": \"Madame Uppercut\", \"age\": 39, \"secretIdentity\": \"Jane Wilson\", \"powers\": [\"Million tonne punch\", \"Damage resistance\", \"Superhuman reflexes\"]}\n-----------\n{'name': 'Madame Uppercut', 'age': 39, 'secretIdentity': 'Jane Wilson', 'powers': ['Million tonne punch', 'Damage resistance', 'Superhuman reflexes']}\n\n##############################\n\n{\"name\": \"Eternal Flame\", \"age\": 1000000, \"secretIdentity\": \"Unknown\", \"powers\": [\"Immortality\", \"Heat Immunity\", \"Inferno\", \"Teleportation\", \"Interdimensional travel\"]}\n-----------\n{'name': 'Eternal Flame', 'age': 1000000, 'secretIdentity': 'Unknown', 'powers': ['Immortality', 'Heat Immunity', 'Inferno', 'Teleportation', 'Interdimensional travel']}\n\n##############################\n\n<class 'str'>\n<class 'dict'>\n"
     ]
    }
   ],
   "source": [
    "jsons_dicts = []\n",
    "\n",
    "# Vamos a loopear por la lista\n",
    "for mini_json in json_data_indented_readed[\"members\"]:\n",
    "    # 1. Primero lo leemos como string\n",
    "    # guardamos cada elemento 'mini_jason' de la lista como string\n",
    "    # dumps --> convierte el json a string\n",
    "    mini_json_readed_string = json.dumps(mini_json)\n",
    "    # 2. Después convertimos en diccionario el string\n",
    "    # loads --> convierte un string en diccionario\n",
    "    string_to_json = json.loads(mini_json_readed_string)\n",
    "    # Esto es un string\n",
    "    print(mini_json_readed_string)\n",
    "    print(\"-----------\")\n",
    "    print(string_to_json)\n",
    "    # 3. Añadimos el diccionario a la lista 'json_dicts' para poder trabajar con ella\n",
    "    jsons_dicts.append(string_to_json)\n",
    "    print(\"\\n##############################\\n\")\n",
    "\n",
    "print(type(mini_json_readed_string))\n",
    "print(type(string_to_json))"
   ]
  },
  {
   "cell_type": "code",
   "execution_count": 6,
   "metadata": {},
   "outputs": [
    {
     "output_type": "execute_result",
     "data": {
      "text/plain": [
       "[{'name': 'Molecule Man',\n",
       "  'age': 29,\n",
       "  'secretIdentity': 'Dan Jukes',\n",
       "  'powers': ['Radiation resistance', 'Turning tiny', 'Radiation blast']},\n",
       " {'name': 'Madame Uppercut',\n",
       "  'age': 39,\n",
       "  'secretIdentity': 'Jane Wilson',\n",
       "  'powers': ['Million tonne punch',\n",
       "   'Damage resistance',\n",
       "   'Superhuman reflexes']},\n",
       " {'name': 'Eternal Flame',\n",
       "  'age': 1000000,\n",
       "  'secretIdentity': 'Unknown',\n",
       "  'powers': ['Immortality',\n",
       "   'Heat Immunity',\n",
       "   'Inferno',\n",
       "   'Teleportation',\n",
       "   'Interdimensional travel']}]"
      ]
     },
     "metadata": {},
     "execution_count": 6
    }
   ],
   "source": [
    "jsons_dicts"
   ]
  },
  {
   "source": [
    "**Data wrangling** es leer la información de forma que podamos trabajar con ella"
   ],
   "cell_type": "markdown",
   "metadata": {}
  },
  {
   "cell_type": "code",
   "execution_count": null,
   "metadata": {},
   "outputs": [],
   "source": [
    "# escribimos cada mini_json en archivos diferentes\n",
    "for i, jsn in enumerate(jsons_dicts):       # Sacamos la posición y el diccionario\n",
    "    # Guardamos cada index concatenado con el '_final_data.json'\n",
    "    nombre_archivo = str(i) + '_final_data.json'\n",
    "    # Abrimos el json\n",
    "    with open(nombre_archivo, 'w+') as outfile:\n",
    "        #Volcamos cada archivo en un nuevo json. Es decir:\n",
    "        # 1_final_data.json\n",
    "        # 2_final_data.json \n",
    "        json.dump(jsn, outfile, indent=4) "
   ]
  },
  {
   "source": [
    "1. Volcar información de un diccionario a un json, w+ (creando el archivo desde 0):\n",
    "json.dump(mi_diccionario, outfile, indent = 4)\n",
    "\n",
    "2. Volcar información de un diccionario a un json, a+ (añadiendo información sin borrar)\n",
    "\n",
    "3. Dos opciones para leer:\n",
    "\n",
    "    3.1 Yo tengo un archivo .json en local y lo abro usando .load()\n",
    "    \n",
    "    3.2 Tengo, ya sea en un fichero local con el formato cualquiera o en la web --> 1) Leemos como String y 2) Transformamos la variable String a diccionario\n",
    "\n",
    "--------------- x ---------------\n",
    "\n",
    "- loads -> load string\n",
    "- dumps -> dump python object into a json string"
   ],
   "cell_type": "markdown",
   "metadata": {}
  },
  {
   "cell_type": "code",
   "execution_count": null,
   "metadata": {},
   "outputs": [],
   "source": []
  }
 ]
}