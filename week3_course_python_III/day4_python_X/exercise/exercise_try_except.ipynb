{
  "nbformat": 4,
  "nbformat_minor": 0,
  "metadata": {
    "kernelspec": {
      "name": "python385jvsc74a57bd0dca0ade3e726a953b501b15e8e990130d2b7799f14cfd9f4271676035ebe5511",
      "display_name": "Python 3.8.5 64-bit ('base': conda)"
    },
    "language_info": {
      "codemirror_mode": {
        "name": "ipython",
        "version": 3
      },
      "file_extension": ".py",
      "mimetype": "text/x-python",
      "name": "python",
      "nbconvert_exporter": "python",
      "pygments_lexer": "ipython3",
      "version": "3.8.5"
    },
    "colab": {
      "name": "exercise_try_except.ipynb",
      "provenance": []
    }
  },
  "cells": [
    {
      "cell_type": "markdown",
      "metadata": {
        "id": "4QyBGs_E3ldR"
      },
      "source": [
        "# Python | try&except"
      ]
    },
    {
      "cell_type": "markdown",
      "metadata": {
        "id": "coVYr8e63ldX"
      },
      "source": [
        "Python uses try and except to handle errors gracefully. A graceful exit (or graceful handling) of errors is a simple programming idiom - a program detects a serious error condition and \"exits gracefully\", in a controlled manner as a result. Often the program prints a descriptive error message to a terminal or log as part of the graceful exit, this makes our application more robust. The cause of an exception is often external to the program itself. An example of exceptions could be an incorrect input, wrong file name, unable to find a file, a malfunctioning IO device. Graceful handling of errors prevents our applications from crashing."
      ]
    },
    {
      "cell_type": "markdown",
      "metadata": {
        "id": "Obo4KPxk3ldY"
      },
      "source": [
        "```python\n",
        "try:\n",
        "    code in this block if things go well\n",
        "except:\n",
        "    code in this block run if things go wrong\n",
        "```"
      ]
    },
    {
      "cell_type": "markdown",
      "metadata": {
        "id": "Y_AJAevZ3ldY"
      },
      "source": [
        "### Exercise 1. \n"
      ]
    },
    {
      "cell_type": "markdown",
      "metadata": {
        "id": "qtvA0nYM3ldZ"
      },
      "source": [
        "1. In the 4 cells below, modify the code to catch the error and print a meaningful message that will alert the user what went wrong. You may catch the error using a general except or a specific except for the error caused by the code."
      ]
    },
    {
      "cell_type": "code",
      "metadata": {
        "id": "OkN-rI-b3ldZ",
        "outputId": "99ef344e-5146-45dd-bef3-4294f9ccec69"
      },
      "source": [
        "# Modify the code below:\n",
        "try:\n",
        "    print(some_string)\n",
        "except NameError:\n",
        "    print('Wrong motherflucker!')"
      ],
      "execution_count": 2,
      "outputs": [
        {
          "output_type": "stream",
          "name": "stdout",
          "text": [
            "Wrong motherflucker!\n"
          ]
        }
      ]
    },
    {
      "cell_type": "code",
      "metadata": {
        "id": "m5Kdlw373lda",
        "outputId": "8d45a5b7-024a-4914-a3ab-6c82d8237484"
      },
      "source": [
        "# Modify the code below:\n",
        "\n",
        "try:\n",
        "    for i in ['a','b','c']:\n",
        "        print (i**2)\n",
        "except TypeError:\n",
        "    print('Wrong motherflucker!')"
      ],
      "execution_count": 3,
      "outputs": [
        {
          "output_type": "stream",
          "name": "stdout",
          "text": [
            "Wrong motherflucker!\n"
          ]
        }
      ]
    },
    {
      "cell_type": "code",
      "metadata": {
        "id": "e2u2Ce7r3ldb",
        "outputId": "d24842d2-d027-4b33-ae86-502240f917cb"
      },
      "source": [
        "# Modify the code below:\n",
        "\n",
        "x = 5\n",
        "y = 0\n",
        "\n",
        "try:\n",
        "    z = x/y\n",
        "except ZeroDivisionError:\n",
        "    print('Wrond dude!')"
      ],
      "execution_count": 4,
      "outputs": [
        {
          "output_type": "stream",
          "name": "stdout",
          "text": [
            "Wrond dude!\n"
          ]
        }
      ]
    },
    {
      "cell_type": "code",
      "metadata": {
        "id": "SIs7DQLi3ldb",
        "outputId": "08abd11d-4e37-4d75-ba6a-132f776f4422"
      },
      "source": [
        "# Modify the code below:\n",
        "\n",
        "abc=[10,20,20]\n",
        "\n",
        "try:\n",
        "    print(abc[3])\n",
        "except IndexError:\n",
        "    print('Out of index dear')"
      ],
      "execution_count": 5,
      "outputs": [
        {
          "output_type": "stream",
          "name": "stdout",
          "text": [
            "Out of index dear\n"
          ]
        }
      ]
    },
    {
      "cell_type": "markdown",
      "metadata": {
        "id": "9QD2sr1u3ldb"
      },
      "source": [
        "### Exercise 2. "
      ]
    },
    {
      "cell_type": "markdown",
      "metadata": {
        "id": "XVCWIZ3G3ldc"
      },
      "source": [
        "In the 3 cells below, add an if statment that will handle both types of input allowed in the functions."
      ]
    },
    {
      "cell_type": "code",
      "metadata": {
        "id": "uewYaY1i3ldc",
        "outputId": "53cee622-6931-4497-ac03-30701a06a23b"
      },
      "source": [
        "import math # import a library called math with functions, like sqrt() \n",
        "# Modify the code below to handle positive and negative numbers by adding an if statement and performing a transformation:\n",
        "\n",
        "def sqrt_for_all(x):\n",
        "    # This function will take any real number and return the square root of its magnitude\n",
        "    # Input: real number\n",
        "    # Output: real number\n",
        "    \n",
        "    # Sample Input: -4\n",
        "    # Sample Output: 2.0\n",
        "\n",
        "    if x < 0:\n",
        "        return math.sqrt(abs(x))\n",
        "    else:\n",
        "        return math.sqrt(x)\n",
        "\n",
        "sqrt_for_all(-1)"
      ],
      "execution_count": 10,
      "outputs": [
        {
          "output_type": "execute_result",
          "data": {
            "text/plain": [
              "1.0"
            ]
          },
          "metadata": {},
          "execution_count": 10
        }
      ]
    },
    {
      "cell_type": "code",
      "metadata": {
        "id": "M-c1SU2G3ldc",
        "outputId": "46a709e5-2321-44e5-d0b9-f05ae6f0c99e"
      },
      "source": [
        "# Modify the code below to handle zero as well. In the case of zero, return zero\n",
        "\n",
        "def divide(x, y):\n",
        "    # This function will take any two real numbers and return their quotient. If the denominator is zero, we return zero\n",
        "    # Input: real number\n",
        "    # Output: real number\n",
        "    \n",
        "    # Sample Input: 5, 1\n",
        "    # Sample Output: 5.0\n",
        "\n",
        "    if y == 0:\n",
        "        return 0\n",
        "    else:\n",
        "        return x / y\n",
        "\n",
        "divide(5, 0)"
      ],
      "execution_count": 11,
      "outputs": [
        {
          "output_type": "execute_result",
          "data": {
            "text/plain": [
              "0"
            ]
          },
          "metadata": {},
          "execution_count": 11
        }
      ]
    },
    {
      "cell_type": "code",
      "metadata": {
        "id": "BO8_vDbY3ldd",
        "outputId": "ddf33b0a-40fc-4a37-df0b-5642458f2d10"
      },
      "source": [
        "# Modify the function below that it will take either an number and a list or two numbers. \n",
        "# If we take two numbers, add them together and return a list of length 1. \n",
        "# Otherwise, add the number to every element of the list and return the resulting list\n",
        "\n",
        "def add_elements(a, l):\n",
        "    # This function takes either two numbers or a list and a number and adds the number to all elements of the list\n",
        "    # If the function only takes two numbers, it returns a list of length one that is the sum of the numbers\n",
        "    \n",
        "    # Input: number and list or two numbers\n",
        "    # Output: list\n",
        "    \n",
        "    # Sample Input: 5, 6\n",
        "    # Sample Output: [11]\n",
        "    if isinstance(a, int) and isinstance(l, int):\n",
        "        return a + l\n",
        "    else:\n",
        "        return [a + element for element in l]\n",
        "        \n",
        "add_elements(5, 6)"
      ],
      "execution_count": 15,
      "outputs": [
        {
          "output_type": "execute_result",
          "data": {
            "text/plain": [
              "11"
            ]
          },
          "metadata": {},
          "execution_count": 15
        }
      ]
    },
    {
      "cell_type": "markdown",
      "metadata": {
        "id": "0axwDzFh3ldd"
      },
      "source": [
        "### Exercise 3. \n",
        "\n",
        "Write a function that asks for an integer and prints the square of it. Keep checking while the function gets an integer.\n",
        "\n",
        "Use a `while` loop with a `try/except` block to account for incorrect inputs."
      ]
    },
    {
      "cell_type": "code",
      "metadata": {
        "id": "ZI5IfIja3ldd"
      },
      "source": [
        "while True:\n",
        "    try:\n",
        "        num = int(input('Please enter a number to calculate the square root: '))\n",
        "        print(sqrt_for_all(num))\n",
        "        break\n",
        "    except ValueError:\n",
        "        print('Wrong input! Please enter a number')"
      ],
      "execution_count": 17,
      "outputs": [
        {
          "output_type": "stream",
          "name": "stdout",
          "text": [
            "Wrong input! Please enter a number\n",
            "Wrong input! Please enter a number\n",
            "Wrong input! Please enter a number\n",
            "2.23606797749979\n"
          ]
        }
      ]
    },
    {
      "cell_type": "markdown",
      "metadata": {
        "id": "6cJ6h6jJ3lde"
      },
      "source": [
        "### Bonus track.\n",
        "\n",
        "1. Solve this kata in **codewars**.\n",
        "\n",
        "https://www.codewars.com/kata/560fbc2d636966b21e00009e"
      ]
    },
    {
      "cell_type": "code",
      "execution_count": 102,
      "metadata": {},
      "outputs": [],
      "source": [
        "def func(n):\n",
        "    try:\n",
        "        result = True if int(n) % 2 == 0 else False\n",
        "        return result\n",
        "    except:\n",
        "        raise ValueError\n"
      ]
    },
    {
      "cell_type": "code",
      "execution_count": 104,
      "metadata": {},
      "outputs": [],
      "source": [
        "def map(arr, somefunction):\n",
        "    try:\n",
        "        new_arr = [somefunction(x) for x in arr]\n",
        "        return new_arr\n",
        "    except TypeError:\n",
        "        return 'given argument is not a function'\n",
        "    except ValueError:\n",
        "        return 'array should contain only numbers'"
      ]
    },
    {
      "cell_type": "code",
      "execution_count": 106,
      "metadata": {},
      "outputs": [
        {
          "output_type": "execute_result",
          "data": {
            "text/plain": [
              "'array should contain only numbers'"
            ]
          },
          "metadata": {},
          "execution_count": 106
        }
      ],
      "source": [
        "w = [1, 2, 3, 's']\n",
        "map(w, func)"
      ]
    },
    {
      "cell_type": "markdown",
      "metadata": {
        "id": "0c4J32UZ3lde"
      },
      "source": [
        "2. Make a program using `while` that generates a **deck of cards** of 4 different suits. The deck must have 40 cards.\n",
        "\n",
        "   Develop the program in a `.py` file that will be run through the terminal. \n",
        "   \n",
        "   Then, import the module to this notebook and show the deck you've generated below."
      ]
    },
    {
      "cell_type": "code",
      "metadata": {
        "id": "iCrNBaku3lde"
      },
      "source": [
        "import deck_cards\n",
        "\n",
        "deck_cards.deck_builder()"
      ],
      "execution_count": 1,
      "outputs": [
        {
          "output_type": "execute_result",
          "data": {
            "text/plain": [
              "['1_hearts',\n",
              " '1_spades',\n",
              " '1_clubs',\n",
              " '1_diamonds',\n",
              " '2_hearts',\n",
              " '2_spades',\n",
              " '2_clubs',\n",
              " '2_diamonds',\n",
              " '3_hearts',\n",
              " '3_spades',\n",
              " '3_clubs',\n",
              " '3_diamonds',\n",
              " '4_hearts',\n",
              " '4_spades',\n",
              " '4_clubs',\n",
              " '4_diamonds',\n",
              " '5_hearts',\n",
              " '5_spades',\n",
              " '5_clubs',\n",
              " '5_diamonds',\n",
              " '6_hearts',\n",
              " '6_spades',\n",
              " '6_clubs',\n",
              " '6_diamonds',\n",
              " '7_hearts',\n",
              " '7_spades',\n",
              " '7_clubs',\n",
              " '7_diamonds',\n",
              " '8_hearts',\n",
              " '8_spades',\n",
              " '8_clubs',\n",
              " '8_diamonds',\n",
              " '9_hearts',\n",
              " '9_spades',\n",
              " '9_clubs',\n",
              " '9_diamonds',\n",
              " '10_hearts',\n",
              " '10_spades',\n",
              " '10_clubs',\n",
              " '10_diamonds',\n",
              " '11_hearts',\n",
              " '11_spades',\n",
              " '11_clubs',\n",
              " '11_diamonds',\n",
              " '12_hearts',\n",
              " '12_spades',\n",
              " '12_clubs',\n",
              " '12_diamonds']"
            ]
          },
          "metadata": {},
          "execution_count": 1
        }
      ]
    },
    {
      "cell_type": "markdown",
      "metadata": {
        "id": "drVzY9Eq3ldf"
      },
      "source": [
        "![\"lol\"](https://i.pinimg.com/originals/34/b2/ad/34b2ad1c370539fba5ed9422711cad7b.png)"
      ]
    }
  ]
}