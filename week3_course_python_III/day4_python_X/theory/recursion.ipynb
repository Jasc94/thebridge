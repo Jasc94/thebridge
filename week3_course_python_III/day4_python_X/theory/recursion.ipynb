{
 "metadata": {
  "language_info": {
   "codemirror_mode": {
    "name": "ipython",
    "version": 3
   },
   "file_extension": ".py",
   "mimetype": "text/x-python",
   "name": "python",
   "nbconvert_exporter": "python",
   "pygments_lexer": "ipython3",
   "version": "3.8.5"
  },
  "orig_nbformat": 2,
  "kernelspec": {
   "name": "python385jvsc74a57bd0dca0ade3e726a953b501b15e8e990130d2b7799f14cfd9f4271676035ebe5511",
   "display_name": "Python 3.8.5 64-bit ('base': conda)"
  }
 },
 "nbformat": 4,
 "nbformat_minor": 2,
 "cells": [
  {
   "source": [
    "# Recursividad\n",
    "\n",
    "El lugar donde pare la recursividad se llama caso base. Siempre debe tener uno para evitar loops infinitos"
   ],
   "cell_type": "markdown",
   "metadata": {}
  },
  {
   "cell_type": "code",
   "execution_count": null,
   "metadata": {},
   "outputs": [],
   "source": [
    "# No ejecutar\n",
    "# Esto sería un loop infinito\n",
    "\n",
    "def f1():\n",
    "    print(1)\n",
    "    # Llamar a una función dentro de una función es la recursividad\n",
    "    f1()\n",
    "\n",
    "f1()"
   ]
  },
  {
   "cell_type": "code",
   "execution_count": 1,
   "metadata": {},
   "outputs": [
    {
     "output_type": "stream",
     "name": "stdout",
     "text": [
      "1\n1\n1\n1\n1\n1\n1\n1\n1\n1\nNone\n"
     ]
    }
   ],
   "source": [
    "# Esto retorna 'None' a pesar de la condición\n",
    "def f1(count = 0):\n",
    "    if count == 10:\n",
    "        return count\n",
    "\n",
    "    print(1)\n",
    "    f1(count = count + 1)\n",
    "\n",
    "x = f1()\n",
    "print(x)"
   ]
  },
  {
   "cell_type": "code",
   "execution_count": 2,
   "metadata": {},
   "outputs": [
    {
     "output_type": "stream",
     "name": "stdout",
     "text": [
      "1\n1\n1\n1\n1\n1\n1\n1\n1\n1\n10\n"
     ]
    }
   ],
   "source": [
    "# Esto sí que retorna 10\n",
    "# Para actualizar el valor de la función recursiva, tenemos que retornarla. Sino, no lo estamos guardando en ningún lado\n",
    "def f1(count = 0):\n",
    "    if count == 10:\n",
    "        return count\n",
    "\n",
    "    print(1)\n",
    "    return f1(count = count + 1)\n",
    "\n",
    "x1 = f1()\n",
    "print(x1)"
   ]
  },
  {
   "cell_type": "code",
   "execution_count": 11,
   "metadata": {},
   "outputs": [
    {
     "output_type": "execute_result",
     "data": {
      "text/plain": [
       "120"
      ]
     },
     "metadata": {},
     "execution_count": 11
    }
   ],
   "source": [
    "# 5!  -> 5 * 4 * 3 * 2 * 1\n",
    "\n",
    "def factorial(n):\n",
    "    if n == 1:\n",
    "        return n\n",
    "\n",
    "    return n * factorial(n - 1)     # Multiplicamos n por la función que va disminuyendo su parámetro, por lo que ahora si llegará a la condición n == 1\n",
    "    \n",
    "\n",
    "factorial(5)"
   ]
  },
  {
   "cell_type": "code",
   "execution_count": 12,
   "metadata": {},
   "outputs": [
    {
     "output_type": "execute_result",
     "data": {
      "text/plain": [
       "120"
      ]
     },
     "metadata": {},
     "execution_count": 12
    }
   ],
   "source": [
    "def factorial2(n):\n",
    "    return n * factorial(n - 1) if n > 1 else 1\n",
    "\n",
    "factorial2(5)"
   ]
  },
  {
   "source": [
    "En orden de eficiencia: recursividad > while > for"
   ],
   "cell_type": "markdown",
   "metadata": {}
  },
  {
   "cell_type": "code",
   "execution_count": 23,
   "metadata": {},
   "outputs": [
    {
     "output_type": "execute_result",
     "data": {
      "text/plain": [
       "120"
      ]
     },
     "metadata": {},
     "execution_count": 23
    }
   ],
   "source": [
    "# 5!  -> 5 * 4 * 3 * 2 * 1\n",
    "\n",
    "# Otra forma de hacerlo con contador --> menos 'algorítmica'\n",
    "def factorial3(n, cont = 1):\n",
    "    if n == 1:\n",
    "        return cont\n",
    "    \n",
    "    cont = cont * n\n",
    "    return factorial3(n - 1, cont)\n",
    "    \n",
    "\n",
    "factorial3(5)"
   ]
  },
  {
   "cell_type": "code",
   "execution_count": null,
   "metadata": {},
   "outputs": [],
   "source": []
  }
 ]
}