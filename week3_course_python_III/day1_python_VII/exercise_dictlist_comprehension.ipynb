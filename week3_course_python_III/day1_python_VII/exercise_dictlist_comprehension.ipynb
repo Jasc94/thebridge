{
 "cells": [
  {
   "cell_type": "markdown",
   "metadata": {},
   "source": [
    "# Python | list/dict comprehension"
   ]
  },
  {
   "cell_type": "markdown",
   "metadata": {},
   "source": [
    "List comprehension in Python is a compact way of creating a list from a sequence. It is a short way to create a new list. List comprehension is considerably faster than processing a list using the for loop."
   ]
  },
  {
   "cell_type": "markdown",
   "metadata": {},
   "source": [
    "```python\n",
    "# syntax\n",
    "[i for i in iterable if expression]\n",
    "```"
   ]
  },
  {
   "cell_type": "markdown",
   "metadata": {},
   "source": [
    "Dictionary comprehension is the same as list comprehension but with dictionaries. I know, you didn't see that coming. "
   ]
  },
  {
   "cell_type": "markdown",
   "metadata": {},
   "source": [
    "```python\n",
    "# syntax\n",
    "\n",
    "{key: value for i in iterable}\n",
    "```\n"
   ]
  },
  {
   "cell_type": "markdown",
   "metadata": {},
   "source": [
    "- https://www.programiz.com/python-programming/list-comprehension\n",
    "- https://www.programiz.com/python-programming/dictionary-comprehension"
   ]
  },
  {
   "cell_type": "markdown",
   "metadata": {},
   "source": [
    "### Exercise 1.\n",
    "\n",
    "Use list comprehension and print the result to solve these problems: "
   ]
  },
  {
   "cell_type": "markdown",
   "metadata": {},
   "source": [
    "1. Make a list with the square number of numbers from 0 to 20. "
   ]
  },
  {
   "cell_type": "code",
   "execution_count": 21,
   "metadata": {},
   "outputs": [
    {
     "output_type": "stream",
     "name": "stdout",
     "text": [
      "[0, 1, 4, 9, 16, 25, 36, 49, 64, 81, 100, 121, 144, 169, 196, 225, 256, 289, 324, 361]\n"
     ]
    }
   ],
   "source": [
    "l1 = [x ** 2 for x in range(0, 20)]\n",
    "print(l1)"
   ]
  },
  {
   "cell_type": "markdown",
   "metadata": {},
   "source": [
    "2. Make a list with the first 50 power of two. "
   ]
  },
  {
   "cell_type": "code",
   "execution_count": 22,
   "metadata": {},
   "outputs": [
    {
     "output_type": "stream",
     "name": "stdout",
     "text": [
      "[2, 4, 6, 8, 10, 12, 14, 16, 18, 20, 22, 24, 26, 28, 30, 32, 34, 36, 38, 40, 42, 44, 46, 48, 50, 52, 54, 56, 58, 60, 62, 64, 66, 68, 70, 72, 74, 76, 78, 80, 82, 84, 86, 88, 90, 92, 94, 96, 98, 100]\n"
     ]
    }
   ],
   "source": [
    "l2 = [2 *+ x for x in range(1, 51)]\n",
    "print(l2)"
   ]
  },
  {
   "cell_type": "markdown",
   "metadata": {},
   "source": [
    "3. Calculate the square root of the first 100 numbers. \n",
    "\n",
    "**You will probably need to install math library with pip and import it in this file.** \n",
    "\n",
    "\n",
    "\n"
   ]
  },
  {
   "cell_type": "code",
   "execution_count": 20,
   "metadata": {},
   "outputs": [
    {
     "output_type": "stream",
     "name": "stdout",
     "text": [
      "[1.0, 1.4142135623730951, 1.7320508075688772, 2.0, 2.23606797749979, 2.449489742783178, 2.6457513110645907, 2.8284271247461903, 3.0, 3.1622776601683795, 3.3166247903554, 3.4641016151377544, 3.605551275463989, 3.7416573867739413, 3.872983346207417, 4.0, 4.123105625617661, 4.242640687119285, 4.358898943540674, 4.47213595499958, 4.58257569495584, 4.69041575982343, 4.795831523312719, 4.898979485566356, 5.0, 5.0990195135927845, 5.196152422706632, 5.291502622129181, 5.385164807134504, 5.477225575051661, 5.5677643628300215, 5.656854249492381, 5.744562646538029, 5.830951894845301, 5.916079783099616, 6.0, 6.082762530298219, 6.164414002968976, 6.244997998398398, 6.324555320336759, 6.4031242374328485, 6.48074069840786, 6.557438524302, 6.6332495807108, 6.708203932499369, 6.782329983125268, 6.855654600401044, 6.928203230275509, 7.0, 7.0710678118654755, 7.14142842854285, 7.211102550927978, 7.280109889280518, 7.3484692283495345, 7.416198487095663, 7.483314773547883, 7.54983443527075, 7.615773105863909, 7.681145747868608, 7.745966692414834, 7.810249675906654, 7.874007874011811, 7.937253933193772, 8.0, 8.06225774829855, 8.12403840463596, 8.18535277187245, 8.246211251235321, 8.306623862918075, 8.366600265340756, 8.426149773176359, 8.48528137423857, 8.54400374531753, 8.602325267042627, 8.660254037844387, 8.717797887081348, 8.774964387392123, 8.831760866327848, 8.888194417315589, 8.94427190999916, 9.0, 9.055385138137417, 9.1104335791443, 9.16515138991168, 9.219544457292887, 9.273618495495704, 9.327379053088816, 9.38083151964686, 9.433981132056603, 9.486832980505138, 9.539392014169456, 9.591663046625438, 9.643650760992955, 9.695359714832659, 9.746794344808963, 9.797958971132712, 9.848857801796104, 9.899494936611665, 9.9498743710662, 10.0]\n"
     ]
    }
   ],
   "source": [
    "import math\n",
    "l3 = [math.sqrt(x) for x in range(1, 101)]\n",
    "print(l3)"
   ]
  },
  {
   "cell_type": "markdown",
   "metadata": {},
   "source": [
    "4. Create this list `[-10,-9,-8,-7,-6,-5,-4,-3,-2,-1,0]`. "
   ]
  },
  {
   "cell_type": "code",
   "execution_count": 23,
   "metadata": {},
   "outputs": [
    {
     "output_type": "stream",
     "name": "stdout",
     "text": [
      "[0, -1, -2, -3, -4, -5, -6, -7, -8, -9, -10]\n"
     ]
    }
   ],
   "source": [
    "l4 = [-x for x in range(0, 11)]\n",
    "print(l4)"
   ]
  },
  {
   "cell_type": "markdown",
   "metadata": {},
   "source": [
    "5. Filter only negative and zero in the list `numbers`."
   ]
  },
  {
   "cell_type": "code",
   "execution_count": 6,
   "metadata": {},
   "outputs": [],
   "source": [
    "\n",
    "numbers = [-4, -3, -2, -1, 0, 2, 4, 6]"
   ]
  },
  {
   "cell_type": "code",
   "execution_count": 19,
   "metadata": {},
   "outputs": [
    {
     "output_type": "stream",
     "name": "stdout",
     "text": [
      "[-4, -3, -2, -1, 0]\n"
     ]
    }
   ],
   "source": [
    "l5 = [x for x in numbers if x < 1]\n",
    "print(l5)"
   ]
  },
  {
   "cell_type": "markdown",
   "metadata": {},
   "source": [
    "6. Find the odd numbers from 1-100 and put them on a list. \n",
    "\n",
    "\n"
   ]
  },
  {
   "cell_type": "code",
   "execution_count": 18,
   "metadata": {},
   "outputs": [
    {
     "output_type": "stream",
     "name": "stdout",
     "text": [
      "[1, 3, 5, 7, 9, 11, 13, 15, 17, 19, 21, 23, 25, 27, 29, 31, 33, 35, 37, 39, 41, 43, 45, 47, 49, 51, 53, 55, 57, 59, 61, 63, 65, 67, 69, 71, 73, 75, 77, 79, 81, 83, 85, 87, 89, 91, 93, 95, 97, 99]\n"
     ]
    }
   ],
   "source": [
    "l6 = [x for x in range(1, 101) if x % 2 != 0]\n",
    "print(l6)"
   ]
  },
  {
   "cell_type": "markdown",
   "metadata": {},
   "source": [
    "7. Find all of the numbers from 1-1000 that are divisible by 7.\n",
    "\n"
   ]
  },
  {
   "cell_type": "code",
   "execution_count": 17,
   "metadata": {},
   "outputs": [
    {
     "output_type": "stream",
     "name": "stdout",
     "text": [
      "[7, 14, 21, 28, 35, 42, 49, 56, 63, 70, 77, 84, 91, 98, 105, 112, 119, 126, 133, 140, 147, 154, 161, 168, 175, 182, 189, 196, 203, 210, 217, 224, 231, 238, 245, 252, 259, 266, 273, 280, 287, 294, 301, 308, 315, 322, 329, 336, 343, 350, 357, 364, 371, 378, 385, 392, 399, 406, 413, 420, 427, 434, 441, 448, 455, 462, 469, 476, 483, 490, 497, 504, 511, 518, 525, 532, 539, 546, 553, 560, 567, 574, 581, 588, 595, 602, 609, 616, 623, 630, 637, 644, 651, 658, 665, 672, 679, 686, 693, 700, 707, 714, 721, 728, 735, 742, 749, 756, 763, 770, 777, 784, 791, 798, 805, 812, 819, 826, 833, 840, 847, 854, 861, 868, 875, 882, 889, 896, 903, 910, 917, 924, 931, 938, 945, 952, 959, 966, 973, 980, 987, 994]\n"
     ]
    }
   ],
   "source": [
    "l7 = [x for x in range(1, 1001) if x % 7 == 0]\n",
    "print(l7)"
   ]
  },
  {
   "cell_type": "markdown",
   "metadata": {},
   "source": [
    "8. Remove all of the vowels in a string. \n",
    "\n",
    "   Hint: make a list of the non-vowels. \n",
    "\n",
    "\n",
    "\n",
    "\n"
   ]
  },
  {
   "cell_type": "code",
   "execution_count": 14,
   "metadata": {},
   "outputs": [],
   "source": [
    "teststring = \"When you reach the end of your rope, tie a knot in it and hang on.\""
   ]
  },
  {
   "cell_type": "code",
   "execution_count": 30,
   "metadata": {},
   "outputs": [
    {
     "output_type": "stream",
     "name": "stdout",
     "text": [
      "Whn y rch th nd f yr rp, t  knt n t nd hng n.\n"
     ]
    }
   ],
   "source": [
    "l8 = [x for x in teststring if x not in ['a', 'e', 'i', 'o', 'u']]\n",
    "\n",
    "new_s = ''\n",
    "for x in l8:\n",
    "    new_s += x\n",
    "print(new_s)"
   ]
  },
  {
   "cell_type": "markdown",
   "metadata": {},
   "source": [
    "9. Find the capital letters (and not white space) in the sentence `\"The Way To Get Started Is To Quit Talking And Begin Doing.\"`. \n"
   ]
  },
  {
   "cell_type": "code",
   "execution_count": 26,
   "metadata": {},
   "outputs": [
    {
     "output_type": "stream",
     "name": "stdout",
     "text": [
      "['T', 'W', 'T', 'G', 'S', 'I', 'T', 'Q', 'T', 'A', 'B', 'D']\n"
     ]
    }
   ],
   "source": [
    "import re\n",
    "\n",
    "s9 = 'The Way To Get Started Is To Quit Talking And Begin Doing.'\n",
    "print(re.findall('[A-Z]', s9))"
   ]
  },
  {
   "cell_type": "markdown",
   "metadata": {},
   "source": [
    "10. Find all the consonants in the sentence `\"Tell me and I forget. Teach me and I remember. Involve me and I learn.\"`.\n"
   ]
  },
  {
   "cell_type": "code",
   "execution_count": 32,
   "metadata": {},
   "outputs": [
    {
     "output_type": "stream",
     "name": "stdout",
     "text": [
      "['T', 'l', 'l', ' ', 'm', ' ', 'n', 'd', ' ', 'I', ' ', 'f', 'r', 'g', 't', '.', ' ', 'T', 'c', 'h', ' ', 'm', ' ', 'n', 'd', ' ', 'I', ' ', 'r', 'm', 'm', 'b', 'r', '.', ' ', 'I', 'n', 'v', 'l', 'v', ' ', 'm', ' ', 'n', 'd', ' ', 'I', ' ', 'l', 'r', 'n', '.']\n"
     ]
    }
   ],
   "source": [
    "s10 = 'Tell me and I forget. Teach me and I remember. Involve me and I learn.'\n",
    "l10 = [x for x in s10 if x not in ['a', 'e', 'i', 'o', 'u']]\n",
    "print(l10)"
   ]
  },
  {
   "cell_type": "markdown",
   "metadata": {},
   "source": [
    "11. Create 4 lists of 10 random numbers between 0 and 100 each. \n",
    "\n",
    "**You will probably need to import random module.**\n",
    "\n"
   ]
  },
  {
   "cell_type": "code",
   "execution_count": 36,
   "metadata": {},
   "outputs": [
    {
     "output_type": "stream",
     "name": "stdout",
     "text": [
      "[6, 45, 79, 6, 43, 87, 71, 39, 37, 42] \n [53, 54, 89, 100, 61, 22, 98, 47, 67, 73] \n [89, 72, 83, 5, 6, 61, 2, 21, 6, 33] \n [51, 58, 25, 47, 39, 95, 42, 3, 29, 95] \n\n"
     ]
    }
   ],
   "source": [
    "import random\n",
    "\n",
    "l11_1 = [random.randint(0, 100) for x in range(0,10)]\n",
    "l11_2 = [random.randint(0, 100) for x in range(0,10)]\n",
    "l11_3 = [random.randint(0, 100) for x in range(0,10)]\n",
    "l11_4 = [random.randint(0, 100) for x in range(0,10)]\n",
    "\n",
    "print(l11_1, '\\n', l11_2, '\\n', l11_3, '\\n', l11_4, '\\n')"
   ]
  },
  {
   "cell_type": "markdown",
   "metadata": {},
   "source": [
    "### Exercise 2. "
   ]
  },
  {
   "cell_type": "markdown",
   "metadata": {},
   "source": [
    "1. Flatten the following list of lists of lists to a one dimensional list **using list-comprehension**:\n",
    "```python\n",
    "expected output:\n",
    "[1, 2, 3, 4, 5, 6, 7, 8, 9]\n",
    "```"
   ]
  },
  {
   "cell_type": "code",
   "execution_count": 41,
   "metadata": {},
   "outputs": [],
   "source": [
    "list_of_lists =[[1, 2, 3], [4, 5, 6], [7, 8, 9]]"
   ]
  },
  {
   "cell_type": "code",
   "execution_count": 62,
   "metadata": {},
   "outputs": [
    {
     "output_type": "stream",
     "name": "stdout",
     "text": [
      "[1, 2, 3, 4, 5, 6, 7, 8, 9]\n"
     ]
    }
   ],
   "source": [
    "l2_1 = [y for x in list_of_lists for y in x]\n",
    "print(l2_1)"
   ]
  },
  {
   "cell_type": "markdown",
   "metadata": {},
   "source": [
    "2. Flatten the following list to a new list, and capitalize the elements of the new list **using list-comprehension**:\n",
    "```python\n",
    "expected output:\n",
    "['SPAIN', 'MADRID', 'FRANCE', 'PARIS', 'PORTUGAL', 'LISBON']\n",
    "```"
   ]
  },
  {
   "cell_type": "code",
   "execution_count": null,
   "metadata": {},
   "outputs": [],
   "source": [
    "countries = [[('Spain', 'Madrid')], [('France', 'Paris')], [('Portugal', 'Lisbon')]]"
   ]
  },
  {
   "cell_type": "code",
   "execution_count": 63,
   "metadata": {},
   "outputs": [
    {
     "output_type": "stream",
     "name": "stdout",
     "text": [
      "['Spain', 'Madrid', 'France', 'Paris', 'Portugal', 'Lisbon']\n"
     ]
    }
   ],
   "source": [
    "l2_2 = [z for x in countries for y in x for z in y]\n",
    "print(l2_2)"
   ]
  },
  {
   "cell_type": "markdown",
   "metadata": {},
   "source": [
    "3. Change the `countries` list to a list of dictionaries:\n",
    "```python\n",
    "expected output:\n",
    "[{'country': 'SPAIN', 'city': 'MADRID'},\n",
    "{'country': 'FRANCE', 'city': 'PARIS'},\n",
    "{'country': 'PORTUGAL', 'city': 'LISBON'}]\n",
    "```"
   ]
  },
  {
   "cell_type": "code",
   "execution_count": 74,
   "metadata": {},
   "outputs": [
    {
     "output_type": "stream",
     "name": "stdout",
     "text": [
      "[{'country': 'Spain', 'city': 'Madrid'}, {'country': 'France', 'city': 'Paris'}, {'country': 'Portugal', 'city': 'Lisbon'}]\n"
     ]
    }
   ],
   "source": [
    "l2_3 = [{'country' : y[0], 'city' : y[1]} for x in countries for y in x]\n",
    "print(l2_3)"
   ]
  },
  {
   "cell_type": "markdown",
   "metadata": {},
   "source": [
    "4. Change the following list of lists to a list of concatenated strings **using list-comprehension**:\n",
    "```python\n",
    "expected output:\n",
    "['Gabriel Vazquez', 'Clara Piniella', 'Diomedes Barbero']\n",
    "```"
   ]
  },
  {
   "cell_type": "code",
   "execution_count": 75,
   "metadata": {},
   "outputs": [],
   "source": [
    "names = [[('Gabriel', 'Vazquez')], [('Clara', 'Piniella')], [('Diomedes', 'Barbero')]]"
   ]
  },
  {
   "cell_type": "code",
   "execution_count": 78,
   "metadata": {},
   "outputs": [
    {
     "output_type": "stream",
     "name": "stdout",
     "text": [
      "['Gabriel Vazquez', 'Clara Piniella', 'Diomedes Barbero']\n"
     ]
    }
   ],
   "source": [
    "l2_3 = [y[0] + ' ' + y[1] for x in names for y in x]\n",
    "print(l2_3)"
   ]
  },
  {
   "cell_type": "markdown",
   "metadata": {},
   "source": [
    "5. Convert the numbers of the following nested list to floats. Use **floats_list** as the name of the list. **using list-comprehension**"
   ]
  },
  {
   "cell_type": "code",
   "execution_count": 79,
   "metadata": {},
   "outputs": [],
   "source": [
    "big_list_of_lists = [['40', '20', '10', '30'], ['20', '20', '20', '20', '20', '30', '20'], \\\n",
    "['30', '20', '30', '50', '10', '30', '20', '20', '20'], ['100', '100'], ['100', '100', '100', '100', '100'], \\\n",
    "['100', '100', '100', '100']]"
   ]
  },
  {
   "cell_type": "code",
   "execution_count": 80,
   "metadata": {},
   "outputs": [
    {
     "output_type": "stream",
     "name": "stdout",
     "text": [
      "['40', '20', '10', '30', '20', '20', '20', '20', '20', '30', '20', '30', '20', '30', '50', '10', '30', '20', '20', '20', '100', '100', '100', '100', '100', '100', '100', '100', '100', '100', '100']\n"
     ]
    }
   ],
   "source": [
    "l2_5 = [y for x in big_list_of_lists for y in x]\n",
    "print(l2_5)"
   ]
  },
  {
   "cell_type": "markdown",
   "metadata": {},
   "source": [
    "6. Using list comprehension create the following list of tuples:\n",
    "```python\n",
    "expected output: \n",
    "[(0, 1, 0, 0, 0, 0, 0),\n",
    "(1, 1, 1, 1, 1, 1, 1),\n",
    "(2, 1, 2, 4, 8, 16, 32),\n",
    "(3, 1, 3, 9, 27, 81, 243),\n",
    "(4, 1, 4, 16, 64, 256, 1024),\n",
    "(5, 1, 5, 25, 125, 625, 3125),\n",
    "(6, 1, 6, 36, 216, 1296, 7776),\n",
    "(7, 1, 7, 49, 343, 2401, 16807),\n",
    "(8, 1, 8, 64, 512, 4096, 32768),\n",
    "(9, 1, 9, 81, 729, 6561, 59049),\n",
    "(10, 1, 10, 100, 1000, 10000, 100000)]\n",
    "```\n",
    "\n",
    "\n"
   ]
  },
  {
   "cell_type": "code",
   "execution_count": 108,
   "metadata": {},
   "outputs": [
    {
     "output_type": "stream",
     "name": "stdout",
     "text": [
      "[[0, 1, 0, 0, 0, 0, 0, 0, 0], [1, 1, 1, 1, 1, 1, 1, 1, 1], [2, 1, 2, 4, 8, 16, 32, 64, 128], [3, 1, 3, 9, 27, 81, 243, 729, 2187], [4, 1, 4, 16, 64, 256, 1024, 4096, 16384], [5, 1, 5, 25, 125, 625, 3125, 15625, 78125], [6, 1, 6, 36, 216, 1296, 7776, 46656, 279936], [7, 1, 7, 49, 343, 2401, 16807, 117649, 823543], [8, 1, 8, 64, 512, 4096, 32768, 262144, 2097152], [9, 1, 9, 81, 729, 6561, 59049, 531441, 4782969], [10, 1, 10, 100, 1000, 10000, 100000, 1000000, 10000000]]\n"
     ]
    }
   ],
   "source": [
    "test = []\n",
    "tupla = []\n",
    "\n",
    "for x in range(0, 11):\n",
    "    tupla.append([x, 1])\n",
    "    for y in range(1,8):\n",
    "        tupla[x].append(x ** y)\n",
    "\n",
    "print(tupla)"
   ]
  },
  {
   "cell_type": "code",
   "execution_count": 111,
   "metadata": {},
   "outputs": [
    {
     "output_type": "stream",
     "name": "stdout",
     "text": [
      "[(0, 1, 0, 0, 0, 0, 0, 0, 0), (1, 1, 1, 1, 1, 1, 1, 1, 1), (2, 1, 2, 4, 8, 16, 32, 64, 128), (3, 1, 3, 9, 27, 81, 243, 729, 2187), (4, 1, 4, 16, 64, 256, 1024, 4096, 16384), (5, 1, 5, 25, 125, 625, 3125, 15625, 78125), (6, 1, 6, 36, 216, 1296, 7776, 46656, 279936), (7, 1, 7, 49, 343, 2401, 16807, 117649, 823543), (8, 1, 8, 64, 512, 4096, 32768, 262144, 2097152), (9, 1, 9, 81, 729, 6561, 59049, 531441, 4782969), (10, 1, 10, 100, 1000, 10000, 100000, 1000000, 10000000)]\n"
     ]
    }
   ],
   "source": [
    "l2_6 = [tuple([x, 1] + [x ** y for y in range(1, 8)]) for x in range(0, 11)]\n",
    "print(l2_6)"
   ]
  },
  {
   "cell_type": "markdown",
   "metadata": {},
   "source": [
    "### Exercise 3. "
   ]
  },
  {
   "cell_type": "markdown",
   "metadata": {},
   "source": [
    "1. First, create a range from 100 to 160 with steps of 10.\n",
    "   Second, using **dict comprehension**, create a dictionary where each number in the range is the key and each item divided by 100 is the value."
   ]
  },
  {
   "cell_type": "code",
   "execution_count": 113,
   "metadata": {},
   "outputs": [
    {
     "output_type": "stream",
     "name": "stdout",
     "text": [
      "{100: 1.0, 110: 1.1, 120: 1.2, 130: 1.3, 140: 1.4, 150: 1.5, 160: 1.6}\n"
     ]
    }
   ],
   "source": [
    "keys = [x for x in range(100, 161, 10)]\n",
    "d = {x : x / 100 for x in keys}\n",
    "print(d)"
   ]
  },
  {
   "cell_type": "markdown",
   "metadata": {},
   "source": [
    "2. Using **dict comprehension** and a conditional argument create a dictionary from `curr_dict` where only the key:value pairs with value above 2000 are taken to the new dictionary.\n",
    "    "
   ]
  },
  {
   "cell_type": "code",
   "execution_count": 114,
   "metadata": {},
   "outputs": [],
   "source": [
    "curr_dict = {\"Netflix\":4950,\"HBO\":2400,\"Amazon\":1800, \"Movistar\":1700}"
   ]
  },
  {
   "cell_type": "code",
   "execution_count": 115,
   "metadata": {},
   "outputs": [
    {
     "output_type": "stream",
     "name": "stdout",
     "text": [
      "{'Netflix': 4950, 'HBO': 2400}\n"
     ]
    }
   ],
   "source": [
    "new_dict = {k : v for k, v in curr_dict.items() if v > 2000}\n",
    "print(new_dict)"
   ]
  },
  {
   "cell_type": "markdown",
   "metadata": {},
   "source": [
    "3. Create a function that receives two lists `list1` and `list2` by parameter and returns a dictionary with each element of `list1` as keys and the elements of `list2` as values. This time use **dict comprehension** to do so.  "
   ]
  },
  {
   "cell_type": "code",
   "execution_count": 116,
   "metadata": {},
   "outputs": [],
   "source": [
    "def dict_zipper(l1, l2):\n",
    "    nd = dict(zip(l1, l2))\n",
    "    return nd"
   ]
  },
  {
   "cell_type": "code",
   "execution_count": 117,
   "metadata": {},
   "outputs": [
    {
     "output_type": "stream",
     "name": "stdout",
     "text": [
      "{1: 'a', 2: 'b', 3: 'c', 4: 'd', 5: 'e', 6: 'f'}\n"
     ]
    }
   ],
   "source": [
    "lista1 = [1, 2, 3, 4, 5, 6]\n",
    "lista2 = ['a', 'b', 'c', 'd', 'e', 'f']\n",
    "\n",
    "d3 = dict_zipper(lista1, lista2)\n",
    "print(d3)"
   ]
  },
  {
   "cell_type": "markdown",
   "metadata": {},
   "source": [
    "### Bonus Track.\n",
    "\n",
    "1. Make a Python program that, from the strings `\" | \"` and `\" _ \"`, shows an 8x8 **chessboard** on the screen.\n",
    "\n",
    "   Develop the program in a `.py` file that will be run through the terminal. \n",
    " \n",
    "   From the folder that contains the corresponding `.py`, it will be executed with the following command:` python3 program_name.py`"
   ]
  },
  {
   "cell_type": "code",
   "execution_count": 3,
   "metadata": {},
   "outputs": [
    {
     "output_type": "stream",
     "name": "stdout",
     "text": [
      " _ _ _ _ _ _ _ _\n|_|_|_|_|_|_|_|_|\n|_|_|_|_|_|_|_|_|\n|_|_|_|_|_|_|_|_|\n|_|_|_|_|_|_|_|_|\n|_|_|_|_|_|_|_|_|\n|_|_|_|_|_|_|_|_|\n|_|_|_|_|_|_|_|_|\n|_|_|_|_|_|_|_|_|\n"
     ]
    }
   ],
   "source": [
    "import program_name\n",
    "\n",
    "program_name.chess_board()"
   ]
  },
  {
   "cell_type": "markdown",
   "metadata": {},
   "source": [
    "!['togood'](https://i.pinimg.com/originals/de/f5/2f/def52fe41d695d8feebd2cdc194da929.png)"
   ]
  },
  {
   "cell_type": "code",
   "execution_count": null,
   "metadata": {},
   "outputs": [],
   "source": []
  }
 ],
 "metadata": {
  "kernelspec": {
   "name": "python385jvsc74a57bd0dca0ade3e726a953b501b15e8e990130d2b7799f14cfd9f4271676035ebe5511",
   "display_name": "Python 3.8.5 64-bit ('base': conda)"
  },
  "language_info": {
   "codemirror_mode": {
    "name": "ipython",
    "version": 3
   },
   "file_extension": ".py",
   "mimetype": "text/x-python",
   "name": "python",
   "nbconvert_exporter": "python",
   "pygments_lexer": "ipython3",
   "version": "3.8.5"
  }
 },
 "nbformat": 4,
 "nbformat_minor": 4
}