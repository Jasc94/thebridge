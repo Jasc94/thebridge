{
 "cells": [
  {
   "cell_type": "markdown",
   "metadata": {},
   "source": [
    "# Apartado 6 - Import"
   ]
  },
  {
   "cell_type": "markdown",
   "metadata": {},
   "source": [
    "- Import modulos\n",
    "- Abrir ficheros"
   ]
  },
  {
   "cell_type": "markdown",
   "metadata": {},
   "source": [
    "------------------------------------------------------------------"
   ]
  },
  {
   "cell_type": "markdown",
   "metadata": {},
   "source": [
    "## Import modulos"
   ]
  },
  {
   "cell_type": "markdown",
   "metadata": {},
   "source": [
    "[HELP](https://realpython.com/python-modules-packages/)"
   ]
  },
  {
   "cell_type": "code",
   "execution_count": 1,
   "metadata": {},
   "outputs": [
    {
     "output_type": "stream",
     "name": "stdout",
     "text": [
      "8\n"
     ]
    }
   ],
   "source": [
    "import mi_modulo \n",
    "\n",
    "suma = mi_modulo.suma_2(a=2, b=6)\n",
    "print(suma)"
   ]
  },
  {
   "cell_type": "code",
   "execution_count": 2,
   "metadata": {},
   "outputs": [
    {
     "output_type": "execute_result",
     "data": {
      "text/plain": [
       "1"
      ]
     },
     "metadata": {},
     "execution_count": 2
    }
   ],
   "source": [
    "resta = mi_modulo.resta_2(a=7, b=6)\n",
    "resta"
   ]
  },
  {
   "cell_type": "code",
   "execution_count": 3,
   "metadata": {},
   "outputs": [
    {
     "output_type": "execute_result",
     "data": {
      "text/plain": [
       "2"
      ]
     },
     "metadata": {},
     "execution_count": 3
    }
   ],
   "source": [
    "from mi_modulo import resta_2\n",
    "\n",
    "resta2 = resta_2(a=5, b=3)\n",
    "resta2"
   ]
  },
  {
   "cell_type": "code",
   "execution_count": 5,
   "metadata": {},
   "outputs": [
    {
     "output_type": "execute_result",
     "data": {
      "text/plain": [
       "3"
      ]
     },
     "metadata": {},
     "execution_count": 5
    }
   ],
   "source": [
    "import mi_modulo as mm\n",
    "\n",
    "mm.resta_2(5, 2)"
   ]
  },
  {
   "cell_type": "code",
   "execution_count": 6,
   "metadata": {},
   "outputs": [
    {
     "output_type": "stream",
     "name": "stdout",
     "text": [
      "2\n"
     ]
    }
   ],
   "source": [
    "# También puedo importar variables\n",
    "from mi_modulo import x\n",
    "\n",
    "print(x)"
   ]
  },
  {
   "cell_type": "code",
   "execution_count": null,
   "metadata": {},
   "outputs": [],
   "source": [
    "# Para ver lo que tiene un modulo dentro, pongo el nombre y punto. Ejemplo: mi_modulo.\n",
    "# Si yo no he ejecutado la importación, no puedo ver lo que tiene dentro"
   ]
  },
  {
   "cell_type": "markdown",
   "metadata": {},
   "source": [
    "--------------------------------------------------------------------------"
   ]
  },
  {
   "cell_type": "code",
   "execution_count": 7,
   "metadata": {},
   "outputs": [
    {
     "output_type": "execute_result",
     "data": {
      "text/plain": [
       "['/Users/jonathansuarezcaceres/Downloads/1_DataScience/TheBridge/thebridge/week3_course_python_III/day1_python_VII/theory/6_import',\n",
       " '/Users/jonathansuarezcaceres/.vscode/extensions/ms-toolsai.jupyter-2021.5.745244803/pythonFiles',\n",
       " '/Users/jonathansuarezcaceres/.vscode/extensions/ms-toolsai.jupyter-2021.5.745244803/pythonFiles',\n",
       " '/Users/jonathansuarezcaceres/.vscode/extensions/ms-toolsai.jupyter-2021.5.745244803/pythonFiles/lib/python',\n",
       " '/Library/Frameworks/Python.framework/Versions/3.9/lib/python39.zip',\n",
       " '/Library/Frameworks/Python.framework/Versions/3.9/lib/python3.9',\n",
       " '/Library/Frameworks/Python.framework/Versions/3.9/lib/python3.9/lib-dynload',\n",
       " '',\n",
       " '/Users/jonathansuarezcaceres/Library/Python/3.9/lib/python/site-packages',\n",
       " '/Library/Frameworks/Python.framework/Versions/3.9/lib/python3.9/site-packages',\n",
       " '/Users/jonathansuarezcaceres/Library/Python/3.9/lib/python/site-packages/IPython/extensions',\n",
       " '/Users/jonathansuarezcaceres/.ipython']"
      ]
     },
     "metadata": {},
     "execution_count": 7
    }
   ],
   "source": [
    "import sys\n",
    "\n",
    "# Rutas que python nos va a dejar leer desde donde estamos\n",
    "sys.path"
   ]
  },
  {
   "cell_type": "code",
   "execution_count": null,
   "metadata": {},
   "outputs": [],
   "source": [
    "# Python me va a dejar importar todos los archivos .py que estén dentro de las carpetas que aparecen en sys.path\n",
    "\n",
    "# La primera carpeta que aparece, es donde está el archivo que estamos ejecutando"
   ]
  },
  {
   "cell_type": "code",
   "execution_count": 10,
   "metadata": {},
   "outputs": [
    {
     "output_type": "execute_result",
     "data": {
      "text/plain": [
       "['/Users/jonathansuarezcaceres/Downloads/1_DataScience/TheBridge/thebridge/week3_course_python_III/day1_python_VII/theory/6_import',\n",
       " '/Users/jonathansuarezcaceres/.vscode/extensions/ms-toolsai.jupyter-2021.5.745244803/pythonFiles',\n",
       " '/Users/jonathansuarezcaceres/.vscode/extensions/ms-toolsai.jupyter-2021.5.745244803/pythonFiles',\n",
       " '/Users/jonathansuarezcaceres/.vscode/extensions/ms-toolsai.jupyter-2021.5.745244803/pythonFiles/lib/python',\n",
       " '/Library/Frameworks/Python.framework/Versions/3.9/lib/python39.zip',\n",
       " '/Library/Frameworks/Python.framework/Versions/3.9/lib/python3.9',\n",
       " '/Library/Frameworks/Python.framework/Versions/3.9/lib/python3.9/lib-dynload',\n",
       " '',\n",
       " '/Users/jonathansuarezcaceres/Library/Python/3.9/lib/python/site-packages',\n",
       " '/Library/Frameworks/Python.framework/Versions/3.9/lib/python3.9/site-packages',\n",
       " '/Users/jonathansuarezcaceres/Library/Python/3.9/lib/python/site-packages/IPython/extensions',\n",
       " '/Users/jonathansuarezcaceres/.ipython',\n",
       " '/Users/jonathansuarezcaceres/Downloads/1_DataScience/TheBridge/thebridge/week3_course_python_III/day1_python_VII/theory']"
      ]
     },
     "metadata": {},
     "execution_count": 10
    }
   ],
   "source": [
    "# Para añadir un path al directorio\n",
    "# Como es una lista, podemos hacer un simple .append()\n",
    "new_path = '/Users/jonathansuarezcaceres/Downloads/1_DataScience/TheBridge/thebridge/week3_course_python_III/day1_python_VII/theory'\n",
    "sys.path.append(new_path)\n",
    "sys.path"
   ]
  },
  {
   "cell_type": "code",
   "execution_count": 9,
   "metadata": {},
   "outputs": [
    {
     "output_type": "stream",
     "name": "stdout",
     "text": [
      "2\n"
     ]
    }
   ],
   "source": [
    "# Para importar un archivo en una carpeta dentro del mismo path que este archivo\n",
    "import f.nuevo_archivo as na\n",
    "\n",
    "print(na.f())"
   ]
  },
  {
   "cell_type": "code",
   "execution_count": 2,
   "metadata": {},
   "outputs": [
    {
     "output_type": "execute_result",
     "data": {
      "text/plain": [
       "'z:\\\\Data_Science\\\\TheBridge\\\\Content\\\\Contenido_Curso\\\\data_science_apr_2021\\\\week3_precurse_python_III\\\\day1_python_X\\\\exercises\\\\6_import\\\\mi_modulo.py'"
      ]
     },
     "metadata": {},
     "execution_count": 2
    }
   ],
   "source": [
    "import mi_modulo as mm\n",
    "\n",
    "mm.__file__"
   ]
  },
  {
   "cell_type": "code",
   "execution_count": 6,
   "metadata": {},
   "outputs": [
    {
     "output_type": "execute_result",
     "data": {
      "text/plain": [
       "'Z:\\\\Data_Science\\\\Software\\\\Python\\\\Python_3.6.4\\\\lib\\\\re.py'"
      ]
     },
     "metadata": {},
     "execution_count": 6
    }
   ],
   "source": [
    "import re\n",
    "\n",
    "re.__file__"
   ]
  },
  {
   "cell_type": "code",
   "execution_count": null,
   "metadata": {},
   "outputs": [],
   "source": []
  }
 ],
 "metadata": {
  "kernelspec": {
   "name": "python392jvsc74a57bd0aee8b7b246df8f9039afb4144a1f6fd8d2ca17a180786b69acc140d282b71a49",
   "display_name": "Python 3.9.2 64-bit"
  },
  "language_info": {
   "codemirror_mode": {
    "name": "ipython",
    "version": 3
   },
   "file_extension": ".py",
   "mimetype": "text/x-python",
   "name": "python",
   "nbconvert_exporter": "python",
   "pygments_lexer": "ipython3",
   "version": "3.9.2"
  },
  "metadata": {
   "interpreter": {
    "hash": "aee8b7b246df8f9039afb4144a1f6fd8d2ca17a180786b69acc140d282b71a49"
   }
  }
 },
 "nbformat": 4,
 "nbformat_minor": 4
}