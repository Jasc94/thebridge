{
  "nbformat": 4,
  "nbformat_minor": 0,
  "metadata": {
    "kernelspec": {
      "name": "python385jvsc74a57bd0dca0ade3e726a953b501b15e8e990130d2b7799f14cfd9f4271676035ebe5511",
      "display_name": "Python 3.8.5 64-bit ('base': conda)"
    },
    "language_info": {
      "codemirror_mode": {
        "name": "ipython",
        "version": 3
      },
      "file_extension": ".py",
      "mimetype": "text/x-python",
      "name": "python",
      "nbconvert_exporter": "python",
      "pygments_lexer": "ipython3",
      "version": "3.8.5"
    },
    "colab": {
      "name": "exercises_programacion_funcional.ipynb",
      "provenance": []
    }
  },
  "cells": [
    {
      "cell_type": "markdown",
      "metadata": {
        "id": "UtIg28qGxB6R"
      },
      "source": [
        "# Python | Programación funcional\n",
        "\n",
        "### Ejercicio 1.\n",
        "\n",
        "1. Utiliza `reduce` para concatenar estas palabras en una frase\n",
        "```Python\n",
        "ejer_1 = (\"to\", \"be\", \"or\", \"not\", \"to\", \"be\", \"that\", \"is\", \"the\", \"question\")\n",
        "```"
      ]
    },
    {
      "cell_type": "code",
      "metadata": {
        "id": "TGRVZROjxB6X"
      },
      "source": [
        "from functools import reduce\n",
        "\n",
        "ejer_1 = (\"to\", \"be\", \"or\", \"not\", \"to\", \"be\", \"that\", \"is\", \"the\", \"question\")\n",
        "\n",
        "result1 = reduce(lambda x, y: x + ' ' + y, ejer_1)\n",
        "result1"
      ],
      "execution_count": 16,
      "outputs": [
        {
          "output_type": "execute_result",
          "data": {
            "text/plain": [
              "'to be or not to be that is the question'"
            ]
          },
          "metadata": {},
          "execution_count": 16
        }
      ]
    },
    {
      "cell_type": "markdown",
      "metadata": {
        "id": "ay_UIszcxB6Y"
      },
      "source": [
        "2. Obtén una nueva tupla con el cuadrado de cada elemento de la siguiente tupla\n",
        "\n",
        "```Python\n",
        "ejer_2 = (1,2,3,4,5)\n",
        "```"
      ]
    },
    {
      "cell_type": "code",
      "metadata": {
        "id": "Vb8ZmlhCxB6Y"
      },
      "source": [
        "ejer_2 = (1,2,3,4,5)\n",
        "\n",
        "result2 = list(map(lambda x: x ** 2, ejer_2))\n",
        "result2"
      ],
      "execution_count": 18,
      "outputs": [
        {
          "output_type": "execute_result",
          "data": {
            "text/plain": [
              "[1, 4, 9, 16, 25]"
            ]
          },
          "metadata": {},
          "execution_count": 18
        }
      ]
    },
    {
      "cell_type": "markdown",
      "metadata": {
        "id": "XkmaSvjQxB6Y"
      },
      "source": [
        "3. Filtra aquellos elementos que sean multiplos de 3 o de 5\n",
        "```Python\n",
        "ejer_3 = (1,2,3,4,5,15,21,22,33,34,35)\n",
        "```"
      ]
    },
    {
      "cell_type": "code",
      "metadata": {
        "id": "hqCMIPcBxB6Z"
      },
      "source": [
        "ejer_3 = (1,2,3,4,5,15,21,22,33,34,35)\n",
        "\n",
        "result3 = list(filter(lambda x: x % 3 == 0 or x % 5 == 0, ejer_3))\n",
        "result3"
      ],
      "execution_count": 20,
      "outputs": [
        {
          "output_type": "execute_result",
          "data": {
            "text/plain": [
              "[3, 5, 15, 21, 33, 35]"
            ]
          },
          "metadata": {},
          "execution_count": 20
        }
      ]
    },
    {
      "cell_type": "markdown",
      "metadata": {
        "id": "ntizF-qexB6Z"
      },
      "source": [
        "4. Convierte la siguiente tupla de pesetas a euros\n",
        "```Python\n",
        "ejer_4 = (1000, 8000, 20000000, 40000000)\n",
        "```"
      ]
    },
    {
      "cell_type": "code",
      "metadata": {
        "id": "iMGfnXbpxB6Z"
      },
      "source": [
        "ejer_4 = (1000, 8000, 20000000, 40000000)\n",
        "\n",
        "result4 = list(map(lambda x: x / 166, ejer_4))\n",
        "result4"
      ],
      "execution_count": 21,
      "outputs": [
        {
          "output_type": "execute_result",
          "data": {
            "text/plain": [
              "[6.024096385542169, 48.19277108433735, 120481.92771084337, 240963.85542168675]"
            ]
          },
          "metadata": {},
          "execution_count": 21
        }
      ]
    },
    {
      "cell_type": "markdown",
      "metadata": {
        "id": "KnUNccmbxB6Z"
      },
      "source": [
        "5. Convierte la siguiente lista de desconocidos a mayusculas\n",
        "```Python\n",
        "ejer_5 = (\"Arya\", \"John\", \"Robb\", \"Bran\", \"Sansa\", \"Rickon\")\n",
        "```"
      ]
    },
    {
      "cell_type": "code",
      "metadata": {
        "id": "xmanppUfxB6Z"
      },
      "source": [
        "ejer_5 = (\"Arya\", \"John\", \"Robb\", \"Bran\", \"Sansa\", \"Rickon\")\n",
        "\n",
        "result5 = list(map(lambda x: x.upper(), ejer_5))\n",
        "result5"
      ],
      "execution_count": 22,
      "outputs": [
        {
          "output_type": "execute_result",
          "data": {
            "text/plain": [
              "['ARYA', 'JOHN', 'ROBB', 'BRAN', 'SANSA', 'RICKON']"
            ]
          },
          "metadata": {},
          "execution_count": 22
        }
      ]
    },
    {
      "cell_type": "markdown",
      "metadata": {
        "id": "hENlrfcAxB6a"
      },
      "source": [
        "6. Realiza un conversor de dias de la semana en texto a numerico (1-7), usando `map`.\n",
        "```Python\n",
        "ejer_6 = (\"Lunes\", \"Martes\", \"Miércoles\", \"Jueves\", \"Viernes\", \"Sábado\", \"Domingo\")\n",
        "```"
      ]
    },
    {
      "cell_type": "code",
      "metadata": {
        "id": "SMctwlMtxB6a"
      },
      "source": [
        "ejer_6 = (\"Lunes\", \"Martes\", \"Miércoles\", \"Jueves\", \"Viernes\", \"Sábado\", \"Domingo\")\n",
        "n_days = [1, 2, 3, 4, 5, 6, 7]\n",
        "\n",
        "d = dict(zip(ejer_6, n_days))\n",
        "\n",
        "result6 = list(map(lambda v: v, d.values()))\n",
        "result6"
      ],
      "execution_count": 26,
      "outputs": [
        {
          "output_type": "execute_result",
          "data": {
            "text/plain": [
              "[1, 2, 3, 4, 5, 6, 7]"
            ]
          },
          "metadata": {},
          "execution_count": 26
        }
      ]
    },
    {
      "cell_type": "markdown",
      "metadata": {
        "id": "dwONl4P1xB6a"
      },
      "source": [
        "7. Utiliza `map` para multiplicar elemento a elemento estas dos tuplas\n",
        "```Python\n",
        "ejer_7_1 = (2, 5, 8)\n",
        "ejer_7_2 = (6, 3, 2)\n",
        "```"
      ]
    },
    {
      "cell_type": "code",
      "metadata": {
        "id": "tvlEqF6lxB6a"
      },
      "source": [
        "ejer_7_1 = (2, 5, 8)\n",
        "ejer_7_2 = (6, 3, 2)\n",
        "\n",
        "result7 = list(map(lambda x, y: x + y, ejer_7_1, ejer_7_2))\n",
        "result7"
      ],
      "execution_count": 27,
      "outputs": [
        {
          "output_type": "execute_result",
          "data": {
            "text/plain": [
              "[8, 8, 10]"
            ]
          },
          "metadata": {},
          "execution_count": 27
        }
      ]
    },
    {
      "cell_type": "markdown",
      "metadata": {
        "id": "Maj8BTqJxB6a"
      },
      "source": [
        "8. Crea una tupla nueva con todos los coches que no sean VW :)\n",
        "\n",
        "```Python\n",
        "ejer_8 = (\"VW\", \"Audi\", \"Renault\", \"VW\", \"BMW\")\n",
        "```"
      ]
    },
    {
      "cell_type": "code",
      "metadata": {
        "id": "CVOSNf_QxB6b"
      },
      "source": [
        "ejer_8 = (\"VW\", \"Audi\", \"Renault\", \"VW\", \"BMW\")\n",
        "\n",
        "result8 = list(filter(lambda x: x != 'VW', ejer_8))\n",
        "result8"
      ],
      "execution_count": 28,
      "outputs": [
        {
          "output_type": "execute_result",
          "data": {
            "text/plain": [
              "['Audi', 'Renault', 'BMW']"
            ]
          },
          "metadata": {},
          "execution_count": 28
        }
      ]
    },
    {
      "cell_type": "markdown",
      "metadata": {
        "id": "y_bTf3eBxB6b"
      },
      "source": [
        "9. Dadas las siguientes fechas en formato string, quedate con aquellas del año 2020\n",
        "\n",
        "```Python\n",
        "ejer_9 = (\"2019-04-08\", \"2020-10-10\", \"2020-01-22\", \"2019-07-13\", \"2019-02-01\")\n",
        "```"
      ]
    },
    {
      "cell_type": "code",
      "metadata": {
        "id": "0Ze9HNn5xB6b"
      },
      "source": [
        "ejer_9 = (\"2019-04-08\", \"2020-10-10\", \"2020-01-22\", \"2019-07-13\", \"2019-02-01\")\n",
        "\n",
        "result9 = list(filter(lambda x: x[:4] == '2020', ejer_9))\n",
        "result9"
      ],
      "execution_count": 29,
      "outputs": [
        {
          "output_type": "execute_result",
          "data": {
            "text/plain": [
              "['2020-10-10', '2020-01-22']"
            ]
          },
          "metadata": {},
          "execution_count": 29
        }
      ]
    },
    {
      "cell_type": "markdown",
      "metadata": {
        "id": "3qgX6pmbxB6b"
      },
      "source": [
        "10. Filtra aquellos strings que sean [palíndromos](https://es.wikipedia.org/wiki/Pal%C3%ADndromo)\n",
        "```Python\n",
        "ejer_10 = (\"php\", \"w3r\", \"Python\", \"abcd\", \"Java\", \"aaa\")\n",
        "```"
      ]
    },
    {
      "cell_type": "code",
      "metadata": {
        "id": "fp3jydGtxB6b"
      },
      "source": [
        "ejer_10 = (\"php\", \"w3r\", \"Python\", \"abcd\", \"Java\", \"aaa\")\n",
        "\n",
        "result10 = list(filter(lambda x: x == x[::-1], ejer_10))\n",
        "result10"
      ],
      "execution_count": 32,
      "outputs": [
        {
          "output_type": "execute_result",
          "data": {
            "text/plain": [
              "['php', 'aaa']"
            ]
          },
          "metadata": {},
          "execution_count": 32
        }
      ]
    },
    {
      "cell_type": "markdown",
      "metadata": {
        "id": "bblchSJ1xB6b"
      },
      "source": [
        "### Bonus Track.\n",
        "\n",
        "- Resuelve esta kata usando `map`\n",
        "https://www.codewars.com/kata/554b4ac871d6813a03000035\n",
        "\n",
        "Nota: si es demasiado difícil intenta resolverla sin usar `map` y si lo consigues, vuelve a resolverla usando `map`."
      ]
    },
    {
      "cell_type": "code",
      "metadata": {
        "id": "HANcb6HrxB6c"
      },
      "source": [
        "s = \"-1 1 2 3 4 5\"\n",
        "\n",
        "def high_and_low(numbers):\n",
        "\n",
        "    str_list = numbers.split(' ')\n",
        "    num_list = list(map(int, str_list))\n",
        "\n",
        "    min_num = min(num_list)\n",
        "    max_num = max(num_list)\n",
        "\n",
        "    numbers = str(max_num) + ' ' + str(min_num)\n",
        "\n",
        "    return numbers\n",
        "\n",
        "high_and_low(s)"
      ],
      "execution_count": 14,
      "outputs": [
        {
          "output_type": "execute_result",
          "data": {
            "text/plain": [
              "'5 -1'"
            ]
          },
          "metadata": {},
          "execution_count": 14
        }
      ]
    }
  ]
}