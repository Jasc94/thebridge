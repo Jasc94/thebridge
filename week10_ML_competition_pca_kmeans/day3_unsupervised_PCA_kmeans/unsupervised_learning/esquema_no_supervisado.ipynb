{
 "metadata": {
  "language_info": {
   "codemirror_mode": {
    "name": "ipython",
    "version": 3
   },
   "file_extension": ".py",
   "mimetype": "text/x-python",
   "name": "python",
   "nbconvert_exporter": "python",
   "pygments_lexer": "ipython3",
   "version": 3
  },
  "orig_nbformat": 4
 },
 "nbformat": 4,
 "nbformat_minor": 2,
 "cells": [
  {
   "source": [
    "## No supervisado:\n",
    "\n",
    "    1. Algoritmos de clusterización\n",
    "    2. Algoritmos de reducción de la dimensionalidad\n",
    "\n",
    "\n",
    "### 1. Algoritmos de clusterización:\n",
    "\n",
    "- Kmeans: recibe un \"k\" y busca \"k\" clusters en los datos.\n",
    "    - Tenemos que comprobar la inercia y el coeficiente de siluette para encontrar el mejor K\n",
    "    - Desventajas: aletoriedad a la hora de encontrar esos clusters\n",
    "    - Ventaja: Busca los \"k\" clusters que especifiques\n",
    "\n",
    "- DBScan: algoritmo que busca clusters a partir de la densidad de las instancias\n",
    "    - Tiene en cuenta un épsilon (distancia) y un min_samples (cantidad de vecinos)\n",
    "    - Desventajas: problema si las variables tienen diferentes magnitudes. Solución: Estandarizar/Nomalizar\n",
    "    - Ventaja: No es tan aleatorio/subjetivo porque se basa en dos parámetros"
   ],
   "cell_type": "markdown",
   "metadata": {}
  },
  {
   "source": [
    "### Algoritmos para reducir la dimensionalidad\n",
    "\n",
    "- PCA (Principal Component Analysis): Necesita el número de dimensiones al que queremos que disminuya el conjuto de datos original\n",
    "\n",
    "    - Desventaja: Cada vez que bajamos una dimensión, perdemos información con respecto a la anterior\n",
    "    - Ventajas:\n",
    "        - 1) Disminuimos la complejidad de los datos\n",
    "        - 2) Posbilidad de visualización si bajamos a 2/3 dimensiones"
   ],
   "cell_type": "markdown",
   "metadata": {}
  },
  {
   "cell_type": "code",
   "execution_count": null,
   "metadata": {},
   "outputs": [],
   "source": []
  }
 ]
}