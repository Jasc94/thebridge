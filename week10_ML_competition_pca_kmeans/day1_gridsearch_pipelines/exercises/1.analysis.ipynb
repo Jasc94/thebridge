{
 "metadata": {
  "language_info": {
   "codemirror_mode": {
    "name": "ipython",
    "version": 3
   },
   "file_extension": ".py",
   "mimetype": "text/x-python",
   "name": "python",
   "nbconvert_exporter": "python",
   "pygments_lexer": "ipython3",
   "version": "3.7.4"
  },
  "orig_nbformat": 2,
  "kernelspec": {
   "name": "python3",
   "display_name": "Python 3.7.4 64-bit"
  },
  "interpreter": {
   "hash": "aee8b7b246df8f9039afb4144a1f6fd8d2ca17a180786b69acc140d282b71a49"
  }
 },
 "nbformat": 4,
 "nbformat_minor": 2,
 "cells": [
  {
   "cell_type": "markdown",
   "metadata": {},
   "source": [
    "A partir del archivo food_100, se pide:\n",
    "\n",
    "1. Limpiar el archivo borrando las columnas Unnamed.\n",
    "2. ¿Qué porcentaje de valores NaN hay en cada columna?\n",
    "3. ¿Tendría algún sentido clasificar el nombre de los alimentos a partir del top5 de columnas numéricas con menos valores NaN?"
   ]
  },
  {
   "cell_type": "code",
   "execution_count": 10,
   "metadata": {},
   "outputs": [],
   "source": [
    "import pandas as pd\n",
    "import numpy as np"
   ]
  },
  {
   "source": [
    "### 1. Limpiar el archivo borrando las columnas Unnamed."
   ],
   "cell_type": "markdown",
   "metadata": {}
  },
  {
   "cell_type": "code",
   "execution_count": 19,
   "metadata": {},
   "outputs": [
    {
     "output_type": "execute_result",
     "data": {
      "text/plain": [
       "   Unnamed: 0  code                                                url  \\\n",
       "0           0  3087  http://world-en.openfoodfacts.org/product/0000...   \n",
       "1           1  4530  http://world-en.openfoodfacts.org/product/0000...   \n",
       "\n",
       "                      creator   created_t      created_datetime  \\\n",
       "0  openfoodfacts-contributors  1474103866  2016-09-17T09:17:46Z   \n",
       "1             usda-ndb-import  1489069957  2017-03-09T14:32:37Z   \n",
       "\n",
       "   last_modified_t last_modified_datetime                    product_name  \\\n",
       "0       1474103893   2016-09-17T09:18:13Z              Farine de blé noir   \n",
       "1       1489069957   2017-03-09T14:32:37Z  Banana Chips Sweetened (Whole)   \n",
       "\n",
       "   generic_name  ... fruits-vegetables-nuts_100g  \\\n",
       "0           NaN  ...                         NaN   \n",
       "1           NaN  ...                         NaN   \n",
       "\n",
       "  fruits-vegetables-nuts-estimate_100g collagen-meat-protein-ratio_100g  \\\n",
       "0                                  NaN                              NaN   \n",
       "1                                  NaN                              NaN   \n",
       "\n",
       "  cocoa_100g chlorophyl_100g carbon-footprint_100g nutrition-score-fr_100g  \\\n",
       "0        NaN             NaN                   NaN                     NaN   \n",
       "1        NaN             NaN                   NaN                    14.0   \n",
       "\n",
       "  nutrition-score-uk_100g  glycemic-index_100g  water-hardness_100g  \n",
       "0                     NaN                  NaN                  NaN  \n",
       "1                    14.0                  NaN                  NaN  \n",
       "\n",
       "[2 rows x 164 columns]"
      ],
      "text/html": "<div>\n<style scoped>\n    .dataframe tbody tr th:only-of-type {\n        vertical-align: middle;\n    }\n\n    .dataframe tbody tr th {\n        vertical-align: top;\n    }\n\n    .dataframe thead th {\n        text-align: right;\n    }\n</style>\n<table border=\"1\" class=\"dataframe\">\n  <thead>\n    <tr style=\"text-align: right;\">\n      <th></th>\n      <th>Unnamed: 0</th>\n      <th>code</th>\n      <th>url</th>\n      <th>creator</th>\n      <th>created_t</th>\n      <th>created_datetime</th>\n      <th>last_modified_t</th>\n      <th>last_modified_datetime</th>\n      <th>product_name</th>\n      <th>generic_name</th>\n      <th>...</th>\n      <th>fruits-vegetables-nuts_100g</th>\n      <th>fruits-vegetables-nuts-estimate_100g</th>\n      <th>collagen-meat-protein-ratio_100g</th>\n      <th>cocoa_100g</th>\n      <th>chlorophyl_100g</th>\n      <th>carbon-footprint_100g</th>\n      <th>nutrition-score-fr_100g</th>\n      <th>nutrition-score-uk_100g</th>\n      <th>glycemic-index_100g</th>\n      <th>water-hardness_100g</th>\n    </tr>\n  </thead>\n  <tbody>\n    <tr>\n      <th>0</th>\n      <td>0</td>\n      <td>3087</td>\n      <td>http://world-en.openfoodfacts.org/product/0000...</td>\n      <td>openfoodfacts-contributors</td>\n      <td>1474103866</td>\n      <td>2016-09-17T09:17:46Z</td>\n      <td>1474103893</td>\n      <td>2016-09-17T09:18:13Z</td>\n      <td>Farine de blé noir</td>\n      <td>NaN</td>\n      <td>...</td>\n      <td>NaN</td>\n      <td>NaN</td>\n      <td>NaN</td>\n      <td>NaN</td>\n      <td>NaN</td>\n      <td>NaN</td>\n      <td>NaN</td>\n      <td>NaN</td>\n      <td>NaN</td>\n      <td>NaN</td>\n    </tr>\n    <tr>\n      <th>1</th>\n      <td>1</td>\n      <td>4530</td>\n      <td>http://world-en.openfoodfacts.org/product/0000...</td>\n      <td>usda-ndb-import</td>\n      <td>1489069957</td>\n      <td>2017-03-09T14:32:37Z</td>\n      <td>1489069957</td>\n      <td>2017-03-09T14:32:37Z</td>\n      <td>Banana Chips Sweetened (Whole)</td>\n      <td>NaN</td>\n      <td>...</td>\n      <td>NaN</td>\n      <td>NaN</td>\n      <td>NaN</td>\n      <td>NaN</td>\n      <td>NaN</td>\n      <td>NaN</td>\n      <td>14.0</td>\n      <td>14.0</td>\n      <td>NaN</td>\n      <td>NaN</td>\n    </tr>\n  </tbody>\n</table>\n<p>2 rows × 164 columns</p>\n</div>"
     },
     "metadata": {},
     "execution_count": 19
    }
   ],
   "source": [
    "df = pd.read_csv(\"../data/food_100.csv\")\n",
    "df.head(2)"
   ]
  },
  {
   "cell_type": "code",
   "execution_count": 20,
   "metadata": {},
   "outputs": [
    {
     "output_type": "stream",
     "name": "stdout",
     "text": [
      "Unnamed: 0\ncode\nurl\ncreator\ncreated_t\ncreated_datetime\nlast_modified_t\nlast_modified_datetime\nproduct_name\ngeneric_name\nquantity\npackaging\npackaging_tags\nbrands\nbrands_tags\ncategories\ncategories_tags\ncategories_en\norigins\norigins_tags\nmanufacturing_places\nmanufacturing_places_tags\nlabels\nlabels_tags\nlabels_en\nemb_codes\nemb_codes_tags\nfirst_packaging_code_geo\ncities\ncities_tags\npurchase_places\nstores\ncountries\ncountries_tags\ncountries_en\ningredients_text\nallergens\nallergens_en\ntraces\ntraces_tags\ntraces_en\nserving_size\nno_nutriments\nadditives_n\nadditives\nadditives_tags\nadditives_en\ningredients_from_palm_oil_n\ningredients_from_palm_oil\ningredients_from_palm_oil_tags\ningredients_that_may_be_from_palm_oil_n\ningredients_that_may_be_from_palm_oil\ningredients_that_may_be_from_palm_oil_tags\nnutrition_grade_uk\nnutrition_grade_fr\npnns_groups_1\npnns_groups_2\nstates\nstates_tags\nstates_en\nmain_category\nmain_category_en\nimage_url\nimage_small_url\nenergy_100g\nenergy-from-fat_100g\nfat_100g\nsaturated-fat_100g\n-butyric-acid_100g\n-caproic-acid_100g\n-caprylic-acid_100g\n-capric-acid_100g\n-lauric-acid_100g\n-myristic-acid_100g\n-palmitic-acid_100g\n-stearic-acid_100g\n-arachidic-acid_100g\n-behenic-acid_100g\n-lignoceric-acid_100g\n-cerotic-acid_100g\n-montanic-acid_100g\n-melissic-acid_100g\nmonounsaturated-fat_100g\npolyunsaturated-fat_100g\nomega-3-fat_100g\n-alpha-linolenic-acid_100g\n-eicosapentaenoic-acid_100g\n-docosahexaenoic-acid_100g\nomega-6-fat_100g\n-linoleic-acid_100g\n-arachidonic-acid_100g\n-gamma-linolenic-acid_100g\n-dihomo-gamma-linolenic-acid_100g\nomega-9-fat_100g\n-oleic-acid_100g\n-elaidic-acid_100g\n-gondoic-acid_100g\n-mead-acid_100g\n-erucic-acid_100g\n-nervonic-acid_100g\ntrans-fat_100g\ncholesterol_100g\ncarbohydrates_100g\nsugars_100g\n-sucrose_100g\n-glucose_100g\n-fructose_100g\n-lactose_100g\n-maltose_100g\n-maltodextrins_100g\nstarch_100g\npolyols_100g\nfiber_100g\nproteins_100g\ncasein_100g\nserum-proteins_100g\nnucleotides_100g\nsalt_100g\nsodium_100g\nalcohol_100g\nvitamin-a_100g\nbeta-carotene_100g\nvitamin-d_100g\nvitamin-e_100g\nvitamin-k_100g\nvitamin-c_100g\nvitamin-b1_100g\nvitamin-b2_100g\nvitamin-pp_100g\nvitamin-b6_100g\nvitamin-b9_100g\nfolates_100g\nvitamin-b12_100g\nbiotin_100g\npantothenic-acid_100g\nsilica_100g\nbicarbonate_100g\npotassium_100g\nchloride_100g\ncalcium_100g\nphosphorus_100g\niron_100g\nmagnesium_100g\nzinc_100g\ncopper_100g\nmanganese_100g\nfluoride_100g\nselenium_100g\nchromium_100g\nmolybdenum_100g\niodine_100g\ncaffeine_100g\ntaurine_100g\nph_100g\nfruits-vegetables-nuts_100g\nfruits-vegetables-nuts-estimate_100g\ncollagen-meat-protein-ratio_100g\ncocoa_100g\nchlorophyl_100g\ncarbon-footprint_100g\nnutrition-score-fr_100g\nnutrition-score-uk_100g\nglycemic-index_100g\nwater-hardness_100g\n"
     ]
    }
   ],
   "source": [
    "for column in df.columns: print(column)"
   ]
  },
  {
   "cell_type": "code",
   "execution_count": 21,
   "metadata": {},
   "outputs": [
    {
     "output_type": "execute_result",
     "data": {
      "text/plain": [
       "   code                                                url  \\\n",
       "0  3087  http://world-en.openfoodfacts.org/product/0000...   \n",
       "1  4530  http://world-en.openfoodfacts.org/product/0000...   \n",
       "\n",
       "                      creator   created_t      created_datetime  \\\n",
       "0  openfoodfacts-contributors  1474103866  2016-09-17T09:17:46Z   \n",
       "1             usda-ndb-import  1489069957  2017-03-09T14:32:37Z   \n",
       "\n",
       "   last_modified_t last_modified_datetime                    product_name  \\\n",
       "0       1474103893   2016-09-17T09:18:13Z              Farine de blé noir   \n",
       "1       1489069957   2017-03-09T14:32:37Z  Banana Chips Sweetened (Whole)   \n",
       "\n",
       "   generic_name quantity  ... fruits-vegetables-nuts_100g  \\\n",
       "0           NaN      1kg  ...                         NaN   \n",
       "1           NaN      NaN  ...                         NaN   \n",
       "\n",
       "  fruits-vegetables-nuts-estimate_100g collagen-meat-protein-ratio_100g  \\\n",
       "0                                  NaN                              NaN   \n",
       "1                                  NaN                              NaN   \n",
       "\n",
       "  cocoa_100g chlorophyl_100g carbon-footprint_100g nutrition-score-fr_100g  \\\n",
       "0        NaN             NaN                   NaN                     NaN   \n",
       "1        NaN             NaN                   NaN                    14.0   \n",
       "\n",
       "   nutrition-score-uk_100g  glycemic-index_100g  water-hardness_100g  \n",
       "0                      NaN                  NaN                  NaN  \n",
       "1                     14.0                  NaN                  NaN  \n",
       "\n",
       "[2 rows x 163 columns]"
      ],
      "text/html": "<div>\n<style scoped>\n    .dataframe tbody tr th:only-of-type {\n        vertical-align: middle;\n    }\n\n    .dataframe tbody tr th {\n        vertical-align: top;\n    }\n\n    .dataframe thead th {\n        text-align: right;\n    }\n</style>\n<table border=\"1\" class=\"dataframe\">\n  <thead>\n    <tr style=\"text-align: right;\">\n      <th></th>\n      <th>code</th>\n      <th>url</th>\n      <th>creator</th>\n      <th>created_t</th>\n      <th>created_datetime</th>\n      <th>last_modified_t</th>\n      <th>last_modified_datetime</th>\n      <th>product_name</th>\n      <th>generic_name</th>\n      <th>quantity</th>\n      <th>...</th>\n      <th>fruits-vegetables-nuts_100g</th>\n      <th>fruits-vegetables-nuts-estimate_100g</th>\n      <th>collagen-meat-protein-ratio_100g</th>\n      <th>cocoa_100g</th>\n      <th>chlorophyl_100g</th>\n      <th>carbon-footprint_100g</th>\n      <th>nutrition-score-fr_100g</th>\n      <th>nutrition-score-uk_100g</th>\n      <th>glycemic-index_100g</th>\n      <th>water-hardness_100g</th>\n    </tr>\n  </thead>\n  <tbody>\n    <tr>\n      <th>0</th>\n      <td>3087</td>\n      <td>http://world-en.openfoodfacts.org/product/0000...</td>\n      <td>openfoodfacts-contributors</td>\n      <td>1474103866</td>\n      <td>2016-09-17T09:17:46Z</td>\n      <td>1474103893</td>\n      <td>2016-09-17T09:18:13Z</td>\n      <td>Farine de blé noir</td>\n      <td>NaN</td>\n      <td>1kg</td>\n      <td>...</td>\n      <td>NaN</td>\n      <td>NaN</td>\n      <td>NaN</td>\n      <td>NaN</td>\n      <td>NaN</td>\n      <td>NaN</td>\n      <td>NaN</td>\n      <td>NaN</td>\n      <td>NaN</td>\n      <td>NaN</td>\n    </tr>\n    <tr>\n      <th>1</th>\n      <td>4530</td>\n      <td>http://world-en.openfoodfacts.org/product/0000...</td>\n      <td>usda-ndb-import</td>\n      <td>1489069957</td>\n      <td>2017-03-09T14:32:37Z</td>\n      <td>1489069957</td>\n      <td>2017-03-09T14:32:37Z</td>\n      <td>Banana Chips Sweetened (Whole)</td>\n      <td>NaN</td>\n      <td>NaN</td>\n      <td>...</td>\n      <td>NaN</td>\n      <td>NaN</td>\n      <td>NaN</td>\n      <td>NaN</td>\n      <td>NaN</td>\n      <td>NaN</td>\n      <td>14.0</td>\n      <td>14.0</td>\n      <td>NaN</td>\n      <td>NaN</td>\n    </tr>\n  </tbody>\n</table>\n<p>2 rows × 163 columns</p>\n</div>"
     },
     "metadata": {},
     "execution_count": 21
    }
   ],
   "source": [
    "df = df.drop(\"Unnamed: 0\", axis = 1)\n",
    "df.head(2)"
   ]
  },
  {
   "source": [
    "### 2. ¿Qué porcentaje de valores NaN hay en cada columna?"
   ],
   "cell_type": "markdown",
   "metadata": {}
  },
  {
   "cell_type": "code",
   "execution_count": 28,
   "metadata": {},
   "outputs": [
    {
     "output_type": "execute_result",
     "data": {
      "text/plain": [
       "                                                               colunm_name  \\\n",
       "monounsaturated-fat_100g                          monounsaturated-fat_100g   \n",
       "-elaidic-acid_100g                                      -elaidic-acid_100g   \n",
       "-mead-acid_100g                                            -mead-acid_100g   \n",
       "-erucic-acid_100g                                        -erucic-acid_100g   \n",
       "-nervonic-acid_100g                                    -nervonic-acid_100g   \n",
       "-sucrose_100g                                                -sucrose_100g   \n",
       "-glucose_100g                                                -glucose_100g   \n",
       "-fructose_100g                                              -fructose_100g   \n",
       "-lactose_100g                                                -lactose_100g   \n",
       "-maltose_100g                                                -maltose_100g   \n",
       "-maltodextrins_100g                                    -maltodextrins_100g   \n",
       "starch_100g                                                    starch_100g   \n",
       "polyols_100g                                                  polyols_100g   \n",
       "casein_100g                                                    casein_100g   \n",
       "serum-proteins_100g                                    serum-proteins_100g   \n",
       "nucleotides_100g                                          nucleotides_100g   \n",
       "alcohol_100g                                                  alcohol_100g   \n",
       "-gondoic-acid_100g                                      -gondoic-acid_100g   \n",
       "-oleic-acid_100g                                          -oleic-acid_100g   \n",
       "-stearic-acid_100g                                      -stearic-acid_100g   \n",
       "omega-9-fat_100g                                          omega-9-fat_100g   \n",
       "-behenic-acid_100g                                      -behenic-acid_100g   \n",
       "-lignoceric-acid_100g                                -lignoceric-acid_100g   \n",
       "-cerotic-acid_100g                                      -cerotic-acid_100g   \n",
       "-montanic-acid_100g                                    -montanic-acid_100g   \n",
       "-melissic-acid_100g                                    -melissic-acid_100g   \n",
       "polyunsaturated-fat_100g                          polyunsaturated-fat_100g   \n",
       "omega-3-fat_100g                                          omega-3-fat_100g   \n",
       "-alpha-linolenic-acid_100g                      -alpha-linolenic-acid_100g   \n",
       "-eicosapentaenoic-acid_100g                    -eicosapentaenoic-acid_100g   \n",
       "-docosahexaenoic-acid_100g                      -docosahexaenoic-acid_100g   \n",
       "omega-6-fat_100g                                          omega-6-fat_100g   \n",
       "-linoleic-acid_100g                                    -linoleic-acid_100g   \n",
       "-arachidonic-acid_100g                              -arachidonic-acid_100g   \n",
       "-gamma-linolenic-acid_100g                      -gamma-linolenic-acid_100g   \n",
       "-dihomo-gamma-linolenic-acid_100g        -dihomo-gamma-linolenic-acid_100g   \n",
       "beta-carotene_100g                                      beta-carotene_100g   \n",
       "vitamin-d_100g                                              vitamin-d_100g   \n",
       "vitamin-e_100g                                              vitamin-e_100g   \n",
       "vitamin-k_100g                                              vitamin-k_100g   \n",
       "fluoride_100g                                                fluoride_100g   \n",
       "selenium_100g                                                selenium_100g   \n",
       "chromium_100g                                                chromium_100g   \n",
       "molybdenum_100g                                            molybdenum_100g   \n",
       "iodine_100g                                                    iodine_100g   \n",
       "caffeine_100g                                                caffeine_100g   \n",
       "taurine_100g                                                  taurine_100g   \n",
       "ph_100g                                                            ph_100g   \n",
       "fruits-vegetables-nuts_100g                    fruits-vegetables-nuts_100g   \n",
       "fruits-vegetables-nuts-estimate_100g  fruits-vegetables-nuts-estimate_100g   \n",
       "\n",
       "                                      percent_missing  \n",
       "monounsaturated-fat_100g                        100.0  \n",
       "-elaidic-acid_100g                              100.0  \n",
       "-mead-acid_100g                                 100.0  \n",
       "-erucic-acid_100g                               100.0  \n",
       "-nervonic-acid_100g                             100.0  \n",
       "-sucrose_100g                                   100.0  \n",
       "-glucose_100g                                   100.0  \n",
       "-fructose_100g                                  100.0  \n",
       "-lactose_100g                                   100.0  \n",
       "-maltose_100g                                   100.0  \n",
       "-maltodextrins_100g                             100.0  \n",
       "starch_100g                                     100.0  \n",
       "polyols_100g                                    100.0  \n",
       "casein_100g                                     100.0  \n",
       "serum-proteins_100g                             100.0  \n",
       "nucleotides_100g                                100.0  \n",
       "alcohol_100g                                    100.0  \n",
       "-gondoic-acid_100g                              100.0  \n",
       "-oleic-acid_100g                                100.0  \n",
       "-stearic-acid_100g                              100.0  \n",
       "omega-9-fat_100g                                100.0  \n",
       "-behenic-acid_100g                              100.0  \n",
       "-lignoceric-acid_100g                           100.0  \n",
       "-cerotic-acid_100g                              100.0  \n",
       "-montanic-acid_100g                             100.0  \n",
       "-melissic-acid_100g                             100.0  \n",
       "polyunsaturated-fat_100g                        100.0  \n",
       "omega-3-fat_100g                                100.0  \n",
       "-alpha-linolenic-acid_100g                      100.0  \n",
       "-eicosapentaenoic-acid_100g                     100.0  \n",
       "-docosahexaenoic-acid_100g                      100.0  \n",
       "omega-6-fat_100g                                100.0  \n",
       "-linoleic-acid_100g                             100.0  \n",
       "-arachidonic-acid_100g                          100.0  \n",
       "-gamma-linolenic-acid_100g                      100.0  \n",
       "-dihomo-gamma-linolenic-acid_100g               100.0  \n",
       "beta-carotene_100g                              100.0  \n",
       "vitamin-d_100g                                  100.0  \n",
       "vitamin-e_100g                                  100.0  \n",
       "vitamin-k_100g                                  100.0  \n",
       "fluoride_100g                                   100.0  \n",
       "selenium_100g                                   100.0  \n",
       "chromium_100g                                   100.0  \n",
       "molybdenum_100g                                 100.0  \n",
       "iodine_100g                                     100.0  \n",
       "caffeine_100g                                   100.0  \n",
       "taurine_100g                                    100.0  \n",
       "ph_100g                                         100.0  \n",
       "fruits-vegetables-nuts_100g                     100.0  \n",
       "fruits-vegetables-nuts-estimate_100g            100.0  "
      ],
      "text/html": "<div>\n<style scoped>\n    .dataframe tbody tr th:only-of-type {\n        vertical-align: middle;\n    }\n\n    .dataframe tbody tr th {\n        vertical-align: top;\n    }\n\n    .dataframe thead th {\n        text-align: right;\n    }\n</style>\n<table border=\"1\" class=\"dataframe\">\n  <thead>\n    <tr style=\"text-align: right;\">\n      <th></th>\n      <th>colunm_name</th>\n      <th>percent_missing</th>\n    </tr>\n  </thead>\n  <tbody>\n    <tr>\n      <th>monounsaturated-fat_100g</th>\n      <td>monounsaturated-fat_100g</td>\n      <td>100.0</td>\n    </tr>\n    <tr>\n      <th>-elaidic-acid_100g</th>\n      <td>-elaidic-acid_100g</td>\n      <td>100.0</td>\n    </tr>\n    <tr>\n      <th>-mead-acid_100g</th>\n      <td>-mead-acid_100g</td>\n      <td>100.0</td>\n    </tr>\n    <tr>\n      <th>-erucic-acid_100g</th>\n      <td>-erucic-acid_100g</td>\n      <td>100.0</td>\n    </tr>\n    <tr>\n      <th>-nervonic-acid_100g</th>\n      <td>-nervonic-acid_100g</td>\n      <td>100.0</td>\n    </tr>\n    <tr>\n      <th>-sucrose_100g</th>\n      <td>-sucrose_100g</td>\n      <td>100.0</td>\n    </tr>\n    <tr>\n      <th>-glucose_100g</th>\n      <td>-glucose_100g</td>\n      <td>100.0</td>\n    </tr>\n    <tr>\n      <th>-fructose_100g</th>\n      <td>-fructose_100g</td>\n      <td>100.0</td>\n    </tr>\n    <tr>\n      <th>-lactose_100g</th>\n      <td>-lactose_100g</td>\n      <td>100.0</td>\n    </tr>\n    <tr>\n      <th>-maltose_100g</th>\n      <td>-maltose_100g</td>\n      <td>100.0</td>\n    </tr>\n    <tr>\n      <th>-maltodextrins_100g</th>\n      <td>-maltodextrins_100g</td>\n      <td>100.0</td>\n    </tr>\n    <tr>\n      <th>starch_100g</th>\n      <td>starch_100g</td>\n      <td>100.0</td>\n    </tr>\n    <tr>\n      <th>polyols_100g</th>\n      <td>polyols_100g</td>\n      <td>100.0</td>\n    </tr>\n    <tr>\n      <th>casein_100g</th>\n      <td>casein_100g</td>\n      <td>100.0</td>\n    </tr>\n    <tr>\n      <th>serum-proteins_100g</th>\n      <td>serum-proteins_100g</td>\n      <td>100.0</td>\n    </tr>\n    <tr>\n      <th>nucleotides_100g</th>\n      <td>nucleotides_100g</td>\n      <td>100.0</td>\n    </tr>\n    <tr>\n      <th>alcohol_100g</th>\n      <td>alcohol_100g</td>\n      <td>100.0</td>\n    </tr>\n    <tr>\n      <th>-gondoic-acid_100g</th>\n      <td>-gondoic-acid_100g</td>\n      <td>100.0</td>\n    </tr>\n    <tr>\n      <th>-oleic-acid_100g</th>\n      <td>-oleic-acid_100g</td>\n      <td>100.0</td>\n    </tr>\n    <tr>\n      <th>-stearic-acid_100g</th>\n      <td>-stearic-acid_100g</td>\n      <td>100.0</td>\n    </tr>\n    <tr>\n      <th>omega-9-fat_100g</th>\n      <td>omega-9-fat_100g</td>\n      <td>100.0</td>\n    </tr>\n    <tr>\n      <th>-behenic-acid_100g</th>\n      <td>-behenic-acid_100g</td>\n      <td>100.0</td>\n    </tr>\n    <tr>\n      <th>-lignoceric-acid_100g</th>\n      <td>-lignoceric-acid_100g</td>\n      <td>100.0</td>\n    </tr>\n    <tr>\n      <th>-cerotic-acid_100g</th>\n      <td>-cerotic-acid_100g</td>\n      <td>100.0</td>\n    </tr>\n    <tr>\n      <th>-montanic-acid_100g</th>\n      <td>-montanic-acid_100g</td>\n      <td>100.0</td>\n    </tr>\n    <tr>\n      <th>-melissic-acid_100g</th>\n      <td>-melissic-acid_100g</td>\n      <td>100.0</td>\n    </tr>\n    <tr>\n      <th>polyunsaturated-fat_100g</th>\n      <td>polyunsaturated-fat_100g</td>\n      <td>100.0</td>\n    </tr>\n    <tr>\n      <th>omega-3-fat_100g</th>\n      <td>omega-3-fat_100g</td>\n      <td>100.0</td>\n    </tr>\n    <tr>\n      <th>-alpha-linolenic-acid_100g</th>\n      <td>-alpha-linolenic-acid_100g</td>\n      <td>100.0</td>\n    </tr>\n    <tr>\n      <th>-eicosapentaenoic-acid_100g</th>\n      <td>-eicosapentaenoic-acid_100g</td>\n      <td>100.0</td>\n    </tr>\n    <tr>\n      <th>-docosahexaenoic-acid_100g</th>\n      <td>-docosahexaenoic-acid_100g</td>\n      <td>100.0</td>\n    </tr>\n    <tr>\n      <th>omega-6-fat_100g</th>\n      <td>omega-6-fat_100g</td>\n      <td>100.0</td>\n    </tr>\n    <tr>\n      <th>-linoleic-acid_100g</th>\n      <td>-linoleic-acid_100g</td>\n      <td>100.0</td>\n    </tr>\n    <tr>\n      <th>-arachidonic-acid_100g</th>\n      <td>-arachidonic-acid_100g</td>\n      <td>100.0</td>\n    </tr>\n    <tr>\n      <th>-gamma-linolenic-acid_100g</th>\n      <td>-gamma-linolenic-acid_100g</td>\n      <td>100.0</td>\n    </tr>\n    <tr>\n      <th>-dihomo-gamma-linolenic-acid_100g</th>\n      <td>-dihomo-gamma-linolenic-acid_100g</td>\n      <td>100.0</td>\n    </tr>\n    <tr>\n      <th>beta-carotene_100g</th>\n      <td>beta-carotene_100g</td>\n      <td>100.0</td>\n    </tr>\n    <tr>\n      <th>vitamin-d_100g</th>\n      <td>vitamin-d_100g</td>\n      <td>100.0</td>\n    </tr>\n    <tr>\n      <th>vitamin-e_100g</th>\n      <td>vitamin-e_100g</td>\n      <td>100.0</td>\n    </tr>\n    <tr>\n      <th>vitamin-k_100g</th>\n      <td>vitamin-k_100g</td>\n      <td>100.0</td>\n    </tr>\n    <tr>\n      <th>fluoride_100g</th>\n      <td>fluoride_100g</td>\n      <td>100.0</td>\n    </tr>\n    <tr>\n      <th>selenium_100g</th>\n      <td>selenium_100g</td>\n      <td>100.0</td>\n    </tr>\n    <tr>\n      <th>chromium_100g</th>\n      <td>chromium_100g</td>\n      <td>100.0</td>\n    </tr>\n    <tr>\n      <th>molybdenum_100g</th>\n      <td>molybdenum_100g</td>\n      <td>100.0</td>\n    </tr>\n    <tr>\n      <th>iodine_100g</th>\n      <td>iodine_100g</td>\n      <td>100.0</td>\n    </tr>\n    <tr>\n      <th>caffeine_100g</th>\n      <td>caffeine_100g</td>\n      <td>100.0</td>\n    </tr>\n    <tr>\n      <th>taurine_100g</th>\n      <td>taurine_100g</td>\n      <td>100.0</td>\n    </tr>\n    <tr>\n      <th>ph_100g</th>\n      <td>ph_100g</td>\n      <td>100.0</td>\n    </tr>\n    <tr>\n      <th>fruits-vegetables-nuts_100g</th>\n      <td>fruits-vegetables-nuts_100g</td>\n      <td>100.0</td>\n    </tr>\n    <tr>\n      <th>fruits-vegetables-nuts-estimate_100g</th>\n      <td>fruits-vegetables-nuts-estimate_100g</td>\n      <td>100.0</td>\n    </tr>\n  </tbody>\n</table>\n</div>"
     },
     "metadata": {},
     "execution_count": 28
    }
   ],
   "source": [
    "percent_missing = df.isnull().sum() * 100 / len(df)\n",
    "missing_values_df = pd.DataFrame({\"colunm_name\": df.columns, \"percent_missing\": percent_missing})\n",
    "missing_values_df = missing_values_df.sort_values(by = \"percent_missing\", ascending = False)\n",
    "\n",
    "missing_values_df.head(50)"
   ]
  },
  {
   "source": [
    "### 3. ¿Tendría algún sentido clasificar el nombre de los alimentos a partir del top5 de columnas numéricas con menos valores NaN?"
   ],
   "cell_type": "markdown",
   "metadata": {}
  },
  {
   "cell_type": "code",
   "execution_count": 32,
   "metadata": {},
   "outputs": [
    {
     "output_type": "execute_result",
     "data": {
      "text/plain": [
       "                                                                     colunm_name  \\\n",
       "ingredients_from_palm_oil_n                          ingredients_from_palm_oil_n   \n",
       "ingredients_text                                                ingredients_text   \n",
       "ingredients_that_may_be_from_palm_oil_n  ingredients_that_may_be_from_palm_oil_n   \n",
       "additives_n                                                          additives_n   \n",
       "brands                                                                    brands   \n",
       "brands_tags                                                          brands_tags   \n",
       "product_name                                                        product_name   \n",
       "created_datetime                                                created_datetime   \n",
       "last_modified_datetime                                    last_modified_datetime   \n",
       "creator                                                                  creator   \n",
       "last_modified_t                                                  last_modified_t   \n",
       "created_t                                                              created_t   \n",
       "countries_en                                                        countries_en   \n",
       "url                                                                          url   \n",
       "states_en                                                              states_en   \n",
       "states_tags                                                          states_tags   \n",
       "states                                                                    states   \n",
       "countries_tags                                                    countries_tags   \n",
       "countries                                                              countries   \n",
       "code                                                                        code   \n",
       "\n",
       "                                         percent_missing  \n",
       "ingredients_from_palm_oil_n                          5.0  \n",
       "ingredients_text                                     5.0  \n",
       "ingredients_that_may_be_from_palm_oil_n              5.0  \n",
       "additives_n                                          5.0  \n",
       "brands                                               4.0  \n",
       "brands_tags                                          4.0  \n",
       "product_name                                         1.0  \n",
       "created_datetime                                     0.0  \n",
       "last_modified_datetime                               0.0  \n",
       "creator                                              0.0  \n",
       "last_modified_t                                      0.0  \n",
       "created_t                                            0.0  \n",
       "countries_en                                         0.0  \n",
       "url                                                  0.0  \n",
       "states_en                                            0.0  \n",
       "states_tags                                          0.0  \n",
       "states                                               0.0  \n",
       "countries_tags                                       0.0  \n",
       "countries                                            0.0  \n",
       "code                                                 0.0  "
      ],
      "text/html": "<div>\n<style scoped>\n    .dataframe tbody tr th:only-of-type {\n        vertical-align: middle;\n    }\n\n    .dataframe tbody tr th {\n        vertical-align: top;\n    }\n\n    .dataframe thead th {\n        text-align: right;\n    }\n</style>\n<table border=\"1\" class=\"dataframe\">\n  <thead>\n    <tr style=\"text-align: right;\">\n      <th></th>\n      <th>colunm_name</th>\n      <th>percent_missing</th>\n    </tr>\n  </thead>\n  <tbody>\n    <tr>\n      <th>ingredients_from_palm_oil_n</th>\n      <td>ingredients_from_palm_oil_n</td>\n      <td>5.0</td>\n    </tr>\n    <tr>\n      <th>ingredients_text</th>\n      <td>ingredients_text</td>\n      <td>5.0</td>\n    </tr>\n    <tr>\n      <th>ingredients_that_may_be_from_palm_oil_n</th>\n      <td>ingredients_that_may_be_from_palm_oil_n</td>\n      <td>5.0</td>\n    </tr>\n    <tr>\n      <th>additives_n</th>\n      <td>additives_n</td>\n      <td>5.0</td>\n    </tr>\n    <tr>\n      <th>brands</th>\n      <td>brands</td>\n      <td>4.0</td>\n    </tr>\n    <tr>\n      <th>brands_tags</th>\n      <td>brands_tags</td>\n      <td>4.0</td>\n    </tr>\n    <tr>\n      <th>product_name</th>\n      <td>product_name</td>\n      <td>1.0</td>\n    </tr>\n    <tr>\n      <th>created_datetime</th>\n      <td>created_datetime</td>\n      <td>0.0</td>\n    </tr>\n    <tr>\n      <th>last_modified_datetime</th>\n      <td>last_modified_datetime</td>\n      <td>0.0</td>\n    </tr>\n    <tr>\n      <th>creator</th>\n      <td>creator</td>\n      <td>0.0</td>\n    </tr>\n    <tr>\n      <th>last_modified_t</th>\n      <td>last_modified_t</td>\n      <td>0.0</td>\n    </tr>\n    <tr>\n      <th>created_t</th>\n      <td>created_t</td>\n      <td>0.0</td>\n    </tr>\n    <tr>\n      <th>countries_en</th>\n      <td>countries_en</td>\n      <td>0.0</td>\n    </tr>\n    <tr>\n      <th>url</th>\n      <td>url</td>\n      <td>0.0</td>\n    </tr>\n    <tr>\n      <th>states_en</th>\n      <td>states_en</td>\n      <td>0.0</td>\n    </tr>\n    <tr>\n      <th>states_tags</th>\n      <td>states_tags</td>\n      <td>0.0</td>\n    </tr>\n    <tr>\n      <th>states</th>\n      <td>states</td>\n      <td>0.0</td>\n    </tr>\n    <tr>\n      <th>countries_tags</th>\n      <td>countries_tags</td>\n      <td>0.0</td>\n    </tr>\n    <tr>\n      <th>countries</th>\n      <td>countries</td>\n      <td>0.0</td>\n    </tr>\n    <tr>\n      <th>code</th>\n      <td>code</td>\n      <td>0.0</td>\n    </tr>\n  </tbody>\n</table>\n</div>"
     },
     "metadata": {},
     "execution_count": 32
    }
   ],
   "source": [
    "missing_values_df[-20:]"
   ]
  },
  {
   "source": [
    "Esto depende de la información que queramos obtener. Por ejemplo, si nos interesa la procedencia de los alimentos, pues como podemos ver arriba, en las columnas con menos missings, si tendría sentido. Sin embargo, si nos interesa el \"valor nutricional\" de la comida, eso sería más difícil ya que en este df, pocas de las columnas con pocos missings hablan de esto"
   ],
   "cell_type": "markdown",
   "metadata": {}
  },
  {
   "cell_type": "code",
   "execution_count": null,
   "metadata": {},
   "outputs": [],
   "source": []
  }
 ]
}