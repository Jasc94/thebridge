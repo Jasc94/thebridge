{
 "metadata": {
  "language_info": {
   "codemirror_mode": {
    "name": "ipython",
    "version": 3
   },
   "file_extension": ".py",
   "mimetype": "text/x-python",
   "name": "python",
   "nbconvert_exporter": "python",
   "pygments_lexer": "ipython3",
   "version": 3
  },
  "orig_nbformat": 4
 },
 "nbformat": 4,
 "nbformat_minor": 2,
 "cells": [
  {
   "source": [
    "### Data Science & ML\n",
    "\n",
    "1. EDA: Data mining & data wrangling\n",
    "    - !! DEFINIR EL MODELO BASELINE !!  después el resto\n",
    "    -\n",
    "    - WebScrapping, API, Json, CSV, BBDD (SQL/NoSQL), WEB\n",
    "    - Correlaciones\n",
    "    - Feature Engineering: outliers, regex, NaNs, distribuciones, estandarizar, normalizar, encoding (opcional: dummies), eliminar duplicados\n",
    "    - Visualizar los datos\n",
    "    - Variables agregadas\n",
    "    - Ponderación de variables\n",
    "    - Eliminación de variables duplicadas o colineales\n",
    "\n",
    "2. Definir el modelo de ML según la variable dependiente:\n",
    "    - Clasificación: LR, SVC, KNN, Decission Tree C, Random Forest Classificator, ...\n",
    "    - Regresión: Regresión Lineal, Regresión Polinómica, SVR, Decission Tree Regressor, Random Forest Regressor, ...\n",
    "\n",
    "3. Partir los datos en conjunto de entrenamiento y test. Elegimos un % de train y test, y semilla.\n",
    "\n",
    "4. Cross validation --> con el objetivo de saber cómo es el comportamiento de mi modelo para mis datos\n",
    "    - Nos va a permitir detectar sesgos en el modelo para \"batchs\" específicos\n",
    "\n",
    "5. GridSearch y Pipeline\n",
    "    - Si tenemos muchos datos (millones - big data), cogemos los datos en \"chunks\"\n",
    "    - Mejor probar los algoritmos de uno en uno (no más de uno a la vez). Una variable con el gridsearch por cada algoritmo\n",
    "\n",
    "6. Nos quedamos con el mejor modelo y probamos el score con el conjunto de TEST. Nos quedamos con el que mejor generalice.\n",
    "\n",
    "7. Guardamos el modelo con pickle para futuras pruebas.\n",
    "\n",
    "8. .fit(X, y) --> con todos los datos"
   ],
   "cell_type": "markdown",
   "metadata": {}
  },
  {
   "cell_type": "code",
   "execution_count": null,
   "metadata": {},
   "outputs": [],
   "source": []
  }
 ]
}