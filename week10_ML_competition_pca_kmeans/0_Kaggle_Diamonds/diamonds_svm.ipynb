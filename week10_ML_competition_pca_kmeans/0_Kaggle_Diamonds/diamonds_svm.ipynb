{
 "metadata": {
  "language_info": {
   "codemirror_mode": {
    "name": "ipython",
    "version": 3
   },
   "file_extension": ".py",
   "mimetype": "text/x-python",
   "name": "python",
   "nbconvert_exporter": "python",
   "pygments_lexer": "ipython3",
   "version": "3.7.4"
  },
  "orig_nbformat": 4,
  "kernelspec": {
   "name": "python3",
   "display_name": "Python 3.7.4 64-bit"
  },
  "interpreter": {
   "hash": "aee8b7b246df8f9039afb4144a1f6fd8d2ca17a180786b69acc140d282b71a49"
  }
 },
 "nbformat": 4,
 "nbformat_minor": 2,
 "cells": [
  {
   "cell_type": "code",
   "execution_count": 1,
   "metadata": {},
   "outputs": [],
   "source": [
    "import numpy as np\n",
    "import pandas as pd\n",
    "\n",
    "import seaborn as sns\n",
    "import matplotlib.pyplot as plt\n",
    "\n",
    "import urllib.request\n",
    "from PIL import Image\n",
    "\n",
    "from sklearn.linear_model import LinearRegression\n",
    "from sklearn.preprocessing import PolynomialFeatures\n",
    "from sklearn.model_selection import train_test_split\n",
    "from sklearn.metrics import mean_squared_error, r2_score, mean_absolute_error\n",
    "from sklearn import preprocessing\n",
    "from sklearn.preprocessing import StandardScaler\n",
    "\n",
    "from sklearn.pipeline import Pipeline\n",
    "from sklearn.impute import SimpleImputer\n",
    "from sklearn.preprocessing import StandardScaler\n",
    "from sklearn.model_selection import train_test_split\n",
    "from sklearn.ensemble import RandomForestRegressor\n",
    "from sklearn.svm import SVR, LinearSVC\n",
    "\n",
    "\n",
    "\n",
    "from sklearn.svm import SVC\n",
    "from sklearn.linear_model import LogisticRegression\n",
    "from sklearn.ensemble import RandomForestClassifier\n",
    "from sklearn.feature_selection import SelectKBest\n",
    "from sklearn import svm, datasets\n",
    "from sklearn.model_selection import GridSearchCV\n",
    "\n",
    "import tools_tb\n",
    "\n",
    "import warnings\n",
    "\n",
    "warnings.filterwarnings(\"ignore\")"
   ]
  },
  {
   "cell_type": "code",
   "execution_count": 2,
   "metadata": {},
   "outputs": [],
   "source": [
    "# Preprocessing\n",
    "df2 = pd.read_csv(\"diamonds_train.csv\", index_col = 0)\n",
    "\n",
    "# Outliers\n",
    "df2 = df2[df2[\"x\"] != 0]\n",
    "df2 = df2[df2[\"y\"] < 10]\n",
    "df2 = df2[(df2[\"z\"] > 2) | (df2[\"z\"] < 7)]\n",
    "\n",
    "# Let's start with the ordinal ones, to see if they have any relation with price\n",
    "\n",
    "# First we assign the corresponding ordinal values we want to replace the categorical ones with\n",
    "cut_dict = {\n",
    "    \"Fair\" : 1,\n",
    "    \"Good\" : 2,\n",
    "    \"Very Good\" : 3,\n",
    "    \"Premium\" : 4,\n",
    "    \"Ideal\" : 5\n",
    "}\n",
    "\n",
    "clarity_dict = {\n",
    "    \"I1\" : 1,\n",
    "    \"SI2\" : 2,\n",
    "    \"SI1\" : 3,\n",
    "    \"VS2\" : 4,\n",
    "    \"VS1\" : 5,\n",
    "    \"VVS2\" : 6,\n",
    "    \"VVS1\" : 7,\n",
    "    \"IF\" : 8\n",
    "}\n",
    "\n",
    "# Create the columns in the df for them\n",
    "df2[\"cut_encoded\"] = df2.cut.map(cut_dict)\n",
    "df2[\"clarity_encoded\"] = df2.clarity.map(clarity_dict)\n",
    "\n",
    "# Now, let's do the same for the nominal variable \"color\"\n",
    "df2 = pd.get_dummies(df2, prefix = [\"color\"], columns = [\"color\"])\n",
    "\n",
    "# Delete the old categorical independent variables\n",
    "df2 = df2.drop([\"cut\", \"clarity\"], axis = 1)\n",
    "\n",
    "X = df2.drop(\"price\", axis = 1)\n",
    "y = df2[\"price\"]"
   ]
  },
  {
   "cell_type": "code",
   "execution_count": 4,
   "metadata": {},
   "outputs": [
    {
     "output_type": "stream",
     "name": "stdout",
     "text": [
      "Train data\nScore = 0.9755771705943238\nRMSE = 620.4838442445938\n##################################################\nTest data\nScore = 0.9713768890626624\nRMSE = 680.4987208668152\n"
     ]
    }
   ],
   "source": [
    "split = 0.2\n",
    "seed = 42\n",
    "iterations = 10000\n",
    "C = 10000\n",
    "\n",
    "\n",
    "X_train, X_test, y_train, y_test = train_test_split(X, y, test_size = split, random_state = seed)\n",
    "\n",
    "svr = SVR(kernel = \"rbf\", C = C, gamma = 0.1, epsilon = 0.1, max_iter = iterations)\n",
    "\n",
    "svr.fit(X_train, y_train)\n",
    "\n",
    "y_pred_train = svr.predict(X_train)\n",
    "y_pred_test = svr.predict(X_test)\n",
    "\n",
    "# Scores\n",
    "score_train = svr.score(X_train, y_train)\n",
    "score_test = svr.score(X_test, y_test)\n",
    "\n",
    "# RMSE\n",
    "rmse_train = np.sqrt(mean_squared_error(y_train, y_pred_train))\n",
    "rmse_test = np.sqrt(mean_squared_error(y_test, y_pred_test))\n",
    "\n",
    "print(f\"Train data\\nScore = {score_train}\\nRMSE = {rmse_train}\")\n",
    "print(\"#\" * 50)\n",
    "print(f\"Test data\\nScore = {score_test}\\nRMSE = {rmse_test}\")"
   ]
  },
  {
   "cell_type": "code",
   "execution_count": null,
   "metadata": {},
   "outputs": [],
   "source": []
  }
 ]
}