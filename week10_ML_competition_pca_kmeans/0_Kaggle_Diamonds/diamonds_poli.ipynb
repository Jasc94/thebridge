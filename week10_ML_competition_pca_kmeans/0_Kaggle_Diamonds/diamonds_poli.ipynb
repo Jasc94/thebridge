{
 "metadata": {
  "language_info": {
   "codemirror_mode": {
    "name": "ipython",
    "version": 3
   },
   "file_extension": ".py",
   "mimetype": "text/x-python",
   "name": "python",
   "nbconvert_exporter": "python",
   "pygments_lexer": "ipython3",
   "version": "3.7.4"
  },
  "orig_nbformat": 4,
  "kernelspec": {
   "name": "python3",
   "display_name": "Python 3.7.4 64-bit"
  },
  "interpreter": {
   "hash": "aee8b7b246df8f9039afb4144a1f6fd8d2ca17a180786b69acc140d282b71a49"
  }
 },
 "nbformat": 4,
 "nbformat_minor": 2,
 "cells": [
  {
   "cell_type": "code",
   "execution_count": 1,
   "metadata": {},
   "outputs": [],
   "source": [
    "import numpy as np\n",
    "import pandas as pd\n",
    "\n",
    "import seaborn as sns\n",
    "import matplotlib.pyplot as plt\n",
    "\n",
    "import urllib.request\n",
    "from PIL import Image\n",
    "\n",
    "from sklearn.linear_model import LinearRegression\n",
    "from sklearn.preprocessing import PolynomialFeatures\n",
    "from sklearn.model_selection import train_test_split\n",
    "from sklearn.metrics import mean_squared_error, r2_score, mean_absolute_error\n",
    "from sklearn import preprocessing\n",
    "from sklearn.preprocessing import StandardScaler\n",
    "\n",
    "from sklearn.pipeline import Pipeline\n",
    "from sklearn.impute import SimpleImputer\n",
    "from sklearn.preprocessing import StandardScaler\n",
    "from sklearn.model_selection import train_test_split\n",
    "from sklearn.ensemble import RandomForestRegressor\n",
    "from sklearn.svm import SVR, LinearSVC\n",
    "\n",
    "\n",
    "\n",
    "from sklearn.svm import SVC\n",
    "from sklearn.linear_model import LogisticRegression\n",
    "from sklearn.ensemble import RandomForestClassifier\n",
    "from sklearn.feature_selection import SelectKBest\n",
    "from sklearn import svm, datasets\n",
    "from sklearn.model_selection import GridSearchCV\n",
    "\n",
    "import tools_tb\n",
    "\n",
    "import warnings\n",
    "\n",
    "warnings.filterwarnings(\"ignore\")"
   ]
  },
  {
   "source": [
    "# Datacleaning"
   ],
   "cell_type": "markdown",
   "metadata": {}
  },
  {
   "cell_type": "code",
   "execution_count": 7,
   "metadata": {},
   "outputs": [],
   "source": [
    "df = pd.read_csv(\"diamonds_train.csv\", index_col = 0)\n",
    "\n",
    "# Removing outliers\n",
    "df = df[(df[\"depth\"] > 45) & (df[\"depth\"] < 75)]\n",
    "df = df[(df[\"table\"] > 45) & (df[\"table\"] < 90)]\n",
    "df = df[df[\"x\"] != 0]\n",
    "df = df[df[\"y\"] < 10]\n",
    "df = df[(df[\"z\"] > 2) & (df[\"z\"] < 7)]\n",
    "\n",
    "\n",
    "# Let's start with the ordinal ones, to see if they have any relation with price\n",
    "# First we assign the corresponding ordinal values we want to replace the categorical ones with\n",
    "cut_dict = {\n",
    "    \"Fair\" : 1,\n",
    "    \"Good\" : 2,\n",
    "    \"Very Good\" : 3,\n",
    "    \"Premium\" : 4,\n",
    "    \"Ideal\" : 5\n",
    "}\n",
    "\n",
    "clarity_dict = {\n",
    "    \"I1\" : 1,\n",
    "    \"SI2\" : 2,\n",
    "    \"SI1\" : 3,\n",
    "    \"VS2\" : 4,\n",
    "    \"VS1\" : 5,\n",
    "    \"VVS2\" : 6,\n",
    "    \"VVS1\" : 7,\n",
    "    \"IF\" : 8\n",
    "}\n",
    "\n",
    "# Create the columns in the df for them\n",
    "df[\"cut_encoded\"] = df.cut.map(cut_dict)\n",
    "df[\"clarity_encoded\"] = df.clarity.map(clarity_dict)\n",
    "\n",
    "# Now, let's do the same for the nominal variable \"color\"\n",
    "df = pd.get_dummies(df, prefix = [\"color\"], columns = [\"color\"])\n",
    "\n",
    "# Delete the old categorical independent variables\n",
    "df = df.drop([\"cut\", \"clarity\"], axis = 1)\n",
    "\n",
    "X = df.drop([\"price\"], axis = 1)\n",
    "y = df[\"price\"]"
   ]
  },
  {
   "source": [
    "# Model 1"
   ],
   "cell_type": "markdown",
   "metadata": {}
  },
  {
   "cell_type": "code",
   "execution_count": 11,
   "metadata": {},
   "outputs": [
    {
     "output_type": "stream",
     "name": "stdout",
     "text": [
      "Train data\nScore = 0.9192584567800137\nRMSE = 1137.3658573053629\n##################################################\nTest data\nScore = 0.9192624618861472\nRMSE = 1103.131238213658\n"
     ]
    }
   ],
   "source": [
    "df = pd.read_csv(\"diamonds_train.csv\", index_col = 0)\n",
    "\n",
    "# Removing outliers\n",
    "df = df[(df[\"depth\"] > 45) & (df[\"depth\"] < 75)]\n",
    "df = df[(df[\"table\"] > 45) & (df[\"table\"] < 90)]\n",
    "df = df[df[\"x\"] != 0]\n",
    "df = df[df[\"y\"] < 10]\n",
    "df = df[(df[\"z\"] > 2) & (df[\"z\"] < 7)]\n",
    "\n",
    "df[\"carat_2\"] = df[\"carat\"].map(lambda x: x ** 2)\n",
    "df[\"x_2\"] = df[\"x\"].map(lambda x: x ** 2)\n",
    "df[\"z_2\"] = df[\"z\"].map(lambda x: x ** 2)\n",
    "\n",
    "\n",
    "# Let's start with the ordinal ones, to see if they have any relation with price\n",
    "# First we assign the corresponding ordinal values we want to replace the categorical ones with\n",
    "cut_dict = {\n",
    "    \"Fair\" : 1,\n",
    "    \"Good\" : 2,\n",
    "    \"Very Good\" : 3,\n",
    "    \"Premium\" : 4,\n",
    "    \"Ideal\" : 5\n",
    "}\n",
    "\n",
    "clarity_dict = {\n",
    "    \"I1\" : 1,\n",
    "    \"SI2\" : 2,\n",
    "    \"SI1\" : 3,\n",
    "    \"VS2\" : 4,\n",
    "    \"VS1\" : 5,\n",
    "    \"VVS2\" : 6,\n",
    "    \"VVS1\" : 7,\n",
    "    \"IF\" : 8\n",
    "}\n",
    "\n",
    "# Create the columns in the df for them\n",
    "df[\"cut_encoded\"] = df.cut.map(cut_dict)\n",
    "df[\"clarity_encoded\"] = df.clarity.map(clarity_dict)\n",
    "\n",
    "# Now, let's do the same for the nominal variable \"color\"\n",
    "df = pd.get_dummies(df, prefix = [\"color\"], columns = [\"color\"])\n",
    "\n",
    "# Delete the old categorical independent variables\n",
    "df = df.drop([\"cut\", \"clarity\"], axis = 1)\n",
    "\n",
    "X = df.drop([\"price\"], axis = 1)\n",
    "y = df[\"price\"]\n",
    "\n",
    "seed = 42\n",
    "split = 0.2\n",
    "\n",
    "# Split between train and test data\n",
    "X_train, X_test, y_train, y_test = train_test_split(X, y, test_size = split, random_state = seed)\n",
    "\n",
    "# Model\n",
    "lin_regresion = LinearRegression(n_jobs = -1)\n",
    "\n",
    "# Training\n",
    "lin_regresion.fit(X_train, y_train)\n",
    "\n",
    "# Scores\n",
    "score_train = lin_regresion.score(X_train, y_train)\n",
    "score_test = lin_regresion.score(X_test, y_test)\n",
    "\n",
    "# RMSE\n",
    "rmse_train = np.sqrt(mean_squared_error(y_train, lin_regresion.predict(X_train)))\n",
    "rmse_test = np.sqrt(mean_squared_error(y_test, lin_regresion.predict(X_test)))\n",
    "\n",
    "print(f\"Train data\\nScore = {score_train}\\nRMSE = {rmse_train}\")\n",
    "print(\"#\" * 50)\n",
    "print(f\"Test data\\nScore = {score_test}\\nRMSE = {rmse_test}\")"
   ]
  },
  {
   "source": [
    "# Model 2"
   ],
   "cell_type": "markdown",
   "metadata": {}
  },
  {
   "cell_type": "code",
   "execution_count": 12,
   "metadata": {},
   "outputs": [],
   "source": [
    "df = pd.read_csv(\"diamonds_train.csv\", index_col = 0)\n",
    "\n",
    "# Removing outliers\n",
    "df = df[df[\"x\"] != 0]\n",
    "df = df[df[\"y\"] < 10]\n",
    "df = df[(df[\"z\"] > 2) & (df[\"z\"] < 7)]\n",
    "\n",
    "# Transformation\n",
    "df[\"carat_2\"] = df[\"carat\"].map(lambda x: x ** 2)\n",
    "df[\"x_2\"] = df[\"x\"].map(lambda x: x ** 2)\n",
    "df[\"z_2\"] = df[\"z\"].map(lambda x: x ** 2)\n",
    "\n",
    "# Let's start with the ordinal ones, to see if they have any relation with price\n",
    "# First we assign the corresponding ordinal values we want to replace the categorical ones with\n",
    "cut_dict = {\n",
    "    \"Fair\" : 1,\n",
    "    \"Good\" : 2,\n",
    "    \"Very Good\" : 3,\n",
    "    \"Premium\" : 4,\n",
    "    \"Ideal\" : 5\n",
    "}\n",
    "\n",
    "clarity_dict = {\n",
    "    \"I1\" : 1,\n",
    "    \"SI2\" : 2,\n",
    "    \"SI1\" : 3,\n",
    "    \"VS2\" : 4,\n",
    "    \"VS1\" : 5,\n",
    "    \"VVS2\" : 6,\n",
    "    \"VVS1\" : 7,\n",
    "    \"IF\" : 8\n",
    "}\n",
    "\n",
    "# Create the columns in the df for them\n",
    "df[\"cut_encoded\"] = df.cut.map(cut_dict)\n",
    "df[\"clarity_encoded\"] = df.clarity.map(clarity_dict)\n",
    "\n",
    "# Now, let's do the same for the nominal variable \"color\"\n",
    "df = pd.get_dummies(df, prefix = [\"color\"], columns = [\"color\"])\n",
    "\n",
    "X = df.drop([\"cut\", \"clarity\", \"depth\", \"table\", \"price\"], axis = 1)\n",
    "y = df[\"price\"]"
   ]
  },
  {
   "cell_type": "code",
   "execution_count": 13,
   "metadata": {},
   "outputs": [
    {
     "output_type": "stream",
     "name": "stdout",
     "text": [
      "Train data\nScore = 0.9201648839074122\nRMSE = 1116.4024703358248\n##################################################\nTest data\nScore = 0.9154501157345111\nRMSE = 1188.8689476040672\n"
     ]
    }
   ],
   "source": [
    "# Split between train and test data\n",
    "X_train, X_test, y_train, y_test = train_test_split(X, y, test_size = split, random_state = seed)\n",
    "\n",
    "# Model\n",
    "lin_regresion = LinearRegression(n_jobs = -1)\n",
    "\n",
    "# Training\n",
    "lin_regresion.fit(X_train, y_train)\n",
    "\n",
    "# Scores\n",
    "score_train = lin_regresion.score(X_train, y_train)\n",
    "score_test = lin_regresion.score(X_test, y_test)\n",
    "\n",
    "# RMSE\n",
    "rmse_train = np.sqrt(mean_squared_error(y_train, lin_regresion.predict(X_train)))\n",
    "rmse_test = np.sqrt(mean_squared_error(y_test, lin_regresion.predict(X_test)))\n",
    "\n",
    "print(f\"Train data\\nScore = {score_train}\\nRMSE = {rmse_train}\")\n",
    "print(\"#\" * 50)\n",
    "print(f\"Test data\\nScore = {score_test}\\nRMSE = {rmse_test}\")"
   ]
  },
  {
   "cell_type": "code",
   "execution_count": 16,
   "metadata": {},
   "outputs": [
    {
     "output_type": "execute_result",
     "data": {
      "text/plain": [
       "   carat        cut color clarity  depth  table     x     y     z  price\n",
       "0   1.21      Ideal     H     VS2   63.0   57.0  6.73  6.70  4.23   6134\n",
       "1   0.28  Very Good     D    VVS2   64.0   56.0  4.14  4.17  2.66    532\n",
       "2   0.42    Premium     F     VS1   61.2   58.0  4.86  4.82  2.96   1103\n",
       "3   0.26      Ideal     H      IF   61.1   57.0  4.16  4.12  2.53    600\n",
       "4   1.10       Good     G     SI1   63.4   57.0  6.52  6.55  4.14   4997"
      ],
      "text/html": "<div>\n<style scoped>\n    .dataframe tbody tr th:only-of-type {\n        vertical-align: middle;\n    }\n\n    .dataframe tbody tr th {\n        vertical-align: top;\n    }\n\n    .dataframe thead th {\n        text-align: right;\n    }\n</style>\n<table border=\"1\" class=\"dataframe\">\n  <thead>\n    <tr style=\"text-align: right;\">\n      <th></th>\n      <th>carat</th>\n      <th>cut</th>\n      <th>color</th>\n      <th>clarity</th>\n      <th>depth</th>\n      <th>table</th>\n      <th>x</th>\n      <th>y</th>\n      <th>z</th>\n      <th>price</th>\n    </tr>\n  </thead>\n  <tbody>\n    <tr>\n      <th>0</th>\n      <td>1.21</td>\n      <td>Ideal</td>\n      <td>H</td>\n      <td>VS2</td>\n      <td>63.0</td>\n      <td>57.0</td>\n      <td>6.73</td>\n      <td>6.70</td>\n      <td>4.23</td>\n      <td>6134</td>\n    </tr>\n    <tr>\n      <th>1</th>\n      <td>0.28</td>\n      <td>Very Good</td>\n      <td>D</td>\n      <td>VVS2</td>\n      <td>64.0</td>\n      <td>56.0</td>\n      <td>4.14</td>\n      <td>4.17</td>\n      <td>2.66</td>\n      <td>532</td>\n    </tr>\n    <tr>\n      <th>2</th>\n      <td>0.42</td>\n      <td>Premium</td>\n      <td>F</td>\n      <td>VS1</td>\n      <td>61.2</td>\n      <td>58.0</td>\n      <td>4.86</td>\n      <td>4.82</td>\n      <td>2.96</td>\n      <td>1103</td>\n    </tr>\n    <tr>\n      <th>3</th>\n      <td>0.26</td>\n      <td>Ideal</td>\n      <td>H</td>\n      <td>IF</td>\n      <td>61.1</td>\n      <td>57.0</td>\n      <td>4.16</td>\n      <td>4.12</td>\n      <td>2.53</td>\n      <td>600</td>\n    </tr>\n    <tr>\n      <th>4</th>\n      <td>1.10</td>\n      <td>Good</td>\n      <td>G</td>\n      <td>SI1</td>\n      <td>63.4</td>\n      <td>57.0</td>\n      <td>6.52</td>\n      <td>6.55</td>\n      <td>4.14</td>\n      <td>4997</td>\n    </tr>\n  </tbody>\n</table>\n</div>"
     },
     "metadata": {},
     "execution_count": 16
    }
   ],
   "source": [
    "df = pd.read_csv(\"diamonds_train.csv\", index_col = 0)\n",
    "df.head()"
   ]
  },
  {
   "cell_type": "code",
   "execution_count": 17,
   "metadata": {},
   "outputs": [
    {
     "output_type": "execute_result",
     "data": {
      "text/plain": [
       "array(['H', 'D', 'F', 'G', 'I', 'E', 'J'], dtype=object)"
      ]
     },
     "metadata": {},
     "execution_count": 17
    }
   ],
   "source": [
    "df[\"color\"].unique()"
   ]
  },
  {
   "cell_type": "code",
   "execution_count": null,
   "metadata": {},
   "outputs": [],
   "source": []
  }
 ]
}