{
 "metadata": {
  "language_info": {
   "codemirror_mode": {
    "name": "ipython",
    "version": 3
   },
   "file_extension": ".py",
   "mimetype": "text/x-python",
   "name": "python",
   "nbconvert_exporter": "python",
   "pygments_lexer": "ipython3",
   "version": "3.7.4"
  },
  "orig_nbformat": 4,
  "kernelspec": {
   "name": "python3",
   "display_name": "Python 3.7.4 64-bit"
  },
  "interpreter": {
   "hash": "aee8b7b246df8f9039afb4144a1f6fd8d2ca17a180786b69acc140d282b71a49"
  }
 },
 "nbformat": 4,
 "nbformat_minor": 2,
 "cells": [
  {
   "cell_type": "code",
   "execution_count": 19,
   "metadata": {},
   "outputs": [],
   "source": [
    "import pandas as pd\n",
    "import numpy as np\n",
    "\n",
    "from sklearn.model_selection import train_test_split\n",
    "from sklearn.metrics import mean_squared_error, mean_absolute_error\n",
    "from sklearn import preprocessing\n",
    "from sklearn.ensemble import RandomForestRegressor\n",
    "from sklearn.model_selection import GridSearchCV\n",
    "from sklearn.model_selection import StratifiedKFold\n",
    "from sklearn.preprocessing import MinMaxScaler\n",
    "\n",
    "import tools_tb\n",
    "\n",
    "import warnings\n",
    "\n",
    "warnings.filterwarnings(\"ignore\")"
   ]
  },
  {
   "source": [
    "## Preprocessing"
   ],
   "cell_type": "markdown",
   "metadata": {}
  },
  {
   "cell_type": "code",
   "execution_count": 54,
   "metadata": {},
   "outputs": [],
   "source": [
    "df = pd.read_csv(\"diamonds_train.csv\", index_col = 0)\n",
    "\n",
    "# Cleaning\n",
    "df = tools_tb.ordinal_encoder(df)\n",
    "df = tools_tb.nominal_encoder(df)\n",
    "#df = tools_tb.outliers_remover(df)\n",
    "\n",
    "df[\"length_width\"] = df[\"x\"] / df[\"y\"]\n",
    "#df = df[(df[\"length_width\"] > 0.8) & (df[\"length_width\"] < 1.2)]\n",
    "df[df[\"length_width\"].isna()] = 0\n",
    "\n",
    "# Defining X and y\n",
    "to_drop = [\"cut\", \"clarity\"]\n",
    "\n",
    "X, y = tools_tb.variables_split(df, to_drop)"
   ]
  },
  {
   "source": [
    "## Model"
   ],
   "cell_type": "markdown",
   "metadata": {}
  },
  {
   "cell_type": "code",
   "execution_count": 56,
   "metadata": {},
   "outputs": [
    {
     "output_type": "stream",
     "name": "stdout",
     "text": [
      "- Model 1 | seed = 7881 -\nTrain data\nScore = 0.9934837096209027\nRMSE = 321.66151775702184\n-------------------------\nTest data\nScore = 0.9825056651809854\nRMSE = 524.5122380563685\n##################################################\ngrid.best_stimator_ RandomForestRegressor(max_depth=16, max_features=10, min_samples_leaf=2,\n                      n_estimators=1000, n_jobs=-1, random_state=7881,\n                      warm_start=True)\n-------------------------\ngrid.best_params_ {'criterion': 'mse', 'max_depth': 16, 'max_features': 10, 'min_samples_leaf': 2, 'min_samples_split': 2, 'n_estimators': 1000, 'n_jobs': -1, 'random_state': 7881, 'warm_start': True}\n-------------------------\ngrid.best_score 0.9800092225709334\n"
     ]
    }
   ],
   "source": [
    "# Using Grid\n",
    "split = .2\n",
    "seed = 7881\n",
    "count = 1\n",
    "\n",
    "# Split\n",
    "X_train, X_test, y_train, y_test = train_test_split(X, y, test_size = split, random_state = seed)\n",
    "\n",
    "# Cross validation\n",
    "skf = StratifiedKFold(n_splits = 4, shuffle = True, random_state = seed)\n",
    "\n",
    "# Parameters for Random Forest\n",
    "parameters = {\n",
    "    \"n_estimators\" : [1000],\n",
    "    \"criterion\" : [\"mse\"],\n",
    "    \"max_depth\" : [X.shape[1]],\n",
    "    \"min_samples_split\" : [2],\n",
    "    \"min_samples_leaf\" : [2],\n",
    "    \"max_features\" : [10],\n",
    "    \"n_jobs\" : [-1],\n",
    "    \"random_state\" : [seed],\n",
    "    \"warm_start\" : [True]\n",
    "}\n",
    "\n",
    "# Model\n",
    "rf = RandomForestRegressor()\n",
    "\n",
    "grid = GridSearchCV(estimator = rf, param_grid = parameters, n_jobs = -1, cv = skf)\n",
    "\n",
    "grid.fit(X_train, y_train)\n",
    "\n",
    "# Predictions\n",
    "y_pred_train = grid.predict(X_train)\n",
    "y_pred_test = grid.predict(X_test)\n",
    "\n",
    "# Scores\n",
    "score_train = grid.score(X_train, y_train)\n",
    "score_test = grid.score(X_test, y_test)\n",
    "\n",
    "# RMSE\n",
    "rmse_train = np.sqrt(mean_squared_error(y_train, y_pred_train))\n",
    "rmse_test = np.sqrt(mean_squared_error(y_test, y_pred_test))\n",
    "\n",
    "print(f\"- Model {count} | seed = {seed} -\")\n",
    "print(f\"Train data\\nScore = {score_train}\\nRMSE = {rmse_train}\")\n",
    "print(\"-\" * 25)\n",
    "print(f\"Test data\\nScore = {score_test}\\nRMSE = {rmse_test}\")\n",
    "#print(\"#\" * 50)\n",
    "#print(\"grid.best_stimator_\", grid.best_estimator_)\n",
    "#print(\"-\" * 25)\n",
    "#print(\"grid.best_params_\", grid.best_params_)\n",
    "#print(\"-\" * 25)\n",
    "#print(\"grid.best_score\", grid.best_score_)"
   ]
  },
  {
   "source": [
    "## Model and full data"
   ],
   "cell_type": "markdown",
   "metadata": {}
  },
  {
   "cell_type": "code",
   "execution_count": 57,
   "metadata": {},
   "outputs": [
    {
     "output_type": "stream",
     "name": "stdout",
     "text": [
      "Full data\nScore = 0.9933593265315354\nRMSE = 324.40561953647705\n"
     ]
    }
   ],
   "source": [
    "grid.fit(X, y)\n",
    "\n",
    "y_pred_final = grid.predict(X)\n",
    "\n",
    "score_final = grid.score(X, y)\n",
    "rmse_final = np.sqrt(mean_squared_error(y, y_pred_final))\n",
    "\n",
    "print(f\"Full data\\nScore = {score_final}\\nRMSE = {rmse_final}\")"
   ]
  },
  {
   "source": [
    "## Save model"
   ],
   "cell_type": "markdown",
   "metadata": {}
  },
  {
   "cell_type": "code",
   "execution_count": 58,
   "metadata": {},
   "outputs": [
    {
     "output_type": "stream",
     "name": "stdout",
     "text": [
      "You're ready to submit!\n"
     ]
    }
   ],
   "source": [
    "X_pred = pd.read_csv(\"diamonds_test.csv\", index_col = 0)\n",
    "\n",
    "X_pred = tools_tb.ordinal_encoder(X_pred)\n",
    "X_pred = tools_tb.nominal_encoder(X_pred)\n",
    "\n",
    "X_pred[\"length_width\"] = X_pred[\"x\"] / X_pred[\"y\"]\n",
    "\n",
    "# Delete the old categorical independent variables\n",
    "X_pred = tools_tb.variables_split(X_pred, to_drop, False)\n",
    "\n",
    "predictions_submit = grid.predict(X_pred)\n",
    "\n",
    "submission = pd.DataFrame({\"id\": range(len(predictions_submit)), \"price\": predictions_submit})\n",
    "\n",
    "tools_tb.chequeator(submission)"
   ]
  },
  {
   "cell_type": "code",
   "execution_count": 12,
   "metadata": {},
   "outputs": [
    {
     "output_type": "execute_result",
     "data": {
      "text/plain": [
       "              price\n",
       "id                 \n",
       "0        450.808116\n",
       "1       1850.465643\n",
       "2       9660.855531\n",
       "3        536.093782\n",
       "4       8836.371928\n",
       "...             ...\n",
       "13444   4518.847658\n",
       "13445    454.144140\n",
       "13446  14684.673229\n",
       "13447   9946.739563\n",
       "13448    704.998372\n",
       "\n",
       "[13449 rows x 1 columns]"
      ],
      "text/html": "<div>\n<style scoped>\n    .dataframe tbody tr th:only-of-type {\n        vertical-align: middle;\n    }\n\n    .dataframe tbody tr th {\n        vertical-align: top;\n    }\n\n    .dataframe thead th {\n        text-align: right;\n    }\n</style>\n<table border=\"1\" class=\"dataframe\">\n  <thead>\n    <tr style=\"text-align: right;\">\n      <th></th>\n      <th>price</th>\n    </tr>\n    <tr>\n      <th>id</th>\n      <th></th>\n    </tr>\n  </thead>\n  <tbody>\n    <tr>\n      <th>0</th>\n      <td>450.808116</td>\n    </tr>\n    <tr>\n      <th>1</th>\n      <td>1850.465643</td>\n    </tr>\n    <tr>\n      <th>2</th>\n      <td>9660.855531</td>\n    </tr>\n    <tr>\n      <th>3</th>\n      <td>536.093782</td>\n    </tr>\n    <tr>\n      <th>4</th>\n      <td>8836.371928</td>\n    </tr>\n    <tr>\n      <th>...</th>\n      <td>...</td>\n    </tr>\n    <tr>\n      <th>13444</th>\n      <td>4518.847658</td>\n    </tr>\n    <tr>\n      <th>13445</th>\n      <td>454.144140</td>\n    </tr>\n    <tr>\n      <th>13446</th>\n      <td>14684.673229</td>\n    </tr>\n    <tr>\n      <th>13447</th>\n      <td>9946.739563</td>\n    </tr>\n    <tr>\n      <th>13448</th>\n      <td>704.998372</td>\n    </tr>\n  </tbody>\n</table>\n<p>13449 rows × 1 columns</p>\n</div>"
     },
     "metadata": {},
     "execution_count": 12
    }
   ],
   "source": [
    "submission"
   ]
  },
  {
   "cell_type": "code",
   "execution_count": null,
   "metadata": {},
   "outputs": [],
   "source": []
  }
 ]
}