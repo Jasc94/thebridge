{
 "metadata": {
  "language_info": {
   "codemirror_mode": {
    "name": "ipython",
    "version": 3
   },
   "file_extension": ".py",
   "mimetype": "text/x-python",
   "name": "python",
   "nbconvert_exporter": "python",
   "pygments_lexer": "ipython3",
   "version": "3.7.4"
  },
  "orig_nbformat": 4,
  "kernelspec": {
   "name": "python3",
   "display_name": "Python 3.7.4 64-bit"
  },
  "interpreter": {
   "hash": "aee8b7b246df8f9039afb4144a1f6fd8d2ca17a180786b69acc140d282b71a49"
  }
 },
 "nbformat": 4,
 "nbformat_minor": 2,
 "cells": [
  {
   "cell_type": "code",
   "execution_count": 1,
   "metadata": {},
   "outputs": [],
   "source": [
    "import pandas as pd\n",
    "import numpy as np\n",
    "import random\n",
    "\n",
    "from sklearn.model_selection import train_test_split\n",
    "from sklearn.metrics import mean_squared_error, mean_absolute_error\n",
    "from sklearn.model_selection import GridSearchCV, StratifiedKFold\n",
    "from sklearn.ensemble import VotingRegressor, GradientBoostingRegressor, RandomForestRegressor\n",
    "from sklearn.svm import SVR, LinearSVC\n",
    "from sklearn.preprocessing import MinMaxScaler, StandardScaler\n",
    "from sklearn.linear_model import SGDRegressor\n",
    "from sklearn.tree import DecisionTreeRegressor\n",
    "\n",
    "\n",
    "import tools_tb\n",
    "\n",
    "import warnings\n",
    "\n",
    "warnings.filterwarnings(\"ignore\")"
   ]
  },
  {
   "cell_type": "code",
   "execution_count": 2,
   "metadata": {},
   "outputs": [],
   "source": [
    "df = pd.read_csv(\"diamonds_train.csv\", index_col = 0)\n",
    "\n",
    "# Cleaning\n",
    "df = tools_tb.ordinal_encoder(df)\n",
    "df = tools_tb.nominal_encoder(df)\n",
    "df = tools_tb.outliers_remover(df)\n",
    "\n",
    "df[\"length_width\"] = df[\"x\"] / df[\"y\"]\n",
    "#df = df[(df[\"length_width\"] > 0.8) & (df[\"length_width\"] < 1.2)]\n",
    "df[df[\"length_width\"].isna()] = 0\n",
    "\n",
    "\n",
    "# Defining X and y\n",
    "to_drop = [\"cut\", \"clarity\"]\n",
    "\n",
    "X, y = tools_tb.variables_split(df, to_drop)"
   ]
  },
  {
   "cell_type": "code",
   "execution_count": 18,
   "metadata": {},
   "outputs": [
    {
     "output_type": "stream",
     "name": "stdout",
     "text": [
      "Train data\nScore = 0.9704216555650502\nRMSE = 688.3964071586621\n##################################################\nTest data\nScore = 0.9615950094559882\nRMSE = 760.8223517300186\n"
     ]
    }
   ],
   "source": [
    "split = 0.2\n",
    "seed = 42\n",
    "\n",
    "# Split\n",
    "X_train, X_test, y_train, y_test = train_test_split(X, y, test_size = split, random_state = seed)\n",
    "\n",
    "# Model\n",
    "dt = DecisionTreeRegressor(criterion = \"mse\", max_depth = 10, max_features = 6, random_state = seed)\n",
    "\n",
    "# Training\n",
    "dt.fit(X_train, y_train)\n",
    "\n",
    "# Predictions\n",
    "y_pred_train = dt.predict(X_train)\n",
    "y_pred_test = dt.predict(X_test)\n",
    "\n",
    "# Scores\n",
    "score_train = dt.score(X_train, y_train)\n",
    "score_test = dt.score(X_test, y_test)\n",
    "\n",
    "# RMSE\n",
    "rmse_train = np.sqrt(mean_squared_error(y_train, y_pred_train))\n",
    "rmse_test = np.sqrt(mean_squared_error(y_test, y_pred_test))\n",
    "\n",
    "print(f\"Train data\\nScore = {score_train}\\nRMSE = {rmse_train}\")\n",
    "print(\"#\" * 50)\n",
    "print(f\"Test data\\nScore = {score_test}\\nRMSE = {rmse_test}\")"
   ]
  },
  {
   "cell_type": "code",
   "execution_count": null,
   "metadata": {},
   "outputs": [],
   "source": []
  }
 ]
}